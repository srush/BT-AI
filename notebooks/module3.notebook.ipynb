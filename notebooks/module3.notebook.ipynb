{
 "cells": [
  {
   "cell_type": "markdown",
   "id": "a9b743ac",
   "metadata": {},
   "source": [
    "# Lab 3 - Complex Data and Visualization"
   ]
  },
  {
   "cell_type": "markdown",
   "id": "ff7a1735",
   "metadata": {
    "lines_to_next_cell": 2
   },
   "source": [
    "Last time we saw a method for selecting and working with data\n",
    "in a table. We saw how Pandas as a library allowed us to work\n",
    "with data like a spreadsheet and also go beyond simple\n",
    "selection and manipulation."
   ]
  },
  {
   "cell_type": "markdown",
   "id": "fa4a5789",
   "metadata": {},
   "source": [
    "In this class we will work with data about the temperatures and\n",
    "temperature changes of different cities over time."
   ]
  },
  {
   "cell_type": "markdown",
   "id": "25fa9f75",
   "metadata": {},
   "source": [
    "[Temperatures](https://docs.google.com/spreadsheets/d/1Jwcr6IBJbOT1G4Vq7VqaZ7S1V9gRmUb5ALkJPaG5fxI/edit?usp=sharing)"
   ]
  },
  {
   "cell_type": "markdown",
   "id": "77d0098a",
   "metadata": {},
   "source": [
    "Before we dive in let's do a little review of some of the methods we saw in last class."
   ]
  },
  {
   "cell_type": "code",
   "execution_count": 1,
   "id": "318baab2",
   "metadata": {
    "execution": {
     "iopub.execute_input": "2021-05-27T16:07:03.916460Z",
     "iopub.status.busy": "2021-05-27T16:07:03.915382Z",
     "iopub.status.idle": "2021-05-27T16:07:04.175875Z",
     "shell.execute_reply": "2021-05-27T16:07:04.175495Z"
    },
    "lines_to_next_cell": 2
   },
   "outputs": [],
   "source": [
    "import pandas as pd\n",
    "import altair as alt"
   ]
  },
  {
   "cell_type": "markdown",
   "id": "ded54b5e",
   "metadata": {},
   "source": [
    "Recall that we first need to load in our data. We saw the `read_csv`\n",
    "function from last time. We need to add a bit of extra options in\n",
    "order to load this data in. In particular we want to have a date\n",
    "column.  One way you can look this up is through the function\n",
    "[documentation](https://pandas.pydata.org/pandas-docs/stable/reference/api/pandas.read_csv.html).\n",
    "Although remember! Often the best thing to do is to find the\n",
    "[answer](https://pandas.pydata.org/pandas-docs/stable/reference/api/pandas.read_csv.html)\n",
    "on stack overflow."
   ]
  },
  {
   "cell_type": "code",
   "execution_count": 2,
   "id": "2e7f7e8c",
   "metadata": {
    "execution": {
     "iopub.execute_input": "2021-05-27T16:07:04.179757Z",
     "iopub.status.busy": "2021-05-27T16:07:04.178856Z",
     "iopub.status.idle": "2021-05-27T16:07:04.251671Z",
     "shell.execute_reply": "2021-05-27T16:07:04.252398Z"
    }
   },
   "outputs": [
    {
     "data": {
      "text/html": [
       "<div>\n",
       "<style scoped>\n",
       "    .dataframe tbody tr th:only-of-type {\n",
       "        vertical-align: middle;\n",
       "    }\n",
       "\n",
       "    .dataframe tbody tr th {\n",
       "        vertical-align: top;\n",
       "    }\n",
       "\n",
       "    .dataframe thead th {\n",
       "        text-align: right;\n",
       "    }\n",
       "</style>\n",
       "<table border=\"1\" class=\"dataframe\">\n",
       "  <thead>\n",
       "    <tr style=\"text-align: right;\">\n",
       "      <th></th>\n",
       "      <th>dt</th>\n",
       "      <th>AverageTemperature</th>\n",
       "      <th>AverageTemperatureUncertainty</th>\n",
       "      <th>City</th>\n",
       "      <th>Country</th>\n",
       "      <th>Latitude</th>\n",
       "      <th>Longitude</th>\n",
       "    </tr>\n",
       "  </thead>\n",
       "  <tbody>\n",
       "    <tr>\n",
       "      <th>58171</th>\n",
       "      <td>1843-04-01</td>\n",
       "      <td>NaN</td>\n",
       "      <td>NaN</td>\n",
       "      <td>Acapulco</td>\n",
       "      <td>Mexico</td>\n",
       "      <td>16.87</td>\n",
       "      <td>-100.47</td>\n",
       "    </tr>\n",
       "    <tr>\n",
       "      <th>58174</th>\n",
       "      <td>1843-07-01</td>\n",
       "      <td>NaN</td>\n",
       "      <td>NaN</td>\n",
       "      <td>Acapulco</td>\n",
       "      <td>Mexico</td>\n",
       "      <td>16.87</td>\n",
       "      <td>-100.47</td>\n",
       "    </tr>\n",
       "    <tr>\n",
       "      <th>58177</th>\n",
       "      <td>1843-10-01</td>\n",
       "      <td>NaN</td>\n",
       "      <td>NaN</td>\n",
       "      <td>Acapulco</td>\n",
       "      <td>Mexico</td>\n",
       "      <td>16.87</td>\n",
       "      <td>-100.47</td>\n",
       "    </tr>\n",
       "    <tr>\n",
       "      <th>58180</th>\n",
       "      <td>1844-01-01</td>\n",
       "      <td>NaN</td>\n",
       "      <td>NaN</td>\n",
       "      <td>Acapulco</td>\n",
       "      <td>Mexico</td>\n",
       "      <td>16.87</td>\n",
       "      <td>-100.47</td>\n",
       "    </tr>\n",
       "    <tr>\n",
       "      <th>58183</th>\n",
       "      <td>1844-04-01</td>\n",
       "      <td>NaN</td>\n",
       "      <td>NaN</td>\n",
       "      <td>Acapulco</td>\n",
       "      <td>Mexico</td>\n",
       "      <td>16.87</td>\n",
       "      <td>-100.47</td>\n",
       "    </tr>\n",
       "    <tr>\n",
       "      <th>...</th>\n",
       "      <td>...</td>\n",
       "      <td>...</td>\n",
       "      <td>...</td>\n",
       "      <td>...</td>\n",
       "      <td>...</td>\n",
       "      <td>...</td>\n",
       "      <td>...</td>\n",
       "    </tr>\n",
       "    <tr>\n",
       "      <th>8494752</th>\n",
       "      <td>2012-07-01</td>\n",
       "      <td>23.213</td>\n",
       "      <td>0.759</td>\n",
       "      <td>Zapopan</td>\n",
       "      <td>Mexico</td>\n",
       "      <td>20.09</td>\n",
       "      <td>-104.08</td>\n",
       "    </tr>\n",
       "    <tr>\n",
       "      <th>8494755</th>\n",
       "      <td>2012-10-01</td>\n",
       "      <td>22.456</td>\n",
       "      <td>0.648</td>\n",
       "      <td>Zapopan</td>\n",
       "      <td>Mexico</td>\n",
       "      <td>20.09</td>\n",
       "      <td>-104.08</td>\n",
       "    </tr>\n",
       "    <tr>\n",
       "      <th>8494758</th>\n",
       "      <td>2013-01-01</td>\n",
       "      <td>18.463</td>\n",
       "      <td>0.663</td>\n",
       "      <td>Zapopan</td>\n",
       "      <td>Mexico</td>\n",
       "      <td>20.09</td>\n",
       "      <td>-104.08</td>\n",
       "    </tr>\n",
       "    <tr>\n",
       "      <th>8494761</th>\n",
       "      <td>2013-04-01</td>\n",
       "      <td>22.464</td>\n",
       "      <td>0.346</td>\n",
       "      <td>Zapopan</td>\n",
       "      <td>Mexico</td>\n",
       "      <td>20.09</td>\n",
       "      <td>-104.08</td>\n",
       "    </tr>\n",
       "    <tr>\n",
       "      <th>8494764</th>\n",
       "      <td>2013-07-01</td>\n",
       "      <td>23.187</td>\n",
       "      <td>0.470</td>\n",
       "      <td>Zapopan</td>\n",
       "      <td>Mexico</td>\n",
       "      <td>20.09</td>\n",
       "      <td>-104.08</td>\n",
       "    </tr>\n",
       "  </tbody>\n",
       "</table>\n",
       "<p>76224 rows × 7 columns</p>\n",
       "</div>"
      ],
      "text/plain": [
       "                dt  AverageTemperature  AverageTemperatureUncertainty  \\\n",
       "58171   1843-04-01                 NaN                            NaN   \n",
       "58174   1843-07-01                 NaN                            NaN   \n",
       "58177   1843-10-01                 NaN                            NaN   \n",
       "58180   1844-01-01                 NaN                            NaN   \n",
       "58183   1844-04-01                 NaN                            NaN   \n",
       "...            ...                 ...                            ...   \n",
       "8494752 2012-07-01              23.213                          0.759   \n",
       "8494755 2012-10-01              22.456                          0.648   \n",
       "8494758 2013-01-01              18.463                          0.663   \n",
       "8494761 2013-04-01              22.464                          0.346   \n",
       "8494764 2013-07-01              23.187                          0.470   \n",
       "\n",
       "             City Country  Latitude  Longitude  \n",
       "58171    Acapulco  Mexico     16.87    -100.47  \n",
       "58174    Acapulco  Mexico     16.87    -100.47  \n",
       "58177    Acapulco  Mexico     16.87    -100.47  \n",
       "58180    Acapulco  Mexico     16.87    -100.47  \n",
       "58183    Acapulco  Mexico     16.87    -100.47  \n",
       "...           ...     ...       ...        ...  \n",
       "8494752   Zapopan  Mexico     20.09    -104.08  \n",
       "8494755   Zapopan  Mexico     20.09    -104.08  \n",
       "8494758   Zapopan  Mexico     20.09    -104.08  \n",
       "8494761   Zapopan  Mexico     20.09    -104.08  \n",
       "8494764   Zapopan  Mexico     20.09    -104.08  \n",
       "\n",
       "[76224 rows x 7 columns]"
      ]
     },
     "execution_count": 1,
     "metadata": {},
     "output_type": "execute_result"
    }
   ],
   "source": [
    "df = pd.read_csv(\"data/Temperatures.csv\",\n",
    "                 index_col=0,\n",
    "                 parse_dates=[\"dt\"])\n",
    "df"
   ]
  },
  {
   "cell_type": "markdown",
   "id": "88967182",
   "metadata": {},
   "source": [
    "Let's now review the different tools that we have available for us. \n",
    "We can see the different columns in the table. "
   ]
  },
  {
   "cell_type": "code",
   "execution_count": 3,
   "id": "697f5769",
   "metadata": {
    "execution": {
     "iopub.execute_input": "2021-05-27T16:07:04.257080Z",
     "iopub.status.busy": "2021-05-27T16:07:04.256197Z",
     "iopub.status.idle": "2021-05-27T16:07:04.259289Z",
     "shell.execute_reply": "2021-05-27T16:07:04.259994Z"
    },
    "lines_to_next_cell": 2
   },
   "outputs": [
    {
     "data": {
      "text/plain": [
       "Index(['dt', 'AverageTemperature', 'AverageTemperatureUncertainty', 'City',\n",
       "       'Country', 'Latitude', 'Longitude'],\n",
       "      dtype='object')"
      ]
     },
     "execution_count": 1,
     "metadata": {},
     "output_type": "execute_result"
    }
   ],
   "source": [
    "df.columns"
   ]
  },
  {
   "cell_type": "markdown",
   "id": "9e4e5edc",
   "metadata": {},
   "source": [
    "We can also filter the table to find only the rows with certain filtered values."
   ]
  },
  {
   "cell_type": "code",
   "execution_count": 4,
   "id": "7cc2030f",
   "metadata": {
    "execution": {
     "iopub.execute_input": "2021-05-27T16:07:04.278942Z",
     "iopub.status.busy": "2021-05-27T16:07:04.278088Z",
     "iopub.status.idle": "2021-05-27T16:07:04.281382Z",
     "shell.execute_reply": "2021-05-27T16:07:04.282090Z"
    },
    "lines_to_next_cell": 2
   },
   "outputs": [
    {
     "data": {
      "text/html": [
       "<div>\n",
       "<style scoped>\n",
       "    .dataframe tbody tr th:only-of-type {\n",
       "        vertical-align: middle;\n",
       "    }\n",
       "\n",
       "    .dataframe tbody tr th {\n",
       "        vertical-align: top;\n",
       "    }\n",
       "\n",
       "    .dataframe thead th {\n",
       "        text-align: right;\n",
       "    }\n",
       "</style>\n",
       "<table border=\"1\" class=\"dataframe\">\n",
       "  <thead>\n",
       "    <tr style=\"text-align: right;\">\n",
       "      <th></th>\n",
       "      <th>dt</th>\n",
       "      <th>AverageTemperature</th>\n",
       "      <th>AverageTemperatureUncertainty</th>\n",
       "      <th>City</th>\n",
       "      <th>Country</th>\n",
       "      <th>Latitude</th>\n",
       "      <th>Longitude</th>\n",
       "    </tr>\n",
       "  </thead>\n",
       "  <tbody>\n",
       "    <tr>\n",
       "      <th>5203975</th>\n",
       "      <td>1744-01-01</td>\n",
       "      <td>NaN</td>\n",
       "      <td>NaN</td>\n",
       "      <td>New York</td>\n",
       "      <td>United States</td>\n",
       "      <td>40.99</td>\n",
       "      <td>-74.56</td>\n",
       "    </tr>\n",
       "    <tr>\n",
       "      <th>5203978</th>\n",
       "      <td>1744-04-01</td>\n",
       "      <td>9.788</td>\n",
       "      <td>2.151</td>\n",
       "      <td>New York</td>\n",
       "      <td>United States</td>\n",
       "      <td>40.99</td>\n",
       "      <td>-74.56</td>\n",
       "    </tr>\n",
       "    <tr>\n",
       "      <th>5203981</th>\n",
       "      <td>1744-07-01</td>\n",
       "      <td>22.207</td>\n",
       "      <td>1.305</td>\n",
       "      <td>New York</td>\n",
       "      <td>United States</td>\n",
       "      <td>40.99</td>\n",
       "      <td>-74.56</td>\n",
       "    </tr>\n",
       "    <tr>\n",
       "      <th>5203984</th>\n",
       "      <td>1744-10-01</td>\n",
       "      <td>8.968</td>\n",
       "      <td>1.558</td>\n",
       "      <td>New York</td>\n",
       "      <td>United States</td>\n",
       "      <td>40.99</td>\n",
       "      <td>-74.56</td>\n",
       "    </tr>\n",
       "    <tr>\n",
       "      <th>5203987</th>\n",
       "      <td>1745-01-01</td>\n",
       "      <td>-2.363</td>\n",
       "      <td>1.771</td>\n",
       "      <td>New York</td>\n",
       "      <td>United States</td>\n",
       "      <td>40.99</td>\n",
       "      <td>-74.56</td>\n",
       "    </tr>\n",
       "    <tr>\n",
       "      <th>...</th>\n",
       "      <td>...</td>\n",
       "      <td>...</td>\n",
       "      <td>...</td>\n",
       "      <td>...</td>\n",
       "      <td>...</td>\n",
       "      <td>...</td>\n",
       "      <td>...</td>\n",
       "    </tr>\n",
       "    <tr>\n",
       "      <th>5207197</th>\n",
       "      <td>2012-07-01</td>\n",
       "      <td>24.479</td>\n",
       "      <td>0.403</td>\n",
       "      <td>New York</td>\n",
       "      <td>United States</td>\n",
       "      <td>40.99</td>\n",
       "      <td>-74.56</td>\n",
       "    </tr>\n",
       "    <tr>\n",
       "      <th>5207200</th>\n",
       "      <td>2012-10-01</td>\n",
       "      <td>12.436</td>\n",
       "      <td>0.344</td>\n",
       "      <td>New York</td>\n",
       "      <td>United States</td>\n",
       "      <td>40.99</td>\n",
       "      <td>-74.56</td>\n",
       "    </tr>\n",
       "    <tr>\n",
       "      <th>5207203</th>\n",
       "      <td>2013-01-01</td>\n",
       "      <td>-0.968</td>\n",
       "      <td>0.290</td>\n",
       "      <td>New York</td>\n",
       "      <td>United States</td>\n",
       "      <td>40.99</td>\n",
       "      <td>-74.56</td>\n",
       "    </tr>\n",
       "    <tr>\n",
       "      <th>5207206</th>\n",
       "      <td>2013-04-01</td>\n",
       "      <td>9.723</td>\n",
       "      <td>0.355</td>\n",
       "      <td>New York</td>\n",
       "      <td>United States</td>\n",
       "      <td>40.99</td>\n",
       "      <td>-74.56</td>\n",
       "    </tr>\n",
       "    <tr>\n",
       "      <th>5207209</th>\n",
       "      <td>2013-07-01</td>\n",
       "      <td>24.722</td>\n",
       "      <td>0.279</td>\n",
       "      <td>New York</td>\n",
       "      <td>United States</td>\n",
       "      <td>40.99</td>\n",
       "      <td>-74.56</td>\n",
       "    </tr>\n",
       "  </tbody>\n",
       "</table>\n",
       "<p>1079 rows × 7 columns</p>\n",
       "</div>"
      ],
      "text/plain": [
       "                dt  AverageTemperature  AverageTemperatureUncertainty  \\\n",
       "5203975 1744-01-01                 NaN                            NaN   \n",
       "5203978 1744-04-01               9.788                          2.151   \n",
       "5203981 1744-07-01              22.207                          1.305   \n",
       "5203984 1744-10-01               8.968                          1.558   \n",
       "5203987 1745-01-01              -2.363                          1.771   \n",
       "...            ...                 ...                            ...   \n",
       "5207197 2012-07-01              24.479                          0.403   \n",
       "5207200 2012-10-01              12.436                          0.344   \n",
       "5207203 2013-01-01              -0.968                          0.290   \n",
       "5207206 2013-04-01               9.723                          0.355   \n",
       "5207209 2013-07-01              24.722                          0.279   \n",
       "\n",
       "             City        Country  Latitude  Longitude  \n",
       "5203975  New York  United States     40.99     -74.56  \n",
       "5203978  New York  United States     40.99     -74.56  \n",
       "5203981  New York  United States     40.99     -74.56  \n",
       "5203984  New York  United States     40.99     -74.56  \n",
       "5203987  New York  United States     40.99     -74.56  \n",
       "...           ...            ...       ...        ...  \n",
       "5207197  New York  United States     40.99     -74.56  \n",
       "5207200  New York  United States     40.99     -74.56  \n",
       "5207203  New York  United States     40.99     -74.56  \n",
       "5207206  New York  United States     40.99     -74.56  \n",
       "5207209  New York  United States     40.99     -74.56  \n",
       "\n",
       "[1079 rows x 7 columns]"
      ]
     },
     "execution_count": 1,
     "metadata": {},
     "output_type": "execute_result"
    }
   ],
   "source": [
    "filter = df[\"City\"] == \"New York\"\n",
    "nyc_df = df.loc[filter]\n",
    "nyc_df"
   ]
  },
  {
   "cell_type": "markdown",
   "id": "4f248ace",
   "metadata": {},
   "source": [
    "We have seen how we can use multiple filters and combine them with\n",
    "elements like or `|` and `&`."
   ]
  },
  {
   "cell_type": "code",
   "execution_count": 5,
   "id": "9b197c65",
   "metadata": {
    "execution": {
     "iopub.execute_input": "2021-05-27T16:07:04.292284Z",
     "iopub.status.busy": "2021-05-27T16:07:04.291432Z",
     "iopub.status.idle": "2021-05-27T16:07:04.302584Z",
     "shell.execute_reply": "2021-05-27T16:07:04.303311Z"
    }
   },
   "outputs": [
    {
     "data": {
      "text/html": [
       "<div>\n",
       "<style scoped>\n",
       "    .dataframe tbody tr th:only-of-type {\n",
       "        vertical-align: middle;\n",
       "    }\n",
       "\n",
       "    .dataframe tbody tr th {\n",
       "        vertical-align: top;\n",
       "    }\n",
       "\n",
       "    .dataframe thead th {\n",
       "        text-align: right;\n",
       "    }\n",
       "</style>\n",
       "<table border=\"1\" class=\"dataframe\">\n",
       "  <thead>\n",
       "    <tr style=\"text-align: right;\">\n",
       "      <th></th>\n",
       "      <th>dt</th>\n",
       "      <th>AverageTemperature</th>\n",
       "      <th>AverageTemperatureUncertainty</th>\n",
       "      <th>City</th>\n",
       "      <th>Country</th>\n",
       "      <th>Latitude</th>\n",
       "      <th>Longitude</th>\n",
       "    </tr>\n",
       "  </thead>\n",
       "  <tbody>\n",
       "    <tr>\n",
       "      <th>5203975</th>\n",
       "      <td>1744-01-01</td>\n",
       "      <td>NaN</td>\n",
       "      <td>NaN</td>\n",
       "      <td>New York</td>\n",
       "      <td>United States</td>\n",
       "      <td>40.99</td>\n",
       "      <td>-74.56</td>\n",
       "    </tr>\n",
       "    <tr>\n",
       "      <th>5203978</th>\n",
       "      <td>1744-04-01</td>\n",
       "      <td>9.788</td>\n",
       "      <td>2.151</td>\n",
       "      <td>New York</td>\n",
       "      <td>United States</td>\n",
       "      <td>40.99</td>\n",
       "      <td>-74.56</td>\n",
       "    </tr>\n",
       "    <tr>\n",
       "      <th>5203981</th>\n",
       "      <td>1744-07-01</td>\n",
       "      <td>22.207</td>\n",
       "      <td>1.305</td>\n",
       "      <td>New York</td>\n",
       "      <td>United States</td>\n",
       "      <td>40.99</td>\n",
       "      <td>-74.56</td>\n",
       "    </tr>\n",
       "    <tr>\n",
       "      <th>5203984</th>\n",
       "      <td>1744-10-01</td>\n",
       "      <td>8.968</td>\n",
       "      <td>1.558</td>\n",
       "      <td>New York</td>\n",
       "      <td>United States</td>\n",
       "      <td>40.99</td>\n",
       "      <td>-74.56</td>\n",
       "    </tr>\n",
       "    <tr>\n",
       "      <th>5203987</th>\n",
       "      <td>1745-01-01</td>\n",
       "      <td>-2.363</td>\n",
       "      <td>1.771</td>\n",
       "      <td>New York</td>\n",
       "      <td>United States</td>\n",
       "      <td>40.99</td>\n",
       "      <td>-74.56</td>\n",
       "    </tr>\n",
       "    <tr>\n",
       "      <th>...</th>\n",
       "      <td>...</td>\n",
       "      <td>...</td>\n",
       "      <td>...</td>\n",
       "      <td>...</td>\n",
       "      <td>...</td>\n",
       "      <td>...</td>\n",
       "      <td>...</td>\n",
       "    </tr>\n",
       "    <tr>\n",
       "      <th>5849433</th>\n",
       "      <td>2012-07-01</td>\n",
       "      <td>26.118</td>\n",
       "      <td>0.315</td>\n",
       "      <td>Philadelphia</td>\n",
       "      <td>United States</td>\n",
       "      <td>39.38</td>\n",
       "      <td>-74.91</td>\n",
       "    </tr>\n",
       "    <tr>\n",
       "      <th>5849436</th>\n",
       "      <td>2012-10-01</td>\n",
       "      <td>14.584</td>\n",
       "      <td>0.321</td>\n",
       "      <td>Philadelphia</td>\n",
       "      <td>United States</td>\n",
       "      <td>39.38</td>\n",
       "      <td>-74.91</td>\n",
       "    </tr>\n",
       "    <tr>\n",
       "      <th>5849439</th>\n",
       "      <td>2013-01-01</td>\n",
       "      <td>2.252</td>\n",
       "      <td>0.196</td>\n",
       "      <td>Philadelphia</td>\n",
       "      <td>United States</td>\n",
       "      <td>39.38</td>\n",
       "      <td>-74.91</td>\n",
       "    </tr>\n",
       "    <tr>\n",
       "      <th>5849442</th>\n",
       "      <td>2013-04-01</td>\n",
       "      <td>11.459</td>\n",
       "      <td>0.319</td>\n",
       "      <td>Philadelphia</td>\n",
       "      <td>United States</td>\n",
       "      <td>39.38</td>\n",
       "      <td>-74.91</td>\n",
       "    </tr>\n",
       "    <tr>\n",
       "      <th>5849445</th>\n",
       "      <td>2013-07-01</td>\n",
       "      <td>25.683</td>\n",
       "      <td>0.233</td>\n",
       "      <td>Philadelphia</td>\n",
       "      <td>United States</td>\n",
       "      <td>39.38</td>\n",
       "      <td>-74.91</td>\n",
       "    </tr>\n",
       "  </tbody>\n",
       "</table>\n",
       "<p>2158 rows × 7 columns</p>\n",
       "</div>"
      ],
      "text/plain": [
       "                dt  AverageTemperature  AverageTemperatureUncertainty  \\\n",
       "5203975 1744-01-01                 NaN                            NaN   \n",
       "5203978 1744-04-01               9.788                          2.151   \n",
       "5203981 1744-07-01              22.207                          1.305   \n",
       "5203984 1744-10-01               8.968                          1.558   \n",
       "5203987 1745-01-01              -2.363                          1.771   \n",
       "...            ...                 ...                            ...   \n",
       "5849433 2012-07-01              26.118                          0.315   \n",
       "5849436 2012-10-01              14.584                          0.321   \n",
       "5849439 2013-01-01               2.252                          0.196   \n",
       "5849442 2013-04-01              11.459                          0.319   \n",
       "5849445 2013-07-01              25.683                          0.233   \n",
       "\n",
       "                 City        Country  Latitude  Longitude  \n",
       "5203975      New York  United States     40.99     -74.56  \n",
       "5203978      New York  United States     40.99     -74.56  \n",
       "5203981      New York  United States     40.99     -74.56  \n",
       "5203984      New York  United States     40.99     -74.56  \n",
       "5203987      New York  United States     40.99     -74.56  \n",
       "...               ...            ...       ...        ...  \n",
       "5849433  Philadelphia  United States     39.38     -74.91  \n",
       "5849436  Philadelphia  United States     39.38     -74.91  \n",
       "5849439  Philadelphia  United States     39.38     -74.91  \n",
       "5849442  Philadelphia  United States     39.38     -74.91  \n",
       "5849445  Philadelphia  United States     39.38     -74.91  \n",
       "\n",
       "[2158 rows x 7 columns]"
      ]
     },
     "execution_count": 1,
     "metadata": {},
     "output_type": "execute_result"
    }
   ],
   "source": [
    "filter = (df[\"City\"] == \"New York\") | (df[\"City\"] == \"Philadelphia\") \n",
    "nyc_phila_df = df.loc[filter]\n",
    "nyc_phila_df"
   ]
  },
  {
   "cell_type": "markdown",
   "id": "9397fc9f",
   "metadata": {},
   "source": [
    "Once there is a dataframe that is filtered in a specific manner\n",
    "we can use it to compute properties on the remaining data."
   ]
  },
  {
   "cell_type": "code",
   "execution_count": 6,
   "id": "5ec0543a",
   "metadata": {
    "execution": {
     "iopub.execute_input": "2021-05-27T16:07:04.307740Z",
     "iopub.status.busy": "2021-05-27T16:07:04.306763Z",
     "iopub.status.idle": "2021-05-27T16:07:04.310625Z",
     "shell.execute_reply": "2021-05-27T16:07:04.309918Z"
    },
    "lines_to_next_cell": 1
   },
   "outputs": [
    {
     "data": {
      "text/plain": [
       "9.514878846153847"
      ]
     },
     "execution_count": 1,
     "metadata": {},
     "output_type": "execute_result"
    }
   ],
   "source": [
    "average_temp = nyc_df[\"AverageTemperature\"].mean()\n",
    "average_temp"
   ]
  },
  {
   "cell_type": "markdown",
   "id": "0273cb26",
   "metadata": {},
   "source": [
    "Finally we can add new columns by setting them in the original dataframe. "
   ]
  },
  {
   "cell_type": "code",
   "execution_count": 7,
   "id": "89c509f8",
   "metadata": {
    "execution": {
     "iopub.execute_input": "2021-05-27T16:07:04.334022Z",
     "iopub.status.busy": "2021-05-27T16:07:04.333152Z",
     "iopub.status.idle": "2021-05-27T16:07:04.336535Z",
     "shell.execute_reply": "2021-05-27T16:07:04.337234Z"
    }
   },
   "outputs": [
    {
     "data": {
      "text/html": [
       "<div>\n",
       "<style scoped>\n",
       "    .dataframe tbody tr th:only-of-type {\n",
       "        vertical-align: middle;\n",
       "    }\n",
       "\n",
       "    .dataframe tbody tr th {\n",
       "        vertical-align: top;\n",
       "    }\n",
       "\n",
       "    .dataframe thead th {\n",
       "        text-align: right;\n",
       "    }\n",
       "</style>\n",
       "<table border=\"1\" class=\"dataframe\">\n",
       "  <thead>\n",
       "    <tr style=\"text-align: right;\">\n",
       "      <th></th>\n",
       "      <th>dt</th>\n",
       "      <th>AverageTemperature</th>\n",
       "      <th>AverageTemperatureUncertainty</th>\n",
       "      <th>City</th>\n",
       "      <th>Country</th>\n",
       "      <th>Latitude</th>\n",
       "      <th>Longitude</th>\n",
       "      <th>InNYC</th>\n",
       "    </tr>\n",
       "  </thead>\n",
       "  <tbody>\n",
       "    <tr>\n",
       "      <th>58171</th>\n",
       "      <td>1843-04-01</td>\n",
       "      <td>NaN</td>\n",
       "      <td>NaN</td>\n",
       "      <td>Acapulco</td>\n",
       "      <td>Mexico</td>\n",
       "      <td>16.87</td>\n",
       "      <td>-100.47</td>\n",
       "      <td>False</td>\n",
       "    </tr>\n",
       "    <tr>\n",
       "      <th>58174</th>\n",
       "      <td>1843-07-01</td>\n",
       "      <td>NaN</td>\n",
       "      <td>NaN</td>\n",
       "      <td>Acapulco</td>\n",
       "      <td>Mexico</td>\n",
       "      <td>16.87</td>\n",
       "      <td>-100.47</td>\n",
       "      <td>False</td>\n",
       "    </tr>\n",
       "    <tr>\n",
       "      <th>58177</th>\n",
       "      <td>1843-10-01</td>\n",
       "      <td>NaN</td>\n",
       "      <td>NaN</td>\n",
       "      <td>Acapulco</td>\n",
       "      <td>Mexico</td>\n",
       "      <td>16.87</td>\n",
       "      <td>-100.47</td>\n",
       "      <td>False</td>\n",
       "    </tr>\n",
       "    <tr>\n",
       "      <th>58180</th>\n",
       "      <td>1844-01-01</td>\n",
       "      <td>NaN</td>\n",
       "      <td>NaN</td>\n",
       "      <td>Acapulco</td>\n",
       "      <td>Mexico</td>\n",
       "      <td>16.87</td>\n",
       "      <td>-100.47</td>\n",
       "      <td>False</td>\n",
       "    </tr>\n",
       "    <tr>\n",
       "      <th>58183</th>\n",
       "      <td>1844-04-01</td>\n",
       "      <td>NaN</td>\n",
       "      <td>NaN</td>\n",
       "      <td>Acapulco</td>\n",
       "      <td>Mexico</td>\n",
       "      <td>16.87</td>\n",
       "      <td>-100.47</td>\n",
       "      <td>False</td>\n",
       "    </tr>\n",
       "    <tr>\n",
       "      <th>...</th>\n",
       "      <td>...</td>\n",
       "      <td>...</td>\n",
       "      <td>...</td>\n",
       "      <td>...</td>\n",
       "      <td>...</td>\n",
       "      <td>...</td>\n",
       "      <td>...</td>\n",
       "      <td>...</td>\n",
       "    </tr>\n",
       "    <tr>\n",
       "      <th>8494752</th>\n",
       "      <td>2012-07-01</td>\n",
       "      <td>23.213</td>\n",
       "      <td>0.759</td>\n",
       "      <td>Zapopan</td>\n",
       "      <td>Mexico</td>\n",
       "      <td>20.09</td>\n",
       "      <td>-104.08</td>\n",
       "      <td>False</td>\n",
       "    </tr>\n",
       "    <tr>\n",
       "      <th>8494755</th>\n",
       "      <td>2012-10-01</td>\n",
       "      <td>22.456</td>\n",
       "      <td>0.648</td>\n",
       "      <td>Zapopan</td>\n",
       "      <td>Mexico</td>\n",
       "      <td>20.09</td>\n",
       "      <td>-104.08</td>\n",
       "      <td>False</td>\n",
       "    </tr>\n",
       "    <tr>\n",
       "      <th>8494758</th>\n",
       "      <td>2013-01-01</td>\n",
       "      <td>18.463</td>\n",
       "      <td>0.663</td>\n",
       "      <td>Zapopan</td>\n",
       "      <td>Mexico</td>\n",
       "      <td>20.09</td>\n",
       "      <td>-104.08</td>\n",
       "      <td>False</td>\n",
       "    </tr>\n",
       "    <tr>\n",
       "      <th>8494761</th>\n",
       "      <td>2013-04-01</td>\n",
       "      <td>22.464</td>\n",
       "      <td>0.346</td>\n",
       "      <td>Zapopan</td>\n",
       "      <td>Mexico</td>\n",
       "      <td>20.09</td>\n",
       "      <td>-104.08</td>\n",
       "      <td>False</td>\n",
       "    </tr>\n",
       "    <tr>\n",
       "      <th>8494764</th>\n",
       "      <td>2013-07-01</td>\n",
       "      <td>23.187</td>\n",
       "      <td>0.470</td>\n",
       "      <td>Zapopan</td>\n",
       "      <td>Mexico</td>\n",
       "      <td>20.09</td>\n",
       "      <td>-104.08</td>\n",
       "      <td>False</td>\n",
       "    </tr>\n",
       "  </tbody>\n",
       "</table>\n",
       "<p>76224 rows × 8 columns</p>\n",
       "</div>"
      ],
      "text/plain": [
       "                dt  AverageTemperature  AverageTemperatureUncertainty  \\\n",
       "58171   1843-04-01                 NaN                            NaN   \n",
       "58174   1843-07-01                 NaN                            NaN   \n",
       "58177   1843-10-01                 NaN                            NaN   \n",
       "58180   1844-01-01                 NaN                            NaN   \n",
       "58183   1844-04-01                 NaN                            NaN   \n",
       "...            ...                 ...                            ...   \n",
       "8494752 2012-07-01              23.213                          0.759   \n",
       "8494755 2012-10-01              22.456                          0.648   \n",
       "8494758 2013-01-01              18.463                          0.663   \n",
       "8494761 2013-04-01              22.464                          0.346   \n",
       "8494764 2013-07-01              23.187                          0.470   \n",
       "\n",
       "             City Country  Latitude  Longitude  InNYC  \n",
       "58171    Acapulco  Mexico     16.87    -100.47  False  \n",
       "58174    Acapulco  Mexico     16.87    -100.47  False  \n",
       "58177    Acapulco  Mexico     16.87    -100.47  False  \n",
       "58180    Acapulco  Mexico     16.87    -100.47  False  \n",
       "58183    Acapulco  Mexico     16.87    -100.47  False  \n",
       "...           ...     ...       ...        ...    ...  \n",
       "8494752   Zapopan  Mexico     20.09    -104.08  False  \n",
       "8494755   Zapopan  Mexico     20.09    -104.08  False  \n",
       "8494758   Zapopan  Mexico     20.09    -104.08  False  \n",
       "8494761   Zapopan  Mexico     20.09    -104.08  False  \n",
       "8494764   Zapopan  Mexico     20.09    -104.08  False  \n",
       "\n",
       "[76224 rows x 8 columns]"
      ]
     },
     "execution_count": 1,
     "metadata": {},
     "output_type": "execute_result"
    }
   ],
   "source": [
    "def in_nyc(city):\n",
    "    \"Returns Yes if country is in the US or Canada \"\n",
    "    if city == \"New York\":\n",
    "        return True\n",
    "    return False\n",
    "df[\"InNYC\"] = df[\"City\"].map(in_nyc)\n",
    "df"
   ]
  },
  {
   "cell_type": "code",
   "execution_count": null,
   "id": "d97de705",
   "metadata": {},
   "outputs": [],
   "source": []
  },
  {
   "cell_type": "markdown",
   "id": "67726c77",
   "metadata": {},
   "source": [
    "## Advanced table functions"
   ]
  },
  {
   "cell_type": "markdown",
   "id": "1cc4055a",
   "metadata": {},
   "source": [
    "Our filters have mainly tried to filter rows by string values,\n",
    "but we can filter by many different properties. These properties\n",
    "depend on the type of the column."
   ]
  },
  {
   "cell_type": "markdown",
   "id": "a29b7a2c",
   "metadata": {},
   "source": [
    "If you remember back to lesson 1, we saw how we could use a dates\n",
    "in python. "
   ]
  },
  {
   "cell_type": "code",
   "execution_count": 8,
   "id": "019e0939",
   "metadata": {
    "execution": {
     "iopub.execute_input": "2021-05-27T16:07:04.341310Z",
     "iopub.status.busy": "2021-05-27T16:07:04.340478Z",
     "iopub.status.idle": "2021-05-27T16:07:04.343429Z",
     "shell.execute_reply": "2021-05-27T16:07:04.344131Z"
    }
   },
   "outputs": [
    {
     "data": {
      "text/plain": [
       "datetime.datetime(2021, 5, 27, 12, 7, 4, 339096)"
      ]
     },
     "execution_count": 1,
     "metadata": {},
     "output_type": "execute_result"
    }
   ],
   "source": [
    "import datetime\n",
    "date1 = datetime.datetime.now()\n",
    "date1"
   ]
  },
  {
   "cell_type": "code",
   "execution_count": 9,
   "id": "9398baa3",
   "metadata": {
    "execution": {
     "iopub.execute_input": "2021-05-27T16:07:04.347783Z",
     "iopub.status.busy": "2021-05-27T16:07:04.346920Z",
     "iopub.status.idle": "2021-05-27T16:07:04.350351Z",
     "shell.execute_reply": "2021-05-27T16:07:04.349697Z"
    }
   },
   "outputs": [
    {
     "name": "stdout",
     "output_type": "stream",
     "text": [
      "27 5 2021\n"
     ]
    }
   ],
   "source": [
    "print(date1.day, date1.month, date1.year)"
   ]
  },
  {
   "cell_type": "markdown",
   "id": "00e26d6f",
   "metadata": {},
   "source": [
    "Let's look now at the types of our columns. "
   ]
  },
  {
   "cell_type": "code",
   "execution_count": 10,
   "id": "c6b3502e",
   "metadata": {
    "execution": {
     "iopub.execute_input": "2021-05-27T16:07:04.354966Z",
     "iopub.status.busy": "2021-05-27T16:07:04.354240Z",
     "iopub.status.idle": "2021-05-27T16:07:04.357139Z",
     "shell.execute_reply": "2021-05-27T16:07:04.357744Z"
    }
   },
   "outputs": [
    {
     "data": {
      "text/plain": [
       "dt                               datetime64[ns]\n",
       "AverageTemperature                      float64\n",
       "AverageTemperatureUncertainty           float64\n",
       "City                                     object\n",
       "Country                                  object\n",
       "Latitude                                float64\n",
       "Longitude                               float64\n",
       "InNYC                                      bool\n",
       "dtype: object"
      ]
     },
     "execution_count": 1,
     "metadata": {},
     "output_type": "execute_result"
    }
   ],
   "source": [
    "df.dtypes"
   ]
  },
  {
   "cell_type": "markdown",
   "id": "4abd4e9c",
   "metadata": {},
   "source": [
    "We can see that `dt` is a date. Therefore\n",
    "we can access similar properties as we have seen in the table. "
   ]
  },
  {
   "cell_type": "code",
   "execution_count": 11,
   "id": "1fddd369",
   "metadata": {
    "execution": {
     "iopub.execute_input": "2021-05-27T16:07:04.361652Z",
     "iopub.status.busy": "2021-05-27T16:07:04.361029Z",
     "iopub.status.idle": "2021-05-27T16:07:04.373569Z",
     "shell.execute_reply": "2021-05-27T16:07:04.372816Z"
    }
   },
   "outputs": [
    {
     "data": {
      "text/plain": [
       "58171       4\n",
       "58174       7\n",
       "58177      10\n",
       "58180       1\n",
       "58183       4\n",
       "           ..\n",
       "8494752     7\n",
       "8494755    10\n",
       "8494758     1\n",
       "8494761     4\n",
       "8494764     7\n",
       "Name: dt, Length: 76224, dtype: int64"
      ]
     },
     "execution_count": 1,
     "metadata": {},
     "output_type": "execute_result"
    }
   ],
   "source": [
    "df[\"dt\"].dt.month"
   ]
  },
  {
   "cell_type": "markdown",
   "id": "453790ae",
   "metadata": {},
   "source": [
    "Let's convert these into columns"
   ]
  },
  {
   "cell_type": "code",
   "execution_count": 12,
   "id": "8dd2a321",
   "metadata": {
    "execution": {
     "iopub.execute_input": "2021-05-27T16:07:04.377835Z",
     "iopub.status.busy": "2021-05-27T16:07:04.376982Z",
     "iopub.status.idle": "2021-05-27T16:07:04.393466Z",
     "shell.execute_reply": "2021-05-27T16:07:04.392703Z"
    },
    "lines_to_next_cell": 2
   },
   "outputs": [],
   "source": [
    "df[\"Month\"] = df[\"dt\"].dt.month\n",
    "df[\"Year\"] = df[\"dt\"].dt.year"
   ]
  },
  {
   "cell_type": "markdown",
   "id": "30b58afe",
   "metadata": {},
   "source": [
    "Now these are columns in the table. "
   ]
  },
  {
   "cell_type": "code",
   "execution_count": 13,
   "id": "1454c9d8",
   "metadata": {
    "execution": {
     "iopub.execute_input": "2021-05-27T16:07:04.397284Z",
     "iopub.status.busy": "2021-05-27T16:07:04.396421Z",
     "iopub.status.idle": "2021-05-27T16:07:04.399431Z",
     "shell.execute_reply": "2021-05-27T16:07:04.400245Z"
    },
    "lines_to_next_cell": 2
   },
   "outputs": [
    {
     "data": {
      "text/plain": [
       "Index(['dt', 'AverageTemperature', 'AverageTemperatureUncertainty', 'City',\n",
       "       'Country', 'Latitude', 'Longitude', 'InNYC', 'Month', 'Year'],\n",
       "      dtype='object')"
      ]
     },
     "execution_count": 1,
     "metadata": {},
     "output_type": "execute_result"
    }
   ],
   "source": [
    "df.columns"
   ]
  },
  {
   "cell_type": "markdown",
   "id": "60545aba",
   "metadata": {},
   "source": [
    "## Advanced  Filtering"
   ]
  },
  {
   "cell_type": "code",
   "execution_count": 14,
   "id": "02df40bc",
   "metadata": {
    "execution": {
     "iopub.execute_input": "2021-05-27T16:07:04.404843Z",
     "iopub.status.busy": "2021-05-27T16:07:04.403996Z",
     "iopub.status.idle": "2021-05-27T16:07:04.415387Z",
     "shell.execute_reply": "2021-05-27T16:07:04.414454Z"
    },
    "lines_to_next_cell": 2
   },
   "outputs": [
    {
     "data": {
      "text/html": [
       "<div>\n",
       "<style scoped>\n",
       "    .dataframe tbody tr th:only-of-type {\n",
       "        vertical-align: middle;\n",
       "    }\n",
       "\n",
       "    .dataframe tbody tr th {\n",
       "        vertical-align: top;\n",
       "    }\n",
       "\n",
       "    .dataframe thead th {\n",
       "        text-align: right;\n",
       "    }\n",
       "</style>\n",
       "<table border=\"1\" class=\"dataframe\">\n",
       "  <thead>\n",
       "    <tr style=\"text-align: right;\">\n",
       "      <th></th>\n",
       "      <th>dt</th>\n",
       "      <th>AverageTemperature</th>\n",
       "      <th>AverageTemperatureUncertainty</th>\n",
       "      <th>City</th>\n",
       "      <th>Country</th>\n",
       "      <th>Latitude</th>\n",
       "      <th>Longitude</th>\n",
       "    </tr>\n",
       "  </thead>\n",
       "  <tbody>\n",
       "    <tr>\n",
       "      <th>5206453</th>\n",
       "      <td>1950-07-01</td>\n",
       "      <td>21.613</td>\n",
       "      <td>0.133</td>\n",
       "      <td>New York</td>\n",
       "      <td>United States</td>\n",
       "      <td>40.99</td>\n",
       "      <td>-74.56</td>\n",
       "    </tr>\n",
       "  </tbody>\n",
       "</table>\n",
       "</div>"
      ],
      "text/plain": [
       "                dt  AverageTemperature  AverageTemperatureUncertainty  \\\n",
       "5206453 1950-07-01              21.613                          0.133   \n",
       "\n",
       "             City        Country  Latitude  Longitude  \n",
       "5206453  New York  United States     40.99     -74.56  "
      ]
     },
     "execution_count": 1,
     "metadata": {},
     "output_type": "execute_result"
    }
   ],
   "source": [
    "filter = (df[\"Month\"] == 7) & (df[\"Year\"] == 1950)\n",
    "summer = nyc_df.loc[filter]\n",
    "summer"
   ]
  },
  {
   "cell_type": "code",
   "execution_count": 15,
   "id": "6b28c66a",
   "metadata": {
    "execution": {
     "iopub.execute_input": "2021-05-27T16:07:04.419845Z",
     "iopub.status.busy": "2021-05-27T16:07:04.418923Z",
     "iopub.status.idle": "2021-05-27T16:07:04.434727Z",
     "shell.execute_reply": "2021-05-27T16:07:04.435470Z"
    },
    "lines_to_next_cell": 2
   },
   "outputs": [
    {
     "data": {
      "text/html": [
       "<div>\n",
       "<style scoped>\n",
       "    .dataframe tbody tr th:only-of-type {\n",
       "        vertical-align: middle;\n",
       "    }\n",
       "\n",
       "    .dataframe tbody tr th {\n",
       "        vertical-align: top;\n",
       "    }\n",
       "\n",
       "    .dataframe thead th {\n",
       "        text-align: right;\n",
       "    }\n",
       "</style>\n",
       "<table border=\"1\" class=\"dataframe\">\n",
       "  <thead>\n",
       "    <tr style=\"text-align: right;\">\n",
       "      <th></th>\n",
       "      <th>dt</th>\n",
       "      <th>AverageTemperature</th>\n",
       "      <th>AverageTemperatureUncertainty</th>\n",
       "      <th>City</th>\n",
       "      <th>Country</th>\n",
       "      <th>Latitude</th>\n",
       "      <th>Longitude</th>\n",
       "      <th>InNYC</th>\n",
       "      <th>Month</th>\n",
       "      <th>Year</th>\n",
       "    </tr>\n",
       "  </thead>\n",
       "  <tbody>\n",
       "    <tr>\n",
       "      <th>59452</th>\n",
       "      <td>1950-01-01</td>\n",
       "      <td>25.870</td>\n",
       "      <td>0.506</td>\n",
       "      <td>Acapulco</td>\n",
       "      <td>Mexico</td>\n",
       "      <td>16.87</td>\n",
       "      <td>-100.47</td>\n",
       "      <td>False</td>\n",
       "      <td>1</td>\n",
       "      <td>1950</td>\n",
       "    </tr>\n",
       "    <tr>\n",
       "      <th>59455</th>\n",
       "      <td>1950-04-01</td>\n",
       "      <td>24.797</td>\n",
       "      <td>0.812</td>\n",
       "      <td>Acapulco</td>\n",
       "      <td>Mexico</td>\n",
       "      <td>16.87</td>\n",
       "      <td>-100.47</td>\n",
       "      <td>False</td>\n",
       "      <td>4</td>\n",
       "      <td>1950</td>\n",
       "    </tr>\n",
       "    <tr>\n",
       "      <th>59458</th>\n",
       "      <td>1950-07-01</td>\n",
       "      <td>27.149</td>\n",
       "      <td>0.352</td>\n",
       "      <td>Acapulco</td>\n",
       "      <td>Mexico</td>\n",
       "      <td>16.87</td>\n",
       "      <td>-100.47</td>\n",
       "      <td>False</td>\n",
       "      <td>7</td>\n",
       "      <td>1950</td>\n",
       "    </tr>\n",
       "    <tr>\n",
       "      <th>59461</th>\n",
       "      <td>1950-10-01</td>\n",
       "      <td>26.514</td>\n",
       "      <td>0.430</td>\n",
       "      <td>Acapulco</td>\n",
       "      <td>Mexico</td>\n",
       "      <td>16.87</td>\n",
       "      <td>-100.47</td>\n",
       "      <td>False</td>\n",
       "      <td>10</td>\n",
       "      <td>1950</td>\n",
       "    </tr>\n",
       "    <tr>\n",
       "      <th>59464</th>\n",
       "      <td>1951-01-01</td>\n",
       "      <td>24.746</td>\n",
       "      <td>0.505</td>\n",
       "      <td>Acapulco</td>\n",
       "      <td>Mexico</td>\n",
       "      <td>16.87</td>\n",
       "      <td>-100.47</td>\n",
       "      <td>False</td>\n",
       "      <td>1</td>\n",
       "      <td>1951</td>\n",
       "    </tr>\n",
       "    <tr>\n",
       "      <th>...</th>\n",
       "      <td>...</td>\n",
       "      <td>...</td>\n",
       "      <td>...</td>\n",
       "      <td>...</td>\n",
       "      <td>...</td>\n",
       "      <td>...</td>\n",
       "      <td>...</td>\n",
       "      <td>...</td>\n",
       "      <td>...</td>\n",
       "      <td>...</td>\n",
       "    </tr>\n",
       "    <tr>\n",
       "      <th>8494119</th>\n",
       "      <td>1959-10-01</td>\n",
       "      <td>21.412</td>\n",
       "      <td>0.569</td>\n",
       "      <td>Zapopan</td>\n",
       "      <td>Mexico</td>\n",
       "      <td>20.09</td>\n",
       "      <td>-104.08</td>\n",
       "      <td>False</td>\n",
       "      <td>10</td>\n",
       "      <td>1959</td>\n",
       "    </tr>\n",
       "    <tr>\n",
       "      <th>8494122</th>\n",
       "      <td>1960-01-01</td>\n",
       "      <td>18.382</td>\n",
       "      <td>0.358</td>\n",
       "      <td>Zapopan</td>\n",
       "      <td>Mexico</td>\n",
       "      <td>20.09</td>\n",
       "      <td>-104.08</td>\n",
       "      <td>False</td>\n",
       "      <td>1</td>\n",
       "      <td>1960</td>\n",
       "    </tr>\n",
       "    <tr>\n",
       "      <th>8494125</th>\n",
       "      <td>1960-04-01</td>\n",
       "      <td>20.904</td>\n",
       "      <td>0.493</td>\n",
       "      <td>Zapopan</td>\n",
       "      <td>Mexico</td>\n",
       "      <td>20.09</td>\n",
       "      <td>-104.08</td>\n",
       "      <td>False</td>\n",
       "      <td>4</td>\n",
       "      <td>1960</td>\n",
       "    </tr>\n",
       "    <tr>\n",
       "      <th>8494128</th>\n",
       "      <td>1960-07-01</td>\n",
       "      <td>23.138</td>\n",
       "      <td>0.232</td>\n",
       "      <td>Zapopan</td>\n",
       "      <td>Mexico</td>\n",
       "      <td>20.09</td>\n",
       "      <td>-104.08</td>\n",
       "      <td>False</td>\n",
       "      <td>7</td>\n",
       "      <td>1960</td>\n",
       "    </tr>\n",
       "    <tr>\n",
       "      <th>8494131</th>\n",
       "      <td>1960-10-01</td>\n",
       "      <td>21.936</td>\n",
       "      <td>0.388</td>\n",
       "      <td>Zapopan</td>\n",
       "      <td>Mexico</td>\n",
       "      <td>20.09</td>\n",
       "      <td>-104.08</td>\n",
       "      <td>False</td>\n",
       "      <td>10</td>\n",
       "      <td>1960</td>\n",
       "    </tr>\n",
       "  </tbody>\n",
       "</table>\n",
       "<p>4092 rows × 10 columns</p>\n",
       "</div>"
      ],
      "text/plain": [
       "                dt  AverageTemperature  AverageTemperatureUncertainty  \\\n",
       "59452   1950-01-01              25.870                          0.506   \n",
       "59455   1950-04-01              24.797                          0.812   \n",
       "59458   1950-07-01              27.149                          0.352   \n",
       "59461   1950-10-01              26.514                          0.430   \n",
       "59464   1951-01-01              24.746                          0.505   \n",
       "...            ...                 ...                            ...   \n",
       "8494119 1959-10-01              21.412                          0.569   \n",
       "8494122 1960-01-01              18.382                          0.358   \n",
       "8494125 1960-04-01              20.904                          0.493   \n",
       "8494128 1960-07-01              23.138                          0.232   \n",
       "8494131 1960-10-01              21.936                          0.388   \n",
       "\n",
       "             City Country  Latitude  Longitude  InNYC  Month  Year  \n",
       "59452    Acapulco  Mexico     16.87    -100.47  False      1  1950  \n",
       "59455    Acapulco  Mexico     16.87    -100.47  False      4  1950  \n",
       "59458    Acapulco  Mexico     16.87    -100.47  False      7  1950  \n",
       "59461    Acapulco  Mexico     16.87    -100.47  False     10  1950  \n",
       "59464    Acapulco  Mexico     16.87    -100.47  False      1  1951  \n",
       "...           ...     ...       ...        ...    ...    ...   ...  \n",
       "8494119   Zapopan  Mexico     20.09    -104.08  False     10  1959  \n",
       "8494122   Zapopan  Mexico     20.09    -104.08  False      1  1960  \n",
       "8494125   Zapopan  Mexico     20.09    -104.08  False      4  1960  \n",
       "8494128   Zapopan  Mexico     20.09    -104.08  False      7  1960  \n",
       "8494131   Zapopan  Mexico     20.09    -104.08  False     10  1960  \n",
       "\n",
       "[4092 rows x 10 columns]"
      ]
     },
     "execution_count": 1,
     "metadata": {},
     "output_type": "execute_result"
    }
   ],
   "source": [
    "filter = (df[\"Year\"] >= 1950) & (df[\"Year\"] <= 1960) \n",
    "fifties = df.loc[filter]\n",
    "fifties"
   ]
  },
  {
   "cell_type": "markdown",
   "id": "b789f910",
   "metadata": {},
   "source": [
    "How does the temperature vary over a 10 year period?"
   ]
  },
  {
   "cell_type": "code",
   "execution_count": 16,
   "id": "911f9f8c",
   "metadata": {
    "execution": {
     "iopub.execute_input": "2021-05-27T16:07:04.439604Z",
     "iopub.status.busy": "2021-05-27T16:07:04.438721Z",
     "iopub.status.idle": "2021-05-27T16:07:04.442139Z",
     "shell.execute_reply": "2021-05-27T16:07:04.441306Z"
    }
   },
   "outputs": [],
   "source": [
    "filter = df[\"InNYC\"] & (df[\"Year\"] >= 1950) & (df[\"Year\"] <= 1960) \n",
    "period = df.loc[filter]"
   ]
  },
  {
   "cell_type": "code",
   "execution_count": null,
   "id": "c0edadf8",
   "metadata": {},
   "outputs": [],
   "source": []
  },
  {
   "cell_type": "markdown",
   "id": "66f340a1",
   "metadata": {},
   "source": [
    "## Visualization"
   ]
  },
  {
   "cell_type": "markdown",
   "id": "decbdc10",
   "metadata": {
    "lines_to_next_cell": 2
   },
   "source": [
    "Now lets look at how to graph this data. "
   ]
  },
  {
   "cell_type": "code",
   "execution_count": 17,
   "id": "ae27039e",
   "metadata": {
    "execution": {
     "iopub.execute_input": "2021-05-27T16:07:04.449151Z",
     "iopub.status.busy": "2021-05-27T16:07:04.448301Z",
     "iopub.status.idle": "2021-05-27T16:07:04.451458Z",
     "shell.execute_reply": "2021-05-27T16:07:04.452291Z"
    }
   },
   "outputs": [
    {
     "data": {
      "text/html": [
       "<div>\n",
       "<style scoped>\n",
       "    .dataframe tbody tr th:only-of-type {\n",
       "        vertical-align: middle;\n",
       "    }\n",
       "\n",
       "    .dataframe tbody tr th {\n",
       "        vertical-align: top;\n",
       "    }\n",
       "\n",
       "    .dataframe thead th {\n",
       "        text-align: right;\n",
       "    }\n",
       "</style>\n",
       "<table border=\"1\" class=\"dataframe\">\n",
       "  <thead>\n",
       "    <tr style=\"text-align: right;\">\n",
       "      <th></th>\n",
       "      <th>names</th>\n",
       "      <th>val1</th>\n",
       "      <th>val2</th>\n",
       "    </tr>\n",
       "  </thead>\n",
       "  <tbody>\n",
       "    <tr>\n",
       "      <th>0</th>\n",
       "      <td>a</td>\n",
       "      <td>10.0</td>\n",
       "      <td>10.0</td>\n",
       "    </tr>\n",
       "    <tr>\n",
       "      <th>1</th>\n",
       "      <td>b</td>\n",
       "      <td>20.0</td>\n",
       "      <td>20.0</td>\n",
       "    </tr>\n",
       "    <tr>\n",
       "      <th>2</th>\n",
       "      <td>c</td>\n",
       "      <td>30.0</td>\n",
       "      <td>30.0</td>\n",
       "    </tr>\n",
       "  </tbody>\n",
       "</table>\n",
       "</div>"
      ],
      "text/plain": [
       "  names  val1  val2\n",
       "0     a  10.0  10.0\n",
       "1     b  20.0  20.0\n",
       "2     c  30.0  30.0"
      ]
     },
     "execution_count": 1,
     "metadata": {},
     "output_type": "execute_result"
    }
   ],
   "source": [
    "simple_df = pd.DataFrame({\n",
    "    \"names\" : [\"a\", \"b\", \"c\"],\n",
    "    \"val1\" : [10., 20., 30.],\n",
    "    \"val2\" : [10., 20., 30.],\n",
    "})\n",
    "simple_df"
   ]
  },
  {
   "cell_type": "markdown",
   "id": "54318667",
   "metadata": {
    "lines_to_next_cell": 2
   },
   "source": [
    "Review"
   ]
  },
  {
   "cell_type": "code",
   "execution_count": 18,
   "id": "1d782f73",
   "metadata": {
    "execution": {
     "iopub.execute_input": "2021-05-27T16:07:04.471596Z",
     "iopub.status.busy": "2021-05-27T16:07:04.470709Z",
     "iopub.status.idle": "2021-05-27T16:07:04.474073Z",
     "shell.execute_reply": "2021-05-27T16:07:04.474775Z"
    }
   },
   "outputs": [
    {
     "data": {
      "text/html": [
       "\n",
       "<div id=\"altair-viz-727802c507ce4f2589a708af8ff13ab1\"></div>\n",
       "<script type=\"text/javascript\">\n",
       "  (function(spec, embedOpt){\n",
       "    let outputDiv = document.currentScript.previousElementSibling;\n",
       "    if (outputDiv.id !== \"altair-viz-727802c507ce4f2589a708af8ff13ab1\") {\n",
       "      outputDiv = document.getElementById(\"altair-viz-727802c507ce4f2589a708af8ff13ab1\");\n",
       "    }\n",
       "    const paths = {\n",
       "      \"vega\": \"https://cdn.jsdelivr.net/npm//vega@5?noext\",\n",
       "      \"vega-lib\": \"https://cdn.jsdelivr.net/npm//vega-lib?noext\",\n",
       "      \"vega-lite\": \"https://cdn.jsdelivr.net/npm//vega-lite@4.8.1?noext\",\n",
       "      \"vega-embed\": \"https://cdn.jsdelivr.net/npm//vega-embed@6?noext\",\n",
       "    };\n",
       "\n",
       "    function loadScript(lib) {\n",
       "      return new Promise(function(resolve, reject) {\n",
       "        var s = document.createElement('script');\n",
       "        s.src = paths[lib];\n",
       "        s.async = true;\n",
       "        s.onload = () => resolve(paths[lib]);\n",
       "        s.onerror = () => reject(`Error loading script: ${paths[lib]}`);\n",
       "        document.getElementsByTagName(\"head\")[0].appendChild(s);\n",
       "      });\n",
       "    }\n",
       "\n",
       "    function showError(err) {\n",
       "      outputDiv.innerHTML = `<div class=\"error\" style=\"color:red;\">${err}</div>`;\n",
       "      throw err;\n",
       "    }\n",
       "\n",
       "    function displayChart(vegaEmbed) {\n",
       "      vegaEmbed(outputDiv, spec, embedOpt)\n",
       "        .catch(err => showError(`Javascript Error: ${err.message}<br>This usually means there's a typo in your chart specification. See the javascript console for the full traceback.`));\n",
       "    }\n",
       "\n",
       "    if(typeof define === \"function\" && define.amd) {\n",
       "      requirejs.config({paths});\n",
       "      require([\"vega-embed\"], displayChart, err => showError(`Error loading script: ${err.message}`));\n",
       "    } else if (typeof vegaEmbed === \"function\") {\n",
       "      displayChart(vegaEmbed);\n",
       "    } else {\n",
       "      loadScript(\"vega\")\n",
       "        .then(() => loadScript(\"vega-lite\"))\n",
       "        .then(() => loadScript(\"vega-embed\"))\n",
       "        .catch(showError)\n",
       "        .then(() => displayChart(vegaEmbed));\n",
       "    }\n",
       "  })({\"config\": {\"view\": {\"continuousWidth\": 400, \"continuousHeight\": 300}}, \"data\": {\"name\": \"data-14a3fce87a9d94732a49786179f3ea4d\"}, \"mark\": \"bar\", \"encoding\": {\"x\": {\"type\": \"nominal\", \"field\": \"names\"}, \"y\": {\"type\": \"quantitative\", \"field\": \"val1\"}}, \"$schema\": \"https://vega.github.io/schema/vega-lite/v4.8.1.json\", \"datasets\": {\"data-14a3fce87a9d94732a49786179f3ea4d\": [{\"names\": \"a\", \"val1\": 10.0, \"val2\": 10.0}, {\"names\": \"b\", \"val1\": 20.0, \"val2\": 20.0}, {\"names\": \"c\", \"val1\": 30.0, \"val2\": 30.0}]}}, {\"mode\": \"vega-lite\"});\n",
       "</script>"
      ],
      "text/plain": [
       "alt.Chart(...)"
      ]
     },
     "execution_count": 1,
     "metadata": {},
     "output_type": "execute_result"
    }
   ],
   "source": [
    "chart = (alt.Chart(simple_df)\n",
    "           .mark_bar()\n",
    "           .encode(x = \"names\",\n",
    "                   y = \"val1\"))\n",
    "chart"
   ]
  },
  {
   "cell_type": "code",
   "execution_count": 19,
   "id": "bd4fb8f4",
   "metadata": {
    "execution": {
     "iopub.execute_input": "2021-05-27T16:07:04.486394Z",
     "iopub.status.busy": "2021-05-27T16:07:04.485543Z",
     "iopub.status.idle": "2021-05-27T16:07:04.488755Z",
     "shell.execute_reply": "2021-05-27T16:07:04.489460Z"
    }
   },
   "outputs": [
    {
     "data": {
      "text/html": [
       "\n",
       "<div id=\"altair-viz-a7fa8a6a04194121b5a561e72c927367\"></div>\n",
       "<script type=\"text/javascript\">\n",
       "  (function(spec, embedOpt){\n",
       "    let outputDiv = document.currentScript.previousElementSibling;\n",
       "    if (outputDiv.id !== \"altair-viz-a7fa8a6a04194121b5a561e72c927367\") {\n",
       "      outputDiv = document.getElementById(\"altair-viz-a7fa8a6a04194121b5a561e72c927367\");\n",
       "    }\n",
       "    const paths = {\n",
       "      \"vega\": \"https://cdn.jsdelivr.net/npm//vega@5?noext\",\n",
       "      \"vega-lib\": \"https://cdn.jsdelivr.net/npm//vega-lib?noext\",\n",
       "      \"vega-lite\": \"https://cdn.jsdelivr.net/npm//vega-lite@4.8.1?noext\",\n",
       "      \"vega-embed\": \"https://cdn.jsdelivr.net/npm//vega-embed@6?noext\",\n",
       "    };\n",
       "\n",
       "    function loadScript(lib) {\n",
       "      return new Promise(function(resolve, reject) {\n",
       "        var s = document.createElement('script');\n",
       "        s.src = paths[lib];\n",
       "        s.async = true;\n",
       "        s.onload = () => resolve(paths[lib]);\n",
       "        s.onerror = () => reject(`Error loading script: ${paths[lib]}`);\n",
       "        document.getElementsByTagName(\"head\")[0].appendChild(s);\n",
       "      });\n",
       "    }\n",
       "\n",
       "    function showError(err) {\n",
       "      outputDiv.innerHTML = `<div class=\"error\" style=\"color:red;\">${err}</div>`;\n",
       "      throw err;\n",
       "    }\n",
       "\n",
       "    function displayChart(vegaEmbed) {\n",
       "      vegaEmbed(outputDiv, spec, embedOpt)\n",
       "        .catch(err => showError(`Javascript Error: ${err.message}<br>This usually means there's a typo in your chart specification. See the javascript console for the full traceback.`));\n",
       "    }\n",
       "\n",
       "    if(typeof define === \"function\" && define.amd) {\n",
       "      requirejs.config({paths});\n",
       "      require([\"vega-embed\"], displayChart, err => showError(`Error loading script: ${err.message}`));\n",
       "    } else if (typeof vegaEmbed === \"function\") {\n",
       "      displayChart(vegaEmbed);\n",
       "    } else {\n",
       "      loadScript(\"vega\")\n",
       "        .then(() => loadScript(\"vega-lite\"))\n",
       "        .then(() => loadScript(\"vega-embed\"))\n",
       "        .catch(showError)\n",
       "        .then(() => displayChart(vegaEmbed));\n",
       "    }\n",
       "  })({\"config\": {\"view\": {\"continuousWidth\": 400, \"continuousHeight\": 300}}, \"data\": {\"name\": \"data-14a3fce87a9d94732a49786179f3ea4d\"}, \"mark\": \"line\", \"encoding\": {\"x\": {\"type\": \"nominal\", \"field\": \"names\"}, \"y\": {\"type\": \"quantitative\", \"field\": \"val1\"}}, \"$schema\": \"https://vega.github.io/schema/vega-lite/v4.8.1.json\", \"datasets\": {\"data-14a3fce87a9d94732a49786179f3ea4d\": [{\"names\": \"a\", \"val1\": 10.0, \"val2\": 10.0}, {\"names\": \"b\", \"val1\": 20.0, \"val2\": 20.0}, {\"names\": \"c\", \"val1\": 30.0, \"val2\": 30.0}]}}, {\"mode\": \"vega-lite\"});\n",
       "</script>"
      ],
      "text/plain": [
       "alt.Chart(...)"
      ]
     },
     "execution_count": 1,
     "metadata": {},
     "output_type": "execute_result"
    }
   ],
   "source": [
    "chart = (alt.Chart(simple_df)\n",
    "           .mark_line()\n",
    "           .encode(x = \"names\",\n",
    "                   y = \"val1\"))\n",
    "chart"
   ]
  },
  {
   "cell_type": "code",
   "execution_count": null,
   "id": "7e37ba92",
   "metadata": {},
   "outputs": [],
   "source": []
  },
  {
   "cell_type": "markdown",
   "id": "5a8af04e",
   "metadata": {
    "lines_to_next_cell": 2
   },
   "source": [
    "* Chart - Over the last 10 years\n",
    "* Mark - Line graph\n",
    "* Encode - date and temperature"
   ]
  },
  {
   "cell_type": "code",
   "execution_count": 20,
   "id": "e8e45ec4",
   "metadata": {
    "execution": {
     "iopub.execute_input": "2021-05-27T16:07:04.505577Z",
     "iopub.status.busy": "2021-05-27T16:07:04.504729Z",
     "iopub.status.idle": "2021-05-27T16:07:04.508479Z",
     "shell.execute_reply": "2021-05-27T16:07:04.509178Z"
    },
    "lines_to_next_cell": 2
   },
   "outputs": [
    {
     "data": {
      "text/html": [
       "\n",
       "<div id=\"altair-viz-3e5e2aa70f03419da7af75fe5d0d4141\"></div>\n",
       "<script type=\"text/javascript\">\n",
       "  (function(spec, embedOpt){\n",
       "    let outputDiv = document.currentScript.previousElementSibling;\n",
       "    if (outputDiv.id !== \"altair-viz-3e5e2aa70f03419da7af75fe5d0d4141\") {\n",
       "      outputDiv = document.getElementById(\"altair-viz-3e5e2aa70f03419da7af75fe5d0d4141\");\n",
       "    }\n",
       "    const paths = {\n",
       "      \"vega\": \"https://cdn.jsdelivr.net/npm//vega@5?noext\",\n",
       "      \"vega-lib\": \"https://cdn.jsdelivr.net/npm//vega-lib?noext\",\n",
       "      \"vega-lite\": \"https://cdn.jsdelivr.net/npm//vega-lite@4.8.1?noext\",\n",
       "      \"vega-embed\": \"https://cdn.jsdelivr.net/npm//vega-embed@6?noext\",\n",
       "    };\n",
       "\n",
       "    function loadScript(lib) {\n",
       "      return new Promise(function(resolve, reject) {\n",
       "        var s = document.createElement('script');\n",
       "        s.src = paths[lib];\n",
       "        s.async = true;\n",
       "        s.onload = () => resolve(paths[lib]);\n",
       "        s.onerror = () => reject(`Error loading script: ${paths[lib]}`);\n",
       "        document.getElementsByTagName(\"head\")[0].appendChild(s);\n",
       "      });\n",
       "    }\n",
       "\n",
       "    function showError(err) {\n",
       "      outputDiv.innerHTML = `<div class=\"error\" style=\"color:red;\">${err}</div>`;\n",
       "      throw err;\n",
       "    }\n",
       "\n",
       "    function displayChart(vegaEmbed) {\n",
       "      vegaEmbed(outputDiv, spec, embedOpt)\n",
       "        .catch(err => showError(`Javascript Error: ${err.message}<br>This usually means there's a typo in your chart specification. See the javascript console for the full traceback.`));\n",
       "    }\n",
       "\n",
       "    if(typeof define === \"function\" && define.amd) {\n",
       "      requirejs.config({paths});\n",
       "      require([\"vega-embed\"], displayChart, err => showError(`Error loading script: ${err.message}`));\n",
       "    } else if (typeof vegaEmbed === \"function\") {\n",
       "      displayChart(vegaEmbed);\n",
       "    } else {\n",
       "      loadScript(\"vega\")\n",
       "        .then(() => loadScript(\"vega-lite\"))\n",
       "        .then(() => loadScript(\"vega-embed\"))\n",
       "        .catch(showError)\n",
       "        .then(() => displayChart(vegaEmbed));\n",
       "    }\n",
       "  })({\"config\": {\"view\": {\"continuousWidth\": 400, \"continuousHeight\": 300}}, \"data\": {\"name\": \"data-dd6761c02bb98a61b23f241861607f54\"}, \"mark\": \"line\", \"encoding\": {\"x\": {\"type\": \"temporal\", \"field\": \"dt\"}, \"y\": {\"type\": \"quantitative\", \"field\": \"AverageTemperature\"}}, \"$schema\": \"https://vega.github.io/schema/vega-lite/v4.8.1.json\", \"datasets\": {\"data-dd6761c02bb98a61b23f241861607f54\": [{\"dt\": \"1950-01-01T00:00:00\", \"AverageTemperature\": 2.32, \"AverageTemperatureUncertainty\": 0.253, \"City\": \"New York\", \"Country\": \"United States\", \"Latitude\": 40.99, \"Longitude\": -74.56, \"InNYC\": true, \"Month\": 1, \"Year\": 1950}, {\"dt\": \"1950-04-01T00:00:00\", \"AverageTemperature\": 7.336, \"AverageTemperatureUncertainty\": 0.261, \"City\": \"New York\", \"Country\": \"United States\", \"Latitude\": 40.99, \"Longitude\": -74.56, \"InNYC\": true, \"Month\": 4, \"Year\": 1950}, {\"dt\": \"1950-07-01T00:00:00\", \"AverageTemperature\": 21.613000000000003, \"AverageTemperatureUncertainty\": 0.133, \"City\": \"New York\", \"Country\": \"United States\", \"Latitude\": 40.99, \"Longitude\": -74.56, \"InNYC\": true, \"Month\": 7, \"Year\": 1950}, {\"dt\": \"1950-10-01T00:00:00\", \"AverageTemperature\": 12.633, \"AverageTemperatureUncertainty\": 0.211, \"City\": \"New York\", \"Country\": \"United States\", \"Latitude\": 40.99, \"Longitude\": -74.56, \"InNYC\": true, \"Month\": 10, \"Year\": 1950}, {\"dt\": \"1951-01-01T00:00:00\", \"AverageTemperature\": -0.7229999999999999, \"AverageTemperatureUncertainty\": 0.2789999999999999, \"City\": \"New York\", \"Country\": \"United States\", \"Latitude\": 40.99, \"Longitude\": -74.56, \"InNYC\": true, \"Month\": 1, \"Year\": 1951}, {\"dt\": \"1951-04-01T00:00:00\", \"AverageTemperature\": 9.576, \"AverageTemperatureUncertainty\": 0.265, \"City\": \"New York\", \"Country\": \"United States\", \"Latitude\": 40.99, \"Longitude\": -74.56, \"InNYC\": true, \"Month\": 4, \"Year\": 1951}, {\"dt\": \"1951-07-01T00:00:00\", \"AverageTemperature\": 22.364, \"AverageTemperatureUncertainty\": 0.26, \"City\": \"New York\", \"Country\": \"United States\", \"Latitude\": 40.99, \"Longitude\": -74.56, \"InNYC\": true, \"Month\": 7, \"Year\": 1951}, {\"dt\": \"1951-10-01T00:00:00\", \"AverageTemperature\": 12.236999999999998, \"AverageTemperatureUncertainty\": 0.208, \"City\": \"New York\", \"Country\": \"United States\", \"Latitude\": 40.99, \"Longitude\": -74.56, \"InNYC\": true, \"Month\": 10, \"Year\": 1951}, {\"dt\": \"1952-01-01T00:00:00\", \"AverageTemperature\": -0.5659999999999998, \"AverageTemperatureUncertainty\": 0.162, \"City\": \"New York\", \"Country\": \"United States\", \"Latitude\": 40.99, \"Longitude\": -74.56, \"InNYC\": true, \"Month\": 1, \"Year\": 1952}, {\"dt\": \"1952-04-01T00:00:00\", \"AverageTemperature\": 10.661, \"AverageTemperatureUncertainty\": 0.186, \"City\": \"New York\", \"Country\": \"United States\", \"Latitude\": 40.99, \"Longitude\": -74.56, \"InNYC\": true, \"Month\": 4, \"Year\": 1952}, {\"dt\": \"1952-07-01T00:00:00\", \"AverageTemperature\": 23.964, \"AverageTemperatureUncertainty\": 0.264, \"City\": \"New York\", \"Country\": \"United States\", \"Latitude\": 40.99, \"Longitude\": -74.56, \"InNYC\": true, \"Month\": 7, \"Year\": 1952}, {\"dt\": \"1952-10-01T00:00:00\", \"AverageTemperature\": 9.439, \"AverageTemperatureUncertainty\": 0.204, \"City\": \"New York\", \"Country\": \"United States\", \"Latitude\": 40.99, \"Longitude\": -74.56, \"InNYC\": true, \"Month\": 10, \"Year\": 1952}, {\"dt\": \"1953-01-01T00:00:00\", \"AverageTemperature\": 0.1139999999999998, \"AverageTemperatureUncertainty\": 0.2019999999999999, \"City\": \"New York\", \"Country\": \"United States\", \"Latitude\": 40.99, \"Longitude\": -74.56, \"InNYC\": true, \"Month\": 1, \"Year\": 1953}, {\"dt\": \"1953-04-01T00:00:00\", \"AverageTemperature\": 9.141, \"AverageTemperatureUncertainty\": 0.244, \"City\": \"New York\", \"Country\": \"United States\", \"Latitude\": 40.99, \"Longitude\": -74.56, \"InNYC\": true, \"Month\": 4, \"Year\": 1953}, {\"dt\": \"1953-07-01T00:00:00\", \"AverageTemperature\": 22.746, \"AverageTemperatureUncertainty\": 0.196, \"City\": \"New York\", \"Country\": \"United States\", \"Latitude\": 40.99, \"Longitude\": -74.56, \"InNYC\": true, \"Month\": 7, \"Year\": 1953}, {\"dt\": \"1953-10-01T00:00:00\", \"AverageTemperature\": 12.341, \"AverageTemperatureUncertainty\": 0.205, \"City\": \"New York\", \"Country\": \"United States\", \"Latitude\": 40.99, \"Longitude\": -74.56, \"InNYC\": true, \"Month\": 10, \"Year\": 1953}, {\"dt\": \"1954-01-01T00:00:00\", \"AverageTemperature\": -3.727, \"AverageTemperatureUncertainty\": 0.238, \"City\": \"New York\", \"Country\": \"United States\", \"Latitude\": 40.99, \"Longitude\": -74.56, \"InNYC\": true, \"Month\": 1, \"Year\": 1954}, {\"dt\": \"1954-04-01T00:00:00\", \"AverageTemperature\": 10.454, \"AverageTemperatureUncertainty\": 0.225, \"City\": \"New York\", \"Country\": \"United States\", \"Latitude\": 40.99, \"Longitude\": -74.56, \"InNYC\": true, \"Month\": 4, \"Year\": 1954}, {\"dt\": \"1954-07-01T00:00:00\", \"AverageTemperature\": 22.163, \"AverageTemperatureUncertainty\": 0.2239999999999999, \"City\": \"New York\", \"Country\": \"United States\", \"Latitude\": 40.99, \"Longitude\": -74.56, \"InNYC\": true, \"Month\": 7, \"Year\": 1954}, {\"dt\": \"1954-10-01T00:00:00\", \"AverageTemperature\": 13.401, \"AverageTemperatureUncertainty\": 0.149, \"City\": \"New York\", \"Country\": \"United States\", \"Latitude\": 40.99, \"Longitude\": -74.56, \"InNYC\": true, \"Month\": 10, \"Year\": 1954}, {\"dt\": \"1955-01-01T00:00:00\", \"AverageTemperature\": -3.442, \"AverageTemperatureUncertainty\": 0.276, \"City\": \"New York\", \"Country\": \"United States\", \"Latitude\": 40.99, \"Longitude\": -74.56, \"InNYC\": true, \"Month\": 1, \"Year\": 1955}, {\"dt\": \"1955-04-01T00:00:00\", \"AverageTemperature\": 10.826, \"AverageTemperatureUncertainty\": 0.256, \"City\": \"New York\", \"Country\": \"United States\", \"Latitude\": 40.99, \"Longitude\": -74.56, \"InNYC\": true, \"Month\": 4, \"Year\": 1955}, {\"dt\": \"1955-07-01T00:00:00\", \"AverageTemperature\": 25.313, \"AverageTemperatureUncertainty\": 0.184, \"City\": \"New York\", \"Country\": \"United States\", \"Latitude\": 40.99, \"Longitude\": -74.56, \"InNYC\": true, \"Month\": 7, \"Year\": 1955}, {\"dt\": \"1955-10-01T00:00:00\", \"AverageTemperature\": 12.69, \"AverageTemperatureUncertainty\": 0.243, \"City\": \"New York\", \"Country\": \"United States\", \"Latitude\": 40.99, \"Longitude\": -74.56, \"InNYC\": true, \"Month\": 10, \"Year\": 1955}, {\"dt\": \"1956-01-01T00:00:00\", \"AverageTemperature\": -2.2030000000000003, \"AverageTemperatureUncertainty\": 0.218, \"City\": \"New York\", \"Country\": \"United States\", \"Latitude\": 40.99, \"Longitude\": -74.56, \"InNYC\": true, \"Month\": 1, \"Year\": 1956}, {\"dt\": \"1956-04-01T00:00:00\", \"AverageTemperature\": 7.218999999999999, \"AverageTemperatureUncertainty\": 0.267, \"City\": \"New York\", \"Country\": \"United States\", \"Latitude\": 40.99, \"Longitude\": -74.56, \"InNYC\": true, \"Month\": 4, \"Year\": 1956}, {\"dt\": \"1956-07-01T00:00:00\", \"AverageTemperature\": 20.977, \"AverageTemperatureUncertainty\": 0.1939999999999999, \"City\": \"New York\", \"Country\": \"United States\", \"Latitude\": 40.99, \"Longitude\": -74.56, \"InNYC\": true, \"Month\": 7, \"Year\": 1956}, {\"dt\": \"1956-10-01T00:00:00\", \"AverageTemperature\": 11.646999999999998, \"AverageTemperatureUncertainty\": 0.23, \"City\": \"New York\", \"Country\": \"United States\", \"Latitude\": 40.99, \"Longitude\": -74.56, \"InNYC\": true, \"Month\": 10, \"Year\": 1956}, {\"dt\": \"1957-01-01T00:00:00\", \"AverageTemperature\": -4.863, \"AverageTemperatureUncertainty\": 0.244, \"City\": \"New York\", \"Country\": \"United States\", \"Latitude\": 40.99, \"Longitude\": -74.56, \"InNYC\": true, \"Month\": 1, \"Year\": 1957}, {\"dt\": \"1957-04-01T00:00:00\", \"AverageTemperature\": 10.322, \"AverageTemperatureUncertainty\": 0.433, \"City\": \"New York\", \"Country\": \"United States\", \"Latitude\": 40.99, \"Longitude\": -74.56, \"InNYC\": true, \"Month\": 4, \"Year\": 1957}, {\"dt\": \"1957-07-01T00:00:00\", \"AverageTemperature\": 22.495, \"AverageTemperatureUncertainty\": 0.411, \"City\": \"New York\", \"Country\": \"United States\", \"Latitude\": 40.99, \"Longitude\": -74.56, \"InNYC\": true, \"Month\": 7, \"Year\": 1957}, {\"dt\": \"1957-10-01T00:00:00\", \"AverageTemperature\": 10.342, \"AverageTemperatureUncertainty\": 0.402, \"City\": \"New York\", \"Country\": \"United States\", \"Latitude\": 40.99, \"Longitude\": -74.56, \"InNYC\": true, \"Month\": 10, \"Year\": 1957}, {\"dt\": \"1958-01-01T00:00:00\", \"AverageTemperature\": -2.858, \"AverageTemperatureUncertainty\": 0.254, \"City\": \"New York\", \"Country\": \"United States\", \"Latitude\": 40.99, \"Longitude\": -74.56, \"InNYC\": true, \"Month\": 1, \"Year\": 1958}, {\"dt\": \"1958-04-01T00:00:00\", \"AverageTemperature\": 9.897, \"AverageTemperatureUncertainty\": 0.254, \"City\": \"New York\", \"Country\": \"United States\", \"Latitude\": 40.99, \"Longitude\": -74.56, \"InNYC\": true, \"Month\": 4, \"Year\": 1958}, {\"dt\": \"1958-07-01T00:00:00\", \"AverageTemperature\": 22.996, \"AverageTemperatureUncertainty\": 0.435, \"City\": \"New York\", \"Country\": \"United States\", \"Latitude\": 40.99, \"Longitude\": -74.56, \"InNYC\": true, \"Month\": 7, \"Year\": 1958}, {\"dt\": \"1958-10-01T00:00:00\", \"AverageTemperature\": 10.384, \"AverageTemperatureUncertainty\": 0.207, \"City\": \"New York\", \"Country\": \"United States\", \"Latitude\": 40.99, \"Longitude\": -74.56, \"InNYC\": true, \"Month\": 10, \"Year\": 1958}, {\"dt\": \"1959-01-01T00:00:00\", \"AverageTemperature\": -3.023, \"AverageTemperatureUncertainty\": 0.3929999999999999, \"City\": \"New York\", \"Country\": \"United States\", \"Latitude\": 40.99, \"Longitude\": -74.56, \"InNYC\": true, \"Month\": 1, \"Year\": 1959}, {\"dt\": \"1959-04-01T00:00:00\", \"AverageTemperature\": 10.352, \"AverageTemperatureUncertainty\": 0.374, \"City\": \"New York\", \"Country\": \"United States\", \"Latitude\": 40.99, \"Longitude\": -74.56, \"InNYC\": true, \"Month\": 4, \"Year\": 1959}, {\"dt\": \"1959-07-01T00:00:00\", \"AverageTemperature\": 23.06600000000001, \"AverageTemperatureUncertainty\": 0.291, \"City\": \"New York\", \"Country\": \"United States\", \"Latitude\": 40.99, \"Longitude\": -74.56, \"InNYC\": true, \"Month\": 7, \"Year\": 1959}, {\"dt\": \"1959-10-01T00:00:00\", \"AverageTemperature\": 12.914, \"AverageTemperatureUncertainty\": 0.295, \"City\": \"New York\", \"Country\": \"United States\", \"Latitude\": 40.99, \"Longitude\": -74.56, \"InNYC\": true, \"Month\": 10, \"Year\": 1959}, {\"dt\": \"1960-01-01T00:00:00\", \"AverageTemperature\": -1.5930000000000002, \"AverageTemperatureUncertainty\": 0.155, \"City\": \"New York\", \"Country\": \"United States\", \"Latitude\": 40.99, \"Longitude\": -74.56, \"InNYC\": true, \"Month\": 1, \"Year\": 1960}, {\"dt\": \"1960-04-01T00:00:00\", \"AverageTemperature\": 11.24, \"AverageTemperatureUncertainty\": 0.271, \"City\": \"New York\", \"Country\": \"United States\", \"Latitude\": 40.99, \"Longitude\": -74.56, \"InNYC\": true, \"Month\": 4, \"Year\": 1960}, {\"dt\": \"1960-07-01T00:00:00\", \"AverageTemperature\": 21.431, \"AverageTemperatureUncertainty\": 0.185, \"City\": \"New York\", \"Country\": \"United States\", \"Latitude\": 40.99, \"Longitude\": -74.56, \"InNYC\": true, \"Month\": 7, \"Year\": 1960}, {\"dt\": \"1960-10-01T00:00:00\", \"AverageTemperature\": 10.973, \"AverageTemperatureUncertainty\": 0.151, \"City\": \"New York\", \"Country\": \"United States\", \"Latitude\": 40.99, \"Longitude\": -74.56, \"InNYC\": true, \"Month\": 10, \"Year\": 1960}]}}, {\"mode\": \"vega-lite\"});\n",
       "</script>"
      ],
      "text/plain": [
       "alt.Chart(...)"
      ]
     },
     "execution_count": 1,
     "metadata": {},
     "output_type": "execute_result"
    }
   ],
   "source": [
    "chart = (alt.Chart(period)\n",
    "           .mark_line()\n",
    "           .encode(x = \"dt\",\n",
    "                   y = \"AverageTemperature\"))\n",
    "chart"
   ]
  },
  {
   "cell_type": "markdown",
   "id": "de310e4c",
   "metadata": {},
   "source": [
    "We can instead graph different properties."
   ]
  },
  {
   "cell_type": "markdown",
   "id": "c9c0281d",
   "metadata": {
    "lines_to_next_cell": 2
   },
   "source": [
    "* Chart - Over the last 10 years\n",
    "* Mark - Line graph\n",
    "* Encode - date and temperature month"
   ]
  },
  {
   "cell_type": "code",
   "execution_count": 21,
   "id": "ede75423",
   "metadata": {
    "execution": {
     "iopub.execute_input": "2021-05-27T16:07:04.530324Z",
     "iopub.status.busy": "2021-05-27T16:07:04.529478Z",
     "iopub.status.idle": "2021-05-27T16:07:04.533178Z",
     "shell.execute_reply": "2021-05-27T16:07:04.533947Z"
    }
   },
   "outputs": [
    {
     "data": {
      "text/html": [
       "\n",
       "<div id=\"altair-viz-59c52cd959824587a7e6fe2b94ae5ae6\"></div>\n",
       "<script type=\"text/javascript\">\n",
       "  (function(spec, embedOpt){\n",
       "    let outputDiv = document.currentScript.previousElementSibling;\n",
       "    if (outputDiv.id !== \"altair-viz-59c52cd959824587a7e6fe2b94ae5ae6\") {\n",
       "      outputDiv = document.getElementById(\"altair-viz-59c52cd959824587a7e6fe2b94ae5ae6\");\n",
       "    }\n",
       "    const paths = {\n",
       "      \"vega\": \"https://cdn.jsdelivr.net/npm//vega@5?noext\",\n",
       "      \"vega-lib\": \"https://cdn.jsdelivr.net/npm//vega-lib?noext\",\n",
       "      \"vega-lite\": \"https://cdn.jsdelivr.net/npm//vega-lite@4.8.1?noext\",\n",
       "      \"vega-embed\": \"https://cdn.jsdelivr.net/npm//vega-embed@6?noext\",\n",
       "    };\n",
       "\n",
       "    function loadScript(lib) {\n",
       "      return new Promise(function(resolve, reject) {\n",
       "        var s = document.createElement('script');\n",
       "        s.src = paths[lib];\n",
       "        s.async = true;\n",
       "        s.onload = () => resolve(paths[lib]);\n",
       "        s.onerror = () => reject(`Error loading script: ${paths[lib]}`);\n",
       "        document.getElementsByTagName(\"head\")[0].appendChild(s);\n",
       "      });\n",
       "    }\n",
       "\n",
       "    function showError(err) {\n",
       "      outputDiv.innerHTML = `<div class=\"error\" style=\"color:red;\">${err}</div>`;\n",
       "      throw err;\n",
       "    }\n",
       "\n",
       "    function displayChart(vegaEmbed) {\n",
       "      vegaEmbed(outputDiv, spec, embedOpt)\n",
       "        .catch(err => showError(`Javascript Error: ${err.message}<br>This usually means there's a typo in your chart specification. See the javascript console for the full traceback.`));\n",
       "    }\n",
       "\n",
       "    if(typeof define === \"function\" && define.amd) {\n",
       "      requirejs.config({paths});\n",
       "      require([\"vega-embed\"], displayChart, err => showError(`Error loading script: ${err.message}`));\n",
       "    } else if (typeof vegaEmbed === \"function\") {\n",
       "      displayChart(vegaEmbed);\n",
       "    } else {\n",
       "      loadScript(\"vega\")\n",
       "        .then(() => loadScript(\"vega-lite\"))\n",
       "        .then(() => loadScript(\"vega-embed\"))\n",
       "        .catch(showError)\n",
       "        .then(() => displayChart(vegaEmbed));\n",
       "    }\n",
       "  })({\"config\": {\"view\": {\"continuousWidth\": 400, \"continuousHeight\": 300}}, \"data\": {\"name\": \"data-dd6761c02bb98a61b23f241861607f54\"}, \"mark\": \"line\", \"encoding\": {\"color\": {\"type\": \"nominal\", \"field\": \"Month\"}, \"x\": {\"type\": \"quantitative\", \"field\": \"Year\"}, \"y\": {\"type\": \"quantitative\", \"field\": \"AverageTemperature\"}}, \"$schema\": \"https://vega.github.io/schema/vega-lite/v4.8.1.json\", \"datasets\": {\"data-dd6761c02bb98a61b23f241861607f54\": [{\"dt\": \"1950-01-01T00:00:00\", \"AverageTemperature\": 2.32, \"AverageTemperatureUncertainty\": 0.253, \"City\": \"New York\", \"Country\": \"United States\", \"Latitude\": 40.99, \"Longitude\": -74.56, \"InNYC\": true, \"Month\": 1, \"Year\": 1950}, {\"dt\": \"1950-04-01T00:00:00\", \"AverageTemperature\": 7.336, \"AverageTemperatureUncertainty\": 0.261, \"City\": \"New York\", \"Country\": \"United States\", \"Latitude\": 40.99, \"Longitude\": -74.56, \"InNYC\": true, \"Month\": 4, \"Year\": 1950}, {\"dt\": \"1950-07-01T00:00:00\", \"AverageTemperature\": 21.613000000000003, \"AverageTemperatureUncertainty\": 0.133, \"City\": \"New York\", \"Country\": \"United States\", \"Latitude\": 40.99, \"Longitude\": -74.56, \"InNYC\": true, \"Month\": 7, \"Year\": 1950}, {\"dt\": \"1950-10-01T00:00:00\", \"AverageTemperature\": 12.633, \"AverageTemperatureUncertainty\": 0.211, \"City\": \"New York\", \"Country\": \"United States\", \"Latitude\": 40.99, \"Longitude\": -74.56, \"InNYC\": true, \"Month\": 10, \"Year\": 1950}, {\"dt\": \"1951-01-01T00:00:00\", \"AverageTemperature\": -0.7229999999999999, \"AverageTemperatureUncertainty\": 0.2789999999999999, \"City\": \"New York\", \"Country\": \"United States\", \"Latitude\": 40.99, \"Longitude\": -74.56, \"InNYC\": true, \"Month\": 1, \"Year\": 1951}, {\"dt\": \"1951-04-01T00:00:00\", \"AverageTemperature\": 9.576, \"AverageTemperatureUncertainty\": 0.265, \"City\": \"New York\", \"Country\": \"United States\", \"Latitude\": 40.99, \"Longitude\": -74.56, \"InNYC\": true, \"Month\": 4, \"Year\": 1951}, {\"dt\": \"1951-07-01T00:00:00\", \"AverageTemperature\": 22.364, \"AverageTemperatureUncertainty\": 0.26, \"City\": \"New York\", \"Country\": \"United States\", \"Latitude\": 40.99, \"Longitude\": -74.56, \"InNYC\": true, \"Month\": 7, \"Year\": 1951}, {\"dt\": \"1951-10-01T00:00:00\", \"AverageTemperature\": 12.236999999999998, \"AverageTemperatureUncertainty\": 0.208, \"City\": \"New York\", \"Country\": \"United States\", \"Latitude\": 40.99, \"Longitude\": -74.56, \"InNYC\": true, \"Month\": 10, \"Year\": 1951}, {\"dt\": \"1952-01-01T00:00:00\", \"AverageTemperature\": -0.5659999999999998, \"AverageTemperatureUncertainty\": 0.162, \"City\": \"New York\", \"Country\": \"United States\", \"Latitude\": 40.99, \"Longitude\": -74.56, \"InNYC\": true, \"Month\": 1, \"Year\": 1952}, {\"dt\": \"1952-04-01T00:00:00\", \"AverageTemperature\": 10.661, \"AverageTemperatureUncertainty\": 0.186, \"City\": \"New York\", \"Country\": \"United States\", \"Latitude\": 40.99, \"Longitude\": -74.56, \"InNYC\": true, \"Month\": 4, \"Year\": 1952}, {\"dt\": \"1952-07-01T00:00:00\", \"AverageTemperature\": 23.964, \"AverageTemperatureUncertainty\": 0.264, \"City\": \"New York\", \"Country\": \"United States\", \"Latitude\": 40.99, \"Longitude\": -74.56, \"InNYC\": true, \"Month\": 7, \"Year\": 1952}, {\"dt\": \"1952-10-01T00:00:00\", \"AverageTemperature\": 9.439, \"AverageTemperatureUncertainty\": 0.204, \"City\": \"New York\", \"Country\": \"United States\", \"Latitude\": 40.99, \"Longitude\": -74.56, \"InNYC\": true, \"Month\": 10, \"Year\": 1952}, {\"dt\": \"1953-01-01T00:00:00\", \"AverageTemperature\": 0.1139999999999998, \"AverageTemperatureUncertainty\": 0.2019999999999999, \"City\": \"New York\", \"Country\": \"United States\", \"Latitude\": 40.99, \"Longitude\": -74.56, \"InNYC\": true, \"Month\": 1, \"Year\": 1953}, {\"dt\": \"1953-04-01T00:00:00\", \"AverageTemperature\": 9.141, \"AverageTemperatureUncertainty\": 0.244, \"City\": \"New York\", \"Country\": \"United States\", \"Latitude\": 40.99, \"Longitude\": -74.56, \"InNYC\": true, \"Month\": 4, \"Year\": 1953}, {\"dt\": \"1953-07-01T00:00:00\", \"AverageTemperature\": 22.746, \"AverageTemperatureUncertainty\": 0.196, \"City\": \"New York\", \"Country\": \"United States\", \"Latitude\": 40.99, \"Longitude\": -74.56, \"InNYC\": true, \"Month\": 7, \"Year\": 1953}, {\"dt\": \"1953-10-01T00:00:00\", \"AverageTemperature\": 12.341, \"AverageTemperatureUncertainty\": 0.205, \"City\": \"New York\", \"Country\": \"United States\", \"Latitude\": 40.99, \"Longitude\": -74.56, \"InNYC\": true, \"Month\": 10, \"Year\": 1953}, {\"dt\": \"1954-01-01T00:00:00\", \"AverageTemperature\": -3.727, \"AverageTemperatureUncertainty\": 0.238, \"City\": \"New York\", \"Country\": \"United States\", \"Latitude\": 40.99, \"Longitude\": -74.56, \"InNYC\": true, \"Month\": 1, \"Year\": 1954}, {\"dt\": \"1954-04-01T00:00:00\", \"AverageTemperature\": 10.454, \"AverageTemperatureUncertainty\": 0.225, \"City\": \"New York\", \"Country\": \"United States\", \"Latitude\": 40.99, \"Longitude\": -74.56, \"InNYC\": true, \"Month\": 4, \"Year\": 1954}, {\"dt\": \"1954-07-01T00:00:00\", \"AverageTemperature\": 22.163, \"AverageTemperatureUncertainty\": 0.2239999999999999, \"City\": \"New York\", \"Country\": \"United States\", \"Latitude\": 40.99, \"Longitude\": -74.56, \"InNYC\": true, \"Month\": 7, \"Year\": 1954}, {\"dt\": \"1954-10-01T00:00:00\", \"AverageTemperature\": 13.401, \"AverageTemperatureUncertainty\": 0.149, \"City\": \"New York\", \"Country\": \"United States\", \"Latitude\": 40.99, \"Longitude\": -74.56, \"InNYC\": true, \"Month\": 10, \"Year\": 1954}, {\"dt\": \"1955-01-01T00:00:00\", \"AverageTemperature\": -3.442, \"AverageTemperatureUncertainty\": 0.276, \"City\": \"New York\", \"Country\": \"United States\", \"Latitude\": 40.99, \"Longitude\": -74.56, \"InNYC\": true, \"Month\": 1, \"Year\": 1955}, {\"dt\": \"1955-04-01T00:00:00\", \"AverageTemperature\": 10.826, \"AverageTemperatureUncertainty\": 0.256, \"City\": \"New York\", \"Country\": \"United States\", \"Latitude\": 40.99, \"Longitude\": -74.56, \"InNYC\": true, \"Month\": 4, \"Year\": 1955}, {\"dt\": \"1955-07-01T00:00:00\", \"AverageTemperature\": 25.313, \"AverageTemperatureUncertainty\": 0.184, \"City\": \"New York\", \"Country\": \"United States\", \"Latitude\": 40.99, \"Longitude\": -74.56, \"InNYC\": true, \"Month\": 7, \"Year\": 1955}, {\"dt\": \"1955-10-01T00:00:00\", \"AverageTemperature\": 12.69, \"AverageTemperatureUncertainty\": 0.243, \"City\": \"New York\", \"Country\": \"United States\", \"Latitude\": 40.99, \"Longitude\": -74.56, \"InNYC\": true, \"Month\": 10, \"Year\": 1955}, {\"dt\": \"1956-01-01T00:00:00\", \"AverageTemperature\": -2.2030000000000003, \"AverageTemperatureUncertainty\": 0.218, \"City\": \"New York\", \"Country\": \"United States\", \"Latitude\": 40.99, \"Longitude\": -74.56, \"InNYC\": true, \"Month\": 1, \"Year\": 1956}, {\"dt\": \"1956-04-01T00:00:00\", \"AverageTemperature\": 7.218999999999999, \"AverageTemperatureUncertainty\": 0.267, \"City\": \"New York\", \"Country\": \"United States\", \"Latitude\": 40.99, \"Longitude\": -74.56, \"InNYC\": true, \"Month\": 4, \"Year\": 1956}, {\"dt\": \"1956-07-01T00:00:00\", \"AverageTemperature\": 20.977, \"AverageTemperatureUncertainty\": 0.1939999999999999, \"City\": \"New York\", \"Country\": \"United States\", \"Latitude\": 40.99, \"Longitude\": -74.56, \"InNYC\": true, \"Month\": 7, \"Year\": 1956}, {\"dt\": \"1956-10-01T00:00:00\", \"AverageTemperature\": 11.646999999999998, \"AverageTemperatureUncertainty\": 0.23, \"City\": \"New York\", \"Country\": \"United States\", \"Latitude\": 40.99, \"Longitude\": -74.56, \"InNYC\": true, \"Month\": 10, \"Year\": 1956}, {\"dt\": \"1957-01-01T00:00:00\", \"AverageTemperature\": -4.863, \"AverageTemperatureUncertainty\": 0.244, \"City\": \"New York\", \"Country\": \"United States\", \"Latitude\": 40.99, \"Longitude\": -74.56, \"InNYC\": true, \"Month\": 1, \"Year\": 1957}, {\"dt\": \"1957-04-01T00:00:00\", \"AverageTemperature\": 10.322, \"AverageTemperatureUncertainty\": 0.433, \"City\": \"New York\", \"Country\": \"United States\", \"Latitude\": 40.99, \"Longitude\": -74.56, \"InNYC\": true, \"Month\": 4, \"Year\": 1957}, {\"dt\": \"1957-07-01T00:00:00\", \"AverageTemperature\": 22.495, \"AverageTemperatureUncertainty\": 0.411, \"City\": \"New York\", \"Country\": \"United States\", \"Latitude\": 40.99, \"Longitude\": -74.56, \"InNYC\": true, \"Month\": 7, \"Year\": 1957}, {\"dt\": \"1957-10-01T00:00:00\", \"AverageTemperature\": 10.342, \"AverageTemperatureUncertainty\": 0.402, \"City\": \"New York\", \"Country\": \"United States\", \"Latitude\": 40.99, \"Longitude\": -74.56, \"InNYC\": true, \"Month\": 10, \"Year\": 1957}, {\"dt\": \"1958-01-01T00:00:00\", \"AverageTemperature\": -2.858, \"AverageTemperatureUncertainty\": 0.254, \"City\": \"New York\", \"Country\": \"United States\", \"Latitude\": 40.99, \"Longitude\": -74.56, \"InNYC\": true, \"Month\": 1, \"Year\": 1958}, {\"dt\": \"1958-04-01T00:00:00\", \"AverageTemperature\": 9.897, \"AverageTemperatureUncertainty\": 0.254, \"City\": \"New York\", \"Country\": \"United States\", \"Latitude\": 40.99, \"Longitude\": -74.56, \"InNYC\": true, \"Month\": 4, \"Year\": 1958}, {\"dt\": \"1958-07-01T00:00:00\", \"AverageTemperature\": 22.996, \"AverageTemperatureUncertainty\": 0.435, \"City\": \"New York\", \"Country\": \"United States\", \"Latitude\": 40.99, \"Longitude\": -74.56, \"InNYC\": true, \"Month\": 7, \"Year\": 1958}, {\"dt\": \"1958-10-01T00:00:00\", \"AverageTemperature\": 10.384, \"AverageTemperatureUncertainty\": 0.207, \"City\": \"New York\", \"Country\": \"United States\", \"Latitude\": 40.99, \"Longitude\": -74.56, \"InNYC\": true, \"Month\": 10, \"Year\": 1958}, {\"dt\": \"1959-01-01T00:00:00\", \"AverageTemperature\": -3.023, \"AverageTemperatureUncertainty\": 0.3929999999999999, \"City\": \"New York\", \"Country\": \"United States\", \"Latitude\": 40.99, \"Longitude\": -74.56, \"InNYC\": true, \"Month\": 1, \"Year\": 1959}, {\"dt\": \"1959-04-01T00:00:00\", \"AverageTemperature\": 10.352, \"AverageTemperatureUncertainty\": 0.374, \"City\": \"New York\", \"Country\": \"United States\", \"Latitude\": 40.99, \"Longitude\": -74.56, \"InNYC\": true, \"Month\": 4, \"Year\": 1959}, {\"dt\": \"1959-07-01T00:00:00\", \"AverageTemperature\": 23.06600000000001, \"AverageTemperatureUncertainty\": 0.291, \"City\": \"New York\", \"Country\": \"United States\", \"Latitude\": 40.99, \"Longitude\": -74.56, \"InNYC\": true, \"Month\": 7, \"Year\": 1959}, {\"dt\": \"1959-10-01T00:00:00\", \"AverageTemperature\": 12.914, \"AverageTemperatureUncertainty\": 0.295, \"City\": \"New York\", \"Country\": \"United States\", \"Latitude\": 40.99, \"Longitude\": -74.56, \"InNYC\": true, \"Month\": 10, \"Year\": 1959}, {\"dt\": \"1960-01-01T00:00:00\", \"AverageTemperature\": -1.5930000000000002, \"AverageTemperatureUncertainty\": 0.155, \"City\": \"New York\", \"Country\": \"United States\", \"Latitude\": 40.99, \"Longitude\": -74.56, \"InNYC\": true, \"Month\": 1, \"Year\": 1960}, {\"dt\": \"1960-04-01T00:00:00\", \"AverageTemperature\": 11.24, \"AverageTemperatureUncertainty\": 0.271, \"City\": \"New York\", \"Country\": \"United States\", \"Latitude\": 40.99, \"Longitude\": -74.56, \"InNYC\": true, \"Month\": 4, \"Year\": 1960}, {\"dt\": \"1960-07-01T00:00:00\", \"AverageTemperature\": 21.431, \"AverageTemperatureUncertainty\": 0.185, \"City\": \"New York\", \"Country\": \"United States\", \"Latitude\": 40.99, \"Longitude\": -74.56, \"InNYC\": true, \"Month\": 7, \"Year\": 1960}, {\"dt\": \"1960-10-01T00:00:00\", \"AverageTemperature\": 10.973, \"AverageTemperatureUncertainty\": 0.151, \"City\": \"New York\", \"Country\": \"United States\", \"Latitude\": 40.99, \"Longitude\": -74.56, \"InNYC\": true, \"Month\": 10, \"Year\": 1960}]}}, {\"mode\": \"vega-lite\"});\n",
       "</script>"
      ],
      "text/plain": [
       "alt.Chart(...)"
      ]
     },
     "execution_count": 1,
     "metadata": {},
     "output_type": "execute_result"
    }
   ],
   "source": [
    "chart = (alt.Chart(period)\n",
    "            .mark_line()\n",
    "            .encode(x = \"Year\",\n",
    "                    y = \"AverageTemperature\",\n",
    "                    color = \"Month:N\"))\n",
    "chart"
   ]
  },
  {
   "cell_type": "markdown",
   "id": "26e7f2e7",
   "metadata": {},
   "source": [
    "How does the temperature vary over a 200 year period?"
   ]
  },
  {
   "cell_type": "code",
   "execution_count": 22,
   "id": "cf4bc211",
   "metadata": {
    "execution": {
     "iopub.execute_input": "2021-05-27T16:07:04.540189Z",
     "iopub.status.busy": "2021-05-27T16:07:04.539338Z",
     "iopub.status.idle": "2021-05-27T16:07:04.563932Z",
     "shell.execute_reply": "2021-05-27T16:07:04.564673Z"
    }
   },
   "outputs": [
    {
     "data": {
      "text/html": [
       "<div>\n",
       "<style scoped>\n",
       "    .dataframe tbody tr th:only-of-type {\n",
       "        vertical-align: middle;\n",
       "    }\n",
       "\n",
       "    .dataframe tbody tr th {\n",
       "        vertical-align: top;\n",
       "    }\n",
       "\n",
       "    .dataframe thead th {\n",
       "        text-align: right;\n",
       "    }\n",
       "</style>\n",
       "<table border=\"1\" class=\"dataframe\">\n",
       "  <thead>\n",
       "    <tr style=\"text-align: right;\">\n",
       "      <th></th>\n",
       "      <th>dt</th>\n",
       "      <th>AverageTemperature</th>\n",
       "      <th>AverageTemperatureUncertainty</th>\n",
       "      <th>City</th>\n",
       "      <th>Country</th>\n",
       "      <th>Latitude</th>\n",
       "      <th>Longitude</th>\n",
       "      <th>InNYC</th>\n",
       "      <th>Month</th>\n",
       "      <th>Year</th>\n",
       "    </tr>\n",
       "  </thead>\n",
       "  <tbody>\n",
       "    <tr>\n",
       "      <th>5204647</th>\n",
       "      <td>1800-01-01</td>\n",
       "      <td>-3.592</td>\n",
       "      <td>2.199</td>\n",
       "      <td>New York</td>\n",
       "      <td>United States</td>\n",
       "      <td>40.99</td>\n",
       "      <td>-74.56</td>\n",
       "      <td>True</td>\n",
       "      <td>1</td>\n",
       "      <td>1800</td>\n",
       "    </tr>\n",
       "    <tr>\n",
       "      <th>5204650</th>\n",
       "      <td>1800-04-01</td>\n",
       "      <td>10.463</td>\n",
       "      <td>2.164</td>\n",
       "      <td>New York</td>\n",
       "      <td>United States</td>\n",
       "      <td>40.99</td>\n",
       "      <td>-74.56</td>\n",
       "      <td>True</td>\n",
       "      <td>4</td>\n",
       "      <td>1800</td>\n",
       "    </tr>\n",
       "    <tr>\n",
       "      <th>5204653</th>\n",
       "      <td>1800-07-01</td>\n",
       "      <td>23.297</td>\n",
       "      <td>2.179</td>\n",
       "      <td>New York</td>\n",
       "      <td>United States</td>\n",
       "      <td>40.99</td>\n",
       "      <td>-74.56</td>\n",
       "      <td>True</td>\n",
       "      <td>7</td>\n",
       "      <td>1800</td>\n",
       "    </tr>\n",
       "    <tr>\n",
       "      <th>5204656</th>\n",
       "      <td>1800-10-01</td>\n",
       "      <td>10.432</td>\n",
       "      <td>3.451</td>\n",
       "      <td>New York</td>\n",
       "      <td>United States</td>\n",
       "      <td>40.99</td>\n",
       "      <td>-74.56</td>\n",
       "      <td>True</td>\n",
       "      <td>10</td>\n",
       "      <td>1800</td>\n",
       "    </tr>\n",
       "    <tr>\n",
       "      <th>5204659</th>\n",
       "      <td>1801-01-01</td>\n",
       "      <td>-3.215</td>\n",
       "      <td>2.055</td>\n",
       "      <td>New York</td>\n",
       "      <td>United States</td>\n",
       "      <td>40.99</td>\n",
       "      <td>-74.56</td>\n",
       "      <td>True</td>\n",
       "      <td>1</td>\n",
       "      <td>1801</td>\n",
       "    </tr>\n",
       "    <tr>\n",
       "      <th>...</th>\n",
       "      <td>...</td>\n",
       "      <td>...</td>\n",
       "      <td>...</td>\n",
       "      <td>...</td>\n",
       "      <td>...</td>\n",
       "      <td>...</td>\n",
       "      <td>...</td>\n",
       "      <td>...</td>\n",
       "      <td>...</td>\n",
       "      <td>...</td>\n",
       "    </tr>\n",
       "    <tr>\n",
       "      <th>5207044</th>\n",
       "      <td>1999-10-01</td>\n",
       "      <td>10.438</td>\n",
       "      <td>0.194</td>\n",
       "      <td>New York</td>\n",
       "      <td>United States</td>\n",
       "      <td>40.99</td>\n",
       "      <td>-74.56</td>\n",
       "      <td>True</td>\n",
       "      <td>10</td>\n",
       "      <td>1999</td>\n",
       "    </tr>\n",
       "    <tr>\n",
       "      <th>5207047</th>\n",
       "      <td>2000-01-01</td>\n",
       "      <td>-3.168</td>\n",
       "      <td>0.238</td>\n",
       "      <td>New York</td>\n",
       "      <td>United States</td>\n",
       "      <td>40.99</td>\n",
       "      <td>-74.56</td>\n",
       "      <td>True</td>\n",
       "      <td>1</td>\n",
       "      <td>2000</td>\n",
       "    </tr>\n",
       "    <tr>\n",
       "      <th>5207050</th>\n",
       "      <td>2000-04-01</td>\n",
       "      <td>8.897</td>\n",
       "      <td>0.190</td>\n",
       "      <td>New York</td>\n",
       "      <td>United States</td>\n",
       "      <td>40.99</td>\n",
       "      <td>-74.56</td>\n",
       "      <td>True</td>\n",
       "      <td>4</td>\n",
       "      <td>2000</td>\n",
       "    </tr>\n",
       "    <tr>\n",
       "      <th>5207053</th>\n",
       "      <td>2000-07-01</td>\n",
       "      <td>20.727</td>\n",
       "      <td>0.407</td>\n",
       "      <td>New York</td>\n",
       "      <td>United States</td>\n",
       "      <td>40.99</td>\n",
       "      <td>-74.56</td>\n",
       "      <td>True</td>\n",
       "      <td>7</td>\n",
       "      <td>2000</td>\n",
       "    </tr>\n",
       "    <tr>\n",
       "      <th>5207056</th>\n",
       "      <td>2000-10-01</td>\n",
       "      <td>11.323</td>\n",
       "      <td>0.273</td>\n",
       "      <td>New York</td>\n",
       "      <td>United States</td>\n",
       "      <td>40.99</td>\n",
       "      <td>-74.56</td>\n",
       "      <td>True</td>\n",
       "      <td>10</td>\n",
       "      <td>2000</td>\n",
       "    </tr>\n",
       "  </tbody>\n",
       "</table>\n",
       "<p>804 rows × 10 columns</p>\n",
       "</div>"
      ],
      "text/plain": [
       "                dt  AverageTemperature  AverageTemperatureUncertainty  \\\n",
       "5204647 1800-01-01              -3.592                          2.199   \n",
       "5204650 1800-04-01              10.463                          2.164   \n",
       "5204653 1800-07-01              23.297                          2.179   \n",
       "5204656 1800-10-01              10.432                          3.451   \n",
       "5204659 1801-01-01              -3.215                          2.055   \n",
       "...            ...                 ...                            ...   \n",
       "5207044 1999-10-01              10.438                          0.194   \n",
       "5207047 2000-01-01              -3.168                          0.238   \n",
       "5207050 2000-04-01               8.897                          0.190   \n",
       "5207053 2000-07-01              20.727                          0.407   \n",
       "5207056 2000-10-01              11.323                          0.273   \n",
       "\n",
       "             City        Country  Latitude  Longitude  InNYC  Month  Year  \n",
       "5204647  New York  United States     40.99     -74.56   True      1  1800  \n",
       "5204650  New York  United States     40.99     -74.56   True      4  1800  \n",
       "5204653  New York  United States     40.99     -74.56   True      7  1800  \n",
       "5204656  New York  United States     40.99     -74.56   True     10  1800  \n",
       "5204659  New York  United States     40.99     -74.56   True      1  1801  \n",
       "...           ...            ...       ...        ...    ...    ...   ...  \n",
       "5207044  New York  United States     40.99     -74.56   True     10  1999  \n",
       "5207047  New York  United States     40.99     -74.56   True      1  2000  \n",
       "5207050  New York  United States     40.99     -74.56   True      4  2000  \n",
       "5207053  New York  United States     40.99     -74.56   True      7  2000  \n",
       "5207056  New York  United States     40.99     -74.56   True     10  2000  \n",
       "\n",
       "[804 rows x 10 columns]"
      ]
     },
     "execution_count": 1,
     "metadata": {},
     "output_type": "execute_result"
    }
   ],
   "source": [
    "filter = df[\"InNYC\"] & (df[\"Year\"] >= 1800) & (df[\"Year\"] <= 2000)\n",
    "period = df.loc[filter]\n",
    "period"
   ]
  },
  {
   "cell_type": "markdown",
   "id": "26122487",
   "metadata": {},
   "source": [
    "How does the temperature vary over a 5 year period?"
   ]
  },
  {
   "cell_type": "code",
   "execution_count": 23,
   "id": "5e27ddb0",
   "metadata": {
    "execution": {
     "iopub.execute_input": "2021-05-27T16:07:04.572792Z",
     "iopub.status.busy": "2021-05-27T16:07:04.571916Z",
     "iopub.status.idle": "2021-05-27T16:07:04.599443Z",
     "shell.execute_reply": "2021-05-27T16:07:04.600156Z"
    },
    "lines_to_next_cell": 2
   },
   "outputs": [
    {
     "data": {
      "text/html": [
       "\n",
       "<div id=\"altair-viz-fdefeb29a9e440f8afdb7245a160cfea\"></div>\n",
       "<script type=\"text/javascript\">\n",
       "  (function(spec, embedOpt){\n",
       "    let outputDiv = document.currentScript.previousElementSibling;\n",
       "    if (outputDiv.id !== \"altair-viz-fdefeb29a9e440f8afdb7245a160cfea\") {\n",
       "      outputDiv = document.getElementById(\"altair-viz-fdefeb29a9e440f8afdb7245a160cfea\");\n",
       "    }\n",
       "    const paths = {\n",
       "      \"vega\": \"https://cdn.jsdelivr.net/npm//vega@5?noext\",\n",
       "      \"vega-lib\": \"https://cdn.jsdelivr.net/npm//vega-lib?noext\",\n",
       "      \"vega-lite\": \"https://cdn.jsdelivr.net/npm//vega-lite@4.8.1?noext\",\n",
       "      \"vega-embed\": \"https://cdn.jsdelivr.net/npm//vega-embed@6?noext\",\n",
       "    };\n",
       "\n",
       "    function loadScript(lib) {\n",
       "      return new Promise(function(resolve, reject) {\n",
       "        var s = document.createElement('script');\n",
       "        s.src = paths[lib];\n",
       "        s.async = true;\n",
       "        s.onload = () => resolve(paths[lib]);\n",
       "        s.onerror = () => reject(`Error loading script: ${paths[lib]}`);\n",
       "        document.getElementsByTagName(\"head\")[0].appendChild(s);\n",
       "      });\n",
       "    }\n",
       "\n",
       "    function showError(err) {\n",
       "      outputDiv.innerHTML = `<div class=\"error\" style=\"color:red;\">${err}</div>`;\n",
       "      throw err;\n",
       "    }\n",
       "\n",
       "    function displayChart(vegaEmbed) {\n",
       "      vegaEmbed(outputDiv, spec, embedOpt)\n",
       "        .catch(err => showError(`Javascript Error: ${err.message}<br>This usually means there's a typo in your chart specification. See the javascript console for the full traceback.`));\n",
       "    }\n",
       "\n",
       "    if(typeof define === \"function\" && define.amd) {\n",
       "      requirejs.config({paths});\n",
       "      require([\"vega-embed\"], displayChart, err => showError(`Error loading script: ${err.message}`));\n",
       "    } else if (typeof vegaEmbed === \"function\") {\n",
       "      displayChart(vegaEmbed);\n",
       "    } else {\n",
       "      loadScript(\"vega\")\n",
       "        .then(() => loadScript(\"vega-lite\"))\n",
       "        .then(() => loadScript(\"vega-embed\"))\n",
       "        .catch(showError)\n",
       "        .then(() => displayChart(vegaEmbed));\n",
       "    }\n",
       "  })({\"config\": {\"view\": {\"continuousWidth\": 400, \"continuousHeight\": 300}}, \"data\": {\"name\": \"data-ec508f16326b88af13b64bfb64a361f5\"}, \"mark\": \"line\", \"encoding\": {\"color\": {\"type\": \"nominal\", \"field\": \"City\"}, \"strokeDash\": {\"type\": \"nominal\", \"field\": \"City\"}, \"x\": {\"type\": \"temporal\", \"field\": \"dt\"}, \"y\": {\"type\": \"quantitative\", \"field\": \"AverageTemperature\"}}, \"$schema\": \"https://vega.github.io/schema/vega-lite/v4.8.1.json\", \"datasets\": {\"data-ec508f16326b88af13b64bfb64a361f5\": [{\"dt\": \"1950-01-01T00:00:00\", \"AverageTemperature\": -0.6100000000000003, \"AverageTemperatureUncertainty\": 0.152, \"City\": \"Detroit\", \"Country\": \"United States\", \"Latitude\": 42.59, \"Longitude\": -82.91, \"InNYC\": false, \"Month\": 1, \"Year\": 1950}, {\"dt\": \"1950-04-01T00:00:00\", \"AverageTemperature\": 4.416, \"AverageTemperatureUncertainty\": 0.204, \"City\": \"Detroit\", \"Country\": \"United States\", \"Latitude\": 42.59, \"Longitude\": -82.91, \"InNYC\": false, \"Month\": 4, \"Year\": 1950}, {\"dt\": \"1950-07-01T00:00:00\", \"AverageTemperature\": 20.916, \"AverageTemperatureUncertainty\": 0.1969999999999999, \"City\": \"Detroit\", \"Country\": \"United States\", \"Latitude\": 42.59, \"Longitude\": -82.91, \"InNYC\": false, \"Month\": 7, \"Year\": 1950}, {\"dt\": \"1950-10-01T00:00:00\", \"AverageTemperature\": 12.412, \"AverageTemperatureUncertainty\": 0.144, \"City\": \"Detroit\", \"Country\": \"United States\", \"Latitude\": 42.59, \"Longitude\": -82.91, \"InNYC\": false, \"Month\": 10, \"Year\": 1950}, {\"dt\": \"1951-01-01T00:00:00\", \"AverageTemperature\": -3.665, \"AverageTemperatureUncertainty\": 0.382, \"City\": \"Detroit\", \"Country\": \"United States\", \"Latitude\": 42.59, \"Longitude\": -82.91, \"InNYC\": false, \"Month\": 1, \"Year\": 1951}, {\"dt\": \"1951-04-01T00:00:00\", \"AverageTemperature\": 7.025, \"AverageTemperatureUncertainty\": 0.246, \"City\": \"Detroit\", \"Country\": \"United States\", \"Latitude\": 42.59, \"Longitude\": -82.91, \"InNYC\": false, \"Month\": 4, \"Year\": 1951}, {\"dt\": \"1951-07-01T00:00:00\", \"AverageTemperature\": 21.778, \"AverageTemperatureUncertainty\": 0.231, \"City\": \"Detroit\", \"Country\": \"United States\", \"Latitude\": 42.59, \"Longitude\": -82.91, \"InNYC\": false, \"Month\": 7, \"Year\": 1951}, {\"dt\": \"1951-10-01T00:00:00\", \"AverageTemperature\": 11.890999999999998, \"AverageTemperatureUncertainty\": 0.175, \"City\": \"Detroit\", \"Country\": \"United States\", \"Latitude\": 42.59, \"Longitude\": -82.91, \"InNYC\": false, \"Month\": 10, \"Year\": 1951}, {\"dt\": \"1952-01-01T00:00:00\", \"AverageTemperature\": -2.637, \"AverageTemperatureUncertainty\": 0.248, \"City\": \"Detroit\", \"Country\": \"United States\", \"Latitude\": 42.59, \"Longitude\": -82.91, \"InNYC\": false, \"Month\": 1, \"Year\": 1952}, {\"dt\": \"1952-04-01T00:00:00\", \"AverageTemperature\": 8.772, \"AverageTemperatureUncertainty\": 0.198, \"City\": \"Detroit\", \"Country\": \"United States\", \"Latitude\": 42.59, \"Longitude\": -82.91, \"InNYC\": false, \"Month\": 4, \"Year\": 1952}, {\"dt\": \"1952-07-01T00:00:00\", \"AverageTemperature\": 23.87, \"AverageTemperatureUncertainty\": 0.135, \"City\": \"Detroit\", \"Country\": \"United States\", \"Latitude\": 42.59, \"Longitude\": -82.91, \"InNYC\": false, \"Month\": 7, \"Year\": 1952}, {\"dt\": \"1952-10-01T00:00:00\", \"AverageTemperature\": 7.964999999999999, \"AverageTemperatureUncertainty\": 0.238, \"City\": \"Detroit\", \"Country\": \"United States\", \"Latitude\": 42.59, \"Longitude\": -82.91, \"InNYC\": false, \"Month\": 10, \"Year\": 1952}, {\"dt\": \"1953-01-01T00:00:00\", \"AverageTemperature\": -2.017, \"AverageTemperatureUncertainty\": 0.176, \"City\": \"Detroit\", \"Country\": \"United States\", \"Latitude\": 42.59, \"Longitude\": -82.91, \"InNYC\": false, \"Month\": 1, \"Year\": 1953}, {\"dt\": \"1953-04-01T00:00:00\", \"AverageTemperature\": 6.135, \"AverageTemperatureUncertainty\": 0.206, \"City\": \"Detroit\", \"Country\": \"United States\", \"Latitude\": 42.59, \"Longitude\": -82.91, \"InNYC\": false, \"Month\": 4, \"Year\": 1953}, {\"dt\": \"1953-07-01T00:00:00\", \"AverageTemperature\": 22.360000000000007, \"AverageTemperatureUncertainty\": 0.2189999999999999, \"City\": \"Detroit\", \"Country\": \"United States\", \"Latitude\": 42.59, \"Longitude\": -82.91, \"InNYC\": false, \"Month\": 7, \"Year\": 1953}, {\"dt\": \"1953-10-01T00:00:00\", \"AverageTemperature\": 12.479, \"AverageTemperatureUncertainty\": 0.283, \"City\": \"Detroit\", \"Country\": \"United States\", \"Latitude\": 42.59, \"Longitude\": -82.91, \"InNYC\": false, \"Month\": 10, \"Year\": 1953}, {\"dt\": \"1954-01-01T00:00:00\", \"AverageTemperature\": -4.564, \"AverageTemperatureUncertainty\": 0.253, \"City\": \"Detroit\", \"Country\": \"United States\", \"Latitude\": 42.59, \"Longitude\": -82.91, \"InNYC\": false, \"Month\": 1, \"Year\": 1954}, {\"dt\": \"1954-04-01T00:00:00\", \"AverageTemperature\": 9.249, \"AverageTemperatureUncertainty\": 0.316, \"City\": \"Detroit\", \"Country\": \"United States\", \"Latitude\": 42.59, \"Longitude\": -82.91, \"InNYC\": false, \"Month\": 4, \"Year\": 1954}, {\"dt\": \"1954-07-01T00:00:00\", \"AverageTemperature\": 21.384, \"AverageTemperatureUncertainty\": 0.221, \"City\": \"Detroit\", \"Country\": \"United States\", \"Latitude\": 42.59, \"Longitude\": -82.91, \"InNYC\": false, \"Month\": 7, \"Year\": 1954}, {\"dt\": \"1954-10-01T00:00:00\", \"AverageTemperature\": 11.488, \"AverageTemperatureUncertainty\": 0.157, \"City\": \"Detroit\", \"Country\": \"United States\", \"Latitude\": 42.59, \"Longitude\": -82.91, \"InNYC\": false, \"Month\": 10, \"Year\": 1954}, {\"dt\": \"1955-01-01T00:00:00\", \"AverageTemperature\": -4.4110000000000005, \"AverageTemperatureUncertainty\": 0.21, \"City\": \"Detroit\", \"Country\": \"United States\", \"Latitude\": 42.59, \"Longitude\": -82.91, \"InNYC\": false, \"Month\": 1, \"Year\": 1955}, {\"dt\": \"1955-04-01T00:00:00\", \"AverageTemperature\": 11.389, \"AverageTemperatureUncertainty\": 0.186, \"City\": \"Detroit\", \"Country\": \"United States\", \"Latitude\": 42.59, \"Longitude\": -82.91, \"InNYC\": false, \"Month\": 4, \"Year\": 1955}, {\"dt\": \"1955-07-01T00:00:00\", \"AverageTemperature\": 25.082, \"AverageTemperatureUncertainty\": 0.129, \"City\": \"Detroit\", \"Country\": \"United States\", \"Latitude\": 42.59, \"Longitude\": -82.91, \"InNYC\": false, \"Month\": 7, \"Year\": 1955}, {\"dt\": \"1955-10-01T00:00:00\", \"AverageTemperature\": 11.938, \"AverageTemperatureUncertainty\": 0.251, \"City\": \"Detroit\", \"Country\": \"United States\", \"Latitude\": 42.59, \"Longitude\": -82.91, \"InNYC\": false, \"Month\": 10, \"Year\": 1955}, {\"dt\": \"1956-01-01T00:00:00\", \"AverageTemperature\": -4.327, \"AverageTemperatureUncertainty\": 0.129, \"City\": \"Detroit\", \"Country\": \"United States\", \"Latitude\": 42.59, \"Longitude\": -82.91, \"InNYC\": false, \"Month\": 1, \"Year\": 1956}, {\"dt\": \"1956-04-01T00:00:00\", \"AverageTemperature\": 6.4380000000000015, \"AverageTemperatureUncertainty\": 0.214, \"City\": \"Detroit\", \"Country\": \"United States\", \"Latitude\": 42.59, \"Longitude\": -82.91, \"InNYC\": false, \"Month\": 4, \"Year\": 1956}, {\"dt\": \"1956-07-01T00:00:00\", \"AverageTemperature\": 21.164, \"AverageTemperatureUncertainty\": 0.242, \"City\": \"Detroit\", \"Country\": \"United States\", \"Latitude\": 42.59, \"Longitude\": -82.91, \"InNYC\": false, \"Month\": 7, \"Year\": 1956}, {\"dt\": \"1956-10-01T00:00:00\", \"AverageTemperature\": 13.033, \"AverageTemperatureUncertainty\": 0.245, \"City\": \"Detroit\", \"Country\": \"United States\", \"Latitude\": 42.59, \"Longitude\": -82.91, \"InNYC\": false, \"Month\": 10, \"Year\": 1956}, {\"dt\": \"1957-01-01T00:00:00\", \"AverageTemperature\": -7.383999999999999, \"AverageTemperatureUncertainty\": 0.319, \"City\": \"Detroit\", \"Country\": \"United States\", \"Latitude\": 42.59, \"Longitude\": -82.91, \"InNYC\": false, \"Month\": 1, \"Year\": 1957}, {\"dt\": \"1957-04-01T00:00:00\", \"AverageTemperature\": 8.578, \"AverageTemperatureUncertainty\": 0.524, \"City\": \"Detroit\", \"Country\": \"United States\", \"Latitude\": 42.59, \"Longitude\": -82.91, \"InNYC\": false, \"Month\": 4, \"Year\": 1957}, {\"dt\": \"1957-07-01T00:00:00\", \"AverageTemperature\": 21.922, \"AverageTemperatureUncertainty\": 0.436, \"City\": \"Detroit\", \"Country\": \"United States\", \"Latitude\": 42.59, \"Longitude\": -82.91, \"InNYC\": false, \"Month\": 7, \"Year\": 1957}, {\"dt\": \"1957-10-01T00:00:00\", \"AverageTemperature\": 9.534, \"AverageTemperatureUncertainty\": 0.405, \"City\": \"Detroit\", \"Country\": \"United States\", \"Latitude\": 42.59, \"Longitude\": -82.91, \"InNYC\": false, \"Month\": 10, \"Year\": 1957}, {\"dt\": \"1958-01-01T00:00:00\", \"AverageTemperature\": -4.123, \"AverageTemperatureUncertainty\": 0.31, \"City\": \"Detroit\", \"Country\": \"United States\", \"Latitude\": 42.59, \"Longitude\": -82.91, \"InNYC\": false, \"Month\": 1, \"Year\": 1958}, {\"dt\": \"1958-04-01T00:00:00\", \"AverageTemperature\": 8.722000000000001, \"AverageTemperatureUncertainty\": 0.305, \"City\": \"Detroit\", \"Country\": \"United States\", \"Latitude\": 42.59, \"Longitude\": -82.91, \"InNYC\": false, \"Month\": 4, \"Year\": 1958}, {\"dt\": \"1958-07-01T00:00:00\", \"AverageTemperature\": 21.926, \"AverageTemperatureUncertainty\": 0.368, \"City\": \"Detroit\", \"Country\": \"United States\", \"Latitude\": 42.59, \"Longitude\": -82.91, \"InNYC\": false, \"Month\": 7, \"Year\": 1958}, {\"dt\": \"1958-10-01T00:00:00\", \"AverageTemperature\": 11.534999999999998, \"AverageTemperatureUncertainty\": 0.187, \"City\": \"Detroit\", \"Country\": \"United States\", \"Latitude\": 42.59, \"Longitude\": -82.91, \"InNYC\": false, \"Month\": 10, \"Year\": 1958}, {\"dt\": \"1959-01-01T00:00:00\", \"AverageTemperature\": -7.285, \"AverageTemperatureUncertainty\": 0.305, \"City\": \"Detroit\", \"Country\": \"United States\", \"Latitude\": 42.59, \"Longitude\": -82.91, \"InNYC\": false, \"Month\": 1, \"Year\": 1959}, {\"dt\": \"1959-04-01T00:00:00\", \"AverageTemperature\": 8.293000000000001, \"AverageTemperatureUncertainty\": 0.353, \"City\": \"Detroit\", \"Country\": \"United States\", \"Latitude\": 42.59, \"Longitude\": -82.91, \"InNYC\": false, \"Month\": 4, \"Year\": 1959}, {\"dt\": \"1959-07-01T00:00:00\", \"AverageTemperature\": 22.503, \"AverageTemperatureUncertainty\": 0.417, \"City\": \"Detroit\", \"Country\": \"United States\", \"Latitude\": 42.59, \"Longitude\": -82.91, \"InNYC\": false, \"Month\": 7, \"Year\": 1959}, {\"dt\": \"1959-10-01T00:00:00\", \"AverageTemperature\": 10.185, \"AverageTemperatureUncertainty\": 0.221, \"City\": \"Detroit\", \"Country\": \"United States\", \"Latitude\": 42.59, \"Longitude\": -82.91, \"InNYC\": false, \"Month\": 10, \"Year\": 1959}, {\"dt\": \"1960-01-01T00:00:00\", \"AverageTemperature\": -3.128, \"AverageTemperatureUncertainty\": 0.254, \"City\": \"Detroit\", \"Country\": \"United States\", \"Latitude\": 42.59, \"Longitude\": -82.91, \"InNYC\": false, \"Month\": 1, \"Year\": 1960}, {\"dt\": \"1960-04-01T00:00:00\", \"AverageTemperature\": 9.086, \"AverageTemperatureUncertainty\": 0.133, \"City\": \"Detroit\", \"Country\": \"United States\", \"Latitude\": 42.59, \"Longitude\": -82.91, \"InNYC\": false, \"Month\": 4, \"Year\": 1960}, {\"dt\": \"1960-07-01T00:00:00\", \"AverageTemperature\": 20.896, \"AverageTemperatureUncertainty\": 0.205, \"City\": \"Detroit\", \"Country\": \"United States\", \"Latitude\": 42.59, \"Longitude\": -82.91, \"InNYC\": false, \"Month\": 7, \"Year\": 1960}, {\"dt\": \"1960-10-01T00:00:00\", \"AverageTemperature\": 10.646, \"AverageTemperatureUncertainty\": 0.298, \"City\": \"Detroit\", \"Country\": \"United States\", \"Latitude\": 42.59, \"Longitude\": -82.91, \"InNYC\": false, \"Month\": 10, \"Year\": 1960}, {\"dt\": \"1950-01-01T00:00:00\", \"AverageTemperature\": 17.685000000000006, \"AverageTemperatureUncertainty\": 1.044, \"City\": \"Los Angeles\", \"Country\": \"Chile\", \"Latitude\": -37.78, \"Longitude\": -73.22, \"InNYC\": false, \"Month\": 1, \"Year\": 1950}, {\"dt\": \"1950-04-01T00:00:00\", \"AverageTemperature\": 12.18, \"AverageTemperatureUncertainty\": 0.617, \"City\": \"Los Angeles\", \"Country\": \"Chile\", \"Latitude\": -37.78, \"Longitude\": -73.22, \"InNYC\": false, \"Month\": 4, \"Year\": 1950}, {\"dt\": \"1950-07-01T00:00:00\", \"AverageTemperature\": 8.322999999999999, \"AverageTemperatureUncertainty\": 0.655, \"City\": \"Los Angeles\", \"Country\": \"Chile\", \"Latitude\": -37.78, \"Longitude\": -73.22, \"InNYC\": false, \"Month\": 7, \"Year\": 1950}, {\"dt\": \"1950-10-01T00:00:00\", \"AverageTemperature\": 11.466, \"AverageTemperatureUncertainty\": 0.424, \"City\": \"Los Angeles\", \"Country\": \"Chile\", \"Latitude\": -37.78, \"Longitude\": -73.22, \"InNYC\": false, \"Month\": 10, \"Year\": 1950}, {\"dt\": \"1951-01-01T00:00:00\", \"AverageTemperature\": 16.897000000000002, \"AverageTemperatureUncertainty\": 0.648, \"City\": \"Los Angeles\", \"Country\": \"Chile\", \"Latitude\": -37.78, \"Longitude\": -73.22, \"InNYC\": false, \"Month\": 1, \"Year\": 1951}, {\"dt\": \"1951-04-01T00:00:00\", \"AverageTemperature\": 13.187, \"AverageTemperatureUncertainty\": 0.48, \"City\": \"Los Angeles\", \"Country\": \"Chile\", \"Latitude\": -37.78, \"Longitude\": -73.22, \"InNYC\": false, \"Month\": 4, \"Year\": 1951}, {\"dt\": \"1951-07-01T00:00:00\", \"AverageTemperature\": 9.951, \"AverageTemperatureUncertainty\": 0.586, \"City\": \"Los Angeles\", \"Country\": \"Chile\", \"Latitude\": -37.78, \"Longitude\": -73.22, \"InNYC\": false, \"Month\": 7, \"Year\": 1951}, {\"dt\": \"1951-10-01T00:00:00\", \"AverageTemperature\": 12.352, \"AverageTemperatureUncertainty\": 0.2319999999999999, \"City\": \"Los Angeles\", \"Country\": \"Chile\", \"Latitude\": -37.78, \"Longitude\": -73.22, \"InNYC\": false, \"Month\": 10, \"Year\": 1951}, {\"dt\": \"1952-01-01T00:00:00\", \"AverageTemperature\": 18.525, \"AverageTemperatureUncertainty\": 0.245, \"City\": \"Los Angeles\", \"Country\": \"Chile\", \"Latitude\": -37.78, \"Longitude\": -73.22, \"InNYC\": false, \"Month\": 1, \"Year\": 1952}, {\"dt\": \"1952-04-01T00:00:00\", \"AverageTemperature\": 13.83, \"AverageTemperatureUncertainty\": 0.6829999999999999, \"City\": \"Los Angeles\", \"Country\": \"Chile\", \"Latitude\": -37.78, \"Longitude\": -73.22, \"InNYC\": false, \"Month\": 4, \"Year\": 1952}, {\"dt\": \"1952-07-01T00:00:00\", \"AverageTemperature\": 8.42, \"AverageTemperatureUncertainty\": 0.41, \"City\": \"Los Angeles\", \"Country\": \"Chile\", \"Latitude\": -37.78, \"Longitude\": -73.22, \"InNYC\": false, \"Month\": 7, \"Year\": 1952}, {\"dt\": \"1952-10-01T00:00:00\", \"AverageTemperature\": 12.278, \"AverageTemperatureUncertainty\": 0.267, \"City\": \"Los Angeles\", \"Country\": \"Chile\", \"Latitude\": -37.78, \"Longitude\": -73.22, \"InNYC\": false, \"Month\": 10, \"Year\": 1952}, {\"dt\": \"1953-01-01T00:00:00\", \"AverageTemperature\": 17.156000000000002, \"AverageTemperatureUncertainty\": 0.429, \"City\": \"Los Angeles\", \"Country\": \"Chile\", \"Latitude\": -37.78, \"Longitude\": -73.22, \"InNYC\": false, \"Month\": 1, \"Year\": 1953}, {\"dt\": \"1953-04-01T00:00:00\", \"AverageTemperature\": 12.69, \"AverageTemperatureUncertainty\": 0.354, \"City\": \"Los Angeles\", \"Country\": \"Chile\", \"Latitude\": -37.78, \"Longitude\": -73.22, \"InNYC\": false, \"Month\": 4, \"Year\": 1953}, {\"dt\": \"1953-07-01T00:00:00\", \"AverageTemperature\": 7.853999999999999, \"AverageTemperatureUncertainty\": 0.546, \"City\": \"Los Angeles\", \"Country\": \"Chile\", \"Latitude\": -37.78, \"Longitude\": -73.22, \"InNYC\": false, \"Month\": 7, \"Year\": 1953}, {\"dt\": \"1953-10-01T00:00:00\", \"AverageTemperature\": 10.912999999999998, \"AverageTemperatureUncertainty\": 0.635, \"City\": \"Los Angeles\", \"Country\": \"Chile\", \"Latitude\": -37.78, \"Longitude\": -73.22, \"InNYC\": false, \"Month\": 10, \"Year\": 1953}, {\"dt\": \"1954-01-01T00:00:00\", \"AverageTemperature\": 16.496000000000002, \"AverageTemperatureUncertainty\": 0.523, \"City\": \"Los Angeles\", \"Country\": \"Chile\", \"Latitude\": -37.78, \"Longitude\": -73.22, \"InNYC\": false, \"Month\": 1, \"Year\": 1954}, {\"dt\": \"1954-04-01T00:00:00\", \"AverageTemperature\": 12.794, \"AverageTemperatureUncertainty\": 0.291, \"City\": \"Los Angeles\", \"Country\": \"Chile\", \"Latitude\": -37.78, \"Longitude\": -73.22, \"InNYC\": false, \"Month\": 4, \"Year\": 1954}, {\"dt\": \"1954-07-01T00:00:00\", \"AverageTemperature\": 7.661999999999999, \"AverageTemperatureUncertainty\": 0.3989999999999999, \"City\": \"Los Angeles\", \"Country\": \"Chile\", \"Latitude\": -37.78, \"Longitude\": -73.22, \"InNYC\": false, \"Month\": 7, \"Year\": 1954}, {\"dt\": \"1954-10-01T00:00:00\", \"AverageTemperature\": 11.498, \"AverageTemperatureUncertainty\": 0.346, \"City\": \"Los Angeles\", \"Country\": \"Chile\", \"Latitude\": -37.78, \"Longitude\": -73.22, \"InNYC\": false, \"Month\": 10, \"Year\": 1954}, {\"dt\": \"1955-01-01T00:00:00\", \"AverageTemperature\": 18.075, \"AverageTemperatureUncertainty\": 0.589, \"City\": \"Los Angeles\", \"Country\": \"Chile\", \"Latitude\": -37.78, \"Longitude\": -73.22, \"InNYC\": false, \"Month\": 1, \"Year\": 1955}, {\"dt\": \"1955-04-01T00:00:00\", \"AverageTemperature\": 12.377, \"AverageTemperatureUncertainty\": 0.81, \"City\": \"Los Angeles\", \"Country\": \"Chile\", \"Latitude\": -37.78, \"Longitude\": -73.22, \"InNYC\": false, \"Month\": 4, \"Year\": 1955}, {\"dt\": \"1955-07-01T00:00:00\", \"AverageTemperature\": 7.124, \"AverageTemperatureUncertainty\": 0.7240000000000001, \"City\": \"Los Angeles\", \"Country\": \"Chile\", \"Latitude\": -37.78, \"Longitude\": -73.22, \"InNYC\": false, \"Month\": 7, \"Year\": 1955}, {\"dt\": \"1955-10-01T00:00:00\", \"AverageTemperature\": 11.961, \"AverageTemperatureUncertainty\": 0.346, \"City\": \"Los Angeles\", \"Country\": \"Chile\", \"Latitude\": -37.78, \"Longitude\": -73.22, \"InNYC\": false, \"Month\": 10, \"Year\": 1955}, {\"dt\": \"1956-01-01T00:00:00\", \"AverageTemperature\": 15.667000000000002, \"AverageTemperatureUncertainty\": 0.654, \"City\": \"Los Angeles\", \"Country\": \"Chile\", \"Latitude\": -37.78, \"Longitude\": -73.22, \"InNYC\": false, \"Month\": 1, \"Year\": 1956}, {\"dt\": \"1956-04-01T00:00:00\", \"AverageTemperature\": 11.109000000000002, \"AverageTemperatureUncertainty\": 0.213, \"City\": \"Los Angeles\", \"Country\": \"Chile\", \"Latitude\": -37.78, \"Longitude\": -73.22, \"InNYC\": false, \"Month\": 4, \"Year\": 1956}, {\"dt\": \"1956-07-01T00:00:00\", \"AverageTemperature\": 9.041, \"AverageTemperatureUncertainty\": 0.474, \"City\": \"Los Angeles\", \"Country\": \"Chile\", \"Latitude\": -37.78, \"Longitude\": -73.22, \"InNYC\": false, \"Month\": 7, \"Year\": 1956}, {\"dt\": \"1956-10-01T00:00:00\", \"AverageTemperature\": 12.884, \"AverageTemperatureUncertainty\": 0.49, \"City\": \"Los Angeles\", \"Country\": \"Chile\", \"Latitude\": -37.78, \"Longitude\": -73.22, \"InNYC\": false, \"Month\": 10, \"Year\": 1956}, {\"dt\": \"1957-01-01T00:00:00\", \"AverageTemperature\": 17.871000000000006, \"AverageTemperatureUncertainty\": 0.289, \"City\": \"Los Angeles\", \"Country\": \"Chile\", \"Latitude\": -37.78, \"Longitude\": -73.22, \"InNYC\": false, \"Month\": 1, \"Year\": 1957}, {\"dt\": \"1957-04-01T00:00:00\", \"AverageTemperature\": 12.7, \"AverageTemperatureUncertainty\": 0.706, \"City\": \"Los Angeles\", \"Country\": \"Chile\", \"Latitude\": -37.78, \"Longitude\": -73.22, \"InNYC\": false, \"Month\": 4, \"Year\": 1957}, {\"dt\": \"1957-07-01T00:00:00\", \"AverageTemperature\": 8.004, \"AverageTemperatureUncertainty\": 0.391, \"City\": \"Los Angeles\", \"Country\": \"Chile\", \"Latitude\": -37.78, \"Longitude\": -73.22, \"InNYC\": false, \"Month\": 7, \"Year\": 1957}, {\"dt\": \"1957-10-01T00:00:00\", \"AverageTemperature\": 10.947, \"AverageTemperatureUncertainty\": 0.375, \"City\": \"Los Angeles\", \"Country\": \"Chile\", \"Latitude\": -37.78, \"Longitude\": -73.22, \"InNYC\": false, \"Month\": 10, \"Year\": 1957}, {\"dt\": \"1958-01-01T00:00:00\", \"AverageTemperature\": 17.361, \"AverageTemperatureUncertainty\": 0.6629999999999999, \"City\": \"Los Angeles\", \"Country\": \"Chile\", \"Latitude\": -37.78, \"Longitude\": -73.22, \"InNYC\": false, \"Month\": 1, \"Year\": 1958}, {\"dt\": \"1958-04-01T00:00:00\", \"AverageTemperature\": 12.831, \"AverageTemperatureUncertainty\": 0.405, \"City\": \"Los Angeles\", \"Country\": \"Chile\", \"Latitude\": -37.78, \"Longitude\": -73.22, \"InNYC\": false, \"Month\": 4, \"Year\": 1958}, {\"dt\": \"1958-07-01T00:00:00\", \"AverageTemperature\": 10.955, \"AverageTemperatureUncertainty\": 0.46, \"City\": \"Los Angeles\", \"Country\": \"Chile\", \"Latitude\": -37.78, \"Longitude\": -73.22, \"InNYC\": false, \"Month\": 7, \"Year\": 1958}, {\"dt\": \"1958-10-01T00:00:00\", \"AverageTemperature\": 12.967, \"AverageTemperatureUncertainty\": 0.25, \"City\": \"Los Angeles\", \"Country\": \"Chile\", \"Latitude\": -37.78, \"Longitude\": -73.22, \"InNYC\": false, \"Month\": 10, \"Year\": 1958}, {\"dt\": \"1959-01-01T00:00:00\", \"AverageTemperature\": 16.972, \"AverageTemperatureUncertainty\": 0.503, \"City\": \"Los Angeles\", \"Country\": \"Chile\", \"Latitude\": -37.78, \"Longitude\": -73.22, \"InNYC\": false, \"Month\": 1, \"Year\": 1959}, {\"dt\": \"1959-04-01T00:00:00\", \"AverageTemperature\": 11.666, \"AverageTemperatureUncertainty\": 0.547, \"City\": \"Los Angeles\", \"Country\": \"Chile\", \"Latitude\": -37.78, \"Longitude\": -73.22, \"InNYC\": false, \"Month\": 4, \"Year\": 1959}, {\"dt\": \"1959-07-01T00:00:00\", \"AverageTemperature\": 9.138, \"AverageTemperatureUncertainty\": 0.898, \"City\": \"Los Angeles\", \"Country\": \"Chile\", \"Latitude\": -37.78, \"Longitude\": -73.22, \"InNYC\": false, \"Month\": 7, \"Year\": 1959}, {\"dt\": \"1959-10-01T00:00:00\", \"AverageTemperature\": 11.568, \"AverageTemperatureUncertainty\": 0.344, \"City\": \"Los Angeles\", \"Country\": \"Chile\", \"Latitude\": -37.78, \"Longitude\": -73.22, \"InNYC\": false, \"Month\": 10, \"Year\": 1959}, {\"dt\": \"1960-01-01T00:00:00\", \"AverageTemperature\": 18.733, \"AverageTemperatureUncertainty\": 0.664, \"City\": \"Los Angeles\", \"Country\": \"Chile\", \"Latitude\": -37.78, \"Longitude\": -73.22, \"InNYC\": false, \"Month\": 1, \"Year\": 1960}, {\"dt\": \"1960-04-01T00:00:00\", \"AverageTemperature\": 13.588, \"AverageTemperatureUncertainty\": 0.324, \"City\": \"Los Angeles\", \"Country\": \"Chile\", \"Latitude\": -37.78, \"Longitude\": -73.22, \"InNYC\": false, \"Month\": 4, \"Year\": 1960}, {\"dt\": \"1960-07-01T00:00:00\", \"AverageTemperature\": 7.681999999999999, \"AverageTemperatureUncertainty\": 0.498, \"City\": \"Los Angeles\", \"Country\": \"Chile\", \"Latitude\": -37.78, \"Longitude\": -73.22, \"InNYC\": false, \"Month\": 7, \"Year\": 1960}, {\"dt\": \"1960-10-01T00:00:00\", \"AverageTemperature\": 11.687, \"AverageTemperatureUncertainty\": 0.3379999999999999, \"City\": \"Los Angeles\", \"Country\": \"Chile\", \"Latitude\": -37.78, \"Longitude\": -73.22, \"InNYC\": false, \"Month\": 10, \"Year\": 1960}, {\"dt\": \"1950-01-01T00:00:00\", \"AverageTemperature\": 6.462999999999999, \"AverageTemperatureUncertainty\": 0.616, \"City\": \"Los Angeles\", \"Country\": \"United States\", \"Latitude\": 34.56, \"Longitude\": -118.7, \"InNYC\": false, \"Month\": 1, \"Year\": 1950}, {\"dt\": \"1950-04-01T00:00:00\", \"AverageTemperature\": 15.341, \"AverageTemperatureUncertainty\": 0.417, \"City\": \"Los Angeles\", \"Country\": \"United States\", \"Latitude\": 34.56, \"Longitude\": -118.7, \"InNYC\": false, \"Month\": 4, \"Year\": 1950}, {\"dt\": \"1950-07-01T00:00:00\", \"AverageTemperature\": 24.212, \"AverageTemperatureUncertainty\": 0.505, \"City\": \"Los Angeles\", \"Country\": \"United States\", \"Latitude\": 34.56, \"Longitude\": -118.7, \"InNYC\": false, \"Month\": 7, \"Year\": 1950}, {\"dt\": \"1950-10-01T00:00:00\", \"AverageTemperature\": 18.309, \"AverageTemperatureUncertainty\": 0.297, \"City\": \"Los Angeles\", \"Country\": \"United States\", \"Latitude\": 34.56, \"Longitude\": -118.7, \"InNYC\": false, \"Month\": 10, \"Year\": 1950}, {\"dt\": \"1951-01-01T00:00:00\", \"AverageTemperature\": 8.987, \"AverageTemperatureUncertainty\": 0.3779999999999999, \"City\": \"Los Angeles\", \"Country\": \"United States\", \"Latitude\": 34.56, \"Longitude\": -118.7, \"InNYC\": false, \"Month\": 1, \"Year\": 1951}, {\"dt\": \"1951-04-01T00:00:00\", \"AverageTemperature\": 14.022, \"AverageTemperatureUncertainty\": 0.37, \"City\": \"Los Angeles\", \"Country\": \"United States\", \"Latitude\": 34.56, \"Longitude\": -118.7, \"InNYC\": false, \"Month\": 4, \"Year\": 1951}, {\"dt\": \"1951-07-01T00:00:00\", \"AverageTemperature\": 24.072, \"AverageTemperatureUncertainty\": 0.355, \"City\": \"Los Angeles\", \"Country\": \"United States\", \"Latitude\": 34.56, \"Longitude\": -118.7, \"InNYC\": false, \"Month\": 7, \"Year\": 1951}, {\"dt\": \"1951-10-01T00:00:00\", \"AverageTemperature\": 17.147000000000002, \"AverageTemperatureUncertainty\": 0.48, \"City\": \"Los Angeles\", \"Country\": \"United States\", \"Latitude\": 34.56, \"Longitude\": -118.7, \"InNYC\": false, \"Month\": 10, \"Year\": 1951}, {\"dt\": \"1952-01-01T00:00:00\", \"AverageTemperature\": 7.125, \"AverageTemperatureUncertainty\": 0.268, \"City\": \"Los Angeles\", \"Country\": \"United States\", \"Latitude\": 34.56, \"Longitude\": -118.7, \"InNYC\": false, \"Month\": 1, \"Year\": 1952}, {\"dt\": \"1952-04-01T00:00:00\", \"AverageTemperature\": 13.69, \"AverageTemperatureUncertainty\": 0.313, \"City\": \"Los Angeles\", \"Country\": \"United States\", \"Latitude\": 34.56, \"Longitude\": -118.7, \"InNYC\": false, \"Month\": 4, \"Year\": 1952}, {\"dt\": \"1952-07-01T00:00:00\", \"AverageTemperature\": 23.502, \"AverageTemperatureUncertainty\": 0.589, \"City\": \"Los Angeles\", \"Country\": \"United States\", \"Latitude\": 34.56, \"Longitude\": -118.7, \"InNYC\": false, \"Month\": 7, \"Year\": 1952}, {\"dt\": \"1952-10-01T00:00:00\", \"AverageTemperature\": 18.471, \"AverageTemperatureUncertainty\": 0.6829999999999999, \"City\": \"Los Angeles\", \"Country\": \"United States\", \"Latitude\": 34.56, \"Longitude\": -118.7, \"InNYC\": false, \"Month\": 10, \"Year\": 1952}, {\"dt\": \"1953-01-01T00:00:00\", \"AverageTemperature\": 11.592, \"AverageTemperatureUncertainty\": 0.3929999999999999, \"City\": \"Los Angeles\", \"Country\": \"United States\", \"Latitude\": 34.56, \"Longitude\": -118.7, \"InNYC\": false, \"Month\": 1, \"Year\": 1953}, {\"dt\": \"1953-04-01T00:00:00\", \"AverageTemperature\": 12.7, \"AverageTemperatureUncertainty\": 0.427, \"City\": \"Los Angeles\", \"Country\": \"United States\", \"Latitude\": 34.56, \"Longitude\": -118.7, \"InNYC\": false, \"Month\": 4, \"Year\": 1953}, {\"dt\": \"1953-07-01T00:00:00\", \"AverageTemperature\": 24.853, \"AverageTemperatureUncertainty\": 0.298, \"City\": \"Los Angeles\", \"Country\": \"United States\", \"Latitude\": 34.56, \"Longitude\": -118.7, \"InNYC\": false, \"Month\": 7, \"Year\": 1953}, {\"dt\": \"1953-10-01T00:00:00\", \"AverageTemperature\": 16.987000000000002, \"AverageTemperatureUncertainty\": 0.364, \"City\": \"Los Angeles\", \"Country\": \"United States\", \"Latitude\": 34.56, \"Longitude\": -118.7, \"InNYC\": false, \"Month\": 10, \"Year\": 1953}, {\"dt\": \"1954-01-01T00:00:00\", \"AverageTemperature\": 8.716000000000001, \"AverageTemperatureUncertainty\": 0.61, \"City\": \"Los Angeles\", \"Country\": \"United States\", \"Latitude\": 34.56, \"Longitude\": -118.7, \"InNYC\": false, \"Month\": 1, \"Year\": 1954}, {\"dt\": \"1954-04-01T00:00:00\", \"AverageTemperature\": 15.095, \"AverageTemperatureUncertainty\": 0.813, \"City\": \"Los Angeles\", \"Country\": \"United States\", \"Latitude\": 34.56, \"Longitude\": -118.7, \"InNYC\": false, \"Month\": 4, \"Year\": 1954}, {\"dt\": \"1954-07-01T00:00:00\", \"AverageTemperature\": 25.317, \"AverageTemperatureUncertainty\": 0.487, \"City\": \"Los Angeles\", \"Country\": \"United States\", \"Latitude\": 34.56, \"Longitude\": -118.7, \"InNYC\": false, \"Month\": 7, \"Year\": 1954}, {\"dt\": \"1954-10-01T00:00:00\", \"AverageTemperature\": 16.548000000000002, \"AverageTemperatureUncertainty\": 0.429, \"City\": \"Los Angeles\", \"Country\": \"United States\", \"Latitude\": 34.56, \"Longitude\": -118.7, \"InNYC\": false, \"Month\": 10, \"Year\": 1954}, {\"dt\": \"1955-01-01T00:00:00\", \"AverageTemperature\": 6.942, \"AverageTemperatureUncertainty\": 0.347, \"City\": \"Los Angeles\", \"Country\": \"United States\", \"Latitude\": 34.56, \"Longitude\": -118.7, \"InNYC\": false, \"Month\": 1, \"Year\": 1955}, {\"dt\": \"1955-04-01T00:00:00\", \"AverageTemperature\": 12.527, \"AverageTemperatureUncertainty\": 0.432, \"City\": \"Los Angeles\", \"Country\": \"United States\", \"Latitude\": 34.56, \"Longitude\": -118.7, \"InNYC\": false, \"Month\": 4, \"Year\": 1955}, {\"dt\": \"1955-07-01T00:00:00\", \"AverageTemperature\": 22.145, \"AverageTemperatureUncertainty\": 0.273, \"City\": \"Los Angeles\", \"Country\": \"United States\", \"Latitude\": 34.56, \"Longitude\": -118.7, \"InNYC\": false, \"Month\": 7, \"Year\": 1955}, {\"dt\": \"1955-10-01T00:00:00\", \"AverageTemperature\": 17.137, \"AverageTemperatureUncertainty\": 0.947, \"City\": \"Los Angeles\", \"Country\": \"United States\", \"Latitude\": 34.56, \"Longitude\": -118.7, \"InNYC\": false, \"Month\": 10, \"Year\": 1955}, {\"dt\": \"1956-01-01T00:00:00\", \"AverageTemperature\": 9.755, \"AverageTemperatureUncertainty\": 1.283, \"City\": \"Los Angeles\", \"Country\": \"United States\", \"Latitude\": 34.56, \"Longitude\": -118.7, \"InNYC\": false, \"Month\": 1, \"Year\": 1956}, {\"dt\": \"1956-04-01T00:00:00\", \"AverageTemperature\": 12.969, \"AverageTemperatureUncertainty\": 0.302, \"City\": \"Los Angeles\", \"Country\": \"United States\", \"Latitude\": 34.56, \"Longitude\": -118.7, \"InNYC\": false, \"Month\": 4, \"Year\": 1956}, {\"dt\": \"1956-07-01T00:00:00\", \"AverageTemperature\": 23.056, \"AverageTemperatureUncertainty\": 0.387, \"City\": \"Los Angeles\", \"Country\": \"United States\", \"Latitude\": 34.56, \"Longitude\": -118.7, \"InNYC\": false, \"Month\": 7, \"Year\": 1956}, {\"dt\": \"1956-10-01T00:00:00\", \"AverageTemperature\": 15.725, \"AverageTemperatureUncertainty\": 0.419, \"City\": \"Los Angeles\", \"Country\": \"United States\", \"Latitude\": 34.56, \"Longitude\": -118.7, \"InNYC\": false, \"Month\": 10, \"Year\": 1956}, {\"dt\": \"1957-01-01T00:00:00\", \"AverageTemperature\": 7.027, \"AverageTemperatureUncertainty\": 0.674, \"City\": \"Los Angeles\", \"Country\": \"United States\", \"Latitude\": 34.56, \"Longitude\": -118.7, \"InNYC\": false, \"Month\": 1, \"Year\": 1957}, {\"dt\": \"1957-04-01T00:00:00\", \"AverageTemperature\": 13.402, \"AverageTemperatureUncertainty\": 0.485, \"City\": \"Los Angeles\", \"Country\": \"United States\", \"Latitude\": 34.56, \"Longitude\": -118.7, \"InNYC\": false, \"Month\": 4, \"Year\": 1957}, {\"dt\": \"1957-07-01T00:00:00\", \"AverageTemperature\": 24.303, \"AverageTemperatureUncertainty\": 0.907, \"City\": \"Los Angeles\", \"Country\": \"United States\", \"Latitude\": 34.56, \"Longitude\": -118.7, \"InNYC\": false, \"Month\": 7, \"Year\": 1957}, {\"dt\": \"1957-10-01T00:00:00\", \"AverageTemperature\": 15.515, \"AverageTemperatureUncertainty\": 0.932, \"City\": \"Los Angeles\", \"Country\": \"United States\", \"Latitude\": 34.56, \"Longitude\": -118.7, \"InNYC\": false, \"Month\": 10, \"Year\": 1957}, {\"dt\": \"1958-01-01T00:00:00\", \"AverageTemperature\": 10.225, \"AverageTemperatureUncertainty\": 0.4589999999999999, \"City\": \"Los Angeles\", \"Country\": \"United States\", \"Latitude\": 34.56, \"Longitude\": -118.7, \"InNYC\": false, \"Month\": 1, \"Year\": 1958}, {\"dt\": \"1958-04-01T00:00:00\", \"AverageTemperature\": 14.208, \"AverageTemperatureUncertainty\": 0.862, \"City\": \"Los Angeles\", \"Country\": \"United States\", \"Latitude\": 34.56, \"Longitude\": -118.7, \"InNYC\": false, \"Month\": 4, \"Year\": 1958}, {\"dt\": \"1958-07-01T00:00:00\", \"AverageTemperature\": 22.968000000000004, \"AverageTemperatureUncertainty\": 0.516, \"City\": \"Los Angeles\", \"Country\": \"United States\", \"Latitude\": 34.56, \"Longitude\": -118.7, \"InNYC\": false, \"Month\": 7, \"Year\": 1958}, {\"dt\": \"1958-10-01T00:00:00\", \"AverageTemperature\": 19.81, \"AverageTemperatureUncertainty\": 0.221, \"City\": \"Los Angeles\", \"Country\": \"United States\", \"Latitude\": 34.56, \"Longitude\": -118.7, \"InNYC\": false, \"Month\": 10, \"Year\": 1958}, {\"dt\": \"1959-01-01T00:00:00\", \"AverageTemperature\": 10.934, \"AverageTemperatureUncertainty\": 0.599, \"City\": \"Los Angeles\", \"Country\": \"United States\", \"Latitude\": 34.56, \"Longitude\": -118.7, \"InNYC\": false, \"Month\": 1, \"Year\": 1959}, {\"dt\": \"1959-04-01T00:00:00\", \"AverageTemperature\": 16.689999999999998, \"AverageTemperatureUncertainty\": 0.7879999999999999, \"City\": \"Los Angeles\", \"Country\": \"United States\", \"Latitude\": 34.56, \"Longitude\": -118.7, \"InNYC\": false, \"Month\": 4, \"Year\": 1959}, {\"dt\": \"1959-07-01T00:00:00\", \"AverageTemperature\": 26.086, \"AverageTemperatureUncertainty\": 0.758, \"City\": \"Los Angeles\", \"Country\": \"United States\", \"Latitude\": 34.56, \"Longitude\": -118.7, \"InNYC\": false, \"Month\": 7, \"Year\": 1959}, {\"dt\": \"1959-10-01T00:00:00\", \"AverageTemperature\": 18.677, \"AverageTemperatureUncertainty\": 0.307, \"City\": \"Los Angeles\", \"Country\": \"United States\", \"Latitude\": 34.56, \"Longitude\": -118.7, \"InNYC\": false, \"Month\": 10, \"Year\": 1959}, {\"dt\": \"1960-01-01T00:00:00\", \"AverageTemperature\": 7.532999999999999, \"AverageTemperatureUncertainty\": 0.7979999999999999, \"City\": \"Los Angeles\", \"Country\": \"United States\", \"Latitude\": 34.56, \"Longitude\": -118.7, \"InNYC\": false, \"Month\": 1, \"Year\": 1960}, {\"dt\": \"1960-04-01T00:00:00\", \"AverageTemperature\": 14.932, \"AverageTemperatureUncertainty\": 0.485, \"City\": \"Los Angeles\", \"Country\": \"United States\", \"Latitude\": 34.56, \"Longitude\": -118.7, \"InNYC\": false, \"Month\": 4, \"Year\": 1960}, {\"dt\": \"1960-07-01T00:00:00\", \"AverageTemperature\": 25.352, \"AverageTemperatureUncertainty\": 0.6559999999999999, \"City\": \"Los Angeles\", \"Country\": \"United States\", \"Latitude\": 34.56, \"Longitude\": -118.7, \"InNYC\": false, \"Month\": 7, \"Year\": 1960}, {\"dt\": \"1960-10-01T00:00:00\", \"AverageTemperature\": 16.885, \"AverageTemperatureUncertainty\": 0.3289999999999999, \"City\": \"Los Angeles\", \"Country\": \"United States\", \"Latitude\": 34.56, \"Longitude\": -118.7, \"InNYC\": false, \"Month\": 10, \"Year\": 1960}, {\"dt\": \"1950-01-01T00:00:00\", \"AverageTemperature\": 2.32, \"AverageTemperatureUncertainty\": 0.253, \"City\": \"New York\", \"Country\": \"United States\", \"Latitude\": 40.99, \"Longitude\": -74.56, \"InNYC\": true, \"Month\": 1, \"Year\": 1950}, {\"dt\": \"1950-04-01T00:00:00\", \"AverageTemperature\": 7.336, \"AverageTemperatureUncertainty\": 0.261, \"City\": \"New York\", \"Country\": \"United States\", \"Latitude\": 40.99, \"Longitude\": -74.56, \"InNYC\": true, \"Month\": 4, \"Year\": 1950}, {\"dt\": \"1950-07-01T00:00:00\", \"AverageTemperature\": 21.613000000000003, \"AverageTemperatureUncertainty\": 0.133, \"City\": \"New York\", \"Country\": \"United States\", \"Latitude\": 40.99, \"Longitude\": -74.56, \"InNYC\": true, \"Month\": 7, \"Year\": 1950}, {\"dt\": \"1950-10-01T00:00:00\", \"AverageTemperature\": 12.633, \"AverageTemperatureUncertainty\": 0.211, \"City\": \"New York\", \"Country\": \"United States\", \"Latitude\": 40.99, \"Longitude\": -74.56, \"InNYC\": true, \"Month\": 10, \"Year\": 1950}, {\"dt\": \"1951-01-01T00:00:00\", \"AverageTemperature\": -0.7229999999999999, \"AverageTemperatureUncertainty\": 0.2789999999999999, \"City\": \"New York\", \"Country\": \"United States\", \"Latitude\": 40.99, \"Longitude\": -74.56, \"InNYC\": true, \"Month\": 1, \"Year\": 1951}, {\"dt\": \"1951-04-01T00:00:00\", \"AverageTemperature\": 9.576, \"AverageTemperatureUncertainty\": 0.265, \"City\": \"New York\", \"Country\": \"United States\", \"Latitude\": 40.99, \"Longitude\": -74.56, \"InNYC\": true, \"Month\": 4, \"Year\": 1951}, {\"dt\": \"1951-07-01T00:00:00\", \"AverageTemperature\": 22.364, \"AverageTemperatureUncertainty\": 0.26, \"City\": \"New York\", \"Country\": \"United States\", \"Latitude\": 40.99, \"Longitude\": -74.56, \"InNYC\": true, \"Month\": 7, \"Year\": 1951}, {\"dt\": \"1951-10-01T00:00:00\", \"AverageTemperature\": 12.236999999999998, \"AverageTemperatureUncertainty\": 0.208, \"City\": \"New York\", \"Country\": \"United States\", \"Latitude\": 40.99, \"Longitude\": -74.56, \"InNYC\": true, \"Month\": 10, \"Year\": 1951}, {\"dt\": \"1952-01-01T00:00:00\", \"AverageTemperature\": -0.5659999999999998, \"AverageTemperatureUncertainty\": 0.162, \"City\": \"New York\", \"Country\": \"United States\", \"Latitude\": 40.99, \"Longitude\": -74.56, \"InNYC\": true, \"Month\": 1, \"Year\": 1952}, {\"dt\": \"1952-04-01T00:00:00\", \"AverageTemperature\": 10.661, \"AverageTemperatureUncertainty\": 0.186, \"City\": \"New York\", \"Country\": \"United States\", \"Latitude\": 40.99, \"Longitude\": -74.56, \"InNYC\": true, \"Month\": 4, \"Year\": 1952}, {\"dt\": \"1952-07-01T00:00:00\", \"AverageTemperature\": 23.964, \"AverageTemperatureUncertainty\": 0.264, \"City\": \"New York\", \"Country\": \"United States\", \"Latitude\": 40.99, \"Longitude\": -74.56, \"InNYC\": true, \"Month\": 7, \"Year\": 1952}, {\"dt\": \"1952-10-01T00:00:00\", \"AverageTemperature\": 9.439, \"AverageTemperatureUncertainty\": 0.204, \"City\": \"New York\", \"Country\": \"United States\", \"Latitude\": 40.99, \"Longitude\": -74.56, \"InNYC\": true, \"Month\": 10, \"Year\": 1952}, {\"dt\": \"1953-01-01T00:00:00\", \"AverageTemperature\": 0.1139999999999998, \"AverageTemperatureUncertainty\": 0.2019999999999999, \"City\": \"New York\", \"Country\": \"United States\", \"Latitude\": 40.99, \"Longitude\": -74.56, \"InNYC\": true, \"Month\": 1, \"Year\": 1953}, {\"dt\": \"1953-04-01T00:00:00\", \"AverageTemperature\": 9.141, \"AverageTemperatureUncertainty\": 0.244, \"City\": \"New York\", \"Country\": \"United States\", \"Latitude\": 40.99, \"Longitude\": -74.56, \"InNYC\": true, \"Month\": 4, \"Year\": 1953}, {\"dt\": \"1953-07-01T00:00:00\", \"AverageTemperature\": 22.746, \"AverageTemperatureUncertainty\": 0.196, \"City\": \"New York\", \"Country\": \"United States\", \"Latitude\": 40.99, \"Longitude\": -74.56, \"InNYC\": true, \"Month\": 7, \"Year\": 1953}, {\"dt\": \"1953-10-01T00:00:00\", \"AverageTemperature\": 12.341, \"AverageTemperatureUncertainty\": 0.205, \"City\": \"New York\", \"Country\": \"United States\", \"Latitude\": 40.99, \"Longitude\": -74.56, \"InNYC\": true, \"Month\": 10, \"Year\": 1953}, {\"dt\": \"1954-01-01T00:00:00\", \"AverageTemperature\": -3.727, \"AverageTemperatureUncertainty\": 0.238, \"City\": \"New York\", \"Country\": \"United States\", \"Latitude\": 40.99, \"Longitude\": -74.56, \"InNYC\": true, \"Month\": 1, \"Year\": 1954}, {\"dt\": \"1954-04-01T00:00:00\", \"AverageTemperature\": 10.454, \"AverageTemperatureUncertainty\": 0.225, \"City\": \"New York\", \"Country\": \"United States\", \"Latitude\": 40.99, \"Longitude\": -74.56, \"InNYC\": true, \"Month\": 4, \"Year\": 1954}, {\"dt\": \"1954-07-01T00:00:00\", \"AverageTemperature\": 22.163, \"AverageTemperatureUncertainty\": 0.2239999999999999, \"City\": \"New York\", \"Country\": \"United States\", \"Latitude\": 40.99, \"Longitude\": -74.56, \"InNYC\": true, \"Month\": 7, \"Year\": 1954}, {\"dt\": \"1954-10-01T00:00:00\", \"AverageTemperature\": 13.401, \"AverageTemperatureUncertainty\": 0.149, \"City\": \"New York\", \"Country\": \"United States\", \"Latitude\": 40.99, \"Longitude\": -74.56, \"InNYC\": true, \"Month\": 10, \"Year\": 1954}, {\"dt\": \"1955-01-01T00:00:00\", \"AverageTemperature\": -3.442, \"AverageTemperatureUncertainty\": 0.276, \"City\": \"New York\", \"Country\": \"United States\", \"Latitude\": 40.99, \"Longitude\": -74.56, \"InNYC\": true, \"Month\": 1, \"Year\": 1955}, {\"dt\": \"1955-04-01T00:00:00\", \"AverageTemperature\": 10.826, \"AverageTemperatureUncertainty\": 0.256, \"City\": \"New York\", \"Country\": \"United States\", \"Latitude\": 40.99, \"Longitude\": -74.56, \"InNYC\": true, \"Month\": 4, \"Year\": 1955}, {\"dt\": \"1955-07-01T00:00:00\", \"AverageTemperature\": 25.313, \"AverageTemperatureUncertainty\": 0.184, \"City\": \"New York\", \"Country\": \"United States\", \"Latitude\": 40.99, \"Longitude\": -74.56, \"InNYC\": true, \"Month\": 7, \"Year\": 1955}, {\"dt\": \"1955-10-01T00:00:00\", \"AverageTemperature\": 12.69, \"AverageTemperatureUncertainty\": 0.243, \"City\": \"New York\", \"Country\": \"United States\", \"Latitude\": 40.99, \"Longitude\": -74.56, \"InNYC\": true, \"Month\": 10, \"Year\": 1955}, {\"dt\": \"1956-01-01T00:00:00\", \"AverageTemperature\": -2.2030000000000003, \"AverageTemperatureUncertainty\": 0.218, \"City\": \"New York\", \"Country\": \"United States\", \"Latitude\": 40.99, \"Longitude\": -74.56, \"InNYC\": true, \"Month\": 1, \"Year\": 1956}, {\"dt\": \"1956-04-01T00:00:00\", \"AverageTemperature\": 7.218999999999999, \"AverageTemperatureUncertainty\": 0.267, \"City\": \"New York\", \"Country\": \"United States\", \"Latitude\": 40.99, \"Longitude\": -74.56, \"InNYC\": true, \"Month\": 4, \"Year\": 1956}, {\"dt\": \"1956-07-01T00:00:00\", \"AverageTemperature\": 20.977, \"AverageTemperatureUncertainty\": 0.1939999999999999, \"City\": \"New York\", \"Country\": \"United States\", \"Latitude\": 40.99, \"Longitude\": -74.56, \"InNYC\": true, \"Month\": 7, \"Year\": 1956}, {\"dt\": \"1956-10-01T00:00:00\", \"AverageTemperature\": 11.646999999999998, \"AverageTemperatureUncertainty\": 0.23, \"City\": \"New York\", \"Country\": \"United States\", \"Latitude\": 40.99, \"Longitude\": -74.56, \"InNYC\": true, \"Month\": 10, \"Year\": 1956}, {\"dt\": \"1957-01-01T00:00:00\", \"AverageTemperature\": -4.863, \"AverageTemperatureUncertainty\": 0.244, \"City\": \"New York\", \"Country\": \"United States\", \"Latitude\": 40.99, \"Longitude\": -74.56, \"InNYC\": true, \"Month\": 1, \"Year\": 1957}, {\"dt\": \"1957-04-01T00:00:00\", \"AverageTemperature\": 10.322, \"AverageTemperatureUncertainty\": 0.433, \"City\": \"New York\", \"Country\": \"United States\", \"Latitude\": 40.99, \"Longitude\": -74.56, \"InNYC\": true, \"Month\": 4, \"Year\": 1957}, {\"dt\": \"1957-07-01T00:00:00\", \"AverageTemperature\": 22.495, \"AverageTemperatureUncertainty\": 0.411, \"City\": \"New York\", \"Country\": \"United States\", \"Latitude\": 40.99, \"Longitude\": -74.56, \"InNYC\": true, \"Month\": 7, \"Year\": 1957}, {\"dt\": \"1957-10-01T00:00:00\", \"AverageTemperature\": 10.342, \"AverageTemperatureUncertainty\": 0.402, \"City\": \"New York\", \"Country\": \"United States\", \"Latitude\": 40.99, \"Longitude\": -74.56, \"InNYC\": true, \"Month\": 10, \"Year\": 1957}, {\"dt\": \"1958-01-01T00:00:00\", \"AverageTemperature\": -2.858, \"AverageTemperatureUncertainty\": 0.254, \"City\": \"New York\", \"Country\": \"United States\", \"Latitude\": 40.99, \"Longitude\": -74.56, \"InNYC\": true, \"Month\": 1, \"Year\": 1958}, {\"dt\": \"1958-04-01T00:00:00\", \"AverageTemperature\": 9.897, \"AverageTemperatureUncertainty\": 0.254, \"City\": \"New York\", \"Country\": \"United States\", \"Latitude\": 40.99, \"Longitude\": -74.56, \"InNYC\": true, \"Month\": 4, \"Year\": 1958}, {\"dt\": \"1958-07-01T00:00:00\", \"AverageTemperature\": 22.996, \"AverageTemperatureUncertainty\": 0.435, \"City\": \"New York\", \"Country\": \"United States\", \"Latitude\": 40.99, \"Longitude\": -74.56, \"InNYC\": true, \"Month\": 7, \"Year\": 1958}, {\"dt\": \"1958-10-01T00:00:00\", \"AverageTemperature\": 10.384, \"AverageTemperatureUncertainty\": 0.207, \"City\": \"New York\", \"Country\": \"United States\", \"Latitude\": 40.99, \"Longitude\": -74.56, \"InNYC\": true, \"Month\": 10, \"Year\": 1958}, {\"dt\": \"1959-01-01T00:00:00\", \"AverageTemperature\": -3.023, \"AverageTemperatureUncertainty\": 0.3929999999999999, \"City\": \"New York\", \"Country\": \"United States\", \"Latitude\": 40.99, \"Longitude\": -74.56, \"InNYC\": true, \"Month\": 1, \"Year\": 1959}, {\"dt\": \"1959-04-01T00:00:00\", \"AverageTemperature\": 10.352, \"AverageTemperatureUncertainty\": 0.374, \"City\": \"New York\", \"Country\": \"United States\", \"Latitude\": 40.99, \"Longitude\": -74.56, \"InNYC\": true, \"Month\": 4, \"Year\": 1959}, {\"dt\": \"1959-07-01T00:00:00\", \"AverageTemperature\": 23.06600000000001, \"AverageTemperatureUncertainty\": 0.291, \"City\": \"New York\", \"Country\": \"United States\", \"Latitude\": 40.99, \"Longitude\": -74.56, \"InNYC\": true, \"Month\": 7, \"Year\": 1959}, {\"dt\": \"1959-10-01T00:00:00\", \"AverageTemperature\": 12.914, \"AverageTemperatureUncertainty\": 0.295, \"City\": \"New York\", \"Country\": \"United States\", \"Latitude\": 40.99, \"Longitude\": -74.56, \"InNYC\": true, \"Month\": 10, \"Year\": 1959}, {\"dt\": \"1960-01-01T00:00:00\", \"AverageTemperature\": -1.5930000000000002, \"AverageTemperatureUncertainty\": 0.155, \"City\": \"New York\", \"Country\": \"United States\", \"Latitude\": 40.99, \"Longitude\": -74.56, \"InNYC\": true, \"Month\": 1, \"Year\": 1960}, {\"dt\": \"1960-04-01T00:00:00\", \"AverageTemperature\": 11.24, \"AverageTemperatureUncertainty\": 0.271, \"City\": \"New York\", \"Country\": \"United States\", \"Latitude\": 40.99, \"Longitude\": -74.56, \"InNYC\": true, \"Month\": 4, \"Year\": 1960}, {\"dt\": \"1960-07-01T00:00:00\", \"AverageTemperature\": 21.431, \"AverageTemperatureUncertainty\": 0.185, \"City\": \"New York\", \"Country\": \"United States\", \"Latitude\": 40.99, \"Longitude\": -74.56, \"InNYC\": true, \"Month\": 7, \"Year\": 1960}, {\"dt\": \"1960-10-01T00:00:00\", \"AverageTemperature\": 10.973, \"AverageTemperatureUncertainty\": 0.151, \"City\": \"New York\", \"Country\": \"United States\", \"Latitude\": 40.99, \"Longitude\": -74.56, \"InNYC\": true, \"Month\": 10, \"Year\": 1960}]}}, {\"mode\": \"vega-lite\"});\n",
       "</script>"
      ],
      "text/plain": [
       "alt.Chart(...)"
      ]
     },
     "execution_count": 1,
     "metadata": {},
     "output_type": "execute_result"
    }
   ],
   "source": [
    "filter = df[\"City\"].isin([\"New York\", \"Los Angeles\", \"Detroit\"]) & (df[\"Year\"] >= 1950) & (df[\"Year\"] <= 1960)\n",
    "period = df.loc[filter]\n",
    "chart = (alt.Chart(period)\n",
    "         .mark_line()\n",
    "         .encode(x = \"dt\",\n",
    "                 y = \"AverageTemperature\",\n",
    "                 color = \"City\",\n",
    "                 strokeDash = \"City\"))\n",
    "chart"
   ]
  },
  {
   "cell_type": "markdown",
   "id": "6d9d1313",
   "metadata": {},
   "source": [
    "How does the temperature vary with latitude?"
   ]
  },
  {
   "cell_type": "code",
   "execution_count": 24,
   "id": "f10e8597",
   "metadata": {
    "execution": {
     "iopub.execute_input": "2021-05-27T16:07:04.608295Z",
     "iopub.status.busy": "2021-05-27T16:07:04.607431Z",
     "iopub.status.idle": "2021-05-27T16:07:04.625947Z",
     "shell.execute_reply": "2021-05-27T16:07:04.626780Z"
    }
   },
   "outputs": [
    {
     "data": {
      "text/html": [
       "\n",
       "<div id=\"altair-viz-7b5b3d9819f74efc99c2e9d3ae719ebe\"></div>\n",
       "<script type=\"text/javascript\">\n",
       "  (function(spec, embedOpt){\n",
       "    let outputDiv = document.currentScript.previousElementSibling;\n",
       "    if (outputDiv.id !== \"altair-viz-7b5b3d9819f74efc99c2e9d3ae719ebe\") {\n",
       "      outputDiv = document.getElementById(\"altair-viz-7b5b3d9819f74efc99c2e9d3ae719ebe\");\n",
       "    }\n",
       "    const paths = {\n",
       "      \"vega\": \"https://cdn.jsdelivr.net/npm//vega@5?noext\",\n",
       "      \"vega-lib\": \"https://cdn.jsdelivr.net/npm//vega-lib?noext\",\n",
       "      \"vega-lite\": \"https://cdn.jsdelivr.net/npm//vega-lite@4.8.1?noext\",\n",
       "      \"vega-embed\": \"https://cdn.jsdelivr.net/npm//vega-embed@6?noext\",\n",
       "    };\n",
       "\n",
       "    function loadScript(lib) {\n",
       "      return new Promise(function(resolve, reject) {\n",
       "        var s = document.createElement('script');\n",
       "        s.src = paths[lib];\n",
       "        s.async = true;\n",
       "        s.onload = () => resolve(paths[lib]);\n",
       "        s.onerror = () => reject(`Error loading script: ${paths[lib]}`);\n",
       "        document.getElementsByTagName(\"head\")[0].appendChild(s);\n",
       "      });\n",
       "    }\n",
       "\n",
       "    function showError(err) {\n",
       "      outputDiv.innerHTML = `<div class=\"error\" style=\"color:red;\">${err}</div>`;\n",
       "      throw err;\n",
       "    }\n",
       "\n",
       "    function displayChart(vegaEmbed) {\n",
       "      vegaEmbed(outputDiv, spec, embedOpt)\n",
       "        .catch(err => showError(`Javascript Error: ${err.message}<br>This usually means there's a typo in your chart specification. See the javascript console for the full traceback.`));\n",
       "    }\n",
       "\n",
       "    if(typeof define === \"function\" && define.amd) {\n",
       "      requirejs.config({paths});\n",
       "      require([\"vega-embed\"], displayChart, err => showError(`Error loading script: ${err.message}`));\n",
       "    } else if (typeof vegaEmbed === \"function\") {\n",
       "      displayChart(vegaEmbed);\n",
       "    } else {\n",
       "      loadScript(\"vega\")\n",
       "        .then(() => loadScript(\"vega-lite\"))\n",
       "        .then(() => loadScript(\"vega-embed\"))\n",
       "        .catch(showError)\n",
       "        .then(() => displayChart(vegaEmbed));\n",
       "    }\n",
       "  })({\"config\": {\"view\": {\"continuousWidth\": 400, \"continuousHeight\": 300}}, \"data\": {\"name\": \"data-b65129e70bcc4be755dabac34ad5c1d0\"}, \"mark\": \"point\", \"encoding\": {\"tooltip\": [{\"type\": \"nominal\", \"field\": \"City\"}, {\"type\": \"nominal\", \"field\": \"Country\"}], \"x\": {\"type\": \"quantitative\", \"field\": \"Latitude\"}, \"y\": {\"type\": \"quantitative\", \"field\": \"AverageTemperature\"}}, \"$schema\": \"https://vega.github.io/schema/vega-lite/v4.8.1.json\", \"datasets\": {\"data-b65129e70bcc4be755dabac34ad5c1d0\": [{\"dt\": \"1950-07-01T00:00:00\", \"AverageTemperature\": 22.148000000000003, \"AverageTemperatureUncertainty\": 0.198, \"City\": \"Albuquerque\", \"Country\": \"United States\", \"Latitude\": 34.56, \"Longitude\": -107.03, \"InNYC\": false, \"Month\": 7, \"Year\": 1950}, {\"dt\": \"1950-07-01T00:00:00\", \"AverageTemperature\": 28.817, \"AverageTemperatureUncertainty\": 0.206, \"City\": \"Austin\", \"Country\": \"United States\", \"Latitude\": 29.74, \"Longitude\": -97.85, \"InNYC\": false, \"Month\": 7, \"Year\": 1950}, {\"dt\": \"1950-07-01T00:00:00\", \"AverageTemperature\": 23.133000000000006, \"AverageTemperatureUncertainty\": 0.2789999999999999, \"City\": \"Baltimore\", \"Country\": \"United States\", \"Latitude\": 39.38, \"Longitude\": -76.99, \"InNYC\": false, \"Month\": 7, \"Year\": 1950}, {\"dt\": \"1950-07-01T00:00:00\", \"AverageTemperature\": 20.544, \"AverageTemperatureUncertainty\": 0.418, \"City\": \"Boston\", \"Country\": \"United States\", \"Latitude\": 42.59, \"Longitude\": -72.0, \"InNYC\": false, \"Month\": 7, \"Year\": 1950}, {\"dt\": \"1950-07-01T00:00:00\", \"AverageTemperature\": 25.075, \"AverageTemperatureUncertainty\": 0.262, \"City\": \"Charlotte\", \"Country\": \"United States\", \"Latitude\": 34.56, \"Longitude\": -81.73, \"InNYC\": false, \"Month\": 7, \"Year\": 1950}, {\"dt\": \"1950-07-01T00:00:00\", \"AverageTemperature\": 20.247, \"AverageTemperatureUncertainty\": 0.2289999999999999, \"City\": \"Chicago\", \"Country\": \"United States\", \"Latitude\": 42.59, \"Longitude\": -87.27, \"InNYC\": false, \"Month\": 7, \"Year\": 1950}, {\"dt\": \"1950-07-01T00:00:00\", \"AverageTemperature\": 25.187, \"AverageTemperatureUncertainty\": 0.268, \"City\": \"Columbus\", \"Country\": \"United States\", \"Latitude\": 32.95, \"Longitude\": -85.21, \"InNYC\": false, \"Month\": 7, \"Year\": 1950}, {\"dt\": \"1950-07-01T00:00:00\", \"AverageTemperature\": 22.168000000000003, \"AverageTemperatureUncertainty\": 0.249, \"City\": \"Columbus\", \"Country\": \"United States\", \"Latitude\": 39.38, \"Longitude\": -83.24, \"InNYC\": false, \"Month\": 7, \"Year\": 1950}, {\"dt\": \"1950-07-01T00:00:00\", \"AverageTemperature\": 26.982, \"AverageTemperatureUncertainty\": 0.278, \"City\": \"Dallas\", \"Country\": \"United States\", \"Latitude\": 32.95, \"Longitude\": -96.7, \"InNYC\": false, \"Month\": 7, \"Year\": 1950}, {\"dt\": \"1950-07-01T00:00:00\", \"AverageTemperature\": 19.942, \"AverageTemperatureUncertainty\": 0.276, \"City\": \"Denver\", \"Country\": \"United States\", \"Latitude\": 39.38, \"Longitude\": -104.05, \"InNYC\": false, \"Month\": 7, \"Year\": 1950}, {\"dt\": \"1950-07-01T00:00:00\", \"AverageTemperature\": 20.916, \"AverageTemperatureUncertainty\": 0.1969999999999999, \"City\": \"Detroit\", \"Country\": \"United States\", \"Latitude\": 42.59, \"Longitude\": -82.91, \"InNYC\": false, \"Month\": 7, \"Year\": 1950}, {\"dt\": \"1950-07-01T00:00:00\", \"AverageTemperature\": 24.864, \"AverageTemperatureUncertainty\": 0.201, \"City\": \"El Paso\", \"Country\": \"United States\", \"Latitude\": 31.35, \"Longitude\": -105.55, \"InNYC\": false, \"Month\": 7, \"Year\": 1950}, {\"dt\": \"1950-07-01T00:00:00\", \"AverageTemperature\": 26.982, \"AverageTemperatureUncertainty\": 0.278, \"City\": \"Fort Worth\", \"Country\": \"United States\", \"Latitude\": 32.95, \"Longitude\": -96.7, \"InNYC\": false, \"Month\": 7, \"Year\": 1950}, {\"dt\": \"1950-07-01T00:00:00\", \"AverageTemperature\": 27.256, \"AverageTemperatureUncertainty\": 0.466, \"City\": \"Fresno\", \"Country\": \"United States\", \"Latitude\": 36.17, \"Longitude\": -119.34, \"InNYC\": false, \"Month\": 7, \"Year\": 1950}, {\"dt\": \"1950-07-01T00:00:00\", \"AverageTemperature\": 28.248, \"AverageTemperatureUncertainty\": 0.195, \"City\": \"Houston\", \"Country\": \"United States\", \"Latitude\": 29.74, \"Longitude\": -96.0, \"InNYC\": false, \"Month\": 7, \"Year\": 1950}, {\"dt\": \"1950-07-01T00:00:00\", \"AverageTemperature\": 22.203000000000003, \"AverageTemperatureUncertainty\": 0.32, \"City\": \"Indianapolis\", \"Country\": \"United States\", \"Latitude\": 39.38, \"Longitude\": -85.32, \"InNYC\": false, \"Month\": 7, \"Year\": 1950}, {\"dt\": \"1950-07-01T00:00:00\", \"AverageTemperature\": 26.188, \"AverageTemperatureUncertainty\": 0.256, \"City\": \"Jacksonville\", \"Country\": \"United States\", \"Latitude\": 29.74, \"Longitude\": -81.23, \"InNYC\": false, \"Month\": 7, \"Year\": 1950}, {\"dt\": \"1950-07-01T00:00:00\", \"AverageTemperature\": 29.69, \"AverageTemperatureUncertainty\": 0.2739999999999999, \"City\": \"Las Vegas\", \"Country\": \"United States\", \"Latitude\": 36.17, \"Longitude\": -115.36, \"InNYC\": false, \"Month\": 7, \"Year\": 1950}, {\"dt\": \"1950-07-01T00:00:00\", \"AverageTemperature\": 24.212, \"AverageTemperatureUncertainty\": 0.505, \"City\": \"Los Angeles\", \"Country\": \"United States\", \"Latitude\": 34.56, \"Longitude\": -118.7, \"InNYC\": false, \"Month\": 7, \"Year\": 1950}, {\"dt\": \"1950-07-01T00:00:00\", \"AverageTemperature\": 22.943, \"AverageTemperatureUncertainty\": 0.166, \"City\": \"Louisville\", \"Country\": \"United States\", \"Latitude\": 37.78, \"Longitude\": -85.42, \"InNYC\": false, \"Month\": 7, \"Year\": 1950}, {\"dt\": \"1950-07-01T00:00:00\", \"AverageTemperature\": 25.273000000000003, \"AverageTemperatureUncertainty\": 0.198, \"City\": \"Memphis\", \"Country\": \"United States\", \"Latitude\": 34.56, \"Longitude\": -89.51, \"InNYC\": false, \"Month\": 7, \"Year\": 1950}, {\"dt\": \"1950-07-01T00:00:00\", \"AverageTemperature\": 20.247, \"AverageTemperatureUncertainty\": 0.2289999999999999, \"City\": \"Milwaukee\", \"Country\": \"United States\", \"Latitude\": 42.59, \"Longitude\": -87.27, \"InNYC\": false, \"Month\": 7, \"Year\": 1950}, {\"dt\": \"1950-07-01T00:00:00\", \"AverageTemperature\": 23.784, \"AverageTemperatureUncertainty\": 0.335, \"City\": \"Nashville\", \"Country\": \"United States\", \"Latitude\": 36.17, \"Longitude\": -87.51, \"InNYC\": false, \"Month\": 7, \"Year\": 1950}, {\"dt\": \"1950-07-01T00:00:00\", \"AverageTemperature\": 21.613000000000003, \"AverageTemperatureUncertainty\": 0.133, \"City\": \"New York\", \"Country\": \"United States\", \"Latitude\": 40.99, \"Longitude\": -74.56, \"InNYC\": true, \"Month\": 7, \"Year\": 1950}, {\"dt\": \"1950-07-01T00:00:00\", \"AverageTemperature\": 24.761, \"AverageTemperatureUncertainty\": 0.305, \"City\": \"Oklahoma City\", \"Country\": \"United States\", \"Latitude\": 36.17, \"Longitude\": -97.46, \"InNYC\": false, \"Month\": 7, \"Year\": 1950}, {\"dt\": \"1950-07-01T00:00:00\", \"AverageTemperature\": 23.267, \"AverageTemperatureUncertainty\": 0.387, \"City\": \"Philadelphia\", \"Country\": \"United States\", \"Latitude\": 39.38, \"Longitude\": -74.91, \"InNYC\": false, \"Month\": 7, \"Year\": 1950}, {\"dt\": \"1950-07-01T00:00:00\", \"AverageTemperature\": 31.334, \"AverageTemperatureUncertainty\": 0.273, \"City\": \"Phoenix\", \"Country\": \"United States\", \"Latitude\": 32.95, \"Longitude\": -112.02, \"InNYC\": false, \"Month\": 7, \"Year\": 1950}, {\"dt\": \"1950-07-01T00:00:00\", \"AverageTemperature\": 16.081999999999994, \"AverageTemperatureUncertainty\": 0.171, \"City\": \"Portland\", \"Country\": \"United States\", \"Latitude\": 45.81, \"Longitude\": -123.46, \"InNYC\": false, \"Month\": 7, \"Year\": 1950}, {\"dt\": \"1950-07-01T00:00:00\", \"AverageTemperature\": 28.817, \"AverageTemperatureUncertainty\": 0.206, \"City\": \"San Antonio\", \"Country\": \"United States\", \"Latitude\": 29.74, \"Longitude\": -97.85, \"InNYC\": false, \"Month\": 7, \"Year\": 1950}, {\"dt\": \"1950-07-01T00:00:00\", \"AverageTemperature\": 19.116, \"AverageTemperatureUncertainty\": 0.21, \"City\": \"San Diego\", \"Country\": \"United States\", \"Latitude\": 32.95, \"Longitude\": -117.77, \"InNYC\": false, \"Month\": 7, \"Year\": 1950}, {\"dt\": \"1950-07-01T00:00:00\", \"AverageTemperature\": 19.749, \"AverageTemperatureUncertainty\": 0.3, \"City\": \"San Francisco\", \"Country\": \"United States\", \"Latitude\": 37.78, \"Longitude\": -122.03, \"InNYC\": false, \"Month\": 7, \"Year\": 1950}, {\"dt\": \"1950-07-01T00:00:00\", \"AverageTemperature\": 19.749, \"AverageTemperatureUncertainty\": 0.3, \"City\": \"San Jose\", \"Country\": \"United States\", \"Latitude\": 37.78, \"Longitude\": -122.03, \"InNYC\": false, \"Month\": 7, \"Year\": 1950}, {\"dt\": \"1950-07-01T00:00:00\", \"AverageTemperature\": 15.159, \"AverageTemperatureUncertainty\": 0.15, \"City\": \"Seattle\", \"Country\": \"United States\", \"Latitude\": 47.42, \"Longitude\": -121.97, \"InNYC\": false, \"Month\": 7, \"Year\": 1950}, {\"dt\": \"1950-07-01T00:00:00\", \"AverageTemperature\": 25.607, \"AverageTemperatureUncertainty\": 0.243, \"City\": \"Tucson\", \"Country\": \"United States\", \"Latitude\": 31.35, \"Longitude\": -111.2, \"InNYC\": false, \"Month\": 7, \"Year\": 1950}, {\"dt\": \"1950-07-01T00:00:00\", \"AverageTemperature\": 16.081999999999994, \"AverageTemperatureUncertainty\": 0.171, \"City\": \"Vancouver\", \"Country\": \"United States\", \"Latitude\": 45.81, \"Longitude\": -123.46, \"InNYC\": false, \"Month\": 7, \"Year\": 1950}]}}, {\"mode\": \"vega-lite\"});\n",
       "</script>"
      ],
      "text/plain": [
       "alt.Chart(...)"
      ]
     },
     "execution_count": 1,
     "metadata": {},
     "output_type": "execute_result"
    }
   ],
   "source": [
    "filter = ((df[\"Country\"] == \"United States\") &\n",
    "         (df[\"Year\"] == 1950) &\n",
    "         (df[\"Month\"] == 7))\n",
    "period = df.loc[filter]\n",
    "chart = (alt.Chart(period)\n",
    "         .mark_point()\n",
    "         .encode(\n",
    "             y = \"AverageTemperature\",\n",
    "             x = \"Latitude\",\n",
    "             tooltip=[\"City\", \"Country\"],\n",
    "         ))\n",
    "chart"
   ]
  },
  {
   "cell_type": "code",
   "execution_count": 25,
   "id": "200132af",
   "metadata": {
    "execution": {
     "iopub.execute_input": "2021-05-27T16:07:04.633855Z",
     "iopub.status.busy": "2021-05-27T16:07:04.633004Z",
     "iopub.status.idle": "2021-05-27T16:07:04.656432Z",
     "shell.execute_reply": "2021-05-27T16:07:04.657131Z"
    },
    "lines_to_next_cell": 2
   },
   "outputs": [
    {
     "data": {
      "text/html": [
       "\n",
       "<div id=\"altair-viz-8321ebd1cae24f2fb69552a7291c074d\"></div>\n",
       "<script type=\"text/javascript\">\n",
       "  (function(spec, embedOpt){\n",
       "    let outputDiv = document.currentScript.previousElementSibling;\n",
       "    if (outputDiv.id !== \"altair-viz-8321ebd1cae24f2fb69552a7291c074d\") {\n",
       "      outputDiv = document.getElementById(\"altair-viz-8321ebd1cae24f2fb69552a7291c074d\");\n",
       "    }\n",
       "    const paths = {\n",
       "      \"vega\": \"https://cdn.jsdelivr.net/npm//vega@5?noext\",\n",
       "      \"vega-lib\": \"https://cdn.jsdelivr.net/npm//vega-lib?noext\",\n",
       "      \"vega-lite\": \"https://cdn.jsdelivr.net/npm//vega-lite@4.8.1?noext\",\n",
       "      \"vega-embed\": \"https://cdn.jsdelivr.net/npm//vega-embed@6?noext\",\n",
       "    };\n",
       "\n",
       "    function loadScript(lib) {\n",
       "      return new Promise(function(resolve, reject) {\n",
       "        var s = document.createElement('script');\n",
       "        s.src = paths[lib];\n",
       "        s.async = true;\n",
       "        s.onload = () => resolve(paths[lib]);\n",
       "        s.onerror = () => reject(`Error loading script: ${paths[lib]}`);\n",
       "        document.getElementsByTagName(\"head\")[0].appendChild(s);\n",
       "      });\n",
       "    }\n",
       "\n",
       "    function showError(err) {\n",
       "      outputDiv.innerHTML = `<div class=\"error\" style=\"color:red;\">${err}</div>`;\n",
       "      throw err;\n",
       "    }\n",
       "\n",
       "    function displayChart(vegaEmbed) {\n",
       "      vegaEmbed(outputDiv, spec, embedOpt)\n",
       "        .catch(err => showError(`Javascript Error: ${err.message}<br>This usually means there's a typo in your chart specification. See the javascript console for the full traceback.`));\n",
       "    }\n",
       "\n",
       "    if(typeof define === \"function\" && define.amd) {\n",
       "      requirejs.config({paths});\n",
       "      require([\"vega-embed\"], displayChart, err => showError(`Error loading script: ${err.message}`));\n",
       "    } else if (typeof vegaEmbed === \"function\") {\n",
       "      displayChart(vegaEmbed);\n",
       "    } else {\n",
       "      loadScript(\"vega\")\n",
       "        .then(() => loadScript(\"vega-lite\"))\n",
       "        .then(() => loadScript(\"vega-embed\"))\n",
       "        .catch(showError)\n",
       "        .then(() => displayChart(vegaEmbed));\n",
       "    }\n",
       "  })({\"config\": {\"view\": {\"continuousWidth\": 400, \"continuousHeight\": 300}}, \"data\": {\"name\": \"data-5dce0a792637c53568bb6c6fb0d05b0e\"}, \"mark\": \"point\", \"encoding\": {\"facet\": {\"type\": \"quantitative\", \"field\": \"Month\"}, \"tooltip\": [{\"type\": \"nominal\", \"field\": \"City\"}, {\"type\": \"nominal\", \"field\": \"Country\"}], \"x\": {\"type\": \"quantitative\", \"field\": \"Latitude\"}, \"y\": {\"type\": \"quantitative\", \"field\": \"AverageTemperature\"}}, \"$schema\": \"https://vega.github.io/schema/vega-lite/v4.8.1.json\", \"datasets\": {\"data-5dce0a792637c53568bb6c6fb0d05b0e\": [{\"dt\": \"1950-01-01T00:00:00\", \"AverageTemperature\": 0.777, \"AverageTemperatureUncertainty\": 0.365, \"City\": \"Albuquerque\", \"Country\": \"United States\", \"Latitude\": 34.56, \"Longitude\": -107.03, \"InNYC\": false, \"Month\": 1, \"Year\": 1950}, {\"dt\": \"1950-04-01T00:00:00\", \"AverageTemperature\": 12.121, \"AverageTemperatureUncertainty\": 0.237, \"City\": \"Albuquerque\", \"Country\": \"United States\", \"Latitude\": 34.56, \"Longitude\": -107.03, \"InNYC\": false, \"Month\": 4, \"Year\": 1950}, {\"dt\": \"1950-07-01T00:00:00\", \"AverageTemperature\": 22.148000000000003, \"AverageTemperatureUncertainty\": 0.198, \"City\": \"Albuquerque\", \"Country\": \"United States\", \"Latitude\": 34.56, \"Longitude\": -107.03, \"InNYC\": false, \"Month\": 7, \"Year\": 1950}, {\"dt\": \"1950-10-01T00:00:00\", \"AverageTemperature\": 14.964, \"AverageTemperatureUncertainty\": 0.152, \"City\": \"Albuquerque\", \"Country\": \"United States\", \"Latitude\": 34.56, \"Longitude\": -107.03, \"InNYC\": false, \"Month\": 10, \"Year\": 1950}, {\"dt\": \"1950-01-01T00:00:00\", \"AverageTemperature\": 14.425, \"AverageTemperatureUncertainty\": 0.413, \"City\": \"Austin\", \"Country\": \"United States\", \"Latitude\": 29.74, \"Longitude\": -97.85, \"InNYC\": false, \"Month\": 1, \"Year\": 1950}, {\"dt\": \"1950-04-01T00:00:00\", \"AverageTemperature\": 19.089, \"AverageTemperatureUncertainty\": 0.3779999999999999, \"City\": \"Austin\", \"Country\": \"United States\", \"Latitude\": 29.74, \"Longitude\": -97.85, \"InNYC\": false, \"Month\": 4, \"Year\": 1950}, {\"dt\": \"1950-07-01T00:00:00\", \"AverageTemperature\": 28.817, \"AverageTemperatureUncertainty\": 0.206, \"City\": \"Austin\", \"Country\": \"United States\", \"Latitude\": 29.74, \"Longitude\": -97.85, \"InNYC\": false, \"Month\": 7, \"Year\": 1950}, {\"dt\": \"1950-10-01T00:00:00\", \"AverageTemperature\": 22.811, \"AverageTemperatureUncertainty\": 0.2319999999999999, \"City\": \"Austin\", \"Country\": \"United States\", \"Latitude\": 29.74, \"Longitude\": -97.85, \"InNYC\": false, \"Month\": 10, \"Year\": 1950}, {\"dt\": \"1950-01-01T00:00:00\", \"AverageTemperature\": 6.446999999999999, \"AverageTemperatureUncertainty\": 0.239, \"City\": \"Baltimore\", \"Country\": \"United States\", \"Latitude\": 39.38, \"Longitude\": -76.99, \"InNYC\": false, \"Month\": 1, \"Year\": 1950}, {\"dt\": \"1950-04-01T00:00:00\", \"AverageTemperature\": 9.678, \"AverageTemperatureUncertainty\": 0.191, \"City\": \"Baltimore\", \"Country\": \"United States\", \"Latitude\": 39.38, \"Longitude\": -76.99, \"InNYC\": false, \"Month\": 4, \"Year\": 1950}, {\"dt\": \"1950-07-01T00:00:00\", \"AverageTemperature\": 23.133000000000006, \"AverageTemperatureUncertainty\": 0.2789999999999999, \"City\": \"Baltimore\", \"Country\": \"United States\", \"Latitude\": 39.38, \"Longitude\": -76.99, \"InNYC\": false, \"Month\": 7, \"Year\": 1950}, {\"dt\": \"1950-10-01T00:00:00\", \"AverageTemperature\": 13.932, \"AverageTemperatureUncertainty\": 0.152, \"City\": \"Baltimore\", \"Country\": \"United States\", \"Latitude\": 39.38, \"Longitude\": -76.99, \"InNYC\": false, \"Month\": 10, \"Year\": 1950}, {\"dt\": \"1950-01-01T00:00:00\", \"AverageTemperature\": -1.3549999999999995, \"AverageTemperatureUncertainty\": 0.213, \"City\": \"Boston\", \"Country\": \"United States\", \"Latitude\": 42.59, \"Longitude\": -72.0, \"InNYC\": false, \"Month\": 1, \"Year\": 1950}, {\"dt\": \"1950-04-01T00:00:00\", \"AverageTemperature\": 5.6080000000000005, \"AverageTemperatureUncertainty\": 0.1369999999999999, \"City\": \"Boston\", \"Country\": \"United States\", \"Latitude\": 42.59, \"Longitude\": -72.0, \"InNYC\": false, \"Month\": 4, \"Year\": 1950}, {\"dt\": \"1950-07-01T00:00:00\", \"AverageTemperature\": 20.544, \"AverageTemperatureUncertainty\": 0.418, \"City\": \"Boston\", \"Country\": \"United States\", \"Latitude\": 42.59, \"Longitude\": -72.0, \"InNYC\": false, \"Month\": 7, \"Year\": 1950}, {\"dt\": \"1950-10-01T00:00:00\", \"AverageTemperature\": 10.461, \"AverageTemperatureUncertainty\": 0.306, \"City\": \"Boston\", \"Country\": \"United States\", \"Latitude\": 42.59, \"Longitude\": -72.0, \"InNYC\": false, \"Month\": 10, \"Year\": 1950}, {\"dt\": \"1950-01-01T00:00:00\", \"AverageTemperature\": 12.077, \"AverageTemperatureUncertainty\": 0.262, \"City\": \"Charlotte\", \"Country\": \"United States\", \"Latitude\": 34.56, \"Longitude\": -81.73, \"InNYC\": false, \"Month\": 1, \"Year\": 1950}, {\"dt\": \"1950-04-01T00:00:00\", \"AverageTemperature\": 14.867, \"AverageTemperatureUncertainty\": 0.312, \"City\": \"Charlotte\", \"Country\": \"United States\", \"Latitude\": 34.56, \"Longitude\": -81.73, \"InNYC\": false, \"Month\": 4, \"Year\": 1950}, {\"dt\": \"1950-07-01T00:00:00\", \"AverageTemperature\": 25.075, \"AverageTemperatureUncertainty\": 0.262, \"City\": \"Charlotte\", \"Country\": \"United States\", \"Latitude\": 34.56, \"Longitude\": -81.73, \"InNYC\": false, \"Month\": 7, \"Year\": 1950}, {\"dt\": \"1950-10-01T00:00:00\", \"AverageTemperature\": 18.197, \"AverageTemperatureUncertainty\": 0.268, \"City\": \"Charlotte\", \"Country\": \"United States\", \"Latitude\": 34.56, \"Longitude\": -81.73, \"InNYC\": false, \"Month\": 10, \"Year\": 1950}, {\"dt\": \"1950-01-01T00:00:00\", \"AverageTemperature\": 2.501, \"AverageTemperatureUncertainty\": 0.252, \"City\": \"Chicago\", \"Country\": \"United States\", \"Latitude\": 42.59, \"Longitude\": -87.27, \"InNYC\": false, \"Month\": 1, \"Year\": 1950}, {\"dt\": \"1950-04-01T00:00:00\", \"AverageTemperature\": 3.874, \"AverageTemperatureUncertainty\": 0.357, \"City\": \"Chicago\", \"Country\": \"United States\", \"Latitude\": 42.59, \"Longitude\": -87.27, \"InNYC\": false, \"Month\": 4, \"Year\": 1950}, {\"dt\": \"1950-07-01T00:00:00\", \"AverageTemperature\": 20.247, \"AverageTemperatureUncertainty\": 0.2289999999999999, \"City\": \"Chicago\", \"Country\": \"United States\", \"Latitude\": 42.59, \"Longitude\": -87.27, \"InNYC\": false, \"Month\": 7, \"Year\": 1950}, {\"dt\": \"1950-10-01T00:00:00\", \"AverageTemperature\": 15.481, \"AverageTemperatureUncertainty\": 0.077, \"City\": \"Chicago\", \"Country\": \"United States\", \"Latitude\": 42.59, \"Longitude\": -87.27, \"InNYC\": false, \"Month\": 10, \"Year\": 1950}, {\"dt\": \"1950-01-01T00:00:00\", \"AverageTemperature\": 14.448, \"AverageTemperatureUncertainty\": 0.439, \"City\": \"Columbus\", \"Country\": \"United States\", \"Latitude\": 32.95, \"Longitude\": -85.21, \"InNYC\": false, \"Month\": 1, \"Year\": 1950}, {\"dt\": \"1950-04-01T00:00:00\", \"AverageTemperature\": 14.808, \"AverageTemperatureUncertainty\": 0.302, \"City\": \"Columbus\", \"Country\": \"United States\", \"Latitude\": 32.95, \"Longitude\": -85.21, \"InNYC\": false, \"Month\": 4, \"Year\": 1950}, {\"dt\": \"1950-07-01T00:00:00\", \"AverageTemperature\": 25.187, \"AverageTemperatureUncertainty\": 0.268, \"City\": \"Columbus\", \"Country\": \"United States\", \"Latitude\": 32.95, \"Longitude\": -85.21, \"InNYC\": false, \"Month\": 7, \"Year\": 1950}, {\"dt\": \"1950-10-01T00:00:00\", \"AverageTemperature\": 18.587, \"AverageTemperatureUncertainty\": 0.218, \"City\": \"Columbus\", \"Country\": \"United States\", \"Latitude\": 32.95, \"Longitude\": -85.21, \"InNYC\": false, \"Month\": 10, \"Year\": 1950}, {\"dt\": \"1950-01-01T00:00:00\", \"AverageTemperature\": 5.1080000000000005, \"AverageTemperatureUncertainty\": 0.258, \"City\": \"Columbus\", \"Country\": \"United States\", \"Latitude\": 39.38, \"Longitude\": -83.24, \"InNYC\": false, \"Month\": 1, \"Year\": 1950}, {\"dt\": \"1950-04-01T00:00:00\", \"AverageTemperature\": 8.541, \"AverageTemperatureUncertainty\": 0.4039999999999999, \"City\": \"Columbus\", \"Country\": \"United States\", \"Latitude\": 39.38, \"Longitude\": -83.24, \"InNYC\": false, \"Month\": 4, \"Year\": 1950}, {\"dt\": \"1950-07-01T00:00:00\", \"AverageTemperature\": 22.168000000000003, \"AverageTemperatureUncertainty\": 0.249, \"City\": \"Columbus\", \"Country\": \"United States\", \"Latitude\": 39.38, \"Longitude\": -83.24, \"InNYC\": false, \"Month\": 7, \"Year\": 1950}, {\"dt\": \"1950-10-01T00:00:00\", \"AverageTemperature\": 14.638000000000002, \"AverageTemperatureUncertainty\": 0.336, \"City\": \"Columbus\", \"Country\": \"United States\", \"Latitude\": 39.38, \"Longitude\": -83.24, \"InNYC\": false, \"Month\": 10, \"Year\": 1950}, {\"dt\": \"1950-01-01T00:00:00\", \"AverageTemperature\": 9.267, \"AverageTemperatureUncertainty\": 0.259, \"City\": \"Dallas\", \"Country\": \"United States\", \"Latitude\": 32.95, \"Longitude\": -96.7, \"InNYC\": false, \"Month\": 1, \"Year\": 1950}, {\"dt\": \"1950-04-01T00:00:00\", \"AverageTemperature\": 16.91, \"AverageTemperatureUncertainty\": 0.291, \"City\": \"Dallas\", \"Country\": \"United States\", \"Latitude\": 32.95, \"Longitude\": -96.7, \"InNYC\": false, \"Month\": 4, \"Year\": 1950}, {\"dt\": \"1950-07-01T00:00:00\", \"AverageTemperature\": 26.982, \"AverageTemperatureUncertainty\": 0.278, \"City\": \"Dallas\", \"Country\": \"United States\", \"Latitude\": 32.95, \"Longitude\": -96.7, \"InNYC\": false, \"Month\": 7, \"Year\": 1950}, {\"dt\": \"1950-10-01T00:00:00\", \"AverageTemperature\": 21.384, \"AverageTemperatureUncertainty\": 0.178, \"City\": \"Dallas\", \"Country\": \"United States\", \"Latitude\": 32.95, \"Longitude\": -96.7, \"InNYC\": false, \"Month\": 10, \"Year\": 1950}, {\"dt\": \"1950-01-01T00:00:00\", \"AverageTemperature\": -2.543, \"AverageTemperatureUncertainty\": 0.244, \"City\": \"Denver\", \"Country\": \"United States\", \"Latitude\": 39.38, \"Longitude\": -104.05, \"InNYC\": false, \"Month\": 1, \"Year\": 1950}, {\"dt\": \"1950-04-01T00:00:00\", \"AverageTemperature\": 7.782999999999999, \"AverageTemperatureUncertainty\": 0.309, \"City\": \"Denver\", \"Country\": \"United States\", \"Latitude\": 39.38, \"Longitude\": -104.05, \"InNYC\": false, \"Month\": 4, \"Year\": 1950}, {\"dt\": \"1950-07-01T00:00:00\", \"AverageTemperature\": 19.942, \"AverageTemperatureUncertainty\": 0.276, \"City\": \"Denver\", \"Country\": \"United States\", \"Latitude\": 39.38, \"Longitude\": -104.05, \"InNYC\": false, \"Month\": 7, \"Year\": 1950}, {\"dt\": \"1950-10-01T00:00:00\", \"AverageTemperature\": 13.672, \"AverageTemperatureUncertainty\": 0.247, \"City\": \"Denver\", \"Country\": \"United States\", \"Latitude\": 39.38, \"Longitude\": -104.05, \"InNYC\": false, \"Month\": 10, \"Year\": 1950}, {\"dt\": \"1950-01-01T00:00:00\", \"AverageTemperature\": -0.6100000000000003, \"AverageTemperatureUncertainty\": 0.152, \"City\": \"Detroit\", \"Country\": \"United States\", \"Latitude\": 42.59, \"Longitude\": -82.91, \"InNYC\": false, \"Month\": 1, \"Year\": 1950}, {\"dt\": \"1950-04-01T00:00:00\", \"AverageTemperature\": 4.416, \"AverageTemperatureUncertainty\": 0.204, \"City\": \"Detroit\", \"Country\": \"United States\", \"Latitude\": 42.59, \"Longitude\": -82.91, \"InNYC\": false, \"Month\": 4, \"Year\": 1950}, {\"dt\": \"1950-07-01T00:00:00\", \"AverageTemperature\": 20.916, \"AverageTemperatureUncertainty\": 0.1969999999999999, \"City\": \"Detroit\", \"Country\": \"United States\", \"Latitude\": 42.59, \"Longitude\": -82.91, \"InNYC\": false, \"Month\": 7, \"Year\": 1950}, {\"dt\": \"1950-10-01T00:00:00\", \"AverageTemperature\": 12.412, \"AverageTemperatureUncertainty\": 0.144, \"City\": \"Detroit\", \"Country\": \"United States\", \"Latitude\": 42.59, \"Longitude\": -82.91, \"InNYC\": false, \"Month\": 10, \"Year\": 1950}, {\"dt\": \"1950-01-01T00:00:00\", \"AverageTemperature\": 8.117, \"AverageTemperatureUncertainty\": 0.264, \"City\": \"El Paso\", \"Country\": \"United States\", \"Latitude\": 31.35, \"Longitude\": -105.55, \"InNYC\": false, \"Month\": 1, \"Year\": 1950}, {\"dt\": \"1950-04-01T00:00:00\", \"AverageTemperature\": 16.801, \"AverageTemperatureUncertainty\": 0.272, \"City\": \"El Paso\", \"Country\": \"United States\", \"Latitude\": 31.35, \"Longitude\": -105.55, \"InNYC\": false, \"Month\": 4, \"Year\": 1950}, {\"dt\": \"1950-07-01T00:00:00\", \"AverageTemperature\": 24.864, \"AverageTemperatureUncertainty\": 0.201, \"City\": \"El Paso\", \"Country\": \"United States\", \"Latitude\": 31.35, \"Longitude\": -105.55, \"InNYC\": false, \"Month\": 7, \"Year\": 1950}, {\"dt\": \"1950-10-01T00:00:00\", \"AverageTemperature\": 18.903, \"AverageTemperatureUncertainty\": 0.275, \"City\": \"El Paso\", \"Country\": \"United States\", \"Latitude\": 31.35, \"Longitude\": -105.55, \"InNYC\": false, \"Month\": 10, \"Year\": 1950}, {\"dt\": \"1950-01-01T00:00:00\", \"AverageTemperature\": 9.267, \"AverageTemperatureUncertainty\": 0.259, \"City\": \"Fort Worth\", \"Country\": \"United States\", \"Latitude\": 32.95, \"Longitude\": -96.7, \"InNYC\": false, \"Month\": 1, \"Year\": 1950}, {\"dt\": \"1950-04-01T00:00:00\", \"AverageTemperature\": 16.91, \"AverageTemperatureUncertainty\": 0.291, \"City\": \"Fort Worth\", \"Country\": \"United States\", \"Latitude\": 32.95, \"Longitude\": -96.7, \"InNYC\": false, \"Month\": 4, \"Year\": 1950}, {\"dt\": \"1950-07-01T00:00:00\", \"AverageTemperature\": 26.982, \"AverageTemperatureUncertainty\": 0.278, \"City\": \"Fort Worth\", \"Country\": \"United States\", \"Latitude\": 32.95, \"Longitude\": -96.7, \"InNYC\": false, \"Month\": 7, \"Year\": 1950}, {\"dt\": \"1950-10-01T00:00:00\", \"AverageTemperature\": 21.384, \"AverageTemperatureUncertainty\": 0.178, \"City\": \"Fort Worth\", \"Country\": \"United States\", \"Latitude\": 32.95, \"Longitude\": -96.7, \"InNYC\": false, \"Month\": 10, \"Year\": 1950}, {\"dt\": \"1950-01-01T00:00:00\", \"AverageTemperature\": 4.629, \"AverageTemperatureUncertainty\": 0.427, \"City\": \"Fresno\", \"Country\": \"United States\", \"Latitude\": 36.17, \"Longitude\": -119.34, \"InNYC\": false, \"Month\": 1, \"Year\": 1950}, {\"dt\": \"1950-04-01T00:00:00\", \"AverageTemperature\": 15.655, \"AverageTemperatureUncertainty\": 0.2269999999999999, \"City\": \"Fresno\", \"Country\": \"United States\", \"Latitude\": 36.17, \"Longitude\": -119.34, \"InNYC\": false, \"Month\": 4, \"Year\": 1950}, {\"dt\": \"1950-07-01T00:00:00\", \"AverageTemperature\": 27.256, \"AverageTemperatureUncertainty\": 0.466, \"City\": \"Fresno\", \"Country\": \"United States\", \"Latitude\": 36.17, \"Longitude\": -119.34, \"InNYC\": false, \"Month\": 7, \"Year\": 1950}, {\"dt\": \"1950-10-01T00:00:00\", \"AverageTemperature\": 17.644000000000002, \"AverageTemperatureUncertainty\": 0.324, \"City\": \"Fresno\", \"Country\": \"United States\", \"Latitude\": 36.17, \"Longitude\": -119.34, \"InNYC\": false, \"Month\": 10, \"Year\": 1950}, {\"dt\": \"1950-01-01T00:00:00\", \"AverageTemperature\": 16.002000000000002, \"AverageTemperatureUncertainty\": 0.467, \"City\": \"Houston\", \"Country\": \"United States\", \"Latitude\": 29.74, \"Longitude\": -96.0, \"InNYC\": false, \"Month\": 1, \"Year\": 1950}, {\"dt\": \"1950-04-01T00:00:00\", \"AverageTemperature\": 19.642, \"AverageTemperatureUncertainty\": 0.223, \"City\": \"Houston\", \"Country\": \"United States\", \"Latitude\": 29.74, \"Longitude\": -96.0, \"InNYC\": false, \"Month\": 4, \"Year\": 1950}, {\"dt\": \"1950-07-01T00:00:00\", \"AverageTemperature\": 28.248, \"AverageTemperatureUncertainty\": 0.195, \"City\": \"Houston\", \"Country\": \"United States\", \"Latitude\": 29.74, \"Longitude\": -96.0, \"InNYC\": false, \"Month\": 7, \"Year\": 1950}, {\"dt\": \"1950-10-01T00:00:00\", \"AverageTemperature\": 22.753, \"AverageTemperatureUncertainty\": 0.2689999999999999, \"City\": \"Houston\", \"Country\": \"United States\", \"Latitude\": 29.74, \"Longitude\": -96.0, \"InNYC\": false, \"Month\": 10, \"Year\": 1950}, {\"dt\": \"1950-01-01T00:00:00\", \"AverageTemperature\": 3.958, \"AverageTemperatureUncertainty\": 0.306, \"City\": \"Indianapolis\", \"Country\": \"United States\", \"Latitude\": 39.38, \"Longitude\": -85.32, \"InNYC\": false, \"Month\": 1, \"Year\": 1950}, {\"dt\": \"1950-04-01T00:00:00\", \"AverageTemperature\": 8.293999999999999, \"AverageTemperatureUncertainty\": 0.246, \"City\": \"Indianapolis\", \"Country\": \"United States\", \"Latitude\": 39.38, \"Longitude\": -85.32, \"InNYC\": false, \"Month\": 4, \"Year\": 1950}, {\"dt\": \"1950-07-01T00:00:00\", \"AverageTemperature\": 22.203000000000003, \"AverageTemperatureUncertainty\": 0.32, \"City\": \"Indianapolis\", \"Country\": \"United States\", \"Latitude\": 39.38, \"Longitude\": -85.32, \"InNYC\": false, \"Month\": 7, \"Year\": 1950}, {\"dt\": \"1950-10-01T00:00:00\", \"AverageTemperature\": 15.005999999999998, \"AverageTemperatureUncertainty\": 0.319, \"City\": \"Indianapolis\", \"Country\": \"United States\", \"Latitude\": 39.38, \"Longitude\": -85.32, \"InNYC\": false, \"Month\": 10, \"Year\": 1950}, {\"dt\": \"1950-01-01T00:00:00\", \"AverageTemperature\": 19.778, \"AverageTemperatureUncertainty\": 0.502, \"City\": \"Jacksonville\", \"Country\": \"United States\", \"Latitude\": 29.74, \"Longitude\": -81.23, \"InNYC\": false, \"Month\": 1, \"Year\": 1950}, {\"dt\": \"1950-04-01T00:00:00\", \"AverageTemperature\": 17.867, \"AverageTemperatureUncertainty\": 0.259, \"City\": \"Jacksonville\", \"Country\": \"United States\", \"Latitude\": 29.74, \"Longitude\": -81.23, \"InNYC\": false, \"Month\": 4, \"Year\": 1950}, {\"dt\": \"1950-07-01T00:00:00\", \"AverageTemperature\": 26.188, \"AverageTemperatureUncertainty\": 0.256, \"City\": \"Jacksonville\", \"Country\": \"United States\", \"Latitude\": 29.74, \"Longitude\": -81.23, \"InNYC\": false, \"Month\": 7, \"Year\": 1950}, {\"dt\": \"1950-10-01T00:00:00\", \"AverageTemperature\": 23.790000000000006, \"AverageTemperatureUncertainty\": 0.1689999999999999, \"City\": \"Jacksonville\", \"Country\": \"United States\", \"Latitude\": 29.74, \"Longitude\": -81.23, \"InNYC\": false, \"Month\": 10, \"Year\": 1950}, {\"dt\": \"1950-01-01T00:00:00\", \"AverageTemperature\": 4.136, \"AverageTemperatureUncertainty\": 0.41, \"City\": \"Las Vegas\", \"Country\": \"United States\", \"Latitude\": 36.17, \"Longitude\": -115.36, \"InNYC\": false, \"Month\": 1, \"Year\": 1950}, {\"dt\": \"1950-04-01T00:00:00\", \"AverageTemperature\": 17.891000000000005, \"AverageTemperatureUncertainty\": 0.312, \"City\": \"Las Vegas\", \"Country\": \"United States\", \"Latitude\": 36.17, \"Longitude\": -115.36, \"InNYC\": false, \"Month\": 4, \"Year\": 1950}, {\"dt\": \"1950-07-01T00:00:00\", \"AverageTemperature\": 29.69, \"AverageTemperatureUncertainty\": 0.2739999999999999, \"City\": \"Las Vegas\", \"Country\": \"United States\", \"Latitude\": 36.17, \"Longitude\": -115.36, \"InNYC\": false, \"Month\": 7, \"Year\": 1950}, {\"dt\": \"1950-10-01T00:00:00\", \"AverageTemperature\": 20.371, \"AverageTemperatureUncertainty\": 0.1969999999999999, \"City\": \"Las Vegas\", \"Country\": \"United States\", \"Latitude\": 36.17, \"Longitude\": -115.36, \"InNYC\": false, \"Month\": 10, \"Year\": 1950}, {\"dt\": \"1950-01-01T00:00:00\", \"AverageTemperature\": 6.462999999999999, \"AverageTemperatureUncertainty\": 0.616, \"City\": \"Los Angeles\", \"Country\": \"United States\", \"Latitude\": 34.56, \"Longitude\": -118.7, \"InNYC\": false, \"Month\": 1, \"Year\": 1950}, {\"dt\": \"1950-04-01T00:00:00\", \"AverageTemperature\": 15.341, \"AverageTemperatureUncertainty\": 0.417, \"City\": \"Los Angeles\", \"Country\": \"United States\", \"Latitude\": 34.56, \"Longitude\": -118.7, \"InNYC\": false, \"Month\": 4, \"Year\": 1950}, {\"dt\": \"1950-07-01T00:00:00\", \"AverageTemperature\": 24.212, \"AverageTemperatureUncertainty\": 0.505, \"City\": \"Los Angeles\", \"Country\": \"United States\", \"Latitude\": 34.56, \"Longitude\": -118.7, \"InNYC\": false, \"Month\": 7, \"Year\": 1950}, {\"dt\": \"1950-10-01T00:00:00\", \"AverageTemperature\": 18.309, \"AverageTemperatureUncertainty\": 0.297, \"City\": \"Los Angeles\", \"Country\": \"United States\", \"Latitude\": 34.56, \"Longitude\": -118.7, \"InNYC\": false, \"Month\": 10, \"Year\": 1950}, {\"dt\": \"1950-01-01T00:00:00\", \"AverageTemperature\": 6.77, \"AverageTemperatureUncertainty\": 0.425, \"City\": \"Louisville\", \"Country\": \"United States\", \"Latitude\": 37.78, \"Longitude\": -85.42, \"InNYC\": false, \"Month\": 1, \"Year\": 1950}, {\"dt\": \"1950-04-01T00:00:00\", \"AverageTemperature\": 10.755, \"AverageTemperatureUncertainty\": 0.282, \"City\": \"Louisville\", \"Country\": \"United States\", \"Latitude\": 37.78, \"Longitude\": -85.42, \"InNYC\": false, \"Month\": 4, \"Year\": 1950}, {\"dt\": \"1950-07-01T00:00:00\", \"AverageTemperature\": 22.943, \"AverageTemperatureUncertainty\": 0.166, \"City\": \"Louisville\", \"Country\": \"United States\", \"Latitude\": 37.78, \"Longitude\": -85.42, \"InNYC\": false, \"Month\": 7, \"Year\": 1950}, {\"dt\": \"1950-10-01T00:00:00\", \"AverageTemperature\": 16.305, \"AverageTemperatureUncertainty\": 0.19, \"City\": \"Louisville\", \"Country\": \"United States\", \"Latitude\": 37.78, \"Longitude\": -85.42, \"InNYC\": false, \"Month\": 10, \"Year\": 1950}, {\"dt\": \"1950-01-01T00:00:00\", \"AverageTemperature\": 11.197, \"AverageTemperatureUncertainty\": 0.377, \"City\": \"Memphis\", \"Country\": \"United States\", \"Latitude\": 34.56, \"Longitude\": -89.51, \"InNYC\": false, \"Month\": 1, \"Year\": 1950}, {\"dt\": \"1950-04-01T00:00:00\", \"AverageTemperature\": 14.259000000000002, \"AverageTemperatureUncertainty\": 0.36, \"City\": \"Memphis\", \"Country\": \"United States\", \"Latitude\": 34.56, \"Longitude\": -89.51, \"InNYC\": false, \"Month\": 4, \"Year\": 1950}, {\"dt\": \"1950-07-01T00:00:00\", \"AverageTemperature\": 25.273000000000003, \"AverageTemperatureUncertainty\": 0.198, \"City\": \"Memphis\", \"Country\": \"United States\", \"Latitude\": 34.56, \"Longitude\": -89.51, \"InNYC\": false, \"Month\": 7, \"Year\": 1950}, {\"dt\": \"1950-10-01T00:00:00\", \"AverageTemperature\": 18.894, \"AverageTemperatureUncertainty\": 0.308, \"City\": \"Memphis\", \"Country\": \"United States\", \"Latitude\": 34.56, \"Longitude\": -89.51, \"InNYC\": false, \"Month\": 10, \"Year\": 1950}, {\"dt\": \"1950-01-01T00:00:00\", \"AverageTemperature\": 2.501, \"AverageTemperatureUncertainty\": 0.252, \"City\": \"Milwaukee\", \"Country\": \"United States\", \"Latitude\": 42.59, \"Longitude\": -87.27, \"InNYC\": false, \"Month\": 1, \"Year\": 1950}, {\"dt\": \"1950-04-01T00:00:00\", \"AverageTemperature\": 3.874, \"AverageTemperatureUncertainty\": 0.357, \"City\": \"Milwaukee\", \"Country\": \"United States\", \"Latitude\": 42.59, \"Longitude\": -87.27, \"InNYC\": false, \"Month\": 4, \"Year\": 1950}, {\"dt\": \"1950-07-01T00:00:00\", \"AverageTemperature\": 20.247, \"AverageTemperatureUncertainty\": 0.2289999999999999, \"City\": \"Milwaukee\", \"Country\": \"United States\", \"Latitude\": 42.59, \"Longitude\": -87.27, \"InNYC\": false, \"Month\": 7, \"Year\": 1950}, {\"dt\": \"1950-10-01T00:00:00\", \"AverageTemperature\": 15.481, \"AverageTemperatureUncertainty\": 0.077, \"City\": \"Milwaukee\", \"Country\": \"United States\", \"Latitude\": 42.59, \"Longitude\": -87.27, \"InNYC\": false, \"Month\": 10, \"Year\": 1950}, {\"dt\": \"1950-01-01T00:00:00\", \"AverageTemperature\": 8.661, \"AverageTemperatureUncertainty\": 0.236, \"City\": \"Nashville\", \"Country\": \"United States\", \"Latitude\": 36.17, \"Longitude\": -87.51, \"InNYC\": false, \"Month\": 1, \"Year\": 1950}, {\"dt\": \"1950-04-01T00:00:00\", \"AverageTemperature\": 12.36, \"AverageTemperatureUncertainty\": 0.185, \"City\": \"Nashville\", \"Country\": \"United States\", \"Latitude\": 36.17, \"Longitude\": -87.51, \"InNYC\": false, \"Month\": 4, \"Year\": 1950}, {\"dt\": \"1950-07-01T00:00:00\", \"AverageTemperature\": 23.784, \"AverageTemperatureUncertainty\": 0.335, \"City\": \"Nashville\", \"Country\": \"United States\", \"Latitude\": 36.17, \"Longitude\": -87.51, \"InNYC\": false, \"Month\": 7, \"Year\": 1950}, {\"dt\": \"1950-10-01T00:00:00\", \"AverageTemperature\": 17.283, \"AverageTemperatureUncertainty\": 0.255, \"City\": \"Nashville\", \"Country\": \"United States\", \"Latitude\": 36.17, \"Longitude\": -87.51, \"InNYC\": false, \"Month\": 10, \"Year\": 1950}, {\"dt\": \"1950-01-01T00:00:00\", \"AverageTemperature\": 2.32, \"AverageTemperatureUncertainty\": 0.253, \"City\": \"New York\", \"Country\": \"United States\", \"Latitude\": 40.99, \"Longitude\": -74.56, \"InNYC\": true, \"Month\": 1, \"Year\": 1950}, {\"dt\": \"1950-04-01T00:00:00\", \"AverageTemperature\": 7.336, \"AverageTemperatureUncertainty\": 0.261, \"City\": \"New York\", \"Country\": \"United States\", \"Latitude\": 40.99, \"Longitude\": -74.56, \"InNYC\": true, \"Month\": 4, \"Year\": 1950}, {\"dt\": \"1950-07-01T00:00:00\", \"AverageTemperature\": 21.613000000000003, \"AverageTemperatureUncertainty\": 0.133, \"City\": \"New York\", \"Country\": \"United States\", \"Latitude\": 40.99, \"Longitude\": -74.56, \"InNYC\": true, \"Month\": 7, \"Year\": 1950}, {\"dt\": \"1950-10-01T00:00:00\", \"AverageTemperature\": 12.633, \"AverageTemperatureUncertainty\": 0.211, \"City\": \"New York\", \"Country\": \"United States\", \"Latitude\": 40.99, \"Longitude\": -74.56, \"InNYC\": true, \"Month\": 10, \"Year\": 1950}, {\"dt\": \"1950-01-01T00:00:00\", \"AverageTemperature\": 2.455, \"AverageTemperatureUncertainty\": 0.479, \"City\": \"Oklahoma City\", \"Country\": \"United States\", \"Latitude\": 36.17, \"Longitude\": -97.46, \"InNYC\": false, \"Month\": 1, \"Year\": 1950}, {\"dt\": \"1950-04-01T00:00:00\", \"AverageTemperature\": 14.406, \"AverageTemperatureUncertainty\": 0.186, \"City\": \"Oklahoma City\", \"Country\": \"United States\", \"Latitude\": 36.17, \"Longitude\": -97.46, \"InNYC\": false, \"Month\": 4, \"Year\": 1950}, {\"dt\": \"1950-07-01T00:00:00\", \"AverageTemperature\": 24.761, \"AverageTemperatureUncertainty\": 0.305, \"City\": \"Oklahoma City\", \"Country\": \"United States\", \"Latitude\": 36.17, \"Longitude\": -97.46, \"InNYC\": false, \"Month\": 7, \"Year\": 1950}, {\"dt\": \"1950-10-01T00:00:00\", \"AverageTemperature\": 19.399, \"AverageTemperatureUncertainty\": 0.127, \"City\": \"Oklahoma City\", \"Country\": \"United States\", \"Latitude\": 36.17, \"Longitude\": -97.46, \"InNYC\": false, \"Month\": 10, \"Year\": 1950}, {\"dt\": \"1950-01-01T00:00:00\", \"AverageTemperature\": 6.814, \"AverageTemperatureUncertainty\": 0.3939999999999999, \"City\": \"Philadelphia\", \"Country\": \"United States\", \"Latitude\": 39.38, \"Longitude\": -74.91, \"InNYC\": false, \"Month\": 1, \"Year\": 1950}, {\"dt\": \"1950-04-01T00:00:00\", \"AverageTemperature\": 9.03, \"AverageTemperatureUncertainty\": 0.356, \"City\": \"Philadelphia\", \"Country\": \"United States\", \"Latitude\": 39.38, \"Longitude\": -74.91, \"InNYC\": false, \"Month\": 4, \"Year\": 1950}, {\"dt\": \"1950-07-01T00:00:00\", \"AverageTemperature\": 23.267, \"AverageTemperatureUncertainty\": 0.387, \"City\": \"Philadelphia\", \"Country\": \"United States\", \"Latitude\": 39.38, \"Longitude\": -74.91, \"InNYC\": false, \"Month\": 7, \"Year\": 1950}, {\"dt\": \"1950-10-01T00:00:00\", \"AverageTemperature\": 14.781, \"AverageTemperatureUncertainty\": 0.348, \"City\": \"Philadelphia\", \"Country\": \"United States\", \"Latitude\": 39.38, \"Longitude\": -74.91, \"InNYC\": false, \"Month\": 10, \"Year\": 1950}, {\"dt\": \"1950-01-01T00:00:00\", \"AverageTemperature\": 9.854, \"AverageTemperatureUncertainty\": 0.2269999999999999, \"City\": \"Phoenix\", \"Country\": \"United States\", \"Latitude\": 32.95, \"Longitude\": -112.02, \"InNYC\": false, \"Month\": 1, \"Year\": 1950}, {\"dt\": \"1950-04-01T00:00:00\", \"AverageTemperature\": 21.718000000000004, \"AverageTemperatureUncertainty\": 0.2319999999999999, \"City\": \"Phoenix\", \"Country\": \"United States\", \"Latitude\": 32.95, \"Longitude\": -112.02, \"InNYC\": false, \"Month\": 4, \"Year\": 1950}, {\"dt\": \"1950-07-01T00:00:00\", \"AverageTemperature\": 31.334, \"AverageTemperatureUncertainty\": 0.273, \"City\": \"Phoenix\", \"Country\": \"United States\", \"Latitude\": 32.95, \"Longitude\": -112.02, \"InNYC\": false, \"Month\": 7, \"Year\": 1950}, {\"dt\": \"1950-10-01T00:00:00\", \"AverageTemperature\": 25.154, \"AverageTemperatureUncertainty\": 0.2739999999999999, \"City\": \"Phoenix\", \"Country\": \"United States\", \"Latitude\": 32.95, \"Longitude\": -112.02, \"InNYC\": false, \"Month\": 10, \"Year\": 1950}, {\"dt\": \"1950-01-01T00:00:00\", \"AverageTemperature\": -1.825, \"AverageTemperatureUncertainty\": 0.409, \"City\": \"Portland\", \"Country\": \"United States\", \"Latitude\": 45.81, \"Longitude\": -123.46, \"InNYC\": false, \"Month\": 1, \"Year\": 1950}, {\"dt\": \"1950-04-01T00:00:00\", \"AverageTemperature\": 7.649, \"AverageTemperatureUncertainty\": 0.2789999999999999, \"City\": \"Portland\", \"Country\": \"United States\", \"Latitude\": 45.81, \"Longitude\": -123.46, \"InNYC\": false, \"Month\": 4, \"Year\": 1950}, {\"dt\": \"1950-07-01T00:00:00\", \"AverageTemperature\": 16.081999999999994, \"AverageTemperatureUncertainty\": 0.171, \"City\": \"Portland\", \"Country\": \"United States\", \"Latitude\": 45.81, \"Longitude\": -123.46, \"InNYC\": false, \"Month\": 7, \"Year\": 1950}, {\"dt\": \"1950-10-01T00:00:00\", \"AverageTemperature\": 9.542, \"AverageTemperatureUncertainty\": 0.1009999999999999, \"City\": \"Portland\", \"Country\": \"United States\", \"Latitude\": 45.81, \"Longitude\": -123.46, \"InNYC\": false, \"Month\": 10, \"Year\": 1950}, {\"dt\": \"1950-01-01T00:00:00\", \"AverageTemperature\": 14.425, \"AverageTemperatureUncertainty\": 0.413, \"City\": \"San Antonio\", \"Country\": \"United States\", \"Latitude\": 29.74, \"Longitude\": -97.85, \"InNYC\": false, \"Month\": 1, \"Year\": 1950}, {\"dt\": \"1950-04-01T00:00:00\", \"AverageTemperature\": 19.089, \"AverageTemperatureUncertainty\": 0.3779999999999999, \"City\": \"San Antonio\", \"Country\": \"United States\", \"Latitude\": 29.74, \"Longitude\": -97.85, \"InNYC\": false, \"Month\": 4, \"Year\": 1950}, {\"dt\": \"1950-07-01T00:00:00\", \"AverageTemperature\": 28.817, \"AverageTemperatureUncertainty\": 0.206, \"City\": \"San Antonio\", \"Country\": \"United States\", \"Latitude\": 29.74, \"Longitude\": -97.85, \"InNYC\": false, \"Month\": 7, \"Year\": 1950}, {\"dt\": \"1950-10-01T00:00:00\", \"AverageTemperature\": 22.811, \"AverageTemperatureUncertainty\": 0.2319999999999999, \"City\": \"San Antonio\", \"Country\": \"United States\", \"Latitude\": 29.74, \"Longitude\": -97.85, \"InNYC\": false, \"Month\": 10, \"Year\": 1950}, {\"dt\": \"1950-01-01T00:00:00\", \"AverageTemperature\": 10.663, \"AverageTemperatureUncertainty\": 0.371, \"City\": \"San Diego\", \"Country\": \"United States\", \"Latitude\": 32.95, \"Longitude\": -117.77, \"InNYC\": false, \"Month\": 1, \"Year\": 1950}, {\"dt\": \"1950-04-01T00:00:00\", \"AverageTemperature\": 14.912, \"AverageTemperatureUncertainty\": 0.33, \"City\": \"San Diego\", \"Country\": \"United States\", \"Latitude\": 32.95, \"Longitude\": -117.77, \"InNYC\": false, \"Month\": 4, \"Year\": 1950}, {\"dt\": \"1950-07-01T00:00:00\", \"AverageTemperature\": 19.116, \"AverageTemperatureUncertainty\": 0.21, \"City\": \"San Diego\", \"Country\": \"United States\", \"Latitude\": 32.95, \"Longitude\": -117.77, \"InNYC\": false, \"Month\": 7, \"Year\": 1950}, {\"dt\": \"1950-10-01T00:00:00\", \"AverageTemperature\": 19.18, \"AverageTemperatureUncertainty\": 0.309, \"City\": \"San Diego\", \"Country\": \"United States\", \"Latitude\": 32.95, \"Longitude\": -117.77, \"InNYC\": false, \"Month\": 10, \"Year\": 1950}, {\"dt\": \"1950-01-01T00:00:00\", \"AverageTemperature\": 6.356, \"AverageTemperatureUncertainty\": 0.384, \"City\": \"San Francisco\", \"Country\": \"United States\", \"Latitude\": 37.78, \"Longitude\": -122.03, \"InNYC\": false, \"Month\": 1, \"Year\": 1950}, {\"dt\": \"1950-04-01T00:00:00\", \"AverageTemperature\": 14.419, \"AverageTemperatureUncertainty\": 0.33, \"City\": \"San Francisco\", \"Country\": \"United States\", \"Latitude\": 37.78, \"Longitude\": -122.03, \"InNYC\": false, \"Month\": 4, \"Year\": 1950}, {\"dt\": \"1950-07-01T00:00:00\", \"AverageTemperature\": 19.749, \"AverageTemperatureUncertainty\": 0.3, \"City\": \"San Francisco\", \"Country\": \"United States\", \"Latitude\": 37.78, \"Longitude\": -122.03, \"InNYC\": false, \"Month\": 7, \"Year\": 1950}, {\"dt\": \"1950-10-01T00:00:00\", \"AverageTemperature\": 16.610999999999994, \"AverageTemperatureUncertainty\": 0.166, \"City\": \"San Francisco\", \"Country\": \"United States\", \"Latitude\": 37.78, \"Longitude\": -122.03, \"InNYC\": false, \"Month\": 10, \"Year\": 1950}, {\"dt\": \"1950-01-01T00:00:00\", \"AverageTemperature\": 6.356, \"AverageTemperatureUncertainty\": 0.384, \"City\": \"San Jose\", \"Country\": \"United States\", \"Latitude\": 37.78, \"Longitude\": -122.03, \"InNYC\": false, \"Month\": 1, \"Year\": 1950}, {\"dt\": \"1950-04-01T00:00:00\", \"AverageTemperature\": 14.419, \"AverageTemperatureUncertainty\": 0.33, \"City\": \"San Jose\", \"Country\": \"United States\", \"Latitude\": 37.78, \"Longitude\": -122.03, \"InNYC\": false, \"Month\": 4, \"Year\": 1950}, {\"dt\": \"1950-07-01T00:00:00\", \"AverageTemperature\": 19.749, \"AverageTemperatureUncertainty\": 0.3, \"City\": \"San Jose\", \"Country\": \"United States\", \"Latitude\": 37.78, \"Longitude\": -122.03, \"InNYC\": false, \"Month\": 7, \"Year\": 1950}, {\"dt\": \"1950-10-01T00:00:00\", \"AverageTemperature\": 16.610999999999994, \"AverageTemperatureUncertainty\": 0.166, \"City\": \"San Jose\", \"Country\": \"United States\", \"Latitude\": 37.78, \"Longitude\": -122.03, \"InNYC\": false, \"Month\": 10, \"Year\": 1950}, {\"dt\": \"1950-01-01T00:00:00\", \"AverageTemperature\": -6.347, \"AverageTemperatureUncertainty\": 0.541, \"City\": \"Seattle\", \"Country\": \"United States\", \"Latitude\": 47.42, \"Longitude\": -121.97, \"InNYC\": false, \"Month\": 1, \"Year\": 1950}, {\"dt\": \"1950-04-01T00:00:00\", \"AverageTemperature\": 4.928999999999999, \"AverageTemperatureUncertainty\": 0.276, \"City\": \"Seattle\", \"Country\": \"United States\", \"Latitude\": 47.42, \"Longitude\": -121.97, \"InNYC\": false, \"Month\": 4, \"Year\": 1950}, {\"dt\": \"1950-07-01T00:00:00\", \"AverageTemperature\": 15.159, \"AverageTemperatureUncertainty\": 0.15, \"City\": \"Seattle\", \"Country\": \"United States\", \"Latitude\": 47.42, \"Longitude\": -121.97, \"InNYC\": false, \"Month\": 7, \"Year\": 1950}, {\"dt\": \"1950-10-01T00:00:00\", \"AverageTemperature\": 7.0600000000000005, \"AverageTemperatureUncertainty\": 0.254, \"City\": \"Seattle\", \"Country\": \"United States\", \"Latitude\": 47.42, \"Longitude\": -121.97, \"InNYC\": false, \"Month\": 10, \"Year\": 1950}, {\"dt\": \"1950-01-01T00:00:00\", \"AverageTemperature\": 9.022, \"AverageTemperatureUncertainty\": 0.4039999999999999, \"City\": \"Tucson\", \"Country\": \"United States\", \"Latitude\": 31.35, \"Longitude\": -111.2, \"InNYC\": false, \"Month\": 1, \"Year\": 1950}, {\"dt\": \"1950-04-01T00:00:00\", \"AverageTemperature\": 18.188, \"AverageTemperatureUncertainty\": 0.556, \"City\": \"Tucson\", \"Country\": \"United States\", \"Latitude\": 31.35, \"Longitude\": -111.2, \"InNYC\": false, \"Month\": 4, \"Year\": 1950}, {\"dt\": \"1950-07-01T00:00:00\", \"AverageTemperature\": 25.607, \"AverageTemperatureUncertainty\": 0.243, \"City\": \"Tucson\", \"Country\": \"United States\", \"Latitude\": 31.35, \"Longitude\": -111.2, \"InNYC\": false, \"Month\": 7, \"Year\": 1950}, {\"dt\": \"1950-10-01T00:00:00\", \"AverageTemperature\": 22.163, \"AverageTemperatureUncertainty\": 0.2339999999999999, \"City\": \"Tucson\", \"Country\": \"United States\", \"Latitude\": 31.35, \"Longitude\": -111.2, \"InNYC\": false, \"Month\": 10, \"Year\": 1950}, {\"dt\": \"1950-01-01T00:00:00\", \"AverageTemperature\": -1.825, \"AverageTemperatureUncertainty\": 0.409, \"City\": \"Vancouver\", \"Country\": \"United States\", \"Latitude\": 45.81, \"Longitude\": -123.46, \"InNYC\": false, \"Month\": 1, \"Year\": 1950}, {\"dt\": \"1950-04-01T00:00:00\", \"AverageTemperature\": 7.649, \"AverageTemperatureUncertainty\": 0.2789999999999999, \"City\": \"Vancouver\", \"Country\": \"United States\", \"Latitude\": 45.81, \"Longitude\": -123.46, \"InNYC\": false, \"Month\": 4, \"Year\": 1950}, {\"dt\": \"1950-07-01T00:00:00\", \"AverageTemperature\": 16.081999999999994, \"AverageTemperatureUncertainty\": 0.171, \"City\": \"Vancouver\", \"Country\": \"United States\", \"Latitude\": 45.81, \"Longitude\": -123.46, \"InNYC\": false, \"Month\": 7, \"Year\": 1950}, {\"dt\": \"1950-10-01T00:00:00\", \"AverageTemperature\": 9.542, \"AverageTemperatureUncertainty\": 0.1009999999999999, \"City\": \"Vancouver\", \"Country\": \"United States\", \"Latitude\": 45.81, \"Longitude\": -123.46, \"InNYC\": false, \"Month\": 10, \"Year\": 1950}]}}, {\"mode\": \"vega-lite\"});\n",
       "</script>"
      ],
      "text/plain": [
       "alt.Chart(...)"
      ]
     },
     "execution_count": 1,
     "metadata": {},
     "output_type": "execute_result"
    }
   ],
   "source": [
    "filter = ((df[\"Country\"] == \"United States\") &\n",
    "         (df[\"Year\"] == 1950))\n",
    "period = df.loc[filter]\n",
    "chart = (alt.Chart(period)\n",
    "         .mark_point()\n",
    "         .encode(\n",
    "             y = \"AverageTemperature\",\n",
    "             x = \"Latitude\",\n",
    "             tooltip=[\"City\", \"Country\"],\n",
    "             facet=\"Month\"\n",
    "         ))\n",
    "chart"
   ]
  },
  {
   "cell_type": "markdown",
   "id": "6a383b3e",
   "metadata": {
    "lines_to_next_cell": 2
   },
   "source": [
    "## Advanced: GroupBys"
   ]
  },
  {
   "cell_type": "markdown",
   "id": "675306cd",
   "metadata": {
    "lines_to_next_cell": 2
   },
   "source": [
    "GroupBys\n",
    "\n",
    "1) Filter - Figure out the data to start with\n",
    "2) GroupBy - Determine the subset of data to use\n",
    "3) Aggregation - Compute a property over the group "
   ]
  },
  {
   "cell_type": "code",
   "execution_count": 26,
   "id": "cf36ac09",
   "metadata": {
    "execution": {
     "iopub.execute_input": "2021-05-27T16:07:04.664646Z",
     "iopub.status.busy": "2021-05-27T16:07:04.663778Z",
     "iopub.status.idle": "2021-05-27T16:07:04.665540Z",
     "shell.execute_reply": "2021-05-27T16:07:04.666229Z"
    }
   },
   "outputs": [],
   "source": [
    "# 1) Filter\n",
    "filter = ((df[\"Country\"] == \"United States\") &\n",
    "          (df[\"Year\"] == 1950))"
   ]
  },
  {
   "cell_type": "code",
   "execution_count": 27,
   "id": "513e3b2a",
   "metadata": {
    "execution": {
     "iopub.execute_input": "2021-05-27T16:07:04.670066Z",
     "iopub.status.busy": "2021-05-27T16:07:04.669221Z",
     "iopub.status.idle": "2021-05-27T16:07:04.671784Z",
     "shell.execute_reply": "2021-05-27T16:07:04.672448Z"
    }
   },
   "outputs": [],
   "source": [
    "# 2) Group By\n",
    "grouped = df.loc[filter].groupby([\"Country\"])"
   ]
  },
  {
   "cell_type": "code",
   "execution_count": 28,
   "id": "a71a2591",
   "metadata": {
    "execution": {
     "iopub.execute_input": "2021-05-27T16:07:04.680917Z",
     "iopub.status.busy": "2021-05-27T16:07:04.680065Z",
     "iopub.status.idle": "2021-05-27T16:07:04.683155Z",
     "shell.execute_reply": "2021-05-27T16:07:04.683883Z"
    },
    "lines_to_next_cell": 2
   },
   "outputs": [
    {
     "data": {
      "text/html": [
       "<div>\n",
       "<style scoped>\n",
       "    .dataframe tbody tr th:only-of-type {\n",
       "        vertical-align: middle;\n",
       "    }\n",
       "\n",
       "    .dataframe tbody tr th {\n",
       "        vertical-align: top;\n",
       "    }\n",
       "\n",
       "    .dataframe thead th {\n",
       "        text-align: right;\n",
       "    }\n",
       "</style>\n",
       "<table border=\"1\" class=\"dataframe\">\n",
       "  <thead>\n",
       "    <tr style=\"text-align: right;\">\n",
       "      <th></th>\n",
       "      <th>mean</th>\n",
       "    </tr>\n",
       "    <tr>\n",
       "      <th>Country</th>\n",
       "      <th></th>\n",
       "    </tr>\n",
       "  </thead>\n",
       "  <tbody>\n",
       "    <tr>\n",
       "      <th>United States</th>\n",
       "      <td>14.842221</td>\n",
       "    </tr>\n",
       "  </tbody>\n",
       "</table>\n",
       "</div>"
      ],
      "text/plain": [
       "                    mean\n",
       "Country                 \n",
       "United States  14.842221"
      ]
     },
     "execution_count": 1,
     "metadata": {},
     "output_type": "execute_result"
    }
   ],
   "source": [
    "# 3) Aggregated\n",
    "temperature = grouped[\"AverageTemperature\"].agg(['mean'])\n",
    "temperature"
   ]
  },
  {
   "cell_type": "code",
   "execution_count": 29,
   "id": "c38d1619",
   "metadata": {
    "execution": {
     "iopub.execute_input": "2021-05-27T16:07:04.688034Z",
     "iopub.status.busy": "2021-05-27T16:07:04.687182Z",
     "iopub.status.idle": "2021-05-27T16:07:04.690142Z",
     "shell.execute_reply": "2021-05-27T16:07:04.690830Z"
    }
   },
   "outputs": [],
   "source": [
    "# 2) Group By\n",
    "grouped = df[filter].groupby([\"City\"])"
   ]
  },
  {
   "cell_type": "code",
   "execution_count": 30,
   "id": "661d5915",
   "metadata": {
    "execution": {
     "iopub.execute_input": "2021-05-27T16:07:04.703594Z",
     "iopub.status.busy": "2021-05-27T16:07:04.702725Z",
     "iopub.status.idle": "2021-05-27T16:07:04.705952Z",
     "shell.execute_reply": "2021-05-27T16:07:04.706662Z"
    },
    "lines_to_next_cell": 2
   },
   "outputs": [
    {
     "data": {
      "text/html": [
       "<div>\n",
       "<style scoped>\n",
       "    .dataframe tbody tr th:only-of-type {\n",
       "        vertical-align: middle;\n",
       "    }\n",
       "\n",
       "    .dataframe tbody tr th {\n",
       "        vertical-align: top;\n",
       "    }\n",
       "\n",
       "    .dataframe thead th {\n",
       "        text-align: right;\n",
       "    }\n",
       "</style>\n",
       "<table border=\"1\" class=\"dataframe\">\n",
       "  <thead>\n",
       "    <tr style=\"text-align: right;\">\n",
       "      <th></th>\n",
       "      <th>mean</th>\n",
       "    </tr>\n",
       "    <tr>\n",
       "      <th>City</th>\n",
       "      <th></th>\n",
       "    </tr>\n",
       "  </thead>\n",
       "  <tbody>\n",
       "    <tr>\n",
       "      <th>Albuquerque</th>\n",
       "      <td>12.502500</td>\n",
       "    </tr>\n",
       "    <tr>\n",
       "      <th>Austin</th>\n",
       "      <td>21.285500</td>\n",
       "    </tr>\n",
       "    <tr>\n",
       "      <th>Baltimore</th>\n",
       "      <td>13.297500</td>\n",
       "    </tr>\n",
       "    <tr>\n",
       "      <th>Boston</th>\n",
       "      <td>8.814500</td>\n",
       "    </tr>\n",
       "    <tr>\n",
       "      <th>Charlotte</th>\n",
       "      <td>17.554000</td>\n",
       "    </tr>\n",
       "    <tr>\n",
       "      <th>Chicago</th>\n",
       "      <td>10.525750</td>\n",
       "    </tr>\n",
       "    <tr>\n",
       "      <th>Columbus</th>\n",
       "      <td>15.435625</td>\n",
       "    </tr>\n",
       "    <tr>\n",
       "      <th>Dallas</th>\n",
       "      <td>18.635750</td>\n",
       "    </tr>\n",
       "    <tr>\n",
       "      <th>Denver</th>\n",
       "      <td>9.713500</td>\n",
       "    </tr>\n",
       "    <tr>\n",
       "      <th>Detroit</th>\n",
       "      <td>9.283500</td>\n",
       "    </tr>\n",
       "    <tr>\n",
       "      <th>El Paso</th>\n",
       "      <td>17.171250</td>\n",
       "    </tr>\n",
       "    <tr>\n",
       "      <th>Fort Worth</th>\n",
       "      <td>18.635750</td>\n",
       "    </tr>\n",
       "    <tr>\n",
       "      <th>Fresno</th>\n",
       "      <td>16.296000</td>\n",
       "    </tr>\n",
       "    <tr>\n",
       "      <th>Houston</th>\n",
       "      <td>21.661250</td>\n",
       "    </tr>\n",
       "    <tr>\n",
       "      <th>Indianapolis</th>\n",
       "      <td>12.365250</td>\n",
       "    </tr>\n",
       "    <tr>\n",
       "      <th>Jacksonville</th>\n",
       "      <td>21.905750</td>\n",
       "    </tr>\n",
       "    <tr>\n",
       "      <th>Las Vegas</th>\n",
       "      <td>18.022000</td>\n",
       "    </tr>\n",
       "    <tr>\n",
       "      <th>Los Angeles</th>\n",
       "      <td>16.081250</td>\n",
       "    </tr>\n",
       "    <tr>\n",
       "      <th>Louisville</th>\n",
       "      <td>14.193250</td>\n",
       "    </tr>\n",
       "    <tr>\n",
       "      <th>Memphis</th>\n",
       "      <td>17.405750</td>\n",
       "    </tr>\n",
       "    <tr>\n",
       "      <th>Milwaukee</th>\n",
       "      <td>10.525750</td>\n",
       "    </tr>\n",
       "    <tr>\n",
       "      <th>Nashville</th>\n",
       "      <td>15.522000</td>\n",
       "    </tr>\n",
       "    <tr>\n",
       "      <th>New York</th>\n",
       "      <td>10.975500</td>\n",
       "    </tr>\n",
       "    <tr>\n",
       "      <th>Oklahoma City</th>\n",
       "      <td>15.255250</td>\n",
       "    </tr>\n",
       "    <tr>\n",
       "      <th>Philadelphia</th>\n",
       "      <td>13.473000</td>\n",
       "    </tr>\n",
       "    <tr>\n",
       "      <th>Phoenix</th>\n",
       "      <td>22.015000</td>\n",
       "    </tr>\n",
       "    <tr>\n",
       "      <th>Portland</th>\n",
       "      <td>7.862000</td>\n",
       "    </tr>\n",
       "    <tr>\n",
       "      <th>San Antonio</th>\n",
       "      <td>21.285500</td>\n",
       "    </tr>\n",
       "    <tr>\n",
       "      <th>San Diego</th>\n",
       "      <td>15.967750</td>\n",
       "    </tr>\n",
       "    <tr>\n",
       "      <th>San Francisco</th>\n",
       "      <td>14.283750</td>\n",
       "    </tr>\n",
       "    <tr>\n",
       "      <th>San Jose</th>\n",
       "      <td>14.283750</td>\n",
       "    </tr>\n",
       "    <tr>\n",
       "      <th>Seattle</th>\n",
       "      <td>5.200250</td>\n",
       "    </tr>\n",
       "    <tr>\n",
       "      <th>Tucson</th>\n",
       "      <td>18.745000</td>\n",
       "    </tr>\n",
       "    <tr>\n",
       "      <th>Vancouver</th>\n",
       "      <td>7.862000</td>\n",
       "    </tr>\n",
       "  </tbody>\n",
       "</table>\n",
       "</div>"
      ],
      "text/plain": [
       "                    mean\n",
       "City                    \n",
       "Albuquerque    12.502500\n",
       "Austin         21.285500\n",
       "Baltimore      13.297500\n",
       "Boston          8.814500\n",
       "Charlotte      17.554000\n",
       "Chicago        10.525750\n",
       "Columbus       15.435625\n",
       "Dallas         18.635750\n",
       "Denver          9.713500\n",
       "Detroit         9.283500\n",
       "El Paso        17.171250\n",
       "Fort Worth     18.635750\n",
       "Fresno         16.296000\n",
       "Houston        21.661250\n",
       "Indianapolis   12.365250\n",
       "Jacksonville   21.905750\n",
       "Las Vegas      18.022000\n",
       "Los Angeles    16.081250\n",
       "Louisville     14.193250\n",
       "Memphis        17.405750\n",
       "Milwaukee      10.525750\n",
       "Nashville      15.522000\n",
       "New York       10.975500\n",
       "Oklahoma City  15.255250\n",
       "Philadelphia   13.473000\n",
       "Phoenix        22.015000\n",
       "Portland        7.862000\n",
       "San Antonio    21.285500\n",
       "San Diego      15.967750\n",
       "San Francisco  14.283750\n",
       "San Jose       14.283750\n",
       "Seattle         5.200250\n",
       "Tucson         18.745000\n",
       "Vancouver       7.862000"
      ]
     },
     "execution_count": 1,
     "metadata": {},
     "output_type": "execute_result"
    }
   ],
   "source": [
    "# 3) Aggregated\n",
    "temperature = grouped[\"AverageTemperature\"].agg(['mean'])\n",
    "temperature"
   ]
  },
  {
   "cell_type": "code",
   "execution_count": 31,
   "id": "640fe5ba",
   "metadata": {
    "execution": {
     "iopub.execute_input": "2021-05-27T16:07:04.711764Z",
     "iopub.status.busy": "2021-05-27T16:07:04.710895Z",
     "iopub.status.idle": "2021-05-27T16:07:04.713618Z",
     "shell.execute_reply": "2021-05-27T16:07:04.712772Z"
    }
   },
   "outputs": [],
   "source": [
    "# 2) Group By\n",
    "grouped = df[filter].groupby([\"Year\", \"Country\"])"
   ]
  },
  {
   "cell_type": "code",
   "execution_count": 32,
   "id": "200c2ef9",
   "metadata": {
    "execution": {
     "iopub.execute_input": "2021-05-27T16:07:04.724376Z",
     "iopub.status.busy": "2021-05-27T16:07:04.721756Z",
     "iopub.status.idle": "2021-05-27T16:07:04.727767Z",
     "shell.execute_reply": "2021-05-27T16:07:04.726955Z"
    }
   },
   "outputs": [
    {
     "data": {
      "text/html": [
       "<div>\n",
       "<style scoped>\n",
       "    .dataframe tbody tr th:only-of-type {\n",
       "        vertical-align: middle;\n",
       "    }\n",
       "\n",
       "    .dataframe tbody tr th {\n",
       "        vertical-align: top;\n",
       "    }\n",
       "\n",
       "    .dataframe thead th {\n",
       "        text-align: right;\n",
       "    }\n",
       "</style>\n",
       "<table border=\"1\" class=\"dataframe\">\n",
       "  <thead>\n",
       "    <tr style=\"text-align: right;\">\n",
       "      <th></th>\n",
       "      <th></th>\n",
       "      <th>mean</th>\n",
       "    </tr>\n",
       "    <tr>\n",
       "      <th>Year</th>\n",
       "      <th>Country</th>\n",
       "      <th></th>\n",
       "    </tr>\n",
       "  </thead>\n",
       "  <tbody>\n",
       "    <tr>\n",
       "      <th>1950</th>\n",
       "      <th>United States</th>\n",
       "      <td>14.842221</td>\n",
       "    </tr>\n",
       "  </tbody>\n",
       "</table>\n",
       "</div>"
      ],
      "text/plain": [
       "                         mean\n",
       "Year Country                 \n",
       "1950 United States  14.842221"
      ]
     },
     "execution_count": 1,
     "metadata": {},
     "output_type": "execute_result"
    }
   ],
   "source": [
    "# 3) Aggregated\n",
    "temperature = grouped[\"AverageTemperature\"].agg(['mean'])\n",
    "temperature"
   ]
  },
  {
   "cell_type": "code",
   "execution_count": null,
   "id": "b6549027",
   "metadata": {
    "lines_to_next_cell": 2
   },
   "outputs": [],
   "source": []
  },
  {
   "cell_type": "markdown",
   "id": "7c35be1e",
   "metadata": {},
   "source": [
    "Which cities temperature changes the most during the year?"
   ]
  },
  {
   "cell_type": "code",
   "execution_count": 33,
   "id": "9bfe91f7",
   "metadata": {
    "execution": {
     "iopub.execute_input": "2021-05-27T16:07:04.732791Z",
     "iopub.status.busy": "2021-05-27T16:07:04.731941Z",
     "iopub.status.idle": "2021-05-27T16:07:04.734892Z",
     "shell.execute_reply": "2021-05-27T16:07:04.734034Z"
    }
   },
   "outputs": [],
   "source": [
    "grouped = df.groupby([\"City\", \"Latitude\"])"
   ]
  },
  {
   "cell_type": "code",
   "execution_count": 34,
   "id": "32eb5060",
   "metadata": {
    "execution": {
     "iopub.execute_input": "2021-05-27T16:07:04.743969Z",
     "iopub.status.busy": "2021-05-27T16:07:04.743107Z",
     "iopub.status.idle": "2021-05-27T16:07:04.764840Z",
     "shell.execute_reply": "2021-05-27T16:07:04.765554Z"
    }
   },
   "outputs": [
    {
     "data": {
      "text/html": [
       "<div>\n",
       "<style scoped>\n",
       "    .dataframe tbody tr th:only-of-type {\n",
       "        vertical-align: middle;\n",
       "    }\n",
       "\n",
       "    .dataframe tbody tr th {\n",
       "        vertical-align: top;\n",
       "    }\n",
       "\n",
       "    .dataframe thead th {\n",
       "        text-align: right;\n",
       "    }\n",
       "</style>\n",
       "<table border=\"1\" class=\"dataframe\">\n",
       "  <thead>\n",
       "    <tr style=\"text-align: right;\">\n",
       "      <th></th>\n",
       "      <th></th>\n",
       "      <th>mean</th>\n",
       "      <th>std</th>\n",
       "    </tr>\n",
       "    <tr>\n",
       "      <th>City</th>\n",
       "      <th>Latitude</th>\n",
       "      <th></th>\n",
       "      <th></th>\n",
       "    </tr>\n",
       "  </thead>\n",
       "  <tbody>\n",
       "    <tr>\n",
       "      <th>Acapulco</th>\n",
       "      <th>16.87</th>\n",
       "      <td>26.056345</td>\n",
       "      <td>1.317275</td>\n",
       "    </tr>\n",
       "    <tr>\n",
       "      <th>Aguascalientes</th>\n",
       "      <th>21.70</th>\n",
       "      <td>17.983196</td>\n",
       "      <td>2.971204</td>\n",
       "    </tr>\n",
       "    <tr>\n",
       "      <th>Albuquerque</th>\n",
       "      <th>34.56</th>\n",
       "      <td>11.127311</td>\n",
       "      <td>8.366040</td>\n",
       "    </tr>\n",
       "    <tr>\n",
       "      <th>Apodaca</th>\n",
       "      <th>26.52</th>\n",
       "      <td>21.926115</td>\n",
       "      <td>5.878348</td>\n",
       "    </tr>\n",
       "    <tr>\n",
       "      <th>Austin</th>\n",
       "      <th>29.74</th>\n",
       "      <td>19.877495</td>\n",
       "      <td>6.833518</td>\n",
       "    </tr>\n",
       "    <tr>\n",
       "      <th>...</th>\n",
       "      <th>...</th>\n",
       "      <td>...</td>\n",
       "      <td>...</td>\n",
       "    </tr>\n",
       "    <tr>\n",
       "      <th>Vancouver</th>\n",
       "      <th>49.03</th>\n",
       "      <td>7.189567</td>\n",
       "      <td>5.765395</td>\n",
       "    </tr>\n",
       "    <tr>\n",
       "      <th>Veracruz</th>\n",
       "      <th>18.48</th>\n",
       "      <td>23.063930</td>\n",
       "      <td>2.507376</td>\n",
       "    </tr>\n",
       "    <tr>\n",
       "      <th>Villa Nueva</th>\n",
       "      <th>15.27</th>\n",
       "      <td>19.117358</td>\n",
       "      <td>1.559936</td>\n",
       "    </tr>\n",
       "    <tr>\n",
       "      <th>Winnipeg</th>\n",
       "      <th>50.63</th>\n",
       "      <td>1.269699</td>\n",
       "      <td>13.762060</td>\n",
       "    </tr>\n",
       "    <tr>\n",
       "      <th>Zapopan</th>\n",
       "      <th>20.09</th>\n",
       "      <td>20.705537</td>\n",
       "      <td>2.045063</td>\n",
       "    </tr>\n",
       "  </tbody>\n",
       "</table>\n",
       "<p>93 rows × 2 columns</p>\n",
       "</div>"
      ],
      "text/plain": [
       "                              mean        std\n",
       "City           Latitude                      \n",
       "Acapulco       16.87     26.056345   1.317275\n",
       "Aguascalientes 21.70     17.983196   2.971204\n",
       "Albuquerque    34.56     11.127311   8.366040\n",
       "Apodaca        26.52     21.926115   5.878348\n",
       "Austin         29.74     19.877495   6.833518\n",
       "...                            ...        ...\n",
       "Vancouver      49.03      7.189567   5.765395\n",
       "Veracruz       18.48     23.063930   2.507376\n",
       "Villa Nueva    15.27     19.117358   1.559936\n",
       "Winnipeg       50.63      1.269699  13.762060\n",
       "Zapopan        20.09     20.705537   2.045063\n",
       "\n",
       "[93 rows x 2 columns]"
      ]
     },
     "execution_count": 1,
     "metadata": {},
     "output_type": "execute_result"
    }
   ],
   "source": [
    "var = grouped[\"AverageTemperature\"].agg(['mean', 'std'])\n",
    "var"
   ]
  },
  {
   "cell_type": "code",
   "execution_count": 35,
   "id": "54eb8d2a",
   "metadata": {
    "execution": {
     "iopub.execute_input": "2021-05-27T16:07:04.783364Z",
     "iopub.status.busy": "2021-05-27T16:07:04.782481Z",
     "iopub.status.idle": "2021-05-27T16:07:04.786128Z",
     "shell.execute_reply": "2021-05-27T16:07:04.786840Z"
    },
    "lines_to_next_cell": 2
   },
   "outputs": [
    {
     "data": {
      "text/html": [
       "\n",
       "<div id=\"altair-viz-b7aa3095daf948a4bec4cc22cb1d0966\"></div>\n",
       "<script type=\"text/javascript\">\n",
       "  (function(spec, embedOpt){\n",
       "    let outputDiv = document.currentScript.previousElementSibling;\n",
       "    if (outputDiv.id !== \"altair-viz-b7aa3095daf948a4bec4cc22cb1d0966\") {\n",
       "      outputDiv = document.getElementById(\"altair-viz-b7aa3095daf948a4bec4cc22cb1d0966\");\n",
       "    }\n",
       "    const paths = {\n",
       "      \"vega\": \"https://cdn.jsdelivr.net/npm//vega@5?noext\",\n",
       "      \"vega-lib\": \"https://cdn.jsdelivr.net/npm//vega-lib?noext\",\n",
       "      \"vega-lite\": \"https://cdn.jsdelivr.net/npm//vega-lite@4.8.1?noext\",\n",
       "      \"vega-embed\": \"https://cdn.jsdelivr.net/npm//vega-embed@6?noext\",\n",
       "    };\n",
       "\n",
       "    function loadScript(lib) {\n",
       "      return new Promise(function(resolve, reject) {\n",
       "        var s = document.createElement('script');\n",
       "        s.src = paths[lib];\n",
       "        s.async = true;\n",
       "        s.onload = () => resolve(paths[lib]);\n",
       "        s.onerror = () => reject(`Error loading script: ${paths[lib]}`);\n",
       "        document.getElementsByTagName(\"head\")[0].appendChild(s);\n",
       "      });\n",
       "    }\n",
       "\n",
       "    function showError(err) {\n",
       "      outputDiv.innerHTML = `<div class=\"error\" style=\"color:red;\">${err}</div>`;\n",
       "      throw err;\n",
       "    }\n",
       "\n",
       "    function displayChart(vegaEmbed) {\n",
       "      vegaEmbed(outputDiv, spec, embedOpt)\n",
       "        .catch(err => showError(`Javascript Error: ${err.message}<br>This usually means there's a typo in your chart specification. See the javascript console for the full traceback.`));\n",
       "    }\n",
       "\n",
       "    if(typeof define === \"function\" && define.amd) {\n",
       "      requirejs.config({paths});\n",
       "      require([\"vega-embed\"], displayChart, err => showError(`Error loading script: ${err.message}`));\n",
       "    } else if (typeof vegaEmbed === \"function\") {\n",
       "      displayChart(vegaEmbed);\n",
       "    } else {\n",
       "      loadScript(\"vega\")\n",
       "        .then(() => loadScript(\"vega-lite\"))\n",
       "        .then(() => loadScript(\"vega-embed\"))\n",
       "        .catch(showError)\n",
       "        .then(() => displayChart(vegaEmbed));\n",
       "    }\n",
       "  })({\"config\": {\"view\": {\"continuousWidth\": 400, \"continuousHeight\": 300}}, \"layer\": [{\"mark\": \"bar\", \"encoding\": {\"x\": {\"type\": \"nominal\", \"field\": \"City\", \"sort\": null}, \"y\": {\"type\": \"quantitative\", \"field\": \"mean\"}}}, {\"mark\": {\"type\": \"point\", \"color\": \"red\"}, \"encoding\": {\"x\": {\"type\": \"nominal\", \"field\": \"City\", \"sort\": null}, \"y\": {\"type\": \"quantitative\", \"field\": \"std\"}}}], \"data\": {\"name\": \"data-42add29b044b8fa0446b8cc36535e186\"}, \"$schema\": \"https://vega.github.io/schema/vega-lite/v4.8.1.json\", \"datasets\": {\"data-42add29b044b8fa0446b8cc36535e186\": [{\"City\": \"Hamilton\", \"Latitude\": -37.78, \"mean\": 13.794622083981325, \"std\": 3.4507590291421772}, {\"City\": \"Los Angeles\", \"Latitude\": -37.78, \"mean\": 12.542815165876792, \"std\": 3.2770028708357626}, {\"City\": \"Santo Domingo\", \"Latitude\": -0.8, \"mean\": 21.46363382899628, \"std\": 0.9932836453499876}, {\"City\": \"Le\\u00f3n\", \"Latitude\": 12.05, \"mean\": 27.32114652567974, \"std\": 1.074685844949985}, {\"City\": \"Managua\", \"Latitude\": 12.05, \"mean\": 26.344364705882306, \"std\": 1.2040159626110811}, {\"City\": \"Tegucigalpa\", \"Latitude\": 13.66, \"mean\": 23.86708683853457, \"std\": 1.3972408002423469}, {\"City\": \"San Pedro Sula\", \"Latitude\": 15.27, \"mean\": 23.938862533692717, \"std\": 1.7877089779895372}, {\"City\": \"Guatemala City\", \"Latitude\": 15.27, \"mean\": 19.117357734806625, \"std\": 1.5599359636583285}, {\"City\": \"Guatemala\", \"Latitude\": 15.27, \"mean\": 19.117357734806625, \"std\": 1.5599359636583285}, {\"City\": \"Villa Nueva\", \"Latitude\": 15.27, \"mean\": 19.117357734806625, \"std\": 1.5599359636583285}, {\"City\": \"Acapulco\", \"Latitude\": 16.87, \"mean\": 26.05634545454547, \"std\": 1.3172750655175411}, {\"City\": \"Tuxtla Guti\\u00e9rrez\", \"Latitude\": 16.87, \"mean\": 24.42875944055943, \"std\": 1.9274916802269806}, {\"City\": \"Kingston\", \"Latitude\": 18.48, \"mean\": 26.60248933333332, \"std\": 1.4333054123573958}, {\"City\": \"Veracruz\", \"Latitude\": 18.48, \"mean\": 23.063930069930084, \"std\": 2.507375652863111}, {\"City\": \"Carrefour\", \"Latitude\": 18.48, \"mean\": 26.43415322580644, \"std\": 1.3671582834164506}, {\"City\": \"Toluca\", \"Latitude\": 18.48, \"mean\": 20.91725774647886, \"std\": 1.7460820271286739}, {\"City\": \"Santo Domingo\", \"Latitude\": 18.48, \"mean\": 25.93443614130431, \"std\": 1.3647038337088544}, {\"City\": \"Puebla\", \"Latitude\": 18.48, \"mean\": 18.87223496503494, \"std\": 2.304206724273563}, {\"City\": \"Nezahualc\\u00f3yotl\", \"Latitude\": 20.09, \"mean\": 15.581229370629373, \"std\": 2.276254828123057}, {\"City\": \"Naucalpan\", \"Latitude\": 20.09, \"mean\": 15.581229370629373, \"std\": 2.276254828123057}, {\"City\": \"Tlalnepantla\", \"Latitude\": 20.09, \"mean\": 15.581229370629373, \"std\": 2.276254828123057}, {\"City\": \"Mexico\", \"Latitude\": 20.09, \"mean\": 15.581229370629373, \"std\": 2.276254828123057}, {\"City\": \"Tonal\\u00e1\", \"Latitude\": 20.09, \"mean\": 20.705537335285523, \"std\": 2.045062806468713}, {\"City\": \"Quer\\u00e9taro\", \"Latitude\": 20.09, \"mean\": 17.10306732117812, \"std\": 2.3350074473477282}, {\"City\": \"Tlaquepaque\", \"Latitude\": 20.09, \"mean\": 20.705537335285523, \"std\": 2.045062806468713}, {\"City\": \"Morelia\", \"Latitude\": 20.09, \"mean\": 17.10306732117812, \"std\": 2.3350074473477282}, {\"City\": \"Zapopan\", \"Latitude\": 20.09, \"mean\": 20.705537335285523, \"std\": 2.045062806468713}, {\"City\": \"Guadalajara\", \"Latitude\": 20.09, \"mean\": 20.705537335285523, \"std\": 2.045062806468713}, {\"City\": \"Chimalhuac\\u00e1n\", \"Latitude\": 20.09, \"mean\": 15.581229370629373, \"std\": 2.276254828123057}, {\"City\": \"Cuautitl\\u00e1n Izcalli\", \"Latitude\": 20.09, \"mean\": 15.581229370629373, \"std\": 2.276254828123057}, {\"City\": \"Aguascalientes\", \"Latitude\": 21.7, \"mean\": 17.983196353436174, \"std\": 2.9712040338605776}, {\"City\": \"M\\u00e9rida\", \"Latitude\": 21.7, \"mean\": 25.19965137614681, \"std\": 1.5225727231234487}, {\"City\": \"San Luis Potos\\u00ed\", \"Latitude\": 21.7, \"mean\": 16.564646153846144, \"std\": 2.823586030581771}, {\"City\": \"Canc\\u00fan\", \"Latitude\": 21.7, \"mean\": 24.550828309305352, \"std\": 1.6717159267575807}, {\"City\": \"Le\\u00f3n\", \"Latitude\": 21.7, \"mean\": 16.564646153846144, \"std\": 2.823586030581771}, {\"City\": \"Culiac\\u00e1n\", \"Latitude\": 24.92, \"mean\": 25.057897546897546, \"std\": 3.9286949913252247}, {\"City\": \"Saltillo\", \"Latitude\": 24.92, \"mean\": 16.757028649386093, \"std\": 4.127432964970555}, {\"City\": \"Torre\\u00f3n\", \"Latitude\": 24.92, \"mean\": 20.02166573426575, \"std\": 4.271814486837962}, {\"City\": \"Durango\", \"Latitude\": 24.92, \"mean\": 17.629472727272706, \"std\": 4.317543187922652}, {\"City\": \"Reynosa\", \"Latitude\": 26.52, \"mean\": 22.825823841059616, \"std\": 5.8407579616921375}, {\"City\": \"Monterrey\", \"Latitude\": 26.52, \"mean\": 21.92611543624161, \"std\": 5.878348314222561}, {\"City\": \"Guadalupe\", \"Latitude\": 26.52, \"mean\": 21.92611543624161, \"std\": 5.878348314222561}, {\"City\": \"Apodaca\", \"Latitude\": 26.52, \"mean\": 21.92611543624161, \"std\": 5.878348314222561}, {\"City\": \"Chihuahua\", \"Latitude\": 28.13, \"mean\": 16.65087272727271, \"std\": 5.228256259996587}, {\"City\": \"Austin\", \"Latitude\": 29.74, \"mean\": 19.877495472186297, \"std\": 6.833517827821413}, {\"City\": \"Hermosillo\", \"Latitude\": 29.74, \"mean\": 21.514076056337984, \"std\": 6.3381665698136835}, {\"City\": \"Houston\", \"Latitude\": 29.74, \"mean\": 20.120930322580627, \"std\": 6.3955588879064225}, {\"City\": \"San Antonio\", \"Latitude\": 29.74, \"mean\": 19.877495472186297, \"std\": 6.833517827821413}, {\"City\": \"Jacksonville\", \"Latitude\": 29.74, \"mean\": 20.951151923076885, \"std\": 4.690915475477186}, {\"City\": \"Tucson\", \"Latitude\": 31.35, \"mean\": 17.70455539971948, \"std\": 6.663368907445833}, {\"City\": \"El Paso\", \"Latitude\": 31.35, \"mean\": 15.785633977900538, \"std\": 7.482865660084109}, {\"City\": \"Mexicali\", \"Latitude\": 32.95, \"mean\": 19.414157814871018, \"std\": 6.890836704767715}, {\"City\": \"Tijuana\", \"Latitude\": 32.95, \"mean\": 16.141877086494702, \"std\": 2.7408800244770877}, {\"City\": \"San Diego\", \"Latitude\": 32.95, \"mean\": 16.141877086494702, \"std\": 2.7408800244770877}, {\"City\": \"Phoenix\", \"Latitude\": 32.95, \"mean\": 21.0912384291725, \"std\": 7.923984587366666}, {\"City\": \"Fort Worth\", \"Latitude\": 32.95, \"mean\": 17.999259354838724, \"std\": 8.101240971935184}, {\"City\": \"Columbus\", \"Latitude\": 32.95, \"mean\": 16.612362499999996, \"std\": 7.0843750977648074}, {\"City\": \"Dallas\", \"Latitude\": 32.95, \"mean\": 17.999259354838724, \"std\": 8.101240971935184}, {\"City\": \"Albuquerque\", \"Latitude\": 34.56, \"mean\": 11.127311111111114, \"std\": 8.366040061706494}, {\"City\": \"Charlotte\", \"Latitude\": 34.56, \"mean\": 15.908588461538448, \"std\": 7.511470484987276}, {\"City\": \"Memphis\", \"Latitude\": 34.56, \"mean\": 15.980410576923077, \"std\": 7.930791472110084}, {\"City\": \"Los Angeles\", \"Latitude\": 34.56, \"mean\": 15.922936267071332, \"std\": 5.575499819120612}, {\"City\": \"Oklahoma City\", \"Latitude\": 36.17, \"mean\": 15.266452380952373, \"std\": 9.431652649775149}, {\"City\": \"Fresno\", \"Latitude\": 36.17, \"mean\": 15.866047040971164, \"std\": 7.106379763477927}, {\"City\": \"Nashville\", \"Latitude\": 36.17, \"mean\": 14.216234615384593, \"std\": 8.301125754490824}, {\"City\": \"Las Vegas\", \"Latitude\": 36.17, \"mean\": 17.537450437317794, \"std\": 8.73312618366847}, {\"City\": \"Louisville\", \"Latitude\": 37.78, \"mean\": 12.961592307692309, \"std\": 8.694947933930468}, {\"City\": \"San Jose\", \"Latitude\": 37.78, \"mean\": 14.418268588770871, \"std\": 4.298840958775361}, {\"City\": \"San Francisco\", \"Latitude\": 37.78, \"mean\": 14.418268588770871, \"std\": 4.298840958775361}, {\"City\": \"Baltimore\", \"Latitude\": 39.38, \"mean\": 11.8925201923077, \"std\": 8.921383608146845}, {\"City\": \"Philadelphia\", \"Latitude\": 39.38, \"mean\": 11.837224038461557, \"std\": 8.533852705142579}, {\"City\": \"Denver\", \"Latitude\": 39.38, \"mean\": 8.885584298584291, \"std\": 8.95839103301609}, {\"City\": \"Columbus\", \"Latitude\": 39.38, \"mean\": 11.264127884615377, \"std\": 9.063177567328749}, {\"City\": \"Indianapolis\", \"Latitude\": 39.38, \"mean\": 11.195131730769218, \"std\": 9.35187234797673}, {\"City\": \"New York\", \"Latitude\": 40.99, \"mean\": 9.514878846153842, \"std\": 9.273271008861261}, {\"City\": \"Milwaukee\", \"Latitude\": 42.59, \"mean\": 10.092988538681947, \"std\": 8.52253892299362}, {\"City\": \"Chicago\", \"Latitude\": 42.59, \"mean\": 10.092988538681947, \"std\": 8.52253892299362}, {\"City\": \"Hamilton\", \"Latitude\": 42.59, \"mean\": 7.9004718242597916, \"std\": 9.032808704954672}, {\"City\": \"Detroit\", \"Latitude\": 42.59, \"mean\": 8.53808595988539, \"std\": 9.883198834823931}, {\"City\": \"Le\\u00f3n\", \"Latitude\": 42.59, \"mean\": 11.01347826086957, \"std\": 6.149281637595352}, {\"City\": \"Boston\", \"Latitude\": 42.59, \"mean\": 7.329050000000001, \"std\": 9.687037068868289}, {\"City\": \"Kingston\", \"Latitude\": 44.2, \"mean\": 6.397099331423118, \"std\": 10.31358129218118}, {\"City\": \"Toronto\", \"Latitude\": 44.2, \"mean\": 5.812085004775552, \"std\": 9.915074670338532}, {\"City\": \"Vancouver\", \"Latitude\": 45.81, \"mean\": 9.72084594222833, \"std\": 4.794140750485132}, {\"City\": \"Ottawa\", \"Latitude\": 45.81, \"mean\": 3.895100286532948, \"std\": 11.392489552385555}, {\"City\": \"Montreal\", \"Latitude\": 45.81, \"mean\": 4.422435530085956, \"std\": 11.350025322677856}, {\"City\": \"Portland\", \"Latitude\": 45.81, \"mean\": 9.72084594222833, \"std\": 4.794140750485132}, {\"City\": \"Quebec\", \"Latitude\": 47.42, \"mean\": 1.0632607449856732, \"std\": 11.99753878248788}, {\"City\": \"Seattle\", \"Latitude\": 47.42, \"mean\": 7.471187070151301, \"std\": 5.566178717074319}, {\"City\": \"Vancouver\", \"Latitude\": 49.03, \"mean\": 7.189566712517195, \"std\": 5.76539468119137}, {\"City\": \"Winnipeg\", \"Latitude\": 50.63, \"mean\": 1.2696990407673852, \"std\": 13.762059692812942}, {\"City\": \"Calgary\", \"Latitude\": 50.63, \"mean\": 3.5547611044417766, \"std\": 10.828068892210048}, {\"City\": \"Edmonton\", \"Latitude\": 53.84, \"mean\": 1.554475609756097, \"std\": 11.524054060354517}]}}, {\"mode\": \"vega-lite\"});\n",
       "</script>"
      ],
      "text/plain": [
       "alt.LayerChart(...)"
      ]
     },
     "execution_count": 1,
     "metadata": {},
     "output_type": "execute_result"
    }
   ],
   "source": [
    "var = var.reset_index().sort_values(\"Latitude\")\n",
    "chart = alt.Chart(var).mark_bar().encode(\n",
    "    y = \"mean\",\n",
    "    x = alt.X(\"City\", sort=None),\n",
    ")\n",
    "chart2 = chart.mark_point(color='red').encode(\n",
    "    y = \"std\",\n",
    "    x = alt.X(\"City\", sort=None),\n",
    "    )\n",
    "chart = chart + chart2\n",
    "chart"
   ]
  }
 ],
 "metadata": {
  "jupytext": {
   "cell_metadata_filter": "-all"
  },
  "kernelspec": {
   "display_name": "myenv",
   "language": "python",
   "name": "myenv"
  },
  "language_info": {
   "codemirror_mode": {
    "name": "ipython",
    "version": 3
   },
   "file_extension": ".py",
   "mimetype": "text/x-python",
   "name": "python",
   "nbconvert_exporter": "python",
   "pygments_lexer": "ipython3",
   "version": "3.8.5"
  }
 },
 "nbformat": 4,
 "nbformat_minor": 5
}
