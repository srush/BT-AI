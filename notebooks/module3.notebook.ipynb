{
 "cells": [
  {
   "cell_type": "markdown",
   "id": "2960058f",
   "metadata": {
    "lines_to_next_cell": 2
   },
   "source": [
    "# Module 3 - Pandas"
   ]
  },
  {
   "cell_type": "code",
   "execution_count": 1,
   "id": "ca09492d",
   "metadata": {
    "execution": {
     "iopub.execute_input": "2021-04-19T17:52:05.296166Z",
     "iopub.status.busy": "2021-04-19T17:52:05.295139Z",
     "iopub.status.idle": "2021-04-19T17:52:05.467797Z",
     "shell.execute_reply": "2021-04-19T17:52:05.466887Z"
    },
    "lines_to_next_cell": 2
   },
   "outputs": [],
   "source": [
    "import pandas as pd"
   ]
  },
  {
   "cell_type": "markdown",
   "id": "bc605bbc",
   "metadata": {},
   "source": [
    "## Loading Data "
   ]
  }
 ],
 "metadata": {
  "jupytext": {
   "cell_metadata_filter": "-all"
  },
  "kernelspec": {
   "display_name": "myenv",
   "language": "python",
   "name": "myenv"
  },
  "language_info": {
   "codemirror_mode": {
    "name": "ipython",
    "version": 3
   },
   "file_extension": ".py",
   "mimetype": "text/x-python",
   "name": "python",
   "nbconvert_exporter": "python",
   "pygments_lexer": "ipython3",
   "version": "3.8.5"
  }
 },
 "nbformat": 4,
 "nbformat_minor": 5
}
