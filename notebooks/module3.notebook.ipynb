{
 "cells": [
  {
   "cell_type": "markdown",
   "id": "b5ecd342",
   "metadata": {
    "lines_to_next_cell": 2
   },
   "source": [
    "# Module 3 - Pandas"
   ]
  },
  {
   "cell_type": "code",
   "execution_count": 1,
   "id": "4fdea96f",
   "metadata": {
    "execution": {
     "iopub.execute_input": "2021-04-19T17:58:32.059499Z",
     "iopub.status.busy": "2021-04-19T17:58:32.058183Z",
     "iopub.status.idle": "2021-04-19T17:58:32.228938Z",
     "shell.execute_reply": "2021-04-19T17:58:32.229212Z"
    }
   },
   "outputs": [],
   "source": [
    "import pandas as pd"
   ]
  },
  {
   "cell_type": "markdown",
   "id": "635993e3",
   "metadata": {},
   "source": [
    "## Goal: Graph data over times and location"
   ]
  },
  {
   "cell_type": "markdown",
   "id": "cef5ab7a",
   "metadata": {
    "lines_to_next_cell": 2
   },
   "source": [
    "## Simple Graphing"
   ]
  },
  {
   "cell_type": "markdown",
   "id": "0796ca1b",
   "metadata": {
    "lines_to_next_cell": 2
   },
   "source": [
    "## Non-Standard Graphs"
   ]
  },
  {
   "cell_type": "markdown",
   "id": "c59345c9",
   "metadata": {
    "lines_to_next_cell": 2
   },
   "source": [
    "## Grouping Data"
   ]
  }
 ],
 "metadata": {
  "jupytext": {
   "cell_metadata_filter": "-all"
  },
  "kernelspec": {
   "display_name": "myenv",
   "language": "python",
   "name": "myenv"
  },
  "language_info": {
   "codemirror_mode": {
    "name": "ipython",
    "version": 3
   },
   "file_extension": ".py",
   "mimetype": "text/x-python",
   "name": "python",
   "nbconvert_exporter": "python",
   "pygments_lexer": "ipython3",
   "version": "3.8.5"
  }
 },
 "nbformat": 4,
 "nbformat_minor": 5
}
