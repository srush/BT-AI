{
 "cells": [
  {
   "cell_type": "markdown",
   "id": "1a605913",
   "metadata": {},
   "source": [
    "# Module 3 - Visualizing Data"
   ]
  },
  {
   "cell_type": "code",
   "execution_count": 1,
   "id": "d3c25eda",
   "metadata": {
    "execution": {
     "iopub.execute_input": "2021-04-19T18:19:41.690273Z",
     "iopub.status.busy": "2021-04-19T18:19:41.689042Z",
     "iopub.status.idle": "2021-04-19T18:19:41.863397Z",
     "shell.execute_reply": "2021-04-19T18:19:41.864344Z"
    }
   },
   "outputs": [],
   "source": [
    "import pandas as pd"
   ]
  },
  {
   "cell_type": "code",
   "execution_count": 2,
   "id": "e2d82c2a",
   "metadata": {
    "execution": {
     "iopub.execute_input": "2021-04-19T18:19:41.868589Z",
     "iopub.status.busy": "2021-04-19T18:19:41.868296Z",
     "iopub.status.idle": "2021-04-19T18:19:42.000923Z",
     "shell.execute_reply": "2021-04-19T18:19:42.000357Z"
    }
   },
   "outputs": [],
   "source": [
    "import altair as alt"
   ]
  },
  {
   "cell_type": "markdown",
   "id": "1cd8f4f3",
   "metadata": {
    "lines_to_next_cell": 2
   },
   "source": [
    "Goal: View and Present Climate Data\n"
   ]
  },
  {
   "cell_type": "markdown",
   "id": "54fc9bde",
   "metadata": {},
   "source": [
    "## Simple Graphing"
   ]
  },
  {
   "cell_type": "markdown",
   "id": "5cf182ad",
   "metadata": {},
   "source": [
    "## Time-Series Graphs"
   ]
  },
  {
   "cell_type": "markdown",
   "id": "bbddf917",
   "metadata": {},
   "source": [
    "## Grouping Data"
   ]
  },
  {
   "cell_type": "markdown",
   "id": "3e90aa8f",
   "metadata": {
    "lines_to_next_cell": 2
   },
   "source": [
    "## Labels, Axes, Colors"
   ]
  }
 ],
 "metadata": {
  "jupytext": {
   "cell_metadata_filter": "-all"
  },
  "kernelspec": {
   "display_name": "myenv",
   "language": "python",
   "name": "myenv"
  },
  "language_info": {
   "codemirror_mode": {
    "name": "ipython",
    "version": 3
   },
   "file_extension": ".py",
   "mimetype": "text/x-python",
   "name": "python",
   "nbconvert_exporter": "python",
   "pygments_lexer": "ipython3",
   "version": "3.8.5"
  }
 },
 "nbformat": 4,
 "nbformat_minor": 5
}
