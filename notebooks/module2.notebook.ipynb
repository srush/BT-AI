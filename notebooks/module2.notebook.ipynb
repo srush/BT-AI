{
 "cells": [
  {
   "cell_type": "markdown",
   "id": "c24f3274",
   "metadata": {},
   "source": [
    "# Module 2 - Working with Data"
   ]
  },
  {
   "cell_type": "markdown",
   "id": "8deccb7a",
   "metadata": {},
   "source": [
    "Goal: Understand and manipulate climate data"
   ]
  },
  {
   "cell_type": "markdown",
   "id": "da52c69d",
   "metadata": {},
   "source": [
    "Steps\n",
    "* Load and word with files\n",
    "* First steps with dataframes\n",
    "* Different types in dataframes"
   ]
  },
  {
   "cell_type": "code",
   "execution_count": null,
   "id": "1779947f",
   "metadata": {},
   "outputs": [],
   "source": []
  },
  {
   "cell_type": "code",
   "execution_count": 1,
   "id": "89a363ef",
   "metadata": {
    "execution": {
     "iopub.execute_input": "2021-04-19T18:19:38.942758Z",
     "iopub.status.busy": "2021-04-19T18:19:38.941679Z",
     "iopub.status.idle": "2021-04-19T18:19:39.112947Z",
     "shell.execute_reply": "2021-04-19T18:19:39.111957Z"
    },
    "lines_to_next_cell": 2
   },
   "outputs": [],
   "source": [
    "import pandas as pd"
   ]
  },
  {
   "cell_type": "markdown",
   "id": "1762b6ba",
   "metadata": {},
   "source": [
    "## Building Dataframes "
   ]
  },
  {
   "cell_type": "markdown",
   "id": "a9e0c95c",
   "metadata": {},
   "source": [
    "## Loading Data from Files"
   ]
  },
  {
   "cell_type": "markdown",
   "id": "4be9b026",
   "metadata": {},
   "source": [
    "## Filtering Dataframes"
   ]
  },
  {
   "cell_type": "markdown",
   "id": "3c6a1b11",
   "metadata": {},
   "source": [
    "## Datatypes "
   ]
  },
  {
   "cell_type": "markdown",
   "id": "1aec7bd4",
   "metadata": {},
   "source": [
    "## Writing Data to Files"
   ]
  }
 ],
 "metadata": {
  "jupytext": {
   "cell_metadata_filter": "-all"
  },
  "kernelspec": {
   "display_name": "myenv",
   "language": "python",
   "name": "myenv"
  },
  "language_info": {
   "codemirror_mode": {
    "name": "ipython",
    "version": 3
   },
   "file_extension": ".py",
   "mimetype": "text/x-python",
   "name": "python",
   "nbconvert_exporter": "python",
   "pygments_lexer": "ipython3",
   "version": "3.8.5"
  }
 },
 "nbformat": 4,
 "nbformat_minor": 5
}
