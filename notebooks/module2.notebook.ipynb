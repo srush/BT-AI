{
 "cells": [
  {
   "cell_type": "markdown",
   "id": "802f4714",
   "metadata": {},
   "source": [
    "# Lab 2 - Working with Structured Data"
   ]
  },
  {
   "cell_type": "markdown",
   "id": "625d4ffb",
   "metadata": {},
   "source": [
    "The target of this lab session is to analyze and understand a large\n",
    "dataset efficiently. The dataset we will work with is a dataset of\n",
    "cities in the US and their climates. The module will\n",
    "discuss the challenges of loading data, finding the parts we are\n",
    "interested in, and visualizing data output."
   ]
  },
  {
   "cell_type": "markdown",
   "id": "94814668",
   "metadata": {},
   "source": [
    "![pandas](data:image/jpeg;base64,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)"
   ]
  },
  {
   "cell_type": "markdown",
   "id": "8d012bb6",
   "metadata": {
    "lines_to_next_cell": 2
   },
   "source": [
    "The main technical tool we will be working with is a library known\n",
    "as `Pandas`. Despite the silly name, Pandas is a super popular\n",
    "library for data analysis. It is used in many technology companies\n",
    "for loading and manipulating data. "
   ]
  },
  {
   "cell_type": "markdown",
   "id": "d8fdc4fc",
   "metadata": {},
   "source": [
    "# Review"
   ]
  },
  {
   "cell_type": "markdown",
   "id": "ebb64dda",
   "metadata": {},
   "source": [
    "Before we get started let us review some of the Python code that we saw last class. "
   ]
  },
  {
   "cell_type": "markdown",
   "id": "073bcb65",
   "metadata": {},
   "source": [
    "![python](https://upload.wikimedia.org/wikipedia/commons/c/c3/Python-logo-notext.svg)"
   ]
  },
  {
   "cell_type": "markdown",
   "id": "c0fe15f2",
   "metadata": {},
   "source": [
    "We first saw a bunch of different types such as numbers, strings, and lists"
   ]
  },
  {
   "cell_type": "code",
   "execution_count": 1,
   "id": "2b55442c",
   "metadata": {
    "execution": {
     "iopub.execute_input": "2021-06-10T17:50:57.266167Z",
     "iopub.status.busy": "2021-06-10T17:50:57.264985Z",
     "iopub.status.idle": "2021-06-10T17:50:57.268618Z",
     "shell.execute_reply": "2021-06-10T17:50:57.267630Z"
    }
   },
   "outputs": [],
   "source": [
    "number1 = 50.5\n",
    "string1 = \"New York\"\n",
    "list1 = [\"Queens\", \"Brooklyn\", \"Manhattan\", \"Staten Island\", \"The Bronx\"]"
   ]
  },
  {
   "cell_type": "markdown",
   "id": "2add6320",
   "metadata": {},
   "source": [
    "We then saw some more complex types likes dates and counters."
   ]
  },
  {
   "cell_type": "code",
   "execution_count": 2,
   "id": "5c35c544",
   "metadata": {
    "execution": {
     "iopub.execute_input": "2021-06-10T17:50:57.284644Z",
     "iopub.status.busy": "2021-06-10T17:50:57.283644Z",
     "iopub.status.idle": "2021-06-10T17:50:57.288569Z",
     "shell.execute_reply": "2021-06-10T17:50:57.289374Z"
    }
   },
   "outputs": [
    {
     "data": {
      "text/plain": [
       "datetime.datetime(2021, 6, 10, 13, 50, 57, 271951)"
      ]
     },
     "execution_count": 1,
     "metadata": {},
     "output_type": "execute_result"
    }
   ],
   "source": [
    "import datetime\n",
    "date1 = datetime.datetime.now()\n",
    "date1"
   ]
  },
  {
   "cell_type": "markdown",
   "id": "1cf9ba31",
   "metadata": {},
   "source": [
    "As there are so many different types in Python, we discussed how\n",
    "important it was to use Google and StackOverflow to find examples."
   ]
  },
  {
   "cell_type": "code",
   "execution_count": 3,
   "id": "e101c4ed",
   "metadata": {
    "execution": {
     "iopub.execute_input": "2021-06-10T17:50:57.297399Z",
     "iopub.status.busy": "2021-06-10T17:50:57.296394Z",
     "iopub.status.idle": "2021-06-10T17:50:57.299954Z",
     "shell.execute_reply": "2021-06-10T17:50:57.300732Z"
    }
   },
   "outputs": [
    {
     "data": {
      "text/plain": [
       "[('A', 6), ('B', 2), ('C', 2)]"
      ]
     },
     "execution_count": 1,
     "metadata": {},
     "output_type": "execute_result"
    }
   ],
   "source": [
    "from collections import Counter\n",
    "counter = Counter([\"A\", \"B\", \"A\", \"A\", \"C\", \"C\", \"B\", \"A\", \"A\", \"A\"])\n",
    "counter.most_common()"
   ]
  },
  {
   "cell_type": "markdown",
   "id": "4a20f2de",
   "metadata": {},
   "source": [
    "Next, we focused on `if` and `for` the two most important control\n",
    "elements in python."
   ]
  },
  {
   "cell_type": "markdown",
   "id": "ab2b2a09",
   "metadata": {},
   "source": [
    "* `if` lets us decide which block of code to run\n",
    "* `for` lets us run the same code for each element in a list"
   ]
  },
  {
   "cell_type": "code",
   "execution_count": 4,
   "id": "b7343218",
   "metadata": {
    "execution": {
     "iopub.execute_input": "2021-06-10T17:50:57.307554Z",
     "iopub.status.busy": "2021-06-10T17:50:57.306547Z",
     "iopub.status.idle": "2021-06-10T17:50:57.311586Z",
     "shell.execute_reply": "2021-06-10T17:50:57.312352Z"
    }
   },
   "outputs": [
    {
     "name": "stdout",
     "output_type": "stream",
     "text": [
      "0\n",
      "1\n",
      "2\n",
      "3\n",
      "4\n",
      "5\n",
      "6\n",
      "7\n",
      "8\n",
      "9\n"
     ]
    }
   ],
   "source": [
    "for val in range(10):\n",
    "    print(val)"
   ]
  },
  {
   "cell_type": "markdown",
   "id": "7ef568eb",
   "metadata": {},
   "source": [
    "Finally we discussed the special case of strings. There are\n",
    "many useful ways to find values in strings and create new strings."
   ]
  },
  {
   "cell_type": "code",
   "execution_count": 5,
   "id": "1d544e3c",
   "metadata": {
    "execution": {
     "iopub.execute_input": "2021-06-10T17:50:57.319867Z",
     "iopub.status.busy": "2021-06-10T17:50:57.318602Z",
     "iopub.status.idle": "2021-06-10T17:50:57.322246Z",
     "shell.execute_reply": "2021-06-10T17:50:57.322995Z"
    }
   },
   "outputs": [
    {
     "data": {
      "text/plain": [
       "'first second'"
      ]
     },
     "execution_count": 1,
     "metadata": {},
     "output_type": "execute_result"
    }
   ],
   "source": [
    "\"first \" + \"second\""
   ]
  },
  {
   "cell_type": "code",
   "execution_count": 6,
   "id": "3e545cf9",
   "metadata": {
    "execution": {
     "iopub.execute_input": "2021-06-10T17:50:57.328963Z",
     "iopub.status.busy": "2021-06-10T17:50:57.328064Z",
     "iopub.status.idle": "2021-06-10T17:50:57.331712Z",
     "shell.execute_reply": "2021-06-10T17:50:57.330801Z"
    }
   },
   "outputs": [],
   "source": [
    "str1 = \"first|second\""
   ]
  },
  {
   "cell_type": "code",
   "execution_count": 7,
   "id": "55e58c62",
   "metadata": {
    "execution": {
     "iopub.execute_input": "2021-06-10T17:50:57.338356Z",
     "iopub.status.busy": "2021-06-10T17:50:57.337385Z",
     "iopub.status.idle": "2021-06-10T17:50:57.340891Z",
     "shell.execute_reply": "2021-06-10T17:50:57.341675Z"
    }
   },
   "outputs": [
    {
     "data": {
      "text/plain": [
       "['first', 'second']"
      ]
     },
     "execution_count": 1,
     "metadata": {},
     "output_type": "execute_result"
    }
   ],
   "source": [
    "str1.split(\"|\")"
   ]
  },
  {
   "cell_type": "markdown",
   "id": "e72e4e78",
   "metadata": {},
   "source": [
    "## Review Exercise "
   ]
  },
  {
   "cell_type": "markdown",
   "id": "c146d57e",
   "metadata": {},
   "source": [
    "Print only the values in this list that are greater than 20."
   ]
  },
  {
   "cell_type": "code",
   "execution_count": 8,
   "id": "edfff6c1",
   "metadata": {
    "execution": {
     "iopub.execute_input": "2021-06-10T17:50:57.348640Z",
     "iopub.status.busy": "2021-06-10T17:50:57.347594Z",
     "iopub.status.idle": "2021-06-10T17:50:57.350940Z",
     "shell.execute_reply": "2021-06-10T17:50:57.349944Z"
    }
   },
   "outputs": [],
   "source": [
    "list1 = [5, 50, 15, 60, 4, 80]"
   ]
  },
  {
   "cell_type": "code",
   "execution_count": 9,
   "id": "00e7426a",
   "metadata": {
    "execution": {
     "iopub.execute_input": "2021-06-10T17:50:57.356970Z",
     "iopub.status.busy": "2021-06-10T17:50:57.355996Z",
     "iopub.status.idle": "2021-06-10T17:50:57.360290Z",
     "shell.execute_reply": "2021-06-10T17:50:57.359239Z"
    }
   },
   "outputs": [],
   "source": [
    "#📝📝📝📝 FILLME\n",
    "pass"
   ]
  },
  {
   "cell_type": "markdown",
   "id": "fd6d96bf",
   "metadata": {},
   "source": [
    "# Unit A"
   ]
  },
  {
   "cell_type": "markdown",
   "id": "72dc6b13",
   "metadata": {},
   "source": [
    "This week is all about `data tables`. Data tables are a common way\n",
    "of representing facts anywhere from newspaper articles to scientific\n",
    "studies."
   ]
  },
  {
   "cell_type": "markdown",
   "id": "c0e0dd83",
   "metadata": {},
   "source": [
    "For instance, as a running example let us consider this table from Wikipedia."
   ]
  },
  {
   "cell_type": "markdown",
   "id": "abf62d7a",
   "metadata": {},
   "source": [
    "![new york](https://upload.wikimedia.org/wikipedia/commons/thumb/5/57/LA_Skyline_Mountains2.jpg/120px-LA_Skyline_Mountains2.jpg)"
   ]
  },
  {
   "cell_type": "markdown",
   "id": "a1f36fc6",
   "metadata": {},
   "source": [
    "https://en.wikipedia.org/wiki/List_of_North_American_cities_by_population"
   ]
  },
  {
   "cell_type": "markdown",
   "id": "5153d915",
   "metadata": {},
   "source": [
    "You may have used datatables before in spreadsheets. For example we can put that\n",
    "wikipedia table in a spreadsheet."
   ]
  },
  {
   "cell_type": "markdown",
   "id": "49fafd9a",
   "metadata": {},
   "source": [
    "https://docs.google.com/spreadsheets/d/1Jwcr6IBJbOT1G4Vq7VqaZ7S1V9gRmUb5ALkJPaG5fxI/edit?usp=sharing"
   ]
  },
  {
   "cell_type": "markdown",
   "id": "5225df5c",
   "metadata": {},
   "source": [
    "In this spreadsheet we can do lots of things."
   ]
  },
  {
   "cell_type": "markdown",
   "id": "05fe5d15",
   "metadata": {},
   "source": [
    "👩‍🎓**Student question: Do you know how to do the following?**"
   ]
  },
  {
   "cell_type": "markdown",
   "id": "8baeab5b",
   "metadata": {},
   "source": [
    "* Change the column names\n",
    "* Delete a row\n",
    "* Make a graph\n",
    "* Add a new column"
   ]
  },
  {
   "cell_type": "markdown",
   "id": "8a6ad9be",
   "metadata": {},
   "source": [
    "What about more advanced ideas. Can you?"
   ]
  },
  {
   "cell_type": "markdown",
   "id": "1954d3e0",
   "metadata": {},
   "source": [
    "* Sort by a column?\n",
    "* Add a new column that changes the previous column?\n",
    "* Take the sum of a row?\n",
    "* Find the highest value in a row?"
   ]
  },
  {
   "cell_type": "markdown",
   "id": "f24960d8",
   "metadata": {},
   "source": [
    "In this lab we will work with real-world data to learn how to\n",
    "calculate important properties."
   ]
  },
  {
   "cell_type": "markdown",
   "id": "85abbfe9",
   "metadata": {},
   "source": [
    "## Pandas"
   ]
  },
  {
   "cell_type": "markdown",
   "id": "046fdd01",
   "metadata": {
    "lines_to_next_cell": 2
   },
   "source": [
    "The data that we are working with is located in the file \"Cities.csv\".\n",
    "You can get this file from the internet by running this command."
   ]
  },
  {
   "cell_type": "markdown",
   "id": "ef4b5c8f",
   "metadata": {},
   "source": [
    "This file is raw data as a text file. We can see the output in raw form."
   ]
  },
  {
   "cell_type": "markdown",
   "id": "0e7547d1",
   "metadata": {},
   "source": [
    "https://srush.github.io/BT-AI/notebooks/Cities.csv"
   ]
  },
  {
   "cell_type": "markdown",
   "id": "05730fae",
   "metadata": {},
   "source": [
    "We can see that \"csv\" stands for \"comma separated values\" as each element\n",
    "of the file is split using a comma. "
   ]
  },
  {
   "cell_type": "markdown",
   "id": "cbb30395",
   "metadata": {},
   "source": [
    "Pandas is as a super-powered spreadsheet."
   ]
  },
  {
   "cell_type": "code",
   "execution_count": 10,
   "id": "fa538b5a",
   "metadata": {
    "execution": {
     "iopub.execute_input": "2021-06-10T17:50:57.368074Z",
     "iopub.status.busy": "2021-06-10T17:50:57.366832Z",
     "iopub.status.idle": "2021-06-10T17:50:57.541341Z",
     "shell.execute_reply": "2021-06-10T17:50:57.542091Z"
    }
   },
   "outputs": [],
   "source": [
    "import pandas as pd"
   ]
  },
  {
   "cell_type": "markdown",
   "id": "46558c00",
   "metadata": {},
   "source": [
    "To load data in the library we use the following command. Here `df`\n",
    "refers to the \"DataFrame\" which is what Pandas calls a spreadsheet."
   ]
  },
  {
   "cell_type": "code",
   "execution_count": 11,
   "id": "afc6da87",
   "metadata": {
    "execution": {
     "iopub.execute_input": "2021-06-10T17:50:57.546904Z",
     "iopub.status.busy": "2021-06-10T17:50:57.546056Z",
     "iopub.status.idle": "2021-06-10T17:50:57.586338Z",
     "shell.execute_reply": "2021-06-10T17:50:57.585621Z"
    }
   },
   "outputs": [
    {
     "data": {
      "text/html": [
       "<div>\n",
       "<style scoped>\n",
       "    .dataframe tbody tr th:only-of-type {\n",
       "        vertical-align: middle;\n",
       "    }\n",
       "\n",
       "    .dataframe tbody tr th {\n",
       "        vertical-align: top;\n",
       "    }\n",
       "\n",
       "    .dataframe thead th {\n",
       "        text-align: right;\n",
       "    }\n",
       "</style>\n",
       "<table border=\"1\" class=\"dataframe\">\n",
       "  <thead>\n",
       "    <tr style=\"text-align: right;\">\n",
       "      <th></th>\n",
       "      <th>Rank</th>\n",
       "      <th>City</th>\n",
       "      <th>Country</th>\n",
       "      <th>Population</th>\n",
       "    </tr>\n",
       "  </thead>\n",
       "  <tbody>\n",
       "    <tr>\n",
       "      <th>0</th>\n",
       "      <td>0</td>\n",
       "      <td>Mexico City</td>\n",
       "      <td>Mexico</td>\n",
       "      <td>8918653</td>\n",
       "    </tr>\n",
       "    <tr>\n",
       "      <th>1</th>\n",
       "      <td>1</td>\n",
       "      <td>New York City</td>\n",
       "      <td>United States</td>\n",
       "      <td>8550405</td>\n",
       "    </tr>\n",
       "    <tr>\n",
       "      <th>2</th>\n",
       "      <td>2</td>\n",
       "      <td>Los Angeles</td>\n",
       "      <td>United States</td>\n",
       "      <td>3971883</td>\n",
       "    </tr>\n",
       "    <tr>\n",
       "      <th>3</th>\n",
       "      <td>3</td>\n",
       "      <td>Toronto</td>\n",
       "      <td>Canada</td>\n",
       "      <td>2826498</td>\n",
       "    </tr>\n",
       "    <tr>\n",
       "      <th>4</th>\n",
       "      <td>4</td>\n",
       "      <td>Chicago</td>\n",
       "      <td>United States</td>\n",
       "      <td>2720546</td>\n",
       "    </tr>\n",
       "    <tr>\n",
       "      <th>...</th>\n",
       "      <td>...</td>\n",
       "      <td>...</td>\n",
       "      <td>...</td>\n",
       "      <td>...</td>\n",
       "    </tr>\n",
       "    <tr>\n",
       "      <th>90</th>\n",
       "      <td>90</td>\n",
       "      <td>Surrey</td>\n",
       "      <td>Canada</td>\n",
       "      <td>526004</td>\n",
       "    </tr>\n",
       "    <tr>\n",
       "      <th>91</th>\n",
       "      <td>91</td>\n",
       "      <td>Ciudad López Mateos</td>\n",
       "      <td>Mexico</td>\n",
       "      <td>523296</td>\n",
       "    </tr>\n",
       "    <tr>\n",
       "      <th>92</th>\n",
       "      <td>92</td>\n",
       "      <td>Tultitlán</td>\n",
       "      <td>Mexico</td>\n",
       "      <td>520557</td>\n",
       "    </tr>\n",
       "    <tr>\n",
       "      <th>93</th>\n",
       "      <td>93</td>\n",
       "      <td>Fresno</td>\n",
       "      <td>United States</td>\n",
       "      <td>520052</td>\n",
       "    </tr>\n",
       "    <tr>\n",
       "      <th>94</th>\n",
       "      <td>94</td>\n",
       "      <td>Carrefour</td>\n",
       "      <td>Haiti</td>\n",
       "      <td>501768</td>\n",
       "    </tr>\n",
       "  </tbody>\n",
       "</table>\n",
       "<p>95 rows × 4 columns</p>\n",
       "</div>"
      ],
      "text/plain": [
       "    Rank                 City        Country  Population\n",
       "0      0          Mexico City         Mexico     8918653\n",
       "1      1        New York City  United States     8550405\n",
       "2      2          Los Angeles  United States     3971883\n",
       "3      3              Toronto         Canada     2826498\n",
       "4      4              Chicago  United States     2720546\n",
       "..   ...                  ...            ...         ...\n",
       "90    90               Surrey         Canada      526004\n",
       "91    91  Ciudad López Mateos         Mexico      523296\n",
       "92    92            Tultitlán         Mexico      520557\n",
       "93    93               Fresno  United States      520052\n",
       "94    94            Carrefour          Haiti      501768\n",
       "\n",
       "[95 rows x 4 columns]"
      ]
     },
     "execution_count": 1,
     "metadata": {},
     "output_type": "execute_result"
    }
   ],
   "source": [
    "df = pd.read_csv(\"https://srush.github.io/BT-AI/notebooks/Cities.csv\")\n",
    "df"
   ]
  },
  {
   "cell_type": "markdown",
   "id": "f3704248",
   "metadata": {},
   "source": [
    "Just like in a spreadsheet Pandas has multiple columns representing\n",
    "the underlying elements in the data. These each have a name here."
   ]
  },
  {
   "cell_type": "code",
   "execution_count": 12,
   "id": "2b969f38",
   "metadata": {
    "execution": {
     "iopub.execute_input": "2021-06-10T17:50:57.591322Z",
     "iopub.status.busy": "2021-06-10T17:50:57.590437Z",
     "iopub.status.idle": "2021-06-10T17:50:57.593510Z",
     "shell.execute_reply": "2021-06-10T17:50:57.594216Z"
    }
   },
   "outputs": [
    {
     "data": {
      "text/plain": [
       "Index(['Rank', 'City', 'Country', 'Population'], dtype='object')"
      ]
     },
     "execution_count": 1,
     "metadata": {},
     "output_type": "execute_result"
    }
   ],
   "source": [
    "df.columns"
   ]
  },
  {
   "cell_type": "markdown",
   "id": "b3e3e3f6",
   "metadata": {},
   "source": [
    "To see just the elements in a single column we can use square\n",
    "brackets to see just only column."
   ]
  },
  {
   "cell_type": "code",
   "execution_count": 13,
   "id": "0d448b8b",
   "metadata": {
    "execution": {
     "iopub.execute_input": "2021-06-10T17:50:57.600942Z",
     "iopub.status.busy": "2021-06-10T17:50:57.600074Z",
     "iopub.status.idle": "2021-06-10T17:50:57.603138Z",
     "shell.execute_reply": "2021-06-10T17:50:57.603849Z"
    }
   },
   "outputs": [
    {
     "data": {
      "text/plain": [
       "0             Mexico City\n",
       "1           New York City\n",
       "2             Los Angeles\n",
       "3                 Toronto\n",
       "4                 Chicago\n",
       "             ...         \n",
       "90                 Surrey\n",
       "91    Ciudad López Mateos\n",
       "92              Tultitlán\n",
       "93                 Fresno\n",
       "94              Carrefour\n",
       "Name: City, Length: 95, dtype: object"
      ]
     },
     "execution_count": 1,
     "metadata": {},
     "output_type": "execute_result"
    }
   ],
   "source": [
    "df[\"City\"]"
   ]
  },
  {
   "cell_type": "markdown",
   "id": "9e834d82",
   "metadata": {},
   "source": [
    "👩‍🎓**Student Question: Can you print out another column in the table?**"
   ]
  },
  {
   "cell_type": "code",
   "execution_count": 14,
   "id": "104fb34c",
   "metadata": {
    "execution": {
     "iopub.execute_input": "2021-06-10T17:50:57.608838Z",
     "iopub.status.busy": "2021-06-10T17:50:57.607983Z",
     "iopub.status.idle": "2021-06-10T17:50:57.611076Z",
     "shell.execute_reply": "2021-06-10T17:50:57.610197Z"
    }
   },
   "outputs": [],
   "source": [
    "#📝📝📝📝 FILLME\n",
    "pass"
   ]
  },
  {
   "cell_type": "markdown",
   "id": "7f7d9442",
   "metadata": {},
   "source": [
    "Alternatively if we want to see just a single row we can use the `loc`\n",
    "command. "
   ]
  },
  {
   "cell_type": "code",
   "execution_count": 15,
   "id": "b443ad07",
   "metadata": {
    "execution": {
     "iopub.execute_input": "2021-06-10T17:50:57.618152Z",
     "iopub.status.busy": "2021-06-10T17:50:57.617417Z",
     "iopub.status.idle": "2021-06-10T17:50:57.620791Z",
     "shell.execute_reply": "2021-06-10T17:50:57.621365Z"
    }
   },
   "outputs": [
    {
     "data": {
      "text/plain": [
       "Rank                      1\n",
       "City          New York City\n",
       "Country       United States\n",
       "Population          8550405\n",
       "Name: 1, dtype: object"
      ]
     },
     "execution_count": 1,
     "metadata": {},
     "output_type": "execute_result"
    }
   ],
   "source": [
    "df.loc[1]"
   ]
  },
  {
   "cell_type": "markdown",
   "id": "f0edde03",
   "metadata": {},
   "source": [
    "If we want to select several rows we can also pass in a list."
   ]
  },
  {
   "cell_type": "code",
   "execution_count": 16,
   "id": "2f4e017f",
   "metadata": {
    "execution": {
     "iopub.execute_input": "2021-06-10T17:50:57.634636Z",
     "iopub.status.busy": "2021-06-10T17:50:57.633771Z",
     "iopub.status.idle": "2021-06-10T17:50:57.636905Z",
     "shell.execute_reply": "2021-06-10T17:50:57.637598Z"
    }
   },
   "outputs": [
    {
     "data": {
      "text/html": [
       "<div>\n",
       "<style scoped>\n",
       "    .dataframe tbody tr th:only-of-type {\n",
       "        vertical-align: middle;\n",
       "    }\n",
       "\n",
       "    .dataframe tbody tr th {\n",
       "        vertical-align: top;\n",
       "    }\n",
       "\n",
       "    .dataframe thead th {\n",
       "        text-align: right;\n",
       "    }\n",
       "</style>\n",
       "<table border=\"1\" class=\"dataframe\">\n",
       "  <thead>\n",
       "    <tr style=\"text-align: right;\">\n",
       "      <th></th>\n",
       "      <th>Rank</th>\n",
       "      <th>City</th>\n",
       "      <th>Country</th>\n",
       "      <th>Population</th>\n",
       "    </tr>\n",
       "  </thead>\n",
       "  <tbody>\n",
       "    <tr>\n",
       "      <th>1</th>\n",
       "      <td>1</td>\n",
       "      <td>New York City</td>\n",
       "      <td>United States</td>\n",
       "      <td>8550405</td>\n",
       "    </tr>\n",
       "    <tr>\n",
       "      <th>5</th>\n",
       "      <td>5</td>\n",
       "      <td>Houston</td>\n",
       "      <td>United States</td>\n",
       "      <td>2296224</td>\n",
       "    </tr>\n",
       "    <tr>\n",
       "      <th>6</th>\n",
       "      <td>6</td>\n",
       "      <td>Havana</td>\n",
       "      <td>Cuba</td>\n",
       "      <td>2117625</td>\n",
       "    </tr>\n",
       "  </tbody>\n",
       "</table>\n",
       "</div>"
      ],
      "text/plain": [
       "   Rank           City        Country  Population\n",
       "1     1  New York City  United States     8550405\n",
       "5     5        Houston  United States     2296224\n",
       "6     6         Havana           Cuba     2117625"
      ]
     },
     "execution_count": 1,
     "metadata": {},
     "output_type": "execute_result"
    }
   ],
   "source": [
    "list_of_rows = [1, 5, 6]\n",
    "df.loc[list_of_rows]"
   ]
  },
  {
   "cell_type": "markdown",
   "id": "f267b85e",
   "metadata": {},
   "source": [
    "👩‍🎓**Student Question: Can you print out the rows of Philadelphia and Los Angeles?**"
   ]
  },
  {
   "cell_type": "code",
   "execution_count": 17,
   "id": "760d691c",
   "metadata": {
    "execution": {
     "iopub.execute_input": "2021-06-10T17:50:57.642104Z",
     "iopub.status.busy": "2021-06-10T17:50:57.641248Z",
     "iopub.status.idle": "2021-06-10T17:50:57.643599Z",
     "shell.execute_reply": "2021-06-10T17:50:57.643139Z"
    }
   },
   "outputs": [],
   "source": [
    "#📝📝📝📝 FILLME\n",
    "pass"
   ]
  },
  {
   "cell_type": "markdown",
   "id": "4afa14cf",
   "metadata": {},
   "source": [
    "## Filters"
   ]
  },
  {
   "cell_type": "markdown",
   "id": "2e898ded",
   "metadata": {},
   "source": [
    "These commands are relatively basic though and easy to do in a\n",
    "standard spreadsheet. The main power of Pandas comes from the\n",
    "ability to select rows based on complex filters."
   ]
  },
  {
   "cell_type": "markdown",
   "id": "32b1f4a0",
   "metadata": {},
   "source": [
    "For instance, if you were in a spreadsheet, how would you select only the\n",
    "rows that correspond to cities in *Mexico*? It's possible but a bit challenging. "
   ]
  },
  {
   "cell_type": "markdown",
   "id": "ba6581b5",
   "metadata": {},
   "source": [
    "In Pandas, we first create a filter. This is kind of like an if statement that gets\n",
    "applied to every row. It creates a variable that remembers which rows passed the filter test."
   ]
  },
  {
   "cell_type": "markdown",
   "id": "30bf4805",
   "metadata": {
    "lines_to_next_cell": 2
   },
   "source": [
    "**Filtering**\n",
    "\n",
    "1. Decide on the conditional statements in your filter.\n",
    "2. Define a `filter` varaible for your dataframe .\n",
    "3. Apply filter and rename the dataframe."
   ]
  },
  {
   "cell_type": "markdown",
   "id": "b75b38af",
   "metadata": {},
   "source": [
    "Step 1. Our filter is that we want the Country column to be Mexico"
   ]
  },
  {
   "cell_type": "markdown",
   "id": "f9ec4afe",
   "metadata": {},
   "source": [
    "Step 2. We create a filter variable with this conditional. Notice\n",
    "that the filter has a 1 for every city in Mexico and a 0 otherwise."
   ]
  },
  {
   "cell_type": "code",
   "execution_count": 18,
   "id": "b04c7aa6",
   "metadata": {
    "execution": {
     "iopub.execute_input": "2021-06-10T17:50:57.650938Z",
     "iopub.status.busy": "2021-06-10T17:50:57.650463Z",
     "iopub.status.idle": "2021-06-10T17:50:57.653910Z",
     "shell.execute_reply": "2021-06-10T17:50:57.654398Z"
    }
   },
   "outputs": [
    {
     "data": {
      "text/plain": [
       "0      True\n",
       "1     False\n",
       "2     False\n",
       "3     False\n",
       "4     False\n",
       "      ...  \n",
       "90    False\n",
       "91     True\n",
       "92     True\n",
       "93    False\n",
       "94    False\n",
       "Name: Country, Length: 95, dtype: bool"
      ]
     },
     "execution_count": 1,
     "metadata": {},
     "output_type": "execute_result"
    }
   ],
   "source": [
    "filter = df[\"Country\"] == \"Mexico\"\n",
    "filter"
   ]
  },
  {
   "cell_type": "markdown",
   "id": "cf2a54aa",
   "metadata": {},
   "source": [
    "Step 3. We then apply the filter to select the rows that we would like to\n",
    "keep around."
   ]
  },
  {
   "cell_type": "code",
   "execution_count": 19,
   "id": "e87a4424",
   "metadata": {
    "execution": {
     "iopub.execute_input": "2021-06-10T17:50:57.672373Z",
     "iopub.status.busy": "2021-06-10T17:50:57.671518Z",
     "iopub.status.idle": "2021-06-10T17:50:57.674959Z",
     "shell.execute_reply": "2021-06-10T17:50:57.675682Z"
    }
   },
   "outputs": [
    {
     "data": {
      "text/html": [
       "<div>\n",
       "<style scoped>\n",
       "    .dataframe tbody tr th:only-of-type {\n",
       "        vertical-align: middle;\n",
       "    }\n",
       "\n",
       "    .dataframe tbody tr th {\n",
       "        vertical-align: top;\n",
       "    }\n",
       "\n",
       "    .dataframe thead th {\n",
       "        text-align: right;\n",
       "    }\n",
       "</style>\n",
       "<table border=\"1\" class=\"dataframe\">\n",
       "  <thead>\n",
       "    <tr style=\"text-align: right;\">\n",
       "      <th></th>\n",
       "      <th>Rank</th>\n",
       "      <th>City</th>\n",
       "      <th>Country</th>\n",
       "      <th>Population</th>\n",
       "    </tr>\n",
       "  </thead>\n",
       "  <tbody>\n",
       "    <tr>\n",
       "      <th>0</th>\n",
       "      <td>0</td>\n",
       "      <td>Mexico City</td>\n",
       "      <td>Mexico</td>\n",
       "      <td>8918653</td>\n",
       "    </tr>\n",
       "    <tr>\n",
       "      <th>8</th>\n",
       "      <td>8</td>\n",
       "      <td>Ecatepec de Morelos</td>\n",
       "      <td>Mexico</td>\n",
       "      <td>1677678</td>\n",
       "    </tr>\n",
       "    <tr>\n",
       "      <th>12</th>\n",
       "      <td>12</td>\n",
       "      <td>Guadalajara</td>\n",
       "      <td>Mexico</td>\n",
       "      <td>1460148</td>\n",
       "    </tr>\n",
       "    <tr>\n",
       "      <th>13</th>\n",
       "      <td>13</td>\n",
       "      <td>Puebla</td>\n",
       "      <td>Mexico</td>\n",
       "      <td>1437939</td>\n",
       "    </tr>\n",
       "    <tr>\n",
       "      <th>15</th>\n",
       "      <td>15</td>\n",
       "      <td>Juárez</td>\n",
       "      <td>Mexico</td>\n",
       "      <td>1382753</td>\n",
       "    </tr>\n",
       "    <tr>\n",
       "      <th>16</th>\n",
       "      <td>16</td>\n",
       "      <td>León</td>\n",
       "      <td>Mexico</td>\n",
       "      <td>1349224</td>\n",
       "    </tr>\n",
       "    <tr>\n",
       "      <th>18</th>\n",
       "      <td>18</td>\n",
       "      <td>Tijuana</td>\n",
       "      <td>Mexico</td>\n",
       "      <td>1298475</td>\n",
       "    </tr>\n",
       "    <tr>\n",
       "      <th>21</th>\n",
       "      <td>21</td>\n",
       "      <td>Zapopan</td>\n",
       "      <td>Mexico</td>\n",
       "      <td>1179681</td>\n",
       "    </tr>\n",
       "    <tr>\n",
       "      <th>22</th>\n",
       "      <td>22</td>\n",
       "      <td>Monterrey</td>\n",
       "      <td>Mexico</td>\n",
       "      <td>1109171</td>\n",
       "    </tr>\n",
       "    <tr>\n",
       "      <th>24</th>\n",
       "      <td>24</td>\n",
       "      <td>Nezahualcóyotl</td>\n",
       "      <td>Mexico</td>\n",
       "      <td>1039867</td>\n",
       "    </tr>\n",
       "    <tr>\n",
       "      <th>29</th>\n",
       "      <td>29</td>\n",
       "      <td>Naucalpan</td>\n",
       "      <td>Mexico</td>\n",
       "      <td>970012</td>\n",
       "    </tr>\n",
       "    <tr>\n",
       "      <th>33</th>\n",
       "      <td>33</td>\n",
       "      <td>Mérida</td>\n",
       "      <td>Mexico</td>\n",
       "      <td>892363</td>\n",
       "    </tr>\n",
       "    <tr>\n",
       "      <th>34</th>\n",
       "      <td>34</td>\n",
       "      <td>Querétaro</td>\n",
       "      <td>Mexico</td>\n",
       "      <td>878931</td>\n",
       "    </tr>\n",
       "    <tr>\n",
       "      <th>35</th>\n",
       "      <td>35</td>\n",
       "      <td>Toluca</td>\n",
       "      <td>Mexico</td>\n",
       "      <td>873536</td>\n",
       "    </tr>\n",
       "    <tr>\n",
       "      <th>37</th>\n",
       "      <td>37</td>\n",
       "      <td>Chihuahua</td>\n",
       "      <td>Mexico</td>\n",
       "      <td>867736</td>\n",
       "    </tr>\n",
       "    <tr>\n",
       "      <th>43</th>\n",
       "      <td>43</td>\n",
       "      <td>Hermosillo</td>\n",
       "      <td>Mexico</td>\n",
       "      <td>819999</td>\n",
       "    </tr>\n",
       "    <tr>\n",
       "      <th>44</th>\n",
       "      <td>44</td>\n",
       "      <td>Saltillo</td>\n",
       "      <td>Mexico</td>\n",
       "      <td>791074</td>\n",
       "    </tr>\n",
       "    <tr>\n",
       "      <th>45</th>\n",
       "      <td>45</td>\n",
       "      <td>Aguascalientes</td>\n",
       "      <td>Mexico</td>\n",
       "      <td>785942</td>\n",
       "    </tr>\n",
       "    <tr>\n",
       "      <th>47</th>\n",
       "      <td>47</td>\n",
       "      <td>San Luis Potosí</td>\n",
       "      <td>Mexico</td>\n",
       "      <td>759854</td>\n",
       "    </tr>\n",
       "    <tr>\n",
       "      <th>48</th>\n",
       "      <td>48</td>\n",
       "      <td>Veracruz</td>\n",
       "      <td>Mexico</td>\n",
       "      <td>752171</td>\n",
       "    </tr>\n",
       "    <tr>\n",
       "      <th>51</th>\n",
       "      <td>51</td>\n",
       "      <td>Culiacán</td>\n",
       "      <td>Mexico</td>\n",
       "      <td>720798</td>\n",
       "    </tr>\n",
       "    <tr>\n",
       "      <th>53</th>\n",
       "      <td>53</td>\n",
       "      <td>Mexicali</td>\n",
       "      <td>Mexico</td>\n",
       "      <td>717628</td>\n",
       "    </tr>\n",
       "    <tr>\n",
       "      <th>54</th>\n",
       "      <td>54</td>\n",
       "      <td>Cancún</td>\n",
       "      <td>Mexico</td>\n",
       "      <td>711682</td>\n",
       "    </tr>\n",
       "    <tr>\n",
       "      <th>55</th>\n",
       "      <td>55</td>\n",
       "      <td>Acapulco</td>\n",
       "      <td>Mexico</td>\n",
       "      <td>710261</td>\n",
       "    </tr>\n",
       "    <tr>\n",
       "      <th>56</th>\n",
       "      <td>56</td>\n",
       "      <td>Tlalnepantla</td>\n",
       "      <td>Mexico</td>\n",
       "      <td>700734</td>\n",
       "    </tr>\n",
       "    <tr>\n",
       "      <th>58</th>\n",
       "      <td>58</td>\n",
       "      <td>Guadalupe</td>\n",
       "      <td>Mexico</td>\n",
       "      <td>682880</td>\n",
       "    </tr>\n",
       "    <tr>\n",
       "      <th>61</th>\n",
       "      <td>61</td>\n",
       "      <td>Chimalhuacán</td>\n",
       "      <td>Mexico</td>\n",
       "      <td>679811</td>\n",
       "    </tr>\n",
       "    <tr>\n",
       "      <th>66</th>\n",
       "      <td>66</td>\n",
       "      <td>Tlaquepaque</td>\n",
       "      <td>Mexico</td>\n",
       "      <td>664193</td>\n",
       "    </tr>\n",
       "    <tr>\n",
       "      <th>69</th>\n",
       "      <td>69</td>\n",
       "      <td>Torreón</td>\n",
       "      <td>Mexico</td>\n",
       "      <td>653150</td>\n",
       "    </tr>\n",
       "    <tr>\n",
       "      <th>72</th>\n",
       "      <td>72</td>\n",
       "      <td>Reynosa</td>\n",
       "      <td>Mexico</td>\n",
       "      <td>631611</td>\n",
       "    </tr>\n",
       "    <tr>\n",
       "      <th>78</th>\n",
       "      <td>78</td>\n",
       "      <td>Morelia</td>\n",
       "      <td>Mexico</td>\n",
       "      <td>608190</td>\n",
       "    </tr>\n",
       "    <tr>\n",
       "      <th>80</th>\n",
       "      <td>80</td>\n",
       "      <td>Tuxtla Gutiérrez</td>\n",
       "      <td>Mexico</td>\n",
       "      <td>598710</td>\n",
       "    </tr>\n",
       "    <tr>\n",
       "      <th>81</th>\n",
       "      <td>81</td>\n",
       "      <td>Apodaca</td>\n",
       "      <td>Mexico</td>\n",
       "      <td>597207</td>\n",
       "    </tr>\n",
       "    <tr>\n",
       "      <th>82</th>\n",
       "      <td>82</td>\n",
       "      <td>Durango</td>\n",
       "      <td>Mexico</td>\n",
       "      <td>590893</td>\n",
       "    </tr>\n",
       "    <tr>\n",
       "      <th>87</th>\n",
       "      <td>87</td>\n",
       "      <td>Tonalá</td>\n",
       "      <td>Mexico</td>\n",
       "      <td>536111</td>\n",
       "    </tr>\n",
       "    <tr>\n",
       "      <th>89</th>\n",
       "      <td>89</td>\n",
       "      <td>Cuautitlán Izcalli</td>\n",
       "      <td>Mexico</td>\n",
       "      <td>531041</td>\n",
       "    </tr>\n",
       "    <tr>\n",
       "      <th>91</th>\n",
       "      <td>91</td>\n",
       "      <td>Ciudad López Mateos</td>\n",
       "      <td>Mexico</td>\n",
       "      <td>523296</td>\n",
       "    </tr>\n",
       "    <tr>\n",
       "      <th>92</th>\n",
       "      <td>92</td>\n",
       "      <td>Tultitlán</td>\n",
       "      <td>Mexico</td>\n",
       "      <td>520557</td>\n",
       "    </tr>\n",
       "  </tbody>\n",
       "</table>\n",
       "</div>"
      ],
      "text/plain": [
       "    Rank                 City Country  Population\n",
       "0      0          Mexico City  Mexico     8918653\n",
       "8      8  Ecatepec de Morelos  Mexico     1677678\n",
       "12    12          Guadalajara  Mexico     1460148\n",
       "13    13               Puebla  Mexico     1437939\n",
       "15    15               Juárez  Mexico     1382753\n",
       "16    16                 León  Mexico     1349224\n",
       "18    18              Tijuana  Mexico     1298475\n",
       "21    21              Zapopan  Mexico     1179681\n",
       "22    22            Monterrey  Mexico     1109171\n",
       "24    24       Nezahualcóyotl  Mexico     1039867\n",
       "29    29            Naucalpan  Mexico      970012\n",
       "33    33               Mérida  Mexico      892363\n",
       "34    34            Querétaro  Mexico      878931\n",
       "35    35               Toluca  Mexico      873536\n",
       "37    37            Chihuahua  Mexico      867736\n",
       "43    43           Hermosillo  Mexico      819999\n",
       "44    44             Saltillo  Mexico      791074\n",
       "45    45       Aguascalientes  Mexico      785942\n",
       "47    47      San Luis Potosí  Mexico      759854\n",
       "48    48             Veracruz  Mexico      752171\n",
       "51    51             Culiacán  Mexico      720798\n",
       "53    53             Mexicali  Mexico      717628\n",
       "54    54               Cancún  Mexico      711682\n",
       "55    55             Acapulco  Mexico      710261\n",
       "56    56         Tlalnepantla  Mexico      700734\n",
       "58    58            Guadalupe  Mexico      682880\n",
       "61    61         Chimalhuacán  Mexico      679811\n",
       "66    66          Tlaquepaque  Mexico      664193\n",
       "69    69              Torreón  Mexico      653150\n",
       "72    72              Reynosa  Mexico      631611\n",
       "78    78              Morelia  Mexico      608190\n",
       "80    80     Tuxtla Gutiérrez  Mexico      598710\n",
       "81    81              Apodaca  Mexico      597207\n",
       "82    82              Durango  Mexico      590893\n",
       "87    87               Tonalá  Mexico      536111\n",
       "89    89   Cuautitlán Izcalli  Mexico      531041\n",
       "91    91  Ciudad López Mateos  Mexico      523296\n",
       "92    92            Tultitlán  Mexico      520557"
      ]
     },
     "execution_count": 1,
     "metadata": {},
     "output_type": "execute_result"
    }
   ],
   "source": [
    "cities_in_mexico_df = df.loc[filter]\n",
    "cities_in_mexico_df"
   ]
  },
  {
   "cell_type": "markdown",
   "id": "665ba9c4",
   "metadata": {},
   "source": [
    "We need to be careful to give this a new name. It does not change the original\n",
    "dataframe it just shows us the rows we asked for. "
   ]
  },
  {
   "cell_type": "markdown",
   "id": "ca0617ad",
   "metadata": {},
   "source": [
    "Filtering is a really important step because it lets us calculate other properties."
   ]
  },
  {
   "cell_type": "markdown",
   "id": "ac2f8be6",
   "metadata": {},
   "source": [
    "For example, we can then count the number of cities in Mexico."
   ]
  },
  {
   "cell_type": "code",
   "execution_count": 20,
   "id": "7ad40be1",
   "metadata": {
    "execution": {
     "iopub.execute_input": "2021-06-10T17:50:57.681107Z",
     "iopub.status.busy": "2021-06-10T17:50:57.680186Z",
     "iopub.status.idle": "2021-06-10T17:50:57.683431Z",
     "shell.execute_reply": "2021-06-10T17:50:57.684050Z"
    }
   },
   "outputs": [
    {
     "data": {
      "text/plain": [
       "38"
      ]
     },
     "execution_count": 1,
     "metadata": {},
     "output_type": "execute_result"
    }
   ],
   "source": [
    "total_cities_in_mexico = cities_in_mexico_df[\"City\"].count()\n",
    "total_cities_in_mexico"
   ]
  },
  {
   "cell_type": "markdown",
   "id": "1d48ce77",
   "metadata": {},
   "source": [
    "Or we can count the population of the biggest cities in Mexico."
   ]
  },
  {
   "cell_type": "code",
   "execution_count": 21,
   "id": "9351ad3b",
   "metadata": {
    "execution": {
     "iopub.execute_input": "2021-06-10T17:50:57.690593Z",
     "iopub.status.busy": "2021-06-10T17:50:57.689719Z",
     "iopub.status.idle": "2021-06-10T17:50:57.693127Z",
     "shell.execute_reply": "2021-06-10T17:50:57.693788Z"
    },
    "lines_to_next_cell": 2
   },
   "outputs": [
    {
     "data": {
      "text/plain": [
       "40623960"
      ]
     },
     "execution_count": 1,
     "metadata": {},
     "output_type": "execute_result"
    }
   ],
   "source": [
    "total_population_in_mexico = cities_in_mexico_df[\"Population\"].sum()\n",
    "total_population_in_mexico"
   ]
  },
  {
   "cell_type": "markdown",
   "id": "a04abe0e",
   "metadata": {},
   "source": [
    "Filters can also be more complex. You can check for any of the  different properties\n",
    "you might check for in a standard if statement."
   ]
  },
  {
   "cell_type": "markdown",
   "id": "a6a54deb",
   "metadata": {},
   "source": [
    "For instance, here we want to keep both cities in the US and in Canada. The\n",
    "symbol `|` means `either-or`. "
   ]
  },
  {
   "cell_type": "code",
   "execution_count": 22,
   "id": "43844924",
   "metadata": {
    "execution": {
     "iopub.execute_input": "2021-06-10T17:50:57.717431Z",
     "iopub.status.busy": "2021-06-10T17:50:57.716488Z",
     "iopub.status.idle": "2021-06-10T17:50:57.720278Z",
     "shell.execute_reply": "2021-06-10T17:50:57.721012Z"
    }
   },
   "outputs": [
    {
     "data": {
      "text/html": [
       "<div>\n",
       "<style scoped>\n",
       "    .dataframe tbody tr th:only-of-type {\n",
       "        vertical-align: middle;\n",
       "    }\n",
       "\n",
       "    .dataframe tbody tr th {\n",
       "        vertical-align: top;\n",
       "    }\n",
       "\n",
       "    .dataframe thead th {\n",
       "        text-align: right;\n",
       "    }\n",
       "</style>\n",
       "<table border=\"1\" class=\"dataframe\">\n",
       "  <thead>\n",
       "    <tr style=\"text-align: right;\">\n",
       "      <th></th>\n",
       "      <th>Rank</th>\n",
       "      <th>City</th>\n",
       "      <th>Country</th>\n",
       "      <th>Population</th>\n",
       "    </tr>\n",
       "  </thead>\n",
       "  <tbody>\n",
       "    <tr>\n",
       "      <th>1</th>\n",
       "      <td>1</td>\n",
       "      <td>New York City</td>\n",
       "      <td>United States</td>\n",
       "      <td>8550405</td>\n",
       "    </tr>\n",
       "    <tr>\n",
       "      <th>2</th>\n",
       "      <td>2</td>\n",
       "      <td>Los Angeles</td>\n",
       "      <td>United States</td>\n",
       "      <td>3971883</td>\n",
       "    </tr>\n",
       "    <tr>\n",
       "      <th>3</th>\n",
       "      <td>3</td>\n",
       "      <td>Toronto</td>\n",
       "      <td>Canada</td>\n",
       "      <td>2826498</td>\n",
       "    </tr>\n",
       "    <tr>\n",
       "      <th>4</th>\n",
       "      <td>4</td>\n",
       "      <td>Chicago</td>\n",
       "      <td>United States</td>\n",
       "      <td>2720546</td>\n",
       "    </tr>\n",
       "    <tr>\n",
       "      <th>5</th>\n",
       "      <td>5</td>\n",
       "      <td>Houston</td>\n",
       "      <td>United States</td>\n",
       "      <td>2296224</td>\n",
       "    </tr>\n",
       "    <tr>\n",
       "      <th>7</th>\n",
       "      <td>7</td>\n",
       "      <td>Montreal</td>\n",
       "      <td>Canada</td>\n",
       "      <td>1753034</td>\n",
       "    </tr>\n",
       "    <tr>\n",
       "      <th>9</th>\n",
       "      <td>9</td>\n",
       "      <td>Philadelphia</td>\n",
       "      <td>United States</td>\n",
       "      <td>1567442</td>\n",
       "    </tr>\n",
       "    <tr>\n",
       "      <th>10</th>\n",
       "      <td>10</td>\n",
       "      <td>Phoenix</td>\n",
       "      <td>United States</td>\n",
       "      <td>1563025</td>\n",
       "    </tr>\n",
       "    <tr>\n",
       "      <th>11</th>\n",
       "      <td>11</td>\n",
       "      <td>San Antonio</td>\n",
       "      <td>United States</td>\n",
       "      <td>1469845</td>\n",
       "    </tr>\n",
       "    <tr>\n",
       "      <th>14</th>\n",
       "      <td>14</td>\n",
       "      <td>San Diego</td>\n",
       "      <td>United States</td>\n",
       "      <td>1394928</td>\n",
       "    </tr>\n",
       "    <tr>\n",
       "      <th>17</th>\n",
       "      <td>17</td>\n",
       "      <td>Dallas</td>\n",
       "      <td>United States</td>\n",
       "      <td>1300092</td>\n",
       "    </tr>\n",
       "    <tr>\n",
       "      <th>19</th>\n",
       "      <td>19</td>\n",
       "      <td>Calgary</td>\n",
       "      <td>Canada</td>\n",
       "      <td>1230915</td>\n",
       "    </tr>\n",
       "    <tr>\n",
       "      <th>25</th>\n",
       "      <td>25</td>\n",
       "      <td>San Jose</td>\n",
       "      <td>United States</td>\n",
       "      <td>1026908</td>\n",
       "    </tr>\n",
       "    <tr>\n",
       "      <th>30</th>\n",
       "      <td>30</td>\n",
       "      <td>Ottawa</td>\n",
       "      <td>Canada</td>\n",
       "      <td>956710</td>\n",
       "    </tr>\n",
       "    <tr>\n",
       "      <th>31</th>\n",
       "      <td>31</td>\n",
       "      <td>Austin</td>\n",
       "      <td>United States</td>\n",
       "      <td>931830</td>\n",
       "    </tr>\n",
       "    <tr>\n",
       "      <th>32</th>\n",
       "      <td>32</td>\n",
       "      <td>Edmonton</td>\n",
       "      <td>Canada</td>\n",
       "      <td>899447</td>\n",
       "    </tr>\n",
       "    <tr>\n",
       "      <th>36</th>\n",
       "      <td>36</td>\n",
       "      <td>Jacksonville</td>\n",
       "      <td>United States</td>\n",
       "      <td>868031</td>\n",
       "    </tr>\n",
       "    <tr>\n",
       "      <th>38</th>\n",
       "      <td>38</td>\n",
       "      <td>San Francisco</td>\n",
       "      <td>United States</td>\n",
       "      <td>864816</td>\n",
       "    </tr>\n",
       "    <tr>\n",
       "      <th>39</th>\n",
       "      <td>39</td>\n",
       "      <td>Indianapolis</td>\n",
       "      <td>United States</td>\n",
       "      <td>853173</td>\n",
       "    </tr>\n",
       "    <tr>\n",
       "      <th>40</th>\n",
       "      <td>40</td>\n",
       "      <td>Columbus</td>\n",
       "      <td>United States</td>\n",
       "      <td>850106</td>\n",
       "    </tr>\n",
       "    <tr>\n",
       "      <th>41</th>\n",
       "      <td>41</td>\n",
       "      <td>Fort Worth</td>\n",
       "      <td>United States</td>\n",
       "      <td>833319</td>\n",
       "    </tr>\n",
       "    <tr>\n",
       "      <th>42</th>\n",
       "      <td>42</td>\n",
       "      <td>Charlotte</td>\n",
       "      <td>United States</td>\n",
       "      <td>827097</td>\n",
       "    </tr>\n",
       "    <tr>\n",
       "      <th>46</th>\n",
       "      <td>46</td>\n",
       "      <td>Mississauga</td>\n",
       "      <td>Canada</td>\n",
       "      <td>761300</td>\n",
       "    </tr>\n",
       "    <tr>\n",
       "      <th>52</th>\n",
       "      <td>52</td>\n",
       "      <td>Winnipeg</td>\n",
       "      <td>Canada</td>\n",
       "      <td>718400</td>\n",
       "    </tr>\n",
       "    <tr>\n",
       "      <th>57</th>\n",
       "      <td>57</td>\n",
       "      <td>Seattle</td>\n",
       "      <td>United States</td>\n",
       "      <td>684451</td>\n",
       "    </tr>\n",
       "    <tr>\n",
       "      <th>59</th>\n",
       "      <td>59</td>\n",
       "      <td>Denver</td>\n",
       "      <td>United States</td>\n",
       "      <td>682545</td>\n",
       "    </tr>\n",
       "    <tr>\n",
       "      <th>60</th>\n",
       "      <td>60</td>\n",
       "      <td>El Paso</td>\n",
       "      <td>United States</td>\n",
       "      <td>681124</td>\n",
       "    </tr>\n",
       "    <tr>\n",
       "      <th>62</th>\n",
       "      <td>62</td>\n",
       "      <td>Detroit</td>\n",
       "      <td>United States</td>\n",
       "      <td>677116</td>\n",
       "    </tr>\n",
       "    <tr>\n",
       "      <th>63</th>\n",
       "      <td>63</td>\n",
       "      <td>Washington, D.C.</td>\n",
       "      <td>United States</td>\n",
       "      <td>672228</td>\n",
       "    </tr>\n",
       "    <tr>\n",
       "      <th>65</th>\n",
       "      <td>65</td>\n",
       "      <td>Boston</td>\n",
       "      <td>United States</td>\n",
       "      <td>667137</td>\n",
       "    </tr>\n",
       "    <tr>\n",
       "      <th>67</th>\n",
       "      <td>67</td>\n",
       "      <td>Memphis</td>\n",
       "      <td>United States</td>\n",
       "      <td>655770</td>\n",
       "    </tr>\n",
       "    <tr>\n",
       "      <th>68</th>\n",
       "      <td>68</td>\n",
       "      <td>Nashville</td>\n",
       "      <td>United States</td>\n",
       "      <td>654610</td>\n",
       "    </tr>\n",
       "    <tr>\n",
       "      <th>70</th>\n",
       "      <td>70</td>\n",
       "      <td>Vancouver</td>\n",
       "      <td>Canada</td>\n",
       "      <td>648608</td>\n",
       "    </tr>\n",
       "    <tr>\n",
       "      <th>71</th>\n",
       "      <td>71</td>\n",
       "      <td>Portland</td>\n",
       "      <td>United States</td>\n",
       "      <td>632309</td>\n",
       "    </tr>\n",
       "    <tr>\n",
       "      <th>73</th>\n",
       "      <td>73</td>\n",
       "      <td>Oklahoma City</td>\n",
       "      <td>United States</td>\n",
       "      <td>631346</td>\n",
       "    </tr>\n",
       "    <tr>\n",
       "      <th>74</th>\n",
       "      <td>74</td>\n",
       "      <td>Las Vegas</td>\n",
       "      <td>United States</td>\n",
       "      <td>623747</td>\n",
       "    </tr>\n",
       "    <tr>\n",
       "      <th>75</th>\n",
       "      <td>75</td>\n",
       "      <td>Baltimore</td>\n",
       "      <td>United States</td>\n",
       "      <td>621849</td>\n",
       "    </tr>\n",
       "    <tr>\n",
       "      <th>76</th>\n",
       "      <td>76</td>\n",
       "      <td>Brampton</td>\n",
       "      <td>Canada</td>\n",
       "      <td>620700</td>\n",
       "    </tr>\n",
       "    <tr>\n",
       "      <th>77</th>\n",
       "      <td>77</td>\n",
       "      <td>Louisville</td>\n",
       "      <td>United States</td>\n",
       "      <td>615366</td>\n",
       "    </tr>\n",
       "    <tr>\n",
       "      <th>79</th>\n",
       "      <td>79</td>\n",
       "      <td>Milwaukee</td>\n",
       "      <td>United States</td>\n",
       "      <td>600155</td>\n",
       "    </tr>\n",
       "    <tr>\n",
       "      <th>84</th>\n",
       "      <td>84</td>\n",
       "      <td>Albuquerque</td>\n",
       "      <td>United States</td>\n",
       "      <td>559121</td>\n",
       "    </tr>\n",
       "    <tr>\n",
       "      <th>85</th>\n",
       "      <td>85</td>\n",
       "      <td>Hamilton</td>\n",
       "      <td>Canada</td>\n",
       "      <td>556359</td>\n",
       "    </tr>\n",
       "    <tr>\n",
       "      <th>86</th>\n",
       "      <td>86</td>\n",
       "      <td>Quebec City</td>\n",
       "      <td>Canada</td>\n",
       "      <td>540994</td>\n",
       "    </tr>\n",
       "    <tr>\n",
       "      <th>88</th>\n",
       "      <td>88</td>\n",
       "      <td>Tucson</td>\n",
       "      <td>United States</td>\n",
       "      <td>531641</td>\n",
       "    </tr>\n",
       "    <tr>\n",
       "      <th>90</th>\n",
       "      <td>90</td>\n",
       "      <td>Surrey</td>\n",
       "      <td>Canada</td>\n",
       "      <td>526004</td>\n",
       "    </tr>\n",
       "    <tr>\n",
       "      <th>93</th>\n",
       "      <td>93</td>\n",
       "      <td>Fresno</td>\n",
       "      <td>United States</td>\n",
       "      <td>520052</td>\n",
       "    </tr>\n",
       "  </tbody>\n",
       "</table>\n",
       "</div>"
      ],
      "text/plain": [
       "    Rank              City        Country  Population\n",
       "1      1     New York City  United States     8550405\n",
       "2      2       Los Angeles  United States     3971883\n",
       "3      3           Toronto         Canada     2826498\n",
       "4      4           Chicago  United States     2720546\n",
       "5      5           Houston  United States     2296224\n",
       "7      7          Montreal         Canada     1753034\n",
       "9      9      Philadelphia  United States     1567442\n",
       "10    10           Phoenix  United States     1563025\n",
       "11    11       San Antonio  United States     1469845\n",
       "14    14         San Diego  United States     1394928\n",
       "17    17            Dallas  United States     1300092\n",
       "19    19           Calgary         Canada     1230915\n",
       "25    25          San Jose  United States     1026908\n",
       "30    30            Ottawa         Canada      956710\n",
       "31    31            Austin  United States      931830\n",
       "32    32          Edmonton         Canada      899447\n",
       "36    36      Jacksonville  United States      868031\n",
       "38    38     San Francisco  United States      864816\n",
       "39    39      Indianapolis  United States      853173\n",
       "40    40          Columbus  United States      850106\n",
       "41    41        Fort Worth  United States      833319\n",
       "42    42         Charlotte  United States      827097\n",
       "46    46       Mississauga         Canada      761300\n",
       "52    52          Winnipeg         Canada      718400\n",
       "57    57           Seattle  United States      684451\n",
       "59    59            Denver  United States      682545\n",
       "60    60           El Paso  United States      681124\n",
       "62    62           Detroit  United States      677116\n",
       "63    63  Washington, D.C.  United States      672228\n",
       "65    65            Boston  United States      667137\n",
       "67    67           Memphis  United States      655770\n",
       "68    68         Nashville  United States      654610\n",
       "70    70         Vancouver         Canada      648608\n",
       "71    71          Portland  United States      632309\n",
       "73    73     Oklahoma City  United States      631346\n",
       "74    74         Las Vegas  United States      623747\n",
       "75    75         Baltimore  United States      621849\n",
       "76    76          Brampton         Canada      620700\n",
       "77    77        Louisville  United States      615366\n",
       "79    79         Milwaukee  United States      600155\n",
       "84    84       Albuquerque  United States      559121\n",
       "85    85          Hamilton         Canada      556359\n",
       "86    86       Quebec City         Canada      540994\n",
       "88    88            Tucson  United States      531641\n",
       "90    90            Surrey         Canada      526004\n",
       "93    93            Fresno  United States      520052"
      ]
     },
     "execution_count": 1,
     "metadata": {},
     "output_type": "execute_result"
    }
   ],
   "source": [
    "filter = (df[\"Country\"] == \"United States\") | (df[\"Country\"] == \"Canada\")\n",
    "us_or_canada_df = df.loc[filter]\n",
    "us_or_canada_df"
   ]
  },
  {
   "cell_type": "markdown",
   "id": "445016a4",
   "metadata": {},
   "source": [
    "👩‍🎓**Student Question: How many of the cities are in the US or Canada?**"
   ]
  },
  {
   "cell_type": "code",
   "execution_count": 23,
   "id": "782ed427",
   "metadata": {
    "execution": {
     "iopub.execute_input": "2021-06-10T17:50:57.726729Z",
     "iopub.status.busy": "2021-06-10T17:50:57.725839Z",
     "iopub.status.idle": "2021-06-10T17:50:57.729421Z",
     "shell.execute_reply": "2021-06-10T17:50:57.728348Z"
    }
   },
   "outputs": [],
   "source": [
    "#📝📝📝📝 FILLME\n",
    "pass"
   ]
  },
  {
   "cell_type": "markdown",
   "id": "1d4031b0",
   "metadata": {},
   "source": [
    "Here is a list of the different statements that we commonly use."
   ]
  },
  {
   "cell_type": "markdown",
   "id": "a97d9079",
   "metadata": {},
   "source": [
    "| Filter | Symbol |\n",
    "|--------|--------|\n",
    "| Or     | \\|     |\n",
    "| And    | &      |\n",
    "| Not    | ~      |\n",
    "| Equal  | ==     |\n",
    "| Less   | <      |\n",
    "| Greater| >      |\n",
    "| Greater| >      |\n",
    "| In     | .str.contains      |\n",
    "| Is one of     | .isin      |"
   ]
  },
  {
   "cell_type": "markdown",
   "id": "0db77598",
   "metadata": {},
   "source": [
    "Note: I didn't know many of these by heart.\n",
    "Don't be afraid to google \"how to filter by ... in pandas\" if you get stuck."
   ]
  },
  {
   "cell_type": "markdown",
   "id": "7a2cdddd",
   "metadata": {},
   "source": [
    "# Group Exercise A"
   ]
  },
  {
   "cell_type": "markdown",
   "id": "22f601e7",
   "metadata": {},
   "source": [
    "## Question 1 "
   ]
  },
  {
   "cell_type": "markdown",
   "id": "1abba2cf",
   "metadata": {},
   "source": [
    "Filters can be of many different types. For instance, when working\n",
    "with numerical fields we can have filters based on greater-than and\n",
    "less-than comparisons."
   ]
  },
  {
   "cell_type": "markdown",
   "id": "e7b2cc46",
   "metadata": {},
   "source": [
    "Write a filter that keeps only cities with greater than a\n",
    "million people."
   ]
  },
  {
   "cell_type": "code",
   "execution_count": 24,
   "id": "a1f466c8",
   "metadata": {
    "execution": {
     "iopub.execute_input": "2021-06-10T17:50:57.735715Z",
     "iopub.status.busy": "2021-06-10T17:50:57.734796Z",
     "iopub.status.idle": "2021-06-10T17:50:57.738046Z",
     "shell.execute_reply": "2021-06-10T17:50:57.737163Z"
    }
   },
   "outputs": [],
   "source": [
    "#📝📝📝📝 FILLME\n",
    "pass"
   ]
  },
  {
   "cell_type": "markdown",
   "id": "0baeafac",
   "metadata": {},
   "source": [
    "How many are there?"
   ]
  },
  {
   "cell_type": "code",
   "execution_count": 25,
   "id": "7694f7de",
   "metadata": {
    "execution": {
     "iopub.execute_input": "2021-06-10T17:50:57.743871Z",
     "iopub.status.busy": "2021-06-10T17:50:57.742942Z",
     "iopub.status.idle": "2021-06-10T17:50:57.746916Z",
     "shell.execute_reply": "2021-06-10T17:50:57.746147Z"
    }
   },
   "outputs": [],
   "source": [
    "#📝📝📝📝 FILLME\n",
    "pass"
   ]
  },
  {
   "cell_type": "markdown",
   "id": "2c0fe0e2",
   "metadata": {},
   "source": [
    "(Be sure to print it out to check that it worked!)"
   ]
  },
  {
   "cell_type": "markdown",
   "id": "94e911d8",
   "metadata": {},
   "source": [
    "## Question 2"
   ]
  },
  {
   "cell_type": "markdown",
   "id": "b940da85",
   "metadata": {},
   "source": [
    "Several cities in North America include the word \"City\" in their name. \n",
    "Write a filter to find the cities that have \"City\" in their name. "
   ]
  },
  {
   "cell_type": "code",
   "execution_count": 26,
   "id": "ed4b9168",
   "metadata": {
    "execution": {
     "iopub.execute_input": "2021-06-10T17:50:57.753031Z",
     "iopub.status.busy": "2021-06-10T17:50:57.752131Z",
     "iopub.status.idle": "2021-06-10T17:50:57.754999Z",
     "shell.execute_reply": "2021-06-10T17:50:57.755653Z"
    }
   },
   "outputs": [],
   "source": [
    "#📝📝📝📝 FILLME\n",
    "pass"
   ]
  },
  {
   "cell_type": "markdown",
   "id": "67104d69",
   "metadata": {},
   "source": [
    "What is the smallest city on this list?"
   ]
  },
  {
   "cell_type": "code",
   "execution_count": 27,
   "id": "5a9cce80",
   "metadata": {
    "execution": {
     "iopub.execute_input": "2021-06-10T17:50:57.761123Z",
     "iopub.status.busy": "2021-06-10T17:50:57.760277Z",
     "iopub.status.idle": "2021-06-10T17:50:57.763834Z",
     "shell.execute_reply": "2021-06-10T17:50:57.763111Z"
    }
   },
   "outputs": [],
   "source": [
    "#📝📝📝📝 FILLME\n",
    "pass"
   ]
  },
  {
   "cell_type": "markdown",
   "id": "7cde2474",
   "metadata": {},
   "source": [
    "## Question 3"
   ]
  },
  {
   "cell_type": "markdown",
   "id": "fb400f5b",
   "metadata": {},
   "source": [
    "Most of the cities on the list are in Canada, Mexico or the US."
   ]
  },
  {
   "cell_type": "markdown",
   "id": "06ddba62",
   "metadata": {},
   "source": [
    "Can you write a filter to find the cities that are not in any of these countries?"
   ]
  },
  {
   "cell_type": "code",
   "execution_count": 28,
   "id": "ef0444d3",
   "metadata": {
    "execution": {
     "iopub.execute_input": "2021-06-10T17:50:57.769691Z",
     "iopub.status.busy": "2021-06-10T17:50:57.768840Z",
     "iopub.status.idle": "2021-06-10T17:50:57.772210Z",
     "shell.execute_reply": "2021-06-10T17:50:57.771368Z"
    }
   },
   "outputs": [],
   "source": [
    "#📝📝📝📝 FILLME\n",
    "pass"
   ]
  },
  {
   "cell_type": "markdown",
   "id": "4a03e55c",
   "metadata": {},
   "source": [
    "What is the largest city in this list?"
   ]
  },
  {
   "cell_type": "code",
   "execution_count": 29,
   "id": "b577f3f2",
   "metadata": {
    "execution": {
     "iopub.execute_input": "2021-06-10T17:50:57.777760Z",
     "iopub.status.busy": "2021-06-10T17:50:57.776912Z",
     "iopub.status.idle": "2021-06-10T17:50:57.780504Z",
     "shell.execute_reply": "2021-06-10T17:50:57.779635Z"
    }
   },
   "outputs": [],
   "source": [
    "#📝📝📝📝 FILLME\n",
    "pass"
   ]
  },
  {
   "cell_type": "markdown",
   "id": "736d9ff3",
   "metadata": {},
   "source": [
    "## Question 4"
   ]
  },
  {
   "cell_type": "markdown",
   "id": "de22343f",
   "metadata": {},
   "source": [
    "We can also apply filters that look for two properties at the same time. "
   ]
  },
  {
   "cell_type": "markdown",
   "id": "99ade1b7",
   "metadata": {},
   "source": [
    "Can you write a filter to find the cities in the US of over a million people?"
   ]
  },
  {
   "cell_type": "code",
   "execution_count": 30,
   "id": "28472faa",
   "metadata": {
    "execution": {
     "iopub.execute_input": "2021-06-10T17:50:57.786273Z",
     "iopub.status.busy": "2021-06-10T17:50:57.785373Z",
     "iopub.status.idle": "2021-06-10T17:50:57.788747Z",
     "shell.execute_reply": "2021-06-10T17:50:57.787852Z"
    }
   },
   "outputs": [],
   "source": [
    "#📝📝📝📝 FILLME\n",
    "pass"
   ]
  },
  {
   "cell_type": "markdown",
   "id": "88148012",
   "metadata": {},
   "source": [
    "How many are there?"
   ]
  },
  {
   "cell_type": "code",
   "execution_count": 31,
   "id": "c1a97eb1",
   "metadata": {
    "execution": {
     "iopub.execute_input": "2021-06-10T17:50:57.794373Z",
     "iopub.status.busy": "2021-06-10T17:50:57.793472Z",
     "iopub.status.idle": "2021-06-10T17:50:57.796948Z",
     "shell.execute_reply": "2021-06-10T17:50:57.796026Z"
    }
   },
   "outputs": [],
   "source": [
    "#📝📝📝📝 FILLME\n",
    "pass"
   ]
  },
  {
   "cell_type": "markdown",
   "id": "d7344bdf",
   "metadata": {},
   "source": [
    "# Unit B"
   ]
  },
  {
   "cell_type": "markdown",
   "id": "0a9fff91",
   "metadata": {},
   "source": [
    "In this unit we will look at three more advanced Pandas functions.\n",
    "Unlike filters, which just remove rows, these will allow use to manipute\n",
    "our data to compute new properties and even new columns. "
   ]
  },
  {
   "cell_type": "markdown",
   "id": "770e8bfa",
   "metadata": {},
   "source": [
    "## Group By's"
   ]
  },
  {
   "cell_type": "markdown",
   "id": "59132758",
   "metadata": {},
   "source": [
    "We saw above how to compute the total number of cities in Mexico on\n",
    "our list. We did this by first filtering and then \"aggregating\" by\n",
    "calling `count()`. Here is a reminder. "
   ]
  },
  {
   "cell_type": "code",
   "execution_count": 32,
   "id": "19c8a422",
   "metadata": {
    "execution": {
     "iopub.execute_input": "2021-06-10T17:50:57.805721Z",
     "iopub.status.busy": "2021-06-10T17:50:57.804820Z",
     "iopub.status.idle": "2021-06-10T17:50:57.808275Z",
     "shell.execute_reply": "2021-06-10T17:50:57.809003Z"
    }
   },
   "outputs": [
    {
     "data": {
      "text/plain": [
       "38"
      ]
     },
     "execution_count": 1,
     "metadata": {},
     "output_type": "execute_result"
    }
   ],
   "source": [
    "filter = df[\"Country\"] == \"Mexico\"\n",
    "cities_in_mexico_df = df.loc[filter]\n",
    "total_cities_in_mexico = cities_in_mexico_df[\"City\"].count()\n",
    "total_cities_in_mexico"
   ]
  },
  {
   "cell_type": "markdown",
   "id": "3a4048e2",
   "metadata": {},
   "source": [
    "However, what if we also want to know the number of cities\n",
    "in Canada and US and all the other countries on our list.\n",
    "We can do this with a group-by operation"
   ]
  },
  {
   "cell_type": "markdown",
   "id": "edf92051",
   "metadata": {},
   "source": [
    "**GroupBy**\n",
    "\n",
    "1. GroupBy - Determine the subset of data to use\n",
    "2. Aggregation - Compute a property over the group"
   ]
  },
  {
   "cell_type": "markdown",
   "id": "6b25ac31",
   "metadata": {},
   "source": [
    "Step 1. Group By"
   ]
  },
  {
   "cell_type": "code",
   "execution_count": 33,
   "id": "e76aef6a",
   "metadata": {
    "execution": {
     "iopub.execute_input": "2021-06-10T17:50:57.815267Z",
     "iopub.status.busy": "2021-06-10T17:50:57.814356Z",
     "iopub.status.idle": "2021-06-10T17:50:57.818105Z",
     "shell.execute_reply": "2021-06-10T17:50:57.817321Z"
    }
   },
   "outputs": [],
   "source": [
    "grouped = df.groupby([\"Country\"])"
   ]
  },
  {
   "cell_type": "markdown",
   "id": "800595e8",
   "metadata": {},
   "source": [
    "Step 2. Aggregate"
   ]
  },
  {
   "cell_type": "code",
   "execution_count": 34,
   "id": "45d1cc9a",
   "metadata": {
    "execution": {
     "iopub.execute_input": "2021-06-10T17:50:57.827586Z",
     "iopub.status.busy": "2021-06-10T17:50:57.826646Z",
     "iopub.status.idle": "2021-06-10T17:50:57.831146Z",
     "shell.execute_reply": "2021-06-10T17:50:57.830218Z"
    }
   },
   "outputs": [
    {
     "data": {
      "text/plain": [
       "Country\n",
       "Canada                12\n",
       "Cuba                   1\n",
       "Dominican Republic     2\n",
       "Guatemala              2\n",
       "Haiti                  2\n",
       "Honduras               2\n",
       "Jamaica                1\n",
       "Mexico                38\n",
       "Nicaragua              1\n",
       "United States         34\n",
       "Name: City, dtype: int64"
      ]
     },
     "execution_count": 1,
     "metadata": {},
     "output_type": "execute_result"
    }
   ],
   "source": [
    "count_of_cities = grouped[\"City\"].count()\n",
    "count_of_cities"
   ]
  },
  {
   "cell_type": "markdown",
   "id": "82ac1470",
   "metadata": {},
   "source": [
    "Here is another example. This one computes the population of the\n",
    "largest city in each country. "
   ]
  },
  {
   "cell_type": "code",
   "execution_count": 35,
   "id": "7913d133",
   "metadata": {
    "execution": {
     "iopub.execute_input": "2021-06-10T17:50:57.840445Z",
     "iopub.status.busy": "2021-06-10T17:50:57.839541Z",
     "iopub.status.idle": "2021-06-10T17:50:57.843928Z",
     "shell.execute_reply": "2021-06-10T17:50:57.843086Z"
    }
   },
   "outputs": [
    {
     "data": {
      "text/plain": [
       "Country\n",
       "Canada                2826498\n",
       "Cuba                  2117625\n",
       "Dominican Republic    1007997\n",
       "Guatemala              994078\n",
       "Haiti                  987310\n",
       "Honduras              1190230\n",
       "Jamaica                669627\n",
       "Mexico                8918653\n",
       "Nicaragua             1048134\n",
       "United States         8550405\n",
       "Name: Population, dtype: int64"
      ]
     },
     "execution_count": 1,
     "metadata": {},
     "output_type": "execute_result"
    }
   ],
   "source": [
    "max_pop = grouped[\"Population\"].max()\n",
    "max_pop"
   ]
  },
  {
   "cell_type": "markdown",
   "id": "84efddcb",
   "metadata": {},
   "source": [
    "👩‍🎓 ** Student Question: Can you compute the city with the minimum population on the list for each country? **"
   ]
  },
  {
   "cell_type": "code",
   "execution_count": 36,
   "id": "b0fd572b",
   "metadata": {
    "execution": {
     "iopub.execute_input": "2021-06-10T17:50:57.849735Z",
     "iopub.status.busy": "2021-06-10T17:50:57.848834Z",
     "iopub.status.idle": "2021-06-10T17:50:57.852669Z",
     "shell.execute_reply": "2021-06-10T17:50:57.851831Z"
    },
    "lines_to_next_cell": 1
   },
   "outputs": [],
   "source": [
    "#📝📝📝📝 FILLME\n",
    "pass"
   ]
  },
  {
   "cell_type": "markdown",
   "id": "2fe7052f",
   "metadata": {},
   "source": [
    "## Manipulating Tables"
   ]
  },
  {
   "cell_type": "markdown",
   "id": "160728a2",
   "metadata": {},
   "source": [
    "Another useful aspect of tables is is to add in new columns.\n",
    "Adding new columns allows us to group by additional properties,\n",
    "create advanced filters, or make pretty graphs."
   ]
  },
  {
   "cell_type": "markdown",
   "id": "74ecbb83",
   "metadata": {},
   "source": [
    "The easiest way to add a new column in pandas is to write a function\n",
    "that tells us how to create the new column from the other columns in\n",
    "the table."
   ]
  },
  {
   "cell_type": "markdown",
   "id": "59a5f7e9",
   "metadata": {},
   "source": [
    "In order to add a new column, we need to write a function.\n",
    "If you remember last class, a function looked something like this."
   ]
  },
  {
   "cell_type": "code",
   "execution_count": 37,
   "id": "9078a6e2",
   "metadata": {
    "execution": {
     "iopub.execute_input": "2021-06-10T17:50:57.859801Z",
     "iopub.status.busy": "2021-06-10T17:50:57.858880Z",
     "iopub.status.idle": "2021-06-10T17:50:57.862790Z",
     "shell.execute_reply": "2021-06-10T17:50:57.861859Z"
    },
    "lines_to_next_cell": 1
   },
   "outputs": [],
   "source": [
    "# Returns if the country is in US or Canada\n",
    "def in_us_or_canada(country):\n",
    "    if country == \"United States\":\n",
    "        return \"US/Canada\"\n",
    "    if country == \"Canada\":\n",
    "        return \"US/Canada\"\n",
    "    return \"Not US/Canada\""
   ]
  },
  {
   "cell_type": "markdown",
   "id": "4386210a",
   "metadata": {},
   "source": [
    "Now we can add a new column by setting that column equal to\n",
    "the country. We do this by calling Pandas `map` with the function\n",
    "and the column of interest. This line of code will call our function\n",
    "for each row of the Country column. Notice how it creates a new column."
   ]
  },
  {
   "cell_type": "code",
   "execution_count": 38,
   "id": "31c3afd6",
   "metadata": {
    "execution": {
     "iopub.execute_input": "2021-06-10T17:50:57.884286Z",
     "iopub.status.busy": "2021-06-10T17:50:57.883399Z",
     "iopub.status.idle": "2021-06-10T17:50:57.886742Z",
     "shell.execute_reply": "2021-06-10T17:50:57.887496Z"
    }
   },
   "outputs": [
    {
     "data": {
      "text/html": [
       "<div>\n",
       "<style scoped>\n",
       "    .dataframe tbody tr th:only-of-type {\n",
       "        vertical-align: middle;\n",
       "    }\n",
       "\n",
       "    .dataframe tbody tr th {\n",
       "        vertical-align: top;\n",
       "    }\n",
       "\n",
       "    .dataframe thead th {\n",
       "        text-align: right;\n",
       "    }\n",
       "</style>\n",
       "<table border=\"1\" class=\"dataframe\">\n",
       "  <thead>\n",
       "    <tr style=\"text-align: right;\">\n",
       "      <th></th>\n",
       "      <th>Rank</th>\n",
       "      <th>City</th>\n",
       "      <th>Country</th>\n",
       "      <th>Population</th>\n",
       "      <th>US_or_Canada</th>\n",
       "    </tr>\n",
       "  </thead>\n",
       "  <tbody>\n",
       "    <tr>\n",
       "      <th>0</th>\n",
       "      <td>0</td>\n",
       "      <td>Mexico City</td>\n",
       "      <td>Mexico</td>\n",
       "      <td>8918653</td>\n",
       "      <td>Not US/Canada</td>\n",
       "    </tr>\n",
       "    <tr>\n",
       "      <th>1</th>\n",
       "      <td>1</td>\n",
       "      <td>New York City</td>\n",
       "      <td>United States</td>\n",
       "      <td>8550405</td>\n",
       "      <td>US/Canada</td>\n",
       "    </tr>\n",
       "    <tr>\n",
       "      <th>2</th>\n",
       "      <td>2</td>\n",
       "      <td>Los Angeles</td>\n",
       "      <td>United States</td>\n",
       "      <td>3971883</td>\n",
       "      <td>US/Canada</td>\n",
       "    </tr>\n",
       "    <tr>\n",
       "      <th>3</th>\n",
       "      <td>3</td>\n",
       "      <td>Toronto</td>\n",
       "      <td>Canada</td>\n",
       "      <td>2826498</td>\n",
       "      <td>US/Canada</td>\n",
       "    </tr>\n",
       "    <tr>\n",
       "      <th>4</th>\n",
       "      <td>4</td>\n",
       "      <td>Chicago</td>\n",
       "      <td>United States</td>\n",
       "      <td>2720546</td>\n",
       "      <td>US/Canada</td>\n",
       "    </tr>\n",
       "    <tr>\n",
       "      <th>...</th>\n",
       "      <td>...</td>\n",
       "      <td>...</td>\n",
       "      <td>...</td>\n",
       "      <td>...</td>\n",
       "      <td>...</td>\n",
       "    </tr>\n",
       "    <tr>\n",
       "      <th>90</th>\n",
       "      <td>90</td>\n",
       "      <td>Surrey</td>\n",
       "      <td>Canada</td>\n",
       "      <td>526004</td>\n",
       "      <td>US/Canada</td>\n",
       "    </tr>\n",
       "    <tr>\n",
       "      <th>91</th>\n",
       "      <td>91</td>\n",
       "      <td>Ciudad López Mateos</td>\n",
       "      <td>Mexico</td>\n",
       "      <td>523296</td>\n",
       "      <td>Not US/Canada</td>\n",
       "    </tr>\n",
       "    <tr>\n",
       "      <th>92</th>\n",
       "      <td>92</td>\n",
       "      <td>Tultitlán</td>\n",
       "      <td>Mexico</td>\n",
       "      <td>520557</td>\n",
       "      <td>Not US/Canada</td>\n",
       "    </tr>\n",
       "    <tr>\n",
       "      <th>93</th>\n",
       "      <td>93</td>\n",
       "      <td>Fresno</td>\n",
       "      <td>United States</td>\n",
       "      <td>520052</td>\n",
       "      <td>US/Canada</td>\n",
       "    </tr>\n",
       "    <tr>\n",
       "      <th>94</th>\n",
       "      <td>94</td>\n",
       "      <td>Carrefour</td>\n",
       "      <td>Haiti</td>\n",
       "      <td>501768</td>\n",
       "      <td>Not US/Canada</td>\n",
       "    </tr>\n",
       "  </tbody>\n",
       "</table>\n",
       "<p>95 rows × 5 columns</p>\n",
       "</div>"
      ],
      "text/plain": [
       "    Rank                 City        Country  Population   US_or_Canada\n",
       "0      0          Mexico City         Mexico     8918653  Not US/Canada\n",
       "1      1        New York City  United States     8550405      US/Canada\n",
       "2      2          Los Angeles  United States     3971883      US/Canada\n",
       "3      3              Toronto         Canada     2826498      US/Canada\n",
       "4      4              Chicago  United States     2720546      US/Canada\n",
       "..   ...                  ...            ...         ...            ...\n",
       "90    90               Surrey         Canada      526004      US/Canada\n",
       "91    91  Ciudad López Mateos         Mexico      523296  Not US/Canada\n",
       "92    92            Tultitlán         Mexico      520557  Not US/Canada\n",
       "93    93               Fresno  United States      520052      US/Canada\n",
       "94    94            Carrefour          Haiti      501768  Not US/Canada\n",
       "\n",
       "[95 rows x 5 columns]"
      ]
     },
     "execution_count": 1,
     "metadata": {},
     "output_type": "execute_result"
    }
   ],
   "source": [
    "df[\"US_or_Canada\"] = df[\"Country\"].map(in_us_or_canada)\n",
    "df"
   ]
  },
  {
   "cell_type": "code",
   "execution_count": 39,
   "id": "1a8d7e8b",
   "metadata": {
    "execution": {
     "iopub.execute_input": "2021-06-10T17:50:57.892708Z",
     "iopub.status.busy": "2021-06-10T17:50:57.891835Z",
     "iopub.status.idle": "2021-06-10T17:50:57.894915Z",
     "shell.execute_reply": "2021-06-10T17:50:57.895707Z"
    }
   },
   "outputs": [
    {
     "data": {
      "text/plain": [
       "Index(['Rank', 'City', 'Country', 'Population', 'US_or_Canada'], dtype='object')"
      ]
     },
     "execution_count": 1,
     "metadata": {},
     "output_type": "execute_result"
    }
   ],
   "source": [
    "df.columns"
   ]
  },
  {
   "cell_type": "markdown",
   "id": "891d5f5c",
   "metadata": {},
   "source": [
    "We can then use this column in a group by."
   ]
  },
  {
   "cell_type": "code",
   "execution_count": 40,
   "id": "cb933241",
   "metadata": {
    "execution": {
     "iopub.execute_input": "2021-06-10T17:50:57.902891Z",
     "iopub.status.busy": "2021-06-10T17:50:57.902117Z",
     "iopub.status.idle": "2021-06-10T17:50:57.905677Z",
     "shell.execute_reply": "2021-06-10T17:50:57.904953Z"
    },
    "lines_to_next_cell": 1
   },
   "outputs": [
    {
     "data": {
      "text/plain": [
       "US_or_Canada\n",
       "Not US/Canada    49\n",
       "US/Canada        46\n",
       "Name: City, dtype: int64"
      ]
     },
     "execution_count": 1,
     "metadata": {},
     "output_type": "execute_result"
    }
   ],
   "source": [
    "grouped = df.groupby([\"US_or_Canada\"])\n",
    "count_of_cities = grouped[\"City\"].count()\n",
    "count_of_cities"
   ]
  },
  {
   "cell_type": "markdown",
   "id": "003a202e",
   "metadata": {},
   "source": [
    "A similar technique can be used to manipulate the data in a\n",
    "column to change certain values. For instance, we might want to\n",
    "remove the final \" City\" from cities like \"New York\" "
   ]
  },
  {
   "cell_type": "code",
   "execution_count": 41,
   "id": "e77a49d7",
   "metadata": {
    "execution": {
     "iopub.execute_input": "2021-06-10T17:50:57.910790Z",
     "iopub.status.busy": "2021-06-10T17:50:57.909965Z",
     "iopub.status.idle": "2021-06-10T17:50:57.912975Z",
     "shell.execute_reply": "2021-06-10T17:50:57.911950Z"
    },
    "lines_to_next_cell": 1
   },
   "outputs": [],
   "source": [
    "def change_name(str1):\n",
    "    return str1.replace(\" City\", \"\")"
   ]
  },
  {
   "cell_type": "code",
   "execution_count": 42,
   "id": "fd60221d",
   "metadata": {
    "execution": {
     "iopub.execute_input": "2021-06-10T17:50:57.927387Z",
     "iopub.status.busy": "2021-06-10T17:50:57.919754Z",
     "iopub.status.idle": "2021-06-10T17:50:57.937760Z",
     "shell.execute_reply": "2021-06-10T17:50:57.937248Z"
    }
   },
   "outputs": [
    {
     "data": {
      "text/html": [
       "<div>\n",
       "<style scoped>\n",
       "    .dataframe tbody tr th:only-of-type {\n",
       "        vertical-align: middle;\n",
       "    }\n",
       "\n",
       "    .dataframe tbody tr th {\n",
       "        vertical-align: top;\n",
       "    }\n",
       "\n",
       "    .dataframe thead th {\n",
       "        text-align: right;\n",
       "    }\n",
       "</style>\n",
       "<table border=\"1\" class=\"dataframe\">\n",
       "  <thead>\n",
       "    <tr style=\"text-align: right;\">\n",
       "      <th></th>\n",
       "      <th>Rank</th>\n",
       "      <th>City</th>\n",
       "      <th>Country</th>\n",
       "      <th>Population</th>\n",
       "      <th>US_or_Canada</th>\n",
       "    </tr>\n",
       "  </thead>\n",
       "  <tbody>\n",
       "    <tr>\n",
       "      <th>0</th>\n",
       "      <td>0</td>\n",
       "      <td>Mexico</td>\n",
       "      <td>Mexico</td>\n",
       "      <td>8918653</td>\n",
       "      <td>Not US/Canada</td>\n",
       "    </tr>\n",
       "    <tr>\n",
       "      <th>1</th>\n",
       "      <td>1</td>\n",
       "      <td>New York</td>\n",
       "      <td>United States</td>\n",
       "      <td>8550405</td>\n",
       "      <td>US/Canada</td>\n",
       "    </tr>\n",
       "    <tr>\n",
       "      <th>2</th>\n",
       "      <td>2</td>\n",
       "      <td>Los Angeles</td>\n",
       "      <td>United States</td>\n",
       "      <td>3971883</td>\n",
       "      <td>US/Canada</td>\n",
       "    </tr>\n",
       "    <tr>\n",
       "      <th>3</th>\n",
       "      <td>3</td>\n",
       "      <td>Toronto</td>\n",
       "      <td>Canada</td>\n",
       "      <td>2826498</td>\n",
       "      <td>US/Canada</td>\n",
       "    </tr>\n",
       "    <tr>\n",
       "      <th>4</th>\n",
       "      <td>4</td>\n",
       "      <td>Chicago</td>\n",
       "      <td>United States</td>\n",
       "      <td>2720546</td>\n",
       "      <td>US/Canada</td>\n",
       "    </tr>\n",
       "    <tr>\n",
       "      <th>...</th>\n",
       "      <td>...</td>\n",
       "      <td>...</td>\n",
       "      <td>...</td>\n",
       "      <td>...</td>\n",
       "      <td>...</td>\n",
       "    </tr>\n",
       "    <tr>\n",
       "      <th>90</th>\n",
       "      <td>90</td>\n",
       "      <td>Surrey</td>\n",
       "      <td>Canada</td>\n",
       "      <td>526004</td>\n",
       "      <td>US/Canada</td>\n",
       "    </tr>\n",
       "    <tr>\n",
       "      <th>91</th>\n",
       "      <td>91</td>\n",
       "      <td>Ciudad López Mateos</td>\n",
       "      <td>Mexico</td>\n",
       "      <td>523296</td>\n",
       "      <td>Not US/Canada</td>\n",
       "    </tr>\n",
       "    <tr>\n",
       "      <th>92</th>\n",
       "      <td>92</td>\n",
       "      <td>Tultitlán</td>\n",
       "      <td>Mexico</td>\n",
       "      <td>520557</td>\n",
       "      <td>Not US/Canada</td>\n",
       "    </tr>\n",
       "    <tr>\n",
       "      <th>93</th>\n",
       "      <td>93</td>\n",
       "      <td>Fresno</td>\n",
       "      <td>United States</td>\n",
       "      <td>520052</td>\n",
       "      <td>US/Canada</td>\n",
       "    </tr>\n",
       "    <tr>\n",
       "      <th>94</th>\n",
       "      <td>94</td>\n",
       "      <td>Carrefour</td>\n",
       "      <td>Haiti</td>\n",
       "      <td>501768</td>\n",
       "      <td>Not US/Canada</td>\n",
       "    </tr>\n",
       "  </tbody>\n",
       "</table>\n",
       "<p>95 rows × 5 columns</p>\n",
       "</div>"
      ],
      "text/plain": [
       "    Rank                 City        Country  Population   US_or_Canada\n",
       "0      0               Mexico         Mexico     8918653  Not US/Canada\n",
       "1      1             New York  United States     8550405      US/Canada\n",
       "2      2          Los Angeles  United States     3971883      US/Canada\n",
       "3      3              Toronto         Canada     2826498      US/Canada\n",
       "4      4              Chicago  United States     2720546      US/Canada\n",
       "..   ...                  ...            ...         ...            ...\n",
       "90    90               Surrey         Canada      526004      US/Canada\n",
       "91    91  Ciudad López Mateos         Mexico      523296  Not US/Canada\n",
       "92    92            Tultitlán         Mexico      520557  Not US/Canada\n",
       "93    93               Fresno  United States      520052      US/Canada\n",
       "94    94            Carrefour          Haiti      501768  Not US/Canada\n",
       "\n",
       "[95 rows x 5 columns]"
      ]
     },
     "execution_count": 1,
     "metadata": {},
     "output_type": "execute_result"
    }
   ],
   "source": [
    "df[\"City\"] = df[\"City\"].map(change_name)\n",
    "df"
   ]
  },
  {
   "cell_type": "markdown",
   "id": "e38db1c7",
   "metadata": {},
   "source": [
    "## Joining Together Tables"
   ]
  },
  {
   "cell_type": "markdown",
   "id": "6c7c117e",
   "metadata": {},
   "source": [
    "Pandas becomes much more powerful when we start to have many\n",
    "different tables that relate to each other. For this example we will\n",
    "consider another table that provides the locations about these\n",
    "cities. You can see that here: "
   ]
  },
  {
   "cell_type": "markdown",
   "id": "d0ae60a1",
   "metadata": {},
   "source": [
    "[City Location Spreadsheet](https://docs.google.com/spreadsheets/d/1Jwcr6IBJbOT1G4Vq7VqaZ7S1V9gRmUb5ALkJPaG5fxI/edit?usp=sharing)"
   ]
  },
  {
   "cell_type": "markdown",
   "id": "2bf241b2",
   "metadata": {},
   "source": [
    "Lets load this table into a new variable."
   ]
  },
  {
   "cell_type": "code",
   "execution_count": 43,
   "id": "7162aec7",
   "metadata": {
    "execution": {
     "iopub.execute_input": "2021-06-10T17:50:57.942275Z",
     "iopub.status.busy": "2021-06-10T17:50:57.941703Z",
     "iopub.status.idle": "2021-06-10T17:50:57.995456Z",
     "shell.execute_reply": "2021-06-10T17:50:57.994941Z"
    }
   },
   "outputs": [
    {
     "data": {
      "text/html": [
       "<div>\n",
       "<style scoped>\n",
       "    .dataframe tbody tr th:only-of-type {\n",
       "        vertical-align: middle;\n",
       "    }\n",
       "\n",
       "    .dataframe tbody tr th {\n",
       "        vertical-align: top;\n",
       "    }\n",
       "\n",
       "    .dataframe thead th {\n",
       "        text-align: right;\n",
       "    }\n",
       "</style>\n",
       "<table border=\"1\" class=\"dataframe\">\n",
       "  <thead>\n",
       "    <tr style=\"text-align: right;\">\n",
       "      <th></th>\n",
       "      <th>Id</th>\n",
       "      <th>City</th>\n",
       "      <th>Country</th>\n",
       "      <th>Longitude</th>\n",
       "      <th>Latitude</th>\n",
       "    </tr>\n",
       "  </thead>\n",
       "  <tbody>\n",
       "    <tr>\n",
       "      <th>0</th>\n",
       "      <td>0</td>\n",
       "      <td>A Coruña</td>\n",
       "      <td>Spain</td>\n",
       "      <td>8.73W</td>\n",
       "      <td>42.59N</td>\n",
       "    </tr>\n",
       "    <tr>\n",
       "      <th>1</th>\n",
       "      <td>1</td>\n",
       "      <td>Aachen</td>\n",
       "      <td>Germany</td>\n",
       "      <td>6.34E</td>\n",
       "      <td>50.63N</td>\n",
       "    </tr>\n",
       "    <tr>\n",
       "      <th>2</th>\n",
       "      <td>2</td>\n",
       "      <td>Aalborg</td>\n",
       "      <td>Denmark</td>\n",
       "      <td>10.33E</td>\n",
       "      <td>57.05N</td>\n",
       "    </tr>\n",
       "    <tr>\n",
       "      <th>3</th>\n",
       "      <td>3</td>\n",
       "      <td>Aba</td>\n",
       "      <td>Nigeria</td>\n",
       "      <td>8.07E</td>\n",
       "      <td>5.63N</td>\n",
       "    </tr>\n",
       "    <tr>\n",
       "      <th>4</th>\n",
       "      <td>4</td>\n",
       "      <td>Abadan</td>\n",
       "      <td>Iran</td>\n",
       "      <td>48.00E</td>\n",
       "      <td>29.74N</td>\n",
       "    </tr>\n",
       "    <tr>\n",
       "      <th>...</th>\n",
       "      <td>...</td>\n",
       "      <td>...</td>\n",
       "      <td>...</td>\n",
       "      <td>...</td>\n",
       "      <td>...</td>\n",
       "    </tr>\n",
       "    <tr>\n",
       "      <th>3505</th>\n",
       "      <td>3505</td>\n",
       "      <td>Århus</td>\n",
       "      <td>Denmark</td>\n",
       "      <td>10.33E</td>\n",
       "      <td>57.05N</td>\n",
       "    </tr>\n",
       "    <tr>\n",
       "      <th>3506</th>\n",
       "      <td>3506</td>\n",
       "      <td>Çorlu</td>\n",
       "      <td>Turkey</td>\n",
       "      <td>27.69E</td>\n",
       "      <td>40.99N</td>\n",
       "    </tr>\n",
       "    <tr>\n",
       "      <th>3507</th>\n",
       "      <td>3507</td>\n",
       "      <td>Çorum</td>\n",
       "      <td>Turkey</td>\n",
       "      <td>34.08E</td>\n",
       "      <td>40.99N</td>\n",
       "    </tr>\n",
       "    <tr>\n",
       "      <th>3508</th>\n",
       "      <td>3508</td>\n",
       "      <td>Öskemen</td>\n",
       "      <td>Kazakhstan</td>\n",
       "      <td>82.39E</td>\n",
       "      <td>50.63N</td>\n",
       "    </tr>\n",
       "    <tr>\n",
       "      <th>3509</th>\n",
       "      <td>3509</td>\n",
       "      <td>Ürümqi</td>\n",
       "      <td>China</td>\n",
       "      <td>87.20E</td>\n",
       "      <td>44.20N</td>\n",
       "    </tr>\n",
       "  </tbody>\n",
       "</table>\n",
       "<p>3510 rows × 5 columns</p>\n",
       "</div>"
      ],
      "text/plain": [
       "        Id      City     Country Longitude Latitude\n",
       "0        0  A Coruña       Spain     8.73W   42.59N\n",
       "1        1    Aachen     Germany     6.34E   50.63N\n",
       "2        2   Aalborg     Denmark    10.33E   57.05N\n",
       "3        3       Aba     Nigeria     8.07E    5.63N\n",
       "4        4    Abadan        Iran    48.00E   29.74N\n",
       "...    ...       ...         ...       ...      ...\n",
       "3505  3505     Århus     Denmark    10.33E   57.05N\n",
       "3506  3506     Çorlu      Turkey    27.69E   40.99N\n",
       "3507  3507     Çorum      Turkey    34.08E   40.99N\n",
       "3508  3508   Öskemen  Kazakhstan    82.39E   50.63N\n",
       "3509  3509    Ürümqi       China    87.20E   44.20N\n",
       "\n",
       "[3510 rows x 5 columns]"
      ]
     },
     "execution_count": 1,
     "metadata": {},
     "output_type": "execute_result"
    }
   ],
   "source": [
    "all_cities_df = pd.read_csv(\"https://srush.github.io/BT-AI/notebooks/AllCities.csv\")\n",
    "all_cities_df"
   ]
  },
  {
   "cell_type": "markdown",
   "id": "f3870640",
   "metadata": {},
   "source": [
    "This table has most of the cities in our dataset.\n",
    "But there are also a lot of other cities in this table outside of North America. "
   ]
  },
  {
   "cell_type": "code",
   "execution_count": 44,
   "id": "7b2fc850",
   "metadata": {
    "execution": {
     "iopub.execute_input": "2021-06-10T17:50:58.015824Z",
     "iopub.status.busy": "2021-06-10T17:50:58.010303Z",
     "iopub.status.idle": "2021-06-10T17:50:58.020056Z",
     "shell.execute_reply": "2021-06-10T17:50:58.020664Z"
    }
   },
   "outputs": [
    {
     "data": {
      "text/html": [
       "<div>\n",
       "<style scoped>\n",
       "    .dataframe tbody tr th:only-of-type {\n",
       "        vertical-align: middle;\n",
       "    }\n",
       "\n",
       "    .dataframe tbody tr th {\n",
       "        vertical-align: top;\n",
       "    }\n",
       "\n",
       "    .dataframe thead th {\n",
       "        text-align: right;\n",
       "    }\n",
       "</style>\n",
       "<table border=\"1\" class=\"dataframe\">\n",
       "  <thead>\n",
       "    <tr style=\"text-align: right;\">\n",
       "      <th></th>\n",
       "      <th>Id</th>\n",
       "      <th>City</th>\n",
       "      <th>Country</th>\n",
       "      <th>Longitude</th>\n",
       "      <th>Latitude</th>\n",
       "    </tr>\n",
       "  </thead>\n",
       "  <tbody>\n",
       "    <tr>\n",
       "      <th>1</th>\n",
       "      <td>1</td>\n",
       "      <td>Aachen</td>\n",
       "      <td>Germany</td>\n",
       "      <td>6.34E</td>\n",
       "      <td>50.63N</td>\n",
       "    </tr>\n",
       "    <tr>\n",
       "      <th>187</th>\n",
       "      <td>187</td>\n",
       "      <td>Augsburg</td>\n",
       "      <td>Germany</td>\n",
       "      <td>10.66E</td>\n",
       "      <td>47.42N</td>\n",
       "    </tr>\n",
       "    <tr>\n",
       "      <th>338</th>\n",
       "      <td>338</td>\n",
       "      <td>Bergisch Gladbach</td>\n",
       "      <td>Germany</td>\n",
       "      <td>6.34E</td>\n",
       "      <td>50.63N</td>\n",
       "    </tr>\n",
       "    <tr>\n",
       "      <th>340</th>\n",
       "      <td>340</td>\n",
       "      <td>Berlin</td>\n",
       "      <td>Germany</td>\n",
       "      <td>13.14E</td>\n",
       "      <td>52.24N</td>\n",
       "    </tr>\n",
       "    <tr>\n",
       "      <th>370</th>\n",
       "      <td>370</td>\n",
       "      <td>Bielefeld</td>\n",
       "      <td>Germany</td>\n",
       "      <td>7.88E</td>\n",
       "      <td>52.24N</td>\n",
       "    </tr>\n",
       "    <tr>\n",
       "      <th>...</th>\n",
       "      <td>...</td>\n",
       "      <td>...</td>\n",
       "      <td>...</td>\n",
       "      <td>...</td>\n",
       "      <td>...</td>\n",
       "    </tr>\n",
       "    <tr>\n",
       "      <th>3343</th>\n",
       "      <td>3343</td>\n",
       "      <td>Wiesbaden</td>\n",
       "      <td>Germany</td>\n",
       "      <td>8.87E</td>\n",
       "      <td>50.63N</td>\n",
       "    </tr>\n",
       "    <tr>\n",
       "      <th>3349</th>\n",
       "      <td>3349</td>\n",
       "      <td>Witten</td>\n",
       "      <td>Germany</td>\n",
       "      <td>7.88E</td>\n",
       "      <td>52.24N</td>\n",
       "    </tr>\n",
       "    <tr>\n",
       "      <th>3351</th>\n",
       "      <td>3351</td>\n",
       "      <td>Wolfsburg</td>\n",
       "      <td>Germany</td>\n",
       "      <td>10.51E</td>\n",
       "      <td>52.24N</td>\n",
       "    </tr>\n",
       "    <tr>\n",
       "      <th>3364</th>\n",
       "      <td>3364</td>\n",
       "      <td>Wuppertal</td>\n",
       "      <td>Germany</td>\n",
       "      <td>6.34E</td>\n",
       "      <td>50.63N</td>\n",
       "    </tr>\n",
       "    <tr>\n",
       "      <th>3369</th>\n",
       "      <td>3369</td>\n",
       "      <td>Würzburg</td>\n",
       "      <td>Germany</td>\n",
       "      <td>9.80E</td>\n",
       "      <td>49.03N</td>\n",
       "    </tr>\n",
       "  </tbody>\n",
       "</table>\n",
       "<p>81 rows × 5 columns</p>\n",
       "</div>"
      ],
      "text/plain": [
       "        Id               City  Country Longitude Latitude\n",
       "1        1             Aachen  Germany     6.34E   50.63N\n",
       "187    187           Augsburg  Germany    10.66E   47.42N\n",
       "338    338  Bergisch Gladbach  Germany     6.34E   50.63N\n",
       "340    340             Berlin  Germany    13.14E   52.24N\n",
       "370    370          Bielefeld  Germany     7.88E   52.24N\n",
       "...    ...                ...      ...       ...      ...\n",
       "3343  3343          Wiesbaden  Germany     8.87E   50.63N\n",
       "3349  3349             Witten  Germany     7.88E   52.24N\n",
       "3351  3351          Wolfsburg  Germany    10.51E   52.24N\n",
       "3364  3364          Wuppertal  Germany     6.34E   50.63N\n",
       "3369  3369           Würzburg  Germany     9.80E   49.03N\n",
       "\n",
       "[81 rows x 5 columns]"
      ]
     },
     "execution_count": 1,
     "metadata": {},
     "output_type": "execute_result"
    }
   ],
   "source": [
    "filter = all_cities_df[\"Country\"] == \"Germany\" \n",
    "europe_df = all_cities_df.loc[filter]\n",
    "europe_df"
   ]
  },
  {
   "cell_type": "markdown",
   "id": "2c25d9fc",
   "metadata": {},
   "source": [
    "In order to use this new information let's merge since it in to our table. \n",
    "We just need to tell pandas which are the shared columns\n",
    "between the two tables. "
   ]
  },
  {
   "cell_type": "code",
   "execution_count": 45,
   "id": "488e763b",
   "metadata": {
    "execution": {
     "iopub.execute_input": "2021-06-10T17:50:58.032063Z",
     "iopub.status.busy": "2021-06-10T17:50:58.031020Z",
     "iopub.status.idle": "2021-06-10T17:50:58.055628Z",
     "shell.execute_reply": "2021-06-10T17:50:58.054851Z"
    }
   },
   "outputs": [
    {
     "data": {
      "text/html": [
       "<div>\n",
       "<style scoped>\n",
       "    .dataframe tbody tr th:only-of-type {\n",
       "        vertical-align: middle;\n",
       "    }\n",
       "\n",
       "    .dataframe tbody tr th {\n",
       "        vertical-align: top;\n",
       "    }\n",
       "\n",
       "    .dataframe thead th {\n",
       "        text-align: right;\n",
       "    }\n",
       "</style>\n",
       "<table border=\"1\" class=\"dataframe\">\n",
       "  <thead>\n",
       "    <tr style=\"text-align: right;\">\n",
       "      <th></th>\n",
       "      <th>Rank</th>\n",
       "      <th>City</th>\n",
       "      <th>Country</th>\n",
       "      <th>Population</th>\n",
       "      <th>US_or_Canada</th>\n",
       "      <th>Id</th>\n",
       "      <th>Longitude</th>\n",
       "      <th>Latitude</th>\n",
       "    </tr>\n",
       "  </thead>\n",
       "  <tbody>\n",
       "    <tr>\n",
       "      <th>0</th>\n",
       "      <td>0</td>\n",
       "      <td>Mexico</td>\n",
       "      <td>Mexico</td>\n",
       "      <td>8918653</td>\n",
       "      <td>Not US/Canada</td>\n",
       "      <td>1955</td>\n",
       "      <td>98.96W</td>\n",
       "      <td>20.09N</td>\n",
       "    </tr>\n",
       "    <tr>\n",
       "      <th>1</th>\n",
       "      <td>1</td>\n",
       "      <td>New York</td>\n",
       "      <td>United States</td>\n",
       "      <td>8550405</td>\n",
       "      <td>US/Canada</td>\n",
       "      <td>2126</td>\n",
       "      <td>74.56W</td>\n",
       "      <td>40.99N</td>\n",
       "    </tr>\n",
       "    <tr>\n",
       "      <th>2</th>\n",
       "      <td>2</td>\n",
       "      <td>Los Angeles</td>\n",
       "      <td>United States</td>\n",
       "      <td>3971883</td>\n",
       "      <td>US/Canada</td>\n",
       "      <td>1775</td>\n",
       "      <td>118.70W</td>\n",
       "      <td>34.56N</td>\n",
       "    </tr>\n",
       "    <tr>\n",
       "      <th>3</th>\n",
       "      <td>3</td>\n",
       "      <td>Toronto</td>\n",
       "      <td>Canada</td>\n",
       "      <td>2826498</td>\n",
       "      <td>US/Canada</td>\n",
       "      <td>3140</td>\n",
       "      <td>80.50W</td>\n",
       "      <td>44.20N</td>\n",
       "    </tr>\n",
       "    <tr>\n",
       "      <th>4</th>\n",
       "      <td>4</td>\n",
       "      <td>Chicago</td>\n",
       "      <td>United States</td>\n",
       "      <td>2720546</td>\n",
       "      <td>US/Canada</td>\n",
       "      <td>608</td>\n",
       "      <td>87.27W</td>\n",
       "      <td>42.59N</td>\n",
       "    </tr>\n",
       "    <tr>\n",
       "      <th>...</th>\n",
       "      <td>...</td>\n",
       "      <td>...</td>\n",
       "      <td>...</td>\n",
       "      <td>...</td>\n",
       "      <td>...</td>\n",
       "      <td>...</td>\n",
       "      <td>...</td>\n",
       "      <td>...</td>\n",
       "    </tr>\n",
       "    <tr>\n",
       "      <th>79</th>\n",
       "      <td>87</td>\n",
       "      <td>Tonalá</td>\n",
       "      <td>Mexico</td>\n",
       "      <td>536111</td>\n",
       "      <td>Not US/Canada</td>\n",
       "      <td>3132</td>\n",
       "      <td>104.08W</td>\n",
       "      <td>20.09N</td>\n",
       "    </tr>\n",
       "    <tr>\n",
       "      <th>80</th>\n",
       "      <td>88</td>\n",
       "      <td>Tucson</td>\n",
       "      <td>United States</td>\n",
       "      <td>531641</td>\n",
       "      <td>US/Canada</td>\n",
       "      <td>3171</td>\n",
       "      <td>111.20W</td>\n",
       "      <td>31.35N</td>\n",
       "    </tr>\n",
       "    <tr>\n",
       "      <th>81</th>\n",
       "      <td>89</td>\n",
       "      <td>Cuautitlán Izcalli</td>\n",
       "      <td>Mexico</td>\n",
       "      <td>531041</td>\n",
       "      <td>Not US/Canada</td>\n",
       "      <td>719</td>\n",
       "      <td>98.96W</td>\n",
       "      <td>20.09N</td>\n",
       "    </tr>\n",
       "    <tr>\n",
       "      <th>82</th>\n",
       "      <td>93</td>\n",
       "      <td>Fresno</td>\n",
       "      <td>United States</td>\n",
       "      <td>520052</td>\n",
       "      <td>US/Canada</td>\n",
       "      <td>960</td>\n",
       "      <td>119.34W</td>\n",
       "      <td>36.17N</td>\n",
       "    </tr>\n",
       "    <tr>\n",
       "      <th>83</th>\n",
       "      <td>94</td>\n",
       "      <td>Carrefour</td>\n",
       "      <td>Haiti</td>\n",
       "      <td>501768</td>\n",
       "      <td>Not US/Canada</td>\n",
       "      <td>542</td>\n",
       "      <td>72.68W</td>\n",
       "      <td>18.48N</td>\n",
       "    </tr>\n",
       "  </tbody>\n",
       "</table>\n",
       "<p>84 rows × 8 columns</p>\n",
       "</div>"
      ],
      "text/plain": [
       "    Rank                City        Country  Population   US_or_Canada    Id  \\\n",
       "0      0              Mexico         Mexico     8918653  Not US/Canada  1955   \n",
       "1      1            New York  United States     8550405      US/Canada  2126   \n",
       "2      2         Los Angeles  United States     3971883      US/Canada  1775   \n",
       "3      3             Toronto         Canada     2826498      US/Canada  3140   \n",
       "4      4             Chicago  United States     2720546      US/Canada   608   \n",
       "..   ...                 ...            ...         ...            ...   ...   \n",
       "79    87              Tonalá         Mexico      536111  Not US/Canada  3132   \n",
       "80    88              Tucson  United States      531641      US/Canada  3171   \n",
       "81    89  Cuautitlán Izcalli         Mexico      531041  Not US/Canada   719   \n",
       "82    93              Fresno  United States      520052      US/Canada   960   \n",
       "83    94           Carrefour          Haiti      501768  Not US/Canada   542   \n",
       "\n",
       "   Longitude Latitude  \n",
       "0     98.96W   20.09N  \n",
       "1     74.56W   40.99N  \n",
       "2    118.70W   34.56N  \n",
       "3     80.50W   44.20N  \n",
       "4     87.27W   42.59N  \n",
       "..       ...      ...  \n",
       "79   104.08W   20.09N  \n",
       "80   111.20W   31.35N  \n",
       "81    98.96W   20.09N  \n",
       "82   119.34W   36.17N  \n",
       "83    72.68W   18.48N  \n",
       "\n",
       "[84 rows x 8 columns]"
      ]
     },
     "execution_count": 1,
     "metadata": {},
     "output_type": "execute_result"
    }
   ],
   "source": [
    "df = df.merge(all_cities_df, on=[\"City\", \"Country\"])\n",
    "df"
   ]
  },
  {
   "cell_type": "markdown",
   "id": "5f123906",
   "metadata": {},
   "source": [
    "# Group Exercise B"
   ]
  },
  {
   "cell_type": "markdown",
   "id": "0a41cbc1",
   "metadata": {},
   "source": [
    "## Question 1"
   ]
  },
  {
   "cell_type": "markdown",
   "id": "34ee5d0c",
   "metadata": {},
   "source": [
    "The following are the official abbreviation codes for the cities in our data table."
   ]
  },
  {
   "cell_type": "code",
   "execution_count": 46,
   "id": "249d7efc",
   "metadata": {
    "execution": {
     "iopub.execute_input": "2021-06-10T17:50:58.059629Z",
     "iopub.status.busy": "2021-06-10T17:50:58.059164Z",
     "iopub.status.idle": "2021-06-10T17:50:58.062404Z",
     "shell.execute_reply": "2021-06-10T17:50:58.061955Z"
    }
   },
   "outputs": [],
   "source": [
    "abbrev = {\n",
    "    \"United States\": \"US\",\n",
    "    \"Mexico\" : \"MX\",\n",
    "    \"Canada\" : \"CA\",\n",
    "    \"Haiti\" : \"HAT\",\n",
    "    \"Jamaica\" : \"JM\",\n",
    "    \"Cuba\" : \"CU\",\n",
    "    \"Honduras\" : \"HO\",\n",
    "    \"Nicaragua\" : \"NR\",\n",
    "    \"Dominican Republic\" : \"DR\",\n",
    "    \"Guatemala\" : \"G\",\n",
    "    }"
   ]
  },
  {
   "cell_type": "markdown",
   "id": "70494cc5",
   "metadata": {},
   "source": [
    "Can you add a new column to the table called \"Abbrev\" that lists the abbreviation code for that city?"
   ]
  },
  {
   "cell_type": "code",
   "execution_count": 47,
   "id": "5a33f239",
   "metadata": {
    "execution": {
     "iopub.execute_input": "2021-06-10T17:50:58.066863Z",
     "iopub.status.busy": "2021-06-10T17:50:58.066344Z",
     "iopub.status.idle": "2021-06-10T17:50:58.069610Z",
     "shell.execute_reply": "2021-06-10T17:50:58.069069Z"
    },
    "lines_to_next_cell": 1
   },
   "outputs": [],
   "source": [
    "#📝📝📝📝 FILLME\n",
    "pass"
   ]
  },
  {
   "cell_type": "markdown",
   "id": "6e22db17",
   "metadata": {},
   "source": [
    "## Question 2"
   ]
  },
  {
   "cell_type": "markdown",
   "id": "d64ab63b",
   "metadata": {},
   "source": [
    "Our table has the Latitude and Longitude of all the major North American Cities. "
   ]
  },
  {
   "cell_type": "markdown",
   "id": "4d396696",
   "metadata": {},
   "source": [
    "Can you find out where New York is located? How about Detroit, Las Vegas, and Portland?"
   ]
  },
  {
   "cell_type": "markdown",
   "id": "3811d1b9",
   "metadata": {},
   "source": [
    "## Question 3"
   ]
  },
  {
   "cell_type": "markdown",
   "id": "697c9d19",
   "metadata": {},
   "source": [
    "Currently in the table the latitude and longitude are represented as string types, because they\n",
    "have N / S and E / W in their values. These two functions will fix that issue. "
   ]
  },
  {
   "cell_type": "code",
   "execution_count": 48,
   "id": "e280c175",
   "metadata": {
    "execution": {
     "iopub.execute_input": "2021-06-10T17:50:58.075848Z",
     "iopub.status.busy": "2021-06-10T17:50:58.075331Z",
     "iopub.status.idle": "2021-06-10T17:50:58.079205Z",
     "shell.execute_reply": "2021-06-10T17:50:58.078546Z"
    },
    "lines_to_next_cell": 1
   },
   "outputs": [],
   "source": [
    "def latitude_to_number(latitude_string):\n",
    "    str1 = latitude_string\n",
    "    if str1[-1] == \"N\":\n",
    "        return float(str1[:-1])        \n",
    "    else:\n",
    "        return -float(str1[:-1])    "
   ]
  },
  {
   "cell_type": "code",
   "execution_count": 49,
   "id": "e46f293f",
   "metadata": {
    "execution": {
     "iopub.execute_input": "2021-06-10T17:50:58.085141Z",
     "iopub.status.busy": "2021-06-10T17:50:58.084465Z",
     "iopub.status.idle": "2021-06-10T17:50:58.087975Z",
     "shell.execute_reply": "2021-06-10T17:50:58.088668Z"
    },
    "lines_to_next_cell": 1
   },
   "outputs": [],
   "source": [
    "def longitude_to_number(longitude_string):\n",
    "    str1 = longitude_string.replace(\"W\", \"\")\n",
    "    return -float(str1)"
   ]
  },
  {
   "cell_type": "code",
   "execution_count": 50,
   "id": "a3cf193e",
   "metadata": {
    "execution": {
     "iopub.execute_input": "2021-06-10T17:50:58.095214Z",
     "iopub.status.busy": "2021-06-10T17:50:58.094304Z",
     "iopub.status.idle": "2021-06-10T17:50:58.098789Z",
     "shell.execute_reply": "2021-06-10T17:50:58.097884Z"
    }
   },
   "outputs": [
    {
     "data": {
      "text/plain": [
       "190.0"
      ]
     },
     "execution_count": 1,
     "metadata": {},
     "output_type": "execute_result"
    }
   ],
   "source": [
    "lat = latitude_to_number(\"190N\")\n",
    "lat"
   ]
  },
  {
   "cell_type": "markdown",
   "id": "ac834c6f",
   "metadata": {},
   "source": [
    "Can you use these functions to fix the Latitude and Longitude columns to instead use numeric values?"
   ]
  },
  {
   "cell_type": "code",
   "execution_count": 51,
   "id": "dd1cc432",
   "metadata": {
    "execution": {
     "iopub.execute_input": "2021-06-10T17:50:58.104361Z",
     "iopub.status.busy": "2021-06-10T17:50:58.103477Z",
     "iopub.status.idle": "2021-06-10T17:50:58.107250Z",
     "shell.execute_reply": "2021-06-10T17:50:58.106446Z"
    }
   },
   "outputs": [],
   "source": [
    "#📝📝📝📝 FILLME\n",
    "pass"
   ]
  },
  {
   "cell_type": "markdown",
   "id": "f30a1f32",
   "metadata": {},
   "source": [
    "## Question 4"
   ]
  },
  {
   "cell_type": "markdown",
   "id": "0e367063",
   "metadata": {},
   "source": [
    "After completing question 3 use group by and compute the Latitude of \n",
    "most southern city in each country of the table."
   ]
  },
  {
   "cell_type": "code",
   "execution_count": 52,
   "id": "f2a76e82",
   "metadata": {
    "execution": {
     "iopub.execute_input": "2021-06-10T17:50:58.112919Z",
     "iopub.status.busy": "2021-06-10T17:50:58.112025Z",
     "iopub.status.idle": "2021-06-10T17:50:58.115445Z",
     "shell.execute_reply": "2021-06-10T17:50:58.114472Z"
    }
   },
   "outputs": [],
   "source": [
    "#📝📝📝📝 FILLME\n",
    "pass"
   ]
  },
  {
   "cell_type": "markdown",
   "id": "423b5e8c",
   "metadata": {},
   "source": [
    "# Visualization"
   ]
  },
  {
   "cell_type": "markdown",
   "id": "41518c9b",
   "metadata": {},
   "source": [
    "Next class we will dive deeper into plotting and visualization. But\n",
    "let's finish with a little demo to show off all the tables we created."
   ]
  },
  {
   "cell_type": "markdown",
   "id": "167c411c",
   "metadata": {},
   "source": [
    "First we import some libraries"
   ]
  },
  {
   "cell_type": "code",
   "execution_count": 53,
   "id": "95340c60",
   "metadata": {
    "execution": {
     "iopub.execute_input": "2021-06-10T17:50:58.124111Z",
     "iopub.status.busy": "2021-06-10T17:50:58.123731Z",
     "iopub.status.idle": "2021-06-10T17:50:58.237939Z",
     "shell.execute_reply": "2021-06-10T17:50:58.237060Z"
    }
   },
   "outputs": [],
   "source": [
    "import altair as alt\n",
    "from vega_datasets import data"
   ]
  },
  {
   "cell_type": "code",
   "execution_count": 54,
   "id": "ad70fce8",
   "metadata": {
    "execution": {
     "iopub.execute_input": "2021-06-10T17:50:58.243630Z",
     "iopub.status.busy": "2021-06-10T17:50:58.242691Z",
     "iopub.status.idle": "2021-06-10T17:50:58.244605Z",
     "shell.execute_reply": "2021-06-10T17:50:58.245353Z"
    }
   },
   "outputs": [],
   "source": [
    "states = alt.topo_feature(data.us_10m.url, feature='states')\n",
    "background = alt.Chart(states).mark_geoshape().project('albersUsa')"
   ]
  },
  {
   "cell_type": "markdown",
   "id": "24efddf5",
   "metadata": {},
   "source": [
    "Now we can plot"
   ]
  },
  {
   "cell_type": "code",
   "execution_count": 55,
   "id": "3031542a",
   "metadata": {
    "execution": {
     "iopub.execute_input": "2021-06-10T17:50:58.254760Z",
     "iopub.status.busy": "2021-06-10T17:50:58.253822Z",
     "iopub.status.idle": "2021-06-10T17:50:58.257358Z",
     "shell.execute_reply": "2021-06-10T17:50:58.258116Z"
    }
   },
   "outputs": [
    {
     "data": {
      "text/html": [
       "\n",
       "<div id=\"altair-viz-ac49ee1bd1054ef9ad13c5b45875db3f\"></div>\n",
       "<script type=\"text/javascript\">\n",
       "  (function(spec, embedOpt){\n",
       "    let outputDiv = document.currentScript.previousElementSibling;\n",
       "    if (outputDiv.id !== \"altair-viz-ac49ee1bd1054ef9ad13c5b45875db3f\") {\n",
       "      outputDiv = document.getElementById(\"altair-viz-ac49ee1bd1054ef9ad13c5b45875db3f\");\n",
       "    }\n",
       "    const paths = {\n",
       "      \"vega\": \"https://cdn.jsdelivr.net/npm//vega@5?noext\",\n",
       "      \"vega-lib\": \"https://cdn.jsdelivr.net/npm//vega-lib?noext\",\n",
       "      \"vega-lite\": \"https://cdn.jsdelivr.net/npm//vega-lite@4.8.1?noext\",\n",
       "      \"vega-embed\": \"https://cdn.jsdelivr.net/npm//vega-embed@6?noext\",\n",
       "    };\n",
       "\n",
       "    function loadScript(lib) {\n",
       "      return new Promise(function(resolve, reject) {\n",
       "        var s = document.createElement('script');\n",
       "        s.src = paths[lib];\n",
       "        s.async = true;\n",
       "        s.onload = () => resolve(paths[lib]);\n",
       "        s.onerror = () => reject(`Error loading script: ${paths[lib]}`);\n",
       "        document.getElementsByTagName(\"head\")[0].appendChild(s);\n",
       "      });\n",
       "    }\n",
       "\n",
       "    function showError(err) {\n",
       "      outputDiv.innerHTML = `<div class=\"error\" style=\"color:red;\">${err}</div>`;\n",
       "      throw err;\n",
       "    }\n",
       "\n",
       "    function displayChart(vegaEmbed) {\n",
       "      vegaEmbed(outputDiv, spec, embedOpt)\n",
       "        .catch(err => showError(`Javascript Error: ${err.message}<br>This usually means there's a typo in your chart specification. See the javascript console for the full traceback.`));\n",
       "    }\n",
       "\n",
       "    if(typeof define === \"function\" && define.amd) {\n",
       "      requirejs.config({paths});\n",
       "      require([\"vega-embed\"], displayChart, err => showError(`Error loading script: ${err.message}`));\n",
       "    } else if (typeof vegaEmbed === \"function\") {\n",
       "      displayChart(vegaEmbed);\n",
       "    } else {\n",
       "      loadScript(\"vega\")\n",
       "        .then(() => loadScript(\"vega-lite\"))\n",
       "        .then(() => loadScript(\"vega-embed\"))\n",
       "        .catch(showError)\n",
       "        .then(() => displayChart(vegaEmbed));\n",
       "    }\n",
       "  })({\"config\": {\"view\": {\"continuousWidth\": 400, \"continuousHeight\": 300}}, \"data\": {\"url\": \"https://cdn.jsdelivr.net/npm/vega-datasets@v1.29.0/data/world-110m.json\", \"format\": {\"feature\": \"countries\", \"type\": \"topojson\"}}, \"mark\": {\"type\": \"geoshape\", \"fill\": \"lightgray\", \"stroke\": \"white\"}, \"height\": 300, \"projection\": {\"rotate\": [95, -42, 0], \"type\": \"orthographic\"}, \"width\": 500, \"$schema\": \"https://vega.github.io/schema/vega-lite/v4.8.1.json\"}, {\"mode\": \"vega-lite\"});\n",
       "</script>"
      ],
      "text/plain": [
       "alt.Chart(...)"
      ]
     },
     "execution_count": 1,
     "metadata": {},
     "output_type": "execute_result"
    }
   ],
   "source": [
    "states = alt.topo_feature(data.world_110m.url, feature='countries')\n",
    "chart = alt.Chart(states).mark_geoshape(\n",
    "        fill='lightgray',\n",
    "        stroke='white'\n",
    "    ).properties(\n",
    "        width=500,\n",
    "        height=300\n",
    "    ).project('orthographic', rotate= [95, -42, 0])\n",
    "if False:\n",
    "    points = alt.Chart(df).mark_circle().encode(\n",
    "        longitude='Longitude',\n",
    "        latitude='Latitude',\n",
    "        size=\"Population\",\n",
    "        tooltip=['City','Population']\n",
    "    )\n",
    "    chart += points\n",
    "chart"
   ]
  }
 ],
 "metadata": {
  "jupytext": {
   "cell_metadata_filter": "-all"
  },
  "kernelspec": {
   "display_name": "myenv",
   "language": "python",
   "name": "myenv"
  },
  "language_info": {
   "codemirror_mode": {
    "name": "ipython",
    "version": 3
   },
   "file_extension": ".py",
   "mimetype": "text/x-python",
   "name": "python",
   "nbconvert_exporter": "python",
   "pygments_lexer": "ipython3",
   "version": "3.8.5"
  }
 },
 "nbformat": 4,
 "nbformat_minor": 5
}
