{
 "cells": [
  {
   "cell_type": "markdown",
   "id": "8afdf309",
   "metadata": {},
   "source": [
    "# Module 2 - Working with Data"
   ]
  },
  {
   "cell_type": "code",
   "execution_count": 1,
   "id": "b8c5f262",
   "metadata": {
    "execution": {
     "iopub.execute_input": "2021-04-19T17:58:29.864250Z",
     "iopub.status.busy": "2021-04-19T17:58:29.863100Z",
     "iopub.status.idle": "2021-04-19T17:58:30.045388Z",
     "shell.execute_reply": "2021-04-19T17:58:30.044975Z"
    }
   },
   "outputs": [],
   "source": [
    "import pandas as pd"
   ]
  },
  {
   "cell_type": "code",
   "execution_count": null,
   "id": "3e782c8c",
   "metadata": {
    "lines_to_next_cell": 2
   },
   "outputs": [],
   "source": []
  },
  {
   "cell_type": "markdown",
   "id": "2a3b26b9",
   "metadata": {
    "lines_to_next_cell": 2
   },
   "source": [
    "## Goal: Understand our climate data \n",
    "## Steps\n",
    "* Load files \n",
    "* "
   ]
  },
  {
   "cell_type": "markdown",
   "id": "9197cda8",
   "metadata": {},
   "source": [
    "## Building Dataframes "
   ]
  },
  {
   "cell_type": "markdown",
   "id": "ed18e233",
   "metadata": {},
   "source": [
    "## Loading Data from Files"
   ]
  },
  {
   "cell_type": "markdown",
   "id": "45898828",
   "metadata": {},
   "source": [
    "## Filtering Dataframes"
   ]
  },
  {
   "cell_type": "markdown",
   "id": "57085032",
   "metadata": {},
   "source": [
    "## Datatypes "
   ]
  },
  {
   "cell_type": "markdown",
   "id": "3e7ee704",
   "metadata": {},
   "source": [
    "## Writing Data to Files"
   ]
  }
 ],
 "metadata": {
  "jupytext": {
   "cell_metadata_filter": "-all"
  },
  "kernelspec": {
   "display_name": "myenv",
   "language": "python",
   "name": "myenv"
  },
  "language_info": {
   "codemirror_mode": {
    "name": "ipython",
    "version": 3
   },
   "file_extension": ".py",
   "mimetype": "text/x-python",
   "name": "python",
   "nbconvert_exporter": "python",
   "pygments_lexer": "ipython3",
   "version": "3.8.5"
  }
 },
 "nbformat": 4,
 "nbformat_minor": 5
}
