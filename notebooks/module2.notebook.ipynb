{
 "cells": [
  {
   "cell_type": "markdown",
   "id": "3db199e8",
   "metadata": {},
   "source": [
    "# Module 2 - Working with Data"
   ]
  },
  {
   "cell_type": "code",
   "execution_count": 1,
   "id": "d481e921",
   "metadata": {
    "execution": {
     "iopub.execute_input": "2021-04-19T17:52:03.170296Z",
     "iopub.status.busy": "2021-04-19T17:52:03.169121Z",
     "iopub.status.idle": "2021-04-19T17:52:03.337366Z",
     "shell.execute_reply": "2021-04-19T17:52:03.336449Z"
    }
   },
   "outputs": [],
   "source": [
    "import pandas as pd"
   ]
  }
 ],
 "metadata": {
  "jupytext": {
   "cell_metadata_filter": "-all"
  },
  "kernelspec": {
   "display_name": "myenv",
   "language": "python",
   "name": "myenv"
  },
  "language_info": {
   "codemirror_mode": {
    "name": "ipython",
    "version": 3
   },
   "file_extension": ".py",
   "mimetype": "text/x-python",
   "name": "python",
   "nbconvert_exporter": "python",
   "pygments_lexer": "ipython3",
   "version": "3.8.5"
  }
 },
 "nbformat": 4,
 "nbformat_minor": 5
}
