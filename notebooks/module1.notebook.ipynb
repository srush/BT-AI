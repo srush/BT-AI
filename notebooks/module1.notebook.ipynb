{
 "cells": [
  {
   "cell_type": "markdown",
   "id": "558e3c34",
   "metadata": {},
   "source": [
    "# Lab 1 - Python Basics"
   ]
  },
  {
   "cell_type": "markdown",
   "id": "3cd8cba0",
   "metadata": {
    "lines_to_next_cell": 2
   },
   "source": [
    "The goal of this weeks lab is to work through the basics of python\n",
    "with a focus on the aspects that are important for datascience and\n",
    "machine learning."
   ]
  },
  {
   "cell_type": "markdown",
   "id": "9e033ad6",
   "metadata": {},
   "source": [
    "![python](https://upload.wikimedia.org/wikipedia/commons/c/c3/Python-logo-notext.svg)"
   ]
  },
  {
   "cell_type": "markdown",
   "id": "03631b8b",
   "metadata": {},
   "source": [
    "Python is pretty much the standard programming language for AI and\n",
    "machine learning these days. It is widely used in companies like Google\n",
    "or Netflix for their AI systems. It is also what is used in research\n",
    "and most non-profit organizations. This is lucky because it also\n",
    "one of the most fun programming languages!"
   ]
  },
  {
   "cell_type": "markdown",
   "id": "3eb43772",
   "metadata": {
    "lines_to_next_cell": 2
   },
   "source": [
    "This week we will walkthrough the basics of Python and notebooks."
   ]
  },
  {
   "cell_type": "markdown",
   "id": "b1e3a473",
   "metadata": {},
   "source": [
    "* **Unit A**: Types and Documentation\n",
    "* **Unit B**: String and Functions"
   ]
  },
  {
   "cell_type": "markdown",
   "id": "28c27fce",
   "metadata": {},
   "source": [
    "# Unit A"
   ]
  },
  {
   "cell_type": "markdown",
   "id": "7d27c082",
   "metadata": {},
   "source": [
    "## Working with types"
   ]
  },
  {
   "cell_type": "markdown",
   "id": "e19a15af",
   "metadata": {},
   "source": [
    "This summer we will be working with lots of different types of\n",
    "data. Sometimes that data wilil be numerical such as a temperature:"
   ]
  },
  {
   "cell_type": "code",
   "execution_count": 1,
   "id": "a6632d81",
   "metadata": {
    "execution": {
     "iopub.execute_input": "2021-06-07T00:19:31.408127Z",
     "iopub.status.busy": "2021-06-07T00:19:31.393574Z",
     "iopub.status.idle": "2021-06-07T00:19:31.413135Z",
     "shell.execute_reply": "2021-06-07T00:19:31.412082Z"
    }
   },
   "outputs": [
    {
     "data": {
      "text/plain": [
       "98.7"
      ]
     },
     "execution_count": 1,
     "metadata": {},
     "output_type": "execute_result"
    }
   ],
   "source": [
    "98.7"
   ]
  },
  {
   "cell_type": "markdown",
   "id": "eb263f89",
   "metadata": {},
   "source": [
    "Other times it will be a text string such as a name:"
   ]
  },
  {
   "cell_type": "code",
   "execution_count": 2,
   "id": "02a0c10b",
   "metadata": {
    "execution": {
     "iopub.execute_input": "2021-06-07T00:19:31.419249Z",
     "iopub.status.busy": "2021-06-07T00:19:31.418371Z",
     "iopub.status.idle": "2021-06-07T00:19:31.422696Z",
     "shell.execute_reply": "2021-06-07T00:19:31.421964Z"
    }
   },
   "outputs": [
    {
     "data": {
      "text/plain": [
       "'New York City'"
      ]
     },
     "execution_count": 1,
     "metadata": {},
     "output_type": "execute_result"
    }
   ],
   "source": [
    "\"New York City\""
   ]
  },
  {
   "cell_type": "markdown",
   "id": "2b9191cb",
   "metadata": {},
   "source": [
    "More advanced cases will have lists of elements such as many names:"
   ]
  },
  {
   "cell_type": "code",
   "execution_count": 3,
   "id": "3ab38dd8",
   "metadata": {
    "execution": {
     "iopub.execute_input": "2021-06-07T00:19:31.429126Z",
     "iopub.status.busy": "2021-06-07T00:19:31.428276Z",
     "iopub.status.idle": "2021-06-07T00:19:31.432759Z",
     "shell.execute_reply": "2021-06-07T00:19:31.431905Z"
    }
   },
   "outputs": [
    {
     "data": {
      "text/plain": [
       "['Queens', 'Brooklyn', 'Manhattan', 'Staten Island', 'The Bronx']"
      ]
     },
     "execution_count": 1,
     "metadata": {},
     "output_type": "execute_result"
    }
   ],
   "source": [
    "[\"Queens\", \"Brooklyn\", \"Manhattan\", \"Staten Island\", \"The Bronx\"]"
   ]
  },
  {
   "cell_type": "code",
   "execution_count": null,
   "id": "c870942d",
   "metadata": {},
   "outputs": [],
   "source": []
  },
  {
   "cell_type": "markdown",
   "id": "fb1c8216",
   "metadata": {},
   "source": [
    "![NYC](data:image/jpeg;base64,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)"
   ]
  },
  {
   "cell_type": "markdown",
   "id": "5c554646",
   "metadata": {
    "lines_to_next_cell": 2
   },
   "source": [
    "Python has many different types like this. Knowing the type of your\n",
    "data is the first step."
   ]
  },
  {
   "cell_type": "markdown",
   "id": "3387d124",
   "metadata": {},
   "source": [
    "Let's look at some examples"
   ]
  },
  {
   "cell_type": "code",
   "execution_count": null,
   "id": "2433aa09",
   "metadata": {},
   "outputs": [],
   "source": []
  },
  {
   "cell_type": "markdown",
   "id": "21d7809b",
   "metadata": {},
   "source": [
    "### Numbers"
   ]
  },
  {
   "cell_type": "markdown",
   "id": "ea3a561b",
   "metadata": {},
   "source": [
    "Numbers are the simplest type we will work with. Simply make a\n",
    "variable name and assign a number value."
   ]
  },
  {
   "cell_type": "code",
   "execution_count": 4,
   "id": "31a7a37f",
   "metadata": {
    "execution": {
     "iopub.execute_input": "2021-06-07T00:19:31.438800Z",
     "iopub.status.busy": "2021-06-07T00:19:31.437958Z",
     "iopub.status.idle": "2021-06-07T00:19:31.442219Z",
     "shell.execute_reply": "2021-06-07T00:19:31.441199Z"
    },
    "lines_to_next_cell": 2
   },
   "outputs": [],
   "source": [
    "my_number_variable = 80"
   ]
  },
  {
   "cell_type": "code",
   "execution_count": 5,
   "id": "adcb37c1",
   "metadata": {
    "execution": {
     "iopub.execute_input": "2021-06-07T00:19:31.448129Z",
     "iopub.status.busy": "2021-06-07T00:19:31.447162Z",
     "iopub.status.idle": "2021-06-07T00:19:31.450578Z",
     "shell.execute_reply": "2021-06-07T00:19:31.451839Z"
    }
   },
   "outputs": [
    {
     "data": {
      "text/plain": [
       "80"
      ]
     },
     "execution_count": 1,
     "metadata": {},
     "output_type": "execute_result"
    }
   ],
   "source": [
    "my_number_variable"
   ]
  },
  {
   "cell_type": "markdown",
   "id": "9d794828",
   "metadata": {},
   "source": [
    "Here are two more."
   ]
  },
  {
   "cell_type": "code",
   "execution_count": 6,
   "id": "7242e64c",
   "metadata": {
    "execution": {
     "iopub.execute_input": "2021-06-07T00:19:31.457887Z",
     "iopub.status.busy": "2021-06-07T00:19:31.456904Z",
     "iopub.status.idle": "2021-06-07T00:19:31.460454Z",
     "shell.execute_reply": "2021-06-07T00:19:31.459532Z"
    }
   },
   "outputs": [],
   "source": [
    "number1 = 10.5\n",
    "number2 = 20"
   ]
  },
  {
   "cell_type": "markdown",
   "id": "9e8fe977",
   "metadata": {},
   "source": [
    "Note: if you have learned a different programming language, such as\n",
    "Java, you might remember having to declare the type of a variables like"
   ]
  },
  {
   "cell_type": "markdown",
   "id": "c630920f",
   "metadata": {},
   "source": [
    "```java\n",
    "int number1 = 10\n",
    "```"
   ]
  },
  {
   "cell_type": "markdown",
   "id": "bbd8f9d6",
   "metadata": {
    "lines_to_next_cell": 2
   },
   "source": [
    "You don't have to do that in Python. The type is still there, but it is\n",
    "added automatically."
   ]
  },
  {
   "cell_type": "markdown",
   "id": "a08203db",
   "metadata": {},
   "source": [
    "You can add two numbers together to make a"
   ]
  },
  {
   "cell_type": "code",
   "execution_count": 7,
   "id": "3885df1f",
   "metadata": {
    "execution": {
     "iopub.execute_input": "2021-06-07T00:19:31.466624Z",
     "iopub.status.busy": "2021-06-07T00:19:31.465737Z",
     "iopub.status.idle": "2021-06-07T00:19:31.469641Z",
     "shell.execute_reply": "2021-06-07T00:19:31.468823Z"
    },
    "lines_to_next_cell": 2
   },
   "outputs": [],
   "source": [
    "number3 = number1 + number2"
   ]
  },
  {
   "cell_type": "markdown",
   "id": "20afc191",
   "metadata": {},
   "source": [
    "**👩‍🎓Student Question: What value does ```number3``` have?**"
   ]
  },
  {
   "cell_type": "code",
   "execution_count": 8,
   "id": "e0574954",
   "metadata": {
    "execution": {
     "iopub.execute_input": "2021-06-07T00:19:31.475527Z",
     "iopub.status.busy": "2021-06-07T00:19:31.474590Z",
     "iopub.status.idle": "2021-06-07T00:19:31.477765Z",
     "shell.execute_reply": "2021-06-07T00:19:31.476977Z"
    }
   },
   "outputs": [],
   "source": [
    "#📝📝📝📝\n",
    "pass"
   ]
  },
  {
   "cell_type": "markdown",
   "id": "119c2319",
   "metadata": {},
   "source": [
    "### Strings"
   ]
  },
  {
   "cell_type": "markdown",
   "id": "9115af18",
   "metadata": {},
   "source": [
    "Strings are very easy to use in python. You can\n",
    "just use quotes to create them."
   ]
  },
  {
   "cell_type": "code",
   "execution_count": 9,
   "id": "57ea808b",
   "metadata": {
    "execution": {
     "iopub.execute_input": "2021-06-07T00:19:31.483544Z",
     "iopub.status.busy": "2021-06-07T00:19:31.482619Z",
     "iopub.status.idle": "2021-06-07T00:19:31.486036Z",
     "shell.execute_reply": "2021-06-07T00:19:31.485113Z"
    },
    "lines_to_next_cell": 2
   },
   "outputs": [],
   "source": [
    "string1 = \"New York \"\n",
    "string2 = \"City\""
   ]
  },
  {
   "cell_type": "markdown",
   "id": "7a6ce0da",
   "metadata": {},
   "source": [
    "To combine two strings you simply add them together."
   ]
  },
  {
   "cell_type": "code",
   "execution_count": 10,
   "id": "83a676a9",
   "metadata": {
    "execution": {
     "iopub.execute_input": "2021-06-07T00:19:31.491980Z",
     "iopub.status.busy": "2021-06-07T00:19:31.491131Z",
     "iopub.status.idle": "2021-06-07T00:19:31.493463Z",
     "shell.execute_reply": "2021-06-07T00:19:31.494149Z"
    },
    "lines_to_next_cell": 2
   },
   "outputs": [],
   "source": [
    "string3 = string1 + string2"
   ]
  },
  {
   "cell_type": "markdown",
   "id": "54e727bf",
   "metadata": {},
   "source": [
    "**👩‍🎓Student Question: What value does ```string3``` have?**"
   ]
  },
  {
   "cell_type": "code",
   "execution_count": 11,
   "id": "34729cbe",
   "metadata": {
    "execution": {
     "iopub.execute_input": "2021-06-07T00:19:31.499766Z",
     "iopub.status.busy": "2021-06-07T00:19:31.498809Z",
     "iopub.status.idle": "2021-06-07T00:19:31.502067Z",
     "shell.execute_reply": "2021-06-07T00:19:31.501166Z"
    }
   },
   "outputs": [],
   "source": [
    "#📝📝📝📝\n",
    "pass"
   ]
  },
  {
   "cell_type": "code",
   "execution_count": null,
   "id": "fde3974d",
   "metadata": {},
   "outputs": [],
   "source": []
  },
  {
   "cell_type": "markdown",
   "id": "98d63878",
   "metadata": {},
   "source": [
    "### Lists"
   ]
  },
  {
   "cell_type": "markdown",
   "id": "35d6d47e",
   "metadata": {
    "lines_to_next_cell": 2
   },
   "source": [
    "Python has a simple type for multiple values called a list."
   ]
  },
  {
   "cell_type": "code",
   "execution_count": 12,
   "id": "5ff5be4e",
   "metadata": {
    "execution": {
     "iopub.execute_input": "2021-06-07T00:19:31.508719Z",
     "iopub.status.busy": "2021-06-07T00:19:31.507819Z",
     "iopub.status.idle": "2021-06-07T00:19:31.511636Z",
     "shell.execute_reply": "2021-06-07T00:19:31.510838Z"
    }
   },
   "outputs": [],
   "source": [
    "list1 = [1, 2, 3]\n",
    "list2 = [4, 5]"
   ]
  },
  {
   "cell_type": "code",
   "execution_count": null,
   "id": "8fd92bc9",
   "metadata": {
    "lines_to_next_cell": 2
   },
   "outputs": [],
   "source": []
  },
  {
   "cell_type": "markdown",
   "id": "dfe40bd3",
   "metadata": {},
   "source": [
    "Note: if you have learned a different programming language, such as\n",
    "Java, you might remember arrays. Python lists are like arrays but\n",
    "way easier. You don't need to declare their size or type. Just make\n",
    "them."
   ]
  },
  {
   "cell_type": "code",
   "execution_count": null,
   "id": "eb097d5d",
   "metadata": {},
   "outputs": [],
   "source": []
  },
  {
   "cell_type": "markdown",
   "id": "1636b5cd",
   "metadata": {},
   "source": [
    "Adding two lists together creates a new list combining the two."
   ]
  },
  {
   "cell_type": "code",
   "execution_count": 13,
   "id": "d04f4550",
   "metadata": {
    "execution": {
     "iopub.execute_input": "2021-06-07T00:19:31.517564Z",
     "iopub.status.busy": "2021-06-07T00:19:31.516665Z",
     "iopub.status.idle": "2021-06-07T00:19:31.520603Z",
     "shell.execute_reply": "2021-06-07T00:19:31.519785Z"
    },
    "lines_to_next_cell": 2
   },
   "outputs": [],
   "source": [
    "list3 = list1 + list2"
   ]
  },
  {
   "cell_type": "markdown",
   "id": "14031b5b",
   "metadata": {},
   "source": [
    "**👩‍🎓Student Question: What value does ```list3``` have?**"
   ]
  },
  {
   "cell_type": "code",
   "execution_count": 14,
   "id": "b888f0e1",
   "metadata": {
    "execution": {
     "iopub.execute_input": "2021-06-07T00:19:31.526486Z",
     "iopub.status.busy": "2021-06-07T00:19:31.525581Z",
     "iopub.status.idle": "2021-06-07T00:19:31.528881Z",
     "shell.execute_reply": "2021-06-07T00:19:31.528077Z"
    }
   },
   "outputs": [],
   "source": [
    "#📝📝📝📝\n",
    "pass"
   ]
  },
  {
   "cell_type": "code",
   "execution_count": null,
   "id": "30773557",
   "metadata": {},
   "outputs": [],
   "source": []
  },
  {
   "cell_type": "code",
   "execution_count": null,
   "id": "c81c532f",
   "metadata": {},
   "outputs": [],
   "source": []
  },
  {
   "cell_type": "markdown",
   "id": "45ae824b",
   "metadata": {
    "lines_to_next_cell": 2
   },
   "source": [
    "## Dictionaries"
   ]
  },
  {
   "cell_type": "markdown",
   "id": "06120e81",
   "metadata": {},
   "source": [
    "A dictionary type is used to link a \"key\" to a \"value\".\n",
    "You can have as many keys and values as you want, and they can\n",
    "be of most of the types that we have seen so far."
   ]
  },
  {
   "cell_type": "code",
   "execution_count": 15,
   "id": "b7e3c70b",
   "metadata": {
    "execution": {
     "iopub.execute_input": "2021-06-07T00:19:31.535929Z",
     "iopub.status.busy": "2021-06-07T00:19:31.535010Z",
     "iopub.status.idle": "2021-06-07T00:19:31.538612Z",
     "shell.execute_reply": "2021-06-07T00:19:31.539367Z"
    },
    "lines_to_next_cell": 2
   },
   "outputs": [
    {
     "data": {
      "text/plain": [
       "{'apple': 'red', 'banana': 'yellow'}"
      ]
     },
     "execution_count": 1,
     "metadata": {},
     "output_type": "execute_result"
    }
   ],
   "source": [
    "dict1 = {\"apple\": \"red\",\n",
    "         \"banana\": \"yellow\"}\n",
    "dict1"
   ]
  },
  {
   "cell_type": "markdown",
   "id": "928372fe",
   "metadata": {},
   "source": [
    "To access a value of the dictionary, you use the square bracket notation\n",
    "with the key that you want to access."
   ]
  },
  {
   "cell_type": "code",
   "execution_count": 16,
   "id": "125339d4",
   "metadata": {
    "execution": {
     "iopub.execute_input": "2021-06-07T00:19:31.545795Z",
     "iopub.status.busy": "2021-06-07T00:19:31.544895Z",
     "iopub.status.idle": "2021-06-07T00:19:31.549354Z",
     "shell.execute_reply": "2021-06-07T00:19:31.548542Z"
    },
    "lines_to_next_cell": 2
   },
   "outputs": [
    {
     "data": {
      "text/plain": [
       "'red'"
      ]
     },
     "execution_count": 1,
     "metadata": {},
     "output_type": "execute_result"
    }
   ],
   "source": [
    "dict1[\"apple\"]"
   ]
  },
  {
   "cell_type": "code",
   "execution_count": 17,
   "id": "9f974bb3",
   "metadata": {
    "execution": {
     "iopub.execute_input": "2021-06-07T00:19:31.555718Z",
     "iopub.status.busy": "2021-06-07T00:19:31.554766Z",
     "iopub.status.idle": "2021-06-07T00:19:31.558244Z",
     "shell.execute_reply": "2021-06-07T00:19:31.558970Z"
    }
   },
   "outputs": [
    {
     "data": {
      "text/plain": [
       "'yellow'"
      ]
     },
     "execution_count": 1,
     "metadata": {},
     "output_type": "execute_result"
    }
   ],
   "source": [
    "dict1[\"banana\"]"
   ]
  },
  {
   "cell_type": "markdown",
   "id": "70128d9a",
   "metadata": {},
   "source": [
    "You can also add a new key to the dictionary by setting its value."
   ]
  },
  {
   "cell_type": "code",
   "execution_count": 18,
   "id": "a4e442d1",
   "metadata": {
    "execution": {
     "iopub.execute_input": "2021-06-07T00:19:31.564717Z",
     "iopub.status.busy": "2021-06-07T00:19:31.563882Z",
     "iopub.status.idle": "2021-06-07T00:19:31.567634Z",
     "shell.execute_reply": "2021-06-07T00:19:31.566899Z"
    },
    "lines_to_next_cell": 2
   },
   "outputs": [],
   "source": [
    "dict1[\"pear\"] = \"green\""
   ]
  },
  {
   "cell_type": "markdown",
   "id": "f8b3a01a",
   "metadata": {},
   "source": [
    "**👩‍🎓Student Question: What value does ```dict1``` have?**"
   ]
  },
  {
   "cell_type": "code",
   "execution_count": 19,
   "id": "cdf04f84",
   "metadata": {
    "execution": {
     "iopub.execute_input": "2021-06-07T00:19:31.573455Z",
     "iopub.status.busy": "2021-06-07T00:19:31.572482Z",
     "iopub.status.idle": "2021-06-07T00:19:31.575846Z",
     "shell.execute_reply": "2021-06-07T00:19:31.574964Z"
    }
   },
   "outputs": [],
   "source": [
    "#📝📝📝📝 FILLME\n",
    "pass"
   ]
  },
  {
   "cell_type": "code",
   "execution_count": null,
   "id": "bbb4eba4",
   "metadata": {},
   "outputs": [],
   "source": []
  },
  {
   "cell_type": "markdown",
   "id": "aa85ffb2",
   "metadata": {},
   "source": [
    "## Importing and Reading Docs"
   ]
  },
  {
   "cell_type": "markdown",
   "id": "aee2367a",
   "metadata": {
    "lines_to_next_cell": 2
   },
   "source": [
    "Numbers, strings, and lists. These are the most common types of data\n",
    "that we will use throughout the summer. Every programmer should know\n",
    "these basic types."
   ]
  },
  {
   "cell_type": "markdown",
   "id": "936b46c9",
   "metadata": {
    "lines_to_next_cell": 2
   },
   "source": [
    "However to be a really good, it is important to be able to use types\n",
    "that you don't yet know. Most of the time the problem that you are\n",
    "interested will have a type that is already made by someone else."
   ]
  },
  {
   "cell_type": "markdown",
   "id": "25511570",
   "metadata": {},
   "source": [
    "For instance, let's say we want a type for a date. We could try to write our own."
   ]
  },
  {
   "cell_type": "code",
   "execution_count": 20,
   "id": "671bd2c0",
   "metadata": {
    "execution": {
     "iopub.execute_input": "2021-06-07T00:19:31.582487Z",
     "iopub.status.busy": "2021-06-07T00:19:31.581511Z",
     "iopub.status.idle": "2021-06-07T00:19:31.584738Z",
     "shell.execute_reply": "2021-06-07T00:19:31.583768Z"
    }
   },
   "outputs": [],
   "source": [
    "day = 8\n",
    "month = \"June\"\n",
    "year = 2021"
   ]
  },
  {
   "cell_type": "markdown",
   "id": "ece636ca",
   "metadata": {},
   "source": [
    "But there are so many things we would need to add! How do we represent weeks?\n",
    "Leap years? How do we count number of days?"
   ]
  },
  {
   "cell_type": "markdown",
   "id": "c38b8073",
   "metadata": {},
   "source": [
    "So instead let us use a package. To use a package first we `import` it."
   ]
  },
  {
   "cell_type": "code",
   "execution_count": 21,
   "id": "e949cf04",
   "metadata": {
    "execution": {
     "iopub.execute_input": "2021-06-07T00:19:31.591086Z",
     "iopub.status.busy": "2021-06-07T00:19:31.590057Z",
     "iopub.status.idle": "2021-06-07T00:19:31.593294Z",
     "shell.execute_reply": "2021-06-07T00:19:31.592309Z"
    }
   },
   "outputs": [],
   "source": [
    "import datetime"
   ]
  },
  {
   "cell_type": "markdown",
   "id": "cb8dceb3",
   "metadata": {},
   "source": [
    "Then we use `.` notation to use the package. This gives us a date variable for the current day."
   ]
  },
  {
   "cell_type": "code",
   "execution_count": 22,
   "id": "447a95aa",
   "metadata": {
    "execution": {
     "iopub.execute_input": "2021-06-07T00:19:31.600420Z",
     "iopub.status.busy": "2021-06-07T00:19:31.599429Z",
     "iopub.status.idle": "2021-06-07T00:19:31.602859Z",
     "shell.execute_reply": "2021-06-07T00:19:31.603671Z"
    },
    "lines_to_next_cell": 2
   },
   "outputs": [
    {
     "data": {
      "text/plain": [
       "datetime.datetime(2021, 6, 6, 20, 19, 31, 597080)"
      ]
     },
     "execution_count": 1,
     "metadata": {},
     "output_type": "execute_result"
    }
   ],
   "source": [
    "date1 = datetime.datetime.now()\n",
    "date1"
   ]
  },
  {
   "cell_type": "markdown",
   "id": "b91f020c",
   "metadata": {
    "lines_to_next_cell": 2
   },
   "source": [
    "How did I know how to do this?"
   ]
  },
  {
   "cell_type": "markdown",
   "id": "88ab42c3",
   "metadata": {},
   "source": [
    "Honestly, I had no idea. I completly forgot how this worked so I did this."
   ]
  },
  {
   "cell_type": "markdown",
   "id": "9938f22f",
   "metadata": {},
   "source": [
    "\n",
    "1. Google'd \"how do i get the current time in python\"\n",
    "2. Clicked the link we get back here https://stackoverflow.com/questions/415511/how-to-get-the-current-time-in-python\n",
    "\n",
    "This is one of the most important skills to learn Python :)"
   ]
  },
  {
   "cell_type": "code",
   "execution_count": null,
   "id": "dd578596",
   "metadata": {
    "lines_to_next_cell": 2
   },
   "outputs": [],
   "source": []
  },
  {
   "cell_type": "markdown",
   "id": "49c4fb7a",
   "metadata": {},
   "source": [
    "The format of the output of the line above is telling use the we can\n",
    "access the day and month of the current date in the following\n",
    "manner."
   ]
  },
  {
   "cell_type": "code",
   "execution_count": 23,
   "id": "dedea8df",
   "metadata": {
    "execution": {
     "iopub.execute_input": "2021-06-07T00:19:31.610193Z",
     "iopub.status.busy": "2021-06-07T00:19:31.609257Z",
     "iopub.status.idle": "2021-06-07T00:19:31.613381Z",
     "shell.execute_reply": "2021-06-07T00:19:31.612473Z"
    }
   },
   "outputs": [
    {
     "data": {
      "text/plain": [
       "6"
      ]
     },
     "execution_count": 1,
     "metadata": {},
     "output_type": "execute_result"
    }
   ],
   "source": [
    "date1.day"
   ]
  },
  {
   "cell_type": "code",
   "execution_count": 24,
   "id": "cd764a11",
   "metadata": {
    "execution": {
     "iopub.execute_input": "2021-06-07T00:19:31.619473Z",
     "iopub.status.busy": "2021-06-07T00:19:31.618544Z",
     "iopub.status.idle": "2021-06-07T00:19:31.621878Z",
     "shell.execute_reply": "2021-06-07T00:19:31.622563Z"
    }
   },
   "outputs": [
    {
     "data": {
      "text/plain": [
       "6"
      ]
     },
     "execution_count": 1,
     "metadata": {},
     "output_type": "execute_result"
    }
   ],
   "source": [
    "date1.month"
   ]
  },
  {
   "cell_type": "markdown",
   "id": "04d0a3e4",
   "metadata": {},
   "source": [
    "**👩‍🎓Student Question: Can you print the current value of the year**"
   ]
  },
  {
   "cell_type": "code",
   "execution_count": 25,
   "id": "c80a667b",
   "metadata": {
    "execution": {
     "iopub.execute_input": "2021-06-07T00:19:31.627948Z",
     "iopub.status.busy": "2021-06-07T00:19:31.627111Z",
     "iopub.status.idle": "2021-06-07T00:19:31.630101Z",
     "shell.execute_reply": "2021-06-07T00:19:31.629263Z"
    },
    "lines_to_next_cell": 2
   },
   "outputs": [],
   "source": [
    "#📝📝📝📝 FILLME\n",
    "pass"
   ]
  },
  {
   "cell_type": "markdown",
   "id": "fa079f50",
   "metadata": {},
   "source": [
    "# Group Exercise A"
   ]
  },
  {
   "cell_type": "markdown",
   "id": "2fcfd504",
   "metadata": {},
   "source": [
    "## Question 1"
   ]
  },
  {
   "cell_type": "markdown",
   "id": "b2744929",
   "metadata": {},
   "source": [
    "We saw that when we had a date type that it gave use the month as a number."
   ]
  },
  {
   "cell_type": "code",
   "execution_count": 26,
   "id": "447856b2",
   "metadata": {
    "execution": {
     "iopub.execute_input": "2021-06-07T00:19:31.635627Z",
     "iopub.status.busy": "2021-06-07T00:19:31.634858Z",
     "iopub.status.idle": "2021-06-07T00:19:31.638339Z",
     "shell.execute_reply": "2021-06-07T00:19:31.638916Z"
    }
   },
   "outputs": [
    {
     "data": {
      "text/plain": [
       "6"
      ]
     },
     "execution_count": 1,
     "metadata": {},
     "output_type": "execute_result"
    }
   ],
   "source": [
    "date1.month"
   ]
  },
  {
   "cell_type": "markdown",
   "id": "6671651f",
   "metadata": {
    "lines_to_next_cell": 2
   },
   "source": [
    "If we want to turn the months into more standard names we can\n",
    "do so by making a dictionary."
   ]
  },
  {
   "cell_type": "markdown",
   "id": "4825a9e0",
   "metadata": {
    "lines_to_next_cell": 2
   },
   "source": [
    "📝📝📝📝 FILLME\n",
    "months = {\n",
    "   1 : \"Jan\",\n",
    "   ...\n",
    "}"
   ]
  },
  {
   "cell_type": "markdown",
   "id": "00031b99",
   "metadata": {},
   "source": [
    "User your dictionary to convert the current month to a month name."
   ]
  },
  {
   "cell_type": "code",
   "execution_count": 27,
   "id": "948d141e",
   "metadata": {
    "execution": {
     "iopub.execute_input": "2021-06-07T00:19:31.643951Z",
     "iopub.status.busy": "2021-06-07T00:19:31.643232Z",
     "iopub.status.idle": "2021-06-07T00:19:31.646298Z",
     "shell.execute_reply": "2021-06-07T00:19:31.645705Z"
    }
   },
   "outputs": [],
   "source": [
    "#📝📝📝📝 FILLME\n",
    "pass"
   ]
  },
  {
   "cell_type": "markdown",
   "id": "ffbc3180",
   "metadata": {},
   "source": [
    "## Question 2"
   ]
  },
  {
   "cell_type": "markdown",
   "id": "237d65f5",
   "metadata": {},
   "source": [
    "One common data operations is to `count` unique items. For instance\n",
    "if we are voting we may have a list of votes from each person voting for\n",
    "candidate A, B, or C"
   ]
  },
  {
   "cell_type": "code",
   "execution_count": 28,
   "id": "aef5ca05",
   "metadata": {
    "execution": {
     "iopub.execute_input": "2021-06-07T00:19:31.652102Z",
     "iopub.status.busy": "2021-06-07T00:19:31.651197Z",
     "iopub.status.idle": "2021-06-07T00:19:31.655054Z",
     "shell.execute_reply": "2021-06-07T00:19:31.654105Z"
    }
   },
   "outputs": [],
   "source": [
    "votes = [\"A\", \"B\", \"A\", \"A\", \"C\", \"C\", \"B\", \"A\", \"A\", \"A\"]"
   ]
  },
  {
   "cell_type": "markdown",
   "id": "4ea0982d",
   "metadata": {},
   "source": [
    "There is a special type in Python that makes this operation really easy known\n",
    "as a Counter. It lives in a package known as `collections`. We can use it\n",
    "by importing it like this"
   ]
  },
  {
   "cell_type": "code",
   "execution_count": 29,
   "id": "e00631ec",
   "metadata": {
    "execution": {
     "iopub.execute_input": "2021-06-07T00:19:31.661162Z",
     "iopub.status.busy": "2021-06-07T00:19:31.660133Z",
     "iopub.status.idle": "2021-06-07T00:19:31.664337Z",
     "shell.execute_reply": "2021-06-07T00:19:31.663249Z"
    }
   },
   "outputs": [],
   "source": [
    "from collections import Counter"
   ]
  },
  {
   "cell_type": "markdown",
   "id": "46265dae",
   "metadata": {},
   "source": [
    "For this exercise, you should google for how to use the Counter.\n",
    "Use what you find to print out the count of each number of votes that\n",
    "each candidate \"A\" received."
   ]
  },
  {
   "cell_type": "code",
   "execution_count": 30,
   "id": "a76e2836",
   "metadata": {
    "execution": {
     "iopub.execute_input": "2021-06-07T00:19:31.670390Z",
     "iopub.status.busy": "2021-06-07T00:19:31.669459Z",
     "iopub.status.idle": "2021-06-07T00:19:31.672980Z",
     "shell.execute_reply": "2021-06-07T00:19:31.672157Z"
    },
    "lines_to_next_cell": 2
   },
   "outputs": [],
   "source": [
    "#📝📝📝📝 FILLME\n",
    "pass"
   ]
  },
  {
   "cell_type": "markdown",
   "id": "f2dd8e87",
   "metadata": {
    "lines_to_next_cell": 2
   },
   "source": [
    "## Question 3"
   ]
  },
  {
   "cell_type": "markdown",
   "id": "043da3e4",
   "metadata": {},
   "source": [
    "Another useful aspect of the `Counter` is that it can tell you the most common\n",
    "elements in a list. This is particularly useful when there are a ton of different\n",
    "elements to work with. Google for how to find the most common element in a list."
   ]
  },
  {
   "cell_type": "markdown",
   "id": "f6efe834",
   "metadata": {},
   "source": [
    "For this question, you will tell us the 10th most common letter in the beginning of the \"Wizard of Oz\"."
   ]
  },
  {
   "cell_type": "code",
   "execution_count": 31,
   "id": "4a4342c2",
   "metadata": {
    "execution": {
     "iopub.execute_input": "2021-06-07T00:19:31.695348Z",
     "iopub.status.busy": "2021-06-07T00:19:31.682109Z",
     "iopub.status.idle": "2021-06-07T00:19:31.699255Z",
     "shell.execute_reply": "2021-06-07T00:19:31.699880Z"
    }
   },
   "outputs": [
    {
     "data": {
      "text/plain": [
       "['D',\n",
       " 'o',\n",
       " 'r',\n",
       " 'o',\n",
       " 't',\n",
       " 'h',\n",
       " 'y',\n",
       " ' ',\n",
       " 'l',\n",
       " 'i',\n",
       " 'v',\n",
       " 'e',\n",
       " 'd',\n",
       " ' ',\n",
       " 'i',\n",
       " 'n',\n",
       " ' ',\n",
       " 't',\n",
       " 'h',\n",
       " 'e',\n",
       " ' ',\n",
       " 'm',\n",
       " 'i',\n",
       " 'd',\n",
       " 's',\n",
       " 't',\n",
       " ' ',\n",
       " 'o',\n",
       " 'f',\n",
       " ' ',\n",
       " 't',\n",
       " 'h',\n",
       " 'e',\n",
       " ' ',\n",
       " 'g',\n",
       " 'r',\n",
       " 'e',\n",
       " 'a',\n",
       " 't',\n",
       " ' ',\n",
       " 'K',\n",
       " 'a',\n",
       " 'n',\n",
       " 's',\n",
       " 'a',\n",
       " 's',\n",
       " ' ',\n",
       " 'p',\n",
       " 'r',\n",
       " 'a',\n",
       " 'i',\n",
       " 'r',\n",
       " 'i',\n",
       " 'e',\n",
       " 's',\n",
       " ',',\n",
       " ' ',\n",
       " 'w',\n",
       " 'i',\n",
       " 't',\n",
       " 'h',\n",
       " ' ',\n",
       " 'U',\n",
       " 'n',\n",
       " 'c',\n",
       " 'l',\n",
       " 'e',\n",
       " ' ',\n",
       " 'H',\n",
       " 'e',\n",
       " 'n',\n",
       " 'r',\n",
       " 'y',\n",
       " ',',\n",
       " ' ',\n",
       " 'w',\n",
       " 'h',\n",
       " 'o',\n",
       " ' ',\n",
       " 'w',\n",
       " 'a',\n",
       " 's',\n",
       " ' ',\n",
       " 'a',\n",
       " ' ',\n",
       " 'f',\n",
       " 'a',\n",
       " 'r',\n",
       " 'm',\n",
       " 'e',\n",
       " 'r',\n",
       " ',',\n",
       " ' ',\n",
       " 'a',\n",
       " 'n',\n",
       " 'd',\n",
       " ' ',\n",
       " 'A',\n",
       " 'u',\n",
       " 'n',\n",
       " 't',\n",
       " ' ',\n",
       " 'E',\n",
       " 'm',\n",
       " ',',\n",
       " ' ',\n",
       " 'w',\n",
       " 'h',\n",
       " 'o',\n",
       " ' ',\n",
       " 'w',\n",
       " 'a',\n",
       " 's',\n",
       " ' ',\n",
       " 't',\n",
       " 'h',\n",
       " 'e',\n",
       " ' ',\n",
       " 'f',\n",
       " 'a',\n",
       " 'r',\n",
       " 'm',\n",
       " 'e',\n",
       " 'r',\n",
       " '’',\n",
       " 's',\n",
       " ' ',\n",
       " 'w',\n",
       " 'i',\n",
       " 'f',\n",
       " 'e',\n",
       " '.',\n",
       " ' ',\n",
       " 'T',\n",
       " 'h',\n",
       " 'e',\n",
       " 'i',\n",
       " 'r',\n",
       " ' ',\n",
       " 'h',\n",
       " 'o',\n",
       " 'u',\n",
       " 's',\n",
       " 'e',\n",
       " ' ',\n",
       " 'w',\n",
       " 'a',\n",
       " 's',\n",
       " ' ',\n",
       " 's',\n",
       " 'm',\n",
       " 'a',\n",
       " 'l',\n",
       " 'l',\n",
       " ',',\n",
       " ' ',\n",
       " 'f',\n",
       " 'o',\n",
       " 'r',\n",
       " ' ',\n",
       " 't',\n",
       " 'h',\n",
       " 'e',\n",
       " ' ',\n",
       " 'l',\n",
       " 'u',\n",
       " 'm',\n",
       " 'b',\n",
       " 'e',\n",
       " 'r',\n",
       " ' ',\n",
       " 't',\n",
       " 'o',\n",
       " ' ',\n",
       " 'b',\n",
       " 'u',\n",
       " 'i',\n",
       " 'l',\n",
       " 'd',\n",
       " ' ',\n",
       " 'i',\n",
       " 't',\n",
       " ' ',\n",
       " 'h',\n",
       " 'a',\n",
       " 'd',\n",
       " ' ',\n",
       " 't',\n",
       " 'o',\n",
       " ' ',\n",
       " 'b',\n",
       " 'e',\n",
       " ' ',\n",
       " 'c',\n",
       " 'a',\n",
       " 'r',\n",
       " 'r',\n",
       " 'i',\n",
       " 'e',\n",
       " 'd',\n",
       " ' ',\n",
       " 'b',\n",
       " 'y',\n",
       " ' ',\n",
       " 'w',\n",
       " 'a',\n",
       " 'g',\n",
       " 'o',\n",
       " 'n',\n",
       " ' ',\n",
       " 'm',\n",
       " 'a',\n",
       " 'n',\n",
       " 'y',\n",
       " ' ',\n",
       " 'm',\n",
       " 'i',\n",
       " 'l',\n",
       " 'e',\n",
       " 's',\n",
       " '.',\n",
       " ' ',\n",
       " 'T',\n",
       " 'h',\n",
       " 'e',\n",
       " 'r',\n",
       " 'e',\n",
       " ' ',\n",
       " 'w',\n",
       " 'e',\n",
       " 'r',\n",
       " 'e',\n",
       " ' ',\n",
       " 'f',\n",
       " 'o',\n",
       " 'u',\n",
       " 'r',\n",
       " ' ',\n",
       " 'w',\n",
       " 'a',\n",
       " 'l',\n",
       " 'l',\n",
       " 's',\n",
       " ',',\n",
       " ' ',\n",
       " 'a',\n",
       " ' ',\n",
       " 'f',\n",
       " 'l',\n",
       " 'o',\n",
       " 'o',\n",
       " 'r',\n",
       " ' ',\n",
       " 'a',\n",
       " 'n',\n",
       " 'd',\n",
       " ' ',\n",
       " 'a',\n",
       " ' ',\n",
       " 'r',\n",
       " 'o',\n",
       " 'o',\n",
       " 'f',\n",
       " ',',\n",
       " ' ',\n",
       " 'w',\n",
       " 'h',\n",
       " 'i',\n",
       " 'c',\n",
       " 'h',\n",
       " ' ',\n",
       " 'm',\n",
       " 'a',\n",
       " 'd',\n",
       " 'e',\n",
       " ' ',\n",
       " 'o',\n",
       " 'n',\n",
       " 'e',\n",
       " ' ',\n",
       " 'r',\n",
       " 'o',\n",
       " 'o',\n",
       " 'm',\n",
       " ';',\n",
       " ' ',\n",
       " 'a',\n",
       " 'n',\n",
       " 'd',\n",
       " ' ',\n",
       " 't',\n",
       " 'h',\n",
       " 'i',\n",
       " 's',\n",
       " ' ',\n",
       " 'r',\n",
       " 'o',\n",
       " 'o',\n",
       " 'm',\n",
       " ' ',\n",
       " 'c',\n",
       " 'o',\n",
       " 'n',\n",
       " 't',\n",
       " 'a',\n",
       " 'i',\n",
       " 'n',\n",
       " 'e',\n",
       " 'd',\n",
       " ' ',\n",
       " 'a',\n",
       " ' ',\n",
       " 'r',\n",
       " 'u',\n",
       " 's',\n",
       " 't',\n",
       " 'y',\n",
       " ' ',\n",
       " 'l',\n",
       " 'o',\n",
       " 'o',\n",
       " 'k',\n",
       " 'i',\n",
       " 'n',\n",
       " 'g',\n",
       " ' ',\n",
       " 'c',\n",
       " 'o',\n",
       " 'o',\n",
       " 'k',\n",
       " 's',\n",
       " 't',\n",
       " 'o',\n",
       " 'v',\n",
       " 'e',\n",
       " ',',\n",
       " ' ',\n",
       " 'a',\n",
       " ' ',\n",
       " 'c',\n",
       " 'u',\n",
       " 'p',\n",
       " 'b',\n",
       " 'o',\n",
       " 'a',\n",
       " 'r',\n",
       " 'd',\n",
       " ' ',\n",
       " 'f',\n",
       " 'o',\n",
       " 'r',\n",
       " ' ',\n",
       " 't',\n",
       " 'h',\n",
       " 'e',\n",
       " ' ',\n",
       " 'd',\n",
       " 'i',\n",
       " 's',\n",
       " 'h',\n",
       " 'e',\n",
       " 's',\n",
       " ',',\n",
       " ' ',\n",
       " 'a',\n",
       " ' ',\n",
       " 't',\n",
       " 'a',\n",
       " 'b',\n",
       " 'l',\n",
       " 'e',\n",
       " ',',\n",
       " ' ',\n",
       " 't',\n",
       " 'h',\n",
       " 'r',\n",
       " 'e',\n",
       " 'e',\n",
       " ' ',\n",
       " 'o',\n",
       " 'r',\n",
       " ' ',\n",
       " 'f',\n",
       " 'o',\n",
       " 'u',\n",
       " 'r',\n",
       " ' ',\n",
       " 'c',\n",
       " 'h',\n",
       " 'a',\n",
       " 'i',\n",
       " 'r',\n",
       " 's',\n",
       " ',',\n",
       " ' ',\n",
       " 'a',\n",
       " 'n',\n",
       " 'd',\n",
       " ' ',\n",
       " 't',\n",
       " 'h',\n",
       " 'e',\n",
       " ' ',\n",
       " 'b',\n",
       " 'e',\n",
       " 'd',\n",
       " 's',\n",
       " '.',\n",
       " ' ',\n",
       " 'U',\n",
       " 'n',\n",
       " 'c',\n",
       " 'l',\n",
       " 'e',\n",
       " ' ',\n",
       " 'H',\n",
       " 'e',\n",
       " 'n',\n",
       " 'r',\n",
       " 'y',\n",
       " ' ',\n",
       " 'a',\n",
       " 'n',\n",
       " 'd',\n",
       " ' ',\n",
       " 'A',\n",
       " 'u',\n",
       " 'n',\n",
       " 't',\n",
       " ' ',\n",
       " 'E',\n",
       " 'm',\n",
       " ' ',\n",
       " 'h',\n",
       " 'a',\n",
       " 'd',\n",
       " ' ',\n",
       " 'a',\n",
       " ' ',\n",
       " 'b',\n",
       " 'i',\n",
       " 'g',\n",
       " ' ',\n",
       " 'b',\n",
       " 'e',\n",
       " 'd',\n",
       " ' ',\n",
       " 'i',\n",
       " 'n',\n",
       " ' ',\n",
       " 'o',\n",
       " 'n',\n",
       " 'e',\n",
       " ' ',\n",
       " 'c',\n",
       " 'o',\n",
       " 'r',\n",
       " 'n',\n",
       " 'e',\n",
       " 'r',\n",
       " ',',\n",
       " ' ',\n",
       " 'a',\n",
       " 'n',\n",
       " 'd',\n",
       " ' ',\n",
       " 'D',\n",
       " 'o',\n",
       " 'r',\n",
       " 'o',\n",
       " 't',\n",
       " 'h',\n",
       " 'y',\n",
       " ' ',\n",
       " 'a',\n",
       " ' ',\n",
       " 'l',\n",
       " 'i',\n",
       " 't',\n",
       " 't',\n",
       " 'l',\n",
       " 'e',\n",
       " ' ',\n",
       " 'b',\n",
       " 'e',\n",
       " 'd',\n",
       " ' ',\n",
       " 'i',\n",
       " 'n',\n",
       " ' ',\n",
       " 'a',\n",
       " 'n',\n",
       " 'o',\n",
       " 't',\n",
       " 'h',\n",
       " 'e',\n",
       " 'r',\n",
       " ' ',\n",
       " 'c',\n",
       " 'o',\n",
       " 'r',\n",
       " 'n',\n",
       " 'e',\n",
       " 'r',\n",
       " '.',\n",
       " ' ',\n",
       " 'T',\n",
       " 'h',\n",
       " 'e',\n",
       " 'r',\n",
       " 'e',\n",
       " ' ',\n",
       " 'w',\n",
       " 'a',\n",
       " 's',\n",
       " ' ',\n",
       " 'n',\n",
       " 'o',\n",
       " ' ',\n",
       " 'g',\n",
       " 'a',\n",
       " 'r',\n",
       " 'r',\n",
       " 'e',\n",
       " 't',\n",
       " ' ',\n",
       " 'a',\n",
       " 't',\n",
       " ' ',\n",
       " 'a',\n",
       " 'l',\n",
       " 'l',\n",
       " ',',\n",
       " ' ',\n",
       " 'a',\n",
       " 'n',\n",
       " 'd',\n",
       " ' ',\n",
       " 'n',\n",
       " 'o',\n",
       " ' ',\n",
       " 'c',\n",
       " 'e',\n",
       " 'l',\n",
       " 'l',\n",
       " 'a',\n",
       " 'r',\n",
       " '—',\n",
       " 'e',\n",
       " 'x',\n",
       " 'c',\n",
       " 'e',\n",
       " 'p',\n",
       " 't',\n",
       " ' ',\n",
       " 'a',\n",
       " ' ',\n",
       " 's',\n",
       " 'm',\n",
       " 'a',\n",
       " 'l',\n",
       " 'l',\n",
       " ' ',\n",
       " 'h',\n",
       " 'o',\n",
       " 'l',\n",
       " 'e',\n",
       " ' ',\n",
       " 'd',\n",
       " 'u',\n",
       " 'g',\n",
       " ' ',\n",
       " 'i',\n",
       " 'n',\n",
       " ' ',\n",
       " 't',\n",
       " 'h',\n",
       " 'e',\n",
       " ' ',\n",
       " 'g',\n",
       " 'r',\n",
       " 'o',\n",
       " 'u',\n",
       " 'n',\n",
       " 'd',\n",
       " ',',\n",
       " ' ',\n",
       " 'c',\n",
       " 'a',\n",
       " 'l',\n",
       " 'l',\n",
       " 'e',\n",
       " 'd',\n",
       " ' ',\n",
       " 'a',\n",
       " ' ',\n",
       " 'c',\n",
       " 'y',\n",
       " 'c',\n",
       " 'l',\n",
       " 'o',\n",
       " 'n',\n",
       " 'e',\n",
       " ' ',\n",
       " 'c',\n",
       " 'e',\n",
       " 'l',\n",
       " 'l',\n",
       " 'a',\n",
       " 'r',\n",
       " ',',\n",
       " ' ',\n",
       " 'w',\n",
       " 'h',\n",
       " 'e',\n",
       " 'r',\n",
       " 'e',\n",
       " ' ',\n",
       " 't',\n",
       " 'h',\n",
       " 'e',\n",
       " ' ',\n",
       " 'f',\n",
       " 'a',\n",
       " 'm',\n",
       " 'i',\n",
       " 'l',\n",
       " 'y',\n",
       " ' ',\n",
       " 'c',\n",
       " 'o',\n",
       " 'u',\n",
       " 'l',\n",
       " 'd',\n",
       " ' ',\n",
       " 'g',\n",
       " 'o',\n",
       " ' ',\n",
       " 'i',\n",
       " 'n',\n",
       " ' ',\n",
       " 'c',\n",
       " 'a',\n",
       " 's',\n",
       " 'e',\n",
       " ' ',\n",
       " 'o',\n",
       " 'n',\n",
       " 'e',\n",
       " ' ',\n",
       " 'o',\n",
       " 'f',\n",
       " ' ',\n",
       " 't',\n",
       " 'h',\n",
       " 'o',\n",
       " 's',\n",
       " 'e',\n",
       " ' ',\n",
       " 'g',\n",
       " 'r',\n",
       " 'e',\n",
       " 'a',\n",
       " 't',\n",
       " ' ',\n",
       " 'w',\n",
       " 'h',\n",
       " 'i',\n",
       " 'r',\n",
       " 'l',\n",
       " 'w',\n",
       " 'i',\n",
       " 'n',\n",
       " 'd',\n",
       " 's',\n",
       " ' ',\n",
       " 'a',\n",
       " 'r',\n",
       " 'o',\n",
       " 's',\n",
       " 'e',\n",
       " ',',\n",
       " ' ',\n",
       " 'm',\n",
       " 'i',\n",
       " 'g',\n",
       " 'h',\n",
       " 't',\n",
       " 'y',\n",
       " ' ',\n",
       " 'e',\n",
       " 'n',\n",
       " 'o',\n",
       " 'u',\n",
       " 'g',\n",
       " 'h',\n",
       " ' ',\n",
       " 't',\n",
       " 'o',\n",
       " ' ',\n",
       " 'c',\n",
       " 'r',\n",
       " 'u',\n",
       " 's',\n",
       " 'h',\n",
       " ' ',\n",
       " 'a',\n",
       " 'n',\n",
       " 'y',\n",
       " ' ',\n",
       " 'b',\n",
       " 'u',\n",
       " 'i',\n",
       " 'l',\n",
       " 'd',\n",
       " 'i',\n",
       " 'n',\n",
       " 'g',\n",
       " ' ',\n",
       " 'i',\n",
       " 'n',\n",
       " ' ',\n",
       " 'i',\n",
       " 't',\n",
       " 's',\n",
       " ' ',\n",
       " 'p',\n",
       " 'a',\n",
       " 't',\n",
       " 'h',\n",
       " '.',\n",
       " ' ',\n",
       " 'I',\n",
       " 't',\n",
       " ' ',\n",
       " 'w',\n",
       " 'a',\n",
       " 's',\n",
       " ' ',\n",
       " 'r',\n",
       " 'e',\n",
       " 'a',\n",
       " 'c',\n",
       " 'h',\n",
       " 'e',\n",
       " 'd',\n",
       " ' ',\n",
       " 'b',\n",
       " 'y',\n",
       " ' ',\n",
       " 'a',\n",
       " ' ',\n",
       " 't',\n",
       " 'r',\n",
       " 'a',\n",
       " 'p',\n",
       " ' ',\n",
       " 'd',\n",
       " 'o',\n",
       " 'o',\n",
       " 'r',\n",
       " ' ',\n",
       " 'i',\n",
       " 'n',\n",
       " ' ',\n",
       " 't',\n",
       " 'h',\n",
       " 'e',\n",
       " ' ',\n",
       " 'm',\n",
       " 'i',\n",
       " 'd',\n",
       " 'd',\n",
       " 'l',\n",
       " 'e',\n",
       " ' ',\n",
       " 'o',\n",
       " 'f',\n",
       " ' ',\n",
       " 't',\n",
       " 'h',\n",
       " 'e',\n",
       " ' ',\n",
       " 'f',\n",
       " 'l',\n",
       " 'o',\n",
       " 'o',\n",
       " 'r',\n",
       " ',',\n",
       " ' ',\n",
       " 'f',\n",
       " 'r',\n",
       " 'o',\n",
       " 'm',\n",
       " ' ',\n",
       " 'w',\n",
       " 'h',\n",
       " 'i',\n",
       " 'c',\n",
       " 'h',\n",
       " ' ',\n",
       " 'a',\n",
       " ' ',\n",
       " 'l',\n",
       " 'a',\n",
       " 'd',\n",
       " 'd',\n",
       " 'e',\n",
       " 'r',\n",
       " ' ',\n",
       " 'l',\n",
       " 'e',\n",
       " 'd',\n",
       " ' ',\n",
       " 'd',\n",
       " 'o',\n",
       " 'w',\n",
       " 'n',\n",
       " ' ',\n",
       " 'i',\n",
       " 'n',\n",
       " 't',\n",
       " 'o',\n",
       " ' ',\n",
       " 't',\n",
       " 'h',\n",
       " 'e',\n",
       " ' ',\n",
       " 's',\n",
       " 'm',\n",
       " 'a',\n",
       " 'l',\n",
       " 'l',\n",
       " ',',\n",
       " ' ',\n",
       " 'd',\n",
       " 'a',\n",
       " 'r',\n",
       " 'k',\n",
       " ' ',\n",
       " 'h',\n",
       " 'o',\n",
       " 'l',\n",
       " 'e',\n",
       " '.']"
      ]
     },
     "execution_count": 1,
     "metadata": {},
     "output_type": "execute_result"
    }
   ],
   "source": [
    "wizard_of_oz = list(\"Dorothy lived in the midst of the great Kansas prairies, with Uncle Henry, who was a farmer, and Aunt Em, who was the farmer’s wife. Their house was small, for the lumber to build it had to be carried by wagon many miles. There were four walls, a floor and a roof, which made one room; and this room contained a rusty looking cookstove, a cupboard for the dishes, a table, three or four chairs, and the beds. Uncle Henry and Aunt Em had a big bed in one corner, and Dorothy a little bed in another corner. There was no garret at all, and no cellar—except a small hole dug in the ground, called a cyclone cellar, where the family could go in case one of those great whirlwinds arose, mighty enough to crush any building in its path. It was reached by a trap door in the middle of the floor, from which a ladder led down into the small, dark hole.\")\n",
    "wizard_of_oz"
   ]
  },
  {
   "cell_type": "markdown",
   "id": "3b1adf3e",
   "metadata": {},
   "source": [
    "Print out the 10'th most common element in this list."
   ]
  },
  {
   "cell_type": "code",
   "execution_count": 32,
   "id": "085d6ba7",
   "metadata": {
    "execution": {
     "iopub.execute_input": "2021-06-07T00:19:31.704952Z",
     "iopub.status.busy": "2021-06-07T00:19:31.704344Z",
     "iopub.status.idle": "2021-06-07T00:19:31.707152Z",
     "shell.execute_reply": "2021-06-07T00:19:31.706576Z"
    }
   },
   "outputs": [],
   "source": [
    "#📝📝📝📝 FILLME\n",
    "pass"
   ]
  },
  {
   "cell_type": "code",
   "execution_count": null,
   "id": "dd8bf7fb",
   "metadata": {},
   "outputs": [],
   "source": []
  },
  {
   "cell_type": "markdown",
   "id": "7a47fc7f",
   "metadata": {},
   "source": [
    "More than anything remember this. The best programmers use help the\n",
    "most! No one wins a prize for memerizing the most functions. If you\n",
    "want to be a good programmer, learn how to look things up quickly and\n",
    "ask the most questions."
   ]
  },
  {
   "cell_type": "code",
   "execution_count": null,
   "id": "e1786ad3",
   "metadata": {},
   "outputs": [],
   "source": []
  },
  {
   "cell_type": "markdown",
   "id": "71227be9",
   "metadata": {},
   "source": [
    "# Unit B"
   ]
  },
  {
   "cell_type": "markdown",
   "id": "31369b10",
   "metadata": {
    "lines_to_next_cell": 2
   },
   "source": [
    "In addition to the data types and libraries, we will sometimes\n",
    "use Python to write our own code. In general when doing data science\n",
    "you should not have to write very long amounts of code, but there are\n",
    "some cases when it is useful."
   ]
  },
  {
   "cell_type": "markdown",
   "id": "d1b336f9",
   "metadata": {},
   "source": [
    "## Basic Structures"
   ]
  },
  {
   "cell_type": "markdown",
   "id": "660117c1",
   "metadata": {
    "lines_to_next_cell": 2
   },
   "source": [
    "### `if` statements"
   ]
  },
  {
   "cell_type": "markdown",
   "id": "80c27047",
   "metadata": {},
   "source": [
    "If statements check for a condition and run the\n",
    "code if it is true. In Python you need to indent\n",
    "the code under the if statement otherwise it will\n",
    "not run."
   ]
  },
  {
   "cell_type": "code",
   "execution_count": 33,
   "id": "829e8d42",
   "metadata": {
    "execution": {
     "iopub.execute_input": "2021-06-07T00:19:31.712977Z",
     "iopub.status.busy": "2021-06-07T00:19:31.712164Z",
     "iopub.status.idle": "2021-06-07T00:19:31.714941Z",
     "shell.execute_reply": "2021-06-07T00:19:31.715591Z"
    }
   },
   "outputs": [],
   "source": [
    "number3 = 10 + 75.0"
   ]
  },
  {
   "cell_type": "code",
   "execution_count": 34,
   "id": "3799e97c",
   "metadata": {
    "execution": {
     "iopub.execute_input": "2021-06-07T00:19:31.721695Z",
     "iopub.status.busy": "2021-06-07T00:19:31.720831Z",
     "iopub.status.idle": "2021-06-07T00:19:31.724971Z",
     "shell.execute_reply": "2021-06-07T00:19:31.724185Z"
    },
    "lines_to_next_cell": 2
   },
   "outputs": [
    {
     "name": "stdout",
     "output_type": "stream",
     "text": [
      "number is greater than 50\n"
     ]
    }
   ],
   "source": [
    "if number3 > 50:\n",
    "    print(\"number is greater than 50\")"
   ]
  },
  {
   "cell_type": "code",
   "execution_count": 35,
   "id": "36960693",
   "metadata": {
    "execution": {
     "iopub.execute_input": "2021-06-07T00:19:31.730694Z",
     "iopub.status.busy": "2021-06-07T00:19:31.729792Z",
     "iopub.status.idle": "2021-06-07T00:19:31.732428Z",
     "shell.execute_reply": "2021-06-07T00:19:31.733257Z"
    },
    "lines_to_next_cell": 2
   },
   "outputs": [],
   "source": [
    "if number3 > 100:\n",
    "    print(\"number is greater than 100\")"
   ]
  },
  {
   "cell_type": "markdown",
   "id": "a25cf6f6",
   "metadata": {},
   "source": [
    "You can also have a backup `else` code block that will run if\n",
    "the condition is not true."
   ]
  },
  {
   "cell_type": "code",
   "execution_count": 36,
   "id": "e649481d",
   "metadata": {
    "execution": {
     "iopub.execute_input": "2021-06-07T00:19:31.739979Z",
     "iopub.status.busy": "2021-06-07T00:19:31.738954Z",
     "iopub.status.idle": "2021-06-07T00:19:31.743137Z",
     "shell.execute_reply": "2021-06-07T00:19:31.742322Z"
    }
   },
   "outputs": [
    {
     "name": "stdout",
     "output_type": "stream",
     "text": [
      "number is not greater than 100\n"
     ]
    }
   ],
   "source": [
    "if number3 > 100:\n",
    "    print(\"number is greater than 100\")\n",
    "else:\n",
    "    print(\"number is not greater than 100\")"
   ]
  },
  {
   "cell_type": "code",
   "execution_count": null,
   "id": "f803bc34",
   "metadata": {},
   "outputs": [],
   "source": []
  },
  {
   "cell_type": "markdown",
   "id": "27d0e124",
   "metadata": {},
   "source": [
    "### `for` loops"
   ]
  },
  {
   "cell_type": "markdown",
   "id": "fb1688bb",
   "metadata": {},
   "source": [
    "For loops in python are used to step through the items in a list one by"
   ]
  },
  {
   "cell_type": "code",
   "execution_count": 37,
   "id": "872785d2",
   "metadata": {
    "execution": {
     "iopub.execute_input": "2021-06-07T00:19:31.749757Z",
     "iopub.status.busy": "2021-06-07T00:19:31.748788Z",
     "iopub.status.idle": "2021-06-07T00:19:31.752198Z",
     "shell.execute_reply": "2021-06-07T00:19:31.752932Z"
    }
   },
   "outputs": [
    {
     "data": {
      "text/plain": [
       "[1, 2, 3, 4, 5]"
      ]
     },
     "execution_count": 1,
     "metadata": {},
     "output_type": "execute_result"
    }
   ],
   "source": [
    "list3"
   ]
  },
  {
   "cell_type": "code",
   "execution_count": null,
   "id": "6977dda3",
   "metadata": {},
   "outputs": [],
   "source": []
  },
  {
   "cell_type": "markdown",
   "id": "16b7359f",
   "metadata": {},
   "source": [
    "You indicate a for loop in the following manner. The code will be run 5 times\n",
    "with the variable `value` taking on a new value each time through the loop."
   ]
  },
  {
   "cell_type": "code",
   "execution_count": 38,
   "id": "0f2567af",
   "metadata": {
    "execution": {
     "iopub.execute_input": "2021-06-07T00:19:31.759197Z",
     "iopub.status.busy": "2021-06-07T00:19:31.758271Z",
     "iopub.status.idle": "2021-06-07T00:19:31.763146Z",
     "shell.execute_reply": "2021-06-07T00:19:31.762375Z"
    },
    "lines_to_next_cell": 2
   },
   "outputs": [
    {
     "name": "stdout",
     "output_type": "stream",
     "text": [
      "Next value is:  1\n",
      "Next value is:  2\n",
      "Next value is:  3\n",
      "Next value is:  4\n",
      "Next value is:  5\n"
     ]
    }
   ],
   "source": [
    "for value in list3:\n",
    "    print(\"Next value is: \", value)"
   ]
  },
  {
   "cell_type": "markdown",
   "id": "251d395b",
   "metadata": {},
   "source": [
    "Note: unlike other languages Python for loops always need a list to\n",
    "walkthough. This differs from language where you have a counter variable."
   ]
  },
  {
   "cell_type": "markdown",
   "id": "f83c88f0",
   "metadata": {},
   "source": [
    "However, Python also includes a nice shortcut for making it easy to write for\n",
    "loops like this. The command `range` will make a list starting from\n",
    "a value and stop right before the end value."
   ]
  },
  {
   "cell_type": "code",
   "execution_count": 39,
   "id": "8455b9f8",
   "metadata": {
    "execution": {
     "iopub.execute_input": "2021-06-07T00:19:31.769353Z",
     "iopub.status.busy": "2021-06-07T00:19:31.768436Z",
     "iopub.status.idle": "2021-06-07T00:19:31.773776Z",
     "shell.execute_reply": "2021-06-07T00:19:31.772847Z"
    }
   },
   "outputs": [
    {
     "name": "stdout",
     "output_type": "stream",
     "text": [
      "0\n",
      "1\n",
      "2\n",
      "3\n",
      "4\n",
      "5\n",
      "6\n",
      "7\n",
      "8\n",
      "9\n"
     ]
    }
   ],
   "source": [
    "for val in range(10):\n",
    "    print(val)"
   ]
  },
  {
   "cell_type": "markdown",
   "id": "ccd7f849",
   "metadata": {},
   "source": [
    "**👩‍🎓Student Question: Print out each month name from your month dictionary.**"
   ]
  },
  {
   "cell_type": "code",
   "execution_count": 40,
   "id": "ef868c10",
   "metadata": {
    "execution": {
     "iopub.execute_input": "2021-06-07T00:19:31.780604Z",
     "iopub.status.busy": "2021-06-07T00:19:31.779578Z",
     "iopub.status.idle": "2021-06-07T00:19:31.783073Z",
     "shell.execute_reply": "2021-06-07T00:19:31.782156Z"
    },
    "lines_to_next_cell": 2
   },
   "outputs": [],
   "source": [
    "#📝📝📝📝 FILLME\n",
    "for month in [1, 2, 3, 4, 5, 6, 7, 8, 9, 10, 11, 12]:\n",
    "    pass"
   ]
  },
  {
   "cell_type": "markdown",
   "id": "fa7fc713",
   "metadata": {
    "lines_to_next_cell": 2
   },
   "source": [
    "## Working with Strings"
   ]
  },
  {
   "cell_type": "markdown",
   "id": "2954e4bb",
   "metadata": {
    "lines_to_next_cell": 2
   },
   "source": [
    "Strings are an importnat special case. Throughout this class we will\n",
    "work a lot with text. We will start with simple examples and work our\n",
    "way up to artificial intelligence over text."
   ]
  },
  {
   "cell_type": "markdown",
   "id": "4fd0666d",
   "metadata": {},
   "source": [
    "Text will also be represented with a string type. This is created with\n",
    "quotes."
   ]
  },
  {
   "cell_type": "code",
   "execution_count": 41,
   "id": "ebd7c1de",
   "metadata": {
    "execution": {
     "iopub.execute_input": "2021-06-07T00:19:31.789119Z",
     "iopub.status.busy": "2021-06-07T00:19:31.788220Z",
     "iopub.status.idle": "2021-06-07T00:19:31.791041Z",
     "shell.execute_reply": "2021-06-07T00:19:31.791746Z"
    }
   },
   "outputs": [],
   "source": [
    "str1 = \"A sample string to get started\""
   ]
  },
  {
   "cell_type": "markdown",
   "id": "875a060c",
   "metadata": {},
   "source": [
    "Just like with lists, we can make a for loop over strings to get individual letters."
   ]
  },
  {
   "cell_type": "code",
   "execution_count": 42,
   "id": "9cbabc69",
   "metadata": {
    "execution": {
     "iopub.execute_input": "2021-06-07T00:19:31.797521Z",
     "iopub.status.busy": "2021-06-07T00:19:31.796481Z",
     "iopub.status.idle": "2021-06-07T00:19:31.804638Z",
     "shell.execute_reply": "2021-06-07T00:19:31.803877Z"
    }
   },
   "outputs": [
    {
     "name": "stdout",
     "output_type": "stream",
     "text": [
      "A\n",
      " \n",
      "s\n",
      "a\n",
      "m\n",
      "p\n",
      "l\n",
      "e\n",
      " \n",
      "s\n",
      "t\n",
      "r\n",
      "i\n",
      "n\n",
      "g\n",
      " \n",
      "t\n",
      "o\n",
      " \n",
      "g\n",
      "e\n",
      "t\n",
      " \n",
      "s\n",
      "t\n",
      "a\n",
      "r\n",
      "t\n",
      "e\n",
      "d\n"
     ]
    }
   ],
   "source": [
    "for letter in str1:\n",
    "    print(letter)"
   ]
  },
  {
   "cell_type": "code",
   "execution_count": 43,
   "id": "6c16e097",
   "metadata": {
    "execution": {
     "iopub.execute_input": "2021-06-07T00:19:31.811571Z",
     "iopub.status.busy": "2021-06-07T00:19:31.810629Z",
     "iopub.status.idle": "2021-06-07T00:19:31.815425Z",
     "shell.execute_reply": "2021-06-07T00:19:31.814481Z"
    }
   },
   "outputs": [
    {
     "name": "stdout",
     "output_type": "stream",
     "text": [
      "a\n",
      "e\n",
      "i\n",
      "o\n",
      "e\n",
      "a\n",
      "e\n"
     ]
    }
   ],
   "source": [
    "vowels = [\"a\", \"e\", \"i\", \"o\", \"u\"]\n",
    "for letter in str1:\n",
    "    if letter in vowels:\n",
    "        print(letter)"
   ]
  },
  {
   "cell_type": "markdown",
   "id": "63916c81",
   "metadata": {},
   "source": [
    "However, most of the time it will be better to use one of the built-in\n",
    "functions in Python. Most of the time it is best to google for these, but\n",
    "here are some important ones to remember"
   ]
  },
  {
   "cell_type": "markdown",
   "id": "93aa16d8",
   "metadata": {},
   "source": [
    "* Split\n",
    "Splits a string up into a list of strings based on a separator"
   ]
  },
  {
   "cell_type": "code",
   "execution_count": 44,
   "id": "e21dd555",
   "metadata": {
    "execution": {
     "iopub.execute_input": "2021-06-07T00:19:31.822571Z",
     "iopub.status.busy": "2021-06-07T00:19:31.821658Z",
     "iopub.status.idle": "2021-06-07T00:19:31.825195Z",
     "shell.execute_reply": "2021-06-07T00:19:31.825942Z"
    },
    "lines_to_next_cell": 2
   },
   "outputs": [
    {
     "data": {
      "text/plain": [
       "'b'"
      ]
     },
     "execution_count": 1,
     "metadata": {},
     "output_type": "execute_result"
    }
   ],
   "source": [
    "str1 = \"a:b:c\"\n",
    "list_of_splits = str1.split(\":\")\n",
    "list_of_splits[1]"
   ]
  },
  {
   "cell_type": "markdown",
   "id": "99ef365c",
   "metadata": {},
   "source": [
    "* Join\n",
    "Joins a string back together from a list."
   ]
  },
  {
   "cell_type": "code",
   "execution_count": 45,
   "id": "37df43ea",
   "metadata": {
    "execution": {
     "iopub.execute_input": "2021-06-07T00:19:31.832140Z",
     "iopub.status.busy": "2021-06-07T00:19:31.831220Z",
     "iopub.status.idle": "2021-06-07T00:19:31.833662Z",
     "shell.execute_reply": "2021-06-07T00:19:31.834428Z"
    },
    "lines_to_next_cell": 2
   },
   "outputs": [],
   "source": [
    "str1 = \",\".join(list_of_splits)"
   ]
  },
  {
   "cell_type": "markdown",
   "id": "04236840",
   "metadata": {},
   "source": [
    "**👩‍🎓Student Question: What value does ```str1``` have?**"
   ]
  },
  {
   "cell_type": "code",
   "execution_count": 46,
   "id": "b5f2ad20",
   "metadata": {
    "execution": {
     "iopub.execute_input": "2021-06-07T00:19:31.840034Z",
     "iopub.status.busy": "2021-06-07T00:19:31.839161Z",
     "iopub.status.idle": "2021-06-07T00:19:31.842583Z",
     "shell.execute_reply": "2021-06-07T00:19:31.841874Z"
    }
   },
   "outputs": [],
   "source": [
    "#📝📝📝📝 FILLME\n",
    "pass"
   ]
  },
  {
   "cell_type": "markdown",
   "id": "35e412b0",
   "metadata": {},
   "source": [
    "* Replace\n",
    "Replaces some part of a string."
   ]
  },
  {
   "cell_type": "code",
   "execution_count": 47,
   "id": "bddf1dbc",
   "metadata": {
    "execution": {
     "iopub.execute_input": "2021-06-07T00:19:31.849159Z",
     "iopub.status.busy": "2021-06-07T00:19:31.848161Z",
     "iopub.status.idle": "2021-06-07T00:19:31.853098Z",
     "shell.execute_reply": "2021-06-07T00:19:31.852207Z"
    }
   },
   "outputs": [
    {
     "data": {
      "text/plain": [
       "'Item 1 , Item 2 , Item 3'"
      ]
     },
     "execution_count": 1,
     "metadata": {},
     "output_type": "execute_result"
    }
   ],
   "source": [
    "original_str = \"Item 1 | Item 2 | Item 3\"\n",
    "new_str = original_str.replace(\"|\", \",\")\n",
    "new_str"
   ]
  },
  {
   "cell_type": "code",
   "execution_count": 48,
   "id": "d48c61b6",
   "metadata": {
    "execution": {
     "iopub.execute_input": "2021-06-07T00:19:31.859838Z",
     "iopub.status.busy": "2021-06-07T00:19:31.858766Z",
     "iopub.status.idle": "2021-06-07T00:19:31.862316Z",
     "shell.execute_reply": "2021-06-07T00:19:31.863304Z"
    }
   },
   "outputs": [
    {
     "data": {
      "text/plain": [
       "'Item 1  Item 2  Item 3'"
      ]
     },
     "execution_count": 1,
     "metadata": {},
     "output_type": "execute_result"
    }
   ],
   "source": [
    "new_str = original_str.replace(\"|\", \"\")\n",
    "new_str"
   ]
  },
  {
   "cell_type": "code",
   "execution_count": null,
   "id": "ca6f7086",
   "metadata": {},
   "outputs": [],
   "source": []
  },
  {
   "cell_type": "markdown",
   "id": "6d4ccbd2",
   "metadata": {},
   "source": [
    "* In\n",
    "Checks if one string contains another"
   ]
  },
  {
   "cell_type": "code",
   "execution_count": 49,
   "id": "80408f18",
   "metadata": {
    "execution": {
     "iopub.execute_input": "2021-06-07T00:19:31.869516Z",
     "iopub.status.busy": "2021-06-07T00:19:31.868510Z",
     "iopub.status.idle": "2021-06-07T00:19:31.872601Z",
     "shell.execute_reply": "2021-06-07T00:19:31.871582Z"
    },
    "lines_to_next_cell": 2
   },
   "outputs": [],
   "source": [
    "original_str = \"Item 1 | Item 2 | Item 3\"\n",
    "contains1 = \"Item 2\" in original_str"
   ]
  },
  {
   "cell_type": "code",
   "execution_count": 50,
   "id": "3ec32ab4",
   "metadata": {
    "execution": {
     "iopub.execute_input": "2021-06-07T00:19:31.878833Z",
     "iopub.status.busy": "2021-06-07T00:19:31.877859Z",
     "iopub.status.idle": "2021-06-07T00:19:31.881449Z",
     "shell.execute_reply": "2021-06-07T00:19:31.880583Z"
    },
    "lines_to_next_cell": 2
   },
   "outputs": [],
   "source": [
    "contains2 = \"Item 4\" in original_str"
   ]
  },
  {
   "cell_type": "markdown",
   "id": "a6222524",
   "metadata": {},
   "source": [
    "**👩‍🎓Student Question: What values do ```contains1``` and ```contains2`` have?**"
   ]
  },
  {
   "cell_type": "code",
   "execution_count": 51,
   "id": "712e10a3",
   "metadata": {
    "execution": {
     "iopub.execute_input": "2021-06-07T00:19:31.887624Z",
     "iopub.status.busy": "2021-06-07T00:19:31.886516Z",
     "iopub.status.idle": "2021-06-07T00:19:31.889618Z",
     "shell.execute_reply": "2021-06-07T00:19:31.890380Z"
    }
   },
   "outputs": [],
   "source": [
    "#📝📝📝📝 FILLME\n",
    "pass"
   ]
  },
  {
   "cell_type": "markdown",
   "id": "9d0e6a49",
   "metadata": {},
   "source": [
    "*  Conversions\n",
    "Converts between a string and a number"
   ]
  },
  {
   "cell_type": "code",
   "execution_count": 52,
   "id": "4a781dba",
   "metadata": {
    "execution": {
     "iopub.execute_input": "2021-06-07T00:19:31.897010Z",
     "iopub.status.busy": "2021-06-07T00:19:31.896108Z",
     "iopub.status.idle": "2021-06-07T00:19:31.899520Z",
     "shell.execute_reply": "2021-06-07T00:19:31.900272Z"
    }
   },
   "outputs": [
    {
     "data": {
      "text/plain": [
       "15"
      ]
     },
     "execution_count": 1,
     "metadata": {},
     "output_type": "execute_result"
    }
   ],
   "source": [
    "int1 = int(\"15\")\n",
    "int1"
   ]
  },
  {
   "cell_type": "code",
   "execution_count": 53,
   "id": "8bac3cb6",
   "metadata": {
    "execution": {
     "iopub.execute_input": "2021-06-07T00:19:31.906479Z",
     "iopub.status.busy": "2021-06-07T00:19:31.905565Z",
     "iopub.status.idle": "2021-06-07T00:19:31.909478Z",
     "shell.execute_reply": "2021-06-07T00:19:31.910213Z"
    }
   },
   "outputs": [
    {
     "data": {
      "text/plain": [
       "15.5"
      ]
     },
     "execution_count": 1,
     "metadata": {},
     "output_type": "execute_result"
    }
   ],
   "source": [
    "decimal1 = float(\"15.50\")\n",
    "decimal1"
   ]
  },
  {
   "cell_type": "markdown",
   "id": "76a8b2f5",
   "metadata": {},
   "source": [
    "## Functions"
   ]
  },
  {
   "cell_type": "markdown",
   "id": "15186260",
   "metadata": {},
   "source": [
    "Functions are small snippets of code that you may want to use\n",
    "multiple times."
   ]
  },
  {
   "cell_type": "code",
   "execution_count": 54,
   "id": "90580c29",
   "metadata": {
    "execution": {
     "iopub.execute_input": "2021-06-07T00:19:31.916702Z",
     "iopub.status.busy": "2021-06-07T00:19:31.915653Z",
     "iopub.status.idle": "2021-06-07T00:19:31.919213Z",
     "shell.execute_reply": "2021-06-07T00:19:31.918354Z"
    },
    "lines_to_next_cell": 1
   },
   "outputs": [],
   "source": [
    "def add_man(str1):\n",
    "    return str1 + \"man\""
   ]
  },
  {
   "cell_type": "code",
   "execution_count": 55,
   "id": "fb029118",
   "metadata": {
    "execution": {
     "iopub.execute_input": "2021-06-07T00:19:31.925504Z",
     "iopub.status.busy": "2021-06-07T00:19:31.924539Z",
     "iopub.status.idle": "2021-06-07T00:19:31.928139Z",
     "shell.execute_reply": "2021-06-07T00:19:31.928889Z"
    },
    "lines_to_next_cell": 2
   },
   "outputs": [
    {
     "data": {
      "text/plain": [
       "'batman'"
      ]
     },
     "execution_count": 1,
     "metadata": {},
     "output_type": "execute_result"
    }
   ],
   "source": [
    "out = add_man(\"bat\")\n",
    "out"
   ]
  },
  {
   "cell_type": "markdown",
   "id": "1b7af66f",
   "metadata": {},
   "source": [
    "Most of the time, functions should not change the variables that\n",
    "are sent to them. For instance here we do not change the variable `y`."
   ]
  },
  {
   "cell_type": "code",
   "execution_count": 56,
   "id": "d98261bb",
   "metadata": {
    "execution": {
     "iopub.execute_input": "2021-06-07T00:19:31.935777Z",
     "iopub.status.busy": "2021-06-07T00:19:31.934837Z",
     "iopub.status.idle": "2021-06-07T00:19:31.939793Z",
     "shell.execute_reply": "2021-06-07T00:19:31.939021Z"
    }
   },
   "outputs": [
    {
     "data": {
      "text/plain": [
       "'batman'"
      ]
     },
     "execution_count": 1,
     "metadata": {},
     "output_type": "execute_result"
    }
   ],
   "source": [
    "y = \"bat\"\n",
    "out = add_man(y)\n",
    "out"
   ]
  },
  {
   "cell_type": "code",
   "execution_count": 57,
   "id": "bc9a9b61",
   "metadata": {
    "execution": {
     "iopub.execute_input": "2021-06-07T00:19:31.945977Z",
     "iopub.status.busy": "2021-06-07T00:19:31.945081Z",
     "iopub.status.idle": "2021-06-07T00:19:31.949973Z",
     "shell.execute_reply": "2021-06-07T00:19:31.949169Z"
    },
    "lines_to_next_cell": 2
   },
   "outputs": [
    {
     "data": {
      "text/plain": [
       "'bat'"
      ]
     },
     "execution_count": 1,
     "metadata": {},
     "output_type": "execute_result"
    }
   ],
   "source": [
    "y"
   ]
  },
  {
   "cell_type": "markdown",
   "id": "49dc19a8",
   "metadata": {
    "lines_to_next_cell": 2
   },
   "source": [
    "One interesting aspect of Python is that it lets your pass functions\n",
    "to functions. For instance, the built-in function `map` is a function\n",
    "applies another function to each element of a list."
   ]
  },
  {
   "cell_type": "markdown",
   "id": "c279b6a5",
   "metadata": {},
   "source": [
    "Assume we have a list like this."
   ]
  },
  {
   "cell_type": "code",
   "execution_count": 58,
   "id": "3a1ba576",
   "metadata": {
    "execution": {
     "iopub.execute_input": "2021-06-07T00:19:31.956133Z",
     "iopub.status.busy": "2021-06-07T00:19:31.955223Z",
     "iopub.status.idle": "2021-06-07T00:19:31.958229Z",
     "shell.execute_reply": "2021-06-07T00:19:31.958925Z"
    }
   },
   "outputs": [],
   "source": [
    "word_list = [\"spider\", \"bat\", \"super\"]"
   ]
  },
  {
   "cell_type": "markdown",
   "id": "c6fb1099",
   "metadata": {},
   "source": [
    "If we want a list with `man` added to each we cannot run the following:"
   ]
  },
  {
   "cell_type": "markdown",
   "id": "59c8ac49",
   "metadata": {},
   "source": [
    "Doesn't work:  add_man(word_list)"
   ]
  },
  {
   "cell_type": "markdown",
   "id": "163c2fe8",
   "metadata": {},
   "source": [
    "However, the map function makes this work, by creating a new list."
   ]
  },
  {
   "cell_type": "code",
   "execution_count": 59,
   "id": "13d08148",
   "metadata": {
    "execution": {
     "iopub.execute_input": "2021-06-07T00:19:31.965488Z",
     "iopub.status.busy": "2021-06-07T00:19:31.964572Z",
     "iopub.status.idle": "2021-06-07T00:19:31.968179Z",
     "shell.execute_reply": "2021-06-07T00:19:31.968908Z"
    }
   },
   "outputs": [
    {
     "data": {
      "text/plain": [
       "<map at 0x7f4b04463580>"
      ]
     },
     "execution_count": 1,
     "metadata": {},
     "output_type": "execute_result"
    }
   ],
   "source": [
    "out = map(add_man, word_list)\n",
    "out"
   ]
  },
  {
   "cell_type": "markdown",
   "id": "e43d5d52",
   "metadata": {},
   "source": [
    "# Group Exercise B"
   ]
  },
  {
   "cell_type": "markdown",
   "id": "a1b386fb",
   "metadata": {},
   "source": [
    "## Question 1"
   ]
  },
  {
   "cell_type": "markdown",
   "id": "f86e98bd",
   "metadata": {},
   "source": [
    "When processing real-world data it is very common to be given a\n",
    "complex string. that contains many different items all smashed together. "
   ]
  },
  {
   "cell_type": "code",
   "execution_count": 60,
   "id": "5cd69355",
   "metadata": {
    "execution": {
     "iopub.execute_input": "2021-06-07T00:19:31.975014Z",
     "iopub.status.busy": "2021-06-07T00:19:31.974113Z",
     "iopub.status.idle": "2021-06-07T00:19:31.977938Z",
     "shell.execute_reply": "2021-06-07T00:19:31.977014Z"
    },
    "lines_to_next_cell": 2
   },
   "outputs": [],
   "source": [
    "real_word_string1 = \"Sasha Rush,arush@cornell.edu,Roosevelt Island,NYC\""
   ]
  },
  {
   "cell_type": "markdown",
   "id": "a59d1539",
   "metadata": {
    "lines_to_next_cell": 2
   },
   "source": [
    "Use one of the string functions above to pull out the email from\n",
    "this string and print it."
   ]
  },
  {
   "cell_type": "code",
   "execution_count": 61,
   "id": "96332757",
   "metadata": {
    "execution": {
     "iopub.execute_input": "2021-06-07T00:19:31.983692Z",
     "iopub.status.busy": "2021-06-07T00:19:31.982731Z",
     "iopub.status.idle": "2021-06-07T00:19:31.986699Z",
     "shell.execute_reply": "2021-06-07T00:19:31.985968Z"
    }
   },
   "outputs": [],
   "source": [
    "#📝📝📝📝 FILLME\n",
    "pass"
   ]
  },
  {
   "cell_type": "markdown",
   "id": "d76df5c5",
   "metadata": {},
   "source": [
    "## Question 2"
   ]
  },
  {
   "cell_type": "markdown",
   "id": "9dfa2611",
   "metadata": {},
   "source": [
    "Now assume the we have a list of strings."
   ]
  },
  {
   "cell_type": "code",
   "execution_count": 62,
   "id": "43134179",
   "metadata": {
    "execution": {
     "iopub.execute_input": "2021-06-07T00:19:31.992964Z",
     "iopub.status.busy": "2021-06-07T00:19:31.992102Z",
     "iopub.status.idle": "2021-06-07T00:19:31.996289Z",
     "shell.execute_reply": "2021-06-07T00:19:31.995516Z"
    },
    "lines_to_next_cell": 2
   },
   "outputs": [],
   "source": [
    "real_word_strings2 = [\"Sasha Rush,arush@cornell.edu,Roosevelt Island,NY\",\n",
    "                     \"Bill Jones,bjones@cornell.edu,Manhattan,NY\",\n",
    "                     \"Sarah Jones,sjones@cornell.edu,Queens,NY\"]"
   ]
  },
  {
   "cell_type": "markdown",
   "id": "4ef61270",
   "metadata": {},
   "source": [
    "Write a for loop that does the following."
   ]
  },
  {
   "cell_type": "markdown",
   "id": "b2a967b3",
   "metadata": {},
   "source": [
    "* Steps through each string\n",
    "* Finds the email address\n",
    "* Prints out the email address"
   ]
  },
  {
   "cell_type": "code",
   "execution_count": 63,
   "id": "5b3452a7",
   "metadata": {
    "execution": {
     "iopub.execute_input": "2021-06-07T00:19:32.002125Z",
     "iopub.status.busy": "2021-06-07T00:19:32.001206Z",
     "iopub.status.idle": "2021-06-07T00:19:32.004138Z",
     "shell.execute_reply": "2021-06-07T00:19:32.004910Z"
    }
   },
   "outputs": [],
   "source": [
    "#📝📝📝📝 FILLME\n",
    "pass"
   ]
  },
  {
   "cell_type": "markdown",
   "id": "d92efd23",
   "metadata": {},
   "source": [
    "## Question 3"
   ]
  },
  {
   "cell_type": "markdown",
   "id": "4d403dd9",
   "metadata": {},
   "source": [
    "Next we will assume that we have a list of strings where people come from\n",
    "different locations. Your goal is to step through the list and print out the\n",
    "emails of *only* the people who come from New York."
   ]
  },
  {
   "cell_type": "code",
   "execution_count": 64,
   "id": "3bfdb008",
   "metadata": {
    "execution": {
     "iopub.execute_input": "2021-06-07T00:19:32.011266Z",
     "iopub.status.busy": "2021-06-07T00:19:32.010259Z",
     "iopub.status.idle": "2021-06-07T00:19:32.014518Z",
     "shell.execute_reply": "2021-06-07T00:19:32.013665Z"
    }
   },
   "outputs": [],
   "source": [
    "real_word_strings3 = [\"Sasha Rush,arush@cornell.edu,Roosevelt Island,NY\",\n",
    "                      \"Erica Zhou,ezhou@cornell.edu,Manhattan,NY\",\n",
    "                      \"Jessica Peters,jpeters@cornell.edu,Miami,FL\",\n",
    "                      \"Bill Jones,bjones@cornell.edu,Philadelpha,PA\",\n",
    "                      \"Sarah Jones,sjones@cornell.edu,Queens,NY\"]"
   ]
  },
  {
   "cell_type": "code",
   "execution_count": 65,
   "id": "a1959bab",
   "metadata": {
    "execution": {
     "iopub.execute_input": "2021-06-07T00:19:32.020297Z",
     "iopub.status.busy": "2021-06-07T00:19:32.019305Z",
     "iopub.status.idle": "2021-06-07T00:19:32.023256Z",
     "shell.execute_reply": "2021-06-07T00:19:32.022389Z"
    },
    "lines_to_next_cell": 2
   },
   "outputs": [],
   "source": [
    "#📝📝📝📝 FILLME\n",
    "pass"
   ]
  },
  {
   "cell_type": "markdown",
   "id": "234c6217",
   "metadata": {},
   "source": [
    "## Question 4"
   ]
  },
  {
   "cell_type": "markdown",
   "id": "1e54d579",
   "metadata": {},
   "source": [
    "Finally lets assume that we want to create a new list of strings. We are going to do this\n",
    "by adding one more element to each string."
   ]
  },
  {
   "cell_type": "markdown",
   "id": "aeff0934",
   "metadata": {},
   "source": [
    "Instead of \"Sasha Rush,arush@cornell.edu,Roosevelt Island,NY\"\n",
    "we want it to say =>\n",
    "\"Sasha Rush,arush@cornell.edu,Roosevelt Island,NY,Computer Science\" "
   ]
  },
  {
   "cell_type": "markdown",
   "id": "2dfe3a34",
   "metadata": {},
   "source": [
    "Your task is to add this last element to each one of the strings"
   ]
  },
  {
   "cell_type": "code",
   "execution_count": 66,
   "id": "97366906",
   "metadata": {
    "execution": {
     "iopub.execute_input": "2021-06-07T00:19:32.030073Z",
     "iopub.status.busy": "2021-06-07T00:19:32.029069Z",
     "iopub.status.idle": "2021-06-07T00:19:32.032940Z",
     "shell.execute_reply": "2021-06-07T00:19:32.032104Z"
    }
   },
   "outputs": [],
   "source": [
    "real_word_strings4 = [\"Sasha Rush,arush@cornell.edu,Roosevelt Island,NY\",\n",
    "                      \"Erica Zhou,ezhou@cornell.edu,Manhattan,NY\",\n",
    "                      \"Jessica Peters,jpeters@cornell.edu,Miami,FL\",\n",
    "                      \"Bill Jones,bjones@cornell.edu,Philadelpha,PA\",\n",
    "                      \"Sarah Jones,sjones@cornell.edu,Queens,NY\"]\n",
    "#📝📝📝📝 FILLME\n",
    "pass"
   ]
  },
  {
   "cell_type": "code",
   "execution_count": null,
   "id": "6b3a445e",
   "metadata": {},
   "outputs": [],
   "source": []
  }
 ],
 "metadata": {
  "jupytext": {
   "cell_metadata_filter": "-all"
  },
  "kernelspec": {
   "display_name": "myenv",
   "language": "python",
   "name": "myenv"
  },
  "language_info": {
   "codemirror_mode": {
    "name": "ipython",
    "version": 3
   },
   "file_extension": ".py",
   "mimetype": "text/x-python",
   "name": "python",
   "nbconvert_exporter": "python",
   "pygments_lexer": "ipython3",
   "version": "3.8.5"
  }
 },
 "nbformat": 4,
 "nbformat_minor": 5
}
