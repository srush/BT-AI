{
 "cells": [
  {
   "cell_type": "markdown",
   "id": "0a9c22e7",
   "metadata": {},
   "source": [
    "# Module 1 - Python Basics"
   ]
  },
  {
   "cell_type": "markdown",
   "id": "0966e2b6",
   "metadata": {},
   "source": [
    "## Goal:"
   ]
  },
  {
   "cell_type": "markdown",
   "id": "972b80ba",
   "metadata": {},
   "source": [
    "*\n",
    "* "
   ]
  },
  {
   "cell_type": "markdown",
   "id": "8349b8a5",
   "metadata": {},
   "source": [
    "## Working with files"
   ]
  },
  {
   "cell_type": "markdown",
   "id": "c6659c63",
   "metadata": {},
   "source": [
    "## Classes"
   ]
  },
  {
   "cell_type": "markdown",
   "id": "51cf19a8",
   "metadata": {},
   "source": [
    "## Functions"
   ]
  },
  {
   "cell_type": "markdown",
   "id": "b32ba1e9",
   "metadata": {},
   "source": [
    "## Dictionaries"
   ]
  },
  {
   "cell_type": "code",
   "execution_count": null,
   "id": "b10ea748",
   "metadata": {
    "lines_to_next_cell": 2
   },
   "outputs": [],
   "source": []
  }
 ],
 "metadata": {
  "jupytext": {
   "cell_metadata_filter": "-all"
  },
  "kernelspec": {
   "display_name": "myenv",
   "language": "python",
   "name": "myenv"
  },
  "language_info": {
   "codemirror_mode": {
    "name": "ipython",
    "version": 3
   },
   "file_extension": ".py",
   "mimetype": "text/x-python",
   "name": "python",
   "nbconvert_exporter": "python",
   "pygments_lexer": "ipython3",
   "version": "3.8.5"
  }
 },
 "nbformat": 4,
 "nbformat_minor": 5
}
