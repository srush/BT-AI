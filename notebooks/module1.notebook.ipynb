{
 "cells": [
  {
   "cell_type": "markdown",
   "id": "6d039a14",
   "metadata": {
    "lines_to_next_cell": 2
   },
   "source": [
    "# Module 1 - Python Basics"
   ]
  },
  {
   "cell_type": "markdown",
   "id": "214132d3",
   "metadata": {
    "lines_to_next_cell": 2
   },
   "source": [
    "## Working with files"
   ]
  },
  {
   "cell_type": "markdown",
   "id": "a894a0f6",
   "metadata": {
    "lines_to_next_cell": 2
   },
   "source": [
    "## Classes"
   ]
  },
  {
   "cell_type": "markdown",
   "id": "2fb840a3",
   "metadata": {},
   "source": [
    "## Functions"
   ]
  },
  {
   "cell_type": "code",
   "execution_count": null,
   "id": "4707520b",
   "metadata": {},
   "outputs": [],
   "source": []
  },
  {
   "cell_type": "code",
   "execution_count": null,
   "id": "82a6299c",
   "metadata": {},
   "outputs": [],
   "source": []
  }
 ],
 "metadata": {
  "jupytext": {
   "cell_metadata_filter": "-all"
  },
  "kernelspec": {
   "display_name": "myenv",
   "language": "python",
   "name": "myenv"
  },
  "language_info": {
   "codemirror_mode": {
    "name": "ipython",
    "version": 3
   },
   "file_extension": ".py",
   "mimetype": "text/x-python",
   "name": "python",
   "nbconvert_exporter": "python",
   "pygments_lexer": "ipython3",
   "version": "3.8.5"
  }
 },
 "nbformat": 4,
 "nbformat_minor": 5
}
