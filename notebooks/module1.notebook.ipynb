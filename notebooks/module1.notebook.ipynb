{
 "cells": [
  {
   "cell_type": "markdown",
   "id": "c70e7069",
   "metadata": {},
   "source": [
    "# Lab 1 - Python Basics"
   ]
  },
  {
   "cell_type": "markdown",
   "id": "44ee2e44",
   "metadata": {},
   "source": [
    "The goal of this lab is to work through the basics of python with\n",
    "a focus on the aspects that are important for datascience and machine learning."
   ]
  },
  {
   "cell_type": "markdown",
   "id": "dd8d789d",
   "metadata": {},
   "source": [
    "## Working with types"
   ]
  },
  {
   "cell_type": "markdown",
   "id": "403d8509",
   "metadata": {},
   "source": [
    "Unlike other languages that you may have worked with in the past\n",
    "Python does not make the user declare the \"types\" of variables\n",
    "(numbers, strings, classes). However, as a programmer it is important\n",
    "for you to know the differences and how they work."
   ]
  },
  {
   "cell_type": "markdown",
   "id": "41ab95b9",
   "metadata": {},
   "source": [
    "### Numbers"
   ]
  },
  {
   "cell_type": "markdown",
   "id": "653055a1",
   "metadata": {},
   "source": [
    "Numbers are the simplest type we will work with. Most of the time\n",
    "you can ignore the difference between integers and decimal types.\n",
    "Python will handle the conversions for you. "
   ]
  },
  {
   "cell_type": "code",
   "execution_count": 1,
   "id": "162e8df5",
   "metadata": {
    "execution": {
     "iopub.execute_input": "2021-05-27T16:06:59.879845Z",
     "iopub.status.busy": "2021-05-27T16:06:59.878767Z",
     "iopub.status.idle": "2021-05-27T16:06:59.882818Z",
     "shell.execute_reply": "2021-05-27T16:06:59.881835Z"
    },
    "lines_to_next_cell": 2
   },
   "outputs": [],
   "source": [
    "number1 = 10.5\n",
    "number2 = 20"
   ]
  },
  {
   "cell_type": "code",
   "execution_count": 2,
   "id": "f8bd764e",
   "metadata": {
    "execution": {
     "iopub.execute_input": "2021-05-27T16:06:59.898073Z",
     "iopub.status.busy": "2021-05-27T16:06:59.897181Z",
     "iopub.status.idle": "2021-05-27T16:06:59.901503Z",
     "shell.execute_reply": "2021-05-27T16:06:59.902233Z"
    }
   },
   "outputs": [
    {
     "data": {
      "text/plain": [
       "30.5"
      ]
     },
     "execution_count": 1,
     "metadata": {},
     "output_type": "execute_result"
    }
   ],
   "source": [
    "number3 = number1 + number2\n",
    "number3"
   ]
  },
  {
   "cell_type": "markdown",
   "id": "09e1dbe5",
   "metadata": {},
   "source": [
    "### Strings"
   ]
  },
  {
   "cell_type": "markdown",
   "id": "a0c9d8ee",
   "metadata": {},
   "source": [
    "Strings are very easy to use in python. You can\n",
    "just use quotes to create them. To combine two strings\n",
    "you simply add them together. "
   ]
  },
  {
   "cell_type": "code",
   "execution_count": 3,
   "id": "0d35c4ad",
   "metadata": {
    "execution": {
     "iopub.execute_input": "2021-05-27T16:06:59.908006Z",
     "iopub.status.busy": "2021-05-27T16:06:59.907067Z",
     "iopub.status.idle": "2021-05-27T16:06:59.910312Z",
     "shell.execute_reply": "2021-05-27T16:06:59.909397Z"
    },
    "lines_to_next_cell": 2
   },
   "outputs": [],
   "source": [
    "string1 = \"Hello \"\n",
    "string2 = \"World\""
   ]
  },
  {
   "cell_type": "code",
   "execution_count": 4,
   "id": "67bd8212",
   "metadata": {
    "execution": {
     "iopub.execute_input": "2021-05-27T16:06:59.916291Z",
     "iopub.status.busy": "2021-05-27T16:06:59.915442Z",
     "iopub.status.idle": "2021-05-27T16:06:59.920753Z",
     "shell.execute_reply": "2021-05-27T16:06:59.919955Z"
    },
    "lines_to_next_cell": 2
   },
   "outputs": [
    {
     "data": {
      "text/plain": [
       "'Hello World'"
      ]
     },
     "execution_count": 1,
     "metadata": {},
     "output_type": "execute_result"
    }
   ],
   "source": [
    "string3 = string1 + string2\n",
    "string3"
   ]
  },
  {
   "cell_type": "markdown",
   "id": "d0f904c5",
   "metadata": {},
   "source": [
    "### Lists"
   ]
  },
  {
   "cell_type": "markdown",
   "id": "55cd56bd",
   "metadata": {
    "lines_to_next_cell": 2
   },
   "source": [
    "Python has a simple type for multiple values called a list.\n",
    "This differs slightly from array types in other languages as you\n",
    "don't need to declare the size of the list. "
   ]
  },
  {
   "cell_type": "code",
   "execution_count": 5,
   "id": "ab36cb36",
   "metadata": {
    "execution": {
     "iopub.execute_input": "2021-05-27T16:06:59.927275Z",
     "iopub.status.busy": "2021-05-27T16:06:59.926264Z",
     "iopub.status.idle": "2021-05-27T16:06:59.929703Z",
     "shell.execute_reply": "2021-05-27T16:06:59.928697Z"
    }
   },
   "outputs": [],
   "source": [
    "list1 = [1, 2, 3]\n",
    "list2 = [4, 5]"
   ]
  },
  {
   "cell_type": "markdown",
   "id": "c1291e81",
   "metadata": {},
   "source": [
    "Adding two lists together creates a new list combining the two."
   ]
  },
  {
   "cell_type": "code",
   "execution_count": 6,
   "id": "547b9ee7",
   "metadata": {
    "execution": {
     "iopub.execute_input": "2021-05-27T16:06:59.936337Z",
     "iopub.status.busy": "2021-05-27T16:06:59.935105Z",
     "iopub.status.idle": "2021-05-27T16:06:59.938453Z",
     "shell.execute_reply": "2021-05-27T16:06:59.937616Z"
    }
   },
   "outputs": [],
   "source": [
    "list3 = list1 + list2"
   ]
  },
  {
   "cell_type": "code",
   "execution_count": null,
   "id": "994c6771",
   "metadata": {},
   "outputs": [],
   "source": []
  },
  {
   "cell_type": "markdown",
   "id": "cba4436d",
   "metadata": {
    "lines_to_next_cell": 2
   },
   "source": [
    "## Dictionaries"
   ]
  },
  {
   "cell_type": "markdown",
   "id": "38a3164c",
   "metadata": {},
   "source": [
    "A dictionary type is used to link a \"key\" to a \"value\".\n",
    "You can have as many keys and values as you want, and they can\n",
    "be of most of the types that we have seen so far. "
   ]
  },
  {
   "cell_type": "code",
   "execution_count": 7,
   "id": "55fddf1b",
   "metadata": {
    "execution": {
     "iopub.execute_input": "2021-05-27T16:06:59.945421Z",
     "iopub.status.busy": "2021-05-27T16:06:59.944447Z",
     "iopub.status.idle": "2021-05-27T16:06:59.948913Z",
     "shell.execute_reply": "2021-05-27T16:06:59.948002Z"
    },
    "lines_to_next_cell": 2
   },
   "outputs": [
    {
     "data": {
      "text/plain": [
       "{'apple': 'red', 'banana': 'yellow'}"
      ]
     },
     "execution_count": 1,
     "metadata": {},
     "output_type": "execute_result"
    }
   ],
   "source": [
    "dict1 = {\"apple\": \"red\",\n",
    "         \"banana\": \"yellow\"}\n",
    "dict1"
   ]
  },
  {
   "cell_type": "markdown",
   "id": "295ec362",
   "metadata": {},
   "source": [
    "To access a value of the dictionary, you use the square bracket notation\n",
    "with the key that you want to access."
   ]
  },
  {
   "cell_type": "code",
   "execution_count": 8,
   "id": "e481804b",
   "metadata": {
    "execution": {
     "iopub.execute_input": "2021-05-27T16:06:59.955446Z",
     "iopub.status.busy": "2021-05-27T16:06:59.954511Z",
     "iopub.status.idle": "2021-05-27T16:06:59.958658Z",
     "shell.execute_reply": "2021-05-27T16:06:59.957737Z"
    },
    "lines_to_next_cell": 2
   },
   "outputs": [
    {
     "data": {
      "text/plain": [
       "'red'"
      ]
     },
     "execution_count": 1,
     "metadata": {},
     "output_type": "execute_result"
    }
   ],
   "source": [
    "dict1[\"apple\"]"
   ]
  },
  {
   "cell_type": "code",
   "execution_count": 9,
   "id": "2cdb16e8",
   "metadata": {
    "execution": {
     "iopub.execute_input": "2021-05-27T16:06:59.964549Z",
     "iopub.status.busy": "2021-05-27T16:06:59.963594Z",
     "iopub.status.idle": "2021-05-27T16:06:59.968130Z",
     "shell.execute_reply": "2021-05-27T16:06:59.967307Z"
    }
   },
   "outputs": [
    {
     "data": {
      "text/plain": [
       "'yellow'"
      ]
     },
     "execution_count": 1,
     "metadata": {},
     "output_type": "execute_result"
    }
   ],
   "source": [
    "dict1[\"banana\"]"
   ]
  },
  {
   "cell_type": "markdown",
   "id": "651ba582",
   "metadata": {},
   "source": [
    "You can also add a new key to the dictionary by setting its value."
   ]
  },
  {
   "cell_type": "code",
   "execution_count": 10,
   "id": "279c65a9",
   "metadata": {
    "execution": {
     "iopub.execute_input": "2021-05-27T16:06:59.974743Z",
     "iopub.status.busy": "2021-05-27T16:06:59.973777Z",
     "iopub.status.idle": "2021-05-27T16:06:59.978049Z",
     "shell.execute_reply": "2021-05-27T16:06:59.977121Z"
    },
    "lines_to_next_cell": 2
   },
   "outputs": [
    {
     "data": {
      "text/plain": [
       "{'apple': 'red', 'banana': 'yellow', 'pear': 'green'}"
      ]
     },
     "execution_count": 1,
     "metadata": {},
     "output_type": "execute_result"
    }
   ],
   "source": [
    "dict1[\"pear\"] = \"green\"\n",
    "dict1"
   ]
  },
  {
   "cell_type": "markdown",
   "id": "65092d65",
   "metadata": {},
   "source": [
    "## Control Structures"
   ]
  },
  {
   "cell_type": "markdown",
   "id": "5ef5bc0d",
   "metadata": {
    "lines_to_next_cell": 2
   },
   "source": [
    "### `if` statements"
   ]
  },
  {
   "cell_type": "markdown",
   "id": "bb847bc4",
   "metadata": {},
   "source": [
    "If statements check for a condition and run the \n",
    "code if it is true. In Python you need to indent\n",
    "the code under the if statement otherwise it will\n",
    "not run."
   ]
  },
  {
   "cell_type": "code",
   "execution_count": 11,
   "id": "6dd8580e",
   "metadata": {
    "execution": {
     "iopub.execute_input": "2021-05-27T16:06:59.984233Z",
     "iopub.status.busy": "2021-05-27T16:06:59.983325Z",
     "iopub.status.idle": "2021-05-27T16:06:59.986838Z",
     "shell.execute_reply": "2021-05-27T16:06:59.985912Z"
    }
   },
   "outputs": [],
   "source": [
    "number3 = 10 + 75.0"
   ]
  },
  {
   "cell_type": "code",
   "execution_count": 12,
   "id": "f805ef0c",
   "metadata": {
    "execution": {
     "iopub.execute_input": "2021-05-27T16:06:59.992849Z",
     "iopub.status.busy": "2021-05-27T16:06:59.991929Z",
     "iopub.status.idle": "2021-05-27T16:06:59.995438Z",
     "shell.execute_reply": "2021-05-27T16:06:59.996203Z"
    },
    "lines_to_next_cell": 2
   },
   "outputs": [
    {
     "name": "stdout",
     "output_type": "stream",
     "text": [
      "number is greater than 50\n"
     ]
    }
   ],
   "source": [
    "if number3 > 50:\n",
    "    print(\"number is greater than 50\")"
   ]
  },
  {
   "cell_type": "code",
   "execution_count": 13,
   "id": "d0c88deb",
   "metadata": {
    "execution": {
     "iopub.execute_input": "2021-05-27T16:07:00.002412Z",
     "iopub.status.busy": "2021-05-27T16:07:00.001392Z",
     "iopub.status.idle": "2021-05-27T16:07:00.005063Z",
     "shell.execute_reply": "2021-05-27T16:07:00.004074Z"
    },
    "lines_to_next_cell": 2
   },
   "outputs": [],
   "source": [
    "if number3 > 100:\n",
    "    print(\"number is greater than 100\")"
   ]
  },
  {
   "cell_type": "markdown",
   "id": "216f6597",
   "metadata": {},
   "source": [
    "You can also have a backup `else` code block that will run if \n",
    "the condition is not true."
   ]
  },
  {
   "cell_type": "code",
   "execution_count": 14,
   "id": "1e517d4c",
   "metadata": {
    "execution": {
     "iopub.execute_input": "2021-05-27T16:07:00.012125Z",
     "iopub.status.busy": "2021-05-27T16:07:00.010801Z",
     "iopub.status.idle": "2021-05-27T16:07:00.014508Z",
     "shell.execute_reply": "2021-05-27T16:07:00.015341Z"
    }
   },
   "outputs": [
    {
     "name": "stdout",
     "output_type": "stream",
     "text": [
      "number is not greater than 100\n"
     ]
    }
   ],
   "source": [
    "if number3 > 100:\n",
    "    print(\"number is greater than 100\")\n",
    "else:\n",
    "    print(\"number is not greater than 100\")"
   ]
  },
  {
   "cell_type": "markdown",
   "id": "01aa5ff9",
   "metadata": {},
   "source": [
    "### `for` loops"
   ]
  },
  {
   "cell_type": "markdown",
   "id": "9ffc71c4",
   "metadata": {},
   "source": [
    "For loops in python are used to step through the items in a list one by"
   ]
  },
  {
   "cell_type": "code",
   "execution_count": 15,
   "id": "8aebd327",
   "metadata": {
    "execution": {
     "iopub.execute_input": "2021-05-27T16:07:00.021576Z",
     "iopub.status.busy": "2021-05-27T16:07:00.020672Z",
     "iopub.status.idle": "2021-05-27T16:07:00.024409Z",
     "shell.execute_reply": "2021-05-27T16:07:00.025170Z"
    }
   },
   "outputs": [
    {
     "data": {
      "text/plain": [
       "[1, 2, 3, 4, 5]"
      ]
     },
     "execution_count": 1,
     "metadata": {},
     "output_type": "execute_result"
    }
   ],
   "source": [
    "list3"
   ]
  },
  {
   "cell_type": "code",
   "execution_count": null,
   "id": "a17ad4bf",
   "metadata": {},
   "outputs": [],
   "source": []
  },
  {
   "cell_type": "markdown",
   "id": "dbe21e50",
   "metadata": {},
   "source": [
    "You indicate a for loop in the following manner. The code will be run 5 times\n",
    "with the variable `value` taking on a new value each time through the l100p."
   ]
  },
  {
   "cell_type": "code",
   "execution_count": 16,
   "id": "a31e37a3",
   "metadata": {
    "execution": {
     "iopub.execute_input": "2021-05-27T16:07:00.031668Z",
     "iopub.status.busy": "2021-05-27T16:07:00.030716Z",
     "iopub.status.idle": "2021-05-27T16:07:00.034915Z",
     "shell.execute_reply": "2021-05-27T16:07:00.035645Z"
    },
    "lines_to_next_cell": 2
   },
   "outputs": [
    {
     "name": "stdout",
     "output_type": "stream",
     "text": [
      "Next value is:  1\n",
      "Next value is:  2\n",
      "Next value is:  3\n",
      "Next value is:  4\n",
      "Next value is:  5\n"
     ]
    }
   ],
   "source": [
    "for value in list3:\n",
    "    print(\"Next value is: \", value)"
   ]
  },
  {
   "cell_type": "markdown",
   "id": "7a2653a1",
   "metadata": {},
   "source": [
    "## Importing and Reading Docs"
   ]
  },
  {
   "cell_type": "markdown",
   "id": "11f45e0e",
   "metadata": {
    "lines_to_next_cell": 2
   },
   "source": [
    "Python allows the user to specify their own types to represent\n",
    "additional properties.  We will use many other types throughout the\n",
    "class. To use these types we need to `import` them from libraries\n",
    "that store the code. "
   ]
  },
  {
   "cell_type": "markdown",
   "id": "f9df9b1a",
   "metadata": {},
   "source": [
    "Here are a couple of examples."
   ]
  },
  {
   "cell_type": "markdown",
   "id": "2b8043b1",
   "metadata": {},
   "source": [
    "## Counters"
   ]
  },
  {
   "cell_type": "markdown",
   "id": "ae8d3310",
   "metadata": {},
   "source": [
    "First we add a line of code to important a new type into our program.\n",
    "it will often looks something like this."
   ]
  },
  {
   "cell_type": "code",
   "execution_count": 17,
   "id": "3fea7746",
   "metadata": {
    "execution": {
     "iopub.execute_input": "2021-05-27T16:07:00.041907Z",
     "iopub.status.busy": "2021-05-27T16:07:00.040920Z",
     "iopub.status.idle": "2021-05-27T16:07:00.044405Z",
     "shell.execute_reply": "2021-05-27T16:07:00.043545Z"
    }
   },
   "outputs": [],
   "source": [
    "import collections\n",
    "# We can then use the type like this."
   ]
  },
  {
   "cell_type": "code",
   "execution_count": 18,
   "id": "4e2ff8e2",
   "metadata": {
    "execution": {
     "iopub.execute_input": "2021-05-27T16:07:00.052210Z",
     "iopub.status.busy": "2021-05-27T16:07:00.050888Z",
     "iopub.status.idle": "2021-05-27T16:07:00.055036Z",
     "shell.execute_reply": "2021-05-27T16:07:00.056083Z"
    }
   },
   "outputs": [
    {
     "data": {
      "text/plain": [
       "Counter({1: 5, 2: 2})"
      ]
     },
     "execution_count": 1,
     "metadata": {},
     "output_type": "execute_result"
    }
   ],
   "source": [
    "count = collections.Counter([1, 2, 1, 2, 1, 1, 1])\n",
    "count"
   ]
  },
  {
   "cell_type": "markdown",
   "id": "2d7b255f",
   "metadata": {},
   "source": [
    "How did we know that this function would count the items in a list?"
   ]
  },
  {
   "cell_type": "markdown",
   "id": "96e3e97d",
   "metadata": {
    "lines_to_next_cell": 2
   },
   "source": [
    "We didn't! We had to read the documentation. Mostly this means you\n",
    "go to Google and you type \"how do I count the number of items in a\n",
    "list in python\" You then click on the link from stackoverflow and\n",
    "some nice person tells you the answer. It won't always be the first\n",
    "answer but just keep trying until you find it.\n",
    "https://stackoverflow.com/questions/2161752/how-to-count-the-frequency-of-the-elements-in-an-unordered-list"
   ]
  },
  {
   "cell_type": "markdown",
   "id": "0c4a4f9c",
   "metadata": {},
   "source": [
    "Another method is to print out the `help` method in your notebook.  "
   ]
  },
  {
   "cell_type": "code",
   "execution_count": 19,
   "id": "15c06898",
   "metadata": {
    "execution": {
     "iopub.execute_input": "2021-05-27T16:07:00.074616Z",
     "iopub.status.busy": "2021-05-27T16:07:00.073715Z",
     "iopub.status.idle": "2021-05-27T16:07:00.078200Z",
     "shell.execute_reply": "2021-05-27T16:07:00.077292Z"
    },
    "lines_to_next_cell": 2
   },
   "outputs": [
    {
     "name": "stdout",
     "output_type": "stream",
     "text": [
      "Help on class Counter in module collections:\n",
      "\n",
      "class Counter(builtins.dict)\n",
      " |  Counter(iterable=None, /, **kwds)\n",
      " |  \n",
      " |  Dict subclass for counting hashable items.  Sometimes called a bag\n",
      " |  or multiset.  Elements are stored as dictionary keys and their counts\n",
      " |  are stored as dictionary values.\n",
      " |  \n",
      " |  >>> c = Counter('abcdeabcdabcaba')  # count elements from a string\n",
      " |  \n",
      " |  >>> c.most_common(3)                # three most common elements\n",
      " |  [('a', 5), ('b', 4), ('c', 3)]\n",
      " |  >>> sorted(c)                       # list all unique elements\n",
      " |  ['a', 'b', 'c', 'd', 'e']\n",
      " |  >>> ''.join(sorted(c.elements()))   # list elements with repetitions\n",
      " |  'aaaaabbbbcccdde'\n",
      " |  >>> sum(c.values())                 # total of all counts\n",
      " |  15\n",
      " |  \n",
      " |  >>> c['a']                          # count of letter 'a'\n",
      " |  5\n",
      " |  >>> for elem in 'shazam':           # update counts from an iterable\n",
      " |  ...     c[elem] += 1                # by adding 1 to each element's count\n",
      " |  >>> c['a']                          # now there are seven 'a'\n",
      " |  7\n",
      " |  >>> del c['b']                      # remove all 'b'\n",
      " |  >>> c['b']                          # now there are zero 'b'\n",
      " |  0\n",
      " |  \n",
      " |  >>> d = Counter('simsalabim')       # make another counter\n",
      " |  >>> c.update(d)                     # add in the second counter\n",
      " |  >>> c['a']                          # now there are nine 'a'\n",
      " |  9\n",
      " |  \n",
      " |  >>> c.clear()                       # empty the counter\n",
      " |  >>> c\n",
      " |  Counter()\n",
      " |  \n",
      " |  Note:  If a count is set to zero or reduced to zero, it will remain\n",
      " |  in the counter until the entry is deleted or the counter is cleared:\n",
      " |  \n",
      " |  >>> c = Counter('aaabbc')\n",
      " |  >>> c['b'] -= 2                     # reduce the count of 'b' by two\n",
      " |  >>> c.most_common()                 # 'b' is still in, but its count is zero\n",
      " |  [('a', 3), ('c', 1), ('b', 0)]\n",
      " |  \n",
      " |  Method resolution order:\n",
      " |      Counter\n",
      " |      builtins.dict\n",
      " |      builtins.object\n",
      " |  \n",
      " |  Methods defined here:\n",
      " |  \n",
      " |  __add__(self, other)\n",
      " |      Add counts from two counters.\n",
      " |      \n",
      " |      >>> Counter('abbb') + Counter('bcc')\n",
      " |      Counter({'b': 4, 'c': 2, 'a': 1})\n",
      " |  \n",
      " |  __and__(self, other)\n",
      " |      Intersection is the minimum of corresponding counts.\n",
      " |      \n",
      " |      >>> Counter('abbb') & Counter('bcc')\n",
      " |      Counter({'b': 1})\n",
      " |  \n",
      " |  __delitem__(self, elem)\n",
      " |      Like dict.__delitem__() but does not raise KeyError for missing values.\n",
      " |  \n",
      " |  __iadd__(self, other)\n",
      " |      Inplace add from another counter, keeping only positive counts.\n",
      " |      \n",
      " |      >>> c = Counter('abbb')\n",
      " |      >>> c += Counter('bcc')\n",
      " |      >>> c\n",
      " |      Counter({'b': 4, 'c': 2, 'a': 1})\n",
      " |  \n",
      " |  __iand__(self, other)\n",
      " |      Inplace intersection is the minimum of corresponding counts.\n",
      " |      \n",
      " |      >>> c = Counter('abbb')\n",
      " |      >>> c &= Counter('bcc')\n",
      " |      >>> c\n",
      " |      Counter({'b': 1})\n",
      " |  \n",
      " |  __init__(self, iterable=None, /, **kwds)\n",
      " |      Create a new, empty Counter object.  And if given, count elements\n",
      " |      from an input iterable.  Or, initialize the count from another mapping\n",
      " |      of elements to their counts.\n",
      " |      \n",
      " |      >>> c = Counter()                           # a new, empty counter\n",
      " |      >>> c = Counter('gallahad')                 # a new counter from an iterable\n",
      " |      >>> c = Counter({'a': 4, 'b': 2})           # a new counter from a mapping\n",
      " |      >>> c = Counter(a=4, b=2)                   # a new counter from keyword args\n",
      " |  \n",
      " |  __ior__(self, other)\n",
      " |      Inplace union is the maximum of value from either counter.\n",
      " |      \n",
      " |      >>> c = Counter('abbb')\n",
      " |      >>> c |= Counter('bcc')\n",
      " |      >>> c\n",
      " |      Counter({'b': 3, 'c': 2, 'a': 1})\n",
      " |  \n",
      " |  __isub__(self, other)\n",
      " |      Inplace subtract counter, but keep only results with positive counts.\n",
      " |      \n",
      " |      >>> c = Counter('abbbc')\n",
      " |      >>> c -= Counter('bccd')\n",
      " |      >>> c\n",
      " |      Counter({'b': 2, 'a': 1})\n",
      " |  \n",
      " |  __missing__(self, key)\n",
      " |      The count of elements not in the Counter is zero.\n",
      " |  \n",
      " |  __neg__(self)\n",
      " |      Subtracts from an empty counter.  Strips positive and zero counts,\n",
      " |      and flips the sign on negative counts.\n",
      " |  \n",
      " |  __or__(self, other)\n",
      " |      Union is the maximum of value in either of the input counters.\n",
      " |      \n",
      " |      >>> Counter('abbb') | Counter('bcc')\n",
      " |      Counter({'b': 3, 'c': 2, 'a': 1})\n",
      " |  \n",
      " |  __pos__(self)\n",
      " |      Adds an empty counter, effectively stripping negative and zero counts\n",
      " |  \n",
      " |  __reduce__(self)\n",
      " |      Helper for pickle.\n",
      " |  \n",
      " |  __repr__(self)\n",
      " |      Return repr(self).\n",
      " |  \n",
      " |  __sub__(self, other)\n",
      " |      Subtract count, but keep only results with positive counts.\n",
      " |      \n",
      " |      >>> Counter('abbbc') - Counter('bccd')\n",
      " |      Counter({'b': 2, 'a': 1})\n",
      " |  \n",
      " |  copy(self)\n",
      " |      Return a shallow copy.\n",
      " |  \n",
      " |  elements(self)\n",
      " |      Iterator over elements repeating each as many times as its count.\n",
      " |      \n",
      " |      >>> c = Counter('ABCABC')\n",
      " |      >>> sorted(c.elements())\n",
      " |      ['A', 'A', 'B', 'B', 'C', 'C']\n",
      " |      \n",
      " |      # Knuth's example for prime factors of 1836:  2**2 * 3**3 * 17**1\n",
      " |      >>> prime_factors = Counter({2: 2, 3: 3, 17: 1})\n",
      " |      >>> product = 1\n",
      " |      >>> for factor in prime_factors.elements():     # loop over factors\n",
      " |      ...     product *= factor                       # and multiply them\n",
      " |      >>> product\n",
      " |      1836\n",
      " |      \n",
      " |      Note, if an element's count has been set to zero or is a negative\n",
      " |      number, elements() will ignore it.\n",
      " |  \n",
      " |  most_common(self, n=None)\n",
      " |      List the n most common elements and their counts from the most\n",
      " |      common to the least.  If n is None, then list all element counts.\n",
      " |      \n",
      " |      >>> Counter('abracadabra').most_common(3)\n",
      " |      [('a', 5), ('b', 2), ('r', 2)]\n",
      " |  \n",
      " |  subtract(self, iterable=None, /, **kwds)\n",
      " |      Like dict.update() but subtracts counts instead of replacing them.\n",
      " |      Counts can be reduced below zero.  Both the inputs and outputs are\n",
      " |      allowed to contain zero and negative counts.\n",
      " |      \n",
      " |      Source can be an iterable, a dictionary, or another Counter instance.\n",
      " |      \n",
      " |      >>> c = Counter('which')\n",
      " |      >>> c.subtract('witch')             # subtract elements from another iterable\n",
      " |      >>> c.subtract(Counter('watch'))    # subtract elements from another counter\n",
      " |      >>> c['h']                          # 2 in which, minus 1 in witch, minus 1 in watch\n",
      " |      0\n",
      " |      >>> c['w']                          # 1 in which, minus 1 in witch, minus 1 in watch\n",
      " |      -1\n",
      " |  \n",
      " |  update(self, iterable=None, /, **kwds)\n",
      " |      Like dict.update() but add counts instead of replacing them.\n",
      " |      \n",
      " |      Source can be an iterable, a dictionary, or another Counter instance.\n",
      " |      \n",
      " |      >>> c = Counter('which')\n",
      " |      >>> c.update('witch')           # add elements from another iterable\n",
      " |      >>> d = Counter('watch')\n",
      " |      >>> c.update(d)                 # add elements from another counter\n",
      " |      >>> c['h']                      # four 'h' in which, witch, and watch\n",
      " |      4\n",
      " |  \n",
      " |  ----------------------------------------------------------------------\n",
      " |  Class methods defined here:\n",
      " |  \n",
      " |  fromkeys(iterable, v=None) from builtins.type\n",
      " |      Create a new dictionary with keys from iterable and values set to value.\n",
      " |  \n",
      " |  ----------------------------------------------------------------------\n",
      " |  Data descriptors defined here:\n",
      " |  \n",
      " |  __dict__\n",
      " |      dictionary for instance variables (if defined)\n",
      " |  \n",
      " |  __weakref__\n",
      " |      list of weak references to the object (if defined)\n",
      " |  \n",
      " |  ----------------------------------------------------------------------\n",
      " |  Methods inherited from builtins.dict:\n",
      " |  \n",
      " |  __contains__(self, key, /)\n",
      " |      True if the dictionary has the specified key, else False.\n",
      " |  \n",
      " |  __eq__(self, value, /)\n",
      " |      Return self==value.\n",
      " |  \n",
      " |  __ge__(self, value, /)\n",
      " |      Return self>=value.\n",
      " |  \n",
      " |  __getattribute__(self, name, /)\n",
      " |      Return getattr(self, name).\n",
      " |  \n",
      " |  __getitem__(...)\n",
      " |      x.__getitem__(y) <==> x[y]\n",
      " |  \n",
      " |  __gt__(self, value, /)\n",
      " |      Return self>value.\n",
      " |  \n",
      " |  __iter__(self, /)\n",
      " |      Implement iter(self).\n",
      " |  \n",
      " |  __le__(self, value, /)\n",
      " |      Return self<=value.\n",
      " |  \n",
      " |  __len__(self, /)\n",
      " |      Return len(self).\n",
      " |  \n",
      " |  __lt__(self, value, /)\n",
      " |      Return self<value.\n",
      " |  \n",
      " |  __ne__(self, value, /)\n",
      " |      Return self!=value.\n",
      " |  \n",
      " |  __reversed__(self, /)\n",
      " |      Return a reverse iterator over the dict keys.\n",
      " |  \n",
      " |  __setitem__(self, key, value, /)\n",
      " |      Set self[key] to value.\n",
      " |  \n",
      " |  __sizeof__(...)\n",
      " |      D.__sizeof__() -> size of D in memory, in bytes\n",
      " |  \n",
      " |  clear(...)\n",
      " |      D.clear() -> None.  Remove all items from D.\n",
      " |  \n",
      " |  get(self, key, default=None, /)\n",
      " |      Return the value for key if key is in the dictionary, else default.\n",
      " |  \n",
      " |  items(...)\n",
      " |      D.items() -> a set-like object providing a view on D's items\n",
      " |  \n",
      " |  keys(...)\n",
      " |      D.keys() -> a set-like object providing a view on D's keys\n",
      " |  \n",
      " |  pop(...)\n",
      " |      D.pop(k[,d]) -> v, remove specified key and return the corresponding value.\n",
      " |      If key is not found, d is returned if given, otherwise KeyError is raised\n",
      " |  \n",
      " |  popitem(self, /)\n",
      " |      Remove and return a (key, value) pair as a 2-tuple.\n",
      " |      \n",
      " |      Pairs are returned in LIFO (last-in, first-out) order.\n",
      " |      Raises KeyError if the dict is empty.\n",
      " |  \n",
      " |  setdefault(self, key, default=None, /)\n",
      " |      Insert key with a value of default if key is not in the dictionary.\n",
      " |      \n",
      " |      Return the value for key if key is in the dictionary, else default.\n",
      " |  \n",
      " |  values(...)\n",
      " |      D.values() -> an object providing a view on D's values\n",
      " |  \n",
      " |  ----------------------------------------------------------------------\n",
      " |  Static methods inherited from builtins.dict:\n",
      " |  \n",
      " |  __new__(*args, **kwargs) from builtins.type\n",
      " |      Create and return a new object.  See help(type) for accurate signature.\n",
      " |  \n",
      " |  ----------------------------------------------------------------------\n",
      " |  Data and other attributes inherited from builtins.dict:\n",
      " |  \n",
      " |  __hash__ = None\n",
      "\n"
     ]
    }
   ],
   "source": [
    "help(collections.Counter)"
   ]
  },
  {
   "cell_type": "markdown",
   "id": "1cd7e7d4",
   "metadata": {},
   "source": [
    "This is a bit more complex, but it does tell us some more about how the Counter works. For instance it tells us how to get the most common element in the list."
   ]
  },
  {
   "cell_type": "code",
   "execution_count": 20,
   "id": "1856c5a0",
   "metadata": {
    "execution": {
     "iopub.execute_input": "2021-05-27T16:07:00.083937Z",
     "iopub.status.busy": "2021-05-27T16:07:00.083021Z",
     "iopub.status.idle": "2021-05-27T16:07:00.086773Z",
     "shell.execute_reply": "2021-05-27T16:07:00.085934Z"
    },
    "lines_to_next_cell": 2
   },
   "outputs": [
    {
     "name": "stdout",
     "output_type": "stream",
     "text": [
      "Help on method most_common in module collections:\n",
      "\n",
      "most_common(n=None) method of collections.Counter instance\n",
      "    List the n most common elements and their counts from the most\n",
      "    common to the least.  If n is None, then list all element counts.\n",
      "    \n",
      "    >>> Counter('abracadabra').most_common(3)\n",
      "    [('a', 5), ('b', 2), ('r', 2)]\n",
      "\n"
     ]
    }
   ],
   "source": [
    "help(count.most_common)"
   ]
  },
  {
   "cell_type": "code",
   "execution_count": 21,
   "id": "97c80773",
   "metadata": {
    "execution": {
     "iopub.execute_input": "2021-05-27T16:07:00.092615Z",
     "iopub.status.busy": "2021-05-27T16:07:00.091790Z",
     "iopub.status.idle": "2021-05-27T16:07:00.096463Z",
     "shell.execute_reply": "2021-05-27T16:07:00.095716Z"
    },
    "lines_to_next_cell": 2
   },
   "outputs": [
    {
     "data": {
      "text/plain": [
       "[(1, 5)]"
      ]
     },
     "execution_count": 1,
     "metadata": {},
     "output_type": "execute_result"
    }
   ],
   "source": [
    "count.most_common(1)"
   ]
  },
  {
   "cell_type": "markdown",
   "id": "9ed35b9f",
   "metadata": {},
   "source": [
    "More than anything remember this. The best programmers use help the\n",
    "most! No one wins a prize for memerizing the most functions. If you\n",
    "want to be a good programmer, learn how to look things up quickly and\n",
    "ask the most questions. "
   ]
  },
  {
   "cell_type": "markdown",
   "id": "d3fa6eb7",
   "metadata": {},
   "source": [
    "## Dates"
   ]
  },
  {
   "cell_type": "markdown",
   "id": "29a4db8a",
   "metadata": {
    "lines_to_next_cell": 2
   },
   "source": [
    "Another very common type that we will want to handle is the type for\n",
    "dates. I forgot how this works so let's Google it \"how do i get the\n",
    "current time in python\"\n"
   ]
  },
  {
   "cell_type": "markdown",
   "id": "1f17888c",
   "metadata": {},
   "source": [
    "The link we get back is here\n",
    "https://stackoverflow.com/questions/415511/how-to-get-the-current-time-in-python"
   ]
  },
  {
   "cell_type": "markdown",
   "id": "aa92330a",
   "metadata": {},
   "source": [
    "It tells us we can do it like this,"
   ]
  },
  {
   "cell_type": "code",
   "execution_count": 22,
   "id": "bc5b35e7",
   "metadata": {
    "execution": {
     "iopub.execute_input": "2021-05-27T16:07:00.102653Z",
     "iopub.status.busy": "2021-05-27T16:07:00.101814Z",
     "iopub.status.idle": "2021-05-27T16:07:00.105718Z",
     "shell.execute_reply": "2021-05-27T16:07:00.106302Z"
    },
    "lines_to_next_cell": 2
   },
   "outputs": [
    {
     "data": {
      "text/plain": [
       "datetime.datetime(2021, 5, 27, 12, 7, 0, 99992)"
      ]
     },
     "execution_count": 1,
     "metadata": {},
     "output_type": "execute_result"
    }
   ],
   "source": [
    "import datetime\n",
    "date1 = datetime.datetime.now()\n",
    "date1"
   ]
  },
  {
   "cell_type": "markdown",
   "id": "a50d5e2b",
   "metadata": {},
   "source": [
    "The format of the output of the line above is telling use the we can\n",
    "access the day, month, and year of the current date in the following\n",
    "manner. Here `date1` is a special type but the day, month, and year\n",
    "are just standard numbers."
   ]
  },
  {
   "cell_type": "code",
   "execution_count": 23,
   "id": "0d76e8ef",
   "metadata": {
    "execution": {
     "iopub.execute_input": "2021-05-27T16:07:00.111887Z",
     "iopub.status.busy": "2021-05-27T16:07:00.111106Z",
     "iopub.status.idle": "2021-05-27T16:07:00.114420Z",
     "shell.execute_reply": "2021-05-27T16:07:00.115069Z"
    }
   },
   "outputs": [
    {
     "data": {
      "text/plain": [
       "27"
      ]
     },
     "execution_count": 1,
     "metadata": {},
     "output_type": "execute_result"
    }
   ],
   "source": [
    "date1.day"
   ]
  },
  {
   "cell_type": "code",
   "execution_count": 24,
   "id": "c64a254f",
   "metadata": {
    "execution": {
     "iopub.execute_input": "2021-05-27T16:07:00.120720Z",
     "iopub.status.busy": "2021-05-27T16:07:00.119857Z",
     "iopub.status.idle": "2021-05-27T16:07:00.123525Z",
     "shell.execute_reply": "2021-05-27T16:07:00.124194Z"
    }
   },
   "outputs": [
    {
     "data": {
      "text/plain": [
       "2021"
      ]
     },
     "execution_count": 1,
     "metadata": {},
     "output_type": "execute_result"
    }
   ],
   "source": [
    "date1.year"
   ]
  },
  {
   "cell_type": "code",
   "execution_count": 25,
   "id": "c077e10a",
   "metadata": {
    "execution": {
     "iopub.execute_input": "2021-05-27T16:07:00.129900Z",
     "iopub.status.busy": "2021-05-27T16:07:00.129060Z",
     "iopub.status.idle": "2021-05-27T16:07:00.132919Z",
     "shell.execute_reply": "2021-05-27T16:07:00.133577Z"
    },
    "lines_to_next_cell": 2
   },
   "outputs": [
    {
     "data": {
      "text/plain": [
       "5"
      ]
     },
     "execution_count": 1,
     "metadata": {},
     "output_type": "execute_result"
    }
   ],
   "source": [
    "date1.month"
   ]
  },
  {
   "cell_type": "markdown",
   "id": "0c5a172e",
   "metadata": {},
   "source": [
    "If we want to turn the months into more standard strings we can\n",
    "do so by making a dictionary."
   ]
  },
  {
   "cell_type": "code",
   "execution_count": 26,
   "id": "b8522a94",
   "metadata": {
    "execution": {
     "iopub.execute_input": "2021-05-27T16:07:00.140472Z",
     "iopub.status.busy": "2021-05-27T16:07:00.139627Z",
     "iopub.status.idle": "2021-05-27T16:07:00.144435Z",
     "shell.execute_reply": "2021-05-27T16:07:00.143745Z"
    },
    "lines_to_next_cell": 2
   },
   "outputs": [
    {
     "data": {
      "text/plain": [
       "{1: 'Jan',\n",
       " 2: 'Feb',\n",
       " 3: 'Mar',\n",
       " 4: 'Apr',\n",
       " 5: 'May',\n",
       " 6: 'Jun',\n",
       " 7: 'Jul',\n",
       " 8: 'Aug',\n",
       " 9: 'Sep',\n",
       " 10: 'Oct',\n",
       " 11: 'Nov',\n",
       " 12: 'Dec'}"
      ]
     },
     "execution_count": 1,
     "metadata": {},
     "output_type": "execute_result"
    }
   ],
   "source": [
    "months = {\n",
    "    1 : \"Jan\",\n",
    "    2 : \"Feb\",\n",
    "    3 : \"Mar\",\n",
    "    4 : \"Apr\",\n",
    "    5 : \"May\",\n",
    "    6 : \"Jun\",\n",
    "    7 : \"Jul\",\n",
    "    8 : \"Aug\",\n",
    "    9 : \"Sep\",\n",
    "    10: \"Oct\",\n",
    "    11 : \"Nov\",\n",
    "    12 : \"Dec\"\n",
    "}\n",
    "months"
   ]
  },
  {
   "cell_type": "code",
   "execution_count": 27,
   "id": "e0f4c6bc",
   "metadata": {
    "execution": {
     "iopub.execute_input": "2021-05-27T16:07:00.150048Z",
     "iopub.status.busy": "2021-05-27T16:07:00.149373Z",
     "iopub.status.idle": "2021-05-27T16:07:00.152892Z",
     "shell.execute_reply": "2021-05-27T16:07:00.153419Z"
    },
    "lines_to_next_cell": 2
   },
   "outputs": [
    {
     "data": {
      "text/plain": [
       "'Jan'"
      ]
     },
     "execution_count": 1,
     "metadata": {},
     "output_type": "execute_result"
    }
   ],
   "source": [
    "months[1]"
   ]
  },
  {
   "cell_type": "markdown",
   "id": "6df3a2f1",
   "metadata": {},
   "source": [
    "We can convert it to a month name through a lookup."
   ]
  },
  {
   "cell_type": "code",
   "execution_count": 28,
   "id": "4f5d8a23",
   "metadata": {
    "execution": {
     "iopub.execute_input": "2021-05-27T16:07:00.158594Z",
     "iopub.status.busy": "2021-05-27T16:07:00.157841Z",
     "iopub.status.idle": "2021-05-27T16:07:00.162498Z",
     "shell.execute_reply": "2021-05-27T16:07:00.161868Z"
    },
    "lines_to_next_cell": 2
   },
   "outputs": [
    {
     "data": {
      "text/plain": [
       "'May'"
      ]
     },
     "execution_count": 1,
     "metadata": {},
     "output_type": "execute_result"
    }
   ],
   "source": [
    "months[date1.month]"
   ]
  },
  {
   "cell_type": "markdown",
   "id": "b3357084",
   "metadata": {},
   "source": [
    "If we want to see all the months we walk through them with a `for` loop."
   ]
  },
  {
   "cell_type": "code",
   "execution_count": 29,
   "id": "d688640f",
   "metadata": {
    "execution": {
     "iopub.execute_input": "2021-05-27T16:07:00.169464Z",
     "iopub.status.busy": "2021-05-27T16:07:00.168799Z",
     "iopub.status.idle": "2021-05-27T16:07:00.173187Z",
     "shell.execute_reply": "2021-05-27T16:07:00.173719Z"
    },
    "lines_to_next_cell": 2
   },
   "outputs": [
    {
     "name": "stdout",
     "output_type": "stream",
     "text": [
      "Jan\n",
      "Feb\n",
      "Mar\n",
      "Apr\n",
      "May\n",
      "Jun\n",
      "Jul\n",
      "Aug\n",
      "Sep\n",
      "Oct\n",
      "Nov\n",
      "Dec\n"
     ]
    }
   ],
   "source": [
    "for month in [1, 2, 3, 4, 5, 6, 7, 8, 9, 10, 11, 12]:\n",
    "    print(months[month])"
   ]
  },
  {
   "cell_type": "markdown",
   "id": "df51059c",
   "metadata": {},
   "source": [
    "Python also includes a nice shortcut for making it easy to write for\n",
    "loops like this. The command `range` will make a list starting from\n",
    "a value and stop right before the end value."
   ]
  },
  {
   "cell_type": "code",
   "execution_count": 30,
   "id": "3f8612e9",
   "metadata": {
    "execution": {
     "iopub.execute_input": "2021-05-27T16:07:00.179821Z",
     "iopub.status.busy": "2021-05-27T16:07:00.178935Z",
     "iopub.status.idle": "2021-05-27T16:07:00.183398Z",
     "shell.execute_reply": "2021-05-27T16:07:00.184102Z"
    },
    "lines_to_next_cell": 2
   },
   "outputs": [
    {
     "name": "stdout",
     "output_type": "stream",
     "text": [
      "Jan\n",
      "Feb\n",
      "Mar\n",
      "Apr\n",
      "May\n",
      "Jun\n",
      "Jul\n",
      "Aug\n",
      "Sep\n",
      "Oct\n",
      "Nov\n",
      "Dec\n"
     ]
    }
   ],
   "source": [
    "for month in range(1, 12 + 1):\n",
    "    print(months[month])"
   ]
  },
  {
   "cell_type": "markdown",
   "id": "4ceda0d8",
   "metadata": {},
   "source": [
    "## Working with Text"
   ]
  },
  {
   "cell_type": "markdown",
   "id": "2fd90898",
   "metadata": {
    "lines_to_next_cell": 2
   },
   "source": [
    "Throughout this class we will work a lot with text.  First this will\n",
    "be just working with names, but it will quickly move to more complex\n",
    "text and evantually artificial intelligence over text. "
   ]
  },
  {
   "cell_type": "markdown",
   "id": "18f7546f",
   "metadata": {},
   "source": [
    "Text will also be represented with a string type. This is created with\n",
    "quotes. "
   ]
  },
  {
   "cell_type": "code",
   "execution_count": 31,
   "id": "4d135679",
   "metadata": {
    "execution": {
     "iopub.execute_input": "2021-05-27T16:07:00.189679Z",
     "iopub.status.busy": "2021-05-27T16:07:00.188761Z",
     "iopub.status.idle": "2021-05-27T16:07:00.191853Z",
     "shell.execute_reply": "2021-05-27T16:07:00.191048Z"
    }
   },
   "outputs": [],
   "source": [
    "str1 = \"A sample string to get started\""
   ]
  },
  {
   "cell_type": "markdown",
   "id": "d98b58a2",
   "metadata": {},
   "source": [
    "Just like with lists, we can make a for loop over strings to get individual letters. "
   ]
  },
  {
   "cell_type": "code",
   "execution_count": 32,
   "id": "8c8467d6",
   "metadata": {
    "execution": {
     "iopub.execute_input": "2021-05-27T16:07:00.198479Z",
     "iopub.status.busy": "2021-05-27T16:07:00.197546Z",
     "iopub.status.idle": "2021-05-27T16:07:00.204807Z",
     "shell.execute_reply": "2021-05-27T16:07:00.204009Z"
    }
   },
   "outputs": [
    {
     "name": "stdout",
     "output_type": "stream",
     "text": [
      "A\n",
      " \n",
      "s\n",
      "a\n",
      "m\n",
      "p\n",
      "l\n",
      "e\n",
      " \n",
      "s\n",
      "t\n",
      "r\n",
      "i\n",
      "n\n",
      "g\n",
      " \n",
      "t\n",
      "o\n",
      " \n",
      "g\n",
      "e\n",
      "t\n",
      " \n",
      "s\n",
      "t\n",
      "a\n",
      "r\n",
      "t\n",
      "e\n",
      "d\n"
     ]
    }
   ],
   "source": [
    "for letter in str1:\n",
    "    print(letter)"
   ]
  },
  {
   "cell_type": "code",
   "execution_count": 33,
   "id": "eea198c0",
   "metadata": {
    "execution": {
     "iopub.execute_input": "2021-05-27T16:07:00.211315Z",
     "iopub.status.busy": "2021-05-27T16:07:00.210351Z",
     "iopub.status.idle": "2021-05-27T16:07:00.215090Z",
     "shell.execute_reply": "2021-05-27T16:07:00.214136Z"
    }
   },
   "outputs": [
    {
     "name": "stdout",
     "output_type": "stream",
     "text": [
      "a\n",
      "e\n",
      "i\n",
      "o\n",
      "e\n",
      "a\n",
      "e\n"
     ]
    }
   ],
   "source": [
    "vowels = [\"a\", \"e\", \"i\", \"o\", \"u\"]\n",
    "for letter in str1:\n",
    "    if letter in vowels:\n",
    "        print(letter)"
   ]
  },
  {
   "cell_type": "markdown",
   "id": "c5493083",
   "metadata": {},
   "source": [
    "However, most of the time it will be better to use one of the built-in\n",
    "functions in Python. Most of the time it is best to google for these, but\n",
    "here are some important ones to remember"
   ]
  },
  {
   "cell_type": "markdown",
   "id": "2ff7ace5",
   "metadata": {},
   "source": [
    "### Split\n",
    "Splits a string up into a list of strings based on a separator"
   ]
  },
  {
   "cell_type": "code",
   "execution_count": 34,
   "id": "5dfb21a4",
   "metadata": {
    "execution": {
     "iopub.execute_input": "2021-05-27T16:07:00.221679Z",
     "iopub.status.busy": "2021-05-27T16:07:00.220733Z",
     "iopub.status.idle": "2021-05-27T16:07:00.224092Z",
     "shell.execute_reply": "2021-05-27T16:07:00.224841Z"
    },
    "lines_to_next_cell": 2
   },
   "outputs": [
    {
     "data": {
      "text/plain": [
       "'b'"
      ]
     },
     "execution_count": 1,
     "metadata": {},
     "output_type": "execute_result"
    }
   ],
   "source": [
    "str1 = \"a:b:c\"\n",
    "list_of_splits = str1.split(\":\")\n",
    "list_of_splits[1]"
   ]
  },
  {
   "cell_type": "markdown",
   "id": "a6dac0b6",
   "metadata": {},
   "source": [
    "### Join\n",
    "Joins a string back together from a list."
   ]
  },
  {
   "cell_type": "code",
   "execution_count": 35,
   "id": "f77e027e",
   "metadata": {
    "execution": {
     "iopub.execute_input": "2021-05-27T16:07:00.230997Z",
     "iopub.status.busy": "2021-05-27T16:07:00.230015Z",
     "iopub.status.idle": "2021-05-27T16:07:00.234600Z",
     "shell.execute_reply": "2021-05-27T16:07:00.233667Z"
    },
    "lines_to_next_cell": 2
   },
   "outputs": [
    {
     "data": {
      "text/plain": [
       "'a,b,c'"
      ]
     },
     "execution_count": 1,
     "metadata": {},
     "output_type": "execute_result"
    }
   ],
   "source": [
    "str1 = \",\".join(list_of_splits)\n",
    "str1"
   ]
  },
  {
   "cell_type": "markdown",
   "id": "eb7da442",
   "metadata": {},
   "source": [
    "### Replace\n",
    "Replaces some part of a string. "
   ]
  },
  {
   "cell_type": "code",
   "execution_count": 36,
   "id": "13109b5b",
   "metadata": {
    "execution": {
     "iopub.execute_input": "2021-05-27T16:07:00.240817Z",
     "iopub.status.busy": "2021-05-27T16:07:00.239900Z",
     "iopub.status.idle": "2021-05-27T16:07:00.243353Z",
     "shell.execute_reply": "2021-05-27T16:07:00.244058Z"
    }
   },
   "outputs": [
    {
     "data": {
      "text/plain": [
       "'Item 1 , Item 2 , Item 3'"
      ]
     },
     "execution_count": 1,
     "metadata": {},
     "output_type": "execute_result"
    }
   ],
   "source": [
    "original_str = \"Item 1 | Item 2 | Item 3\"\n",
    "new_str = original_str.replace(\"|\", \",\")\n",
    "new_str"
   ]
  },
  {
   "cell_type": "code",
   "execution_count": 37,
   "id": "4a74bd70",
   "metadata": {
    "execution": {
     "iopub.execute_input": "2021-05-27T16:07:00.250164Z",
     "iopub.status.busy": "2021-05-27T16:07:00.249208Z",
     "iopub.status.idle": "2021-05-27T16:07:00.252593Z",
     "shell.execute_reply": "2021-05-27T16:07:00.253288Z"
    }
   },
   "outputs": [
    {
     "data": {
      "text/plain": [
       "'Item 1  Item 2  Item 3'"
      ]
     },
     "execution_count": 1,
     "metadata": {},
     "output_type": "execute_result"
    }
   ],
   "source": [
    "new_str = original_str.replace(\"|\", \"\")\n",
    "new_str"
   ]
  },
  {
   "cell_type": "code",
   "execution_count": null,
   "id": "a39d6f66",
   "metadata": {},
   "outputs": [],
   "source": []
  },
  {
   "cell_type": "markdown",
   "id": "c26ec016",
   "metadata": {},
   "source": [
    "### Contains\n",
    "Checks if one string contains another  "
   ]
  },
  {
   "cell_type": "code",
   "execution_count": 38,
   "id": "79b25a79",
   "metadata": {
    "execution": {
     "iopub.execute_input": "2021-05-27T16:07:00.259616Z",
     "iopub.status.busy": "2021-05-27T16:07:00.258638Z",
     "iopub.status.idle": "2021-05-27T16:07:00.263121Z",
     "shell.execute_reply": "2021-05-27T16:07:00.262168Z"
    }
   },
   "outputs": [
    {
     "data": {
      "text/plain": [
       "True"
      ]
     },
     "execution_count": 1,
     "metadata": {},
     "output_type": "execute_result"
    }
   ],
   "source": [
    "original_str = \"Item 1 | Item 2 | Item 3\"\n",
    "contains1 = \"Item 2\" in original_str\n",
    "contains1"
   ]
  },
  {
   "cell_type": "code",
   "execution_count": 39,
   "id": "46ce4ff7",
   "metadata": {
    "execution": {
     "iopub.execute_input": "2021-05-27T16:07:00.269059Z",
     "iopub.status.busy": "2021-05-27T16:07:00.268092Z",
     "iopub.status.idle": "2021-05-27T16:07:00.272385Z",
     "shell.execute_reply": "2021-05-27T16:07:00.271587Z"
    },
    "lines_to_next_cell": 2
   },
   "outputs": [
    {
     "data": {
      "text/plain": [
       "False"
      ]
     },
     "execution_count": 1,
     "metadata": {},
     "output_type": "execute_result"
    }
   ],
   "source": [
    "contains2 = \"Item 4\" in original_str \n",
    "contains2"
   ]
  },
  {
   "cell_type": "code",
   "execution_count": 40,
   "id": "7fcbbe09",
   "metadata": {
    "execution": {
     "iopub.execute_input": "2021-05-27T16:07:00.278494Z",
     "iopub.status.busy": "2021-05-27T16:07:00.277536Z",
     "iopub.status.idle": "2021-05-27T16:07:00.281817Z",
     "shell.execute_reply": "2021-05-27T16:07:00.280882Z"
    }
   },
   "outputs": [
    {
     "data": {
      "text/plain": [
       "15"
      ]
     },
     "execution_count": 1,
     "metadata": {},
     "output_type": "execute_result"
    }
   ],
   "source": [
    "# ### Conversions\n",
    "# Converts between a string and a number\n",
    "int1 = int(\"15\")\n",
    "int1"
   ]
  },
  {
   "cell_type": "code",
   "execution_count": 41,
   "id": "0a9494d3",
   "metadata": {
    "execution": {
     "iopub.execute_input": "2021-05-27T16:07:00.287704Z",
     "iopub.status.busy": "2021-05-27T16:07:00.286801Z",
     "iopub.status.idle": "2021-05-27T16:07:00.290152Z",
     "shell.execute_reply": "2021-05-27T16:07:00.290844Z"
    },
    "lines_to_next_cell": 2
   },
   "outputs": [
    {
     "data": {
      "text/plain": [
       "15.5"
      ]
     },
     "execution_count": 1,
     "metadata": {},
     "output_type": "execute_result"
    }
   ],
   "source": [
    "decimal1 = float(\"15.50\")\n",
    "decimal1"
   ]
  },
  {
   "cell_type": "markdown",
   "id": "82556375",
   "metadata": {
    "lines_to_next_cell": 2
   },
   "source": [
    "## Functions"
   ]
  },
  {
   "cell_type": "markdown",
   "id": "1fd284cf",
   "metadata": {},
   "source": [
    "Functions are small snippets of code that you may want to use\n",
    "multiple times."
   ]
  },
  {
   "cell_type": "code",
   "execution_count": 42,
   "id": "adc7c4c8",
   "metadata": {
    "execution": {
     "iopub.execute_input": "2021-05-27T16:07:00.296554Z",
     "iopub.status.busy": "2021-05-27T16:07:00.295708Z",
     "iopub.status.idle": "2021-05-27T16:07:00.299262Z",
     "shell.execute_reply": "2021-05-27T16:07:00.298417Z"
    },
    "lines_to_next_cell": 1
   },
   "outputs": [],
   "source": [
    "def add_man(str1):\n",
    "    return str1 + \"man\""
   ]
  },
  {
   "cell_type": "code",
   "execution_count": 43,
   "id": "4879a6ef",
   "metadata": {
    "execution": {
     "iopub.execute_input": "2021-05-27T16:07:00.305310Z",
     "iopub.status.busy": "2021-05-27T16:07:00.304344Z",
     "iopub.status.idle": "2021-05-27T16:07:00.308680Z",
     "shell.execute_reply": "2021-05-27T16:07:00.307863Z"
    },
    "lines_to_next_cell": 2
   },
   "outputs": [
    {
     "data": {
      "text/plain": [
       "'batman'"
      ]
     },
     "execution_count": 1,
     "metadata": {},
     "output_type": "execute_result"
    }
   ],
   "source": [
    "out = add_man(\"bat\")\n",
    "out"
   ]
  },
  {
   "cell_type": "markdown",
   "id": "50fe8f3c",
   "metadata": {},
   "source": [
    "Most of the time, functions should not change the variables that\n",
    "are sent to them. For instance here we do not change the variable `y`."
   ]
  },
  {
   "cell_type": "code",
   "execution_count": 44,
   "id": "38966925",
   "metadata": {
    "execution": {
     "iopub.execute_input": "2021-05-27T16:07:00.315043Z",
     "iopub.status.busy": "2021-05-27T16:07:00.314046Z",
     "iopub.status.idle": "2021-05-27T16:07:00.317451Z",
     "shell.execute_reply": "2021-05-27T16:07:00.318190Z"
    }
   },
   "outputs": [
    {
     "data": {
      "text/plain": [
       "'batman'"
      ]
     },
     "execution_count": 1,
     "metadata": {},
     "output_type": "execute_result"
    }
   ],
   "source": [
    "y = \"bat\"\n",
    "out = add_man(y)\n",
    "out"
   ]
  },
  {
   "cell_type": "code",
   "execution_count": 45,
   "id": "d4692fda",
   "metadata": {
    "execution": {
     "iopub.execute_input": "2021-05-27T16:07:00.324055Z",
     "iopub.status.busy": "2021-05-27T16:07:00.323151Z",
     "iopub.status.idle": "2021-05-27T16:07:00.327942Z",
     "shell.execute_reply": "2021-05-27T16:07:00.327134Z"
    },
    "lines_to_next_cell": 2
   },
   "outputs": [
    {
     "data": {
      "text/plain": [
       "'bat'"
      ]
     },
     "execution_count": 1,
     "metadata": {},
     "output_type": "execute_result"
    }
   ],
   "source": [
    "y"
   ]
  },
  {
   "cell_type": "markdown",
   "id": "665b1583",
   "metadata": {
    "lines_to_next_cell": 2
   },
   "source": [
    "One interesting aspect of Python is that it lets your pass functions\n",
    "to functions. For instance, the built-in function `map` is a function\n",
    "applies another function to each element of a list."
   ]
  },
  {
   "cell_type": "markdown",
   "id": "07aaa10e",
   "metadata": {},
   "source": [
    "Assume we have a list like this."
   ]
  },
  {
   "cell_type": "code",
   "execution_count": 46,
   "id": "fcd74c22",
   "metadata": {
    "execution": {
     "iopub.execute_input": "2021-05-27T16:07:00.333924Z",
     "iopub.status.busy": "2021-05-27T16:07:00.333011Z",
     "iopub.status.idle": "2021-05-27T16:07:00.336221Z",
     "shell.execute_reply": "2021-05-27T16:07:00.335282Z"
    }
   },
   "outputs": [],
   "source": [
    "word_list = [\"spider\", \"bat\", \"super\"]"
   ]
  },
  {
   "cell_type": "markdown",
   "id": "c8122f21",
   "metadata": {},
   "source": [
    "If we want a list with `man` added to each we cannot run the following:"
   ]
  },
  {
   "cell_type": "markdown",
   "id": "f4c43888",
   "metadata": {},
   "source": [
    "Doesn't work:  add_man(word_list)"
   ]
  },
  {
   "cell_type": "markdown",
   "id": "65eab2f2",
   "metadata": {},
   "source": [
    "However, the map function makes this work, by creating a new list."
   ]
  },
  {
   "cell_type": "code",
   "execution_count": 47,
   "id": "4baa0c1e",
   "metadata": {
    "execution": {
     "iopub.execute_input": "2021-05-27T16:07:00.342423Z",
     "iopub.status.busy": "2021-05-27T16:07:00.341570Z",
     "iopub.status.idle": "2021-05-27T16:07:00.345767Z",
     "shell.execute_reply": "2021-05-27T16:07:00.345017Z"
    }
   },
   "outputs": [
    {
     "data": {
      "text/plain": [
       "<map at 0x7f1348653ca0>"
      ]
     },
     "execution_count": 1,
     "metadata": {},
     "output_type": "execute_result"
    }
   ],
   "source": [
    "out = map(add_man, word_list)\n",
    "out "
   ]
  },
  {
   "cell_type": "code",
   "execution_count": null,
   "id": "5308b980",
   "metadata": {},
   "outputs": [],
   "source": []
  },
  {
   "cell_type": "markdown",
   "id": "be78b45a",
   "metadata": {},
   "source": [
    "## Exercises"
   ]
  },
  {
   "cell_type": "code",
   "execution_count": 48,
   "id": "131c402b",
   "metadata": {
    "execution": {
     "iopub.execute_input": "2021-05-27T16:07:00.351305Z",
     "iopub.status.busy": "2021-05-27T16:07:00.350420Z",
     "iopub.status.idle": "2021-05-27T16:07:00.353972Z",
     "shell.execute_reply": "2021-05-27T16:07:00.353142Z"
    },
    "lines_to_next_cell": 2
   },
   "outputs": [],
   "source": [
    "teacher_str = \"Sasha Rush,arush@cornell.edu,Roosevelt Island,NYC\""
   ]
  },
  {
   "cell_type": "code",
   "execution_count": 49,
   "id": "afacedce",
   "metadata": {
    "execution": {
     "iopub.execute_input": "2021-05-27T16:07:00.359658Z",
     "iopub.status.busy": "2021-05-27T16:07:00.358723Z",
     "iopub.status.idle": "2021-05-27T16:07:00.362626Z",
     "shell.execute_reply": "2021-05-27T16:07:00.361765Z"
    },
    "lines_to_next_cell": 2
   },
   "outputs": [],
   "source": [
    "name, email, location, city =  teacher_str.split(\",\")"
   ]
  },
  {
   "cell_type": "markdown",
   "id": "317bd465",
   "metadata": {},
   "source": [
    "Todo - Keyword args"
   ]
  }
 ],
 "metadata": {
  "jupytext": {
   "cell_metadata_filter": "-all"
  },
  "kernelspec": {
   "display_name": "myenv",
   "language": "python",
   "name": "myenv"
  },
  "language_info": {
   "codemirror_mode": {
    "name": "ipython",
    "version": 3
   },
   "file_extension": ".py",
   "mimetype": "text/x-python",
   "name": "python",
   "nbconvert_exporter": "python",
   "pygments_lexer": "ipython3",
   "version": "3.8.5"
  }
 },
 "nbformat": 4,
 "nbformat_minor": 5
}
