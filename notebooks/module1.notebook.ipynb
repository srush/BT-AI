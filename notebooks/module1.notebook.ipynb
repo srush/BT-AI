{
 "cells": [
  {
   "cell_type": "markdown",
   "id": "34fe5f65",
   "metadata": {},
   "source": [
    "# Lab 1 - Python Basics"
   ]
  },
  {
   "cell_type": "markdown",
   "id": "e510430d",
   "metadata": {
    "lines_to_next_cell": 2
   },
   "source": [
    "The goal of this weeks lab is to work through the basics of python\n",
    "with a focus on the aspects that are important for datascience and\n",
    "machine learning."
   ]
  },
  {
   "cell_type": "markdown",
   "id": "cac0be8d",
   "metadata": {},
   "source": [
    "![python](https://upload.wikimedia.org/wikipedia/commons/c/c3/Python-logo-notext.svg)"
   ]
  },
  {
   "cell_type": "markdown",
   "id": "26b5d68d",
   "metadata": {},
   "source": [
    "Python is pretty much the standard programming language for AI and\n",
    "machine learning these days. It is widely used in companies like Google\n",
    "or Netflix for their AI systems. It is also what is used in research\n",
    "and most non-profit organizations. This is lucky because it also\n",
    "one of the most fun programming languages!"
   ]
  },
  {
   "cell_type": "markdown",
   "id": "c9b69cbb",
   "metadata": {
    "lines_to_next_cell": 2
   },
   "source": [
    "This week we will walkthrough the basics of Python and notebooks."
   ]
  },
  {
   "cell_type": "markdown",
   "id": "98d61f2d",
   "metadata": {},
   "source": [
    "* **Unit A**: Types and Documentation\n",
    "* **Unit B**: String and Functions"
   ]
  },
  {
   "cell_type": "markdown",
   "id": "08726361",
   "metadata": {},
   "source": [
    "# Unit A"
   ]
  },
  {
   "cell_type": "markdown",
   "id": "8c8f0739",
   "metadata": {},
   "source": [
    "## Working with types"
   ]
  },
  {
   "cell_type": "markdown",
   "id": "f5f31225",
   "metadata": {},
   "source": [
    "This summer we will be working with lots of different types of\n",
    "data. Sometimes that data wilil be numerical such as a temperature:"
   ]
  },
  {
   "cell_type": "code",
   "execution_count": 1,
   "id": "9a3d8c28",
   "metadata": {
    "execution": {
     "iopub.execute_input": "2021-06-07T00:11:59.523807Z",
     "iopub.status.busy": "2021-06-07T00:11:59.522650Z",
     "iopub.status.idle": "2021-06-07T00:11:59.527631Z",
     "shell.execute_reply": "2021-06-07T00:11:59.528446Z"
    }
   },
   "outputs": [
    {
     "data": {
      "text/plain": [
       "98.7"
      ]
     },
     "execution_count": 1,
     "metadata": {},
     "output_type": "execute_result"
    }
   ],
   "source": [
    "98.7"
   ]
  },
  {
   "cell_type": "markdown",
   "id": "ff4ba9b6",
   "metadata": {},
   "source": [
    "Other times it will be a text string such as a name:"
   ]
  },
  {
   "cell_type": "code",
   "execution_count": 2,
   "id": "3bcc974c",
   "metadata": {
    "execution": {
     "iopub.execute_input": "2021-06-07T00:11:59.534699Z",
     "iopub.status.busy": "2021-06-07T00:11:59.533710Z",
     "iopub.status.idle": "2021-06-07T00:11:59.538341Z",
     "shell.execute_reply": "2021-06-07T00:11:59.537516Z"
    }
   },
   "outputs": [
    {
     "data": {
      "text/plain": [
       "'New York City'"
      ]
     },
     "execution_count": 1,
     "metadata": {},
     "output_type": "execute_result"
    }
   ],
   "source": [
    "\"New York City\""
   ]
  },
  {
   "cell_type": "markdown",
   "id": "40fbd7f4",
   "metadata": {},
   "source": [
    "More advanced cases will have lists of elements such as many names:"
   ]
  },
  {
   "cell_type": "code",
   "execution_count": 3,
   "id": "1066c7f2",
   "metadata": {
    "execution": {
     "iopub.execute_input": "2021-06-07T00:11:59.544989Z",
     "iopub.status.busy": "2021-06-07T00:11:59.543997Z",
     "iopub.status.idle": "2021-06-07T00:11:59.548240Z",
     "shell.execute_reply": "2021-06-07T00:11:59.547441Z"
    }
   },
   "outputs": [
    {
     "data": {
      "text/plain": [
       "['Queens', 'Brooklyn', 'Manhattan', 'Staten Island', 'The Bronx']"
      ]
     },
     "execution_count": 1,
     "metadata": {},
     "output_type": "execute_result"
    }
   ],
   "source": [
    "[\"Queens\", \"Brooklyn\", \"Manhattan\", \"Staten Island\", \"The Bronx\"]"
   ]
  },
  {
   "cell_type": "code",
   "execution_count": null,
   "id": "fa8cc76e",
   "metadata": {},
   "outputs": [],
   "source": []
  },
  {
   "cell_type": "markdown",
   "id": "8e7d7da7",
   "metadata": {},
   "source": [
    "![NYC](data:image/jpeg;base64,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)"
   ]
  },
  {
   "cell_type": "markdown",
   "id": "c0b430bf",
   "metadata": {
    "lines_to_next_cell": 2
   },
   "source": [
    "Python has many different types like this. Knowing the type of your\n",
    "data is the first step."
   ]
  },
  {
   "cell_type": "markdown",
   "id": "041befe7",
   "metadata": {},
   "source": [
    "Let's look at some examples"
   ]
  },
  {
   "cell_type": "code",
   "execution_count": null,
   "id": "ff70251c",
   "metadata": {},
   "outputs": [],
   "source": []
  },
  {
   "cell_type": "markdown",
   "id": "5d8e141b",
   "metadata": {},
   "source": [
    "### Numbers"
   ]
  },
  {
   "cell_type": "markdown",
   "id": "80c2842e",
   "metadata": {},
   "source": [
    "Numbers are the simplest type we will work with. Simply make a\n",
    "variable name and assign a number value."
   ]
  },
  {
   "cell_type": "code",
   "execution_count": 4,
   "id": "f93e3cf6",
   "metadata": {
    "execution": {
     "iopub.execute_input": "2021-06-07T00:11:59.554249Z",
     "iopub.status.busy": "2021-06-07T00:11:59.553363Z",
     "iopub.status.idle": "2021-06-07T00:11:59.556916Z",
     "shell.execute_reply": "2021-06-07T00:11:59.555981Z"
    },
    "lines_to_next_cell": 2
   },
   "outputs": [],
   "source": [
    "my_number_variable = 80"
   ]
  },
  {
   "cell_type": "code",
   "execution_count": 5,
   "id": "1bf998f8",
   "metadata": {
    "execution": {
     "iopub.execute_input": "2021-06-07T00:11:59.562711Z",
     "iopub.status.busy": "2021-06-07T00:11:59.561809Z",
     "iopub.status.idle": "2021-06-07T00:11:59.565260Z",
     "shell.execute_reply": "2021-06-07T00:11:59.565946Z"
    }
   },
   "outputs": [
    {
     "data": {
      "text/plain": [
       "80"
      ]
     },
     "execution_count": 1,
     "metadata": {},
     "output_type": "execute_result"
    }
   ],
   "source": [
    "my_number_variable"
   ]
  },
  {
   "cell_type": "markdown",
   "id": "f824957c",
   "metadata": {},
   "source": [
    "Here are two more."
   ]
  },
  {
   "cell_type": "code",
   "execution_count": 6,
   "id": "e1a5590a",
   "metadata": {
    "execution": {
     "iopub.execute_input": "2021-06-07T00:11:59.571459Z",
     "iopub.status.busy": "2021-06-07T00:11:59.570656Z",
     "iopub.status.idle": "2021-06-07T00:11:59.574192Z",
     "shell.execute_reply": "2021-06-07T00:11:59.573468Z"
    }
   },
   "outputs": [],
   "source": [
    "number1 = 10.5\n",
    "number2 = 20"
   ]
  },
  {
   "cell_type": "markdown",
   "id": "19141de0",
   "metadata": {},
   "source": [
    "Note: if you have learned a different programming language, such as\n",
    "Java, you might remember having to declare the type of a variables like"
   ]
  },
  {
   "cell_type": "markdown",
   "id": "e589cc9a",
   "metadata": {},
   "source": [
    "```java\n",
    "int number1 = 10\n",
    "```"
   ]
  },
  {
   "cell_type": "markdown",
   "id": "ab01f5b7",
   "metadata": {
    "lines_to_next_cell": 2
   },
   "source": [
    "You don't have to do that in Python. The type is still there, but it is\n",
    "added automatically."
   ]
  },
  {
   "cell_type": "markdown",
   "id": "6e4fba29",
   "metadata": {},
   "source": [
    "You can add two numbers together to make a"
   ]
  },
  {
   "cell_type": "code",
   "execution_count": 7,
   "id": "b66b4254",
   "metadata": {
    "execution": {
     "iopub.execute_input": "2021-06-07T00:11:59.579841Z",
     "iopub.status.busy": "2021-06-07T00:11:59.578970Z",
     "iopub.status.idle": "2021-06-07T00:11:59.582563Z",
     "shell.execute_reply": "2021-06-07T00:11:59.581823Z"
    },
    "lines_to_next_cell": 2
   },
   "outputs": [],
   "source": [
    "number3 = number1 + number2"
   ]
  },
  {
   "cell_type": "markdown",
   "id": "711d2db2",
   "metadata": {},
   "source": [
    "**Student Question: What value does ```number3``` have?**"
   ]
  },
  {
   "cell_type": "markdown",
   "id": "3e903bd4",
   "metadata": {
    "lines_to_next_cell": 2
   },
   "source": [
    "Fill-Me In"
   ]
  },
  {
   "cell_type": "markdown",
   "id": "e61e25e5",
   "metadata": {},
   "source": [
    "### Strings"
   ]
  },
  {
   "cell_type": "markdown",
   "id": "4760d610",
   "metadata": {},
   "source": [
    "Strings are very easy to use in python. You can\n",
    "just use quotes to create them."
   ]
  },
  {
   "cell_type": "code",
   "execution_count": 8,
   "id": "7c4c7c82",
   "metadata": {
    "execution": {
     "iopub.execute_input": "2021-06-07T00:11:59.588435Z",
     "iopub.status.busy": "2021-06-07T00:11:59.587521Z",
     "iopub.status.idle": "2021-06-07T00:11:59.590951Z",
     "shell.execute_reply": "2021-06-07T00:11:59.590054Z"
    },
    "lines_to_next_cell": 2
   },
   "outputs": [],
   "source": [
    "string1 = \"New York \"\n",
    "string2 = \"City\""
   ]
  },
  {
   "cell_type": "markdown",
   "id": "b01e2135",
   "metadata": {},
   "source": [
    "To combine two strings you simply add them together."
   ]
  },
  {
   "cell_type": "code",
   "execution_count": 9,
   "id": "4b8b17df",
   "metadata": {
    "execution": {
     "iopub.execute_input": "2021-06-07T00:11:59.596683Z",
     "iopub.status.busy": "2021-06-07T00:11:59.595806Z",
     "iopub.status.idle": "2021-06-07T00:11:59.599269Z",
     "shell.execute_reply": "2021-06-07T00:11:59.598453Z"
    },
    "lines_to_next_cell": 2
   },
   "outputs": [],
   "source": [
    "string3 = string1 + string2"
   ]
  },
  {
   "cell_type": "markdown",
   "id": "fff7a6f9",
   "metadata": {},
   "source": [
    "**Student Question: What value does ```string3``` have?**"
   ]
  },
  {
   "cell_type": "markdown",
   "id": "871cc7c4",
   "metadata": {
    "lines_to_next_cell": 2
   },
   "source": [
    "Fill-Me In"
   ]
  },
  {
   "cell_type": "markdown",
   "id": "dcdadfd5",
   "metadata": {},
   "source": [
    "### Lists"
   ]
  },
  {
   "cell_type": "markdown",
   "id": "998dfd7a",
   "metadata": {
    "lines_to_next_cell": 2
   },
   "source": [
    "Python has a simple type for multiple values called a list."
   ]
  },
  {
   "cell_type": "code",
   "execution_count": 10,
   "id": "cf8f20f1",
   "metadata": {
    "execution": {
     "iopub.execute_input": "2021-06-07T00:11:59.605425Z",
     "iopub.status.busy": "2021-06-07T00:11:59.604531Z",
     "iopub.status.idle": "2021-06-07T00:11:59.606909Z",
     "shell.execute_reply": "2021-06-07T00:11:59.607678Z"
    }
   },
   "outputs": [],
   "source": [
    "list1 = [1, 2, 3]\n",
    "list2 = [4, 5]"
   ]
  },
  {
   "cell_type": "code",
   "execution_count": null,
   "id": "411faebb",
   "metadata": {
    "lines_to_next_cell": 2
   },
   "outputs": [],
   "source": []
  },
  {
   "cell_type": "markdown",
   "id": "a465b865",
   "metadata": {},
   "source": [
    "Note: if you have learned a different programming language, such as\n",
    "Java, you might remember arrays. Python lists are like arrays but\n",
    "way easier. You don't need to declare their size or type. Just make\n",
    "them."
   ]
  },
  {
   "cell_type": "code",
   "execution_count": null,
   "id": "b545b735",
   "metadata": {},
   "outputs": [],
   "source": []
  },
  {
   "cell_type": "markdown",
   "id": "2cc4fd81",
   "metadata": {},
   "source": [
    "Adding two lists together creates a new list combining the two."
   ]
  },
  {
   "cell_type": "code",
   "execution_count": 11,
   "id": "d0c66472",
   "metadata": {
    "execution": {
     "iopub.execute_input": "2021-06-07T00:11:59.613655Z",
     "iopub.status.busy": "2021-06-07T00:11:59.612761Z",
     "iopub.status.idle": "2021-06-07T00:11:59.615945Z",
     "shell.execute_reply": "2021-06-07T00:11:59.615013Z"
    },
    "lines_to_next_cell": 2
   },
   "outputs": [],
   "source": [
    "list3 = list1 + list2"
   ]
  },
  {
   "cell_type": "markdown",
   "id": "4f29542c",
   "metadata": {},
   "source": [
    "**Student Question: What value does ```list3``` have?**"
   ]
  },
  {
   "cell_type": "markdown",
   "id": "30a28eef",
   "metadata": {},
   "source": [
    "Fill-Me In"
   ]
  },
  {
   "cell_type": "code",
   "execution_count": null,
   "id": "ef80e1ac",
   "metadata": {},
   "outputs": [],
   "source": []
  },
  {
   "cell_type": "markdown",
   "id": "65866252",
   "metadata": {
    "lines_to_next_cell": 2
   },
   "source": [
    "## Dictionaries"
   ]
  },
  {
   "cell_type": "markdown",
   "id": "a7946356",
   "metadata": {},
   "source": [
    "A dictionary type is used to link a \"key\" to a \"value\".\n",
    "You can have as many keys and values as you want, and they can\n",
    "be of most of the types that we have seen so far."
   ]
  },
  {
   "cell_type": "code",
   "execution_count": 12,
   "id": "6ec80303",
   "metadata": {
    "execution": {
     "iopub.execute_input": "2021-06-07T00:11:59.622572Z",
     "iopub.status.busy": "2021-06-07T00:11:59.621665Z",
     "iopub.status.idle": "2021-06-07T00:11:59.626165Z",
     "shell.execute_reply": "2021-06-07T00:11:59.625378Z"
    },
    "lines_to_next_cell": 2
   },
   "outputs": [
    {
     "data": {
      "text/plain": [
       "{'apple': 'red', 'banana': 'yellow'}"
      ]
     },
     "execution_count": 1,
     "metadata": {},
     "output_type": "execute_result"
    }
   ],
   "source": [
    "dict1 = {\"apple\": \"red\",\n",
    "         \"banana\": \"yellow\"}\n",
    "dict1"
   ]
  },
  {
   "cell_type": "markdown",
   "id": "f5c54413",
   "metadata": {},
   "source": [
    "To access a value of the dictionary, you use the square bracket notation\n",
    "with the key that you want to access."
   ]
  },
  {
   "cell_type": "code",
   "execution_count": 13,
   "id": "bb0cb25a",
   "metadata": {
    "execution": {
     "iopub.execute_input": "2021-06-07T00:11:59.632512Z",
     "iopub.status.busy": "2021-06-07T00:11:59.631598Z",
     "iopub.status.idle": "2021-06-07T00:11:59.635882Z",
     "shell.execute_reply": "2021-06-07T00:11:59.635138Z"
    },
    "lines_to_next_cell": 2
   },
   "outputs": [
    {
     "data": {
      "text/plain": [
       "'red'"
      ]
     },
     "execution_count": 1,
     "metadata": {},
     "output_type": "execute_result"
    }
   ],
   "source": [
    "dict1[\"apple\"]"
   ]
  },
  {
   "cell_type": "code",
   "execution_count": 14,
   "id": "aa4083e2",
   "metadata": {
    "execution": {
     "iopub.execute_input": "2021-06-07T00:11:59.641997Z",
     "iopub.status.busy": "2021-06-07T00:11:59.641062Z",
     "iopub.status.idle": "2021-06-07T00:11:59.645551Z",
     "shell.execute_reply": "2021-06-07T00:11:59.646300Z"
    }
   },
   "outputs": [
    {
     "data": {
      "text/plain": [
       "'yellow'"
      ]
     },
     "execution_count": 1,
     "metadata": {},
     "output_type": "execute_result"
    }
   ],
   "source": [
    "dict1[\"banana\"]"
   ]
  },
  {
   "cell_type": "markdown",
   "id": "15acc2c7",
   "metadata": {},
   "source": [
    "You can also add a new key to the dictionary by setting its value."
   ]
  },
  {
   "cell_type": "code",
   "execution_count": 15,
   "id": "d940d6dc",
   "metadata": {
    "execution": {
     "iopub.execute_input": "2021-06-07T00:11:59.651978Z",
     "iopub.status.busy": "2021-06-07T00:11:59.651057Z",
     "iopub.status.idle": "2021-06-07T00:11:59.654316Z",
     "shell.execute_reply": "2021-06-07T00:11:59.653397Z"
    },
    "lines_to_next_cell": 2
   },
   "outputs": [],
   "source": [
    "dict1[\"pear\"] = \"green\""
   ]
  },
  {
   "cell_type": "markdown",
   "id": "22c32873",
   "metadata": {},
   "source": [
    "**Student Question: What value does ```dict1``` have?**"
   ]
  },
  {
   "cell_type": "markdown",
   "id": "f2abe2aa",
   "metadata": {},
   "source": [
    "Fill-Me In"
   ]
  },
  {
   "cell_type": "markdown",
   "id": "6b9e8ed1",
   "metadata": {},
   "source": [
    "## Importing and Reading Docs"
   ]
  },
  {
   "cell_type": "markdown",
   "id": "69264833",
   "metadata": {
    "lines_to_next_cell": 2
   },
   "source": [
    "Numbers, strings, and lists. These are the most common types of data\n",
    "that we will use throughout the summer. Every programmer should know\n",
    "these basic types."
   ]
  },
  {
   "cell_type": "markdown",
   "id": "ffeb6e89",
   "metadata": {
    "lines_to_next_cell": 2
   },
   "source": [
    "However to be a really good, it is important to be able to use types\n",
    "that you don't yet know. Most of the time the problem that you are\n",
    "interested will have a type that is already made by someone else."
   ]
  },
  {
   "cell_type": "markdown",
   "id": "9fd11adb",
   "metadata": {},
   "source": [
    "For instance, let's say we want a type for a date. We could try to write our own."
   ]
  },
  {
   "cell_type": "code",
   "execution_count": 16,
   "id": "a1011677",
   "metadata": {
    "execution": {
     "iopub.execute_input": "2021-06-07T00:11:59.660719Z",
     "iopub.status.busy": "2021-06-07T00:11:59.659836Z",
     "iopub.status.idle": "2021-06-07T00:11:59.664430Z",
     "shell.execute_reply": "2021-06-07T00:11:59.663513Z"
    }
   },
   "outputs": [],
   "source": [
    "day = 8\n",
    "month = \"June\"\n",
    "year = 2021"
   ]
  },
  {
   "cell_type": "markdown",
   "id": "d675af1f",
   "metadata": {},
   "source": [
    "But there are so many things we would need to add! How do we represent weeks?\n",
    "Leap years? How do we count number of days?"
   ]
  },
  {
   "cell_type": "markdown",
   "id": "26acf8a0",
   "metadata": {},
   "source": [
    "So instead let us use a package. To use a package first we `import` it."
   ]
  },
  {
   "cell_type": "code",
   "execution_count": 17,
   "id": "2d56d485",
   "metadata": {
    "execution": {
     "iopub.execute_input": "2021-06-07T00:11:59.670208Z",
     "iopub.status.busy": "2021-06-07T00:11:59.669334Z",
     "iopub.status.idle": "2021-06-07T00:11:59.673051Z",
     "shell.execute_reply": "2021-06-07T00:11:59.672265Z"
    }
   },
   "outputs": [],
   "source": [
    "import datetime"
   ]
  },
  {
   "cell_type": "markdown",
   "id": "ce163823",
   "metadata": {},
   "source": [
    "Then we use `.` notation to use the package. This gives us a date variable for the current day."
   ]
  },
  {
   "cell_type": "code",
   "execution_count": 18,
   "id": "e33d75b8",
   "metadata": {
    "execution": {
     "iopub.execute_input": "2021-06-07T00:11:59.679739Z",
     "iopub.status.busy": "2021-06-07T00:11:59.678766Z",
     "iopub.status.idle": "2021-06-07T00:11:59.682539Z",
     "shell.execute_reply": "2021-06-07T00:11:59.683286Z"
    },
    "lines_to_next_cell": 2
   },
   "outputs": [
    {
     "data": {
      "text/plain": [
       "datetime.datetime(2021, 6, 6, 20, 11, 59, 676582)"
      ]
     },
     "execution_count": 1,
     "metadata": {},
     "output_type": "execute_result"
    }
   ],
   "source": [
    "date1 = datetime.datetime.now()\n",
    "date1"
   ]
  },
  {
   "cell_type": "markdown",
   "id": "287faa28",
   "metadata": {
    "lines_to_next_cell": 2
   },
   "source": [
    "How did I know how to do this?"
   ]
  },
  {
   "cell_type": "markdown",
   "id": "6d4bb90a",
   "metadata": {},
   "source": [
    "Honestly, I had no idea. I completly forgot how this worked so I did this."
   ]
  },
  {
   "cell_type": "markdown",
   "id": "c71678a8",
   "metadata": {},
   "source": [
    "\n",
    "1. Google'd \"how do i get the current time in python\"\n",
    "2. Clicked the link we get back here https://stackoverflow.com/questions/415511/how-to-get-the-current-time-in-python\n",
    "\n",
    "This is one of the most important skills to learn Python :)"
   ]
  },
  {
   "cell_type": "code",
   "execution_count": null,
   "id": "54638dd5",
   "metadata": {
    "lines_to_next_cell": 2
   },
   "outputs": [],
   "source": []
  },
  {
   "cell_type": "markdown",
   "id": "507be997",
   "metadata": {},
   "source": [
    "The format of the output of the line above is telling use the we can\n",
    "access the day and month of the current date in the following\n",
    "manner."
   ]
  },
  {
   "cell_type": "code",
   "execution_count": 19,
   "id": "b86d9c51",
   "metadata": {
    "execution": {
     "iopub.execute_input": "2021-06-07T00:11:59.689995Z",
     "iopub.status.busy": "2021-06-07T00:11:59.689051Z",
     "iopub.status.idle": "2021-06-07T00:11:59.693354Z",
     "shell.execute_reply": "2021-06-07T00:11:59.692559Z"
    }
   },
   "outputs": [
    {
     "data": {
      "text/plain": [
       "6"
      ]
     },
     "execution_count": 1,
     "metadata": {},
     "output_type": "execute_result"
    }
   ],
   "source": [
    "date1.day"
   ]
  },
  {
   "cell_type": "code",
   "execution_count": 20,
   "id": "bf2917e2",
   "metadata": {
    "execution": {
     "iopub.execute_input": "2021-06-07T00:11:59.699279Z",
     "iopub.status.busy": "2021-06-07T00:11:59.698347Z",
     "iopub.status.idle": "2021-06-07T00:11:59.702043Z",
     "shell.execute_reply": "2021-06-07T00:11:59.702733Z"
    }
   },
   "outputs": [
    {
     "data": {
      "text/plain": [
       "6"
      ]
     },
     "execution_count": 1,
     "metadata": {},
     "output_type": "execute_result"
    }
   ],
   "source": [
    "date1.month"
   ]
  },
  {
   "cell_type": "markdown",
   "id": "f0781f4a",
   "metadata": {},
   "source": [
    "**Student Question: Can you print the current value of the year**"
   ]
  },
  {
   "cell_type": "markdown",
   "id": "e8912eb2",
   "metadata": {},
   "source": [
    "Fill-Me In"
   ]
  },
  {
   "cell_type": "markdown",
   "id": "f91e78c3",
   "metadata": {},
   "source": [
    "# Group Exercise A"
   ]
  },
  {
   "cell_type": "markdown",
   "id": "05d62abc",
   "metadata": {},
   "source": [
    "## Question 1"
   ]
  },
  {
   "cell_type": "markdown",
   "id": "9ebb7107",
   "metadata": {},
   "source": [
    "We saw that when we had a date type that it gave use the month as a number."
   ]
  },
  {
   "cell_type": "code",
   "execution_count": 21,
   "id": "74a5db6d",
   "metadata": {
    "execution": {
     "iopub.execute_input": "2021-06-07T00:11:59.709252Z",
     "iopub.status.busy": "2021-06-07T00:11:59.708362Z",
     "iopub.status.idle": "2021-06-07T00:11:59.712571Z",
     "shell.execute_reply": "2021-06-07T00:11:59.711688Z"
    }
   },
   "outputs": [
    {
     "data": {
      "text/plain": [
       "6"
      ]
     },
     "execution_count": 1,
     "metadata": {},
     "output_type": "execute_result"
    }
   ],
   "source": [
    "date1.month"
   ]
  },
  {
   "cell_type": "markdown",
   "id": "c02b804d",
   "metadata": {
    "lines_to_next_cell": 2
   },
   "source": [
    "If we want to turn the months into more standard names we can\n",
    "do so by making a dictionary."
   ]
  },
  {
   "cell_type": "markdown",
   "id": "0a28c25a",
   "metadata": {
    "lines_to_next_cell": 2
   },
   "source": [
    "*Fill-Me*\n",
    "months = {\n",
    "   1 : \"Jan\",\n",
    "   ...\n",
    "}"
   ]
  },
  {
   "cell_type": "markdown",
   "id": "38626aff",
   "metadata": {},
   "source": [
    "User your dictionary to convert the current month to a month name."
   ]
  },
  {
   "cell_type": "markdown",
   "id": "f826ea8e",
   "metadata": {},
   "source": [
    "Fill-Me"
   ]
  },
  {
   "cell_type": "markdown",
   "id": "69a473b0",
   "metadata": {},
   "source": [
    "## Question 2"
   ]
  },
  {
   "cell_type": "markdown",
   "id": "f209d93a",
   "metadata": {},
   "source": [
    "One common data operations is to `count` unique items. For instance\n",
    "if we are voting we may have a list of votes from each person voting for\n",
    "candidate A, B, or C"
   ]
  },
  {
   "cell_type": "code",
   "execution_count": 22,
   "id": "55d78ee3",
   "metadata": {
    "execution": {
     "iopub.execute_input": "2021-06-07T00:11:59.718601Z",
     "iopub.status.busy": "2021-06-07T00:11:59.717780Z",
     "iopub.status.idle": "2021-06-07T00:11:59.720882Z",
     "shell.execute_reply": "2021-06-07T00:11:59.720114Z"
    }
   },
   "outputs": [],
   "source": [
    "votes = [\"A\", \"B\", \"A\", \"A\", \"C\", \"C\", \"B\", \"A\", \"A\", \"A\"]"
   ]
  },
  {
   "cell_type": "markdown",
   "id": "1ad6b02b",
   "metadata": {},
   "source": [
    "There is a special type in Python that makes this operation really easy known\n",
    "as a Counter. It lives in a package known as `collections`. We can use it\n",
    "by importing it like this"
   ]
  },
  {
   "cell_type": "code",
   "execution_count": 23,
   "id": "b4d6faa2",
   "metadata": {
    "execution": {
     "iopub.execute_input": "2021-06-07T00:11:59.726290Z",
     "iopub.status.busy": "2021-06-07T00:11:59.725515Z",
     "iopub.status.idle": "2021-06-07T00:11:59.728751Z",
     "shell.execute_reply": "2021-06-07T00:11:59.727945Z"
    }
   },
   "outputs": [],
   "source": [
    "from collections import Counter"
   ]
  },
  {
   "cell_type": "markdown",
   "id": "254c0312",
   "metadata": {},
   "source": [
    "For this exercise, you should google for how to use the Counter.\n",
    "Use what you find to print out the count of each number of votes that\n",
    "each candidate \"A\" received."
   ]
  },
  {
   "cell_type": "markdown",
   "id": "57ec33d9",
   "metadata": {
    "lines_to_next_cell": 2
   },
   "source": [
    "## Question 3"
   ]
  },
  {
   "cell_type": "markdown",
   "id": "ea6a098a",
   "metadata": {},
   "source": [
    "Another useful aspect of the `Counter` is that it can tell you the most common\n",
    "elements in a list. This is particularly useful when there are a ton of different\n",
    "elements to work with. Google for how to find the most common element in a list."
   ]
  },
  {
   "cell_type": "markdown",
   "id": "bef9c73b",
   "metadata": {},
   "source": [
    "For this question, you will tell us the 10th most common letter in the beginning of the \"Wizard of Oz\"."
   ]
  },
  {
   "cell_type": "code",
   "execution_count": 24,
   "id": "7ceb67ba",
   "metadata": {
    "execution": {
     "iopub.execute_input": "2021-06-07T00:11:59.749297Z",
     "iopub.status.busy": "2021-06-07T00:11:59.748291Z",
     "iopub.status.idle": "2021-06-07T00:11:59.752516Z",
     "shell.execute_reply": "2021-06-07T00:11:59.753241Z"
    }
   },
   "outputs": [
    {
     "data": {
      "text/plain": [
       "['D',\n",
       " 'o',\n",
       " 'r',\n",
       " 'o',\n",
       " 't',\n",
       " 'h',\n",
       " 'y',\n",
       " ' ',\n",
       " 'l',\n",
       " 'i',\n",
       " 'v',\n",
       " 'e',\n",
       " 'd',\n",
       " ' ',\n",
       " 'i',\n",
       " 'n',\n",
       " ' ',\n",
       " 't',\n",
       " 'h',\n",
       " 'e',\n",
       " ' ',\n",
       " 'm',\n",
       " 'i',\n",
       " 'd',\n",
       " 's',\n",
       " 't',\n",
       " ' ',\n",
       " 'o',\n",
       " 'f',\n",
       " ' ',\n",
       " 't',\n",
       " 'h',\n",
       " 'e',\n",
       " ' ',\n",
       " 'g',\n",
       " 'r',\n",
       " 'e',\n",
       " 'a',\n",
       " 't',\n",
       " ' ',\n",
       " 'K',\n",
       " 'a',\n",
       " 'n',\n",
       " 's',\n",
       " 'a',\n",
       " 's',\n",
       " ' ',\n",
       " 'p',\n",
       " 'r',\n",
       " 'a',\n",
       " 'i',\n",
       " 'r',\n",
       " 'i',\n",
       " 'e',\n",
       " 's',\n",
       " ',',\n",
       " ' ',\n",
       " 'w',\n",
       " 'i',\n",
       " 't',\n",
       " 'h',\n",
       " ' ',\n",
       " 'U',\n",
       " 'n',\n",
       " 'c',\n",
       " 'l',\n",
       " 'e',\n",
       " ' ',\n",
       " 'H',\n",
       " 'e',\n",
       " 'n',\n",
       " 'r',\n",
       " 'y',\n",
       " ',',\n",
       " ' ',\n",
       " 'w',\n",
       " 'h',\n",
       " 'o',\n",
       " ' ',\n",
       " 'w',\n",
       " 'a',\n",
       " 's',\n",
       " ' ',\n",
       " 'a',\n",
       " ' ',\n",
       " 'f',\n",
       " 'a',\n",
       " 'r',\n",
       " 'm',\n",
       " 'e',\n",
       " 'r',\n",
       " ',',\n",
       " ' ',\n",
       " 'a',\n",
       " 'n',\n",
       " 'd',\n",
       " ' ',\n",
       " 'A',\n",
       " 'u',\n",
       " 'n',\n",
       " 't',\n",
       " ' ',\n",
       " 'E',\n",
       " 'm',\n",
       " ',',\n",
       " ' ',\n",
       " 'w',\n",
       " 'h',\n",
       " 'o',\n",
       " ' ',\n",
       " 'w',\n",
       " 'a',\n",
       " 's',\n",
       " ' ',\n",
       " 't',\n",
       " 'h',\n",
       " 'e',\n",
       " ' ',\n",
       " 'f',\n",
       " 'a',\n",
       " 'r',\n",
       " 'm',\n",
       " 'e',\n",
       " 'r',\n",
       " '’',\n",
       " 's',\n",
       " ' ',\n",
       " 'w',\n",
       " 'i',\n",
       " 'f',\n",
       " 'e',\n",
       " '.',\n",
       " ' ',\n",
       " 'T',\n",
       " 'h',\n",
       " 'e',\n",
       " 'i',\n",
       " 'r',\n",
       " ' ',\n",
       " 'h',\n",
       " 'o',\n",
       " 'u',\n",
       " 's',\n",
       " 'e',\n",
       " ' ',\n",
       " 'w',\n",
       " 'a',\n",
       " 's',\n",
       " ' ',\n",
       " 's',\n",
       " 'm',\n",
       " 'a',\n",
       " 'l',\n",
       " 'l',\n",
       " ',',\n",
       " ' ',\n",
       " 'f',\n",
       " 'o',\n",
       " 'r',\n",
       " ' ',\n",
       " 't',\n",
       " 'h',\n",
       " 'e',\n",
       " ' ',\n",
       " 'l',\n",
       " 'u',\n",
       " 'm',\n",
       " 'b',\n",
       " 'e',\n",
       " 'r',\n",
       " ' ',\n",
       " 't',\n",
       " 'o',\n",
       " ' ',\n",
       " 'b',\n",
       " 'u',\n",
       " 'i',\n",
       " 'l',\n",
       " 'd',\n",
       " ' ',\n",
       " 'i',\n",
       " 't',\n",
       " ' ',\n",
       " 'h',\n",
       " 'a',\n",
       " 'd',\n",
       " ' ',\n",
       " 't',\n",
       " 'o',\n",
       " ' ',\n",
       " 'b',\n",
       " 'e',\n",
       " ' ',\n",
       " 'c',\n",
       " 'a',\n",
       " 'r',\n",
       " 'r',\n",
       " 'i',\n",
       " 'e',\n",
       " 'd',\n",
       " ' ',\n",
       " 'b',\n",
       " 'y',\n",
       " ' ',\n",
       " 'w',\n",
       " 'a',\n",
       " 'g',\n",
       " 'o',\n",
       " 'n',\n",
       " ' ',\n",
       " 'm',\n",
       " 'a',\n",
       " 'n',\n",
       " 'y',\n",
       " ' ',\n",
       " 'm',\n",
       " 'i',\n",
       " 'l',\n",
       " 'e',\n",
       " 's',\n",
       " '.',\n",
       " ' ',\n",
       " 'T',\n",
       " 'h',\n",
       " 'e',\n",
       " 'r',\n",
       " 'e',\n",
       " ' ',\n",
       " 'w',\n",
       " 'e',\n",
       " 'r',\n",
       " 'e',\n",
       " ' ',\n",
       " 'f',\n",
       " 'o',\n",
       " 'u',\n",
       " 'r',\n",
       " ' ',\n",
       " 'w',\n",
       " 'a',\n",
       " 'l',\n",
       " 'l',\n",
       " 's',\n",
       " ',',\n",
       " ' ',\n",
       " 'a',\n",
       " ' ',\n",
       " 'f',\n",
       " 'l',\n",
       " 'o',\n",
       " 'o',\n",
       " 'r',\n",
       " ' ',\n",
       " 'a',\n",
       " 'n',\n",
       " 'd',\n",
       " ' ',\n",
       " 'a',\n",
       " ' ',\n",
       " 'r',\n",
       " 'o',\n",
       " 'o',\n",
       " 'f',\n",
       " ',',\n",
       " ' ',\n",
       " 'w',\n",
       " 'h',\n",
       " 'i',\n",
       " 'c',\n",
       " 'h',\n",
       " ' ',\n",
       " 'm',\n",
       " 'a',\n",
       " 'd',\n",
       " 'e',\n",
       " ' ',\n",
       " 'o',\n",
       " 'n',\n",
       " 'e',\n",
       " ' ',\n",
       " 'r',\n",
       " 'o',\n",
       " 'o',\n",
       " 'm',\n",
       " ';',\n",
       " ' ',\n",
       " 'a',\n",
       " 'n',\n",
       " 'd',\n",
       " ' ',\n",
       " 't',\n",
       " 'h',\n",
       " 'i',\n",
       " 's',\n",
       " ' ',\n",
       " 'r',\n",
       " 'o',\n",
       " 'o',\n",
       " 'm',\n",
       " ' ',\n",
       " 'c',\n",
       " 'o',\n",
       " 'n',\n",
       " 't',\n",
       " 'a',\n",
       " 'i',\n",
       " 'n',\n",
       " 'e',\n",
       " 'd',\n",
       " ' ',\n",
       " 'a',\n",
       " ' ',\n",
       " 'r',\n",
       " 'u',\n",
       " 's',\n",
       " 't',\n",
       " 'y',\n",
       " ' ',\n",
       " 'l',\n",
       " 'o',\n",
       " 'o',\n",
       " 'k',\n",
       " 'i',\n",
       " 'n',\n",
       " 'g',\n",
       " ' ',\n",
       " 'c',\n",
       " 'o',\n",
       " 'o',\n",
       " 'k',\n",
       " 's',\n",
       " 't',\n",
       " 'o',\n",
       " 'v',\n",
       " 'e',\n",
       " ',',\n",
       " ' ',\n",
       " 'a',\n",
       " ' ',\n",
       " 'c',\n",
       " 'u',\n",
       " 'p',\n",
       " 'b',\n",
       " 'o',\n",
       " 'a',\n",
       " 'r',\n",
       " 'd',\n",
       " ' ',\n",
       " 'f',\n",
       " 'o',\n",
       " 'r',\n",
       " ' ',\n",
       " 't',\n",
       " 'h',\n",
       " 'e',\n",
       " ' ',\n",
       " 'd',\n",
       " 'i',\n",
       " 's',\n",
       " 'h',\n",
       " 'e',\n",
       " 's',\n",
       " ',',\n",
       " ' ',\n",
       " 'a',\n",
       " ' ',\n",
       " 't',\n",
       " 'a',\n",
       " 'b',\n",
       " 'l',\n",
       " 'e',\n",
       " ',',\n",
       " ' ',\n",
       " 't',\n",
       " 'h',\n",
       " 'r',\n",
       " 'e',\n",
       " 'e',\n",
       " ' ',\n",
       " 'o',\n",
       " 'r',\n",
       " ' ',\n",
       " 'f',\n",
       " 'o',\n",
       " 'u',\n",
       " 'r',\n",
       " ' ',\n",
       " 'c',\n",
       " 'h',\n",
       " 'a',\n",
       " 'i',\n",
       " 'r',\n",
       " 's',\n",
       " ',',\n",
       " ' ',\n",
       " 'a',\n",
       " 'n',\n",
       " 'd',\n",
       " ' ',\n",
       " 't',\n",
       " 'h',\n",
       " 'e',\n",
       " ' ',\n",
       " 'b',\n",
       " 'e',\n",
       " 'd',\n",
       " 's',\n",
       " '.',\n",
       " ' ',\n",
       " 'U',\n",
       " 'n',\n",
       " 'c',\n",
       " 'l',\n",
       " 'e',\n",
       " ' ',\n",
       " 'H',\n",
       " 'e',\n",
       " 'n',\n",
       " 'r',\n",
       " 'y',\n",
       " ' ',\n",
       " 'a',\n",
       " 'n',\n",
       " 'd',\n",
       " ' ',\n",
       " 'A',\n",
       " 'u',\n",
       " 'n',\n",
       " 't',\n",
       " ' ',\n",
       " 'E',\n",
       " 'm',\n",
       " ' ',\n",
       " 'h',\n",
       " 'a',\n",
       " 'd',\n",
       " ' ',\n",
       " 'a',\n",
       " ' ',\n",
       " 'b',\n",
       " 'i',\n",
       " 'g',\n",
       " ' ',\n",
       " 'b',\n",
       " 'e',\n",
       " 'd',\n",
       " ' ',\n",
       " 'i',\n",
       " 'n',\n",
       " ' ',\n",
       " 'o',\n",
       " 'n',\n",
       " 'e',\n",
       " ' ',\n",
       " 'c',\n",
       " 'o',\n",
       " 'r',\n",
       " 'n',\n",
       " 'e',\n",
       " 'r',\n",
       " ',',\n",
       " ' ',\n",
       " 'a',\n",
       " 'n',\n",
       " 'd',\n",
       " ' ',\n",
       " 'D',\n",
       " 'o',\n",
       " 'r',\n",
       " 'o',\n",
       " 't',\n",
       " 'h',\n",
       " 'y',\n",
       " ' ',\n",
       " 'a',\n",
       " ' ',\n",
       " 'l',\n",
       " 'i',\n",
       " 't',\n",
       " 't',\n",
       " 'l',\n",
       " 'e',\n",
       " ' ',\n",
       " 'b',\n",
       " 'e',\n",
       " 'd',\n",
       " ' ',\n",
       " 'i',\n",
       " 'n',\n",
       " ' ',\n",
       " 'a',\n",
       " 'n',\n",
       " 'o',\n",
       " 't',\n",
       " 'h',\n",
       " 'e',\n",
       " 'r',\n",
       " ' ',\n",
       " 'c',\n",
       " 'o',\n",
       " 'r',\n",
       " 'n',\n",
       " 'e',\n",
       " 'r',\n",
       " '.',\n",
       " ' ',\n",
       " 'T',\n",
       " 'h',\n",
       " 'e',\n",
       " 'r',\n",
       " 'e',\n",
       " ' ',\n",
       " 'w',\n",
       " 'a',\n",
       " 's',\n",
       " ' ',\n",
       " 'n',\n",
       " 'o',\n",
       " ' ',\n",
       " 'g',\n",
       " 'a',\n",
       " 'r',\n",
       " 'r',\n",
       " 'e',\n",
       " 't',\n",
       " ' ',\n",
       " 'a',\n",
       " 't',\n",
       " ' ',\n",
       " 'a',\n",
       " 'l',\n",
       " 'l',\n",
       " ',',\n",
       " ' ',\n",
       " 'a',\n",
       " 'n',\n",
       " 'd',\n",
       " ' ',\n",
       " 'n',\n",
       " 'o',\n",
       " ' ',\n",
       " 'c',\n",
       " 'e',\n",
       " 'l',\n",
       " 'l',\n",
       " 'a',\n",
       " 'r',\n",
       " '—',\n",
       " 'e',\n",
       " 'x',\n",
       " 'c',\n",
       " 'e',\n",
       " 'p',\n",
       " 't',\n",
       " ' ',\n",
       " 'a',\n",
       " ' ',\n",
       " 's',\n",
       " 'm',\n",
       " 'a',\n",
       " 'l',\n",
       " 'l',\n",
       " ' ',\n",
       " 'h',\n",
       " 'o',\n",
       " 'l',\n",
       " 'e',\n",
       " ' ',\n",
       " 'd',\n",
       " 'u',\n",
       " 'g',\n",
       " ' ',\n",
       " 'i',\n",
       " 'n',\n",
       " ' ',\n",
       " 't',\n",
       " 'h',\n",
       " 'e',\n",
       " ' ',\n",
       " 'g',\n",
       " 'r',\n",
       " 'o',\n",
       " 'u',\n",
       " 'n',\n",
       " 'd',\n",
       " ',',\n",
       " ' ',\n",
       " 'c',\n",
       " 'a',\n",
       " 'l',\n",
       " 'l',\n",
       " 'e',\n",
       " 'd',\n",
       " ' ',\n",
       " 'a',\n",
       " ' ',\n",
       " 'c',\n",
       " 'y',\n",
       " 'c',\n",
       " 'l',\n",
       " 'o',\n",
       " 'n',\n",
       " 'e',\n",
       " ' ',\n",
       " 'c',\n",
       " 'e',\n",
       " 'l',\n",
       " 'l',\n",
       " 'a',\n",
       " 'r',\n",
       " ',',\n",
       " ' ',\n",
       " 'w',\n",
       " 'h',\n",
       " 'e',\n",
       " 'r',\n",
       " 'e',\n",
       " ' ',\n",
       " 't',\n",
       " 'h',\n",
       " 'e',\n",
       " ' ',\n",
       " 'f',\n",
       " 'a',\n",
       " 'm',\n",
       " 'i',\n",
       " 'l',\n",
       " 'y',\n",
       " ' ',\n",
       " 'c',\n",
       " 'o',\n",
       " 'u',\n",
       " 'l',\n",
       " 'd',\n",
       " ' ',\n",
       " 'g',\n",
       " 'o',\n",
       " ' ',\n",
       " 'i',\n",
       " 'n',\n",
       " ' ',\n",
       " 'c',\n",
       " 'a',\n",
       " 's',\n",
       " 'e',\n",
       " ' ',\n",
       " 'o',\n",
       " 'n',\n",
       " 'e',\n",
       " ' ',\n",
       " 'o',\n",
       " 'f',\n",
       " ' ',\n",
       " 't',\n",
       " 'h',\n",
       " 'o',\n",
       " 's',\n",
       " 'e',\n",
       " ' ',\n",
       " 'g',\n",
       " 'r',\n",
       " 'e',\n",
       " 'a',\n",
       " 't',\n",
       " ' ',\n",
       " 'w',\n",
       " 'h',\n",
       " 'i',\n",
       " 'r',\n",
       " 'l',\n",
       " 'w',\n",
       " 'i',\n",
       " 'n',\n",
       " 'd',\n",
       " 's',\n",
       " ' ',\n",
       " 'a',\n",
       " 'r',\n",
       " 'o',\n",
       " 's',\n",
       " 'e',\n",
       " ',',\n",
       " ' ',\n",
       " 'm',\n",
       " 'i',\n",
       " 'g',\n",
       " 'h',\n",
       " 't',\n",
       " 'y',\n",
       " ' ',\n",
       " 'e',\n",
       " 'n',\n",
       " 'o',\n",
       " 'u',\n",
       " 'g',\n",
       " 'h',\n",
       " ' ',\n",
       " 't',\n",
       " 'o',\n",
       " ' ',\n",
       " 'c',\n",
       " 'r',\n",
       " 'u',\n",
       " 's',\n",
       " 'h',\n",
       " ' ',\n",
       " 'a',\n",
       " 'n',\n",
       " 'y',\n",
       " ' ',\n",
       " 'b',\n",
       " 'u',\n",
       " 'i',\n",
       " 'l',\n",
       " 'd',\n",
       " 'i',\n",
       " 'n',\n",
       " 'g',\n",
       " ' ',\n",
       " 'i',\n",
       " 'n',\n",
       " ' ',\n",
       " 'i',\n",
       " 't',\n",
       " 's',\n",
       " ' ',\n",
       " 'p',\n",
       " 'a',\n",
       " 't',\n",
       " 'h',\n",
       " '.',\n",
       " ' ',\n",
       " 'I',\n",
       " 't',\n",
       " ' ',\n",
       " 'w',\n",
       " 'a',\n",
       " 's',\n",
       " ' ',\n",
       " 'r',\n",
       " 'e',\n",
       " 'a',\n",
       " 'c',\n",
       " 'h',\n",
       " 'e',\n",
       " 'd',\n",
       " ' ',\n",
       " 'b',\n",
       " 'y',\n",
       " ' ',\n",
       " 'a',\n",
       " ' ',\n",
       " 't',\n",
       " 'r',\n",
       " 'a',\n",
       " 'p',\n",
       " ' ',\n",
       " 'd',\n",
       " 'o',\n",
       " 'o',\n",
       " 'r',\n",
       " ' ',\n",
       " 'i',\n",
       " 'n',\n",
       " ' ',\n",
       " 't',\n",
       " 'h',\n",
       " 'e',\n",
       " ' ',\n",
       " 'm',\n",
       " 'i',\n",
       " 'd',\n",
       " 'd',\n",
       " 'l',\n",
       " 'e',\n",
       " ' ',\n",
       " 'o',\n",
       " 'f',\n",
       " ' ',\n",
       " 't',\n",
       " 'h',\n",
       " 'e',\n",
       " ' ',\n",
       " 'f',\n",
       " 'l',\n",
       " 'o',\n",
       " 'o',\n",
       " 'r',\n",
       " ',',\n",
       " ' ',\n",
       " 'f',\n",
       " 'r',\n",
       " 'o',\n",
       " 'm',\n",
       " ' ',\n",
       " 'w',\n",
       " 'h',\n",
       " 'i',\n",
       " 'c',\n",
       " 'h',\n",
       " ' ',\n",
       " 'a',\n",
       " ' ',\n",
       " 'l',\n",
       " 'a',\n",
       " 'd',\n",
       " 'd',\n",
       " 'e',\n",
       " 'r',\n",
       " ' ',\n",
       " 'l',\n",
       " 'e',\n",
       " 'd',\n",
       " ' ',\n",
       " 'd',\n",
       " 'o',\n",
       " 'w',\n",
       " 'n',\n",
       " ' ',\n",
       " 'i',\n",
       " 'n',\n",
       " 't',\n",
       " 'o',\n",
       " ' ',\n",
       " 't',\n",
       " 'h',\n",
       " 'e',\n",
       " ' ',\n",
       " 's',\n",
       " 'm',\n",
       " 'a',\n",
       " 'l',\n",
       " 'l',\n",
       " ',',\n",
       " ' ',\n",
       " 'd',\n",
       " 'a',\n",
       " 'r',\n",
       " 'k',\n",
       " ' ',\n",
       " 'h',\n",
       " 'o',\n",
       " 'l',\n",
       " 'e',\n",
       " '.']"
      ]
     },
     "execution_count": 1,
     "metadata": {},
     "output_type": "execute_result"
    }
   ],
   "source": [
    "wizard_of_oz = list(\"Dorothy lived in the midst of the great Kansas prairies, with Uncle Henry, who was a farmer, and Aunt Em, who was the farmer’s wife. Their house was small, for the lumber to build it had to be carried by wagon many miles. There were four walls, a floor and a roof, which made one room; and this room contained a rusty looking cookstove, a cupboard for the dishes, a table, three or four chairs, and the beds. Uncle Henry and Aunt Em had a big bed in one corner, and Dorothy a little bed in another corner. There was no garret at all, and no cellar—except a small hole dug in the ground, called a cyclone cellar, where the family could go in case one of those great whirlwinds arose, mighty enough to crush any building in its path. It was reached by a trap door in the middle of the floor, from which a ladder led down into the small, dark hole.\")\n",
    "wizard_of_oz"
   ]
  },
  {
   "cell_type": "markdown",
   "id": "49da98af",
   "metadata": {},
   "source": [
    "Print out the 10'th most common element in this list."
   ]
  },
  {
   "cell_type": "markdown",
   "id": "e320badb",
   "metadata": {
    "lines_to_next_cell": 2
   },
   "source": [
    "Fill-Me"
   ]
  },
  {
   "cell_type": "markdown",
   "id": "98dc7991",
   "metadata": {},
   "source": [
    "More than anything remember this. The best programmers use help the\n",
    "most! No one wins a prize for memerizing the most functions. If you\n",
    "want to be a good programmer, learn how to look things up quickly and\n",
    "ask the most questions."
   ]
  },
  {
   "cell_type": "code",
   "execution_count": null,
   "id": "ce03394a",
   "metadata": {},
   "outputs": [],
   "source": []
  },
  {
   "cell_type": "markdown",
   "id": "008db037",
   "metadata": {},
   "source": [
    "# Unit B"
   ]
  },
  {
   "cell_type": "markdown",
   "id": "455f94ca",
   "metadata": {
    "lines_to_next_cell": 2
   },
   "source": [
    "In addition to the data types and libraries, we will sometimes\n",
    "use Python to write our own code. In general when doing data science\n",
    "you should not have to write very long amounts of code, but there are\n",
    "some cases when it is useful."
   ]
  },
  {
   "cell_type": "markdown",
   "id": "c68d97e0",
   "metadata": {},
   "source": [
    "## Basic Structures"
   ]
  },
  {
   "cell_type": "markdown",
   "id": "a1208888",
   "metadata": {
    "lines_to_next_cell": 2
   },
   "source": [
    "### `if` statements"
   ]
  },
  {
   "cell_type": "markdown",
   "id": "f2c992a7",
   "metadata": {},
   "source": [
    "If statements check for a condition and run the\n",
    "code if it is true. In Python you need to indent\n",
    "the code under the if statement otherwise it will\n",
    "not run."
   ]
  },
  {
   "cell_type": "code",
   "execution_count": 25,
   "id": "f9361b61",
   "metadata": {
    "execution": {
     "iopub.execute_input": "2021-06-07T00:11:59.758412Z",
     "iopub.status.busy": "2021-06-07T00:11:59.757527Z",
     "iopub.status.idle": "2021-06-07T00:11:59.760521Z",
     "shell.execute_reply": "2021-06-07T00:11:59.759759Z"
    }
   },
   "outputs": [],
   "source": [
    "number3 = 10 + 75.0"
   ]
  },
  {
   "cell_type": "code",
   "execution_count": 26,
   "id": "a1d9b2fd",
   "metadata": {
    "execution": {
     "iopub.execute_input": "2021-06-07T00:11:59.765163Z",
     "iopub.status.busy": "2021-06-07T00:11:59.764335Z",
     "iopub.status.idle": "2021-06-07T00:11:59.768379Z",
     "shell.execute_reply": "2021-06-07T00:11:59.767663Z"
    },
    "lines_to_next_cell": 2
   },
   "outputs": [
    {
     "name": "stdout",
     "output_type": "stream",
     "text": [
      "number is greater than 50\n"
     ]
    }
   ],
   "source": [
    "if number3 > 50:\n",
    "    print(\"number is greater than 50\")"
   ]
  },
  {
   "cell_type": "code",
   "execution_count": 27,
   "id": "165c1afc",
   "metadata": {
    "execution": {
     "iopub.execute_input": "2021-06-07T00:11:59.773563Z",
     "iopub.status.busy": "2021-06-07T00:11:59.772870Z",
     "iopub.status.idle": "2021-06-07T00:11:59.776412Z",
     "shell.execute_reply": "2021-06-07T00:11:59.775678Z"
    },
    "lines_to_next_cell": 2
   },
   "outputs": [],
   "source": [
    "if number3 > 100:\n",
    "    print(\"number is greater than 100\")"
   ]
  },
  {
   "cell_type": "markdown",
   "id": "225395b5",
   "metadata": {},
   "source": [
    "You can also have a backup `else` code block that will run if\n",
    "the condition is not true."
   ]
  },
  {
   "cell_type": "code",
   "execution_count": 28,
   "id": "1badfbe0",
   "metadata": {
    "execution": {
     "iopub.execute_input": "2021-06-07T00:11:59.782233Z",
     "iopub.status.busy": "2021-06-07T00:11:59.781327Z",
     "iopub.status.idle": "2021-06-07T00:11:59.785188Z",
     "shell.execute_reply": "2021-06-07T00:11:59.784455Z"
    }
   },
   "outputs": [
    {
     "name": "stdout",
     "output_type": "stream",
     "text": [
      "number is not greater than 100\n"
     ]
    }
   ],
   "source": [
    "if number3 > 100:\n",
    "    print(\"number is greater than 100\")\n",
    "else:\n",
    "    print(\"number is not greater than 100\")"
   ]
  },
  {
   "cell_type": "code",
   "execution_count": null,
   "id": "3f283841",
   "metadata": {},
   "outputs": [],
   "source": []
  },
  {
   "cell_type": "markdown",
   "id": "76e6f60b",
   "metadata": {},
   "source": [
    "### `for` loops"
   ]
  },
  {
   "cell_type": "markdown",
   "id": "4b621c59",
   "metadata": {},
   "source": [
    "For loops in python are used to step through the items in a list one by"
   ]
  },
  {
   "cell_type": "code",
   "execution_count": 29,
   "id": "9ce6cc98",
   "metadata": {
    "execution": {
     "iopub.execute_input": "2021-06-07T00:11:59.791429Z",
     "iopub.status.busy": "2021-06-07T00:11:59.790443Z",
     "iopub.status.idle": "2021-06-07T00:11:59.794206Z",
     "shell.execute_reply": "2021-06-07T00:11:59.794946Z"
    }
   },
   "outputs": [
    {
     "data": {
      "text/plain": [
       "[1, 2, 3, 4, 5]"
      ]
     },
     "execution_count": 1,
     "metadata": {},
     "output_type": "execute_result"
    }
   ],
   "source": [
    "list3"
   ]
  },
  {
   "cell_type": "code",
   "execution_count": null,
   "id": "5af81a44",
   "metadata": {},
   "outputs": [],
   "source": []
  },
  {
   "cell_type": "markdown",
   "id": "4de1df9e",
   "metadata": {},
   "source": [
    "You indicate a for loop in the following manner. The code will be run 5 times\n",
    "with the variable `value` taking on a new value each time through the loop."
   ]
  },
  {
   "cell_type": "code",
   "execution_count": 30,
   "id": "bb29799e",
   "metadata": {
    "execution": {
     "iopub.execute_input": "2021-06-07T00:11:59.801459Z",
     "iopub.status.busy": "2021-06-07T00:11:59.800594Z",
     "iopub.status.idle": "2021-06-07T00:11:59.805743Z",
     "shell.execute_reply": "2021-06-07T00:11:59.805001Z"
    },
    "lines_to_next_cell": 2
   },
   "outputs": [
    {
     "name": "stdout",
     "output_type": "stream",
     "text": [
      "Next value is:  1\n",
      "Next value is:  2\n",
      "Next value is:  3\n",
      "Next value is:  4\n",
      "Next value is:  5\n"
     ]
    }
   ],
   "source": [
    "for value in list3:\n",
    "    print(\"Next value is: \", value)"
   ]
  },
  {
   "cell_type": "markdown",
   "id": "094305dd",
   "metadata": {},
   "source": [
    "Note: unlike other languages Python for loops always need a list to\n",
    "walkthough. This differs from language where you have a counter variable."
   ]
  },
  {
   "cell_type": "markdown",
   "id": "b56b84e7",
   "metadata": {},
   "source": [
    "However, Python also includes a nice shortcut for making it easy to write for\n",
    "loops like this. The command `range` will make a list starting from\n",
    "a value and stop right before the end value."
   ]
  },
  {
   "cell_type": "code",
   "execution_count": 31,
   "id": "2da7353f",
   "metadata": {
    "execution": {
     "iopub.execute_input": "2021-06-07T00:11:59.812076Z",
     "iopub.status.busy": "2021-06-07T00:11:59.811215Z",
     "iopub.status.idle": "2021-06-07T00:11:59.815531Z",
     "shell.execute_reply": "2021-06-07T00:11:59.816233Z"
    }
   },
   "outputs": [
    {
     "name": "stdout",
     "output_type": "stream",
     "text": [
      "0\n",
      "1\n",
      "2\n",
      "3\n",
      "4\n",
      "5\n",
      "6\n",
      "7\n",
      "8\n",
      "9\n"
     ]
    }
   ],
   "source": [
    "for val in range(10):\n",
    "    print(val)"
   ]
  },
  {
   "cell_type": "markdown",
   "id": "86ea845b",
   "metadata": {},
   "source": [
    "**Student Question: Print out each month name from your month dictionary.**"
   ]
  },
  {
   "cell_type": "markdown",
   "id": "5b1eabf2",
   "metadata": {
    "lines_to_next_cell": 2
   },
   "source": [
    "Fill-Me-IN\n",
    "for month in [1, 2, 3, 4, 5, 6, 7, 8, 9, 10, 11, 12]:"
   ]
  },
  {
   "cell_type": "markdown",
   "id": "f40aba73",
   "metadata": {
    "lines_to_next_cell": 2
   },
   "source": [
    "## Working with Strings"
   ]
  },
  {
   "cell_type": "markdown",
   "id": "532155c0",
   "metadata": {
    "lines_to_next_cell": 2
   },
   "source": [
    "Strings are an importnat special case. Throughout this class we will\n",
    "work a lot with text. We will start with simple examples and work our\n",
    "way up to artificial intelligence over text."
   ]
  },
  {
   "cell_type": "markdown",
   "id": "6f8ea9a0",
   "metadata": {},
   "source": [
    "Text will also be represented with a string type. This is created with\n",
    "quotes."
   ]
  },
  {
   "cell_type": "code",
   "execution_count": 32,
   "id": "d3e9df68",
   "metadata": {
    "execution": {
     "iopub.execute_input": "2021-06-07T00:11:59.822524Z",
     "iopub.status.busy": "2021-06-07T00:11:59.821559Z",
     "iopub.status.idle": "2021-06-07T00:11:59.824296Z",
     "shell.execute_reply": "2021-06-07T00:11:59.825078Z"
    }
   },
   "outputs": [],
   "source": [
    "str1 = \"A sample string to get started\""
   ]
  },
  {
   "cell_type": "markdown",
   "id": "e8c962c9",
   "metadata": {},
   "source": [
    "Just like with lists, we can make a for loop over strings to get individual letters."
   ]
  },
  {
   "cell_type": "code",
   "execution_count": 33,
   "id": "e88d94ad",
   "metadata": {
    "execution": {
     "iopub.execute_input": "2021-06-07T00:11:59.832197Z",
     "iopub.status.busy": "2021-06-07T00:11:59.831207Z",
     "iopub.status.idle": "2021-06-07T00:11:59.838014Z",
     "shell.execute_reply": "2021-06-07T00:11:59.839049Z"
    }
   },
   "outputs": [
    {
     "name": "stdout",
     "output_type": "stream",
     "text": [
      "A\n",
      " \n",
      "s\n",
      "a\n",
      "m\n",
      "p\n",
      "l\n",
      "e\n",
      " \n",
      "s\n",
      "t\n",
      "r\n",
      "i\n",
      "n\n",
      "g\n",
      " \n",
      "t\n",
      "o\n",
      " \n",
      "g\n",
      "e\n",
      "t\n",
      " \n",
      "s\n",
      "t\n",
      "a\n",
      "r\n",
      "t\n",
      "e\n",
      "d\n"
     ]
    }
   ],
   "source": [
    "for letter in str1:\n",
    "    print(letter)"
   ]
  },
  {
   "cell_type": "code",
   "execution_count": 34,
   "id": "31a25f82",
   "metadata": {
    "execution": {
     "iopub.execute_input": "2021-06-07T00:11:59.846075Z",
     "iopub.status.busy": "2021-06-07T00:11:59.845166Z",
     "iopub.status.idle": "2021-06-07T00:11:59.850566Z",
     "shell.execute_reply": "2021-06-07T00:11:59.849657Z"
    }
   },
   "outputs": [
    {
     "name": "stdout",
     "output_type": "stream",
     "text": [
      "a\n",
      "e\n",
      "i\n",
      "o\n",
      "e\n",
      "a\n",
      "e\n"
     ]
    }
   ],
   "source": [
    "vowels = [\"a\", \"e\", \"i\", \"o\", \"u\"]\n",
    "for letter in str1:\n",
    "    if letter in vowels:\n",
    "        print(letter)"
   ]
  },
  {
   "cell_type": "markdown",
   "id": "a20ca132",
   "metadata": {},
   "source": [
    "However, most of the time it will be better to use one of the built-in\n",
    "functions in Python. Most of the time it is best to google for these, but\n",
    "here are some important ones to remember"
   ]
  },
  {
   "cell_type": "markdown",
   "id": "58855055",
   "metadata": {},
   "source": [
    "* Split\n",
    "Splits a string up into a list of strings based on a separator"
   ]
  },
  {
   "cell_type": "code",
   "execution_count": 35,
   "id": "450127fd",
   "metadata": {
    "execution": {
     "iopub.execute_input": "2021-06-07T00:11:59.857422Z",
     "iopub.status.busy": "2021-06-07T00:11:59.856348Z",
     "iopub.status.idle": "2021-06-07T00:11:59.861070Z",
     "shell.execute_reply": "2021-06-07T00:11:59.860182Z"
    },
    "lines_to_next_cell": 2
   },
   "outputs": [
    {
     "data": {
      "text/plain": [
       "'b'"
      ]
     },
     "execution_count": 1,
     "metadata": {},
     "output_type": "execute_result"
    }
   ],
   "source": [
    "str1 = \"a:b:c\"\n",
    "list_of_splits = str1.split(\":\")\n",
    "list_of_splits[1]"
   ]
  },
  {
   "cell_type": "markdown",
   "id": "525317cc",
   "metadata": {},
   "source": [
    "* Join\n",
    "Joins a string back together from a list."
   ]
  },
  {
   "cell_type": "code",
   "execution_count": 36,
   "id": "76470066",
   "metadata": {
    "execution": {
     "iopub.execute_input": "2021-06-07T00:11:59.866845Z",
     "iopub.status.busy": "2021-06-07T00:11:59.865965Z",
     "iopub.status.idle": "2021-06-07T00:11:59.869471Z",
     "shell.execute_reply": "2021-06-07T00:11:59.868729Z"
    },
    "lines_to_next_cell": 2
   },
   "outputs": [],
   "source": [
    "str1 = \",\".join(list_of_splits)"
   ]
  },
  {
   "cell_type": "markdown",
   "id": "4ea988e5",
   "metadata": {},
   "source": [
    "**Student Question: What value does ```str1``` have?**"
   ]
  },
  {
   "cell_type": "markdown",
   "id": "543c66bd",
   "metadata": {},
   "source": [
    "Fill-Me In"
   ]
  },
  {
   "cell_type": "markdown",
   "id": "0b5855dc",
   "metadata": {},
   "source": [
    "* Replace\n",
    "Replaces some part of a string."
   ]
  },
  {
   "cell_type": "code",
   "execution_count": 37,
   "id": "569ec025",
   "metadata": {
    "execution": {
     "iopub.execute_input": "2021-06-07T00:11:59.875854Z",
     "iopub.status.busy": "2021-06-07T00:11:59.875018Z",
     "iopub.status.idle": "2021-06-07T00:11:59.878814Z",
     "shell.execute_reply": "2021-06-07T00:11:59.879542Z"
    }
   },
   "outputs": [
    {
     "data": {
      "text/plain": [
       "'Item 1 , Item 2 , Item 3'"
      ]
     },
     "execution_count": 1,
     "metadata": {},
     "output_type": "execute_result"
    }
   ],
   "source": [
    "original_str = \"Item 1 | Item 2 | Item 3\"\n",
    "new_str = original_str.replace(\"|\", \",\")\n",
    "new_str"
   ]
  },
  {
   "cell_type": "code",
   "execution_count": 38,
   "id": "7c211e94",
   "metadata": {
    "execution": {
     "iopub.execute_input": "2021-06-07T00:11:59.885626Z",
     "iopub.status.busy": "2021-06-07T00:11:59.884805Z",
     "iopub.status.idle": "2021-06-07T00:11:59.888258Z",
     "shell.execute_reply": "2021-06-07T00:11:59.888932Z"
    }
   },
   "outputs": [
    {
     "data": {
      "text/plain": [
       "'Item 1  Item 2  Item 3'"
      ]
     },
     "execution_count": 1,
     "metadata": {},
     "output_type": "execute_result"
    }
   ],
   "source": [
    "new_str = original_str.replace(\"|\", \"\")\n",
    "new_str"
   ]
  },
  {
   "cell_type": "code",
   "execution_count": null,
   "id": "5fa77cc6",
   "metadata": {},
   "outputs": [],
   "source": []
  },
  {
   "cell_type": "markdown",
   "id": "faf6fde2",
   "metadata": {},
   "source": [
    "* In\n",
    "Checks if one string contains another"
   ]
  },
  {
   "cell_type": "code",
   "execution_count": 39,
   "id": "47e54029",
   "metadata": {
    "execution": {
     "iopub.execute_input": "2021-06-07T00:11:59.894879Z",
     "iopub.status.busy": "2021-06-07T00:11:59.893994Z",
     "iopub.status.idle": "2021-06-07T00:11:59.896376Z",
     "shell.execute_reply": "2021-06-07T00:11:59.897090Z"
    },
    "lines_to_next_cell": 2
   },
   "outputs": [],
   "source": [
    "original_str = \"Item 1 | Item 2 | Item 3\"\n",
    "contains1 = \"Item 2\" in original_str"
   ]
  },
  {
   "cell_type": "code",
   "execution_count": 40,
   "id": "0f8455cd",
   "metadata": {
    "execution": {
     "iopub.execute_input": "2021-06-07T00:11:59.902866Z",
     "iopub.status.busy": "2021-06-07T00:11:59.901978Z",
     "iopub.status.idle": "2021-06-07T00:11:59.905601Z",
     "shell.execute_reply": "2021-06-07T00:11:59.904690Z"
    },
    "lines_to_next_cell": 2
   },
   "outputs": [],
   "source": [
    "contains2 = \"Item 4\" in original_str"
   ]
  },
  {
   "cell_type": "markdown",
   "id": "e22c51b6",
   "metadata": {},
   "source": [
    "**Student Question: What values do ```contains1``` and ```contains2`` have?**"
   ]
  },
  {
   "cell_type": "markdown",
   "id": "f32cad6a",
   "metadata": {
    "lines_to_next_cell": 2
   },
   "source": [
    "Fill-me In"
   ]
  },
  {
   "cell_type": "markdown",
   "id": "8388950d",
   "metadata": {},
   "source": [
    "*  Conversions\n",
    "Converts between a string and a number"
   ]
  },
  {
   "cell_type": "code",
   "execution_count": 41,
   "id": "6d531826",
   "metadata": {
    "execution": {
     "iopub.execute_input": "2021-06-07T00:11:59.912197Z",
     "iopub.status.busy": "2021-06-07T00:11:59.911297Z",
     "iopub.status.idle": "2021-06-07T00:11:59.915021Z",
     "shell.execute_reply": "2021-06-07T00:11:59.915769Z"
    }
   },
   "outputs": [
    {
     "data": {
      "text/plain": [
       "15"
      ]
     },
     "execution_count": 1,
     "metadata": {},
     "output_type": "execute_result"
    }
   ],
   "source": [
    "int1 = int(\"15\")\n",
    "int1"
   ]
  },
  {
   "cell_type": "code",
   "execution_count": 42,
   "id": "f4656d5a",
   "metadata": {
    "execution": {
     "iopub.execute_input": "2021-06-07T00:11:59.922180Z",
     "iopub.status.busy": "2021-06-07T00:11:59.921110Z",
     "iopub.status.idle": "2021-06-07T00:11:59.925666Z",
     "shell.execute_reply": "2021-06-07T00:11:59.926483Z"
    }
   },
   "outputs": [
    {
     "data": {
      "text/plain": [
       "15.5"
      ]
     },
     "execution_count": 1,
     "metadata": {},
     "output_type": "execute_result"
    }
   ],
   "source": [
    "decimal1 = float(\"15.50\")\n",
    "decimal1"
   ]
  },
  {
   "cell_type": "markdown",
   "id": "e1748f45",
   "metadata": {},
   "source": [
    "## Functions"
   ]
  },
  {
   "cell_type": "markdown",
   "id": "09004bcd",
   "metadata": {},
   "source": [
    "Functions are small snippets of code that you may want to use\n",
    "multiple times."
   ]
  },
  {
   "cell_type": "code",
   "execution_count": 43,
   "id": "bb105088",
   "metadata": {
    "execution": {
     "iopub.execute_input": "2021-06-07T00:11:59.932665Z",
     "iopub.status.busy": "2021-06-07T00:11:59.931737Z",
     "iopub.status.idle": "2021-06-07T00:11:59.935549Z",
     "shell.execute_reply": "2021-06-07T00:11:59.934375Z"
    },
    "lines_to_next_cell": 1
   },
   "outputs": [],
   "source": [
    "def add_man(str1):\n",
    "    return str1 + \"man\""
   ]
  },
  {
   "cell_type": "code",
   "execution_count": 44,
   "id": "80e119b2",
   "metadata": {
    "execution": {
     "iopub.execute_input": "2021-06-07T00:11:59.942041Z",
     "iopub.status.busy": "2021-06-07T00:11:59.941076Z",
     "iopub.status.idle": "2021-06-07T00:11:59.944773Z",
     "shell.execute_reply": "2021-06-07T00:11:59.945526Z"
    },
    "lines_to_next_cell": 2
   },
   "outputs": [
    {
     "data": {
      "text/plain": [
       "'batman'"
      ]
     },
     "execution_count": 1,
     "metadata": {},
     "output_type": "execute_result"
    }
   ],
   "source": [
    "out = add_man(\"bat\")\n",
    "out"
   ]
  },
  {
   "cell_type": "markdown",
   "id": "cd67276a",
   "metadata": {},
   "source": [
    "Most of the time, functions should not change the variables that\n",
    "are sent to them. For instance here we do not change the variable `y`."
   ]
  },
  {
   "cell_type": "code",
   "execution_count": 45,
   "id": "8709704e",
   "metadata": {
    "execution": {
     "iopub.execute_input": "2021-06-07T00:11:59.952053Z",
     "iopub.status.busy": "2021-06-07T00:11:59.951079Z",
     "iopub.status.idle": "2021-06-07T00:11:59.954563Z",
     "shell.execute_reply": "2021-06-07T00:11:59.955335Z"
    }
   },
   "outputs": [
    {
     "data": {
      "text/plain": [
       "'batman'"
      ]
     },
     "execution_count": 1,
     "metadata": {},
     "output_type": "execute_result"
    }
   ],
   "source": [
    "y = \"bat\"\n",
    "out = add_man(y)\n",
    "out"
   ]
  },
  {
   "cell_type": "code",
   "execution_count": 46,
   "id": "6d678465",
   "metadata": {
    "execution": {
     "iopub.execute_input": "2021-06-07T00:11:59.961549Z",
     "iopub.status.busy": "2021-06-07T00:11:59.960617Z",
     "iopub.status.idle": "2021-06-07T00:11:59.964756Z",
     "shell.execute_reply": "2021-06-07T00:11:59.964018Z"
    },
    "lines_to_next_cell": 2
   },
   "outputs": [
    {
     "data": {
      "text/plain": [
       "'bat'"
      ]
     },
     "execution_count": 1,
     "metadata": {},
     "output_type": "execute_result"
    }
   ],
   "source": [
    "y"
   ]
  },
  {
   "cell_type": "markdown",
   "id": "ca88c6fa",
   "metadata": {
    "lines_to_next_cell": 2
   },
   "source": [
    "One interesting aspect of Python is that it lets your pass functions\n",
    "to functions. For instance, the built-in function `map` is a function\n",
    "applies another function to each element of a list."
   ]
  },
  {
   "cell_type": "markdown",
   "id": "be8c02e5",
   "metadata": {},
   "source": [
    "Assume we have a list like this."
   ]
  },
  {
   "cell_type": "code",
   "execution_count": 47,
   "id": "18d30f4a",
   "metadata": {
    "execution": {
     "iopub.execute_input": "2021-06-07T00:11:59.970591Z",
     "iopub.status.busy": "2021-06-07T00:11:59.969767Z",
     "iopub.status.idle": "2021-06-07T00:11:59.973299Z",
     "shell.execute_reply": "2021-06-07T00:11:59.972448Z"
    }
   },
   "outputs": [],
   "source": [
    "word_list = [\"spider\", \"bat\", \"super\"]"
   ]
  },
  {
   "cell_type": "markdown",
   "id": "2591264b",
   "metadata": {},
   "source": [
    "If we want a list with `man` added to each we cannot run the following:"
   ]
  },
  {
   "cell_type": "markdown",
   "id": "02f0044b",
   "metadata": {},
   "source": [
    "Doesn't work:  add_man(word_list)"
   ]
  },
  {
   "cell_type": "markdown",
   "id": "9a4827a3",
   "metadata": {},
   "source": [
    "However, the map function makes this work, by creating a new list."
   ]
  },
  {
   "cell_type": "code",
   "execution_count": 48,
   "id": "99aefb26",
   "metadata": {
    "execution": {
     "iopub.execute_input": "2021-06-07T00:11:59.979696Z",
     "iopub.status.busy": "2021-06-07T00:11:59.978762Z",
     "iopub.status.idle": "2021-06-07T00:11:59.983389Z",
     "shell.execute_reply": "2021-06-07T00:11:59.982572Z"
    }
   },
   "outputs": [
    {
     "data": {
      "text/plain": [
       "<map at 0x7f2104242640>"
      ]
     },
     "execution_count": 1,
     "metadata": {},
     "output_type": "execute_result"
    }
   ],
   "source": [
    "out = map(add_man, word_list)\n",
    "out"
   ]
  },
  {
   "cell_type": "markdown",
   "id": "998d81a0",
   "metadata": {},
   "source": [
    "# Group Exercise B"
   ]
  },
  {
   "cell_type": "markdown",
   "id": "5ae48254",
   "metadata": {},
   "source": [
    "## Question 1"
   ]
  },
  {
   "cell_type": "markdown",
   "id": "c725431f",
   "metadata": {},
   "source": [
    "When processing real-world data it is very common to be given a\n",
    "complex string. that contains many different items all smashed together. "
   ]
  },
  {
   "cell_type": "code",
   "execution_count": 49,
   "id": "d12e1d2d",
   "metadata": {
    "execution": {
     "iopub.execute_input": "2021-06-07T00:11:59.989307Z",
     "iopub.status.busy": "2021-06-07T00:11:59.988426Z",
     "iopub.status.idle": "2021-06-07T00:11:59.992270Z",
     "shell.execute_reply": "2021-06-07T00:11:59.991332Z"
    },
    "lines_to_next_cell": 2
   },
   "outputs": [],
   "source": [
    "real_word_string1 = \"Sasha Rush,arush@cornell.edu,Roosevelt Island,NYC\""
   ]
  },
  {
   "cell_type": "markdown",
   "id": "16659f91",
   "metadata": {
    "lines_to_next_cell": 2
   },
   "source": [
    "Use one of the string functions above to pull out the email from\n",
    "this string and print it."
   ]
  },
  {
   "cell_type": "markdown",
   "id": "0f3678ff",
   "metadata": {},
   "source": [
    "Fill-Me"
   ]
  },
  {
   "cell_type": "markdown",
   "id": "f28708f0",
   "metadata": {},
   "source": [
    "## Question 2"
   ]
  },
  {
   "cell_type": "markdown",
   "id": "1deb0407",
   "metadata": {},
   "source": [
    "Now assume the we have a list of strings."
   ]
  },
  {
   "cell_type": "code",
   "execution_count": 50,
   "id": "34574e89",
   "metadata": {
    "execution": {
     "iopub.execute_input": "2021-06-07T00:11:59.998428Z",
     "iopub.status.busy": "2021-06-07T00:11:59.997531Z",
     "iopub.status.idle": "2021-06-07T00:12:00.000307Z",
     "shell.execute_reply": "2021-06-07T00:12:00.001055Z"
    },
    "lines_to_next_cell": 2
   },
   "outputs": [],
   "source": [
    "real_word_strings2 = [\"Sasha Rush,arush@cornell.edu,Roosevelt Island,NY\",\n",
    "                     \"Bill Jones,bjones@cornell.edu,Manhattan,NY\",\n",
    "                     \"Sarah Jones,sjones@cornell.edu,Queens,NY\"]"
   ]
  },
  {
   "cell_type": "markdown",
   "id": "9d52250f",
   "metadata": {},
   "source": [
    "Write a for loop that does the following."
   ]
  },
  {
   "cell_type": "markdown",
   "id": "18e24978",
   "metadata": {},
   "source": [
    "* Steps through each string\n",
    "* Finds the email address\n",
    "* Prints out the email address"
   ]
  },
  {
   "cell_type": "markdown",
   "id": "5c801cb1",
   "metadata": {},
   "source": [
    "Fill-Me In"
   ]
  },
  {
   "cell_type": "markdown",
   "id": "8e789443",
   "metadata": {},
   "source": [
    "## Question 3"
   ]
  },
  {
   "cell_type": "markdown",
   "id": "a1ce8bab",
   "metadata": {},
   "source": [
    "Next we will assume that we have a list of strings where people come from\n",
    "different locations. Your goal is to step through the list and print out the\n",
    "emails of *only* the people who come from New York."
   ]
  },
  {
   "cell_type": "code",
   "execution_count": 51,
   "id": "d5815ebc",
   "metadata": {
    "execution": {
     "iopub.execute_input": "2021-06-07T00:12:00.007256Z",
     "iopub.status.busy": "2021-06-07T00:12:00.006434Z",
     "iopub.status.idle": "2021-06-07T00:12:00.009889Z",
     "shell.execute_reply": "2021-06-07T00:12:00.009178Z"
    },
    "lines_to_next_cell": 2
   },
   "outputs": [],
   "source": [
    "real_word_strings3 = [\"Sasha Rush,arush@cornell.edu,Roosevelt Island,NY\",\n",
    "                      \"Erica Zhou,ezhou@cornell.edu,Manhattan,NY\",\n",
    "                      \"Jessica Peters,jpeters@cornell.edu,Miami,FL\",\n",
    "                      \"Bill Jones,bjones@cornell.edu,Philadelpha,PA\",\n",
    "                      \"Sarah Jones,sjones@cornell.edu,Queens,NY\"]"
   ]
  },
  {
   "cell_type": "markdown",
   "id": "67eec4c8",
   "metadata": {},
   "source": [
    "## Question 4"
   ]
  },
  {
   "cell_type": "markdown",
   "id": "c0cf3033",
   "metadata": {},
   "source": [
    "Finally lets assume that we want to create a new list of strings. We are going to do this\n",
    "by adding one more element to each string."
   ]
  },
  {
   "cell_type": "markdown",
   "id": "f6df79ad",
   "metadata": {},
   "source": [
    "Instead of \"Sasha Rush,arush@cornell.edu,Roosevelt Island,NY\"\n",
    "we want it to say =>\n",
    "\"Sasha Rush,arush@cornell.edu,Roosevelt Island,NY,Computer Science\""
   ]
  },
  {
   "cell_type": "markdown",
   "id": "5969be8f",
   "metadata": {},
   "source": [
    "Your task is to add this last element to each one of the strings"
   ]
  },
  {
   "cell_type": "code",
   "execution_count": 52,
   "id": "1dd23110",
   "metadata": {
    "execution": {
     "iopub.execute_input": "2021-06-07T00:12:00.016017Z",
     "iopub.status.busy": "2021-06-07T00:12:00.015171Z",
     "iopub.status.idle": "2021-06-07T00:12:00.019121Z",
     "shell.execute_reply": "2021-06-07T00:12:00.018348Z"
    },
    "lines_to_next_cell": 2
   },
   "outputs": [],
   "source": [
    "real_word_strings4 = [\"Sasha Rush,arush@cornell.edu,Roosevelt Island,NY\",\n",
    "                      \"Erica Zhou,ezhou@cornell.edu,Manhattan,NY\",\n",
    "                      \"Jessica Peters,jpeters@cornell.edu,Miami,FL\",\n",
    "                      \"Bill Jones,bjones@cornell.edu,Philadelpha,PA\",\n",
    "                      \"Sarah Jones,sjones@cornell.edu,Queens,NY\"]"
   ]
  },
  {
   "cell_type": "markdown",
   "id": "f66ab86f",
   "metadata": {},
   "source": [
    "Fill-Me In"
   ]
  }
 ],
 "metadata": {
  "jupytext": {
   "cell_metadata_filter": "-all"
  },
  "kernelspec": {
   "display_name": "myenv",
   "language": "python",
   "name": "myenv"
  },
  "language_info": {
   "codemirror_mode": {
    "name": "ipython",
    "version": 3
   },
   "file_extension": ".py",
   "mimetype": "text/x-python",
   "name": "python",
   "nbconvert_exporter": "python",
   "pygments_lexer": "ipython3",
   "version": "3.8.5"
  }
 },
 "nbformat": 4,
 "nbformat_minor": 5
}
