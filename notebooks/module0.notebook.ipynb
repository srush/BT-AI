{
 "cells": [
  {
   "cell_type": "markdown",
   "id": "dc488b59",
   "metadata": {},
   "source": [
    "# Lab 0"
   ]
  },
  {
   "cell_type": "markdown",
   "id": "abfe3c21",
   "metadata": {
    "lines_to_next_cell": 2
   },
   "source": [
    "As part of the summer session, we are going to each build an AI\n",
    "system. Our main focus will be on learning the core elements of data\n",
    "processing, machine learning, deep learning, and AI."
   ]
  },
  {
   "cell_type": "markdown",
   "id": "7b8e18e5",
   "metadata": {},
   "source": [
    "## Lab Schedule"
   ]
  },
  {
   "cell_type": "markdown",
   "id": "a8b348e7",
   "metadata": {},
   "source": [
    "Each week for the next 8 weeks we will do a lab.  Labs are a\n",
    "combination of ML background and applications."
   ]
  },
  {
   "cell_type": "markdown",
   "id": "ea25bae7",
   "metadata": {},
   "source": [
    "Each person will work through their lab in a notebook with their\n",
    "group members."
   ]
  },
  {
   "cell_type": "markdown",
   "id": "4b89bde9",
   "metadata": {
    "lines_to_next_cell": 2
   },
   "source": [
    "Planned Labs\n",
    "\n",
    "1) Programming (Python)\n",
    "2) Structured Data (Pandas)\n",
    "3) Visualizing Data (Altair)\n",
    "4) Machine Learning I (Scikit-Learn)\n",
    "5) Machine Learning II (Scikit-Learn)\n",
    "6) Deep Learning I (Keras)\n",
    "7) Deep Learning II (Keras)\n",
    "8) AI Applications (Keras)"
   ]
  },
  {
   "cell_type": "markdown",
   "id": "27f40ff9",
   "metadata": {},
   "source": [
    "## Lab Structure"
   ]
  },
  {
   "cell_type": "markdown",
   "id": "17fda51b",
   "metadata": {},
   "source": [
    "Each lab will last for 3 hours. It will be broken up into\n",
    "two parts with a 10 minute break in between. Each lab will\n",
    "end with a short feedback period at the end."
   ]
  },
  {
   "cell_type": "markdown",
   "id": "e5c807ff",
   "metadata": {
    "lines_to_next_cell": 2
   },
   "source": [
    "During the lab there will be 2 group sessions where we will\n",
    "break into small groups. Groups will be randomly assigned each\n",
    "week through slack."
   ]
  },
  {
   "cell_type": "markdown",
   "id": "fdf0f9fa",
   "metadata": {},
   "source": [
    "## Sample Lab"
   ]
  },
  {
   "cell_type": "markdown",
   "id": "72f7c487",
   "metadata": {
    "lines_to_next_cell": 2
   },
   "source": [
    "4:00-4:10 - Icebreakers and Weekly Teams\n",
    "4:10-4:25 - Review\n",
    "4:25-4:30 - Self-Review Exercise\n",
    "4:30-5:00 - Unit A Walkthrough\n",
    "5:00-5:35 - Group Exercise A\n",
    "5:35-5:45 - Break\n",
    "5:45-6:15 - Unit B Walkthrough\n",
    "6:15-6:45 - Group Exercise B\n",
    "6:45-6:55 - Wrap-up\n",
    "6:55-7:00 - Class Survey"
   ]
  },
  {
   "cell_type": "markdown",
   "id": "d1b3a2bc",
   "metadata": {},
   "source": [
    "## Colab Notebooks"
   ]
  },
  {
   "cell_type": "markdown",
   "id": "f7bcb82f",
   "metadata": {
    "lines_to_next_cell": 2
   },
   "source": [
    "For the course we will use a tool known as Colab notebooks.\n",
    "This is a special system developed by Google that is\n",
    "designed to be a professional AI development environment."
   ]
  },
  {
   "cell_type": "markdown",
   "id": "04c2cea8",
   "metadata": {},
   "source": [
    "To get started, you will need to follow these steps:"
   ]
  },
  {
   "cell_type": "markdown",
   "id": "146a9a30",
   "metadata": {
    "lines_to_next_cell": 2
   },
   "source": [
    "1) Be sure to have a Google account. If you use gmail\n",
    "   that should work to get started.\n",
    "2) Navigate to https://colab.research.google.com/\n",
    "3) Click \"Examples -> Overview of Colab Features\""
   ]
  },
  {
   "cell_type": "markdown",
   "id": "36c94e0d",
   "metadata": {
    "lines_to_next_cell": 2
   },
   "source": [
    "The key takeaway from the Colab setup is that you can\n",
    "have both descriptive text and code in the same file.\n",
    "We will use this throughout the class for labs and homeworks."
   ]
  },
  {
   "cell_type": "markdown",
   "id": "cb0b2f13",
   "metadata": {},
   "source": [
    "## Homework"
   ]
  },
  {
   "cell_type": "markdown",
   "id": "c16de5e5",
   "metadata": {},
   "source": [
    "Each lab will have two group activities. You will have time\n",
    "each week to work through these activities with your teammates.\n",
    "Any activities that you do not have a chance to complete will be that\n",
    "week's homework. It is due before the next week's class."
   ]
  }
 ],
 "metadata": {
  "jupytext": {
   "cell_metadata_filter": "-all"
  },
  "kernelspec": {
   "display_name": "myenv",
   "language": "python",
   "name": "myenv"
  },
  "language_info": {
   "codemirror_mode": {
    "name": "ipython",
    "version": 3
   },
   "file_extension": ".py",
   "mimetype": "text/x-python",
   "name": "python",
   "nbconvert_exporter": "python",
   "pygments_lexer": "ipython3",
   "version": "3.8.5"
  }
 },
 "nbformat": 4,
 "nbformat_minor": 5
}
