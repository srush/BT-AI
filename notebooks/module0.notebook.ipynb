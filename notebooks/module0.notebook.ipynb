{
 "cells": [
  {
   "cell_type": "markdown",
   "id": "bfa5a759",
   "metadata": {},
   "source": [
    "Lab 0"
   ]
  },
  {
   "cell_type": "markdown",
   "id": "a736fcef",
   "metadata": {
    "lines_to_next_cell": 2
   },
   "source": [
    "As part of the summer session, we will build a machine\n",
    "learning system for an applied problem. Each person\n",
    "will work through their lab in a notebook with their group\n",
    "members. "
   ]
  },
  {
   "cell_type": "markdown",
   "id": "ac6a5c3e",
   "metadata": {},
   "source": [
    "## Lab Schedule"
   ]
  },
  {
   "cell_type": "markdown",
   "id": "c84561bf",
   "metadata": {
    "lines_to_next_cell": 2
   },
   "source": [
    "Each week for the next 8 weeks we will do a lab.  Labs are a\n",
    "combination of ML background and applications."
   ]
  },
  {
   "cell_type": "markdown",
   "id": "a5ea95e8",
   "metadata": {},
   "source": [
    "Planned Labs\n",
    "\n",
    "1) Programming (Python)\n",
    "2) Structured Data (Pandas)\n",
    "3) Visualizing Data (Altair)\n",
    "4) Machine Learning I (Scikit-Learn)\n",
    "5) Machine Learning II (Scikit-Learn)\n",
    "6) Deep Learning I (Keras)\n",
    "7) Deep Learning II (Keras)\n",
    "8) AI Applications (Keras)"
   ]
  },
  {
   "cell_type": "code",
   "execution_count": null,
   "id": "5f7ac409",
   "metadata": {},
   "outputs": [],
   "source": []
  },
  {
   "cell_type": "markdown",
   "id": "aee0807c",
   "metadata": {},
   "source": [
    "## Lab Structure"
   ]
  },
  {
   "cell_type": "markdown",
   "id": "10d330a9",
   "metadata": {},
   "source": [
    "Each lab will last for 3 hours. It will be broken up into\n",
    "two parts with a 10 minute break in between. Each lab will\n",
    "end with a short feedback period at the end. "
   ]
  },
  {
   "cell_type": "markdown",
   "id": "fb379254",
   "metadata": {
    "lines_to_next_cell": 2
   },
   "source": [
    "During the lab there will be 2 group sessions where we will\n",
    "break into small groups. Groups will be randomly assigned each\n",
    "week."
   ]
  },
  {
   "cell_type": "markdown",
   "id": "0d217a33",
   "metadata": {},
   "source": [
    "## Sample Lab"
   ]
  },
  {
   "cell_type": "markdown",
   "id": "89a2eb5d",
   "metadata": {
    "lines_to_next_cell": 2
   },
   "source": [
    "4:05-4:15 - Icebreakers and Weekly Teams\n",
    "4:15-4:25 - Review\n",
    "4:25-4:30 - Self-Review Exercise\n",
    "4:30-5:00 - Unit A Walkthrough\n",
    "5:00-5:35 - Group Exercise A\n",
    "5:35-5:45 - Break\n",
    "5:45-6:15 - Unit B Walkthrough\n",
    "6:15-6:45 - Group Exercise B\n",
    "6:45-6:55 - Wrap-up\n",
    "6:55-7:00 - Class Survey"
   ]
  },
  {
   "cell_type": "markdown",
   "id": "aeb659ec",
   "metadata": {},
   "source": [
    "## Colab Notebooks"
   ]
  },
  {
   "cell_type": "markdown",
   "id": "fde335e2",
   "metadata": {
    "lines_to_next_cell": 2
   },
   "source": [
    "For the course we will use a tool known as Colab notebooks.\n",
    "This is a special system developed by Google that is\n",
    "designed to be a professional AI development environment."
   ]
  },
  {
   "cell_type": "markdown",
   "id": "d64faec1",
   "metadata": {},
   "source": [
    "To get started, you will need to follow these steps:"
   ]
  },
  {
   "cell_type": "markdown",
   "id": "b026426d",
   "metadata": {
    "lines_to_next_cell": 2
   },
   "source": [
    "1) Be sure to have a Google account. If you use gmail\n",
    "   that should work to get started.\n",
    "2) Navigate to  "
   ]
  }
 ],
 "metadata": {
  "jupytext": {
   "cell_metadata_filter": "-all"
  },
  "kernelspec": {
   "display_name": "myenv",
   "language": "python",
   "name": "myenv"
  },
  "language_info": {
   "codemirror_mode": {
    "name": "ipython",
    "version": 3
   },
   "file_extension": ".py",
   "mimetype": "text/x-python",
   "name": "python",
   "nbconvert_exporter": "python",
   "pygments_lexer": "ipython3",
   "version": "3.8.5"
  }
 },
 "nbformat": 4,
 "nbformat_minor": 5
}
