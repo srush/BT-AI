{
 "cells": [
  {
   "cell_type": "markdown",
   "id": "b743525a",
   "metadata": {
    "lines_to_next_cell": 2
   },
   "source": [
    "# Module 5 - Features"
   ]
  },
  {
   "cell_type": "markdown",
   "id": "af80197c",
   "metadata": {
    "lines_to_next_cell": 2
   },
   "source": [
    "When are features more complex?"
   ]
  },
  {
   "cell_type": "markdown",
   "id": "0808f2ab",
   "metadata": {},
   "source": [
    "import sklearn\n",
    "from sklearn.linear_model import LogisticRegression\n",
    "import pandas as pd\n",
    "import altair as alt\n",
    "import numpy as np"
   ]
  },
  {
   "cell_type": "markdown",
   "id": "b5e966a8",
   "metadata": {},
   "source": [
    "df = pd.read_csv(\"data/DataSet.csv\",\n",
    "                 index_col=0,\n",
    "                 parse_dates=[1])"
   ]
  },
  {
   "cell_type": "markdown",
   "id": "88cfa18f",
   "metadata": {},
   "source": [
    "df_train = df[\"Split\"] == \"Train\"\n",
    "df_test = df[\"Split\"] == \"Test\""
   ]
  },
  {
   "cell_type": "markdown",
   "id": "a4a5be86",
   "metadata": {},
   "source": [
    "model = LogisticRegression()\n",
    "features = [\"Latitude\", \"Longitude\"]\n",
    "model.fit(df_train[features],\n",
    "          df_train[\"AverageTemperature\"])"
   ]
  },
  {
   "cell_type": "markdown",
   "id": "e8a9528d",
   "metadata": {
    "lines_to_next_cell": 2
   },
   "source": [
    "df_test[\"predict\"] = model.predict(df_test[features])"
   ]
  },
  {
   "cell_type": "markdown",
   "id": "0806ab47",
   "metadata": {
    "lines_to_next_cell": 2
   },
   "source": [
    "results = df_test[\"predict\"] == df_test[\"correct\"]\n",
    "results"
   ]
  },
  {
   "cell_type": "markdown",
   "id": "34304f8b",
   "metadata": {},
   "source": [
    "# ## When are features more complex?"
   ]
  },
  {
   "cell_type": "markdown",
   "id": "d4d30976",
   "metadata": {},
   "source": [
    "# Creating New Features"
   ]
  },
  {
   "cell_type": "markdown",
   "id": "2a9b211b",
   "metadata": {},
   "source": [
    "df[\"IsSummer\"] = (df[\"Month\"] >= 5) & (df[\"Month\"] <= 9)\n",
    "df[\"IsWinter\"] = (df[\"Month\"] >= 12) & (df[\"Month\"] <= 3)"
   ]
  },
  {
   "cell_type": "markdown",
   "id": "b2cf8045",
   "metadata": {},
   "source": [
    "features = [\"Latitude\", \"Longitude\", \"IsSummer\", \"IsWinter\"]\n",
    "model = LogisticRegression()\n",
    "model.fit(df_train[features],\n",
    "          df_train[\"class\"])"
   ]
  },
  {
   "cell_type": "markdown",
   "id": "14558c51",
   "metadata": {
    "lines_to_next_cell": 2
   },
   "source": [
    "results = df_test[\"predict\"] == df_test[\"correct\"]\n",
    "results"
   ]
  },
  {
   "cell_type": "markdown",
   "id": "4b4f0af3",
   "metadata": {},
   "source": [
    "# Summer features"
   ]
  },
  {
   "cell_type": "markdown",
   "id": "c0b74379",
   "metadata": {},
   "source": [
    "features = [\"Latitude\", \"Longitude\", \"IsSummer\", \"IsWinter\"]\n",
    "model = LogisticRegression()\n",
    "model.fit(df_train[features],\n",
    "          df_train[\"class\"])"
   ]
  },
  {
   "cell_type": "markdown",
   "id": "769b16fb",
   "metadata": {
    "lines_to_next_cell": 2
   },
   "source": [
    "results = df_test[\"predict\"] == df_test[\"correct\"]\n",
    "results"
   ]
  },
  {
   "cell_type": "markdown",
   "id": "3a2dd7a0",
   "metadata": {},
   "source": [
    "# Distance from the Equator"
   ]
  },
  {
   "cell_type": "markdown",
   "id": "b73a7126",
   "metadata": {},
   "source": [
    "df[\"DistanceFromEq\"] = df[\"Longitude\"].abs()"
   ]
  },
  {
   "cell_type": "markdown",
   "id": "2276cb7e",
   "metadata": {},
   "source": [
    "features = [\"Latitude\", \"Longitude\", \"IsSummer\", \"IsWinter\", \"DistanceFromEq\"]\n",
    "model = LogisticRegression()\n",
    "model.fit(df_train[features],\n",
    "          df_train[\"class\"])"
   ]
  },
  {
   "cell_type": "markdown",
   "id": "71d132ce",
   "metadata": {
    "lines_to_next_cell": 2
   },
   "source": [
    "results = df_test[\"predict\"] == df_test[\"correct\"]\n",
    "results"
   ]
  },
  {
   "cell_type": "markdown",
   "id": "f956c900",
   "metadata": {},
   "source": [
    "Example 2: NLP"
   ]
  },
  {
   "cell_type": "markdown",
   "id": "30a01128",
   "metadata": {},
   "source": [
    "Competition."
   ]
  },
  {
   "cell_type": "markdown",
   "id": "1d16aad4",
   "metadata": {},
   "source": [
    "Movie reviews, Features"
   ]
  },
  {
   "cell_type": "markdown",
   "id": "81fbeb0a",
   "metadata": {},
   "source": []
  },
  {
   "cell_type": "code",
   "execution_count": null,
   "id": "6338438c",
   "metadata": {
    "lines_to_next_cell": 2
   },
   "outputs": [],
   "source": []
  }
 ],
 "metadata": {
  "jupytext": {
   "cell_metadata_filter": "-all"
  },
  "kernelspec": {
   "display_name": "myenv",
   "language": "python",
   "name": "myenv"
  },
  "language_info": {
   "codemirror_mode": {
    "name": "ipython",
    "version": 3
   },
   "file_extension": ".py",
   "mimetype": "text/x-python",
   "name": "python",
   "nbconvert_exporter": "python",
   "pygments_lexer": "ipython3",
   "version": "3.8.5"
  }
 },
 "nbformat": 4,
 "nbformat_minor": 5
}
