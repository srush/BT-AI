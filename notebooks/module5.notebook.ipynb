{
 "cells": [
  {
   "cell_type": "markdown",
   "id": "429be74f",
   "metadata": {
    "lines_to_next_cell": 2
   },
   "source": [
    "# Module 5 - Machine Learning"
   ]
  },
  {
   "cell_type": "markdown",
   "id": "6d1c1475",
   "metadata": {
    "lines_to_next_cell": 2
   },
   "source": [
    "## "
   ]
  },
  {
   "cell_type": "markdown",
   "id": "f92b4979",
   "metadata": {},
   "source": [
    "## Non-standard inputs "
   ]
  }
 ],
 "metadata": {
  "jupytext": {
   "cell_metadata_filter": "-all"
  },
  "kernelspec": {
   "display_name": "myenv",
   "language": "python",
   "name": "myenv"
  },
  "language_info": {
   "codemirror_mode": {
    "name": "ipython",
    "version": 3
   },
   "file_extension": ".py",
   "mimetype": "text/x-python",
   "name": "python",
   "nbconvert_exporter": "python",
   "pygments_lexer": "ipython3",
   "version": "3.8.5"
  }
 },
 "nbformat": 4,
 "nbformat_minor": 5
}
