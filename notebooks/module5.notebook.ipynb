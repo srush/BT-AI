{
 "cells": [
  {
   "cell_type": "markdown",
   "id": "9ee26250",
   "metadata": {},
   "source": [
    "# Module 5 - Machine Learning"
   ]
  },
  {
   "cell_type": "code",
   "execution_count": null,
   "id": "28fa4f06",
   "metadata": {},
   "outputs": [],
   "source": []
  },
  {
   "cell_type": "markdown",
   "id": "6a245942",
   "metadata": {},
   "source": [
    "## Advanced Features"
   ]
  },
  {
   "cell_type": "markdown",
   "id": "504fb84c",
   "metadata": {},
   "source": [
    "## Example 1: Hemisphere"
   ]
  },
  {
   "cell_type": "markdown",
   "id": "c0c6990f",
   "metadata": {},
   "source": [
    "## Example 2: Seasonality"
   ]
  },
  {
   "cell_type": "code",
   "execution_count": null,
   "id": "11698cde",
   "metadata": {
    "lines_to_next_cell": 2
   },
   "outputs": [],
   "source": []
  }
 ],
 "metadata": {
  "jupytext": {
   "cell_metadata_filter": "-all"
  },
  "kernelspec": {
   "display_name": "myenv",
   "language": "python",
   "name": "myenv"
  },
  "language_info": {
   "codemirror_mode": {
    "name": "ipython",
    "version": 3
   },
   "file_extension": ".py",
   "mimetype": "text/x-python",
   "name": "python",
   "nbconvert_exporter": "python",
   "pygments_lexer": "ipython3",
   "version": "3.8.5"
  }
 },
 "nbformat": 4,
 "nbformat_minor": 5
}
