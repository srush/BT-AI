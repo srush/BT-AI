{
 "cells": [
  {
   "cell_type": "markdown",
   "id": "c72d090e",
   "metadata": {},
   "source": [
    "# Lab 4 - Machine Learning!"
   ]
  },
  {
   "cell_type": "markdown",
   "id": "8b0d73d7",
   "metadata": {
    "lines_to_next_cell": 2
   },
   "source": [
    "This lab will introduce the basic concepts behind machine learning\n",
    "and the tools that allow us to learn from data. Machine learning is\n",
    "one of the main topics in modern AI and is used for many exciting\n",
    "applications that we will see in the coming weeks."
   ]
  },
  {
   "cell_type": "markdown",
   "id": "fdd46b84",
   "metadata": {},
   "source": [
    "![scikit](https://scikit-learn.org/stable/_images/sphx_glr_plot_classifier_comparison_001.png)"
   ]
  },
  {
   "cell_type": "markdown",
   "id": "5577fe4f",
   "metadata": {},
   "source": [
    "# Review"
   ]
  },
  {
   "cell_type": "markdown",
   "id": "1f0bbf00",
   "metadata": {},
   "source": [
    "So far the two libraries that we have covered are Pandas which handles data frames."
   ]
  },
  {
   "cell_type": "code",
   "execution_count": 1,
   "id": "708d61d1",
   "metadata": {
    "execution": {
     "iopub.execute_input": "2021-06-10T17:51:32.752891Z",
     "iopub.status.busy": "2021-06-10T17:51:32.751760Z",
     "iopub.status.idle": "2021-06-10T17:51:32.919110Z",
     "shell.execute_reply": "2021-06-10T17:51:32.918414Z"
    }
   },
   "outputs": [],
   "source": [
    "import pandas as pd"
   ]
  },
  {
   "cell_type": "markdown",
   "id": "e2cf03e0",
   "metadata": {},
   "source": [
    "And Altair which handles data visualization. "
   ]
  },
  {
   "cell_type": "code",
   "execution_count": 2,
   "id": "10ed9fbc",
   "metadata": {
    "execution": {
     "iopub.execute_input": "2021-06-10T17:51:32.923967Z",
     "iopub.status.busy": "2021-06-10T17:51:32.923356Z",
     "iopub.status.idle": "2021-06-10T17:51:33.027659Z",
     "shell.execute_reply": "2021-06-10T17:51:33.026779Z"
    }
   },
   "outputs": [],
   "source": [
    "import altair as alt"
   ]
  },
  {
   "cell_type": "markdown",
   "id": "80c7fdb7",
   "metadata": {},
   "source": [
    "We will continue building on these two libraries throughout the semester."
   ]
  },
  {
   "cell_type": "markdown",
   "id": "ec2eb339",
   "metadata": {},
   "source": [
    "Let's start from a simple dataframe. We have been mainly loading\n",
    "data frames from files, but we can also create them directly."
   ]
  },
  {
   "cell_type": "code",
   "execution_count": 3,
   "id": "a2080409",
   "metadata": {
    "execution": {
     "iopub.execute_input": "2021-06-10T17:51:33.045758Z",
     "iopub.status.busy": "2021-06-10T17:51:33.044818Z",
     "iopub.status.idle": "2021-06-10T17:51:33.054871Z",
     "shell.execute_reply": "2021-06-10T17:51:33.055661Z"
    }
   },
   "outputs": [
    {
     "data": {
      "text/html": [
       "<div>\n",
       "<style scoped>\n",
       "    .dataframe tbody tr th:only-of-type {\n",
       "        vertical-align: middle;\n",
       "    }\n",
       "\n",
       "    .dataframe tbody tr th {\n",
       "        vertical-align: top;\n",
       "    }\n",
       "\n",
       "    .dataframe thead th {\n",
       "        text-align: right;\n",
       "    }\n",
       "</style>\n",
       "<table border=\"1\" class=\"dataframe\">\n",
       "  <thead>\n",
       "    <tr style=\"text-align: right;\">\n",
       "      <th></th>\n",
       "      <th>City</th>\n",
       "      <th>Temperature</th>\n",
       "      <th>Location</th>\n",
       "      <th>Population</th>\n",
       "    </tr>\n",
       "  </thead>\n",
       "  <tbody>\n",
       "    <tr>\n",
       "      <th>0</th>\n",
       "      <td>New York</td>\n",
       "      <td>25.3</td>\n",
       "      <td>20.0</td>\n",
       "      <td>10000000</td>\n",
       "    </tr>\n",
       "    <tr>\n",
       "      <th>1</th>\n",
       "      <td>Philadelphia</td>\n",
       "      <td>30.1</td>\n",
       "      <td>15.0</td>\n",
       "      <td>10000000</td>\n",
       "    </tr>\n",
       "    <tr>\n",
       "      <th>2</th>\n",
       "      <td>Boston</td>\n",
       "      <td>22.1</td>\n",
       "      <td>25.0</td>\n",
       "      <td>500000</td>\n",
       "    </tr>\n",
       "  </tbody>\n",
       "</table>\n",
       "</div>"
      ],
      "text/plain": [
       "           City  Temperature  Location  Population\n",
       "0      New York         25.3      20.0    10000000\n",
       "1  Philadelphia         30.1      15.0    10000000\n",
       "2        Boston         22.1      25.0      500000"
      ]
     },
     "execution_count": 1,
     "metadata": {},
     "output_type": "execute_result"
    }
   ],
   "source": [
    "df = pd.DataFrame({\n",
    "    \"City\" : [\"New York\", \"Philadelphia\", \"Boston\"],\n",
    "    \"Temperature\" : [25.3, 30.1, 22.1],\n",
    "    \"Location\" : [20.0, 15.0, 25.0],\n",
    "    \"Population\" : [10000000, 10000000, 500000],\n",
    "})\n",
    "df"
   ]
  },
  {
   "cell_type": "markdown",
   "id": "500c8a06",
   "metadata": {},
   "source": [
    "Here are our columns."
   ]
  },
  {
   "cell_type": "code",
   "execution_count": 4,
   "id": "4a839133",
   "metadata": {
    "execution": {
     "iopub.execute_input": "2021-06-10T17:51:33.061108Z",
     "iopub.status.busy": "2021-06-10T17:51:33.060209Z",
     "iopub.status.idle": "2021-06-10T17:51:33.063406Z",
     "shell.execute_reply": "2021-06-10T17:51:33.063971Z"
    }
   },
   "outputs": [
    {
     "data": {
      "text/plain": [
       "Index(['City', 'Temperature', 'Location', 'Population'], dtype='object')"
      ]
     },
     "execution_count": 1,
     "metadata": {},
     "output_type": "execute_result"
    }
   ],
   "source": [
    "df.columns"
   ]
  },
  {
   "cell_type": "markdown",
   "id": "4b9429c5",
   "metadata": {},
   "source": [
    "We can make a graph by converting our dataframe into a `Chart`.\n",
    "Remember we do this in three steps."
   ]
  },
  {
   "cell_type": "markdown",
   "id": "23b9c285",
   "metadata": {},
   "source": [
    "**Charting**\n",
    "\n",
    "1. Chart - Convert a dataframe to a chart\n",
    "2. Mark - Determine which type of chart we want\n",
    "3. Encode - Say which columns correspond to which dimensions"
   ]
  },
  {
   "cell_type": "markdown",
   "id": "0dd3f77d",
   "metadata": {},
   "source": [
    "One example is a bar chart. "
   ]
  },
  {
   "cell_type": "code",
   "execution_count": 5,
   "id": "f21b49b6",
   "metadata": {
    "execution": {
     "iopub.execute_input": "2021-06-10T17:51:33.084278Z",
     "iopub.status.busy": "2021-06-10T17:51:33.083426Z",
     "iopub.status.idle": "2021-06-10T17:51:33.097859Z",
     "shell.execute_reply": "2021-06-10T17:51:33.097071Z"
    },
    "lines_to_next_cell": 2
   },
   "outputs": [
    {
     "data": {
      "text/html": [
       "\n",
       "<div id=\"altair-viz-ce76b87acb834e6c9949f497dbe99dec\"></div>\n",
       "<script type=\"text/javascript\">\n",
       "  (function(spec, embedOpt){\n",
       "    let outputDiv = document.currentScript.previousElementSibling;\n",
       "    if (outputDiv.id !== \"altair-viz-ce76b87acb834e6c9949f497dbe99dec\") {\n",
       "      outputDiv = document.getElementById(\"altair-viz-ce76b87acb834e6c9949f497dbe99dec\");\n",
       "    }\n",
       "    const paths = {\n",
       "      \"vega\": \"https://cdn.jsdelivr.net/npm//vega@5?noext\",\n",
       "      \"vega-lib\": \"https://cdn.jsdelivr.net/npm//vega-lib?noext\",\n",
       "      \"vega-lite\": \"https://cdn.jsdelivr.net/npm//vega-lite@4.8.1?noext\",\n",
       "      \"vega-embed\": \"https://cdn.jsdelivr.net/npm//vega-embed@6?noext\",\n",
       "    };\n",
       "\n",
       "    function loadScript(lib) {\n",
       "      return new Promise(function(resolve, reject) {\n",
       "        var s = document.createElement('script');\n",
       "        s.src = paths[lib];\n",
       "        s.async = true;\n",
       "        s.onload = () => resolve(paths[lib]);\n",
       "        s.onerror = () => reject(`Error loading script: ${paths[lib]}`);\n",
       "        document.getElementsByTagName(\"head\")[0].appendChild(s);\n",
       "      });\n",
       "    }\n",
       "\n",
       "    function showError(err) {\n",
       "      outputDiv.innerHTML = `<div class=\"error\" style=\"color:red;\">${err}</div>`;\n",
       "      throw err;\n",
       "    }\n",
       "\n",
       "    function displayChart(vegaEmbed) {\n",
       "      vegaEmbed(outputDiv, spec, embedOpt)\n",
       "        .catch(err => showError(`Javascript Error: ${err.message}<br>This usually means there's a typo in your chart specification. See the javascript console for the full traceback.`));\n",
       "    }\n",
       "\n",
       "    if(typeof define === \"function\" && define.amd) {\n",
       "      requirejs.config({paths});\n",
       "      require([\"vega-embed\"], displayChart, err => showError(`Error loading script: ${err.message}`));\n",
       "    } else if (typeof vegaEmbed === \"function\") {\n",
       "      displayChart(vegaEmbed);\n",
       "    } else {\n",
       "      loadScript(\"vega\")\n",
       "        .then(() => loadScript(\"vega-lite\"))\n",
       "        .then(() => loadScript(\"vega-embed\"))\n",
       "        .catch(showError)\n",
       "        .then(() => displayChart(vegaEmbed));\n",
       "    }\n",
       "  })({\"config\": {\"view\": {\"continuousWidth\": 400, \"continuousHeight\": 300}}, \"data\": {\"name\": \"data-01f6c0ce602ba9a31f43297baf548395\"}, \"mark\": \"bar\", \"encoding\": {\"x\": {\"type\": \"nominal\", \"field\": \"City\"}, \"y\": {\"type\": \"quantitative\", \"field\": \"Population\"}}, \"$schema\": \"https://vega.github.io/schema/vega-lite/v4.8.1.json\", \"datasets\": {\"data-01f6c0ce602ba9a31f43297baf548395\": [{\"City\": \"New York\", \"Temperature\": 25.3, \"Location\": 20.0, \"Population\": 10000000}, {\"City\": \"Philadelphia\", \"Temperature\": 30.1, \"Location\": 15.0, \"Population\": 10000000}, {\"City\": \"Boston\", \"Temperature\": 22.1, \"Location\": 25.0, \"Population\": 500000}]}}, {\"mode\": \"vega-lite\"});\n",
       "</script>"
      ],
      "text/plain": [
       "alt.Chart(...)"
      ]
     },
     "execution_count": 1,
     "metadata": {},
     "output_type": "execute_result"
    }
   ],
   "source": [
    "chart = (alt.Chart(df)\n",
    "           .mark_bar()\n",
    "           .encode(x = \"City\",\n",
    "                   y = \"Population\"))\n",
    "chart"
   ]
  },
  {
   "cell_type": "markdown",
   "id": "c6813b85",
   "metadata": {},
   "source": [
    "Notice that we didn't have to use all the columns and it only showed the ones we specified."
   ]
  },
  {
   "cell_type": "markdown",
   "id": "7fab3d39",
   "metadata": {},
   "source": [
    "Another example is a chart that shows the location and the temperature. "
   ]
  },
  {
   "cell_type": "code",
   "execution_count": 6,
   "id": "242d1176",
   "metadata": {
    "execution": {
     "iopub.execute_input": "2021-06-10T17:51:33.112036Z",
     "iopub.status.busy": "2021-06-10T17:51:33.111175Z",
     "iopub.status.idle": "2021-06-10T17:51:33.114392Z",
     "shell.execute_reply": "2021-06-10T17:51:33.115149Z"
    },
    "lines_to_next_cell": 2
   },
   "outputs": [
    {
     "data": {
      "text/html": [
       "\n",
       "<div id=\"altair-viz-51bd04e0b3a84fe2b2a694506ded2b4b\"></div>\n",
       "<script type=\"text/javascript\">\n",
       "  (function(spec, embedOpt){\n",
       "    let outputDiv = document.currentScript.previousElementSibling;\n",
       "    if (outputDiv.id !== \"altair-viz-51bd04e0b3a84fe2b2a694506ded2b4b\") {\n",
       "      outputDiv = document.getElementById(\"altair-viz-51bd04e0b3a84fe2b2a694506ded2b4b\");\n",
       "    }\n",
       "    const paths = {\n",
       "      \"vega\": \"https://cdn.jsdelivr.net/npm//vega@5?noext\",\n",
       "      \"vega-lib\": \"https://cdn.jsdelivr.net/npm//vega-lib?noext\",\n",
       "      \"vega-lite\": \"https://cdn.jsdelivr.net/npm//vega-lite@4.8.1?noext\",\n",
       "      \"vega-embed\": \"https://cdn.jsdelivr.net/npm//vega-embed@6?noext\",\n",
       "    };\n",
       "\n",
       "    function loadScript(lib) {\n",
       "      return new Promise(function(resolve, reject) {\n",
       "        var s = document.createElement('script');\n",
       "        s.src = paths[lib];\n",
       "        s.async = true;\n",
       "        s.onload = () => resolve(paths[lib]);\n",
       "        s.onerror = () => reject(`Error loading script: ${paths[lib]}`);\n",
       "        document.getElementsByTagName(\"head\")[0].appendChild(s);\n",
       "      });\n",
       "    }\n",
       "\n",
       "    function showError(err) {\n",
       "      outputDiv.innerHTML = `<div class=\"error\" style=\"color:red;\">${err}</div>`;\n",
       "      throw err;\n",
       "    }\n",
       "\n",
       "    function displayChart(vegaEmbed) {\n",
       "      vegaEmbed(outputDiv, spec, embedOpt)\n",
       "        .catch(err => showError(`Javascript Error: ${err.message}<br>This usually means there's a typo in your chart specification. See the javascript console for the full traceback.`));\n",
       "    }\n",
       "\n",
       "    if(typeof define === \"function\" && define.amd) {\n",
       "      requirejs.config({paths});\n",
       "      require([\"vega-embed\"], displayChart, err => showError(`Error loading script: ${err.message}`));\n",
       "    } else if (typeof vegaEmbed === \"function\") {\n",
       "      displayChart(vegaEmbed);\n",
       "    } else {\n",
       "      loadScript(\"vega\")\n",
       "        .then(() => loadScript(\"vega-lite\"))\n",
       "        .then(() => loadScript(\"vega-embed\"))\n",
       "        .catch(showError)\n",
       "        .then(() => displayChart(vegaEmbed));\n",
       "    }\n",
       "  })({\"config\": {\"view\": {\"continuousWidth\": 400, \"continuousHeight\": 300}}, \"data\": {\"name\": \"data-01f6c0ce602ba9a31f43297baf548395\"}, \"mark\": \"point\", \"encoding\": {\"x\": {\"type\": \"quantitative\", \"field\": \"Location\"}, \"y\": {\"type\": \"quantitative\", \"field\": \"Temperature\"}}, \"$schema\": \"https://vega.github.io/schema/vega-lite/v4.8.1.json\", \"datasets\": {\"data-01f6c0ce602ba9a31f43297baf548395\": [{\"City\": \"New York\", \"Temperature\": 25.3, \"Location\": 20.0, \"Population\": 10000000}, {\"City\": \"Philadelphia\", \"Temperature\": 30.1, \"Location\": 15.0, \"Population\": 10000000}, {\"City\": \"Boston\", \"Temperature\": 22.1, \"Location\": 25.0, \"Population\": 500000}]}}, {\"mode\": \"vega-lite\"});\n",
       "</script>"
      ],
      "text/plain": [
       "alt.Chart(...)"
      ]
     },
     "execution_count": 1,
     "metadata": {},
     "output_type": "execute_result"
    }
   ],
   "source": [
    "chart = (alt.Chart(df)\n",
    "           .mark_point()\n",
    "           .encode(x = \"Location\",\n",
    "                   y = \"Temperature\"))\n",
    "chart"
   ]
  },
  {
   "cell_type": "markdown",
   "id": "bbf0248e",
   "metadata": {
    "lines_to_next_cell": 2
   },
   "source": [
    "The library allows us to add special features. For instance, we can add a \"Tooltip\" where are mouse tells us which city it is. "
   ]
  },
  {
   "cell_type": "code",
   "execution_count": 7,
   "id": "6f6251cc",
   "metadata": {
    "execution": {
     "iopub.execute_input": "2021-06-10T17:51:33.150809Z",
     "iopub.status.busy": "2021-06-10T17:51:33.149946Z",
     "iopub.status.idle": "2021-06-10T17:51:33.153180Z",
     "shell.execute_reply": "2021-06-10T17:51:33.153875Z"
    },
    "lines_to_next_cell": 2
   },
   "outputs": [
    {
     "data": {
      "text/html": [
       "\n",
       "<div id=\"altair-viz-e2d49171bd2a404aa5b8af3394c5a928\"></div>\n",
       "<script type=\"text/javascript\">\n",
       "  (function(spec, embedOpt){\n",
       "    let outputDiv = document.currentScript.previousElementSibling;\n",
       "    if (outputDiv.id !== \"altair-viz-e2d49171bd2a404aa5b8af3394c5a928\") {\n",
       "      outputDiv = document.getElementById(\"altair-viz-e2d49171bd2a404aa5b8af3394c5a928\");\n",
       "    }\n",
       "    const paths = {\n",
       "      \"vega\": \"https://cdn.jsdelivr.net/npm//vega@5?noext\",\n",
       "      \"vega-lib\": \"https://cdn.jsdelivr.net/npm//vega-lib?noext\",\n",
       "      \"vega-lite\": \"https://cdn.jsdelivr.net/npm//vega-lite@4.8.1?noext\",\n",
       "      \"vega-embed\": \"https://cdn.jsdelivr.net/npm//vega-embed@6?noext\",\n",
       "    };\n",
       "\n",
       "    function loadScript(lib) {\n",
       "      return new Promise(function(resolve, reject) {\n",
       "        var s = document.createElement('script');\n",
       "        s.src = paths[lib];\n",
       "        s.async = true;\n",
       "        s.onload = () => resolve(paths[lib]);\n",
       "        s.onerror = () => reject(`Error loading script: ${paths[lib]}`);\n",
       "        document.getElementsByTagName(\"head\")[0].appendChild(s);\n",
       "      });\n",
       "    }\n",
       "\n",
       "    function showError(err) {\n",
       "      outputDiv.innerHTML = `<div class=\"error\" style=\"color:red;\">${err}</div>`;\n",
       "      throw err;\n",
       "    }\n",
       "\n",
       "    function displayChart(vegaEmbed) {\n",
       "      vegaEmbed(outputDiv, spec, embedOpt)\n",
       "        .catch(err => showError(`Javascript Error: ${err.message}<br>This usually means there's a typo in your chart specification. See the javascript console for the full traceback.`));\n",
       "    }\n",
       "\n",
       "    if(typeof define === \"function\" && define.amd) {\n",
       "      requirejs.config({paths});\n",
       "      require([\"vega-embed\"], displayChart, err => showError(`Error loading script: ${err.message}`));\n",
       "    } else if (typeof vegaEmbed === \"function\") {\n",
       "      displayChart(vegaEmbed);\n",
       "    } else {\n",
       "      loadScript(\"vega\")\n",
       "        .then(() => loadScript(\"vega-lite\"))\n",
       "        .then(() => loadScript(\"vega-embed\"))\n",
       "        .catch(showError)\n",
       "        .then(() => displayChart(vegaEmbed));\n",
       "    }\n",
       "  })({\"config\": {\"view\": {\"continuousWidth\": 400, \"continuousHeight\": 300}}, \"data\": {\"name\": \"data-01f6c0ce602ba9a31f43297baf548395\"}, \"mark\": \"point\", \"encoding\": {\"tooltip\": {\"type\": \"nominal\", \"field\": \"City\"}, \"x\": {\"type\": \"quantitative\", \"field\": \"Location\"}, \"y\": {\"type\": \"quantitative\", \"field\": \"Temperature\"}}, \"$schema\": \"https://vega.github.io/schema/vega-lite/v4.8.1.json\", \"datasets\": {\"data-01f6c0ce602ba9a31f43297baf548395\": [{\"City\": \"New York\", \"Temperature\": 25.3, \"Location\": 20.0, \"Population\": 10000000}, {\"City\": \"Philadelphia\", \"Temperature\": 30.1, \"Location\": 15.0, \"Population\": 10000000}, {\"City\": \"Boston\", \"Temperature\": 22.1, \"Location\": 25.0, \"Population\": 500000}]}}, {\"mode\": \"vega-lite\"});\n",
       "</script>"
      ],
      "text/plain": [
       "alt.Chart(...)"
      ]
     },
     "execution_count": 1,
     "metadata": {},
     "output_type": "execute_result"
    }
   ],
   "source": [
    "chart = (alt.Chart(df)\n",
    "           .mark_point()\n",
    "           .encode(x = \"Location\",\n",
    "                   y = \"Temperature\",\n",
    "                   tooltip = \"City\"\n",
    "           ))\n",
    "chart"
   ]
  },
  {
   "cell_type": "markdown",
   "id": "d47ed1e2",
   "metadata": {},
   "source": [
    "## Review Exercise "
   ]
  },
  {
   "cell_type": "markdown",
   "id": "79290428",
   "metadata": {},
   "source": [
    "Make a bar chart that shows each city with its temperature and a tooltip of the city name. "
   ]
  },
  {
   "cell_type": "code",
   "execution_count": 8,
   "id": "1a03ebb7",
   "metadata": {
    "execution": {
     "iopub.execute_input": "2021-06-10T17:51:33.158417Z",
     "iopub.status.busy": "2021-06-10T17:51:33.157565Z",
     "iopub.status.idle": "2021-06-10T17:51:33.160211Z",
     "shell.execute_reply": "2021-06-10T17:51:33.159479Z"
    }
   },
   "outputs": [],
   "source": [
    "#📝📝📝📝 FILLME\n",
    "pass"
   ]
  },
  {
   "cell_type": "markdown",
   "id": "7f71572c",
   "metadata": {},
   "source": [
    "# Unit A"
   ]
  },
  {
   "cell_type": "markdown",
   "id": "e72df467",
   "metadata": {},
   "source": [
    "For today's class we are going to take a break from temperature and\n",
    "look at some simplified starter dataset. "
   ]
  },
  {
   "cell_type": "markdown",
   "id": "9a96e725",
   "metadata": {
    "lines_to_next_cell": 2
   },
   "source": [
    "Our dataset is a Red versus Blue classification challenge. Instead of\n",
    "describing this dataset let us take a look."
   ]
  },
  {
   "cell_type": "code",
   "execution_count": 9,
   "id": "597f9755",
   "metadata": {
    "execution": {
     "iopub.execute_input": "2021-06-10T17:51:33.166808Z",
     "iopub.status.busy": "2021-06-10T17:51:33.165947Z",
     "iopub.status.idle": "2021-06-10T17:51:33.239331Z",
     "shell.execute_reply": "2021-06-10T17:51:33.240076Z"
    }
   },
   "outputs": [
    {
     "data": {
      "text/html": [
       "<div>\n",
       "<style scoped>\n",
       "    .dataframe tbody tr th:only-of-type {\n",
       "        vertical-align: middle;\n",
       "    }\n",
       "\n",
       "    .dataframe tbody tr th {\n",
       "        vertical-align: top;\n",
       "    }\n",
       "\n",
       "    .dataframe thead th {\n",
       "        text-align: right;\n",
       "    }\n",
       "</style>\n",
       "<table border=\"1\" class=\"dataframe\">\n",
       "  <thead>\n",
       "    <tr style=\"text-align: right;\">\n",
       "      <th></th>\n",
       "      <th>class</th>\n",
       "      <th>split</th>\n",
       "      <th>feature1</th>\n",
       "      <th>feature2</th>\n",
       "    </tr>\n",
       "  </thead>\n",
       "  <tbody>\n",
       "    <tr>\n",
       "      <th>0</th>\n",
       "      <td>blue</td>\n",
       "      <td>train</td>\n",
       "      <td>0.368232</td>\n",
       "      <td>0.447353</td>\n",
       "    </tr>\n",
       "    <tr>\n",
       "      <th>1</th>\n",
       "      <td>blue</td>\n",
       "      <td>train</td>\n",
       "      <td>0.574324</td>\n",
       "      <td>0.382358</td>\n",
       "    </tr>\n",
       "    <tr>\n",
       "      <th>2</th>\n",
       "      <td>red</td>\n",
       "      <td>train</td>\n",
       "      <td>0.799023</td>\n",
       "      <td>0.849630</td>\n",
       "    </tr>\n",
       "    <tr>\n",
       "      <th>3</th>\n",
       "      <td>blue</td>\n",
       "      <td>train</td>\n",
       "      <td>0.778323</td>\n",
       "      <td>0.104591</td>\n",
       "    </tr>\n",
       "    <tr>\n",
       "      <th>4</th>\n",
       "      <td>red</td>\n",
       "      <td>train</td>\n",
       "      <td>0.824153</td>\n",
       "      <td>0.989757</td>\n",
       "    </tr>\n",
       "    <tr>\n",
       "      <th>...</th>\n",
       "      <td>...</td>\n",
       "      <td>...</td>\n",
       "      <td>...</td>\n",
       "      <td>...</td>\n",
       "    </tr>\n",
       "    <tr>\n",
       "      <th>145</th>\n",
       "      <td>blue</td>\n",
       "      <td>test</td>\n",
       "      <td>0.259535</td>\n",
       "      <td>0.122557</td>\n",
       "    </tr>\n",
       "    <tr>\n",
       "      <th>146</th>\n",
       "      <td>red</td>\n",
       "      <td>test</td>\n",
       "      <td>0.937820</td>\n",
       "      <td>0.249618</td>\n",
       "    </tr>\n",
       "    <tr>\n",
       "      <th>147</th>\n",
       "      <td>blue</td>\n",
       "      <td>test</td>\n",
       "      <td>0.148987</td>\n",
       "      <td>0.700891</td>\n",
       "    </tr>\n",
       "    <tr>\n",
       "      <th>148</th>\n",
       "      <td>blue</td>\n",
       "      <td>test</td>\n",
       "      <td>0.531986</td>\n",
       "      <td>0.439514</td>\n",
       "    </tr>\n",
       "    <tr>\n",
       "      <th>149</th>\n",
       "      <td>red</td>\n",
       "      <td>test</td>\n",
       "      <td>0.567762</td>\n",
       "      <td>0.958953</td>\n",
       "    </tr>\n",
       "  </tbody>\n",
       "</table>\n",
       "<p>150 rows × 4 columns</p>\n",
       "</div>"
      ],
      "text/plain": [
       "    class  split  feature1  feature2\n",
       "0    blue  train  0.368232  0.447353\n",
       "1    blue  train  0.574324  0.382358\n",
       "2     red  train  0.799023  0.849630\n",
       "3    blue  train  0.778323  0.104591\n",
       "4     red  train  0.824153  0.989757\n",
       "..    ...    ...       ...       ...\n",
       "145  blue   test  0.259535  0.122557\n",
       "146   red   test  0.937820  0.249618\n",
       "147  blue   test  0.148987  0.700891\n",
       "148  blue   test  0.531986  0.439514\n",
       "149   red   test  0.567762  0.958953\n",
       "\n",
       "[150 rows x 4 columns]"
      ]
     },
     "execution_count": 1,
     "metadata": {},
     "output_type": "execute_result"
    }
   ],
   "source": [
    "df = pd.read_csv(\"https://srush.github.io/BT-AI/notebooks/simple.csv\")\n",
    "df"
   ]
  },
  {
   "cell_type": "markdown",
   "id": "1f944dfa",
   "metadata": {},
   "source": [
    "The first thing to do is to look at the columns."
   ]
  },
  {
   "cell_type": "code",
   "execution_count": 10,
   "id": "f9bd0460",
   "metadata": {
    "execution": {
     "iopub.execute_input": "2021-06-10T17:51:33.246766Z",
     "iopub.status.busy": "2021-06-10T17:51:33.245891Z",
     "iopub.status.idle": "2021-06-10T17:51:33.249391Z",
     "shell.execute_reply": "2021-06-10T17:51:33.250115Z"
    },
    "lines_to_next_cell": 2
   },
   "outputs": [
    {
     "data": {
      "text/plain": [
       "Index(['class', 'split', 'feature1', 'feature2'], dtype='object')"
      ]
     },
     "execution_count": 1,
     "metadata": {},
     "output_type": "execute_result"
    }
   ],
   "source": [
    "df.columns"
   ]
  },
  {
   "cell_type": "markdown",
   "id": "66d74c9e",
   "metadata": {},
   "source": [
    "First is \"split\". The two options here are `train` and `test`. This is an important \n",
    "distinction in machine learning. \n",
    "\n",
    "* Train -> Points that we use to \"fit\" our machine learning model\n",
    "* Test ->  Points that we use to \"predict\" with our machine learning model."
   ]
  },
  {
   "cell_type": "markdown",
   "id": "d6a9de6a",
   "metadata": {},
   "source": [
    "For example, if we were building a model for classifying types of birds from images, \n",
    "our Train split might be pictures of birds from a guide, whereas our Test split\n",
    "would be new pictures of birds in the wild that we want to classify. "
   ]
  },
  {
   "cell_type": "markdown",
   "id": "43ead63f",
   "metadata": {},
   "source": [
    "Let us separate these out. using a filter."
   ]
  },
  {
   "cell_type": "code",
   "execution_count": 11,
   "id": "be93d5b4",
   "metadata": {
    "execution": {
     "iopub.execute_input": "2021-06-10T17:51:33.258676Z",
     "iopub.status.busy": "2021-06-10T17:51:33.257772Z",
     "iopub.status.idle": "2021-06-10T17:51:33.260068Z",
     "shell.execute_reply": "2021-06-10T17:51:33.260787Z"
    },
    "lines_to_next_cell": 2
   },
   "outputs": [],
   "source": [
    "df_train = df.loc[df[\"split\"] == \"train\"]\n",
    "df_test = df.loc[df[\"split\"] == \"test\"]"
   ]
  },
  {
   "cell_type": "markdown",
   "id": "f4430730",
   "metadata": {},
   "source": [
    "Next is \"class\". We can see there are two options, `red` and `blue`.\n",
    "This tells us the color associated with the point. For this exercise,\n",
    "our goal is going to be splitting up these two colors.  "
   ]
  },
  {
   "cell_type": "code",
   "execution_count": 12,
   "id": "55b3c50a",
   "metadata": {
    "execution": {
     "iopub.execute_input": "2021-06-10T17:51:33.267860Z",
     "iopub.status.busy": "2021-06-10T17:51:33.266943Z",
     "iopub.status.idle": "2021-06-10T17:51:33.271133Z",
     "shell.execute_reply": "2021-06-10T17:51:33.271831Z"
    },
    "lines_to_next_cell": 2
   },
   "outputs": [
    {
     "data": {
      "text/plain": [
       "'blueblueredblueredblueredredredblueredblueblueredblueblueblueredredblueredblueblueredblueredredblueredblueblueblueredredblueredredredblueredblueredredredblueblueredredredredredredredredblueblueredblueredblueredredblueredredredredredblueblueredredredredblueblueblueredredredredredblueblueblueblueredblueblueblueblueredredblueredblueblueredredred'"
      ]
     },
     "execution_count": 1,
     "metadata": {},
     "output_type": "execute_result"
    }
   ],
   "source": [
    "df_train[\"class\"].sum()"
   ]
  },
  {
   "cell_type": "markdown",
   "id": "0e6ddeee",
   "metadata": {
    "lines_to_next_cell": 2
   },
   "source": [
    "Finally we have \"features\". Features are the columns that we use\n",
    "in order to solve the challenge. The machine learning model gets to\n",
    "use the features in any way it wants it order to predict the class."
   ]
  },
  {
   "cell_type": "markdown",
   "id": "31688ce3",
   "metadata": {},
   "source": [
    "Let us now put everything together to draw a graph. "
   ]
  },
  {
   "cell_type": "markdown",
   "id": "b1959eeb",
   "metadata": {
    "lines_to_next_cell": 2
   },
   "source": [
    "**Charting**\n",
    "\n",
    "1. Chart - Just our training split.\n",
    "2. Mark - Point mark to show each row\n",
    "3. Encode - The features and the class."
   ]
  },
  {
   "cell_type": "code",
   "execution_count": 13,
   "id": "e86a1054",
   "metadata": {
    "execution": {
     "iopub.execute_input": "2021-06-10T17:51:33.310216Z",
     "iopub.status.busy": "2021-06-10T17:51:33.309306Z",
     "iopub.status.idle": "2021-06-10T17:51:33.313941Z",
     "shell.execute_reply": "2021-06-10T17:51:33.313221Z"
    }
   },
   "outputs": [
    {
     "data": {
      "text/html": [
       "\n",
       "<div id=\"altair-viz-05a2ac9870c6442ab988b14e6bb27e1d\"></div>\n",
       "<script type=\"text/javascript\">\n",
       "  (function(spec, embedOpt){\n",
       "    let outputDiv = document.currentScript.previousElementSibling;\n",
       "    if (outputDiv.id !== \"altair-viz-05a2ac9870c6442ab988b14e6bb27e1d\") {\n",
       "      outputDiv = document.getElementById(\"altair-viz-05a2ac9870c6442ab988b14e6bb27e1d\");\n",
       "    }\n",
       "    const paths = {\n",
       "      \"vega\": \"https://cdn.jsdelivr.net/npm//vega@5?noext\",\n",
       "      \"vega-lib\": \"https://cdn.jsdelivr.net/npm//vega-lib?noext\",\n",
       "      \"vega-lite\": \"https://cdn.jsdelivr.net/npm//vega-lite@4.8.1?noext\",\n",
       "      \"vega-embed\": \"https://cdn.jsdelivr.net/npm//vega-embed@6?noext\",\n",
       "    };\n",
       "\n",
       "    function loadScript(lib) {\n",
       "      return new Promise(function(resolve, reject) {\n",
       "        var s = document.createElement('script');\n",
       "        s.src = paths[lib];\n",
       "        s.async = true;\n",
       "        s.onload = () => resolve(paths[lib]);\n",
       "        s.onerror = () => reject(`Error loading script: ${paths[lib]}`);\n",
       "        document.getElementsByTagName(\"head\")[0].appendChild(s);\n",
       "      });\n",
       "    }\n",
       "\n",
       "    function showError(err) {\n",
       "      outputDiv.innerHTML = `<div class=\"error\" style=\"color:red;\">${err}</div>`;\n",
       "      throw err;\n",
       "    }\n",
       "\n",
       "    function displayChart(vegaEmbed) {\n",
       "      vegaEmbed(outputDiv, spec, embedOpt)\n",
       "        .catch(err => showError(`Javascript Error: ${err.message}<br>This usually means there's a typo in your chart specification. See the javascript console for the full traceback.`));\n",
       "    }\n",
       "\n",
       "    if(typeof define === \"function\" && define.amd) {\n",
       "      requirejs.config({paths});\n",
       "      require([\"vega-embed\"], displayChart, err => showError(`Error loading script: ${err.message}`));\n",
       "    } else if (typeof vegaEmbed === \"function\") {\n",
       "      displayChart(vegaEmbed);\n",
       "    } else {\n",
       "      loadScript(\"vega\")\n",
       "        .then(() => loadScript(\"vega-lite\"))\n",
       "        .then(() => loadScript(\"vega-embed\"))\n",
       "        .catch(showError)\n",
       "        .then(() => displayChart(vegaEmbed));\n",
       "    }\n",
       "  })({\"config\": {\"view\": {\"continuousWidth\": 400, \"continuousHeight\": 300}}, \"data\": {\"name\": \"data-599e1f2cd3433b4b9ae953449cc816ec\"}, \"mark\": \"point\", \"encoding\": {\"color\": {\"type\": \"nominal\", \"field\": \"class\"}, \"x\": {\"type\": \"quantitative\", \"field\": \"feature1\"}, \"y\": {\"type\": \"quantitative\", \"field\": \"feature2\"}}, \"$schema\": \"https://vega.github.io/schema/vega-lite/v4.8.1.json\", \"datasets\": {\"data-599e1f2cd3433b4b9ae953449cc816ec\": [{\"class\": \"blue\", \"split\": \"train\", \"feature1\": 0.3682323684759802, \"feature2\": 0.4473526727189404}, {\"class\": \"blue\", \"split\": \"train\", \"feature1\": 0.5743242564624161, \"feature2\": 0.3823576686264089}, {\"class\": \"red\", \"split\": \"train\", \"feature1\": 0.799022628205129, \"feature2\": 0.8496301647416152}, {\"class\": \"blue\", \"split\": \"train\", \"feature1\": 0.7783232928546828, \"feature2\": 0.1045913240913266}, {\"class\": \"red\", \"split\": \"train\", \"feature1\": 0.8241527714508372, \"feature2\": 0.9897571936233694}, {\"class\": \"blue\", \"split\": \"train\", \"feature1\": 0.6541586415857185, \"feature2\": 0.0585293677620907}, {\"class\": \"red\", \"split\": \"train\", \"feature1\": 0.4562836113401554, \"feature2\": 0.5781577702266875}, {\"class\": \"red\", \"split\": \"train\", \"feature1\": 0.9960066094608204, \"feature2\": 0.7204337601144187}, {\"class\": \"red\", \"split\": \"train\", \"feature1\": 0.6745156469027007, \"feature2\": 0.6207904870518082}, {\"class\": \"blue\", \"split\": \"train\", \"feature1\": 0.1109893415019889, \"feature2\": 0.0850400629568296}, {\"class\": \"red\", \"split\": \"train\", \"feature1\": 0.6713441759696884, \"feature2\": 0.3701295580797004}, {\"class\": \"blue\", \"split\": \"train\", \"feature1\": 0.276476161786705, \"feature2\": 0.6505471230076808}, {\"class\": \"blue\", \"split\": \"train\", \"feature1\": 0.2053337287371028, \"feature2\": 0.7778519121259566}, {\"class\": \"red\", \"split\": \"train\", \"feature1\": 0.6815731421226737, \"feature2\": 0.9178581644157716}, {\"class\": \"blue\", \"split\": \"train\", \"feature1\": 0.2440734457502963, \"feature2\": 0.2083397730659916}, {\"class\": \"blue\", \"split\": \"train\", \"feature1\": 0.0518361197007838, \"feature2\": 0.719226838970165}, {\"class\": \"blue\", \"split\": \"train\", \"feature1\": 0.348975100157277, \"feature2\": 0.6500118423866246}, {\"class\": \"red\", \"split\": \"train\", \"feature1\": 0.8139187796337077, \"feature2\": 0.7626015098103665}, {\"class\": \"red\", \"split\": \"train\", \"feature1\": 0.3589847780426696, \"feature2\": 0.8117713379205389}, {\"class\": \"blue\", \"split\": \"train\", \"feature1\": 0.2702505772172822, \"feature2\": 0.3255180216675039}, {\"class\": \"red\", \"split\": \"train\", \"feature1\": 0.6410302466549275, \"feature2\": 0.3760173225121074}, {\"class\": \"blue\", \"split\": \"train\", \"feature1\": 0.5882162899933215, \"feature2\": 0.1201769723153809}, {\"class\": \"blue\", \"split\": \"train\", \"feature1\": 0.1036121946560421, \"feature2\": 0.458627632529421}, {\"class\": \"red\", \"split\": \"train\", \"feature1\": 0.6980975931887057, \"feature2\": 0.9370186159865388}, {\"class\": \"blue\", \"split\": \"train\", \"feature1\": 0.5478310349290529, \"feature2\": 0.1521333676807368}, {\"class\": \"red\", \"split\": \"train\", \"feature1\": 0.6175845314585188, \"feature2\": 0.7448076455797887}, {\"class\": \"red\", \"split\": \"train\", \"feature1\": 0.0202289458848737, \"feature2\": 0.9825286421669844}, {\"class\": \"blue\", \"split\": \"train\", \"feature1\": 0.2293143089518627, \"feature2\": 0.5635132922155196}, {\"class\": \"red\", \"split\": \"train\", \"feature1\": 0.7381452068580395, \"feature2\": 0.9134949868729012}, {\"class\": \"blue\", \"split\": \"train\", \"feature1\": 0.7807093849611259, \"feature2\": 0.1750651183119368}, {\"class\": \"blue\", \"split\": \"train\", \"feature1\": 0.461756644567759, \"feature2\": 0.36722521703259}, {\"class\": \"blue\", \"split\": \"train\", \"feature1\": 0.2128673304070881, \"feature2\": 0.2732295694766024}, {\"class\": \"red\", \"split\": \"train\", \"feature1\": 0.5770517028718696, \"feature2\": 0.818574608786281}, {\"class\": \"red\", \"split\": \"train\", \"feature1\": 0.6936864120465154, \"feature2\": 0.6336194484318932}, {\"class\": \"blue\", \"split\": \"train\", \"feature1\": 0.6957700855431624, \"feature2\": 0.1536887803465908}, {\"class\": \"red\", \"split\": \"train\", \"feature1\": 0.7394071294253968, \"feature2\": 0.7171863898017858}, {\"class\": \"red\", \"split\": \"train\", \"feature1\": 0.8571341152555085, \"feature2\": 0.5964480541264869}, {\"class\": \"red\", \"split\": \"train\", \"feature1\": 0.8528235868692727, \"feature2\": 0.6029261339677557}, {\"class\": \"blue\", \"split\": \"train\", \"feature1\": 0.4651297719985533, \"feature2\": 0.3424635762411553}, {\"class\": \"red\", \"split\": \"train\", \"feature1\": 0.5653104433132037, \"feature2\": 0.692327725143757}, {\"class\": \"blue\", \"split\": \"train\", \"feature1\": 0.0740889751447524, \"feature2\": 0.7264823953580382}, {\"class\": \"red\", \"split\": \"train\", \"feature1\": 0.8538209129828119, \"feature2\": 0.2386268896955902}, {\"class\": \"red\", \"split\": \"train\", \"feature1\": 0.71772404123483, \"feature2\": 0.3823655124245927}, {\"class\": \"red\", \"split\": \"train\", \"feature1\": 0.9526051621311176, \"feature2\": 0.6206148479513791}, {\"class\": \"blue\", \"split\": \"train\", \"feature1\": 0.0703493763865859, \"feature2\": 0.473203428438526}, {\"class\": \"blue\", \"split\": \"train\", \"feature1\": 0.2056314861289069, \"feature2\": 0.4444961336901608}, {\"class\": \"red\", \"split\": \"train\", \"feature1\": 0.775082655100484, \"feature2\": 0.4462160028587486}, {\"class\": \"red\", \"split\": \"train\", \"feature1\": 0.8517598956751181, \"feature2\": 0.5787865675074048}, {\"class\": \"red\", \"split\": \"train\", \"feature1\": 0.8293273935571566, \"feature2\": 0.9893650578713904}, {\"class\": \"red\", \"split\": \"train\", \"feature1\": 0.3787896112567985, \"feature2\": 0.7909758233495308}, {\"class\": \"red\", \"split\": \"train\", \"feature1\": 0.8136211742854713, \"feature2\": 0.5141132092679883}, {\"class\": \"red\", \"split\": \"train\", \"feature1\": 0.7800668312725964, \"feature2\": 0.2658257943616534}, {\"class\": \"red\", \"split\": \"train\", \"feature1\": 0.5042292846917231, \"feature2\": 0.677587919554561}, {\"class\": \"red\", \"split\": \"train\", \"feature1\": 0.4454028290001135, \"feature2\": 0.8668144284089212}, {\"class\": \"blue\", \"split\": \"train\", \"feature1\": 0.6690927823813047, \"feature2\": 0.1388140181020797}, {\"class\": \"blue\", \"split\": \"train\", \"feature1\": 0.1286738173754674, \"feature2\": 0.1284595359793524}, {\"class\": \"red\", \"split\": \"train\", \"feature1\": 0.797343022999239, \"feature2\": 0.553084266340859}, {\"class\": \"blue\", \"split\": \"train\", \"feature1\": 0.0984745874357987, \"feature2\": 0.8133669556694172}, {\"class\": \"red\", \"split\": \"train\", \"feature1\": 0.7796904414422055, \"feature2\": 0.5947020519060113}, {\"class\": \"blue\", \"split\": \"train\", \"feature1\": 0.3809477690407949, \"feature2\": 0.1518290877185172}, {\"class\": \"red\", \"split\": \"train\", \"feature1\": 0.8547478876806469, \"feature2\": 0.7156343349548238}, {\"class\": \"red\", \"split\": \"train\", \"feature1\": 0.9841149307969916, \"feature2\": 0.3004678337698954}, {\"class\": \"blue\", \"split\": \"train\", \"feature1\": 0.1058190328617374, \"feature2\": 0.006402323021787}, {\"class\": \"red\", \"split\": \"train\", \"feature1\": 0.8294393430803175, \"feature2\": 0.2902849106685103}, {\"class\": \"red\", \"split\": \"train\", \"feature1\": 0.7096994190106981, \"feature2\": 0.3337102582609778}, {\"class\": \"red\", \"split\": \"train\", \"feature1\": 0.6296554880911236, \"feature2\": 0.990137158635532}, {\"class\": \"red\", \"split\": \"train\", \"feature1\": 0.7952029420834459, \"feature2\": 0.4694246380826102}, {\"class\": \"red\", \"split\": \"train\", \"feature1\": 0.2113824746487095, \"feature2\": 0.905870162891056}, {\"class\": \"blue\", \"split\": \"train\", \"feature1\": 0.005639488000211, \"feature2\": 0.5910018570208252}, {\"class\": \"blue\", \"split\": \"train\", \"feature1\": 0.2304033964023043, \"feature2\": 0.2674171892435246}, {\"class\": \"red\", \"split\": \"train\", \"feature1\": 0.2861764496198654, \"feature2\": 0.9072381505539632}, {\"class\": \"red\", \"split\": \"train\", \"feature1\": 0.2359783436842403, \"feature2\": 0.8949172355329437}, {\"class\": \"red\", \"split\": \"train\", \"feature1\": 0.2982779147497533, \"feature2\": 0.7686755161517635}, {\"class\": \"red\", \"split\": \"train\", \"feature1\": 0.5659410234080753, \"feature2\": 0.9727031926585}, {\"class\": \"blue\", \"split\": \"train\", \"feature1\": 0.6577212536220872, \"feature2\": 0.2661095620900372}, {\"class\": \"blue\", \"split\": \"train\", \"feature1\": 0.5706401618552467, \"feature2\": 0.0606271617565129}, {\"class\": \"blue\", \"split\": \"train\", \"feature1\": 0.6060452034070782, \"feature2\": 0.0822428689523239}, {\"class\": \"red\", \"split\": \"train\", \"feature1\": 0.8261917874286117, \"feature2\": 0.2543928938883328}, {\"class\": \"red\", \"split\": \"train\", \"feature1\": 0.6189445309451665, \"feature2\": 0.8254675961298511}, {\"class\": \"red\", \"split\": \"train\", \"feature1\": 0.6137889476416589, \"feature2\": 0.8210721376781374}, {\"class\": \"red\", \"split\": \"train\", \"feature1\": 0.6115694817889225, \"feature2\": 0.844430199145512}, {\"class\": \"red\", \"split\": \"train\", \"feature1\": 0.4758976563687273, \"feature2\": 0.8661846244622735}, {\"class\": \"blue\", \"split\": \"train\", \"feature1\": 0.3971330673840008, \"feature2\": 0.0293070478189284}, {\"class\": \"blue\", \"split\": \"train\", \"feature1\": 0.1441981699160214, \"feature2\": 0.3150196112677348}, {\"class\": \"blue\", \"split\": \"train\", \"feature1\": 0.5826207420894582, \"feature2\": 0.3796472454767047}, {\"class\": \"blue\", \"split\": \"train\", \"feature1\": 0.2345289881039856, \"feature2\": 0.4277489968782679}, {\"class\": \"red\", \"split\": \"train\", \"feature1\": 0.6823446905882603, \"feature2\": 0.8427635428323514}, {\"class\": \"blue\", \"split\": \"train\", \"feature1\": 0.0135020832091256, \"feature2\": 0.391153653466908}, {\"class\": \"blue\", \"split\": \"train\", \"feature1\": 0.4942810147573535, \"feature2\": 0.1874524030720122}, {\"class\": \"blue\", \"split\": \"train\", \"feature1\": 0.008775615186458, \"feature2\": 0.8209450645832546}, {\"class\": \"blue\", \"split\": \"train\", \"feature1\": 0.3020787444043984, \"feature2\": 0.4737682016673011}, {\"class\": \"red\", \"split\": \"train\", \"feature1\": 0.4263605127959688, \"feature2\": 0.7296345885980747}, {\"class\": \"red\", \"split\": \"train\", \"feature1\": 0.3812083931184993, \"feature2\": 0.8203222470776549}, {\"class\": \"blue\", \"split\": \"train\", \"feature1\": 0.1329278568069413, \"feature2\": 0.1991217945305331}, {\"class\": \"red\", \"split\": \"train\", \"feature1\": 0.2478648344691463, \"feature2\": 0.8286206738449602}, {\"class\": \"blue\", \"split\": \"train\", \"feature1\": 0.3254925333744068, \"feature2\": 0.5177719450192473}, {\"class\": \"blue\", \"split\": \"train\", \"feature1\": 0.3288645074372592, \"feature2\": 0.0612404019157535}, {\"class\": \"red\", \"split\": \"train\", \"feature1\": 0.7923550346906995, \"feature2\": 0.2983438961737389}, {\"class\": \"red\", \"split\": \"train\", \"feature1\": 0.8501575584474497, \"feature2\": 0.8404746364304114}, {\"class\": \"red\", \"split\": \"train\", \"feature1\": 0.3850031447697012, \"feature2\": 0.8667453628591674}]}}, {\"mode\": \"vega-lite\"});\n",
       "</script>"
      ],
      "text/plain": [
       "alt.Chart(...)"
      ]
     },
     "execution_count": 1,
     "metadata": {},
     "output_type": "execute_result"
    }
   ],
   "source": [
    "chart = (alt.Chart(df_train)\n",
    "    .mark_point()\n",
    "    .encode(\n",
    "        x = \"feature1\",\n",
    "        y = \"feature2\",\n",
    "        color = \"class\"\n",
    "    ))\n",
    "chart"
   ]
  },
  {
   "cell_type": "markdown",
   "id": "e5c21fb7",
   "metadata": {},
   "source": [
    "We can see that for this example the colors are split into\n",
    "two sides of the chart. Blue is at the bottom-left and red is\n",
    "at the top-right. "
   ]
  },
  {
   "cell_type": "markdown",
   "id": "ff27a57e",
   "metadata": {},
   "source": [
    "We can also look at the test split. The test split consists of\n",
    "the additional challenge points that our model needs to get correct.\n",
    "These points will follow a similar pattern, but have different features. "
   ]
  },
  {
   "cell_type": "code",
   "execution_count": 14,
   "id": "90f78934",
   "metadata": {
    "execution": {
     "iopub.execute_input": "2021-06-10T17:51:33.334695Z",
     "iopub.status.busy": "2021-06-10T17:51:33.333812Z",
     "iopub.status.idle": "2021-06-10T17:51:33.337418Z",
     "shell.execute_reply": "2021-06-10T17:51:33.338132Z"
    },
    "lines_to_next_cell": 1
   },
   "outputs": [
    {
     "data": {
      "text/html": [
       "\n",
       "<div id=\"altair-viz-d388f7e01b694ac9be185e6265394a86\"></div>\n",
       "<script type=\"text/javascript\">\n",
       "  (function(spec, embedOpt){\n",
       "    let outputDiv = document.currentScript.previousElementSibling;\n",
       "    if (outputDiv.id !== \"altair-viz-d388f7e01b694ac9be185e6265394a86\") {\n",
       "      outputDiv = document.getElementById(\"altair-viz-d388f7e01b694ac9be185e6265394a86\");\n",
       "    }\n",
       "    const paths = {\n",
       "      \"vega\": \"https://cdn.jsdelivr.net/npm//vega@5?noext\",\n",
       "      \"vega-lib\": \"https://cdn.jsdelivr.net/npm//vega-lib?noext\",\n",
       "      \"vega-lite\": \"https://cdn.jsdelivr.net/npm//vega-lite@4.8.1?noext\",\n",
       "      \"vega-embed\": \"https://cdn.jsdelivr.net/npm//vega-embed@6?noext\",\n",
       "    };\n",
       "\n",
       "    function loadScript(lib) {\n",
       "      return new Promise(function(resolve, reject) {\n",
       "        var s = document.createElement('script');\n",
       "        s.src = paths[lib];\n",
       "        s.async = true;\n",
       "        s.onload = () => resolve(paths[lib]);\n",
       "        s.onerror = () => reject(`Error loading script: ${paths[lib]}`);\n",
       "        document.getElementsByTagName(\"head\")[0].appendChild(s);\n",
       "      });\n",
       "    }\n",
       "\n",
       "    function showError(err) {\n",
       "      outputDiv.innerHTML = `<div class=\"error\" style=\"color:red;\">${err}</div>`;\n",
       "      throw err;\n",
       "    }\n",
       "\n",
       "    function displayChart(vegaEmbed) {\n",
       "      vegaEmbed(outputDiv, spec, embedOpt)\n",
       "        .catch(err => showError(`Javascript Error: ${err.message}<br>This usually means there's a typo in your chart specification. See the javascript console for the full traceback.`));\n",
       "    }\n",
       "\n",
       "    if(typeof define === \"function\" && define.amd) {\n",
       "      requirejs.config({paths});\n",
       "      require([\"vega-embed\"], displayChart, err => showError(`Error loading script: ${err.message}`));\n",
       "    } else if (typeof vegaEmbed === \"function\") {\n",
       "      displayChart(vegaEmbed);\n",
       "    } else {\n",
       "      loadScript(\"vega\")\n",
       "        .then(() => loadScript(\"vega-lite\"))\n",
       "        .then(() => loadScript(\"vega-embed\"))\n",
       "        .catch(showError)\n",
       "        .then(() => displayChart(vegaEmbed));\n",
       "    }\n",
       "  })({\"config\": {\"view\": {\"continuousWidth\": 400, \"continuousHeight\": 300}}, \"data\": {\"name\": \"data-809117d24c1615b32280b14f245ca158\"}, \"mark\": \"point\", \"encoding\": {\"color\": {\"type\": \"nominal\", \"field\": \"class\"}, \"x\": {\"type\": \"quantitative\", \"field\": \"feature1\"}, \"y\": {\"type\": \"quantitative\", \"field\": \"feature2\"}}, \"$schema\": \"https://vega.github.io/schema/vega-lite/v4.8.1.json\", \"datasets\": {\"data-809117d24c1615b32280b14f245ca158\": [{\"class\": \"blue\", \"split\": \"test\", \"feature1\": 0.7188037142132304, \"feature2\": 0.0759534141050307}, {\"class\": \"red\", \"split\": \"test\", \"feature1\": 0.4410719641272954, \"feature2\": 0.8264497608388477}, {\"class\": \"red\", \"split\": \"test\", \"feature1\": 0.8203498955592614, \"feature2\": 0.2745012217165402}, {\"class\": \"red\", \"split\": \"test\", \"feature1\": 0.6208154529515425, \"feature2\": 0.6437489789508288}, {\"class\": \"blue\", \"split\": \"test\", \"feature1\": 0.3633533583504106, \"feature2\": 0.5969510810894804}, {\"class\": \"blue\", \"split\": \"test\", \"feature1\": 0.3254633773588617, \"feature2\": 0.2169247609918181}, {\"class\": \"red\", \"split\": \"test\", \"feature1\": 0.4650973993685735, \"feature2\": 0.6608461938444957}, {\"class\": \"blue\", \"split\": \"test\", \"feature1\": 0.1945408802706212, \"feature2\": 0.6874775389960156}, {\"class\": \"blue\", \"split\": \"test\", \"feature1\": 0.2508953046475385, \"feature2\": 0.6105747473357103}, {\"class\": \"red\", \"split\": \"test\", \"feature1\": 0.6214081773756726, \"feature2\": 0.5672072497445781}, {\"class\": \"blue\", \"split\": \"test\", \"feature1\": 0.1773232463589779, \"feature2\": 0.022960958778242}, {\"class\": \"red\", \"split\": \"test\", \"feature1\": 0.749020708824783, \"feature2\": 0.5684306591378825}, {\"class\": \"blue\", \"split\": \"test\", \"feature1\": 0.3109206448413709, \"feature2\": 0.2660224480911136}, {\"class\": \"blue\", \"split\": \"test\", \"feature1\": 0.4478735442499568, \"feature2\": 0.2321257030460524}, {\"class\": \"blue\", \"split\": \"test\", \"feature1\": 0.2965789174933327, \"feature2\": 0.0543676290921173}, {\"class\": \"red\", \"split\": \"test\", \"feature1\": 0.8566076724516931, \"feature2\": 0.347288092896215}, {\"class\": \"red\", \"split\": \"test\", \"feature1\": 0.2198207649198946, \"feature2\": 0.8785748657489609}, {\"class\": \"red\", \"split\": \"test\", \"feature1\": 0.624578227665143, \"feature2\": 0.4128574928739452}, {\"class\": \"red\", \"split\": \"test\", \"feature1\": 0.6827821686591201, \"feature2\": 0.7774043129352473}, {\"class\": \"blue\", \"split\": \"test\", \"feature1\": 0.6251903986620275, \"feature2\": 0.0528911093914973}, {\"class\": \"blue\", \"split\": \"test\", \"feature1\": 0.8558765251663112, \"feature2\": 0.094495146299682}, {\"class\": \"blue\", \"split\": \"test\", \"feature1\": 0.0549643053570856, \"feature2\": 0.1378950628001854}, {\"class\": \"red\", \"split\": \"test\", \"feature1\": 0.5669223666346715, \"feature2\": 0.6606277434787936}, {\"class\": \"red\", \"split\": \"test\", \"feature1\": 0.7704723543541271, \"feature2\": 0.6425573000379176}, {\"class\": \"blue\", \"split\": \"test\", \"feature1\": 0.112090941587809, \"feature2\": 0.3120231267907325}, {\"class\": \"blue\", \"split\": \"test\", \"feature1\": 0.1381221623353979, \"feature2\": 0.3673484813404186}, {\"class\": \"red\", \"split\": \"test\", \"feature1\": 0.9445536534440476, \"feature2\": 0.1105512587975475}, {\"class\": \"blue\", \"split\": \"test\", \"feature1\": 0.6096647707220016, \"feature2\": 0.0026662309127444}, {\"class\": \"blue\", \"split\": \"test\", \"feature1\": 0.4257416424819364, \"feature2\": 0.4255771223512317}, {\"class\": \"red\", \"split\": \"test\", \"feature1\": 0.4612632258039707, \"feature2\": 0.5679639104442207}, {\"class\": \"blue\", \"split\": \"test\", \"feature1\": 0.4191181613643799, \"feature2\": 0.4268364279186595}, {\"class\": \"blue\", \"split\": \"test\", \"feature1\": 0.237319006269547, \"feature2\": 0.0321651535678174}, {\"class\": \"blue\", \"split\": \"test\", \"feature1\": 0.0952265934993786, \"feature2\": 0.3992563716299768}, {\"class\": \"red\", \"split\": \"test\", \"feature1\": 0.2742173312523791, \"feature2\": 0.8487506499995645}, {\"class\": \"blue\", \"split\": \"test\", \"feature1\": 0.5446644754619803, \"feature2\": 0.4126328331471615}, {\"class\": \"red\", \"split\": \"test\", \"feature1\": 0.3234701615194417, \"feature2\": 0.8264073653390224}, {\"class\": \"red\", \"split\": \"test\", \"feature1\": 0.9040435125131014, \"feature2\": 0.6719107607854411}, {\"class\": \"blue\", \"split\": \"test\", \"feature1\": 0.2930698802504675, \"feature2\": 0.4887426912615576}, {\"class\": \"blue\", \"split\": \"test\", \"feature1\": 0.2474153968620439, \"feature2\": 0.2701365476428745}, {\"class\": \"red\", \"split\": \"test\", \"feature1\": 0.8257891078877789, \"feature2\": 0.2699104143928801}, {\"class\": \"blue\", \"split\": \"test\", \"feature1\": 0.0177381974384149, \"feature2\": 0.6217503105241703}, {\"class\": \"blue\", \"split\": \"test\", \"feature1\": 0.1140503483874684, \"feature2\": 0.3082462555465339}, {\"class\": \"blue\", \"split\": \"test\", \"feature1\": 0.3030338638822565, \"feature2\": 0.4171045726213443}, {\"class\": \"blue\", \"split\": \"test\", \"feature1\": 0.1647557737098539, \"feature2\": 0.5295357845631083}, {\"class\": \"blue\", \"split\": \"test\", \"feature1\": 0.4040221015195885, \"feature2\": 0.4498786797283854}, {\"class\": \"blue\", \"split\": \"test\", \"feature1\": 0.2595347006249396, \"feature2\": 0.1225573249918864}, {\"class\": \"red\", \"split\": \"test\", \"feature1\": 0.9378197337823356, \"feature2\": 0.2496180155271021}, {\"class\": \"blue\", \"split\": \"test\", \"feature1\": 0.1489867786892954, \"feature2\": 0.7008905334045862}, {\"class\": \"blue\", \"split\": \"test\", \"feature1\": 0.5319859082551933, \"feature2\": 0.439513867555201}, {\"class\": \"red\", \"split\": \"test\", \"feature1\": 0.5677617809501283, \"feature2\": 0.9589532380123298}]}}, {\"mode\": \"vega-lite\"});\n",
       "</script>"
      ],
      "text/plain": [
       "alt.Chart(...)"
      ]
     },
     "execution_count": 1,
     "metadata": {},
     "output_type": "execute_result"
    }
   ],
   "source": [
    "chart = (alt.Chart(df_test)\n",
    "    .mark_point()\n",
    "    .encode(\n",
    "        x = \"feature1\",\n",
    "        y = \"feature2\",\n",
    "        color = \"class\"\n",
    "    ))\n",
    "chart"
   ]
  },
  {
   "cell_type": "markdown",
   "id": "ecfa29e3",
   "metadata": {},
   "source": [
    "We are interested in using the features to predict the class (red/blue).\n",
    "We can do this by writing a function."
   ]
  },
  {
   "cell_type": "code",
   "execution_count": 15,
   "id": "babdd63a",
   "metadata": {
    "execution": {
     "iopub.execute_input": "2021-06-10T17:51:33.342700Z",
     "iopub.status.busy": "2021-06-10T17:51:33.341820Z",
     "iopub.status.idle": "2021-06-10T17:51:33.344427Z",
     "shell.execute_reply": "2021-06-10T17:51:33.343678Z"
    },
    "lines_to_next_cell": 1
   },
   "outputs": [],
   "source": [
    "def predict(point):\n",
    "    if point[\"feature1\"] > 0.5:\n",
    "        return \"red\"\n",
    "    else:\n",
    "        return \"blue\""
   ]
  },
  {
   "cell_type": "markdown",
   "id": "8336357f",
   "metadata": {},
   "source": [
    "We can apply this function using a variant of `map` from Module 1.\n",
    "The `apply` command will call our prediction for each point in test."
   ]
  },
  {
   "cell_type": "code",
   "execution_count": 16,
   "id": "f306b5dc",
   "metadata": {
    "execution": {
     "iopub.execute_input": "2021-06-10T17:51:33.350599Z",
     "iopub.status.busy": "2021-06-10T17:51:33.349742Z",
     "iopub.status.idle": "2021-06-10T17:51:33.352764Z",
     "shell.execute_reply": "2021-06-10T17:51:33.353465Z"
    },
    "lines_to_next_cell": 2
   },
   "outputs": [
    {
     "name": "stderr",
     "output_type": "stream",
     "text": [
      "<ipython-input-1-aee28667a6ae>:1: SettingWithCopyWarning: \n",
      "A value is trying to be set on a copy of a slice from a DataFrame.\n",
      "Try using .loc[row_indexer,col_indexer] = value instead\n",
      "\n",
      "See the caveats in the documentation: https://pandas.pydata.org/pandas-docs/stable/user_guide/indexing.html#returning-a-view-versus-a-copy\n",
      "  df_test[\"predict\"] = df_test.apply(predict, axis=1)\n"
     ]
    }
   ],
   "source": [
    "df_test[\"predict\"] = df_test.apply(predict, axis=1)"
   ]
  },
  {
   "cell_type": "markdown",
   "id": "916942ae",
   "metadata": {},
   "source": [
    "Once we have made predictions, we can compute a score for how well\n",
    "our prediction did. We do this by comparing the `predict` with `class`."
   ]
  },
  {
   "cell_type": "code",
   "execution_count": 17,
   "id": "0a64633b",
   "metadata": {
    "execution": {
     "iopub.execute_input": "2021-06-10T17:51:33.358801Z",
     "iopub.status.busy": "2021-06-10T17:51:33.357940Z",
     "iopub.status.idle": "2021-06-10T17:51:33.360746Z",
     "shell.execute_reply": "2021-06-10T17:51:33.361354Z"
    },
    "lines_to_next_cell": 2
   },
   "outputs": [
    {
     "name": "stderr",
     "output_type": "stream",
     "text": [
      "<ipython-input-1-e00d090b954e>:2: SettingWithCopyWarning: \n",
      "A value is trying to be set on a copy of a slice from a DataFrame.\n",
      "Try using .loc[row_indexer,col_indexer] = value instead\n",
      "\n",
      "See the caveats in the documentation: https://pandas.pydata.org/pandas-docs/stable/user_guide/indexing.html#returning-a-view-versus-a-copy\n",
      "  df_test[\"correct\"] = correct\n"
     ]
    }
   ],
   "source": [
    "correct = (df_test[\"predict\"] ==  df_test[\"class\"])\n",
    "df_test[\"correct\"] = correct"
   ]
  },
  {
   "cell_type": "markdown",
   "id": "a6a09619",
   "metadata": {},
   "source": [
    "Let us see how well we did. This graph puts everything together. "
   ]
  },
  {
   "cell_type": "code",
   "execution_count": 18,
   "id": "5d0f4486",
   "metadata": {
    "execution": {
     "iopub.execute_input": "2021-06-10T17:51:33.392678Z",
     "iopub.status.busy": "2021-06-10T17:51:33.391817Z",
     "iopub.status.idle": "2021-06-10T17:51:33.395410Z",
     "shell.execute_reply": "2021-06-10T17:51:33.396120Z"
    }
   },
   "outputs": [
    {
     "data": {
      "text/html": [
       "\n",
       "<div id=\"altair-viz-da527c11310343abacc62fc4ddc13cca\"></div>\n",
       "<script type=\"text/javascript\">\n",
       "  (function(spec, embedOpt){\n",
       "    let outputDiv = document.currentScript.previousElementSibling;\n",
       "    if (outputDiv.id !== \"altair-viz-da527c11310343abacc62fc4ddc13cca\") {\n",
       "      outputDiv = document.getElementById(\"altair-viz-da527c11310343abacc62fc4ddc13cca\");\n",
       "    }\n",
       "    const paths = {\n",
       "      \"vega\": \"https://cdn.jsdelivr.net/npm//vega@5?noext\",\n",
       "      \"vega-lib\": \"https://cdn.jsdelivr.net/npm//vega-lib?noext\",\n",
       "      \"vega-lite\": \"https://cdn.jsdelivr.net/npm//vega-lite@4.8.1?noext\",\n",
       "      \"vega-embed\": \"https://cdn.jsdelivr.net/npm//vega-embed@6?noext\",\n",
       "    };\n",
       "\n",
       "    function loadScript(lib) {\n",
       "      return new Promise(function(resolve, reject) {\n",
       "        var s = document.createElement('script');\n",
       "        s.src = paths[lib];\n",
       "        s.async = true;\n",
       "        s.onload = () => resolve(paths[lib]);\n",
       "        s.onerror = () => reject(`Error loading script: ${paths[lib]}`);\n",
       "        document.getElementsByTagName(\"head\")[0].appendChild(s);\n",
       "      });\n",
       "    }\n",
       "\n",
       "    function showError(err) {\n",
       "      outputDiv.innerHTML = `<div class=\"error\" style=\"color:red;\">${err}</div>`;\n",
       "      throw err;\n",
       "    }\n",
       "\n",
       "    function displayChart(vegaEmbed) {\n",
       "      vegaEmbed(outputDiv, spec, embedOpt)\n",
       "        .catch(err => showError(`Javascript Error: ${err.message}<br>This usually means there's a typo in your chart specification. See the javascript console for the full traceback.`));\n",
       "    }\n",
       "\n",
       "    if(typeof define === \"function\" && define.amd) {\n",
       "      requirejs.config({paths});\n",
       "      require([\"vega-embed\"], displayChart, err => showError(`Error loading script: ${err.message}`));\n",
       "    } else if (typeof vegaEmbed === \"function\") {\n",
       "      displayChart(vegaEmbed);\n",
       "    } else {\n",
       "      loadScript(\"vega\")\n",
       "        .then(() => loadScript(\"vega-lite\"))\n",
       "        .then(() => loadScript(\"vega-embed\"))\n",
       "        .catch(showError)\n",
       "        .then(() => displayChart(vegaEmbed));\n",
       "    }\n",
       "  })({\"config\": {\"view\": {\"continuousWidth\": 400, \"continuousHeight\": 300}}, \"data\": {\"name\": \"data-41d45300c0470008a33cbcdc777c3080\"}, \"mark\": \"point\", \"encoding\": {\"color\": {\"type\": \"nominal\", \"field\": \"class\"}, \"fill\": {\"type\": \"nominal\", \"field\": \"predict\"}, \"tooltip\": [{\"type\": \"nominal\", \"field\": \"correct\"}], \"x\": {\"type\": \"quantitative\", \"field\": \"feature1\"}, \"y\": {\"type\": \"quantitative\", \"field\": \"feature2\"}}, \"$schema\": \"https://vega.github.io/schema/vega-lite/v4.8.1.json\", \"datasets\": {\"data-41d45300c0470008a33cbcdc777c3080\": [{\"class\": \"blue\", \"split\": \"test\", \"feature1\": 0.7188037142132304, \"feature2\": 0.0759534141050307, \"predict\": \"red\", \"correct\": false}, {\"class\": \"red\", \"split\": \"test\", \"feature1\": 0.4410719641272954, \"feature2\": 0.8264497608388477, \"predict\": \"blue\", \"correct\": false}, {\"class\": \"red\", \"split\": \"test\", \"feature1\": 0.8203498955592614, \"feature2\": 0.2745012217165402, \"predict\": \"red\", \"correct\": true}, {\"class\": \"red\", \"split\": \"test\", \"feature1\": 0.6208154529515425, \"feature2\": 0.6437489789508288, \"predict\": \"red\", \"correct\": true}, {\"class\": \"blue\", \"split\": \"test\", \"feature1\": 0.3633533583504106, \"feature2\": 0.5969510810894804, \"predict\": \"blue\", \"correct\": true}, {\"class\": \"blue\", \"split\": \"test\", \"feature1\": 0.3254633773588617, \"feature2\": 0.2169247609918181, \"predict\": \"blue\", \"correct\": true}, {\"class\": \"red\", \"split\": \"test\", \"feature1\": 0.4650973993685735, \"feature2\": 0.6608461938444957, \"predict\": \"blue\", \"correct\": false}, {\"class\": \"blue\", \"split\": \"test\", \"feature1\": 0.1945408802706212, \"feature2\": 0.6874775389960156, \"predict\": \"blue\", \"correct\": true}, {\"class\": \"blue\", \"split\": \"test\", \"feature1\": 0.2508953046475385, \"feature2\": 0.6105747473357103, \"predict\": \"blue\", \"correct\": true}, {\"class\": \"red\", \"split\": \"test\", \"feature1\": 0.6214081773756726, \"feature2\": 0.5672072497445781, \"predict\": \"red\", \"correct\": true}, {\"class\": \"blue\", \"split\": \"test\", \"feature1\": 0.1773232463589779, \"feature2\": 0.022960958778242, \"predict\": \"blue\", \"correct\": true}, {\"class\": \"red\", \"split\": \"test\", \"feature1\": 0.749020708824783, \"feature2\": 0.5684306591378825, \"predict\": \"red\", \"correct\": true}, {\"class\": \"blue\", \"split\": \"test\", \"feature1\": 0.3109206448413709, \"feature2\": 0.2660224480911136, \"predict\": \"blue\", \"correct\": true}, {\"class\": \"blue\", \"split\": \"test\", \"feature1\": 0.4478735442499568, \"feature2\": 0.2321257030460524, \"predict\": \"blue\", \"correct\": true}, {\"class\": \"blue\", \"split\": \"test\", \"feature1\": 0.2965789174933327, \"feature2\": 0.0543676290921173, \"predict\": \"blue\", \"correct\": true}, {\"class\": \"red\", \"split\": \"test\", \"feature1\": 0.8566076724516931, \"feature2\": 0.347288092896215, \"predict\": \"red\", \"correct\": true}, {\"class\": \"red\", \"split\": \"test\", \"feature1\": 0.2198207649198946, \"feature2\": 0.8785748657489609, \"predict\": \"blue\", \"correct\": false}, {\"class\": \"red\", \"split\": \"test\", \"feature1\": 0.624578227665143, \"feature2\": 0.4128574928739452, \"predict\": \"red\", \"correct\": true}, {\"class\": \"red\", \"split\": \"test\", \"feature1\": 0.6827821686591201, \"feature2\": 0.7774043129352473, \"predict\": \"red\", \"correct\": true}, {\"class\": \"blue\", \"split\": \"test\", \"feature1\": 0.6251903986620275, \"feature2\": 0.0528911093914973, \"predict\": \"red\", \"correct\": false}, {\"class\": \"blue\", \"split\": \"test\", \"feature1\": 0.8558765251663112, \"feature2\": 0.094495146299682, \"predict\": \"red\", \"correct\": false}, {\"class\": \"blue\", \"split\": \"test\", \"feature1\": 0.0549643053570856, \"feature2\": 0.1378950628001854, \"predict\": \"blue\", \"correct\": true}, {\"class\": \"red\", \"split\": \"test\", \"feature1\": 0.5669223666346715, \"feature2\": 0.6606277434787936, \"predict\": \"red\", \"correct\": true}, {\"class\": \"red\", \"split\": \"test\", \"feature1\": 0.7704723543541271, \"feature2\": 0.6425573000379176, \"predict\": \"red\", \"correct\": true}, {\"class\": \"blue\", \"split\": \"test\", \"feature1\": 0.112090941587809, \"feature2\": 0.3120231267907325, \"predict\": \"blue\", \"correct\": true}, {\"class\": \"blue\", \"split\": \"test\", \"feature1\": 0.1381221623353979, \"feature2\": 0.3673484813404186, \"predict\": \"blue\", \"correct\": true}, {\"class\": \"red\", \"split\": \"test\", \"feature1\": 0.9445536534440476, \"feature2\": 0.1105512587975475, \"predict\": \"red\", \"correct\": true}, {\"class\": \"blue\", \"split\": \"test\", \"feature1\": 0.6096647707220016, \"feature2\": 0.0026662309127444, \"predict\": \"red\", \"correct\": false}, {\"class\": \"blue\", \"split\": \"test\", \"feature1\": 0.4257416424819364, \"feature2\": 0.4255771223512317, \"predict\": \"blue\", \"correct\": true}, {\"class\": \"red\", \"split\": \"test\", \"feature1\": 0.4612632258039707, \"feature2\": 0.5679639104442207, \"predict\": \"blue\", \"correct\": false}, {\"class\": \"blue\", \"split\": \"test\", \"feature1\": 0.4191181613643799, \"feature2\": 0.4268364279186595, \"predict\": \"blue\", \"correct\": true}, {\"class\": \"blue\", \"split\": \"test\", \"feature1\": 0.237319006269547, \"feature2\": 0.0321651535678174, \"predict\": \"blue\", \"correct\": true}, {\"class\": \"blue\", \"split\": \"test\", \"feature1\": 0.0952265934993786, \"feature2\": 0.3992563716299768, \"predict\": \"blue\", \"correct\": true}, {\"class\": \"red\", \"split\": \"test\", \"feature1\": 0.2742173312523791, \"feature2\": 0.8487506499995645, \"predict\": \"blue\", \"correct\": false}, {\"class\": \"blue\", \"split\": \"test\", \"feature1\": 0.5446644754619803, \"feature2\": 0.4126328331471615, \"predict\": \"red\", \"correct\": false}, {\"class\": \"red\", \"split\": \"test\", \"feature1\": 0.3234701615194417, \"feature2\": 0.8264073653390224, \"predict\": \"blue\", \"correct\": false}, {\"class\": \"red\", \"split\": \"test\", \"feature1\": 0.9040435125131014, \"feature2\": 0.6719107607854411, \"predict\": \"red\", \"correct\": true}, {\"class\": \"blue\", \"split\": \"test\", \"feature1\": 0.2930698802504675, \"feature2\": 0.4887426912615576, \"predict\": \"blue\", \"correct\": true}, {\"class\": \"blue\", \"split\": \"test\", \"feature1\": 0.2474153968620439, \"feature2\": 0.2701365476428745, \"predict\": \"blue\", \"correct\": true}, {\"class\": \"red\", \"split\": \"test\", \"feature1\": 0.8257891078877789, \"feature2\": 0.2699104143928801, \"predict\": \"red\", \"correct\": true}, {\"class\": \"blue\", \"split\": \"test\", \"feature1\": 0.0177381974384149, \"feature2\": 0.6217503105241703, \"predict\": \"blue\", \"correct\": true}, {\"class\": \"blue\", \"split\": \"test\", \"feature1\": 0.1140503483874684, \"feature2\": 0.3082462555465339, \"predict\": \"blue\", \"correct\": true}, {\"class\": \"blue\", \"split\": \"test\", \"feature1\": 0.3030338638822565, \"feature2\": 0.4171045726213443, \"predict\": \"blue\", \"correct\": true}, {\"class\": \"blue\", \"split\": \"test\", \"feature1\": 0.1647557737098539, \"feature2\": 0.5295357845631083, \"predict\": \"blue\", \"correct\": true}, {\"class\": \"blue\", \"split\": \"test\", \"feature1\": 0.4040221015195885, \"feature2\": 0.4498786797283854, \"predict\": \"blue\", \"correct\": true}, {\"class\": \"blue\", \"split\": \"test\", \"feature1\": 0.2595347006249396, \"feature2\": 0.1225573249918864, \"predict\": \"blue\", \"correct\": true}, {\"class\": \"red\", \"split\": \"test\", \"feature1\": 0.9378197337823356, \"feature2\": 0.2496180155271021, \"predict\": \"red\", \"correct\": true}, {\"class\": \"blue\", \"split\": \"test\", \"feature1\": 0.1489867786892954, \"feature2\": 0.7008905334045862, \"predict\": \"blue\", \"correct\": true}, {\"class\": \"blue\", \"split\": \"test\", \"feature1\": 0.5319859082551933, \"feature2\": 0.439513867555201, \"predict\": \"red\", \"correct\": false}, {\"class\": \"red\", \"split\": \"test\", \"feature1\": 0.5677617809501283, \"feature2\": 0.9589532380123298, \"predict\": \"red\", \"correct\": true}]}}, {\"mode\": \"vega-lite\"});\n",
       "</script>"
      ],
      "text/plain": [
       "alt.Chart(...)"
      ]
     },
     "execution_count": 1,
     "metadata": {},
     "output_type": "execute_result"
    }
   ],
   "source": [
    "chart = (alt.Chart(df_test)\n",
    "    .mark_point()\n",
    "    .encode(\n",
    "        x = \"feature1\",\n",
    "        y = \"feature2\",\n",
    "        color = \"class\",\n",
    "        fill = \"predict\",\n",
    "        tooltip = [\"correct\"]\n",
    "    ))\n",
    "chart"
   ]
  },
  {
   "cell_type": "markdown",
   "id": "50c57aaf",
   "metadata": {},
   "source": [
    "The outline of the point is blue / red based on the true class. Whereas the fill tells us\n",
    "our prediction. Mousing over the points will tell us whether they are correct or not. "
   ]
  },
  {
   "cell_type": "markdown",
   "id": "be7a94d6",
   "metadata": {},
   "source": [
    "👩‍🎓**Student question: How well did our predictions do?**"
   ]
  },
  {
   "cell_type": "code",
   "execution_count": 19,
   "id": "fd97a086",
   "metadata": {
    "execution": {
     "iopub.execute_input": "2021-06-10T17:51:33.402031Z",
     "iopub.status.busy": "2021-06-10T17:51:33.401173Z",
     "iopub.status.idle": "2021-06-10T17:51:33.403099Z",
     "shell.execute_reply": "2021-06-10T17:51:33.403797Z"
    },
    "lines_to_next_cell": 1
   },
   "outputs": [],
   "source": [
    "#📝📝📝📝 FILLME\n",
    "pass"
   ]
  },
  {
   "cell_type": "markdown",
   "id": "8c461167",
   "metadata": {},
   "source": [
    "# Group Exercise A"
   ]
  },
  {
   "cell_type": "markdown",
   "id": "bf9a37b7",
   "metadata": {},
   "source": [
    "## Question 1"
   ]
  },
  {
   "cell_type": "markdown",
   "id": "01d95b56",
   "metadata": {},
   "source": [
    "The `predict` function above is not able to fully separate the points into red/blue groups.\n",
    "Can you write a new function that gets all of the points correct? "
   ]
  },
  {
   "cell_type": "code",
   "execution_count": 20,
   "id": "eff6ad71",
   "metadata": {
    "execution": {
     "iopub.execute_input": "2021-06-10T17:51:33.412874Z",
     "iopub.status.busy": "2021-06-10T17:51:33.412008Z",
     "iopub.status.idle": "2021-06-10T17:51:33.414945Z",
     "shell.execute_reply": "2021-06-10T17:51:33.415672Z"
    }
   },
   "outputs": [
    {
     "name": "stderr",
     "output_type": "stream",
     "text": [
      "<ipython-input-1-d4e9a0e0156b>:4: SettingWithCopyWarning: \n",
      "A value is trying to be set on a copy of a slice from a DataFrame.\n",
      "Try using .loc[row_indexer,col_indexer] = value instead\n",
      "\n",
      "See the caveats in the documentation: https://pandas.pydata.org/pandas-docs/stable/user_guide/indexing.html#returning-a-view-versus-a-copy\n",
      "  df_test[\"predict\"] = df_test.apply(predict, axis=1)\n"
     ]
    }
   ],
   "source": [
    "#📝📝📝📝 FILLME\n",
    "def my_predict(point):\n",
    "    pass\n",
    "df_test[\"predict\"] = df_test.apply(predict, axis=1)"
   ]
  },
  {
   "cell_type": "markdown",
   "id": "0adae9a7",
   "metadata": {},
   "source": [
    "Redraw the graph above to show that you split up the points correctly."
   ]
  },
  {
   "cell_type": "code",
   "execution_count": 21,
   "id": "1737f338",
   "metadata": {
    "execution": {
     "iopub.execute_input": "2021-06-10T17:51:33.421678Z",
     "iopub.status.busy": "2021-06-10T17:51:33.420800Z",
     "iopub.status.idle": "2021-06-10T17:51:33.424667Z",
     "shell.execute_reply": "2021-06-10T17:51:33.423824Z"
    }
   },
   "outputs": [
    {
     "data": {
      "text/plain": [
       "()"
      ]
     },
     "execution_count": 1,
     "metadata": {},
     "output_type": "execute_result"
    }
   ],
   "source": [
    "#📝📝📝📝 FILLME\n",
    "chart = ()\n",
    "chart"
   ]
  },
  {
   "cell_type": "markdown",
   "id": "f0b3a364",
   "metadata": {},
   "source": [
    "## Question 2"
   ]
  },
  {
   "cell_type": "markdown",
   "id": "6abafb1d",
   "metadata": {},
   "source": [
    "The dataset above is a bit easy. It seems like you can just\n",
    "separate the points with a line. "
   ]
  },
  {
   "cell_type": "markdown",
   "id": "0a1a9278",
   "metadata": {
    "lines_to_next_cell": 2
   },
   "source": [
    "Next let us consider a harder example where the red and blue points form a circle."
   ]
  },
  {
   "cell_type": "code",
   "execution_count": 22,
   "id": "f7bf96fa",
   "metadata": {
    "execution": {
     "iopub.execute_input": "2021-06-10T17:51:33.431329Z",
     "iopub.status.busy": "2021-06-10T17:51:33.430377Z",
     "iopub.status.idle": "2021-06-10T17:51:33.472794Z",
     "shell.execute_reply": "2021-06-10T17:51:33.472050Z"
    }
   },
   "outputs": [],
   "source": [
    "df2 = pd.read_csv(\"https://srush.github.io/BT-AI/notebooks/circle.csv\")"
   ]
  },
  {
   "cell_type": "code",
   "execution_count": 23,
   "id": "3f2c1bce",
   "metadata": {
    "execution": {
     "iopub.execute_input": "2021-06-10T17:51:33.481675Z",
     "iopub.status.busy": "2021-06-10T17:51:33.480785Z",
     "iopub.status.idle": "2021-06-10T17:51:33.483781Z",
     "shell.execute_reply": "2021-06-10T17:51:33.484465Z"
    }
   },
   "outputs": [],
   "source": [
    "df2_train = df2.loc[df2[\"split\"] == \"train\"]\n",
    "df2_test = df2.loc[df2[\"split\"] == \"test\"]"
   ]
  },
  {
   "cell_type": "markdown",
   "id": "9f853b8a",
   "metadata": {},
   "source": [
    "Draw a chart with these points. "
   ]
  },
  {
   "cell_type": "code",
   "execution_count": 24,
   "id": "a066ebd8",
   "metadata": {
    "execution": {
     "iopub.execute_input": "2021-06-10T17:51:33.491044Z",
     "iopub.status.busy": "2021-06-10T17:51:33.490118Z",
     "iopub.status.idle": "2021-06-10T17:51:33.494203Z",
     "shell.execute_reply": "2021-06-10T17:51:33.494892Z"
    },
    "lines_to_next_cell": 2
   },
   "outputs": [
    {
     "data": {
      "text/plain": [
       "()"
      ]
     },
     "execution_count": 1,
     "metadata": {},
     "output_type": "execute_result"
    }
   ],
   "source": [
    "#📝📝📝📝 FILLME\n",
    "chart = ()\n",
    "chart"
   ]
  },
  {
   "cell_type": "markdown",
   "id": "82dc32a6",
   "metadata": {},
   "source": [
    "## Question 3"
   ]
  },
  {
   "cell_type": "markdown",
   "id": "6ce8346a",
   "metadata": {
    "lines_to_next_cell": 2
   },
   "source": [
    "Try to write a function that separates the blue and the red\n",
    "points. How well can you do?"
   ]
  },
  {
   "cell_type": "code",
   "execution_count": 25,
   "id": "55176e03",
   "metadata": {
    "execution": {
     "iopub.execute_input": "2021-06-10T17:51:33.505125Z",
     "iopub.status.busy": "2021-06-10T17:51:33.504210Z",
     "iopub.status.idle": "2021-06-10T17:51:33.508104Z",
     "shell.execute_reply": "2021-06-10T17:51:33.507329Z"
    },
    "lines_to_next_cell": 2
   },
   "outputs": [
    {
     "name": "stderr",
     "output_type": "stream",
     "text": [
      "<ipython-input-1-295f9bad98fe>:4: SettingWithCopyWarning: \n",
      "A value is trying to be set on a copy of a slice from a DataFrame.\n",
      "Try using .loc[row_indexer,col_indexer] = value instead\n",
      "\n",
      "See the caveats in the documentation: https://pandas.pydata.org/pandas-docs/stable/user_guide/indexing.html#returning-a-view-versus-a-copy\n",
      "  df2_test[\"predict\"] = df2_test.apply(predict, axis=1)\n"
     ]
    }
   ],
   "source": [
    "#📝📝📝📝 FILLME\n",
    "def my_circle_predict(point):\n",
    "    pass\n",
    "df2_test[\"predict\"] = df2_test.apply(predict, axis=1)"
   ]
  },
  {
   "cell_type": "markdown",
   "id": "da508964",
   "metadata": {},
   "source": [
    "Redraw the graph above to show that you split up the points correctly."
   ]
  },
  {
   "cell_type": "code",
   "execution_count": 26,
   "id": "011a7fae",
   "metadata": {
    "execution": {
     "iopub.execute_input": "2021-06-10T17:51:33.514539Z",
     "iopub.status.busy": "2021-06-10T17:51:33.513644Z",
     "iopub.status.idle": "2021-06-10T17:51:33.518252Z",
     "shell.execute_reply": "2021-06-10T17:51:33.517479Z"
    }
   },
   "outputs": [
    {
     "data": {
      "text/plain": [
       "()"
      ]
     },
     "execution_count": 1,
     "metadata": {},
     "output_type": "execute_result"
    }
   ],
   "source": [
    "#📝📝📝📝 FILLME\n",
    "chart = ()\n",
    "chart"
   ]
  },
  {
   "cell_type": "markdown",
   "id": "ac1d1ab6",
   "metadata": {},
   "source": [
    "# Unit B"
   ]
  },
  {
   "cell_type": "markdown",
   "id": "f1ebce3f",
   "metadata": {},
   "source": [
    "In Unit A we wrote a function to try to split the red and the blue\n",
    "data points."
   ]
  },
  {
   "cell_type": "markdown",
   "id": "2346e9be",
   "metadata": {},
   "source": [
    "Machine learning (ML) allows us to produce that function without having\n",
    "to write it manually."
   ]
  },
  {
   "cell_type": "markdown",
   "id": "41b2af87",
   "metadata": {},
   "source": [
    "The library Scikit-Learn is a standard toolkit for machine learning in Python. "
   ]
  },
  {
   "cell_type": "markdown",
   "id": "eef95c52",
   "metadata": {},
   "source": [
    "![sklearn](https://scikit-learn.org/stable/_static/scikit-learn-logo-small.png)"
   ]
  },
  {
   "cell_type": "markdown",
   "id": "e89f08ad",
   "metadata": {},
   "source": [
    "One warning. The documentation for Scikit-Learn is a bit intimidating. If you look something\n",
    "up it might appear like this. "
   ]
  },
  {
   "cell_type": "markdown",
   "id": "b9ddb296",
   "metadata": {},
   "source": [
    "https://scikit-learn.org/stable/modules/linear_model.html#logistic-regression"
   ]
  },
  {
   "cell_type": "markdown",
   "id": "4cdf650f",
   "metadata": {},
   "source": [
    "Do not be scared though. Most of these options do not matter so much in practice. You can\n",
    "learn the important parts in 30 minutes. "
   ]
  },
  {
   "cell_type": "markdown",
   "id": "c09c5173",
   "metadata": {},
   "source": [
    "Let us first important the library."
   ]
  },
  {
   "cell_type": "code",
   "execution_count": 27,
   "id": "74fc1bdc",
   "metadata": {
    "execution": {
     "iopub.execute_input": "2021-06-10T17:51:33.524942Z",
     "iopub.status.busy": "2021-06-10T17:51:33.524116Z",
     "iopub.status.idle": "2021-06-10T17:51:33.778918Z",
     "shell.execute_reply": "2021-06-10T17:51:33.778321Z"
    },
    "lines_to_next_cell": 2
   },
   "outputs": [],
   "source": [
    "import sklearn.linear_model"
   ]
  },
  {
   "cell_type": "markdown",
   "id": "dbf7989f",
   "metadata": {},
   "source": [
    "We are going to use this formula for all our machine learning. "
   ]
  },
  {
   "cell_type": "markdown",
   "id": "767e8f2a",
   "metadata": {},
   "source": [
    "**Model Fitting**\n",
    "\n",
    "1. Dataframe. Create your training data (This part you are an expert in!)\n",
    "2. Fit. Create a model and give it training features\n",
    "3. Predict. Use the model on test data."
   ]
  },
  {
   "cell_type": "markdown",
   "id": "8381d43c",
   "metadata": {},
   "source": [
    "Step 1. Create out data. (We did this already."
   ]
  },
  {
   "cell_type": "code",
   "execution_count": 28,
   "id": "f1d6dece",
   "metadata": {
    "execution": {
     "iopub.execute_input": "2021-06-10T17:51:33.792793Z",
     "iopub.status.busy": "2021-06-10T17:51:33.791949Z",
     "iopub.status.idle": "2021-06-10T17:51:33.799823Z",
     "shell.execute_reply": "2021-06-10T17:51:33.800521Z"
    }
   },
   "outputs": [
    {
     "data": {
      "text/html": [
       "<div>\n",
       "<style scoped>\n",
       "    .dataframe tbody tr th:only-of-type {\n",
       "        vertical-align: middle;\n",
       "    }\n",
       "\n",
       "    .dataframe tbody tr th {\n",
       "        vertical-align: top;\n",
       "    }\n",
       "\n",
       "    .dataframe thead th {\n",
       "        text-align: right;\n",
       "    }\n",
       "</style>\n",
       "<table border=\"1\" class=\"dataframe\">\n",
       "  <thead>\n",
       "    <tr style=\"text-align: right;\">\n",
       "      <th></th>\n",
       "      <th>class</th>\n",
       "      <th>split</th>\n",
       "      <th>feature1</th>\n",
       "      <th>feature2</th>\n",
       "    </tr>\n",
       "  </thead>\n",
       "  <tbody>\n",
       "    <tr>\n",
       "      <th>0</th>\n",
       "      <td>blue</td>\n",
       "      <td>train</td>\n",
       "      <td>0.368232</td>\n",
       "      <td>0.447353</td>\n",
       "    </tr>\n",
       "    <tr>\n",
       "      <th>1</th>\n",
       "      <td>blue</td>\n",
       "      <td>train</td>\n",
       "      <td>0.574324</td>\n",
       "      <td>0.382358</td>\n",
       "    </tr>\n",
       "    <tr>\n",
       "      <th>2</th>\n",
       "      <td>red</td>\n",
       "      <td>train</td>\n",
       "      <td>0.799023</td>\n",
       "      <td>0.849630</td>\n",
       "    </tr>\n",
       "    <tr>\n",
       "      <th>3</th>\n",
       "      <td>blue</td>\n",
       "      <td>train</td>\n",
       "      <td>0.778323</td>\n",
       "      <td>0.104591</td>\n",
       "    </tr>\n",
       "    <tr>\n",
       "      <th>4</th>\n",
       "      <td>red</td>\n",
       "      <td>train</td>\n",
       "      <td>0.824153</td>\n",
       "      <td>0.989757</td>\n",
       "    </tr>\n",
       "    <tr>\n",
       "      <th>...</th>\n",
       "      <td>...</td>\n",
       "      <td>...</td>\n",
       "      <td>...</td>\n",
       "      <td>...</td>\n",
       "    </tr>\n",
       "    <tr>\n",
       "      <th>95</th>\n",
       "      <td>blue</td>\n",
       "      <td>train</td>\n",
       "      <td>0.325493</td>\n",
       "      <td>0.517772</td>\n",
       "    </tr>\n",
       "    <tr>\n",
       "      <th>96</th>\n",
       "      <td>blue</td>\n",
       "      <td>train</td>\n",
       "      <td>0.328865</td>\n",
       "      <td>0.061240</td>\n",
       "    </tr>\n",
       "    <tr>\n",
       "      <th>97</th>\n",
       "      <td>red</td>\n",
       "      <td>train</td>\n",
       "      <td>0.792355</td>\n",
       "      <td>0.298344</td>\n",
       "    </tr>\n",
       "    <tr>\n",
       "      <th>98</th>\n",
       "      <td>red</td>\n",
       "      <td>train</td>\n",
       "      <td>0.850158</td>\n",
       "      <td>0.840475</td>\n",
       "    </tr>\n",
       "    <tr>\n",
       "      <th>99</th>\n",
       "      <td>red</td>\n",
       "      <td>train</td>\n",
       "      <td>0.385003</td>\n",
       "      <td>0.866745</td>\n",
       "    </tr>\n",
       "  </tbody>\n",
       "</table>\n",
       "<p>100 rows × 4 columns</p>\n",
       "</div>"
      ],
      "text/plain": [
       "   class  split  feature1  feature2\n",
       "0   blue  train  0.368232  0.447353\n",
       "1   blue  train  0.574324  0.382358\n",
       "2    red  train  0.799023  0.849630\n",
       "3   blue  train  0.778323  0.104591\n",
       "4    red  train  0.824153  0.989757\n",
       "..   ...    ...       ...       ...\n",
       "95  blue  train  0.325493  0.517772\n",
       "96  blue  train  0.328865  0.061240\n",
       "97   red  train  0.792355  0.298344\n",
       "98   red  train  0.850158  0.840475\n",
       "99   red  train  0.385003  0.866745\n",
       "\n",
       "[100 rows x 4 columns]"
      ]
     },
     "execution_count": 1,
     "metadata": {},
     "output_type": "execute_result"
    }
   ],
   "source": [
    "df_train"
   ]
  },
  {
   "cell_type": "markdown",
   "id": "714ea63e",
   "metadata": {},
   "source": [
    "Step 2. Create our model and fit it to data. "
   ]
  },
  {
   "cell_type": "markdown",
   "id": "b73af934",
   "metadata": {},
   "source": [
    "First we pick a model type. We will mostly use this one. (Don't worry about the name for now!)"
   ]
  },
  {
   "cell_type": "code",
   "execution_count": 29,
   "id": "a787c8e9",
   "metadata": {
    "execution": {
     "iopub.execute_input": "2021-06-10T17:51:33.804855Z",
     "iopub.status.busy": "2021-06-10T17:51:33.804016Z",
     "iopub.status.idle": "2021-06-10T17:51:33.805744Z",
     "shell.execute_reply": "2021-06-10T17:51:33.806452Z"
    }
   },
   "outputs": [],
   "source": [
    "model = sklearn.linear_model.LogisticRegression()"
   ]
  },
  {
   "cell_type": "markdown",
   "id": "7157df0a",
   "metadata": {},
   "source": [
    "Then we tell it which features to use as input (X) and what it goal\n",
    "is (y). Here we tell it to use `feature1` and `feature2` and to\n",
    "predict whether the point is red."
   ]
  },
  {
   "cell_type": "code",
   "execution_count": 30,
   "id": "c25e7cdb",
   "metadata": {
    "execution": {
     "iopub.execute_input": "2021-06-10T17:51:33.817573Z",
     "iopub.status.busy": "2021-06-10T17:51:33.813318Z",
     "iopub.status.idle": "2021-06-10T17:51:33.822125Z",
     "shell.execute_reply": "2021-06-10T17:51:33.821272Z"
    }
   },
   "outputs": [
    {
     "data": {
      "text/plain": [
       "LogisticRegression()"
      ]
     },
     "execution_count": 1,
     "metadata": {},
     "output_type": "execute_result"
    }
   ],
   "source": [
    "model.fit(X=df_train[[\"feature1\", \"feature2\"]],\n",
    "          y=df_train[\"class\"] == \"red\")"
   ]
  },
  {
   "cell_type": "markdown",
   "id": "f424672a",
   "metadata": {},
   "source": [
    "This is similar to Altair chart. Just tell it which columns to use.  "
   ]
  },
  {
   "cell_type": "markdown",
   "id": "180f0044",
   "metadata": {},
   "source": [
    "Step 3. Predict. Once we have a model we can use it to predict the\n",
    "output classes of our model. This replaces the part where we did it\n",
    "manually."
   ]
  },
  {
   "cell_type": "code",
   "execution_count": 31,
   "id": "3905d3ff",
   "metadata": {
    "execution": {
     "iopub.execute_input": "2021-06-10T17:51:33.829712Z",
     "iopub.status.busy": "2021-06-10T17:51:33.828872Z",
     "iopub.status.idle": "2021-06-10T17:51:33.831734Z",
     "shell.execute_reply": "2021-06-10T17:51:33.832421Z"
    }
   },
   "outputs": [
    {
     "name": "stderr",
     "output_type": "stream",
     "text": [
      "<ipython-input-1-2352f7bdf3c3>:1: SettingWithCopyWarning: \n",
      "A value is trying to be set on a copy of a slice from a DataFrame.\n",
      "Try using .loc[row_indexer,col_indexer] = value instead\n",
      "\n",
      "See the caveats in the documentation: https://pandas.pydata.org/pandas-docs/stable/user_guide/indexing.html#returning-a-view-versus-a-copy\n",
      "  df_test[\"predict\"] = model.predict(df_test[[\"feature1\", \"feature2\"]])\n"
     ]
    }
   ],
   "source": [
    "df_test[\"predict\"] = model.predict(df_test[[\"feature1\", \"feature2\"]])"
   ]
  },
  {
   "cell_type": "markdown",
   "id": "74a8d85e",
   "metadata": {},
   "source": [
    "We can see the graph that came out."
   ]
  },
  {
   "cell_type": "code",
   "execution_count": 32,
   "id": "9de7759e",
   "metadata": {
    "execution": {
     "iopub.execute_input": "2021-06-10T17:51:33.863145Z",
     "iopub.status.busy": "2021-06-10T17:51:33.862249Z",
     "iopub.status.idle": "2021-06-10T17:51:33.865871Z",
     "shell.execute_reply": "2021-06-10T17:51:33.866572Z"
    },
    "lines_to_next_cell": 2
   },
   "outputs": [
    {
     "data": {
      "text/html": [
       "\n",
       "<div id=\"altair-viz-a043eabd157343e5b6bf2245e2d0e473\"></div>\n",
       "<script type=\"text/javascript\">\n",
       "  (function(spec, embedOpt){\n",
       "    let outputDiv = document.currentScript.previousElementSibling;\n",
       "    if (outputDiv.id !== \"altair-viz-a043eabd157343e5b6bf2245e2d0e473\") {\n",
       "      outputDiv = document.getElementById(\"altair-viz-a043eabd157343e5b6bf2245e2d0e473\");\n",
       "    }\n",
       "    const paths = {\n",
       "      \"vega\": \"https://cdn.jsdelivr.net/npm//vega@5?noext\",\n",
       "      \"vega-lib\": \"https://cdn.jsdelivr.net/npm//vega-lib?noext\",\n",
       "      \"vega-lite\": \"https://cdn.jsdelivr.net/npm//vega-lite@4.8.1?noext\",\n",
       "      \"vega-embed\": \"https://cdn.jsdelivr.net/npm//vega-embed@6?noext\",\n",
       "    };\n",
       "\n",
       "    function loadScript(lib) {\n",
       "      return new Promise(function(resolve, reject) {\n",
       "        var s = document.createElement('script');\n",
       "        s.src = paths[lib];\n",
       "        s.async = true;\n",
       "        s.onload = () => resolve(paths[lib]);\n",
       "        s.onerror = () => reject(`Error loading script: ${paths[lib]}`);\n",
       "        document.getElementsByTagName(\"head\")[0].appendChild(s);\n",
       "      });\n",
       "    }\n",
       "\n",
       "    function showError(err) {\n",
       "      outputDiv.innerHTML = `<div class=\"error\" style=\"color:red;\">${err}</div>`;\n",
       "      throw err;\n",
       "    }\n",
       "\n",
       "    function displayChart(vegaEmbed) {\n",
       "      vegaEmbed(outputDiv, spec, embedOpt)\n",
       "        .catch(err => showError(`Javascript Error: ${err.message}<br>This usually means there's a typo in your chart specification. See the javascript console for the full traceback.`));\n",
       "    }\n",
       "\n",
       "    if(typeof define === \"function\" && define.amd) {\n",
       "      requirejs.config({paths});\n",
       "      require([\"vega-embed\"], displayChart, err => showError(`Error loading script: ${err.message}`));\n",
       "    } else if (typeof vegaEmbed === \"function\") {\n",
       "      displayChart(vegaEmbed);\n",
       "    } else {\n",
       "      loadScript(\"vega\")\n",
       "        .then(() => loadScript(\"vega-lite\"))\n",
       "        .then(() => loadScript(\"vega-embed\"))\n",
       "        .catch(showError)\n",
       "        .then(() => displayChart(vegaEmbed));\n",
       "    }\n",
       "  })({\"config\": {\"view\": {\"continuousWidth\": 400, \"continuousHeight\": 300}}, \"data\": {\"name\": \"data-72ee4f57b4903a7fcad1bf46319d0ca2\"}, \"mark\": \"point\", \"encoding\": {\"color\": {\"type\": \"nominal\", \"field\": \"class\"}, \"fill\": {\"type\": \"nominal\", \"field\": \"predict\"}, \"tooltip\": [{\"type\": \"nominal\", \"field\": \"correct\"}], \"x\": {\"type\": \"quantitative\", \"field\": \"feature1\"}, \"y\": {\"type\": \"quantitative\", \"field\": \"feature2\"}}, \"$schema\": \"https://vega.github.io/schema/vega-lite/v4.8.1.json\", \"datasets\": {\"data-72ee4f57b4903a7fcad1bf46319d0ca2\": [{\"class\": \"blue\", \"split\": \"test\", \"feature1\": 0.7188037142132304, \"feature2\": 0.0759534141050307, \"predict\": false, \"correct\": false}, {\"class\": \"red\", \"split\": \"test\", \"feature1\": 0.4410719641272954, \"feature2\": 0.8264497608388477, \"predict\": true, \"correct\": false}, {\"class\": \"red\", \"split\": \"test\", \"feature1\": 0.8203498955592614, \"feature2\": 0.2745012217165402, \"predict\": true, \"correct\": true}, {\"class\": \"red\", \"split\": \"test\", \"feature1\": 0.6208154529515425, \"feature2\": 0.6437489789508288, \"predict\": true, \"correct\": true}, {\"class\": \"blue\", \"split\": \"test\", \"feature1\": 0.3633533583504106, \"feature2\": 0.5969510810894804, \"predict\": true, \"correct\": true}, {\"class\": \"blue\", \"split\": \"test\", \"feature1\": 0.3254633773588617, \"feature2\": 0.2169247609918181, \"predict\": false, \"correct\": true}, {\"class\": \"red\", \"split\": \"test\", \"feature1\": 0.4650973993685735, \"feature2\": 0.6608461938444957, \"predict\": true, \"correct\": false}, {\"class\": \"blue\", \"split\": \"test\", \"feature1\": 0.1945408802706212, \"feature2\": 0.6874775389960156, \"predict\": false, \"correct\": true}, {\"class\": \"blue\", \"split\": \"test\", \"feature1\": 0.2508953046475385, \"feature2\": 0.6105747473357103, \"predict\": false, \"correct\": true}, {\"class\": \"red\", \"split\": \"test\", \"feature1\": 0.6214081773756726, \"feature2\": 0.5672072497445781, \"predict\": true, \"correct\": true}, {\"class\": \"blue\", \"split\": \"test\", \"feature1\": 0.1773232463589779, \"feature2\": 0.022960958778242, \"predict\": false, \"correct\": true}, {\"class\": \"red\", \"split\": \"test\", \"feature1\": 0.749020708824783, \"feature2\": 0.5684306591378825, \"predict\": true, \"correct\": true}, {\"class\": \"blue\", \"split\": \"test\", \"feature1\": 0.3109206448413709, \"feature2\": 0.2660224480911136, \"predict\": false, \"correct\": true}, {\"class\": \"blue\", \"split\": \"test\", \"feature1\": 0.4478735442499568, \"feature2\": 0.2321257030460524, \"predict\": false, \"correct\": true}, {\"class\": \"blue\", \"split\": \"test\", \"feature1\": 0.2965789174933327, \"feature2\": 0.0543676290921173, \"predict\": false, \"correct\": true}, {\"class\": \"red\", \"split\": \"test\", \"feature1\": 0.8566076724516931, \"feature2\": 0.347288092896215, \"predict\": true, \"correct\": true}, {\"class\": \"red\", \"split\": \"test\", \"feature1\": 0.2198207649198946, \"feature2\": 0.8785748657489609, \"predict\": true, \"correct\": false}, {\"class\": \"red\", \"split\": \"test\", \"feature1\": 0.624578227665143, \"feature2\": 0.4128574928739452, \"predict\": true, \"correct\": true}, {\"class\": \"red\", \"split\": \"test\", \"feature1\": 0.6827821686591201, \"feature2\": 0.7774043129352473, \"predict\": true, \"correct\": true}, {\"class\": \"blue\", \"split\": \"test\", \"feature1\": 0.6251903986620275, \"feature2\": 0.0528911093914973, \"predict\": false, \"correct\": false}, {\"class\": \"blue\", \"split\": \"test\", \"feature1\": 0.8558765251663112, \"feature2\": 0.094495146299682, \"predict\": false, \"correct\": false}, {\"class\": \"blue\", \"split\": \"test\", \"feature1\": 0.0549643053570856, \"feature2\": 0.1378950628001854, \"predict\": false, \"correct\": true}, {\"class\": \"red\", \"split\": \"test\", \"feature1\": 0.5669223666346715, \"feature2\": 0.6606277434787936, \"predict\": true, \"correct\": true}, {\"class\": \"red\", \"split\": \"test\", \"feature1\": 0.7704723543541271, \"feature2\": 0.6425573000379176, \"predict\": true, \"correct\": true}, {\"class\": \"blue\", \"split\": \"test\", \"feature1\": 0.112090941587809, \"feature2\": 0.3120231267907325, \"predict\": false, \"correct\": true}, {\"class\": \"blue\", \"split\": \"test\", \"feature1\": 0.1381221623353979, \"feature2\": 0.3673484813404186, \"predict\": false, \"correct\": true}, {\"class\": \"red\", \"split\": \"test\", \"feature1\": 0.9445536534440476, \"feature2\": 0.1105512587975475, \"predict\": true, \"correct\": true}, {\"class\": \"blue\", \"split\": \"test\", \"feature1\": 0.6096647707220016, \"feature2\": 0.0026662309127444, \"predict\": false, \"correct\": false}, {\"class\": \"blue\", \"split\": \"test\", \"feature1\": 0.4257416424819364, \"feature2\": 0.4255771223512317, \"predict\": false, \"correct\": true}, {\"class\": \"red\", \"split\": \"test\", \"feature1\": 0.4612632258039707, \"feature2\": 0.5679639104442207, \"predict\": true, \"correct\": false}, {\"class\": \"blue\", \"split\": \"test\", \"feature1\": 0.4191181613643799, \"feature2\": 0.4268364279186595, \"predict\": false, \"correct\": true}, {\"class\": \"blue\", \"split\": \"test\", \"feature1\": 0.237319006269547, \"feature2\": 0.0321651535678174, \"predict\": false, \"correct\": true}, {\"class\": \"blue\", \"split\": \"test\", \"feature1\": 0.0952265934993786, \"feature2\": 0.3992563716299768, \"predict\": false, \"correct\": true}, {\"class\": \"red\", \"split\": \"test\", \"feature1\": 0.2742173312523791, \"feature2\": 0.8487506499995645, \"predict\": true, \"correct\": false}, {\"class\": \"blue\", \"split\": \"test\", \"feature1\": 0.5446644754619803, \"feature2\": 0.4126328331471615, \"predict\": true, \"correct\": false}, {\"class\": \"red\", \"split\": \"test\", \"feature1\": 0.3234701615194417, \"feature2\": 0.8264073653390224, \"predict\": true, \"correct\": false}, {\"class\": \"red\", \"split\": \"test\", \"feature1\": 0.9040435125131014, \"feature2\": 0.6719107607854411, \"predict\": true, \"correct\": true}, {\"class\": \"blue\", \"split\": \"test\", \"feature1\": 0.2930698802504675, \"feature2\": 0.4887426912615576, \"predict\": false, \"correct\": true}, {\"class\": \"blue\", \"split\": \"test\", \"feature1\": 0.2474153968620439, \"feature2\": 0.2701365476428745, \"predict\": false, \"correct\": true}, {\"class\": \"red\", \"split\": \"test\", \"feature1\": 0.8257891078877789, \"feature2\": 0.2699104143928801, \"predict\": true, \"correct\": true}, {\"class\": \"blue\", \"split\": \"test\", \"feature1\": 0.0177381974384149, \"feature2\": 0.6217503105241703, \"predict\": false, \"correct\": true}, {\"class\": \"blue\", \"split\": \"test\", \"feature1\": 0.1140503483874684, \"feature2\": 0.3082462555465339, \"predict\": false, \"correct\": true}, {\"class\": \"blue\", \"split\": \"test\", \"feature1\": 0.3030338638822565, \"feature2\": 0.4171045726213443, \"predict\": false, \"correct\": true}, {\"class\": \"blue\", \"split\": \"test\", \"feature1\": 0.1647557737098539, \"feature2\": 0.5295357845631083, \"predict\": false, \"correct\": true}, {\"class\": \"blue\", \"split\": \"test\", \"feature1\": 0.4040221015195885, \"feature2\": 0.4498786797283854, \"predict\": false, \"correct\": true}, {\"class\": \"blue\", \"split\": \"test\", \"feature1\": 0.2595347006249396, \"feature2\": 0.1225573249918864, \"predict\": false, \"correct\": true}, {\"class\": \"red\", \"split\": \"test\", \"feature1\": 0.9378197337823356, \"feature2\": 0.2496180155271021, \"predict\": true, \"correct\": true}, {\"class\": \"blue\", \"split\": \"test\", \"feature1\": 0.1489867786892954, \"feature2\": 0.7008905334045862, \"predict\": false, \"correct\": true}, {\"class\": \"blue\", \"split\": \"test\", \"feature1\": 0.5319859082551933, \"feature2\": 0.439513867555201, \"predict\": true, \"correct\": false}, {\"class\": \"red\", \"split\": \"test\", \"feature1\": 0.5677617809501283, \"feature2\": 0.9589532380123298, \"predict\": true, \"correct\": true}]}}, {\"mode\": \"vega-lite\"});\n",
       "</script>"
      ],
      "text/plain": [
       "alt.Chart(...)"
      ]
     },
     "execution_count": 1,
     "metadata": {},
     "output_type": "execute_result"
    }
   ],
   "source": [
    "chart = (alt.Chart(df_test)\n",
    "    .mark_point()\n",
    "    .encode(\n",
    "        x = \"feature1\",\n",
    "        y = \"feature2\",\n",
    "        color = \"class\",\n",
    "        fill = \"predict\",\n",
    "        tooltip = [\"correct\"]\n",
    "    ))\n",
    "chart"
   ]
  },
  {
   "cell_type": "markdown",
   "id": "814b92fe",
   "metadata": {},
   "source": [
    "That's it! You have done machine learning."
   ]
  },
  {
   "cell_type": "markdown",
   "id": "4b0d3884",
   "metadata": {},
   "source": [
    "## Details"
   ]
  },
  {
   "cell_type": "markdown",
   "id": "0b32db78",
   "metadata": {},
   "source": [
    "What happened? How did the system know whether the output points\n",
    "would be red or blue? "
   ]
  },
  {
   "cell_type": "markdown",
   "id": "064b82df",
   "metadata": {},
   "source": [
    "The key idea is that behind the scenes the model uses the training data\n",
    "to learn a class for every possible point."
   ]
  },
  {
   "cell_type": "markdown",
   "id": "f8fdae38",
   "metadata": {},
   "source": [
    "For instance, if we make up a feature value."
   ]
  },
  {
   "cell_type": "code",
   "execution_count": 33,
   "id": "7213084c",
   "metadata": {
    "execution": {
     "iopub.execute_input": "2021-06-10T17:51:33.870341Z",
     "iopub.status.busy": "2021-06-10T17:51:33.869519Z",
     "iopub.status.idle": "2021-06-10T17:51:33.871972Z",
     "shell.execute_reply": "2021-06-10T17:51:33.871284Z"
    }
   },
   "outputs": [],
   "source": [
    "feature1 = 0.2\n",
    "feature2 = 0.5"
   ]
  },
  {
   "cell_type": "markdown",
   "id": "a2876ee9",
   "metadata": {},
   "source": [
    "Our model will produce an output prediction."
   ]
  },
  {
   "cell_type": "code",
   "execution_count": 34,
   "id": "c3873216",
   "metadata": {
    "execution": {
     "iopub.execute_input": "2021-06-10T17:51:33.876067Z",
     "iopub.status.busy": "2021-06-10T17:51:33.875225Z",
     "iopub.status.idle": "2021-06-10T17:51:33.877895Z",
     "shell.execute_reply": "2021-06-10T17:51:33.878493Z"
    },
    "lines_to_next_cell": 2
   },
   "outputs": [
    {
     "data": {
      "text/plain": [
       "array([False])"
      ]
     },
     "execution_count": 1,
     "metadata": {},
     "output_type": "execute_result"
    }
   ],
   "source": [
    "predict = model.predict([[feature1, feature2]])\n",
    "predict"
   ]
  },
  {
   "cell_type": "markdown",
   "id": "e19f0777",
   "metadata": {
    "lines_to_next_cell": 2
   },
   "source": [
    "In fact, we can even see what the model would do for any point."
   ]
  },
  {
   "cell_type": "markdown",
   "id": "486139ac",
   "metadata": {
    "lines_to_next_cell": 2
   },
   "source": [
    "This dataframe has most of the possible points."
   ]
  },
  {
   "cell_type": "code",
   "execution_count": 35,
   "id": "9cc0822f",
   "metadata": {
    "execution": {
     "iopub.execute_input": "2021-06-10T17:51:33.882942Z",
     "iopub.status.busy": "2021-06-10T17:51:33.882175Z",
     "iopub.status.idle": "2021-06-10T17:51:34.011220Z",
     "shell.execute_reply": "2021-06-10T17:51:34.011942Z"
    },
    "lines_to_next_cell": 2
   },
   "outputs": [
    {
     "data": {
      "text/html": [
       "\n",
       "<div id=\"altair-viz-521ae9cfe1a24ba09b95a96cc163f0aa\"></div>\n",
       "<script type=\"text/javascript\">\n",
       "  (function(spec, embedOpt){\n",
       "    let outputDiv = document.currentScript.previousElementSibling;\n",
       "    if (outputDiv.id !== \"altair-viz-521ae9cfe1a24ba09b95a96cc163f0aa\") {\n",
       "      outputDiv = document.getElementById(\"altair-viz-521ae9cfe1a24ba09b95a96cc163f0aa\");\n",
       "    }\n",
       "    const paths = {\n",
       "      \"vega\": \"https://cdn.jsdelivr.net/npm//vega@5?noext\",\n",
       "      \"vega-lib\": \"https://cdn.jsdelivr.net/npm//vega-lib?noext\",\n",
       "      \"vega-lite\": \"https://cdn.jsdelivr.net/npm//vega-lite@4.8.1?noext\",\n",
       "      \"vega-embed\": \"https://cdn.jsdelivr.net/npm//vega-embed@6?noext\",\n",
       "    };\n",
       "\n",
       "    function loadScript(lib) {\n",
       "      return new Promise(function(resolve, reject) {\n",
       "        var s = document.createElement('script');\n",
       "        s.src = paths[lib];\n",
       "        s.async = true;\n",
       "        s.onload = () => resolve(paths[lib]);\n",
       "        s.onerror = () => reject(`Error loading script: ${paths[lib]}`);\n",
       "        document.getElementsByTagName(\"head\")[0].appendChild(s);\n",
       "      });\n",
       "    }\n",
       "\n",
       "    function showError(err) {\n",
       "      outputDiv.innerHTML = `<div class=\"error\" style=\"color:red;\">${err}</div>`;\n",
       "      throw err;\n",
       "    }\n",
       "\n",
       "    function displayChart(vegaEmbed) {\n",
       "      vegaEmbed(outputDiv, spec, embedOpt)\n",
       "        .catch(err => showError(`Javascript Error: ${err.message}<br>This usually means there's a typo in your chart specification. See the javascript console for the full traceback.`));\n",
       "    }\n",
       "\n",
       "    if(typeof define === \"function\" && define.amd) {\n",
       "      requirejs.config({paths});\n",
       "      require([\"vega-embed\"], displayChart, err => showError(`Error loading script: ${err.message}`));\n",
       "    } else if (typeof vegaEmbed === \"function\") {\n",
       "      displayChart(vegaEmbed);\n",
       "    } else {\n",
       "      loadScript(\"vega\")\n",
       "        .then(() => loadScript(\"vega-lite\"))\n",
       "        .then(() => loadScript(\"vega-embed\"))\n",
       "        .catch(showError)\n",
       "        .then(() => displayChart(vegaEmbed));\n",
       "    }\n",
       "  })({\"config\": {\"view\": {\"continuousWidth\": 400, \"continuousHeight\": 300}}, \"data\": {\"name\": \"data-0cdd9b7478e54209f7a7fed22fe2529a\"}, \"mark\": \"point\", \"encoding\": {\"x\": {\"type\": \"quantitative\", \"field\": \"feature1\"}, \"y\": {\"type\": \"quantitative\", \"field\": \"feature2\"}}, \"$schema\": \"https://vega.github.io/schema/vega-lite/v4.8.1.json\", \"datasets\": {\"data-0cdd9b7478e54209f7a7fed22fe2529a\": [{\"feature1\": 0.0, \"feature2\": 0.0}, {\"feature1\": 0.0, \"feature2\": 0.02}, {\"feature1\": 0.0, \"feature2\": 0.04}, {\"feature1\": 0.0, \"feature2\": 0.06}, {\"feature1\": 0.0, \"feature2\": 0.08}, {\"feature1\": 0.0, \"feature2\": 0.1}, {\"feature1\": 0.0, \"feature2\": 0.12}, {\"feature1\": 0.0, \"feature2\": 0.14}, {\"feature1\": 0.0, \"feature2\": 0.16}, {\"feature1\": 0.0, \"feature2\": 0.18}, {\"feature1\": 0.0, \"feature2\": 0.2}, {\"feature1\": 0.0, \"feature2\": 0.22}, {\"feature1\": 0.0, \"feature2\": 0.24}, {\"feature1\": 0.0, \"feature2\": 0.26}, {\"feature1\": 0.0, \"feature2\": 0.28}, {\"feature1\": 0.0, \"feature2\": 0.3}, {\"feature1\": 0.0, \"feature2\": 0.32}, {\"feature1\": 0.0, \"feature2\": 0.34}, {\"feature1\": 0.0, \"feature2\": 0.36}, {\"feature1\": 0.0, \"feature2\": 0.38}, {\"feature1\": 0.0, \"feature2\": 0.4}, {\"feature1\": 0.0, \"feature2\": 0.42}, {\"feature1\": 0.0, \"feature2\": 0.44}, {\"feature1\": 0.0, \"feature2\": 0.46}, {\"feature1\": 0.0, \"feature2\": 0.48}, {\"feature1\": 0.0, \"feature2\": 0.5}, {\"feature1\": 0.0, \"feature2\": 0.52}, {\"feature1\": 0.0, \"feature2\": 0.54}, {\"feature1\": 0.0, \"feature2\": 0.56}, {\"feature1\": 0.0, \"feature2\": 0.58}, {\"feature1\": 0.0, \"feature2\": 0.6}, {\"feature1\": 0.0, \"feature2\": 0.62}, {\"feature1\": 0.0, \"feature2\": 0.64}, {\"feature1\": 0.0, \"feature2\": 0.66}, {\"feature1\": 0.0, \"feature2\": 0.68}, {\"feature1\": 0.0, \"feature2\": 0.7}, {\"feature1\": 0.0, \"feature2\": 0.72}, {\"feature1\": 0.0, \"feature2\": 0.74}, {\"feature1\": 0.0, \"feature2\": 0.76}, {\"feature1\": 0.0, \"feature2\": 0.78}, {\"feature1\": 0.0, \"feature2\": 0.8}, {\"feature1\": 0.0, \"feature2\": 0.82}, {\"feature1\": 0.0, \"feature2\": 0.84}, {\"feature1\": 0.0, \"feature2\": 0.86}, {\"feature1\": 0.0, \"feature2\": 0.88}, {\"feature1\": 0.0, \"feature2\": 0.9}, {\"feature1\": 0.0, \"feature2\": 0.92}, {\"feature1\": 0.0, \"feature2\": 0.94}, {\"feature1\": 0.0, \"feature2\": 0.96}, {\"feature1\": 0.0, \"feature2\": 0.98}, {\"feature1\": 0.02, \"feature2\": 0.0}, {\"feature1\": 0.02, \"feature2\": 0.02}, {\"feature1\": 0.02, \"feature2\": 0.04}, {\"feature1\": 0.02, \"feature2\": 0.06}, {\"feature1\": 0.02, \"feature2\": 0.08}, {\"feature1\": 0.02, \"feature2\": 0.1}, {\"feature1\": 0.02, \"feature2\": 0.12}, {\"feature1\": 0.02, \"feature2\": 0.14}, {\"feature1\": 0.02, \"feature2\": 0.16}, {\"feature1\": 0.02, \"feature2\": 0.18}, {\"feature1\": 0.02, \"feature2\": 0.2}, {\"feature1\": 0.02, \"feature2\": 0.22}, {\"feature1\": 0.02, \"feature2\": 0.24}, {\"feature1\": 0.02, \"feature2\": 0.26}, {\"feature1\": 0.02, \"feature2\": 0.28}, {\"feature1\": 0.02, \"feature2\": 0.3}, {\"feature1\": 0.02, \"feature2\": 0.32}, {\"feature1\": 0.02, \"feature2\": 0.34}, {\"feature1\": 0.02, \"feature2\": 0.36}, {\"feature1\": 0.02, \"feature2\": 0.38}, {\"feature1\": 0.02, \"feature2\": 0.4}, {\"feature1\": 0.02, \"feature2\": 0.42}, {\"feature1\": 0.02, \"feature2\": 0.44}, {\"feature1\": 0.02, \"feature2\": 0.46}, {\"feature1\": 0.02, \"feature2\": 0.48}, {\"feature1\": 0.02, \"feature2\": 0.5}, {\"feature1\": 0.02, \"feature2\": 0.52}, {\"feature1\": 0.02, \"feature2\": 0.54}, {\"feature1\": 0.02, \"feature2\": 0.56}, {\"feature1\": 0.02, \"feature2\": 0.58}, {\"feature1\": 0.02, \"feature2\": 0.6}, {\"feature1\": 0.02, \"feature2\": 0.62}, {\"feature1\": 0.02, \"feature2\": 0.64}, {\"feature1\": 0.02, \"feature2\": 0.66}, {\"feature1\": 0.02, \"feature2\": 0.68}, {\"feature1\": 0.02, \"feature2\": 0.7}, {\"feature1\": 0.02, \"feature2\": 0.72}, {\"feature1\": 0.02, \"feature2\": 0.74}, {\"feature1\": 0.02, \"feature2\": 0.76}, {\"feature1\": 0.02, \"feature2\": 0.78}, {\"feature1\": 0.02, \"feature2\": 0.8}, {\"feature1\": 0.02, \"feature2\": 0.82}, {\"feature1\": 0.02, \"feature2\": 0.84}, {\"feature1\": 0.02, \"feature2\": 0.86}, {\"feature1\": 0.02, \"feature2\": 0.88}, {\"feature1\": 0.02, \"feature2\": 0.9}, {\"feature1\": 0.02, \"feature2\": 0.92}, {\"feature1\": 0.02, \"feature2\": 0.94}, {\"feature1\": 0.02, \"feature2\": 0.96}, {\"feature1\": 0.02, \"feature2\": 0.98}, {\"feature1\": 0.04, \"feature2\": 0.0}, {\"feature1\": 0.04, \"feature2\": 0.02}, {\"feature1\": 0.04, \"feature2\": 0.04}, {\"feature1\": 0.04, \"feature2\": 0.06}, {\"feature1\": 0.04, \"feature2\": 0.08}, {\"feature1\": 0.04, \"feature2\": 0.1}, {\"feature1\": 0.04, \"feature2\": 0.12}, {\"feature1\": 0.04, \"feature2\": 0.14}, {\"feature1\": 0.04, \"feature2\": 0.16}, {\"feature1\": 0.04, \"feature2\": 0.18}, {\"feature1\": 0.04, \"feature2\": 0.2}, {\"feature1\": 0.04, \"feature2\": 0.22}, {\"feature1\": 0.04, \"feature2\": 0.24}, {\"feature1\": 0.04, \"feature2\": 0.26}, {\"feature1\": 0.04, \"feature2\": 0.28}, {\"feature1\": 0.04, \"feature2\": 0.3}, {\"feature1\": 0.04, \"feature2\": 0.32}, {\"feature1\": 0.04, \"feature2\": 0.34}, {\"feature1\": 0.04, \"feature2\": 0.36}, {\"feature1\": 0.04, \"feature2\": 0.38}, {\"feature1\": 0.04, \"feature2\": 0.4}, {\"feature1\": 0.04, \"feature2\": 0.42}, {\"feature1\": 0.04, \"feature2\": 0.44}, {\"feature1\": 0.04, \"feature2\": 0.46}, {\"feature1\": 0.04, \"feature2\": 0.48}, {\"feature1\": 0.04, \"feature2\": 0.5}, {\"feature1\": 0.04, \"feature2\": 0.52}, {\"feature1\": 0.04, \"feature2\": 0.54}, {\"feature1\": 0.04, \"feature2\": 0.56}, {\"feature1\": 0.04, \"feature2\": 0.58}, {\"feature1\": 0.04, \"feature2\": 0.6}, {\"feature1\": 0.04, \"feature2\": 0.62}, {\"feature1\": 0.04, \"feature2\": 0.64}, {\"feature1\": 0.04, \"feature2\": 0.66}, {\"feature1\": 0.04, \"feature2\": 0.68}, {\"feature1\": 0.04, \"feature2\": 0.7}, {\"feature1\": 0.04, \"feature2\": 0.72}, {\"feature1\": 0.04, \"feature2\": 0.74}, {\"feature1\": 0.04, \"feature2\": 0.76}, {\"feature1\": 0.04, \"feature2\": 0.78}, {\"feature1\": 0.04, \"feature2\": 0.8}, {\"feature1\": 0.04, \"feature2\": 0.82}, {\"feature1\": 0.04, \"feature2\": 0.84}, {\"feature1\": 0.04, \"feature2\": 0.86}, {\"feature1\": 0.04, \"feature2\": 0.88}, {\"feature1\": 0.04, \"feature2\": 0.9}, {\"feature1\": 0.04, \"feature2\": 0.92}, {\"feature1\": 0.04, \"feature2\": 0.94}, {\"feature1\": 0.04, \"feature2\": 0.96}, {\"feature1\": 0.04, \"feature2\": 0.98}, {\"feature1\": 0.06, \"feature2\": 0.0}, {\"feature1\": 0.06, \"feature2\": 0.02}, {\"feature1\": 0.06, \"feature2\": 0.04}, {\"feature1\": 0.06, \"feature2\": 0.06}, {\"feature1\": 0.06, \"feature2\": 0.08}, {\"feature1\": 0.06, \"feature2\": 0.1}, {\"feature1\": 0.06, \"feature2\": 0.12}, {\"feature1\": 0.06, \"feature2\": 0.14}, {\"feature1\": 0.06, \"feature2\": 0.16}, {\"feature1\": 0.06, \"feature2\": 0.18}, {\"feature1\": 0.06, \"feature2\": 0.2}, {\"feature1\": 0.06, \"feature2\": 0.22}, {\"feature1\": 0.06, \"feature2\": 0.24}, {\"feature1\": 0.06, \"feature2\": 0.26}, {\"feature1\": 0.06, \"feature2\": 0.28}, {\"feature1\": 0.06, \"feature2\": 0.3}, {\"feature1\": 0.06, \"feature2\": 0.32}, {\"feature1\": 0.06, \"feature2\": 0.34}, {\"feature1\": 0.06, \"feature2\": 0.36}, {\"feature1\": 0.06, \"feature2\": 0.38}, {\"feature1\": 0.06, \"feature2\": 0.4}, {\"feature1\": 0.06, \"feature2\": 0.42}, {\"feature1\": 0.06, \"feature2\": 0.44}, {\"feature1\": 0.06, \"feature2\": 0.46}, {\"feature1\": 0.06, \"feature2\": 0.48}, {\"feature1\": 0.06, \"feature2\": 0.5}, {\"feature1\": 0.06, \"feature2\": 0.52}, {\"feature1\": 0.06, \"feature2\": 0.54}, {\"feature1\": 0.06, \"feature2\": 0.56}, {\"feature1\": 0.06, \"feature2\": 0.58}, {\"feature1\": 0.06, \"feature2\": 0.6}, {\"feature1\": 0.06, \"feature2\": 0.62}, {\"feature1\": 0.06, \"feature2\": 0.64}, {\"feature1\": 0.06, \"feature2\": 0.66}, {\"feature1\": 0.06, \"feature2\": 0.68}, {\"feature1\": 0.06, \"feature2\": 0.7}, {\"feature1\": 0.06, \"feature2\": 0.72}, {\"feature1\": 0.06, \"feature2\": 0.74}, {\"feature1\": 0.06, \"feature2\": 0.76}, {\"feature1\": 0.06, \"feature2\": 0.78}, {\"feature1\": 0.06, \"feature2\": 0.8}, {\"feature1\": 0.06, \"feature2\": 0.82}, {\"feature1\": 0.06, \"feature2\": 0.84}, {\"feature1\": 0.06, \"feature2\": 0.86}, {\"feature1\": 0.06, \"feature2\": 0.88}, {\"feature1\": 0.06, \"feature2\": 0.9}, {\"feature1\": 0.06, \"feature2\": 0.92}, {\"feature1\": 0.06, \"feature2\": 0.94}, {\"feature1\": 0.06, \"feature2\": 0.96}, {\"feature1\": 0.06, \"feature2\": 0.98}, {\"feature1\": 0.08, \"feature2\": 0.0}, {\"feature1\": 0.08, \"feature2\": 0.02}, {\"feature1\": 0.08, \"feature2\": 0.04}, {\"feature1\": 0.08, \"feature2\": 0.06}, {\"feature1\": 0.08, \"feature2\": 0.08}, {\"feature1\": 0.08, \"feature2\": 0.1}, {\"feature1\": 0.08, \"feature2\": 0.12}, {\"feature1\": 0.08, \"feature2\": 0.14}, {\"feature1\": 0.08, \"feature2\": 0.16}, {\"feature1\": 0.08, \"feature2\": 0.18}, {\"feature1\": 0.08, \"feature2\": 0.2}, {\"feature1\": 0.08, \"feature2\": 0.22}, {\"feature1\": 0.08, \"feature2\": 0.24}, {\"feature1\": 0.08, \"feature2\": 0.26}, {\"feature1\": 0.08, \"feature2\": 0.28}, {\"feature1\": 0.08, \"feature2\": 0.3}, {\"feature1\": 0.08, \"feature2\": 0.32}, {\"feature1\": 0.08, \"feature2\": 0.34}, {\"feature1\": 0.08, \"feature2\": 0.36}, {\"feature1\": 0.08, \"feature2\": 0.38}, {\"feature1\": 0.08, \"feature2\": 0.4}, {\"feature1\": 0.08, \"feature2\": 0.42}, {\"feature1\": 0.08, \"feature2\": 0.44}, {\"feature1\": 0.08, \"feature2\": 0.46}, {\"feature1\": 0.08, \"feature2\": 0.48}, {\"feature1\": 0.08, \"feature2\": 0.5}, {\"feature1\": 0.08, \"feature2\": 0.52}, {\"feature1\": 0.08, \"feature2\": 0.54}, {\"feature1\": 0.08, \"feature2\": 0.56}, {\"feature1\": 0.08, \"feature2\": 0.58}, {\"feature1\": 0.08, \"feature2\": 0.6}, {\"feature1\": 0.08, \"feature2\": 0.62}, {\"feature1\": 0.08, \"feature2\": 0.64}, {\"feature1\": 0.08, \"feature2\": 0.66}, {\"feature1\": 0.08, \"feature2\": 0.68}, {\"feature1\": 0.08, \"feature2\": 0.7}, {\"feature1\": 0.08, \"feature2\": 0.72}, {\"feature1\": 0.08, \"feature2\": 0.74}, {\"feature1\": 0.08, \"feature2\": 0.76}, {\"feature1\": 0.08, \"feature2\": 0.78}, {\"feature1\": 0.08, \"feature2\": 0.8}, {\"feature1\": 0.08, \"feature2\": 0.82}, {\"feature1\": 0.08, \"feature2\": 0.84}, {\"feature1\": 0.08, \"feature2\": 0.86}, {\"feature1\": 0.08, \"feature2\": 0.88}, {\"feature1\": 0.08, \"feature2\": 0.9}, {\"feature1\": 0.08, \"feature2\": 0.92}, {\"feature1\": 0.08, \"feature2\": 0.94}, {\"feature1\": 0.08, \"feature2\": 0.96}, {\"feature1\": 0.08, \"feature2\": 0.98}, {\"feature1\": 0.1, \"feature2\": 0.0}, {\"feature1\": 0.1, \"feature2\": 0.02}, {\"feature1\": 0.1, \"feature2\": 0.04}, {\"feature1\": 0.1, \"feature2\": 0.06}, {\"feature1\": 0.1, \"feature2\": 0.08}, {\"feature1\": 0.1, \"feature2\": 0.1}, {\"feature1\": 0.1, \"feature2\": 0.12}, {\"feature1\": 0.1, \"feature2\": 0.14}, {\"feature1\": 0.1, \"feature2\": 0.16}, {\"feature1\": 0.1, \"feature2\": 0.18}, {\"feature1\": 0.1, \"feature2\": 0.2}, {\"feature1\": 0.1, \"feature2\": 0.22}, {\"feature1\": 0.1, \"feature2\": 0.24}, {\"feature1\": 0.1, \"feature2\": 0.26}, {\"feature1\": 0.1, \"feature2\": 0.28}, {\"feature1\": 0.1, \"feature2\": 0.3}, {\"feature1\": 0.1, \"feature2\": 0.32}, {\"feature1\": 0.1, \"feature2\": 0.34}, {\"feature1\": 0.1, \"feature2\": 0.36}, {\"feature1\": 0.1, \"feature2\": 0.38}, {\"feature1\": 0.1, \"feature2\": 0.4}, {\"feature1\": 0.1, \"feature2\": 0.42}, {\"feature1\": 0.1, \"feature2\": 0.44}, {\"feature1\": 0.1, \"feature2\": 0.46}, {\"feature1\": 0.1, \"feature2\": 0.48}, {\"feature1\": 0.1, \"feature2\": 0.5}, {\"feature1\": 0.1, \"feature2\": 0.52}, {\"feature1\": 0.1, \"feature2\": 0.54}, {\"feature1\": 0.1, \"feature2\": 0.56}, {\"feature1\": 0.1, \"feature2\": 0.58}, {\"feature1\": 0.1, \"feature2\": 0.6}, {\"feature1\": 0.1, \"feature2\": 0.62}, {\"feature1\": 0.1, \"feature2\": 0.64}, {\"feature1\": 0.1, \"feature2\": 0.66}, {\"feature1\": 0.1, \"feature2\": 0.68}, {\"feature1\": 0.1, \"feature2\": 0.7}, {\"feature1\": 0.1, \"feature2\": 0.72}, {\"feature1\": 0.1, \"feature2\": 0.74}, {\"feature1\": 0.1, \"feature2\": 0.76}, {\"feature1\": 0.1, \"feature2\": 0.78}, {\"feature1\": 0.1, \"feature2\": 0.8}, {\"feature1\": 0.1, \"feature2\": 0.82}, {\"feature1\": 0.1, \"feature2\": 0.84}, {\"feature1\": 0.1, \"feature2\": 0.86}, {\"feature1\": 0.1, \"feature2\": 0.88}, {\"feature1\": 0.1, \"feature2\": 0.9}, {\"feature1\": 0.1, \"feature2\": 0.92}, {\"feature1\": 0.1, \"feature2\": 0.94}, {\"feature1\": 0.1, \"feature2\": 0.96}, {\"feature1\": 0.1, \"feature2\": 0.98}, {\"feature1\": 0.12, \"feature2\": 0.0}, {\"feature1\": 0.12, \"feature2\": 0.02}, {\"feature1\": 0.12, \"feature2\": 0.04}, {\"feature1\": 0.12, \"feature2\": 0.06}, {\"feature1\": 0.12, \"feature2\": 0.08}, {\"feature1\": 0.12, \"feature2\": 0.1}, {\"feature1\": 0.12, \"feature2\": 0.12}, {\"feature1\": 0.12, \"feature2\": 0.14}, {\"feature1\": 0.12, \"feature2\": 0.16}, {\"feature1\": 0.12, \"feature2\": 0.18}, {\"feature1\": 0.12, \"feature2\": 0.2}, {\"feature1\": 0.12, \"feature2\": 0.22}, {\"feature1\": 0.12, \"feature2\": 0.24}, {\"feature1\": 0.12, \"feature2\": 0.26}, {\"feature1\": 0.12, \"feature2\": 0.28}, {\"feature1\": 0.12, \"feature2\": 0.3}, {\"feature1\": 0.12, \"feature2\": 0.32}, {\"feature1\": 0.12, \"feature2\": 0.34}, {\"feature1\": 0.12, \"feature2\": 0.36}, {\"feature1\": 0.12, \"feature2\": 0.38}, {\"feature1\": 0.12, \"feature2\": 0.4}, {\"feature1\": 0.12, \"feature2\": 0.42}, {\"feature1\": 0.12, \"feature2\": 0.44}, {\"feature1\": 0.12, \"feature2\": 0.46}, {\"feature1\": 0.12, \"feature2\": 0.48}, {\"feature1\": 0.12, \"feature2\": 0.5}, {\"feature1\": 0.12, \"feature2\": 0.52}, {\"feature1\": 0.12, \"feature2\": 0.54}, {\"feature1\": 0.12, \"feature2\": 0.56}, {\"feature1\": 0.12, \"feature2\": 0.58}, {\"feature1\": 0.12, \"feature2\": 0.6}, {\"feature1\": 0.12, \"feature2\": 0.62}, {\"feature1\": 0.12, \"feature2\": 0.64}, {\"feature1\": 0.12, \"feature2\": 0.66}, {\"feature1\": 0.12, \"feature2\": 0.68}, {\"feature1\": 0.12, \"feature2\": 0.7}, {\"feature1\": 0.12, \"feature2\": 0.72}, {\"feature1\": 0.12, \"feature2\": 0.74}, {\"feature1\": 0.12, \"feature2\": 0.76}, {\"feature1\": 0.12, \"feature2\": 0.78}, {\"feature1\": 0.12, \"feature2\": 0.8}, {\"feature1\": 0.12, \"feature2\": 0.82}, {\"feature1\": 0.12, \"feature2\": 0.84}, {\"feature1\": 0.12, \"feature2\": 0.86}, {\"feature1\": 0.12, \"feature2\": 0.88}, {\"feature1\": 0.12, \"feature2\": 0.9}, {\"feature1\": 0.12, \"feature2\": 0.92}, {\"feature1\": 0.12, \"feature2\": 0.94}, {\"feature1\": 0.12, \"feature2\": 0.96}, {\"feature1\": 0.12, \"feature2\": 0.98}, {\"feature1\": 0.14, \"feature2\": 0.0}, {\"feature1\": 0.14, \"feature2\": 0.02}, {\"feature1\": 0.14, \"feature2\": 0.04}, {\"feature1\": 0.14, \"feature2\": 0.06}, {\"feature1\": 0.14, \"feature2\": 0.08}, {\"feature1\": 0.14, \"feature2\": 0.1}, {\"feature1\": 0.14, \"feature2\": 0.12}, {\"feature1\": 0.14, \"feature2\": 0.14}, {\"feature1\": 0.14, \"feature2\": 0.16}, {\"feature1\": 0.14, \"feature2\": 0.18}, {\"feature1\": 0.14, \"feature2\": 0.2}, {\"feature1\": 0.14, \"feature2\": 0.22}, {\"feature1\": 0.14, \"feature2\": 0.24}, {\"feature1\": 0.14, \"feature2\": 0.26}, {\"feature1\": 0.14, \"feature2\": 0.28}, {\"feature1\": 0.14, \"feature2\": 0.3}, {\"feature1\": 0.14, \"feature2\": 0.32}, {\"feature1\": 0.14, \"feature2\": 0.34}, {\"feature1\": 0.14, \"feature2\": 0.36}, {\"feature1\": 0.14, \"feature2\": 0.38}, {\"feature1\": 0.14, \"feature2\": 0.4}, {\"feature1\": 0.14, \"feature2\": 0.42}, {\"feature1\": 0.14, \"feature2\": 0.44}, {\"feature1\": 0.14, \"feature2\": 0.46}, {\"feature1\": 0.14, \"feature2\": 0.48}, {\"feature1\": 0.14, \"feature2\": 0.5}, {\"feature1\": 0.14, \"feature2\": 0.52}, {\"feature1\": 0.14, \"feature2\": 0.54}, {\"feature1\": 0.14, \"feature2\": 0.56}, {\"feature1\": 0.14, \"feature2\": 0.58}, {\"feature1\": 0.14, \"feature2\": 0.6}, {\"feature1\": 0.14, \"feature2\": 0.62}, {\"feature1\": 0.14, \"feature2\": 0.64}, {\"feature1\": 0.14, \"feature2\": 0.66}, {\"feature1\": 0.14, \"feature2\": 0.68}, {\"feature1\": 0.14, \"feature2\": 0.7}, {\"feature1\": 0.14, \"feature2\": 0.72}, {\"feature1\": 0.14, \"feature2\": 0.74}, {\"feature1\": 0.14, \"feature2\": 0.76}, {\"feature1\": 0.14, \"feature2\": 0.78}, {\"feature1\": 0.14, \"feature2\": 0.8}, {\"feature1\": 0.14, \"feature2\": 0.82}, {\"feature1\": 0.14, \"feature2\": 0.84}, {\"feature1\": 0.14, \"feature2\": 0.86}, {\"feature1\": 0.14, \"feature2\": 0.88}, {\"feature1\": 0.14, \"feature2\": 0.9}, {\"feature1\": 0.14, \"feature2\": 0.92}, {\"feature1\": 0.14, \"feature2\": 0.94}, {\"feature1\": 0.14, \"feature2\": 0.96}, {\"feature1\": 0.14, \"feature2\": 0.98}, {\"feature1\": 0.16, \"feature2\": 0.0}, {\"feature1\": 0.16, \"feature2\": 0.02}, {\"feature1\": 0.16, \"feature2\": 0.04}, {\"feature1\": 0.16, \"feature2\": 0.06}, {\"feature1\": 0.16, \"feature2\": 0.08}, {\"feature1\": 0.16, \"feature2\": 0.1}, {\"feature1\": 0.16, \"feature2\": 0.12}, {\"feature1\": 0.16, \"feature2\": 0.14}, {\"feature1\": 0.16, \"feature2\": 0.16}, {\"feature1\": 0.16, \"feature2\": 0.18}, {\"feature1\": 0.16, \"feature2\": 0.2}, {\"feature1\": 0.16, \"feature2\": 0.22}, {\"feature1\": 0.16, \"feature2\": 0.24}, {\"feature1\": 0.16, \"feature2\": 0.26}, {\"feature1\": 0.16, \"feature2\": 0.28}, {\"feature1\": 0.16, \"feature2\": 0.3}, {\"feature1\": 0.16, \"feature2\": 0.32}, {\"feature1\": 0.16, \"feature2\": 0.34}, {\"feature1\": 0.16, \"feature2\": 0.36}, {\"feature1\": 0.16, \"feature2\": 0.38}, {\"feature1\": 0.16, \"feature2\": 0.4}, {\"feature1\": 0.16, \"feature2\": 0.42}, {\"feature1\": 0.16, \"feature2\": 0.44}, {\"feature1\": 0.16, \"feature2\": 0.46}, {\"feature1\": 0.16, \"feature2\": 0.48}, {\"feature1\": 0.16, \"feature2\": 0.5}, {\"feature1\": 0.16, \"feature2\": 0.52}, {\"feature1\": 0.16, \"feature2\": 0.54}, {\"feature1\": 0.16, \"feature2\": 0.56}, {\"feature1\": 0.16, \"feature2\": 0.58}, {\"feature1\": 0.16, \"feature2\": 0.6}, {\"feature1\": 0.16, \"feature2\": 0.62}, {\"feature1\": 0.16, \"feature2\": 0.64}, {\"feature1\": 0.16, \"feature2\": 0.66}, {\"feature1\": 0.16, \"feature2\": 0.68}, {\"feature1\": 0.16, \"feature2\": 0.7}, {\"feature1\": 0.16, \"feature2\": 0.72}, {\"feature1\": 0.16, \"feature2\": 0.74}, {\"feature1\": 0.16, \"feature2\": 0.76}, {\"feature1\": 0.16, \"feature2\": 0.78}, {\"feature1\": 0.16, \"feature2\": 0.8}, {\"feature1\": 0.16, \"feature2\": 0.82}, {\"feature1\": 0.16, \"feature2\": 0.84}, {\"feature1\": 0.16, \"feature2\": 0.86}, {\"feature1\": 0.16, \"feature2\": 0.88}, {\"feature1\": 0.16, \"feature2\": 0.9}, {\"feature1\": 0.16, \"feature2\": 0.92}, {\"feature1\": 0.16, \"feature2\": 0.94}, {\"feature1\": 0.16, \"feature2\": 0.96}, {\"feature1\": 0.16, \"feature2\": 0.98}, {\"feature1\": 0.18, \"feature2\": 0.0}, {\"feature1\": 0.18, \"feature2\": 0.02}, {\"feature1\": 0.18, \"feature2\": 0.04}, {\"feature1\": 0.18, \"feature2\": 0.06}, {\"feature1\": 0.18, \"feature2\": 0.08}, {\"feature1\": 0.18, \"feature2\": 0.1}, {\"feature1\": 0.18, \"feature2\": 0.12}, {\"feature1\": 0.18, \"feature2\": 0.14}, {\"feature1\": 0.18, \"feature2\": 0.16}, {\"feature1\": 0.18, \"feature2\": 0.18}, {\"feature1\": 0.18, \"feature2\": 0.2}, {\"feature1\": 0.18, \"feature2\": 0.22}, {\"feature1\": 0.18, \"feature2\": 0.24}, {\"feature1\": 0.18, \"feature2\": 0.26}, {\"feature1\": 0.18, \"feature2\": 0.28}, {\"feature1\": 0.18, \"feature2\": 0.3}, {\"feature1\": 0.18, \"feature2\": 0.32}, {\"feature1\": 0.18, \"feature2\": 0.34}, {\"feature1\": 0.18, \"feature2\": 0.36}, {\"feature1\": 0.18, \"feature2\": 0.38}, {\"feature1\": 0.18, \"feature2\": 0.4}, {\"feature1\": 0.18, \"feature2\": 0.42}, {\"feature1\": 0.18, \"feature2\": 0.44}, {\"feature1\": 0.18, \"feature2\": 0.46}, {\"feature1\": 0.18, \"feature2\": 0.48}, {\"feature1\": 0.18, \"feature2\": 0.5}, {\"feature1\": 0.18, \"feature2\": 0.52}, {\"feature1\": 0.18, \"feature2\": 0.54}, {\"feature1\": 0.18, \"feature2\": 0.56}, {\"feature1\": 0.18, \"feature2\": 0.58}, {\"feature1\": 0.18, \"feature2\": 0.6}, {\"feature1\": 0.18, \"feature2\": 0.62}, {\"feature1\": 0.18, \"feature2\": 0.64}, {\"feature1\": 0.18, \"feature2\": 0.66}, {\"feature1\": 0.18, \"feature2\": 0.68}, {\"feature1\": 0.18, \"feature2\": 0.7}, {\"feature1\": 0.18, \"feature2\": 0.72}, {\"feature1\": 0.18, \"feature2\": 0.74}, {\"feature1\": 0.18, \"feature2\": 0.76}, {\"feature1\": 0.18, \"feature2\": 0.78}, {\"feature1\": 0.18, \"feature2\": 0.8}, {\"feature1\": 0.18, \"feature2\": 0.82}, {\"feature1\": 0.18, \"feature2\": 0.84}, {\"feature1\": 0.18, \"feature2\": 0.86}, {\"feature1\": 0.18, \"feature2\": 0.88}, {\"feature1\": 0.18, \"feature2\": 0.9}, {\"feature1\": 0.18, \"feature2\": 0.92}, {\"feature1\": 0.18, \"feature2\": 0.94}, {\"feature1\": 0.18, \"feature2\": 0.96}, {\"feature1\": 0.18, \"feature2\": 0.98}, {\"feature1\": 0.2, \"feature2\": 0.0}, {\"feature1\": 0.2, \"feature2\": 0.02}, {\"feature1\": 0.2, \"feature2\": 0.04}, {\"feature1\": 0.2, \"feature2\": 0.06}, {\"feature1\": 0.2, \"feature2\": 0.08}, {\"feature1\": 0.2, \"feature2\": 0.1}, {\"feature1\": 0.2, \"feature2\": 0.12}, {\"feature1\": 0.2, \"feature2\": 0.14}, {\"feature1\": 0.2, \"feature2\": 0.16}, {\"feature1\": 0.2, \"feature2\": 0.18}, {\"feature1\": 0.2, \"feature2\": 0.2}, {\"feature1\": 0.2, \"feature2\": 0.22}, {\"feature1\": 0.2, \"feature2\": 0.24}, {\"feature1\": 0.2, \"feature2\": 0.26}, {\"feature1\": 0.2, \"feature2\": 0.28}, {\"feature1\": 0.2, \"feature2\": 0.3}, {\"feature1\": 0.2, \"feature2\": 0.32}, {\"feature1\": 0.2, \"feature2\": 0.34}, {\"feature1\": 0.2, \"feature2\": 0.36}, {\"feature1\": 0.2, \"feature2\": 0.38}, {\"feature1\": 0.2, \"feature2\": 0.4}, {\"feature1\": 0.2, \"feature2\": 0.42}, {\"feature1\": 0.2, \"feature2\": 0.44}, {\"feature1\": 0.2, \"feature2\": 0.46}, {\"feature1\": 0.2, \"feature2\": 0.48}, {\"feature1\": 0.2, \"feature2\": 0.5}, {\"feature1\": 0.2, \"feature2\": 0.52}, {\"feature1\": 0.2, \"feature2\": 0.54}, {\"feature1\": 0.2, \"feature2\": 0.56}, {\"feature1\": 0.2, \"feature2\": 0.58}, {\"feature1\": 0.2, \"feature2\": 0.6}, {\"feature1\": 0.2, \"feature2\": 0.62}, {\"feature1\": 0.2, \"feature2\": 0.64}, {\"feature1\": 0.2, \"feature2\": 0.66}, {\"feature1\": 0.2, \"feature2\": 0.68}, {\"feature1\": 0.2, \"feature2\": 0.7}, {\"feature1\": 0.2, \"feature2\": 0.72}, {\"feature1\": 0.2, \"feature2\": 0.74}, {\"feature1\": 0.2, \"feature2\": 0.76}, {\"feature1\": 0.2, \"feature2\": 0.78}, {\"feature1\": 0.2, \"feature2\": 0.8}, {\"feature1\": 0.2, \"feature2\": 0.82}, {\"feature1\": 0.2, \"feature2\": 0.84}, {\"feature1\": 0.2, \"feature2\": 0.86}, {\"feature1\": 0.2, \"feature2\": 0.88}, {\"feature1\": 0.2, \"feature2\": 0.9}, {\"feature1\": 0.2, \"feature2\": 0.92}, {\"feature1\": 0.2, \"feature2\": 0.94}, {\"feature1\": 0.2, \"feature2\": 0.96}, {\"feature1\": 0.2, \"feature2\": 0.98}, {\"feature1\": 0.22, \"feature2\": 0.0}, {\"feature1\": 0.22, \"feature2\": 0.02}, {\"feature1\": 0.22, \"feature2\": 0.04}, {\"feature1\": 0.22, \"feature2\": 0.06}, {\"feature1\": 0.22, \"feature2\": 0.08}, {\"feature1\": 0.22, \"feature2\": 0.1}, {\"feature1\": 0.22, \"feature2\": 0.12}, {\"feature1\": 0.22, \"feature2\": 0.14}, {\"feature1\": 0.22, \"feature2\": 0.16}, {\"feature1\": 0.22, \"feature2\": 0.18}, {\"feature1\": 0.22, \"feature2\": 0.2}, {\"feature1\": 0.22, \"feature2\": 0.22}, {\"feature1\": 0.22, \"feature2\": 0.24}, {\"feature1\": 0.22, \"feature2\": 0.26}, {\"feature1\": 0.22, \"feature2\": 0.28}, {\"feature1\": 0.22, \"feature2\": 0.3}, {\"feature1\": 0.22, \"feature2\": 0.32}, {\"feature1\": 0.22, \"feature2\": 0.34}, {\"feature1\": 0.22, \"feature2\": 0.36}, {\"feature1\": 0.22, \"feature2\": 0.38}, {\"feature1\": 0.22, \"feature2\": 0.4}, {\"feature1\": 0.22, \"feature2\": 0.42}, {\"feature1\": 0.22, \"feature2\": 0.44}, {\"feature1\": 0.22, \"feature2\": 0.46}, {\"feature1\": 0.22, \"feature2\": 0.48}, {\"feature1\": 0.22, \"feature2\": 0.5}, {\"feature1\": 0.22, \"feature2\": 0.52}, {\"feature1\": 0.22, \"feature2\": 0.54}, {\"feature1\": 0.22, \"feature2\": 0.56}, {\"feature1\": 0.22, \"feature2\": 0.58}, {\"feature1\": 0.22, \"feature2\": 0.6}, {\"feature1\": 0.22, \"feature2\": 0.62}, {\"feature1\": 0.22, \"feature2\": 0.64}, {\"feature1\": 0.22, \"feature2\": 0.66}, {\"feature1\": 0.22, \"feature2\": 0.68}, {\"feature1\": 0.22, \"feature2\": 0.7}, {\"feature1\": 0.22, \"feature2\": 0.72}, {\"feature1\": 0.22, \"feature2\": 0.74}, {\"feature1\": 0.22, \"feature2\": 0.76}, {\"feature1\": 0.22, \"feature2\": 0.78}, {\"feature1\": 0.22, \"feature2\": 0.8}, {\"feature1\": 0.22, \"feature2\": 0.82}, {\"feature1\": 0.22, \"feature2\": 0.84}, {\"feature1\": 0.22, \"feature2\": 0.86}, {\"feature1\": 0.22, \"feature2\": 0.88}, {\"feature1\": 0.22, \"feature2\": 0.9}, {\"feature1\": 0.22, \"feature2\": 0.92}, {\"feature1\": 0.22, \"feature2\": 0.94}, {\"feature1\": 0.22, \"feature2\": 0.96}, {\"feature1\": 0.22, \"feature2\": 0.98}, {\"feature1\": 0.24, \"feature2\": 0.0}, {\"feature1\": 0.24, \"feature2\": 0.02}, {\"feature1\": 0.24, \"feature2\": 0.04}, {\"feature1\": 0.24, \"feature2\": 0.06}, {\"feature1\": 0.24, \"feature2\": 0.08}, {\"feature1\": 0.24, \"feature2\": 0.1}, {\"feature1\": 0.24, \"feature2\": 0.12}, {\"feature1\": 0.24, \"feature2\": 0.14}, {\"feature1\": 0.24, \"feature2\": 0.16}, {\"feature1\": 0.24, \"feature2\": 0.18}, {\"feature1\": 0.24, \"feature2\": 0.2}, {\"feature1\": 0.24, \"feature2\": 0.22}, {\"feature1\": 0.24, \"feature2\": 0.24}, {\"feature1\": 0.24, \"feature2\": 0.26}, {\"feature1\": 0.24, \"feature2\": 0.28}, {\"feature1\": 0.24, \"feature2\": 0.3}, {\"feature1\": 0.24, \"feature2\": 0.32}, {\"feature1\": 0.24, \"feature2\": 0.34}, {\"feature1\": 0.24, \"feature2\": 0.36}, {\"feature1\": 0.24, \"feature2\": 0.38}, {\"feature1\": 0.24, \"feature2\": 0.4}, {\"feature1\": 0.24, \"feature2\": 0.42}, {\"feature1\": 0.24, \"feature2\": 0.44}, {\"feature1\": 0.24, \"feature2\": 0.46}, {\"feature1\": 0.24, \"feature2\": 0.48}, {\"feature1\": 0.24, \"feature2\": 0.5}, {\"feature1\": 0.24, \"feature2\": 0.52}, {\"feature1\": 0.24, \"feature2\": 0.54}, {\"feature1\": 0.24, \"feature2\": 0.56}, {\"feature1\": 0.24, \"feature2\": 0.58}, {\"feature1\": 0.24, \"feature2\": 0.6}, {\"feature1\": 0.24, \"feature2\": 0.62}, {\"feature1\": 0.24, \"feature2\": 0.64}, {\"feature1\": 0.24, \"feature2\": 0.66}, {\"feature1\": 0.24, \"feature2\": 0.68}, {\"feature1\": 0.24, \"feature2\": 0.7}, {\"feature1\": 0.24, \"feature2\": 0.72}, {\"feature1\": 0.24, \"feature2\": 0.74}, {\"feature1\": 0.24, \"feature2\": 0.76}, {\"feature1\": 0.24, \"feature2\": 0.78}, {\"feature1\": 0.24, \"feature2\": 0.8}, {\"feature1\": 0.24, \"feature2\": 0.82}, {\"feature1\": 0.24, \"feature2\": 0.84}, {\"feature1\": 0.24, \"feature2\": 0.86}, {\"feature1\": 0.24, \"feature2\": 0.88}, {\"feature1\": 0.24, \"feature2\": 0.9}, {\"feature1\": 0.24, \"feature2\": 0.92}, {\"feature1\": 0.24, \"feature2\": 0.94}, {\"feature1\": 0.24, \"feature2\": 0.96}, {\"feature1\": 0.24, \"feature2\": 0.98}, {\"feature1\": 0.26, \"feature2\": 0.0}, {\"feature1\": 0.26, \"feature2\": 0.02}, {\"feature1\": 0.26, \"feature2\": 0.04}, {\"feature1\": 0.26, \"feature2\": 0.06}, {\"feature1\": 0.26, \"feature2\": 0.08}, {\"feature1\": 0.26, \"feature2\": 0.1}, {\"feature1\": 0.26, \"feature2\": 0.12}, {\"feature1\": 0.26, \"feature2\": 0.14}, {\"feature1\": 0.26, \"feature2\": 0.16}, {\"feature1\": 0.26, \"feature2\": 0.18}, {\"feature1\": 0.26, \"feature2\": 0.2}, {\"feature1\": 0.26, \"feature2\": 0.22}, {\"feature1\": 0.26, \"feature2\": 0.24}, {\"feature1\": 0.26, \"feature2\": 0.26}, {\"feature1\": 0.26, \"feature2\": 0.28}, {\"feature1\": 0.26, \"feature2\": 0.3}, {\"feature1\": 0.26, \"feature2\": 0.32}, {\"feature1\": 0.26, \"feature2\": 0.34}, {\"feature1\": 0.26, \"feature2\": 0.36}, {\"feature1\": 0.26, \"feature2\": 0.38}, {\"feature1\": 0.26, \"feature2\": 0.4}, {\"feature1\": 0.26, \"feature2\": 0.42}, {\"feature1\": 0.26, \"feature2\": 0.44}, {\"feature1\": 0.26, \"feature2\": 0.46}, {\"feature1\": 0.26, \"feature2\": 0.48}, {\"feature1\": 0.26, \"feature2\": 0.5}, {\"feature1\": 0.26, \"feature2\": 0.52}, {\"feature1\": 0.26, \"feature2\": 0.54}, {\"feature1\": 0.26, \"feature2\": 0.56}, {\"feature1\": 0.26, \"feature2\": 0.58}, {\"feature1\": 0.26, \"feature2\": 0.6}, {\"feature1\": 0.26, \"feature2\": 0.62}, {\"feature1\": 0.26, \"feature2\": 0.64}, {\"feature1\": 0.26, \"feature2\": 0.66}, {\"feature1\": 0.26, \"feature2\": 0.68}, {\"feature1\": 0.26, \"feature2\": 0.7}, {\"feature1\": 0.26, \"feature2\": 0.72}, {\"feature1\": 0.26, \"feature2\": 0.74}, {\"feature1\": 0.26, \"feature2\": 0.76}, {\"feature1\": 0.26, \"feature2\": 0.78}, {\"feature1\": 0.26, \"feature2\": 0.8}, {\"feature1\": 0.26, \"feature2\": 0.82}, {\"feature1\": 0.26, \"feature2\": 0.84}, {\"feature1\": 0.26, \"feature2\": 0.86}, {\"feature1\": 0.26, \"feature2\": 0.88}, {\"feature1\": 0.26, \"feature2\": 0.9}, {\"feature1\": 0.26, \"feature2\": 0.92}, {\"feature1\": 0.26, \"feature2\": 0.94}, {\"feature1\": 0.26, \"feature2\": 0.96}, {\"feature1\": 0.26, \"feature2\": 0.98}, {\"feature1\": 0.28, \"feature2\": 0.0}, {\"feature1\": 0.28, \"feature2\": 0.02}, {\"feature1\": 0.28, \"feature2\": 0.04}, {\"feature1\": 0.28, \"feature2\": 0.06}, {\"feature1\": 0.28, \"feature2\": 0.08}, {\"feature1\": 0.28, \"feature2\": 0.1}, {\"feature1\": 0.28, \"feature2\": 0.12}, {\"feature1\": 0.28, \"feature2\": 0.14}, {\"feature1\": 0.28, \"feature2\": 0.16}, {\"feature1\": 0.28, \"feature2\": 0.18}, {\"feature1\": 0.28, \"feature2\": 0.2}, {\"feature1\": 0.28, \"feature2\": 0.22}, {\"feature1\": 0.28, \"feature2\": 0.24}, {\"feature1\": 0.28, \"feature2\": 0.26}, {\"feature1\": 0.28, \"feature2\": 0.28}, {\"feature1\": 0.28, \"feature2\": 0.3}, {\"feature1\": 0.28, \"feature2\": 0.32}, {\"feature1\": 0.28, \"feature2\": 0.34}, {\"feature1\": 0.28, \"feature2\": 0.36}, {\"feature1\": 0.28, \"feature2\": 0.38}, {\"feature1\": 0.28, \"feature2\": 0.4}, {\"feature1\": 0.28, \"feature2\": 0.42}, {\"feature1\": 0.28, \"feature2\": 0.44}, {\"feature1\": 0.28, \"feature2\": 0.46}, {\"feature1\": 0.28, \"feature2\": 0.48}, {\"feature1\": 0.28, \"feature2\": 0.5}, {\"feature1\": 0.28, \"feature2\": 0.52}, {\"feature1\": 0.28, \"feature2\": 0.54}, {\"feature1\": 0.28, \"feature2\": 0.56}, {\"feature1\": 0.28, \"feature2\": 0.58}, {\"feature1\": 0.28, \"feature2\": 0.6}, {\"feature1\": 0.28, \"feature2\": 0.62}, {\"feature1\": 0.28, \"feature2\": 0.64}, {\"feature1\": 0.28, \"feature2\": 0.66}, {\"feature1\": 0.28, \"feature2\": 0.68}, {\"feature1\": 0.28, \"feature2\": 0.7}, {\"feature1\": 0.28, \"feature2\": 0.72}, {\"feature1\": 0.28, \"feature2\": 0.74}, {\"feature1\": 0.28, \"feature2\": 0.76}, {\"feature1\": 0.28, \"feature2\": 0.78}, {\"feature1\": 0.28, \"feature2\": 0.8}, {\"feature1\": 0.28, \"feature2\": 0.82}, {\"feature1\": 0.28, \"feature2\": 0.84}, {\"feature1\": 0.28, \"feature2\": 0.86}, {\"feature1\": 0.28, \"feature2\": 0.88}, {\"feature1\": 0.28, \"feature2\": 0.9}, {\"feature1\": 0.28, \"feature2\": 0.92}, {\"feature1\": 0.28, \"feature2\": 0.94}, {\"feature1\": 0.28, \"feature2\": 0.96}, {\"feature1\": 0.28, \"feature2\": 0.98}, {\"feature1\": 0.3, \"feature2\": 0.0}, {\"feature1\": 0.3, \"feature2\": 0.02}, {\"feature1\": 0.3, \"feature2\": 0.04}, {\"feature1\": 0.3, \"feature2\": 0.06}, {\"feature1\": 0.3, \"feature2\": 0.08}, {\"feature1\": 0.3, \"feature2\": 0.1}, {\"feature1\": 0.3, \"feature2\": 0.12}, {\"feature1\": 0.3, \"feature2\": 0.14}, {\"feature1\": 0.3, \"feature2\": 0.16}, {\"feature1\": 0.3, \"feature2\": 0.18}, {\"feature1\": 0.3, \"feature2\": 0.2}, {\"feature1\": 0.3, \"feature2\": 0.22}, {\"feature1\": 0.3, \"feature2\": 0.24}, {\"feature1\": 0.3, \"feature2\": 0.26}, {\"feature1\": 0.3, \"feature2\": 0.28}, {\"feature1\": 0.3, \"feature2\": 0.3}, {\"feature1\": 0.3, \"feature2\": 0.32}, {\"feature1\": 0.3, \"feature2\": 0.34}, {\"feature1\": 0.3, \"feature2\": 0.36}, {\"feature1\": 0.3, \"feature2\": 0.38}, {\"feature1\": 0.3, \"feature2\": 0.4}, {\"feature1\": 0.3, \"feature2\": 0.42}, {\"feature1\": 0.3, \"feature2\": 0.44}, {\"feature1\": 0.3, \"feature2\": 0.46}, {\"feature1\": 0.3, \"feature2\": 0.48}, {\"feature1\": 0.3, \"feature2\": 0.5}, {\"feature1\": 0.3, \"feature2\": 0.52}, {\"feature1\": 0.3, \"feature2\": 0.54}, {\"feature1\": 0.3, \"feature2\": 0.56}, {\"feature1\": 0.3, \"feature2\": 0.58}, {\"feature1\": 0.3, \"feature2\": 0.6}, {\"feature1\": 0.3, \"feature2\": 0.62}, {\"feature1\": 0.3, \"feature2\": 0.64}, {\"feature1\": 0.3, \"feature2\": 0.66}, {\"feature1\": 0.3, \"feature2\": 0.68}, {\"feature1\": 0.3, \"feature2\": 0.7}, {\"feature1\": 0.3, \"feature2\": 0.72}, {\"feature1\": 0.3, \"feature2\": 0.74}, {\"feature1\": 0.3, \"feature2\": 0.76}, {\"feature1\": 0.3, \"feature2\": 0.78}, {\"feature1\": 0.3, \"feature2\": 0.8}, {\"feature1\": 0.3, \"feature2\": 0.82}, {\"feature1\": 0.3, \"feature2\": 0.84}, {\"feature1\": 0.3, \"feature2\": 0.86}, {\"feature1\": 0.3, \"feature2\": 0.88}, {\"feature1\": 0.3, \"feature2\": 0.9}, {\"feature1\": 0.3, \"feature2\": 0.92}, {\"feature1\": 0.3, \"feature2\": 0.94}, {\"feature1\": 0.3, \"feature2\": 0.96}, {\"feature1\": 0.3, \"feature2\": 0.98}, {\"feature1\": 0.32, \"feature2\": 0.0}, {\"feature1\": 0.32, \"feature2\": 0.02}, {\"feature1\": 0.32, \"feature2\": 0.04}, {\"feature1\": 0.32, \"feature2\": 0.06}, {\"feature1\": 0.32, \"feature2\": 0.08}, {\"feature1\": 0.32, \"feature2\": 0.1}, {\"feature1\": 0.32, \"feature2\": 0.12}, {\"feature1\": 0.32, \"feature2\": 0.14}, {\"feature1\": 0.32, \"feature2\": 0.16}, {\"feature1\": 0.32, \"feature2\": 0.18}, {\"feature1\": 0.32, \"feature2\": 0.2}, {\"feature1\": 0.32, \"feature2\": 0.22}, {\"feature1\": 0.32, \"feature2\": 0.24}, {\"feature1\": 0.32, \"feature2\": 0.26}, {\"feature1\": 0.32, \"feature2\": 0.28}, {\"feature1\": 0.32, \"feature2\": 0.3}, {\"feature1\": 0.32, \"feature2\": 0.32}, {\"feature1\": 0.32, \"feature2\": 0.34}, {\"feature1\": 0.32, \"feature2\": 0.36}, {\"feature1\": 0.32, \"feature2\": 0.38}, {\"feature1\": 0.32, \"feature2\": 0.4}, {\"feature1\": 0.32, \"feature2\": 0.42}, {\"feature1\": 0.32, \"feature2\": 0.44}, {\"feature1\": 0.32, \"feature2\": 0.46}, {\"feature1\": 0.32, \"feature2\": 0.48}, {\"feature1\": 0.32, \"feature2\": 0.5}, {\"feature1\": 0.32, \"feature2\": 0.52}, {\"feature1\": 0.32, \"feature2\": 0.54}, {\"feature1\": 0.32, \"feature2\": 0.56}, {\"feature1\": 0.32, \"feature2\": 0.58}, {\"feature1\": 0.32, \"feature2\": 0.6}, {\"feature1\": 0.32, \"feature2\": 0.62}, {\"feature1\": 0.32, \"feature2\": 0.64}, {\"feature1\": 0.32, \"feature2\": 0.66}, {\"feature1\": 0.32, \"feature2\": 0.68}, {\"feature1\": 0.32, \"feature2\": 0.7}, {\"feature1\": 0.32, \"feature2\": 0.72}, {\"feature1\": 0.32, \"feature2\": 0.74}, {\"feature1\": 0.32, \"feature2\": 0.76}, {\"feature1\": 0.32, \"feature2\": 0.78}, {\"feature1\": 0.32, \"feature2\": 0.8}, {\"feature1\": 0.32, \"feature2\": 0.82}, {\"feature1\": 0.32, \"feature2\": 0.84}, {\"feature1\": 0.32, \"feature2\": 0.86}, {\"feature1\": 0.32, \"feature2\": 0.88}, {\"feature1\": 0.32, \"feature2\": 0.9}, {\"feature1\": 0.32, \"feature2\": 0.92}, {\"feature1\": 0.32, \"feature2\": 0.94}, {\"feature1\": 0.32, \"feature2\": 0.96}, {\"feature1\": 0.32, \"feature2\": 0.98}, {\"feature1\": 0.34, \"feature2\": 0.0}, {\"feature1\": 0.34, \"feature2\": 0.02}, {\"feature1\": 0.34, \"feature2\": 0.04}, {\"feature1\": 0.34, \"feature2\": 0.06}, {\"feature1\": 0.34, \"feature2\": 0.08}, {\"feature1\": 0.34, \"feature2\": 0.1}, {\"feature1\": 0.34, \"feature2\": 0.12}, {\"feature1\": 0.34, \"feature2\": 0.14}, {\"feature1\": 0.34, \"feature2\": 0.16}, {\"feature1\": 0.34, \"feature2\": 0.18}, {\"feature1\": 0.34, \"feature2\": 0.2}, {\"feature1\": 0.34, \"feature2\": 0.22}, {\"feature1\": 0.34, \"feature2\": 0.24}, {\"feature1\": 0.34, \"feature2\": 0.26}, {\"feature1\": 0.34, \"feature2\": 0.28}, {\"feature1\": 0.34, \"feature2\": 0.3}, {\"feature1\": 0.34, \"feature2\": 0.32}, {\"feature1\": 0.34, \"feature2\": 0.34}, {\"feature1\": 0.34, \"feature2\": 0.36}, {\"feature1\": 0.34, \"feature2\": 0.38}, {\"feature1\": 0.34, \"feature2\": 0.4}, {\"feature1\": 0.34, \"feature2\": 0.42}, {\"feature1\": 0.34, \"feature2\": 0.44}, {\"feature1\": 0.34, \"feature2\": 0.46}, {\"feature1\": 0.34, \"feature2\": 0.48}, {\"feature1\": 0.34, \"feature2\": 0.5}, {\"feature1\": 0.34, \"feature2\": 0.52}, {\"feature1\": 0.34, \"feature2\": 0.54}, {\"feature1\": 0.34, \"feature2\": 0.56}, {\"feature1\": 0.34, \"feature2\": 0.58}, {\"feature1\": 0.34, \"feature2\": 0.6}, {\"feature1\": 0.34, \"feature2\": 0.62}, {\"feature1\": 0.34, \"feature2\": 0.64}, {\"feature1\": 0.34, \"feature2\": 0.66}, {\"feature1\": 0.34, \"feature2\": 0.68}, {\"feature1\": 0.34, \"feature2\": 0.7}, {\"feature1\": 0.34, \"feature2\": 0.72}, {\"feature1\": 0.34, \"feature2\": 0.74}, {\"feature1\": 0.34, \"feature2\": 0.76}, {\"feature1\": 0.34, \"feature2\": 0.78}, {\"feature1\": 0.34, \"feature2\": 0.8}, {\"feature1\": 0.34, \"feature2\": 0.82}, {\"feature1\": 0.34, \"feature2\": 0.84}, {\"feature1\": 0.34, \"feature2\": 0.86}, {\"feature1\": 0.34, \"feature2\": 0.88}, {\"feature1\": 0.34, \"feature2\": 0.9}, {\"feature1\": 0.34, \"feature2\": 0.92}, {\"feature1\": 0.34, \"feature2\": 0.94}, {\"feature1\": 0.34, \"feature2\": 0.96}, {\"feature1\": 0.34, \"feature2\": 0.98}, {\"feature1\": 0.36, \"feature2\": 0.0}, {\"feature1\": 0.36, \"feature2\": 0.02}, {\"feature1\": 0.36, \"feature2\": 0.04}, {\"feature1\": 0.36, \"feature2\": 0.06}, {\"feature1\": 0.36, \"feature2\": 0.08}, {\"feature1\": 0.36, \"feature2\": 0.1}, {\"feature1\": 0.36, \"feature2\": 0.12}, {\"feature1\": 0.36, \"feature2\": 0.14}, {\"feature1\": 0.36, \"feature2\": 0.16}, {\"feature1\": 0.36, \"feature2\": 0.18}, {\"feature1\": 0.36, \"feature2\": 0.2}, {\"feature1\": 0.36, \"feature2\": 0.22}, {\"feature1\": 0.36, \"feature2\": 0.24}, {\"feature1\": 0.36, \"feature2\": 0.26}, {\"feature1\": 0.36, \"feature2\": 0.28}, {\"feature1\": 0.36, \"feature2\": 0.3}, {\"feature1\": 0.36, \"feature2\": 0.32}, {\"feature1\": 0.36, \"feature2\": 0.34}, {\"feature1\": 0.36, \"feature2\": 0.36}, {\"feature1\": 0.36, \"feature2\": 0.38}, {\"feature1\": 0.36, \"feature2\": 0.4}, {\"feature1\": 0.36, \"feature2\": 0.42}, {\"feature1\": 0.36, \"feature2\": 0.44}, {\"feature1\": 0.36, \"feature2\": 0.46}, {\"feature1\": 0.36, \"feature2\": 0.48}, {\"feature1\": 0.36, \"feature2\": 0.5}, {\"feature1\": 0.36, \"feature2\": 0.52}, {\"feature1\": 0.36, \"feature2\": 0.54}, {\"feature1\": 0.36, \"feature2\": 0.56}, {\"feature1\": 0.36, \"feature2\": 0.58}, {\"feature1\": 0.36, \"feature2\": 0.6}, {\"feature1\": 0.36, \"feature2\": 0.62}, {\"feature1\": 0.36, \"feature2\": 0.64}, {\"feature1\": 0.36, \"feature2\": 0.66}, {\"feature1\": 0.36, \"feature2\": 0.68}, {\"feature1\": 0.36, \"feature2\": 0.7}, {\"feature1\": 0.36, \"feature2\": 0.72}, {\"feature1\": 0.36, \"feature2\": 0.74}, {\"feature1\": 0.36, \"feature2\": 0.76}, {\"feature1\": 0.36, \"feature2\": 0.78}, {\"feature1\": 0.36, \"feature2\": 0.8}, {\"feature1\": 0.36, \"feature2\": 0.82}, {\"feature1\": 0.36, \"feature2\": 0.84}, {\"feature1\": 0.36, \"feature2\": 0.86}, {\"feature1\": 0.36, \"feature2\": 0.88}, {\"feature1\": 0.36, \"feature2\": 0.9}, {\"feature1\": 0.36, \"feature2\": 0.92}, {\"feature1\": 0.36, \"feature2\": 0.94}, {\"feature1\": 0.36, \"feature2\": 0.96}, {\"feature1\": 0.36, \"feature2\": 0.98}, {\"feature1\": 0.38, \"feature2\": 0.0}, {\"feature1\": 0.38, \"feature2\": 0.02}, {\"feature1\": 0.38, \"feature2\": 0.04}, {\"feature1\": 0.38, \"feature2\": 0.06}, {\"feature1\": 0.38, \"feature2\": 0.08}, {\"feature1\": 0.38, \"feature2\": 0.1}, {\"feature1\": 0.38, \"feature2\": 0.12}, {\"feature1\": 0.38, \"feature2\": 0.14}, {\"feature1\": 0.38, \"feature2\": 0.16}, {\"feature1\": 0.38, \"feature2\": 0.18}, {\"feature1\": 0.38, \"feature2\": 0.2}, {\"feature1\": 0.38, \"feature2\": 0.22}, {\"feature1\": 0.38, \"feature2\": 0.24}, {\"feature1\": 0.38, \"feature2\": 0.26}, {\"feature1\": 0.38, \"feature2\": 0.28}, {\"feature1\": 0.38, \"feature2\": 0.3}, {\"feature1\": 0.38, \"feature2\": 0.32}, {\"feature1\": 0.38, \"feature2\": 0.34}, {\"feature1\": 0.38, \"feature2\": 0.36}, {\"feature1\": 0.38, \"feature2\": 0.38}, {\"feature1\": 0.38, \"feature2\": 0.4}, {\"feature1\": 0.38, \"feature2\": 0.42}, {\"feature1\": 0.38, \"feature2\": 0.44}, {\"feature1\": 0.38, \"feature2\": 0.46}, {\"feature1\": 0.38, \"feature2\": 0.48}, {\"feature1\": 0.38, \"feature2\": 0.5}, {\"feature1\": 0.38, \"feature2\": 0.52}, {\"feature1\": 0.38, \"feature2\": 0.54}, {\"feature1\": 0.38, \"feature2\": 0.56}, {\"feature1\": 0.38, \"feature2\": 0.58}, {\"feature1\": 0.38, \"feature2\": 0.6}, {\"feature1\": 0.38, \"feature2\": 0.62}, {\"feature1\": 0.38, \"feature2\": 0.64}, {\"feature1\": 0.38, \"feature2\": 0.66}, {\"feature1\": 0.38, \"feature2\": 0.68}, {\"feature1\": 0.38, \"feature2\": 0.7}, {\"feature1\": 0.38, \"feature2\": 0.72}, {\"feature1\": 0.38, \"feature2\": 0.74}, {\"feature1\": 0.38, \"feature2\": 0.76}, {\"feature1\": 0.38, \"feature2\": 0.78}, {\"feature1\": 0.38, \"feature2\": 0.8}, {\"feature1\": 0.38, \"feature2\": 0.82}, {\"feature1\": 0.38, \"feature2\": 0.84}, {\"feature1\": 0.38, \"feature2\": 0.86}, {\"feature1\": 0.38, \"feature2\": 0.88}, {\"feature1\": 0.38, \"feature2\": 0.9}, {\"feature1\": 0.38, \"feature2\": 0.92}, {\"feature1\": 0.38, \"feature2\": 0.94}, {\"feature1\": 0.38, \"feature2\": 0.96}, {\"feature1\": 0.38, \"feature2\": 0.98}, {\"feature1\": 0.4, \"feature2\": 0.0}, {\"feature1\": 0.4, \"feature2\": 0.02}, {\"feature1\": 0.4, \"feature2\": 0.04}, {\"feature1\": 0.4, \"feature2\": 0.06}, {\"feature1\": 0.4, \"feature2\": 0.08}, {\"feature1\": 0.4, \"feature2\": 0.1}, {\"feature1\": 0.4, \"feature2\": 0.12}, {\"feature1\": 0.4, \"feature2\": 0.14}, {\"feature1\": 0.4, \"feature2\": 0.16}, {\"feature1\": 0.4, \"feature2\": 0.18}, {\"feature1\": 0.4, \"feature2\": 0.2}, {\"feature1\": 0.4, \"feature2\": 0.22}, {\"feature1\": 0.4, \"feature2\": 0.24}, {\"feature1\": 0.4, \"feature2\": 0.26}, {\"feature1\": 0.4, \"feature2\": 0.28}, {\"feature1\": 0.4, \"feature2\": 0.3}, {\"feature1\": 0.4, \"feature2\": 0.32}, {\"feature1\": 0.4, \"feature2\": 0.34}, {\"feature1\": 0.4, \"feature2\": 0.36}, {\"feature1\": 0.4, \"feature2\": 0.38}, {\"feature1\": 0.4, \"feature2\": 0.4}, {\"feature1\": 0.4, \"feature2\": 0.42}, {\"feature1\": 0.4, \"feature2\": 0.44}, {\"feature1\": 0.4, \"feature2\": 0.46}, {\"feature1\": 0.4, \"feature2\": 0.48}, {\"feature1\": 0.4, \"feature2\": 0.5}, {\"feature1\": 0.4, \"feature2\": 0.52}, {\"feature1\": 0.4, \"feature2\": 0.54}, {\"feature1\": 0.4, \"feature2\": 0.56}, {\"feature1\": 0.4, \"feature2\": 0.58}, {\"feature1\": 0.4, \"feature2\": 0.6}, {\"feature1\": 0.4, \"feature2\": 0.62}, {\"feature1\": 0.4, \"feature2\": 0.64}, {\"feature1\": 0.4, \"feature2\": 0.66}, {\"feature1\": 0.4, \"feature2\": 0.68}, {\"feature1\": 0.4, \"feature2\": 0.7}, {\"feature1\": 0.4, \"feature2\": 0.72}, {\"feature1\": 0.4, \"feature2\": 0.74}, {\"feature1\": 0.4, \"feature2\": 0.76}, {\"feature1\": 0.4, \"feature2\": 0.78}, {\"feature1\": 0.4, \"feature2\": 0.8}, {\"feature1\": 0.4, \"feature2\": 0.82}, {\"feature1\": 0.4, \"feature2\": 0.84}, {\"feature1\": 0.4, \"feature2\": 0.86}, {\"feature1\": 0.4, \"feature2\": 0.88}, {\"feature1\": 0.4, \"feature2\": 0.9}, {\"feature1\": 0.4, \"feature2\": 0.92}, {\"feature1\": 0.4, \"feature2\": 0.94}, {\"feature1\": 0.4, \"feature2\": 0.96}, {\"feature1\": 0.4, \"feature2\": 0.98}, {\"feature1\": 0.42, \"feature2\": 0.0}, {\"feature1\": 0.42, \"feature2\": 0.02}, {\"feature1\": 0.42, \"feature2\": 0.04}, {\"feature1\": 0.42, \"feature2\": 0.06}, {\"feature1\": 0.42, \"feature2\": 0.08}, {\"feature1\": 0.42, \"feature2\": 0.1}, {\"feature1\": 0.42, \"feature2\": 0.12}, {\"feature1\": 0.42, \"feature2\": 0.14}, {\"feature1\": 0.42, \"feature2\": 0.16}, {\"feature1\": 0.42, \"feature2\": 0.18}, {\"feature1\": 0.42, \"feature2\": 0.2}, {\"feature1\": 0.42, \"feature2\": 0.22}, {\"feature1\": 0.42, \"feature2\": 0.24}, {\"feature1\": 0.42, \"feature2\": 0.26}, {\"feature1\": 0.42, \"feature2\": 0.28}, {\"feature1\": 0.42, \"feature2\": 0.3}, {\"feature1\": 0.42, \"feature2\": 0.32}, {\"feature1\": 0.42, \"feature2\": 0.34}, {\"feature1\": 0.42, \"feature2\": 0.36}, {\"feature1\": 0.42, \"feature2\": 0.38}, {\"feature1\": 0.42, \"feature2\": 0.4}, {\"feature1\": 0.42, \"feature2\": 0.42}, {\"feature1\": 0.42, \"feature2\": 0.44}, {\"feature1\": 0.42, \"feature2\": 0.46}, {\"feature1\": 0.42, \"feature2\": 0.48}, {\"feature1\": 0.42, \"feature2\": 0.5}, {\"feature1\": 0.42, \"feature2\": 0.52}, {\"feature1\": 0.42, \"feature2\": 0.54}, {\"feature1\": 0.42, \"feature2\": 0.56}, {\"feature1\": 0.42, \"feature2\": 0.58}, {\"feature1\": 0.42, \"feature2\": 0.6}, {\"feature1\": 0.42, \"feature2\": 0.62}, {\"feature1\": 0.42, \"feature2\": 0.64}, {\"feature1\": 0.42, \"feature2\": 0.66}, {\"feature1\": 0.42, \"feature2\": 0.68}, {\"feature1\": 0.42, \"feature2\": 0.7}, {\"feature1\": 0.42, \"feature2\": 0.72}, {\"feature1\": 0.42, \"feature2\": 0.74}, {\"feature1\": 0.42, \"feature2\": 0.76}, {\"feature1\": 0.42, \"feature2\": 0.78}, {\"feature1\": 0.42, \"feature2\": 0.8}, {\"feature1\": 0.42, \"feature2\": 0.82}, {\"feature1\": 0.42, \"feature2\": 0.84}, {\"feature1\": 0.42, \"feature2\": 0.86}, {\"feature1\": 0.42, \"feature2\": 0.88}, {\"feature1\": 0.42, \"feature2\": 0.9}, {\"feature1\": 0.42, \"feature2\": 0.92}, {\"feature1\": 0.42, \"feature2\": 0.94}, {\"feature1\": 0.42, \"feature2\": 0.96}, {\"feature1\": 0.42, \"feature2\": 0.98}, {\"feature1\": 0.44, \"feature2\": 0.0}, {\"feature1\": 0.44, \"feature2\": 0.02}, {\"feature1\": 0.44, \"feature2\": 0.04}, {\"feature1\": 0.44, \"feature2\": 0.06}, {\"feature1\": 0.44, \"feature2\": 0.08}, {\"feature1\": 0.44, \"feature2\": 0.1}, {\"feature1\": 0.44, \"feature2\": 0.12}, {\"feature1\": 0.44, \"feature2\": 0.14}, {\"feature1\": 0.44, \"feature2\": 0.16}, {\"feature1\": 0.44, \"feature2\": 0.18}, {\"feature1\": 0.44, \"feature2\": 0.2}, {\"feature1\": 0.44, \"feature2\": 0.22}, {\"feature1\": 0.44, \"feature2\": 0.24}, {\"feature1\": 0.44, \"feature2\": 0.26}, {\"feature1\": 0.44, \"feature2\": 0.28}, {\"feature1\": 0.44, \"feature2\": 0.3}, {\"feature1\": 0.44, \"feature2\": 0.32}, {\"feature1\": 0.44, \"feature2\": 0.34}, {\"feature1\": 0.44, \"feature2\": 0.36}, {\"feature1\": 0.44, \"feature2\": 0.38}, {\"feature1\": 0.44, \"feature2\": 0.4}, {\"feature1\": 0.44, \"feature2\": 0.42}, {\"feature1\": 0.44, \"feature2\": 0.44}, {\"feature1\": 0.44, \"feature2\": 0.46}, {\"feature1\": 0.44, \"feature2\": 0.48}, {\"feature1\": 0.44, \"feature2\": 0.5}, {\"feature1\": 0.44, \"feature2\": 0.52}, {\"feature1\": 0.44, \"feature2\": 0.54}, {\"feature1\": 0.44, \"feature2\": 0.56}, {\"feature1\": 0.44, \"feature2\": 0.58}, {\"feature1\": 0.44, \"feature2\": 0.6}, {\"feature1\": 0.44, \"feature2\": 0.62}, {\"feature1\": 0.44, \"feature2\": 0.64}, {\"feature1\": 0.44, \"feature2\": 0.66}, {\"feature1\": 0.44, \"feature2\": 0.68}, {\"feature1\": 0.44, \"feature2\": 0.7}, {\"feature1\": 0.44, \"feature2\": 0.72}, {\"feature1\": 0.44, \"feature2\": 0.74}, {\"feature1\": 0.44, \"feature2\": 0.76}, {\"feature1\": 0.44, \"feature2\": 0.78}, {\"feature1\": 0.44, \"feature2\": 0.8}, {\"feature1\": 0.44, \"feature2\": 0.82}, {\"feature1\": 0.44, \"feature2\": 0.84}, {\"feature1\": 0.44, \"feature2\": 0.86}, {\"feature1\": 0.44, \"feature2\": 0.88}, {\"feature1\": 0.44, \"feature2\": 0.9}, {\"feature1\": 0.44, \"feature2\": 0.92}, {\"feature1\": 0.44, \"feature2\": 0.94}, {\"feature1\": 0.44, \"feature2\": 0.96}, {\"feature1\": 0.44, \"feature2\": 0.98}, {\"feature1\": 0.46, \"feature2\": 0.0}, {\"feature1\": 0.46, \"feature2\": 0.02}, {\"feature1\": 0.46, \"feature2\": 0.04}, {\"feature1\": 0.46, \"feature2\": 0.06}, {\"feature1\": 0.46, \"feature2\": 0.08}, {\"feature1\": 0.46, \"feature2\": 0.1}, {\"feature1\": 0.46, \"feature2\": 0.12}, {\"feature1\": 0.46, \"feature2\": 0.14}, {\"feature1\": 0.46, \"feature2\": 0.16}, {\"feature1\": 0.46, \"feature2\": 0.18}, {\"feature1\": 0.46, \"feature2\": 0.2}, {\"feature1\": 0.46, \"feature2\": 0.22}, {\"feature1\": 0.46, \"feature2\": 0.24}, {\"feature1\": 0.46, \"feature2\": 0.26}, {\"feature1\": 0.46, \"feature2\": 0.28}, {\"feature1\": 0.46, \"feature2\": 0.3}, {\"feature1\": 0.46, \"feature2\": 0.32}, {\"feature1\": 0.46, \"feature2\": 0.34}, {\"feature1\": 0.46, \"feature2\": 0.36}, {\"feature1\": 0.46, \"feature2\": 0.38}, {\"feature1\": 0.46, \"feature2\": 0.4}, {\"feature1\": 0.46, \"feature2\": 0.42}, {\"feature1\": 0.46, \"feature2\": 0.44}, {\"feature1\": 0.46, \"feature2\": 0.46}, {\"feature1\": 0.46, \"feature2\": 0.48}, {\"feature1\": 0.46, \"feature2\": 0.5}, {\"feature1\": 0.46, \"feature2\": 0.52}, {\"feature1\": 0.46, \"feature2\": 0.54}, {\"feature1\": 0.46, \"feature2\": 0.56}, {\"feature1\": 0.46, \"feature2\": 0.58}, {\"feature1\": 0.46, \"feature2\": 0.6}, {\"feature1\": 0.46, \"feature2\": 0.62}, {\"feature1\": 0.46, \"feature2\": 0.64}, {\"feature1\": 0.46, \"feature2\": 0.66}, {\"feature1\": 0.46, \"feature2\": 0.68}, {\"feature1\": 0.46, \"feature2\": 0.7}, {\"feature1\": 0.46, \"feature2\": 0.72}, {\"feature1\": 0.46, \"feature2\": 0.74}, {\"feature1\": 0.46, \"feature2\": 0.76}, {\"feature1\": 0.46, \"feature2\": 0.78}, {\"feature1\": 0.46, \"feature2\": 0.8}, {\"feature1\": 0.46, \"feature2\": 0.82}, {\"feature1\": 0.46, \"feature2\": 0.84}, {\"feature1\": 0.46, \"feature2\": 0.86}, {\"feature1\": 0.46, \"feature2\": 0.88}, {\"feature1\": 0.46, \"feature2\": 0.9}, {\"feature1\": 0.46, \"feature2\": 0.92}, {\"feature1\": 0.46, \"feature2\": 0.94}, {\"feature1\": 0.46, \"feature2\": 0.96}, {\"feature1\": 0.46, \"feature2\": 0.98}, {\"feature1\": 0.48, \"feature2\": 0.0}, {\"feature1\": 0.48, \"feature2\": 0.02}, {\"feature1\": 0.48, \"feature2\": 0.04}, {\"feature1\": 0.48, \"feature2\": 0.06}, {\"feature1\": 0.48, \"feature2\": 0.08}, {\"feature1\": 0.48, \"feature2\": 0.1}, {\"feature1\": 0.48, \"feature2\": 0.12}, {\"feature1\": 0.48, \"feature2\": 0.14}, {\"feature1\": 0.48, \"feature2\": 0.16}, {\"feature1\": 0.48, \"feature2\": 0.18}, {\"feature1\": 0.48, \"feature2\": 0.2}, {\"feature1\": 0.48, \"feature2\": 0.22}, {\"feature1\": 0.48, \"feature2\": 0.24}, {\"feature1\": 0.48, \"feature2\": 0.26}, {\"feature1\": 0.48, \"feature2\": 0.28}, {\"feature1\": 0.48, \"feature2\": 0.3}, {\"feature1\": 0.48, \"feature2\": 0.32}, {\"feature1\": 0.48, \"feature2\": 0.34}, {\"feature1\": 0.48, \"feature2\": 0.36}, {\"feature1\": 0.48, \"feature2\": 0.38}, {\"feature1\": 0.48, \"feature2\": 0.4}, {\"feature1\": 0.48, \"feature2\": 0.42}, {\"feature1\": 0.48, \"feature2\": 0.44}, {\"feature1\": 0.48, \"feature2\": 0.46}, {\"feature1\": 0.48, \"feature2\": 0.48}, {\"feature1\": 0.48, \"feature2\": 0.5}, {\"feature1\": 0.48, \"feature2\": 0.52}, {\"feature1\": 0.48, \"feature2\": 0.54}, {\"feature1\": 0.48, \"feature2\": 0.56}, {\"feature1\": 0.48, \"feature2\": 0.58}, {\"feature1\": 0.48, \"feature2\": 0.6}, {\"feature1\": 0.48, \"feature2\": 0.62}, {\"feature1\": 0.48, \"feature2\": 0.64}, {\"feature1\": 0.48, \"feature2\": 0.66}, {\"feature1\": 0.48, \"feature2\": 0.68}, {\"feature1\": 0.48, \"feature2\": 0.7}, {\"feature1\": 0.48, \"feature2\": 0.72}, {\"feature1\": 0.48, \"feature2\": 0.74}, {\"feature1\": 0.48, \"feature2\": 0.76}, {\"feature1\": 0.48, \"feature2\": 0.78}, {\"feature1\": 0.48, \"feature2\": 0.8}, {\"feature1\": 0.48, \"feature2\": 0.82}, {\"feature1\": 0.48, \"feature2\": 0.84}, {\"feature1\": 0.48, \"feature2\": 0.86}, {\"feature1\": 0.48, \"feature2\": 0.88}, {\"feature1\": 0.48, \"feature2\": 0.9}, {\"feature1\": 0.48, \"feature2\": 0.92}, {\"feature1\": 0.48, \"feature2\": 0.94}, {\"feature1\": 0.48, \"feature2\": 0.96}, {\"feature1\": 0.48, \"feature2\": 0.98}, {\"feature1\": 0.5, \"feature2\": 0.0}, {\"feature1\": 0.5, \"feature2\": 0.02}, {\"feature1\": 0.5, \"feature2\": 0.04}, {\"feature1\": 0.5, \"feature2\": 0.06}, {\"feature1\": 0.5, \"feature2\": 0.08}, {\"feature1\": 0.5, \"feature2\": 0.1}, {\"feature1\": 0.5, \"feature2\": 0.12}, {\"feature1\": 0.5, \"feature2\": 0.14}, {\"feature1\": 0.5, \"feature2\": 0.16}, {\"feature1\": 0.5, \"feature2\": 0.18}, {\"feature1\": 0.5, \"feature2\": 0.2}, {\"feature1\": 0.5, \"feature2\": 0.22}, {\"feature1\": 0.5, \"feature2\": 0.24}, {\"feature1\": 0.5, \"feature2\": 0.26}, {\"feature1\": 0.5, \"feature2\": 0.28}, {\"feature1\": 0.5, \"feature2\": 0.3}, {\"feature1\": 0.5, \"feature2\": 0.32}, {\"feature1\": 0.5, \"feature2\": 0.34}, {\"feature1\": 0.5, \"feature2\": 0.36}, {\"feature1\": 0.5, \"feature2\": 0.38}, {\"feature1\": 0.5, \"feature2\": 0.4}, {\"feature1\": 0.5, \"feature2\": 0.42}, {\"feature1\": 0.5, \"feature2\": 0.44}, {\"feature1\": 0.5, \"feature2\": 0.46}, {\"feature1\": 0.5, \"feature2\": 0.48}, {\"feature1\": 0.5, \"feature2\": 0.5}, {\"feature1\": 0.5, \"feature2\": 0.52}, {\"feature1\": 0.5, \"feature2\": 0.54}, {\"feature1\": 0.5, \"feature2\": 0.56}, {\"feature1\": 0.5, \"feature2\": 0.58}, {\"feature1\": 0.5, \"feature2\": 0.6}, {\"feature1\": 0.5, \"feature2\": 0.62}, {\"feature1\": 0.5, \"feature2\": 0.64}, {\"feature1\": 0.5, \"feature2\": 0.66}, {\"feature1\": 0.5, \"feature2\": 0.68}, {\"feature1\": 0.5, \"feature2\": 0.7}, {\"feature1\": 0.5, \"feature2\": 0.72}, {\"feature1\": 0.5, \"feature2\": 0.74}, {\"feature1\": 0.5, \"feature2\": 0.76}, {\"feature1\": 0.5, \"feature2\": 0.78}, {\"feature1\": 0.5, \"feature2\": 0.8}, {\"feature1\": 0.5, \"feature2\": 0.82}, {\"feature1\": 0.5, \"feature2\": 0.84}, {\"feature1\": 0.5, \"feature2\": 0.86}, {\"feature1\": 0.5, \"feature2\": 0.88}, {\"feature1\": 0.5, \"feature2\": 0.9}, {\"feature1\": 0.5, \"feature2\": 0.92}, {\"feature1\": 0.5, \"feature2\": 0.94}, {\"feature1\": 0.5, \"feature2\": 0.96}, {\"feature1\": 0.5, \"feature2\": 0.98}, {\"feature1\": 0.52, \"feature2\": 0.0}, {\"feature1\": 0.52, \"feature2\": 0.02}, {\"feature1\": 0.52, \"feature2\": 0.04}, {\"feature1\": 0.52, \"feature2\": 0.06}, {\"feature1\": 0.52, \"feature2\": 0.08}, {\"feature1\": 0.52, \"feature2\": 0.1}, {\"feature1\": 0.52, \"feature2\": 0.12}, {\"feature1\": 0.52, \"feature2\": 0.14}, {\"feature1\": 0.52, \"feature2\": 0.16}, {\"feature1\": 0.52, \"feature2\": 0.18}, {\"feature1\": 0.52, \"feature2\": 0.2}, {\"feature1\": 0.52, \"feature2\": 0.22}, {\"feature1\": 0.52, \"feature2\": 0.24}, {\"feature1\": 0.52, \"feature2\": 0.26}, {\"feature1\": 0.52, \"feature2\": 0.28}, {\"feature1\": 0.52, \"feature2\": 0.3}, {\"feature1\": 0.52, \"feature2\": 0.32}, {\"feature1\": 0.52, \"feature2\": 0.34}, {\"feature1\": 0.52, \"feature2\": 0.36}, {\"feature1\": 0.52, \"feature2\": 0.38}, {\"feature1\": 0.52, \"feature2\": 0.4}, {\"feature1\": 0.52, \"feature2\": 0.42}, {\"feature1\": 0.52, \"feature2\": 0.44}, {\"feature1\": 0.52, \"feature2\": 0.46}, {\"feature1\": 0.52, \"feature2\": 0.48}, {\"feature1\": 0.52, \"feature2\": 0.5}, {\"feature1\": 0.52, \"feature2\": 0.52}, {\"feature1\": 0.52, \"feature2\": 0.54}, {\"feature1\": 0.52, \"feature2\": 0.56}, {\"feature1\": 0.52, \"feature2\": 0.58}, {\"feature1\": 0.52, \"feature2\": 0.6}, {\"feature1\": 0.52, \"feature2\": 0.62}, {\"feature1\": 0.52, \"feature2\": 0.64}, {\"feature1\": 0.52, \"feature2\": 0.66}, {\"feature1\": 0.52, \"feature2\": 0.68}, {\"feature1\": 0.52, \"feature2\": 0.7}, {\"feature1\": 0.52, \"feature2\": 0.72}, {\"feature1\": 0.52, \"feature2\": 0.74}, {\"feature1\": 0.52, \"feature2\": 0.76}, {\"feature1\": 0.52, \"feature2\": 0.78}, {\"feature1\": 0.52, \"feature2\": 0.8}, {\"feature1\": 0.52, \"feature2\": 0.82}, {\"feature1\": 0.52, \"feature2\": 0.84}, {\"feature1\": 0.52, \"feature2\": 0.86}, {\"feature1\": 0.52, \"feature2\": 0.88}, {\"feature1\": 0.52, \"feature2\": 0.9}, {\"feature1\": 0.52, \"feature2\": 0.92}, {\"feature1\": 0.52, \"feature2\": 0.94}, {\"feature1\": 0.52, \"feature2\": 0.96}, {\"feature1\": 0.52, \"feature2\": 0.98}, {\"feature1\": 0.54, \"feature2\": 0.0}, {\"feature1\": 0.54, \"feature2\": 0.02}, {\"feature1\": 0.54, \"feature2\": 0.04}, {\"feature1\": 0.54, \"feature2\": 0.06}, {\"feature1\": 0.54, \"feature2\": 0.08}, {\"feature1\": 0.54, \"feature2\": 0.1}, {\"feature1\": 0.54, \"feature2\": 0.12}, {\"feature1\": 0.54, \"feature2\": 0.14}, {\"feature1\": 0.54, \"feature2\": 0.16}, {\"feature1\": 0.54, \"feature2\": 0.18}, {\"feature1\": 0.54, \"feature2\": 0.2}, {\"feature1\": 0.54, \"feature2\": 0.22}, {\"feature1\": 0.54, \"feature2\": 0.24}, {\"feature1\": 0.54, \"feature2\": 0.26}, {\"feature1\": 0.54, \"feature2\": 0.28}, {\"feature1\": 0.54, \"feature2\": 0.3}, {\"feature1\": 0.54, \"feature2\": 0.32}, {\"feature1\": 0.54, \"feature2\": 0.34}, {\"feature1\": 0.54, \"feature2\": 0.36}, {\"feature1\": 0.54, \"feature2\": 0.38}, {\"feature1\": 0.54, \"feature2\": 0.4}, {\"feature1\": 0.54, \"feature2\": 0.42}, {\"feature1\": 0.54, \"feature2\": 0.44}, {\"feature1\": 0.54, \"feature2\": 0.46}, {\"feature1\": 0.54, \"feature2\": 0.48}, {\"feature1\": 0.54, \"feature2\": 0.5}, {\"feature1\": 0.54, \"feature2\": 0.52}, {\"feature1\": 0.54, \"feature2\": 0.54}, {\"feature1\": 0.54, \"feature2\": 0.56}, {\"feature1\": 0.54, \"feature2\": 0.58}, {\"feature1\": 0.54, \"feature2\": 0.6}, {\"feature1\": 0.54, \"feature2\": 0.62}, {\"feature1\": 0.54, \"feature2\": 0.64}, {\"feature1\": 0.54, \"feature2\": 0.66}, {\"feature1\": 0.54, \"feature2\": 0.68}, {\"feature1\": 0.54, \"feature2\": 0.7}, {\"feature1\": 0.54, \"feature2\": 0.72}, {\"feature1\": 0.54, \"feature2\": 0.74}, {\"feature1\": 0.54, \"feature2\": 0.76}, {\"feature1\": 0.54, \"feature2\": 0.78}, {\"feature1\": 0.54, \"feature2\": 0.8}, {\"feature1\": 0.54, \"feature2\": 0.82}, {\"feature1\": 0.54, \"feature2\": 0.84}, {\"feature1\": 0.54, \"feature2\": 0.86}, {\"feature1\": 0.54, \"feature2\": 0.88}, {\"feature1\": 0.54, \"feature2\": 0.9}, {\"feature1\": 0.54, \"feature2\": 0.92}, {\"feature1\": 0.54, \"feature2\": 0.94}, {\"feature1\": 0.54, \"feature2\": 0.96}, {\"feature1\": 0.54, \"feature2\": 0.98}, {\"feature1\": 0.56, \"feature2\": 0.0}, {\"feature1\": 0.56, \"feature2\": 0.02}, {\"feature1\": 0.56, \"feature2\": 0.04}, {\"feature1\": 0.56, \"feature2\": 0.06}, {\"feature1\": 0.56, \"feature2\": 0.08}, {\"feature1\": 0.56, \"feature2\": 0.1}, {\"feature1\": 0.56, \"feature2\": 0.12}, {\"feature1\": 0.56, \"feature2\": 0.14}, {\"feature1\": 0.56, \"feature2\": 0.16}, {\"feature1\": 0.56, \"feature2\": 0.18}, {\"feature1\": 0.56, \"feature2\": 0.2}, {\"feature1\": 0.56, \"feature2\": 0.22}, {\"feature1\": 0.56, \"feature2\": 0.24}, {\"feature1\": 0.56, \"feature2\": 0.26}, {\"feature1\": 0.56, \"feature2\": 0.28}, {\"feature1\": 0.56, \"feature2\": 0.3}, {\"feature1\": 0.56, \"feature2\": 0.32}, {\"feature1\": 0.56, \"feature2\": 0.34}, {\"feature1\": 0.56, \"feature2\": 0.36}, {\"feature1\": 0.56, \"feature2\": 0.38}, {\"feature1\": 0.56, \"feature2\": 0.4}, {\"feature1\": 0.56, \"feature2\": 0.42}, {\"feature1\": 0.56, \"feature2\": 0.44}, {\"feature1\": 0.56, \"feature2\": 0.46}, {\"feature1\": 0.56, \"feature2\": 0.48}, {\"feature1\": 0.56, \"feature2\": 0.5}, {\"feature1\": 0.56, \"feature2\": 0.52}, {\"feature1\": 0.56, \"feature2\": 0.54}, {\"feature1\": 0.56, \"feature2\": 0.56}, {\"feature1\": 0.56, \"feature2\": 0.58}, {\"feature1\": 0.56, \"feature2\": 0.6}, {\"feature1\": 0.56, \"feature2\": 0.62}, {\"feature1\": 0.56, \"feature2\": 0.64}, {\"feature1\": 0.56, \"feature2\": 0.66}, {\"feature1\": 0.56, \"feature2\": 0.68}, {\"feature1\": 0.56, \"feature2\": 0.7}, {\"feature1\": 0.56, \"feature2\": 0.72}, {\"feature1\": 0.56, \"feature2\": 0.74}, {\"feature1\": 0.56, \"feature2\": 0.76}, {\"feature1\": 0.56, \"feature2\": 0.78}, {\"feature1\": 0.56, \"feature2\": 0.8}, {\"feature1\": 0.56, \"feature2\": 0.82}, {\"feature1\": 0.56, \"feature2\": 0.84}, {\"feature1\": 0.56, \"feature2\": 0.86}, {\"feature1\": 0.56, \"feature2\": 0.88}, {\"feature1\": 0.56, \"feature2\": 0.9}, {\"feature1\": 0.56, \"feature2\": 0.92}, {\"feature1\": 0.56, \"feature2\": 0.94}, {\"feature1\": 0.56, \"feature2\": 0.96}, {\"feature1\": 0.56, \"feature2\": 0.98}, {\"feature1\": 0.58, \"feature2\": 0.0}, {\"feature1\": 0.58, \"feature2\": 0.02}, {\"feature1\": 0.58, \"feature2\": 0.04}, {\"feature1\": 0.58, \"feature2\": 0.06}, {\"feature1\": 0.58, \"feature2\": 0.08}, {\"feature1\": 0.58, \"feature2\": 0.1}, {\"feature1\": 0.58, \"feature2\": 0.12}, {\"feature1\": 0.58, \"feature2\": 0.14}, {\"feature1\": 0.58, \"feature2\": 0.16}, {\"feature1\": 0.58, \"feature2\": 0.18}, {\"feature1\": 0.58, \"feature2\": 0.2}, {\"feature1\": 0.58, \"feature2\": 0.22}, {\"feature1\": 0.58, \"feature2\": 0.24}, {\"feature1\": 0.58, \"feature2\": 0.26}, {\"feature1\": 0.58, \"feature2\": 0.28}, {\"feature1\": 0.58, \"feature2\": 0.3}, {\"feature1\": 0.58, \"feature2\": 0.32}, {\"feature1\": 0.58, \"feature2\": 0.34}, {\"feature1\": 0.58, \"feature2\": 0.36}, {\"feature1\": 0.58, \"feature2\": 0.38}, {\"feature1\": 0.58, \"feature2\": 0.4}, {\"feature1\": 0.58, \"feature2\": 0.42}, {\"feature1\": 0.58, \"feature2\": 0.44}, {\"feature1\": 0.58, \"feature2\": 0.46}, {\"feature1\": 0.58, \"feature2\": 0.48}, {\"feature1\": 0.58, \"feature2\": 0.5}, {\"feature1\": 0.58, \"feature2\": 0.52}, {\"feature1\": 0.58, \"feature2\": 0.54}, {\"feature1\": 0.58, \"feature2\": 0.56}, {\"feature1\": 0.58, \"feature2\": 0.58}, {\"feature1\": 0.58, \"feature2\": 0.6}, {\"feature1\": 0.58, \"feature2\": 0.62}, {\"feature1\": 0.58, \"feature2\": 0.64}, {\"feature1\": 0.58, \"feature2\": 0.66}, {\"feature1\": 0.58, \"feature2\": 0.68}, {\"feature1\": 0.58, \"feature2\": 0.7}, {\"feature1\": 0.58, \"feature2\": 0.72}, {\"feature1\": 0.58, \"feature2\": 0.74}, {\"feature1\": 0.58, \"feature2\": 0.76}, {\"feature1\": 0.58, \"feature2\": 0.78}, {\"feature1\": 0.58, \"feature2\": 0.8}, {\"feature1\": 0.58, \"feature2\": 0.82}, {\"feature1\": 0.58, \"feature2\": 0.84}, {\"feature1\": 0.58, \"feature2\": 0.86}, {\"feature1\": 0.58, \"feature2\": 0.88}, {\"feature1\": 0.58, \"feature2\": 0.9}, {\"feature1\": 0.58, \"feature2\": 0.92}, {\"feature1\": 0.58, \"feature2\": 0.94}, {\"feature1\": 0.58, \"feature2\": 0.96}, {\"feature1\": 0.58, \"feature2\": 0.98}, {\"feature1\": 0.6, \"feature2\": 0.0}, {\"feature1\": 0.6, \"feature2\": 0.02}, {\"feature1\": 0.6, \"feature2\": 0.04}, {\"feature1\": 0.6, \"feature2\": 0.06}, {\"feature1\": 0.6, \"feature2\": 0.08}, {\"feature1\": 0.6, \"feature2\": 0.1}, {\"feature1\": 0.6, \"feature2\": 0.12}, {\"feature1\": 0.6, \"feature2\": 0.14}, {\"feature1\": 0.6, \"feature2\": 0.16}, {\"feature1\": 0.6, \"feature2\": 0.18}, {\"feature1\": 0.6, \"feature2\": 0.2}, {\"feature1\": 0.6, \"feature2\": 0.22}, {\"feature1\": 0.6, \"feature2\": 0.24}, {\"feature1\": 0.6, \"feature2\": 0.26}, {\"feature1\": 0.6, \"feature2\": 0.28}, {\"feature1\": 0.6, \"feature2\": 0.3}, {\"feature1\": 0.6, \"feature2\": 0.32}, {\"feature1\": 0.6, \"feature2\": 0.34}, {\"feature1\": 0.6, \"feature2\": 0.36}, {\"feature1\": 0.6, \"feature2\": 0.38}, {\"feature1\": 0.6, \"feature2\": 0.4}, {\"feature1\": 0.6, \"feature2\": 0.42}, {\"feature1\": 0.6, \"feature2\": 0.44}, {\"feature1\": 0.6, \"feature2\": 0.46}, {\"feature1\": 0.6, \"feature2\": 0.48}, {\"feature1\": 0.6, \"feature2\": 0.5}, {\"feature1\": 0.6, \"feature2\": 0.52}, {\"feature1\": 0.6, \"feature2\": 0.54}, {\"feature1\": 0.6, \"feature2\": 0.56}, {\"feature1\": 0.6, \"feature2\": 0.58}, {\"feature1\": 0.6, \"feature2\": 0.6}, {\"feature1\": 0.6, \"feature2\": 0.62}, {\"feature1\": 0.6, \"feature2\": 0.64}, {\"feature1\": 0.6, \"feature2\": 0.66}, {\"feature1\": 0.6, \"feature2\": 0.68}, {\"feature1\": 0.6, \"feature2\": 0.7}, {\"feature1\": 0.6, \"feature2\": 0.72}, {\"feature1\": 0.6, \"feature2\": 0.74}, {\"feature1\": 0.6, \"feature2\": 0.76}, {\"feature1\": 0.6, \"feature2\": 0.78}, {\"feature1\": 0.6, \"feature2\": 0.8}, {\"feature1\": 0.6, \"feature2\": 0.82}, {\"feature1\": 0.6, \"feature2\": 0.84}, {\"feature1\": 0.6, \"feature2\": 0.86}, {\"feature1\": 0.6, \"feature2\": 0.88}, {\"feature1\": 0.6, \"feature2\": 0.9}, {\"feature1\": 0.6, \"feature2\": 0.92}, {\"feature1\": 0.6, \"feature2\": 0.94}, {\"feature1\": 0.6, \"feature2\": 0.96}, {\"feature1\": 0.6, \"feature2\": 0.98}, {\"feature1\": 0.62, \"feature2\": 0.0}, {\"feature1\": 0.62, \"feature2\": 0.02}, {\"feature1\": 0.62, \"feature2\": 0.04}, {\"feature1\": 0.62, \"feature2\": 0.06}, {\"feature1\": 0.62, \"feature2\": 0.08}, {\"feature1\": 0.62, \"feature2\": 0.1}, {\"feature1\": 0.62, \"feature2\": 0.12}, {\"feature1\": 0.62, \"feature2\": 0.14}, {\"feature1\": 0.62, \"feature2\": 0.16}, {\"feature1\": 0.62, \"feature2\": 0.18}, {\"feature1\": 0.62, \"feature2\": 0.2}, {\"feature1\": 0.62, \"feature2\": 0.22}, {\"feature1\": 0.62, \"feature2\": 0.24}, {\"feature1\": 0.62, \"feature2\": 0.26}, {\"feature1\": 0.62, \"feature2\": 0.28}, {\"feature1\": 0.62, \"feature2\": 0.3}, {\"feature1\": 0.62, \"feature2\": 0.32}, {\"feature1\": 0.62, \"feature2\": 0.34}, {\"feature1\": 0.62, \"feature2\": 0.36}, {\"feature1\": 0.62, \"feature2\": 0.38}, {\"feature1\": 0.62, \"feature2\": 0.4}, {\"feature1\": 0.62, \"feature2\": 0.42}, {\"feature1\": 0.62, \"feature2\": 0.44}, {\"feature1\": 0.62, \"feature2\": 0.46}, {\"feature1\": 0.62, \"feature2\": 0.48}, {\"feature1\": 0.62, \"feature2\": 0.5}, {\"feature1\": 0.62, \"feature2\": 0.52}, {\"feature1\": 0.62, \"feature2\": 0.54}, {\"feature1\": 0.62, \"feature2\": 0.56}, {\"feature1\": 0.62, \"feature2\": 0.58}, {\"feature1\": 0.62, \"feature2\": 0.6}, {\"feature1\": 0.62, \"feature2\": 0.62}, {\"feature1\": 0.62, \"feature2\": 0.64}, {\"feature1\": 0.62, \"feature2\": 0.66}, {\"feature1\": 0.62, \"feature2\": 0.68}, {\"feature1\": 0.62, \"feature2\": 0.7}, {\"feature1\": 0.62, \"feature2\": 0.72}, {\"feature1\": 0.62, \"feature2\": 0.74}, {\"feature1\": 0.62, \"feature2\": 0.76}, {\"feature1\": 0.62, \"feature2\": 0.78}, {\"feature1\": 0.62, \"feature2\": 0.8}, {\"feature1\": 0.62, \"feature2\": 0.82}, {\"feature1\": 0.62, \"feature2\": 0.84}, {\"feature1\": 0.62, \"feature2\": 0.86}, {\"feature1\": 0.62, \"feature2\": 0.88}, {\"feature1\": 0.62, \"feature2\": 0.9}, {\"feature1\": 0.62, \"feature2\": 0.92}, {\"feature1\": 0.62, \"feature2\": 0.94}, {\"feature1\": 0.62, \"feature2\": 0.96}, {\"feature1\": 0.62, \"feature2\": 0.98}, {\"feature1\": 0.64, \"feature2\": 0.0}, {\"feature1\": 0.64, \"feature2\": 0.02}, {\"feature1\": 0.64, \"feature2\": 0.04}, {\"feature1\": 0.64, \"feature2\": 0.06}, {\"feature1\": 0.64, \"feature2\": 0.08}, {\"feature1\": 0.64, \"feature2\": 0.1}, {\"feature1\": 0.64, \"feature2\": 0.12}, {\"feature1\": 0.64, \"feature2\": 0.14}, {\"feature1\": 0.64, \"feature2\": 0.16}, {\"feature1\": 0.64, \"feature2\": 0.18}, {\"feature1\": 0.64, \"feature2\": 0.2}, {\"feature1\": 0.64, \"feature2\": 0.22}, {\"feature1\": 0.64, \"feature2\": 0.24}, {\"feature1\": 0.64, \"feature2\": 0.26}, {\"feature1\": 0.64, \"feature2\": 0.28}, {\"feature1\": 0.64, \"feature2\": 0.3}, {\"feature1\": 0.64, \"feature2\": 0.32}, {\"feature1\": 0.64, \"feature2\": 0.34}, {\"feature1\": 0.64, \"feature2\": 0.36}, {\"feature1\": 0.64, \"feature2\": 0.38}, {\"feature1\": 0.64, \"feature2\": 0.4}, {\"feature1\": 0.64, \"feature2\": 0.42}, {\"feature1\": 0.64, \"feature2\": 0.44}, {\"feature1\": 0.64, \"feature2\": 0.46}, {\"feature1\": 0.64, \"feature2\": 0.48}, {\"feature1\": 0.64, \"feature2\": 0.5}, {\"feature1\": 0.64, \"feature2\": 0.52}, {\"feature1\": 0.64, \"feature2\": 0.54}, {\"feature1\": 0.64, \"feature2\": 0.56}, {\"feature1\": 0.64, \"feature2\": 0.58}, {\"feature1\": 0.64, \"feature2\": 0.6}, {\"feature1\": 0.64, \"feature2\": 0.62}, {\"feature1\": 0.64, \"feature2\": 0.64}, {\"feature1\": 0.64, \"feature2\": 0.66}, {\"feature1\": 0.64, \"feature2\": 0.68}, {\"feature1\": 0.64, \"feature2\": 0.7}, {\"feature1\": 0.64, \"feature2\": 0.72}, {\"feature1\": 0.64, \"feature2\": 0.74}, {\"feature1\": 0.64, \"feature2\": 0.76}, {\"feature1\": 0.64, \"feature2\": 0.78}, {\"feature1\": 0.64, \"feature2\": 0.8}, {\"feature1\": 0.64, \"feature2\": 0.82}, {\"feature1\": 0.64, \"feature2\": 0.84}, {\"feature1\": 0.64, \"feature2\": 0.86}, {\"feature1\": 0.64, \"feature2\": 0.88}, {\"feature1\": 0.64, \"feature2\": 0.9}, {\"feature1\": 0.64, \"feature2\": 0.92}, {\"feature1\": 0.64, \"feature2\": 0.94}, {\"feature1\": 0.64, \"feature2\": 0.96}, {\"feature1\": 0.64, \"feature2\": 0.98}, {\"feature1\": 0.66, \"feature2\": 0.0}, {\"feature1\": 0.66, \"feature2\": 0.02}, {\"feature1\": 0.66, \"feature2\": 0.04}, {\"feature1\": 0.66, \"feature2\": 0.06}, {\"feature1\": 0.66, \"feature2\": 0.08}, {\"feature1\": 0.66, \"feature2\": 0.1}, {\"feature1\": 0.66, \"feature2\": 0.12}, {\"feature1\": 0.66, \"feature2\": 0.14}, {\"feature1\": 0.66, \"feature2\": 0.16}, {\"feature1\": 0.66, \"feature2\": 0.18}, {\"feature1\": 0.66, \"feature2\": 0.2}, {\"feature1\": 0.66, \"feature2\": 0.22}, {\"feature1\": 0.66, \"feature2\": 0.24}, {\"feature1\": 0.66, \"feature2\": 0.26}, {\"feature1\": 0.66, \"feature2\": 0.28}, {\"feature1\": 0.66, \"feature2\": 0.3}, {\"feature1\": 0.66, \"feature2\": 0.32}, {\"feature1\": 0.66, \"feature2\": 0.34}, {\"feature1\": 0.66, \"feature2\": 0.36}, {\"feature1\": 0.66, \"feature2\": 0.38}, {\"feature1\": 0.66, \"feature2\": 0.4}, {\"feature1\": 0.66, \"feature2\": 0.42}, {\"feature1\": 0.66, \"feature2\": 0.44}, {\"feature1\": 0.66, \"feature2\": 0.46}, {\"feature1\": 0.66, \"feature2\": 0.48}, {\"feature1\": 0.66, \"feature2\": 0.5}, {\"feature1\": 0.66, \"feature2\": 0.52}, {\"feature1\": 0.66, \"feature2\": 0.54}, {\"feature1\": 0.66, \"feature2\": 0.56}, {\"feature1\": 0.66, \"feature2\": 0.58}, {\"feature1\": 0.66, \"feature2\": 0.6}, {\"feature1\": 0.66, \"feature2\": 0.62}, {\"feature1\": 0.66, \"feature2\": 0.64}, {\"feature1\": 0.66, \"feature2\": 0.66}, {\"feature1\": 0.66, \"feature2\": 0.68}, {\"feature1\": 0.66, \"feature2\": 0.7}, {\"feature1\": 0.66, \"feature2\": 0.72}, {\"feature1\": 0.66, \"feature2\": 0.74}, {\"feature1\": 0.66, \"feature2\": 0.76}, {\"feature1\": 0.66, \"feature2\": 0.78}, {\"feature1\": 0.66, \"feature2\": 0.8}, {\"feature1\": 0.66, \"feature2\": 0.82}, {\"feature1\": 0.66, \"feature2\": 0.84}, {\"feature1\": 0.66, \"feature2\": 0.86}, {\"feature1\": 0.66, \"feature2\": 0.88}, {\"feature1\": 0.66, \"feature2\": 0.9}, {\"feature1\": 0.66, \"feature2\": 0.92}, {\"feature1\": 0.66, \"feature2\": 0.94}, {\"feature1\": 0.66, \"feature2\": 0.96}, {\"feature1\": 0.66, \"feature2\": 0.98}, {\"feature1\": 0.68, \"feature2\": 0.0}, {\"feature1\": 0.68, \"feature2\": 0.02}, {\"feature1\": 0.68, \"feature2\": 0.04}, {\"feature1\": 0.68, \"feature2\": 0.06}, {\"feature1\": 0.68, \"feature2\": 0.08}, {\"feature1\": 0.68, \"feature2\": 0.1}, {\"feature1\": 0.68, \"feature2\": 0.12}, {\"feature1\": 0.68, \"feature2\": 0.14}, {\"feature1\": 0.68, \"feature2\": 0.16}, {\"feature1\": 0.68, \"feature2\": 0.18}, {\"feature1\": 0.68, \"feature2\": 0.2}, {\"feature1\": 0.68, \"feature2\": 0.22}, {\"feature1\": 0.68, \"feature2\": 0.24}, {\"feature1\": 0.68, \"feature2\": 0.26}, {\"feature1\": 0.68, \"feature2\": 0.28}, {\"feature1\": 0.68, \"feature2\": 0.3}, {\"feature1\": 0.68, \"feature2\": 0.32}, {\"feature1\": 0.68, \"feature2\": 0.34}, {\"feature1\": 0.68, \"feature2\": 0.36}, {\"feature1\": 0.68, \"feature2\": 0.38}, {\"feature1\": 0.68, \"feature2\": 0.4}, {\"feature1\": 0.68, \"feature2\": 0.42}, {\"feature1\": 0.68, \"feature2\": 0.44}, {\"feature1\": 0.68, \"feature2\": 0.46}, {\"feature1\": 0.68, \"feature2\": 0.48}, {\"feature1\": 0.68, \"feature2\": 0.5}, {\"feature1\": 0.68, \"feature2\": 0.52}, {\"feature1\": 0.68, \"feature2\": 0.54}, {\"feature1\": 0.68, \"feature2\": 0.56}, {\"feature1\": 0.68, \"feature2\": 0.58}, {\"feature1\": 0.68, \"feature2\": 0.6}, {\"feature1\": 0.68, \"feature2\": 0.62}, {\"feature1\": 0.68, \"feature2\": 0.64}, {\"feature1\": 0.68, \"feature2\": 0.66}, {\"feature1\": 0.68, \"feature2\": 0.68}, {\"feature1\": 0.68, \"feature2\": 0.7}, {\"feature1\": 0.68, \"feature2\": 0.72}, {\"feature1\": 0.68, \"feature2\": 0.74}, {\"feature1\": 0.68, \"feature2\": 0.76}, {\"feature1\": 0.68, \"feature2\": 0.78}, {\"feature1\": 0.68, \"feature2\": 0.8}, {\"feature1\": 0.68, \"feature2\": 0.82}, {\"feature1\": 0.68, \"feature2\": 0.84}, {\"feature1\": 0.68, \"feature2\": 0.86}, {\"feature1\": 0.68, \"feature2\": 0.88}, {\"feature1\": 0.68, \"feature2\": 0.9}, {\"feature1\": 0.68, \"feature2\": 0.92}, {\"feature1\": 0.68, \"feature2\": 0.94}, {\"feature1\": 0.68, \"feature2\": 0.96}, {\"feature1\": 0.68, \"feature2\": 0.98}, {\"feature1\": 0.7, \"feature2\": 0.0}, {\"feature1\": 0.7, \"feature2\": 0.02}, {\"feature1\": 0.7, \"feature2\": 0.04}, {\"feature1\": 0.7, \"feature2\": 0.06}, {\"feature1\": 0.7, \"feature2\": 0.08}, {\"feature1\": 0.7, \"feature2\": 0.1}, {\"feature1\": 0.7, \"feature2\": 0.12}, {\"feature1\": 0.7, \"feature2\": 0.14}, {\"feature1\": 0.7, \"feature2\": 0.16}, {\"feature1\": 0.7, \"feature2\": 0.18}, {\"feature1\": 0.7, \"feature2\": 0.2}, {\"feature1\": 0.7, \"feature2\": 0.22}, {\"feature1\": 0.7, \"feature2\": 0.24}, {\"feature1\": 0.7, \"feature2\": 0.26}, {\"feature1\": 0.7, \"feature2\": 0.28}, {\"feature1\": 0.7, \"feature2\": 0.3}, {\"feature1\": 0.7, \"feature2\": 0.32}, {\"feature1\": 0.7, \"feature2\": 0.34}, {\"feature1\": 0.7, \"feature2\": 0.36}, {\"feature1\": 0.7, \"feature2\": 0.38}, {\"feature1\": 0.7, \"feature2\": 0.4}, {\"feature1\": 0.7, \"feature2\": 0.42}, {\"feature1\": 0.7, \"feature2\": 0.44}, {\"feature1\": 0.7, \"feature2\": 0.46}, {\"feature1\": 0.7, \"feature2\": 0.48}, {\"feature1\": 0.7, \"feature2\": 0.5}, {\"feature1\": 0.7, \"feature2\": 0.52}, {\"feature1\": 0.7, \"feature2\": 0.54}, {\"feature1\": 0.7, \"feature2\": 0.56}, {\"feature1\": 0.7, \"feature2\": 0.58}, {\"feature1\": 0.7, \"feature2\": 0.6}, {\"feature1\": 0.7, \"feature2\": 0.62}, {\"feature1\": 0.7, \"feature2\": 0.64}, {\"feature1\": 0.7, \"feature2\": 0.66}, {\"feature1\": 0.7, \"feature2\": 0.68}, {\"feature1\": 0.7, \"feature2\": 0.7}, {\"feature1\": 0.7, \"feature2\": 0.72}, {\"feature1\": 0.7, \"feature2\": 0.74}, {\"feature1\": 0.7, \"feature2\": 0.76}, {\"feature1\": 0.7, \"feature2\": 0.78}, {\"feature1\": 0.7, \"feature2\": 0.8}, {\"feature1\": 0.7, \"feature2\": 0.82}, {\"feature1\": 0.7, \"feature2\": 0.84}, {\"feature1\": 0.7, \"feature2\": 0.86}, {\"feature1\": 0.7, \"feature2\": 0.88}, {\"feature1\": 0.7, \"feature2\": 0.9}, {\"feature1\": 0.7, \"feature2\": 0.92}, {\"feature1\": 0.7, \"feature2\": 0.94}, {\"feature1\": 0.7, \"feature2\": 0.96}, {\"feature1\": 0.7, \"feature2\": 0.98}, {\"feature1\": 0.72, \"feature2\": 0.0}, {\"feature1\": 0.72, \"feature2\": 0.02}, {\"feature1\": 0.72, \"feature2\": 0.04}, {\"feature1\": 0.72, \"feature2\": 0.06}, {\"feature1\": 0.72, \"feature2\": 0.08}, {\"feature1\": 0.72, \"feature2\": 0.1}, {\"feature1\": 0.72, \"feature2\": 0.12}, {\"feature1\": 0.72, \"feature2\": 0.14}, {\"feature1\": 0.72, \"feature2\": 0.16}, {\"feature1\": 0.72, \"feature2\": 0.18}, {\"feature1\": 0.72, \"feature2\": 0.2}, {\"feature1\": 0.72, \"feature2\": 0.22}, {\"feature1\": 0.72, \"feature2\": 0.24}, {\"feature1\": 0.72, \"feature2\": 0.26}, {\"feature1\": 0.72, \"feature2\": 0.28}, {\"feature1\": 0.72, \"feature2\": 0.3}, {\"feature1\": 0.72, \"feature2\": 0.32}, {\"feature1\": 0.72, \"feature2\": 0.34}, {\"feature1\": 0.72, \"feature2\": 0.36}, {\"feature1\": 0.72, \"feature2\": 0.38}, {\"feature1\": 0.72, \"feature2\": 0.4}, {\"feature1\": 0.72, \"feature2\": 0.42}, {\"feature1\": 0.72, \"feature2\": 0.44}, {\"feature1\": 0.72, \"feature2\": 0.46}, {\"feature1\": 0.72, \"feature2\": 0.48}, {\"feature1\": 0.72, \"feature2\": 0.5}, {\"feature1\": 0.72, \"feature2\": 0.52}, {\"feature1\": 0.72, \"feature2\": 0.54}, {\"feature1\": 0.72, \"feature2\": 0.56}, {\"feature1\": 0.72, \"feature2\": 0.58}, {\"feature1\": 0.72, \"feature2\": 0.6}, {\"feature1\": 0.72, \"feature2\": 0.62}, {\"feature1\": 0.72, \"feature2\": 0.64}, {\"feature1\": 0.72, \"feature2\": 0.66}, {\"feature1\": 0.72, \"feature2\": 0.68}, {\"feature1\": 0.72, \"feature2\": 0.7}, {\"feature1\": 0.72, \"feature2\": 0.72}, {\"feature1\": 0.72, \"feature2\": 0.74}, {\"feature1\": 0.72, \"feature2\": 0.76}, {\"feature1\": 0.72, \"feature2\": 0.78}, {\"feature1\": 0.72, \"feature2\": 0.8}, {\"feature1\": 0.72, \"feature2\": 0.82}, {\"feature1\": 0.72, \"feature2\": 0.84}, {\"feature1\": 0.72, \"feature2\": 0.86}, {\"feature1\": 0.72, \"feature2\": 0.88}, {\"feature1\": 0.72, \"feature2\": 0.9}, {\"feature1\": 0.72, \"feature2\": 0.92}, {\"feature1\": 0.72, \"feature2\": 0.94}, {\"feature1\": 0.72, \"feature2\": 0.96}, {\"feature1\": 0.72, \"feature2\": 0.98}, {\"feature1\": 0.74, \"feature2\": 0.0}, {\"feature1\": 0.74, \"feature2\": 0.02}, {\"feature1\": 0.74, \"feature2\": 0.04}, {\"feature1\": 0.74, \"feature2\": 0.06}, {\"feature1\": 0.74, \"feature2\": 0.08}, {\"feature1\": 0.74, \"feature2\": 0.1}, {\"feature1\": 0.74, \"feature2\": 0.12}, {\"feature1\": 0.74, \"feature2\": 0.14}, {\"feature1\": 0.74, \"feature2\": 0.16}, {\"feature1\": 0.74, \"feature2\": 0.18}, {\"feature1\": 0.74, \"feature2\": 0.2}, {\"feature1\": 0.74, \"feature2\": 0.22}, {\"feature1\": 0.74, \"feature2\": 0.24}, {\"feature1\": 0.74, \"feature2\": 0.26}, {\"feature1\": 0.74, \"feature2\": 0.28}, {\"feature1\": 0.74, \"feature2\": 0.3}, {\"feature1\": 0.74, \"feature2\": 0.32}, {\"feature1\": 0.74, \"feature2\": 0.34}, {\"feature1\": 0.74, \"feature2\": 0.36}, {\"feature1\": 0.74, \"feature2\": 0.38}, {\"feature1\": 0.74, \"feature2\": 0.4}, {\"feature1\": 0.74, \"feature2\": 0.42}, {\"feature1\": 0.74, \"feature2\": 0.44}, {\"feature1\": 0.74, \"feature2\": 0.46}, {\"feature1\": 0.74, \"feature2\": 0.48}, {\"feature1\": 0.74, \"feature2\": 0.5}, {\"feature1\": 0.74, \"feature2\": 0.52}, {\"feature1\": 0.74, \"feature2\": 0.54}, {\"feature1\": 0.74, \"feature2\": 0.56}, {\"feature1\": 0.74, \"feature2\": 0.58}, {\"feature1\": 0.74, \"feature2\": 0.6}, {\"feature1\": 0.74, \"feature2\": 0.62}, {\"feature1\": 0.74, \"feature2\": 0.64}, {\"feature1\": 0.74, \"feature2\": 0.66}, {\"feature1\": 0.74, \"feature2\": 0.68}, {\"feature1\": 0.74, \"feature2\": 0.7}, {\"feature1\": 0.74, \"feature2\": 0.72}, {\"feature1\": 0.74, \"feature2\": 0.74}, {\"feature1\": 0.74, \"feature2\": 0.76}, {\"feature1\": 0.74, \"feature2\": 0.78}, {\"feature1\": 0.74, \"feature2\": 0.8}, {\"feature1\": 0.74, \"feature2\": 0.82}, {\"feature1\": 0.74, \"feature2\": 0.84}, {\"feature1\": 0.74, \"feature2\": 0.86}, {\"feature1\": 0.74, \"feature2\": 0.88}, {\"feature1\": 0.74, \"feature2\": 0.9}, {\"feature1\": 0.74, \"feature2\": 0.92}, {\"feature1\": 0.74, \"feature2\": 0.94}, {\"feature1\": 0.74, \"feature2\": 0.96}, {\"feature1\": 0.74, \"feature2\": 0.98}, {\"feature1\": 0.76, \"feature2\": 0.0}, {\"feature1\": 0.76, \"feature2\": 0.02}, {\"feature1\": 0.76, \"feature2\": 0.04}, {\"feature1\": 0.76, \"feature2\": 0.06}, {\"feature1\": 0.76, \"feature2\": 0.08}, {\"feature1\": 0.76, \"feature2\": 0.1}, {\"feature1\": 0.76, \"feature2\": 0.12}, {\"feature1\": 0.76, \"feature2\": 0.14}, {\"feature1\": 0.76, \"feature2\": 0.16}, {\"feature1\": 0.76, \"feature2\": 0.18}, {\"feature1\": 0.76, \"feature2\": 0.2}, {\"feature1\": 0.76, \"feature2\": 0.22}, {\"feature1\": 0.76, \"feature2\": 0.24}, {\"feature1\": 0.76, \"feature2\": 0.26}, {\"feature1\": 0.76, \"feature2\": 0.28}, {\"feature1\": 0.76, \"feature2\": 0.3}, {\"feature1\": 0.76, \"feature2\": 0.32}, {\"feature1\": 0.76, \"feature2\": 0.34}, {\"feature1\": 0.76, \"feature2\": 0.36}, {\"feature1\": 0.76, \"feature2\": 0.38}, {\"feature1\": 0.76, \"feature2\": 0.4}, {\"feature1\": 0.76, \"feature2\": 0.42}, {\"feature1\": 0.76, \"feature2\": 0.44}, {\"feature1\": 0.76, \"feature2\": 0.46}, {\"feature1\": 0.76, \"feature2\": 0.48}, {\"feature1\": 0.76, \"feature2\": 0.5}, {\"feature1\": 0.76, \"feature2\": 0.52}, {\"feature1\": 0.76, \"feature2\": 0.54}, {\"feature1\": 0.76, \"feature2\": 0.56}, {\"feature1\": 0.76, \"feature2\": 0.58}, {\"feature1\": 0.76, \"feature2\": 0.6}, {\"feature1\": 0.76, \"feature2\": 0.62}, {\"feature1\": 0.76, \"feature2\": 0.64}, {\"feature1\": 0.76, \"feature2\": 0.66}, {\"feature1\": 0.76, \"feature2\": 0.68}, {\"feature1\": 0.76, \"feature2\": 0.7}, {\"feature1\": 0.76, \"feature2\": 0.72}, {\"feature1\": 0.76, \"feature2\": 0.74}, {\"feature1\": 0.76, \"feature2\": 0.76}, {\"feature1\": 0.76, \"feature2\": 0.78}, {\"feature1\": 0.76, \"feature2\": 0.8}, {\"feature1\": 0.76, \"feature2\": 0.82}, {\"feature1\": 0.76, \"feature2\": 0.84}, {\"feature1\": 0.76, \"feature2\": 0.86}, {\"feature1\": 0.76, \"feature2\": 0.88}, {\"feature1\": 0.76, \"feature2\": 0.9}, {\"feature1\": 0.76, \"feature2\": 0.92}, {\"feature1\": 0.76, \"feature2\": 0.94}, {\"feature1\": 0.76, \"feature2\": 0.96}, {\"feature1\": 0.76, \"feature2\": 0.98}, {\"feature1\": 0.78, \"feature2\": 0.0}, {\"feature1\": 0.78, \"feature2\": 0.02}, {\"feature1\": 0.78, \"feature2\": 0.04}, {\"feature1\": 0.78, \"feature2\": 0.06}, {\"feature1\": 0.78, \"feature2\": 0.08}, {\"feature1\": 0.78, \"feature2\": 0.1}, {\"feature1\": 0.78, \"feature2\": 0.12}, {\"feature1\": 0.78, \"feature2\": 0.14}, {\"feature1\": 0.78, \"feature2\": 0.16}, {\"feature1\": 0.78, \"feature2\": 0.18}, {\"feature1\": 0.78, \"feature2\": 0.2}, {\"feature1\": 0.78, \"feature2\": 0.22}, {\"feature1\": 0.78, \"feature2\": 0.24}, {\"feature1\": 0.78, \"feature2\": 0.26}, {\"feature1\": 0.78, \"feature2\": 0.28}, {\"feature1\": 0.78, \"feature2\": 0.3}, {\"feature1\": 0.78, \"feature2\": 0.32}, {\"feature1\": 0.78, \"feature2\": 0.34}, {\"feature1\": 0.78, \"feature2\": 0.36}, {\"feature1\": 0.78, \"feature2\": 0.38}, {\"feature1\": 0.78, \"feature2\": 0.4}, {\"feature1\": 0.78, \"feature2\": 0.42}, {\"feature1\": 0.78, \"feature2\": 0.44}, {\"feature1\": 0.78, \"feature2\": 0.46}, {\"feature1\": 0.78, \"feature2\": 0.48}, {\"feature1\": 0.78, \"feature2\": 0.5}, {\"feature1\": 0.78, \"feature2\": 0.52}, {\"feature1\": 0.78, \"feature2\": 0.54}, {\"feature1\": 0.78, \"feature2\": 0.56}, {\"feature1\": 0.78, \"feature2\": 0.58}, {\"feature1\": 0.78, \"feature2\": 0.6}, {\"feature1\": 0.78, \"feature2\": 0.62}, {\"feature1\": 0.78, \"feature2\": 0.64}, {\"feature1\": 0.78, \"feature2\": 0.66}, {\"feature1\": 0.78, \"feature2\": 0.68}, {\"feature1\": 0.78, \"feature2\": 0.7}, {\"feature1\": 0.78, \"feature2\": 0.72}, {\"feature1\": 0.78, \"feature2\": 0.74}, {\"feature1\": 0.78, \"feature2\": 0.76}, {\"feature1\": 0.78, \"feature2\": 0.78}, {\"feature1\": 0.78, \"feature2\": 0.8}, {\"feature1\": 0.78, \"feature2\": 0.82}, {\"feature1\": 0.78, \"feature2\": 0.84}, {\"feature1\": 0.78, \"feature2\": 0.86}, {\"feature1\": 0.78, \"feature2\": 0.88}, {\"feature1\": 0.78, \"feature2\": 0.9}, {\"feature1\": 0.78, \"feature2\": 0.92}, {\"feature1\": 0.78, \"feature2\": 0.94}, {\"feature1\": 0.78, \"feature2\": 0.96}, {\"feature1\": 0.78, \"feature2\": 0.98}, {\"feature1\": 0.8, \"feature2\": 0.0}, {\"feature1\": 0.8, \"feature2\": 0.02}, {\"feature1\": 0.8, \"feature2\": 0.04}, {\"feature1\": 0.8, \"feature2\": 0.06}, {\"feature1\": 0.8, \"feature2\": 0.08}, {\"feature1\": 0.8, \"feature2\": 0.1}, {\"feature1\": 0.8, \"feature2\": 0.12}, {\"feature1\": 0.8, \"feature2\": 0.14}, {\"feature1\": 0.8, \"feature2\": 0.16}, {\"feature1\": 0.8, \"feature2\": 0.18}, {\"feature1\": 0.8, \"feature2\": 0.2}, {\"feature1\": 0.8, \"feature2\": 0.22}, {\"feature1\": 0.8, \"feature2\": 0.24}, {\"feature1\": 0.8, \"feature2\": 0.26}, {\"feature1\": 0.8, \"feature2\": 0.28}, {\"feature1\": 0.8, \"feature2\": 0.3}, {\"feature1\": 0.8, \"feature2\": 0.32}, {\"feature1\": 0.8, \"feature2\": 0.34}, {\"feature1\": 0.8, \"feature2\": 0.36}, {\"feature1\": 0.8, \"feature2\": 0.38}, {\"feature1\": 0.8, \"feature2\": 0.4}, {\"feature1\": 0.8, \"feature2\": 0.42}, {\"feature1\": 0.8, \"feature2\": 0.44}, {\"feature1\": 0.8, \"feature2\": 0.46}, {\"feature1\": 0.8, \"feature2\": 0.48}, {\"feature1\": 0.8, \"feature2\": 0.5}, {\"feature1\": 0.8, \"feature2\": 0.52}, {\"feature1\": 0.8, \"feature2\": 0.54}, {\"feature1\": 0.8, \"feature2\": 0.56}, {\"feature1\": 0.8, \"feature2\": 0.58}, {\"feature1\": 0.8, \"feature2\": 0.6}, {\"feature1\": 0.8, \"feature2\": 0.62}, {\"feature1\": 0.8, \"feature2\": 0.64}, {\"feature1\": 0.8, \"feature2\": 0.66}, {\"feature1\": 0.8, \"feature2\": 0.68}, {\"feature1\": 0.8, \"feature2\": 0.7}, {\"feature1\": 0.8, \"feature2\": 0.72}, {\"feature1\": 0.8, \"feature2\": 0.74}, {\"feature1\": 0.8, \"feature2\": 0.76}, {\"feature1\": 0.8, \"feature2\": 0.78}, {\"feature1\": 0.8, \"feature2\": 0.8}, {\"feature1\": 0.8, \"feature2\": 0.82}, {\"feature1\": 0.8, \"feature2\": 0.84}, {\"feature1\": 0.8, \"feature2\": 0.86}, {\"feature1\": 0.8, \"feature2\": 0.88}, {\"feature1\": 0.8, \"feature2\": 0.9}, {\"feature1\": 0.8, \"feature2\": 0.92}, {\"feature1\": 0.8, \"feature2\": 0.94}, {\"feature1\": 0.8, \"feature2\": 0.96}, {\"feature1\": 0.8, \"feature2\": 0.98}, {\"feature1\": 0.82, \"feature2\": 0.0}, {\"feature1\": 0.82, \"feature2\": 0.02}, {\"feature1\": 0.82, \"feature2\": 0.04}, {\"feature1\": 0.82, \"feature2\": 0.06}, {\"feature1\": 0.82, \"feature2\": 0.08}, {\"feature1\": 0.82, \"feature2\": 0.1}, {\"feature1\": 0.82, \"feature2\": 0.12}, {\"feature1\": 0.82, \"feature2\": 0.14}, {\"feature1\": 0.82, \"feature2\": 0.16}, {\"feature1\": 0.82, \"feature2\": 0.18}, {\"feature1\": 0.82, \"feature2\": 0.2}, {\"feature1\": 0.82, \"feature2\": 0.22}, {\"feature1\": 0.82, \"feature2\": 0.24}, {\"feature1\": 0.82, \"feature2\": 0.26}, {\"feature1\": 0.82, \"feature2\": 0.28}, {\"feature1\": 0.82, \"feature2\": 0.3}, {\"feature1\": 0.82, \"feature2\": 0.32}, {\"feature1\": 0.82, \"feature2\": 0.34}, {\"feature1\": 0.82, \"feature2\": 0.36}, {\"feature1\": 0.82, \"feature2\": 0.38}, {\"feature1\": 0.82, \"feature2\": 0.4}, {\"feature1\": 0.82, \"feature2\": 0.42}, {\"feature1\": 0.82, \"feature2\": 0.44}, {\"feature1\": 0.82, \"feature2\": 0.46}, {\"feature1\": 0.82, \"feature2\": 0.48}, {\"feature1\": 0.82, \"feature2\": 0.5}, {\"feature1\": 0.82, \"feature2\": 0.52}, {\"feature1\": 0.82, \"feature2\": 0.54}, {\"feature1\": 0.82, \"feature2\": 0.56}, {\"feature1\": 0.82, \"feature2\": 0.58}, {\"feature1\": 0.82, \"feature2\": 0.6}, {\"feature1\": 0.82, \"feature2\": 0.62}, {\"feature1\": 0.82, \"feature2\": 0.64}, {\"feature1\": 0.82, \"feature2\": 0.66}, {\"feature1\": 0.82, \"feature2\": 0.68}, {\"feature1\": 0.82, \"feature2\": 0.7}, {\"feature1\": 0.82, \"feature2\": 0.72}, {\"feature1\": 0.82, \"feature2\": 0.74}, {\"feature1\": 0.82, \"feature2\": 0.76}, {\"feature1\": 0.82, \"feature2\": 0.78}, {\"feature1\": 0.82, \"feature2\": 0.8}, {\"feature1\": 0.82, \"feature2\": 0.82}, {\"feature1\": 0.82, \"feature2\": 0.84}, {\"feature1\": 0.82, \"feature2\": 0.86}, {\"feature1\": 0.82, \"feature2\": 0.88}, {\"feature1\": 0.82, \"feature2\": 0.9}, {\"feature1\": 0.82, \"feature2\": 0.92}, {\"feature1\": 0.82, \"feature2\": 0.94}, {\"feature1\": 0.82, \"feature2\": 0.96}, {\"feature1\": 0.82, \"feature2\": 0.98}, {\"feature1\": 0.84, \"feature2\": 0.0}, {\"feature1\": 0.84, \"feature2\": 0.02}, {\"feature1\": 0.84, \"feature2\": 0.04}, {\"feature1\": 0.84, \"feature2\": 0.06}, {\"feature1\": 0.84, \"feature2\": 0.08}, {\"feature1\": 0.84, \"feature2\": 0.1}, {\"feature1\": 0.84, \"feature2\": 0.12}, {\"feature1\": 0.84, \"feature2\": 0.14}, {\"feature1\": 0.84, \"feature2\": 0.16}, {\"feature1\": 0.84, \"feature2\": 0.18}, {\"feature1\": 0.84, \"feature2\": 0.2}, {\"feature1\": 0.84, \"feature2\": 0.22}, {\"feature1\": 0.84, \"feature2\": 0.24}, {\"feature1\": 0.84, \"feature2\": 0.26}, {\"feature1\": 0.84, \"feature2\": 0.28}, {\"feature1\": 0.84, \"feature2\": 0.3}, {\"feature1\": 0.84, \"feature2\": 0.32}, {\"feature1\": 0.84, \"feature2\": 0.34}, {\"feature1\": 0.84, \"feature2\": 0.36}, {\"feature1\": 0.84, \"feature2\": 0.38}, {\"feature1\": 0.84, \"feature2\": 0.4}, {\"feature1\": 0.84, \"feature2\": 0.42}, {\"feature1\": 0.84, \"feature2\": 0.44}, {\"feature1\": 0.84, \"feature2\": 0.46}, {\"feature1\": 0.84, \"feature2\": 0.48}, {\"feature1\": 0.84, \"feature2\": 0.5}, {\"feature1\": 0.84, \"feature2\": 0.52}, {\"feature1\": 0.84, \"feature2\": 0.54}, {\"feature1\": 0.84, \"feature2\": 0.56}, {\"feature1\": 0.84, \"feature2\": 0.58}, {\"feature1\": 0.84, \"feature2\": 0.6}, {\"feature1\": 0.84, \"feature2\": 0.62}, {\"feature1\": 0.84, \"feature2\": 0.64}, {\"feature1\": 0.84, \"feature2\": 0.66}, {\"feature1\": 0.84, \"feature2\": 0.68}, {\"feature1\": 0.84, \"feature2\": 0.7}, {\"feature1\": 0.84, \"feature2\": 0.72}, {\"feature1\": 0.84, \"feature2\": 0.74}, {\"feature1\": 0.84, \"feature2\": 0.76}, {\"feature1\": 0.84, \"feature2\": 0.78}, {\"feature1\": 0.84, \"feature2\": 0.8}, {\"feature1\": 0.84, \"feature2\": 0.82}, {\"feature1\": 0.84, \"feature2\": 0.84}, {\"feature1\": 0.84, \"feature2\": 0.86}, {\"feature1\": 0.84, \"feature2\": 0.88}, {\"feature1\": 0.84, \"feature2\": 0.9}, {\"feature1\": 0.84, \"feature2\": 0.92}, {\"feature1\": 0.84, \"feature2\": 0.94}, {\"feature1\": 0.84, \"feature2\": 0.96}, {\"feature1\": 0.84, \"feature2\": 0.98}, {\"feature1\": 0.86, \"feature2\": 0.0}, {\"feature1\": 0.86, \"feature2\": 0.02}, {\"feature1\": 0.86, \"feature2\": 0.04}, {\"feature1\": 0.86, \"feature2\": 0.06}, {\"feature1\": 0.86, \"feature2\": 0.08}, {\"feature1\": 0.86, \"feature2\": 0.1}, {\"feature1\": 0.86, \"feature2\": 0.12}, {\"feature1\": 0.86, \"feature2\": 0.14}, {\"feature1\": 0.86, \"feature2\": 0.16}, {\"feature1\": 0.86, \"feature2\": 0.18}, {\"feature1\": 0.86, \"feature2\": 0.2}, {\"feature1\": 0.86, \"feature2\": 0.22}, {\"feature1\": 0.86, \"feature2\": 0.24}, {\"feature1\": 0.86, \"feature2\": 0.26}, {\"feature1\": 0.86, \"feature2\": 0.28}, {\"feature1\": 0.86, \"feature2\": 0.3}, {\"feature1\": 0.86, \"feature2\": 0.32}, {\"feature1\": 0.86, \"feature2\": 0.34}, {\"feature1\": 0.86, \"feature2\": 0.36}, {\"feature1\": 0.86, \"feature2\": 0.38}, {\"feature1\": 0.86, \"feature2\": 0.4}, {\"feature1\": 0.86, \"feature2\": 0.42}, {\"feature1\": 0.86, \"feature2\": 0.44}, {\"feature1\": 0.86, \"feature2\": 0.46}, {\"feature1\": 0.86, \"feature2\": 0.48}, {\"feature1\": 0.86, \"feature2\": 0.5}, {\"feature1\": 0.86, \"feature2\": 0.52}, {\"feature1\": 0.86, \"feature2\": 0.54}, {\"feature1\": 0.86, \"feature2\": 0.56}, {\"feature1\": 0.86, \"feature2\": 0.58}, {\"feature1\": 0.86, \"feature2\": 0.6}, {\"feature1\": 0.86, \"feature2\": 0.62}, {\"feature1\": 0.86, \"feature2\": 0.64}, {\"feature1\": 0.86, \"feature2\": 0.66}, {\"feature1\": 0.86, \"feature2\": 0.68}, {\"feature1\": 0.86, \"feature2\": 0.7}, {\"feature1\": 0.86, \"feature2\": 0.72}, {\"feature1\": 0.86, \"feature2\": 0.74}, {\"feature1\": 0.86, \"feature2\": 0.76}, {\"feature1\": 0.86, \"feature2\": 0.78}, {\"feature1\": 0.86, \"feature2\": 0.8}, {\"feature1\": 0.86, \"feature2\": 0.82}, {\"feature1\": 0.86, \"feature2\": 0.84}, {\"feature1\": 0.86, \"feature2\": 0.86}, {\"feature1\": 0.86, \"feature2\": 0.88}, {\"feature1\": 0.86, \"feature2\": 0.9}, {\"feature1\": 0.86, \"feature2\": 0.92}, {\"feature1\": 0.86, \"feature2\": 0.94}, {\"feature1\": 0.86, \"feature2\": 0.96}, {\"feature1\": 0.86, \"feature2\": 0.98}, {\"feature1\": 0.88, \"feature2\": 0.0}, {\"feature1\": 0.88, \"feature2\": 0.02}, {\"feature1\": 0.88, \"feature2\": 0.04}, {\"feature1\": 0.88, \"feature2\": 0.06}, {\"feature1\": 0.88, \"feature2\": 0.08}, {\"feature1\": 0.88, \"feature2\": 0.1}, {\"feature1\": 0.88, \"feature2\": 0.12}, {\"feature1\": 0.88, \"feature2\": 0.14}, {\"feature1\": 0.88, \"feature2\": 0.16}, {\"feature1\": 0.88, \"feature2\": 0.18}, {\"feature1\": 0.88, \"feature2\": 0.2}, {\"feature1\": 0.88, \"feature2\": 0.22}, {\"feature1\": 0.88, \"feature2\": 0.24}, {\"feature1\": 0.88, \"feature2\": 0.26}, {\"feature1\": 0.88, \"feature2\": 0.28}, {\"feature1\": 0.88, \"feature2\": 0.3}, {\"feature1\": 0.88, \"feature2\": 0.32}, {\"feature1\": 0.88, \"feature2\": 0.34}, {\"feature1\": 0.88, \"feature2\": 0.36}, {\"feature1\": 0.88, \"feature2\": 0.38}, {\"feature1\": 0.88, \"feature2\": 0.4}, {\"feature1\": 0.88, \"feature2\": 0.42}, {\"feature1\": 0.88, \"feature2\": 0.44}, {\"feature1\": 0.88, \"feature2\": 0.46}, {\"feature1\": 0.88, \"feature2\": 0.48}, {\"feature1\": 0.88, \"feature2\": 0.5}, {\"feature1\": 0.88, \"feature2\": 0.52}, {\"feature1\": 0.88, \"feature2\": 0.54}, {\"feature1\": 0.88, \"feature2\": 0.56}, {\"feature1\": 0.88, \"feature2\": 0.58}, {\"feature1\": 0.88, \"feature2\": 0.6}, {\"feature1\": 0.88, \"feature2\": 0.62}, {\"feature1\": 0.88, \"feature2\": 0.64}, {\"feature1\": 0.88, \"feature2\": 0.66}, {\"feature1\": 0.88, \"feature2\": 0.68}, {\"feature1\": 0.88, \"feature2\": 0.7}, {\"feature1\": 0.88, \"feature2\": 0.72}, {\"feature1\": 0.88, \"feature2\": 0.74}, {\"feature1\": 0.88, \"feature2\": 0.76}, {\"feature1\": 0.88, \"feature2\": 0.78}, {\"feature1\": 0.88, \"feature2\": 0.8}, {\"feature1\": 0.88, \"feature2\": 0.82}, {\"feature1\": 0.88, \"feature2\": 0.84}, {\"feature1\": 0.88, \"feature2\": 0.86}, {\"feature1\": 0.88, \"feature2\": 0.88}, {\"feature1\": 0.88, \"feature2\": 0.9}, {\"feature1\": 0.88, \"feature2\": 0.92}, {\"feature1\": 0.88, \"feature2\": 0.94}, {\"feature1\": 0.88, \"feature2\": 0.96}, {\"feature1\": 0.88, \"feature2\": 0.98}, {\"feature1\": 0.9, \"feature2\": 0.0}, {\"feature1\": 0.9, \"feature2\": 0.02}, {\"feature1\": 0.9, \"feature2\": 0.04}, {\"feature1\": 0.9, \"feature2\": 0.06}, {\"feature1\": 0.9, \"feature2\": 0.08}, {\"feature1\": 0.9, \"feature2\": 0.1}, {\"feature1\": 0.9, \"feature2\": 0.12}, {\"feature1\": 0.9, \"feature2\": 0.14}, {\"feature1\": 0.9, \"feature2\": 0.16}, {\"feature1\": 0.9, \"feature2\": 0.18}, {\"feature1\": 0.9, \"feature2\": 0.2}, {\"feature1\": 0.9, \"feature2\": 0.22}, {\"feature1\": 0.9, \"feature2\": 0.24}, {\"feature1\": 0.9, \"feature2\": 0.26}, {\"feature1\": 0.9, \"feature2\": 0.28}, {\"feature1\": 0.9, \"feature2\": 0.3}, {\"feature1\": 0.9, \"feature2\": 0.32}, {\"feature1\": 0.9, \"feature2\": 0.34}, {\"feature1\": 0.9, \"feature2\": 0.36}, {\"feature1\": 0.9, \"feature2\": 0.38}, {\"feature1\": 0.9, \"feature2\": 0.4}, {\"feature1\": 0.9, \"feature2\": 0.42}, {\"feature1\": 0.9, \"feature2\": 0.44}, {\"feature1\": 0.9, \"feature2\": 0.46}, {\"feature1\": 0.9, \"feature2\": 0.48}, {\"feature1\": 0.9, \"feature2\": 0.5}, {\"feature1\": 0.9, \"feature2\": 0.52}, {\"feature1\": 0.9, \"feature2\": 0.54}, {\"feature1\": 0.9, \"feature2\": 0.56}, {\"feature1\": 0.9, \"feature2\": 0.58}, {\"feature1\": 0.9, \"feature2\": 0.6}, {\"feature1\": 0.9, \"feature2\": 0.62}, {\"feature1\": 0.9, \"feature2\": 0.64}, {\"feature1\": 0.9, \"feature2\": 0.66}, {\"feature1\": 0.9, \"feature2\": 0.68}, {\"feature1\": 0.9, \"feature2\": 0.7}, {\"feature1\": 0.9, \"feature2\": 0.72}, {\"feature1\": 0.9, \"feature2\": 0.74}, {\"feature1\": 0.9, \"feature2\": 0.76}, {\"feature1\": 0.9, \"feature2\": 0.78}, {\"feature1\": 0.9, \"feature2\": 0.8}, {\"feature1\": 0.9, \"feature2\": 0.82}, {\"feature1\": 0.9, \"feature2\": 0.84}, {\"feature1\": 0.9, \"feature2\": 0.86}, {\"feature1\": 0.9, \"feature2\": 0.88}, {\"feature1\": 0.9, \"feature2\": 0.9}, {\"feature1\": 0.9, \"feature2\": 0.92}, {\"feature1\": 0.9, \"feature2\": 0.94}, {\"feature1\": 0.9, \"feature2\": 0.96}, {\"feature1\": 0.9, \"feature2\": 0.98}, {\"feature1\": 0.92, \"feature2\": 0.0}, {\"feature1\": 0.92, \"feature2\": 0.02}, {\"feature1\": 0.92, \"feature2\": 0.04}, {\"feature1\": 0.92, \"feature2\": 0.06}, {\"feature1\": 0.92, \"feature2\": 0.08}, {\"feature1\": 0.92, \"feature2\": 0.1}, {\"feature1\": 0.92, \"feature2\": 0.12}, {\"feature1\": 0.92, \"feature2\": 0.14}, {\"feature1\": 0.92, \"feature2\": 0.16}, {\"feature1\": 0.92, \"feature2\": 0.18}, {\"feature1\": 0.92, \"feature2\": 0.2}, {\"feature1\": 0.92, \"feature2\": 0.22}, {\"feature1\": 0.92, \"feature2\": 0.24}, {\"feature1\": 0.92, \"feature2\": 0.26}, {\"feature1\": 0.92, \"feature2\": 0.28}, {\"feature1\": 0.92, \"feature2\": 0.3}, {\"feature1\": 0.92, \"feature2\": 0.32}, {\"feature1\": 0.92, \"feature2\": 0.34}, {\"feature1\": 0.92, \"feature2\": 0.36}, {\"feature1\": 0.92, \"feature2\": 0.38}, {\"feature1\": 0.92, \"feature2\": 0.4}, {\"feature1\": 0.92, \"feature2\": 0.42}, {\"feature1\": 0.92, \"feature2\": 0.44}, {\"feature1\": 0.92, \"feature2\": 0.46}, {\"feature1\": 0.92, \"feature2\": 0.48}, {\"feature1\": 0.92, \"feature2\": 0.5}, {\"feature1\": 0.92, \"feature2\": 0.52}, {\"feature1\": 0.92, \"feature2\": 0.54}, {\"feature1\": 0.92, \"feature2\": 0.56}, {\"feature1\": 0.92, \"feature2\": 0.58}, {\"feature1\": 0.92, \"feature2\": 0.6}, {\"feature1\": 0.92, \"feature2\": 0.62}, {\"feature1\": 0.92, \"feature2\": 0.64}, {\"feature1\": 0.92, \"feature2\": 0.66}, {\"feature1\": 0.92, \"feature2\": 0.68}, {\"feature1\": 0.92, \"feature2\": 0.7}, {\"feature1\": 0.92, \"feature2\": 0.72}, {\"feature1\": 0.92, \"feature2\": 0.74}, {\"feature1\": 0.92, \"feature2\": 0.76}, {\"feature1\": 0.92, \"feature2\": 0.78}, {\"feature1\": 0.92, \"feature2\": 0.8}, {\"feature1\": 0.92, \"feature2\": 0.82}, {\"feature1\": 0.92, \"feature2\": 0.84}, {\"feature1\": 0.92, \"feature2\": 0.86}, {\"feature1\": 0.92, \"feature2\": 0.88}, {\"feature1\": 0.92, \"feature2\": 0.9}, {\"feature1\": 0.92, \"feature2\": 0.92}, {\"feature1\": 0.92, \"feature2\": 0.94}, {\"feature1\": 0.92, \"feature2\": 0.96}, {\"feature1\": 0.92, \"feature2\": 0.98}, {\"feature1\": 0.94, \"feature2\": 0.0}, {\"feature1\": 0.94, \"feature2\": 0.02}, {\"feature1\": 0.94, \"feature2\": 0.04}, {\"feature1\": 0.94, \"feature2\": 0.06}, {\"feature1\": 0.94, \"feature2\": 0.08}, {\"feature1\": 0.94, \"feature2\": 0.1}, {\"feature1\": 0.94, \"feature2\": 0.12}, {\"feature1\": 0.94, \"feature2\": 0.14}, {\"feature1\": 0.94, \"feature2\": 0.16}, {\"feature1\": 0.94, \"feature2\": 0.18}, {\"feature1\": 0.94, \"feature2\": 0.2}, {\"feature1\": 0.94, \"feature2\": 0.22}, {\"feature1\": 0.94, \"feature2\": 0.24}, {\"feature1\": 0.94, \"feature2\": 0.26}, {\"feature1\": 0.94, \"feature2\": 0.28}, {\"feature1\": 0.94, \"feature2\": 0.3}, {\"feature1\": 0.94, \"feature2\": 0.32}, {\"feature1\": 0.94, \"feature2\": 0.34}, {\"feature1\": 0.94, \"feature2\": 0.36}, {\"feature1\": 0.94, \"feature2\": 0.38}, {\"feature1\": 0.94, \"feature2\": 0.4}, {\"feature1\": 0.94, \"feature2\": 0.42}, {\"feature1\": 0.94, \"feature2\": 0.44}, {\"feature1\": 0.94, \"feature2\": 0.46}, {\"feature1\": 0.94, \"feature2\": 0.48}, {\"feature1\": 0.94, \"feature2\": 0.5}, {\"feature1\": 0.94, \"feature2\": 0.52}, {\"feature1\": 0.94, \"feature2\": 0.54}, {\"feature1\": 0.94, \"feature2\": 0.56}, {\"feature1\": 0.94, \"feature2\": 0.58}, {\"feature1\": 0.94, \"feature2\": 0.6}, {\"feature1\": 0.94, \"feature2\": 0.62}, {\"feature1\": 0.94, \"feature2\": 0.64}, {\"feature1\": 0.94, \"feature2\": 0.66}, {\"feature1\": 0.94, \"feature2\": 0.68}, {\"feature1\": 0.94, \"feature2\": 0.7}, {\"feature1\": 0.94, \"feature2\": 0.72}, {\"feature1\": 0.94, \"feature2\": 0.74}, {\"feature1\": 0.94, \"feature2\": 0.76}, {\"feature1\": 0.94, \"feature2\": 0.78}, {\"feature1\": 0.94, \"feature2\": 0.8}, {\"feature1\": 0.94, \"feature2\": 0.82}, {\"feature1\": 0.94, \"feature2\": 0.84}, {\"feature1\": 0.94, \"feature2\": 0.86}, {\"feature1\": 0.94, \"feature2\": 0.88}, {\"feature1\": 0.94, \"feature2\": 0.9}, {\"feature1\": 0.94, \"feature2\": 0.92}, {\"feature1\": 0.94, \"feature2\": 0.94}, {\"feature1\": 0.94, \"feature2\": 0.96}, {\"feature1\": 0.94, \"feature2\": 0.98}, {\"feature1\": 0.96, \"feature2\": 0.0}, {\"feature1\": 0.96, \"feature2\": 0.02}, {\"feature1\": 0.96, \"feature2\": 0.04}, {\"feature1\": 0.96, \"feature2\": 0.06}, {\"feature1\": 0.96, \"feature2\": 0.08}, {\"feature1\": 0.96, \"feature2\": 0.1}, {\"feature1\": 0.96, \"feature2\": 0.12}, {\"feature1\": 0.96, \"feature2\": 0.14}, {\"feature1\": 0.96, \"feature2\": 0.16}, {\"feature1\": 0.96, \"feature2\": 0.18}, {\"feature1\": 0.96, \"feature2\": 0.2}, {\"feature1\": 0.96, \"feature2\": 0.22}, {\"feature1\": 0.96, \"feature2\": 0.24}, {\"feature1\": 0.96, \"feature2\": 0.26}, {\"feature1\": 0.96, \"feature2\": 0.28}, {\"feature1\": 0.96, \"feature2\": 0.3}, {\"feature1\": 0.96, \"feature2\": 0.32}, {\"feature1\": 0.96, \"feature2\": 0.34}, {\"feature1\": 0.96, \"feature2\": 0.36}, {\"feature1\": 0.96, \"feature2\": 0.38}, {\"feature1\": 0.96, \"feature2\": 0.4}, {\"feature1\": 0.96, \"feature2\": 0.42}, {\"feature1\": 0.96, \"feature2\": 0.44}, {\"feature1\": 0.96, \"feature2\": 0.46}, {\"feature1\": 0.96, \"feature2\": 0.48}, {\"feature1\": 0.96, \"feature2\": 0.5}, {\"feature1\": 0.96, \"feature2\": 0.52}, {\"feature1\": 0.96, \"feature2\": 0.54}, {\"feature1\": 0.96, \"feature2\": 0.56}, {\"feature1\": 0.96, \"feature2\": 0.58}, {\"feature1\": 0.96, \"feature2\": 0.6}, {\"feature1\": 0.96, \"feature2\": 0.62}, {\"feature1\": 0.96, \"feature2\": 0.64}, {\"feature1\": 0.96, \"feature2\": 0.66}, {\"feature1\": 0.96, \"feature2\": 0.68}, {\"feature1\": 0.96, \"feature2\": 0.7}, {\"feature1\": 0.96, \"feature2\": 0.72}, {\"feature1\": 0.96, \"feature2\": 0.74}, {\"feature1\": 0.96, \"feature2\": 0.76}, {\"feature1\": 0.96, \"feature2\": 0.78}, {\"feature1\": 0.96, \"feature2\": 0.8}, {\"feature1\": 0.96, \"feature2\": 0.82}, {\"feature1\": 0.96, \"feature2\": 0.84}, {\"feature1\": 0.96, \"feature2\": 0.86}, {\"feature1\": 0.96, \"feature2\": 0.88}, {\"feature1\": 0.96, \"feature2\": 0.9}, {\"feature1\": 0.96, \"feature2\": 0.92}, {\"feature1\": 0.96, \"feature2\": 0.94}, {\"feature1\": 0.96, \"feature2\": 0.96}, {\"feature1\": 0.96, \"feature2\": 0.98}, {\"feature1\": 0.98, \"feature2\": 0.0}, {\"feature1\": 0.98, \"feature2\": 0.02}, {\"feature1\": 0.98, \"feature2\": 0.04}, {\"feature1\": 0.98, \"feature2\": 0.06}, {\"feature1\": 0.98, \"feature2\": 0.08}, {\"feature1\": 0.98, \"feature2\": 0.1}, {\"feature1\": 0.98, \"feature2\": 0.12}, {\"feature1\": 0.98, \"feature2\": 0.14}, {\"feature1\": 0.98, \"feature2\": 0.16}, {\"feature1\": 0.98, \"feature2\": 0.18}, {\"feature1\": 0.98, \"feature2\": 0.2}, {\"feature1\": 0.98, \"feature2\": 0.22}, {\"feature1\": 0.98, \"feature2\": 0.24}, {\"feature1\": 0.98, \"feature2\": 0.26}, {\"feature1\": 0.98, \"feature2\": 0.28}, {\"feature1\": 0.98, \"feature2\": 0.3}, {\"feature1\": 0.98, \"feature2\": 0.32}, {\"feature1\": 0.98, \"feature2\": 0.34}, {\"feature1\": 0.98, \"feature2\": 0.36}, {\"feature1\": 0.98, \"feature2\": 0.38}, {\"feature1\": 0.98, \"feature2\": 0.4}, {\"feature1\": 0.98, \"feature2\": 0.42}, {\"feature1\": 0.98, \"feature2\": 0.44}, {\"feature1\": 0.98, \"feature2\": 0.46}, {\"feature1\": 0.98, \"feature2\": 0.48}, {\"feature1\": 0.98, \"feature2\": 0.5}, {\"feature1\": 0.98, \"feature2\": 0.52}, {\"feature1\": 0.98, \"feature2\": 0.54}, {\"feature1\": 0.98, \"feature2\": 0.56}, {\"feature1\": 0.98, \"feature2\": 0.58}, {\"feature1\": 0.98, \"feature2\": 0.6}, {\"feature1\": 0.98, \"feature2\": 0.62}, {\"feature1\": 0.98, \"feature2\": 0.64}, {\"feature1\": 0.98, \"feature2\": 0.66}, {\"feature1\": 0.98, \"feature2\": 0.68}, {\"feature1\": 0.98, \"feature2\": 0.7}, {\"feature1\": 0.98, \"feature2\": 0.72}, {\"feature1\": 0.98, \"feature2\": 0.74}, {\"feature1\": 0.98, \"feature2\": 0.76}, {\"feature1\": 0.98, \"feature2\": 0.78}, {\"feature1\": 0.98, \"feature2\": 0.8}, {\"feature1\": 0.98, \"feature2\": 0.82}, {\"feature1\": 0.98, \"feature2\": 0.84}, {\"feature1\": 0.98, \"feature2\": 0.86}, {\"feature1\": 0.98, \"feature2\": 0.88}, {\"feature1\": 0.98, \"feature2\": 0.9}, {\"feature1\": 0.98, \"feature2\": 0.92}, {\"feature1\": 0.98, \"feature2\": 0.94}, {\"feature1\": 0.98, \"feature2\": 0.96}, {\"feature1\": 0.98, \"feature2\": 0.98}]}}, {\"mode\": \"vega-lite\"});\n",
       "</script>"
      ],
      "text/plain": [
       "alt.Chart(...)"
      ]
     },
     "execution_count": 1,
     "metadata": {},
     "output_type": "execute_result"
    }
   ],
   "source": [
    "all_df = pd.read_csv(\"https://srush.github.io/BT-AI/notebooks/all_points.csv\")\n",
    "chart = (alt.Chart(all_df)\n",
    "    .mark_point()\n",
    "    .encode(\n",
    "        x = \"feature1\",\n",
    "        y = \"feature2\",\n",
    "    ))\n",
    "chart"
   ]
  },
  {
   "cell_type": "markdown",
   "id": "cf5f45f5",
   "metadata": {},
   "source": [
    "Let us see what our model would do on each of them."
   ]
  },
  {
   "cell_type": "code",
   "execution_count": 36,
   "id": "daf7e9c3",
   "metadata": {
    "execution": {
     "iopub.execute_input": "2021-06-10T17:51:34.022008Z",
     "iopub.status.busy": "2021-06-10T17:51:34.021157Z",
     "iopub.status.idle": "2021-06-10T17:51:34.025262Z",
     "shell.execute_reply": "2021-06-10T17:51:34.024385Z"
    }
   },
   "outputs": [],
   "source": [
    "all_df[\"predict\"] = model.predict(all_df[[\"feature1\", \"feature2\"]])"
   ]
  },
  {
   "cell_type": "code",
   "execution_count": 37,
   "id": "8c3e1847",
   "metadata": {
    "execution": {
     "iopub.execute_input": "2021-06-10T17:51:34.055571Z",
     "iopub.status.busy": "2021-06-10T17:51:34.044382Z",
     "iopub.status.idle": "2021-06-10T17:51:34.065248Z",
     "shell.execute_reply": "2021-06-10T17:51:34.065466Z"
    }
   },
   "outputs": [
    {
     "data": {
      "text/html": [
       "\n",
       "<div id=\"altair-viz-ad0e50831c8140daace1ddc133b48e66\"></div>\n",
       "<script type=\"text/javascript\">\n",
       "  (function(spec, embedOpt){\n",
       "    let outputDiv = document.currentScript.previousElementSibling;\n",
       "    if (outputDiv.id !== \"altair-viz-ad0e50831c8140daace1ddc133b48e66\") {\n",
       "      outputDiv = document.getElementById(\"altair-viz-ad0e50831c8140daace1ddc133b48e66\");\n",
       "    }\n",
       "    const paths = {\n",
       "      \"vega\": \"https://cdn.jsdelivr.net/npm//vega@5?noext\",\n",
       "      \"vega-lib\": \"https://cdn.jsdelivr.net/npm//vega-lib?noext\",\n",
       "      \"vega-lite\": \"https://cdn.jsdelivr.net/npm//vega-lite@4.8.1?noext\",\n",
       "      \"vega-embed\": \"https://cdn.jsdelivr.net/npm//vega-embed@6?noext\",\n",
       "    };\n",
       "\n",
       "    function loadScript(lib) {\n",
       "      return new Promise(function(resolve, reject) {\n",
       "        var s = document.createElement('script');\n",
       "        s.src = paths[lib];\n",
       "        s.async = true;\n",
       "        s.onload = () => resolve(paths[lib]);\n",
       "        s.onerror = () => reject(`Error loading script: ${paths[lib]}`);\n",
       "        document.getElementsByTagName(\"head\")[0].appendChild(s);\n",
       "      });\n",
       "    }\n",
       "\n",
       "    function showError(err) {\n",
       "      outputDiv.innerHTML = `<div class=\"error\" style=\"color:red;\">${err}</div>`;\n",
       "      throw err;\n",
       "    }\n",
       "\n",
       "    function displayChart(vegaEmbed) {\n",
       "      vegaEmbed(outputDiv, spec, embedOpt)\n",
       "        .catch(err => showError(`Javascript Error: ${err.message}<br>This usually means there's a typo in your chart specification. See the javascript console for the full traceback.`));\n",
       "    }\n",
       "\n",
       "    if(typeof define === \"function\" && define.amd) {\n",
       "      requirejs.config({paths});\n",
       "      require([\"vega-embed\"], displayChart, err => showError(`Error loading script: ${err.message}`));\n",
       "    } else if (typeof vegaEmbed === \"function\") {\n",
       "      displayChart(vegaEmbed);\n",
       "    } else {\n",
       "      loadScript(\"vega\")\n",
       "        .then(() => loadScript(\"vega-lite\"))\n",
       "        .then(() => loadScript(\"vega-embed\"))\n",
       "        .catch(showError)\n",
       "        .then(() => displayChart(vegaEmbed));\n",
       "    }\n",
       "  })({\"config\": {\"view\": {\"continuousWidth\": 400, \"continuousHeight\": 300}}, \"data\": {\"name\": \"data-0aa54f3368aec96e35093579d1d857b8\"}, \"mark\": \"point\", \"encoding\": {\"color\": {\"type\": \"nominal\", \"field\": \"predict\"}, \"fill\": {\"type\": \"nominal\", \"field\": \"predict\"}, \"x\": {\"type\": \"quantitative\", \"field\": \"feature1\"}, \"y\": {\"type\": \"quantitative\", \"field\": \"feature2\"}}, \"$schema\": \"https://vega.github.io/schema/vega-lite/v4.8.1.json\", \"datasets\": {\"data-0aa54f3368aec96e35093579d1d857b8\": [{\"feature1\": 0.0, \"feature2\": 0.0, \"predict\": false}, {\"feature1\": 0.0, \"feature2\": 0.02, \"predict\": false}, {\"feature1\": 0.0, \"feature2\": 0.04, \"predict\": false}, {\"feature1\": 0.0, \"feature2\": 0.06, \"predict\": false}, {\"feature1\": 0.0, \"feature2\": 0.08, \"predict\": false}, {\"feature1\": 0.0, \"feature2\": 0.1, \"predict\": false}, {\"feature1\": 0.0, \"feature2\": 0.12, \"predict\": false}, {\"feature1\": 0.0, \"feature2\": 0.14, \"predict\": false}, {\"feature1\": 0.0, \"feature2\": 0.16, \"predict\": false}, {\"feature1\": 0.0, \"feature2\": 0.18, \"predict\": false}, {\"feature1\": 0.0, \"feature2\": 0.2, \"predict\": false}, {\"feature1\": 0.0, \"feature2\": 0.22, \"predict\": false}, {\"feature1\": 0.0, \"feature2\": 0.24, \"predict\": false}, {\"feature1\": 0.0, \"feature2\": 0.26, \"predict\": false}, {\"feature1\": 0.0, \"feature2\": 0.28, \"predict\": false}, {\"feature1\": 0.0, \"feature2\": 0.3, \"predict\": false}, {\"feature1\": 0.0, \"feature2\": 0.32, \"predict\": false}, {\"feature1\": 0.0, \"feature2\": 0.34, \"predict\": false}, {\"feature1\": 0.0, \"feature2\": 0.36, \"predict\": false}, {\"feature1\": 0.0, \"feature2\": 0.38, \"predict\": false}, {\"feature1\": 0.0, \"feature2\": 0.4, \"predict\": false}, {\"feature1\": 0.0, \"feature2\": 0.42, \"predict\": false}, {\"feature1\": 0.0, \"feature2\": 0.44, \"predict\": false}, {\"feature1\": 0.0, \"feature2\": 0.46, \"predict\": false}, {\"feature1\": 0.0, \"feature2\": 0.48, \"predict\": false}, {\"feature1\": 0.0, \"feature2\": 0.5, \"predict\": false}, {\"feature1\": 0.0, \"feature2\": 0.52, \"predict\": false}, {\"feature1\": 0.0, \"feature2\": 0.54, \"predict\": false}, {\"feature1\": 0.0, \"feature2\": 0.56, \"predict\": false}, {\"feature1\": 0.0, \"feature2\": 0.58, \"predict\": false}, {\"feature1\": 0.0, \"feature2\": 0.6, \"predict\": false}, {\"feature1\": 0.0, \"feature2\": 0.62, \"predict\": false}, {\"feature1\": 0.0, \"feature2\": 0.64, \"predict\": false}, {\"feature1\": 0.0, \"feature2\": 0.66, \"predict\": false}, {\"feature1\": 0.0, \"feature2\": 0.68, \"predict\": false}, {\"feature1\": 0.0, \"feature2\": 0.7, \"predict\": false}, {\"feature1\": 0.0, \"feature2\": 0.72, \"predict\": false}, {\"feature1\": 0.0, \"feature2\": 0.74, \"predict\": false}, {\"feature1\": 0.0, \"feature2\": 0.76, \"predict\": false}, {\"feature1\": 0.0, \"feature2\": 0.78, \"predict\": false}, {\"feature1\": 0.0, \"feature2\": 0.8, \"predict\": false}, {\"feature1\": 0.0, \"feature2\": 0.82, \"predict\": false}, {\"feature1\": 0.0, \"feature2\": 0.84, \"predict\": false}, {\"feature1\": 0.0, \"feature2\": 0.86, \"predict\": false}, {\"feature1\": 0.0, \"feature2\": 0.88, \"predict\": false}, {\"feature1\": 0.0, \"feature2\": 0.9, \"predict\": false}, {\"feature1\": 0.0, \"feature2\": 0.92, \"predict\": false}, {\"feature1\": 0.0, \"feature2\": 0.94, \"predict\": true}, {\"feature1\": 0.0, \"feature2\": 0.96, \"predict\": true}, {\"feature1\": 0.0, \"feature2\": 0.98, \"predict\": true}, {\"feature1\": 0.02, \"feature2\": 0.0, \"predict\": false}, {\"feature1\": 0.02, \"feature2\": 0.02, \"predict\": false}, {\"feature1\": 0.02, \"feature2\": 0.04, \"predict\": false}, {\"feature1\": 0.02, \"feature2\": 0.06, \"predict\": false}, {\"feature1\": 0.02, \"feature2\": 0.08, \"predict\": false}, {\"feature1\": 0.02, \"feature2\": 0.1, \"predict\": false}, {\"feature1\": 0.02, \"feature2\": 0.12, \"predict\": false}, {\"feature1\": 0.02, \"feature2\": 0.14, \"predict\": false}, {\"feature1\": 0.02, \"feature2\": 0.16, \"predict\": false}, {\"feature1\": 0.02, \"feature2\": 0.18, \"predict\": false}, {\"feature1\": 0.02, \"feature2\": 0.2, \"predict\": false}, {\"feature1\": 0.02, \"feature2\": 0.22, \"predict\": false}, {\"feature1\": 0.02, \"feature2\": 0.24, \"predict\": false}, {\"feature1\": 0.02, \"feature2\": 0.26, \"predict\": false}, {\"feature1\": 0.02, \"feature2\": 0.28, \"predict\": false}, {\"feature1\": 0.02, \"feature2\": 0.3, \"predict\": false}, {\"feature1\": 0.02, \"feature2\": 0.32, \"predict\": false}, {\"feature1\": 0.02, \"feature2\": 0.34, \"predict\": false}, {\"feature1\": 0.02, \"feature2\": 0.36, \"predict\": false}, {\"feature1\": 0.02, \"feature2\": 0.38, \"predict\": false}, {\"feature1\": 0.02, \"feature2\": 0.4, \"predict\": false}, {\"feature1\": 0.02, \"feature2\": 0.42, \"predict\": false}, {\"feature1\": 0.02, \"feature2\": 0.44, \"predict\": false}, {\"feature1\": 0.02, \"feature2\": 0.46, \"predict\": false}, {\"feature1\": 0.02, \"feature2\": 0.48, \"predict\": false}, {\"feature1\": 0.02, \"feature2\": 0.5, \"predict\": false}, {\"feature1\": 0.02, \"feature2\": 0.52, \"predict\": false}, {\"feature1\": 0.02, \"feature2\": 0.54, \"predict\": false}, {\"feature1\": 0.02, \"feature2\": 0.56, \"predict\": false}, {\"feature1\": 0.02, \"feature2\": 0.58, \"predict\": false}, {\"feature1\": 0.02, \"feature2\": 0.6, \"predict\": false}, {\"feature1\": 0.02, \"feature2\": 0.62, \"predict\": false}, {\"feature1\": 0.02, \"feature2\": 0.64, \"predict\": false}, {\"feature1\": 0.02, \"feature2\": 0.66, \"predict\": false}, {\"feature1\": 0.02, \"feature2\": 0.68, \"predict\": false}, {\"feature1\": 0.02, \"feature2\": 0.7, \"predict\": false}, {\"feature1\": 0.02, \"feature2\": 0.72, \"predict\": false}, {\"feature1\": 0.02, \"feature2\": 0.74, \"predict\": false}, {\"feature1\": 0.02, \"feature2\": 0.76, \"predict\": false}, {\"feature1\": 0.02, \"feature2\": 0.78, \"predict\": false}, {\"feature1\": 0.02, \"feature2\": 0.8, \"predict\": false}, {\"feature1\": 0.02, \"feature2\": 0.82, \"predict\": false}, {\"feature1\": 0.02, \"feature2\": 0.84, \"predict\": false}, {\"feature1\": 0.02, \"feature2\": 0.86, \"predict\": false}, {\"feature1\": 0.02, \"feature2\": 0.88, \"predict\": false}, {\"feature1\": 0.02, \"feature2\": 0.9, \"predict\": false}, {\"feature1\": 0.02, \"feature2\": 0.92, \"predict\": true}, {\"feature1\": 0.02, \"feature2\": 0.94, \"predict\": true}, {\"feature1\": 0.02, \"feature2\": 0.96, \"predict\": true}, {\"feature1\": 0.02, \"feature2\": 0.98, \"predict\": true}, {\"feature1\": 0.04, \"feature2\": 0.0, \"predict\": false}, {\"feature1\": 0.04, \"feature2\": 0.02, \"predict\": false}, {\"feature1\": 0.04, \"feature2\": 0.04, \"predict\": false}, {\"feature1\": 0.04, \"feature2\": 0.06, \"predict\": false}, {\"feature1\": 0.04, \"feature2\": 0.08, \"predict\": false}, {\"feature1\": 0.04, \"feature2\": 0.1, \"predict\": false}, {\"feature1\": 0.04, \"feature2\": 0.12, \"predict\": false}, {\"feature1\": 0.04, \"feature2\": 0.14, \"predict\": false}, {\"feature1\": 0.04, \"feature2\": 0.16, \"predict\": false}, {\"feature1\": 0.04, \"feature2\": 0.18, \"predict\": false}, {\"feature1\": 0.04, \"feature2\": 0.2, \"predict\": false}, {\"feature1\": 0.04, \"feature2\": 0.22, \"predict\": false}, {\"feature1\": 0.04, \"feature2\": 0.24, \"predict\": false}, {\"feature1\": 0.04, \"feature2\": 0.26, \"predict\": false}, {\"feature1\": 0.04, \"feature2\": 0.28, \"predict\": false}, {\"feature1\": 0.04, \"feature2\": 0.3, \"predict\": false}, {\"feature1\": 0.04, \"feature2\": 0.32, \"predict\": false}, {\"feature1\": 0.04, \"feature2\": 0.34, \"predict\": false}, {\"feature1\": 0.04, \"feature2\": 0.36, \"predict\": false}, {\"feature1\": 0.04, \"feature2\": 0.38, \"predict\": false}, {\"feature1\": 0.04, \"feature2\": 0.4, \"predict\": false}, {\"feature1\": 0.04, \"feature2\": 0.42, \"predict\": false}, {\"feature1\": 0.04, \"feature2\": 0.44, \"predict\": false}, {\"feature1\": 0.04, \"feature2\": 0.46, \"predict\": false}, {\"feature1\": 0.04, \"feature2\": 0.48, \"predict\": false}, {\"feature1\": 0.04, \"feature2\": 0.5, \"predict\": false}, {\"feature1\": 0.04, \"feature2\": 0.52, \"predict\": false}, {\"feature1\": 0.04, \"feature2\": 0.54, \"predict\": false}, {\"feature1\": 0.04, \"feature2\": 0.56, \"predict\": false}, {\"feature1\": 0.04, \"feature2\": 0.58, \"predict\": false}, {\"feature1\": 0.04, \"feature2\": 0.6, \"predict\": false}, {\"feature1\": 0.04, \"feature2\": 0.62, \"predict\": false}, {\"feature1\": 0.04, \"feature2\": 0.64, \"predict\": false}, {\"feature1\": 0.04, \"feature2\": 0.66, \"predict\": false}, {\"feature1\": 0.04, \"feature2\": 0.68, \"predict\": false}, {\"feature1\": 0.04, \"feature2\": 0.7, \"predict\": false}, {\"feature1\": 0.04, \"feature2\": 0.72, \"predict\": false}, {\"feature1\": 0.04, \"feature2\": 0.74, \"predict\": false}, {\"feature1\": 0.04, \"feature2\": 0.76, \"predict\": false}, {\"feature1\": 0.04, \"feature2\": 0.78, \"predict\": false}, {\"feature1\": 0.04, \"feature2\": 0.8, \"predict\": false}, {\"feature1\": 0.04, \"feature2\": 0.82, \"predict\": false}, {\"feature1\": 0.04, \"feature2\": 0.84, \"predict\": false}, {\"feature1\": 0.04, \"feature2\": 0.86, \"predict\": false}, {\"feature1\": 0.04, \"feature2\": 0.88, \"predict\": false}, {\"feature1\": 0.04, \"feature2\": 0.9, \"predict\": true}, {\"feature1\": 0.04, \"feature2\": 0.92, \"predict\": true}, {\"feature1\": 0.04, \"feature2\": 0.94, \"predict\": true}, {\"feature1\": 0.04, \"feature2\": 0.96, \"predict\": true}, {\"feature1\": 0.04, \"feature2\": 0.98, \"predict\": true}, {\"feature1\": 0.06, \"feature2\": 0.0, \"predict\": false}, {\"feature1\": 0.06, \"feature2\": 0.02, \"predict\": false}, {\"feature1\": 0.06, \"feature2\": 0.04, \"predict\": false}, {\"feature1\": 0.06, \"feature2\": 0.06, \"predict\": false}, {\"feature1\": 0.06, \"feature2\": 0.08, \"predict\": false}, {\"feature1\": 0.06, \"feature2\": 0.1, \"predict\": false}, {\"feature1\": 0.06, \"feature2\": 0.12, \"predict\": false}, {\"feature1\": 0.06, \"feature2\": 0.14, \"predict\": false}, {\"feature1\": 0.06, \"feature2\": 0.16, \"predict\": false}, {\"feature1\": 0.06, \"feature2\": 0.18, \"predict\": false}, {\"feature1\": 0.06, \"feature2\": 0.2, \"predict\": false}, {\"feature1\": 0.06, \"feature2\": 0.22, \"predict\": false}, {\"feature1\": 0.06, \"feature2\": 0.24, \"predict\": false}, {\"feature1\": 0.06, \"feature2\": 0.26, \"predict\": false}, {\"feature1\": 0.06, \"feature2\": 0.28, \"predict\": false}, {\"feature1\": 0.06, \"feature2\": 0.3, \"predict\": false}, {\"feature1\": 0.06, \"feature2\": 0.32, \"predict\": false}, {\"feature1\": 0.06, \"feature2\": 0.34, \"predict\": false}, {\"feature1\": 0.06, \"feature2\": 0.36, \"predict\": false}, {\"feature1\": 0.06, \"feature2\": 0.38, \"predict\": false}, {\"feature1\": 0.06, \"feature2\": 0.4, \"predict\": false}, {\"feature1\": 0.06, \"feature2\": 0.42, \"predict\": false}, {\"feature1\": 0.06, \"feature2\": 0.44, \"predict\": false}, {\"feature1\": 0.06, \"feature2\": 0.46, \"predict\": false}, {\"feature1\": 0.06, \"feature2\": 0.48, \"predict\": false}, {\"feature1\": 0.06, \"feature2\": 0.5, \"predict\": false}, {\"feature1\": 0.06, \"feature2\": 0.52, \"predict\": false}, {\"feature1\": 0.06, \"feature2\": 0.54, \"predict\": false}, {\"feature1\": 0.06, \"feature2\": 0.56, \"predict\": false}, {\"feature1\": 0.06, \"feature2\": 0.58, \"predict\": false}, {\"feature1\": 0.06, \"feature2\": 0.6, \"predict\": false}, {\"feature1\": 0.06, \"feature2\": 0.62, \"predict\": false}, {\"feature1\": 0.06, \"feature2\": 0.64, \"predict\": false}, {\"feature1\": 0.06, \"feature2\": 0.66, \"predict\": false}, {\"feature1\": 0.06, \"feature2\": 0.68, \"predict\": false}, {\"feature1\": 0.06, \"feature2\": 0.7, \"predict\": false}, {\"feature1\": 0.06, \"feature2\": 0.72, \"predict\": false}, {\"feature1\": 0.06, \"feature2\": 0.74, \"predict\": false}, {\"feature1\": 0.06, \"feature2\": 0.76, \"predict\": false}, {\"feature1\": 0.06, \"feature2\": 0.78, \"predict\": false}, {\"feature1\": 0.06, \"feature2\": 0.8, \"predict\": false}, {\"feature1\": 0.06, \"feature2\": 0.82, \"predict\": false}, {\"feature1\": 0.06, \"feature2\": 0.84, \"predict\": false}, {\"feature1\": 0.06, \"feature2\": 0.86, \"predict\": false}, {\"feature1\": 0.06, \"feature2\": 0.88, \"predict\": true}, {\"feature1\": 0.06, \"feature2\": 0.9, \"predict\": true}, {\"feature1\": 0.06, \"feature2\": 0.92, \"predict\": true}, {\"feature1\": 0.06, \"feature2\": 0.94, \"predict\": true}, {\"feature1\": 0.06, \"feature2\": 0.96, \"predict\": true}, {\"feature1\": 0.06, \"feature2\": 0.98, \"predict\": true}, {\"feature1\": 0.08, \"feature2\": 0.0, \"predict\": false}, {\"feature1\": 0.08, \"feature2\": 0.02, \"predict\": false}, {\"feature1\": 0.08, \"feature2\": 0.04, \"predict\": false}, {\"feature1\": 0.08, \"feature2\": 0.06, \"predict\": false}, {\"feature1\": 0.08, \"feature2\": 0.08, \"predict\": false}, {\"feature1\": 0.08, \"feature2\": 0.1, \"predict\": false}, {\"feature1\": 0.08, \"feature2\": 0.12, \"predict\": false}, {\"feature1\": 0.08, \"feature2\": 0.14, \"predict\": false}, {\"feature1\": 0.08, \"feature2\": 0.16, \"predict\": false}, {\"feature1\": 0.08, \"feature2\": 0.18, \"predict\": false}, {\"feature1\": 0.08, \"feature2\": 0.2, \"predict\": false}, {\"feature1\": 0.08, \"feature2\": 0.22, \"predict\": false}, {\"feature1\": 0.08, \"feature2\": 0.24, \"predict\": false}, {\"feature1\": 0.08, \"feature2\": 0.26, \"predict\": false}, {\"feature1\": 0.08, \"feature2\": 0.28, \"predict\": false}, {\"feature1\": 0.08, \"feature2\": 0.3, \"predict\": false}, {\"feature1\": 0.08, \"feature2\": 0.32, \"predict\": false}, {\"feature1\": 0.08, \"feature2\": 0.34, \"predict\": false}, {\"feature1\": 0.08, \"feature2\": 0.36, \"predict\": false}, {\"feature1\": 0.08, \"feature2\": 0.38, \"predict\": false}, {\"feature1\": 0.08, \"feature2\": 0.4, \"predict\": false}, {\"feature1\": 0.08, \"feature2\": 0.42, \"predict\": false}, {\"feature1\": 0.08, \"feature2\": 0.44, \"predict\": false}, {\"feature1\": 0.08, \"feature2\": 0.46, \"predict\": false}, {\"feature1\": 0.08, \"feature2\": 0.48, \"predict\": false}, {\"feature1\": 0.08, \"feature2\": 0.5, \"predict\": false}, {\"feature1\": 0.08, \"feature2\": 0.52, \"predict\": false}, {\"feature1\": 0.08, \"feature2\": 0.54, \"predict\": false}, {\"feature1\": 0.08, \"feature2\": 0.56, \"predict\": false}, {\"feature1\": 0.08, \"feature2\": 0.58, \"predict\": false}, {\"feature1\": 0.08, \"feature2\": 0.6, \"predict\": false}, {\"feature1\": 0.08, \"feature2\": 0.62, \"predict\": false}, {\"feature1\": 0.08, \"feature2\": 0.64, \"predict\": false}, {\"feature1\": 0.08, \"feature2\": 0.66, \"predict\": false}, {\"feature1\": 0.08, \"feature2\": 0.68, \"predict\": false}, {\"feature1\": 0.08, \"feature2\": 0.7, \"predict\": false}, {\"feature1\": 0.08, \"feature2\": 0.72, \"predict\": false}, {\"feature1\": 0.08, \"feature2\": 0.74, \"predict\": false}, {\"feature1\": 0.08, \"feature2\": 0.76, \"predict\": false}, {\"feature1\": 0.08, \"feature2\": 0.78, \"predict\": false}, {\"feature1\": 0.08, \"feature2\": 0.8, \"predict\": false}, {\"feature1\": 0.08, \"feature2\": 0.82, \"predict\": false}, {\"feature1\": 0.08, \"feature2\": 0.84, \"predict\": false}, {\"feature1\": 0.08, \"feature2\": 0.86, \"predict\": true}, {\"feature1\": 0.08, \"feature2\": 0.88, \"predict\": true}, {\"feature1\": 0.08, \"feature2\": 0.9, \"predict\": true}, {\"feature1\": 0.08, \"feature2\": 0.92, \"predict\": true}, {\"feature1\": 0.08, \"feature2\": 0.94, \"predict\": true}, {\"feature1\": 0.08, \"feature2\": 0.96, \"predict\": true}, {\"feature1\": 0.08, \"feature2\": 0.98, \"predict\": true}, {\"feature1\": 0.1, \"feature2\": 0.0, \"predict\": false}, {\"feature1\": 0.1, \"feature2\": 0.02, \"predict\": false}, {\"feature1\": 0.1, \"feature2\": 0.04, \"predict\": false}, {\"feature1\": 0.1, \"feature2\": 0.06, \"predict\": false}, {\"feature1\": 0.1, \"feature2\": 0.08, \"predict\": false}, {\"feature1\": 0.1, \"feature2\": 0.1, \"predict\": false}, {\"feature1\": 0.1, \"feature2\": 0.12, \"predict\": false}, {\"feature1\": 0.1, \"feature2\": 0.14, \"predict\": false}, {\"feature1\": 0.1, \"feature2\": 0.16, \"predict\": false}, {\"feature1\": 0.1, \"feature2\": 0.18, \"predict\": false}, {\"feature1\": 0.1, \"feature2\": 0.2, \"predict\": false}, {\"feature1\": 0.1, \"feature2\": 0.22, \"predict\": false}, {\"feature1\": 0.1, \"feature2\": 0.24, \"predict\": false}, {\"feature1\": 0.1, \"feature2\": 0.26, \"predict\": false}, {\"feature1\": 0.1, \"feature2\": 0.28, \"predict\": false}, {\"feature1\": 0.1, \"feature2\": 0.3, \"predict\": false}, {\"feature1\": 0.1, \"feature2\": 0.32, \"predict\": false}, {\"feature1\": 0.1, \"feature2\": 0.34, \"predict\": false}, {\"feature1\": 0.1, \"feature2\": 0.36, \"predict\": false}, {\"feature1\": 0.1, \"feature2\": 0.38, \"predict\": false}, {\"feature1\": 0.1, \"feature2\": 0.4, \"predict\": false}, {\"feature1\": 0.1, \"feature2\": 0.42, \"predict\": false}, {\"feature1\": 0.1, \"feature2\": 0.44, \"predict\": false}, {\"feature1\": 0.1, \"feature2\": 0.46, \"predict\": false}, {\"feature1\": 0.1, \"feature2\": 0.48, \"predict\": false}, {\"feature1\": 0.1, \"feature2\": 0.5, \"predict\": false}, {\"feature1\": 0.1, \"feature2\": 0.52, \"predict\": false}, {\"feature1\": 0.1, \"feature2\": 0.54, \"predict\": false}, {\"feature1\": 0.1, \"feature2\": 0.56, \"predict\": false}, {\"feature1\": 0.1, \"feature2\": 0.58, \"predict\": false}, {\"feature1\": 0.1, \"feature2\": 0.6, \"predict\": false}, {\"feature1\": 0.1, \"feature2\": 0.62, \"predict\": false}, {\"feature1\": 0.1, \"feature2\": 0.64, \"predict\": false}, {\"feature1\": 0.1, \"feature2\": 0.66, \"predict\": false}, {\"feature1\": 0.1, \"feature2\": 0.68, \"predict\": false}, {\"feature1\": 0.1, \"feature2\": 0.7, \"predict\": false}, {\"feature1\": 0.1, \"feature2\": 0.72, \"predict\": false}, {\"feature1\": 0.1, \"feature2\": 0.74, \"predict\": false}, {\"feature1\": 0.1, \"feature2\": 0.76, \"predict\": false}, {\"feature1\": 0.1, \"feature2\": 0.78, \"predict\": false}, {\"feature1\": 0.1, \"feature2\": 0.8, \"predict\": false}, {\"feature1\": 0.1, \"feature2\": 0.82, \"predict\": false}, {\"feature1\": 0.1, \"feature2\": 0.84, \"predict\": true}, {\"feature1\": 0.1, \"feature2\": 0.86, \"predict\": true}, {\"feature1\": 0.1, \"feature2\": 0.88, \"predict\": true}, {\"feature1\": 0.1, \"feature2\": 0.9, \"predict\": true}, {\"feature1\": 0.1, \"feature2\": 0.92, \"predict\": true}, {\"feature1\": 0.1, \"feature2\": 0.94, \"predict\": true}, {\"feature1\": 0.1, \"feature2\": 0.96, \"predict\": true}, {\"feature1\": 0.1, \"feature2\": 0.98, \"predict\": true}, {\"feature1\": 0.12, \"feature2\": 0.0, \"predict\": false}, {\"feature1\": 0.12, \"feature2\": 0.02, \"predict\": false}, {\"feature1\": 0.12, \"feature2\": 0.04, \"predict\": false}, {\"feature1\": 0.12, \"feature2\": 0.06, \"predict\": false}, {\"feature1\": 0.12, \"feature2\": 0.08, \"predict\": false}, {\"feature1\": 0.12, \"feature2\": 0.1, \"predict\": false}, {\"feature1\": 0.12, \"feature2\": 0.12, \"predict\": false}, {\"feature1\": 0.12, \"feature2\": 0.14, \"predict\": false}, {\"feature1\": 0.12, \"feature2\": 0.16, \"predict\": false}, {\"feature1\": 0.12, \"feature2\": 0.18, \"predict\": false}, {\"feature1\": 0.12, \"feature2\": 0.2, \"predict\": false}, {\"feature1\": 0.12, \"feature2\": 0.22, \"predict\": false}, {\"feature1\": 0.12, \"feature2\": 0.24, \"predict\": false}, {\"feature1\": 0.12, \"feature2\": 0.26, \"predict\": false}, {\"feature1\": 0.12, \"feature2\": 0.28, \"predict\": false}, {\"feature1\": 0.12, \"feature2\": 0.3, \"predict\": false}, {\"feature1\": 0.12, \"feature2\": 0.32, \"predict\": false}, {\"feature1\": 0.12, \"feature2\": 0.34, \"predict\": false}, {\"feature1\": 0.12, \"feature2\": 0.36, \"predict\": false}, {\"feature1\": 0.12, \"feature2\": 0.38, \"predict\": false}, {\"feature1\": 0.12, \"feature2\": 0.4, \"predict\": false}, {\"feature1\": 0.12, \"feature2\": 0.42, \"predict\": false}, {\"feature1\": 0.12, \"feature2\": 0.44, \"predict\": false}, {\"feature1\": 0.12, \"feature2\": 0.46, \"predict\": false}, {\"feature1\": 0.12, \"feature2\": 0.48, \"predict\": false}, {\"feature1\": 0.12, \"feature2\": 0.5, \"predict\": false}, {\"feature1\": 0.12, \"feature2\": 0.52, \"predict\": false}, {\"feature1\": 0.12, \"feature2\": 0.54, \"predict\": false}, {\"feature1\": 0.12, \"feature2\": 0.56, \"predict\": false}, {\"feature1\": 0.12, \"feature2\": 0.58, \"predict\": false}, {\"feature1\": 0.12, \"feature2\": 0.6, \"predict\": false}, {\"feature1\": 0.12, \"feature2\": 0.62, \"predict\": false}, {\"feature1\": 0.12, \"feature2\": 0.64, \"predict\": false}, {\"feature1\": 0.12, \"feature2\": 0.66, \"predict\": false}, {\"feature1\": 0.12, \"feature2\": 0.68, \"predict\": false}, {\"feature1\": 0.12, \"feature2\": 0.7, \"predict\": false}, {\"feature1\": 0.12, \"feature2\": 0.72, \"predict\": false}, {\"feature1\": 0.12, \"feature2\": 0.74, \"predict\": false}, {\"feature1\": 0.12, \"feature2\": 0.76, \"predict\": false}, {\"feature1\": 0.12, \"feature2\": 0.78, \"predict\": false}, {\"feature1\": 0.12, \"feature2\": 0.8, \"predict\": false}, {\"feature1\": 0.12, \"feature2\": 0.82, \"predict\": true}, {\"feature1\": 0.12, \"feature2\": 0.84, \"predict\": true}, {\"feature1\": 0.12, \"feature2\": 0.86, \"predict\": true}, {\"feature1\": 0.12, \"feature2\": 0.88, \"predict\": true}, {\"feature1\": 0.12, \"feature2\": 0.9, \"predict\": true}, {\"feature1\": 0.12, \"feature2\": 0.92, \"predict\": true}, {\"feature1\": 0.12, \"feature2\": 0.94, \"predict\": true}, {\"feature1\": 0.12, \"feature2\": 0.96, \"predict\": true}, {\"feature1\": 0.12, \"feature2\": 0.98, \"predict\": true}, {\"feature1\": 0.14, \"feature2\": 0.0, \"predict\": false}, {\"feature1\": 0.14, \"feature2\": 0.02, \"predict\": false}, {\"feature1\": 0.14, \"feature2\": 0.04, \"predict\": false}, {\"feature1\": 0.14, \"feature2\": 0.06, \"predict\": false}, {\"feature1\": 0.14, \"feature2\": 0.08, \"predict\": false}, {\"feature1\": 0.14, \"feature2\": 0.1, \"predict\": false}, {\"feature1\": 0.14, \"feature2\": 0.12, \"predict\": false}, {\"feature1\": 0.14, \"feature2\": 0.14, \"predict\": false}, {\"feature1\": 0.14, \"feature2\": 0.16, \"predict\": false}, {\"feature1\": 0.14, \"feature2\": 0.18, \"predict\": false}, {\"feature1\": 0.14, \"feature2\": 0.2, \"predict\": false}, {\"feature1\": 0.14, \"feature2\": 0.22, \"predict\": false}, {\"feature1\": 0.14, \"feature2\": 0.24, \"predict\": false}, {\"feature1\": 0.14, \"feature2\": 0.26, \"predict\": false}, {\"feature1\": 0.14, \"feature2\": 0.28, \"predict\": false}, {\"feature1\": 0.14, \"feature2\": 0.3, \"predict\": false}, {\"feature1\": 0.14, \"feature2\": 0.32, \"predict\": false}, {\"feature1\": 0.14, \"feature2\": 0.34, \"predict\": false}, {\"feature1\": 0.14, \"feature2\": 0.36, \"predict\": false}, {\"feature1\": 0.14, \"feature2\": 0.38, \"predict\": false}, {\"feature1\": 0.14, \"feature2\": 0.4, \"predict\": false}, {\"feature1\": 0.14, \"feature2\": 0.42, \"predict\": false}, {\"feature1\": 0.14, \"feature2\": 0.44, \"predict\": false}, {\"feature1\": 0.14, \"feature2\": 0.46, \"predict\": false}, {\"feature1\": 0.14, \"feature2\": 0.48, \"predict\": false}, {\"feature1\": 0.14, \"feature2\": 0.5, \"predict\": false}, {\"feature1\": 0.14, \"feature2\": 0.52, \"predict\": false}, {\"feature1\": 0.14, \"feature2\": 0.54, \"predict\": false}, {\"feature1\": 0.14, \"feature2\": 0.56, \"predict\": false}, {\"feature1\": 0.14, \"feature2\": 0.58, \"predict\": false}, {\"feature1\": 0.14, \"feature2\": 0.6, \"predict\": false}, {\"feature1\": 0.14, \"feature2\": 0.62, \"predict\": false}, {\"feature1\": 0.14, \"feature2\": 0.64, \"predict\": false}, {\"feature1\": 0.14, \"feature2\": 0.66, \"predict\": false}, {\"feature1\": 0.14, \"feature2\": 0.68, \"predict\": false}, {\"feature1\": 0.14, \"feature2\": 0.7, \"predict\": false}, {\"feature1\": 0.14, \"feature2\": 0.72, \"predict\": false}, {\"feature1\": 0.14, \"feature2\": 0.74, \"predict\": false}, {\"feature1\": 0.14, \"feature2\": 0.76, \"predict\": false}, {\"feature1\": 0.14, \"feature2\": 0.78, \"predict\": false}, {\"feature1\": 0.14, \"feature2\": 0.8, \"predict\": true}, {\"feature1\": 0.14, \"feature2\": 0.82, \"predict\": true}, {\"feature1\": 0.14, \"feature2\": 0.84, \"predict\": true}, {\"feature1\": 0.14, \"feature2\": 0.86, \"predict\": true}, {\"feature1\": 0.14, \"feature2\": 0.88, \"predict\": true}, {\"feature1\": 0.14, \"feature2\": 0.9, \"predict\": true}, {\"feature1\": 0.14, \"feature2\": 0.92, \"predict\": true}, {\"feature1\": 0.14, \"feature2\": 0.94, \"predict\": true}, {\"feature1\": 0.14, \"feature2\": 0.96, \"predict\": true}, {\"feature1\": 0.14, \"feature2\": 0.98, \"predict\": true}, {\"feature1\": 0.16, \"feature2\": 0.0, \"predict\": false}, {\"feature1\": 0.16, \"feature2\": 0.02, \"predict\": false}, {\"feature1\": 0.16, \"feature2\": 0.04, \"predict\": false}, {\"feature1\": 0.16, \"feature2\": 0.06, \"predict\": false}, {\"feature1\": 0.16, \"feature2\": 0.08, \"predict\": false}, {\"feature1\": 0.16, \"feature2\": 0.1, \"predict\": false}, {\"feature1\": 0.16, \"feature2\": 0.12, \"predict\": false}, {\"feature1\": 0.16, \"feature2\": 0.14, \"predict\": false}, {\"feature1\": 0.16, \"feature2\": 0.16, \"predict\": false}, {\"feature1\": 0.16, \"feature2\": 0.18, \"predict\": false}, {\"feature1\": 0.16, \"feature2\": 0.2, \"predict\": false}, {\"feature1\": 0.16, \"feature2\": 0.22, \"predict\": false}, {\"feature1\": 0.16, \"feature2\": 0.24, \"predict\": false}, {\"feature1\": 0.16, \"feature2\": 0.26, \"predict\": false}, {\"feature1\": 0.16, \"feature2\": 0.28, \"predict\": false}, {\"feature1\": 0.16, \"feature2\": 0.3, \"predict\": false}, {\"feature1\": 0.16, \"feature2\": 0.32, \"predict\": false}, {\"feature1\": 0.16, \"feature2\": 0.34, \"predict\": false}, {\"feature1\": 0.16, \"feature2\": 0.36, \"predict\": false}, {\"feature1\": 0.16, \"feature2\": 0.38, \"predict\": false}, {\"feature1\": 0.16, \"feature2\": 0.4, \"predict\": false}, {\"feature1\": 0.16, \"feature2\": 0.42, \"predict\": false}, {\"feature1\": 0.16, \"feature2\": 0.44, \"predict\": false}, {\"feature1\": 0.16, \"feature2\": 0.46, \"predict\": false}, {\"feature1\": 0.16, \"feature2\": 0.48, \"predict\": false}, {\"feature1\": 0.16, \"feature2\": 0.5, \"predict\": false}, {\"feature1\": 0.16, \"feature2\": 0.52, \"predict\": false}, {\"feature1\": 0.16, \"feature2\": 0.54, \"predict\": false}, {\"feature1\": 0.16, \"feature2\": 0.56, \"predict\": false}, {\"feature1\": 0.16, \"feature2\": 0.58, \"predict\": false}, {\"feature1\": 0.16, \"feature2\": 0.6, \"predict\": false}, {\"feature1\": 0.16, \"feature2\": 0.62, \"predict\": false}, {\"feature1\": 0.16, \"feature2\": 0.64, \"predict\": false}, {\"feature1\": 0.16, \"feature2\": 0.66, \"predict\": false}, {\"feature1\": 0.16, \"feature2\": 0.68, \"predict\": false}, {\"feature1\": 0.16, \"feature2\": 0.7, \"predict\": false}, {\"feature1\": 0.16, \"feature2\": 0.72, \"predict\": false}, {\"feature1\": 0.16, \"feature2\": 0.74, \"predict\": false}, {\"feature1\": 0.16, \"feature2\": 0.76, \"predict\": false}, {\"feature1\": 0.16, \"feature2\": 0.78, \"predict\": true}, {\"feature1\": 0.16, \"feature2\": 0.8, \"predict\": true}, {\"feature1\": 0.16, \"feature2\": 0.82, \"predict\": true}, {\"feature1\": 0.16, \"feature2\": 0.84, \"predict\": true}, {\"feature1\": 0.16, \"feature2\": 0.86, \"predict\": true}, {\"feature1\": 0.16, \"feature2\": 0.88, \"predict\": true}, {\"feature1\": 0.16, \"feature2\": 0.9, \"predict\": true}, {\"feature1\": 0.16, \"feature2\": 0.92, \"predict\": true}, {\"feature1\": 0.16, \"feature2\": 0.94, \"predict\": true}, {\"feature1\": 0.16, \"feature2\": 0.96, \"predict\": true}, {\"feature1\": 0.16, \"feature2\": 0.98, \"predict\": true}, {\"feature1\": 0.18, \"feature2\": 0.0, \"predict\": false}, {\"feature1\": 0.18, \"feature2\": 0.02, \"predict\": false}, {\"feature1\": 0.18, \"feature2\": 0.04, \"predict\": false}, {\"feature1\": 0.18, \"feature2\": 0.06, \"predict\": false}, {\"feature1\": 0.18, \"feature2\": 0.08, \"predict\": false}, {\"feature1\": 0.18, \"feature2\": 0.1, \"predict\": false}, {\"feature1\": 0.18, \"feature2\": 0.12, \"predict\": false}, {\"feature1\": 0.18, \"feature2\": 0.14, \"predict\": false}, {\"feature1\": 0.18, \"feature2\": 0.16, \"predict\": false}, {\"feature1\": 0.18, \"feature2\": 0.18, \"predict\": false}, {\"feature1\": 0.18, \"feature2\": 0.2, \"predict\": false}, {\"feature1\": 0.18, \"feature2\": 0.22, \"predict\": false}, {\"feature1\": 0.18, \"feature2\": 0.24, \"predict\": false}, {\"feature1\": 0.18, \"feature2\": 0.26, \"predict\": false}, {\"feature1\": 0.18, \"feature2\": 0.28, \"predict\": false}, {\"feature1\": 0.18, \"feature2\": 0.3, \"predict\": false}, {\"feature1\": 0.18, \"feature2\": 0.32, \"predict\": false}, {\"feature1\": 0.18, \"feature2\": 0.34, \"predict\": false}, {\"feature1\": 0.18, \"feature2\": 0.36, \"predict\": false}, {\"feature1\": 0.18, \"feature2\": 0.38, \"predict\": false}, {\"feature1\": 0.18, \"feature2\": 0.4, \"predict\": false}, {\"feature1\": 0.18, \"feature2\": 0.42, \"predict\": false}, {\"feature1\": 0.18, \"feature2\": 0.44, \"predict\": false}, {\"feature1\": 0.18, \"feature2\": 0.46, \"predict\": false}, {\"feature1\": 0.18, \"feature2\": 0.48, \"predict\": false}, {\"feature1\": 0.18, \"feature2\": 0.5, \"predict\": false}, {\"feature1\": 0.18, \"feature2\": 0.52, \"predict\": false}, {\"feature1\": 0.18, \"feature2\": 0.54, \"predict\": false}, {\"feature1\": 0.18, \"feature2\": 0.56, \"predict\": false}, {\"feature1\": 0.18, \"feature2\": 0.58, \"predict\": false}, {\"feature1\": 0.18, \"feature2\": 0.6, \"predict\": false}, {\"feature1\": 0.18, \"feature2\": 0.62, \"predict\": false}, {\"feature1\": 0.18, \"feature2\": 0.64, \"predict\": false}, {\"feature1\": 0.18, \"feature2\": 0.66, \"predict\": false}, {\"feature1\": 0.18, \"feature2\": 0.68, \"predict\": false}, {\"feature1\": 0.18, \"feature2\": 0.7, \"predict\": false}, {\"feature1\": 0.18, \"feature2\": 0.72, \"predict\": false}, {\"feature1\": 0.18, \"feature2\": 0.74, \"predict\": false}, {\"feature1\": 0.18, \"feature2\": 0.76, \"predict\": true}, {\"feature1\": 0.18, \"feature2\": 0.78, \"predict\": true}, {\"feature1\": 0.18, \"feature2\": 0.8, \"predict\": true}, {\"feature1\": 0.18, \"feature2\": 0.82, \"predict\": true}, {\"feature1\": 0.18, \"feature2\": 0.84, \"predict\": true}, {\"feature1\": 0.18, \"feature2\": 0.86, \"predict\": true}, {\"feature1\": 0.18, \"feature2\": 0.88, \"predict\": true}, {\"feature1\": 0.18, \"feature2\": 0.9, \"predict\": true}, {\"feature1\": 0.18, \"feature2\": 0.92, \"predict\": true}, {\"feature1\": 0.18, \"feature2\": 0.94, \"predict\": true}, {\"feature1\": 0.18, \"feature2\": 0.96, \"predict\": true}, {\"feature1\": 0.18, \"feature2\": 0.98, \"predict\": true}, {\"feature1\": 0.2, \"feature2\": 0.0, \"predict\": false}, {\"feature1\": 0.2, \"feature2\": 0.02, \"predict\": false}, {\"feature1\": 0.2, \"feature2\": 0.04, \"predict\": false}, {\"feature1\": 0.2, \"feature2\": 0.06, \"predict\": false}, {\"feature1\": 0.2, \"feature2\": 0.08, \"predict\": false}, {\"feature1\": 0.2, \"feature2\": 0.1, \"predict\": false}, {\"feature1\": 0.2, \"feature2\": 0.12, \"predict\": false}, {\"feature1\": 0.2, \"feature2\": 0.14, \"predict\": false}, {\"feature1\": 0.2, \"feature2\": 0.16, \"predict\": false}, {\"feature1\": 0.2, \"feature2\": 0.18, \"predict\": false}, {\"feature1\": 0.2, \"feature2\": 0.2, \"predict\": false}, {\"feature1\": 0.2, \"feature2\": 0.22, \"predict\": false}, {\"feature1\": 0.2, \"feature2\": 0.24, \"predict\": false}, {\"feature1\": 0.2, \"feature2\": 0.26, \"predict\": false}, {\"feature1\": 0.2, \"feature2\": 0.28, \"predict\": false}, {\"feature1\": 0.2, \"feature2\": 0.3, \"predict\": false}, {\"feature1\": 0.2, \"feature2\": 0.32, \"predict\": false}, {\"feature1\": 0.2, \"feature2\": 0.34, \"predict\": false}, {\"feature1\": 0.2, \"feature2\": 0.36, \"predict\": false}, {\"feature1\": 0.2, \"feature2\": 0.38, \"predict\": false}, {\"feature1\": 0.2, \"feature2\": 0.4, \"predict\": false}, {\"feature1\": 0.2, \"feature2\": 0.42, \"predict\": false}, {\"feature1\": 0.2, \"feature2\": 0.44, \"predict\": false}, {\"feature1\": 0.2, \"feature2\": 0.46, \"predict\": false}, {\"feature1\": 0.2, \"feature2\": 0.48, \"predict\": false}, {\"feature1\": 0.2, \"feature2\": 0.5, \"predict\": false}, {\"feature1\": 0.2, \"feature2\": 0.52, \"predict\": false}, {\"feature1\": 0.2, \"feature2\": 0.54, \"predict\": false}, {\"feature1\": 0.2, \"feature2\": 0.56, \"predict\": false}, {\"feature1\": 0.2, \"feature2\": 0.58, \"predict\": false}, {\"feature1\": 0.2, \"feature2\": 0.6, \"predict\": false}, {\"feature1\": 0.2, \"feature2\": 0.62, \"predict\": false}, {\"feature1\": 0.2, \"feature2\": 0.64, \"predict\": false}, {\"feature1\": 0.2, \"feature2\": 0.66, \"predict\": false}, {\"feature1\": 0.2, \"feature2\": 0.68, \"predict\": false}, {\"feature1\": 0.2, \"feature2\": 0.7, \"predict\": false}, {\"feature1\": 0.2, \"feature2\": 0.72, \"predict\": false}, {\"feature1\": 0.2, \"feature2\": 0.74, \"predict\": true}, {\"feature1\": 0.2, \"feature2\": 0.76, \"predict\": true}, {\"feature1\": 0.2, \"feature2\": 0.78, \"predict\": true}, {\"feature1\": 0.2, \"feature2\": 0.8, \"predict\": true}, {\"feature1\": 0.2, \"feature2\": 0.82, \"predict\": true}, {\"feature1\": 0.2, \"feature2\": 0.84, \"predict\": true}, {\"feature1\": 0.2, \"feature2\": 0.86, \"predict\": true}, {\"feature1\": 0.2, \"feature2\": 0.88, \"predict\": true}, {\"feature1\": 0.2, \"feature2\": 0.9, \"predict\": true}, {\"feature1\": 0.2, \"feature2\": 0.92, \"predict\": true}, {\"feature1\": 0.2, \"feature2\": 0.94, \"predict\": true}, {\"feature1\": 0.2, \"feature2\": 0.96, \"predict\": true}, {\"feature1\": 0.2, \"feature2\": 0.98, \"predict\": true}, {\"feature1\": 0.22, \"feature2\": 0.0, \"predict\": false}, {\"feature1\": 0.22, \"feature2\": 0.02, \"predict\": false}, {\"feature1\": 0.22, \"feature2\": 0.04, \"predict\": false}, {\"feature1\": 0.22, \"feature2\": 0.06, \"predict\": false}, {\"feature1\": 0.22, \"feature2\": 0.08, \"predict\": false}, {\"feature1\": 0.22, \"feature2\": 0.1, \"predict\": false}, {\"feature1\": 0.22, \"feature2\": 0.12, \"predict\": false}, {\"feature1\": 0.22, \"feature2\": 0.14, \"predict\": false}, {\"feature1\": 0.22, \"feature2\": 0.16, \"predict\": false}, {\"feature1\": 0.22, \"feature2\": 0.18, \"predict\": false}, {\"feature1\": 0.22, \"feature2\": 0.2, \"predict\": false}, {\"feature1\": 0.22, \"feature2\": 0.22, \"predict\": false}, {\"feature1\": 0.22, \"feature2\": 0.24, \"predict\": false}, {\"feature1\": 0.22, \"feature2\": 0.26, \"predict\": false}, {\"feature1\": 0.22, \"feature2\": 0.28, \"predict\": false}, {\"feature1\": 0.22, \"feature2\": 0.3, \"predict\": false}, {\"feature1\": 0.22, \"feature2\": 0.32, \"predict\": false}, {\"feature1\": 0.22, \"feature2\": 0.34, \"predict\": false}, {\"feature1\": 0.22, \"feature2\": 0.36, \"predict\": false}, {\"feature1\": 0.22, \"feature2\": 0.38, \"predict\": false}, {\"feature1\": 0.22, \"feature2\": 0.4, \"predict\": false}, {\"feature1\": 0.22, \"feature2\": 0.42, \"predict\": false}, {\"feature1\": 0.22, \"feature2\": 0.44, \"predict\": false}, {\"feature1\": 0.22, \"feature2\": 0.46, \"predict\": false}, {\"feature1\": 0.22, \"feature2\": 0.48, \"predict\": false}, {\"feature1\": 0.22, \"feature2\": 0.5, \"predict\": false}, {\"feature1\": 0.22, \"feature2\": 0.52, \"predict\": false}, {\"feature1\": 0.22, \"feature2\": 0.54, \"predict\": false}, {\"feature1\": 0.22, \"feature2\": 0.56, \"predict\": false}, {\"feature1\": 0.22, \"feature2\": 0.58, \"predict\": false}, {\"feature1\": 0.22, \"feature2\": 0.6, \"predict\": false}, {\"feature1\": 0.22, \"feature2\": 0.62, \"predict\": false}, {\"feature1\": 0.22, \"feature2\": 0.64, \"predict\": false}, {\"feature1\": 0.22, \"feature2\": 0.66, \"predict\": false}, {\"feature1\": 0.22, \"feature2\": 0.68, \"predict\": false}, {\"feature1\": 0.22, \"feature2\": 0.7, \"predict\": false}, {\"feature1\": 0.22, \"feature2\": 0.72, \"predict\": true}, {\"feature1\": 0.22, \"feature2\": 0.74, \"predict\": true}, {\"feature1\": 0.22, \"feature2\": 0.76, \"predict\": true}, {\"feature1\": 0.22, \"feature2\": 0.78, \"predict\": true}, {\"feature1\": 0.22, \"feature2\": 0.8, \"predict\": true}, {\"feature1\": 0.22, \"feature2\": 0.82, \"predict\": true}, {\"feature1\": 0.22, \"feature2\": 0.84, \"predict\": true}, {\"feature1\": 0.22, \"feature2\": 0.86, \"predict\": true}, {\"feature1\": 0.22, \"feature2\": 0.88, \"predict\": true}, {\"feature1\": 0.22, \"feature2\": 0.9, \"predict\": true}, {\"feature1\": 0.22, \"feature2\": 0.92, \"predict\": true}, {\"feature1\": 0.22, \"feature2\": 0.94, \"predict\": true}, {\"feature1\": 0.22, \"feature2\": 0.96, \"predict\": true}, {\"feature1\": 0.22, \"feature2\": 0.98, \"predict\": true}, {\"feature1\": 0.24, \"feature2\": 0.0, \"predict\": false}, {\"feature1\": 0.24, \"feature2\": 0.02, \"predict\": false}, {\"feature1\": 0.24, \"feature2\": 0.04, \"predict\": false}, {\"feature1\": 0.24, \"feature2\": 0.06, \"predict\": false}, {\"feature1\": 0.24, \"feature2\": 0.08, \"predict\": false}, {\"feature1\": 0.24, \"feature2\": 0.1, \"predict\": false}, {\"feature1\": 0.24, \"feature2\": 0.12, \"predict\": false}, {\"feature1\": 0.24, \"feature2\": 0.14, \"predict\": false}, {\"feature1\": 0.24, \"feature2\": 0.16, \"predict\": false}, {\"feature1\": 0.24, \"feature2\": 0.18, \"predict\": false}, {\"feature1\": 0.24, \"feature2\": 0.2, \"predict\": false}, {\"feature1\": 0.24, \"feature2\": 0.22, \"predict\": false}, {\"feature1\": 0.24, \"feature2\": 0.24, \"predict\": false}, {\"feature1\": 0.24, \"feature2\": 0.26, \"predict\": false}, {\"feature1\": 0.24, \"feature2\": 0.28, \"predict\": false}, {\"feature1\": 0.24, \"feature2\": 0.3, \"predict\": false}, {\"feature1\": 0.24, \"feature2\": 0.32, \"predict\": false}, {\"feature1\": 0.24, \"feature2\": 0.34, \"predict\": false}, {\"feature1\": 0.24, \"feature2\": 0.36, \"predict\": false}, {\"feature1\": 0.24, \"feature2\": 0.38, \"predict\": false}, {\"feature1\": 0.24, \"feature2\": 0.4, \"predict\": false}, {\"feature1\": 0.24, \"feature2\": 0.42, \"predict\": false}, {\"feature1\": 0.24, \"feature2\": 0.44, \"predict\": false}, {\"feature1\": 0.24, \"feature2\": 0.46, \"predict\": false}, {\"feature1\": 0.24, \"feature2\": 0.48, \"predict\": false}, {\"feature1\": 0.24, \"feature2\": 0.5, \"predict\": false}, {\"feature1\": 0.24, \"feature2\": 0.52, \"predict\": false}, {\"feature1\": 0.24, \"feature2\": 0.54, \"predict\": false}, {\"feature1\": 0.24, \"feature2\": 0.56, \"predict\": false}, {\"feature1\": 0.24, \"feature2\": 0.58, \"predict\": false}, {\"feature1\": 0.24, \"feature2\": 0.6, \"predict\": false}, {\"feature1\": 0.24, \"feature2\": 0.62, \"predict\": false}, {\"feature1\": 0.24, \"feature2\": 0.64, \"predict\": false}, {\"feature1\": 0.24, \"feature2\": 0.66, \"predict\": false}, {\"feature1\": 0.24, \"feature2\": 0.68, \"predict\": false}, {\"feature1\": 0.24, \"feature2\": 0.7, \"predict\": true}, {\"feature1\": 0.24, \"feature2\": 0.72, \"predict\": true}, {\"feature1\": 0.24, \"feature2\": 0.74, \"predict\": true}, {\"feature1\": 0.24, \"feature2\": 0.76, \"predict\": true}, {\"feature1\": 0.24, \"feature2\": 0.78, \"predict\": true}, {\"feature1\": 0.24, \"feature2\": 0.8, \"predict\": true}, {\"feature1\": 0.24, \"feature2\": 0.82, \"predict\": true}, {\"feature1\": 0.24, \"feature2\": 0.84, \"predict\": true}, {\"feature1\": 0.24, \"feature2\": 0.86, \"predict\": true}, {\"feature1\": 0.24, \"feature2\": 0.88, \"predict\": true}, {\"feature1\": 0.24, \"feature2\": 0.9, \"predict\": true}, {\"feature1\": 0.24, \"feature2\": 0.92, \"predict\": true}, {\"feature1\": 0.24, \"feature2\": 0.94, \"predict\": true}, {\"feature1\": 0.24, \"feature2\": 0.96, \"predict\": true}, {\"feature1\": 0.24, \"feature2\": 0.98, \"predict\": true}, {\"feature1\": 0.26, \"feature2\": 0.0, \"predict\": false}, {\"feature1\": 0.26, \"feature2\": 0.02, \"predict\": false}, {\"feature1\": 0.26, \"feature2\": 0.04, \"predict\": false}, {\"feature1\": 0.26, \"feature2\": 0.06, \"predict\": false}, {\"feature1\": 0.26, \"feature2\": 0.08, \"predict\": false}, {\"feature1\": 0.26, \"feature2\": 0.1, \"predict\": false}, {\"feature1\": 0.26, \"feature2\": 0.12, \"predict\": false}, {\"feature1\": 0.26, \"feature2\": 0.14, \"predict\": false}, {\"feature1\": 0.26, \"feature2\": 0.16, \"predict\": false}, {\"feature1\": 0.26, \"feature2\": 0.18, \"predict\": false}, {\"feature1\": 0.26, \"feature2\": 0.2, \"predict\": false}, {\"feature1\": 0.26, \"feature2\": 0.22, \"predict\": false}, {\"feature1\": 0.26, \"feature2\": 0.24, \"predict\": false}, {\"feature1\": 0.26, \"feature2\": 0.26, \"predict\": false}, {\"feature1\": 0.26, \"feature2\": 0.28, \"predict\": false}, {\"feature1\": 0.26, \"feature2\": 0.3, \"predict\": false}, {\"feature1\": 0.26, \"feature2\": 0.32, \"predict\": false}, {\"feature1\": 0.26, \"feature2\": 0.34, \"predict\": false}, {\"feature1\": 0.26, \"feature2\": 0.36, \"predict\": false}, {\"feature1\": 0.26, \"feature2\": 0.38, \"predict\": false}, {\"feature1\": 0.26, \"feature2\": 0.4, \"predict\": false}, {\"feature1\": 0.26, \"feature2\": 0.42, \"predict\": false}, {\"feature1\": 0.26, \"feature2\": 0.44, \"predict\": false}, {\"feature1\": 0.26, \"feature2\": 0.46, \"predict\": false}, {\"feature1\": 0.26, \"feature2\": 0.48, \"predict\": false}, {\"feature1\": 0.26, \"feature2\": 0.5, \"predict\": false}, {\"feature1\": 0.26, \"feature2\": 0.52, \"predict\": false}, {\"feature1\": 0.26, \"feature2\": 0.54, \"predict\": false}, {\"feature1\": 0.26, \"feature2\": 0.56, \"predict\": false}, {\"feature1\": 0.26, \"feature2\": 0.58, \"predict\": false}, {\"feature1\": 0.26, \"feature2\": 0.6, \"predict\": false}, {\"feature1\": 0.26, \"feature2\": 0.62, \"predict\": false}, {\"feature1\": 0.26, \"feature2\": 0.64, \"predict\": false}, {\"feature1\": 0.26, \"feature2\": 0.66, \"predict\": false}, {\"feature1\": 0.26, \"feature2\": 0.68, \"predict\": true}, {\"feature1\": 0.26, \"feature2\": 0.7, \"predict\": true}, {\"feature1\": 0.26, \"feature2\": 0.72, \"predict\": true}, {\"feature1\": 0.26, \"feature2\": 0.74, \"predict\": true}, {\"feature1\": 0.26, \"feature2\": 0.76, \"predict\": true}, {\"feature1\": 0.26, \"feature2\": 0.78, \"predict\": true}, {\"feature1\": 0.26, \"feature2\": 0.8, \"predict\": true}, {\"feature1\": 0.26, \"feature2\": 0.82, \"predict\": true}, {\"feature1\": 0.26, \"feature2\": 0.84, \"predict\": true}, {\"feature1\": 0.26, \"feature2\": 0.86, \"predict\": true}, {\"feature1\": 0.26, \"feature2\": 0.88, \"predict\": true}, {\"feature1\": 0.26, \"feature2\": 0.9, \"predict\": true}, {\"feature1\": 0.26, \"feature2\": 0.92, \"predict\": true}, {\"feature1\": 0.26, \"feature2\": 0.94, \"predict\": true}, {\"feature1\": 0.26, \"feature2\": 0.96, \"predict\": true}, {\"feature1\": 0.26, \"feature2\": 0.98, \"predict\": true}, {\"feature1\": 0.28, \"feature2\": 0.0, \"predict\": false}, {\"feature1\": 0.28, \"feature2\": 0.02, \"predict\": false}, {\"feature1\": 0.28, \"feature2\": 0.04, \"predict\": false}, {\"feature1\": 0.28, \"feature2\": 0.06, \"predict\": false}, {\"feature1\": 0.28, \"feature2\": 0.08, \"predict\": false}, {\"feature1\": 0.28, \"feature2\": 0.1, \"predict\": false}, {\"feature1\": 0.28, \"feature2\": 0.12, \"predict\": false}, {\"feature1\": 0.28, \"feature2\": 0.14, \"predict\": false}, {\"feature1\": 0.28, \"feature2\": 0.16, \"predict\": false}, {\"feature1\": 0.28, \"feature2\": 0.18, \"predict\": false}, {\"feature1\": 0.28, \"feature2\": 0.2, \"predict\": false}, {\"feature1\": 0.28, \"feature2\": 0.22, \"predict\": false}, {\"feature1\": 0.28, \"feature2\": 0.24, \"predict\": false}, {\"feature1\": 0.28, \"feature2\": 0.26, \"predict\": false}, {\"feature1\": 0.28, \"feature2\": 0.28, \"predict\": false}, {\"feature1\": 0.28, \"feature2\": 0.3, \"predict\": false}, {\"feature1\": 0.28, \"feature2\": 0.32, \"predict\": false}, {\"feature1\": 0.28, \"feature2\": 0.34, \"predict\": false}, {\"feature1\": 0.28, \"feature2\": 0.36, \"predict\": false}, {\"feature1\": 0.28, \"feature2\": 0.38, \"predict\": false}, {\"feature1\": 0.28, \"feature2\": 0.4, \"predict\": false}, {\"feature1\": 0.28, \"feature2\": 0.42, \"predict\": false}, {\"feature1\": 0.28, \"feature2\": 0.44, \"predict\": false}, {\"feature1\": 0.28, \"feature2\": 0.46, \"predict\": false}, {\"feature1\": 0.28, \"feature2\": 0.48, \"predict\": false}, {\"feature1\": 0.28, \"feature2\": 0.5, \"predict\": false}, {\"feature1\": 0.28, \"feature2\": 0.52, \"predict\": false}, {\"feature1\": 0.28, \"feature2\": 0.54, \"predict\": false}, {\"feature1\": 0.28, \"feature2\": 0.56, \"predict\": false}, {\"feature1\": 0.28, \"feature2\": 0.58, \"predict\": false}, {\"feature1\": 0.28, \"feature2\": 0.6, \"predict\": false}, {\"feature1\": 0.28, \"feature2\": 0.62, \"predict\": false}, {\"feature1\": 0.28, \"feature2\": 0.64, \"predict\": false}, {\"feature1\": 0.28, \"feature2\": 0.66, \"predict\": true}, {\"feature1\": 0.28, \"feature2\": 0.68, \"predict\": true}, {\"feature1\": 0.28, \"feature2\": 0.7, \"predict\": true}, {\"feature1\": 0.28, \"feature2\": 0.72, \"predict\": true}, {\"feature1\": 0.28, \"feature2\": 0.74, \"predict\": true}, {\"feature1\": 0.28, \"feature2\": 0.76, \"predict\": true}, {\"feature1\": 0.28, \"feature2\": 0.78, \"predict\": true}, {\"feature1\": 0.28, \"feature2\": 0.8, \"predict\": true}, {\"feature1\": 0.28, \"feature2\": 0.82, \"predict\": true}, {\"feature1\": 0.28, \"feature2\": 0.84, \"predict\": true}, {\"feature1\": 0.28, \"feature2\": 0.86, \"predict\": true}, {\"feature1\": 0.28, \"feature2\": 0.88, \"predict\": true}, {\"feature1\": 0.28, \"feature2\": 0.9, \"predict\": true}, {\"feature1\": 0.28, \"feature2\": 0.92, \"predict\": true}, {\"feature1\": 0.28, \"feature2\": 0.94, \"predict\": true}, {\"feature1\": 0.28, \"feature2\": 0.96, \"predict\": true}, {\"feature1\": 0.28, \"feature2\": 0.98, \"predict\": true}, {\"feature1\": 0.3, \"feature2\": 0.0, \"predict\": false}, {\"feature1\": 0.3, \"feature2\": 0.02, \"predict\": false}, {\"feature1\": 0.3, \"feature2\": 0.04, \"predict\": false}, {\"feature1\": 0.3, \"feature2\": 0.06, \"predict\": false}, {\"feature1\": 0.3, \"feature2\": 0.08, \"predict\": false}, {\"feature1\": 0.3, \"feature2\": 0.1, \"predict\": false}, {\"feature1\": 0.3, \"feature2\": 0.12, \"predict\": false}, {\"feature1\": 0.3, \"feature2\": 0.14, \"predict\": false}, {\"feature1\": 0.3, \"feature2\": 0.16, \"predict\": false}, {\"feature1\": 0.3, \"feature2\": 0.18, \"predict\": false}, {\"feature1\": 0.3, \"feature2\": 0.2, \"predict\": false}, {\"feature1\": 0.3, \"feature2\": 0.22, \"predict\": false}, {\"feature1\": 0.3, \"feature2\": 0.24, \"predict\": false}, {\"feature1\": 0.3, \"feature2\": 0.26, \"predict\": false}, {\"feature1\": 0.3, \"feature2\": 0.28, \"predict\": false}, {\"feature1\": 0.3, \"feature2\": 0.3, \"predict\": false}, {\"feature1\": 0.3, \"feature2\": 0.32, \"predict\": false}, {\"feature1\": 0.3, \"feature2\": 0.34, \"predict\": false}, {\"feature1\": 0.3, \"feature2\": 0.36, \"predict\": false}, {\"feature1\": 0.3, \"feature2\": 0.38, \"predict\": false}, {\"feature1\": 0.3, \"feature2\": 0.4, \"predict\": false}, {\"feature1\": 0.3, \"feature2\": 0.42, \"predict\": false}, {\"feature1\": 0.3, \"feature2\": 0.44, \"predict\": false}, {\"feature1\": 0.3, \"feature2\": 0.46, \"predict\": false}, {\"feature1\": 0.3, \"feature2\": 0.48, \"predict\": false}, {\"feature1\": 0.3, \"feature2\": 0.5, \"predict\": false}, {\"feature1\": 0.3, \"feature2\": 0.52, \"predict\": false}, {\"feature1\": 0.3, \"feature2\": 0.54, \"predict\": false}, {\"feature1\": 0.3, \"feature2\": 0.56, \"predict\": false}, {\"feature1\": 0.3, \"feature2\": 0.58, \"predict\": false}, {\"feature1\": 0.3, \"feature2\": 0.6, \"predict\": false}, {\"feature1\": 0.3, \"feature2\": 0.62, \"predict\": false}, {\"feature1\": 0.3, \"feature2\": 0.64, \"predict\": true}, {\"feature1\": 0.3, \"feature2\": 0.66, \"predict\": true}, {\"feature1\": 0.3, \"feature2\": 0.68, \"predict\": true}, {\"feature1\": 0.3, \"feature2\": 0.7, \"predict\": true}, {\"feature1\": 0.3, \"feature2\": 0.72, \"predict\": true}, {\"feature1\": 0.3, \"feature2\": 0.74, \"predict\": true}, {\"feature1\": 0.3, \"feature2\": 0.76, \"predict\": true}, {\"feature1\": 0.3, \"feature2\": 0.78, \"predict\": true}, {\"feature1\": 0.3, \"feature2\": 0.8, \"predict\": true}, {\"feature1\": 0.3, \"feature2\": 0.82, \"predict\": true}, {\"feature1\": 0.3, \"feature2\": 0.84, \"predict\": true}, {\"feature1\": 0.3, \"feature2\": 0.86, \"predict\": true}, {\"feature1\": 0.3, \"feature2\": 0.88, \"predict\": true}, {\"feature1\": 0.3, \"feature2\": 0.9, \"predict\": true}, {\"feature1\": 0.3, \"feature2\": 0.92, \"predict\": true}, {\"feature1\": 0.3, \"feature2\": 0.94, \"predict\": true}, {\"feature1\": 0.3, \"feature2\": 0.96, \"predict\": true}, {\"feature1\": 0.3, \"feature2\": 0.98, \"predict\": true}, {\"feature1\": 0.32, \"feature2\": 0.0, \"predict\": false}, {\"feature1\": 0.32, \"feature2\": 0.02, \"predict\": false}, {\"feature1\": 0.32, \"feature2\": 0.04, \"predict\": false}, {\"feature1\": 0.32, \"feature2\": 0.06, \"predict\": false}, {\"feature1\": 0.32, \"feature2\": 0.08, \"predict\": false}, {\"feature1\": 0.32, \"feature2\": 0.1, \"predict\": false}, {\"feature1\": 0.32, \"feature2\": 0.12, \"predict\": false}, {\"feature1\": 0.32, \"feature2\": 0.14, \"predict\": false}, {\"feature1\": 0.32, \"feature2\": 0.16, \"predict\": false}, {\"feature1\": 0.32, \"feature2\": 0.18, \"predict\": false}, {\"feature1\": 0.32, \"feature2\": 0.2, \"predict\": false}, {\"feature1\": 0.32, \"feature2\": 0.22, \"predict\": false}, {\"feature1\": 0.32, \"feature2\": 0.24, \"predict\": false}, {\"feature1\": 0.32, \"feature2\": 0.26, \"predict\": false}, {\"feature1\": 0.32, \"feature2\": 0.28, \"predict\": false}, {\"feature1\": 0.32, \"feature2\": 0.3, \"predict\": false}, {\"feature1\": 0.32, \"feature2\": 0.32, \"predict\": false}, {\"feature1\": 0.32, \"feature2\": 0.34, \"predict\": false}, {\"feature1\": 0.32, \"feature2\": 0.36, \"predict\": false}, {\"feature1\": 0.32, \"feature2\": 0.38, \"predict\": false}, {\"feature1\": 0.32, \"feature2\": 0.4, \"predict\": false}, {\"feature1\": 0.32, \"feature2\": 0.42, \"predict\": false}, {\"feature1\": 0.32, \"feature2\": 0.44, \"predict\": false}, {\"feature1\": 0.32, \"feature2\": 0.46, \"predict\": false}, {\"feature1\": 0.32, \"feature2\": 0.48, \"predict\": false}, {\"feature1\": 0.32, \"feature2\": 0.5, \"predict\": false}, {\"feature1\": 0.32, \"feature2\": 0.52, \"predict\": false}, {\"feature1\": 0.32, \"feature2\": 0.54, \"predict\": false}, {\"feature1\": 0.32, \"feature2\": 0.56, \"predict\": false}, {\"feature1\": 0.32, \"feature2\": 0.58, \"predict\": false}, {\"feature1\": 0.32, \"feature2\": 0.6, \"predict\": false}, {\"feature1\": 0.32, \"feature2\": 0.62, \"predict\": true}, {\"feature1\": 0.32, \"feature2\": 0.64, \"predict\": true}, {\"feature1\": 0.32, \"feature2\": 0.66, \"predict\": true}, {\"feature1\": 0.32, \"feature2\": 0.68, \"predict\": true}, {\"feature1\": 0.32, \"feature2\": 0.7, \"predict\": true}, {\"feature1\": 0.32, \"feature2\": 0.72, \"predict\": true}, {\"feature1\": 0.32, \"feature2\": 0.74, \"predict\": true}, {\"feature1\": 0.32, \"feature2\": 0.76, \"predict\": true}, {\"feature1\": 0.32, \"feature2\": 0.78, \"predict\": true}, {\"feature1\": 0.32, \"feature2\": 0.8, \"predict\": true}, {\"feature1\": 0.32, \"feature2\": 0.82, \"predict\": true}, {\"feature1\": 0.32, \"feature2\": 0.84, \"predict\": true}, {\"feature1\": 0.32, \"feature2\": 0.86, \"predict\": true}, {\"feature1\": 0.32, \"feature2\": 0.88, \"predict\": true}, {\"feature1\": 0.32, \"feature2\": 0.9, \"predict\": true}, {\"feature1\": 0.32, \"feature2\": 0.92, \"predict\": true}, {\"feature1\": 0.32, \"feature2\": 0.94, \"predict\": true}, {\"feature1\": 0.32, \"feature2\": 0.96, \"predict\": true}, {\"feature1\": 0.32, \"feature2\": 0.98, \"predict\": true}, {\"feature1\": 0.34, \"feature2\": 0.0, \"predict\": false}, {\"feature1\": 0.34, \"feature2\": 0.02, \"predict\": false}, {\"feature1\": 0.34, \"feature2\": 0.04, \"predict\": false}, {\"feature1\": 0.34, \"feature2\": 0.06, \"predict\": false}, {\"feature1\": 0.34, \"feature2\": 0.08, \"predict\": false}, {\"feature1\": 0.34, \"feature2\": 0.1, \"predict\": false}, {\"feature1\": 0.34, \"feature2\": 0.12, \"predict\": false}, {\"feature1\": 0.34, \"feature2\": 0.14, \"predict\": false}, {\"feature1\": 0.34, \"feature2\": 0.16, \"predict\": false}, {\"feature1\": 0.34, \"feature2\": 0.18, \"predict\": false}, {\"feature1\": 0.34, \"feature2\": 0.2, \"predict\": false}, {\"feature1\": 0.34, \"feature2\": 0.22, \"predict\": false}, {\"feature1\": 0.34, \"feature2\": 0.24, \"predict\": false}, {\"feature1\": 0.34, \"feature2\": 0.26, \"predict\": false}, {\"feature1\": 0.34, \"feature2\": 0.28, \"predict\": false}, {\"feature1\": 0.34, \"feature2\": 0.3, \"predict\": false}, {\"feature1\": 0.34, \"feature2\": 0.32, \"predict\": false}, {\"feature1\": 0.34, \"feature2\": 0.34, \"predict\": false}, {\"feature1\": 0.34, \"feature2\": 0.36, \"predict\": false}, {\"feature1\": 0.34, \"feature2\": 0.38, \"predict\": false}, {\"feature1\": 0.34, \"feature2\": 0.4, \"predict\": false}, {\"feature1\": 0.34, \"feature2\": 0.42, \"predict\": false}, {\"feature1\": 0.34, \"feature2\": 0.44, \"predict\": false}, {\"feature1\": 0.34, \"feature2\": 0.46, \"predict\": false}, {\"feature1\": 0.34, \"feature2\": 0.48, \"predict\": false}, {\"feature1\": 0.34, \"feature2\": 0.5, \"predict\": false}, {\"feature1\": 0.34, \"feature2\": 0.52, \"predict\": false}, {\"feature1\": 0.34, \"feature2\": 0.54, \"predict\": false}, {\"feature1\": 0.34, \"feature2\": 0.56, \"predict\": false}, {\"feature1\": 0.34, \"feature2\": 0.58, \"predict\": false}, {\"feature1\": 0.34, \"feature2\": 0.6, \"predict\": false}, {\"feature1\": 0.34, \"feature2\": 0.62, \"predict\": true}, {\"feature1\": 0.34, \"feature2\": 0.64, \"predict\": true}, {\"feature1\": 0.34, \"feature2\": 0.66, \"predict\": true}, {\"feature1\": 0.34, \"feature2\": 0.68, \"predict\": true}, {\"feature1\": 0.34, \"feature2\": 0.7, \"predict\": true}, {\"feature1\": 0.34, \"feature2\": 0.72, \"predict\": true}, {\"feature1\": 0.34, \"feature2\": 0.74, \"predict\": true}, {\"feature1\": 0.34, \"feature2\": 0.76, \"predict\": true}, {\"feature1\": 0.34, \"feature2\": 0.78, \"predict\": true}, {\"feature1\": 0.34, \"feature2\": 0.8, \"predict\": true}, {\"feature1\": 0.34, \"feature2\": 0.82, \"predict\": true}, {\"feature1\": 0.34, \"feature2\": 0.84, \"predict\": true}, {\"feature1\": 0.34, \"feature2\": 0.86, \"predict\": true}, {\"feature1\": 0.34, \"feature2\": 0.88, \"predict\": true}, {\"feature1\": 0.34, \"feature2\": 0.9, \"predict\": true}, {\"feature1\": 0.34, \"feature2\": 0.92, \"predict\": true}, {\"feature1\": 0.34, \"feature2\": 0.94, \"predict\": true}, {\"feature1\": 0.34, \"feature2\": 0.96, \"predict\": true}, {\"feature1\": 0.34, \"feature2\": 0.98, \"predict\": true}, {\"feature1\": 0.36, \"feature2\": 0.0, \"predict\": false}, {\"feature1\": 0.36, \"feature2\": 0.02, \"predict\": false}, {\"feature1\": 0.36, \"feature2\": 0.04, \"predict\": false}, {\"feature1\": 0.36, \"feature2\": 0.06, \"predict\": false}, {\"feature1\": 0.36, \"feature2\": 0.08, \"predict\": false}, {\"feature1\": 0.36, \"feature2\": 0.1, \"predict\": false}, {\"feature1\": 0.36, \"feature2\": 0.12, \"predict\": false}, {\"feature1\": 0.36, \"feature2\": 0.14, \"predict\": false}, {\"feature1\": 0.36, \"feature2\": 0.16, \"predict\": false}, {\"feature1\": 0.36, \"feature2\": 0.18, \"predict\": false}, {\"feature1\": 0.36, \"feature2\": 0.2, \"predict\": false}, {\"feature1\": 0.36, \"feature2\": 0.22, \"predict\": false}, {\"feature1\": 0.36, \"feature2\": 0.24, \"predict\": false}, {\"feature1\": 0.36, \"feature2\": 0.26, \"predict\": false}, {\"feature1\": 0.36, \"feature2\": 0.28, \"predict\": false}, {\"feature1\": 0.36, \"feature2\": 0.3, \"predict\": false}, {\"feature1\": 0.36, \"feature2\": 0.32, \"predict\": false}, {\"feature1\": 0.36, \"feature2\": 0.34, \"predict\": false}, {\"feature1\": 0.36, \"feature2\": 0.36, \"predict\": false}, {\"feature1\": 0.36, \"feature2\": 0.38, \"predict\": false}, {\"feature1\": 0.36, \"feature2\": 0.4, \"predict\": false}, {\"feature1\": 0.36, \"feature2\": 0.42, \"predict\": false}, {\"feature1\": 0.36, \"feature2\": 0.44, \"predict\": false}, {\"feature1\": 0.36, \"feature2\": 0.46, \"predict\": false}, {\"feature1\": 0.36, \"feature2\": 0.48, \"predict\": false}, {\"feature1\": 0.36, \"feature2\": 0.5, \"predict\": false}, {\"feature1\": 0.36, \"feature2\": 0.52, \"predict\": false}, {\"feature1\": 0.36, \"feature2\": 0.54, \"predict\": false}, {\"feature1\": 0.36, \"feature2\": 0.56, \"predict\": false}, {\"feature1\": 0.36, \"feature2\": 0.58, \"predict\": false}, {\"feature1\": 0.36, \"feature2\": 0.6, \"predict\": true}, {\"feature1\": 0.36, \"feature2\": 0.62, \"predict\": true}, {\"feature1\": 0.36, \"feature2\": 0.64, \"predict\": true}, {\"feature1\": 0.36, \"feature2\": 0.66, \"predict\": true}, {\"feature1\": 0.36, \"feature2\": 0.68, \"predict\": true}, {\"feature1\": 0.36, \"feature2\": 0.7, \"predict\": true}, {\"feature1\": 0.36, \"feature2\": 0.72, \"predict\": true}, {\"feature1\": 0.36, \"feature2\": 0.74, \"predict\": true}, {\"feature1\": 0.36, \"feature2\": 0.76, \"predict\": true}, {\"feature1\": 0.36, \"feature2\": 0.78, \"predict\": true}, {\"feature1\": 0.36, \"feature2\": 0.8, \"predict\": true}, {\"feature1\": 0.36, \"feature2\": 0.82, \"predict\": true}, {\"feature1\": 0.36, \"feature2\": 0.84, \"predict\": true}, {\"feature1\": 0.36, \"feature2\": 0.86, \"predict\": true}, {\"feature1\": 0.36, \"feature2\": 0.88, \"predict\": true}, {\"feature1\": 0.36, \"feature2\": 0.9, \"predict\": true}, {\"feature1\": 0.36, \"feature2\": 0.92, \"predict\": true}, {\"feature1\": 0.36, \"feature2\": 0.94, \"predict\": true}, {\"feature1\": 0.36, \"feature2\": 0.96, \"predict\": true}, {\"feature1\": 0.36, \"feature2\": 0.98, \"predict\": true}, {\"feature1\": 0.38, \"feature2\": 0.0, \"predict\": false}, {\"feature1\": 0.38, \"feature2\": 0.02, \"predict\": false}, {\"feature1\": 0.38, \"feature2\": 0.04, \"predict\": false}, {\"feature1\": 0.38, \"feature2\": 0.06, \"predict\": false}, {\"feature1\": 0.38, \"feature2\": 0.08, \"predict\": false}, {\"feature1\": 0.38, \"feature2\": 0.1, \"predict\": false}, {\"feature1\": 0.38, \"feature2\": 0.12, \"predict\": false}, {\"feature1\": 0.38, \"feature2\": 0.14, \"predict\": false}, {\"feature1\": 0.38, \"feature2\": 0.16, \"predict\": false}, {\"feature1\": 0.38, \"feature2\": 0.18, \"predict\": false}, {\"feature1\": 0.38, \"feature2\": 0.2, \"predict\": false}, {\"feature1\": 0.38, \"feature2\": 0.22, \"predict\": false}, {\"feature1\": 0.38, \"feature2\": 0.24, \"predict\": false}, {\"feature1\": 0.38, \"feature2\": 0.26, \"predict\": false}, {\"feature1\": 0.38, \"feature2\": 0.28, \"predict\": false}, {\"feature1\": 0.38, \"feature2\": 0.3, \"predict\": false}, {\"feature1\": 0.38, \"feature2\": 0.32, \"predict\": false}, {\"feature1\": 0.38, \"feature2\": 0.34, \"predict\": false}, {\"feature1\": 0.38, \"feature2\": 0.36, \"predict\": false}, {\"feature1\": 0.38, \"feature2\": 0.38, \"predict\": false}, {\"feature1\": 0.38, \"feature2\": 0.4, \"predict\": false}, {\"feature1\": 0.38, \"feature2\": 0.42, \"predict\": false}, {\"feature1\": 0.38, \"feature2\": 0.44, \"predict\": false}, {\"feature1\": 0.38, \"feature2\": 0.46, \"predict\": false}, {\"feature1\": 0.38, \"feature2\": 0.48, \"predict\": false}, {\"feature1\": 0.38, \"feature2\": 0.5, \"predict\": false}, {\"feature1\": 0.38, \"feature2\": 0.52, \"predict\": false}, {\"feature1\": 0.38, \"feature2\": 0.54, \"predict\": false}, {\"feature1\": 0.38, \"feature2\": 0.56, \"predict\": false}, {\"feature1\": 0.38, \"feature2\": 0.58, \"predict\": true}, {\"feature1\": 0.38, \"feature2\": 0.6, \"predict\": true}, {\"feature1\": 0.38, \"feature2\": 0.62, \"predict\": true}, {\"feature1\": 0.38, \"feature2\": 0.64, \"predict\": true}, {\"feature1\": 0.38, \"feature2\": 0.66, \"predict\": true}, {\"feature1\": 0.38, \"feature2\": 0.68, \"predict\": true}, {\"feature1\": 0.38, \"feature2\": 0.7, \"predict\": true}, {\"feature1\": 0.38, \"feature2\": 0.72, \"predict\": true}, {\"feature1\": 0.38, \"feature2\": 0.74, \"predict\": true}, {\"feature1\": 0.38, \"feature2\": 0.76, \"predict\": true}, {\"feature1\": 0.38, \"feature2\": 0.78, \"predict\": true}, {\"feature1\": 0.38, \"feature2\": 0.8, \"predict\": true}, {\"feature1\": 0.38, \"feature2\": 0.82, \"predict\": true}, {\"feature1\": 0.38, \"feature2\": 0.84, \"predict\": true}, {\"feature1\": 0.38, \"feature2\": 0.86, \"predict\": true}, {\"feature1\": 0.38, \"feature2\": 0.88, \"predict\": true}, {\"feature1\": 0.38, \"feature2\": 0.9, \"predict\": true}, {\"feature1\": 0.38, \"feature2\": 0.92, \"predict\": true}, {\"feature1\": 0.38, \"feature2\": 0.94, \"predict\": true}, {\"feature1\": 0.38, \"feature2\": 0.96, \"predict\": true}, {\"feature1\": 0.38, \"feature2\": 0.98, \"predict\": true}, {\"feature1\": 0.4, \"feature2\": 0.0, \"predict\": false}, {\"feature1\": 0.4, \"feature2\": 0.02, \"predict\": false}, {\"feature1\": 0.4, \"feature2\": 0.04, \"predict\": false}, {\"feature1\": 0.4, \"feature2\": 0.06, \"predict\": false}, {\"feature1\": 0.4, \"feature2\": 0.08, \"predict\": false}, {\"feature1\": 0.4, \"feature2\": 0.1, \"predict\": false}, {\"feature1\": 0.4, \"feature2\": 0.12, \"predict\": false}, {\"feature1\": 0.4, \"feature2\": 0.14, \"predict\": false}, {\"feature1\": 0.4, \"feature2\": 0.16, \"predict\": false}, {\"feature1\": 0.4, \"feature2\": 0.18, \"predict\": false}, {\"feature1\": 0.4, \"feature2\": 0.2, \"predict\": false}, {\"feature1\": 0.4, \"feature2\": 0.22, \"predict\": false}, {\"feature1\": 0.4, \"feature2\": 0.24, \"predict\": false}, {\"feature1\": 0.4, \"feature2\": 0.26, \"predict\": false}, {\"feature1\": 0.4, \"feature2\": 0.28, \"predict\": false}, {\"feature1\": 0.4, \"feature2\": 0.3, \"predict\": false}, {\"feature1\": 0.4, \"feature2\": 0.32, \"predict\": false}, {\"feature1\": 0.4, \"feature2\": 0.34, \"predict\": false}, {\"feature1\": 0.4, \"feature2\": 0.36, \"predict\": false}, {\"feature1\": 0.4, \"feature2\": 0.38, \"predict\": false}, {\"feature1\": 0.4, \"feature2\": 0.4, \"predict\": false}, {\"feature1\": 0.4, \"feature2\": 0.42, \"predict\": false}, {\"feature1\": 0.4, \"feature2\": 0.44, \"predict\": false}, {\"feature1\": 0.4, \"feature2\": 0.46, \"predict\": false}, {\"feature1\": 0.4, \"feature2\": 0.48, \"predict\": false}, {\"feature1\": 0.4, \"feature2\": 0.5, \"predict\": false}, {\"feature1\": 0.4, \"feature2\": 0.52, \"predict\": false}, {\"feature1\": 0.4, \"feature2\": 0.54, \"predict\": false}, {\"feature1\": 0.4, \"feature2\": 0.56, \"predict\": true}, {\"feature1\": 0.4, \"feature2\": 0.58, \"predict\": true}, {\"feature1\": 0.4, \"feature2\": 0.6, \"predict\": true}, {\"feature1\": 0.4, \"feature2\": 0.62, \"predict\": true}, {\"feature1\": 0.4, \"feature2\": 0.64, \"predict\": true}, {\"feature1\": 0.4, \"feature2\": 0.66, \"predict\": true}, {\"feature1\": 0.4, \"feature2\": 0.68, \"predict\": true}, {\"feature1\": 0.4, \"feature2\": 0.7, \"predict\": true}, {\"feature1\": 0.4, \"feature2\": 0.72, \"predict\": true}, {\"feature1\": 0.4, \"feature2\": 0.74, \"predict\": true}, {\"feature1\": 0.4, \"feature2\": 0.76, \"predict\": true}, {\"feature1\": 0.4, \"feature2\": 0.78, \"predict\": true}, {\"feature1\": 0.4, \"feature2\": 0.8, \"predict\": true}, {\"feature1\": 0.4, \"feature2\": 0.82, \"predict\": true}, {\"feature1\": 0.4, \"feature2\": 0.84, \"predict\": true}, {\"feature1\": 0.4, \"feature2\": 0.86, \"predict\": true}, {\"feature1\": 0.4, \"feature2\": 0.88, \"predict\": true}, {\"feature1\": 0.4, \"feature2\": 0.9, \"predict\": true}, {\"feature1\": 0.4, \"feature2\": 0.92, \"predict\": true}, {\"feature1\": 0.4, \"feature2\": 0.94, \"predict\": true}, {\"feature1\": 0.4, \"feature2\": 0.96, \"predict\": true}, {\"feature1\": 0.4, \"feature2\": 0.98, \"predict\": true}, {\"feature1\": 0.42, \"feature2\": 0.0, \"predict\": false}, {\"feature1\": 0.42, \"feature2\": 0.02, \"predict\": false}, {\"feature1\": 0.42, \"feature2\": 0.04, \"predict\": false}, {\"feature1\": 0.42, \"feature2\": 0.06, \"predict\": false}, {\"feature1\": 0.42, \"feature2\": 0.08, \"predict\": false}, {\"feature1\": 0.42, \"feature2\": 0.1, \"predict\": false}, {\"feature1\": 0.42, \"feature2\": 0.12, \"predict\": false}, {\"feature1\": 0.42, \"feature2\": 0.14, \"predict\": false}, {\"feature1\": 0.42, \"feature2\": 0.16, \"predict\": false}, {\"feature1\": 0.42, \"feature2\": 0.18, \"predict\": false}, {\"feature1\": 0.42, \"feature2\": 0.2, \"predict\": false}, {\"feature1\": 0.42, \"feature2\": 0.22, \"predict\": false}, {\"feature1\": 0.42, \"feature2\": 0.24, \"predict\": false}, {\"feature1\": 0.42, \"feature2\": 0.26, \"predict\": false}, {\"feature1\": 0.42, \"feature2\": 0.28, \"predict\": false}, {\"feature1\": 0.42, \"feature2\": 0.3, \"predict\": false}, {\"feature1\": 0.42, \"feature2\": 0.32, \"predict\": false}, {\"feature1\": 0.42, \"feature2\": 0.34, \"predict\": false}, {\"feature1\": 0.42, \"feature2\": 0.36, \"predict\": false}, {\"feature1\": 0.42, \"feature2\": 0.38, \"predict\": false}, {\"feature1\": 0.42, \"feature2\": 0.4, \"predict\": false}, {\"feature1\": 0.42, \"feature2\": 0.42, \"predict\": false}, {\"feature1\": 0.42, \"feature2\": 0.44, \"predict\": false}, {\"feature1\": 0.42, \"feature2\": 0.46, \"predict\": false}, {\"feature1\": 0.42, \"feature2\": 0.48, \"predict\": false}, {\"feature1\": 0.42, \"feature2\": 0.5, \"predict\": false}, {\"feature1\": 0.42, \"feature2\": 0.52, \"predict\": false}, {\"feature1\": 0.42, \"feature2\": 0.54, \"predict\": true}, {\"feature1\": 0.42, \"feature2\": 0.56, \"predict\": true}, {\"feature1\": 0.42, \"feature2\": 0.58, \"predict\": true}, {\"feature1\": 0.42, \"feature2\": 0.6, \"predict\": true}, {\"feature1\": 0.42, \"feature2\": 0.62, \"predict\": true}, {\"feature1\": 0.42, \"feature2\": 0.64, \"predict\": true}, {\"feature1\": 0.42, \"feature2\": 0.66, \"predict\": true}, {\"feature1\": 0.42, \"feature2\": 0.68, \"predict\": true}, {\"feature1\": 0.42, \"feature2\": 0.7, \"predict\": true}, {\"feature1\": 0.42, \"feature2\": 0.72, \"predict\": true}, {\"feature1\": 0.42, \"feature2\": 0.74, \"predict\": true}, {\"feature1\": 0.42, \"feature2\": 0.76, \"predict\": true}, {\"feature1\": 0.42, \"feature2\": 0.78, \"predict\": true}, {\"feature1\": 0.42, \"feature2\": 0.8, \"predict\": true}, {\"feature1\": 0.42, \"feature2\": 0.82, \"predict\": true}, {\"feature1\": 0.42, \"feature2\": 0.84, \"predict\": true}, {\"feature1\": 0.42, \"feature2\": 0.86, \"predict\": true}, {\"feature1\": 0.42, \"feature2\": 0.88, \"predict\": true}, {\"feature1\": 0.42, \"feature2\": 0.9, \"predict\": true}, {\"feature1\": 0.42, \"feature2\": 0.92, \"predict\": true}, {\"feature1\": 0.42, \"feature2\": 0.94, \"predict\": true}, {\"feature1\": 0.42, \"feature2\": 0.96, \"predict\": true}, {\"feature1\": 0.42, \"feature2\": 0.98, \"predict\": true}, {\"feature1\": 0.44, \"feature2\": 0.0, \"predict\": false}, {\"feature1\": 0.44, \"feature2\": 0.02, \"predict\": false}, {\"feature1\": 0.44, \"feature2\": 0.04, \"predict\": false}, {\"feature1\": 0.44, \"feature2\": 0.06, \"predict\": false}, {\"feature1\": 0.44, \"feature2\": 0.08, \"predict\": false}, {\"feature1\": 0.44, \"feature2\": 0.1, \"predict\": false}, {\"feature1\": 0.44, \"feature2\": 0.12, \"predict\": false}, {\"feature1\": 0.44, \"feature2\": 0.14, \"predict\": false}, {\"feature1\": 0.44, \"feature2\": 0.16, \"predict\": false}, {\"feature1\": 0.44, \"feature2\": 0.18, \"predict\": false}, {\"feature1\": 0.44, \"feature2\": 0.2, \"predict\": false}, {\"feature1\": 0.44, \"feature2\": 0.22, \"predict\": false}, {\"feature1\": 0.44, \"feature2\": 0.24, \"predict\": false}, {\"feature1\": 0.44, \"feature2\": 0.26, \"predict\": false}, {\"feature1\": 0.44, \"feature2\": 0.28, \"predict\": false}, {\"feature1\": 0.44, \"feature2\": 0.3, \"predict\": false}, {\"feature1\": 0.44, \"feature2\": 0.32, \"predict\": false}, {\"feature1\": 0.44, \"feature2\": 0.34, \"predict\": false}, {\"feature1\": 0.44, \"feature2\": 0.36, \"predict\": false}, {\"feature1\": 0.44, \"feature2\": 0.38, \"predict\": false}, {\"feature1\": 0.44, \"feature2\": 0.4, \"predict\": false}, {\"feature1\": 0.44, \"feature2\": 0.42, \"predict\": false}, {\"feature1\": 0.44, \"feature2\": 0.44, \"predict\": false}, {\"feature1\": 0.44, \"feature2\": 0.46, \"predict\": false}, {\"feature1\": 0.44, \"feature2\": 0.48, \"predict\": false}, {\"feature1\": 0.44, \"feature2\": 0.5, \"predict\": false}, {\"feature1\": 0.44, \"feature2\": 0.52, \"predict\": true}, {\"feature1\": 0.44, \"feature2\": 0.54, \"predict\": true}, {\"feature1\": 0.44, \"feature2\": 0.56, \"predict\": true}, {\"feature1\": 0.44, \"feature2\": 0.58, \"predict\": true}, {\"feature1\": 0.44, \"feature2\": 0.6, \"predict\": true}, {\"feature1\": 0.44, \"feature2\": 0.62, \"predict\": true}, {\"feature1\": 0.44, \"feature2\": 0.64, \"predict\": true}, {\"feature1\": 0.44, \"feature2\": 0.66, \"predict\": true}, {\"feature1\": 0.44, \"feature2\": 0.68, \"predict\": true}, {\"feature1\": 0.44, \"feature2\": 0.7, \"predict\": true}, {\"feature1\": 0.44, \"feature2\": 0.72, \"predict\": true}, {\"feature1\": 0.44, \"feature2\": 0.74, \"predict\": true}, {\"feature1\": 0.44, \"feature2\": 0.76, \"predict\": true}, {\"feature1\": 0.44, \"feature2\": 0.78, \"predict\": true}, {\"feature1\": 0.44, \"feature2\": 0.8, \"predict\": true}, {\"feature1\": 0.44, \"feature2\": 0.82, \"predict\": true}, {\"feature1\": 0.44, \"feature2\": 0.84, \"predict\": true}, {\"feature1\": 0.44, \"feature2\": 0.86, \"predict\": true}, {\"feature1\": 0.44, \"feature2\": 0.88, \"predict\": true}, {\"feature1\": 0.44, \"feature2\": 0.9, \"predict\": true}, {\"feature1\": 0.44, \"feature2\": 0.92, \"predict\": true}, {\"feature1\": 0.44, \"feature2\": 0.94, \"predict\": true}, {\"feature1\": 0.44, \"feature2\": 0.96, \"predict\": true}, {\"feature1\": 0.44, \"feature2\": 0.98, \"predict\": true}, {\"feature1\": 0.46, \"feature2\": 0.0, \"predict\": false}, {\"feature1\": 0.46, \"feature2\": 0.02, \"predict\": false}, {\"feature1\": 0.46, \"feature2\": 0.04, \"predict\": false}, {\"feature1\": 0.46, \"feature2\": 0.06, \"predict\": false}, {\"feature1\": 0.46, \"feature2\": 0.08, \"predict\": false}, {\"feature1\": 0.46, \"feature2\": 0.1, \"predict\": false}, {\"feature1\": 0.46, \"feature2\": 0.12, \"predict\": false}, {\"feature1\": 0.46, \"feature2\": 0.14, \"predict\": false}, {\"feature1\": 0.46, \"feature2\": 0.16, \"predict\": false}, {\"feature1\": 0.46, \"feature2\": 0.18, \"predict\": false}, {\"feature1\": 0.46, \"feature2\": 0.2, \"predict\": false}, {\"feature1\": 0.46, \"feature2\": 0.22, \"predict\": false}, {\"feature1\": 0.46, \"feature2\": 0.24, \"predict\": false}, {\"feature1\": 0.46, \"feature2\": 0.26, \"predict\": false}, {\"feature1\": 0.46, \"feature2\": 0.28, \"predict\": false}, {\"feature1\": 0.46, \"feature2\": 0.3, \"predict\": false}, {\"feature1\": 0.46, \"feature2\": 0.32, \"predict\": false}, {\"feature1\": 0.46, \"feature2\": 0.34, \"predict\": false}, {\"feature1\": 0.46, \"feature2\": 0.36, \"predict\": false}, {\"feature1\": 0.46, \"feature2\": 0.38, \"predict\": false}, {\"feature1\": 0.46, \"feature2\": 0.4, \"predict\": false}, {\"feature1\": 0.46, \"feature2\": 0.42, \"predict\": false}, {\"feature1\": 0.46, \"feature2\": 0.44, \"predict\": false}, {\"feature1\": 0.46, \"feature2\": 0.46, \"predict\": false}, {\"feature1\": 0.46, \"feature2\": 0.48, \"predict\": false}, {\"feature1\": 0.46, \"feature2\": 0.5, \"predict\": true}, {\"feature1\": 0.46, \"feature2\": 0.52, \"predict\": true}, {\"feature1\": 0.46, \"feature2\": 0.54, \"predict\": true}, {\"feature1\": 0.46, \"feature2\": 0.56, \"predict\": true}, {\"feature1\": 0.46, \"feature2\": 0.58, \"predict\": true}, {\"feature1\": 0.46, \"feature2\": 0.6, \"predict\": true}, {\"feature1\": 0.46, \"feature2\": 0.62, \"predict\": true}, {\"feature1\": 0.46, \"feature2\": 0.64, \"predict\": true}, {\"feature1\": 0.46, \"feature2\": 0.66, \"predict\": true}, {\"feature1\": 0.46, \"feature2\": 0.68, \"predict\": true}, {\"feature1\": 0.46, \"feature2\": 0.7, \"predict\": true}, {\"feature1\": 0.46, \"feature2\": 0.72, \"predict\": true}, {\"feature1\": 0.46, \"feature2\": 0.74, \"predict\": true}, {\"feature1\": 0.46, \"feature2\": 0.76, \"predict\": true}, {\"feature1\": 0.46, \"feature2\": 0.78, \"predict\": true}, {\"feature1\": 0.46, \"feature2\": 0.8, \"predict\": true}, {\"feature1\": 0.46, \"feature2\": 0.82, \"predict\": true}, {\"feature1\": 0.46, \"feature2\": 0.84, \"predict\": true}, {\"feature1\": 0.46, \"feature2\": 0.86, \"predict\": true}, {\"feature1\": 0.46, \"feature2\": 0.88, \"predict\": true}, {\"feature1\": 0.46, \"feature2\": 0.9, \"predict\": true}, {\"feature1\": 0.46, \"feature2\": 0.92, \"predict\": true}, {\"feature1\": 0.46, \"feature2\": 0.94, \"predict\": true}, {\"feature1\": 0.46, \"feature2\": 0.96, \"predict\": true}, {\"feature1\": 0.46, \"feature2\": 0.98, \"predict\": true}, {\"feature1\": 0.48, \"feature2\": 0.0, \"predict\": false}, {\"feature1\": 0.48, \"feature2\": 0.02, \"predict\": false}, {\"feature1\": 0.48, \"feature2\": 0.04, \"predict\": false}, {\"feature1\": 0.48, \"feature2\": 0.06, \"predict\": false}, {\"feature1\": 0.48, \"feature2\": 0.08, \"predict\": false}, {\"feature1\": 0.48, \"feature2\": 0.1, \"predict\": false}, {\"feature1\": 0.48, \"feature2\": 0.12, \"predict\": false}, {\"feature1\": 0.48, \"feature2\": 0.14, \"predict\": false}, {\"feature1\": 0.48, \"feature2\": 0.16, \"predict\": false}, {\"feature1\": 0.48, \"feature2\": 0.18, \"predict\": false}, {\"feature1\": 0.48, \"feature2\": 0.2, \"predict\": false}, {\"feature1\": 0.48, \"feature2\": 0.22, \"predict\": false}, {\"feature1\": 0.48, \"feature2\": 0.24, \"predict\": false}, {\"feature1\": 0.48, \"feature2\": 0.26, \"predict\": false}, {\"feature1\": 0.48, \"feature2\": 0.28, \"predict\": false}, {\"feature1\": 0.48, \"feature2\": 0.3, \"predict\": false}, {\"feature1\": 0.48, \"feature2\": 0.32, \"predict\": false}, {\"feature1\": 0.48, \"feature2\": 0.34, \"predict\": false}, {\"feature1\": 0.48, \"feature2\": 0.36, \"predict\": false}, {\"feature1\": 0.48, \"feature2\": 0.38, \"predict\": false}, {\"feature1\": 0.48, \"feature2\": 0.4, \"predict\": false}, {\"feature1\": 0.48, \"feature2\": 0.42, \"predict\": false}, {\"feature1\": 0.48, \"feature2\": 0.44, \"predict\": false}, {\"feature1\": 0.48, \"feature2\": 0.46, \"predict\": false}, {\"feature1\": 0.48, \"feature2\": 0.48, \"predict\": true}, {\"feature1\": 0.48, \"feature2\": 0.5, \"predict\": true}, {\"feature1\": 0.48, \"feature2\": 0.52, \"predict\": true}, {\"feature1\": 0.48, \"feature2\": 0.54, \"predict\": true}, {\"feature1\": 0.48, \"feature2\": 0.56, \"predict\": true}, {\"feature1\": 0.48, \"feature2\": 0.58, \"predict\": true}, {\"feature1\": 0.48, \"feature2\": 0.6, \"predict\": true}, {\"feature1\": 0.48, \"feature2\": 0.62, \"predict\": true}, {\"feature1\": 0.48, \"feature2\": 0.64, \"predict\": true}, {\"feature1\": 0.48, \"feature2\": 0.66, \"predict\": true}, {\"feature1\": 0.48, \"feature2\": 0.68, \"predict\": true}, {\"feature1\": 0.48, \"feature2\": 0.7, \"predict\": true}, {\"feature1\": 0.48, \"feature2\": 0.72, \"predict\": true}, {\"feature1\": 0.48, \"feature2\": 0.74, \"predict\": true}, {\"feature1\": 0.48, \"feature2\": 0.76, \"predict\": true}, {\"feature1\": 0.48, \"feature2\": 0.78, \"predict\": true}, {\"feature1\": 0.48, \"feature2\": 0.8, \"predict\": true}, {\"feature1\": 0.48, \"feature2\": 0.82, \"predict\": true}, {\"feature1\": 0.48, \"feature2\": 0.84, \"predict\": true}, {\"feature1\": 0.48, \"feature2\": 0.86, \"predict\": true}, {\"feature1\": 0.48, \"feature2\": 0.88, \"predict\": true}, {\"feature1\": 0.48, \"feature2\": 0.9, \"predict\": true}, {\"feature1\": 0.48, \"feature2\": 0.92, \"predict\": true}, {\"feature1\": 0.48, \"feature2\": 0.94, \"predict\": true}, {\"feature1\": 0.48, \"feature2\": 0.96, \"predict\": true}, {\"feature1\": 0.48, \"feature2\": 0.98, \"predict\": true}, {\"feature1\": 0.5, \"feature2\": 0.0, \"predict\": false}, {\"feature1\": 0.5, \"feature2\": 0.02, \"predict\": false}, {\"feature1\": 0.5, \"feature2\": 0.04, \"predict\": false}, {\"feature1\": 0.5, \"feature2\": 0.06, \"predict\": false}, {\"feature1\": 0.5, \"feature2\": 0.08, \"predict\": false}, {\"feature1\": 0.5, \"feature2\": 0.1, \"predict\": false}, {\"feature1\": 0.5, \"feature2\": 0.12, \"predict\": false}, {\"feature1\": 0.5, \"feature2\": 0.14, \"predict\": false}, {\"feature1\": 0.5, \"feature2\": 0.16, \"predict\": false}, {\"feature1\": 0.5, \"feature2\": 0.18, \"predict\": false}, {\"feature1\": 0.5, \"feature2\": 0.2, \"predict\": false}, {\"feature1\": 0.5, \"feature2\": 0.22, \"predict\": false}, {\"feature1\": 0.5, \"feature2\": 0.24, \"predict\": false}, {\"feature1\": 0.5, \"feature2\": 0.26, \"predict\": false}, {\"feature1\": 0.5, \"feature2\": 0.28, \"predict\": false}, {\"feature1\": 0.5, \"feature2\": 0.3, \"predict\": false}, {\"feature1\": 0.5, \"feature2\": 0.32, \"predict\": false}, {\"feature1\": 0.5, \"feature2\": 0.34, \"predict\": false}, {\"feature1\": 0.5, \"feature2\": 0.36, \"predict\": false}, {\"feature1\": 0.5, \"feature2\": 0.38, \"predict\": false}, {\"feature1\": 0.5, \"feature2\": 0.4, \"predict\": false}, {\"feature1\": 0.5, \"feature2\": 0.42, \"predict\": false}, {\"feature1\": 0.5, \"feature2\": 0.44, \"predict\": false}, {\"feature1\": 0.5, \"feature2\": 0.46, \"predict\": true}, {\"feature1\": 0.5, \"feature2\": 0.48, \"predict\": true}, {\"feature1\": 0.5, \"feature2\": 0.5, \"predict\": true}, {\"feature1\": 0.5, \"feature2\": 0.52, \"predict\": true}, {\"feature1\": 0.5, \"feature2\": 0.54, \"predict\": true}, {\"feature1\": 0.5, \"feature2\": 0.56, \"predict\": true}, {\"feature1\": 0.5, \"feature2\": 0.58, \"predict\": true}, {\"feature1\": 0.5, \"feature2\": 0.6, \"predict\": true}, {\"feature1\": 0.5, \"feature2\": 0.62, \"predict\": true}, {\"feature1\": 0.5, \"feature2\": 0.64, \"predict\": true}, {\"feature1\": 0.5, \"feature2\": 0.66, \"predict\": true}, {\"feature1\": 0.5, \"feature2\": 0.68, \"predict\": true}, {\"feature1\": 0.5, \"feature2\": 0.7, \"predict\": true}, {\"feature1\": 0.5, \"feature2\": 0.72, \"predict\": true}, {\"feature1\": 0.5, \"feature2\": 0.74, \"predict\": true}, {\"feature1\": 0.5, \"feature2\": 0.76, \"predict\": true}, {\"feature1\": 0.5, \"feature2\": 0.78, \"predict\": true}, {\"feature1\": 0.5, \"feature2\": 0.8, \"predict\": true}, {\"feature1\": 0.5, \"feature2\": 0.82, \"predict\": true}, {\"feature1\": 0.5, \"feature2\": 0.84, \"predict\": true}, {\"feature1\": 0.5, \"feature2\": 0.86, \"predict\": true}, {\"feature1\": 0.5, \"feature2\": 0.88, \"predict\": true}, {\"feature1\": 0.5, \"feature2\": 0.9, \"predict\": true}, {\"feature1\": 0.5, \"feature2\": 0.92, \"predict\": true}, {\"feature1\": 0.5, \"feature2\": 0.94, \"predict\": true}, {\"feature1\": 0.5, \"feature2\": 0.96, \"predict\": true}, {\"feature1\": 0.5, \"feature2\": 0.98, \"predict\": true}, {\"feature1\": 0.52, \"feature2\": 0.0, \"predict\": false}, {\"feature1\": 0.52, \"feature2\": 0.02, \"predict\": false}, {\"feature1\": 0.52, \"feature2\": 0.04, \"predict\": false}, {\"feature1\": 0.52, \"feature2\": 0.06, \"predict\": false}, {\"feature1\": 0.52, \"feature2\": 0.08, \"predict\": false}, {\"feature1\": 0.52, \"feature2\": 0.1, \"predict\": false}, {\"feature1\": 0.52, \"feature2\": 0.12, \"predict\": false}, {\"feature1\": 0.52, \"feature2\": 0.14, \"predict\": false}, {\"feature1\": 0.52, \"feature2\": 0.16, \"predict\": false}, {\"feature1\": 0.52, \"feature2\": 0.18, \"predict\": false}, {\"feature1\": 0.52, \"feature2\": 0.2, \"predict\": false}, {\"feature1\": 0.52, \"feature2\": 0.22, \"predict\": false}, {\"feature1\": 0.52, \"feature2\": 0.24, \"predict\": false}, {\"feature1\": 0.52, \"feature2\": 0.26, \"predict\": false}, {\"feature1\": 0.52, \"feature2\": 0.28, \"predict\": false}, {\"feature1\": 0.52, \"feature2\": 0.3, \"predict\": false}, {\"feature1\": 0.52, \"feature2\": 0.32, \"predict\": false}, {\"feature1\": 0.52, \"feature2\": 0.34, \"predict\": false}, {\"feature1\": 0.52, \"feature2\": 0.36, \"predict\": false}, {\"feature1\": 0.52, \"feature2\": 0.38, \"predict\": false}, {\"feature1\": 0.52, \"feature2\": 0.4, \"predict\": false}, {\"feature1\": 0.52, \"feature2\": 0.42, \"predict\": false}, {\"feature1\": 0.52, \"feature2\": 0.44, \"predict\": true}, {\"feature1\": 0.52, \"feature2\": 0.46, \"predict\": true}, {\"feature1\": 0.52, \"feature2\": 0.48, \"predict\": true}, {\"feature1\": 0.52, \"feature2\": 0.5, \"predict\": true}, {\"feature1\": 0.52, \"feature2\": 0.52, \"predict\": true}, {\"feature1\": 0.52, \"feature2\": 0.54, \"predict\": true}, {\"feature1\": 0.52, \"feature2\": 0.56, \"predict\": true}, {\"feature1\": 0.52, \"feature2\": 0.58, \"predict\": true}, {\"feature1\": 0.52, \"feature2\": 0.6, \"predict\": true}, {\"feature1\": 0.52, \"feature2\": 0.62, \"predict\": true}, {\"feature1\": 0.52, \"feature2\": 0.64, \"predict\": true}, {\"feature1\": 0.52, \"feature2\": 0.66, \"predict\": true}, {\"feature1\": 0.52, \"feature2\": 0.68, \"predict\": true}, {\"feature1\": 0.52, \"feature2\": 0.7, \"predict\": true}, {\"feature1\": 0.52, \"feature2\": 0.72, \"predict\": true}, {\"feature1\": 0.52, \"feature2\": 0.74, \"predict\": true}, {\"feature1\": 0.52, \"feature2\": 0.76, \"predict\": true}, {\"feature1\": 0.52, \"feature2\": 0.78, \"predict\": true}, {\"feature1\": 0.52, \"feature2\": 0.8, \"predict\": true}, {\"feature1\": 0.52, \"feature2\": 0.82, \"predict\": true}, {\"feature1\": 0.52, \"feature2\": 0.84, \"predict\": true}, {\"feature1\": 0.52, \"feature2\": 0.86, \"predict\": true}, {\"feature1\": 0.52, \"feature2\": 0.88, \"predict\": true}, {\"feature1\": 0.52, \"feature2\": 0.9, \"predict\": true}, {\"feature1\": 0.52, \"feature2\": 0.92, \"predict\": true}, {\"feature1\": 0.52, \"feature2\": 0.94, \"predict\": true}, {\"feature1\": 0.52, \"feature2\": 0.96, \"predict\": true}, {\"feature1\": 0.52, \"feature2\": 0.98, \"predict\": true}, {\"feature1\": 0.54, \"feature2\": 0.0, \"predict\": false}, {\"feature1\": 0.54, \"feature2\": 0.02, \"predict\": false}, {\"feature1\": 0.54, \"feature2\": 0.04, \"predict\": false}, {\"feature1\": 0.54, \"feature2\": 0.06, \"predict\": false}, {\"feature1\": 0.54, \"feature2\": 0.08, \"predict\": false}, {\"feature1\": 0.54, \"feature2\": 0.1, \"predict\": false}, {\"feature1\": 0.54, \"feature2\": 0.12, \"predict\": false}, {\"feature1\": 0.54, \"feature2\": 0.14, \"predict\": false}, {\"feature1\": 0.54, \"feature2\": 0.16, \"predict\": false}, {\"feature1\": 0.54, \"feature2\": 0.18, \"predict\": false}, {\"feature1\": 0.54, \"feature2\": 0.2, \"predict\": false}, {\"feature1\": 0.54, \"feature2\": 0.22, \"predict\": false}, {\"feature1\": 0.54, \"feature2\": 0.24, \"predict\": false}, {\"feature1\": 0.54, \"feature2\": 0.26, \"predict\": false}, {\"feature1\": 0.54, \"feature2\": 0.28, \"predict\": false}, {\"feature1\": 0.54, \"feature2\": 0.3, \"predict\": false}, {\"feature1\": 0.54, \"feature2\": 0.32, \"predict\": false}, {\"feature1\": 0.54, \"feature2\": 0.34, \"predict\": false}, {\"feature1\": 0.54, \"feature2\": 0.36, \"predict\": false}, {\"feature1\": 0.54, \"feature2\": 0.38, \"predict\": false}, {\"feature1\": 0.54, \"feature2\": 0.4, \"predict\": false}, {\"feature1\": 0.54, \"feature2\": 0.42, \"predict\": true}, {\"feature1\": 0.54, \"feature2\": 0.44, \"predict\": true}, {\"feature1\": 0.54, \"feature2\": 0.46, \"predict\": true}, {\"feature1\": 0.54, \"feature2\": 0.48, \"predict\": true}, {\"feature1\": 0.54, \"feature2\": 0.5, \"predict\": true}, {\"feature1\": 0.54, \"feature2\": 0.52, \"predict\": true}, {\"feature1\": 0.54, \"feature2\": 0.54, \"predict\": true}, {\"feature1\": 0.54, \"feature2\": 0.56, \"predict\": true}, {\"feature1\": 0.54, \"feature2\": 0.58, \"predict\": true}, {\"feature1\": 0.54, \"feature2\": 0.6, \"predict\": true}, {\"feature1\": 0.54, \"feature2\": 0.62, \"predict\": true}, {\"feature1\": 0.54, \"feature2\": 0.64, \"predict\": true}, {\"feature1\": 0.54, \"feature2\": 0.66, \"predict\": true}, {\"feature1\": 0.54, \"feature2\": 0.68, \"predict\": true}, {\"feature1\": 0.54, \"feature2\": 0.7, \"predict\": true}, {\"feature1\": 0.54, \"feature2\": 0.72, \"predict\": true}, {\"feature1\": 0.54, \"feature2\": 0.74, \"predict\": true}, {\"feature1\": 0.54, \"feature2\": 0.76, \"predict\": true}, {\"feature1\": 0.54, \"feature2\": 0.78, \"predict\": true}, {\"feature1\": 0.54, \"feature2\": 0.8, \"predict\": true}, {\"feature1\": 0.54, \"feature2\": 0.82, \"predict\": true}, {\"feature1\": 0.54, \"feature2\": 0.84, \"predict\": true}, {\"feature1\": 0.54, \"feature2\": 0.86, \"predict\": true}, {\"feature1\": 0.54, \"feature2\": 0.88, \"predict\": true}, {\"feature1\": 0.54, \"feature2\": 0.9, \"predict\": true}, {\"feature1\": 0.54, \"feature2\": 0.92, \"predict\": true}, {\"feature1\": 0.54, \"feature2\": 0.94, \"predict\": true}, {\"feature1\": 0.54, \"feature2\": 0.96, \"predict\": true}, {\"feature1\": 0.54, \"feature2\": 0.98, \"predict\": true}, {\"feature1\": 0.56, \"feature2\": 0.0, \"predict\": false}, {\"feature1\": 0.56, \"feature2\": 0.02, \"predict\": false}, {\"feature1\": 0.56, \"feature2\": 0.04, \"predict\": false}, {\"feature1\": 0.56, \"feature2\": 0.06, \"predict\": false}, {\"feature1\": 0.56, \"feature2\": 0.08, \"predict\": false}, {\"feature1\": 0.56, \"feature2\": 0.1, \"predict\": false}, {\"feature1\": 0.56, \"feature2\": 0.12, \"predict\": false}, {\"feature1\": 0.56, \"feature2\": 0.14, \"predict\": false}, {\"feature1\": 0.56, \"feature2\": 0.16, \"predict\": false}, {\"feature1\": 0.56, \"feature2\": 0.18, \"predict\": false}, {\"feature1\": 0.56, \"feature2\": 0.2, \"predict\": false}, {\"feature1\": 0.56, \"feature2\": 0.22, \"predict\": false}, {\"feature1\": 0.56, \"feature2\": 0.24, \"predict\": false}, {\"feature1\": 0.56, \"feature2\": 0.26, \"predict\": false}, {\"feature1\": 0.56, \"feature2\": 0.28, \"predict\": false}, {\"feature1\": 0.56, \"feature2\": 0.3, \"predict\": false}, {\"feature1\": 0.56, \"feature2\": 0.32, \"predict\": false}, {\"feature1\": 0.56, \"feature2\": 0.34, \"predict\": false}, {\"feature1\": 0.56, \"feature2\": 0.36, \"predict\": false}, {\"feature1\": 0.56, \"feature2\": 0.38, \"predict\": false}, {\"feature1\": 0.56, \"feature2\": 0.4, \"predict\": true}, {\"feature1\": 0.56, \"feature2\": 0.42, \"predict\": true}, {\"feature1\": 0.56, \"feature2\": 0.44, \"predict\": true}, {\"feature1\": 0.56, \"feature2\": 0.46, \"predict\": true}, {\"feature1\": 0.56, \"feature2\": 0.48, \"predict\": true}, {\"feature1\": 0.56, \"feature2\": 0.5, \"predict\": true}, {\"feature1\": 0.56, \"feature2\": 0.52, \"predict\": true}, {\"feature1\": 0.56, \"feature2\": 0.54, \"predict\": true}, {\"feature1\": 0.56, \"feature2\": 0.56, \"predict\": true}, {\"feature1\": 0.56, \"feature2\": 0.58, \"predict\": true}, {\"feature1\": 0.56, \"feature2\": 0.6, \"predict\": true}, {\"feature1\": 0.56, \"feature2\": 0.62, \"predict\": true}, {\"feature1\": 0.56, \"feature2\": 0.64, \"predict\": true}, {\"feature1\": 0.56, \"feature2\": 0.66, \"predict\": true}, {\"feature1\": 0.56, \"feature2\": 0.68, \"predict\": true}, {\"feature1\": 0.56, \"feature2\": 0.7, \"predict\": true}, {\"feature1\": 0.56, \"feature2\": 0.72, \"predict\": true}, {\"feature1\": 0.56, \"feature2\": 0.74, \"predict\": true}, {\"feature1\": 0.56, \"feature2\": 0.76, \"predict\": true}, {\"feature1\": 0.56, \"feature2\": 0.78, \"predict\": true}, {\"feature1\": 0.56, \"feature2\": 0.8, \"predict\": true}, {\"feature1\": 0.56, \"feature2\": 0.82, \"predict\": true}, {\"feature1\": 0.56, \"feature2\": 0.84, \"predict\": true}, {\"feature1\": 0.56, \"feature2\": 0.86, \"predict\": true}, {\"feature1\": 0.56, \"feature2\": 0.88, \"predict\": true}, {\"feature1\": 0.56, \"feature2\": 0.9, \"predict\": true}, {\"feature1\": 0.56, \"feature2\": 0.92, \"predict\": true}, {\"feature1\": 0.56, \"feature2\": 0.94, \"predict\": true}, {\"feature1\": 0.56, \"feature2\": 0.96, \"predict\": true}, {\"feature1\": 0.56, \"feature2\": 0.98, \"predict\": true}, {\"feature1\": 0.58, \"feature2\": 0.0, \"predict\": false}, {\"feature1\": 0.58, \"feature2\": 0.02, \"predict\": false}, {\"feature1\": 0.58, \"feature2\": 0.04, \"predict\": false}, {\"feature1\": 0.58, \"feature2\": 0.06, \"predict\": false}, {\"feature1\": 0.58, \"feature2\": 0.08, \"predict\": false}, {\"feature1\": 0.58, \"feature2\": 0.1, \"predict\": false}, {\"feature1\": 0.58, \"feature2\": 0.12, \"predict\": false}, {\"feature1\": 0.58, \"feature2\": 0.14, \"predict\": false}, {\"feature1\": 0.58, \"feature2\": 0.16, \"predict\": false}, {\"feature1\": 0.58, \"feature2\": 0.18, \"predict\": false}, {\"feature1\": 0.58, \"feature2\": 0.2, \"predict\": false}, {\"feature1\": 0.58, \"feature2\": 0.22, \"predict\": false}, {\"feature1\": 0.58, \"feature2\": 0.24, \"predict\": false}, {\"feature1\": 0.58, \"feature2\": 0.26, \"predict\": false}, {\"feature1\": 0.58, \"feature2\": 0.28, \"predict\": false}, {\"feature1\": 0.58, \"feature2\": 0.3, \"predict\": false}, {\"feature1\": 0.58, \"feature2\": 0.32, \"predict\": false}, {\"feature1\": 0.58, \"feature2\": 0.34, \"predict\": false}, {\"feature1\": 0.58, \"feature2\": 0.36, \"predict\": false}, {\"feature1\": 0.58, \"feature2\": 0.38, \"predict\": true}, {\"feature1\": 0.58, \"feature2\": 0.4, \"predict\": true}, {\"feature1\": 0.58, \"feature2\": 0.42, \"predict\": true}, {\"feature1\": 0.58, \"feature2\": 0.44, \"predict\": true}, {\"feature1\": 0.58, \"feature2\": 0.46, \"predict\": true}, {\"feature1\": 0.58, \"feature2\": 0.48, \"predict\": true}, {\"feature1\": 0.58, \"feature2\": 0.5, \"predict\": true}, {\"feature1\": 0.58, \"feature2\": 0.52, \"predict\": true}, {\"feature1\": 0.58, \"feature2\": 0.54, \"predict\": true}, {\"feature1\": 0.58, \"feature2\": 0.56, \"predict\": true}, {\"feature1\": 0.58, \"feature2\": 0.58, \"predict\": true}, {\"feature1\": 0.58, \"feature2\": 0.6, \"predict\": true}, {\"feature1\": 0.58, \"feature2\": 0.62, \"predict\": true}, {\"feature1\": 0.58, \"feature2\": 0.64, \"predict\": true}, {\"feature1\": 0.58, \"feature2\": 0.66, \"predict\": true}, {\"feature1\": 0.58, \"feature2\": 0.68, \"predict\": true}, {\"feature1\": 0.58, \"feature2\": 0.7, \"predict\": true}, {\"feature1\": 0.58, \"feature2\": 0.72, \"predict\": true}, {\"feature1\": 0.58, \"feature2\": 0.74, \"predict\": true}, {\"feature1\": 0.58, \"feature2\": 0.76, \"predict\": true}, {\"feature1\": 0.58, \"feature2\": 0.78, \"predict\": true}, {\"feature1\": 0.58, \"feature2\": 0.8, \"predict\": true}, {\"feature1\": 0.58, \"feature2\": 0.82, \"predict\": true}, {\"feature1\": 0.58, \"feature2\": 0.84, \"predict\": true}, {\"feature1\": 0.58, \"feature2\": 0.86, \"predict\": true}, {\"feature1\": 0.58, \"feature2\": 0.88, \"predict\": true}, {\"feature1\": 0.58, \"feature2\": 0.9, \"predict\": true}, {\"feature1\": 0.58, \"feature2\": 0.92, \"predict\": true}, {\"feature1\": 0.58, \"feature2\": 0.94, \"predict\": true}, {\"feature1\": 0.58, \"feature2\": 0.96, \"predict\": true}, {\"feature1\": 0.58, \"feature2\": 0.98, \"predict\": true}, {\"feature1\": 0.6, \"feature2\": 0.0, \"predict\": false}, {\"feature1\": 0.6, \"feature2\": 0.02, \"predict\": false}, {\"feature1\": 0.6, \"feature2\": 0.04, \"predict\": false}, {\"feature1\": 0.6, \"feature2\": 0.06, \"predict\": false}, {\"feature1\": 0.6, \"feature2\": 0.08, \"predict\": false}, {\"feature1\": 0.6, \"feature2\": 0.1, \"predict\": false}, {\"feature1\": 0.6, \"feature2\": 0.12, \"predict\": false}, {\"feature1\": 0.6, \"feature2\": 0.14, \"predict\": false}, {\"feature1\": 0.6, \"feature2\": 0.16, \"predict\": false}, {\"feature1\": 0.6, \"feature2\": 0.18, \"predict\": false}, {\"feature1\": 0.6, \"feature2\": 0.2, \"predict\": false}, {\"feature1\": 0.6, \"feature2\": 0.22, \"predict\": false}, {\"feature1\": 0.6, \"feature2\": 0.24, \"predict\": false}, {\"feature1\": 0.6, \"feature2\": 0.26, \"predict\": false}, {\"feature1\": 0.6, \"feature2\": 0.28, \"predict\": false}, {\"feature1\": 0.6, \"feature2\": 0.3, \"predict\": false}, {\"feature1\": 0.6, \"feature2\": 0.32, \"predict\": false}, {\"feature1\": 0.6, \"feature2\": 0.34, \"predict\": false}, {\"feature1\": 0.6, \"feature2\": 0.36, \"predict\": true}, {\"feature1\": 0.6, \"feature2\": 0.38, \"predict\": true}, {\"feature1\": 0.6, \"feature2\": 0.4, \"predict\": true}, {\"feature1\": 0.6, \"feature2\": 0.42, \"predict\": true}, {\"feature1\": 0.6, \"feature2\": 0.44, \"predict\": true}, {\"feature1\": 0.6, \"feature2\": 0.46, \"predict\": true}, {\"feature1\": 0.6, \"feature2\": 0.48, \"predict\": true}, {\"feature1\": 0.6, \"feature2\": 0.5, \"predict\": true}, {\"feature1\": 0.6, \"feature2\": 0.52, \"predict\": true}, {\"feature1\": 0.6, \"feature2\": 0.54, \"predict\": true}, {\"feature1\": 0.6, \"feature2\": 0.56, \"predict\": true}, {\"feature1\": 0.6, \"feature2\": 0.58, \"predict\": true}, {\"feature1\": 0.6, \"feature2\": 0.6, \"predict\": true}, {\"feature1\": 0.6, \"feature2\": 0.62, \"predict\": true}, {\"feature1\": 0.6, \"feature2\": 0.64, \"predict\": true}, {\"feature1\": 0.6, \"feature2\": 0.66, \"predict\": true}, {\"feature1\": 0.6, \"feature2\": 0.68, \"predict\": true}, {\"feature1\": 0.6, \"feature2\": 0.7, \"predict\": true}, {\"feature1\": 0.6, \"feature2\": 0.72, \"predict\": true}, {\"feature1\": 0.6, \"feature2\": 0.74, \"predict\": true}, {\"feature1\": 0.6, \"feature2\": 0.76, \"predict\": true}, {\"feature1\": 0.6, \"feature2\": 0.78, \"predict\": true}, {\"feature1\": 0.6, \"feature2\": 0.8, \"predict\": true}, {\"feature1\": 0.6, \"feature2\": 0.82, \"predict\": true}, {\"feature1\": 0.6, \"feature2\": 0.84, \"predict\": true}, {\"feature1\": 0.6, \"feature2\": 0.86, \"predict\": true}, {\"feature1\": 0.6, \"feature2\": 0.88, \"predict\": true}, {\"feature1\": 0.6, \"feature2\": 0.9, \"predict\": true}, {\"feature1\": 0.6, \"feature2\": 0.92, \"predict\": true}, {\"feature1\": 0.6, \"feature2\": 0.94, \"predict\": true}, {\"feature1\": 0.6, \"feature2\": 0.96, \"predict\": true}, {\"feature1\": 0.6, \"feature2\": 0.98, \"predict\": true}, {\"feature1\": 0.62, \"feature2\": 0.0, \"predict\": false}, {\"feature1\": 0.62, \"feature2\": 0.02, \"predict\": false}, {\"feature1\": 0.62, \"feature2\": 0.04, \"predict\": false}, {\"feature1\": 0.62, \"feature2\": 0.06, \"predict\": false}, {\"feature1\": 0.62, \"feature2\": 0.08, \"predict\": false}, {\"feature1\": 0.62, \"feature2\": 0.1, \"predict\": false}, {\"feature1\": 0.62, \"feature2\": 0.12, \"predict\": false}, {\"feature1\": 0.62, \"feature2\": 0.14, \"predict\": false}, {\"feature1\": 0.62, \"feature2\": 0.16, \"predict\": false}, {\"feature1\": 0.62, \"feature2\": 0.18, \"predict\": false}, {\"feature1\": 0.62, \"feature2\": 0.2, \"predict\": false}, {\"feature1\": 0.62, \"feature2\": 0.22, \"predict\": false}, {\"feature1\": 0.62, \"feature2\": 0.24, \"predict\": false}, {\"feature1\": 0.62, \"feature2\": 0.26, \"predict\": false}, {\"feature1\": 0.62, \"feature2\": 0.28, \"predict\": false}, {\"feature1\": 0.62, \"feature2\": 0.3, \"predict\": false}, {\"feature1\": 0.62, \"feature2\": 0.32, \"predict\": false}, {\"feature1\": 0.62, \"feature2\": 0.34, \"predict\": true}, {\"feature1\": 0.62, \"feature2\": 0.36, \"predict\": true}, {\"feature1\": 0.62, \"feature2\": 0.38, \"predict\": true}, {\"feature1\": 0.62, \"feature2\": 0.4, \"predict\": true}, {\"feature1\": 0.62, \"feature2\": 0.42, \"predict\": true}, {\"feature1\": 0.62, \"feature2\": 0.44, \"predict\": true}, {\"feature1\": 0.62, \"feature2\": 0.46, \"predict\": true}, {\"feature1\": 0.62, \"feature2\": 0.48, \"predict\": true}, {\"feature1\": 0.62, \"feature2\": 0.5, \"predict\": true}, {\"feature1\": 0.62, \"feature2\": 0.52, \"predict\": true}, {\"feature1\": 0.62, \"feature2\": 0.54, \"predict\": true}, {\"feature1\": 0.62, \"feature2\": 0.56, \"predict\": true}, {\"feature1\": 0.62, \"feature2\": 0.58, \"predict\": true}, {\"feature1\": 0.62, \"feature2\": 0.6, \"predict\": true}, {\"feature1\": 0.62, \"feature2\": 0.62, \"predict\": true}, {\"feature1\": 0.62, \"feature2\": 0.64, \"predict\": true}, {\"feature1\": 0.62, \"feature2\": 0.66, \"predict\": true}, {\"feature1\": 0.62, \"feature2\": 0.68, \"predict\": true}, {\"feature1\": 0.62, \"feature2\": 0.7, \"predict\": true}, {\"feature1\": 0.62, \"feature2\": 0.72, \"predict\": true}, {\"feature1\": 0.62, \"feature2\": 0.74, \"predict\": true}, {\"feature1\": 0.62, \"feature2\": 0.76, \"predict\": true}, {\"feature1\": 0.62, \"feature2\": 0.78, \"predict\": true}, {\"feature1\": 0.62, \"feature2\": 0.8, \"predict\": true}, {\"feature1\": 0.62, \"feature2\": 0.82, \"predict\": true}, {\"feature1\": 0.62, \"feature2\": 0.84, \"predict\": true}, {\"feature1\": 0.62, \"feature2\": 0.86, \"predict\": true}, {\"feature1\": 0.62, \"feature2\": 0.88, \"predict\": true}, {\"feature1\": 0.62, \"feature2\": 0.9, \"predict\": true}, {\"feature1\": 0.62, \"feature2\": 0.92, \"predict\": true}, {\"feature1\": 0.62, \"feature2\": 0.94, \"predict\": true}, {\"feature1\": 0.62, \"feature2\": 0.96, \"predict\": true}, {\"feature1\": 0.62, \"feature2\": 0.98, \"predict\": true}, {\"feature1\": 0.64, \"feature2\": 0.0, \"predict\": false}, {\"feature1\": 0.64, \"feature2\": 0.02, \"predict\": false}, {\"feature1\": 0.64, \"feature2\": 0.04, \"predict\": false}, {\"feature1\": 0.64, \"feature2\": 0.06, \"predict\": false}, {\"feature1\": 0.64, \"feature2\": 0.08, \"predict\": false}, {\"feature1\": 0.64, \"feature2\": 0.1, \"predict\": false}, {\"feature1\": 0.64, \"feature2\": 0.12, \"predict\": false}, {\"feature1\": 0.64, \"feature2\": 0.14, \"predict\": false}, {\"feature1\": 0.64, \"feature2\": 0.16, \"predict\": false}, {\"feature1\": 0.64, \"feature2\": 0.18, \"predict\": false}, {\"feature1\": 0.64, \"feature2\": 0.2, \"predict\": false}, {\"feature1\": 0.64, \"feature2\": 0.22, \"predict\": false}, {\"feature1\": 0.64, \"feature2\": 0.24, \"predict\": false}, {\"feature1\": 0.64, \"feature2\": 0.26, \"predict\": false}, {\"feature1\": 0.64, \"feature2\": 0.28, \"predict\": false}, {\"feature1\": 0.64, \"feature2\": 0.3, \"predict\": false}, {\"feature1\": 0.64, \"feature2\": 0.32, \"predict\": true}, {\"feature1\": 0.64, \"feature2\": 0.34, \"predict\": true}, {\"feature1\": 0.64, \"feature2\": 0.36, \"predict\": true}, {\"feature1\": 0.64, \"feature2\": 0.38, \"predict\": true}, {\"feature1\": 0.64, \"feature2\": 0.4, \"predict\": true}, {\"feature1\": 0.64, \"feature2\": 0.42, \"predict\": true}, {\"feature1\": 0.64, \"feature2\": 0.44, \"predict\": true}, {\"feature1\": 0.64, \"feature2\": 0.46, \"predict\": true}, {\"feature1\": 0.64, \"feature2\": 0.48, \"predict\": true}, {\"feature1\": 0.64, \"feature2\": 0.5, \"predict\": true}, {\"feature1\": 0.64, \"feature2\": 0.52, \"predict\": true}, {\"feature1\": 0.64, \"feature2\": 0.54, \"predict\": true}, {\"feature1\": 0.64, \"feature2\": 0.56, \"predict\": true}, {\"feature1\": 0.64, \"feature2\": 0.58, \"predict\": true}, {\"feature1\": 0.64, \"feature2\": 0.6, \"predict\": true}, {\"feature1\": 0.64, \"feature2\": 0.62, \"predict\": true}, {\"feature1\": 0.64, \"feature2\": 0.64, \"predict\": true}, {\"feature1\": 0.64, \"feature2\": 0.66, \"predict\": true}, {\"feature1\": 0.64, \"feature2\": 0.68, \"predict\": true}, {\"feature1\": 0.64, \"feature2\": 0.7, \"predict\": true}, {\"feature1\": 0.64, \"feature2\": 0.72, \"predict\": true}, {\"feature1\": 0.64, \"feature2\": 0.74, \"predict\": true}, {\"feature1\": 0.64, \"feature2\": 0.76, \"predict\": true}, {\"feature1\": 0.64, \"feature2\": 0.78, \"predict\": true}, {\"feature1\": 0.64, \"feature2\": 0.8, \"predict\": true}, {\"feature1\": 0.64, \"feature2\": 0.82, \"predict\": true}, {\"feature1\": 0.64, \"feature2\": 0.84, \"predict\": true}, {\"feature1\": 0.64, \"feature2\": 0.86, \"predict\": true}, {\"feature1\": 0.64, \"feature2\": 0.88, \"predict\": true}, {\"feature1\": 0.64, \"feature2\": 0.9, \"predict\": true}, {\"feature1\": 0.64, \"feature2\": 0.92, \"predict\": true}, {\"feature1\": 0.64, \"feature2\": 0.94, \"predict\": true}, {\"feature1\": 0.64, \"feature2\": 0.96, \"predict\": true}, {\"feature1\": 0.64, \"feature2\": 0.98, \"predict\": true}, {\"feature1\": 0.66, \"feature2\": 0.0, \"predict\": false}, {\"feature1\": 0.66, \"feature2\": 0.02, \"predict\": false}, {\"feature1\": 0.66, \"feature2\": 0.04, \"predict\": false}, {\"feature1\": 0.66, \"feature2\": 0.06, \"predict\": false}, {\"feature1\": 0.66, \"feature2\": 0.08, \"predict\": false}, {\"feature1\": 0.66, \"feature2\": 0.1, \"predict\": false}, {\"feature1\": 0.66, \"feature2\": 0.12, \"predict\": false}, {\"feature1\": 0.66, \"feature2\": 0.14, \"predict\": false}, {\"feature1\": 0.66, \"feature2\": 0.16, \"predict\": false}, {\"feature1\": 0.66, \"feature2\": 0.18, \"predict\": false}, {\"feature1\": 0.66, \"feature2\": 0.2, \"predict\": false}, {\"feature1\": 0.66, \"feature2\": 0.22, \"predict\": false}, {\"feature1\": 0.66, \"feature2\": 0.24, \"predict\": false}, {\"feature1\": 0.66, \"feature2\": 0.26, \"predict\": false}, {\"feature1\": 0.66, \"feature2\": 0.28, \"predict\": false}, {\"feature1\": 0.66, \"feature2\": 0.3, \"predict\": true}, {\"feature1\": 0.66, \"feature2\": 0.32, \"predict\": true}, {\"feature1\": 0.66, \"feature2\": 0.34, \"predict\": true}, {\"feature1\": 0.66, \"feature2\": 0.36, \"predict\": true}, {\"feature1\": 0.66, \"feature2\": 0.38, \"predict\": true}, {\"feature1\": 0.66, \"feature2\": 0.4, \"predict\": true}, {\"feature1\": 0.66, \"feature2\": 0.42, \"predict\": true}, {\"feature1\": 0.66, \"feature2\": 0.44, \"predict\": true}, {\"feature1\": 0.66, \"feature2\": 0.46, \"predict\": true}, {\"feature1\": 0.66, \"feature2\": 0.48, \"predict\": true}, {\"feature1\": 0.66, \"feature2\": 0.5, \"predict\": true}, {\"feature1\": 0.66, \"feature2\": 0.52, \"predict\": true}, {\"feature1\": 0.66, \"feature2\": 0.54, \"predict\": true}, {\"feature1\": 0.66, \"feature2\": 0.56, \"predict\": true}, {\"feature1\": 0.66, \"feature2\": 0.58, \"predict\": true}, {\"feature1\": 0.66, \"feature2\": 0.6, \"predict\": true}, {\"feature1\": 0.66, \"feature2\": 0.62, \"predict\": true}, {\"feature1\": 0.66, \"feature2\": 0.64, \"predict\": true}, {\"feature1\": 0.66, \"feature2\": 0.66, \"predict\": true}, {\"feature1\": 0.66, \"feature2\": 0.68, \"predict\": true}, {\"feature1\": 0.66, \"feature2\": 0.7, \"predict\": true}, {\"feature1\": 0.66, \"feature2\": 0.72, \"predict\": true}, {\"feature1\": 0.66, \"feature2\": 0.74, \"predict\": true}, {\"feature1\": 0.66, \"feature2\": 0.76, \"predict\": true}, {\"feature1\": 0.66, \"feature2\": 0.78, \"predict\": true}, {\"feature1\": 0.66, \"feature2\": 0.8, \"predict\": true}, {\"feature1\": 0.66, \"feature2\": 0.82, \"predict\": true}, {\"feature1\": 0.66, \"feature2\": 0.84, \"predict\": true}, {\"feature1\": 0.66, \"feature2\": 0.86, \"predict\": true}, {\"feature1\": 0.66, \"feature2\": 0.88, \"predict\": true}, {\"feature1\": 0.66, \"feature2\": 0.9, \"predict\": true}, {\"feature1\": 0.66, \"feature2\": 0.92, \"predict\": true}, {\"feature1\": 0.66, \"feature2\": 0.94, \"predict\": true}, {\"feature1\": 0.66, \"feature2\": 0.96, \"predict\": true}, {\"feature1\": 0.66, \"feature2\": 0.98, \"predict\": true}, {\"feature1\": 0.68, \"feature2\": 0.0, \"predict\": false}, {\"feature1\": 0.68, \"feature2\": 0.02, \"predict\": false}, {\"feature1\": 0.68, \"feature2\": 0.04, \"predict\": false}, {\"feature1\": 0.68, \"feature2\": 0.06, \"predict\": false}, {\"feature1\": 0.68, \"feature2\": 0.08, \"predict\": false}, {\"feature1\": 0.68, \"feature2\": 0.1, \"predict\": false}, {\"feature1\": 0.68, \"feature2\": 0.12, \"predict\": false}, {\"feature1\": 0.68, \"feature2\": 0.14, \"predict\": false}, {\"feature1\": 0.68, \"feature2\": 0.16, \"predict\": false}, {\"feature1\": 0.68, \"feature2\": 0.18, \"predict\": false}, {\"feature1\": 0.68, \"feature2\": 0.2, \"predict\": false}, {\"feature1\": 0.68, \"feature2\": 0.22, \"predict\": false}, {\"feature1\": 0.68, \"feature2\": 0.24, \"predict\": false}, {\"feature1\": 0.68, \"feature2\": 0.26, \"predict\": false}, {\"feature1\": 0.68, \"feature2\": 0.28, \"predict\": true}, {\"feature1\": 0.68, \"feature2\": 0.3, \"predict\": true}, {\"feature1\": 0.68, \"feature2\": 0.32, \"predict\": true}, {\"feature1\": 0.68, \"feature2\": 0.34, \"predict\": true}, {\"feature1\": 0.68, \"feature2\": 0.36, \"predict\": true}, {\"feature1\": 0.68, \"feature2\": 0.38, \"predict\": true}, {\"feature1\": 0.68, \"feature2\": 0.4, \"predict\": true}, {\"feature1\": 0.68, \"feature2\": 0.42, \"predict\": true}, {\"feature1\": 0.68, \"feature2\": 0.44, \"predict\": true}, {\"feature1\": 0.68, \"feature2\": 0.46, \"predict\": true}, {\"feature1\": 0.68, \"feature2\": 0.48, \"predict\": true}, {\"feature1\": 0.68, \"feature2\": 0.5, \"predict\": true}, {\"feature1\": 0.68, \"feature2\": 0.52, \"predict\": true}, {\"feature1\": 0.68, \"feature2\": 0.54, \"predict\": true}, {\"feature1\": 0.68, \"feature2\": 0.56, \"predict\": true}, {\"feature1\": 0.68, \"feature2\": 0.58, \"predict\": true}, {\"feature1\": 0.68, \"feature2\": 0.6, \"predict\": true}, {\"feature1\": 0.68, \"feature2\": 0.62, \"predict\": true}, {\"feature1\": 0.68, \"feature2\": 0.64, \"predict\": true}, {\"feature1\": 0.68, \"feature2\": 0.66, \"predict\": true}, {\"feature1\": 0.68, \"feature2\": 0.68, \"predict\": true}, {\"feature1\": 0.68, \"feature2\": 0.7, \"predict\": true}, {\"feature1\": 0.68, \"feature2\": 0.72, \"predict\": true}, {\"feature1\": 0.68, \"feature2\": 0.74, \"predict\": true}, {\"feature1\": 0.68, \"feature2\": 0.76, \"predict\": true}, {\"feature1\": 0.68, \"feature2\": 0.78, \"predict\": true}, {\"feature1\": 0.68, \"feature2\": 0.8, \"predict\": true}, {\"feature1\": 0.68, \"feature2\": 0.82, \"predict\": true}, {\"feature1\": 0.68, \"feature2\": 0.84, \"predict\": true}, {\"feature1\": 0.68, \"feature2\": 0.86, \"predict\": true}, {\"feature1\": 0.68, \"feature2\": 0.88, \"predict\": true}, {\"feature1\": 0.68, \"feature2\": 0.9, \"predict\": true}, {\"feature1\": 0.68, \"feature2\": 0.92, \"predict\": true}, {\"feature1\": 0.68, \"feature2\": 0.94, \"predict\": true}, {\"feature1\": 0.68, \"feature2\": 0.96, \"predict\": true}, {\"feature1\": 0.68, \"feature2\": 0.98, \"predict\": true}, {\"feature1\": 0.7, \"feature2\": 0.0, \"predict\": false}, {\"feature1\": 0.7, \"feature2\": 0.02, \"predict\": false}, {\"feature1\": 0.7, \"feature2\": 0.04, \"predict\": false}, {\"feature1\": 0.7, \"feature2\": 0.06, \"predict\": false}, {\"feature1\": 0.7, \"feature2\": 0.08, \"predict\": false}, {\"feature1\": 0.7, \"feature2\": 0.1, \"predict\": false}, {\"feature1\": 0.7, \"feature2\": 0.12, \"predict\": false}, {\"feature1\": 0.7, \"feature2\": 0.14, \"predict\": false}, {\"feature1\": 0.7, \"feature2\": 0.16, \"predict\": false}, {\"feature1\": 0.7, \"feature2\": 0.18, \"predict\": false}, {\"feature1\": 0.7, \"feature2\": 0.2, \"predict\": false}, {\"feature1\": 0.7, \"feature2\": 0.22, \"predict\": false}, {\"feature1\": 0.7, \"feature2\": 0.24, \"predict\": false}, {\"feature1\": 0.7, \"feature2\": 0.26, \"predict\": true}, {\"feature1\": 0.7, \"feature2\": 0.28, \"predict\": true}, {\"feature1\": 0.7, \"feature2\": 0.3, \"predict\": true}, {\"feature1\": 0.7, \"feature2\": 0.32, \"predict\": true}, {\"feature1\": 0.7, \"feature2\": 0.34, \"predict\": true}, {\"feature1\": 0.7, \"feature2\": 0.36, \"predict\": true}, {\"feature1\": 0.7, \"feature2\": 0.38, \"predict\": true}, {\"feature1\": 0.7, \"feature2\": 0.4, \"predict\": true}, {\"feature1\": 0.7, \"feature2\": 0.42, \"predict\": true}, {\"feature1\": 0.7, \"feature2\": 0.44, \"predict\": true}, {\"feature1\": 0.7, \"feature2\": 0.46, \"predict\": true}, {\"feature1\": 0.7, \"feature2\": 0.48, \"predict\": true}, {\"feature1\": 0.7, \"feature2\": 0.5, \"predict\": true}, {\"feature1\": 0.7, \"feature2\": 0.52, \"predict\": true}, {\"feature1\": 0.7, \"feature2\": 0.54, \"predict\": true}, {\"feature1\": 0.7, \"feature2\": 0.56, \"predict\": true}, {\"feature1\": 0.7, \"feature2\": 0.58, \"predict\": true}, {\"feature1\": 0.7, \"feature2\": 0.6, \"predict\": true}, {\"feature1\": 0.7, \"feature2\": 0.62, \"predict\": true}, {\"feature1\": 0.7, \"feature2\": 0.64, \"predict\": true}, {\"feature1\": 0.7, \"feature2\": 0.66, \"predict\": true}, {\"feature1\": 0.7, \"feature2\": 0.68, \"predict\": true}, {\"feature1\": 0.7, \"feature2\": 0.7, \"predict\": true}, {\"feature1\": 0.7, \"feature2\": 0.72, \"predict\": true}, {\"feature1\": 0.7, \"feature2\": 0.74, \"predict\": true}, {\"feature1\": 0.7, \"feature2\": 0.76, \"predict\": true}, {\"feature1\": 0.7, \"feature2\": 0.78, \"predict\": true}, {\"feature1\": 0.7, \"feature2\": 0.8, \"predict\": true}, {\"feature1\": 0.7, \"feature2\": 0.82, \"predict\": true}, {\"feature1\": 0.7, \"feature2\": 0.84, \"predict\": true}, {\"feature1\": 0.7, \"feature2\": 0.86, \"predict\": true}, {\"feature1\": 0.7, \"feature2\": 0.88, \"predict\": true}, {\"feature1\": 0.7, \"feature2\": 0.9, \"predict\": true}, {\"feature1\": 0.7, \"feature2\": 0.92, \"predict\": true}, {\"feature1\": 0.7, \"feature2\": 0.94, \"predict\": true}, {\"feature1\": 0.7, \"feature2\": 0.96, \"predict\": true}, {\"feature1\": 0.7, \"feature2\": 0.98, \"predict\": true}, {\"feature1\": 0.72, \"feature2\": 0.0, \"predict\": false}, {\"feature1\": 0.72, \"feature2\": 0.02, \"predict\": false}, {\"feature1\": 0.72, \"feature2\": 0.04, \"predict\": false}, {\"feature1\": 0.72, \"feature2\": 0.06, \"predict\": false}, {\"feature1\": 0.72, \"feature2\": 0.08, \"predict\": false}, {\"feature1\": 0.72, \"feature2\": 0.1, \"predict\": false}, {\"feature1\": 0.72, \"feature2\": 0.12, \"predict\": false}, {\"feature1\": 0.72, \"feature2\": 0.14, \"predict\": false}, {\"feature1\": 0.72, \"feature2\": 0.16, \"predict\": false}, {\"feature1\": 0.72, \"feature2\": 0.18, \"predict\": false}, {\"feature1\": 0.72, \"feature2\": 0.2, \"predict\": false}, {\"feature1\": 0.72, \"feature2\": 0.22, \"predict\": false}, {\"feature1\": 0.72, \"feature2\": 0.24, \"predict\": true}, {\"feature1\": 0.72, \"feature2\": 0.26, \"predict\": true}, {\"feature1\": 0.72, \"feature2\": 0.28, \"predict\": true}, {\"feature1\": 0.72, \"feature2\": 0.3, \"predict\": true}, {\"feature1\": 0.72, \"feature2\": 0.32, \"predict\": true}, {\"feature1\": 0.72, \"feature2\": 0.34, \"predict\": true}, {\"feature1\": 0.72, \"feature2\": 0.36, \"predict\": true}, {\"feature1\": 0.72, \"feature2\": 0.38, \"predict\": true}, {\"feature1\": 0.72, \"feature2\": 0.4, \"predict\": true}, {\"feature1\": 0.72, \"feature2\": 0.42, \"predict\": true}, {\"feature1\": 0.72, \"feature2\": 0.44, \"predict\": true}, {\"feature1\": 0.72, \"feature2\": 0.46, \"predict\": true}, {\"feature1\": 0.72, \"feature2\": 0.48, \"predict\": true}, {\"feature1\": 0.72, \"feature2\": 0.5, \"predict\": true}, {\"feature1\": 0.72, \"feature2\": 0.52, \"predict\": true}, {\"feature1\": 0.72, \"feature2\": 0.54, \"predict\": true}, {\"feature1\": 0.72, \"feature2\": 0.56, \"predict\": true}, {\"feature1\": 0.72, \"feature2\": 0.58, \"predict\": true}, {\"feature1\": 0.72, \"feature2\": 0.6, \"predict\": true}, {\"feature1\": 0.72, \"feature2\": 0.62, \"predict\": true}, {\"feature1\": 0.72, \"feature2\": 0.64, \"predict\": true}, {\"feature1\": 0.72, \"feature2\": 0.66, \"predict\": true}, {\"feature1\": 0.72, \"feature2\": 0.68, \"predict\": true}, {\"feature1\": 0.72, \"feature2\": 0.7, \"predict\": true}, {\"feature1\": 0.72, \"feature2\": 0.72, \"predict\": true}, {\"feature1\": 0.72, \"feature2\": 0.74, \"predict\": true}, {\"feature1\": 0.72, \"feature2\": 0.76, \"predict\": true}, {\"feature1\": 0.72, \"feature2\": 0.78, \"predict\": true}, {\"feature1\": 0.72, \"feature2\": 0.8, \"predict\": true}, {\"feature1\": 0.72, \"feature2\": 0.82, \"predict\": true}, {\"feature1\": 0.72, \"feature2\": 0.84, \"predict\": true}, {\"feature1\": 0.72, \"feature2\": 0.86, \"predict\": true}, {\"feature1\": 0.72, \"feature2\": 0.88, \"predict\": true}, {\"feature1\": 0.72, \"feature2\": 0.9, \"predict\": true}, {\"feature1\": 0.72, \"feature2\": 0.92, \"predict\": true}, {\"feature1\": 0.72, \"feature2\": 0.94, \"predict\": true}, {\"feature1\": 0.72, \"feature2\": 0.96, \"predict\": true}, {\"feature1\": 0.72, \"feature2\": 0.98, \"predict\": true}, {\"feature1\": 0.74, \"feature2\": 0.0, \"predict\": false}, {\"feature1\": 0.74, \"feature2\": 0.02, \"predict\": false}, {\"feature1\": 0.74, \"feature2\": 0.04, \"predict\": false}, {\"feature1\": 0.74, \"feature2\": 0.06, \"predict\": false}, {\"feature1\": 0.74, \"feature2\": 0.08, \"predict\": false}, {\"feature1\": 0.74, \"feature2\": 0.1, \"predict\": false}, {\"feature1\": 0.74, \"feature2\": 0.12, \"predict\": false}, {\"feature1\": 0.74, \"feature2\": 0.14, \"predict\": false}, {\"feature1\": 0.74, \"feature2\": 0.16, \"predict\": false}, {\"feature1\": 0.74, \"feature2\": 0.18, \"predict\": false}, {\"feature1\": 0.74, \"feature2\": 0.2, \"predict\": false}, {\"feature1\": 0.74, \"feature2\": 0.22, \"predict\": false}, {\"feature1\": 0.74, \"feature2\": 0.24, \"predict\": true}, {\"feature1\": 0.74, \"feature2\": 0.26, \"predict\": true}, {\"feature1\": 0.74, \"feature2\": 0.28, \"predict\": true}, {\"feature1\": 0.74, \"feature2\": 0.3, \"predict\": true}, {\"feature1\": 0.74, \"feature2\": 0.32, \"predict\": true}, {\"feature1\": 0.74, \"feature2\": 0.34, \"predict\": true}, {\"feature1\": 0.74, \"feature2\": 0.36, \"predict\": true}, {\"feature1\": 0.74, \"feature2\": 0.38, \"predict\": true}, {\"feature1\": 0.74, \"feature2\": 0.4, \"predict\": true}, {\"feature1\": 0.74, \"feature2\": 0.42, \"predict\": true}, {\"feature1\": 0.74, \"feature2\": 0.44, \"predict\": true}, {\"feature1\": 0.74, \"feature2\": 0.46, \"predict\": true}, {\"feature1\": 0.74, \"feature2\": 0.48, \"predict\": true}, {\"feature1\": 0.74, \"feature2\": 0.5, \"predict\": true}, {\"feature1\": 0.74, \"feature2\": 0.52, \"predict\": true}, {\"feature1\": 0.74, \"feature2\": 0.54, \"predict\": true}, {\"feature1\": 0.74, \"feature2\": 0.56, \"predict\": true}, {\"feature1\": 0.74, \"feature2\": 0.58, \"predict\": true}, {\"feature1\": 0.74, \"feature2\": 0.6, \"predict\": true}, {\"feature1\": 0.74, \"feature2\": 0.62, \"predict\": true}, {\"feature1\": 0.74, \"feature2\": 0.64, \"predict\": true}, {\"feature1\": 0.74, \"feature2\": 0.66, \"predict\": true}, {\"feature1\": 0.74, \"feature2\": 0.68, \"predict\": true}, {\"feature1\": 0.74, \"feature2\": 0.7, \"predict\": true}, {\"feature1\": 0.74, \"feature2\": 0.72, \"predict\": true}, {\"feature1\": 0.74, \"feature2\": 0.74, \"predict\": true}, {\"feature1\": 0.74, \"feature2\": 0.76, \"predict\": true}, {\"feature1\": 0.74, \"feature2\": 0.78, \"predict\": true}, {\"feature1\": 0.74, \"feature2\": 0.8, \"predict\": true}, {\"feature1\": 0.74, \"feature2\": 0.82, \"predict\": true}, {\"feature1\": 0.74, \"feature2\": 0.84, \"predict\": true}, {\"feature1\": 0.74, \"feature2\": 0.86, \"predict\": true}, {\"feature1\": 0.74, \"feature2\": 0.88, \"predict\": true}, {\"feature1\": 0.74, \"feature2\": 0.9, \"predict\": true}, {\"feature1\": 0.74, \"feature2\": 0.92, \"predict\": true}, {\"feature1\": 0.74, \"feature2\": 0.94, \"predict\": true}, {\"feature1\": 0.74, \"feature2\": 0.96, \"predict\": true}, {\"feature1\": 0.74, \"feature2\": 0.98, \"predict\": true}, {\"feature1\": 0.76, \"feature2\": 0.0, \"predict\": false}, {\"feature1\": 0.76, \"feature2\": 0.02, \"predict\": false}, {\"feature1\": 0.76, \"feature2\": 0.04, \"predict\": false}, {\"feature1\": 0.76, \"feature2\": 0.06, \"predict\": false}, {\"feature1\": 0.76, \"feature2\": 0.08, \"predict\": false}, {\"feature1\": 0.76, \"feature2\": 0.1, \"predict\": false}, {\"feature1\": 0.76, \"feature2\": 0.12, \"predict\": false}, {\"feature1\": 0.76, \"feature2\": 0.14, \"predict\": false}, {\"feature1\": 0.76, \"feature2\": 0.16, \"predict\": false}, {\"feature1\": 0.76, \"feature2\": 0.18, \"predict\": false}, {\"feature1\": 0.76, \"feature2\": 0.2, \"predict\": false}, {\"feature1\": 0.76, \"feature2\": 0.22, \"predict\": true}, {\"feature1\": 0.76, \"feature2\": 0.24, \"predict\": true}, {\"feature1\": 0.76, \"feature2\": 0.26, \"predict\": true}, {\"feature1\": 0.76, \"feature2\": 0.28, \"predict\": true}, {\"feature1\": 0.76, \"feature2\": 0.3, \"predict\": true}, {\"feature1\": 0.76, \"feature2\": 0.32, \"predict\": true}, {\"feature1\": 0.76, \"feature2\": 0.34, \"predict\": true}, {\"feature1\": 0.76, \"feature2\": 0.36, \"predict\": true}, {\"feature1\": 0.76, \"feature2\": 0.38, \"predict\": true}, {\"feature1\": 0.76, \"feature2\": 0.4, \"predict\": true}, {\"feature1\": 0.76, \"feature2\": 0.42, \"predict\": true}, {\"feature1\": 0.76, \"feature2\": 0.44, \"predict\": true}, {\"feature1\": 0.76, \"feature2\": 0.46, \"predict\": true}, {\"feature1\": 0.76, \"feature2\": 0.48, \"predict\": true}, {\"feature1\": 0.76, \"feature2\": 0.5, \"predict\": true}, {\"feature1\": 0.76, \"feature2\": 0.52, \"predict\": true}, {\"feature1\": 0.76, \"feature2\": 0.54, \"predict\": true}, {\"feature1\": 0.76, \"feature2\": 0.56, \"predict\": true}, {\"feature1\": 0.76, \"feature2\": 0.58, \"predict\": true}, {\"feature1\": 0.76, \"feature2\": 0.6, \"predict\": true}, {\"feature1\": 0.76, \"feature2\": 0.62, \"predict\": true}, {\"feature1\": 0.76, \"feature2\": 0.64, \"predict\": true}, {\"feature1\": 0.76, \"feature2\": 0.66, \"predict\": true}, {\"feature1\": 0.76, \"feature2\": 0.68, \"predict\": true}, {\"feature1\": 0.76, \"feature2\": 0.7, \"predict\": true}, {\"feature1\": 0.76, \"feature2\": 0.72, \"predict\": true}, {\"feature1\": 0.76, \"feature2\": 0.74, \"predict\": true}, {\"feature1\": 0.76, \"feature2\": 0.76, \"predict\": true}, {\"feature1\": 0.76, \"feature2\": 0.78, \"predict\": true}, {\"feature1\": 0.76, \"feature2\": 0.8, \"predict\": true}, {\"feature1\": 0.76, \"feature2\": 0.82, \"predict\": true}, {\"feature1\": 0.76, \"feature2\": 0.84, \"predict\": true}, {\"feature1\": 0.76, \"feature2\": 0.86, \"predict\": true}, {\"feature1\": 0.76, \"feature2\": 0.88, \"predict\": true}, {\"feature1\": 0.76, \"feature2\": 0.9, \"predict\": true}, {\"feature1\": 0.76, \"feature2\": 0.92, \"predict\": true}, {\"feature1\": 0.76, \"feature2\": 0.94, \"predict\": true}, {\"feature1\": 0.76, \"feature2\": 0.96, \"predict\": true}, {\"feature1\": 0.76, \"feature2\": 0.98, \"predict\": true}, {\"feature1\": 0.78, \"feature2\": 0.0, \"predict\": false}, {\"feature1\": 0.78, \"feature2\": 0.02, \"predict\": false}, {\"feature1\": 0.78, \"feature2\": 0.04, \"predict\": false}, {\"feature1\": 0.78, \"feature2\": 0.06, \"predict\": false}, {\"feature1\": 0.78, \"feature2\": 0.08, \"predict\": false}, {\"feature1\": 0.78, \"feature2\": 0.1, \"predict\": false}, {\"feature1\": 0.78, \"feature2\": 0.12, \"predict\": false}, {\"feature1\": 0.78, \"feature2\": 0.14, \"predict\": false}, {\"feature1\": 0.78, \"feature2\": 0.16, \"predict\": false}, {\"feature1\": 0.78, \"feature2\": 0.18, \"predict\": false}, {\"feature1\": 0.78, \"feature2\": 0.2, \"predict\": true}, {\"feature1\": 0.78, \"feature2\": 0.22, \"predict\": true}, {\"feature1\": 0.78, \"feature2\": 0.24, \"predict\": true}, {\"feature1\": 0.78, \"feature2\": 0.26, \"predict\": true}, {\"feature1\": 0.78, \"feature2\": 0.28, \"predict\": true}, {\"feature1\": 0.78, \"feature2\": 0.3, \"predict\": true}, {\"feature1\": 0.78, \"feature2\": 0.32, \"predict\": true}, {\"feature1\": 0.78, \"feature2\": 0.34, \"predict\": true}, {\"feature1\": 0.78, \"feature2\": 0.36, \"predict\": true}, {\"feature1\": 0.78, \"feature2\": 0.38, \"predict\": true}, {\"feature1\": 0.78, \"feature2\": 0.4, \"predict\": true}, {\"feature1\": 0.78, \"feature2\": 0.42, \"predict\": true}, {\"feature1\": 0.78, \"feature2\": 0.44, \"predict\": true}, {\"feature1\": 0.78, \"feature2\": 0.46, \"predict\": true}, {\"feature1\": 0.78, \"feature2\": 0.48, \"predict\": true}, {\"feature1\": 0.78, \"feature2\": 0.5, \"predict\": true}, {\"feature1\": 0.78, \"feature2\": 0.52, \"predict\": true}, {\"feature1\": 0.78, \"feature2\": 0.54, \"predict\": true}, {\"feature1\": 0.78, \"feature2\": 0.56, \"predict\": true}, {\"feature1\": 0.78, \"feature2\": 0.58, \"predict\": true}, {\"feature1\": 0.78, \"feature2\": 0.6, \"predict\": true}, {\"feature1\": 0.78, \"feature2\": 0.62, \"predict\": true}, {\"feature1\": 0.78, \"feature2\": 0.64, \"predict\": true}, {\"feature1\": 0.78, \"feature2\": 0.66, \"predict\": true}, {\"feature1\": 0.78, \"feature2\": 0.68, \"predict\": true}, {\"feature1\": 0.78, \"feature2\": 0.7, \"predict\": true}, {\"feature1\": 0.78, \"feature2\": 0.72, \"predict\": true}, {\"feature1\": 0.78, \"feature2\": 0.74, \"predict\": true}, {\"feature1\": 0.78, \"feature2\": 0.76, \"predict\": true}, {\"feature1\": 0.78, \"feature2\": 0.78, \"predict\": true}, {\"feature1\": 0.78, \"feature2\": 0.8, \"predict\": true}, {\"feature1\": 0.78, \"feature2\": 0.82, \"predict\": true}, {\"feature1\": 0.78, \"feature2\": 0.84, \"predict\": true}, {\"feature1\": 0.78, \"feature2\": 0.86, \"predict\": true}, {\"feature1\": 0.78, \"feature2\": 0.88, \"predict\": true}, {\"feature1\": 0.78, \"feature2\": 0.9, \"predict\": true}, {\"feature1\": 0.78, \"feature2\": 0.92, \"predict\": true}, {\"feature1\": 0.78, \"feature2\": 0.94, \"predict\": true}, {\"feature1\": 0.78, \"feature2\": 0.96, \"predict\": true}, {\"feature1\": 0.78, \"feature2\": 0.98, \"predict\": true}, {\"feature1\": 0.8, \"feature2\": 0.0, \"predict\": false}, {\"feature1\": 0.8, \"feature2\": 0.02, \"predict\": false}, {\"feature1\": 0.8, \"feature2\": 0.04, \"predict\": false}, {\"feature1\": 0.8, \"feature2\": 0.06, \"predict\": false}, {\"feature1\": 0.8, \"feature2\": 0.08, \"predict\": false}, {\"feature1\": 0.8, \"feature2\": 0.1, \"predict\": false}, {\"feature1\": 0.8, \"feature2\": 0.12, \"predict\": false}, {\"feature1\": 0.8, \"feature2\": 0.14, \"predict\": false}, {\"feature1\": 0.8, \"feature2\": 0.16, \"predict\": false}, {\"feature1\": 0.8, \"feature2\": 0.18, \"predict\": true}, {\"feature1\": 0.8, \"feature2\": 0.2, \"predict\": true}, {\"feature1\": 0.8, \"feature2\": 0.22, \"predict\": true}, {\"feature1\": 0.8, \"feature2\": 0.24, \"predict\": true}, {\"feature1\": 0.8, \"feature2\": 0.26, \"predict\": true}, {\"feature1\": 0.8, \"feature2\": 0.28, \"predict\": true}, {\"feature1\": 0.8, \"feature2\": 0.3, \"predict\": true}, {\"feature1\": 0.8, \"feature2\": 0.32, \"predict\": true}, {\"feature1\": 0.8, \"feature2\": 0.34, \"predict\": true}, {\"feature1\": 0.8, \"feature2\": 0.36, \"predict\": true}, {\"feature1\": 0.8, \"feature2\": 0.38, \"predict\": true}, {\"feature1\": 0.8, \"feature2\": 0.4, \"predict\": true}, {\"feature1\": 0.8, \"feature2\": 0.42, \"predict\": true}, {\"feature1\": 0.8, \"feature2\": 0.44, \"predict\": true}, {\"feature1\": 0.8, \"feature2\": 0.46, \"predict\": true}, {\"feature1\": 0.8, \"feature2\": 0.48, \"predict\": true}, {\"feature1\": 0.8, \"feature2\": 0.5, \"predict\": true}, {\"feature1\": 0.8, \"feature2\": 0.52, \"predict\": true}, {\"feature1\": 0.8, \"feature2\": 0.54, \"predict\": true}, {\"feature1\": 0.8, \"feature2\": 0.56, \"predict\": true}, {\"feature1\": 0.8, \"feature2\": 0.58, \"predict\": true}, {\"feature1\": 0.8, \"feature2\": 0.6, \"predict\": true}, {\"feature1\": 0.8, \"feature2\": 0.62, \"predict\": true}, {\"feature1\": 0.8, \"feature2\": 0.64, \"predict\": true}, {\"feature1\": 0.8, \"feature2\": 0.66, \"predict\": true}, {\"feature1\": 0.8, \"feature2\": 0.68, \"predict\": true}, {\"feature1\": 0.8, \"feature2\": 0.7, \"predict\": true}, {\"feature1\": 0.8, \"feature2\": 0.72, \"predict\": true}, {\"feature1\": 0.8, \"feature2\": 0.74, \"predict\": true}, {\"feature1\": 0.8, \"feature2\": 0.76, \"predict\": true}, {\"feature1\": 0.8, \"feature2\": 0.78, \"predict\": true}, {\"feature1\": 0.8, \"feature2\": 0.8, \"predict\": true}, {\"feature1\": 0.8, \"feature2\": 0.82, \"predict\": true}, {\"feature1\": 0.8, \"feature2\": 0.84, \"predict\": true}, {\"feature1\": 0.8, \"feature2\": 0.86, \"predict\": true}, {\"feature1\": 0.8, \"feature2\": 0.88, \"predict\": true}, {\"feature1\": 0.8, \"feature2\": 0.9, \"predict\": true}, {\"feature1\": 0.8, \"feature2\": 0.92, \"predict\": true}, {\"feature1\": 0.8, \"feature2\": 0.94, \"predict\": true}, {\"feature1\": 0.8, \"feature2\": 0.96, \"predict\": true}, {\"feature1\": 0.8, \"feature2\": 0.98, \"predict\": true}, {\"feature1\": 0.82, \"feature2\": 0.0, \"predict\": false}, {\"feature1\": 0.82, \"feature2\": 0.02, \"predict\": false}, {\"feature1\": 0.82, \"feature2\": 0.04, \"predict\": false}, {\"feature1\": 0.82, \"feature2\": 0.06, \"predict\": false}, {\"feature1\": 0.82, \"feature2\": 0.08, \"predict\": false}, {\"feature1\": 0.82, \"feature2\": 0.1, \"predict\": false}, {\"feature1\": 0.82, \"feature2\": 0.12, \"predict\": false}, {\"feature1\": 0.82, \"feature2\": 0.14, \"predict\": false}, {\"feature1\": 0.82, \"feature2\": 0.16, \"predict\": true}, {\"feature1\": 0.82, \"feature2\": 0.18, \"predict\": true}, {\"feature1\": 0.82, \"feature2\": 0.2, \"predict\": true}, {\"feature1\": 0.82, \"feature2\": 0.22, \"predict\": true}, {\"feature1\": 0.82, \"feature2\": 0.24, \"predict\": true}, {\"feature1\": 0.82, \"feature2\": 0.26, \"predict\": true}, {\"feature1\": 0.82, \"feature2\": 0.28, \"predict\": true}, {\"feature1\": 0.82, \"feature2\": 0.3, \"predict\": true}, {\"feature1\": 0.82, \"feature2\": 0.32, \"predict\": true}, {\"feature1\": 0.82, \"feature2\": 0.34, \"predict\": true}, {\"feature1\": 0.82, \"feature2\": 0.36, \"predict\": true}, {\"feature1\": 0.82, \"feature2\": 0.38, \"predict\": true}, {\"feature1\": 0.82, \"feature2\": 0.4, \"predict\": true}, {\"feature1\": 0.82, \"feature2\": 0.42, \"predict\": true}, {\"feature1\": 0.82, \"feature2\": 0.44, \"predict\": true}, {\"feature1\": 0.82, \"feature2\": 0.46, \"predict\": true}, {\"feature1\": 0.82, \"feature2\": 0.48, \"predict\": true}, {\"feature1\": 0.82, \"feature2\": 0.5, \"predict\": true}, {\"feature1\": 0.82, \"feature2\": 0.52, \"predict\": true}, {\"feature1\": 0.82, \"feature2\": 0.54, \"predict\": true}, {\"feature1\": 0.82, \"feature2\": 0.56, \"predict\": true}, {\"feature1\": 0.82, \"feature2\": 0.58, \"predict\": true}, {\"feature1\": 0.82, \"feature2\": 0.6, \"predict\": true}, {\"feature1\": 0.82, \"feature2\": 0.62, \"predict\": true}, {\"feature1\": 0.82, \"feature2\": 0.64, \"predict\": true}, {\"feature1\": 0.82, \"feature2\": 0.66, \"predict\": true}, {\"feature1\": 0.82, \"feature2\": 0.68, \"predict\": true}, {\"feature1\": 0.82, \"feature2\": 0.7, \"predict\": true}, {\"feature1\": 0.82, \"feature2\": 0.72, \"predict\": true}, {\"feature1\": 0.82, \"feature2\": 0.74, \"predict\": true}, {\"feature1\": 0.82, \"feature2\": 0.76, \"predict\": true}, {\"feature1\": 0.82, \"feature2\": 0.78, \"predict\": true}, {\"feature1\": 0.82, \"feature2\": 0.8, \"predict\": true}, {\"feature1\": 0.82, \"feature2\": 0.82, \"predict\": true}, {\"feature1\": 0.82, \"feature2\": 0.84, \"predict\": true}, {\"feature1\": 0.82, \"feature2\": 0.86, \"predict\": true}, {\"feature1\": 0.82, \"feature2\": 0.88, \"predict\": true}, {\"feature1\": 0.82, \"feature2\": 0.9, \"predict\": true}, {\"feature1\": 0.82, \"feature2\": 0.92, \"predict\": true}, {\"feature1\": 0.82, \"feature2\": 0.94, \"predict\": true}, {\"feature1\": 0.82, \"feature2\": 0.96, \"predict\": true}, {\"feature1\": 0.82, \"feature2\": 0.98, \"predict\": true}, {\"feature1\": 0.84, \"feature2\": 0.0, \"predict\": false}, {\"feature1\": 0.84, \"feature2\": 0.02, \"predict\": false}, {\"feature1\": 0.84, \"feature2\": 0.04, \"predict\": false}, {\"feature1\": 0.84, \"feature2\": 0.06, \"predict\": false}, {\"feature1\": 0.84, \"feature2\": 0.08, \"predict\": false}, {\"feature1\": 0.84, \"feature2\": 0.1, \"predict\": false}, {\"feature1\": 0.84, \"feature2\": 0.12, \"predict\": false}, {\"feature1\": 0.84, \"feature2\": 0.14, \"predict\": true}, {\"feature1\": 0.84, \"feature2\": 0.16, \"predict\": true}, {\"feature1\": 0.84, \"feature2\": 0.18, \"predict\": true}, {\"feature1\": 0.84, \"feature2\": 0.2, \"predict\": true}, {\"feature1\": 0.84, \"feature2\": 0.22, \"predict\": true}, {\"feature1\": 0.84, \"feature2\": 0.24, \"predict\": true}, {\"feature1\": 0.84, \"feature2\": 0.26, \"predict\": true}, {\"feature1\": 0.84, \"feature2\": 0.28, \"predict\": true}, {\"feature1\": 0.84, \"feature2\": 0.3, \"predict\": true}, {\"feature1\": 0.84, \"feature2\": 0.32, \"predict\": true}, {\"feature1\": 0.84, \"feature2\": 0.34, \"predict\": true}, {\"feature1\": 0.84, \"feature2\": 0.36, \"predict\": true}, {\"feature1\": 0.84, \"feature2\": 0.38, \"predict\": true}, {\"feature1\": 0.84, \"feature2\": 0.4, \"predict\": true}, {\"feature1\": 0.84, \"feature2\": 0.42, \"predict\": true}, {\"feature1\": 0.84, \"feature2\": 0.44, \"predict\": true}, {\"feature1\": 0.84, \"feature2\": 0.46, \"predict\": true}, {\"feature1\": 0.84, \"feature2\": 0.48, \"predict\": true}, {\"feature1\": 0.84, \"feature2\": 0.5, \"predict\": true}, {\"feature1\": 0.84, \"feature2\": 0.52, \"predict\": true}, {\"feature1\": 0.84, \"feature2\": 0.54, \"predict\": true}, {\"feature1\": 0.84, \"feature2\": 0.56, \"predict\": true}, {\"feature1\": 0.84, \"feature2\": 0.58, \"predict\": true}, {\"feature1\": 0.84, \"feature2\": 0.6, \"predict\": true}, {\"feature1\": 0.84, \"feature2\": 0.62, \"predict\": true}, {\"feature1\": 0.84, \"feature2\": 0.64, \"predict\": true}, {\"feature1\": 0.84, \"feature2\": 0.66, \"predict\": true}, {\"feature1\": 0.84, \"feature2\": 0.68, \"predict\": true}, {\"feature1\": 0.84, \"feature2\": 0.7, \"predict\": true}, {\"feature1\": 0.84, \"feature2\": 0.72, \"predict\": true}, {\"feature1\": 0.84, \"feature2\": 0.74, \"predict\": true}, {\"feature1\": 0.84, \"feature2\": 0.76, \"predict\": true}, {\"feature1\": 0.84, \"feature2\": 0.78, \"predict\": true}, {\"feature1\": 0.84, \"feature2\": 0.8, \"predict\": true}, {\"feature1\": 0.84, \"feature2\": 0.82, \"predict\": true}, {\"feature1\": 0.84, \"feature2\": 0.84, \"predict\": true}, {\"feature1\": 0.84, \"feature2\": 0.86, \"predict\": true}, {\"feature1\": 0.84, \"feature2\": 0.88, \"predict\": true}, {\"feature1\": 0.84, \"feature2\": 0.9, \"predict\": true}, {\"feature1\": 0.84, \"feature2\": 0.92, \"predict\": true}, {\"feature1\": 0.84, \"feature2\": 0.94, \"predict\": true}, {\"feature1\": 0.84, \"feature2\": 0.96, \"predict\": true}, {\"feature1\": 0.84, \"feature2\": 0.98, \"predict\": true}, {\"feature1\": 0.86, \"feature2\": 0.0, \"predict\": false}, {\"feature1\": 0.86, \"feature2\": 0.02, \"predict\": false}, {\"feature1\": 0.86, \"feature2\": 0.04, \"predict\": false}, {\"feature1\": 0.86, \"feature2\": 0.06, \"predict\": false}, {\"feature1\": 0.86, \"feature2\": 0.08, \"predict\": false}, {\"feature1\": 0.86, \"feature2\": 0.1, \"predict\": false}, {\"feature1\": 0.86, \"feature2\": 0.12, \"predict\": true}, {\"feature1\": 0.86, \"feature2\": 0.14, \"predict\": true}, {\"feature1\": 0.86, \"feature2\": 0.16, \"predict\": true}, {\"feature1\": 0.86, \"feature2\": 0.18, \"predict\": true}, {\"feature1\": 0.86, \"feature2\": 0.2, \"predict\": true}, {\"feature1\": 0.86, \"feature2\": 0.22, \"predict\": true}, {\"feature1\": 0.86, \"feature2\": 0.24, \"predict\": true}, {\"feature1\": 0.86, \"feature2\": 0.26, \"predict\": true}, {\"feature1\": 0.86, \"feature2\": 0.28, \"predict\": true}, {\"feature1\": 0.86, \"feature2\": 0.3, \"predict\": true}, {\"feature1\": 0.86, \"feature2\": 0.32, \"predict\": true}, {\"feature1\": 0.86, \"feature2\": 0.34, \"predict\": true}, {\"feature1\": 0.86, \"feature2\": 0.36, \"predict\": true}, {\"feature1\": 0.86, \"feature2\": 0.38, \"predict\": true}, {\"feature1\": 0.86, \"feature2\": 0.4, \"predict\": true}, {\"feature1\": 0.86, \"feature2\": 0.42, \"predict\": true}, {\"feature1\": 0.86, \"feature2\": 0.44, \"predict\": true}, {\"feature1\": 0.86, \"feature2\": 0.46, \"predict\": true}, {\"feature1\": 0.86, \"feature2\": 0.48, \"predict\": true}, {\"feature1\": 0.86, \"feature2\": 0.5, \"predict\": true}, {\"feature1\": 0.86, \"feature2\": 0.52, \"predict\": true}, {\"feature1\": 0.86, \"feature2\": 0.54, \"predict\": true}, {\"feature1\": 0.86, \"feature2\": 0.56, \"predict\": true}, {\"feature1\": 0.86, \"feature2\": 0.58, \"predict\": true}, {\"feature1\": 0.86, \"feature2\": 0.6, \"predict\": true}, {\"feature1\": 0.86, \"feature2\": 0.62, \"predict\": true}, {\"feature1\": 0.86, \"feature2\": 0.64, \"predict\": true}, {\"feature1\": 0.86, \"feature2\": 0.66, \"predict\": true}, {\"feature1\": 0.86, \"feature2\": 0.68, \"predict\": true}, {\"feature1\": 0.86, \"feature2\": 0.7, \"predict\": true}, {\"feature1\": 0.86, \"feature2\": 0.72, \"predict\": true}, {\"feature1\": 0.86, \"feature2\": 0.74, \"predict\": true}, {\"feature1\": 0.86, \"feature2\": 0.76, \"predict\": true}, {\"feature1\": 0.86, \"feature2\": 0.78, \"predict\": true}, {\"feature1\": 0.86, \"feature2\": 0.8, \"predict\": true}, {\"feature1\": 0.86, \"feature2\": 0.82, \"predict\": true}, {\"feature1\": 0.86, \"feature2\": 0.84, \"predict\": true}, {\"feature1\": 0.86, \"feature2\": 0.86, \"predict\": true}, {\"feature1\": 0.86, \"feature2\": 0.88, \"predict\": true}, {\"feature1\": 0.86, \"feature2\": 0.9, \"predict\": true}, {\"feature1\": 0.86, \"feature2\": 0.92, \"predict\": true}, {\"feature1\": 0.86, \"feature2\": 0.94, \"predict\": true}, {\"feature1\": 0.86, \"feature2\": 0.96, \"predict\": true}, {\"feature1\": 0.86, \"feature2\": 0.98, \"predict\": true}, {\"feature1\": 0.88, \"feature2\": 0.0, \"predict\": false}, {\"feature1\": 0.88, \"feature2\": 0.02, \"predict\": false}, {\"feature1\": 0.88, \"feature2\": 0.04, \"predict\": false}, {\"feature1\": 0.88, \"feature2\": 0.06, \"predict\": false}, {\"feature1\": 0.88, \"feature2\": 0.08, \"predict\": false}, {\"feature1\": 0.88, \"feature2\": 0.1, \"predict\": true}, {\"feature1\": 0.88, \"feature2\": 0.12, \"predict\": true}, {\"feature1\": 0.88, \"feature2\": 0.14, \"predict\": true}, {\"feature1\": 0.88, \"feature2\": 0.16, \"predict\": true}, {\"feature1\": 0.88, \"feature2\": 0.18, \"predict\": true}, {\"feature1\": 0.88, \"feature2\": 0.2, \"predict\": true}, {\"feature1\": 0.88, \"feature2\": 0.22, \"predict\": true}, {\"feature1\": 0.88, \"feature2\": 0.24, \"predict\": true}, {\"feature1\": 0.88, \"feature2\": 0.26, \"predict\": true}, {\"feature1\": 0.88, \"feature2\": 0.28, \"predict\": true}, {\"feature1\": 0.88, \"feature2\": 0.3, \"predict\": true}, {\"feature1\": 0.88, \"feature2\": 0.32, \"predict\": true}, {\"feature1\": 0.88, \"feature2\": 0.34, \"predict\": true}, {\"feature1\": 0.88, \"feature2\": 0.36, \"predict\": true}, {\"feature1\": 0.88, \"feature2\": 0.38, \"predict\": true}, {\"feature1\": 0.88, \"feature2\": 0.4, \"predict\": true}, {\"feature1\": 0.88, \"feature2\": 0.42, \"predict\": true}, {\"feature1\": 0.88, \"feature2\": 0.44, \"predict\": true}, {\"feature1\": 0.88, \"feature2\": 0.46, \"predict\": true}, {\"feature1\": 0.88, \"feature2\": 0.48, \"predict\": true}, {\"feature1\": 0.88, \"feature2\": 0.5, \"predict\": true}, {\"feature1\": 0.88, \"feature2\": 0.52, \"predict\": true}, {\"feature1\": 0.88, \"feature2\": 0.54, \"predict\": true}, {\"feature1\": 0.88, \"feature2\": 0.56, \"predict\": true}, {\"feature1\": 0.88, \"feature2\": 0.58, \"predict\": true}, {\"feature1\": 0.88, \"feature2\": 0.6, \"predict\": true}, {\"feature1\": 0.88, \"feature2\": 0.62, \"predict\": true}, {\"feature1\": 0.88, \"feature2\": 0.64, \"predict\": true}, {\"feature1\": 0.88, \"feature2\": 0.66, \"predict\": true}, {\"feature1\": 0.88, \"feature2\": 0.68, \"predict\": true}, {\"feature1\": 0.88, \"feature2\": 0.7, \"predict\": true}, {\"feature1\": 0.88, \"feature2\": 0.72, \"predict\": true}, {\"feature1\": 0.88, \"feature2\": 0.74, \"predict\": true}, {\"feature1\": 0.88, \"feature2\": 0.76, \"predict\": true}, {\"feature1\": 0.88, \"feature2\": 0.78, \"predict\": true}, {\"feature1\": 0.88, \"feature2\": 0.8, \"predict\": true}, {\"feature1\": 0.88, \"feature2\": 0.82, \"predict\": true}, {\"feature1\": 0.88, \"feature2\": 0.84, \"predict\": true}, {\"feature1\": 0.88, \"feature2\": 0.86, \"predict\": true}, {\"feature1\": 0.88, \"feature2\": 0.88, \"predict\": true}, {\"feature1\": 0.88, \"feature2\": 0.9, \"predict\": true}, {\"feature1\": 0.88, \"feature2\": 0.92, \"predict\": true}, {\"feature1\": 0.88, \"feature2\": 0.94, \"predict\": true}, {\"feature1\": 0.88, \"feature2\": 0.96, \"predict\": true}, {\"feature1\": 0.88, \"feature2\": 0.98, \"predict\": true}, {\"feature1\": 0.9, \"feature2\": 0.0, \"predict\": false}, {\"feature1\": 0.9, \"feature2\": 0.02, \"predict\": false}, {\"feature1\": 0.9, \"feature2\": 0.04, \"predict\": false}, {\"feature1\": 0.9, \"feature2\": 0.06, \"predict\": false}, {\"feature1\": 0.9, \"feature2\": 0.08, \"predict\": true}, {\"feature1\": 0.9, \"feature2\": 0.1, \"predict\": true}, {\"feature1\": 0.9, \"feature2\": 0.12, \"predict\": true}, {\"feature1\": 0.9, \"feature2\": 0.14, \"predict\": true}, {\"feature1\": 0.9, \"feature2\": 0.16, \"predict\": true}, {\"feature1\": 0.9, \"feature2\": 0.18, \"predict\": true}, {\"feature1\": 0.9, \"feature2\": 0.2, \"predict\": true}, {\"feature1\": 0.9, \"feature2\": 0.22, \"predict\": true}, {\"feature1\": 0.9, \"feature2\": 0.24, \"predict\": true}, {\"feature1\": 0.9, \"feature2\": 0.26, \"predict\": true}, {\"feature1\": 0.9, \"feature2\": 0.28, \"predict\": true}, {\"feature1\": 0.9, \"feature2\": 0.3, \"predict\": true}, {\"feature1\": 0.9, \"feature2\": 0.32, \"predict\": true}, {\"feature1\": 0.9, \"feature2\": 0.34, \"predict\": true}, {\"feature1\": 0.9, \"feature2\": 0.36, \"predict\": true}, {\"feature1\": 0.9, \"feature2\": 0.38, \"predict\": true}, {\"feature1\": 0.9, \"feature2\": 0.4, \"predict\": true}, {\"feature1\": 0.9, \"feature2\": 0.42, \"predict\": true}, {\"feature1\": 0.9, \"feature2\": 0.44, \"predict\": true}, {\"feature1\": 0.9, \"feature2\": 0.46, \"predict\": true}, {\"feature1\": 0.9, \"feature2\": 0.48, \"predict\": true}, {\"feature1\": 0.9, \"feature2\": 0.5, \"predict\": true}, {\"feature1\": 0.9, \"feature2\": 0.52, \"predict\": true}, {\"feature1\": 0.9, \"feature2\": 0.54, \"predict\": true}, {\"feature1\": 0.9, \"feature2\": 0.56, \"predict\": true}, {\"feature1\": 0.9, \"feature2\": 0.58, \"predict\": true}, {\"feature1\": 0.9, \"feature2\": 0.6, \"predict\": true}, {\"feature1\": 0.9, \"feature2\": 0.62, \"predict\": true}, {\"feature1\": 0.9, \"feature2\": 0.64, \"predict\": true}, {\"feature1\": 0.9, \"feature2\": 0.66, \"predict\": true}, {\"feature1\": 0.9, \"feature2\": 0.68, \"predict\": true}, {\"feature1\": 0.9, \"feature2\": 0.7, \"predict\": true}, {\"feature1\": 0.9, \"feature2\": 0.72, \"predict\": true}, {\"feature1\": 0.9, \"feature2\": 0.74, \"predict\": true}, {\"feature1\": 0.9, \"feature2\": 0.76, \"predict\": true}, {\"feature1\": 0.9, \"feature2\": 0.78, \"predict\": true}, {\"feature1\": 0.9, \"feature2\": 0.8, \"predict\": true}, {\"feature1\": 0.9, \"feature2\": 0.82, \"predict\": true}, {\"feature1\": 0.9, \"feature2\": 0.84, \"predict\": true}, {\"feature1\": 0.9, \"feature2\": 0.86, \"predict\": true}, {\"feature1\": 0.9, \"feature2\": 0.88, \"predict\": true}, {\"feature1\": 0.9, \"feature2\": 0.9, \"predict\": true}, {\"feature1\": 0.9, \"feature2\": 0.92, \"predict\": true}, {\"feature1\": 0.9, \"feature2\": 0.94, \"predict\": true}, {\"feature1\": 0.9, \"feature2\": 0.96, \"predict\": true}, {\"feature1\": 0.9, \"feature2\": 0.98, \"predict\": true}, {\"feature1\": 0.92, \"feature2\": 0.0, \"predict\": false}, {\"feature1\": 0.92, \"feature2\": 0.02, \"predict\": false}, {\"feature1\": 0.92, \"feature2\": 0.04, \"predict\": false}, {\"feature1\": 0.92, \"feature2\": 0.06, \"predict\": true}, {\"feature1\": 0.92, \"feature2\": 0.08, \"predict\": true}, {\"feature1\": 0.92, \"feature2\": 0.1, \"predict\": true}, {\"feature1\": 0.92, \"feature2\": 0.12, \"predict\": true}, {\"feature1\": 0.92, \"feature2\": 0.14, \"predict\": true}, {\"feature1\": 0.92, \"feature2\": 0.16, \"predict\": true}, {\"feature1\": 0.92, \"feature2\": 0.18, \"predict\": true}, {\"feature1\": 0.92, \"feature2\": 0.2, \"predict\": true}, {\"feature1\": 0.92, \"feature2\": 0.22, \"predict\": true}, {\"feature1\": 0.92, \"feature2\": 0.24, \"predict\": true}, {\"feature1\": 0.92, \"feature2\": 0.26, \"predict\": true}, {\"feature1\": 0.92, \"feature2\": 0.28, \"predict\": true}, {\"feature1\": 0.92, \"feature2\": 0.3, \"predict\": true}, {\"feature1\": 0.92, \"feature2\": 0.32, \"predict\": true}, {\"feature1\": 0.92, \"feature2\": 0.34, \"predict\": true}, {\"feature1\": 0.92, \"feature2\": 0.36, \"predict\": true}, {\"feature1\": 0.92, \"feature2\": 0.38, \"predict\": true}, {\"feature1\": 0.92, \"feature2\": 0.4, \"predict\": true}, {\"feature1\": 0.92, \"feature2\": 0.42, \"predict\": true}, {\"feature1\": 0.92, \"feature2\": 0.44, \"predict\": true}, {\"feature1\": 0.92, \"feature2\": 0.46, \"predict\": true}, {\"feature1\": 0.92, \"feature2\": 0.48, \"predict\": true}, {\"feature1\": 0.92, \"feature2\": 0.5, \"predict\": true}, {\"feature1\": 0.92, \"feature2\": 0.52, \"predict\": true}, {\"feature1\": 0.92, \"feature2\": 0.54, \"predict\": true}, {\"feature1\": 0.92, \"feature2\": 0.56, \"predict\": true}, {\"feature1\": 0.92, \"feature2\": 0.58, \"predict\": true}, {\"feature1\": 0.92, \"feature2\": 0.6, \"predict\": true}, {\"feature1\": 0.92, \"feature2\": 0.62, \"predict\": true}, {\"feature1\": 0.92, \"feature2\": 0.64, \"predict\": true}, {\"feature1\": 0.92, \"feature2\": 0.66, \"predict\": true}, {\"feature1\": 0.92, \"feature2\": 0.68, \"predict\": true}, {\"feature1\": 0.92, \"feature2\": 0.7, \"predict\": true}, {\"feature1\": 0.92, \"feature2\": 0.72, \"predict\": true}, {\"feature1\": 0.92, \"feature2\": 0.74, \"predict\": true}, {\"feature1\": 0.92, \"feature2\": 0.76, \"predict\": true}, {\"feature1\": 0.92, \"feature2\": 0.78, \"predict\": true}, {\"feature1\": 0.92, \"feature2\": 0.8, \"predict\": true}, {\"feature1\": 0.92, \"feature2\": 0.82, \"predict\": true}, {\"feature1\": 0.92, \"feature2\": 0.84, \"predict\": true}, {\"feature1\": 0.92, \"feature2\": 0.86, \"predict\": true}, {\"feature1\": 0.92, \"feature2\": 0.88, \"predict\": true}, {\"feature1\": 0.92, \"feature2\": 0.9, \"predict\": true}, {\"feature1\": 0.92, \"feature2\": 0.92, \"predict\": true}, {\"feature1\": 0.92, \"feature2\": 0.94, \"predict\": true}, {\"feature1\": 0.92, \"feature2\": 0.96, \"predict\": true}, {\"feature1\": 0.92, \"feature2\": 0.98, \"predict\": true}, {\"feature1\": 0.94, \"feature2\": 0.0, \"predict\": false}, {\"feature1\": 0.94, \"feature2\": 0.02, \"predict\": false}, {\"feature1\": 0.94, \"feature2\": 0.04, \"predict\": true}, {\"feature1\": 0.94, \"feature2\": 0.06, \"predict\": true}, {\"feature1\": 0.94, \"feature2\": 0.08, \"predict\": true}, {\"feature1\": 0.94, \"feature2\": 0.1, \"predict\": true}, {\"feature1\": 0.94, \"feature2\": 0.12, \"predict\": true}, {\"feature1\": 0.94, \"feature2\": 0.14, \"predict\": true}, {\"feature1\": 0.94, \"feature2\": 0.16, \"predict\": true}, {\"feature1\": 0.94, \"feature2\": 0.18, \"predict\": true}, {\"feature1\": 0.94, \"feature2\": 0.2, \"predict\": true}, {\"feature1\": 0.94, \"feature2\": 0.22, \"predict\": true}, {\"feature1\": 0.94, \"feature2\": 0.24, \"predict\": true}, {\"feature1\": 0.94, \"feature2\": 0.26, \"predict\": true}, {\"feature1\": 0.94, \"feature2\": 0.28, \"predict\": true}, {\"feature1\": 0.94, \"feature2\": 0.3, \"predict\": true}, {\"feature1\": 0.94, \"feature2\": 0.32, \"predict\": true}, {\"feature1\": 0.94, \"feature2\": 0.34, \"predict\": true}, {\"feature1\": 0.94, \"feature2\": 0.36, \"predict\": true}, {\"feature1\": 0.94, \"feature2\": 0.38, \"predict\": true}, {\"feature1\": 0.94, \"feature2\": 0.4, \"predict\": true}, {\"feature1\": 0.94, \"feature2\": 0.42, \"predict\": true}, {\"feature1\": 0.94, \"feature2\": 0.44, \"predict\": true}, {\"feature1\": 0.94, \"feature2\": 0.46, \"predict\": true}, {\"feature1\": 0.94, \"feature2\": 0.48, \"predict\": true}, {\"feature1\": 0.94, \"feature2\": 0.5, \"predict\": true}, {\"feature1\": 0.94, \"feature2\": 0.52, \"predict\": true}, {\"feature1\": 0.94, \"feature2\": 0.54, \"predict\": true}, {\"feature1\": 0.94, \"feature2\": 0.56, \"predict\": true}, {\"feature1\": 0.94, \"feature2\": 0.58, \"predict\": true}, {\"feature1\": 0.94, \"feature2\": 0.6, \"predict\": true}, {\"feature1\": 0.94, \"feature2\": 0.62, \"predict\": true}, {\"feature1\": 0.94, \"feature2\": 0.64, \"predict\": true}, {\"feature1\": 0.94, \"feature2\": 0.66, \"predict\": true}, {\"feature1\": 0.94, \"feature2\": 0.68, \"predict\": true}, {\"feature1\": 0.94, \"feature2\": 0.7, \"predict\": true}, {\"feature1\": 0.94, \"feature2\": 0.72, \"predict\": true}, {\"feature1\": 0.94, \"feature2\": 0.74, \"predict\": true}, {\"feature1\": 0.94, \"feature2\": 0.76, \"predict\": true}, {\"feature1\": 0.94, \"feature2\": 0.78, \"predict\": true}, {\"feature1\": 0.94, \"feature2\": 0.8, \"predict\": true}, {\"feature1\": 0.94, \"feature2\": 0.82, \"predict\": true}, {\"feature1\": 0.94, \"feature2\": 0.84, \"predict\": true}, {\"feature1\": 0.94, \"feature2\": 0.86, \"predict\": true}, {\"feature1\": 0.94, \"feature2\": 0.88, \"predict\": true}, {\"feature1\": 0.94, \"feature2\": 0.9, \"predict\": true}, {\"feature1\": 0.94, \"feature2\": 0.92, \"predict\": true}, {\"feature1\": 0.94, \"feature2\": 0.94, \"predict\": true}, {\"feature1\": 0.94, \"feature2\": 0.96, \"predict\": true}, {\"feature1\": 0.94, \"feature2\": 0.98, \"predict\": true}, {\"feature1\": 0.96, \"feature2\": 0.0, \"predict\": false}, {\"feature1\": 0.96, \"feature2\": 0.02, \"predict\": true}, {\"feature1\": 0.96, \"feature2\": 0.04, \"predict\": true}, {\"feature1\": 0.96, \"feature2\": 0.06, \"predict\": true}, {\"feature1\": 0.96, \"feature2\": 0.08, \"predict\": true}, {\"feature1\": 0.96, \"feature2\": 0.1, \"predict\": true}, {\"feature1\": 0.96, \"feature2\": 0.12, \"predict\": true}, {\"feature1\": 0.96, \"feature2\": 0.14, \"predict\": true}, {\"feature1\": 0.96, \"feature2\": 0.16, \"predict\": true}, {\"feature1\": 0.96, \"feature2\": 0.18, \"predict\": true}, {\"feature1\": 0.96, \"feature2\": 0.2, \"predict\": true}, {\"feature1\": 0.96, \"feature2\": 0.22, \"predict\": true}, {\"feature1\": 0.96, \"feature2\": 0.24, \"predict\": true}, {\"feature1\": 0.96, \"feature2\": 0.26, \"predict\": true}, {\"feature1\": 0.96, \"feature2\": 0.28, \"predict\": true}, {\"feature1\": 0.96, \"feature2\": 0.3, \"predict\": true}, {\"feature1\": 0.96, \"feature2\": 0.32, \"predict\": true}, {\"feature1\": 0.96, \"feature2\": 0.34, \"predict\": true}, {\"feature1\": 0.96, \"feature2\": 0.36, \"predict\": true}, {\"feature1\": 0.96, \"feature2\": 0.38, \"predict\": true}, {\"feature1\": 0.96, \"feature2\": 0.4, \"predict\": true}, {\"feature1\": 0.96, \"feature2\": 0.42, \"predict\": true}, {\"feature1\": 0.96, \"feature2\": 0.44, \"predict\": true}, {\"feature1\": 0.96, \"feature2\": 0.46, \"predict\": true}, {\"feature1\": 0.96, \"feature2\": 0.48, \"predict\": true}, {\"feature1\": 0.96, \"feature2\": 0.5, \"predict\": true}, {\"feature1\": 0.96, \"feature2\": 0.52, \"predict\": true}, {\"feature1\": 0.96, \"feature2\": 0.54, \"predict\": true}, {\"feature1\": 0.96, \"feature2\": 0.56, \"predict\": true}, {\"feature1\": 0.96, \"feature2\": 0.58, \"predict\": true}, {\"feature1\": 0.96, \"feature2\": 0.6, \"predict\": true}, {\"feature1\": 0.96, \"feature2\": 0.62, \"predict\": true}, {\"feature1\": 0.96, \"feature2\": 0.64, \"predict\": true}, {\"feature1\": 0.96, \"feature2\": 0.66, \"predict\": true}, {\"feature1\": 0.96, \"feature2\": 0.68, \"predict\": true}, {\"feature1\": 0.96, \"feature2\": 0.7, \"predict\": true}, {\"feature1\": 0.96, \"feature2\": 0.72, \"predict\": true}, {\"feature1\": 0.96, \"feature2\": 0.74, \"predict\": true}, {\"feature1\": 0.96, \"feature2\": 0.76, \"predict\": true}, {\"feature1\": 0.96, \"feature2\": 0.78, \"predict\": true}, {\"feature1\": 0.96, \"feature2\": 0.8, \"predict\": true}, {\"feature1\": 0.96, \"feature2\": 0.82, \"predict\": true}, {\"feature1\": 0.96, \"feature2\": 0.84, \"predict\": true}, {\"feature1\": 0.96, \"feature2\": 0.86, \"predict\": true}, {\"feature1\": 0.96, \"feature2\": 0.88, \"predict\": true}, {\"feature1\": 0.96, \"feature2\": 0.9, \"predict\": true}, {\"feature1\": 0.96, \"feature2\": 0.92, \"predict\": true}, {\"feature1\": 0.96, \"feature2\": 0.94, \"predict\": true}, {\"feature1\": 0.96, \"feature2\": 0.96, \"predict\": true}, {\"feature1\": 0.96, \"feature2\": 0.98, \"predict\": true}, {\"feature1\": 0.98, \"feature2\": 0.0, \"predict\": true}, {\"feature1\": 0.98, \"feature2\": 0.02, \"predict\": true}, {\"feature1\": 0.98, \"feature2\": 0.04, \"predict\": true}, {\"feature1\": 0.98, \"feature2\": 0.06, \"predict\": true}, {\"feature1\": 0.98, \"feature2\": 0.08, \"predict\": true}, {\"feature1\": 0.98, \"feature2\": 0.1, \"predict\": true}, {\"feature1\": 0.98, \"feature2\": 0.12, \"predict\": true}, {\"feature1\": 0.98, \"feature2\": 0.14, \"predict\": true}, {\"feature1\": 0.98, \"feature2\": 0.16, \"predict\": true}, {\"feature1\": 0.98, \"feature2\": 0.18, \"predict\": true}, {\"feature1\": 0.98, \"feature2\": 0.2, \"predict\": true}, {\"feature1\": 0.98, \"feature2\": 0.22, \"predict\": true}, {\"feature1\": 0.98, \"feature2\": 0.24, \"predict\": true}, {\"feature1\": 0.98, \"feature2\": 0.26, \"predict\": true}, {\"feature1\": 0.98, \"feature2\": 0.28, \"predict\": true}, {\"feature1\": 0.98, \"feature2\": 0.3, \"predict\": true}, {\"feature1\": 0.98, \"feature2\": 0.32, \"predict\": true}, {\"feature1\": 0.98, \"feature2\": 0.34, \"predict\": true}, {\"feature1\": 0.98, \"feature2\": 0.36, \"predict\": true}, {\"feature1\": 0.98, \"feature2\": 0.38, \"predict\": true}, {\"feature1\": 0.98, \"feature2\": 0.4, \"predict\": true}, {\"feature1\": 0.98, \"feature2\": 0.42, \"predict\": true}, {\"feature1\": 0.98, \"feature2\": 0.44, \"predict\": true}, {\"feature1\": 0.98, \"feature2\": 0.46, \"predict\": true}, {\"feature1\": 0.98, \"feature2\": 0.48, \"predict\": true}, {\"feature1\": 0.98, \"feature2\": 0.5, \"predict\": true}, {\"feature1\": 0.98, \"feature2\": 0.52, \"predict\": true}, {\"feature1\": 0.98, \"feature2\": 0.54, \"predict\": true}, {\"feature1\": 0.98, \"feature2\": 0.56, \"predict\": true}, {\"feature1\": 0.98, \"feature2\": 0.58, \"predict\": true}, {\"feature1\": 0.98, \"feature2\": 0.6, \"predict\": true}, {\"feature1\": 0.98, \"feature2\": 0.62, \"predict\": true}, {\"feature1\": 0.98, \"feature2\": 0.64, \"predict\": true}, {\"feature1\": 0.98, \"feature2\": 0.66, \"predict\": true}, {\"feature1\": 0.98, \"feature2\": 0.68, \"predict\": true}, {\"feature1\": 0.98, \"feature2\": 0.7, \"predict\": true}, {\"feature1\": 0.98, \"feature2\": 0.72, \"predict\": true}, {\"feature1\": 0.98, \"feature2\": 0.74, \"predict\": true}, {\"feature1\": 0.98, \"feature2\": 0.76, \"predict\": true}, {\"feature1\": 0.98, \"feature2\": 0.78, \"predict\": true}, {\"feature1\": 0.98, \"feature2\": 0.8, \"predict\": true}, {\"feature1\": 0.98, \"feature2\": 0.82, \"predict\": true}, {\"feature1\": 0.98, \"feature2\": 0.84, \"predict\": true}, {\"feature1\": 0.98, \"feature2\": 0.86, \"predict\": true}, {\"feature1\": 0.98, \"feature2\": 0.88, \"predict\": true}, {\"feature1\": 0.98, \"feature2\": 0.9, \"predict\": true}, {\"feature1\": 0.98, \"feature2\": 0.92, \"predict\": true}, {\"feature1\": 0.98, \"feature2\": 0.94, \"predict\": true}, {\"feature1\": 0.98, \"feature2\": 0.96, \"predict\": true}, {\"feature1\": 0.98, \"feature2\": 0.98, \"predict\": true}]}}, {\"mode\": \"vega-lite\"});\n",
       "</script>"
      ],
      "text/plain": [
       "alt.Chart(...)"
      ]
     },
     "execution_count": 1,
     "metadata": {},
     "output_type": "execute_result"
    }
   ],
   "source": [
    "chart = (alt.Chart(all_df)\n",
    "    .mark_point()\n",
    "    .encode(\n",
    "        x = \"feature1\",\n",
    "        y = \"feature2\",\n",
    "        color=\"predict\",\n",
    "        fill = \"predict\",\n",
    "    ))\n",
    "chart"
   ]
  },
  {
   "cell_type": "markdown",
   "id": "a8a187e1",
   "metadata": {},
   "source": [
    "This makes sense. "
   ]
  },
  {
   "cell_type": "code",
   "execution_count": 38,
   "id": "c5340e41",
   "metadata": {
    "execution": {
     "iopub.execute_input": "2021-06-10T17:51:34.080651Z",
     "iopub.status.busy": "2021-06-10T17:51:34.080371Z",
     "iopub.status.idle": "2021-06-10T17:51:34.109706Z",
     "shell.execute_reply": "2021-06-10T17:51:34.110421Z"
    },
    "lines_to_next_cell": 2
   },
   "outputs": [
    {
     "data": {
      "text/html": [
       "\n",
       "<div id=\"altair-viz-a2066512b9af469883bc2522aa075b45\"></div>\n",
       "<script type=\"text/javascript\">\n",
       "  (function(spec, embedOpt){\n",
       "    let outputDiv = document.currentScript.previousElementSibling;\n",
       "    if (outputDiv.id !== \"altair-viz-a2066512b9af469883bc2522aa075b45\") {\n",
       "      outputDiv = document.getElementById(\"altair-viz-a2066512b9af469883bc2522aa075b45\");\n",
       "    }\n",
       "    const paths = {\n",
       "      \"vega\": \"https://cdn.jsdelivr.net/npm//vega@5?noext\",\n",
       "      \"vega-lib\": \"https://cdn.jsdelivr.net/npm//vega-lib?noext\",\n",
       "      \"vega-lite\": \"https://cdn.jsdelivr.net/npm//vega-lite@4.8.1?noext\",\n",
       "      \"vega-embed\": \"https://cdn.jsdelivr.net/npm//vega-embed@6?noext\",\n",
       "    };\n",
       "\n",
       "    function loadScript(lib) {\n",
       "      return new Promise(function(resolve, reject) {\n",
       "        var s = document.createElement('script');\n",
       "        s.src = paths[lib];\n",
       "        s.async = true;\n",
       "        s.onload = () => resolve(paths[lib]);\n",
       "        s.onerror = () => reject(`Error loading script: ${paths[lib]}`);\n",
       "        document.getElementsByTagName(\"head\")[0].appendChild(s);\n",
       "      });\n",
       "    }\n",
       "\n",
       "    function showError(err) {\n",
       "      outputDiv.innerHTML = `<div class=\"error\" style=\"color:red;\">${err}</div>`;\n",
       "      throw err;\n",
       "    }\n",
       "\n",
       "    function displayChart(vegaEmbed) {\n",
       "      vegaEmbed(outputDiv, spec, embedOpt)\n",
       "        .catch(err => showError(`Javascript Error: ${err.message}<br>This usually means there's a typo in your chart specification. See the javascript console for the full traceback.`));\n",
       "    }\n",
       "\n",
       "    if(typeof define === \"function\" && define.amd) {\n",
       "      requirejs.config({paths});\n",
       "      require([\"vega-embed\"], displayChart, err => showError(`Error loading script: ${err.message}`));\n",
       "    } else if (typeof vegaEmbed === \"function\") {\n",
       "      displayChart(vegaEmbed);\n",
       "    } else {\n",
       "      loadScript(\"vega\")\n",
       "        .then(() => loadScript(\"vega-lite\"))\n",
       "        .then(() => loadScript(\"vega-embed\"))\n",
       "        .catch(showError)\n",
       "        .then(() => displayChart(vegaEmbed));\n",
       "    }\n",
       "  })({\"config\": {\"view\": {\"continuousWidth\": 400, \"continuousHeight\": 300}}, \"layer\": [{\"data\": {\"name\": \"data-0aa54f3368aec96e35093579d1d857b8\"}, \"mark\": \"point\", \"encoding\": {\"color\": {\"type\": \"nominal\", \"field\": \"predict\"}, \"fill\": {\"type\": \"nominal\", \"field\": \"predict\"}, \"x\": {\"type\": \"quantitative\", \"field\": \"feature1\"}, \"y\": {\"type\": \"quantitative\", \"field\": \"feature2\"}}}, {\"data\": {\"name\": \"data-72ee4f57b4903a7fcad1bf46319d0ca2\"}, \"mark\": {\"type\": \"point\", \"color\": \"black\"}, \"encoding\": {\"x\": {\"type\": \"quantitative\", \"field\": \"feature1\"}, \"y\": {\"type\": \"quantitative\", \"field\": \"feature2\"}}}], \"$schema\": \"https://vega.github.io/schema/vega-lite/v4.8.1.json\", \"datasets\": {\"data-0aa54f3368aec96e35093579d1d857b8\": [{\"feature1\": 0.0, \"feature2\": 0.0, \"predict\": false}, {\"feature1\": 0.0, \"feature2\": 0.02, \"predict\": false}, {\"feature1\": 0.0, \"feature2\": 0.04, \"predict\": false}, {\"feature1\": 0.0, \"feature2\": 0.06, \"predict\": false}, {\"feature1\": 0.0, \"feature2\": 0.08, \"predict\": false}, {\"feature1\": 0.0, \"feature2\": 0.1, \"predict\": false}, {\"feature1\": 0.0, \"feature2\": 0.12, \"predict\": false}, {\"feature1\": 0.0, \"feature2\": 0.14, \"predict\": false}, {\"feature1\": 0.0, \"feature2\": 0.16, \"predict\": false}, {\"feature1\": 0.0, \"feature2\": 0.18, \"predict\": false}, {\"feature1\": 0.0, \"feature2\": 0.2, \"predict\": false}, {\"feature1\": 0.0, \"feature2\": 0.22, \"predict\": false}, {\"feature1\": 0.0, \"feature2\": 0.24, \"predict\": false}, {\"feature1\": 0.0, \"feature2\": 0.26, \"predict\": false}, {\"feature1\": 0.0, \"feature2\": 0.28, \"predict\": false}, {\"feature1\": 0.0, \"feature2\": 0.3, \"predict\": false}, {\"feature1\": 0.0, \"feature2\": 0.32, \"predict\": false}, {\"feature1\": 0.0, \"feature2\": 0.34, \"predict\": false}, {\"feature1\": 0.0, \"feature2\": 0.36, \"predict\": false}, {\"feature1\": 0.0, \"feature2\": 0.38, \"predict\": false}, {\"feature1\": 0.0, \"feature2\": 0.4, \"predict\": false}, {\"feature1\": 0.0, \"feature2\": 0.42, \"predict\": false}, {\"feature1\": 0.0, \"feature2\": 0.44, \"predict\": false}, {\"feature1\": 0.0, \"feature2\": 0.46, \"predict\": false}, {\"feature1\": 0.0, \"feature2\": 0.48, \"predict\": false}, {\"feature1\": 0.0, \"feature2\": 0.5, \"predict\": false}, {\"feature1\": 0.0, \"feature2\": 0.52, \"predict\": false}, {\"feature1\": 0.0, \"feature2\": 0.54, \"predict\": false}, {\"feature1\": 0.0, \"feature2\": 0.56, \"predict\": false}, {\"feature1\": 0.0, \"feature2\": 0.58, \"predict\": false}, {\"feature1\": 0.0, \"feature2\": 0.6, \"predict\": false}, {\"feature1\": 0.0, \"feature2\": 0.62, \"predict\": false}, {\"feature1\": 0.0, \"feature2\": 0.64, \"predict\": false}, {\"feature1\": 0.0, \"feature2\": 0.66, \"predict\": false}, {\"feature1\": 0.0, \"feature2\": 0.68, \"predict\": false}, {\"feature1\": 0.0, \"feature2\": 0.7, \"predict\": false}, {\"feature1\": 0.0, \"feature2\": 0.72, \"predict\": false}, {\"feature1\": 0.0, \"feature2\": 0.74, \"predict\": false}, {\"feature1\": 0.0, \"feature2\": 0.76, \"predict\": false}, {\"feature1\": 0.0, \"feature2\": 0.78, \"predict\": false}, {\"feature1\": 0.0, \"feature2\": 0.8, \"predict\": false}, {\"feature1\": 0.0, \"feature2\": 0.82, \"predict\": false}, {\"feature1\": 0.0, \"feature2\": 0.84, \"predict\": false}, {\"feature1\": 0.0, \"feature2\": 0.86, \"predict\": false}, {\"feature1\": 0.0, \"feature2\": 0.88, \"predict\": false}, {\"feature1\": 0.0, \"feature2\": 0.9, \"predict\": false}, {\"feature1\": 0.0, \"feature2\": 0.92, \"predict\": false}, {\"feature1\": 0.0, \"feature2\": 0.94, \"predict\": true}, {\"feature1\": 0.0, \"feature2\": 0.96, \"predict\": true}, {\"feature1\": 0.0, \"feature2\": 0.98, \"predict\": true}, {\"feature1\": 0.02, \"feature2\": 0.0, \"predict\": false}, {\"feature1\": 0.02, \"feature2\": 0.02, \"predict\": false}, {\"feature1\": 0.02, \"feature2\": 0.04, \"predict\": false}, {\"feature1\": 0.02, \"feature2\": 0.06, \"predict\": false}, {\"feature1\": 0.02, \"feature2\": 0.08, \"predict\": false}, {\"feature1\": 0.02, \"feature2\": 0.1, \"predict\": false}, {\"feature1\": 0.02, \"feature2\": 0.12, \"predict\": false}, {\"feature1\": 0.02, \"feature2\": 0.14, \"predict\": false}, {\"feature1\": 0.02, \"feature2\": 0.16, \"predict\": false}, {\"feature1\": 0.02, \"feature2\": 0.18, \"predict\": false}, {\"feature1\": 0.02, \"feature2\": 0.2, \"predict\": false}, {\"feature1\": 0.02, \"feature2\": 0.22, \"predict\": false}, {\"feature1\": 0.02, \"feature2\": 0.24, \"predict\": false}, {\"feature1\": 0.02, \"feature2\": 0.26, \"predict\": false}, {\"feature1\": 0.02, \"feature2\": 0.28, \"predict\": false}, {\"feature1\": 0.02, \"feature2\": 0.3, \"predict\": false}, {\"feature1\": 0.02, \"feature2\": 0.32, \"predict\": false}, {\"feature1\": 0.02, \"feature2\": 0.34, \"predict\": false}, {\"feature1\": 0.02, \"feature2\": 0.36, \"predict\": false}, {\"feature1\": 0.02, \"feature2\": 0.38, \"predict\": false}, {\"feature1\": 0.02, \"feature2\": 0.4, \"predict\": false}, {\"feature1\": 0.02, \"feature2\": 0.42, \"predict\": false}, {\"feature1\": 0.02, \"feature2\": 0.44, \"predict\": false}, {\"feature1\": 0.02, \"feature2\": 0.46, \"predict\": false}, {\"feature1\": 0.02, \"feature2\": 0.48, \"predict\": false}, {\"feature1\": 0.02, \"feature2\": 0.5, \"predict\": false}, {\"feature1\": 0.02, \"feature2\": 0.52, \"predict\": false}, {\"feature1\": 0.02, \"feature2\": 0.54, \"predict\": false}, {\"feature1\": 0.02, \"feature2\": 0.56, \"predict\": false}, {\"feature1\": 0.02, \"feature2\": 0.58, \"predict\": false}, {\"feature1\": 0.02, \"feature2\": 0.6, \"predict\": false}, {\"feature1\": 0.02, \"feature2\": 0.62, \"predict\": false}, {\"feature1\": 0.02, \"feature2\": 0.64, \"predict\": false}, {\"feature1\": 0.02, \"feature2\": 0.66, \"predict\": false}, {\"feature1\": 0.02, \"feature2\": 0.68, \"predict\": false}, {\"feature1\": 0.02, \"feature2\": 0.7, \"predict\": false}, {\"feature1\": 0.02, \"feature2\": 0.72, \"predict\": false}, {\"feature1\": 0.02, \"feature2\": 0.74, \"predict\": false}, {\"feature1\": 0.02, \"feature2\": 0.76, \"predict\": false}, {\"feature1\": 0.02, \"feature2\": 0.78, \"predict\": false}, {\"feature1\": 0.02, \"feature2\": 0.8, \"predict\": false}, {\"feature1\": 0.02, \"feature2\": 0.82, \"predict\": false}, {\"feature1\": 0.02, \"feature2\": 0.84, \"predict\": false}, {\"feature1\": 0.02, \"feature2\": 0.86, \"predict\": false}, {\"feature1\": 0.02, \"feature2\": 0.88, \"predict\": false}, {\"feature1\": 0.02, \"feature2\": 0.9, \"predict\": false}, {\"feature1\": 0.02, \"feature2\": 0.92, \"predict\": true}, {\"feature1\": 0.02, \"feature2\": 0.94, \"predict\": true}, {\"feature1\": 0.02, \"feature2\": 0.96, \"predict\": true}, {\"feature1\": 0.02, \"feature2\": 0.98, \"predict\": true}, {\"feature1\": 0.04, \"feature2\": 0.0, \"predict\": false}, {\"feature1\": 0.04, \"feature2\": 0.02, \"predict\": false}, {\"feature1\": 0.04, \"feature2\": 0.04, \"predict\": false}, {\"feature1\": 0.04, \"feature2\": 0.06, \"predict\": false}, {\"feature1\": 0.04, \"feature2\": 0.08, \"predict\": false}, {\"feature1\": 0.04, \"feature2\": 0.1, \"predict\": false}, {\"feature1\": 0.04, \"feature2\": 0.12, \"predict\": false}, {\"feature1\": 0.04, \"feature2\": 0.14, \"predict\": false}, {\"feature1\": 0.04, \"feature2\": 0.16, \"predict\": false}, {\"feature1\": 0.04, \"feature2\": 0.18, \"predict\": false}, {\"feature1\": 0.04, \"feature2\": 0.2, \"predict\": false}, {\"feature1\": 0.04, \"feature2\": 0.22, \"predict\": false}, {\"feature1\": 0.04, \"feature2\": 0.24, \"predict\": false}, {\"feature1\": 0.04, \"feature2\": 0.26, \"predict\": false}, {\"feature1\": 0.04, \"feature2\": 0.28, \"predict\": false}, {\"feature1\": 0.04, \"feature2\": 0.3, \"predict\": false}, {\"feature1\": 0.04, \"feature2\": 0.32, \"predict\": false}, {\"feature1\": 0.04, \"feature2\": 0.34, \"predict\": false}, {\"feature1\": 0.04, \"feature2\": 0.36, \"predict\": false}, {\"feature1\": 0.04, \"feature2\": 0.38, \"predict\": false}, {\"feature1\": 0.04, \"feature2\": 0.4, \"predict\": false}, {\"feature1\": 0.04, \"feature2\": 0.42, \"predict\": false}, {\"feature1\": 0.04, \"feature2\": 0.44, \"predict\": false}, {\"feature1\": 0.04, \"feature2\": 0.46, \"predict\": false}, {\"feature1\": 0.04, \"feature2\": 0.48, \"predict\": false}, {\"feature1\": 0.04, \"feature2\": 0.5, \"predict\": false}, {\"feature1\": 0.04, \"feature2\": 0.52, \"predict\": false}, {\"feature1\": 0.04, \"feature2\": 0.54, \"predict\": false}, {\"feature1\": 0.04, \"feature2\": 0.56, \"predict\": false}, {\"feature1\": 0.04, \"feature2\": 0.58, \"predict\": false}, {\"feature1\": 0.04, \"feature2\": 0.6, \"predict\": false}, {\"feature1\": 0.04, \"feature2\": 0.62, \"predict\": false}, {\"feature1\": 0.04, \"feature2\": 0.64, \"predict\": false}, {\"feature1\": 0.04, \"feature2\": 0.66, \"predict\": false}, {\"feature1\": 0.04, \"feature2\": 0.68, \"predict\": false}, {\"feature1\": 0.04, \"feature2\": 0.7, \"predict\": false}, {\"feature1\": 0.04, \"feature2\": 0.72, \"predict\": false}, {\"feature1\": 0.04, \"feature2\": 0.74, \"predict\": false}, {\"feature1\": 0.04, \"feature2\": 0.76, \"predict\": false}, {\"feature1\": 0.04, \"feature2\": 0.78, \"predict\": false}, {\"feature1\": 0.04, \"feature2\": 0.8, \"predict\": false}, {\"feature1\": 0.04, \"feature2\": 0.82, \"predict\": false}, {\"feature1\": 0.04, \"feature2\": 0.84, \"predict\": false}, {\"feature1\": 0.04, \"feature2\": 0.86, \"predict\": false}, {\"feature1\": 0.04, \"feature2\": 0.88, \"predict\": false}, {\"feature1\": 0.04, \"feature2\": 0.9, \"predict\": true}, {\"feature1\": 0.04, \"feature2\": 0.92, \"predict\": true}, {\"feature1\": 0.04, \"feature2\": 0.94, \"predict\": true}, {\"feature1\": 0.04, \"feature2\": 0.96, \"predict\": true}, {\"feature1\": 0.04, \"feature2\": 0.98, \"predict\": true}, {\"feature1\": 0.06, \"feature2\": 0.0, \"predict\": false}, {\"feature1\": 0.06, \"feature2\": 0.02, \"predict\": false}, {\"feature1\": 0.06, \"feature2\": 0.04, \"predict\": false}, {\"feature1\": 0.06, \"feature2\": 0.06, \"predict\": false}, {\"feature1\": 0.06, \"feature2\": 0.08, \"predict\": false}, {\"feature1\": 0.06, \"feature2\": 0.1, \"predict\": false}, {\"feature1\": 0.06, \"feature2\": 0.12, \"predict\": false}, {\"feature1\": 0.06, \"feature2\": 0.14, \"predict\": false}, {\"feature1\": 0.06, \"feature2\": 0.16, \"predict\": false}, {\"feature1\": 0.06, \"feature2\": 0.18, \"predict\": false}, {\"feature1\": 0.06, \"feature2\": 0.2, \"predict\": false}, {\"feature1\": 0.06, \"feature2\": 0.22, \"predict\": false}, {\"feature1\": 0.06, \"feature2\": 0.24, \"predict\": false}, {\"feature1\": 0.06, \"feature2\": 0.26, \"predict\": false}, {\"feature1\": 0.06, \"feature2\": 0.28, \"predict\": false}, {\"feature1\": 0.06, \"feature2\": 0.3, \"predict\": false}, {\"feature1\": 0.06, \"feature2\": 0.32, \"predict\": false}, {\"feature1\": 0.06, \"feature2\": 0.34, \"predict\": false}, {\"feature1\": 0.06, \"feature2\": 0.36, \"predict\": false}, {\"feature1\": 0.06, \"feature2\": 0.38, \"predict\": false}, {\"feature1\": 0.06, \"feature2\": 0.4, \"predict\": false}, {\"feature1\": 0.06, \"feature2\": 0.42, \"predict\": false}, {\"feature1\": 0.06, \"feature2\": 0.44, \"predict\": false}, {\"feature1\": 0.06, \"feature2\": 0.46, \"predict\": false}, {\"feature1\": 0.06, \"feature2\": 0.48, \"predict\": false}, {\"feature1\": 0.06, \"feature2\": 0.5, \"predict\": false}, {\"feature1\": 0.06, \"feature2\": 0.52, \"predict\": false}, {\"feature1\": 0.06, \"feature2\": 0.54, \"predict\": false}, {\"feature1\": 0.06, \"feature2\": 0.56, \"predict\": false}, {\"feature1\": 0.06, \"feature2\": 0.58, \"predict\": false}, {\"feature1\": 0.06, \"feature2\": 0.6, \"predict\": false}, {\"feature1\": 0.06, \"feature2\": 0.62, \"predict\": false}, {\"feature1\": 0.06, \"feature2\": 0.64, \"predict\": false}, {\"feature1\": 0.06, \"feature2\": 0.66, \"predict\": false}, {\"feature1\": 0.06, \"feature2\": 0.68, \"predict\": false}, {\"feature1\": 0.06, \"feature2\": 0.7, \"predict\": false}, {\"feature1\": 0.06, \"feature2\": 0.72, \"predict\": false}, {\"feature1\": 0.06, \"feature2\": 0.74, \"predict\": false}, {\"feature1\": 0.06, \"feature2\": 0.76, \"predict\": false}, {\"feature1\": 0.06, \"feature2\": 0.78, \"predict\": false}, {\"feature1\": 0.06, \"feature2\": 0.8, \"predict\": false}, {\"feature1\": 0.06, \"feature2\": 0.82, \"predict\": false}, {\"feature1\": 0.06, \"feature2\": 0.84, \"predict\": false}, {\"feature1\": 0.06, \"feature2\": 0.86, \"predict\": false}, {\"feature1\": 0.06, \"feature2\": 0.88, \"predict\": true}, {\"feature1\": 0.06, \"feature2\": 0.9, \"predict\": true}, {\"feature1\": 0.06, \"feature2\": 0.92, \"predict\": true}, {\"feature1\": 0.06, \"feature2\": 0.94, \"predict\": true}, {\"feature1\": 0.06, \"feature2\": 0.96, \"predict\": true}, {\"feature1\": 0.06, \"feature2\": 0.98, \"predict\": true}, {\"feature1\": 0.08, \"feature2\": 0.0, \"predict\": false}, {\"feature1\": 0.08, \"feature2\": 0.02, \"predict\": false}, {\"feature1\": 0.08, \"feature2\": 0.04, \"predict\": false}, {\"feature1\": 0.08, \"feature2\": 0.06, \"predict\": false}, {\"feature1\": 0.08, \"feature2\": 0.08, \"predict\": false}, {\"feature1\": 0.08, \"feature2\": 0.1, \"predict\": false}, {\"feature1\": 0.08, \"feature2\": 0.12, \"predict\": false}, {\"feature1\": 0.08, \"feature2\": 0.14, \"predict\": false}, {\"feature1\": 0.08, \"feature2\": 0.16, \"predict\": false}, {\"feature1\": 0.08, \"feature2\": 0.18, \"predict\": false}, {\"feature1\": 0.08, \"feature2\": 0.2, \"predict\": false}, {\"feature1\": 0.08, \"feature2\": 0.22, \"predict\": false}, {\"feature1\": 0.08, \"feature2\": 0.24, \"predict\": false}, {\"feature1\": 0.08, \"feature2\": 0.26, \"predict\": false}, {\"feature1\": 0.08, \"feature2\": 0.28, \"predict\": false}, {\"feature1\": 0.08, \"feature2\": 0.3, \"predict\": false}, {\"feature1\": 0.08, \"feature2\": 0.32, \"predict\": false}, {\"feature1\": 0.08, \"feature2\": 0.34, \"predict\": false}, {\"feature1\": 0.08, \"feature2\": 0.36, \"predict\": false}, {\"feature1\": 0.08, \"feature2\": 0.38, \"predict\": false}, {\"feature1\": 0.08, \"feature2\": 0.4, \"predict\": false}, {\"feature1\": 0.08, \"feature2\": 0.42, \"predict\": false}, {\"feature1\": 0.08, \"feature2\": 0.44, \"predict\": false}, {\"feature1\": 0.08, \"feature2\": 0.46, \"predict\": false}, {\"feature1\": 0.08, \"feature2\": 0.48, \"predict\": false}, {\"feature1\": 0.08, \"feature2\": 0.5, \"predict\": false}, {\"feature1\": 0.08, \"feature2\": 0.52, \"predict\": false}, {\"feature1\": 0.08, \"feature2\": 0.54, \"predict\": false}, {\"feature1\": 0.08, \"feature2\": 0.56, \"predict\": false}, {\"feature1\": 0.08, \"feature2\": 0.58, \"predict\": false}, {\"feature1\": 0.08, \"feature2\": 0.6, \"predict\": false}, {\"feature1\": 0.08, \"feature2\": 0.62, \"predict\": false}, {\"feature1\": 0.08, \"feature2\": 0.64, \"predict\": false}, {\"feature1\": 0.08, \"feature2\": 0.66, \"predict\": false}, {\"feature1\": 0.08, \"feature2\": 0.68, \"predict\": false}, {\"feature1\": 0.08, \"feature2\": 0.7, \"predict\": false}, {\"feature1\": 0.08, \"feature2\": 0.72, \"predict\": false}, {\"feature1\": 0.08, \"feature2\": 0.74, \"predict\": false}, {\"feature1\": 0.08, \"feature2\": 0.76, \"predict\": false}, {\"feature1\": 0.08, \"feature2\": 0.78, \"predict\": false}, {\"feature1\": 0.08, \"feature2\": 0.8, \"predict\": false}, {\"feature1\": 0.08, \"feature2\": 0.82, \"predict\": false}, {\"feature1\": 0.08, \"feature2\": 0.84, \"predict\": false}, {\"feature1\": 0.08, \"feature2\": 0.86, \"predict\": true}, {\"feature1\": 0.08, \"feature2\": 0.88, \"predict\": true}, {\"feature1\": 0.08, \"feature2\": 0.9, \"predict\": true}, {\"feature1\": 0.08, \"feature2\": 0.92, \"predict\": true}, {\"feature1\": 0.08, \"feature2\": 0.94, \"predict\": true}, {\"feature1\": 0.08, \"feature2\": 0.96, \"predict\": true}, {\"feature1\": 0.08, \"feature2\": 0.98, \"predict\": true}, {\"feature1\": 0.1, \"feature2\": 0.0, \"predict\": false}, {\"feature1\": 0.1, \"feature2\": 0.02, \"predict\": false}, {\"feature1\": 0.1, \"feature2\": 0.04, \"predict\": false}, {\"feature1\": 0.1, \"feature2\": 0.06, \"predict\": false}, {\"feature1\": 0.1, \"feature2\": 0.08, \"predict\": false}, {\"feature1\": 0.1, \"feature2\": 0.1, \"predict\": false}, {\"feature1\": 0.1, \"feature2\": 0.12, \"predict\": false}, {\"feature1\": 0.1, \"feature2\": 0.14, \"predict\": false}, {\"feature1\": 0.1, \"feature2\": 0.16, \"predict\": false}, {\"feature1\": 0.1, \"feature2\": 0.18, \"predict\": false}, {\"feature1\": 0.1, \"feature2\": 0.2, \"predict\": false}, {\"feature1\": 0.1, \"feature2\": 0.22, \"predict\": false}, {\"feature1\": 0.1, \"feature2\": 0.24, \"predict\": false}, {\"feature1\": 0.1, \"feature2\": 0.26, \"predict\": false}, {\"feature1\": 0.1, \"feature2\": 0.28, \"predict\": false}, {\"feature1\": 0.1, \"feature2\": 0.3, \"predict\": false}, {\"feature1\": 0.1, \"feature2\": 0.32, \"predict\": false}, {\"feature1\": 0.1, \"feature2\": 0.34, \"predict\": false}, {\"feature1\": 0.1, \"feature2\": 0.36, \"predict\": false}, {\"feature1\": 0.1, \"feature2\": 0.38, \"predict\": false}, {\"feature1\": 0.1, \"feature2\": 0.4, \"predict\": false}, {\"feature1\": 0.1, \"feature2\": 0.42, \"predict\": false}, {\"feature1\": 0.1, \"feature2\": 0.44, \"predict\": false}, {\"feature1\": 0.1, \"feature2\": 0.46, \"predict\": false}, {\"feature1\": 0.1, \"feature2\": 0.48, \"predict\": false}, {\"feature1\": 0.1, \"feature2\": 0.5, \"predict\": false}, {\"feature1\": 0.1, \"feature2\": 0.52, \"predict\": false}, {\"feature1\": 0.1, \"feature2\": 0.54, \"predict\": false}, {\"feature1\": 0.1, \"feature2\": 0.56, \"predict\": false}, {\"feature1\": 0.1, \"feature2\": 0.58, \"predict\": false}, {\"feature1\": 0.1, \"feature2\": 0.6, \"predict\": false}, {\"feature1\": 0.1, \"feature2\": 0.62, \"predict\": false}, {\"feature1\": 0.1, \"feature2\": 0.64, \"predict\": false}, {\"feature1\": 0.1, \"feature2\": 0.66, \"predict\": false}, {\"feature1\": 0.1, \"feature2\": 0.68, \"predict\": false}, {\"feature1\": 0.1, \"feature2\": 0.7, \"predict\": false}, {\"feature1\": 0.1, \"feature2\": 0.72, \"predict\": false}, {\"feature1\": 0.1, \"feature2\": 0.74, \"predict\": false}, {\"feature1\": 0.1, \"feature2\": 0.76, \"predict\": false}, {\"feature1\": 0.1, \"feature2\": 0.78, \"predict\": false}, {\"feature1\": 0.1, \"feature2\": 0.8, \"predict\": false}, {\"feature1\": 0.1, \"feature2\": 0.82, \"predict\": false}, {\"feature1\": 0.1, \"feature2\": 0.84, \"predict\": true}, {\"feature1\": 0.1, \"feature2\": 0.86, \"predict\": true}, {\"feature1\": 0.1, \"feature2\": 0.88, \"predict\": true}, {\"feature1\": 0.1, \"feature2\": 0.9, \"predict\": true}, {\"feature1\": 0.1, \"feature2\": 0.92, \"predict\": true}, {\"feature1\": 0.1, \"feature2\": 0.94, \"predict\": true}, {\"feature1\": 0.1, \"feature2\": 0.96, \"predict\": true}, {\"feature1\": 0.1, \"feature2\": 0.98, \"predict\": true}, {\"feature1\": 0.12, \"feature2\": 0.0, \"predict\": false}, {\"feature1\": 0.12, \"feature2\": 0.02, \"predict\": false}, {\"feature1\": 0.12, \"feature2\": 0.04, \"predict\": false}, {\"feature1\": 0.12, \"feature2\": 0.06, \"predict\": false}, {\"feature1\": 0.12, \"feature2\": 0.08, \"predict\": false}, {\"feature1\": 0.12, \"feature2\": 0.1, \"predict\": false}, {\"feature1\": 0.12, \"feature2\": 0.12, \"predict\": false}, {\"feature1\": 0.12, \"feature2\": 0.14, \"predict\": false}, {\"feature1\": 0.12, \"feature2\": 0.16, \"predict\": false}, {\"feature1\": 0.12, \"feature2\": 0.18, \"predict\": false}, {\"feature1\": 0.12, \"feature2\": 0.2, \"predict\": false}, {\"feature1\": 0.12, \"feature2\": 0.22, \"predict\": false}, {\"feature1\": 0.12, \"feature2\": 0.24, \"predict\": false}, {\"feature1\": 0.12, \"feature2\": 0.26, \"predict\": false}, {\"feature1\": 0.12, \"feature2\": 0.28, \"predict\": false}, {\"feature1\": 0.12, \"feature2\": 0.3, \"predict\": false}, {\"feature1\": 0.12, \"feature2\": 0.32, \"predict\": false}, {\"feature1\": 0.12, \"feature2\": 0.34, \"predict\": false}, {\"feature1\": 0.12, \"feature2\": 0.36, \"predict\": false}, {\"feature1\": 0.12, \"feature2\": 0.38, \"predict\": false}, {\"feature1\": 0.12, \"feature2\": 0.4, \"predict\": false}, {\"feature1\": 0.12, \"feature2\": 0.42, \"predict\": false}, {\"feature1\": 0.12, \"feature2\": 0.44, \"predict\": false}, {\"feature1\": 0.12, \"feature2\": 0.46, \"predict\": false}, {\"feature1\": 0.12, \"feature2\": 0.48, \"predict\": false}, {\"feature1\": 0.12, \"feature2\": 0.5, \"predict\": false}, {\"feature1\": 0.12, \"feature2\": 0.52, \"predict\": false}, {\"feature1\": 0.12, \"feature2\": 0.54, \"predict\": false}, {\"feature1\": 0.12, \"feature2\": 0.56, \"predict\": false}, {\"feature1\": 0.12, \"feature2\": 0.58, \"predict\": false}, {\"feature1\": 0.12, \"feature2\": 0.6, \"predict\": false}, {\"feature1\": 0.12, \"feature2\": 0.62, \"predict\": false}, {\"feature1\": 0.12, \"feature2\": 0.64, \"predict\": false}, {\"feature1\": 0.12, \"feature2\": 0.66, \"predict\": false}, {\"feature1\": 0.12, \"feature2\": 0.68, \"predict\": false}, {\"feature1\": 0.12, \"feature2\": 0.7, \"predict\": false}, {\"feature1\": 0.12, \"feature2\": 0.72, \"predict\": false}, {\"feature1\": 0.12, \"feature2\": 0.74, \"predict\": false}, {\"feature1\": 0.12, \"feature2\": 0.76, \"predict\": false}, {\"feature1\": 0.12, \"feature2\": 0.78, \"predict\": false}, {\"feature1\": 0.12, \"feature2\": 0.8, \"predict\": false}, {\"feature1\": 0.12, \"feature2\": 0.82, \"predict\": true}, {\"feature1\": 0.12, \"feature2\": 0.84, \"predict\": true}, {\"feature1\": 0.12, \"feature2\": 0.86, \"predict\": true}, {\"feature1\": 0.12, \"feature2\": 0.88, \"predict\": true}, {\"feature1\": 0.12, \"feature2\": 0.9, \"predict\": true}, {\"feature1\": 0.12, \"feature2\": 0.92, \"predict\": true}, {\"feature1\": 0.12, \"feature2\": 0.94, \"predict\": true}, {\"feature1\": 0.12, \"feature2\": 0.96, \"predict\": true}, {\"feature1\": 0.12, \"feature2\": 0.98, \"predict\": true}, {\"feature1\": 0.14, \"feature2\": 0.0, \"predict\": false}, {\"feature1\": 0.14, \"feature2\": 0.02, \"predict\": false}, {\"feature1\": 0.14, \"feature2\": 0.04, \"predict\": false}, {\"feature1\": 0.14, \"feature2\": 0.06, \"predict\": false}, {\"feature1\": 0.14, \"feature2\": 0.08, \"predict\": false}, {\"feature1\": 0.14, \"feature2\": 0.1, \"predict\": false}, {\"feature1\": 0.14, \"feature2\": 0.12, \"predict\": false}, {\"feature1\": 0.14, \"feature2\": 0.14, \"predict\": false}, {\"feature1\": 0.14, \"feature2\": 0.16, \"predict\": false}, {\"feature1\": 0.14, \"feature2\": 0.18, \"predict\": false}, {\"feature1\": 0.14, \"feature2\": 0.2, \"predict\": false}, {\"feature1\": 0.14, \"feature2\": 0.22, \"predict\": false}, {\"feature1\": 0.14, \"feature2\": 0.24, \"predict\": false}, {\"feature1\": 0.14, \"feature2\": 0.26, \"predict\": false}, {\"feature1\": 0.14, \"feature2\": 0.28, \"predict\": false}, {\"feature1\": 0.14, \"feature2\": 0.3, \"predict\": false}, {\"feature1\": 0.14, \"feature2\": 0.32, \"predict\": false}, {\"feature1\": 0.14, \"feature2\": 0.34, \"predict\": false}, {\"feature1\": 0.14, \"feature2\": 0.36, \"predict\": false}, {\"feature1\": 0.14, \"feature2\": 0.38, \"predict\": false}, {\"feature1\": 0.14, \"feature2\": 0.4, \"predict\": false}, {\"feature1\": 0.14, \"feature2\": 0.42, \"predict\": false}, {\"feature1\": 0.14, \"feature2\": 0.44, \"predict\": false}, {\"feature1\": 0.14, \"feature2\": 0.46, \"predict\": false}, {\"feature1\": 0.14, \"feature2\": 0.48, \"predict\": false}, {\"feature1\": 0.14, \"feature2\": 0.5, \"predict\": false}, {\"feature1\": 0.14, \"feature2\": 0.52, \"predict\": false}, {\"feature1\": 0.14, \"feature2\": 0.54, \"predict\": false}, {\"feature1\": 0.14, \"feature2\": 0.56, \"predict\": false}, {\"feature1\": 0.14, \"feature2\": 0.58, \"predict\": false}, {\"feature1\": 0.14, \"feature2\": 0.6, \"predict\": false}, {\"feature1\": 0.14, \"feature2\": 0.62, \"predict\": false}, {\"feature1\": 0.14, \"feature2\": 0.64, \"predict\": false}, {\"feature1\": 0.14, \"feature2\": 0.66, \"predict\": false}, {\"feature1\": 0.14, \"feature2\": 0.68, \"predict\": false}, {\"feature1\": 0.14, \"feature2\": 0.7, \"predict\": false}, {\"feature1\": 0.14, \"feature2\": 0.72, \"predict\": false}, {\"feature1\": 0.14, \"feature2\": 0.74, \"predict\": false}, {\"feature1\": 0.14, \"feature2\": 0.76, \"predict\": false}, {\"feature1\": 0.14, \"feature2\": 0.78, \"predict\": false}, {\"feature1\": 0.14, \"feature2\": 0.8, \"predict\": true}, {\"feature1\": 0.14, \"feature2\": 0.82, \"predict\": true}, {\"feature1\": 0.14, \"feature2\": 0.84, \"predict\": true}, {\"feature1\": 0.14, \"feature2\": 0.86, \"predict\": true}, {\"feature1\": 0.14, \"feature2\": 0.88, \"predict\": true}, {\"feature1\": 0.14, \"feature2\": 0.9, \"predict\": true}, {\"feature1\": 0.14, \"feature2\": 0.92, \"predict\": true}, {\"feature1\": 0.14, \"feature2\": 0.94, \"predict\": true}, {\"feature1\": 0.14, \"feature2\": 0.96, \"predict\": true}, {\"feature1\": 0.14, \"feature2\": 0.98, \"predict\": true}, {\"feature1\": 0.16, \"feature2\": 0.0, \"predict\": false}, {\"feature1\": 0.16, \"feature2\": 0.02, \"predict\": false}, {\"feature1\": 0.16, \"feature2\": 0.04, \"predict\": false}, {\"feature1\": 0.16, \"feature2\": 0.06, \"predict\": false}, {\"feature1\": 0.16, \"feature2\": 0.08, \"predict\": false}, {\"feature1\": 0.16, \"feature2\": 0.1, \"predict\": false}, {\"feature1\": 0.16, \"feature2\": 0.12, \"predict\": false}, {\"feature1\": 0.16, \"feature2\": 0.14, \"predict\": false}, {\"feature1\": 0.16, \"feature2\": 0.16, \"predict\": false}, {\"feature1\": 0.16, \"feature2\": 0.18, \"predict\": false}, {\"feature1\": 0.16, \"feature2\": 0.2, \"predict\": false}, {\"feature1\": 0.16, \"feature2\": 0.22, \"predict\": false}, {\"feature1\": 0.16, \"feature2\": 0.24, \"predict\": false}, {\"feature1\": 0.16, \"feature2\": 0.26, \"predict\": false}, {\"feature1\": 0.16, \"feature2\": 0.28, \"predict\": false}, {\"feature1\": 0.16, \"feature2\": 0.3, \"predict\": false}, {\"feature1\": 0.16, \"feature2\": 0.32, \"predict\": false}, {\"feature1\": 0.16, \"feature2\": 0.34, \"predict\": false}, {\"feature1\": 0.16, \"feature2\": 0.36, \"predict\": false}, {\"feature1\": 0.16, \"feature2\": 0.38, \"predict\": false}, {\"feature1\": 0.16, \"feature2\": 0.4, \"predict\": false}, {\"feature1\": 0.16, \"feature2\": 0.42, \"predict\": false}, {\"feature1\": 0.16, \"feature2\": 0.44, \"predict\": false}, {\"feature1\": 0.16, \"feature2\": 0.46, \"predict\": false}, {\"feature1\": 0.16, \"feature2\": 0.48, \"predict\": false}, {\"feature1\": 0.16, \"feature2\": 0.5, \"predict\": false}, {\"feature1\": 0.16, \"feature2\": 0.52, \"predict\": false}, {\"feature1\": 0.16, \"feature2\": 0.54, \"predict\": false}, {\"feature1\": 0.16, \"feature2\": 0.56, \"predict\": false}, {\"feature1\": 0.16, \"feature2\": 0.58, \"predict\": false}, {\"feature1\": 0.16, \"feature2\": 0.6, \"predict\": false}, {\"feature1\": 0.16, \"feature2\": 0.62, \"predict\": false}, {\"feature1\": 0.16, \"feature2\": 0.64, \"predict\": false}, {\"feature1\": 0.16, \"feature2\": 0.66, \"predict\": false}, {\"feature1\": 0.16, \"feature2\": 0.68, \"predict\": false}, {\"feature1\": 0.16, \"feature2\": 0.7, \"predict\": false}, {\"feature1\": 0.16, \"feature2\": 0.72, \"predict\": false}, {\"feature1\": 0.16, \"feature2\": 0.74, \"predict\": false}, {\"feature1\": 0.16, \"feature2\": 0.76, \"predict\": false}, {\"feature1\": 0.16, \"feature2\": 0.78, \"predict\": true}, {\"feature1\": 0.16, \"feature2\": 0.8, \"predict\": true}, {\"feature1\": 0.16, \"feature2\": 0.82, \"predict\": true}, {\"feature1\": 0.16, \"feature2\": 0.84, \"predict\": true}, {\"feature1\": 0.16, \"feature2\": 0.86, \"predict\": true}, {\"feature1\": 0.16, \"feature2\": 0.88, \"predict\": true}, {\"feature1\": 0.16, \"feature2\": 0.9, \"predict\": true}, {\"feature1\": 0.16, \"feature2\": 0.92, \"predict\": true}, {\"feature1\": 0.16, \"feature2\": 0.94, \"predict\": true}, {\"feature1\": 0.16, \"feature2\": 0.96, \"predict\": true}, {\"feature1\": 0.16, \"feature2\": 0.98, \"predict\": true}, {\"feature1\": 0.18, \"feature2\": 0.0, \"predict\": false}, {\"feature1\": 0.18, \"feature2\": 0.02, \"predict\": false}, {\"feature1\": 0.18, \"feature2\": 0.04, \"predict\": false}, {\"feature1\": 0.18, \"feature2\": 0.06, \"predict\": false}, {\"feature1\": 0.18, \"feature2\": 0.08, \"predict\": false}, {\"feature1\": 0.18, \"feature2\": 0.1, \"predict\": false}, {\"feature1\": 0.18, \"feature2\": 0.12, \"predict\": false}, {\"feature1\": 0.18, \"feature2\": 0.14, \"predict\": false}, {\"feature1\": 0.18, \"feature2\": 0.16, \"predict\": false}, {\"feature1\": 0.18, \"feature2\": 0.18, \"predict\": false}, {\"feature1\": 0.18, \"feature2\": 0.2, \"predict\": false}, {\"feature1\": 0.18, \"feature2\": 0.22, \"predict\": false}, {\"feature1\": 0.18, \"feature2\": 0.24, \"predict\": false}, {\"feature1\": 0.18, \"feature2\": 0.26, \"predict\": false}, {\"feature1\": 0.18, \"feature2\": 0.28, \"predict\": false}, {\"feature1\": 0.18, \"feature2\": 0.3, \"predict\": false}, {\"feature1\": 0.18, \"feature2\": 0.32, \"predict\": false}, {\"feature1\": 0.18, \"feature2\": 0.34, \"predict\": false}, {\"feature1\": 0.18, \"feature2\": 0.36, \"predict\": false}, {\"feature1\": 0.18, \"feature2\": 0.38, \"predict\": false}, {\"feature1\": 0.18, \"feature2\": 0.4, \"predict\": false}, {\"feature1\": 0.18, \"feature2\": 0.42, \"predict\": false}, {\"feature1\": 0.18, \"feature2\": 0.44, \"predict\": false}, {\"feature1\": 0.18, \"feature2\": 0.46, \"predict\": false}, {\"feature1\": 0.18, \"feature2\": 0.48, \"predict\": false}, {\"feature1\": 0.18, \"feature2\": 0.5, \"predict\": false}, {\"feature1\": 0.18, \"feature2\": 0.52, \"predict\": false}, {\"feature1\": 0.18, \"feature2\": 0.54, \"predict\": false}, {\"feature1\": 0.18, \"feature2\": 0.56, \"predict\": false}, {\"feature1\": 0.18, \"feature2\": 0.58, \"predict\": false}, {\"feature1\": 0.18, \"feature2\": 0.6, \"predict\": false}, {\"feature1\": 0.18, \"feature2\": 0.62, \"predict\": false}, {\"feature1\": 0.18, \"feature2\": 0.64, \"predict\": false}, {\"feature1\": 0.18, \"feature2\": 0.66, \"predict\": false}, {\"feature1\": 0.18, \"feature2\": 0.68, \"predict\": false}, {\"feature1\": 0.18, \"feature2\": 0.7, \"predict\": false}, {\"feature1\": 0.18, \"feature2\": 0.72, \"predict\": false}, {\"feature1\": 0.18, \"feature2\": 0.74, \"predict\": false}, {\"feature1\": 0.18, \"feature2\": 0.76, \"predict\": true}, {\"feature1\": 0.18, \"feature2\": 0.78, \"predict\": true}, {\"feature1\": 0.18, \"feature2\": 0.8, \"predict\": true}, {\"feature1\": 0.18, \"feature2\": 0.82, \"predict\": true}, {\"feature1\": 0.18, \"feature2\": 0.84, \"predict\": true}, {\"feature1\": 0.18, \"feature2\": 0.86, \"predict\": true}, {\"feature1\": 0.18, \"feature2\": 0.88, \"predict\": true}, {\"feature1\": 0.18, \"feature2\": 0.9, \"predict\": true}, {\"feature1\": 0.18, \"feature2\": 0.92, \"predict\": true}, {\"feature1\": 0.18, \"feature2\": 0.94, \"predict\": true}, {\"feature1\": 0.18, \"feature2\": 0.96, \"predict\": true}, {\"feature1\": 0.18, \"feature2\": 0.98, \"predict\": true}, {\"feature1\": 0.2, \"feature2\": 0.0, \"predict\": false}, {\"feature1\": 0.2, \"feature2\": 0.02, \"predict\": false}, {\"feature1\": 0.2, \"feature2\": 0.04, \"predict\": false}, {\"feature1\": 0.2, \"feature2\": 0.06, \"predict\": false}, {\"feature1\": 0.2, \"feature2\": 0.08, \"predict\": false}, {\"feature1\": 0.2, \"feature2\": 0.1, \"predict\": false}, {\"feature1\": 0.2, \"feature2\": 0.12, \"predict\": false}, {\"feature1\": 0.2, \"feature2\": 0.14, \"predict\": false}, {\"feature1\": 0.2, \"feature2\": 0.16, \"predict\": false}, {\"feature1\": 0.2, \"feature2\": 0.18, \"predict\": false}, {\"feature1\": 0.2, \"feature2\": 0.2, \"predict\": false}, {\"feature1\": 0.2, \"feature2\": 0.22, \"predict\": false}, {\"feature1\": 0.2, \"feature2\": 0.24, \"predict\": false}, {\"feature1\": 0.2, \"feature2\": 0.26, \"predict\": false}, {\"feature1\": 0.2, \"feature2\": 0.28, \"predict\": false}, {\"feature1\": 0.2, \"feature2\": 0.3, \"predict\": false}, {\"feature1\": 0.2, \"feature2\": 0.32, \"predict\": false}, {\"feature1\": 0.2, \"feature2\": 0.34, \"predict\": false}, {\"feature1\": 0.2, \"feature2\": 0.36, \"predict\": false}, {\"feature1\": 0.2, \"feature2\": 0.38, \"predict\": false}, {\"feature1\": 0.2, \"feature2\": 0.4, \"predict\": false}, {\"feature1\": 0.2, \"feature2\": 0.42, \"predict\": false}, {\"feature1\": 0.2, \"feature2\": 0.44, \"predict\": false}, {\"feature1\": 0.2, \"feature2\": 0.46, \"predict\": false}, {\"feature1\": 0.2, \"feature2\": 0.48, \"predict\": false}, {\"feature1\": 0.2, \"feature2\": 0.5, \"predict\": false}, {\"feature1\": 0.2, \"feature2\": 0.52, \"predict\": false}, {\"feature1\": 0.2, \"feature2\": 0.54, \"predict\": false}, {\"feature1\": 0.2, \"feature2\": 0.56, \"predict\": false}, {\"feature1\": 0.2, \"feature2\": 0.58, \"predict\": false}, {\"feature1\": 0.2, \"feature2\": 0.6, \"predict\": false}, {\"feature1\": 0.2, \"feature2\": 0.62, \"predict\": false}, {\"feature1\": 0.2, \"feature2\": 0.64, \"predict\": false}, {\"feature1\": 0.2, \"feature2\": 0.66, \"predict\": false}, {\"feature1\": 0.2, \"feature2\": 0.68, \"predict\": false}, {\"feature1\": 0.2, \"feature2\": 0.7, \"predict\": false}, {\"feature1\": 0.2, \"feature2\": 0.72, \"predict\": false}, {\"feature1\": 0.2, \"feature2\": 0.74, \"predict\": true}, {\"feature1\": 0.2, \"feature2\": 0.76, \"predict\": true}, {\"feature1\": 0.2, \"feature2\": 0.78, \"predict\": true}, {\"feature1\": 0.2, \"feature2\": 0.8, \"predict\": true}, {\"feature1\": 0.2, \"feature2\": 0.82, \"predict\": true}, {\"feature1\": 0.2, \"feature2\": 0.84, \"predict\": true}, {\"feature1\": 0.2, \"feature2\": 0.86, \"predict\": true}, {\"feature1\": 0.2, \"feature2\": 0.88, \"predict\": true}, {\"feature1\": 0.2, \"feature2\": 0.9, \"predict\": true}, {\"feature1\": 0.2, \"feature2\": 0.92, \"predict\": true}, {\"feature1\": 0.2, \"feature2\": 0.94, \"predict\": true}, {\"feature1\": 0.2, \"feature2\": 0.96, \"predict\": true}, {\"feature1\": 0.2, \"feature2\": 0.98, \"predict\": true}, {\"feature1\": 0.22, \"feature2\": 0.0, \"predict\": false}, {\"feature1\": 0.22, \"feature2\": 0.02, \"predict\": false}, {\"feature1\": 0.22, \"feature2\": 0.04, \"predict\": false}, {\"feature1\": 0.22, \"feature2\": 0.06, \"predict\": false}, {\"feature1\": 0.22, \"feature2\": 0.08, \"predict\": false}, {\"feature1\": 0.22, \"feature2\": 0.1, \"predict\": false}, {\"feature1\": 0.22, \"feature2\": 0.12, \"predict\": false}, {\"feature1\": 0.22, \"feature2\": 0.14, \"predict\": false}, {\"feature1\": 0.22, \"feature2\": 0.16, \"predict\": false}, {\"feature1\": 0.22, \"feature2\": 0.18, \"predict\": false}, {\"feature1\": 0.22, \"feature2\": 0.2, \"predict\": false}, {\"feature1\": 0.22, \"feature2\": 0.22, \"predict\": false}, {\"feature1\": 0.22, \"feature2\": 0.24, \"predict\": false}, {\"feature1\": 0.22, \"feature2\": 0.26, \"predict\": false}, {\"feature1\": 0.22, \"feature2\": 0.28, \"predict\": false}, {\"feature1\": 0.22, \"feature2\": 0.3, \"predict\": false}, {\"feature1\": 0.22, \"feature2\": 0.32, \"predict\": false}, {\"feature1\": 0.22, \"feature2\": 0.34, \"predict\": false}, {\"feature1\": 0.22, \"feature2\": 0.36, \"predict\": false}, {\"feature1\": 0.22, \"feature2\": 0.38, \"predict\": false}, {\"feature1\": 0.22, \"feature2\": 0.4, \"predict\": false}, {\"feature1\": 0.22, \"feature2\": 0.42, \"predict\": false}, {\"feature1\": 0.22, \"feature2\": 0.44, \"predict\": false}, {\"feature1\": 0.22, \"feature2\": 0.46, \"predict\": false}, {\"feature1\": 0.22, \"feature2\": 0.48, \"predict\": false}, {\"feature1\": 0.22, \"feature2\": 0.5, \"predict\": false}, {\"feature1\": 0.22, \"feature2\": 0.52, \"predict\": false}, {\"feature1\": 0.22, \"feature2\": 0.54, \"predict\": false}, {\"feature1\": 0.22, \"feature2\": 0.56, \"predict\": false}, {\"feature1\": 0.22, \"feature2\": 0.58, \"predict\": false}, {\"feature1\": 0.22, \"feature2\": 0.6, \"predict\": false}, {\"feature1\": 0.22, \"feature2\": 0.62, \"predict\": false}, {\"feature1\": 0.22, \"feature2\": 0.64, \"predict\": false}, {\"feature1\": 0.22, \"feature2\": 0.66, \"predict\": false}, {\"feature1\": 0.22, \"feature2\": 0.68, \"predict\": false}, {\"feature1\": 0.22, \"feature2\": 0.7, \"predict\": false}, {\"feature1\": 0.22, \"feature2\": 0.72, \"predict\": true}, {\"feature1\": 0.22, \"feature2\": 0.74, \"predict\": true}, {\"feature1\": 0.22, \"feature2\": 0.76, \"predict\": true}, {\"feature1\": 0.22, \"feature2\": 0.78, \"predict\": true}, {\"feature1\": 0.22, \"feature2\": 0.8, \"predict\": true}, {\"feature1\": 0.22, \"feature2\": 0.82, \"predict\": true}, {\"feature1\": 0.22, \"feature2\": 0.84, \"predict\": true}, {\"feature1\": 0.22, \"feature2\": 0.86, \"predict\": true}, {\"feature1\": 0.22, \"feature2\": 0.88, \"predict\": true}, {\"feature1\": 0.22, \"feature2\": 0.9, \"predict\": true}, {\"feature1\": 0.22, \"feature2\": 0.92, \"predict\": true}, {\"feature1\": 0.22, \"feature2\": 0.94, \"predict\": true}, {\"feature1\": 0.22, \"feature2\": 0.96, \"predict\": true}, {\"feature1\": 0.22, \"feature2\": 0.98, \"predict\": true}, {\"feature1\": 0.24, \"feature2\": 0.0, \"predict\": false}, {\"feature1\": 0.24, \"feature2\": 0.02, \"predict\": false}, {\"feature1\": 0.24, \"feature2\": 0.04, \"predict\": false}, {\"feature1\": 0.24, \"feature2\": 0.06, \"predict\": false}, {\"feature1\": 0.24, \"feature2\": 0.08, \"predict\": false}, {\"feature1\": 0.24, \"feature2\": 0.1, \"predict\": false}, {\"feature1\": 0.24, \"feature2\": 0.12, \"predict\": false}, {\"feature1\": 0.24, \"feature2\": 0.14, \"predict\": false}, {\"feature1\": 0.24, \"feature2\": 0.16, \"predict\": false}, {\"feature1\": 0.24, \"feature2\": 0.18, \"predict\": false}, {\"feature1\": 0.24, \"feature2\": 0.2, \"predict\": false}, {\"feature1\": 0.24, \"feature2\": 0.22, \"predict\": false}, {\"feature1\": 0.24, \"feature2\": 0.24, \"predict\": false}, {\"feature1\": 0.24, \"feature2\": 0.26, \"predict\": false}, {\"feature1\": 0.24, \"feature2\": 0.28, \"predict\": false}, {\"feature1\": 0.24, \"feature2\": 0.3, \"predict\": false}, {\"feature1\": 0.24, \"feature2\": 0.32, \"predict\": false}, {\"feature1\": 0.24, \"feature2\": 0.34, \"predict\": false}, {\"feature1\": 0.24, \"feature2\": 0.36, \"predict\": false}, {\"feature1\": 0.24, \"feature2\": 0.38, \"predict\": false}, {\"feature1\": 0.24, \"feature2\": 0.4, \"predict\": false}, {\"feature1\": 0.24, \"feature2\": 0.42, \"predict\": false}, {\"feature1\": 0.24, \"feature2\": 0.44, \"predict\": false}, {\"feature1\": 0.24, \"feature2\": 0.46, \"predict\": false}, {\"feature1\": 0.24, \"feature2\": 0.48, \"predict\": false}, {\"feature1\": 0.24, \"feature2\": 0.5, \"predict\": false}, {\"feature1\": 0.24, \"feature2\": 0.52, \"predict\": false}, {\"feature1\": 0.24, \"feature2\": 0.54, \"predict\": false}, {\"feature1\": 0.24, \"feature2\": 0.56, \"predict\": false}, {\"feature1\": 0.24, \"feature2\": 0.58, \"predict\": false}, {\"feature1\": 0.24, \"feature2\": 0.6, \"predict\": false}, {\"feature1\": 0.24, \"feature2\": 0.62, \"predict\": false}, {\"feature1\": 0.24, \"feature2\": 0.64, \"predict\": false}, {\"feature1\": 0.24, \"feature2\": 0.66, \"predict\": false}, {\"feature1\": 0.24, \"feature2\": 0.68, \"predict\": false}, {\"feature1\": 0.24, \"feature2\": 0.7, \"predict\": true}, {\"feature1\": 0.24, \"feature2\": 0.72, \"predict\": true}, {\"feature1\": 0.24, \"feature2\": 0.74, \"predict\": true}, {\"feature1\": 0.24, \"feature2\": 0.76, \"predict\": true}, {\"feature1\": 0.24, \"feature2\": 0.78, \"predict\": true}, {\"feature1\": 0.24, \"feature2\": 0.8, \"predict\": true}, {\"feature1\": 0.24, \"feature2\": 0.82, \"predict\": true}, {\"feature1\": 0.24, \"feature2\": 0.84, \"predict\": true}, {\"feature1\": 0.24, \"feature2\": 0.86, \"predict\": true}, {\"feature1\": 0.24, \"feature2\": 0.88, \"predict\": true}, {\"feature1\": 0.24, \"feature2\": 0.9, \"predict\": true}, {\"feature1\": 0.24, \"feature2\": 0.92, \"predict\": true}, {\"feature1\": 0.24, \"feature2\": 0.94, \"predict\": true}, {\"feature1\": 0.24, \"feature2\": 0.96, \"predict\": true}, {\"feature1\": 0.24, \"feature2\": 0.98, \"predict\": true}, {\"feature1\": 0.26, \"feature2\": 0.0, \"predict\": false}, {\"feature1\": 0.26, \"feature2\": 0.02, \"predict\": false}, {\"feature1\": 0.26, \"feature2\": 0.04, \"predict\": false}, {\"feature1\": 0.26, \"feature2\": 0.06, \"predict\": false}, {\"feature1\": 0.26, \"feature2\": 0.08, \"predict\": false}, {\"feature1\": 0.26, \"feature2\": 0.1, \"predict\": false}, {\"feature1\": 0.26, \"feature2\": 0.12, \"predict\": false}, {\"feature1\": 0.26, \"feature2\": 0.14, \"predict\": false}, {\"feature1\": 0.26, \"feature2\": 0.16, \"predict\": false}, {\"feature1\": 0.26, \"feature2\": 0.18, \"predict\": false}, {\"feature1\": 0.26, \"feature2\": 0.2, \"predict\": false}, {\"feature1\": 0.26, \"feature2\": 0.22, \"predict\": false}, {\"feature1\": 0.26, \"feature2\": 0.24, \"predict\": false}, {\"feature1\": 0.26, \"feature2\": 0.26, \"predict\": false}, {\"feature1\": 0.26, \"feature2\": 0.28, \"predict\": false}, {\"feature1\": 0.26, \"feature2\": 0.3, \"predict\": false}, {\"feature1\": 0.26, \"feature2\": 0.32, \"predict\": false}, {\"feature1\": 0.26, \"feature2\": 0.34, \"predict\": false}, {\"feature1\": 0.26, \"feature2\": 0.36, \"predict\": false}, {\"feature1\": 0.26, \"feature2\": 0.38, \"predict\": false}, {\"feature1\": 0.26, \"feature2\": 0.4, \"predict\": false}, {\"feature1\": 0.26, \"feature2\": 0.42, \"predict\": false}, {\"feature1\": 0.26, \"feature2\": 0.44, \"predict\": false}, {\"feature1\": 0.26, \"feature2\": 0.46, \"predict\": false}, {\"feature1\": 0.26, \"feature2\": 0.48, \"predict\": false}, {\"feature1\": 0.26, \"feature2\": 0.5, \"predict\": false}, {\"feature1\": 0.26, \"feature2\": 0.52, \"predict\": false}, {\"feature1\": 0.26, \"feature2\": 0.54, \"predict\": false}, {\"feature1\": 0.26, \"feature2\": 0.56, \"predict\": false}, {\"feature1\": 0.26, \"feature2\": 0.58, \"predict\": false}, {\"feature1\": 0.26, \"feature2\": 0.6, \"predict\": false}, {\"feature1\": 0.26, \"feature2\": 0.62, \"predict\": false}, {\"feature1\": 0.26, \"feature2\": 0.64, \"predict\": false}, {\"feature1\": 0.26, \"feature2\": 0.66, \"predict\": false}, {\"feature1\": 0.26, \"feature2\": 0.68, \"predict\": true}, {\"feature1\": 0.26, \"feature2\": 0.7, \"predict\": true}, {\"feature1\": 0.26, \"feature2\": 0.72, \"predict\": true}, {\"feature1\": 0.26, \"feature2\": 0.74, \"predict\": true}, {\"feature1\": 0.26, \"feature2\": 0.76, \"predict\": true}, {\"feature1\": 0.26, \"feature2\": 0.78, \"predict\": true}, {\"feature1\": 0.26, \"feature2\": 0.8, \"predict\": true}, {\"feature1\": 0.26, \"feature2\": 0.82, \"predict\": true}, {\"feature1\": 0.26, \"feature2\": 0.84, \"predict\": true}, {\"feature1\": 0.26, \"feature2\": 0.86, \"predict\": true}, {\"feature1\": 0.26, \"feature2\": 0.88, \"predict\": true}, {\"feature1\": 0.26, \"feature2\": 0.9, \"predict\": true}, {\"feature1\": 0.26, \"feature2\": 0.92, \"predict\": true}, {\"feature1\": 0.26, \"feature2\": 0.94, \"predict\": true}, {\"feature1\": 0.26, \"feature2\": 0.96, \"predict\": true}, {\"feature1\": 0.26, \"feature2\": 0.98, \"predict\": true}, {\"feature1\": 0.28, \"feature2\": 0.0, \"predict\": false}, {\"feature1\": 0.28, \"feature2\": 0.02, \"predict\": false}, {\"feature1\": 0.28, \"feature2\": 0.04, \"predict\": false}, {\"feature1\": 0.28, \"feature2\": 0.06, \"predict\": false}, {\"feature1\": 0.28, \"feature2\": 0.08, \"predict\": false}, {\"feature1\": 0.28, \"feature2\": 0.1, \"predict\": false}, {\"feature1\": 0.28, \"feature2\": 0.12, \"predict\": false}, {\"feature1\": 0.28, \"feature2\": 0.14, \"predict\": false}, {\"feature1\": 0.28, \"feature2\": 0.16, \"predict\": false}, {\"feature1\": 0.28, \"feature2\": 0.18, \"predict\": false}, {\"feature1\": 0.28, \"feature2\": 0.2, \"predict\": false}, {\"feature1\": 0.28, \"feature2\": 0.22, \"predict\": false}, {\"feature1\": 0.28, \"feature2\": 0.24, \"predict\": false}, {\"feature1\": 0.28, \"feature2\": 0.26, \"predict\": false}, {\"feature1\": 0.28, \"feature2\": 0.28, \"predict\": false}, {\"feature1\": 0.28, \"feature2\": 0.3, \"predict\": false}, {\"feature1\": 0.28, \"feature2\": 0.32, \"predict\": false}, {\"feature1\": 0.28, \"feature2\": 0.34, \"predict\": false}, {\"feature1\": 0.28, \"feature2\": 0.36, \"predict\": false}, {\"feature1\": 0.28, \"feature2\": 0.38, \"predict\": false}, {\"feature1\": 0.28, \"feature2\": 0.4, \"predict\": false}, {\"feature1\": 0.28, \"feature2\": 0.42, \"predict\": false}, {\"feature1\": 0.28, \"feature2\": 0.44, \"predict\": false}, {\"feature1\": 0.28, \"feature2\": 0.46, \"predict\": false}, {\"feature1\": 0.28, \"feature2\": 0.48, \"predict\": false}, {\"feature1\": 0.28, \"feature2\": 0.5, \"predict\": false}, {\"feature1\": 0.28, \"feature2\": 0.52, \"predict\": false}, {\"feature1\": 0.28, \"feature2\": 0.54, \"predict\": false}, {\"feature1\": 0.28, \"feature2\": 0.56, \"predict\": false}, {\"feature1\": 0.28, \"feature2\": 0.58, \"predict\": false}, {\"feature1\": 0.28, \"feature2\": 0.6, \"predict\": false}, {\"feature1\": 0.28, \"feature2\": 0.62, \"predict\": false}, {\"feature1\": 0.28, \"feature2\": 0.64, \"predict\": false}, {\"feature1\": 0.28, \"feature2\": 0.66, \"predict\": true}, {\"feature1\": 0.28, \"feature2\": 0.68, \"predict\": true}, {\"feature1\": 0.28, \"feature2\": 0.7, \"predict\": true}, {\"feature1\": 0.28, \"feature2\": 0.72, \"predict\": true}, {\"feature1\": 0.28, \"feature2\": 0.74, \"predict\": true}, {\"feature1\": 0.28, \"feature2\": 0.76, \"predict\": true}, {\"feature1\": 0.28, \"feature2\": 0.78, \"predict\": true}, {\"feature1\": 0.28, \"feature2\": 0.8, \"predict\": true}, {\"feature1\": 0.28, \"feature2\": 0.82, \"predict\": true}, {\"feature1\": 0.28, \"feature2\": 0.84, \"predict\": true}, {\"feature1\": 0.28, \"feature2\": 0.86, \"predict\": true}, {\"feature1\": 0.28, \"feature2\": 0.88, \"predict\": true}, {\"feature1\": 0.28, \"feature2\": 0.9, \"predict\": true}, {\"feature1\": 0.28, \"feature2\": 0.92, \"predict\": true}, {\"feature1\": 0.28, \"feature2\": 0.94, \"predict\": true}, {\"feature1\": 0.28, \"feature2\": 0.96, \"predict\": true}, {\"feature1\": 0.28, \"feature2\": 0.98, \"predict\": true}, {\"feature1\": 0.3, \"feature2\": 0.0, \"predict\": false}, {\"feature1\": 0.3, \"feature2\": 0.02, \"predict\": false}, {\"feature1\": 0.3, \"feature2\": 0.04, \"predict\": false}, {\"feature1\": 0.3, \"feature2\": 0.06, \"predict\": false}, {\"feature1\": 0.3, \"feature2\": 0.08, \"predict\": false}, {\"feature1\": 0.3, \"feature2\": 0.1, \"predict\": false}, {\"feature1\": 0.3, \"feature2\": 0.12, \"predict\": false}, {\"feature1\": 0.3, \"feature2\": 0.14, \"predict\": false}, {\"feature1\": 0.3, \"feature2\": 0.16, \"predict\": false}, {\"feature1\": 0.3, \"feature2\": 0.18, \"predict\": false}, {\"feature1\": 0.3, \"feature2\": 0.2, \"predict\": false}, {\"feature1\": 0.3, \"feature2\": 0.22, \"predict\": false}, {\"feature1\": 0.3, \"feature2\": 0.24, \"predict\": false}, {\"feature1\": 0.3, \"feature2\": 0.26, \"predict\": false}, {\"feature1\": 0.3, \"feature2\": 0.28, \"predict\": false}, {\"feature1\": 0.3, \"feature2\": 0.3, \"predict\": false}, {\"feature1\": 0.3, \"feature2\": 0.32, \"predict\": false}, {\"feature1\": 0.3, \"feature2\": 0.34, \"predict\": false}, {\"feature1\": 0.3, \"feature2\": 0.36, \"predict\": false}, {\"feature1\": 0.3, \"feature2\": 0.38, \"predict\": false}, {\"feature1\": 0.3, \"feature2\": 0.4, \"predict\": false}, {\"feature1\": 0.3, \"feature2\": 0.42, \"predict\": false}, {\"feature1\": 0.3, \"feature2\": 0.44, \"predict\": false}, {\"feature1\": 0.3, \"feature2\": 0.46, \"predict\": false}, {\"feature1\": 0.3, \"feature2\": 0.48, \"predict\": false}, {\"feature1\": 0.3, \"feature2\": 0.5, \"predict\": false}, {\"feature1\": 0.3, \"feature2\": 0.52, \"predict\": false}, {\"feature1\": 0.3, \"feature2\": 0.54, \"predict\": false}, {\"feature1\": 0.3, \"feature2\": 0.56, \"predict\": false}, {\"feature1\": 0.3, \"feature2\": 0.58, \"predict\": false}, {\"feature1\": 0.3, \"feature2\": 0.6, \"predict\": false}, {\"feature1\": 0.3, \"feature2\": 0.62, \"predict\": false}, {\"feature1\": 0.3, \"feature2\": 0.64, \"predict\": true}, {\"feature1\": 0.3, \"feature2\": 0.66, \"predict\": true}, {\"feature1\": 0.3, \"feature2\": 0.68, \"predict\": true}, {\"feature1\": 0.3, \"feature2\": 0.7, \"predict\": true}, {\"feature1\": 0.3, \"feature2\": 0.72, \"predict\": true}, {\"feature1\": 0.3, \"feature2\": 0.74, \"predict\": true}, {\"feature1\": 0.3, \"feature2\": 0.76, \"predict\": true}, {\"feature1\": 0.3, \"feature2\": 0.78, \"predict\": true}, {\"feature1\": 0.3, \"feature2\": 0.8, \"predict\": true}, {\"feature1\": 0.3, \"feature2\": 0.82, \"predict\": true}, {\"feature1\": 0.3, \"feature2\": 0.84, \"predict\": true}, {\"feature1\": 0.3, \"feature2\": 0.86, \"predict\": true}, {\"feature1\": 0.3, \"feature2\": 0.88, \"predict\": true}, {\"feature1\": 0.3, \"feature2\": 0.9, \"predict\": true}, {\"feature1\": 0.3, \"feature2\": 0.92, \"predict\": true}, {\"feature1\": 0.3, \"feature2\": 0.94, \"predict\": true}, {\"feature1\": 0.3, \"feature2\": 0.96, \"predict\": true}, {\"feature1\": 0.3, \"feature2\": 0.98, \"predict\": true}, {\"feature1\": 0.32, \"feature2\": 0.0, \"predict\": false}, {\"feature1\": 0.32, \"feature2\": 0.02, \"predict\": false}, {\"feature1\": 0.32, \"feature2\": 0.04, \"predict\": false}, {\"feature1\": 0.32, \"feature2\": 0.06, \"predict\": false}, {\"feature1\": 0.32, \"feature2\": 0.08, \"predict\": false}, {\"feature1\": 0.32, \"feature2\": 0.1, \"predict\": false}, {\"feature1\": 0.32, \"feature2\": 0.12, \"predict\": false}, {\"feature1\": 0.32, \"feature2\": 0.14, \"predict\": false}, {\"feature1\": 0.32, \"feature2\": 0.16, \"predict\": false}, {\"feature1\": 0.32, \"feature2\": 0.18, \"predict\": false}, {\"feature1\": 0.32, \"feature2\": 0.2, \"predict\": false}, {\"feature1\": 0.32, \"feature2\": 0.22, \"predict\": false}, {\"feature1\": 0.32, \"feature2\": 0.24, \"predict\": false}, {\"feature1\": 0.32, \"feature2\": 0.26, \"predict\": false}, {\"feature1\": 0.32, \"feature2\": 0.28, \"predict\": false}, {\"feature1\": 0.32, \"feature2\": 0.3, \"predict\": false}, {\"feature1\": 0.32, \"feature2\": 0.32, \"predict\": false}, {\"feature1\": 0.32, \"feature2\": 0.34, \"predict\": false}, {\"feature1\": 0.32, \"feature2\": 0.36, \"predict\": false}, {\"feature1\": 0.32, \"feature2\": 0.38, \"predict\": false}, {\"feature1\": 0.32, \"feature2\": 0.4, \"predict\": false}, {\"feature1\": 0.32, \"feature2\": 0.42, \"predict\": false}, {\"feature1\": 0.32, \"feature2\": 0.44, \"predict\": false}, {\"feature1\": 0.32, \"feature2\": 0.46, \"predict\": false}, {\"feature1\": 0.32, \"feature2\": 0.48, \"predict\": false}, {\"feature1\": 0.32, \"feature2\": 0.5, \"predict\": false}, {\"feature1\": 0.32, \"feature2\": 0.52, \"predict\": false}, {\"feature1\": 0.32, \"feature2\": 0.54, \"predict\": false}, {\"feature1\": 0.32, \"feature2\": 0.56, \"predict\": false}, {\"feature1\": 0.32, \"feature2\": 0.58, \"predict\": false}, {\"feature1\": 0.32, \"feature2\": 0.6, \"predict\": false}, {\"feature1\": 0.32, \"feature2\": 0.62, \"predict\": true}, {\"feature1\": 0.32, \"feature2\": 0.64, \"predict\": true}, {\"feature1\": 0.32, \"feature2\": 0.66, \"predict\": true}, {\"feature1\": 0.32, \"feature2\": 0.68, \"predict\": true}, {\"feature1\": 0.32, \"feature2\": 0.7, \"predict\": true}, {\"feature1\": 0.32, \"feature2\": 0.72, \"predict\": true}, {\"feature1\": 0.32, \"feature2\": 0.74, \"predict\": true}, {\"feature1\": 0.32, \"feature2\": 0.76, \"predict\": true}, {\"feature1\": 0.32, \"feature2\": 0.78, \"predict\": true}, {\"feature1\": 0.32, \"feature2\": 0.8, \"predict\": true}, {\"feature1\": 0.32, \"feature2\": 0.82, \"predict\": true}, {\"feature1\": 0.32, \"feature2\": 0.84, \"predict\": true}, {\"feature1\": 0.32, \"feature2\": 0.86, \"predict\": true}, {\"feature1\": 0.32, \"feature2\": 0.88, \"predict\": true}, {\"feature1\": 0.32, \"feature2\": 0.9, \"predict\": true}, {\"feature1\": 0.32, \"feature2\": 0.92, \"predict\": true}, {\"feature1\": 0.32, \"feature2\": 0.94, \"predict\": true}, {\"feature1\": 0.32, \"feature2\": 0.96, \"predict\": true}, {\"feature1\": 0.32, \"feature2\": 0.98, \"predict\": true}, {\"feature1\": 0.34, \"feature2\": 0.0, \"predict\": false}, {\"feature1\": 0.34, \"feature2\": 0.02, \"predict\": false}, {\"feature1\": 0.34, \"feature2\": 0.04, \"predict\": false}, {\"feature1\": 0.34, \"feature2\": 0.06, \"predict\": false}, {\"feature1\": 0.34, \"feature2\": 0.08, \"predict\": false}, {\"feature1\": 0.34, \"feature2\": 0.1, \"predict\": false}, {\"feature1\": 0.34, \"feature2\": 0.12, \"predict\": false}, {\"feature1\": 0.34, \"feature2\": 0.14, \"predict\": false}, {\"feature1\": 0.34, \"feature2\": 0.16, \"predict\": false}, {\"feature1\": 0.34, \"feature2\": 0.18, \"predict\": false}, {\"feature1\": 0.34, \"feature2\": 0.2, \"predict\": false}, {\"feature1\": 0.34, \"feature2\": 0.22, \"predict\": false}, {\"feature1\": 0.34, \"feature2\": 0.24, \"predict\": false}, {\"feature1\": 0.34, \"feature2\": 0.26, \"predict\": false}, {\"feature1\": 0.34, \"feature2\": 0.28, \"predict\": false}, {\"feature1\": 0.34, \"feature2\": 0.3, \"predict\": false}, {\"feature1\": 0.34, \"feature2\": 0.32, \"predict\": false}, {\"feature1\": 0.34, \"feature2\": 0.34, \"predict\": false}, {\"feature1\": 0.34, \"feature2\": 0.36, \"predict\": false}, {\"feature1\": 0.34, \"feature2\": 0.38, \"predict\": false}, {\"feature1\": 0.34, \"feature2\": 0.4, \"predict\": false}, {\"feature1\": 0.34, \"feature2\": 0.42, \"predict\": false}, {\"feature1\": 0.34, \"feature2\": 0.44, \"predict\": false}, {\"feature1\": 0.34, \"feature2\": 0.46, \"predict\": false}, {\"feature1\": 0.34, \"feature2\": 0.48, \"predict\": false}, {\"feature1\": 0.34, \"feature2\": 0.5, \"predict\": false}, {\"feature1\": 0.34, \"feature2\": 0.52, \"predict\": false}, {\"feature1\": 0.34, \"feature2\": 0.54, \"predict\": false}, {\"feature1\": 0.34, \"feature2\": 0.56, \"predict\": false}, {\"feature1\": 0.34, \"feature2\": 0.58, \"predict\": false}, {\"feature1\": 0.34, \"feature2\": 0.6, \"predict\": false}, {\"feature1\": 0.34, \"feature2\": 0.62, \"predict\": true}, {\"feature1\": 0.34, \"feature2\": 0.64, \"predict\": true}, {\"feature1\": 0.34, \"feature2\": 0.66, \"predict\": true}, {\"feature1\": 0.34, \"feature2\": 0.68, \"predict\": true}, {\"feature1\": 0.34, \"feature2\": 0.7, \"predict\": true}, {\"feature1\": 0.34, \"feature2\": 0.72, \"predict\": true}, {\"feature1\": 0.34, \"feature2\": 0.74, \"predict\": true}, {\"feature1\": 0.34, \"feature2\": 0.76, \"predict\": true}, {\"feature1\": 0.34, \"feature2\": 0.78, \"predict\": true}, {\"feature1\": 0.34, \"feature2\": 0.8, \"predict\": true}, {\"feature1\": 0.34, \"feature2\": 0.82, \"predict\": true}, {\"feature1\": 0.34, \"feature2\": 0.84, \"predict\": true}, {\"feature1\": 0.34, \"feature2\": 0.86, \"predict\": true}, {\"feature1\": 0.34, \"feature2\": 0.88, \"predict\": true}, {\"feature1\": 0.34, \"feature2\": 0.9, \"predict\": true}, {\"feature1\": 0.34, \"feature2\": 0.92, \"predict\": true}, {\"feature1\": 0.34, \"feature2\": 0.94, \"predict\": true}, {\"feature1\": 0.34, \"feature2\": 0.96, \"predict\": true}, {\"feature1\": 0.34, \"feature2\": 0.98, \"predict\": true}, {\"feature1\": 0.36, \"feature2\": 0.0, \"predict\": false}, {\"feature1\": 0.36, \"feature2\": 0.02, \"predict\": false}, {\"feature1\": 0.36, \"feature2\": 0.04, \"predict\": false}, {\"feature1\": 0.36, \"feature2\": 0.06, \"predict\": false}, {\"feature1\": 0.36, \"feature2\": 0.08, \"predict\": false}, {\"feature1\": 0.36, \"feature2\": 0.1, \"predict\": false}, {\"feature1\": 0.36, \"feature2\": 0.12, \"predict\": false}, {\"feature1\": 0.36, \"feature2\": 0.14, \"predict\": false}, {\"feature1\": 0.36, \"feature2\": 0.16, \"predict\": false}, {\"feature1\": 0.36, \"feature2\": 0.18, \"predict\": false}, {\"feature1\": 0.36, \"feature2\": 0.2, \"predict\": false}, {\"feature1\": 0.36, \"feature2\": 0.22, \"predict\": false}, {\"feature1\": 0.36, \"feature2\": 0.24, \"predict\": false}, {\"feature1\": 0.36, \"feature2\": 0.26, \"predict\": false}, {\"feature1\": 0.36, \"feature2\": 0.28, \"predict\": false}, {\"feature1\": 0.36, \"feature2\": 0.3, \"predict\": false}, {\"feature1\": 0.36, \"feature2\": 0.32, \"predict\": false}, {\"feature1\": 0.36, \"feature2\": 0.34, \"predict\": false}, {\"feature1\": 0.36, \"feature2\": 0.36, \"predict\": false}, {\"feature1\": 0.36, \"feature2\": 0.38, \"predict\": false}, {\"feature1\": 0.36, \"feature2\": 0.4, \"predict\": false}, {\"feature1\": 0.36, \"feature2\": 0.42, \"predict\": false}, {\"feature1\": 0.36, \"feature2\": 0.44, \"predict\": false}, {\"feature1\": 0.36, \"feature2\": 0.46, \"predict\": false}, {\"feature1\": 0.36, \"feature2\": 0.48, \"predict\": false}, {\"feature1\": 0.36, \"feature2\": 0.5, \"predict\": false}, {\"feature1\": 0.36, \"feature2\": 0.52, \"predict\": false}, {\"feature1\": 0.36, \"feature2\": 0.54, \"predict\": false}, {\"feature1\": 0.36, \"feature2\": 0.56, \"predict\": false}, {\"feature1\": 0.36, \"feature2\": 0.58, \"predict\": false}, {\"feature1\": 0.36, \"feature2\": 0.6, \"predict\": true}, {\"feature1\": 0.36, \"feature2\": 0.62, \"predict\": true}, {\"feature1\": 0.36, \"feature2\": 0.64, \"predict\": true}, {\"feature1\": 0.36, \"feature2\": 0.66, \"predict\": true}, {\"feature1\": 0.36, \"feature2\": 0.68, \"predict\": true}, {\"feature1\": 0.36, \"feature2\": 0.7, \"predict\": true}, {\"feature1\": 0.36, \"feature2\": 0.72, \"predict\": true}, {\"feature1\": 0.36, \"feature2\": 0.74, \"predict\": true}, {\"feature1\": 0.36, \"feature2\": 0.76, \"predict\": true}, {\"feature1\": 0.36, \"feature2\": 0.78, \"predict\": true}, {\"feature1\": 0.36, \"feature2\": 0.8, \"predict\": true}, {\"feature1\": 0.36, \"feature2\": 0.82, \"predict\": true}, {\"feature1\": 0.36, \"feature2\": 0.84, \"predict\": true}, {\"feature1\": 0.36, \"feature2\": 0.86, \"predict\": true}, {\"feature1\": 0.36, \"feature2\": 0.88, \"predict\": true}, {\"feature1\": 0.36, \"feature2\": 0.9, \"predict\": true}, {\"feature1\": 0.36, \"feature2\": 0.92, \"predict\": true}, {\"feature1\": 0.36, \"feature2\": 0.94, \"predict\": true}, {\"feature1\": 0.36, \"feature2\": 0.96, \"predict\": true}, {\"feature1\": 0.36, \"feature2\": 0.98, \"predict\": true}, {\"feature1\": 0.38, \"feature2\": 0.0, \"predict\": false}, {\"feature1\": 0.38, \"feature2\": 0.02, \"predict\": false}, {\"feature1\": 0.38, \"feature2\": 0.04, \"predict\": false}, {\"feature1\": 0.38, \"feature2\": 0.06, \"predict\": false}, {\"feature1\": 0.38, \"feature2\": 0.08, \"predict\": false}, {\"feature1\": 0.38, \"feature2\": 0.1, \"predict\": false}, {\"feature1\": 0.38, \"feature2\": 0.12, \"predict\": false}, {\"feature1\": 0.38, \"feature2\": 0.14, \"predict\": false}, {\"feature1\": 0.38, \"feature2\": 0.16, \"predict\": false}, {\"feature1\": 0.38, \"feature2\": 0.18, \"predict\": false}, {\"feature1\": 0.38, \"feature2\": 0.2, \"predict\": false}, {\"feature1\": 0.38, \"feature2\": 0.22, \"predict\": false}, {\"feature1\": 0.38, \"feature2\": 0.24, \"predict\": false}, {\"feature1\": 0.38, \"feature2\": 0.26, \"predict\": false}, {\"feature1\": 0.38, \"feature2\": 0.28, \"predict\": false}, {\"feature1\": 0.38, \"feature2\": 0.3, \"predict\": false}, {\"feature1\": 0.38, \"feature2\": 0.32, \"predict\": false}, {\"feature1\": 0.38, \"feature2\": 0.34, \"predict\": false}, {\"feature1\": 0.38, \"feature2\": 0.36, \"predict\": false}, {\"feature1\": 0.38, \"feature2\": 0.38, \"predict\": false}, {\"feature1\": 0.38, \"feature2\": 0.4, \"predict\": false}, {\"feature1\": 0.38, \"feature2\": 0.42, \"predict\": false}, {\"feature1\": 0.38, \"feature2\": 0.44, \"predict\": false}, {\"feature1\": 0.38, \"feature2\": 0.46, \"predict\": false}, {\"feature1\": 0.38, \"feature2\": 0.48, \"predict\": false}, {\"feature1\": 0.38, \"feature2\": 0.5, \"predict\": false}, {\"feature1\": 0.38, \"feature2\": 0.52, \"predict\": false}, {\"feature1\": 0.38, \"feature2\": 0.54, \"predict\": false}, {\"feature1\": 0.38, \"feature2\": 0.56, \"predict\": false}, {\"feature1\": 0.38, \"feature2\": 0.58, \"predict\": true}, {\"feature1\": 0.38, \"feature2\": 0.6, \"predict\": true}, {\"feature1\": 0.38, \"feature2\": 0.62, \"predict\": true}, {\"feature1\": 0.38, \"feature2\": 0.64, \"predict\": true}, {\"feature1\": 0.38, \"feature2\": 0.66, \"predict\": true}, {\"feature1\": 0.38, \"feature2\": 0.68, \"predict\": true}, {\"feature1\": 0.38, \"feature2\": 0.7, \"predict\": true}, {\"feature1\": 0.38, \"feature2\": 0.72, \"predict\": true}, {\"feature1\": 0.38, \"feature2\": 0.74, \"predict\": true}, {\"feature1\": 0.38, \"feature2\": 0.76, \"predict\": true}, {\"feature1\": 0.38, \"feature2\": 0.78, \"predict\": true}, {\"feature1\": 0.38, \"feature2\": 0.8, \"predict\": true}, {\"feature1\": 0.38, \"feature2\": 0.82, \"predict\": true}, {\"feature1\": 0.38, \"feature2\": 0.84, \"predict\": true}, {\"feature1\": 0.38, \"feature2\": 0.86, \"predict\": true}, {\"feature1\": 0.38, \"feature2\": 0.88, \"predict\": true}, {\"feature1\": 0.38, \"feature2\": 0.9, \"predict\": true}, {\"feature1\": 0.38, \"feature2\": 0.92, \"predict\": true}, {\"feature1\": 0.38, \"feature2\": 0.94, \"predict\": true}, {\"feature1\": 0.38, \"feature2\": 0.96, \"predict\": true}, {\"feature1\": 0.38, \"feature2\": 0.98, \"predict\": true}, {\"feature1\": 0.4, \"feature2\": 0.0, \"predict\": false}, {\"feature1\": 0.4, \"feature2\": 0.02, \"predict\": false}, {\"feature1\": 0.4, \"feature2\": 0.04, \"predict\": false}, {\"feature1\": 0.4, \"feature2\": 0.06, \"predict\": false}, {\"feature1\": 0.4, \"feature2\": 0.08, \"predict\": false}, {\"feature1\": 0.4, \"feature2\": 0.1, \"predict\": false}, {\"feature1\": 0.4, \"feature2\": 0.12, \"predict\": false}, {\"feature1\": 0.4, \"feature2\": 0.14, \"predict\": false}, {\"feature1\": 0.4, \"feature2\": 0.16, \"predict\": false}, {\"feature1\": 0.4, \"feature2\": 0.18, \"predict\": false}, {\"feature1\": 0.4, \"feature2\": 0.2, \"predict\": false}, {\"feature1\": 0.4, \"feature2\": 0.22, \"predict\": false}, {\"feature1\": 0.4, \"feature2\": 0.24, \"predict\": false}, {\"feature1\": 0.4, \"feature2\": 0.26, \"predict\": false}, {\"feature1\": 0.4, \"feature2\": 0.28, \"predict\": false}, {\"feature1\": 0.4, \"feature2\": 0.3, \"predict\": false}, {\"feature1\": 0.4, \"feature2\": 0.32, \"predict\": false}, {\"feature1\": 0.4, \"feature2\": 0.34, \"predict\": false}, {\"feature1\": 0.4, \"feature2\": 0.36, \"predict\": false}, {\"feature1\": 0.4, \"feature2\": 0.38, \"predict\": false}, {\"feature1\": 0.4, \"feature2\": 0.4, \"predict\": false}, {\"feature1\": 0.4, \"feature2\": 0.42, \"predict\": false}, {\"feature1\": 0.4, \"feature2\": 0.44, \"predict\": false}, {\"feature1\": 0.4, \"feature2\": 0.46, \"predict\": false}, {\"feature1\": 0.4, \"feature2\": 0.48, \"predict\": false}, {\"feature1\": 0.4, \"feature2\": 0.5, \"predict\": false}, {\"feature1\": 0.4, \"feature2\": 0.52, \"predict\": false}, {\"feature1\": 0.4, \"feature2\": 0.54, \"predict\": false}, {\"feature1\": 0.4, \"feature2\": 0.56, \"predict\": true}, {\"feature1\": 0.4, \"feature2\": 0.58, \"predict\": true}, {\"feature1\": 0.4, \"feature2\": 0.6, \"predict\": true}, {\"feature1\": 0.4, \"feature2\": 0.62, \"predict\": true}, {\"feature1\": 0.4, \"feature2\": 0.64, \"predict\": true}, {\"feature1\": 0.4, \"feature2\": 0.66, \"predict\": true}, {\"feature1\": 0.4, \"feature2\": 0.68, \"predict\": true}, {\"feature1\": 0.4, \"feature2\": 0.7, \"predict\": true}, {\"feature1\": 0.4, \"feature2\": 0.72, \"predict\": true}, {\"feature1\": 0.4, \"feature2\": 0.74, \"predict\": true}, {\"feature1\": 0.4, \"feature2\": 0.76, \"predict\": true}, {\"feature1\": 0.4, \"feature2\": 0.78, \"predict\": true}, {\"feature1\": 0.4, \"feature2\": 0.8, \"predict\": true}, {\"feature1\": 0.4, \"feature2\": 0.82, \"predict\": true}, {\"feature1\": 0.4, \"feature2\": 0.84, \"predict\": true}, {\"feature1\": 0.4, \"feature2\": 0.86, \"predict\": true}, {\"feature1\": 0.4, \"feature2\": 0.88, \"predict\": true}, {\"feature1\": 0.4, \"feature2\": 0.9, \"predict\": true}, {\"feature1\": 0.4, \"feature2\": 0.92, \"predict\": true}, {\"feature1\": 0.4, \"feature2\": 0.94, \"predict\": true}, {\"feature1\": 0.4, \"feature2\": 0.96, \"predict\": true}, {\"feature1\": 0.4, \"feature2\": 0.98, \"predict\": true}, {\"feature1\": 0.42, \"feature2\": 0.0, \"predict\": false}, {\"feature1\": 0.42, \"feature2\": 0.02, \"predict\": false}, {\"feature1\": 0.42, \"feature2\": 0.04, \"predict\": false}, {\"feature1\": 0.42, \"feature2\": 0.06, \"predict\": false}, {\"feature1\": 0.42, \"feature2\": 0.08, \"predict\": false}, {\"feature1\": 0.42, \"feature2\": 0.1, \"predict\": false}, {\"feature1\": 0.42, \"feature2\": 0.12, \"predict\": false}, {\"feature1\": 0.42, \"feature2\": 0.14, \"predict\": false}, {\"feature1\": 0.42, \"feature2\": 0.16, \"predict\": false}, {\"feature1\": 0.42, \"feature2\": 0.18, \"predict\": false}, {\"feature1\": 0.42, \"feature2\": 0.2, \"predict\": false}, {\"feature1\": 0.42, \"feature2\": 0.22, \"predict\": false}, {\"feature1\": 0.42, \"feature2\": 0.24, \"predict\": false}, {\"feature1\": 0.42, \"feature2\": 0.26, \"predict\": false}, {\"feature1\": 0.42, \"feature2\": 0.28, \"predict\": false}, {\"feature1\": 0.42, \"feature2\": 0.3, \"predict\": false}, {\"feature1\": 0.42, \"feature2\": 0.32, \"predict\": false}, {\"feature1\": 0.42, \"feature2\": 0.34, \"predict\": false}, {\"feature1\": 0.42, \"feature2\": 0.36, \"predict\": false}, {\"feature1\": 0.42, \"feature2\": 0.38, \"predict\": false}, {\"feature1\": 0.42, \"feature2\": 0.4, \"predict\": false}, {\"feature1\": 0.42, \"feature2\": 0.42, \"predict\": false}, {\"feature1\": 0.42, \"feature2\": 0.44, \"predict\": false}, {\"feature1\": 0.42, \"feature2\": 0.46, \"predict\": false}, {\"feature1\": 0.42, \"feature2\": 0.48, \"predict\": false}, {\"feature1\": 0.42, \"feature2\": 0.5, \"predict\": false}, {\"feature1\": 0.42, \"feature2\": 0.52, \"predict\": false}, {\"feature1\": 0.42, \"feature2\": 0.54, \"predict\": true}, {\"feature1\": 0.42, \"feature2\": 0.56, \"predict\": true}, {\"feature1\": 0.42, \"feature2\": 0.58, \"predict\": true}, {\"feature1\": 0.42, \"feature2\": 0.6, \"predict\": true}, {\"feature1\": 0.42, \"feature2\": 0.62, \"predict\": true}, {\"feature1\": 0.42, \"feature2\": 0.64, \"predict\": true}, {\"feature1\": 0.42, \"feature2\": 0.66, \"predict\": true}, {\"feature1\": 0.42, \"feature2\": 0.68, \"predict\": true}, {\"feature1\": 0.42, \"feature2\": 0.7, \"predict\": true}, {\"feature1\": 0.42, \"feature2\": 0.72, \"predict\": true}, {\"feature1\": 0.42, \"feature2\": 0.74, \"predict\": true}, {\"feature1\": 0.42, \"feature2\": 0.76, \"predict\": true}, {\"feature1\": 0.42, \"feature2\": 0.78, \"predict\": true}, {\"feature1\": 0.42, \"feature2\": 0.8, \"predict\": true}, {\"feature1\": 0.42, \"feature2\": 0.82, \"predict\": true}, {\"feature1\": 0.42, \"feature2\": 0.84, \"predict\": true}, {\"feature1\": 0.42, \"feature2\": 0.86, \"predict\": true}, {\"feature1\": 0.42, \"feature2\": 0.88, \"predict\": true}, {\"feature1\": 0.42, \"feature2\": 0.9, \"predict\": true}, {\"feature1\": 0.42, \"feature2\": 0.92, \"predict\": true}, {\"feature1\": 0.42, \"feature2\": 0.94, \"predict\": true}, {\"feature1\": 0.42, \"feature2\": 0.96, \"predict\": true}, {\"feature1\": 0.42, \"feature2\": 0.98, \"predict\": true}, {\"feature1\": 0.44, \"feature2\": 0.0, \"predict\": false}, {\"feature1\": 0.44, \"feature2\": 0.02, \"predict\": false}, {\"feature1\": 0.44, \"feature2\": 0.04, \"predict\": false}, {\"feature1\": 0.44, \"feature2\": 0.06, \"predict\": false}, {\"feature1\": 0.44, \"feature2\": 0.08, \"predict\": false}, {\"feature1\": 0.44, \"feature2\": 0.1, \"predict\": false}, {\"feature1\": 0.44, \"feature2\": 0.12, \"predict\": false}, {\"feature1\": 0.44, \"feature2\": 0.14, \"predict\": false}, {\"feature1\": 0.44, \"feature2\": 0.16, \"predict\": false}, {\"feature1\": 0.44, \"feature2\": 0.18, \"predict\": false}, {\"feature1\": 0.44, \"feature2\": 0.2, \"predict\": false}, {\"feature1\": 0.44, \"feature2\": 0.22, \"predict\": false}, {\"feature1\": 0.44, \"feature2\": 0.24, \"predict\": false}, {\"feature1\": 0.44, \"feature2\": 0.26, \"predict\": false}, {\"feature1\": 0.44, \"feature2\": 0.28, \"predict\": false}, {\"feature1\": 0.44, \"feature2\": 0.3, \"predict\": false}, {\"feature1\": 0.44, \"feature2\": 0.32, \"predict\": false}, {\"feature1\": 0.44, \"feature2\": 0.34, \"predict\": false}, {\"feature1\": 0.44, \"feature2\": 0.36, \"predict\": false}, {\"feature1\": 0.44, \"feature2\": 0.38, \"predict\": false}, {\"feature1\": 0.44, \"feature2\": 0.4, \"predict\": false}, {\"feature1\": 0.44, \"feature2\": 0.42, \"predict\": false}, {\"feature1\": 0.44, \"feature2\": 0.44, \"predict\": false}, {\"feature1\": 0.44, \"feature2\": 0.46, \"predict\": false}, {\"feature1\": 0.44, \"feature2\": 0.48, \"predict\": false}, {\"feature1\": 0.44, \"feature2\": 0.5, \"predict\": false}, {\"feature1\": 0.44, \"feature2\": 0.52, \"predict\": true}, {\"feature1\": 0.44, \"feature2\": 0.54, \"predict\": true}, {\"feature1\": 0.44, \"feature2\": 0.56, \"predict\": true}, {\"feature1\": 0.44, \"feature2\": 0.58, \"predict\": true}, {\"feature1\": 0.44, \"feature2\": 0.6, \"predict\": true}, {\"feature1\": 0.44, \"feature2\": 0.62, \"predict\": true}, {\"feature1\": 0.44, \"feature2\": 0.64, \"predict\": true}, {\"feature1\": 0.44, \"feature2\": 0.66, \"predict\": true}, {\"feature1\": 0.44, \"feature2\": 0.68, \"predict\": true}, {\"feature1\": 0.44, \"feature2\": 0.7, \"predict\": true}, {\"feature1\": 0.44, \"feature2\": 0.72, \"predict\": true}, {\"feature1\": 0.44, \"feature2\": 0.74, \"predict\": true}, {\"feature1\": 0.44, \"feature2\": 0.76, \"predict\": true}, {\"feature1\": 0.44, \"feature2\": 0.78, \"predict\": true}, {\"feature1\": 0.44, \"feature2\": 0.8, \"predict\": true}, {\"feature1\": 0.44, \"feature2\": 0.82, \"predict\": true}, {\"feature1\": 0.44, \"feature2\": 0.84, \"predict\": true}, {\"feature1\": 0.44, \"feature2\": 0.86, \"predict\": true}, {\"feature1\": 0.44, \"feature2\": 0.88, \"predict\": true}, {\"feature1\": 0.44, \"feature2\": 0.9, \"predict\": true}, {\"feature1\": 0.44, \"feature2\": 0.92, \"predict\": true}, {\"feature1\": 0.44, \"feature2\": 0.94, \"predict\": true}, {\"feature1\": 0.44, \"feature2\": 0.96, \"predict\": true}, {\"feature1\": 0.44, \"feature2\": 0.98, \"predict\": true}, {\"feature1\": 0.46, \"feature2\": 0.0, \"predict\": false}, {\"feature1\": 0.46, \"feature2\": 0.02, \"predict\": false}, {\"feature1\": 0.46, \"feature2\": 0.04, \"predict\": false}, {\"feature1\": 0.46, \"feature2\": 0.06, \"predict\": false}, {\"feature1\": 0.46, \"feature2\": 0.08, \"predict\": false}, {\"feature1\": 0.46, \"feature2\": 0.1, \"predict\": false}, {\"feature1\": 0.46, \"feature2\": 0.12, \"predict\": false}, {\"feature1\": 0.46, \"feature2\": 0.14, \"predict\": false}, {\"feature1\": 0.46, \"feature2\": 0.16, \"predict\": false}, {\"feature1\": 0.46, \"feature2\": 0.18, \"predict\": false}, {\"feature1\": 0.46, \"feature2\": 0.2, \"predict\": false}, {\"feature1\": 0.46, \"feature2\": 0.22, \"predict\": false}, {\"feature1\": 0.46, \"feature2\": 0.24, \"predict\": false}, {\"feature1\": 0.46, \"feature2\": 0.26, \"predict\": false}, {\"feature1\": 0.46, \"feature2\": 0.28, \"predict\": false}, {\"feature1\": 0.46, \"feature2\": 0.3, \"predict\": false}, {\"feature1\": 0.46, \"feature2\": 0.32, \"predict\": false}, {\"feature1\": 0.46, \"feature2\": 0.34, \"predict\": false}, {\"feature1\": 0.46, \"feature2\": 0.36, \"predict\": false}, {\"feature1\": 0.46, \"feature2\": 0.38, \"predict\": false}, {\"feature1\": 0.46, \"feature2\": 0.4, \"predict\": false}, {\"feature1\": 0.46, \"feature2\": 0.42, \"predict\": false}, {\"feature1\": 0.46, \"feature2\": 0.44, \"predict\": false}, {\"feature1\": 0.46, \"feature2\": 0.46, \"predict\": false}, {\"feature1\": 0.46, \"feature2\": 0.48, \"predict\": false}, {\"feature1\": 0.46, \"feature2\": 0.5, \"predict\": true}, {\"feature1\": 0.46, \"feature2\": 0.52, \"predict\": true}, {\"feature1\": 0.46, \"feature2\": 0.54, \"predict\": true}, {\"feature1\": 0.46, \"feature2\": 0.56, \"predict\": true}, {\"feature1\": 0.46, \"feature2\": 0.58, \"predict\": true}, {\"feature1\": 0.46, \"feature2\": 0.6, \"predict\": true}, {\"feature1\": 0.46, \"feature2\": 0.62, \"predict\": true}, {\"feature1\": 0.46, \"feature2\": 0.64, \"predict\": true}, {\"feature1\": 0.46, \"feature2\": 0.66, \"predict\": true}, {\"feature1\": 0.46, \"feature2\": 0.68, \"predict\": true}, {\"feature1\": 0.46, \"feature2\": 0.7, \"predict\": true}, {\"feature1\": 0.46, \"feature2\": 0.72, \"predict\": true}, {\"feature1\": 0.46, \"feature2\": 0.74, \"predict\": true}, {\"feature1\": 0.46, \"feature2\": 0.76, \"predict\": true}, {\"feature1\": 0.46, \"feature2\": 0.78, \"predict\": true}, {\"feature1\": 0.46, \"feature2\": 0.8, \"predict\": true}, {\"feature1\": 0.46, \"feature2\": 0.82, \"predict\": true}, {\"feature1\": 0.46, \"feature2\": 0.84, \"predict\": true}, {\"feature1\": 0.46, \"feature2\": 0.86, \"predict\": true}, {\"feature1\": 0.46, \"feature2\": 0.88, \"predict\": true}, {\"feature1\": 0.46, \"feature2\": 0.9, \"predict\": true}, {\"feature1\": 0.46, \"feature2\": 0.92, \"predict\": true}, {\"feature1\": 0.46, \"feature2\": 0.94, \"predict\": true}, {\"feature1\": 0.46, \"feature2\": 0.96, \"predict\": true}, {\"feature1\": 0.46, \"feature2\": 0.98, \"predict\": true}, {\"feature1\": 0.48, \"feature2\": 0.0, \"predict\": false}, {\"feature1\": 0.48, \"feature2\": 0.02, \"predict\": false}, {\"feature1\": 0.48, \"feature2\": 0.04, \"predict\": false}, {\"feature1\": 0.48, \"feature2\": 0.06, \"predict\": false}, {\"feature1\": 0.48, \"feature2\": 0.08, \"predict\": false}, {\"feature1\": 0.48, \"feature2\": 0.1, \"predict\": false}, {\"feature1\": 0.48, \"feature2\": 0.12, \"predict\": false}, {\"feature1\": 0.48, \"feature2\": 0.14, \"predict\": false}, {\"feature1\": 0.48, \"feature2\": 0.16, \"predict\": false}, {\"feature1\": 0.48, \"feature2\": 0.18, \"predict\": false}, {\"feature1\": 0.48, \"feature2\": 0.2, \"predict\": false}, {\"feature1\": 0.48, \"feature2\": 0.22, \"predict\": false}, {\"feature1\": 0.48, \"feature2\": 0.24, \"predict\": false}, {\"feature1\": 0.48, \"feature2\": 0.26, \"predict\": false}, {\"feature1\": 0.48, \"feature2\": 0.28, \"predict\": false}, {\"feature1\": 0.48, \"feature2\": 0.3, \"predict\": false}, {\"feature1\": 0.48, \"feature2\": 0.32, \"predict\": false}, {\"feature1\": 0.48, \"feature2\": 0.34, \"predict\": false}, {\"feature1\": 0.48, \"feature2\": 0.36, \"predict\": false}, {\"feature1\": 0.48, \"feature2\": 0.38, \"predict\": false}, {\"feature1\": 0.48, \"feature2\": 0.4, \"predict\": false}, {\"feature1\": 0.48, \"feature2\": 0.42, \"predict\": false}, {\"feature1\": 0.48, \"feature2\": 0.44, \"predict\": false}, {\"feature1\": 0.48, \"feature2\": 0.46, \"predict\": false}, {\"feature1\": 0.48, \"feature2\": 0.48, \"predict\": true}, {\"feature1\": 0.48, \"feature2\": 0.5, \"predict\": true}, {\"feature1\": 0.48, \"feature2\": 0.52, \"predict\": true}, {\"feature1\": 0.48, \"feature2\": 0.54, \"predict\": true}, {\"feature1\": 0.48, \"feature2\": 0.56, \"predict\": true}, {\"feature1\": 0.48, \"feature2\": 0.58, \"predict\": true}, {\"feature1\": 0.48, \"feature2\": 0.6, \"predict\": true}, {\"feature1\": 0.48, \"feature2\": 0.62, \"predict\": true}, {\"feature1\": 0.48, \"feature2\": 0.64, \"predict\": true}, {\"feature1\": 0.48, \"feature2\": 0.66, \"predict\": true}, {\"feature1\": 0.48, \"feature2\": 0.68, \"predict\": true}, {\"feature1\": 0.48, \"feature2\": 0.7, \"predict\": true}, {\"feature1\": 0.48, \"feature2\": 0.72, \"predict\": true}, {\"feature1\": 0.48, \"feature2\": 0.74, \"predict\": true}, {\"feature1\": 0.48, \"feature2\": 0.76, \"predict\": true}, {\"feature1\": 0.48, \"feature2\": 0.78, \"predict\": true}, {\"feature1\": 0.48, \"feature2\": 0.8, \"predict\": true}, {\"feature1\": 0.48, \"feature2\": 0.82, \"predict\": true}, {\"feature1\": 0.48, \"feature2\": 0.84, \"predict\": true}, {\"feature1\": 0.48, \"feature2\": 0.86, \"predict\": true}, {\"feature1\": 0.48, \"feature2\": 0.88, \"predict\": true}, {\"feature1\": 0.48, \"feature2\": 0.9, \"predict\": true}, {\"feature1\": 0.48, \"feature2\": 0.92, \"predict\": true}, {\"feature1\": 0.48, \"feature2\": 0.94, \"predict\": true}, {\"feature1\": 0.48, \"feature2\": 0.96, \"predict\": true}, {\"feature1\": 0.48, \"feature2\": 0.98, \"predict\": true}, {\"feature1\": 0.5, \"feature2\": 0.0, \"predict\": false}, {\"feature1\": 0.5, \"feature2\": 0.02, \"predict\": false}, {\"feature1\": 0.5, \"feature2\": 0.04, \"predict\": false}, {\"feature1\": 0.5, \"feature2\": 0.06, \"predict\": false}, {\"feature1\": 0.5, \"feature2\": 0.08, \"predict\": false}, {\"feature1\": 0.5, \"feature2\": 0.1, \"predict\": false}, {\"feature1\": 0.5, \"feature2\": 0.12, \"predict\": false}, {\"feature1\": 0.5, \"feature2\": 0.14, \"predict\": false}, {\"feature1\": 0.5, \"feature2\": 0.16, \"predict\": false}, {\"feature1\": 0.5, \"feature2\": 0.18, \"predict\": false}, {\"feature1\": 0.5, \"feature2\": 0.2, \"predict\": false}, {\"feature1\": 0.5, \"feature2\": 0.22, \"predict\": false}, {\"feature1\": 0.5, \"feature2\": 0.24, \"predict\": false}, {\"feature1\": 0.5, \"feature2\": 0.26, \"predict\": false}, {\"feature1\": 0.5, \"feature2\": 0.28, \"predict\": false}, {\"feature1\": 0.5, \"feature2\": 0.3, \"predict\": false}, {\"feature1\": 0.5, \"feature2\": 0.32, \"predict\": false}, {\"feature1\": 0.5, \"feature2\": 0.34, \"predict\": false}, {\"feature1\": 0.5, \"feature2\": 0.36, \"predict\": false}, {\"feature1\": 0.5, \"feature2\": 0.38, \"predict\": false}, {\"feature1\": 0.5, \"feature2\": 0.4, \"predict\": false}, {\"feature1\": 0.5, \"feature2\": 0.42, \"predict\": false}, {\"feature1\": 0.5, \"feature2\": 0.44, \"predict\": false}, {\"feature1\": 0.5, \"feature2\": 0.46, \"predict\": true}, {\"feature1\": 0.5, \"feature2\": 0.48, \"predict\": true}, {\"feature1\": 0.5, \"feature2\": 0.5, \"predict\": true}, {\"feature1\": 0.5, \"feature2\": 0.52, \"predict\": true}, {\"feature1\": 0.5, \"feature2\": 0.54, \"predict\": true}, {\"feature1\": 0.5, \"feature2\": 0.56, \"predict\": true}, {\"feature1\": 0.5, \"feature2\": 0.58, \"predict\": true}, {\"feature1\": 0.5, \"feature2\": 0.6, \"predict\": true}, {\"feature1\": 0.5, \"feature2\": 0.62, \"predict\": true}, {\"feature1\": 0.5, \"feature2\": 0.64, \"predict\": true}, {\"feature1\": 0.5, \"feature2\": 0.66, \"predict\": true}, {\"feature1\": 0.5, \"feature2\": 0.68, \"predict\": true}, {\"feature1\": 0.5, \"feature2\": 0.7, \"predict\": true}, {\"feature1\": 0.5, \"feature2\": 0.72, \"predict\": true}, {\"feature1\": 0.5, \"feature2\": 0.74, \"predict\": true}, {\"feature1\": 0.5, \"feature2\": 0.76, \"predict\": true}, {\"feature1\": 0.5, \"feature2\": 0.78, \"predict\": true}, {\"feature1\": 0.5, \"feature2\": 0.8, \"predict\": true}, {\"feature1\": 0.5, \"feature2\": 0.82, \"predict\": true}, {\"feature1\": 0.5, \"feature2\": 0.84, \"predict\": true}, {\"feature1\": 0.5, \"feature2\": 0.86, \"predict\": true}, {\"feature1\": 0.5, \"feature2\": 0.88, \"predict\": true}, {\"feature1\": 0.5, \"feature2\": 0.9, \"predict\": true}, {\"feature1\": 0.5, \"feature2\": 0.92, \"predict\": true}, {\"feature1\": 0.5, \"feature2\": 0.94, \"predict\": true}, {\"feature1\": 0.5, \"feature2\": 0.96, \"predict\": true}, {\"feature1\": 0.5, \"feature2\": 0.98, \"predict\": true}, {\"feature1\": 0.52, \"feature2\": 0.0, \"predict\": false}, {\"feature1\": 0.52, \"feature2\": 0.02, \"predict\": false}, {\"feature1\": 0.52, \"feature2\": 0.04, \"predict\": false}, {\"feature1\": 0.52, \"feature2\": 0.06, \"predict\": false}, {\"feature1\": 0.52, \"feature2\": 0.08, \"predict\": false}, {\"feature1\": 0.52, \"feature2\": 0.1, \"predict\": false}, {\"feature1\": 0.52, \"feature2\": 0.12, \"predict\": false}, {\"feature1\": 0.52, \"feature2\": 0.14, \"predict\": false}, {\"feature1\": 0.52, \"feature2\": 0.16, \"predict\": false}, {\"feature1\": 0.52, \"feature2\": 0.18, \"predict\": false}, {\"feature1\": 0.52, \"feature2\": 0.2, \"predict\": false}, {\"feature1\": 0.52, \"feature2\": 0.22, \"predict\": false}, {\"feature1\": 0.52, \"feature2\": 0.24, \"predict\": false}, {\"feature1\": 0.52, \"feature2\": 0.26, \"predict\": false}, {\"feature1\": 0.52, \"feature2\": 0.28, \"predict\": false}, {\"feature1\": 0.52, \"feature2\": 0.3, \"predict\": false}, {\"feature1\": 0.52, \"feature2\": 0.32, \"predict\": false}, {\"feature1\": 0.52, \"feature2\": 0.34, \"predict\": false}, {\"feature1\": 0.52, \"feature2\": 0.36, \"predict\": false}, {\"feature1\": 0.52, \"feature2\": 0.38, \"predict\": false}, {\"feature1\": 0.52, \"feature2\": 0.4, \"predict\": false}, {\"feature1\": 0.52, \"feature2\": 0.42, \"predict\": false}, {\"feature1\": 0.52, \"feature2\": 0.44, \"predict\": true}, {\"feature1\": 0.52, \"feature2\": 0.46, \"predict\": true}, {\"feature1\": 0.52, \"feature2\": 0.48, \"predict\": true}, {\"feature1\": 0.52, \"feature2\": 0.5, \"predict\": true}, {\"feature1\": 0.52, \"feature2\": 0.52, \"predict\": true}, {\"feature1\": 0.52, \"feature2\": 0.54, \"predict\": true}, {\"feature1\": 0.52, \"feature2\": 0.56, \"predict\": true}, {\"feature1\": 0.52, \"feature2\": 0.58, \"predict\": true}, {\"feature1\": 0.52, \"feature2\": 0.6, \"predict\": true}, {\"feature1\": 0.52, \"feature2\": 0.62, \"predict\": true}, {\"feature1\": 0.52, \"feature2\": 0.64, \"predict\": true}, {\"feature1\": 0.52, \"feature2\": 0.66, \"predict\": true}, {\"feature1\": 0.52, \"feature2\": 0.68, \"predict\": true}, {\"feature1\": 0.52, \"feature2\": 0.7, \"predict\": true}, {\"feature1\": 0.52, \"feature2\": 0.72, \"predict\": true}, {\"feature1\": 0.52, \"feature2\": 0.74, \"predict\": true}, {\"feature1\": 0.52, \"feature2\": 0.76, \"predict\": true}, {\"feature1\": 0.52, \"feature2\": 0.78, \"predict\": true}, {\"feature1\": 0.52, \"feature2\": 0.8, \"predict\": true}, {\"feature1\": 0.52, \"feature2\": 0.82, \"predict\": true}, {\"feature1\": 0.52, \"feature2\": 0.84, \"predict\": true}, {\"feature1\": 0.52, \"feature2\": 0.86, \"predict\": true}, {\"feature1\": 0.52, \"feature2\": 0.88, \"predict\": true}, {\"feature1\": 0.52, \"feature2\": 0.9, \"predict\": true}, {\"feature1\": 0.52, \"feature2\": 0.92, \"predict\": true}, {\"feature1\": 0.52, \"feature2\": 0.94, \"predict\": true}, {\"feature1\": 0.52, \"feature2\": 0.96, \"predict\": true}, {\"feature1\": 0.52, \"feature2\": 0.98, \"predict\": true}, {\"feature1\": 0.54, \"feature2\": 0.0, \"predict\": false}, {\"feature1\": 0.54, \"feature2\": 0.02, \"predict\": false}, {\"feature1\": 0.54, \"feature2\": 0.04, \"predict\": false}, {\"feature1\": 0.54, \"feature2\": 0.06, \"predict\": false}, {\"feature1\": 0.54, \"feature2\": 0.08, \"predict\": false}, {\"feature1\": 0.54, \"feature2\": 0.1, \"predict\": false}, {\"feature1\": 0.54, \"feature2\": 0.12, \"predict\": false}, {\"feature1\": 0.54, \"feature2\": 0.14, \"predict\": false}, {\"feature1\": 0.54, \"feature2\": 0.16, \"predict\": false}, {\"feature1\": 0.54, \"feature2\": 0.18, \"predict\": false}, {\"feature1\": 0.54, \"feature2\": 0.2, \"predict\": false}, {\"feature1\": 0.54, \"feature2\": 0.22, \"predict\": false}, {\"feature1\": 0.54, \"feature2\": 0.24, \"predict\": false}, {\"feature1\": 0.54, \"feature2\": 0.26, \"predict\": false}, {\"feature1\": 0.54, \"feature2\": 0.28, \"predict\": false}, {\"feature1\": 0.54, \"feature2\": 0.3, \"predict\": false}, {\"feature1\": 0.54, \"feature2\": 0.32, \"predict\": false}, {\"feature1\": 0.54, \"feature2\": 0.34, \"predict\": false}, {\"feature1\": 0.54, \"feature2\": 0.36, \"predict\": false}, {\"feature1\": 0.54, \"feature2\": 0.38, \"predict\": false}, {\"feature1\": 0.54, \"feature2\": 0.4, \"predict\": false}, {\"feature1\": 0.54, \"feature2\": 0.42, \"predict\": true}, {\"feature1\": 0.54, \"feature2\": 0.44, \"predict\": true}, {\"feature1\": 0.54, \"feature2\": 0.46, \"predict\": true}, {\"feature1\": 0.54, \"feature2\": 0.48, \"predict\": true}, {\"feature1\": 0.54, \"feature2\": 0.5, \"predict\": true}, {\"feature1\": 0.54, \"feature2\": 0.52, \"predict\": true}, {\"feature1\": 0.54, \"feature2\": 0.54, \"predict\": true}, {\"feature1\": 0.54, \"feature2\": 0.56, \"predict\": true}, {\"feature1\": 0.54, \"feature2\": 0.58, \"predict\": true}, {\"feature1\": 0.54, \"feature2\": 0.6, \"predict\": true}, {\"feature1\": 0.54, \"feature2\": 0.62, \"predict\": true}, {\"feature1\": 0.54, \"feature2\": 0.64, \"predict\": true}, {\"feature1\": 0.54, \"feature2\": 0.66, \"predict\": true}, {\"feature1\": 0.54, \"feature2\": 0.68, \"predict\": true}, {\"feature1\": 0.54, \"feature2\": 0.7, \"predict\": true}, {\"feature1\": 0.54, \"feature2\": 0.72, \"predict\": true}, {\"feature1\": 0.54, \"feature2\": 0.74, \"predict\": true}, {\"feature1\": 0.54, \"feature2\": 0.76, \"predict\": true}, {\"feature1\": 0.54, \"feature2\": 0.78, \"predict\": true}, {\"feature1\": 0.54, \"feature2\": 0.8, \"predict\": true}, {\"feature1\": 0.54, \"feature2\": 0.82, \"predict\": true}, {\"feature1\": 0.54, \"feature2\": 0.84, \"predict\": true}, {\"feature1\": 0.54, \"feature2\": 0.86, \"predict\": true}, {\"feature1\": 0.54, \"feature2\": 0.88, \"predict\": true}, {\"feature1\": 0.54, \"feature2\": 0.9, \"predict\": true}, {\"feature1\": 0.54, \"feature2\": 0.92, \"predict\": true}, {\"feature1\": 0.54, \"feature2\": 0.94, \"predict\": true}, {\"feature1\": 0.54, \"feature2\": 0.96, \"predict\": true}, {\"feature1\": 0.54, \"feature2\": 0.98, \"predict\": true}, {\"feature1\": 0.56, \"feature2\": 0.0, \"predict\": false}, {\"feature1\": 0.56, \"feature2\": 0.02, \"predict\": false}, {\"feature1\": 0.56, \"feature2\": 0.04, \"predict\": false}, {\"feature1\": 0.56, \"feature2\": 0.06, \"predict\": false}, {\"feature1\": 0.56, \"feature2\": 0.08, \"predict\": false}, {\"feature1\": 0.56, \"feature2\": 0.1, \"predict\": false}, {\"feature1\": 0.56, \"feature2\": 0.12, \"predict\": false}, {\"feature1\": 0.56, \"feature2\": 0.14, \"predict\": false}, {\"feature1\": 0.56, \"feature2\": 0.16, \"predict\": false}, {\"feature1\": 0.56, \"feature2\": 0.18, \"predict\": false}, {\"feature1\": 0.56, \"feature2\": 0.2, \"predict\": false}, {\"feature1\": 0.56, \"feature2\": 0.22, \"predict\": false}, {\"feature1\": 0.56, \"feature2\": 0.24, \"predict\": false}, {\"feature1\": 0.56, \"feature2\": 0.26, \"predict\": false}, {\"feature1\": 0.56, \"feature2\": 0.28, \"predict\": false}, {\"feature1\": 0.56, \"feature2\": 0.3, \"predict\": false}, {\"feature1\": 0.56, \"feature2\": 0.32, \"predict\": false}, {\"feature1\": 0.56, \"feature2\": 0.34, \"predict\": false}, {\"feature1\": 0.56, \"feature2\": 0.36, \"predict\": false}, {\"feature1\": 0.56, \"feature2\": 0.38, \"predict\": false}, {\"feature1\": 0.56, \"feature2\": 0.4, \"predict\": true}, {\"feature1\": 0.56, \"feature2\": 0.42, \"predict\": true}, {\"feature1\": 0.56, \"feature2\": 0.44, \"predict\": true}, {\"feature1\": 0.56, \"feature2\": 0.46, \"predict\": true}, {\"feature1\": 0.56, \"feature2\": 0.48, \"predict\": true}, {\"feature1\": 0.56, \"feature2\": 0.5, \"predict\": true}, {\"feature1\": 0.56, \"feature2\": 0.52, \"predict\": true}, {\"feature1\": 0.56, \"feature2\": 0.54, \"predict\": true}, {\"feature1\": 0.56, \"feature2\": 0.56, \"predict\": true}, {\"feature1\": 0.56, \"feature2\": 0.58, \"predict\": true}, {\"feature1\": 0.56, \"feature2\": 0.6, \"predict\": true}, {\"feature1\": 0.56, \"feature2\": 0.62, \"predict\": true}, {\"feature1\": 0.56, \"feature2\": 0.64, \"predict\": true}, {\"feature1\": 0.56, \"feature2\": 0.66, \"predict\": true}, {\"feature1\": 0.56, \"feature2\": 0.68, \"predict\": true}, {\"feature1\": 0.56, \"feature2\": 0.7, \"predict\": true}, {\"feature1\": 0.56, \"feature2\": 0.72, \"predict\": true}, {\"feature1\": 0.56, \"feature2\": 0.74, \"predict\": true}, {\"feature1\": 0.56, \"feature2\": 0.76, \"predict\": true}, {\"feature1\": 0.56, \"feature2\": 0.78, \"predict\": true}, {\"feature1\": 0.56, \"feature2\": 0.8, \"predict\": true}, {\"feature1\": 0.56, \"feature2\": 0.82, \"predict\": true}, {\"feature1\": 0.56, \"feature2\": 0.84, \"predict\": true}, {\"feature1\": 0.56, \"feature2\": 0.86, \"predict\": true}, {\"feature1\": 0.56, \"feature2\": 0.88, \"predict\": true}, {\"feature1\": 0.56, \"feature2\": 0.9, \"predict\": true}, {\"feature1\": 0.56, \"feature2\": 0.92, \"predict\": true}, {\"feature1\": 0.56, \"feature2\": 0.94, \"predict\": true}, {\"feature1\": 0.56, \"feature2\": 0.96, \"predict\": true}, {\"feature1\": 0.56, \"feature2\": 0.98, \"predict\": true}, {\"feature1\": 0.58, \"feature2\": 0.0, \"predict\": false}, {\"feature1\": 0.58, \"feature2\": 0.02, \"predict\": false}, {\"feature1\": 0.58, \"feature2\": 0.04, \"predict\": false}, {\"feature1\": 0.58, \"feature2\": 0.06, \"predict\": false}, {\"feature1\": 0.58, \"feature2\": 0.08, \"predict\": false}, {\"feature1\": 0.58, \"feature2\": 0.1, \"predict\": false}, {\"feature1\": 0.58, \"feature2\": 0.12, \"predict\": false}, {\"feature1\": 0.58, \"feature2\": 0.14, \"predict\": false}, {\"feature1\": 0.58, \"feature2\": 0.16, \"predict\": false}, {\"feature1\": 0.58, \"feature2\": 0.18, \"predict\": false}, {\"feature1\": 0.58, \"feature2\": 0.2, \"predict\": false}, {\"feature1\": 0.58, \"feature2\": 0.22, \"predict\": false}, {\"feature1\": 0.58, \"feature2\": 0.24, \"predict\": false}, {\"feature1\": 0.58, \"feature2\": 0.26, \"predict\": false}, {\"feature1\": 0.58, \"feature2\": 0.28, \"predict\": false}, {\"feature1\": 0.58, \"feature2\": 0.3, \"predict\": false}, {\"feature1\": 0.58, \"feature2\": 0.32, \"predict\": false}, {\"feature1\": 0.58, \"feature2\": 0.34, \"predict\": false}, {\"feature1\": 0.58, \"feature2\": 0.36, \"predict\": false}, {\"feature1\": 0.58, \"feature2\": 0.38, \"predict\": true}, {\"feature1\": 0.58, \"feature2\": 0.4, \"predict\": true}, {\"feature1\": 0.58, \"feature2\": 0.42, \"predict\": true}, {\"feature1\": 0.58, \"feature2\": 0.44, \"predict\": true}, {\"feature1\": 0.58, \"feature2\": 0.46, \"predict\": true}, {\"feature1\": 0.58, \"feature2\": 0.48, \"predict\": true}, {\"feature1\": 0.58, \"feature2\": 0.5, \"predict\": true}, {\"feature1\": 0.58, \"feature2\": 0.52, \"predict\": true}, {\"feature1\": 0.58, \"feature2\": 0.54, \"predict\": true}, {\"feature1\": 0.58, \"feature2\": 0.56, \"predict\": true}, {\"feature1\": 0.58, \"feature2\": 0.58, \"predict\": true}, {\"feature1\": 0.58, \"feature2\": 0.6, \"predict\": true}, {\"feature1\": 0.58, \"feature2\": 0.62, \"predict\": true}, {\"feature1\": 0.58, \"feature2\": 0.64, \"predict\": true}, {\"feature1\": 0.58, \"feature2\": 0.66, \"predict\": true}, {\"feature1\": 0.58, \"feature2\": 0.68, \"predict\": true}, {\"feature1\": 0.58, \"feature2\": 0.7, \"predict\": true}, {\"feature1\": 0.58, \"feature2\": 0.72, \"predict\": true}, {\"feature1\": 0.58, \"feature2\": 0.74, \"predict\": true}, {\"feature1\": 0.58, \"feature2\": 0.76, \"predict\": true}, {\"feature1\": 0.58, \"feature2\": 0.78, \"predict\": true}, {\"feature1\": 0.58, \"feature2\": 0.8, \"predict\": true}, {\"feature1\": 0.58, \"feature2\": 0.82, \"predict\": true}, {\"feature1\": 0.58, \"feature2\": 0.84, \"predict\": true}, {\"feature1\": 0.58, \"feature2\": 0.86, \"predict\": true}, {\"feature1\": 0.58, \"feature2\": 0.88, \"predict\": true}, {\"feature1\": 0.58, \"feature2\": 0.9, \"predict\": true}, {\"feature1\": 0.58, \"feature2\": 0.92, \"predict\": true}, {\"feature1\": 0.58, \"feature2\": 0.94, \"predict\": true}, {\"feature1\": 0.58, \"feature2\": 0.96, \"predict\": true}, {\"feature1\": 0.58, \"feature2\": 0.98, \"predict\": true}, {\"feature1\": 0.6, \"feature2\": 0.0, \"predict\": false}, {\"feature1\": 0.6, \"feature2\": 0.02, \"predict\": false}, {\"feature1\": 0.6, \"feature2\": 0.04, \"predict\": false}, {\"feature1\": 0.6, \"feature2\": 0.06, \"predict\": false}, {\"feature1\": 0.6, \"feature2\": 0.08, \"predict\": false}, {\"feature1\": 0.6, \"feature2\": 0.1, \"predict\": false}, {\"feature1\": 0.6, \"feature2\": 0.12, \"predict\": false}, {\"feature1\": 0.6, \"feature2\": 0.14, \"predict\": false}, {\"feature1\": 0.6, \"feature2\": 0.16, \"predict\": false}, {\"feature1\": 0.6, \"feature2\": 0.18, \"predict\": false}, {\"feature1\": 0.6, \"feature2\": 0.2, \"predict\": false}, {\"feature1\": 0.6, \"feature2\": 0.22, \"predict\": false}, {\"feature1\": 0.6, \"feature2\": 0.24, \"predict\": false}, {\"feature1\": 0.6, \"feature2\": 0.26, \"predict\": false}, {\"feature1\": 0.6, \"feature2\": 0.28, \"predict\": false}, {\"feature1\": 0.6, \"feature2\": 0.3, \"predict\": false}, {\"feature1\": 0.6, \"feature2\": 0.32, \"predict\": false}, {\"feature1\": 0.6, \"feature2\": 0.34, \"predict\": false}, {\"feature1\": 0.6, \"feature2\": 0.36, \"predict\": true}, {\"feature1\": 0.6, \"feature2\": 0.38, \"predict\": true}, {\"feature1\": 0.6, \"feature2\": 0.4, \"predict\": true}, {\"feature1\": 0.6, \"feature2\": 0.42, \"predict\": true}, {\"feature1\": 0.6, \"feature2\": 0.44, \"predict\": true}, {\"feature1\": 0.6, \"feature2\": 0.46, \"predict\": true}, {\"feature1\": 0.6, \"feature2\": 0.48, \"predict\": true}, {\"feature1\": 0.6, \"feature2\": 0.5, \"predict\": true}, {\"feature1\": 0.6, \"feature2\": 0.52, \"predict\": true}, {\"feature1\": 0.6, \"feature2\": 0.54, \"predict\": true}, {\"feature1\": 0.6, \"feature2\": 0.56, \"predict\": true}, {\"feature1\": 0.6, \"feature2\": 0.58, \"predict\": true}, {\"feature1\": 0.6, \"feature2\": 0.6, \"predict\": true}, {\"feature1\": 0.6, \"feature2\": 0.62, \"predict\": true}, {\"feature1\": 0.6, \"feature2\": 0.64, \"predict\": true}, {\"feature1\": 0.6, \"feature2\": 0.66, \"predict\": true}, {\"feature1\": 0.6, \"feature2\": 0.68, \"predict\": true}, {\"feature1\": 0.6, \"feature2\": 0.7, \"predict\": true}, {\"feature1\": 0.6, \"feature2\": 0.72, \"predict\": true}, {\"feature1\": 0.6, \"feature2\": 0.74, \"predict\": true}, {\"feature1\": 0.6, \"feature2\": 0.76, \"predict\": true}, {\"feature1\": 0.6, \"feature2\": 0.78, \"predict\": true}, {\"feature1\": 0.6, \"feature2\": 0.8, \"predict\": true}, {\"feature1\": 0.6, \"feature2\": 0.82, \"predict\": true}, {\"feature1\": 0.6, \"feature2\": 0.84, \"predict\": true}, {\"feature1\": 0.6, \"feature2\": 0.86, \"predict\": true}, {\"feature1\": 0.6, \"feature2\": 0.88, \"predict\": true}, {\"feature1\": 0.6, \"feature2\": 0.9, \"predict\": true}, {\"feature1\": 0.6, \"feature2\": 0.92, \"predict\": true}, {\"feature1\": 0.6, \"feature2\": 0.94, \"predict\": true}, {\"feature1\": 0.6, \"feature2\": 0.96, \"predict\": true}, {\"feature1\": 0.6, \"feature2\": 0.98, \"predict\": true}, {\"feature1\": 0.62, \"feature2\": 0.0, \"predict\": false}, {\"feature1\": 0.62, \"feature2\": 0.02, \"predict\": false}, {\"feature1\": 0.62, \"feature2\": 0.04, \"predict\": false}, {\"feature1\": 0.62, \"feature2\": 0.06, \"predict\": false}, {\"feature1\": 0.62, \"feature2\": 0.08, \"predict\": false}, {\"feature1\": 0.62, \"feature2\": 0.1, \"predict\": false}, {\"feature1\": 0.62, \"feature2\": 0.12, \"predict\": false}, {\"feature1\": 0.62, \"feature2\": 0.14, \"predict\": false}, {\"feature1\": 0.62, \"feature2\": 0.16, \"predict\": false}, {\"feature1\": 0.62, \"feature2\": 0.18, \"predict\": false}, {\"feature1\": 0.62, \"feature2\": 0.2, \"predict\": false}, {\"feature1\": 0.62, \"feature2\": 0.22, \"predict\": false}, {\"feature1\": 0.62, \"feature2\": 0.24, \"predict\": false}, {\"feature1\": 0.62, \"feature2\": 0.26, \"predict\": false}, {\"feature1\": 0.62, \"feature2\": 0.28, \"predict\": false}, {\"feature1\": 0.62, \"feature2\": 0.3, \"predict\": false}, {\"feature1\": 0.62, \"feature2\": 0.32, \"predict\": false}, {\"feature1\": 0.62, \"feature2\": 0.34, \"predict\": true}, {\"feature1\": 0.62, \"feature2\": 0.36, \"predict\": true}, {\"feature1\": 0.62, \"feature2\": 0.38, \"predict\": true}, {\"feature1\": 0.62, \"feature2\": 0.4, \"predict\": true}, {\"feature1\": 0.62, \"feature2\": 0.42, \"predict\": true}, {\"feature1\": 0.62, \"feature2\": 0.44, \"predict\": true}, {\"feature1\": 0.62, \"feature2\": 0.46, \"predict\": true}, {\"feature1\": 0.62, \"feature2\": 0.48, \"predict\": true}, {\"feature1\": 0.62, \"feature2\": 0.5, \"predict\": true}, {\"feature1\": 0.62, \"feature2\": 0.52, \"predict\": true}, {\"feature1\": 0.62, \"feature2\": 0.54, \"predict\": true}, {\"feature1\": 0.62, \"feature2\": 0.56, \"predict\": true}, {\"feature1\": 0.62, \"feature2\": 0.58, \"predict\": true}, {\"feature1\": 0.62, \"feature2\": 0.6, \"predict\": true}, {\"feature1\": 0.62, \"feature2\": 0.62, \"predict\": true}, {\"feature1\": 0.62, \"feature2\": 0.64, \"predict\": true}, {\"feature1\": 0.62, \"feature2\": 0.66, \"predict\": true}, {\"feature1\": 0.62, \"feature2\": 0.68, \"predict\": true}, {\"feature1\": 0.62, \"feature2\": 0.7, \"predict\": true}, {\"feature1\": 0.62, \"feature2\": 0.72, \"predict\": true}, {\"feature1\": 0.62, \"feature2\": 0.74, \"predict\": true}, {\"feature1\": 0.62, \"feature2\": 0.76, \"predict\": true}, {\"feature1\": 0.62, \"feature2\": 0.78, \"predict\": true}, {\"feature1\": 0.62, \"feature2\": 0.8, \"predict\": true}, {\"feature1\": 0.62, \"feature2\": 0.82, \"predict\": true}, {\"feature1\": 0.62, \"feature2\": 0.84, \"predict\": true}, {\"feature1\": 0.62, \"feature2\": 0.86, \"predict\": true}, {\"feature1\": 0.62, \"feature2\": 0.88, \"predict\": true}, {\"feature1\": 0.62, \"feature2\": 0.9, \"predict\": true}, {\"feature1\": 0.62, \"feature2\": 0.92, \"predict\": true}, {\"feature1\": 0.62, \"feature2\": 0.94, \"predict\": true}, {\"feature1\": 0.62, \"feature2\": 0.96, \"predict\": true}, {\"feature1\": 0.62, \"feature2\": 0.98, \"predict\": true}, {\"feature1\": 0.64, \"feature2\": 0.0, \"predict\": false}, {\"feature1\": 0.64, \"feature2\": 0.02, \"predict\": false}, {\"feature1\": 0.64, \"feature2\": 0.04, \"predict\": false}, {\"feature1\": 0.64, \"feature2\": 0.06, \"predict\": false}, {\"feature1\": 0.64, \"feature2\": 0.08, \"predict\": false}, {\"feature1\": 0.64, \"feature2\": 0.1, \"predict\": false}, {\"feature1\": 0.64, \"feature2\": 0.12, \"predict\": false}, {\"feature1\": 0.64, \"feature2\": 0.14, \"predict\": false}, {\"feature1\": 0.64, \"feature2\": 0.16, \"predict\": false}, {\"feature1\": 0.64, \"feature2\": 0.18, \"predict\": false}, {\"feature1\": 0.64, \"feature2\": 0.2, \"predict\": false}, {\"feature1\": 0.64, \"feature2\": 0.22, \"predict\": false}, {\"feature1\": 0.64, \"feature2\": 0.24, \"predict\": false}, {\"feature1\": 0.64, \"feature2\": 0.26, \"predict\": false}, {\"feature1\": 0.64, \"feature2\": 0.28, \"predict\": false}, {\"feature1\": 0.64, \"feature2\": 0.3, \"predict\": false}, {\"feature1\": 0.64, \"feature2\": 0.32, \"predict\": true}, {\"feature1\": 0.64, \"feature2\": 0.34, \"predict\": true}, {\"feature1\": 0.64, \"feature2\": 0.36, \"predict\": true}, {\"feature1\": 0.64, \"feature2\": 0.38, \"predict\": true}, {\"feature1\": 0.64, \"feature2\": 0.4, \"predict\": true}, {\"feature1\": 0.64, \"feature2\": 0.42, \"predict\": true}, {\"feature1\": 0.64, \"feature2\": 0.44, \"predict\": true}, {\"feature1\": 0.64, \"feature2\": 0.46, \"predict\": true}, {\"feature1\": 0.64, \"feature2\": 0.48, \"predict\": true}, {\"feature1\": 0.64, \"feature2\": 0.5, \"predict\": true}, {\"feature1\": 0.64, \"feature2\": 0.52, \"predict\": true}, {\"feature1\": 0.64, \"feature2\": 0.54, \"predict\": true}, {\"feature1\": 0.64, \"feature2\": 0.56, \"predict\": true}, {\"feature1\": 0.64, \"feature2\": 0.58, \"predict\": true}, {\"feature1\": 0.64, \"feature2\": 0.6, \"predict\": true}, {\"feature1\": 0.64, \"feature2\": 0.62, \"predict\": true}, {\"feature1\": 0.64, \"feature2\": 0.64, \"predict\": true}, {\"feature1\": 0.64, \"feature2\": 0.66, \"predict\": true}, {\"feature1\": 0.64, \"feature2\": 0.68, \"predict\": true}, {\"feature1\": 0.64, \"feature2\": 0.7, \"predict\": true}, {\"feature1\": 0.64, \"feature2\": 0.72, \"predict\": true}, {\"feature1\": 0.64, \"feature2\": 0.74, \"predict\": true}, {\"feature1\": 0.64, \"feature2\": 0.76, \"predict\": true}, {\"feature1\": 0.64, \"feature2\": 0.78, \"predict\": true}, {\"feature1\": 0.64, \"feature2\": 0.8, \"predict\": true}, {\"feature1\": 0.64, \"feature2\": 0.82, \"predict\": true}, {\"feature1\": 0.64, \"feature2\": 0.84, \"predict\": true}, {\"feature1\": 0.64, \"feature2\": 0.86, \"predict\": true}, {\"feature1\": 0.64, \"feature2\": 0.88, \"predict\": true}, {\"feature1\": 0.64, \"feature2\": 0.9, \"predict\": true}, {\"feature1\": 0.64, \"feature2\": 0.92, \"predict\": true}, {\"feature1\": 0.64, \"feature2\": 0.94, \"predict\": true}, {\"feature1\": 0.64, \"feature2\": 0.96, \"predict\": true}, {\"feature1\": 0.64, \"feature2\": 0.98, \"predict\": true}, {\"feature1\": 0.66, \"feature2\": 0.0, \"predict\": false}, {\"feature1\": 0.66, \"feature2\": 0.02, \"predict\": false}, {\"feature1\": 0.66, \"feature2\": 0.04, \"predict\": false}, {\"feature1\": 0.66, \"feature2\": 0.06, \"predict\": false}, {\"feature1\": 0.66, \"feature2\": 0.08, \"predict\": false}, {\"feature1\": 0.66, \"feature2\": 0.1, \"predict\": false}, {\"feature1\": 0.66, \"feature2\": 0.12, \"predict\": false}, {\"feature1\": 0.66, \"feature2\": 0.14, \"predict\": false}, {\"feature1\": 0.66, \"feature2\": 0.16, \"predict\": false}, {\"feature1\": 0.66, \"feature2\": 0.18, \"predict\": false}, {\"feature1\": 0.66, \"feature2\": 0.2, \"predict\": false}, {\"feature1\": 0.66, \"feature2\": 0.22, \"predict\": false}, {\"feature1\": 0.66, \"feature2\": 0.24, \"predict\": false}, {\"feature1\": 0.66, \"feature2\": 0.26, \"predict\": false}, {\"feature1\": 0.66, \"feature2\": 0.28, \"predict\": false}, {\"feature1\": 0.66, \"feature2\": 0.3, \"predict\": true}, {\"feature1\": 0.66, \"feature2\": 0.32, \"predict\": true}, {\"feature1\": 0.66, \"feature2\": 0.34, \"predict\": true}, {\"feature1\": 0.66, \"feature2\": 0.36, \"predict\": true}, {\"feature1\": 0.66, \"feature2\": 0.38, \"predict\": true}, {\"feature1\": 0.66, \"feature2\": 0.4, \"predict\": true}, {\"feature1\": 0.66, \"feature2\": 0.42, \"predict\": true}, {\"feature1\": 0.66, \"feature2\": 0.44, \"predict\": true}, {\"feature1\": 0.66, \"feature2\": 0.46, \"predict\": true}, {\"feature1\": 0.66, \"feature2\": 0.48, \"predict\": true}, {\"feature1\": 0.66, \"feature2\": 0.5, \"predict\": true}, {\"feature1\": 0.66, \"feature2\": 0.52, \"predict\": true}, {\"feature1\": 0.66, \"feature2\": 0.54, \"predict\": true}, {\"feature1\": 0.66, \"feature2\": 0.56, \"predict\": true}, {\"feature1\": 0.66, \"feature2\": 0.58, \"predict\": true}, {\"feature1\": 0.66, \"feature2\": 0.6, \"predict\": true}, {\"feature1\": 0.66, \"feature2\": 0.62, \"predict\": true}, {\"feature1\": 0.66, \"feature2\": 0.64, \"predict\": true}, {\"feature1\": 0.66, \"feature2\": 0.66, \"predict\": true}, {\"feature1\": 0.66, \"feature2\": 0.68, \"predict\": true}, {\"feature1\": 0.66, \"feature2\": 0.7, \"predict\": true}, {\"feature1\": 0.66, \"feature2\": 0.72, \"predict\": true}, {\"feature1\": 0.66, \"feature2\": 0.74, \"predict\": true}, {\"feature1\": 0.66, \"feature2\": 0.76, \"predict\": true}, {\"feature1\": 0.66, \"feature2\": 0.78, \"predict\": true}, {\"feature1\": 0.66, \"feature2\": 0.8, \"predict\": true}, {\"feature1\": 0.66, \"feature2\": 0.82, \"predict\": true}, {\"feature1\": 0.66, \"feature2\": 0.84, \"predict\": true}, {\"feature1\": 0.66, \"feature2\": 0.86, \"predict\": true}, {\"feature1\": 0.66, \"feature2\": 0.88, \"predict\": true}, {\"feature1\": 0.66, \"feature2\": 0.9, \"predict\": true}, {\"feature1\": 0.66, \"feature2\": 0.92, \"predict\": true}, {\"feature1\": 0.66, \"feature2\": 0.94, \"predict\": true}, {\"feature1\": 0.66, \"feature2\": 0.96, \"predict\": true}, {\"feature1\": 0.66, \"feature2\": 0.98, \"predict\": true}, {\"feature1\": 0.68, \"feature2\": 0.0, \"predict\": false}, {\"feature1\": 0.68, \"feature2\": 0.02, \"predict\": false}, {\"feature1\": 0.68, \"feature2\": 0.04, \"predict\": false}, {\"feature1\": 0.68, \"feature2\": 0.06, \"predict\": false}, {\"feature1\": 0.68, \"feature2\": 0.08, \"predict\": false}, {\"feature1\": 0.68, \"feature2\": 0.1, \"predict\": false}, {\"feature1\": 0.68, \"feature2\": 0.12, \"predict\": false}, {\"feature1\": 0.68, \"feature2\": 0.14, \"predict\": false}, {\"feature1\": 0.68, \"feature2\": 0.16, \"predict\": false}, {\"feature1\": 0.68, \"feature2\": 0.18, \"predict\": false}, {\"feature1\": 0.68, \"feature2\": 0.2, \"predict\": false}, {\"feature1\": 0.68, \"feature2\": 0.22, \"predict\": false}, {\"feature1\": 0.68, \"feature2\": 0.24, \"predict\": false}, {\"feature1\": 0.68, \"feature2\": 0.26, \"predict\": false}, {\"feature1\": 0.68, \"feature2\": 0.28, \"predict\": true}, {\"feature1\": 0.68, \"feature2\": 0.3, \"predict\": true}, {\"feature1\": 0.68, \"feature2\": 0.32, \"predict\": true}, {\"feature1\": 0.68, \"feature2\": 0.34, \"predict\": true}, {\"feature1\": 0.68, \"feature2\": 0.36, \"predict\": true}, {\"feature1\": 0.68, \"feature2\": 0.38, \"predict\": true}, {\"feature1\": 0.68, \"feature2\": 0.4, \"predict\": true}, {\"feature1\": 0.68, \"feature2\": 0.42, \"predict\": true}, {\"feature1\": 0.68, \"feature2\": 0.44, \"predict\": true}, {\"feature1\": 0.68, \"feature2\": 0.46, \"predict\": true}, {\"feature1\": 0.68, \"feature2\": 0.48, \"predict\": true}, {\"feature1\": 0.68, \"feature2\": 0.5, \"predict\": true}, {\"feature1\": 0.68, \"feature2\": 0.52, \"predict\": true}, {\"feature1\": 0.68, \"feature2\": 0.54, \"predict\": true}, {\"feature1\": 0.68, \"feature2\": 0.56, \"predict\": true}, {\"feature1\": 0.68, \"feature2\": 0.58, \"predict\": true}, {\"feature1\": 0.68, \"feature2\": 0.6, \"predict\": true}, {\"feature1\": 0.68, \"feature2\": 0.62, \"predict\": true}, {\"feature1\": 0.68, \"feature2\": 0.64, \"predict\": true}, {\"feature1\": 0.68, \"feature2\": 0.66, \"predict\": true}, {\"feature1\": 0.68, \"feature2\": 0.68, \"predict\": true}, {\"feature1\": 0.68, \"feature2\": 0.7, \"predict\": true}, {\"feature1\": 0.68, \"feature2\": 0.72, \"predict\": true}, {\"feature1\": 0.68, \"feature2\": 0.74, \"predict\": true}, {\"feature1\": 0.68, \"feature2\": 0.76, \"predict\": true}, {\"feature1\": 0.68, \"feature2\": 0.78, \"predict\": true}, {\"feature1\": 0.68, \"feature2\": 0.8, \"predict\": true}, {\"feature1\": 0.68, \"feature2\": 0.82, \"predict\": true}, {\"feature1\": 0.68, \"feature2\": 0.84, \"predict\": true}, {\"feature1\": 0.68, \"feature2\": 0.86, \"predict\": true}, {\"feature1\": 0.68, \"feature2\": 0.88, \"predict\": true}, {\"feature1\": 0.68, \"feature2\": 0.9, \"predict\": true}, {\"feature1\": 0.68, \"feature2\": 0.92, \"predict\": true}, {\"feature1\": 0.68, \"feature2\": 0.94, \"predict\": true}, {\"feature1\": 0.68, \"feature2\": 0.96, \"predict\": true}, {\"feature1\": 0.68, \"feature2\": 0.98, \"predict\": true}, {\"feature1\": 0.7, \"feature2\": 0.0, \"predict\": false}, {\"feature1\": 0.7, \"feature2\": 0.02, \"predict\": false}, {\"feature1\": 0.7, \"feature2\": 0.04, \"predict\": false}, {\"feature1\": 0.7, \"feature2\": 0.06, \"predict\": false}, {\"feature1\": 0.7, \"feature2\": 0.08, \"predict\": false}, {\"feature1\": 0.7, \"feature2\": 0.1, \"predict\": false}, {\"feature1\": 0.7, \"feature2\": 0.12, \"predict\": false}, {\"feature1\": 0.7, \"feature2\": 0.14, \"predict\": false}, {\"feature1\": 0.7, \"feature2\": 0.16, \"predict\": false}, {\"feature1\": 0.7, \"feature2\": 0.18, \"predict\": false}, {\"feature1\": 0.7, \"feature2\": 0.2, \"predict\": false}, {\"feature1\": 0.7, \"feature2\": 0.22, \"predict\": false}, {\"feature1\": 0.7, \"feature2\": 0.24, \"predict\": false}, {\"feature1\": 0.7, \"feature2\": 0.26, \"predict\": true}, {\"feature1\": 0.7, \"feature2\": 0.28, \"predict\": true}, {\"feature1\": 0.7, \"feature2\": 0.3, \"predict\": true}, {\"feature1\": 0.7, \"feature2\": 0.32, \"predict\": true}, {\"feature1\": 0.7, \"feature2\": 0.34, \"predict\": true}, {\"feature1\": 0.7, \"feature2\": 0.36, \"predict\": true}, {\"feature1\": 0.7, \"feature2\": 0.38, \"predict\": true}, {\"feature1\": 0.7, \"feature2\": 0.4, \"predict\": true}, {\"feature1\": 0.7, \"feature2\": 0.42, \"predict\": true}, {\"feature1\": 0.7, \"feature2\": 0.44, \"predict\": true}, {\"feature1\": 0.7, \"feature2\": 0.46, \"predict\": true}, {\"feature1\": 0.7, \"feature2\": 0.48, \"predict\": true}, {\"feature1\": 0.7, \"feature2\": 0.5, \"predict\": true}, {\"feature1\": 0.7, \"feature2\": 0.52, \"predict\": true}, {\"feature1\": 0.7, \"feature2\": 0.54, \"predict\": true}, {\"feature1\": 0.7, \"feature2\": 0.56, \"predict\": true}, {\"feature1\": 0.7, \"feature2\": 0.58, \"predict\": true}, {\"feature1\": 0.7, \"feature2\": 0.6, \"predict\": true}, {\"feature1\": 0.7, \"feature2\": 0.62, \"predict\": true}, {\"feature1\": 0.7, \"feature2\": 0.64, \"predict\": true}, {\"feature1\": 0.7, \"feature2\": 0.66, \"predict\": true}, {\"feature1\": 0.7, \"feature2\": 0.68, \"predict\": true}, {\"feature1\": 0.7, \"feature2\": 0.7, \"predict\": true}, {\"feature1\": 0.7, \"feature2\": 0.72, \"predict\": true}, {\"feature1\": 0.7, \"feature2\": 0.74, \"predict\": true}, {\"feature1\": 0.7, \"feature2\": 0.76, \"predict\": true}, {\"feature1\": 0.7, \"feature2\": 0.78, \"predict\": true}, {\"feature1\": 0.7, \"feature2\": 0.8, \"predict\": true}, {\"feature1\": 0.7, \"feature2\": 0.82, \"predict\": true}, {\"feature1\": 0.7, \"feature2\": 0.84, \"predict\": true}, {\"feature1\": 0.7, \"feature2\": 0.86, \"predict\": true}, {\"feature1\": 0.7, \"feature2\": 0.88, \"predict\": true}, {\"feature1\": 0.7, \"feature2\": 0.9, \"predict\": true}, {\"feature1\": 0.7, \"feature2\": 0.92, \"predict\": true}, {\"feature1\": 0.7, \"feature2\": 0.94, \"predict\": true}, {\"feature1\": 0.7, \"feature2\": 0.96, \"predict\": true}, {\"feature1\": 0.7, \"feature2\": 0.98, \"predict\": true}, {\"feature1\": 0.72, \"feature2\": 0.0, \"predict\": false}, {\"feature1\": 0.72, \"feature2\": 0.02, \"predict\": false}, {\"feature1\": 0.72, \"feature2\": 0.04, \"predict\": false}, {\"feature1\": 0.72, \"feature2\": 0.06, \"predict\": false}, {\"feature1\": 0.72, \"feature2\": 0.08, \"predict\": false}, {\"feature1\": 0.72, \"feature2\": 0.1, \"predict\": false}, {\"feature1\": 0.72, \"feature2\": 0.12, \"predict\": false}, {\"feature1\": 0.72, \"feature2\": 0.14, \"predict\": false}, {\"feature1\": 0.72, \"feature2\": 0.16, \"predict\": false}, {\"feature1\": 0.72, \"feature2\": 0.18, \"predict\": false}, {\"feature1\": 0.72, \"feature2\": 0.2, \"predict\": false}, {\"feature1\": 0.72, \"feature2\": 0.22, \"predict\": false}, {\"feature1\": 0.72, \"feature2\": 0.24, \"predict\": true}, {\"feature1\": 0.72, \"feature2\": 0.26, \"predict\": true}, {\"feature1\": 0.72, \"feature2\": 0.28, \"predict\": true}, {\"feature1\": 0.72, \"feature2\": 0.3, \"predict\": true}, {\"feature1\": 0.72, \"feature2\": 0.32, \"predict\": true}, {\"feature1\": 0.72, \"feature2\": 0.34, \"predict\": true}, {\"feature1\": 0.72, \"feature2\": 0.36, \"predict\": true}, {\"feature1\": 0.72, \"feature2\": 0.38, \"predict\": true}, {\"feature1\": 0.72, \"feature2\": 0.4, \"predict\": true}, {\"feature1\": 0.72, \"feature2\": 0.42, \"predict\": true}, {\"feature1\": 0.72, \"feature2\": 0.44, \"predict\": true}, {\"feature1\": 0.72, \"feature2\": 0.46, \"predict\": true}, {\"feature1\": 0.72, \"feature2\": 0.48, \"predict\": true}, {\"feature1\": 0.72, \"feature2\": 0.5, \"predict\": true}, {\"feature1\": 0.72, \"feature2\": 0.52, \"predict\": true}, {\"feature1\": 0.72, \"feature2\": 0.54, \"predict\": true}, {\"feature1\": 0.72, \"feature2\": 0.56, \"predict\": true}, {\"feature1\": 0.72, \"feature2\": 0.58, \"predict\": true}, {\"feature1\": 0.72, \"feature2\": 0.6, \"predict\": true}, {\"feature1\": 0.72, \"feature2\": 0.62, \"predict\": true}, {\"feature1\": 0.72, \"feature2\": 0.64, \"predict\": true}, {\"feature1\": 0.72, \"feature2\": 0.66, \"predict\": true}, {\"feature1\": 0.72, \"feature2\": 0.68, \"predict\": true}, {\"feature1\": 0.72, \"feature2\": 0.7, \"predict\": true}, {\"feature1\": 0.72, \"feature2\": 0.72, \"predict\": true}, {\"feature1\": 0.72, \"feature2\": 0.74, \"predict\": true}, {\"feature1\": 0.72, \"feature2\": 0.76, \"predict\": true}, {\"feature1\": 0.72, \"feature2\": 0.78, \"predict\": true}, {\"feature1\": 0.72, \"feature2\": 0.8, \"predict\": true}, {\"feature1\": 0.72, \"feature2\": 0.82, \"predict\": true}, {\"feature1\": 0.72, \"feature2\": 0.84, \"predict\": true}, {\"feature1\": 0.72, \"feature2\": 0.86, \"predict\": true}, {\"feature1\": 0.72, \"feature2\": 0.88, \"predict\": true}, {\"feature1\": 0.72, \"feature2\": 0.9, \"predict\": true}, {\"feature1\": 0.72, \"feature2\": 0.92, \"predict\": true}, {\"feature1\": 0.72, \"feature2\": 0.94, \"predict\": true}, {\"feature1\": 0.72, \"feature2\": 0.96, \"predict\": true}, {\"feature1\": 0.72, \"feature2\": 0.98, \"predict\": true}, {\"feature1\": 0.74, \"feature2\": 0.0, \"predict\": false}, {\"feature1\": 0.74, \"feature2\": 0.02, \"predict\": false}, {\"feature1\": 0.74, \"feature2\": 0.04, \"predict\": false}, {\"feature1\": 0.74, \"feature2\": 0.06, \"predict\": false}, {\"feature1\": 0.74, \"feature2\": 0.08, \"predict\": false}, {\"feature1\": 0.74, \"feature2\": 0.1, \"predict\": false}, {\"feature1\": 0.74, \"feature2\": 0.12, \"predict\": false}, {\"feature1\": 0.74, \"feature2\": 0.14, \"predict\": false}, {\"feature1\": 0.74, \"feature2\": 0.16, \"predict\": false}, {\"feature1\": 0.74, \"feature2\": 0.18, \"predict\": false}, {\"feature1\": 0.74, \"feature2\": 0.2, \"predict\": false}, {\"feature1\": 0.74, \"feature2\": 0.22, \"predict\": false}, {\"feature1\": 0.74, \"feature2\": 0.24, \"predict\": true}, {\"feature1\": 0.74, \"feature2\": 0.26, \"predict\": true}, {\"feature1\": 0.74, \"feature2\": 0.28, \"predict\": true}, {\"feature1\": 0.74, \"feature2\": 0.3, \"predict\": true}, {\"feature1\": 0.74, \"feature2\": 0.32, \"predict\": true}, {\"feature1\": 0.74, \"feature2\": 0.34, \"predict\": true}, {\"feature1\": 0.74, \"feature2\": 0.36, \"predict\": true}, {\"feature1\": 0.74, \"feature2\": 0.38, \"predict\": true}, {\"feature1\": 0.74, \"feature2\": 0.4, \"predict\": true}, {\"feature1\": 0.74, \"feature2\": 0.42, \"predict\": true}, {\"feature1\": 0.74, \"feature2\": 0.44, \"predict\": true}, {\"feature1\": 0.74, \"feature2\": 0.46, \"predict\": true}, {\"feature1\": 0.74, \"feature2\": 0.48, \"predict\": true}, {\"feature1\": 0.74, \"feature2\": 0.5, \"predict\": true}, {\"feature1\": 0.74, \"feature2\": 0.52, \"predict\": true}, {\"feature1\": 0.74, \"feature2\": 0.54, \"predict\": true}, {\"feature1\": 0.74, \"feature2\": 0.56, \"predict\": true}, {\"feature1\": 0.74, \"feature2\": 0.58, \"predict\": true}, {\"feature1\": 0.74, \"feature2\": 0.6, \"predict\": true}, {\"feature1\": 0.74, \"feature2\": 0.62, \"predict\": true}, {\"feature1\": 0.74, \"feature2\": 0.64, \"predict\": true}, {\"feature1\": 0.74, \"feature2\": 0.66, \"predict\": true}, {\"feature1\": 0.74, \"feature2\": 0.68, \"predict\": true}, {\"feature1\": 0.74, \"feature2\": 0.7, \"predict\": true}, {\"feature1\": 0.74, \"feature2\": 0.72, \"predict\": true}, {\"feature1\": 0.74, \"feature2\": 0.74, \"predict\": true}, {\"feature1\": 0.74, \"feature2\": 0.76, \"predict\": true}, {\"feature1\": 0.74, \"feature2\": 0.78, \"predict\": true}, {\"feature1\": 0.74, \"feature2\": 0.8, \"predict\": true}, {\"feature1\": 0.74, \"feature2\": 0.82, \"predict\": true}, {\"feature1\": 0.74, \"feature2\": 0.84, \"predict\": true}, {\"feature1\": 0.74, \"feature2\": 0.86, \"predict\": true}, {\"feature1\": 0.74, \"feature2\": 0.88, \"predict\": true}, {\"feature1\": 0.74, \"feature2\": 0.9, \"predict\": true}, {\"feature1\": 0.74, \"feature2\": 0.92, \"predict\": true}, {\"feature1\": 0.74, \"feature2\": 0.94, \"predict\": true}, {\"feature1\": 0.74, \"feature2\": 0.96, \"predict\": true}, {\"feature1\": 0.74, \"feature2\": 0.98, \"predict\": true}, {\"feature1\": 0.76, \"feature2\": 0.0, \"predict\": false}, {\"feature1\": 0.76, \"feature2\": 0.02, \"predict\": false}, {\"feature1\": 0.76, \"feature2\": 0.04, \"predict\": false}, {\"feature1\": 0.76, \"feature2\": 0.06, \"predict\": false}, {\"feature1\": 0.76, \"feature2\": 0.08, \"predict\": false}, {\"feature1\": 0.76, \"feature2\": 0.1, \"predict\": false}, {\"feature1\": 0.76, \"feature2\": 0.12, \"predict\": false}, {\"feature1\": 0.76, \"feature2\": 0.14, \"predict\": false}, {\"feature1\": 0.76, \"feature2\": 0.16, \"predict\": false}, {\"feature1\": 0.76, \"feature2\": 0.18, \"predict\": false}, {\"feature1\": 0.76, \"feature2\": 0.2, \"predict\": false}, {\"feature1\": 0.76, \"feature2\": 0.22, \"predict\": true}, {\"feature1\": 0.76, \"feature2\": 0.24, \"predict\": true}, {\"feature1\": 0.76, \"feature2\": 0.26, \"predict\": true}, {\"feature1\": 0.76, \"feature2\": 0.28, \"predict\": true}, {\"feature1\": 0.76, \"feature2\": 0.3, \"predict\": true}, {\"feature1\": 0.76, \"feature2\": 0.32, \"predict\": true}, {\"feature1\": 0.76, \"feature2\": 0.34, \"predict\": true}, {\"feature1\": 0.76, \"feature2\": 0.36, \"predict\": true}, {\"feature1\": 0.76, \"feature2\": 0.38, \"predict\": true}, {\"feature1\": 0.76, \"feature2\": 0.4, \"predict\": true}, {\"feature1\": 0.76, \"feature2\": 0.42, \"predict\": true}, {\"feature1\": 0.76, \"feature2\": 0.44, \"predict\": true}, {\"feature1\": 0.76, \"feature2\": 0.46, \"predict\": true}, {\"feature1\": 0.76, \"feature2\": 0.48, \"predict\": true}, {\"feature1\": 0.76, \"feature2\": 0.5, \"predict\": true}, {\"feature1\": 0.76, \"feature2\": 0.52, \"predict\": true}, {\"feature1\": 0.76, \"feature2\": 0.54, \"predict\": true}, {\"feature1\": 0.76, \"feature2\": 0.56, \"predict\": true}, {\"feature1\": 0.76, \"feature2\": 0.58, \"predict\": true}, {\"feature1\": 0.76, \"feature2\": 0.6, \"predict\": true}, {\"feature1\": 0.76, \"feature2\": 0.62, \"predict\": true}, {\"feature1\": 0.76, \"feature2\": 0.64, \"predict\": true}, {\"feature1\": 0.76, \"feature2\": 0.66, \"predict\": true}, {\"feature1\": 0.76, \"feature2\": 0.68, \"predict\": true}, {\"feature1\": 0.76, \"feature2\": 0.7, \"predict\": true}, {\"feature1\": 0.76, \"feature2\": 0.72, \"predict\": true}, {\"feature1\": 0.76, \"feature2\": 0.74, \"predict\": true}, {\"feature1\": 0.76, \"feature2\": 0.76, \"predict\": true}, {\"feature1\": 0.76, \"feature2\": 0.78, \"predict\": true}, {\"feature1\": 0.76, \"feature2\": 0.8, \"predict\": true}, {\"feature1\": 0.76, \"feature2\": 0.82, \"predict\": true}, {\"feature1\": 0.76, \"feature2\": 0.84, \"predict\": true}, {\"feature1\": 0.76, \"feature2\": 0.86, \"predict\": true}, {\"feature1\": 0.76, \"feature2\": 0.88, \"predict\": true}, {\"feature1\": 0.76, \"feature2\": 0.9, \"predict\": true}, {\"feature1\": 0.76, \"feature2\": 0.92, \"predict\": true}, {\"feature1\": 0.76, \"feature2\": 0.94, \"predict\": true}, {\"feature1\": 0.76, \"feature2\": 0.96, \"predict\": true}, {\"feature1\": 0.76, \"feature2\": 0.98, \"predict\": true}, {\"feature1\": 0.78, \"feature2\": 0.0, \"predict\": false}, {\"feature1\": 0.78, \"feature2\": 0.02, \"predict\": false}, {\"feature1\": 0.78, \"feature2\": 0.04, \"predict\": false}, {\"feature1\": 0.78, \"feature2\": 0.06, \"predict\": false}, {\"feature1\": 0.78, \"feature2\": 0.08, \"predict\": false}, {\"feature1\": 0.78, \"feature2\": 0.1, \"predict\": false}, {\"feature1\": 0.78, \"feature2\": 0.12, \"predict\": false}, {\"feature1\": 0.78, \"feature2\": 0.14, \"predict\": false}, {\"feature1\": 0.78, \"feature2\": 0.16, \"predict\": false}, {\"feature1\": 0.78, \"feature2\": 0.18, \"predict\": false}, {\"feature1\": 0.78, \"feature2\": 0.2, \"predict\": true}, {\"feature1\": 0.78, \"feature2\": 0.22, \"predict\": true}, {\"feature1\": 0.78, \"feature2\": 0.24, \"predict\": true}, {\"feature1\": 0.78, \"feature2\": 0.26, \"predict\": true}, {\"feature1\": 0.78, \"feature2\": 0.28, \"predict\": true}, {\"feature1\": 0.78, \"feature2\": 0.3, \"predict\": true}, {\"feature1\": 0.78, \"feature2\": 0.32, \"predict\": true}, {\"feature1\": 0.78, \"feature2\": 0.34, \"predict\": true}, {\"feature1\": 0.78, \"feature2\": 0.36, \"predict\": true}, {\"feature1\": 0.78, \"feature2\": 0.38, \"predict\": true}, {\"feature1\": 0.78, \"feature2\": 0.4, \"predict\": true}, {\"feature1\": 0.78, \"feature2\": 0.42, \"predict\": true}, {\"feature1\": 0.78, \"feature2\": 0.44, \"predict\": true}, {\"feature1\": 0.78, \"feature2\": 0.46, \"predict\": true}, {\"feature1\": 0.78, \"feature2\": 0.48, \"predict\": true}, {\"feature1\": 0.78, \"feature2\": 0.5, \"predict\": true}, {\"feature1\": 0.78, \"feature2\": 0.52, \"predict\": true}, {\"feature1\": 0.78, \"feature2\": 0.54, \"predict\": true}, {\"feature1\": 0.78, \"feature2\": 0.56, \"predict\": true}, {\"feature1\": 0.78, \"feature2\": 0.58, \"predict\": true}, {\"feature1\": 0.78, \"feature2\": 0.6, \"predict\": true}, {\"feature1\": 0.78, \"feature2\": 0.62, \"predict\": true}, {\"feature1\": 0.78, \"feature2\": 0.64, \"predict\": true}, {\"feature1\": 0.78, \"feature2\": 0.66, \"predict\": true}, {\"feature1\": 0.78, \"feature2\": 0.68, \"predict\": true}, {\"feature1\": 0.78, \"feature2\": 0.7, \"predict\": true}, {\"feature1\": 0.78, \"feature2\": 0.72, \"predict\": true}, {\"feature1\": 0.78, \"feature2\": 0.74, \"predict\": true}, {\"feature1\": 0.78, \"feature2\": 0.76, \"predict\": true}, {\"feature1\": 0.78, \"feature2\": 0.78, \"predict\": true}, {\"feature1\": 0.78, \"feature2\": 0.8, \"predict\": true}, {\"feature1\": 0.78, \"feature2\": 0.82, \"predict\": true}, {\"feature1\": 0.78, \"feature2\": 0.84, \"predict\": true}, {\"feature1\": 0.78, \"feature2\": 0.86, \"predict\": true}, {\"feature1\": 0.78, \"feature2\": 0.88, \"predict\": true}, {\"feature1\": 0.78, \"feature2\": 0.9, \"predict\": true}, {\"feature1\": 0.78, \"feature2\": 0.92, \"predict\": true}, {\"feature1\": 0.78, \"feature2\": 0.94, \"predict\": true}, {\"feature1\": 0.78, \"feature2\": 0.96, \"predict\": true}, {\"feature1\": 0.78, \"feature2\": 0.98, \"predict\": true}, {\"feature1\": 0.8, \"feature2\": 0.0, \"predict\": false}, {\"feature1\": 0.8, \"feature2\": 0.02, \"predict\": false}, {\"feature1\": 0.8, \"feature2\": 0.04, \"predict\": false}, {\"feature1\": 0.8, \"feature2\": 0.06, \"predict\": false}, {\"feature1\": 0.8, \"feature2\": 0.08, \"predict\": false}, {\"feature1\": 0.8, \"feature2\": 0.1, \"predict\": false}, {\"feature1\": 0.8, \"feature2\": 0.12, \"predict\": false}, {\"feature1\": 0.8, \"feature2\": 0.14, \"predict\": false}, {\"feature1\": 0.8, \"feature2\": 0.16, \"predict\": false}, {\"feature1\": 0.8, \"feature2\": 0.18, \"predict\": true}, {\"feature1\": 0.8, \"feature2\": 0.2, \"predict\": true}, {\"feature1\": 0.8, \"feature2\": 0.22, \"predict\": true}, {\"feature1\": 0.8, \"feature2\": 0.24, \"predict\": true}, {\"feature1\": 0.8, \"feature2\": 0.26, \"predict\": true}, {\"feature1\": 0.8, \"feature2\": 0.28, \"predict\": true}, {\"feature1\": 0.8, \"feature2\": 0.3, \"predict\": true}, {\"feature1\": 0.8, \"feature2\": 0.32, \"predict\": true}, {\"feature1\": 0.8, \"feature2\": 0.34, \"predict\": true}, {\"feature1\": 0.8, \"feature2\": 0.36, \"predict\": true}, {\"feature1\": 0.8, \"feature2\": 0.38, \"predict\": true}, {\"feature1\": 0.8, \"feature2\": 0.4, \"predict\": true}, {\"feature1\": 0.8, \"feature2\": 0.42, \"predict\": true}, {\"feature1\": 0.8, \"feature2\": 0.44, \"predict\": true}, {\"feature1\": 0.8, \"feature2\": 0.46, \"predict\": true}, {\"feature1\": 0.8, \"feature2\": 0.48, \"predict\": true}, {\"feature1\": 0.8, \"feature2\": 0.5, \"predict\": true}, {\"feature1\": 0.8, \"feature2\": 0.52, \"predict\": true}, {\"feature1\": 0.8, \"feature2\": 0.54, \"predict\": true}, {\"feature1\": 0.8, \"feature2\": 0.56, \"predict\": true}, {\"feature1\": 0.8, \"feature2\": 0.58, \"predict\": true}, {\"feature1\": 0.8, \"feature2\": 0.6, \"predict\": true}, {\"feature1\": 0.8, \"feature2\": 0.62, \"predict\": true}, {\"feature1\": 0.8, \"feature2\": 0.64, \"predict\": true}, {\"feature1\": 0.8, \"feature2\": 0.66, \"predict\": true}, {\"feature1\": 0.8, \"feature2\": 0.68, \"predict\": true}, {\"feature1\": 0.8, \"feature2\": 0.7, \"predict\": true}, {\"feature1\": 0.8, \"feature2\": 0.72, \"predict\": true}, {\"feature1\": 0.8, \"feature2\": 0.74, \"predict\": true}, {\"feature1\": 0.8, \"feature2\": 0.76, \"predict\": true}, {\"feature1\": 0.8, \"feature2\": 0.78, \"predict\": true}, {\"feature1\": 0.8, \"feature2\": 0.8, \"predict\": true}, {\"feature1\": 0.8, \"feature2\": 0.82, \"predict\": true}, {\"feature1\": 0.8, \"feature2\": 0.84, \"predict\": true}, {\"feature1\": 0.8, \"feature2\": 0.86, \"predict\": true}, {\"feature1\": 0.8, \"feature2\": 0.88, \"predict\": true}, {\"feature1\": 0.8, \"feature2\": 0.9, \"predict\": true}, {\"feature1\": 0.8, \"feature2\": 0.92, \"predict\": true}, {\"feature1\": 0.8, \"feature2\": 0.94, \"predict\": true}, {\"feature1\": 0.8, \"feature2\": 0.96, \"predict\": true}, {\"feature1\": 0.8, \"feature2\": 0.98, \"predict\": true}, {\"feature1\": 0.82, \"feature2\": 0.0, \"predict\": false}, {\"feature1\": 0.82, \"feature2\": 0.02, \"predict\": false}, {\"feature1\": 0.82, \"feature2\": 0.04, \"predict\": false}, {\"feature1\": 0.82, \"feature2\": 0.06, \"predict\": false}, {\"feature1\": 0.82, \"feature2\": 0.08, \"predict\": false}, {\"feature1\": 0.82, \"feature2\": 0.1, \"predict\": false}, {\"feature1\": 0.82, \"feature2\": 0.12, \"predict\": false}, {\"feature1\": 0.82, \"feature2\": 0.14, \"predict\": false}, {\"feature1\": 0.82, \"feature2\": 0.16, \"predict\": true}, {\"feature1\": 0.82, \"feature2\": 0.18, \"predict\": true}, {\"feature1\": 0.82, \"feature2\": 0.2, \"predict\": true}, {\"feature1\": 0.82, \"feature2\": 0.22, \"predict\": true}, {\"feature1\": 0.82, \"feature2\": 0.24, \"predict\": true}, {\"feature1\": 0.82, \"feature2\": 0.26, \"predict\": true}, {\"feature1\": 0.82, \"feature2\": 0.28, \"predict\": true}, {\"feature1\": 0.82, \"feature2\": 0.3, \"predict\": true}, {\"feature1\": 0.82, \"feature2\": 0.32, \"predict\": true}, {\"feature1\": 0.82, \"feature2\": 0.34, \"predict\": true}, {\"feature1\": 0.82, \"feature2\": 0.36, \"predict\": true}, {\"feature1\": 0.82, \"feature2\": 0.38, \"predict\": true}, {\"feature1\": 0.82, \"feature2\": 0.4, \"predict\": true}, {\"feature1\": 0.82, \"feature2\": 0.42, \"predict\": true}, {\"feature1\": 0.82, \"feature2\": 0.44, \"predict\": true}, {\"feature1\": 0.82, \"feature2\": 0.46, \"predict\": true}, {\"feature1\": 0.82, \"feature2\": 0.48, \"predict\": true}, {\"feature1\": 0.82, \"feature2\": 0.5, \"predict\": true}, {\"feature1\": 0.82, \"feature2\": 0.52, \"predict\": true}, {\"feature1\": 0.82, \"feature2\": 0.54, \"predict\": true}, {\"feature1\": 0.82, \"feature2\": 0.56, \"predict\": true}, {\"feature1\": 0.82, \"feature2\": 0.58, \"predict\": true}, {\"feature1\": 0.82, \"feature2\": 0.6, \"predict\": true}, {\"feature1\": 0.82, \"feature2\": 0.62, \"predict\": true}, {\"feature1\": 0.82, \"feature2\": 0.64, \"predict\": true}, {\"feature1\": 0.82, \"feature2\": 0.66, \"predict\": true}, {\"feature1\": 0.82, \"feature2\": 0.68, \"predict\": true}, {\"feature1\": 0.82, \"feature2\": 0.7, \"predict\": true}, {\"feature1\": 0.82, \"feature2\": 0.72, \"predict\": true}, {\"feature1\": 0.82, \"feature2\": 0.74, \"predict\": true}, {\"feature1\": 0.82, \"feature2\": 0.76, \"predict\": true}, {\"feature1\": 0.82, \"feature2\": 0.78, \"predict\": true}, {\"feature1\": 0.82, \"feature2\": 0.8, \"predict\": true}, {\"feature1\": 0.82, \"feature2\": 0.82, \"predict\": true}, {\"feature1\": 0.82, \"feature2\": 0.84, \"predict\": true}, {\"feature1\": 0.82, \"feature2\": 0.86, \"predict\": true}, {\"feature1\": 0.82, \"feature2\": 0.88, \"predict\": true}, {\"feature1\": 0.82, \"feature2\": 0.9, \"predict\": true}, {\"feature1\": 0.82, \"feature2\": 0.92, \"predict\": true}, {\"feature1\": 0.82, \"feature2\": 0.94, \"predict\": true}, {\"feature1\": 0.82, \"feature2\": 0.96, \"predict\": true}, {\"feature1\": 0.82, \"feature2\": 0.98, \"predict\": true}, {\"feature1\": 0.84, \"feature2\": 0.0, \"predict\": false}, {\"feature1\": 0.84, \"feature2\": 0.02, \"predict\": false}, {\"feature1\": 0.84, \"feature2\": 0.04, \"predict\": false}, {\"feature1\": 0.84, \"feature2\": 0.06, \"predict\": false}, {\"feature1\": 0.84, \"feature2\": 0.08, \"predict\": false}, {\"feature1\": 0.84, \"feature2\": 0.1, \"predict\": false}, {\"feature1\": 0.84, \"feature2\": 0.12, \"predict\": false}, {\"feature1\": 0.84, \"feature2\": 0.14, \"predict\": true}, {\"feature1\": 0.84, \"feature2\": 0.16, \"predict\": true}, {\"feature1\": 0.84, \"feature2\": 0.18, \"predict\": true}, {\"feature1\": 0.84, \"feature2\": 0.2, \"predict\": true}, {\"feature1\": 0.84, \"feature2\": 0.22, \"predict\": true}, {\"feature1\": 0.84, \"feature2\": 0.24, \"predict\": true}, {\"feature1\": 0.84, \"feature2\": 0.26, \"predict\": true}, {\"feature1\": 0.84, \"feature2\": 0.28, \"predict\": true}, {\"feature1\": 0.84, \"feature2\": 0.3, \"predict\": true}, {\"feature1\": 0.84, \"feature2\": 0.32, \"predict\": true}, {\"feature1\": 0.84, \"feature2\": 0.34, \"predict\": true}, {\"feature1\": 0.84, \"feature2\": 0.36, \"predict\": true}, {\"feature1\": 0.84, \"feature2\": 0.38, \"predict\": true}, {\"feature1\": 0.84, \"feature2\": 0.4, \"predict\": true}, {\"feature1\": 0.84, \"feature2\": 0.42, \"predict\": true}, {\"feature1\": 0.84, \"feature2\": 0.44, \"predict\": true}, {\"feature1\": 0.84, \"feature2\": 0.46, \"predict\": true}, {\"feature1\": 0.84, \"feature2\": 0.48, \"predict\": true}, {\"feature1\": 0.84, \"feature2\": 0.5, \"predict\": true}, {\"feature1\": 0.84, \"feature2\": 0.52, \"predict\": true}, {\"feature1\": 0.84, \"feature2\": 0.54, \"predict\": true}, {\"feature1\": 0.84, \"feature2\": 0.56, \"predict\": true}, {\"feature1\": 0.84, \"feature2\": 0.58, \"predict\": true}, {\"feature1\": 0.84, \"feature2\": 0.6, \"predict\": true}, {\"feature1\": 0.84, \"feature2\": 0.62, \"predict\": true}, {\"feature1\": 0.84, \"feature2\": 0.64, \"predict\": true}, {\"feature1\": 0.84, \"feature2\": 0.66, \"predict\": true}, {\"feature1\": 0.84, \"feature2\": 0.68, \"predict\": true}, {\"feature1\": 0.84, \"feature2\": 0.7, \"predict\": true}, {\"feature1\": 0.84, \"feature2\": 0.72, \"predict\": true}, {\"feature1\": 0.84, \"feature2\": 0.74, \"predict\": true}, {\"feature1\": 0.84, \"feature2\": 0.76, \"predict\": true}, {\"feature1\": 0.84, \"feature2\": 0.78, \"predict\": true}, {\"feature1\": 0.84, \"feature2\": 0.8, \"predict\": true}, {\"feature1\": 0.84, \"feature2\": 0.82, \"predict\": true}, {\"feature1\": 0.84, \"feature2\": 0.84, \"predict\": true}, {\"feature1\": 0.84, \"feature2\": 0.86, \"predict\": true}, {\"feature1\": 0.84, \"feature2\": 0.88, \"predict\": true}, {\"feature1\": 0.84, \"feature2\": 0.9, \"predict\": true}, {\"feature1\": 0.84, \"feature2\": 0.92, \"predict\": true}, {\"feature1\": 0.84, \"feature2\": 0.94, \"predict\": true}, {\"feature1\": 0.84, \"feature2\": 0.96, \"predict\": true}, {\"feature1\": 0.84, \"feature2\": 0.98, \"predict\": true}, {\"feature1\": 0.86, \"feature2\": 0.0, \"predict\": false}, {\"feature1\": 0.86, \"feature2\": 0.02, \"predict\": false}, {\"feature1\": 0.86, \"feature2\": 0.04, \"predict\": false}, {\"feature1\": 0.86, \"feature2\": 0.06, \"predict\": false}, {\"feature1\": 0.86, \"feature2\": 0.08, \"predict\": false}, {\"feature1\": 0.86, \"feature2\": 0.1, \"predict\": false}, {\"feature1\": 0.86, \"feature2\": 0.12, \"predict\": true}, {\"feature1\": 0.86, \"feature2\": 0.14, \"predict\": true}, {\"feature1\": 0.86, \"feature2\": 0.16, \"predict\": true}, {\"feature1\": 0.86, \"feature2\": 0.18, \"predict\": true}, {\"feature1\": 0.86, \"feature2\": 0.2, \"predict\": true}, {\"feature1\": 0.86, \"feature2\": 0.22, \"predict\": true}, {\"feature1\": 0.86, \"feature2\": 0.24, \"predict\": true}, {\"feature1\": 0.86, \"feature2\": 0.26, \"predict\": true}, {\"feature1\": 0.86, \"feature2\": 0.28, \"predict\": true}, {\"feature1\": 0.86, \"feature2\": 0.3, \"predict\": true}, {\"feature1\": 0.86, \"feature2\": 0.32, \"predict\": true}, {\"feature1\": 0.86, \"feature2\": 0.34, \"predict\": true}, {\"feature1\": 0.86, \"feature2\": 0.36, \"predict\": true}, {\"feature1\": 0.86, \"feature2\": 0.38, \"predict\": true}, {\"feature1\": 0.86, \"feature2\": 0.4, \"predict\": true}, {\"feature1\": 0.86, \"feature2\": 0.42, \"predict\": true}, {\"feature1\": 0.86, \"feature2\": 0.44, \"predict\": true}, {\"feature1\": 0.86, \"feature2\": 0.46, \"predict\": true}, {\"feature1\": 0.86, \"feature2\": 0.48, \"predict\": true}, {\"feature1\": 0.86, \"feature2\": 0.5, \"predict\": true}, {\"feature1\": 0.86, \"feature2\": 0.52, \"predict\": true}, {\"feature1\": 0.86, \"feature2\": 0.54, \"predict\": true}, {\"feature1\": 0.86, \"feature2\": 0.56, \"predict\": true}, {\"feature1\": 0.86, \"feature2\": 0.58, \"predict\": true}, {\"feature1\": 0.86, \"feature2\": 0.6, \"predict\": true}, {\"feature1\": 0.86, \"feature2\": 0.62, \"predict\": true}, {\"feature1\": 0.86, \"feature2\": 0.64, \"predict\": true}, {\"feature1\": 0.86, \"feature2\": 0.66, \"predict\": true}, {\"feature1\": 0.86, \"feature2\": 0.68, \"predict\": true}, {\"feature1\": 0.86, \"feature2\": 0.7, \"predict\": true}, {\"feature1\": 0.86, \"feature2\": 0.72, \"predict\": true}, {\"feature1\": 0.86, \"feature2\": 0.74, \"predict\": true}, {\"feature1\": 0.86, \"feature2\": 0.76, \"predict\": true}, {\"feature1\": 0.86, \"feature2\": 0.78, \"predict\": true}, {\"feature1\": 0.86, \"feature2\": 0.8, \"predict\": true}, {\"feature1\": 0.86, \"feature2\": 0.82, \"predict\": true}, {\"feature1\": 0.86, \"feature2\": 0.84, \"predict\": true}, {\"feature1\": 0.86, \"feature2\": 0.86, \"predict\": true}, {\"feature1\": 0.86, \"feature2\": 0.88, \"predict\": true}, {\"feature1\": 0.86, \"feature2\": 0.9, \"predict\": true}, {\"feature1\": 0.86, \"feature2\": 0.92, \"predict\": true}, {\"feature1\": 0.86, \"feature2\": 0.94, \"predict\": true}, {\"feature1\": 0.86, \"feature2\": 0.96, \"predict\": true}, {\"feature1\": 0.86, \"feature2\": 0.98, \"predict\": true}, {\"feature1\": 0.88, \"feature2\": 0.0, \"predict\": false}, {\"feature1\": 0.88, \"feature2\": 0.02, \"predict\": false}, {\"feature1\": 0.88, \"feature2\": 0.04, \"predict\": false}, {\"feature1\": 0.88, \"feature2\": 0.06, \"predict\": false}, {\"feature1\": 0.88, \"feature2\": 0.08, \"predict\": false}, {\"feature1\": 0.88, \"feature2\": 0.1, \"predict\": true}, {\"feature1\": 0.88, \"feature2\": 0.12, \"predict\": true}, {\"feature1\": 0.88, \"feature2\": 0.14, \"predict\": true}, {\"feature1\": 0.88, \"feature2\": 0.16, \"predict\": true}, {\"feature1\": 0.88, \"feature2\": 0.18, \"predict\": true}, {\"feature1\": 0.88, \"feature2\": 0.2, \"predict\": true}, {\"feature1\": 0.88, \"feature2\": 0.22, \"predict\": true}, {\"feature1\": 0.88, \"feature2\": 0.24, \"predict\": true}, {\"feature1\": 0.88, \"feature2\": 0.26, \"predict\": true}, {\"feature1\": 0.88, \"feature2\": 0.28, \"predict\": true}, {\"feature1\": 0.88, \"feature2\": 0.3, \"predict\": true}, {\"feature1\": 0.88, \"feature2\": 0.32, \"predict\": true}, {\"feature1\": 0.88, \"feature2\": 0.34, \"predict\": true}, {\"feature1\": 0.88, \"feature2\": 0.36, \"predict\": true}, {\"feature1\": 0.88, \"feature2\": 0.38, \"predict\": true}, {\"feature1\": 0.88, \"feature2\": 0.4, \"predict\": true}, {\"feature1\": 0.88, \"feature2\": 0.42, \"predict\": true}, {\"feature1\": 0.88, \"feature2\": 0.44, \"predict\": true}, {\"feature1\": 0.88, \"feature2\": 0.46, \"predict\": true}, {\"feature1\": 0.88, \"feature2\": 0.48, \"predict\": true}, {\"feature1\": 0.88, \"feature2\": 0.5, \"predict\": true}, {\"feature1\": 0.88, \"feature2\": 0.52, \"predict\": true}, {\"feature1\": 0.88, \"feature2\": 0.54, \"predict\": true}, {\"feature1\": 0.88, \"feature2\": 0.56, \"predict\": true}, {\"feature1\": 0.88, \"feature2\": 0.58, \"predict\": true}, {\"feature1\": 0.88, \"feature2\": 0.6, \"predict\": true}, {\"feature1\": 0.88, \"feature2\": 0.62, \"predict\": true}, {\"feature1\": 0.88, \"feature2\": 0.64, \"predict\": true}, {\"feature1\": 0.88, \"feature2\": 0.66, \"predict\": true}, {\"feature1\": 0.88, \"feature2\": 0.68, \"predict\": true}, {\"feature1\": 0.88, \"feature2\": 0.7, \"predict\": true}, {\"feature1\": 0.88, \"feature2\": 0.72, \"predict\": true}, {\"feature1\": 0.88, \"feature2\": 0.74, \"predict\": true}, {\"feature1\": 0.88, \"feature2\": 0.76, \"predict\": true}, {\"feature1\": 0.88, \"feature2\": 0.78, \"predict\": true}, {\"feature1\": 0.88, \"feature2\": 0.8, \"predict\": true}, {\"feature1\": 0.88, \"feature2\": 0.82, \"predict\": true}, {\"feature1\": 0.88, \"feature2\": 0.84, \"predict\": true}, {\"feature1\": 0.88, \"feature2\": 0.86, \"predict\": true}, {\"feature1\": 0.88, \"feature2\": 0.88, \"predict\": true}, {\"feature1\": 0.88, \"feature2\": 0.9, \"predict\": true}, {\"feature1\": 0.88, \"feature2\": 0.92, \"predict\": true}, {\"feature1\": 0.88, \"feature2\": 0.94, \"predict\": true}, {\"feature1\": 0.88, \"feature2\": 0.96, \"predict\": true}, {\"feature1\": 0.88, \"feature2\": 0.98, \"predict\": true}, {\"feature1\": 0.9, \"feature2\": 0.0, \"predict\": false}, {\"feature1\": 0.9, \"feature2\": 0.02, \"predict\": false}, {\"feature1\": 0.9, \"feature2\": 0.04, \"predict\": false}, {\"feature1\": 0.9, \"feature2\": 0.06, \"predict\": false}, {\"feature1\": 0.9, \"feature2\": 0.08, \"predict\": true}, {\"feature1\": 0.9, \"feature2\": 0.1, \"predict\": true}, {\"feature1\": 0.9, \"feature2\": 0.12, \"predict\": true}, {\"feature1\": 0.9, \"feature2\": 0.14, \"predict\": true}, {\"feature1\": 0.9, \"feature2\": 0.16, \"predict\": true}, {\"feature1\": 0.9, \"feature2\": 0.18, \"predict\": true}, {\"feature1\": 0.9, \"feature2\": 0.2, \"predict\": true}, {\"feature1\": 0.9, \"feature2\": 0.22, \"predict\": true}, {\"feature1\": 0.9, \"feature2\": 0.24, \"predict\": true}, {\"feature1\": 0.9, \"feature2\": 0.26, \"predict\": true}, {\"feature1\": 0.9, \"feature2\": 0.28, \"predict\": true}, {\"feature1\": 0.9, \"feature2\": 0.3, \"predict\": true}, {\"feature1\": 0.9, \"feature2\": 0.32, \"predict\": true}, {\"feature1\": 0.9, \"feature2\": 0.34, \"predict\": true}, {\"feature1\": 0.9, \"feature2\": 0.36, \"predict\": true}, {\"feature1\": 0.9, \"feature2\": 0.38, \"predict\": true}, {\"feature1\": 0.9, \"feature2\": 0.4, \"predict\": true}, {\"feature1\": 0.9, \"feature2\": 0.42, \"predict\": true}, {\"feature1\": 0.9, \"feature2\": 0.44, \"predict\": true}, {\"feature1\": 0.9, \"feature2\": 0.46, \"predict\": true}, {\"feature1\": 0.9, \"feature2\": 0.48, \"predict\": true}, {\"feature1\": 0.9, \"feature2\": 0.5, \"predict\": true}, {\"feature1\": 0.9, \"feature2\": 0.52, \"predict\": true}, {\"feature1\": 0.9, \"feature2\": 0.54, \"predict\": true}, {\"feature1\": 0.9, \"feature2\": 0.56, \"predict\": true}, {\"feature1\": 0.9, \"feature2\": 0.58, \"predict\": true}, {\"feature1\": 0.9, \"feature2\": 0.6, \"predict\": true}, {\"feature1\": 0.9, \"feature2\": 0.62, \"predict\": true}, {\"feature1\": 0.9, \"feature2\": 0.64, \"predict\": true}, {\"feature1\": 0.9, \"feature2\": 0.66, \"predict\": true}, {\"feature1\": 0.9, \"feature2\": 0.68, \"predict\": true}, {\"feature1\": 0.9, \"feature2\": 0.7, \"predict\": true}, {\"feature1\": 0.9, \"feature2\": 0.72, \"predict\": true}, {\"feature1\": 0.9, \"feature2\": 0.74, \"predict\": true}, {\"feature1\": 0.9, \"feature2\": 0.76, \"predict\": true}, {\"feature1\": 0.9, \"feature2\": 0.78, \"predict\": true}, {\"feature1\": 0.9, \"feature2\": 0.8, \"predict\": true}, {\"feature1\": 0.9, \"feature2\": 0.82, \"predict\": true}, {\"feature1\": 0.9, \"feature2\": 0.84, \"predict\": true}, {\"feature1\": 0.9, \"feature2\": 0.86, \"predict\": true}, {\"feature1\": 0.9, \"feature2\": 0.88, \"predict\": true}, {\"feature1\": 0.9, \"feature2\": 0.9, \"predict\": true}, {\"feature1\": 0.9, \"feature2\": 0.92, \"predict\": true}, {\"feature1\": 0.9, \"feature2\": 0.94, \"predict\": true}, {\"feature1\": 0.9, \"feature2\": 0.96, \"predict\": true}, {\"feature1\": 0.9, \"feature2\": 0.98, \"predict\": true}, {\"feature1\": 0.92, \"feature2\": 0.0, \"predict\": false}, {\"feature1\": 0.92, \"feature2\": 0.02, \"predict\": false}, {\"feature1\": 0.92, \"feature2\": 0.04, \"predict\": false}, {\"feature1\": 0.92, \"feature2\": 0.06, \"predict\": true}, {\"feature1\": 0.92, \"feature2\": 0.08, \"predict\": true}, {\"feature1\": 0.92, \"feature2\": 0.1, \"predict\": true}, {\"feature1\": 0.92, \"feature2\": 0.12, \"predict\": true}, {\"feature1\": 0.92, \"feature2\": 0.14, \"predict\": true}, {\"feature1\": 0.92, \"feature2\": 0.16, \"predict\": true}, {\"feature1\": 0.92, \"feature2\": 0.18, \"predict\": true}, {\"feature1\": 0.92, \"feature2\": 0.2, \"predict\": true}, {\"feature1\": 0.92, \"feature2\": 0.22, \"predict\": true}, {\"feature1\": 0.92, \"feature2\": 0.24, \"predict\": true}, {\"feature1\": 0.92, \"feature2\": 0.26, \"predict\": true}, {\"feature1\": 0.92, \"feature2\": 0.28, \"predict\": true}, {\"feature1\": 0.92, \"feature2\": 0.3, \"predict\": true}, {\"feature1\": 0.92, \"feature2\": 0.32, \"predict\": true}, {\"feature1\": 0.92, \"feature2\": 0.34, \"predict\": true}, {\"feature1\": 0.92, \"feature2\": 0.36, \"predict\": true}, {\"feature1\": 0.92, \"feature2\": 0.38, \"predict\": true}, {\"feature1\": 0.92, \"feature2\": 0.4, \"predict\": true}, {\"feature1\": 0.92, \"feature2\": 0.42, \"predict\": true}, {\"feature1\": 0.92, \"feature2\": 0.44, \"predict\": true}, {\"feature1\": 0.92, \"feature2\": 0.46, \"predict\": true}, {\"feature1\": 0.92, \"feature2\": 0.48, \"predict\": true}, {\"feature1\": 0.92, \"feature2\": 0.5, \"predict\": true}, {\"feature1\": 0.92, \"feature2\": 0.52, \"predict\": true}, {\"feature1\": 0.92, \"feature2\": 0.54, \"predict\": true}, {\"feature1\": 0.92, \"feature2\": 0.56, \"predict\": true}, {\"feature1\": 0.92, \"feature2\": 0.58, \"predict\": true}, {\"feature1\": 0.92, \"feature2\": 0.6, \"predict\": true}, {\"feature1\": 0.92, \"feature2\": 0.62, \"predict\": true}, {\"feature1\": 0.92, \"feature2\": 0.64, \"predict\": true}, {\"feature1\": 0.92, \"feature2\": 0.66, \"predict\": true}, {\"feature1\": 0.92, \"feature2\": 0.68, \"predict\": true}, {\"feature1\": 0.92, \"feature2\": 0.7, \"predict\": true}, {\"feature1\": 0.92, \"feature2\": 0.72, \"predict\": true}, {\"feature1\": 0.92, \"feature2\": 0.74, \"predict\": true}, {\"feature1\": 0.92, \"feature2\": 0.76, \"predict\": true}, {\"feature1\": 0.92, \"feature2\": 0.78, \"predict\": true}, {\"feature1\": 0.92, \"feature2\": 0.8, \"predict\": true}, {\"feature1\": 0.92, \"feature2\": 0.82, \"predict\": true}, {\"feature1\": 0.92, \"feature2\": 0.84, \"predict\": true}, {\"feature1\": 0.92, \"feature2\": 0.86, \"predict\": true}, {\"feature1\": 0.92, \"feature2\": 0.88, \"predict\": true}, {\"feature1\": 0.92, \"feature2\": 0.9, \"predict\": true}, {\"feature1\": 0.92, \"feature2\": 0.92, \"predict\": true}, {\"feature1\": 0.92, \"feature2\": 0.94, \"predict\": true}, {\"feature1\": 0.92, \"feature2\": 0.96, \"predict\": true}, {\"feature1\": 0.92, \"feature2\": 0.98, \"predict\": true}, {\"feature1\": 0.94, \"feature2\": 0.0, \"predict\": false}, {\"feature1\": 0.94, \"feature2\": 0.02, \"predict\": false}, {\"feature1\": 0.94, \"feature2\": 0.04, \"predict\": true}, {\"feature1\": 0.94, \"feature2\": 0.06, \"predict\": true}, {\"feature1\": 0.94, \"feature2\": 0.08, \"predict\": true}, {\"feature1\": 0.94, \"feature2\": 0.1, \"predict\": true}, {\"feature1\": 0.94, \"feature2\": 0.12, \"predict\": true}, {\"feature1\": 0.94, \"feature2\": 0.14, \"predict\": true}, {\"feature1\": 0.94, \"feature2\": 0.16, \"predict\": true}, {\"feature1\": 0.94, \"feature2\": 0.18, \"predict\": true}, {\"feature1\": 0.94, \"feature2\": 0.2, \"predict\": true}, {\"feature1\": 0.94, \"feature2\": 0.22, \"predict\": true}, {\"feature1\": 0.94, \"feature2\": 0.24, \"predict\": true}, {\"feature1\": 0.94, \"feature2\": 0.26, \"predict\": true}, {\"feature1\": 0.94, \"feature2\": 0.28, \"predict\": true}, {\"feature1\": 0.94, \"feature2\": 0.3, \"predict\": true}, {\"feature1\": 0.94, \"feature2\": 0.32, \"predict\": true}, {\"feature1\": 0.94, \"feature2\": 0.34, \"predict\": true}, {\"feature1\": 0.94, \"feature2\": 0.36, \"predict\": true}, {\"feature1\": 0.94, \"feature2\": 0.38, \"predict\": true}, {\"feature1\": 0.94, \"feature2\": 0.4, \"predict\": true}, {\"feature1\": 0.94, \"feature2\": 0.42, \"predict\": true}, {\"feature1\": 0.94, \"feature2\": 0.44, \"predict\": true}, {\"feature1\": 0.94, \"feature2\": 0.46, \"predict\": true}, {\"feature1\": 0.94, \"feature2\": 0.48, \"predict\": true}, {\"feature1\": 0.94, \"feature2\": 0.5, \"predict\": true}, {\"feature1\": 0.94, \"feature2\": 0.52, \"predict\": true}, {\"feature1\": 0.94, \"feature2\": 0.54, \"predict\": true}, {\"feature1\": 0.94, \"feature2\": 0.56, \"predict\": true}, {\"feature1\": 0.94, \"feature2\": 0.58, \"predict\": true}, {\"feature1\": 0.94, \"feature2\": 0.6, \"predict\": true}, {\"feature1\": 0.94, \"feature2\": 0.62, \"predict\": true}, {\"feature1\": 0.94, \"feature2\": 0.64, \"predict\": true}, {\"feature1\": 0.94, \"feature2\": 0.66, \"predict\": true}, {\"feature1\": 0.94, \"feature2\": 0.68, \"predict\": true}, {\"feature1\": 0.94, \"feature2\": 0.7, \"predict\": true}, {\"feature1\": 0.94, \"feature2\": 0.72, \"predict\": true}, {\"feature1\": 0.94, \"feature2\": 0.74, \"predict\": true}, {\"feature1\": 0.94, \"feature2\": 0.76, \"predict\": true}, {\"feature1\": 0.94, \"feature2\": 0.78, \"predict\": true}, {\"feature1\": 0.94, \"feature2\": 0.8, \"predict\": true}, {\"feature1\": 0.94, \"feature2\": 0.82, \"predict\": true}, {\"feature1\": 0.94, \"feature2\": 0.84, \"predict\": true}, {\"feature1\": 0.94, \"feature2\": 0.86, \"predict\": true}, {\"feature1\": 0.94, \"feature2\": 0.88, \"predict\": true}, {\"feature1\": 0.94, \"feature2\": 0.9, \"predict\": true}, {\"feature1\": 0.94, \"feature2\": 0.92, \"predict\": true}, {\"feature1\": 0.94, \"feature2\": 0.94, \"predict\": true}, {\"feature1\": 0.94, \"feature2\": 0.96, \"predict\": true}, {\"feature1\": 0.94, \"feature2\": 0.98, \"predict\": true}, {\"feature1\": 0.96, \"feature2\": 0.0, \"predict\": false}, {\"feature1\": 0.96, \"feature2\": 0.02, \"predict\": true}, {\"feature1\": 0.96, \"feature2\": 0.04, \"predict\": true}, {\"feature1\": 0.96, \"feature2\": 0.06, \"predict\": true}, {\"feature1\": 0.96, \"feature2\": 0.08, \"predict\": true}, {\"feature1\": 0.96, \"feature2\": 0.1, \"predict\": true}, {\"feature1\": 0.96, \"feature2\": 0.12, \"predict\": true}, {\"feature1\": 0.96, \"feature2\": 0.14, \"predict\": true}, {\"feature1\": 0.96, \"feature2\": 0.16, \"predict\": true}, {\"feature1\": 0.96, \"feature2\": 0.18, \"predict\": true}, {\"feature1\": 0.96, \"feature2\": 0.2, \"predict\": true}, {\"feature1\": 0.96, \"feature2\": 0.22, \"predict\": true}, {\"feature1\": 0.96, \"feature2\": 0.24, \"predict\": true}, {\"feature1\": 0.96, \"feature2\": 0.26, \"predict\": true}, {\"feature1\": 0.96, \"feature2\": 0.28, \"predict\": true}, {\"feature1\": 0.96, \"feature2\": 0.3, \"predict\": true}, {\"feature1\": 0.96, \"feature2\": 0.32, \"predict\": true}, {\"feature1\": 0.96, \"feature2\": 0.34, \"predict\": true}, {\"feature1\": 0.96, \"feature2\": 0.36, \"predict\": true}, {\"feature1\": 0.96, \"feature2\": 0.38, \"predict\": true}, {\"feature1\": 0.96, \"feature2\": 0.4, \"predict\": true}, {\"feature1\": 0.96, \"feature2\": 0.42, \"predict\": true}, {\"feature1\": 0.96, \"feature2\": 0.44, \"predict\": true}, {\"feature1\": 0.96, \"feature2\": 0.46, \"predict\": true}, {\"feature1\": 0.96, \"feature2\": 0.48, \"predict\": true}, {\"feature1\": 0.96, \"feature2\": 0.5, \"predict\": true}, {\"feature1\": 0.96, \"feature2\": 0.52, \"predict\": true}, {\"feature1\": 0.96, \"feature2\": 0.54, \"predict\": true}, {\"feature1\": 0.96, \"feature2\": 0.56, \"predict\": true}, {\"feature1\": 0.96, \"feature2\": 0.58, \"predict\": true}, {\"feature1\": 0.96, \"feature2\": 0.6, \"predict\": true}, {\"feature1\": 0.96, \"feature2\": 0.62, \"predict\": true}, {\"feature1\": 0.96, \"feature2\": 0.64, \"predict\": true}, {\"feature1\": 0.96, \"feature2\": 0.66, \"predict\": true}, {\"feature1\": 0.96, \"feature2\": 0.68, \"predict\": true}, {\"feature1\": 0.96, \"feature2\": 0.7, \"predict\": true}, {\"feature1\": 0.96, \"feature2\": 0.72, \"predict\": true}, {\"feature1\": 0.96, \"feature2\": 0.74, \"predict\": true}, {\"feature1\": 0.96, \"feature2\": 0.76, \"predict\": true}, {\"feature1\": 0.96, \"feature2\": 0.78, \"predict\": true}, {\"feature1\": 0.96, \"feature2\": 0.8, \"predict\": true}, {\"feature1\": 0.96, \"feature2\": 0.82, \"predict\": true}, {\"feature1\": 0.96, \"feature2\": 0.84, \"predict\": true}, {\"feature1\": 0.96, \"feature2\": 0.86, \"predict\": true}, {\"feature1\": 0.96, \"feature2\": 0.88, \"predict\": true}, {\"feature1\": 0.96, \"feature2\": 0.9, \"predict\": true}, {\"feature1\": 0.96, \"feature2\": 0.92, \"predict\": true}, {\"feature1\": 0.96, \"feature2\": 0.94, \"predict\": true}, {\"feature1\": 0.96, \"feature2\": 0.96, \"predict\": true}, {\"feature1\": 0.96, \"feature2\": 0.98, \"predict\": true}, {\"feature1\": 0.98, \"feature2\": 0.0, \"predict\": true}, {\"feature1\": 0.98, \"feature2\": 0.02, \"predict\": true}, {\"feature1\": 0.98, \"feature2\": 0.04, \"predict\": true}, {\"feature1\": 0.98, \"feature2\": 0.06, \"predict\": true}, {\"feature1\": 0.98, \"feature2\": 0.08, \"predict\": true}, {\"feature1\": 0.98, \"feature2\": 0.1, \"predict\": true}, {\"feature1\": 0.98, \"feature2\": 0.12, \"predict\": true}, {\"feature1\": 0.98, \"feature2\": 0.14, \"predict\": true}, {\"feature1\": 0.98, \"feature2\": 0.16, \"predict\": true}, {\"feature1\": 0.98, \"feature2\": 0.18, \"predict\": true}, {\"feature1\": 0.98, \"feature2\": 0.2, \"predict\": true}, {\"feature1\": 0.98, \"feature2\": 0.22, \"predict\": true}, {\"feature1\": 0.98, \"feature2\": 0.24, \"predict\": true}, {\"feature1\": 0.98, \"feature2\": 0.26, \"predict\": true}, {\"feature1\": 0.98, \"feature2\": 0.28, \"predict\": true}, {\"feature1\": 0.98, \"feature2\": 0.3, \"predict\": true}, {\"feature1\": 0.98, \"feature2\": 0.32, \"predict\": true}, {\"feature1\": 0.98, \"feature2\": 0.34, \"predict\": true}, {\"feature1\": 0.98, \"feature2\": 0.36, \"predict\": true}, {\"feature1\": 0.98, \"feature2\": 0.38, \"predict\": true}, {\"feature1\": 0.98, \"feature2\": 0.4, \"predict\": true}, {\"feature1\": 0.98, \"feature2\": 0.42, \"predict\": true}, {\"feature1\": 0.98, \"feature2\": 0.44, \"predict\": true}, {\"feature1\": 0.98, \"feature2\": 0.46, \"predict\": true}, {\"feature1\": 0.98, \"feature2\": 0.48, \"predict\": true}, {\"feature1\": 0.98, \"feature2\": 0.5, \"predict\": true}, {\"feature1\": 0.98, \"feature2\": 0.52, \"predict\": true}, {\"feature1\": 0.98, \"feature2\": 0.54, \"predict\": true}, {\"feature1\": 0.98, \"feature2\": 0.56, \"predict\": true}, {\"feature1\": 0.98, \"feature2\": 0.58, \"predict\": true}, {\"feature1\": 0.98, \"feature2\": 0.6, \"predict\": true}, {\"feature1\": 0.98, \"feature2\": 0.62, \"predict\": true}, {\"feature1\": 0.98, \"feature2\": 0.64, \"predict\": true}, {\"feature1\": 0.98, \"feature2\": 0.66, \"predict\": true}, {\"feature1\": 0.98, \"feature2\": 0.68, \"predict\": true}, {\"feature1\": 0.98, \"feature2\": 0.7, \"predict\": true}, {\"feature1\": 0.98, \"feature2\": 0.72, \"predict\": true}, {\"feature1\": 0.98, \"feature2\": 0.74, \"predict\": true}, {\"feature1\": 0.98, \"feature2\": 0.76, \"predict\": true}, {\"feature1\": 0.98, \"feature2\": 0.78, \"predict\": true}, {\"feature1\": 0.98, \"feature2\": 0.8, \"predict\": true}, {\"feature1\": 0.98, \"feature2\": 0.82, \"predict\": true}, {\"feature1\": 0.98, \"feature2\": 0.84, \"predict\": true}, {\"feature1\": 0.98, \"feature2\": 0.86, \"predict\": true}, {\"feature1\": 0.98, \"feature2\": 0.88, \"predict\": true}, {\"feature1\": 0.98, \"feature2\": 0.9, \"predict\": true}, {\"feature1\": 0.98, \"feature2\": 0.92, \"predict\": true}, {\"feature1\": 0.98, \"feature2\": 0.94, \"predict\": true}, {\"feature1\": 0.98, \"feature2\": 0.96, \"predict\": true}, {\"feature1\": 0.98, \"feature2\": 0.98, \"predict\": true}], \"data-72ee4f57b4903a7fcad1bf46319d0ca2\": [{\"class\": \"blue\", \"split\": \"test\", \"feature1\": 0.7188037142132304, \"feature2\": 0.0759534141050307, \"predict\": false, \"correct\": false}, {\"class\": \"red\", \"split\": \"test\", \"feature1\": 0.4410719641272954, \"feature2\": 0.8264497608388477, \"predict\": true, \"correct\": false}, {\"class\": \"red\", \"split\": \"test\", \"feature1\": 0.8203498955592614, \"feature2\": 0.2745012217165402, \"predict\": true, \"correct\": true}, {\"class\": \"red\", \"split\": \"test\", \"feature1\": 0.6208154529515425, \"feature2\": 0.6437489789508288, \"predict\": true, \"correct\": true}, {\"class\": \"blue\", \"split\": \"test\", \"feature1\": 0.3633533583504106, \"feature2\": 0.5969510810894804, \"predict\": true, \"correct\": true}, {\"class\": \"blue\", \"split\": \"test\", \"feature1\": 0.3254633773588617, \"feature2\": 0.2169247609918181, \"predict\": false, \"correct\": true}, {\"class\": \"red\", \"split\": \"test\", \"feature1\": 0.4650973993685735, \"feature2\": 0.6608461938444957, \"predict\": true, \"correct\": false}, {\"class\": \"blue\", \"split\": \"test\", \"feature1\": 0.1945408802706212, \"feature2\": 0.6874775389960156, \"predict\": false, \"correct\": true}, {\"class\": \"blue\", \"split\": \"test\", \"feature1\": 0.2508953046475385, \"feature2\": 0.6105747473357103, \"predict\": false, \"correct\": true}, {\"class\": \"red\", \"split\": \"test\", \"feature1\": 0.6214081773756726, \"feature2\": 0.5672072497445781, \"predict\": true, \"correct\": true}, {\"class\": \"blue\", \"split\": \"test\", \"feature1\": 0.1773232463589779, \"feature2\": 0.022960958778242, \"predict\": false, \"correct\": true}, {\"class\": \"red\", \"split\": \"test\", \"feature1\": 0.749020708824783, \"feature2\": 0.5684306591378825, \"predict\": true, \"correct\": true}, {\"class\": \"blue\", \"split\": \"test\", \"feature1\": 0.3109206448413709, \"feature2\": 0.2660224480911136, \"predict\": false, \"correct\": true}, {\"class\": \"blue\", \"split\": \"test\", \"feature1\": 0.4478735442499568, \"feature2\": 0.2321257030460524, \"predict\": false, \"correct\": true}, {\"class\": \"blue\", \"split\": \"test\", \"feature1\": 0.2965789174933327, \"feature2\": 0.0543676290921173, \"predict\": false, \"correct\": true}, {\"class\": \"red\", \"split\": \"test\", \"feature1\": 0.8566076724516931, \"feature2\": 0.347288092896215, \"predict\": true, \"correct\": true}, {\"class\": \"red\", \"split\": \"test\", \"feature1\": 0.2198207649198946, \"feature2\": 0.8785748657489609, \"predict\": true, \"correct\": false}, {\"class\": \"red\", \"split\": \"test\", \"feature1\": 0.624578227665143, \"feature2\": 0.4128574928739452, \"predict\": true, \"correct\": true}, {\"class\": \"red\", \"split\": \"test\", \"feature1\": 0.6827821686591201, \"feature2\": 0.7774043129352473, \"predict\": true, \"correct\": true}, {\"class\": \"blue\", \"split\": \"test\", \"feature1\": 0.6251903986620275, \"feature2\": 0.0528911093914973, \"predict\": false, \"correct\": false}, {\"class\": \"blue\", \"split\": \"test\", \"feature1\": 0.8558765251663112, \"feature2\": 0.094495146299682, \"predict\": false, \"correct\": false}, {\"class\": \"blue\", \"split\": \"test\", \"feature1\": 0.0549643053570856, \"feature2\": 0.1378950628001854, \"predict\": false, \"correct\": true}, {\"class\": \"red\", \"split\": \"test\", \"feature1\": 0.5669223666346715, \"feature2\": 0.6606277434787936, \"predict\": true, \"correct\": true}, {\"class\": \"red\", \"split\": \"test\", \"feature1\": 0.7704723543541271, \"feature2\": 0.6425573000379176, \"predict\": true, \"correct\": true}, {\"class\": \"blue\", \"split\": \"test\", \"feature1\": 0.112090941587809, \"feature2\": 0.3120231267907325, \"predict\": false, \"correct\": true}, {\"class\": \"blue\", \"split\": \"test\", \"feature1\": 0.1381221623353979, \"feature2\": 0.3673484813404186, \"predict\": false, \"correct\": true}, {\"class\": \"red\", \"split\": \"test\", \"feature1\": 0.9445536534440476, \"feature2\": 0.1105512587975475, \"predict\": true, \"correct\": true}, {\"class\": \"blue\", \"split\": \"test\", \"feature1\": 0.6096647707220016, \"feature2\": 0.0026662309127444, \"predict\": false, \"correct\": false}, {\"class\": \"blue\", \"split\": \"test\", \"feature1\": 0.4257416424819364, \"feature2\": 0.4255771223512317, \"predict\": false, \"correct\": true}, {\"class\": \"red\", \"split\": \"test\", \"feature1\": 0.4612632258039707, \"feature2\": 0.5679639104442207, \"predict\": true, \"correct\": false}, {\"class\": \"blue\", \"split\": \"test\", \"feature1\": 0.4191181613643799, \"feature2\": 0.4268364279186595, \"predict\": false, \"correct\": true}, {\"class\": \"blue\", \"split\": \"test\", \"feature1\": 0.237319006269547, \"feature2\": 0.0321651535678174, \"predict\": false, \"correct\": true}, {\"class\": \"blue\", \"split\": \"test\", \"feature1\": 0.0952265934993786, \"feature2\": 0.3992563716299768, \"predict\": false, \"correct\": true}, {\"class\": \"red\", \"split\": \"test\", \"feature1\": 0.2742173312523791, \"feature2\": 0.8487506499995645, \"predict\": true, \"correct\": false}, {\"class\": \"blue\", \"split\": \"test\", \"feature1\": 0.5446644754619803, \"feature2\": 0.4126328331471615, \"predict\": true, \"correct\": false}, {\"class\": \"red\", \"split\": \"test\", \"feature1\": 0.3234701615194417, \"feature2\": 0.8264073653390224, \"predict\": true, \"correct\": false}, {\"class\": \"red\", \"split\": \"test\", \"feature1\": 0.9040435125131014, \"feature2\": 0.6719107607854411, \"predict\": true, \"correct\": true}, {\"class\": \"blue\", \"split\": \"test\", \"feature1\": 0.2930698802504675, \"feature2\": 0.4887426912615576, \"predict\": false, \"correct\": true}, {\"class\": \"blue\", \"split\": \"test\", \"feature1\": 0.2474153968620439, \"feature2\": 0.2701365476428745, \"predict\": false, \"correct\": true}, {\"class\": \"red\", \"split\": \"test\", \"feature1\": 0.8257891078877789, \"feature2\": 0.2699104143928801, \"predict\": true, \"correct\": true}, {\"class\": \"blue\", \"split\": \"test\", \"feature1\": 0.0177381974384149, \"feature2\": 0.6217503105241703, \"predict\": false, \"correct\": true}, {\"class\": \"blue\", \"split\": \"test\", \"feature1\": 0.1140503483874684, \"feature2\": 0.3082462555465339, \"predict\": false, \"correct\": true}, {\"class\": \"blue\", \"split\": \"test\", \"feature1\": 0.3030338638822565, \"feature2\": 0.4171045726213443, \"predict\": false, \"correct\": true}, {\"class\": \"blue\", \"split\": \"test\", \"feature1\": 0.1647557737098539, \"feature2\": 0.5295357845631083, \"predict\": false, \"correct\": true}, {\"class\": \"blue\", \"split\": \"test\", \"feature1\": 0.4040221015195885, \"feature2\": 0.4498786797283854, \"predict\": false, \"correct\": true}, {\"class\": \"blue\", \"split\": \"test\", \"feature1\": 0.2595347006249396, \"feature2\": 0.1225573249918864, \"predict\": false, \"correct\": true}, {\"class\": \"red\", \"split\": \"test\", \"feature1\": 0.9378197337823356, \"feature2\": 0.2496180155271021, \"predict\": true, \"correct\": true}, {\"class\": \"blue\", \"split\": \"test\", \"feature1\": 0.1489867786892954, \"feature2\": 0.7008905334045862, \"predict\": false, \"correct\": true}, {\"class\": \"blue\", \"split\": \"test\", \"feature1\": 0.5319859082551933, \"feature2\": 0.439513867555201, \"predict\": true, \"correct\": false}, {\"class\": \"red\", \"split\": \"test\", \"feature1\": 0.5677617809501283, \"feature2\": 0.9589532380123298, \"predict\": true, \"correct\": true}]}}, {\"mode\": \"vega-lite\"});\n",
       "</script>"
      ],
      "text/plain": [
       "alt.LayerChart(...)"
      ]
     },
     "execution_count": 1,
     "metadata": {},
     "output_type": "execute_result"
    }
   ],
   "source": [
    "chart2 = (alt.Chart(df_test)\n",
    "    .mark_point(color=\"black\")\n",
    "    .encode(\n",
    "        x = \"feature1\",\n",
    "        y = \"feature2\",\n",
    "    ))\n",
    "chart = chart + chart2\n",
    "chart"
   ]
  },
  {
   "cell_type": "markdown",
   "id": "f33b64fa",
   "metadata": {},
   "source": [
    "## Other Data."
   ]
  },
  {
   "cell_type": "markdown",
   "id": "4a9f002e",
   "metadata": {},
   "source": [
    "So is machine learning magic? Can we just give any data\n",
    "and have it learn a separator for us?"
   ]
  },
  {
   "cell_type": "markdown",
   "id": "031f237d",
   "metadata": {},
   "source": [
    "Well let's try the circle dataset."
   ]
  },
  {
   "cell_type": "code",
   "execution_count": 39,
   "id": "14431401",
   "metadata": {
    "execution": {
     "iopub.execute_input": "2021-06-10T17:51:34.135121Z",
     "iopub.status.busy": "2021-06-10T17:51:34.134156Z",
     "iopub.status.idle": "2021-06-10T17:51:34.138185Z",
     "shell.execute_reply": "2021-06-10T17:51:34.138937Z"
    },
    "lines_to_next_cell": 2
   },
   "outputs": [
    {
     "data": {
      "text/html": [
       "\n",
       "<div id=\"altair-viz-23c7565d61524eefb61cd17eb9e6407c\"></div>\n",
       "<script type=\"text/javascript\">\n",
       "  (function(spec, embedOpt){\n",
       "    let outputDiv = document.currentScript.previousElementSibling;\n",
       "    if (outputDiv.id !== \"altair-viz-23c7565d61524eefb61cd17eb9e6407c\") {\n",
       "      outputDiv = document.getElementById(\"altair-viz-23c7565d61524eefb61cd17eb9e6407c\");\n",
       "    }\n",
       "    const paths = {\n",
       "      \"vega\": \"https://cdn.jsdelivr.net/npm//vega@5?noext\",\n",
       "      \"vega-lib\": \"https://cdn.jsdelivr.net/npm//vega-lib?noext\",\n",
       "      \"vega-lite\": \"https://cdn.jsdelivr.net/npm//vega-lite@4.8.1?noext\",\n",
       "      \"vega-embed\": \"https://cdn.jsdelivr.net/npm//vega-embed@6?noext\",\n",
       "    };\n",
       "\n",
       "    function loadScript(lib) {\n",
       "      return new Promise(function(resolve, reject) {\n",
       "        var s = document.createElement('script');\n",
       "        s.src = paths[lib];\n",
       "        s.async = true;\n",
       "        s.onload = () => resolve(paths[lib]);\n",
       "        s.onerror = () => reject(`Error loading script: ${paths[lib]}`);\n",
       "        document.getElementsByTagName(\"head\")[0].appendChild(s);\n",
       "      });\n",
       "    }\n",
       "\n",
       "    function showError(err) {\n",
       "      outputDiv.innerHTML = `<div class=\"error\" style=\"color:red;\">${err}</div>`;\n",
       "      throw err;\n",
       "    }\n",
       "\n",
       "    function displayChart(vegaEmbed) {\n",
       "      vegaEmbed(outputDiv, spec, embedOpt)\n",
       "        .catch(err => showError(`Javascript Error: ${err.message}<br>This usually means there's a typo in your chart specification. See the javascript console for the full traceback.`));\n",
       "    }\n",
       "\n",
       "    if(typeof define === \"function\" && define.amd) {\n",
       "      requirejs.config({paths});\n",
       "      require([\"vega-embed\"], displayChart, err => showError(`Error loading script: ${err.message}`));\n",
       "    } else if (typeof vegaEmbed === \"function\") {\n",
       "      displayChart(vegaEmbed);\n",
       "    } else {\n",
       "      loadScript(\"vega\")\n",
       "        .then(() => loadScript(\"vega-lite\"))\n",
       "        .then(() => loadScript(\"vega-embed\"))\n",
       "        .catch(showError)\n",
       "        .then(() => displayChart(vegaEmbed));\n",
       "    }\n",
       "  })({\"config\": {\"view\": {\"continuousWidth\": 400, \"continuousHeight\": 300}}, \"data\": {\"name\": \"data-498fde61b105fed2771b3fa715b380bf\"}, \"mark\": \"point\", \"encoding\": {\"color\": {\"type\": \"nominal\", \"field\": \"class\"}, \"x\": {\"type\": \"quantitative\", \"field\": \"feature1\"}, \"y\": {\"type\": \"quantitative\", \"field\": \"feature2\"}}, \"$schema\": \"https://vega.github.io/schema/vega-lite/v4.8.1.json\", \"datasets\": {\"data-498fde61b105fed2771b3fa715b380bf\": [{\"class\": \"blue\", \"split\": \"train\", \"feature1\": 0.5794618854690551, \"feature2\": 0.2809814637023228}, {\"class\": \"red\", \"split\": \"train\", \"feature1\": 0.3465876319975134, \"feature2\": 0.6457785367591281}, {\"class\": \"blue\", \"split\": \"train\", \"feature1\": 0.2033305923602071, \"feature2\": 0.1418920407449438}, {\"class\": \"red\", \"split\": \"train\", \"feature1\": 0.9216307857072542, \"feature2\": 0.7931819875310976}, {\"class\": \"red\", \"split\": \"train\", \"feature1\": 0.921990887619628, \"feature2\": 0.6694569011851154}, {\"class\": \"red\", \"split\": \"train\", \"feature1\": 0.9705855193881118, \"feature2\": 0.4614568036515947}, {\"class\": \"blue\", \"split\": \"train\", \"feature1\": 0.3683785494409123, \"feature2\": 0.4569167205345695}, {\"class\": \"red\", \"split\": \"train\", \"feature1\": 0.6652984275218323, \"feature2\": 0.6708862608428227}, {\"class\": \"red\", \"split\": \"train\", \"feature1\": 0.7312576254877781, \"feature2\": 0.4783755868772265}, {\"class\": \"red\", \"split\": \"train\", \"feature1\": 0.6727515116878122, \"feature2\": 0.0833097115243517}, {\"class\": \"blue\", \"split\": \"train\", \"feature1\": 0.4483549454863782, \"feature2\": 0.024413879329462}, {\"class\": \"red\", \"split\": \"train\", \"feature1\": 0.8891695723448501, \"feature2\": 0.7944116590830438}, {\"class\": \"red\", \"split\": \"train\", \"feature1\": 0.3375222285938073, \"feature2\": 0.858626753387626}, {\"class\": \"red\", \"split\": \"train\", \"feature1\": 0.8330993994405196, \"feature2\": 0.2882311495832362}, {\"class\": \"red\", \"split\": \"train\", \"feature1\": 0.3223025887245691, \"feature2\": 0.846703154635437}, {\"class\": \"blue\", \"split\": \"train\", \"feature1\": 0.258624571586021, \"feature2\": 0.5167314558386491}, {\"class\": \"red\", \"split\": \"train\", \"feature1\": 0.7007315360770254, \"feature2\": 0.1005977655512798}, {\"class\": \"blue\", \"split\": \"train\", \"feature1\": 0.4036773525927837, \"feature2\": 0.2638446592195986}, {\"class\": \"blue\", \"split\": \"train\", \"feature1\": 0.2370292791977132, \"feature2\": 0.4147941672473894}, {\"class\": \"red\", \"split\": \"train\", \"feature1\": 0.8359764423084121, \"feature2\": 0.5601650483967774}, {\"class\": \"blue\", \"split\": \"train\", \"feature1\": 0.186583741639325, \"feature2\": 0.200101218668996}, {\"class\": \"red\", \"split\": \"train\", \"feature1\": 0.4458411714250213, \"feature2\": 0.9443027837525404}, {\"class\": \"red\", \"split\": \"train\", \"feature1\": 0.7486055278293576, \"feature2\": 0.8142012547226738}, {\"class\": \"red\", \"split\": \"train\", \"feature1\": 0.6662378598278939, \"feature2\": 0.3816323946477068}, {\"class\": \"red\", \"split\": \"train\", \"feature1\": 0.600649473886588, \"feature2\": 0.7446821199115793}, {\"class\": \"red\", \"split\": \"train\", \"feature1\": 0.7206250783885133, \"feature2\": 0.8235338179399166}, {\"class\": \"blue\", \"split\": \"train\", \"feature1\": 0.2326443214597086, \"feature2\": 0.288026967224779}, {\"class\": \"red\", \"split\": \"train\", \"feature1\": 0.7497734301141761, \"feature2\": 0.2812888507027415}, {\"class\": \"red\", \"split\": \"train\", \"feature1\": 0.8852424645983112, \"feature2\": 0.2910510193456224}, {\"class\": \"red\", \"split\": \"train\", \"feature1\": 0.9879160727785654, \"feature2\": 0.2430723792378712}, {\"class\": \"red\", \"split\": \"train\", \"feature1\": 0.0428856323546574, \"feature2\": 0.5455235284844407}, {\"class\": \"blue\", \"split\": \"train\", \"feature1\": 0.5002743756555834, \"feature2\": 0.4160730762180261}, {\"class\": \"blue\", \"split\": \"train\", \"feature1\": 0.1465976351724849, \"feature2\": 0.2523256406024168}, {\"class\": \"blue\", \"split\": \"train\", \"feature1\": 0.3102276661006075, \"feature2\": 0.5365650880956196}, {\"class\": \"red\", \"split\": \"train\", \"feature1\": 0.5569395038711384, \"feature2\": 0.5714567645154139}, {\"class\": \"blue\", \"split\": \"train\", \"feature1\": 0.5789127269971067, \"feature2\": 0.1819532673377027}, {\"class\": \"blue\", \"split\": \"train\", \"feature1\": 0.4133866774386897, \"feature2\": 0.5166252502878594}, {\"class\": \"blue\", \"split\": \"train\", \"feature1\": 0.5621419494812662, \"feature2\": 0.3758633548560827}, {\"class\": \"red\", \"split\": \"train\", \"feature1\": 0.9551077164070744, \"feature2\": 0.8069566958434303}, {\"class\": \"red\", \"split\": \"train\", \"feature1\": 0.8819370757415724, \"feature2\": 0.7164448663607655}, {\"class\": \"red\", \"split\": \"train\", \"feature1\": 0.7300543214785143, \"feature2\": 0.2686296438726843}, {\"class\": \"blue\", \"split\": \"train\", \"feature1\": 0.1528937221948826, \"feature2\": 0.3716069918775453}, {\"class\": \"red\", \"split\": \"train\", \"feature1\": 0.9170983555788268, \"feature2\": 0.844618947211125}, {\"class\": \"red\", \"split\": \"train\", \"feature1\": 0.8447091928766365, \"feature2\": 0.7292439095497728}, {\"class\": \"blue\", \"split\": \"train\", \"feature1\": 0.2613587967626675, \"feature2\": 0.4367541937742867}, {\"class\": \"red\", \"split\": \"train\", \"feature1\": 0.1656904263452551, \"feature2\": 0.9820974282886163}, {\"class\": \"blue\", \"split\": \"train\", \"feature1\": 0.0103001584994648, \"feature2\": 0.4085839828385607}, {\"class\": \"red\", \"split\": \"train\", \"feature1\": 0.8591599066513755, \"feature2\": 0.8018433366994048}, {\"class\": \"red\", \"split\": \"train\", \"feature1\": 0.8321075701327081, \"feature2\": 0.0394990838604278}, {\"class\": \"red\", \"split\": \"train\", \"feature1\": 0.3197014910006378, \"feature2\": 0.6747414893948696}, {\"class\": \"red\", \"split\": \"train\", \"feature1\": 0.9648316820337932, \"feature2\": 0.859669604598103}, {\"class\": \"blue\", \"split\": \"train\", \"feature1\": 0.2378568490978929, \"feature2\": 0.4287258937896003}, {\"class\": \"blue\", \"split\": \"train\", \"feature1\": 0.1244520607965596, \"feature2\": 0.0767586397115676}, {\"class\": \"blue\", \"split\": \"train\", \"feature1\": 0.5212747227127259, \"feature2\": 0.3066482796785}, {\"class\": \"blue\", \"split\": \"train\", \"feature1\": 0.0752305207326781, \"feature2\": 0.2913472546882066}, {\"class\": \"blue\", \"split\": \"train\", \"feature1\": 0.1643970323386199, \"feature2\": 0.250238013848661}, {\"class\": \"blue\", \"split\": \"train\", \"feature1\": 0.2632778169348021, \"feature2\": 0.3974806206278632}, {\"class\": \"blue\", \"split\": \"train\", \"feature1\": 0.063952746498901, \"feature2\": 0.4764311233976315}, {\"class\": \"red\", \"split\": \"train\", \"feature1\": 0.8298053602629358, \"feature2\": 0.0003447998289866}, {\"class\": \"red\", \"split\": \"train\", \"feature1\": 0.5707320682229619, \"feature2\": 0.60205232296534}, {\"class\": \"red\", \"split\": \"train\", \"feature1\": 0.83434935692652, \"feature2\": 0.2191548970723466}, {\"class\": \"red\", \"split\": \"train\", \"feature1\": 0.0998217344883998, \"feature2\": 0.0541120655913497}, {\"class\": \"blue\", \"split\": \"train\", \"feature1\": 0.3058913297238469, \"feature2\": 0.4202349496277932}, {\"class\": \"blue\", \"split\": \"train\", \"feature1\": 0.6080947823738874, \"feature2\": 0.3593916673972095}, {\"class\": \"blue\", \"split\": \"train\", \"feature1\": 0.3296048727317576, \"feature2\": 0.5996057830355361}, {\"class\": \"red\", \"split\": \"train\", \"feature1\": 0.2671089455720471, \"feature2\": 0.7765942552828383}, {\"class\": \"red\", \"split\": \"train\", \"feature1\": 0.1397698750007708, \"feature2\": 0.5960374331263553}, {\"class\": \"red\", \"split\": \"train\", \"feature1\": 0.9345379618491532, \"feature2\": 0.4600559435128145}, {\"class\": \"red\", \"split\": \"train\", \"feature1\": 0.224537627270696, \"feature2\": 0.9436661043019152}, {\"class\": \"blue\", \"split\": \"train\", \"feature1\": 0.1440223364113498, \"feature2\": 0.4318071194051648}, {\"class\": \"red\", \"split\": \"train\", \"feature1\": 0.6674170751892946, \"feature2\": 0.0847833407298863}, {\"class\": \"red\", \"split\": \"train\", \"feature1\": 0.3107620992477263, \"feature2\": 0.6478522133408667}, {\"class\": \"blue\", \"split\": \"train\", \"feature1\": 0.5120318873826623, \"feature2\": 0.2648386517396657}, {\"class\": \"red\", \"split\": \"train\", \"feature1\": 0.3252855242169002, \"feature2\": 0.9513649571736228}, {\"class\": \"red\", \"split\": \"train\", \"feature1\": 0.2874476809305787, \"feature2\": 0.7751077705122048}, {\"class\": \"red\", \"split\": \"train\", \"feature1\": 0.8038322699327428, \"feature2\": 0.2630072488351695}, {\"class\": \"blue\", \"split\": \"train\", \"feature1\": 0.5079486031323656, \"feature2\": 0.4966051028602112}, {\"class\": \"blue\", \"split\": \"train\", \"feature1\": 0.2878861948856875, \"feature2\": 0.1999189910473111}, {\"class\": \"red\", \"split\": \"train\", \"feature1\": 0.71679271412536, \"feature2\": 0.5825504897584697}, {\"class\": \"blue\", \"split\": \"train\", \"feature1\": 0.2693572281144877, \"feature2\": 0.0490873365187161}, {\"class\": \"red\", \"split\": \"train\", \"feature1\": 0.6961590324522623, \"feature2\": 0.2053124733691196}, {\"class\": \"red\", \"split\": \"train\", \"feature1\": 0.5922314896829515, \"feature2\": 0.745887747006534}, {\"class\": \"red\", \"split\": \"train\", \"feature1\": 0.1165186078451081, \"feature2\": 0.6406646222098143}, {\"class\": \"red\", \"split\": \"train\", \"feature1\": 0.1410740475793631, \"feature2\": 0.6656837985935513}, {\"class\": \"red\", \"split\": \"train\", \"feature1\": 0.0984076055211774, \"feature2\": 0.7957602108969974}, {\"class\": \"red\", \"split\": \"train\", \"feature1\": 0.1431100012616269, \"feature2\": 0.7297575586131175}, {\"class\": \"red\", \"split\": \"train\", \"feature1\": 0.8696938342951784, \"feature2\": 0.3008883294889687}, {\"class\": \"red\", \"split\": \"train\", \"feature1\": 0.634161025044878, \"feature2\": 0.9529450803651316}, {\"class\": \"red\", \"split\": \"train\", \"feature1\": 0.4432638740120179, \"feature2\": 0.7393962754055615}, {\"class\": \"blue\", \"split\": \"train\", \"feature1\": 0.2274357270304585, \"feature2\": 0.4026192550303648}, {\"class\": \"red\", \"split\": \"train\", \"feature1\": 0.9961809687990602, \"feature2\": 0.9559570937605708}, {\"class\": \"red\", \"split\": \"train\", \"feature1\": 0.6120779538443142, \"feature2\": 0.3779956938212868}, {\"class\": \"blue\", \"split\": \"train\", \"feature1\": 0.1857374684102929, \"feature2\": 0.0966287152415225}, {\"class\": \"red\", \"split\": \"train\", \"feature1\": 0.2628600297673732, \"feature2\": 0.8574237447296968}, {\"class\": \"red\", \"split\": \"train\", \"feature1\": 0.3931444130463366, \"feature2\": 0.9038407648969576}, {\"class\": \"red\", \"split\": \"train\", \"feature1\": 0.915804199857594, \"feature2\": 0.7110552756040677}, {\"class\": \"red\", \"split\": \"train\", \"feature1\": 0.7128908065154608, \"feature2\": 0.4284971225671597}, {\"class\": \"red\", \"split\": \"train\", \"feature1\": 0.0560479355794043, \"feature2\": 0.0091347161352106}, {\"class\": \"blue\", \"split\": \"train\", \"feature1\": 0.056532652469056, \"feature2\": 0.4872534111307636}, {\"class\": \"red\", \"split\": \"train\", \"feature1\": 0.7755522719583986, \"feature2\": 0.6853624784006324}]}}, {\"mode\": \"vega-lite\"});\n",
       "</script>"
      ],
      "text/plain": [
       "alt.Chart(...)"
      ]
     },
     "execution_count": 1,
     "metadata": {},
     "output_type": "execute_result"
    }
   ],
   "source": [
    "chart = (alt.Chart(df2_train)\n",
    "    .mark_point()\n",
    "    .encode(\n",
    "        x = \"feature1\",\n",
    "        y = \"feature2\",\n",
    "        color = \"class\",\n",
    "    ))\n",
    "chart"
   ]
  },
  {
   "cell_type": "markdown",
   "id": "b6e9b9e9",
   "metadata": {},
   "source": [
    "First we fit. "
   ]
  },
  {
   "cell_type": "code",
   "execution_count": 40,
   "id": "f4061c02",
   "metadata": {
    "execution": {
     "iopub.execute_input": "2021-06-10T17:51:34.154084Z",
     "iopub.status.busy": "2021-06-10T17:51:34.148246Z",
     "iopub.status.idle": "2021-06-10T17:51:34.158018Z",
     "shell.execute_reply": "2021-06-10T17:51:34.157590Z"
    }
   },
   "outputs": [
    {
     "data": {
      "text/plain": [
       "LogisticRegression()"
      ]
     },
     "execution_count": 1,
     "metadata": {},
     "output_type": "execute_result"
    }
   ],
   "source": [
    "model.fit(X=df2_train[[\"feature1\", \"feature2\"]],\n",
    "          y=df2_train[\"class\"] == \"red\")"
   ]
  },
  {
   "cell_type": "markdown",
   "id": "0a877c85",
   "metadata": {},
   "source": [
    "Then we predict."
   ]
  },
  {
   "cell_type": "code",
   "execution_count": 41,
   "id": "11bfee87",
   "metadata": {
    "execution": {
     "iopub.execute_input": "2021-06-10T17:51:34.166931Z",
     "iopub.status.busy": "2021-06-10T17:51:34.166241Z",
     "iopub.status.idle": "2021-06-10T17:51:34.169722Z",
     "shell.execute_reply": "2021-06-10T17:51:34.168964Z"
    },
    "lines_to_next_cell": 2
   },
   "outputs": [
    {
     "name": "stderr",
     "output_type": "stream",
     "text": [
      "<ipython-input-1-a5c7011468c8>:1: SettingWithCopyWarning: \n",
      "A value is trying to be set on a copy of a slice from a DataFrame.\n",
      "Try using .loc[row_indexer,col_indexer] = value instead\n",
      "\n",
      "See the caveats in the documentation: https://pandas.pydata.org/pandas-docs/stable/user_guide/indexing.html#returning-a-view-versus-a-copy\n",
      "  df2_test[\"predict\"] = model.predict(df2_test[[\"feature1\", \"feature2\"]])\n"
     ]
    }
   ],
   "source": [
    "df2_test[\"predict\"] = model.predict(df2_test[[\"feature1\", \"feature2\"]])"
   ]
  },
  {
   "cell_type": "code",
   "execution_count": 42,
   "id": "51df3320",
   "metadata": {
    "execution": {
     "iopub.execute_input": "2021-06-10T17:51:34.188643Z",
     "iopub.status.busy": "2021-06-10T17:51:34.187791Z",
     "iopub.status.idle": "2021-06-10T17:51:34.191213Z",
     "shell.execute_reply": "2021-06-10T17:51:34.191915Z"
    }
   },
   "outputs": [
    {
     "data": {
      "text/html": [
       "<div>\n",
       "<style scoped>\n",
       "    .dataframe tbody tr th:only-of-type {\n",
       "        vertical-align: middle;\n",
       "    }\n",
       "\n",
       "    .dataframe tbody tr th {\n",
       "        vertical-align: top;\n",
       "    }\n",
       "\n",
       "    .dataframe thead th {\n",
       "        text-align: right;\n",
       "    }\n",
       "</style>\n",
       "<table border=\"1\" class=\"dataframe\">\n",
       "  <thead>\n",
       "    <tr style=\"text-align: right;\">\n",
       "      <th></th>\n",
       "      <th>class</th>\n",
       "      <th>split</th>\n",
       "      <th>feature1</th>\n",
       "      <th>feature2</th>\n",
       "      <th>predict</th>\n",
       "    </tr>\n",
       "  </thead>\n",
       "  <tbody>\n",
       "    <tr>\n",
       "      <th>100</th>\n",
       "      <td>red</td>\n",
       "      <td>test</td>\n",
       "      <td>0.941305</td>\n",
       "      <td>0.651946</td>\n",
       "      <td>True</td>\n",
       "    </tr>\n",
       "    <tr>\n",
       "      <th>101</th>\n",
       "      <td>blue</td>\n",
       "      <td>test</td>\n",
       "      <td>0.155967</td>\n",
       "      <td>0.377392</td>\n",
       "      <td>False</td>\n",
       "    </tr>\n",
       "    <tr>\n",
       "      <th>102</th>\n",
       "      <td>red</td>\n",
       "      <td>test</td>\n",
       "      <td>0.808823</td>\n",
       "      <td>0.835790</td>\n",
       "      <td>True</td>\n",
       "    </tr>\n",
       "    <tr>\n",
       "      <th>103</th>\n",
       "      <td>blue</td>\n",
       "      <td>test</td>\n",
       "      <td>0.479989</td>\n",
       "      <td>0.416758</td>\n",
       "      <td>True</td>\n",
       "    </tr>\n",
       "    <tr>\n",
       "      <th>104</th>\n",
       "      <td>red</td>\n",
       "      <td>test</td>\n",
       "      <td>0.164724</td>\n",
       "      <td>0.733965</td>\n",
       "      <td>True</td>\n",
       "    </tr>\n",
       "    <tr>\n",
       "      <th>105</th>\n",
       "      <td>blue</td>\n",
       "      <td>test</td>\n",
       "      <td>0.480395</td>\n",
       "      <td>0.122430</td>\n",
       "      <td>False</td>\n",
       "    </tr>\n",
       "    <tr>\n",
       "      <th>106</th>\n",
       "      <td>red</td>\n",
       "      <td>test</td>\n",
       "      <td>0.641760</td>\n",
       "      <td>0.070164</td>\n",
       "      <td>True</td>\n",
       "    </tr>\n",
       "    <tr>\n",
       "      <th>107</th>\n",
       "      <td>blue</td>\n",
       "      <td>test</td>\n",
       "      <td>0.529257</td>\n",
       "      <td>0.497394</td>\n",
       "      <td>True</td>\n",
       "    </tr>\n",
       "    <tr>\n",
       "      <th>108</th>\n",
       "      <td>red</td>\n",
       "      <td>test</td>\n",
       "      <td>0.995769</td>\n",
       "      <td>0.269966</td>\n",
       "      <td>True</td>\n",
       "    </tr>\n",
       "    <tr>\n",
       "      <th>109</th>\n",
       "      <td>blue</td>\n",
       "      <td>test</td>\n",
       "      <td>0.129038</td>\n",
       "      <td>0.547093</td>\n",
       "      <td>False</td>\n",
       "    </tr>\n",
       "    <tr>\n",
       "      <th>110</th>\n",
       "      <td>red</td>\n",
       "      <td>test</td>\n",
       "      <td>0.290268</td>\n",
       "      <td>0.880467</td>\n",
       "      <td>True</td>\n",
       "    </tr>\n",
       "    <tr>\n",
       "      <th>111</th>\n",
       "      <td>blue</td>\n",
       "      <td>test</td>\n",
       "      <td>0.453087</td>\n",
       "      <td>0.303401</td>\n",
       "      <td>True</td>\n",
       "    </tr>\n",
       "    <tr>\n",
       "      <th>112</th>\n",
       "      <td>red</td>\n",
       "      <td>test</td>\n",
       "      <td>0.884021</td>\n",
       "      <td>0.770794</td>\n",
       "      <td>True</td>\n",
       "    </tr>\n",
       "    <tr>\n",
       "      <th>113</th>\n",
       "      <td>red</td>\n",
       "      <td>test</td>\n",
       "      <td>0.551072</td>\n",
       "      <td>0.989851</td>\n",
       "      <td>True</td>\n",
       "    </tr>\n",
       "    <tr>\n",
       "      <th>114</th>\n",
       "      <td>red</td>\n",
       "      <td>test</td>\n",
       "      <td>0.957691</td>\n",
       "      <td>0.264167</td>\n",
       "      <td>True</td>\n",
       "    </tr>\n",
       "    <tr>\n",
       "      <th>115</th>\n",
       "      <td>blue</td>\n",
       "      <td>test</td>\n",
       "      <td>0.326817</td>\n",
       "      <td>0.037545</td>\n",
       "      <td>False</td>\n",
       "    </tr>\n",
       "    <tr>\n",
       "      <th>116</th>\n",
       "      <td>red</td>\n",
       "      <td>test</td>\n",
       "      <td>0.161299</td>\n",
       "      <td>0.991915</td>\n",
       "      <td>True</td>\n",
       "    </tr>\n",
       "    <tr>\n",
       "      <th>117</th>\n",
       "      <td>red</td>\n",
       "      <td>test</td>\n",
       "      <td>0.978296</td>\n",
       "      <td>0.998501</td>\n",
       "      <td>True</td>\n",
       "    </tr>\n",
       "    <tr>\n",
       "      <th>118</th>\n",
       "      <td>red</td>\n",
       "      <td>test</td>\n",
       "      <td>0.894841</td>\n",
       "      <td>0.826736</td>\n",
       "      <td>True</td>\n",
       "    </tr>\n",
       "    <tr>\n",
       "      <th>119</th>\n",
       "      <td>red</td>\n",
       "      <td>test</td>\n",
       "      <td>0.926413</td>\n",
       "      <td>0.945035</td>\n",
       "      <td>True</td>\n",
       "    </tr>\n",
       "    <tr>\n",
       "      <th>120</th>\n",
       "      <td>red</td>\n",
       "      <td>test</td>\n",
       "      <td>0.624724</td>\n",
       "      <td>0.385560</td>\n",
       "      <td>True</td>\n",
       "    </tr>\n",
       "    <tr>\n",
       "      <th>121</th>\n",
       "      <td>red</td>\n",
       "      <td>test</td>\n",
       "      <td>0.637194</td>\n",
       "      <td>0.742195</td>\n",
       "      <td>True</td>\n",
       "    </tr>\n",
       "    <tr>\n",
       "      <th>122</th>\n",
       "      <td>red</td>\n",
       "      <td>test</td>\n",
       "      <td>0.896676</td>\n",
       "      <td>0.980556</td>\n",
       "      <td>True</td>\n",
       "    </tr>\n",
       "    <tr>\n",
       "      <th>123</th>\n",
       "      <td>red</td>\n",
       "      <td>test</td>\n",
       "      <td>0.544834</td>\n",
       "      <td>0.006543</td>\n",
       "      <td>False</td>\n",
       "    </tr>\n",
       "    <tr>\n",
       "      <th>124</th>\n",
       "      <td>red</td>\n",
       "      <td>test</td>\n",
       "      <td>0.965067</td>\n",
       "      <td>0.780764</td>\n",
       "      <td>True</td>\n",
       "    </tr>\n",
       "    <tr>\n",
       "      <th>125</th>\n",
       "      <td>red</td>\n",
       "      <td>test</td>\n",
       "      <td>0.970951</td>\n",
       "      <td>0.334801</td>\n",
       "      <td>True</td>\n",
       "    </tr>\n",
       "    <tr>\n",
       "      <th>126</th>\n",
       "      <td>red</td>\n",
       "      <td>test</td>\n",
       "      <td>0.936720</td>\n",
       "      <td>0.381722</td>\n",
       "      <td>True</td>\n",
       "    </tr>\n",
       "    <tr>\n",
       "      <th>127</th>\n",
       "      <td>red</td>\n",
       "      <td>test</td>\n",
       "      <td>0.998617</td>\n",
       "      <td>0.983967</td>\n",
       "      <td>True</td>\n",
       "    </tr>\n",
       "    <tr>\n",
       "      <th>128</th>\n",
       "      <td>red</td>\n",
       "      <td>test</td>\n",
       "      <td>0.601882</td>\n",
       "      <td>0.973487</td>\n",
       "      <td>True</td>\n",
       "    </tr>\n",
       "    <tr>\n",
       "      <th>129</th>\n",
       "      <td>red</td>\n",
       "      <td>test</td>\n",
       "      <td>0.903696</td>\n",
       "      <td>0.659220</td>\n",
       "      <td>True</td>\n",
       "    </tr>\n",
       "    <tr>\n",
       "      <th>130</th>\n",
       "      <td>red</td>\n",
       "      <td>test</td>\n",
       "      <td>0.801355</td>\n",
       "      <td>0.042205</td>\n",
       "      <td>True</td>\n",
       "    </tr>\n",
       "    <tr>\n",
       "      <th>131</th>\n",
       "      <td>blue</td>\n",
       "      <td>test</td>\n",
       "      <td>0.230163</td>\n",
       "      <td>0.238003</td>\n",
       "      <td>False</td>\n",
       "    </tr>\n",
       "    <tr>\n",
       "      <th>132</th>\n",
       "      <td>red</td>\n",
       "      <td>test</td>\n",
       "      <td>0.070266</td>\n",
       "      <td>0.058943</td>\n",
       "      <td>False</td>\n",
       "    </tr>\n",
       "    <tr>\n",
       "      <th>133</th>\n",
       "      <td>red</td>\n",
       "      <td>test</td>\n",
       "      <td>0.030135</td>\n",
       "      <td>0.796811</td>\n",
       "      <td>True</td>\n",
       "    </tr>\n",
       "    <tr>\n",
       "      <th>134</th>\n",
       "      <td>blue</td>\n",
       "      <td>test</td>\n",
       "      <td>0.376149</td>\n",
       "      <td>0.246199</td>\n",
       "      <td>False</td>\n",
       "    </tr>\n",
       "    <tr>\n",
       "      <th>135</th>\n",
       "      <td>red</td>\n",
       "      <td>test</td>\n",
       "      <td>0.441904</td>\n",
       "      <td>0.868638</td>\n",
       "      <td>True</td>\n",
       "    </tr>\n",
       "    <tr>\n",
       "      <th>136</th>\n",
       "      <td>blue</td>\n",
       "      <td>test</td>\n",
       "      <td>0.414660</td>\n",
       "      <td>0.212829</td>\n",
       "      <td>False</td>\n",
       "    </tr>\n",
       "    <tr>\n",
       "      <th>137</th>\n",
       "      <td>red</td>\n",
       "      <td>test</td>\n",
       "      <td>0.758548</td>\n",
       "      <td>0.311594</td>\n",
       "      <td>True</td>\n",
       "    </tr>\n",
       "    <tr>\n",
       "      <th>138</th>\n",
       "      <td>red</td>\n",
       "      <td>test</td>\n",
       "      <td>0.946481</td>\n",
       "      <td>0.986560</td>\n",
       "      <td>True</td>\n",
       "    </tr>\n",
       "    <tr>\n",
       "      <th>139</th>\n",
       "      <td>red</td>\n",
       "      <td>test</td>\n",
       "      <td>0.603303</td>\n",
       "      <td>0.543316</td>\n",
       "      <td>True</td>\n",
       "    </tr>\n",
       "    <tr>\n",
       "      <th>140</th>\n",
       "      <td>blue</td>\n",
       "      <td>test</td>\n",
       "      <td>0.259073</td>\n",
       "      <td>0.051255</td>\n",
       "      <td>False</td>\n",
       "    </tr>\n",
       "    <tr>\n",
       "      <th>141</th>\n",
       "      <td>red</td>\n",
       "      <td>test</td>\n",
       "      <td>0.366359</td>\n",
       "      <td>0.688262</td>\n",
       "      <td>True</td>\n",
       "    </tr>\n",
       "    <tr>\n",
       "      <th>142</th>\n",
       "      <td>blue</td>\n",
       "      <td>test</td>\n",
       "      <td>0.597422</td>\n",
       "      <td>0.198551</td>\n",
       "      <td>True</td>\n",
       "    </tr>\n",
       "    <tr>\n",
       "      <th>143</th>\n",
       "      <td>red</td>\n",
       "      <td>test</td>\n",
       "      <td>0.799323</td>\n",
       "      <td>0.265774</td>\n",
       "      <td>True</td>\n",
       "    </tr>\n",
       "    <tr>\n",
       "      <th>144</th>\n",
       "      <td>blue</td>\n",
       "      <td>test</td>\n",
       "      <td>0.039086</td>\n",
       "      <td>0.276488</td>\n",
       "      <td>False</td>\n",
       "    </tr>\n",
       "    <tr>\n",
       "      <th>145</th>\n",
       "      <td>red</td>\n",
       "      <td>test</td>\n",
       "      <td>0.690565</td>\n",
       "      <td>0.153950</td>\n",
       "      <td>True</td>\n",
       "    </tr>\n",
       "    <tr>\n",
       "      <th>146</th>\n",
       "      <td>red</td>\n",
       "      <td>test</td>\n",
       "      <td>0.549430</td>\n",
       "      <td>0.719159</td>\n",
       "      <td>True</td>\n",
       "    </tr>\n",
       "    <tr>\n",
       "      <th>147</th>\n",
       "      <td>red</td>\n",
       "      <td>test</td>\n",
       "      <td>0.678114</td>\n",
       "      <td>0.838775</td>\n",
       "      <td>True</td>\n",
       "    </tr>\n",
       "    <tr>\n",
       "      <th>148</th>\n",
       "      <td>red</td>\n",
       "      <td>test</td>\n",
       "      <td>0.090473</td>\n",
       "      <td>0.859933</td>\n",
       "      <td>True</td>\n",
       "    </tr>\n",
       "    <tr>\n",
       "      <th>149</th>\n",
       "      <td>red</td>\n",
       "      <td>test</td>\n",
       "      <td>0.780599</td>\n",
       "      <td>0.066781</td>\n",
       "      <td>True</td>\n",
       "    </tr>\n",
       "  </tbody>\n",
       "</table>\n",
       "</div>"
      ],
      "text/plain": [
       "    class split  feature1  feature2  predict\n",
       "100   red  test  0.941305  0.651946     True\n",
       "101  blue  test  0.155967  0.377392    False\n",
       "102   red  test  0.808823  0.835790     True\n",
       "103  blue  test  0.479989  0.416758     True\n",
       "104   red  test  0.164724  0.733965     True\n",
       "105  blue  test  0.480395  0.122430    False\n",
       "106   red  test  0.641760  0.070164     True\n",
       "107  blue  test  0.529257  0.497394     True\n",
       "108   red  test  0.995769  0.269966     True\n",
       "109  blue  test  0.129038  0.547093    False\n",
       "110   red  test  0.290268  0.880467     True\n",
       "111  blue  test  0.453087  0.303401     True\n",
       "112   red  test  0.884021  0.770794     True\n",
       "113   red  test  0.551072  0.989851     True\n",
       "114   red  test  0.957691  0.264167     True\n",
       "115  blue  test  0.326817  0.037545    False\n",
       "116   red  test  0.161299  0.991915     True\n",
       "117   red  test  0.978296  0.998501     True\n",
       "118   red  test  0.894841  0.826736     True\n",
       "119   red  test  0.926413  0.945035     True\n",
       "120   red  test  0.624724  0.385560     True\n",
       "121   red  test  0.637194  0.742195     True\n",
       "122   red  test  0.896676  0.980556     True\n",
       "123   red  test  0.544834  0.006543    False\n",
       "124   red  test  0.965067  0.780764     True\n",
       "125   red  test  0.970951  0.334801     True\n",
       "126   red  test  0.936720  0.381722     True\n",
       "127   red  test  0.998617  0.983967     True\n",
       "128   red  test  0.601882  0.973487     True\n",
       "129   red  test  0.903696  0.659220     True\n",
       "130   red  test  0.801355  0.042205     True\n",
       "131  blue  test  0.230163  0.238003    False\n",
       "132   red  test  0.070266  0.058943    False\n",
       "133   red  test  0.030135  0.796811     True\n",
       "134  blue  test  0.376149  0.246199    False\n",
       "135   red  test  0.441904  0.868638     True\n",
       "136  blue  test  0.414660  0.212829    False\n",
       "137   red  test  0.758548  0.311594     True\n",
       "138   red  test  0.946481  0.986560     True\n",
       "139   red  test  0.603303  0.543316     True\n",
       "140  blue  test  0.259073  0.051255    False\n",
       "141   red  test  0.366359  0.688262     True\n",
       "142  blue  test  0.597422  0.198551     True\n",
       "143   red  test  0.799323  0.265774     True\n",
       "144  blue  test  0.039086  0.276488    False\n",
       "145   red  test  0.690565  0.153950     True\n",
       "146   red  test  0.549430  0.719159     True\n",
       "147   red  test  0.678114  0.838775     True\n",
       "148   red  test  0.090473  0.859933     True\n",
       "149   red  test  0.780599  0.066781     True"
      ]
     },
     "execution_count": 1,
     "metadata": {},
     "output_type": "execute_result"
    }
   ],
   "source": [
    "df2_test"
   ]
  },
  {
   "cell_type": "markdown",
   "id": "cbfd56a5",
   "metadata": {},
   "source": [
    "Finally we graph."
   ]
  },
  {
   "cell_type": "code",
   "execution_count": 43,
   "id": "63d5eede",
   "metadata": {
    "execution": {
     "iopub.execute_input": "2021-06-10T17:51:34.198359Z",
     "iopub.status.busy": "2021-06-10T17:51:34.197506Z",
     "iopub.status.idle": "2021-06-10T17:51:34.199283Z",
     "shell.execute_reply": "2021-06-10T17:51:34.199976Z"
    }
   },
   "outputs": [],
   "source": [
    "all_df[\"predict\"] = model.predict(all_df[[\"feature1\", \"feature2\"]])"
   ]
  },
  {
   "cell_type": "code",
   "execution_count": 44,
   "id": "305a8599",
   "metadata": {
    "execution": {
     "iopub.execute_input": "2021-06-10T17:51:34.239299Z",
     "iopub.status.busy": "2021-06-10T17:51:34.238666Z",
     "iopub.status.idle": "2021-06-10T17:51:34.251380Z",
     "shell.execute_reply": "2021-06-10T17:51:34.251638Z"
    },
    "lines_to_next_cell": 2
   },
   "outputs": [
    {
     "data": {
      "text/html": [
       "\n",
       "<div id=\"altair-viz-204b94d3ce844959a04706168a9bc4fc\"></div>\n",
       "<script type=\"text/javascript\">\n",
       "  (function(spec, embedOpt){\n",
       "    let outputDiv = document.currentScript.previousElementSibling;\n",
       "    if (outputDiv.id !== \"altair-viz-204b94d3ce844959a04706168a9bc4fc\") {\n",
       "      outputDiv = document.getElementById(\"altair-viz-204b94d3ce844959a04706168a9bc4fc\");\n",
       "    }\n",
       "    const paths = {\n",
       "      \"vega\": \"https://cdn.jsdelivr.net/npm//vega@5?noext\",\n",
       "      \"vega-lib\": \"https://cdn.jsdelivr.net/npm//vega-lib?noext\",\n",
       "      \"vega-lite\": \"https://cdn.jsdelivr.net/npm//vega-lite@4.8.1?noext\",\n",
       "      \"vega-embed\": \"https://cdn.jsdelivr.net/npm//vega-embed@6?noext\",\n",
       "    };\n",
       "\n",
       "    function loadScript(lib) {\n",
       "      return new Promise(function(resolve, reject) {\n",
       "        var s = document.createElement('script');\n",
       "        s.src = paths[lib];\n",
       "        s.async = true;\n",
       "        s.onload = () => resolve(paths[lib]);\n",
       "        s.onerror = () => reject(`Error loading script: ${paths[lib]}`);\n",
       "        document.getElementsByTagName(\"head\")[0].appendChild(s);\n",
       "      });\n",
       "    }\n",
       "\n",
       "    function showError(err) {\n",
       "      outputDiv.innerHTML = `<div class=\"error\" style=\"color:red;\">${err}</div>`;\n",
       "      throw err;\n",
       "    }\n",
       "\n",
       "    function displayChart(vegaEmbed) {\n",
       "      vegaEmbed(outputDiv, spec, embedOpt)\n",
       "        .catch(err => showError(`Javascript Error: ${err.message}<br>This usually means there's a typo in your chart specification. See the javascript console for the full traceback.`));\n",
       "    }\n",
       "\n",
       "    if(typeof define === \"function\" && define.amd) {\n",
       "      requirejs.config({paths});\n",
       "      require([\"vega-embed\"], displayChart, err => showError(`Error loading script: ${err.message}`));\n",
       "    } else if (typeof vegaEmbed === \"function\") {\n",
       "      displayChart(vegaEmbed);\n",
       "    } else {\n",
       "      loadScript(\"vega\")\n",
       "        .then(() => loadScript(\"vega-lite\"))\n",
       "        .then(() => loadScript(\"vega-embed\"))\n",
       "        .catch(showError)\n",
       "        .then(() => displayChart(vegaEmbed));\n",
       "    }\n",
       "  })({\"config\": {\"view\": {\"continuousWidth\": 400, \"continuousHeight\": 300}}, \"data\": {\"name\": \"data-d8027f3d4b6f11bac7cb98515e43fa07\"}, \"mark\": \"point\", \"encoding\": {\"color\": {\"type\": \"nominal\", \"field\": \"predict\"}, \"fill\": {\"type\": \"nominal\", \"field\": \"predict\"}, \"x\": {\"type\": \"quantitative\", \"field\": \"feature1\"}, \"y\": {\"type\": \"quantitative\", \"field\": \"feature2\"}}, \"$schema\": \"https://vega.github.io/schema/vega-lite/v4.8.1.json\", \"datasets\": {\"data-d8027f3d4b6f11bac7cb98515e43fa07\": [{\"feature1\": 0.0, \"feature2\": 0.0, \"predict\": false}, {\"feature1\": 0.0, \"feature2\": 0.02, \"predict\": false}, {\"feature1\": 0.0, \"feature2\": 0.04, \"predict\": false}, {\"feature1\": 0.0, \"feature2\": 0.06, \"predict\": false}, {\"feature1\": 0.0, \"feature2\": 0.08, \"predict\": false}, {\"feature1\": 0.0, \"feature2\": 0.1, \"predict\": false}, {\"feature1\": 0.0, \"feature2\": 0.12, \"predict\": false}, {\"feature1\": 0.0, \"feature2\": 0.14, \"predict\": false}, {\"feature1\": 0.0, \"feature2\": 0.16, \"predict\": false}, {\"feature1\": 0.0, \"feature2\": 0.18, \"predict\": false}, {\"feature1\": 0.0, \"feature2\": 0.2, \"predict\": false}, {\"feature1\": 0.0, \"feature2\": 0.22, \"predict\": false}, {\"feature1\": 0.0, \"feature2\": 0.24, \"predict\": false}, {\"feature1\": 0.0, \"feature2\": 0.26, \"predict\": false}, {\"feature1\": 0.0, \"feature2\": 0.28, \"predict\": false}, {\"feature1\": 0.0, \"feature2\": 0.3, \"predict\": false}, {\"feature1\": 0.0, \"feature2\": 0.32, \"predict\": false}, {\"feature1\": 0.0, \"feature2\": 0.34, \"predict\": false}, {\"feature1\": 0.0, \"feature2\": 0.36, \"predict\": false}, {\"feature1\": 0.0, \"feature2\": 0.38, \"predict\": false}, {\"feature1\": 0.0, \"feature2\": 0.4, \"predict\": false}, {\"feature1\": 0.0, \"feature2\": 0.42, \"predict\": false}, {\"feature1\": 0.0, \"feature2\": 0.44, \"predict\": false}, {\"feature1\": 0.0, \"feature2\": 0.46, \"predict\": false}, {\"feature1\": 0.0, \"feature2\": 0.48, \"predict\": false}, {\"feature1\": 0.0, \"feature2\": 0.5, \"predict\": false}, {\"feature1\": 0.0, \"feature2\": 0.52, \"predict\": false}, {\"feature1\": 0.0, \"feature2\": 0.54, \"predict\": false}, {\"feature1\": 0.0, \"feature2\": 0.56, \"predict\": false}, {\"feature1\": 0.0, \"feature2\": 0.58, \"predict\": false}, {\"feature1\": 0.0, \"feature2\": 0.6, \"predict\": false}, {\"feature1\": 0.0, \"feature2\": 0.62, \"predict\": false}, {\"feature1\": 0.0, \"feature2\": 0.64, \"predict\": false}, {\"feature1\": 0.0, \"feature2\": 0.66, \"predict\": false}, {\"feature1\": 0.0, \"feature2\": 0.68, \"predict\": false}, {\"feature1\": 0.0, \"feature2\": 0.7, \"predict\": false}, {\"feature1\": 0.0, \"feature2\": 0.72, \"predict\": false}, {\"feature1\": 0.0, \"feature2\": 0.74, \"predict\": true}, {\"feature1\": 0.0, \"feature2\": 0.76, \"predict\": true}, {\"feature1\": 0.0, \"feature2\": 0.78, \"predict\": true}, {\"feature1\": 0.0, \"feature2\": 0.8, \"predict\": true}, {\"feature1\": 0.0, \"feature2\": 0.82, \"predict\": true}, {\"feature1\": 0.0, \"feature2\": 0.84, \"predict\": true}, {\"feature1\": 0.0, \"feature2\": 0.86, \"predict\": true}, {\"feature1\": 0.0, \"feature2\": 0.88, \"predict\": true}, {\"feature1\": 0.0, \"feature2\": 0.9, \"predict\": true}, {\"feature1\": 0.0, \"feature2\": 0.92, \"predict\": true}, {\"feature1\": 0.0, \"feature2\": 0.94, \"predict\": true}, {\"feature1\": 0.0, \"feature2\": 0.96, \"predict\": true}, {\"feature1\": 0.0, \"feature2\": 0.98, \"predict\": true}, {\"feature1\": 0.02, \"feature2\": 0.0, \"predict\": false}, {\"feature1\": 0.02, \"feature2\": 0.02, \"predict\": false}, {\"feature1\": 0.02, \"feature2\": 0.04, \"predict\": false}, {\"feature1\": 0.02, \"feature2\": 0.06, \"predict\": false}, {\"feature1\": 0.02, \"feature2\": 0.08, \"predict\": false}, {\"feature1\": 0.02, \"feature2\": 0.1, \"predict\": false}, {\"feature1\": 0.02, \"feature2\": 0.12, \"predict\": false}, {\"feature1\": 0.02, \"feature2\": 0.14, \"predict\": false}, {\"feature1\": 0.02, \"feature2\": 0.16, \"predict\": false}, {\"feature1\": 0.02, \"feature2\": 0.18, \"predict\": false}, {\"feature1\": 0.02, \"feature2\": 0.2, \"predict\": false}, {\"feature1\": 0.02, \"feature2\": 0.22, \"predict\": false}, {\"feature1\": 0.02, \"feature2\": 0.24, \"predict\": false}, {\"feature1\": 0.02, \"feature2\": 0.26, \"predict\": false}, {\"feature1\": 0.02, \"feature2\": 0.28, \"predict\": false}, {\"feature1\": 0.02, \"feature2\": 0.3, \"predict\": false}, {\"feature1\": 0.02, \"feature2\": 0.32, \"predict\": false}, {\"feature1\": 0.02, \"feature2\": 0.34, \"predict\": false}, {\"feature1\": 0.02, \"feature2\": 0.36, \"predict\": false}, {\"feature1\": 0.02, \"feature2\": 0.38, \"predict\": false}, {\"feature1\": 0.02, \"feature2\": 0.4, \"predict\": false}, {\"feature1\": 0.02, \"feature2\": 0.42, \"predict\": false}, {\"feature1\": 0.02, \"feature2\": 0.44, \"predict\": false}, {\"feature1\": 0.02, \"feature2\": 0.46, \"predict\": false}, {\"feature1\": 0.02, \"feature2\": 0.48, \"predict\": false}, {\"feature1\": 0.02, \"feature2\": 0.5, \"predict\": false}, {\"feature1\": 0.02, \"feature2\": 0.52, \"predict\": false}, {\"feature1\": 0.02, \"feature2\": 0.54, \"predict\": false}, {\"feature1\": 0.02, \"feature2\": 0.56, \"predict\": false}, {\"feature1\": 0.02, \"feature2\": 0.58, \"predict\": false}, {\"feature1\": 0.02, \"feature2\": 0.6, \"predict\": false}, {\"feature1\": 0.02, \"feature2\": 0.62, \"predict\": false}, {\"feature1\": 0.02, \"feature2\": 0.64, \"predict\": false}, {\"feature1\": 0.02, \"feature2\": 0.66, \"predict\": false}, {\"feature1\": 0.02, \"feature2\": 0.68, \"predict\": false}, {\"feature1\": 0.02, \"feature2\": 0.7, \"predict\": false}, {\"feature1\": 0.02, \"feature2\": 0.72, \"predict\": true}, {\"feature1\": 0.02, \"feature2\": 0.74, \"predict\": true}, {\"feature1\": 0.02, \"feature2\": 0.76, \"predict\": true}, {\"feature1\": 0.02, \"feature2\": 0.78, \"predict\": true}, {\"feature1\": 0.02, \"feature2\": 0.8, \"predict\": true}, {\"feature1\": 0.02, \"feature2\": 0.82, \"predict\": true}, {\"feature1\": 0.02, \"feature2\": 0.84, \"predict\": true}, {\"feature1\": 0.02, \"feature2\": 0.86, \"predict\": true}, {\"feature1\": 0.02, \"feature2\": 0.88, \"predict\": true}, {\"feature1\": 0.02, \"feature2\": 0.9, \"predict\": true}, {\"feature1\": 0.02, \"feature2\": 0.92, \"predict\": true}, {\"feature1\": 0.02, \"feature2\": 0.94, \"predict\": true}, {\"feature1\": 0.02, \"feature2\": 0.96, \"predict\": true}, {\"feature1\": 0.02, \"feature2\": 0.98, \"predict\": true}, {\"feature1\": 0.04, \"feature2\": 0.0, \"predict\": false}, {\"feature1\": 0.04, \"feature2\": 0.02, \"predict\": false}, {\"feature1\": 0.04, \"feature2\": 0.04, \"predict\": false}, {\"feature1\": 0.04, \"feature2\": 0.06, \"predict\": false}, {\"feature1\": 0.04, \"feature2\": 0.08, \"predict\": false}, {\"feature1\": 0.04, \"feature2\": 0.1, \"predict\": false}, {\"feature1\": 0.04, \"feature2\": 0.12, \"predict\": false}, {\"feature1\": 0.04, \"feature2\": 0.14, \"predict\": false}, {\"feature1\": 0.04, \"feature2\": 0.16, \"predict\": false}, {\"feature1\": 0.04, \"feature2\": 0.18, \"predict\": false}, {\"feature1\": 0.04, \"feature2\": 0.2, \"predict\": false}, {\"feature1\": 0.04, \"feature2\": 0.22, \"predict\": false}, {\"feature1\": 0.04, \"feature2\": 0.24, \"predict\": false}, {\"feature1\": 0.04, \"feature2\": 0.26, \"predict\": false}, {\"feature1\": 0.04, \"feature2\": 0.28, \"predict\": false}, {\"feature1\": 0.04, \"feature2\": 0.3, \"predict\": false}, {\"feature1\": 0.04, \"feature2\": 0.32, \"predict\": false}, {\"feature1\": 0.04, \"feature2\": 0.34, \"predict\": false}, {\"feature1\": 0.04, \"feature2\": 0.36, \"predict\": false}, {\"feature1\": 0.04, \"feature2\": 0.38, \"predict\": false}, {\"feature1\": 0.04, \"feature2\": 0.4, \"predict\": false}, {\"feature1\": 0.04, \"feature2\": 0.42, \"predict\": false}, {\"feature1\": 0.04, \"feature2\": 0.44, \"predict\": false}, {\"feature1\": 0.04, \"feature2\": 0.46, \"predict\": false}, {\"feature1\": 0.04, \"feature2\": 0.48, \"predict\": false}, {\"feature1\": 0.04, \"feature2\": 0.5, \"predict\": false}, {\"feature1\": 0.04, \"feature2\": 0.52, \"predict\": false}, {\"feature1\": 0.04, \"feature2\": 0.54, \"predict\": false}, {\"feature1\": 0.04, \"feature2\": 0.56, \"predict\": false}, {\"feature1\": 0.04, \"feature2\": 0.58, \"predict\": false}, {\"feature1\": 0.04, \"feature2\": 0.6, \"predict\": false}, {\"feature1\": 0.04, \"feature2\": 0.62, \"predict\": false}, {\"feature1\": 0.04, \"feature2\": 0.64, \"predict\": false}, {\"feature1\": 0.04, \"feature2\": 0.66, \"predict\": false}, {\"feature1\": 0.04, \"feature2\": 0.68, \"predict\": false}, {\"feature1\": 0.04, \"feature2\": 0.7, \"predict\": true}, {\"feature1\": 0.04, \"feature2\": 0.72, \"predict\": true}, {\"feature1\": 0.04, \"feature2\": 0.74, \"predict\": true}, {\"feature1\": 0.04, \"feature2\": 0.76, \"predict\": true}, {\"feature1\": 0.04, \"feature2\": 0.78, \"predict\": true}, {\"feature1\": 0.04, \"feature2\": 0.8, \"predict\": true}, {\"feature1\": 0.04, \"feature2\": 0.82, \"predict\": true}, {\"feature1\": 0.04, \"feature2\": 0.84, \"predict\": true}, {\"feature1\": 0.04, \"feature2\": 0.86, \"predict\": true}, {\"feature1\": 0.04, \"feature2\": 0.88, \"predict\": true}, {\"feature1\": 0.04, \"feature2\": 0.9, \"predict\": true}, {\"feature1\": 0.04, \"feature2\": 0.92, \"predict\": true}, {\"feature1\": 0.04, \"feature2\": 0.94, \"predict\": true}, {\"feature1\": 0.04, \"feature2\": 0.96, \"predict\": true}, {\"feature1\": 0.04, \"feature2\": 0.98, \"predict\": true}, {\"feature1\": 0.06, \"feature2\": 0.0, \"predict\": false}, {\"feature1\": 0.06, \"feature2\": 0.02, \"predict\": false}, {\"feature1\": 0.06, \"feature2\": 0.04, \"predict\": false}, {\"feature1\": 0.06, \"feature2\": 0.06, \"predict\": false}, {\"feature1\": 0.06, \"feature2\": 0.08, \"predict\": false}, {\"feature1\": 0.06, \"feature2\": 0.1, \"predict\": false}, {\"feature1\": 0.06, \"feature2\": 0.12, \"predict\": false}, {\"feature1\": 0.06, \"feature2\": 0.14, \"predict\": false}, {\"feature1\": 0.06, \"feature2\": 0.16, \"predict\": false}, {\"feature1\": 0.06, \"feature2\": 0.18, \"predict\": false}, {\"feature1\": 0.06, \"feature2\": 0.2, \"predict\": false}, {\"feature1\": 0.06, \"feature2\": 0.22, \"predict\": false}, {\"feature1\": 0.06, \"feature2\": 0.24, \"predict\": false}, {\"feature1\": 0.06, \"feature2\": 0.26, \"predict\": false}, {\"feature1\": 0.06, \"feature2\": 0.28, \"predict\": false}, {\"feature1\": 0.06, \"feature2\": 0.3, \"predict\": false}, {\"feature1\": 0.06, \"feature2\": 0.32, \"predict\": false}, {\"feature1\": 0.06, \"feature2\": 0.34, \"predict\": false}, {\"feature1\": 0.06, \"feature2\": 0.36, \"predict\": false}, {\"feature1\": 0.06, \"feature2\": 0.38, \"predict\": false}, {\"feature1\": 0.06, \"feature2\": 0.4, \"predict\": false}, {\"feature1\": 0.06, \"feature2\": 0.42, \"predict\": false}, {\"feature1\": 0.06, \"feature2\": 0.44, \"predict\": false}, {\"feature1\": 0.06, \"feature2\": 0.46, \"predict\": false}, {\"feature1\": 0.06, \"feature2\": 0.48, \"predict\": false}, {\"feature1\": 0.06, \"feature2\": 0.5, \"predict\": false}, {\"feature1\": 0.06, \"feature2\": 0.52, \"predict\": false}, {\"feature1\": 0.06, \"feature2\": 0.54, \"predict\": false}, {\"feature1\": 0.06, \"feature2\": 0.56, \"predict\": false}, {\"feature1\": 0.06, \"feature2\": 0.58, \"predict\": false}, {\"feature1\": 0.06, \"feature2\": 0.6, \"predict\": false}, {\"feature1\": 0.06, \"feature2\": 0.62, \"predict\": false}, {\"feature1\": 0.06, \"feature2\": 0.64, \"predict\": false}, {\"feature1\": 0.06, \"feature2\": 0.66, \"predict\": false}, {\"feature1\": 0.06, \"feature2\": 0.68, \"predict\": true}, {\"feature1\": 0.06, \"feature2\": 0.7, \"predict\": true}, {\"feature1\": 0.06, \"feature2\": 0.72, \"predict\": true}, {\"feature1\": 0.06, \"feature2\": 0.74, \"predict\": true}, {\"feature1\": 0.06, \"feature2\": 0.76, \"predict\": true}, {\"feature1\": 0.06, \"feature2\": 0.78, \"predict\": true}, {\"feature1\": 0.06, \"feature2\": 0.8, \"predict\": true}, {\"feature1\": 0.06, \"feature2\": 0.82, \"predict\": true}, {\"feature1\": 0.06, \"feature2\": 0.84, \"predict\": true}, {\"feature1\": 0.06, \"feature2\": 0.86, \"predict\": true}, {\"feature1\": 0.06, \"feature2\": 0.88, \"predict\": true}, {\"feature1\": 0.06, \"feature2\": 0.9, \"predict\": true}, {\"feature1\": 0.06, \"feature2\": 0.92, \"predict\": true}, {\"feature1\": 0.06, \"feature2\": 0.94, \"predict\": true}, {\"feature1\": 0.06, \"feature2\": 0.96, \"predict\": true}, {\"feature1\": 0.06, \"feature2\": 0.98, \"predict\": true}, {\"feature1\": 0.08, \"feature2\": 0.0, \"predict\": false}, {\"feature1\": 0.08, \"feature2\": 0.02, \"predict\": false}, {\"feature1\": 0.08, \"feature2\": 0.04, \"predict\": false}, {\"feature1\": 0.08, \"feature2\": 0.06, \"predict\": false}, {\"feature1\": 0.08, \"feature2\": 0.08, \"predict\": false}, {\"feature1\": 0.08, \"feature2\": 0.1, \"predict\": false}, {\"feature1\": 0.08, \"feature2\": 0.12, \"predict\": false}, {\"feature1\": 0.08, \"feature2\": 0.14, \"predict\": false}, {\"feature1\": 0.08, \"feature2\": 0.16, \"predict\": false}, {\"feature1\": 0.08, \"feature2\": 0.18, \"predict\": false}, {\"feature1\": 0.08, \"feature2\": 0.2, \"predict\": false}, {\"feature1\": 0.08, \"feature2\": 0.22, \"predict\": false}, {\"feature1\": 0.08, \"feature2\": 0.24, \"predict\": false}, {\"feature1\": 0.08, \"feature2\": 0.26, \"predict\": false}, {\"feature1\": 0.08, \"feature2\": 0.28, \"predict\": false}, {\"feature1\": 0.08, \"feature2\": 0.3, \"predict\": false}, {\"feature1\": 0.08, \"feature2\": 0.32, \"predict\": false}, {\"feature1\": 0.08, \"feature2\": 0.34, \"predict\": false}, {\"feature1\": 0.08, \"feature2\": 0.36, \"predict\": false}, {\"feature1\": 0.08, \"feature2\": 0.38, \"predict\": false}, {\"feature1\": 0.08, \"feature2\": 0.4, \"predict\": false}, {\"feature1\": 0.08, \"feature2\": 0.42, \"predict\": false}, {\"feature1\": 0.08, \"feature2\": 0.44, \"predict\": false}, {\"feature1\": 0.08, \"feature2\": 0.46, \"predict\": false}, {\"feature1\": 0.08, \"feature2\": 0.48, \"predict\": false}, {\"feature1\": 0.08, \"feature2\": 0.5, \"predict\": false}, {\"feature1\": 0.08, \"feature2\": 0.52, \"predict\": false}, {\"feature1\": 0.08, \"feature2\": 0.54, \"predict\": false}, {\"feature1\": 0.08, \"feature2\": 0.56, \"predict\": false}, {\"feature1\": 0.08, \"feature2\": 0.58, \"predict\": false}, {\"feature1\": 0.08, \"feature2\": 0.6, \"predict\": false}, {\"feature1\": 0.08, \"feature2\": 0.62, \"predict\": false}, {\"feature1\": 0.08, \"feature2\": 0.64, \"predict\": false}, {\"feature1\": 0.08, \"feature2\": 0.66, \"predict\": true}, {\"feature1\": 0.08, \"feature2\": 0.68, \"predict\": true}, {\"feature1\": 0.08, \"feature2\": 0.7, \"predict\": true}, {\"feature1\": 0.08, \"feature2\": 0.72, \"predict\": true}, {\"feature1\": 0.08, \"feature2\": 0.74, \"predict\": true}, {\"feature1\": 0.08, \"feature2\": 0.76, \"predict\": true}, {\"feature1\": 0.08, \"feature2\": 0.78, \"predict\": true}, {\"feature1\": 0.08, \"feature2\": 0.8, \"predict\": true}, {\"feature1\": 0.08, \"feature2\": 0.82, \"predict\": true}, {\"feature1\": 0.08, \"feature2\": 0.84, \"predict\": true}, {\"feature1\": 0.08, \"feature2\": 0.86, \"predict\": true}, {\"feature1\": 0.08, \"feature2\": 0.88, \"predict\": true}, {\"feature1\": 0.08, \"feature2\": 0.9, \"predict\": true}, {\"feature1\": 0.08, \"feature2\": 0.92, \"predict\": true}, {\"feature1\": 0.08, \"feature2\": 0.94, \"predict\": true}, {\"feature1\": 0.08, \"feature2\": 0.96, \"predict\": true}, {\"feature1\": 0.08, \"feature2\": 0.98, \"predict\": true}, {\"feature1\": 0.1, \"feature2\": 0.0, \"predict\": false}, {\"feature1\": 0.1, \"feature2\": 0.02, \"predict\": false}, {\"feature1\": 0.1, \"feature2\": 0.04, \"predict\": false}, {\"feature1\": 0.1, \"feature2\": 0.06, \"predict\": false}, {\"feature1\": 0.1, \"feature2\": 0.08, \"predict\": false}, {\"feature1\": 0.1, \"feature2\": 0.1, \"predict\": false}, {\"feature1\": 0.1, \"feature2\": 0.12, \"predict\": false}, {\"feature1\": 0.1, \"feature2\": 0.14, \"predict\": false}, {\"feature1\": 0.1, \"feature2\": 0.16, \"predict\": false}, {\"feature1\": 0.1, \"feature2\": 0.18, \"predict\": false}, {\"feature1\": 0.1, \"feature2\": 0.2, \"predict\": false}, {\"feature1\": 0.1, \"feature2\": 0.22, \"predict\": false}, {\"feature1\": 0.1, \"feature2\": 0.24, \"predict\": false}, {\"feature1\": 0.1, \"feature2\": 0.26, \"predict\": false}, {\"feature1\": 0.1, \"feature2\": 0.28, \"predict\": false}, {\"feature1\": 0.1, \"feature2\": 0.3, \"predict\": false}, {\"feature1\": 0.1, \"feature2\": 0.32, \"predict\": false}, {\"feature1\": 0.1, \"feature2\": 0.34, \"predict\": false}, {\"feature1\": 0.1, \"feature2\": 0.36, \"predict\": false}, {\"feature1\": 0.1, \"feature2\": 0.38, \"predict\": false}, {\"feature1\": 0.1, \"feature2\": 0.4, \"predict\": false}, {\"feature1\": 0.1, \"feature2\": 0.42, \"predict\": false}, {\"feature1\": 0.1, \"feature2\": 0.44, \"predict\": false}, {\"feature1\": 0.1, \"feature2\": 0.46, \"predict\": false}, {\"feature1\": 0.1, \"feature2\": 0.48, \"predict\": false}, {\"feature1\": 0.1, \"feature2\": 0.5, \"predict\": false}, {\"feature1\": 0.1, \"feature2\": 0.52, \"predict\": false}, {\"feature1\": 0.1, \"feature2\": 0.54, \"predict\": false}, {\"feature1\": 0.1, \"feature2\": 0.56, \"predict\": false}, {\"feature1\": 0.1, \"feature2\": 0.58, \"predict\": false}, {\"feature1\": 0.1, \"feature2\": 0.6, \"predict\": false}, {\"feature1\": 0.1, \"feature2\": 0.62, \"predict\": false}, {\"feature1\": 0.1, \"feature2\": 0.64, \"predict\": true}, {\"feature1\": 0.1, \"feature2\": 0.66, \"predict\": true}, {\"feature1\": 0.1, \"feature2\": 0.68, \"predict\": true}, {\"feature1\": 0.1, \"feature2\": 0.7, \"predict\": true}, {\"feature1\": 0.1, \"feature2\": 0.72, \"predict\": true}, {\"feature1\": 0.1, \"feature2\": 0.74, \"predict\": true}, {\"feature1\": 0.1, \"feature2\": 0.76, \"predict\": true}, {\"feature1\": 0.1, \"feature2\": 0.78, \"predict\": true}, {\"feature1\": 0.1, \"feature2\": 0.8, \"predict\": true}, {\"feature1\": 0.1, \"feature2\": 0.82, \"predict\": true}, {\"feature1\": 0.1, \"feature2\": 0.84, \"predict\": true}, {\"feature1\": 0.1, \"feature2\": 0.86, \"predict\": true}, {\"feature1\": 0.1, \"feature2\": 0.88, \"predict\": true}, {\"feature1\": 0.1, \"feature2\": 0.9, \"predict\": true}, {\"feature1\": 0.1, \"feature2\": 0.92, \"predict\": true}, {\"feature1\": 0.1, \"feature2\": 0.94, \"predict\": true}, {\"feature1\": 0.1, \"feature2\": 0.96, \"predict\": true}, {\"feature1\": 0.1, \"feature2\": 0.98, \"predict\": true}, {\"feature1\": 0.12, \"feature2\": 0.0, \"predict\": false}, {\"feature1\": 0.12, \"feature2\": 0.02, \"predict\": false}, {\"feature1\": 0.12, \"feature2\": 0.04, \"predict\": false}, {\"feature1\": 0.12, \"feature2\": 0.06, \"predict\": false}, {\"feature1\": 0.12, \"feature2\": 0.08, \"predict\": false}, {\"feature1\": 0.12, \"feature2\": 0.1, \"predict\": false}, {\"feature1\": 0.12, \"feature2\": 0.12, \"predict\": false}, {\"feature1\": 0.12, \"feature2\": 0.14, \"predict\": false}, {\"feature1\": 0.12, \"feature2\": 0.16, \"predict\": false}, {\"feature1\": 0.12, \"feature2\": 0.18, \"predict\": false}, {\"feature1\": 0.12, \"feature2\": 0.2, \"predict\": false}, {\"feature1\": 0.12, \"feature2\": 0.22, \"predict\": false}, {\"feature1\": 0.12, \"feature2\": 0.24, \"predict\": false}, {\"feature1\": 0.12, \"feature2\": 0.26, \"predict\": false}, {\"feature1\": 0.12, \"feature2\": 0.28, \"predict\": false}, {\"feature1\": 0.12, \"feature2\": 0.3, \"predict\": false}, {\"feature1\": 0.12, \"feature2\": 0.32, \"predict\": false}, {\"feature1\": 0.12, \"feature2\": 0.34, \"predict\": false}, {\"feature1\": 0.12, \"feature2\": 0.36, \"predict\": false}, {\"feature1\": 0.12, \"feature2\": 0.38, \"predict\": false}, {\"feature1\": 0.12, \"feature2\": 0.4, \"predict\": false}, {\"feature1\": 0.12, \"feature2\": 0.42, \"predict\": false}, {\"feature1\": 0.12, \"feature2\": 0.44, \"predict\": false}, {\"feature1\": 0.12, \"feature2\": 0.46, \"predict\": false}, {\"feature1\": 0.12, \"feature2\": 0.48, \"predict\": false}, {\"feature1\": 0.12, \"feature2\": 0.5, \"predict\": false}, {\"feature1\": 0.12, \"feature2\": 0.52, \"predict\": false}, {\"feature1\": 0.12, \"feature2\": 0.54, \"predict\": false}, {\"feature1\": 0.12, \"feature2\": 0.56, \"predict\": false}, {\"feature1\": 0.12, \"feature2\": 0.58, \"predict\": false}, {\"feature1\": 0.12, \"feature2\": 0.6, \"predict\": false}, {\"feature1\": 0.12, \"feature2\": 0.62, \"predict\": true}, {\"feature1\": 0.12, \"feature2\": 0.64, \"predict\": true}, {\"feature1\": 0.12, \"feature2\": 0.66, \"predict\": true}, {\"feature1\": 0.12, \"feature2\": 0.68, \"predict\": true}, {\"feature1\": 0.12, \"feature2\": 0.7, \"predict\": true}, {\"feature1\": 0.12, \"feature2\": 0.72, \"predict\": true}, {\"feature1\": 0.12, \"feature2\": 0.74, \"predict\": true}, {\"feature1\": 0.12, \"feature2\": 0.76, \"predict\": true}, {\"feature1\": 0.12, \"feature2\": 0.78, \"predict\": true}, {\"feature1\": 0.12, \"feature2\": 0.8, \"predict\": true}, {\"feature1\": 0.12, \"feature2\": 0.82, \"predict\": true}, {\"feature1\": 0.12, \"feature2\": 0.84, \"predict\": true}, {\"feature1\": 0.12, \"feature2\": 0.86, \"predict\": true}, {\"feature1\": 0.12, \"feature2\": 0.88, \"predict\": true}, {\"feature1\": 0.12, \"feature2\": 0.9, \"predict\": true}, {\"feature1\": 0.12, \"feature2\": 0.92, \"predict\": true}, {\"feature1\": 0.12, \"feature2\": 0.94, \"predict\": true}, {\"feature1\": 0.12, \"feature2\": 0.96, \"predict\": true}, {\"feature1\": 0.12, \"feature2\": 0.98, \"predict\": true}, {\"feature1\": 0.14, \"feature2\": 0.0, \"predict\": false}, {\"feature1\": 0.14, \"feature2\": 0.02, \"predict\": false}, {\"feature1\": 0.14, \"feature2\": 0.04, \"predict\": false}, {\"feature1\": 0.14, \"feature2\": 0.06, \"predict\": false}, {\"feature1\": 0.14, \"feature2\": 0.08, \"predict\": false}, {\"feature1\": 0.14, \"feature2\": 0.1, \"predict\": false}, {\"feature1\": 0.14, \"feature2\": 0.12, \"predict\": false}, {\"feature1\": 0.14, \"feature2\": 0.14, \"predict\": false}, {\"feature1\": 0.14, \"feature2\": 0.16, \"predict\": false}, {\"feature1\": 0.14, \"feature2\": 0.18, \"predict\": false}, {\"feature1\": 0.14, \"feature2\": 0.2, \"predict\": false}, {\"feature1\": 0.14, \"feature2\": 0.22, \"predict\": false}, {\"feature1\": 0.14, \"feature2\": 0.24, \"predict\": false}, {\"feature1\": 0.14, \"feature2\": 0.26, \"predict\": false}, {\"feature1\": 0.14, \"feature2\": 0.28, \"predict\": false}, {\"feature1\": 0.14, \"feature2\": 0.3, \"predict\": false}, {\"feature1\": 0.14, \"feature2\": 0.32, \"predict\": false}, {\"feature1\": 0.14, \"feature2\": 0.34, \"predict\": false}, {\"feature1\": 0.14, \"feature2\": 0.36, \"predict\": false}, {\"feature1\": 0.14, \"feature2\": 0.38, \"predict\": false}, {\"feature1\": 0.14, \"feature2\": 0.4, \"predict\": false}, {\"feature1\": 0.14, \"feature2\": 0.42, \"predict\": false}, {\"feature1\": 0.14, \"feature2\": 0.44, \"predict\": false}, {\"feature1\": 0.14, \"feature2\": 0.46, \"predict\": false}, {\"feature1\": 0.14, \"feature2\": 0.48, \"predict\": false}, {\"feature1\": 0.14, \"feature2\": 0.5, \"predict\": false}, {\"feature1\": 0.14, \"feature2\": 0.52, \"predict\": false}, {\"feature1\": 0.14, \"feature2\": 0.54, \"predict\": false}, {\"feature1\": 0.14, \"feature2\": 0.56, \"predict\": false}, {\"feature1\": 0.14, \"feature2\": 0.58, \"predict\": true}, {\"feature1\": 0.14, \"feature2\": 0.6, \"predict\": true}, {\"feature1\": 0.14, \"feature2\": 0.62, \"predict\": true}, {\"feature1\": 0.14, \"feature2\": 0.64, \"predict\": true}, {\"feature1\": 0.14, \"feature2\": 0.66, \"predict\": true}, {\"feature1\": 0.14, \"feature2\": 0.68, \"predict\": true}, {\"feature1\": 0.14, \"feature2\": 0.7, \"predict\": true}, {\"feature1\": 0.14, \"feature2\": 0.72, \"predict\": true}, {\"feature1\": 0.14, \"feature2\": 0.74, \"predict\": true}, {\"feature1\": 0.14, \"feature2\": 0.76, \"predict\": true}, {\"feature1\": 0.14, \"feature2\": 0.78, \"predict\": true}, {\"feature1\": 0.14, \"feature2\": 0.8, \"predict\": true}, {\"feature1\": 0.14, \"feature2\": 0.82, \"predict\": true}, {\"feature1\": 0.14, \"feature2\": 0.84, \"predict\": true}, {\"feature1\": 0.14, \"feature2\": 0.86, \"predict\": true}, {\"feature1\": 0.14, \"feature2\": 0.88, \"predict\": true}, {\"feature1\": 0.14, \"feature2\": 0.9, \"predict\": true}, {\"feature1\": 0.14, \"feature2\": 0.92, \"predict\": true}, {\"feature1\": 0.14, \"feature2\": 0.94, \"predict\": true}, {\"feature1\": 0.14, \"feature2\": 0.96, \"predict\": true}, {\"feature1\": 0.14, \"feature2\": 0.98, \"predict\": true}, {\"feature1\": 0.16, \"feature2\": 0.0, \"predict\": false}, {\"feature1\": 0.16, \"feature2\": 0.02, \"predict\": false}, {\"feature1\": 0.16, \"feature2\": 0.04, \"predict\": false}, {\"feature1\": 0.16, \"feature2\": 0.06, \"predict\": false}, {\"feature1\": 0.16, \"feature2\": 0.08, \"predict\": false}, {\"feature1\": 0.16, \"feature2\": 0.1, \"predict\": false}, {\"feature1\": 0.16, \"feature2\": 0.12, \"predict\": false}, {\"feature1\": 0.16, \"feature2\": 0.14, \"predict\": false}, {\"feature1\": 0.16, \"feature2\": 0.16, \"predict\": false}, {\"feature1\": 0.16, \"feature2\": 0.18, \"predict\": false}, {\"feature1\": 0.16, \"feature2\": 0.2, \"predict\": false}, {\"feature1\": 0.16, \"feature2\": 0.22, \"predict\": false}, {\"feature1\": 0.16, \"feature2\": 0.24, \"predict\": false}, {\"feature1\": 0.16, \"feature2\": 0.26, \"predict\": false}, {\"feature1\": 0.16, \"feature2\": 0.28, \"predict\": false}, {\"feature1\": 0.16, \"feature2\": 0.3, \"predict\": false}, {\"feature1\": 0.16, \"feature2\": 0.32, \"predict\": false}, {\"feature1\": 0.16, \"feature2\": 0.34, \"predict\": false}, {\"feature1\": 0.16, \"feature2\": 0.36, \"predict\": false}, {\"feature1\": 0.16, \"feature2\": 0.38, \"predict\": false}, {\"feature1\": 0.16, \"feature2\": 0.4, \"predict\": false}, {\"feature1\": 0.16, \"feature2\": 0.42, \"predict\": false}, {\"feature1\": 0.16, \"feature2\": 0.44, \"predict\": false}, {\"feature1\": 0.16, \"feature2\": 0.46, \"predict\": false}, {\"feature1\": 0.16, \"feature2\": 0.48, \"predict\": false}, {\"feature1\": 0.16, \"feature2\": 0.5, \"predict\": false}, {\"feature1\": 0.16, \"feature2\": 0.52, \"predict\": false}, {\"feature1\": 0.16, \"feature2\": 0.54, \"predict\": false}, {\"feature1\": 0.16, \"feature2\": 0.56, \"predict\": true}, {\"feature1\": 0.16, \"feature2\": 0.58, \"predict\": true}, {\"feature1\": 0.16, \"feature2\": 0.6, \"predict\": true}, {\"feature1\": 0.16, \"feature2\": 0.62, \"predict\": true}, {\"feature1\": 0.16, \"feature2\": 0.64, \"predict\": true}, {\"feature1\": 0.16, \"feature2\": 0.66, \"predict\": true}, {\"feature1\": 0.16, \"feature2\": 0.68, \"predict\": true}, {\"feature1\": 0.16, \"feature2\": 0.7, \"predict\": true}, {\"feature1\": 0.16, \"feature2\": 0.72, \"predict\": true}, {\"feature1\": 0.16, \"feature2\": 0.74, \"predict\": true}, {\"feature1\": 0.16, \"feature2\": 0.76, \"predict\": true}, {\"feature1\": 0.16, \"feature2\": 0.78, \"predict\": true}, {\"feature1\": 0.16, \"feature2\": 0.8, \"predict\": true}, {\"feature1\": 0.16, \"feature2\": 0.82, \"predict\": true}, {\"feature1\": 0.16, \"feature2\": 0.84, \"predict\": true}, {\"feature1\": 0.16, \"feature2\": 0.86, \"predict\": true}, {\"feature1\": 0.16, \"feature2\": 0.88, \"predict\": true}, {\"feature1\": 0.16, \"feature2\": 0.9, \"predict\": true}, {\"feature1\": 0.16, \"feature2\": 0.92, \"predict\": true}, {\"feature1\": 0.16, \"feature2\": 0.94, \"predict\": true}, {\"feature1\": 0.16, \"feature2\": 0.96, \"predict\": true}, {\"feature1\": 0.16, \"feature2\": 0.98, \"predict\": true}, {\"feature1\": 0.18, \"feature2\": 0.0, \"predict\": false}, {\"feature1\": 0.18, \"feature2\": 0.02, \"predict\": false}, {\"feature1\": 0.18, \"feature2\": 0.04, \"predict\": false}, {\"feature1\": 0.18, \"feature2\": 0.06, \"predict\": false}, {\"feature1\": 0.18, \"feature2\": 0.08, \"predict\": false}, {\"feature1\": 0.18, \"feature2\": 0.1, \"predict\": false}, {\"feature1\": 0.18, \"feature2\": 0.12, \"predict\": false}, {\"feature1\": 0.18, \"feature2\": 0.14, \"predict\": false}, {\"feature1\": 0.18, \"feature2\": 0.16, \"predict\": false}, {\"feature1\": 0.18, \"feature2\": 0.18, \"predict\": false}, {\"feature1\": 0.18, \"feature2\": 0.2, \"predict\": false}, {\"feature1\": 0.18, \"feature2\": 0.22, \"predict\": false}, {\"feature1\": 0.18, \"feature2\": 0.24, \"predict\": false}, {\"feature1\": 0.18, \"feature2\": 0.26, \"predict\": false}, {\"feature1\": 0.18, \"feature2\": 0.28, \"predict\": false}, {\"feature1\": 0.18, \"feature2\": 0.3, \"predict\": false}, {\"feature1\": 0.18, \"feature2\": 0.32, \"predict\": false}, {\"feature1\": 0.18, \"feature2\": 0.34, \"predict\": false}, {\"feature1\": 0.18, \"feature2\": 0.36, \"predict\": false}, {\"feature1\": 0.18, \"feature2\": 0.38, \"predict\": false}, {\"feature1\": 0.18, \"feature2\": 0.4, \"predict\": false}, {\"feature1\": 0.18, \"feature2\": 0.42, \"predict\": false}, {\"feature1\": 0.18, \"feature2\": 0.44, \"predict\": false}, {\"feature1\": 0.18, \"feature2\": 0.46, \"predict\": false}, {\"feature1\": 0.18, \"feature2\": 0.48, \"predict\": false}, {\"feature1\": 0.18, \"feature2\": 0.5, \"predict\": false}, {\"feature1\": 0.18, \"feature2\": 0.52, \"predict\": false}, {\"feature1\": 0.18, \"feature2\": 0.54, \"predict\": true}, {\"feature1\": 0.18, \"feature2\": 0.56, \"predict\": true}, {\"feature1\": 0.18, \"feature2\": 0.58, \"predict\": true}, {\"feature1\": 0.18, \"feature2\": 0.6, \"predict\": true}, {\"feature1\": 0.18, \"feature2\": 0.62, \"predict\": true}, {\"feature1\": 0.18, \"feature2\": 0.64, \"predict\": true}, {\"feature1\": 0.18, \"feature2\": 0.66, \"predict\": true}, {\"feature1\": 0.18, \"feature2\": 0.68, \"predict\": true}, {\"feature1\": 0.18, \"feature2\": 0.7, \"predict\": true}, {\"feature1\": 0.18, \"feature2\": 0.72, \"predict\": true}, {\"feature1\": 0.18, \"feature2\": 0.74, \"predict\": true}, {\"feature1\": 0.18, \"feature2\": 0.76, \"predict\": true}, {\"feature1\": 0.18, \"feature2\": 0.78, \"predict\": true}, {\"feature1\": 0.18, \"feature2\": 0.8, \"predict\": true}, {\"feature1\": 0.18, \"feature2\": 0.82, \"predict\": true}, {\"feature1\": 0.18, \"feature2\": 0.84, \"predict\": true}, {\"feature1\": 0.18, \"feature2\": 0.86, \"predict\": true}, {\"feature1\": 0.18, \"feature2\": 0.88, \"predict\": true}, {\"feature1\": 0.18, \"feature2\": 0.9, \"predict\": true}, {\"feature1\": 0.18, \"feature2\": 0.92, \"predict\": true}, {\"feature1\": 0.18, \"feature2\": 0.94, \"predict\": true}, {\"feature1\": 0.18, \"feature2\": 0.96, \"predict\": true}, {\"feature1\": 0.18, \"feature2\": 0.98, \"predict\": true}, {\"feature1\": 0.2, \"feature2\": 0.0, \"predict\": false}, {\"feature1\": 0.2, \"feature2\": 0.02, \"predict\": false}, {\"feature1\": 0.2, \"feature2\": 0.04, \"predict\": false}, {\"feature1\": 0.2, \"feature2\": 0.06, \"predict\": false}, {\"feature1\": 0.2, \"feature2\": 0.08, \"predict\": false}, {\"feature1\": 0.2, \"feature2\": 0.1, \"predict\": false}, {\"feature1\": 0.2, \"feature2\": 0.12, \"predict\": false}, {\"feature1\": 0.2, \"feature2\": 0.14, \"predict\": false}, {\"feature1\": 0.2, \"feature2\": 0.16, \"predict\": false}, {\"feature1\": 0.2, \"feature2\": 0.18, \"predict\": false}, {\"feature1\": 0.2, \"feature2\": 0.2, \"predict\": false}, {\"feature1\": 0.2, \"feature2\": 0.22, \"predict\": false}, {\"feature1\": 0.2, \"feature2\": 0.24, \"predict\": false}, {\"feature1\": 0.2, \"feature2\": 0.26, \"predict\": false}, {\"feature1\": 0.2, \"feature2\": 0.28, \"predict\": false}, {\"feature1\": 0.2, \"feature2\": 0.3, \"predict\": false}, {\"feature1\": 0.2, \"feature2\": 0.32, \"predict\": false}, {\"feature1\": 0.2, \"feature2\": 0.34, \"predict\": false}, {\"feature1\": 0.2, \"feature2\": 0.36, \"predict\": false}, {\"feature1\": 0.2, \"feature2\": 0.38, \"predict\": false}, {\"feature1\": 0.2, \"feature2\": 0.4, \"predict\": false}, {\"feature1\": 0.2, \"feature2\": 0.42, \"predict\": false}, {\"feature1\": 0.2, \"feature2\": 0.44, \"predict\": false}, {\"feature1\": 0.2, \"feature2\": 0.46, \"predict\": false}, {\"feature1\": 0.2, \"feature2\": 0.48, \"predict\": false}, {\"feature1\": 0.2, \"feature2\": 0.5, \"predict\": false}, {\"feature1\": 0.2, \"feature2\": 0.52, \"predict\": true}, {\"feature1\": 0.2, \"feature2\": 0.54, \"predict\": true}, {\"feature1\": 0.2, \"feature2\": 0.56, \"predict\": true}, {\"feature1\": 0.2, \"feature2\": 0.58, \"predict\": true}, {\"feature1\": 0.2, \"feature2\": 0.6, \"predict\": true}, {\"feature1\": 0.2, \"feature2\": 0.62, \"predict\": true}, {\"feature1\": 0.2, \"feature2\": 0.64, \"predict\": true}, {\"feature1\": 0.2, \"feature2\": 0.66, \"predict\": true}, {\"feature1\": 0.2, \"feature2\": 0.68, \"predict\": true}, {\"feature1\": 0.2, \"feature2\": 0.7, \"predict\": true}, {\"feature1\": 0.2, \"feature2\": 0.72, \"predict\": true}, {\"feature1\": 0.2, \"feature2\": 0.74, \"predict\": true}, {\"feature1\": 0.2, \"feature2\": 0.76, \"predict\": true}, {\"feature1\": 0.2, \"feature2\": 0.78, \"predict\": true}, {\"feature1\": 0.2, \"feature2\": 0.8, \"predict\": true}, {\"feature1\": 0.2, \"feature2\": 0.82, \"predict\": true}, {\"feature1\": 0.2, \"feature2\": 0.84, \"predict\": true}, {\"feature1\": 0.2, \"feature2\": 0.86, \"predict\": true}, {\"feature1\": 0.2, \"feature2\": 0.88, \"predict\": true}, {\"feature1\": 0.2, \"feature2\": 0.9, \"predict\": true}, {\"feature1\": 0.2, \"feature2\": 0.92, \"predict\": true}, {\"feature1\": 0.2, \"feature2\": 0.94, \"predict\": true}, {\"feature1\": 0.2, \"feature2\": 0.96, \"predict\": true}, {\"feature1\": 0.2, \"feature2\": 0.98, \"predict\": true}, {\"feature1\": 0.22, \"feature2\": 0.0, \"predict\": false}, {\"feature1\": 0.22, \"feature2\": 0.02, \"predict\": false}, {\"feature1\": 0.22, \"feature2\": 0.04, \"predict\": false}, {\"feature1\": 0.22, \"feature2\": 0.06, \"predict\": false}, {\"feature1\": 0.22, \"feature2\": 0.08, \"predict\": false}, {\"feature1\": 0.22, \"feature2\": 0.1, \"predict\": false}, {\"feature1\": 0.22, \"feature2\": 0.12, \"predict\": false}, {\"feature1\": 0.22, \"feature2\": 0.14, \"predict\": false}, {\"feature1\": 0.22, \"feature2\": 0.16, \"predict\": false}, {\"feature1\": 0.22, \"feature2\": 0.18, \"predict\": false}, {\"feature1\": 0.22, \"feature2\": 0.2, \"predict\": false}, {\"feature1\": 0.22, \"feature2\": 0.22, \"predict\": false}, {\"feature1\": 0.22, \"feature2\": 0.24, \"predict\": false}, {\"feature1\": 0.22, \"feature2\": 0.26, \"predict\": false}, {\"feature1\": 0.22, \"feature2\": 0.28, \"predict\": false}, {\"feature1\": 0.22, \"feature2\": 0.3, \"predict\": false}, {\"feature1\": 0.22, \"feature2\": 0.32, \"predict\": false}, {\"feature1\": 0.22, \"feature2\": 0.34, \"predict\": false}, {\"feature1\": 0.22, \"feature2\": 0.36, \"predict\": false}, {\"feature1\": 0.22, \"feature2\": 0.38, \"predict\": false}, {\"feature1\": 0.22, \"feature2\": 0.4, \"predict\": false}, {\"feature1\": 0.22, \"feature2\": 0.42, \"predict\": false}, {\"feature1\": 0.22, \"feature2\": 0.44, \"predict\": false}, {\"feature1\": 0.22, \"feature2\": 0.46, \"predict\": false}, {\"feature1\": 0.22, \"feature2\": 0.48, \"predict\": false}, {\"feature1\": 0.22, \"feature2\": 0.5, \"predict\": true}, {\"feature1\": 0.22, \"feature2\": 0.52, \"predict\": true}, {\"feature1\": 0.22, \"feature2\": 0.54, \"predict\": true}, {\"feature1\": 0.22, \"feature2\": 0.56, \"predict\": true}, {\"feature1\": 0.22, \"feature2\": 0.58, \"predict\": true}, {\"feature1\": 0.22, \"feature2\": 0.6, \"predict\": true}, {\"feature1\": 0.22, \"feature2\": 0.62, \"predict\": true}, {\"feature1\": 0.22, \"feature2\": 0.64, \"predict\": true}, {\"feature1\": 0.22, \"feature2\": 0.66, \"predict\": true}, {\"feature1\": 0.22, \"feature2\": 0.68, \"predict\": true}, {\"feature1\": 0.22, \"feature2\": 0.7, \"predict\": true}, {\"feature1\": 0.22, \"feature2\": 0.72, \"predict\": true}, {\"feature1\": 0.22, \"feature2\": 0.74, \"predict\": true}, {\"feature1\": 0.22, \"feature2\": 0.76, \"predict\": true}, {\"feature1\": 0.22, \"feature2\": 0.78, \"predict\": true}, {\"feature1\": 0.22, \"feature2\": 0.8, \"predict\": true}, {\"feature1\": 0.22, \"feature2\": 0.82, \"predict\": true}, {\"feature1\": 0.22, \"feature2\": 0.84, \"predict\": true}, {\"feature1\": 0.22, \"feature2\": 0.86, \"predict\": true}, {\"feature1\": 0.22, \"feature2\": 0.88, \"predict\": true}, {\"feature1\": 0.22, \"feature2\": 0.9, \"predict\": true}, {\"feature1\": 0.22, \"feature2\": 0.92, \"predict\": true}, {\"feature1\": 0.22, \"feature2\": 0.94, \"predict\": true}, {\"feature1\": 0.22, \"feature2\": 0.96, \"predict\": true}, {\"feature1\": 0.22, \"feature2\": 0.98, \"predict\": true}, {\"feature1\": 0.24, \"feature2\": 0.0, \"predict\": false}, {\"feature1\": 0.24, \"feature2\": 0.02, \"predict\": false}, {\"feature1\": 0.24, \"feature2\": 0.04, \"predict\": false}, {\"feature1\": 0.24, \"feature2\": 0.06, \"predict\": false}, {\"feature1\": 0.24, \"feature2\": 0.08, \"predict\": false}, {\"feature1\": 0.24, \"feature2\": 0.1, \"predict\": false}, {\"feature1\": 0.24, \"feature2\": 0.12, \"predict\": false}, {\"feature1\": 0.24, \"feature2\": 0.14, \"predict\": false}, {\"feature1\": 0.24, \"feature2\": 0.16, \"predict\": false}, {\"feature1\": 0.24, \"feature2\": 0.18, \"predict\": false}, {\"feature1\": 0.24, \"feature2\": 0.2, \"predict\": false}, {\"feature1\": 0.24, \"feature2\": 0.22, \"predict\": false}, {\"feature1\": 0.24, \"feature2\": 0.24, \"predict\": false}, {\"feature1\": 0.24, \"feature2\": 0.26, \"predict\": false}, {\"feature1\": 0.24, \"feature2\": 0.28, \"predict\": false}, {\"feature1\": 0.24, \"feature2\": 0.3, \"predict\": false}, {\"feature1\": 0.24, \"feature2\": 0.32, \"predict\": false}, {\"feature1\": 0.24, \"feature2\": 0.34, \"predict\": false}, {\"feature1\": 0.24, \"feature2\": 0.36, \"predict\": false}, {\"feature1\": 0.24, \"feature2\": 0.38, \"predict\": false}, {\"feature1\": 0.24, \"feature2\": 0.4, \"predict\": false}, {\"feature1\": 0.24, \"feature2\": 0.42, \"predict\": false}, {\"feature1\": 0.24, \"feature2\": 0.44, \"predict\": false}, {\"feature1\": 0.24, \"feature2\": 0.46, \"predict\": false}, {\"feature1\": 0.24, \"feature2\": 0.48, \"predict\": true}, {\"feature1\": 0.24, \"feature2\": 0.5, \"predict\": true}, {\"feature1\": 0.24, \"feature2\": 0.52, \"predict\": true}, {\"feature1\": 0.24, \"feature2\": 0.54, \"predict\": true}, {\"feature1\": 0.24, \"feature2\": 0.56, \"predict\": true}, {\"feature1\": 0.24, \"feature2\": 0.58, \"predict\": true}, {\"feature1\": 0.24, \"feature2\": 0.6, \"predict\": true}, {\"feature1\": 0.24, \"feature2\": 0.62, \"predict\": true}, {\"feature1\": 0.24, \"feature2\": 0.64, \"predict\": true}, {\"feature1\": 0.24, \"feature2\": 0.66, \"predict\": true}, {\"feature1\": 0.24, \"feature2\": 0.68, \"predict\": true}, {\"feature1\": 0.24, \"feature2\": 0.7, \"predict\": true}, {\"feature1\": 0.24, \"feature2\": 0.72, \"predict\": true}, {\"feature1\": 0.24, \"feature2\": 0.74, \"predict\": true}, {\"feature1\": 0.24, \"feature2\": 0.76, \"predict\": true}, {\"feature1\": 0.24, \"feature2\": 0.78, \"predict\": true}, {\"feature1\": 0.24, \"feature2\": 0.8, \"predict\": true}, {\"feature1\": 0.24, \"feature2\": 0.82, \"predict\": true}, {\"feature1\": 0.24, \"feature2\": 0.84, \"predict\": true}, {\"feature1\": 0.24, \"feature2\": 0.86, \"predict\": true}, {\"feature1\": 0.24, \"feature2\": 0.88, \"predict\": true}, {\"feature1\": 0.24, \"feature2\": 0.9, \"predict\": true}, {\"feature1\": 0.24, \"feature2\": 0.92, \"predict\": true}, {\"feature1\": 0.24, \"feature2\": 0.94, \"predict\": true}, {\"feature1\": 0.24, \"feature2\": 0.96, \"predict\": true}, {\"feature1\": 0.24, \"feature2\": 0.98, \"predict\": true}, {\"feature1\": 0.26, \"feature2\": 0.0, \"predict\": false}, {\"feature1\": 0.26, \"feature2\": 0.02, \"predict\": false}, {\"feature1\": 0.26, \"feature2\": 0.04, \"predict\": false}, {\"feature1\": 0.26, \"feature2\": 0.06, \"predict\": false}, {\"feature1\": 0.26, \"feature2\": 0.08, \"predict\": false}, {\"feature1\": 0.26, \"feature2\": 0.1, \"predict\": false}, {\"feature1\": 0.26, \"feature2\": 0.12, \"predict\": false}, {\"feature1\": 0.26, \"feature2\": 0.14, \"predict\": false}, {\"feature1\": 0.26, \"feature2\": 0.16, \"predict\": false}, {\"feature1\": 0.26, \"feature2\": 0.18, \"predict\": false}, {\"feature1\": 0.26, \"feature2\": 0.2, \"predict\": false}, {\"feature1\": 0.26, \"feature2\": 0.22, \"predict\": false}, {\"feature1\": 0.26, \"feature2\": 0.24, \"predict\": false}, {\"feature1\": 0.26, \"feature2\": 0.26, \"predict\": false}, {\"feature1\": 0.26, \"feature2\": 0.28, \"predict\": false}, {\"feature1\": 0.26, \"feature2\": 0.3, \"predict\": false}, {\"feature1\": 0.26, \"feature2\": 0.32, \"predict\": false}, {\"feature1\": 0.26, \"feature2\": 0.34, \"predict\": false}, {\"feature1\": 0.26, \"feature2\": 0.36, \"predict\": false}, {\"feature1\": 0.26, \"feature2\": 0.38, \"predict\": false}, {\"feature1\": 0.26, \"feature2\": 0.4, \"predict\": false}, {\"feature1\": 0.26, \"feature2\": 0.42, \"predict\": false}, {\"feature1\": 0.26, \"feature2\": 0.44, \"predict\": false}, {\"feature1\": 0.26, \"feature2\": 0.46, \"predict\": true}, {\"feature1\": 0.26, \"feature2\": 0.48, \"predict\": true}, {\"feature1\": 0.26, \"feature2\": 0.5, \"predict\": true}, {\"feature1\": 0.26, \"feature2\": 0.52, \"predict\": true}, {\"feature1\": 0.26, \"feature2\": 0.54, \"predict\": true}, {\"feature1\": 0.26, \"feature2\": 0.56, \"predict\": true}, {\"feature1\": 0.26, \"feature2\": 0.58, \"predict\": true}, {\"feature1\": 0.26, \"feature2\": 0.6, \"predict\": true}, {\"feature1\": 0.26, \"feature2\": 0.62, \"predict\": true}, {\"feature1\": 0.26, \"feature2\": 0.64, \"predict\": true}, {\"feature1\": 0.26, \"feature2\": 0.66, \"predict\": true}, {\"feature1\": 0.26, \"feature2\": 0.68, \"predict\": true}, {\"feature1\": 0.26, \"feature2\": 0.7, \"predict\": true}, {\"feature1\": 0.26, \"feature2\": 0.72, \"predict\": true}, {\"feature1\": 0.26, \"feature2\": 0.74, \"predict\": true}, {\"feature1\": 0.26, \"feature2\": 0.76, \"predict\": true}, {\"feature1\": 0.26, \"feature2\": 0.78, \"predict\": true}, {\"feature1\": 0.26, \"feature2\": 0.8, \"predict\": true}, {\"feature1\": 0.26, \"feature2\": 0.82, \"predict\": true}, {\"feature1\": 0.26, \"feature2\": 0.84, \"predict\": true}, {\"feature1\": 0.26, \"feature2\": 0.86, \"predict\": true}, {\"feature1\": 0.26, \"feature2\": 0.88, \"predict\": true}, {\"feature1\": 0.26, \"feature2\": 0.9, \"predict\": true}, {\"feature1\": 0.26, \"feature2\": 0.92, \"predict\": true}, {\"feature1\": 0.26, \"feature2\": 0.94, \"predict\": true}, {\"feature1\": 0.26, \"feature2\": 0.96, \"predict\": true}, {\"feature1\": 0.26, \"feature2\": 0.98, \"predict\": true}, {\"feature1\": 0.28, \"feature2\": 0.0, \"predict\": false}, {\"feature1\": 0.28, \"feature2\": 0.02, \"predict\": false}, {\"feature1\": 0.28, \"feature2\": 0.04, \"predict\": false}, {\"feature1\": 0.28, \"feature2\": 0.06, \"predict\": false}, {\"feature1\": 0.28, \"feature2\": 0.08, \"predict\": false}, {\"feature1\": 0.28, \"feature2\": 0.1, \"predict\": false}, {\"feature1\": 0.28, \"feature2\": 0.12, \"predict\": false}, {\"feature1\": 0.28, \"feature2\": 0.14, \"predict\": false}, {\"feature1\": 0.28, \"feature2\": 0.16, \"predict\": false}, {\"feature1\": 0.28, \"feature2\": 0.18, \"predict\": false}, {\"feature1\": 0.28, \"feature2\": 0.2, \"predict\": false}, {\"feature1\": 0.28, \"feature2\": 0.22, \"predict\": false}, {\"feature1\": 0.28, \"feature2\": 0.24, \"predict\": false}, {\"feature1\": 0.28, \"feature2\": 0.26, \"predict\": false}, {\"feature1\": 0.28, \"feature2\": 0.28, \"predict\": false}, {\"feature1\": 0.28, \"feature2\": 0.3, \"predict\": false}, {\"feature1\": 0.28, \"feature2\": 0.32, \"predict\": false}, {\"feature1\": 0.28, \"feature2\": 0.34, \"predict\": false}, {\"feature1\": 0.28, \"feature2\": 0.36, \"predict\": false}, {\"feature1\": 0.28, \"feature2\": 0.38, \"predict\": false}, {\"feature1\": 0.28, \"feature2\": 0.4, \"predict\": false}, {\"feature1\": 0.28, \"feature2\": 0.42, \"predict\": true}, {\"feature1\": 0.28, \"feature2\": 0.44, \"predict\": true}, {\"feature1\": 0.28, \"feature2\": 0.46, \"predict\": true}, {\"feature1\": 0.28, \"feature2\": 0.48, \"predict\": true}, {\"feature1\": 0.28, \"feature2\": 0.5, \"predict\": true}, {\"feature1\": 0.28, \"feature2\": 0.52, \"predict\": true}, {\"feature1\": 0.28, \"feature2\": 0.54, \"predict\": true}, {\"feature1\": 0.28, \"feature2\": 0.56, \"predict\": true}, {\"feature1\": 0.28, \"feature2\": 0.58, \"predict\": true}, {\"feature1\": 0.28, \"feature2\": 0.6, \"predict\": true}, {\"feature1\": 0.28, \"feature2\": 0.62, \"predict\": true}, {\"feature1\": 0.28, \"feature2\": 0.64, \"predict\": true}, {\"feature1\": 0.28, \"feature2\": 0.66, \"predict\": true}, {\"feature1\": 0.28, \"feature2\": 0.68, \"predict\": true}, {\"feature1\": 0.28, \"feature2\": 0.7, \"predict\": true}, {\"feature1\": 0.28, \"feature2\": 0.72, \"predict\": true}, {\"feature1\": 0.28, \"feature2\": 0.74, \"predict\": true}, {\"feature1\": 0.28, \"feature2\": 0.76, \"predict\": true}, {\"feature1\": 0.28, \"feature2\": 0.78, \"predict\": true}, {\"feature1\": 0.28, \"feature2\": 0.8, \"predict\": true}, {\"feature1\": 0.28, \"feature2\": 0.82, \"predict\": true}, {\"feature1\": 0.28, \"feature2\": 0.84, \"predict\": true}, {\"feature1\": 0.28, \"feature2\": 0.86, \"predict\": true}, {\"feature1\": 0.28, \"feature2\": 0.88, \"predict\": true}, {\"feature1\": 0.28, \"feature2\": 0.9, \"predict\": true}, {\"feature1\": 0.28, \"feature2\": 0.92, \"predict\": true}, {\"feature1\": 0.28, \"feature2\": 0.94, \"predict\": true}, {\"feature1\": 0.28, \"feature2\": 0.96, \"predict\": true}, {\"feature1\": 0.28, \"feature2\": 0.98, \"predict\": true}, {\"feature1\": 0.3, \"feature2\": 0.0, \"predict\": false}, {\"feature1\": 0.3, \"feature2\": 0.02, \"predict\": false}, {\"feature1\": 0.3, \"feature2\": 0.04, \"predict\": false}, {\"feature1\": 0.3, \"feature2\": 0.06, \"predict\": false}, {\"feature1\": 0.3, \"feature2\": 0.08, \"predict\": false}, {\"feature1\": 0.3, \"feature2\": 0.1, \"predict\": false}, {\"feature1\": 0.3, \"feature2\": 0.12, \"predict\": false}, {\"feature1\": 0.3, \"feature2\": 0.14, \"predict\": false}, {\"feature1\": 0.3, \"feature2\": 0.16, \"predict\": false}, {\"feature1\": 0.3, \"feature2\": 0.18, \"predict\": false}, {\"feature1\": 0.3, \"feature2\": 0.2, \"predict\": false}, {\"feature1\": 0.3, \"feature2\": 0.22, \"predict\": false}, {\"feature1\": 0.3, \"feature2\": 0.24, \"predict\": false}, {\"feature1\": 0.3, \"feature2\": 0.26, \"predict\": false}, {\"feature1\": 0.3, \"feature2\": 0.28, \"predict\": false}, {\"feature1\": 0.3, \"feature2\": 0.3, \"predict\": false}, {\"feature1\": 0.3, \"feature2\": 0.32, \"predict\": false}, {\"feature1\": 0.3, \"feature2\": 0.34, \"predict\": false}, {\"feature1\": 0.3, \"feature2\": 0.36, \"predict\": false}, {\"feature1\": 0.3, \"feature2\": 0.38, \"predict\": false}, {\"feature1\": 0.3, \"feature2\": 0.4, \"predict\": true}, {\"feature1\": 0.3, \"feature2\": 0.42, \"predict\": true}, {\"feature1\": 0.3, \"feature2\": 0.44, \"predict\": true}, {\"feature1\": 0.3, \"feature2\": 0.46, \"predict\": true}, {\"feature1\": 0.3, \"feature2\": 0.48, \"predict\": true}, {\"feature1\": 0.3, \"feature2\": 0.5, \"predict\": true}, {\"feature1\": 0.3, \"feature2\": 0.52, \"predict\": true}, {\"feature1\": 0.3, \"feature2\": 0.54, \"predict\": true}, {\"feature1\": 0.3, \"feature2\": 0.56, \"predict\": true}, {\"feature1\": 0.3, \"feature2\": 0.58, \"predict\": true}, {\"feature1\": 0.3, \"feature2\": 0.6, \"predict\": true}, {\"feature1\": 0.3, \"feature2\": 0.62, \"predict\": true}, {\"feature1\": 0.3, \"feature2\": 0.64, \"predict\": true}, {\"feature1\": 0.3, \"feature2\": 0.66, \"predict\": true}, {\"feature1\": 0.3, \"feature2\": 0.68, \"predict\": true}, {\"feature1\": 0.3, \"feature2\": 0.7, \"predict\": true}, {\"feature1\": 0.3, \"feature2\": 0.72, \"predict\": true}, {\"feature1\": 0.3, \"feature2\": 0.74, \"predict\": true}, {\"feature1\": 0.3, \"feature2\": 0.76, \"predict\": true}, {\"feature1\": 0.3, \"feature2\": 0.78, \"predict\": true}, {\"feature1\": 0.3, \"feature2\": 0.8, \"predict\": true}, {\"feature1\": 0.3, \"feature2\": 0.82, \"predict\": true}, {\"feature1\": 0.3, \"feature2\": 0.84, \"predict\": true}, {\"feature1\": 0.3, \"feature2\": 0.86, \"predict\": true}, {\"feature1\": 0.3, \"feature2\": 0.88, \"predict\": true}, {\"feature1\": 0.3, \"feature2\": 0.9, \"predict\": true}, {\"feature1\": 0.3, \"feature2\": 0.92, \"predict\": true}, {\"feature1\": 0.3, \"feature2\": 0.94, \"predict\": true}, {\"feature1\": 0.3, \"feature2\": 0.96, \"predict\": true}, {\"feature1\": 0.3, \"feature2\": 0.98, \"predict\": true}, {\"feature1\": 0.32, \"feature2\": 0.0, \"predict\": false}, {\"feature1\": 0.32, \"feature2\": 0.02, \"predict\": false}, {\"feature1\": 0.32, \"feature2\": 0.04, \"predict\": false}, {\"feature1\": 0.32, \"feature2\": 0.06, \"predict\": false}, {\"feature1\": 0.32, \"feature2\": 0.08, \"predict\": false}, {\"feature1\": 0.32, \"feature2\": 0.1, \"predict\": false}, {\"feature1\": 0.32, \"feature2\": 0.12, \"predict\": false}, {\"feature1\": 0.32, \"feature2\": 0.14, \"predict\": false}, {\"feature1\": 0.32, \"feature2\": 0.16, \"predict\": false}, {\"feature1\": 0.32, \"feature2\": 0.18, \"predict\": false}, {\"feature1\": 0.32, \"feature2\": 0.2, \"predict\": false}, {\"feature1\": 0.32, \"feature2\": 0.22, \"predict\": false}, {\"feature1\": 0.32, \"feature2\": 0.24, \"predict\": false}, {\"feature1\": 0.32, \"feature2\": 0.26, \"predict\": false}, {\"feature1\": 0.32, \"feature2\": 0.28, \"predict\": false}, {\"feature1\": 0.32, \"feature2\": 0.3, \"predict\": false}, {\"feature1\": 0.32, \"feature2\": 0.32, \"predict\": false}, {\"feature1\": 0.32, \"feature2\": 0.34, \"predict\": false}, {\"feature1\": 0.32, \"feature2\": 0.36, \"predict\": false}, {\"feature1\": 0.32, \"feature2\": 0.38, \"predict\": true}, {\"feature1\": 0.32, \"feature2\": 0.4, \"predict\": true}, {\"feature1\": 0.32, \"feature2\": 0.42, \"predict\": true}, {\"feature1\": 0.32, \"feature2\": 0.44, \"predict\": true}, {\"feature1\": 0.32, \"feature2\": 0.46, \"predict\": true}, {\"feature1\": 0.32, \"feature2\": 0.48, \"predict\": true}, {\"feature1\": 0.32, \"feature2\": 0.5, \"predict\": true}, {\"feature1\": 0.32, \"feature2\": 0.52, \"predict\": true}, {\"feature1\": 0.32, \"feature2\": 0.54, \"predict\": true}, {\"feature1\": 0.32, \"feature2\": 0.56, \"predict\": true}, {\"feature1\": 0.32, \"feature2\": 0.58, \"predict\": true}, {\"feature1\": 0.32, \"feature2\": 0.6, \"predict\": true}, {\"feature1\": 0.32, \"feature2\": 0.62, \"predict\": true}, {\"feature1\": 0.32, \"feature2\": 0.64, \"predict\": true}, {\"feature1\": 0.32, \"feature2\": 0.66, \"predict\": true}, {\"feature1\": 0.32, \"feature2\": 0.68, \"predict\": true}, {\"feature1\": 0.32, \"feature2\": 0.7, \"predict\": true}, {\"feature1\": 0.32, \"feature2\": 0.72, \"predict\": true}, {\"feature1\": 0.32, \"feature2\": 0.74, \"predict\": true}, {\"feature1\": 0.32, \"feature2\": 0.76, \"predict\": true}, {\"feature1\": 0.32, \"feature2\": 0.78, \"predict\": true}, {\"feature1\": 0.32, \"feature2\": 0.8, \"predict\": true}, {\"feature1\": 0.32, \"feature2\": 0.82, \"predict\": true}, {\"feature1\": 0.32, \"feature2\": 0.84, \"predict\": true}, {\"feature1\": 0.32, \"feature2\": 0.86, \"predict\": true}, {\"feature1\": 0.32, \"feature2\": 0.88, \"predict\": true}, {\"feature1\": 0.32, \"feature2\": 0.9, \"predict\": true}, {\"feature1\": 0.32, \"feature2\": 0.92, \"predict\": true}, {\"feature1\": 0.32, \"feature2\": 0.94, \"predict\": true}, {\"feature1\": 0.32, \"feature2\": 0.96, \"predict\": true}, {\"feature1\": 0.32, \"feature2\": 0.98, \"predict\": true}, {\"feature1\": 0.34, \"feature2\": 0.0, \"predict\": false}, {\"feature1\": 0.34, \"feature2\": 0.02, \"predict\": false}, {\"feature1\": 0.34, \"feature2\": 0.04, \"predict\": false}, {\"feature1\": 0.34, \"feature2\": 0.06, \"predict\": false}, {\"feature1\": 0.34, \"feature2\": 0.08, \"predict\": false}, {\"feature1\": 0.34, \"feature2\": 0.1, \"predict\": false}, {\"feature1\": 0.34, \"feature2\": 0.12, \"predict\": false}, {\"feature1\": 0.34, \"feature2\": 0.14, \"predict\": false}, {\"feature1\": 0.34, \"feature2\": 0.16, \"predict\": false}, {\"feature1\": 0.34, \"feature2\": 0.18, \"predict\": false}, {\"feature1\": 0.34, \"feature2\": 0.2, \"predict\": false}, {\"feature1\": 0.34, \"feature2\": 0.22, \"predict\": false}, {\"feature1\": 0.34, \"feature2\": 0.24, \"predict\": false}, {\"feature1\": 0.34, \"feature2\": 0.26, \"predict\": false}, {\"feature1\": 0.34, \"feature2\": 0.28, \"predict\": false}, {\"feature1\": 0.34, \"feature2\": 0.3, \"predict\": false}, {\"feature1\": 0.34, \"feature2\": 0.32, \"predict\": false}, {\"feature1\": 0.34, \"feature2\": 0.34, \"predict\": false}, {\"feature1\": 0.34, \"feature2\": 0.36, \"predict\": true}, {\"feature1\": 0.34, \"feature2\": 0.38, \"predict\": true}, {\"feature1\": 0.34, \"feature2\": 0.4, \"predict\": true}, {\"feature1\": 0.34, \"feature2\": 0.42, \"predict\": true}, {\"feature1\": 0.34, \"feature2\": 0.44, \"predict\": true}, {\"feature1\": 0.34, \"feature2\": 0.46, \"predict\": true}, {\"feature1\": 0.34, \"feature2\": 0.48, \"predict\": true}, {\"feature1\": 0.34, \"feature2\": 0.5, \"predict\": true}, {\"feature1\": 0.34, \"feature2\": 0.52, \"predict\": true}, {\"feature1\": 0.34, \"feature2\": 0.54, \"predict\": true}, {\"feature1\": 0.34, \"feature2\": 0.56, \"predict\": true}, {\"feature1\": 0.34, \"feature2\": 0.58, \"predict\": true}, {\"feature1\": 0.34, \"feature2\": 0.6, \"predict\": true}, {\"feature1\": 0.34, \"feature2\": 0.62, \"predict\": true}, {\"feature1\": 0.34, \"feature2\": 0.64, \"predict\": true}, {\"feature1\": 0.34, \"feature2\": 0.66, \"predict\": true}, {\"feature1\": 0.34, \"feature2\": 0.68, \"predict\": true}, {\"feature1\": 0.34, \"feature2\": 0.7, \"predict\": true}, {\"feature1\": 0.34, \"feature2\": 0.72, \"predict\": true}, {\"feature1\": 0.34, \"feature2\": 0.74, \"predict\": true}, {\"feature1\": 0.34, \"feature2\": 0.76, \"predict\": true}, {\"feature1\": 0.34, \"feature2\": 0.78, \"predict\": true}, {\"feature1\": 0.34, \"feature2\": 0.8, \"predict\": true}, {\"feature1\": 0.34, \"feature2\": 0.82, \"predict\": true}, {\"feature1\": 0.34, \"feature2\": 0.84, \"predict\": true}, {\"feature1\": 0.34, \"feature2\": 0.86, \"predict\": true}, {\"feature1\": 0.34, \"feature2\": 0.88, \"predict\": true}, {\"feature1\": 0.34, \"feature2\": 0.9, \"predict\": true}, {\"feature1\": 0.34, \"feature2\": 0.92, \"predict\": true}, {\"feature1\": 0.34, \"feature2\": 0.94, \"predict\": true}, {\"feature1\": 0.34, \"feature2\": 0.96, \"predict\": true}, {\"feature1\": 0.34, \"feature2\": 0.98, \"predict\": true}, {\"feature1\": 0.36, \"feature2\": 0.0, \"predict\": false}, {\"feature1\": 0.36, \"feature2\": 0.02, \"predict\": false}, {\"feature1\": 0.36, \"feature2\": 0.04, \"predict\": false}, {\"feature1\": 0.36, \"feature2\": 0.06, \"predict\": false}, {\"feature1\": 0.36, \"feature2\": 0.08, \"predict\": false}, {\"feature1\": 0.36, \"feature2\": 0.1, \"predict\": false}, {\"feature1\": 0.36, \"feature2\": 0.12, \"predict\": false}, {\"feature1\": 0.36, \"feature2\": 0.14, \"predict\": false}, {\"feature1\": 0.36, \"feature2\": 0.16, \"predict\": false}, {\"feature1\": 0.36, \"feature2\": 0.18, \"predict\": false}, {\"feature1\": 0.36, \"feature2\": 0.2, \"predict\": false}, {\"feature1\": 0.36, \"feature2\": 0.22, \"predict\": false}, {\"feature1\": 0.36, \"feature2\": 0.24, \"predict\": false}, {\"feature1\": 0.36, \"feature2\": 0.26, \"predict\": false}, {\"feature1\": 0.36, \"feature2\": 0.28, \"predict\": false}, {\"feature1\": 0.36, \"feature2\": 0.3, \"predict\": false}, {\"feature1\": 0.36, \"feature2\": 0.32, \"predict\": false}, {\"feature1\": 0.36, \"feature2\": 0.34, \"predict\": true}, {\"feature1\": 0.36, \"feature2\": 0.36, \"predict\": true}, {\"feature1\": 0.36, \"feature2\": 0.38, \"predict\": true}, {\"feature1\": 0.36, \"feature2\": 0.4, \"predict\": true}, {\"feature1\": 0.36, \"feature2\": 0.42, \"predict\": true}, {\"feature1\": 0.36, \"feature2\": 0.44, \"predict\": true}, {\"feature1\": 0.36, \"feature2\": 0.46, \"predict\": true}, {\"feature1\": 0.36, \"feature2\": 0.48, \"predict\": true}, {\"feature1\": 0.36, \"feature2\": 0.5, \"predict\": true}, {\"feature1\": 0.36, \"feature2\": 0.52, \"predict\": true}, {\"feature1\": 0.36, \"feature2\": 0.54, \"predict\": true}, {\"feature1\": 0.36, \"feature2\": 0.56, \"predict\": true}, {\"feature1\": 0.36, \"feature2\": 0.58, \"predict\": true}, {\"feature1\": 0.36, \"feature2\": 0.6, \"predict\": true}, {\"feature1\": 0.36, \"feature2\": 0.62, \"predict\": true}, {\"feature1\": 0.36, \"feature2\": 0.64, \"predict\": true}, {\"feature1\": 0.36, \"feature2\": 0.66, \"predict\": true}, {\"feature1\": 0.36, \"feature2\": 0.68, \"predict\": true}, {\"feature1\": 0.36, \"feature2\": 0.7, \"predict\": true}, {\"feature1\": 0.36, \"feature2\": 0.72, \"predict\": true}, {\"feature1\": 0.36, \"feature2\": 0.74, \"predict\": true}, {\"feature1\": 0.36, \"feature2\": 0.76, \"predict\": true}, {\"feature1\": 0.36, \"feature2\": 0.78, \"predict\": true}, {\"feature1\": 0.36, \"feature2\": 0.8, \"predict\": true}, {\"feature1\": 0.36, \"feature2\": 0.82, \"predict\": true}, {\"feature1\": 0.36, \"feature2\": 0.84, \"predict\": true}, {\"feature1\": 0.36, \"feature2\": 0.86, \"predict\": true}, {\"feature1\": 0.36, \"feature2\": 0.88, \"predict\": true}, {\"feature1\": 0.36, \"feature2\": 0.9, \"predict\": true}, {\"feature1\": 0.36, \"feature2\": 0.92, \"predict\": true}, {\"feature1\": 0.36, \"feature2\": 0.94, \"predict\": true}, {\"feature1\": 0.36, \"feature2\": 0.96, \"predict\": true}, {\"feature1\": 0.36, \"feature2\": 0.98, \"predict\": true}, {\"feature1\": 0.38, \"feature2\": 0.0, \"predict\": false}, {\"feature1\": 0.38, \"feature2\": 0.02, \"predict\": false}, {\"feature1\": 0.38, \"feature2\": 0.04, \"predict\": false}, {\"feature1\": 0.38, \"feature2\": 0.06, \"predict\": false}, {\"feature1\": 0.38, \"feature2\": 0.08, \"predict\": false}, {\"feature1\": 0.38, \"feature2\": 0.1, \"predict\": false}, {\"feature1\": 0.38, \"feature2\": 0.12, \"predict\": false}, {\"feature1\": 0.38, \"feature2\": 0.14, \"predict\": false}, {\"feature1\": 0.38, \"feature2\": 0.16, \"predict\": false}, {\"feature1\": 0.38, \"feature2\": 0.18, \"predict\": false}, {\"feature1\": 0.38, \"feature2\": 0.2, \"predict\": false}, {\"feature1\": 0.38, \"feature2\": 0.22, \"predict\": false}, {\"feature1\": 0.38, \"feature2\": 0.24, \"predict\": false}, {\"feature1\": 0.38, \"feature2\": 0.26, \"predict\": false}, {\"feature1\": 0.38, \"feature2\": 0.28, \"predict\": false}, {\"feature1\": 0.38, \"feature2\": 0.3, \"predict\": false}, {\"feature1\": 0.38, \"feature2\": 0.32, \"predict\": true}, {\"feature1\": 0.38, \"feature2\": 0.34, \"predict\": true}, {\"feature1\": 0.38, \"feature2\": 0.36, \"predict\": true}, {\"feature1\": 0.38, \"feature2\": 0.38, \"predict\": true}, {\"feature1\": 0.38, \"feature2\": 0.4, \"predict\": true}, {\"feature1\": 0.38, \"feature2\": 0.42, \"predict\": true}, {\"feature1\": 0.38, \"feature2\": 0.44, \"predict\": true}, {\"feature1\": 0.38, \"feature2\": 0.46, \"predict\": true}, {\"feature1\": 0.38, \"feature2\": 0.48, \"predict\": true}, {\"feature1\": 0.38, \"feature2\": 0.5, \"predict\": true}, {\"feature1\": 0.38, \"feature2\": 0.52, \"predict\": true}, {\"feature1\": 0.38, \"feature2\": 0.54, \"predict\": true}, {\"feature1\": 0.38, \"feature2\": 0.56, \"predict\": true}, {\"feature1\": 0.38, \"feature2\": 0.58, \"predict\": true}, {\"feature1\": 0.38, \"feature2\": 0.6, \"predict\": true}, {\"feature1\": 0.38, \"feature2\": 0.62, \"predict\": true}, {\"feature1\": 0.38, \"feature2\": 0.64, \"predict\": true}, {\"feature1\": 0.38, \"feature2\": 0.66, \"predict\": true}, {\"feature1\": 0.38, \"feature2\": 0.68, \"predict\": true}, {\"feature1\": 0.38, \"feature2\": 0.7, \"predict\": true}, {\"feature1\": 0.38, \"feature2\": 0.72, \"predict\": true}, {\"feature1\": 0.38, \"feature2\": 0.74, \"predict\": true}, {\"feature1\": 0.38, \"feature2\": 0.76, \"predict\": true}, {\"feature1\": 0.38, \"feature2\": 0.78, \"predict\": true}, {\"feature1\": 0.38, \"feature2\": 0.8, \"predict\": true}, {\"feature1\": 0.38, \"feature2\": 0.82, \"predict\": true}, {\"feature1\": 0.38, \"feature2\": 0.84, \"predict\": true}, {\"feature1\": 0.38, \"feature2\": 0.86, \"predict\": true}, {\"feature1\": 0.38, \"feature2\": 0.88, \"predict\": true}, {\"feature1\": 0.38, \"feature2\": 0.9, \"predict\": true}, {\"feature1\": 0.38, \"feature2\": 0.92, \"predict\": true}, {\"feature1\": 0.38, \"feature2\": 0.94, \"predict\": true}, {\"feature1\": 0.38, \"feature2\": 0.96, \"predict\": true}, {\"feature1\": 0.38, \"feature2\": 0.98, \"predict\": true}, {\"feature1\": 0.4, \"feature2\": 0.0, \"predict\": false}, {\"feature1\": 0.4, \"feature2\": 0.02, \"predict\": false}, {\"feature1\": 0.4, \"feature2\": 0.04, \"predict\": false}, {\"feature1\": 0.4, \"feature2\": 0.06, \"predict\": false}, {\"feature1\": 0.4, \"feature2\": 0.08, \"predict\": false}, {\"feature1\": 0.4, \"feature2\": 0.1, \"predict\": false}, {\"feature1\": 0.4, \"feature2\": 0.12, \"predict\": false}, {\"feature1\": 0.4, \"feature2\": 0.14, \"predict\": false}, {\"feature1\": 0.4, \"feature2\": 0.16, \"predict\": false}, {\"feature1\": 0.4, \"feature2\": 0.18, \"predict\": false}, {\"feature1\": 0.4, \"feature2\": 0.2, \"predict\": false}, {\"feature1\": 0.4, \"feature2\": 0.22, \"predict\": false}, {\"feature1\": 0.4, \"feature2\": 0.24, \"predict\": false}, {\"feature1\": 0.4, \"feature2\": 0.26, \"predict\": false}, {\"feature1\": 0.4, \"feature2\": 0.28, \"predict\": false}, {\"feature1\": 0.4, \"feature2\": 0.3, \"predict\": true}, {\"feature1\": 0.4, \"feature2\": 0.32, \"predict\": true}, {\"feature1\": 0.4, \"feature2\": 0.34, \"predict\": true}, {\"feature1\": 0.4, \"feature2\": 0.36, \"predict\": true}, {\"feature1\": 0.4, \"feature2\": 0.38, \"predict\": true}, {\"feature1\": 0.4, \"feature2\": 0.4, \"predict\": true}, {\"feature1\": 0.4, \"feature2\": 0.42, \"predict\": true}, {\"feature1\": 0.4, \"feature2\": 0.44, \"predict\": true}, {\"feature1\": 0.4, \"feature2\": 0.46, \"predict\": true}, {\"feature1\": 0.4, \"feature2\": 0.48, \"predict\": true}, {\"feature1\": 0.4, \"feature2\": 0.5, \"predict\": true}, {\"feature1\": 0.4, \"feature2\": 0.52, \"predict\": true}, {\"feature1\": 0.4, \"feature2\": 0.54, \"predict\": true}, {\"feature1\": 0.4, \"feature2\": 0.56, \"predict\": true}, {\"feature1\": 0.4, \"feature2\": 0.58, \"predict\": true}, {\"feature1\": 0.4, \"feature2\": 0.6, \"predict\": true}, {\"feature1\": 0.4, \"feature2\": 0.62, \"predict\": true}, {\"feature1\": 0.4, \"feature2\": 0.64, \"predict\": true}, {\"feature1\": 0.4, \"feature2\": 0.66, \"predict\": true}, {\"feature1\": 0.4, \"feature2\": 0.68, \"predict\": true}, {\"feature1\": 0.4, \"feature2\": 0.7, \"predict\": true}, {\"feature1\": 0.4, \"feature2\": 0.72, \"predict\": true}, {\"feature1\": 0.4, \"feature2\": 0.74, \"predict\": true}, {\"feature1\": 0.4, \"feature2\": 0.76, \"predict\": true}, {\"feature1\": 0.4, \"feature2\": 0.78, \"predict\": true}, {\"feature1\": 0.4, \"feature2\": 0.8, \"predict\": true}, {\"feature1\": 0.4, \"feature2\": 0.82, \"predict\": true}, {\"feature1\": 0.4, \"feature2\": 0.84, \"predict\": true}, {\"feature1\": 0.4, \"feature2\": 0.86, \"predict\": true}, {\"feature1\": 0.4, \"feature2\": 0.88, \"predict\": true}, {\"feature1\": 0.4, \"feature2\": 0.9, \"predict\": true}, {\"feature1\": 0.4, \"feature2\": 0.92, \"predict\": true}, {\"feature1\": 0.4, \"feature2\": 0.94, \"predict\": true}, {\"feature1\": 0.4, \"feature2\": 0.96, \"predict\": true}, {\"feature1\": 0.4, \"feature2\": 0.98, \"predict\": true}, {\"feature1\": 0.42, \"feature2\": 0.0, \"predict\": false}, {\"feature1\": 0.42, \"feature2\": 0.02, \"predict\": false}, {\"feature1\": 0.42, \"feature2\": 0.04, \"predict\": false}, {\"feature1\": 0.42, \"feature2\": 0.06, \"predict\": false}, {\"feature1\": 0.42, \"feature2\": 0.08, \"predict\": false}, {\"feature1\": 0.42, \"feature2\": 0.1, \"predict\": false}, {\"feature1\": 0.42, \"feature2\": 0.12, \"predict\": false}, {\"feature1\": 0.42, \"feature2\": 0.14, \"predict\": false}, {\"feature1\": 0.42, \"feature2\": 0.16, \"predict\": false}, {\"feature1\": 0.42, \"feature2\": 0.18, \"predict\": false}, {\"feature1\": 0.42, \"feature2\": 0.2, \"predict\": false}, {\"feature1\": 0.42, \"feature2\": 0.22, \"predict\": false}, {\"feature1\": 0.42, \"feature2\": 0.24, \"predict\": false}, {\"feature1\": 0.42, \"feature2\": 0.26, \"predict\": false}, {\"feature1\": 0.42, \"feature2\": 0.28, \"predict\": true}, {\"feature1\": 0.42, \"feature2\": 0.3, \"predict\": true}, {\"feature1\": 0.42, \"feature2\": 0.32, \"predict\": true}, {\"feature1\": 0.42, \"feature2\": 0.34, \"predict\": true}, {\"feature1\": 0.42, \"feature2\": 0.36, \"predict\": true}, {\"feature1\": 0.42, \"feature2\": 0.38, \"predict\": true}, {\"feature1\": 0.42, \"feature2\": 0.4, \"predict\": true}, {\"feature1\": 0.42, \"feature2\": 0.42, \"predict\": true}, {\"feature1\": 0.42, \"feature2\": 0.44, \"predict\": true}, {\"feature1\": 0.42, \"feature2\": 0.46, \"predict\": true}, {\"feature1\": 0.42, \"feature2\": 0.48, \"predict\": true}, {\"feature1\": 0.42, \"feature2\": 0.5, \"predict\": true}, {\"feature1\": 0.42, \"feature2\": 0.52, \"predict\": true}, {\"feature1\": 0.42, \"feature2\": 0.54, \"predict\": true}, {\"feature1\": 0.42, \"feature2\": 0.56, \"predict\": true}, {\"feature1\": 0.42, \"feature2\": 0.58, \"predict\": true}, {\"feature1\": 0.42, \"feature2\": 0.6, \"predict\": true}, {\"feature1\": 0.42, \"feature2\": 0.62, \"predict\": true}, {\"feature1\": 0.42, \"feature2\": 0.64, \"predict\": true}, {\"feature1\": 0.42, \"feature2\": 0.66, \"predict\": true}, {\"feature1\": 0.42, \"feature2\": 0.68, \"predict\": true}, {\"feature1\": 0.42, \"feature2\": 0.7, \"predict\": true}, {\"feature1\": 0.42, \"feature2\": 0.72, \"predict\": true}, {\"feature1\": 0.42, \"feature2\": 0.74, \"predict\": true}, {\"feature1\": 0.42, \"feature2\": 0.76, \"predict\": true}, {\"feature1\": 0.42, \"feature2\": 0.78, \"predict\": true}, {\"feature1\": 0.42, \"feature2\": 0.8, \"predict\": true}, {\"feature1\": 0.42, \"feature2\": 0.82, \"predict\": true}, {\"feature1\": 0.42, \"feature2\": 0.84, \"predict\": true}, {\"feature1\": 0.42, \"feature2\": 0.86, \"predict\": true}, {\"feature1\": 0.42, \"feature2\": 0.88, \"predict\": true}, {\"feature1\": 0.42, \"feature2\": 0.9, \"predict\": true}, {\"feature1\": 0.42, \"feature2\": 0.92, \"predict\": true}, {\"feature1\": 0.42, \"feature2\": 0.94, \"predict\": true}, {\"feature1\": 0.42, \"feature2\": 0.96, \"predict\": true}, {\"feature1\": 0.42, \"feature2\": 0.98, \"predict\": true}, {\"feature1\": 0.44, \"feature2\": 0.0, \"predict\": false}, {\"feature1\": 0.44, \"feature2\": 0.02, \"predict\": false}, {\"feature1\": 0.44, \"feature2\": 0.04, \"predict\": false}, {\"feature1\": 0.44, \"feature2\": 0.06, \"predict\": false}, {\"feature1\": 0.44, \"feature2\": 0.08, \"predict\": false}, {\"feature1\": 0.44, \"feature2\": 0.1, \"predict\": false}, {\"feature1\": 0.44, \"feature2\": 0.12, \"predict\": false}, {\"feature1\": 0.44, \"feature2\": 0.14, \"predict\": false}, {\"feature1\": 0.44, \"feature2\": 0.16, \"predict\": false}, {\"feature1\": 0.44, \"feature2\": 0.18, \"predict\": false}, {\"feature1\": 0.44, \"feature2\": 0.2, \"predict\": false}, {\"feature1\": 0.44, \"feature2\": 0.22, \"predict\": false}, {\"feature1\": 0.44, \"feature2\": 0.24, \"predict\": true}, {\"feature1\": 0.44, \"feature2\": 0.26, \"predict\": true}, {\"feature1\": 0.44, \"feature2\": 0.28, \"predict\": true}, {\"feature1\": 0.44, \"feature2\": 0.3, \"predict\": true}, {\"feature1\": 0.44, \"feature2\": 0.32, \"predict\": true}, {\"feature1\": 0.44, \"feature2\": 0.34, \"predict\": true}, {\"feature1\": 0.44, \"feature2\": 0.36, \"predict\": true}, {\"feature1\": 0.44, \"feature2\": 0.38, \"predict\": true}, {\"feature1\": 0.44, \"feature2\": 0.4, \"predict\": true}, {\"feature1\": 0.44, \"feature2\": 0.42, \"predict\": true}, {\"feature1\": 0.44, \"feature2\": 0.44, \"predict\": true}, {\"feature1\": 0.44, \"feature2\": 0.46, \"predict\": true}, {\"feature1\": 0.44, \"feature2\": 0.48, \"predict\": true}, {\"feature1\": 0.44, \"feature2\": 0.5, \"predict\": true}, {\"feature1\": 0.44, \"feature2\": 0.52, \"predict\": true}, {\"feature1\": 0.44, \"feature2\": 0.54, \"predict\": true}, {\"feature1\": 0.44, \"feature2\": 0.56, \"predict\": true}, {\"feature1\": 0.44, \"feature2\": 0.58, \"predict\": true}, {\"feature1\": 0.44, \"feature2\": 0.6, \"predict\": true}, {\"feature1\": 0.44, \"feature2\": 0.62, \"predict\": true}, {\"feature1\": 0.44, \"feature2\": 0.64, \"predict\": true}, {\"feature1\": 0.44, \"feature2\": 0.66, \"predict\": true}, {\"feature1\": 0.44, \"feature2\": 0.68, \"predict\": true}, {\"feature1\": 0.44, \"feature2\": 0.7, \"predict\": true}, {\"feature1\": 0.44, \"feature2\": 0.72, \"predict\": true}, {\"feature1\": 0.44, \"feature2\": 0.74, \"predict\": true}, {\"feature1\": 0.44, \"feature2\": 0.76, \"predict\": true}, {\"feature1\": 0.44, \"feature2\": 0.78, \"predict\": true}, {\"feature1\": 0.44, \"feature2\": 0.8, \"predict\": true}, {\"feature1\": 0.44, \"feature2\": 0.82, \"predict\": true}, {\"feature1\": 0.44, \"feature2\": 0.84, \"predict\": true}, {\"feature1\": 0.44, \"feature2\": 0.86, \"predict\": true}, {\"feature1\": 0.44, \"feature2\": 0.88, \"predict\": true}, {\"feature1\": 0.44, \"feature2\": 0.9, \"predict\": true}, {\"feature1\": 0.44, \"feature2\": 0.92, \"predict\": true}, {\"feature1\": 0.44, \"feature2\": 0.94, \"predict\": true}, {\"feature1\": 0.44, \"feature2\": 0.96, \"predict\": true}, {\"feature1\": 0.44, \"feature2\": 0.98, \"predict\": true}, {\"feature1\": 0.46, \"feature2\": 0.0, \"predict\": false}, {\"feature1\": 0.46, \"feature2\": 0.02, \"predict\": false}, {\"feature1\": 0.46, \"feature2\": 0.04, \"predict\": false}, {\"feature1\": 0.46, \"feature2\": 0.06, \"predict\": false}, {\"feature1\": 0.46, \"feature2\": 0.08, \"predict\": false}, {\"feature1\": 0.46, \"feature2\": 0.1, \"predict\": false}, {\"feature1\": 0.46, \"feature2\": 0.12, \"predict\": false}, {\"feature1\": 0.46, \"feature2\": 0.14, \"predict\": false}, {\"feature1\": 0.46, \"feature2\": 0.16, \"predict\": false}, {\"feature1\": 0.46, \"feature2\": 0.18, \"predict\": false}, {\"feature1\": 0.46, \"feature2\": 0.2, \"predict\": false}, {\"feature1\": 0.46, \"feature2\": 0.22, \"predict\": true}, {\"feature1\": 0.46, \"feature2\": 0.24, \"predict\": true}, {\"feature1\": 0.46, \"feature2\": 0.26, \"predict\": true}, {\"feature1\": 0.46, \"feature2\": 0.28, \"predict\": true}, {\"feature1\": 0.46, \"feature2\": 0.3, \"predict\": true}, {\"feature1\": 0.46, \"feature2\": 0.32, \"predict\": true}, {\"feature1\": 0.46, \"feature2\": 0.34, \"predict\": true}, {\"feature1\": 0.46, \"feature2\": 0.36, \"predict\": true}, {\"feature1\": 0.46, \"feature2\": 0.38, \"predict\": true}, {\"feature1\": 0.46, \"feature2\": 0.4, \"predict\": true}, {\"feature1\": 0.46, \"feature2\": 0.42, \"predict\": true}, {\"feature1\": 0.46, \"feature2\": 0.44, \"predict\": true}, {\"feature1\": 0.46, \"feature2\": 0.46, \"predict\": true}, {\"feature1\": 0.46, \"feature2\": 0.48, \"predict\": true}, {\"feature1\": 0.46, \"feature2\": 0.5, \"predict\": true}, {\"feature1\": 0.46, \"feature2\": 0.52, \"predict\": true}, {\"feature1\": 0.46, \"feature2\": 0.54, \"predict\": true}, {\"feature1\": 0.46, \"feature2\": 0.56, \"predict\": true}, {\"feature1\": 0.46, \"feature2\": 0.58, \"predict\": true}, {\"feature1\": 0.46, \"feature2\": 0.6, \"predict\": true}, {\"feature1\": 0.46, \"feature2\": 0.62, \"predict\": true}, {\"feature1\": 0.46, \"feature2\": 0.64, \"predict\": true}, {\"feature1\": 0.46, \"feature2\": 0.66, \"predict\": true}, {\"feature1\": 0.46, \"feature2\": 0.68, \"predict\": true}, {\"feature1\": 0.46, \"feature2\": 0.7, \"predict\": true}, {\"feature1\": 0.46, \"feature2\": 0.72, \"predict\": true}, {\"feature1\": 0.46, \"feature2\": 0.74, \"predict\": true}, {\"feature1\": 0.46, \"feature2\": 0.76, \"predict\": true}, {\"feature1\": 0.46, \"feature2\": 0.78, \"predict\": true}, {\"feature1\": 0.46, \"feature2\": 0.8, \"predict\": true}, {\"feature1\": 0.46, \"feature2\": 0.82, \"predict\": true}, {\"feature1\": 0.46, \"feature2\": 0.84, \"predict\": true}, {\"feature1\": 0.46, \"feature2\": 0.86, \"predict\": true}, {\"feature1\": 0.46, \"feature2\": 0.88, \"predict\": true}, {\"feature1\": 0.46, \"feature2\": 0.9, \"predict\": true}, {\"feature1\": 0.46, \"feature2\": 0.92, \"predict\": true}, {\"feature1\": 0.46, \"feature2\": 0.94, \"predict\": true}, {\"feature1\": 0.46, \"feature2\": 0.96, \"predict\": true}, {\"feature1\": 0.46, \"feature2\": 0.98, \"predict\": true}, {\"feature1\": 0.48, \"feature2\": 0.0, \"predict\": false}, {\"feature1\": 0.48, \"feature2\": 0.02, \"predict\": false}, {\"feature1\": 0.48, \"feature2\": 0.04, \"predict\": false}, {\"feature1\": 0.48, \"feature2\": 0.06, \"predict\": false}, {\"feature1\": 0.48, \"feature2\": 0.08, \"predict\": false}, {\"feature1\": 0.48, \"feature2\": 0.1, \"predict\": false}, {\"feature1\": 0.48, \"feature2\": 0.12, \"predict\": false}, {\"feature1\": 0.48, \"feature2\": 0.14, \"predict\": false}, {\"feature1\": 0.48, \"feature2\": 0.16, \"predict\": false}, {\"feature1\": 0.48, \"feature2\": 0.18, \"predict\": false}, {\"feature1\": 0.48, \"feature2\": 0.2, \"predict\": true}, {\"feature1\": 0.48, \"feature2\": 0.22, \"predict\": true}, {\"feature1\": 0.48, \"feature2\": 0.24, \"predict\": true}, {\"feature1\": 0.48, \"feature2\": 0.26, \"predict\": true}, {\"feature1\": 0.48, \"feature2\": 0.28, \"predict\": true}, {\"feature1\": 0.48, \"feature2\": 0.3, \"predict\": true}, {\"feature1\": 0.48, \"feature2\": 0.32, \"predict\": true}, {\"feature1\": 0.48, \"feature2\": 0.34, \"predict\": true}, {\"feature1\": 0.48, \"feature2\": 0.36, \"predict\": true}, {\"feature1\": 0.48, \"feature2\": 0.38, \"predict\": true}, {\"feature1\": 0.48, \"feature2\": 0.4, \"predict\": true}, {\"feature1\": 0.48, \"feature2\": 0.42, \"predict\": true}, {\"feature1\": 0.48, \"feature2\": 0.44, \"predict\": true}, {\"feature1\": 0.48, \"feature2\": 0.46, \"predict\": true}, {\"feature1\": 0.48, \"feature2\": 0.48, \"predict\": true}, {\"feature1\": 0.48, \"feature2\": 0.5, \"predict\": true}, {\"feature1\": 0.48, \"feature2\": 0.52, \"predict\": true}, {\"feature1\": 0.48, \"feature2\": 0.54, \"predict\": true}, {\"feature1\": 0.48, \"feature2\": 0.56, \"predict\": true}, {\"feature1\": 0.48, \"feature2\": 0.58, \"predict\": true}, {\"feature1\": 0.48, \"feature2\": 0.6, \"predict\": true}, {\"feature1\": 0.48, \"feature2\": 0.62, \"predict\": true}, {\"feature1\": 0.48, \"feature2\": 0.64, \"predict\": true}, {\"feature1\": 0.48, \"feature2\": 0.66, \"predict\": true}, {\"feature1\": 0.48, \"feature2\": 0.68, \"predict\": true}, {\"feature1\": 0.48, \"feature2\": 0.7, \"predict\": true}, {\"feature1\": 0.48, \"feature2\": 0.72, \"predict\": true}, {\"feature1\": 0.48, \"feature2\": 0.74, \"predict\": true}, {\"feature1\": 0.48, \"feature2\": 0.76, \"predict\": true}, {\"feature1\": 0.48, \"feature2\": 0.78, \"predict\": true}, {\"feature1\": 0.48, \"feature2\": 0.8, \"predict\": true}, {\"feature1\": 0.48, \"feature2\": 0.82, \"predict\": true}, {\"feature1\": 0.48, \"feature2\": 0.84, \"predict\": true}, {\"feature1\": 0.48, \"feature2\": 0.86, \"predict\": true}, {\"feature1\": 0.48, \"feature2\": 0.88, \"predict\": true}, {\"feature1\": 0.48, \"feature2\": 0.9, \"predict\": true}, {\"feature1\": 0.48, \"feature2\": 0.92, \"predict\": true}, {\"feature1\": 0.48, \"feature2\": 0.94, \"predict\": true}, {\"feature1\": 0.48, \"feature2\": 0.96, \"predict\": true}, {\"feature1\": 0.48, \"feature2\": 0.98, \"predict\": true}, {\"feature1\": 0.5, \"feature2\": 0.0, \"predict\": false}, {\"feature1\": 0.5, \"feature2\": 0.02, \"predict\": false}, {\"feature1\": 0.5, \"feature2\": 0.04, \"predict\": false}, {\"feature1\": 0.5, \"feature2\": 0.06, \"predict\": false}, {\"feature1\": 0.5, \"feature2\": 0.08, \"predict\": false}, {\"feature1\": 0.5, \"feature2\": 0.1, \"predict\": false}, {\"feature1\": 0.5, \"feature2\": 0.12, \"predict\": false}, {\"feature1\": 0.5, \"feature2\": 0.14, \"predict\": false}, {\"feature1\": 0.5, \"feature2\": 0.16, \"predict\": false}, {\"feature1\": 0.5, \"feature2\": 0.18, \"predict\": true}, {\"feature1\": 0.5, \"feature2\": 0.2, \"predict\": true}, {\"feature1\": 0.5, \"feature2\": 0.22, \"predict\": true}, {\"feature1\": 0.5, \"feature2\": 0.24, \"predict\": true}, {\"feature1\": 0.5, \"feature2\": 0.26, \"predict\": true}, {\"feature1\": 0.5, \"feature2\": 0.28, \"predict\": true}, {\"feature1\": 0.5, \"feature2\": 0.3, \"predict\": true}, {\"feature1\": 0.5, \"feature2\": 0.32, \"predict\": true}, {\"feature1\": 0.5, \"feature2\": 0.34, \"predict\": true}, {\"feature1\": 0.5, \"feature2\": 0.36, \"predict\": true}, {\"feature1\": 0.5, \"feature2\": 0.38, \"predict\": true}, {\"feature1\": 0.5, \"feature2\": 0.4, \"predict\": true}, {\"feature1\": 0.5, \"feature2\": 0.42, \"predict\": true}, {\"feature1\": 0.5, \"feature2\": 0.44, \"predict\": true}, {\"feature1\": 0.5, \"feature2\": 0.46, \"predict\": true}, {\"feature1\": 0.5, \"feature2\": 0.48, \"predict\": true}, {\"feature1\": 0.5, \"feature2\": 0.5, \"predict\": true}, {\"feature1\": 0.5, \"feature2\": 0.52, \"predict\": true}, {\"feature1\": 0.5, \"feature2\": 0.54, \"predict\": true}, {\"feature1\": 0.5, \"feature2\": 0.56, \"predict\": true}, {\"feature1\": 0.5, \"feature2\": 0.58, \"predict\": true}, {\"feature1\": 0.5, \"feature2\": 0.6, \"predict\": true}, {\"feature1\": 0.5, \"feature2\": 0.62, \"predict\": true}, {\"feature1\": 0.5, \"feature2\": 0.64, \"predict\": true}, {\"feature1\": 0.5, \"feature2\": 0.66, \"predict\": true}, {\"feature1\": 0.5, \"feature2\": 0.68, \"predict\": true}, {\"feature1\": 0.5, \"feature2\": 0.7, \"predict\": true}, {\"feature1\": 0.5, \"feature2\": 0.72, \"predict\": true}, {\"feature1\": 0.5, \"feature2\": 0.74, \"predict\": true}, {\"feature1\": 0.5, \"feature2\": 0.76, \"predict\": true}, {\"feature1\": 0.5, \"feature2\": 0.78, \"predict\": true}, {\"feature1\": 0.5, \"feature2\": 0.8, \"predict\": true}, {\"feature1\": 0.5, \"feature2\": 0.82, \"predict\": true}, {\"feature1\": 0.5, \"feature2\": 0.84, \"predict\": true}, {\"feature1\": 0.5, \"feature2\": 0.86, \"predict\": true}, {\"feature1\": 0.5, \"feature2\": 0.88, \"predict\": true}, {\"feature1\": 0.5, \"feature2\": 0.9, \"predict\": true}, {\"feature1\": 0.5, \"feature2\": 0.92, \"predict\": true}, {\"feature1\": 0.5, \"feature2\": 0.94, \"predict\": true}, {\"feature1\": 0.5, \"feature2\": 0.96, \"predict\": true}, {\"feature1\": 0.5, \"feature2\": 0.98, \"predict\": true}, {\"feature1\": 0.52, \"feature2\": 0.0, \"predict\": false}, {\"feature1\": 0.52, \"feature2\": 0.02, \"predict\": false}, {\"feature1\": 0.52, \"feature2\": 0.04, \"predict\": false}, {\"feature1\": 0.52, \"feature2\": 0.06, \"predict\": false}, {\"feature1\": 0.52, \"feature2\": 0.08, \"predict\": false}, {\"feature1\": 0.52, \"feature2\": 0.1, \"predict\": false}, {\"feature1\": 0.52, \"feature2\": 0.12, \"predict\": false}, {\"feature1\": 0.52, \"feature2\": 0.14, \"predict\": false}, {\"feature1\": 0.52, \"feature2\": 0.16, \"predict\": true}, {\"feature1\": 0.52, \"feature2\": 0.18, \"predict\": true}, {\"feature1\": 0.52, \"feature2\": 0.2, \"predict\": true}, {\"feature1\": 0.52, \"feature2\": 0.22, \"predict\": true}, {\"feature1\": 0.52, \"feature2\": 0.24, \"predict\": true}, {\"feature1\": 0.52, \"feature2\": 0.26, \"predict\": true}, {\"feature1\": 0.52, \"feature2\": 0.28, \"predict\": true}, {\"feature1\": 0.52, \"feature2\": 0.3, \"predict\": true}, {\"feature1\": 0.52, \"feature2\": 0.32, \"predict\": true}, {\"feature1\": 0.52, \"feature2\": 0.34, \"predict\": true}, {\"feature1\": 0.52, \"feature2\": 0.36, \"predict\": true}, {\"feature1\": 0.52, \"feature2\": 0.38, \"predict\": true}, {\"feature1\": 0.52, \"feature2\": 0.4, \"predict\": true}, {\"feature1\": 0.52, \"feature2\": 0.42, \"predict\": true}, {\"feature1\": 0.52, \"feature2\": 0.44, \"predict\": true}, {\"feature1\": 0.52, \"feature2\": 0.46, \"predict\": true}, {\"feature1\": 0.52, \"feature2\": 0.48, \"predict\": true}, {\"feature1\": 0.52, \"feature2\": 0.5, \"predict\": true}, {\"feature1\": 0.52, \"feature2\": 0.52, \"predict\": true}, {\"feature1\": 0.52, \"feature2\": 0.54, \"predict\": true}, {\"feature1\": 0.52, \"feature2\": 0.56, \"predict\": true}, {\"feature1\": 0.52, \"feature2\": 0.58, \"predict\": true}, {\"feature1\": 0.52, \"feature2\": 0.6, \"predict\": true}, {\"feature1\": 0.52, \"feature2\": 0.62, \"predict\": true}, {\"feature1\": 0.52, \"feature2\": 0.64, \"predict\": true}, {\"feature1\": 0.52, \"feature2\": 0.66, \"predict\": true}, {\"feature1\": 0.52, \"feature2\": 0.68, \"predict\": true}, {\"feature1\": 0.52, \"feature2\": 0.7, \"predict\": true}, {\"feature1\": 0.52, \"feature2\": 0.72, \"predict\": true}, {\"feature1\": 0.52, \"feature2\": 0.74, \"predict\": true}, {\"feature1\": 0.52, \"feature2\": 0.76, \"predict\": true}, {\"feature1\": 0.52, \"feature2\": 0.78, \"predict\": true}, {\"feature1\": 0.52, \"feature2\": 0.8, \"predict\": true}, {\"feature1\": 0.52, \"feature2\": 0.82, \"predict\": true}, {\"feature1\": 0.52, \"feature2\": 0.84, \"predict\": true}, {\"feature1\": 0.52, \"feature2\": 0.86, \"predict\": true}, {\"feature1\": 0.52, \"feature2\": 0.88, \"predict\": true}, {\"feature1\": 0.52, \"feature2\": 0.9, \"predict\": true}, {\"feature1\": 0.52, \"feature2\": 0.92, \"predict\": true}, {\"feature1\": 0.52, \"feature2\": 0.94, \"predict\": true}, {\"feature1\": 0.52, \"feature2\": 0.96, \"predict\": true}, {\"feature1\": 0.52, \"feature2\": 0.98, \"predict\": true}, {\"feature1\": 0.54, \"feature2\": 0.0, \"predict\": false}, {\"feature1\": 0.54, \"feature2\": 0.02, \"predict\": false}, {\"feature1\": 0.54, \"feature2\": 0.04, \"predict\": false}, {\"feature1\": 0.54, \"feature2\": 0.06, \"predict\": false}, {\"feature1\": 0.54, \"feature2\": 0.08, \"predict\": false}, {\"feature1\": 0.54, \"feature2\": 0.1, \"predict\": false}, {\"feature1\": 0.54, \"feature2\": 0.12, \"predict\": false}, {\"feature1\": 0.54, \"feature2\": 0.14, \"predict\": true}, {\"feature1\": 0.54, \"feature2\": 0.16, \"predict\": true}, {\"feature1\": 0.54, \"feature2\": 0.18, \"predict\": true}, {\"feature1\": 0.54, \"feature2\": 0.2, \"predict\": true}, {\"feature1\": 0.54, \"feature2\": 0.22, \"predict\": true}, {\"feature1\": 0.54, \"feature2\": 0.24, \"predict\": true}, {\"feature1\": 0.54, \"feature2\": 0.26, \"predict\": true}, {\"feature1\": 0.54, \"feature2\": 0.28, \"predict\": true}, {\"feature1\": 0.54, \"feature2\": 0.3, \"predict\": true}, {\"feature1\": 0.54, \"feature2\": 0.32, \"predict\": true}, {\"feature1\": 0.54, \"feature2\": 0.34, \"predict\": true}, {\"feature1\": 0.54, \"feature2\": 0.36, \"predict\": true}, {\"feature1\": 0.54, \"feature2\": 0.38, \"predict\": true}, {\"feature1\": 0.54, \"feature2\": 0.4, \"predict\": true}, {\"feature1\": 0.54, \"feature2\": 0.42, \"predict\": true}, {\"feature1\": 0.54, \"feature2\": 0.44, \"predict\": true}, {\"feature1\": 0.54, \"feature2\": 0.46, \"predict\": true}, {\"feature1\": 0.54, \"feature2\": 0.48, \"predict\": true}, {\"feature1\": 0.54, \"feature2\": 0.5, \"predict\": true}, {\"feature1\": 0.54, \"feature2\": 0.52, \"predict\": true}, {\"feature1\": 0.54, \"feature2\": 0.54, \"predict\": true}, {\"feature1\": 0.54, \"feature2\": 0.56, \"predict\": true}, {\"feature1\": 0.54, \"feature2\": 0.58, \"predict\": true}, {\"feature1\": 0.54, \"feature2\": 0.6, \"predict\": true}, {\"feature1\": 0.54, \"feature2\": 0.62, \"predict\": true}, {\"feature1\": 0.54, \"feature2\": 0.64, \"predict\": true}, {\"feature1\": 0.54, \"feature2\": 0.66, \"predict\": true}, {\"feature1\": 0.54, \"feature2\": 0.68, \"predict\": true}, {\"feature1\": 0.54, \"feature2\": 0.7, \"predict\": true}, {\"feature1\": 0.54, \"feature2\": 0.72, \"predict\": true}, {\"feature1\": 0.54, \"feature2\": 0.74, \"predict\": true}, {\"feature1\": 0.54, \"feature2\": 0.76, \"predict\": true}, {\"feature1\": 0.54, \"feature2\": 0.78, \"predict\": true}, {\"feature1\": 0.54, \"feature2\": 0.8, \"predict\": true}, {\"feature1\": 0.54, \"feature2\": 0.82, \"predict\": true}, {\"feature1\": 0.54, \"feature2\": 0.84, \"predict\": true}, {\"feature1\": 0.54, \"feature2\": 0.86, \"predict\": true}, {\"feature1\": 0.54, \"feature2\": 0.88, \"predict\": true}, {\"feature1\": 0.54, \"feature2\": 0.9, \"predict\": true}, {\"feature1\": 0.54, \"feature2\": 0.92, \"predict\": true}, {\"feature1\": 0.54, \"feature2\": 0.94, \"predict\": true}, {\"feature1\": 0.54, \"feature2\": 0.96, \"predict\": true}, {\"feature1\": 0.54, \"feature2\": 0.98, \"predict\": true}, {\"feature1\": 0.56, \"feature2\": 0.0, \"predict\": false}, {\"feature1\": 0.56, \"feature2\": 0.02, \"predict\": false}, {\"feature1\": 0.56, \"feature2\": 0.04, \"predict\": false}, {\"feature1\": 0.56, \"feature2\": 0.06, \"predict\": false}, {\"feature1\": 0.56, \"feature2\": 0.08, \"predict\": false}, {\"feature1\": 0.56, \"feature2\": 0.1, \"predict\": false}, {\"feature1\": 0.56, \"feature2\": 0.12, \"predict\": true}, {\"feature1\": 0.56, \"feature2\": 0.14, \"predict\": true}, {\"feature1\": 0.56, \"feature2\": 0.16, \"predict\": true}, {\"feature1\": 0.56, \"feature2\": 0.18, \"predict\": true}, {\"feature1\": 0.56, \"feature2\": 0.2, \"predict\": true}, {\"feature1\": 0.56, \"feature2\": 0.22, \"predict\": true}, {\"feature1\": 0.56, \"feature2\": 0.24, \"predict\": true}, {\"feature1\": 0.56, \"feature2\": 0.26, \"predict\": true}, {\"feature1\": 0.56, \"feature2\": 0.28, \"predict\": true}, {\"feature1\": 0.56, \"feature2\": 0.3, \"predict\": true}, {\"feature1\": 0.56, \"feature2\": 0.32, \"predict\": true}, {\"feature1\": 0.56, \"feature2\": 0.34, \"predict\": true}, {\"feature1\": 0.56, \"feature2\": 0.36, \"predict\": true}, {\"feature1\": 0.56, \"feature2\": 0.38, \"predict\": true}, {\"feature1\": 0.56, \"feature2\": 0.4, \"predict\": true}, {\"feature1\": 0.56, \"feature2\": 0.42, \"predict\": true}, {\"feature1\": 0.56, \"feature2\": 0.44, \"predict\": true}, {\"feature1\": 0.56, \"feature2\": 0.46, \"predict\": true}, {\"feature1\": 0.56, \"feature2\": 0.48, \"predict\": true}, {\"feature1\": 0.56, \"feature2\": 0.5, \"predict\": true}, {\"feature1\": 0.56, \"feature2\": 0.52, \"predict\": true}, {\"feature1\": 0.56, \"feature2\": 0.54, \"predict\": true}, {\"feature1\": 0.56, \"feature2\": 0.56, \"predict\": true}, {\"feature1\": 0.56, \"feature2\": 0.58, \"predict\": true}, {\"feature1\": 0.56, \"feature2\": 0.6, \"predict\": true}, {\"feature1\": 0.56, \"feature2\": 0.62, \"predict\": true}, {\"feature1\": 0.56, \"feature2\": 0.64, \"predict\": true}, {\"feature1\": 0.56, \"feature2\": 0.66, \"predict\": true}, {\"feature1\": 0.56, \"feature2\": 0.68, \"predict\": true}, {\"feature1\": 0.56, \"feature2\": 0.7, \"predict\": true}, {\"feature1\": 0.56, \"feature2\": 0.72, \"predict\": true}, {\"feature1\": 0.56, \"feature2\": 0.74, \"predict\": true}, {\"feature1\": 0.56, \"feature2\": 0.76, \"predict\": true}, {\"feature1\": 0.56, \"feature2\": 0.78, \"predict\": true}, {\"feature1\": 0.56, \"feature2\": 0.8, \"predict\": true}, {\"feature1\": 0.56, \"feature2\": 0.82, \"predict\": true}, {\"feature1\": 0.56, \"feature2\": 0.84, \"predict\": true}, {\"feature1\": 0.56, \"feature2\": 0.86, \"predict\": true}, {\"feature1\": 0.56, \"feature2\": 0.88, \"predict\": true}, {\"feature1\": 0.56, \"feature2\": 0.9, \"predict\": true}, {\"feature1\": 0.56, \"feature2\": 0.92, \"predict\": true}, {\"feature1\": 0.56, \"feature2\": 0.94, \"predict\": true}, {\"feature1\": 0.56, \"feature2\": 0.96, \"predict\": true}, {\"feature1\": 0.56, \"feature2\": 0.98, \"predict\": true}, {\"feature1\": 0.58, \"feature2\": 0.0, \"predict\": false}, {\"feature1\": 0.58, \"feature2\": 0.02, \"predict\": false}, {\"feature1\": 0.58, \"feature2\": 0.04, \"predict\": false}, {\"feature1\": 0.58, \"feature2\": 0.06, \"predict\": false}, {\"feature1\": 0.58, \"feature2\": 0.08, \"predict\": true}, {\"feature1\": 0.58, \"feature2\": 0.1, \"predict\": true}, {\"feature1\": 0.58, \"feature2\": 0.12, \"predict\": true}, {\"feature1\": 0.58, \"feature2\": 0.14, \"predict\": true}, {\"feature1\": 0.58, \"feature2\": 0.16, \"predict\": true}, {\"feature1\": 0.58, \"feature2\": 0.18, \"predict\": true}, {\"feature1\": 0.58, \"feature2\": 0.2, \"predict\": true}, {\"feature1\": 0.58, \"feature2\": 0.22, \"predict\": true}, {\"feature1\": 0.58, \"feature2\": 0.24, \"predict\": true}, {\"feature1\": 0.58, \"feature2\": 0.26, \"predict\": true}, {\"feature1\": 0.58, \"feature2\": 0.28, \"predict\": true}, {\"feature1\": 0.58, \"feature2\": 0.3, \"predict\": true}, {\"feature1\": 0.58, \"feature2\": 0.32, \"predict\": true}, {\"feature1\": 0.58, \"feature2\": 0.34, \"predict\": true}, {\"feature1\": 0.58, \"feature2\": 0.36, \"predict\": true}, {\"feature1\": 0.58, \"feature2\": 0.38, \"predict\": true}, {\"feature1\": 0.58, \"feature2\": 0.4, \"predict\": true}, {\"feature1\": 0.58, \"feature2\": 0.42, \"predict\": true}, {\"feature1\": 0.58, \"feature2\": 0.44, \"predict\": true}, {\"feature1\": 0.58, \"feature2\": 0.46, \"predict\": true}, {\"feature1\": 0.58, \"feature2\": 0.48, \"predict\": true}, {\"feature1\": 0.58, \"feature2\": 0.5, \"predict\": true}, {\"feature1\": 0.58, \"feature2\": 0.52, \"predict\": true}, {\"feature1\": 0.58, \"feature2\": 0.54, \"predict\": true}, {\"feature1\": 0.58, \"feature2\": 0.56, \"predict\": true}, {\"feature1\": 0.58, \"feature2\": 0.58, \"predict\": true}, {\"feature1\": 0.58, \"feature2\": 0.6, \"predict\": true}, {\"feature1\": 0.58, \"feature2\": 0.62, \"predict\": true}, {\"feature1\": 0.58, \"feature2\": 0.64, \"predict\": true}, {\"feature1\": 0.58, \"feature2\": 0.66, \"predict\": true}, {\"feature1\": 0.58, \"feature2\": 0.68, \"predict\": true}, {\"feature1\": 0.58, \"feature2\": 0.7, \"predict\": true}, {\"feature1\": 0.58, \"feature2\": 0.72, \"predict\": true}, {\"feature1\": 0.58, \"feature2\": 0.74, \"predict\": true}, {\"feature1\": 0.58, \"feature2\": 0.76, \"predict\": true}, {\"feature1\": 0.58, \"feature2\": 0.78, \"predict\": true}, {\"feature1\": 0.58, \"feature2\": 0.8, \"predict\": true}, {\"feature1\": 0.58, \"feature2\": 0.82, \"predict\": true}, {\"feature1\": 0.58, \"feature2\": 0.84, \"predict\": true}, {\"feature1\": 0.58, \"feature2\": 0.86, \"predict\": true}, {\"feature1\": 0.58, \"feature2\": 0.88, \"predict\": true}, {\"feature1\": 0.58, \"feature2\": 0.9, \"predict\": true}, {\"feature1\": 0.58, \"feature2\": 0.92, \"predict\": true}, {\"feature1\": 0.58, \"feature2\": 0.94, \"predict\": true}, {\"feature1\": 0.58, \"feature2\": 0.96, \"predict\": true}, {\"feature1\": 0.58, \"feature2\": 0.98, \"predict\": true}, {\"feature1\": 0.6, \"feature2\": 0.0, \"predict\": false}, {\"feature1\": 0.6, \"feature2\": 0.02, \"predict\": false}, {\"feature1\": 0.6, \"feature2\": 0.04, \"predict\": false}, {\"feature1\": 0.6, \"feature2\": 0.06, \"predict\": true}, {\"feature1\": 0.6, \"feature2\": 0.08, \"predict\": true}, {\"feature1\": 0.6, \"feature2\": 0.1, \"predict\": true}, {\"feature1\": 0.6, \"feature2\": 0.12, \"predict\": true}, {\"feature1\": 0.6, \"feature2\": 0.14, \"predict\": true}, {\"feature1\": 0.6, \"feature2\": 0.16, \"predict\": true}, {\"feature1\": 0.6, \"feature2\": 0.18, \"predict\": true}, {\"feature1\": 0.6, \"feature2\": 0.2, \"predict\": true}, {\"feature1\": 0.6, \"feature2\": 0.22, \"predict\": true}, {\"feature1\": 0.6, \"feature2\": 0.24, \"predict\": true}, {\"feature1\": 0.6, \"feature2\": 0.26, \"predict\": true}, {\"feature1\": 0.6, \"feature2\": 0.28, \"predict\": true}, {\"feature1\": 0.6, \"feature2\": 0.3, \"predict\": true}, {\"feature1\": 0.6, \"feature2\": 0.32, \"predict\": true}, {\"feature1\": 0.6, \"feature2\": 0.34, \"predict\": true}, {\"feature1\": 0.6, \"feature2\": 0.36, \"predict\": true}, {\"feature1\": 0.6, \"feature2\": 0.38, \"predict\": true}, {\"feature1\": 0.6, \"feature2\": 0.4, \"predict\": true}, {\"feature1\": 0.6, \"feature2\": 0.42, \"predict\": true}, {\"feature1\": 0.6, \"feature2\": 0.44, \"predict\": true}, {\"feature1\": 0.6, \"feature2\": 0.46, \"predict\": true}, {\"feature1\": 0.6, \"feature2\": 0.48, \"predict\": true}, {\"feature1\": 0.6, \"feature2\": 0.5, \"predict\": true}, {\"feature1\": 0.6, \"feature2\": 0.52, \"predict\": true}, {\"feature1\": 0.6, \"feature2\": 0.54, \"predict\": true}, {\"feature1\": 0.6, \"feature2\": 0.56, \"predict\": true}, {\"feature1\": 0.6, \"feature2\": 0.58, \"predict\": true}, {\"feature1\": 0.6, \"feature2\": 0.6, \"predict\": true}, {\"feature1\": 0.6, \"feature2\": 0.62, \"predict\": true}, {\"feature1\": 0.6, \"feature2\": 0.64, \"predict\": true}, {\"feature1\": 0.6, \"feature2\": 0.66, \"predict\": true}, {\"feature1\": 0.6, \"feature2\": 0.68, \"predict\": true}, {\"feature1\": 0.6, \"feature2\": 0.7, \"predict\": true}, {\"feature1\": 0.6, \"feature2\": 0.72, \"predict\": true}, {\"feature1\": 0.6, \"feature2\": 0.74, \"predict\": true}, {\"feature1\": 0.6, \"feature2\": 0.76, \"predict\": true}, {\"feature1\": 0.6, \"feature2\": 0.78, \"predict\": true}, {\"feature1\": 0.6, \"feature2\": 0.8, \"predict\": true}, {\"feature1\": 0.6, \"feature2\": 0.82, \"predict\": true}, {\"feature1\": 0.6, \"feature2\": 0.84, \"predict\": true}, {\"feature1\": 0.6, \"feature2\": 0.86, \"predict\": true}, {\"feature1\": 0.6, \"feature2\": 0.88, \"predict\": true}, {\"feature1\": 0.6, \"feature2\": 0.9, \"predict\": true}, {\"feature1\": 0.6, \"feature2\": 0.92, \"predict\": true}, {\"feature1\": 0.6, \"feature2\": 0.94, \"predict\": true}, {\"feature1\": 0.6, \"feature2\": 0.96, \"predict\": true}, {\"feature1\": 0.6, \"feature2\": 0.98, \"predict\": true}, {\"feature1\": 0.62, \"feature2\": 0.0, \"predict\": false}, {\"feature1\": 0.62, \"feature2\": 0.02, \"predict\": false}, {\"feature1\": 0.62, \"feature2\": 0.04, \"predict\": true}, {\"feature1\": 0.62, \"feature2\": 0.06, \"predict\": true}, {\"feature1\": 0.62, \"feature2\": 0.08, \"predict\": true}, {\"feature1\": 0.62, \"feature2\": 0.1, \"predict\": true}, {\"feature1\": 0.62, \"feature2\": 0.12, \"predict\": true}, {\"feature1\": 0.62, \"feature2\": 0.14, \"predict\": true}, {\"feature1\": 0.62, \"feature2\": 0.16, \"predict\": true}, {\"feature1\": 0.62, \"feature2\": 0.18, \"predict\": true}, {\"feature1\": 0.62, \"feature2\": 0.2, \"predict\": true}, {\"feature1\": 0.62, \"feature2\": 0.22, \"predict\": true}, {\"feature1\": 0.62, \"feature2\": 0.24, \"predict\": true}, {\"feature1\": 0.62, \"feature2\": 0.26, \"predict\": true}, {\"feature1\": 0.62, \"feature2\": 0.28, \"predict\": true}, {\"feature1\": 0.62, \"feature2\": 0.3, \"predict\": true}, {\"feature1\": 0.62, \"feature2\": 0.32, \"predict\": true}, {\"feature1\": 0.62, \"feature2\": 0.34, \"predict\": true}, {\"feature1\": 0.62, \"feature2\": 0.36, \"predict\": true}, {\"feature1\": 0.62, \"feature2\": 0.38, \"predict\": true}, {\"feature1\": 0.62, \"feature2\": 0.4, \"predict\": true}, {\"feature1\": 0.62, \"feature2\": 0.42, \"predict\": true}, {\"feature1\": 0.62, \"feature2\": 0.44, \"predict\": true}, {\"feature1\": 0.62, \"feature2\": 0.46, \"predict\": true}, {\"feature1\": 0.62, \"feature2\": 0.48, \"predict\": true}, {\"feature1\": 0.62, \"feature2\": 0.5, \"predict\": true}, {\"feature1\": 0.62, \"feature2\": 0.52, \"predict\": true}, {\"feature1\": 0.62, \"feature2\": 0.54, \"predict\": true}, {\"feature1\": 0.62, \"feature2\": 0.56, \"predict\": true}, {\"feature1\": 0.62, \"feature2\": 0.58, \"predict\": true}, {\"feature1\": 0.62, \"feature2\": 0.6, \"predict\": true}, {\"feature1\": 0.62, \"feature2\": 0.62, \"predict\": true}, {\"feature1\": 0.62, \"feature2\": 0.64, \"predict\": true}, {\"feature1\": 0.62, \"feature2\": 0.66, \"predict\": true}, {\"feature1\": 0.62, \"feature2\": 0.68, \"predict\": true}, {\"feature1\": 0.62, \"feature2\": 0.7, \"predict\": true}, {\"feature1\": 0.62, \"feature2\": 0.72, \"predict\": true}, {\"feature1\": 0.62, \"feature2\": 0.74, \"predict\": true}, {\"feature1\": 0.62, \"feature2\": 0.76, \"predict\": true}, {\"feature1\": 0.62, \"feature2\": 0.78, \"predict\": true}, {\"feature1\": 0.62, \"feature2\": 0.8, \"predict\": true}, {\"feature1\": 0.62, \"feature2\": 0.82, \"predict\": true}, {\"feature1\": 0.62, \"feature2\": 0.84, \"predict\": true}, {\"feature1\": 0.62, \"feature2\": 0.86, \"predict\": true}, {\"feature1\": 0.62, \"feature2\": 0.88, \"predict\": true}, {\"feature1\": 0.62, \"feature2\": 0.9, \"predict\": true}, {\"feature1\": 0.62, \"feature2\": 0.92, \"predict\": true}, {\"feature1\": 0.62, \"feature2\": 0.94, \"predict\": true}, {\"feature1\": 0.62, \"feature2\": 0.96, \"predict\": true}, {\"feature1\": 0.62, \"feature2\": 0.98, \"predict\": true}, {\"feature1\": 0.64, \"feature2\": 0.0, \"predict\": false}, {\"feature1\": 0.64, \"feature2\": 0.02, \"predict\": true}, {\"feature1\": 0.64, \"feature2\": 0.04, \"predict\": true}, {\"feature1\": 0.64, \"feature2\": 0.06, \"predict\": true}, {\"feature1\": 0.64, \"feature2\": 0.08, \"predict\": true}, {\"feature1\": 0.64, \"feature2\": 0.1, \"predict\": true}, {\"feature1\": 0.64, \"feature2\": 0.12, \"predict\": true}, {\"feature1\": 0.64, \"feature2\": 0.14, \"predict\": true}, {\"feature1\": 0.64, \"feature2\": 0.16, \"predict\": true}, {\"feature1\": 0.64, \"feature2\": 0.18, \"predict\": true}, {\"feature1\": 0.64, \"feature2\": 0.2, \"predict\": true}, {\"feature1\": 0.64, \"feature2\": 0.22, \"predict\": true}, {\"feature1\": 0.64, \"feature2\": 0.24, \"predict\": true}, {\"feature1\": 0.64, \"feature2\": 0.26, \"predict\": true}, {\"feature1\": 0.64, \"feature2\": 0.28, \"predict\": true}, {\"feature1\": 0.64, \"feature2\": 0.3, \"predict\": true}, {\"feature1\": 0.64, \"feature2\": 0.32, \"predict\": true}, {\"feature1\": 0.64, \"feature2\": 0.34, \"predict\": true}, {\"feature1\": 0.64, \"feature2\": 0.36, \"predict\": true}, {\"feature1\": 0.64, \"feature2\": 0.38, \"predict\": true}, {\"feature1\": 0.64, \"feature2\": 0.4, \"predict\": true}, {\"feature1\": 0.64, \"feature2\": 0.42, \"predict\": true}, {\"feature1\": 0.64, \"feature2\": 0.44, \"predict\": true}, {\"feature1\": 0.64, \"feature2\": 0.46, \"predict\": true}, {\"feature1\": 0.64, \"feature2\": 0.48, \"predict\": true}, {\"feature1\": 0.64, \"feature2\": 0.5, \"predict\": true}, {\"feature1\": 0.64, \"feature2\": 0.52, \"predict\": true}, {\"feature1\": 0.64, \"feature2\": 0.54, \"predict\": true}, {\"feature1\": 0.64, \"feature2\": 0.56, \"predict\": true}, {\"feature1\": 0.64, \"feature2\": 0.58, \"predict\": true}, {\"feature1\": 0.64, \"feature2\": 0.6, \"predict\": true}, {\"feature1\": 0.64, \"feature2\": 0.62, \"predict\": true}, {\"feature1\": 0.64, \"feature2\": 0.64, \"predict\": true}, {\"feature1\": 0.64, \"feature2\": 0.66, \"predict\": true}, {\"feature1\": 0.64, \"feature2\": 0.68, \"predict\": true}, {\"feature1\": 0.64, \"feature2\": 0.7, \"predict\": true}, {\"feature1\": 0.64, \"feature2\": 0.72, \"predict\": true}, {\"feature1\": 0.64, \"feature2\": 0.74, \"predict\": true}, {\"feature1\": 0.64, \"feature2\": 0.76, \"predict\": true}, {\"feature1\": 0.64, \"feature2\": 0.78, \"predict\": true}, {\"feature1\": 0.64, \"feature2\": 0.8, \"predict\": true}, {\"feature1\": 0.64, \"feature2\": 0.82, \"predict\": true}, {\"feature1\": 0.64, \"feature2\": 0.84, \"predict\": true}, {\"feature1\": 0.64, \"feature2\": 0.86, \"predict\": true}, {\"feature1\": 0.64, \"feature2\": 0.88, \"predict\": true}, {\"feature1\": 0.64, \"feature2\": 0.9, \"predict\": true}, {\"feature1\": 0.64, \"feature2\": 0.92, \"predict\": true}, {\"feature1\": 0.64, \"feature2\": 0.94, \"predict\": true}, {\"feature1\": 0.64, \"feature2\": 0.96, \"predict\": true}, {\"feature1\": 0.64, \"feature2\": 0.98, \"predict\": true}, {\"feature1\": 0.66, \"feature2\": 0.0, \"predict\": true}, {\"feature1\": 0.66, \"feature2\": 0.02, \"predict\": true}, {\"feature1\": 0.66, \"feature2\": 0.04, \"predict\": true}, {\"feature1\": 0.66, \"feature2\": 0.06, \"predict\": true}, {\"feature1\": 0.66, \"feature2\": 0.08, \"predict\": true}, {\"feature1\": 0.66, \"feature2\": 0.1, \"predict\": true}, {\"feature1\": 0.66, \"feature2\": 0.12, \"predict\": true}, {\"feature1\": 0.66, \"feature2\": 0.14, \"predict\": true}, {\"feature1\": 0.66, \"feature2\": 0.16, \"predict\": true}, {\"feature1\": 0.66, \"feature2\": 0.18, \"predict\": true}, {\"feature1\": 0.66, \"feature2\": 0.2, \"predict\": true}, {\"feature1\": 0.66, \"feature2\": 0.22, \"predict\": true}, {\"feature1\": 0.66, \"feature2\": 0.24, \"predict\": true}, {\"feature1\": 0.66, \"feature2\": 0.26, \"predict\": true}, {\"feature1\": 0.66, \"feature2\": 0.28, \"predict\": true}, {\"feature1\": 0.66, \"feature2\": 0.3, \"predict\": true}, {\"feature1\": 0.66, \"feature2\": 0.32, \"predict\": true}, {\"feature1\": 0.66, \"feature2\": 0.34, \"predict\": true}, {\"feature1\": 0.66, \"feature2\": 0.36, \"predict\": true}, {\"feature1\": 0.66, \"feature2\": 0.38, \"predict\": true}, {\"feature1\": 0.66, \"feature2\": 0.4, \"predict\": true}, {\"feature1\": 0.66, \"feature2\": 0.42, \"predict\": true}, {\"feature1\": 0.66, \"feature2\": 0.44, \"predict\": true}, {\"feature1\": 0.66, \"feature2\": 0.46, \"predict\": true}, {\"feature1\": 0.66, \"feature2\": 0.48, \"predict\": true}, {\"feature1\": 0.66, \"feature2\": 0.5, \"predict\": true}, {\"feature1\": 0.66, \"feature2\": 0.52, \"predict\": true}, {\"feature1\": 0.66, \"feature2\": 0.54, \"predict\": true}, {\"feature1\": 0.66, \"feature2\": 0.56, \"predict\": true}, {\"feature1\": 0.66, \"feature2\": 0.58, \"predict\": true}, {\"feature1\": 0.66, \"feature2\": 0.6, \"predict\": true}, {\"feature1\": 0.66, \"feature2\": 0.62, \"predict\": true}, {\"feature1\": 0.66, \"feature2\": 0.64, \"predict\": true}, {\"feature1\": 0.66, \"feature2\": 0.66, \"predict\": true}, {\"feature1\": 0.66, \"feature2\": 0.68, \"predict\": true}, {\"feature1\": 0.66, \"feature2\": 0.7, \"predict\": true}, {\"feature1\": 0.66, \"feature2\": 0.72, \"predict\": true}, {\"feature1\": 0.66, \"feature2\": 0.74, \"predict\": true}, {\"feature1\": 0.66, \"feature2\": 0.76, \"predict\": true}, {\"feature1\": 0.66, \"feature2\": 0.78, \"predict\": true}, {\"feature1\": 0.66, \"feature2\": 0.8, \"predict\": true}, {\"feature1\": 0.66, \"feature2\": 0.82, \"predict\": true}, {\"feature1\": 0.66, \"feature2\": 0.84, \"predict\": true}, {\"feature1\": 0.66, \"feature2\": 0.86, \"predict\": true}, {\"feature1\": 0.66, \"feature2\": 0.88, \"predict\": true}, {\"feature1\": 0.66, \"feature2\": 0.9, \"predict\": true}, {\"feature1\": 0.66, \"feature2\": 0.92, \"predict\": true}, {\"feature1\": 0.66, \"feature2\": 0.94, \"predict\": true}, {\"feature1\": 0.66, \"feature2\": 0.96, \"predict\": true}, {\"feature1\": 0.66, \"feature2\": 0.98, \"predict\": true}, {\"feature1\": 0.68, \"feature2\": 0.0, \"predict\": true}, {\"feature1\": 0.68, \"feature2\": 0.02, \"predict\": true}, {\"feature1\": 0.68, \"feature2\": 0.04, \"predict\": true}, {\"feature1\": 0.68, \"feature2\": 0.06, \"predict\": true}, {\"feature1\": 0.68, \"feature2\": 0.08, \"predict\": true}, {\"feature1\": 0.68, \"feature2\": 0.1, \"predict\": true}, {\"feature1\": 0.68, \"feature2\": 0.12, \"predict\": true}, {\"feature1\": 0.68, \"feature2\": 0.14, \"predict\": true}, {\"feature1\": 0.68, \"feature2\": 0.16, \"predict\": true}, {\"feature1\": 0.68, \"feature2\": 0.18, \"predict\": true}, {\"feature1\": 0.68, \"feature2\": 0.2, \"predict\": true}, {\"feature1\": 0.68, \"feature2\": 0.22, \"predict\": true}, {\"feature1\": 0.68, \"feature2\": 0.24, \"predict\": true}, {\"feature1\": 0.68, \"feature2\": 0.26, \"predict\": true}, {\"feature1\": 0.68, \"feature2\": 0.28, \"predict\": true}, {\"feature1\": 0.68, \"feature2\": 0.3, \"predict\": true}, {\"feature1\": 0.68, \"feature2\": 0.32, \"predict\": true}, {\"feature1\": 0.68, \"feature2\": 0.34, \"predict\": true}, {\"feature1\": 0.68, \"feature2\": 0.36, \"predict\": true}, {\"feature1\": 0.68, \"feature2\": 0.38, \"predict\": true}, {\"feature1\": 0.68, \"feature2\": 0.4, \"predict\": true}, {\"feature1\": 0.68, \"feature2\": 0.42, \"predict\": true}, {\"feature1\": 0.68, \"feature2\": 0.44, \"predict\": true}, {\"feature1\": 0.68, \"feature2\": 0.46, \"predict\": true}, {\"feature1\": 0.68, \"feature2\": 0.48, \"predict\": true}, {\"feature1\": 0.68, \"feature2\": 0.5, \"predict\": true}, {\"feature1\": 0.68, \"feature2\": 0.52, \"predict\": true}, {\"feature1\": 0.68, \"feature2\": 0.54, \"predict\": true}, {\"feature1\": 0.68, \"feature2\": 0.56, \"predict\": true}, {\"feature1\": 0.68, \"feature2\": 0.58, \"predict\": true}, {\"feature1\": 0.68, \"feature2\": 0.6, \"predict\": true}, {\"feature1\": 0.68, \"feature2\": 0.62, \"predict\": true}, {\"feature1\": 0.68, \"feature2\": 0.64, \"predict\": true}, {\"feature1\": 0.68, \"feature2\": 0.66, \"predict\": true}, {\"feature1\": 0.68, \"feature2\": 0.68, \"predict\": true}, {\"feature1\": 0.68, \"feature2\": 0.7, \"predict\": true}, {\"feature1\": 0.68, \"feature2\": 0.72, \"predict\": true}, {\"feature1\": 0.68, \"feature2\": 0.74, \"predict\": true}, {\"feature1\": 0.68, \"feature2\": 0.76, \"predict\": true}, {\"feature1\": 0.68, \"feature2\": 0.78, \"predict\": true}, {\"feature1\": 0.68, \"feature2\": 0.8, \"predict\": true}, {\"feature1\": 0.68, \"feature2\": 0.82, \"predict\": true}, {\"feature1\": 0.68, \"feature2\": 0.84, \"predict\": true}, {\"feature1\": 0.68, \"feature2\": 0.86, \"predict\": true}, {\"feature1\": 0.68, \"feature2\": 0.88, \"predict\": true}, {\"feature1\": 0.68, \"feature2\": 0.9, \"predict\": true}, {\"feature1\": 0.68, \"feature2\": 0.92, \"predict\": true}, {\"feature1\": 0.68, \"feature2\": 0.94, \"predict\": true}, {\"feature1\": 0.68, \"feature2\": 0.96, \"predict\": true}, {\"feature1\": 0.68, \"feature2\": 0.98, \"predict\": true}, {\"feature1\": 0.7, \"feature2\": 0.0, \"predict\": true}, {\"feature1\": 0.7, \"feature2\": 0.02, \"predict\": true}, {\"feature1\": 0.7, \"feature2\": 0.04, \"predict\": true}, {\"feature1\": 0.7, \"feature2\": 0.06, \"predict\": true}, {\"feature1\": 0.7, \"feature2\": 0.08, \"predict\": true}, {\"feature1\": 0.7, \"feature2\": 0.1, \"predict\": true}, {\"feature1\": 0.7, \"feature2\": 0.12, \"predict\": true}, {\"feature1\": 0.7, \"feature2\": 0.14, \"predict\": true}, {\"feature1\": 0.7, \"feature2\": 0.16, \"predict\": true}, {\"feature1\": 0.7, \"feature2\": 0.18, \"predict\": true}, {\"feature1\": 0.7, \"feature2\": 0.2, \"predict\": true}, {\"feature1\": 0.7, \"feature2\": 0.22, \"predict\": true}, {\"feature1\": 0.7, \"feature2\": 0.24, \"predict\": true}, {\"feature1\": 0.7, \"feature2\": 0.26, \"predict\": true}, {\"feature1\": 0.7, \"feature2\": 0.28, \"predict\": true}, {\"feature1\": 0.7, \"feature2\": 0.3, \"predict\": true}, {\"feature1\": 0.7, \"feature2\": 0.32, \"predict\": true}, {\"feature1\": 0.7, \"feature2\": 0.34, \"predict\": true}, {\"feature1\": 0.7, \"feature2\": 0.36, \"predict\": true}, {\"feature1\": 0.7, \"feature2\": 0.38, \"predict\": true}, {\"feature1\": 0.7, \"feature2\": 0.4, \"predict\": true}, {\"feature1\": 0.7, \"feature2\": 0.42, \"predict\": true}, {\"feature1\": 0.7, \"feature2\": 0.44, \"predict\": true}, {\"feature1\": 0.7, \"feature2\": 0.46, \"predict\": true}, {\"feature1\": 0.7, \"feature2\": 0.48, \"predict\": true}, {\"feature1\": 0.7, \"feature2\": 0.5, \"predict\": true}, {\"feature1\": 0.7, \"feature2\": 0.52, \"predict\": true}, {\"feature1\": 0.7, \"feature2\": 0.54, \"predict\": true}, {\"feature1\": 0.7, \"feature2\": 0.56, \"predict\": true}, {\"feature1\": 0.7, \"feature2\": 0.58, \"predict\": true}, {\"feature1\": 0.7, \"feature2\": 0.6, \"predict\": true}, {\"feature1\": 0.7, \"feature2\": 0.62, \"predict\": true}, {\"feature1\": 0.7, \"feature2\": 0.64, \"predict\": true}, {\"feature1\": 0.7, \"feature2\": 0.66, \"predict\": true}, {\"feature1\": 0.7, \"feature2\": 0.68, \"predict\": true}, {\"feature1\": 0.7, \"feature2\": 0.7, \"predict\": true}, {\"feature1\": 0.7, \"feature2\": 0.72, \"predict\": true}, {\"feature1\": 0.7, \"feature2\": 0.74, \"predict\": true}, {\"feature1\": 0.7, \"feature2\": 0.76, \"predict\": true}, {\"feature1\": 0.7, \"feature2\": 0.78, \"predict\": true}, {\"feature1\": 0.7, \"feature2\": 0.8, \"predict\": true}, {\"feature1\": 0.7, \"feature2\": 0.82, \"predict\": true}, {\"feature1\": 0.7, \"feature2\": 0.84, \"predict\": true}, {\"feature1\": 0.7, \"feature2\": 0.86, \"predict\": true}, {\"feature1\": 0.7, \"feature2\": 0.88, \"predict\": true}, {\"feature1\": 0.7, \"feature2\": 0.9, \"predict\": true}, {\"feature1\": 0.7, \"feature2\": 0.92, \"predict\": true}, {\"feature1\": 0.7, \"feature2\": 0.94, \"predict\": true}, {\"feature1\": 0.7, \"feature2\": 0.96, \"predict\": true}, {\"feature1\": 0.7, \"feature2\": 0.98, \"predict\": true}, {\"feature1\": 0.72, \"feature2\": 0.0, \"predict\": true}, {\"feature1\": 0.72, \"feature2\": 0.02, \"predict\": true}, {\"feature1\": 0.72, \"feature2\": 0.04, \"predict\": true}, {\"feature1\": 0.72, \"feature2\": 0.06, \"predict\": true}, {\"feature1\": 0.72, \"feature2\": 0.08, \"predict\": true}, {\"feature1\": 0.72, \"feature2\": 0.1, \"predict\": true}, {\"feature1\": 0.72, \"feature2\": 0.12, \"predict\": true}, {\"feature1\": 0.72, \"feature2\": 0.14, \"predict\": true}, {\"feature1\": 0.72, \"feature2\": 0.16, \"predict\": true}, {\"feature1\": 0.72, \"feature2\": 0.18, \"predict\": true}, {\"feature1\": 0.72, \"feature2\": 0.2, \"predict\": true}, {\"feature1\": 0.72, \"feature2\": 0.22, \"predict\": true}, {\"feature1\": 0.72, \"feature2\": 0.24, \"predict\": true}, {\"feature1\": 0.72, \"feature2\": 0.26, \"predict\": true}, {\"feature1\": 0.72, \"feature2\": 0.28, \"predict\": true}, {\"feature1\": 0.72, \"feature2\": 0.3, \"predict\": true}, {\"feature1\": 0.72, \"feature2\": 0.32, \"predict\": true}, {\"feature1\": 0.72, \"feature2\": 0.34, \"predict\": true}, {\"feature1\": 0.72, \"feature2\": 0.36, \"predict\": true}, {\"feature1\": 0.72, \"feature2\": 0.38, \"predict\": true}, {\"feature1\": 0.72, \"feature2\": 0.4, \"predict\": true}, {\"feature1\": 0.72, \"feature2\": 0.42, \"predict\": true}, {\"feature1\": 0.72, \"feature2\": 0.44, \"predict\": true}, {\"feature1\": 0.72, \"feature2\": 0.46, \"predict\": true}, {\"feature1\": 0.72, \"feature2\": 0.48, \"predict\": true}, {\"feature1\": 0.72, \"feature2\": 0.5, \"predict\": true}, {\"feature1\": 0.72, \"feature2\": 0.52, \"predict\": true}, {\"feature1\": 0.72, \"feature2\": 0.54, \"predict\": true}, {\"feature1\": 0.72, \"feature2\": 0.56, \"predict\": true}, {\"feature1\": 0.72, \"feature2\": 0.58, \"predict\": true}, {\"feature1\": 0.72, \"feature2\": 0.6, \"predict\": true}, {\"feature1\": 0.72, \"feature2\": 0.62, \"predict\": true}, {\"feature1\": 0.72, \"feature2\": 0.64, \"predict\": true}, {\"feature1\": 0.72, \"feature2\": 0.66, \"predict\": true}, {\"feature1\": 0.72, \"feature2\": 0.68, \"predict\": true}, {\"feature1\": 0.72, \"feature2\": 0.7, \"predict\": true}, {\"feature1\": 0.72, \"feature2\": 0.72, \"predict\": true}, {\"feature1\": 0.72, \"feature2\": 0.74, \"predict\": true}, {\"feature1\": 0.72, \"feature2\": 0.76, \"predict\": true}, {\"feature1\": 0.72, \"feature2\": 0.78, \"predict\": true}, {\"feature1\": 0.72, \"feature2\": 0.8, \"predict\": true}, {\"feature1\": 0.72, \"feature2\": 0.82, \"predict\": true}, {\"feature1\": 0.72, \"feature2\": 0.84, \"predict\": true}, {\"feature1\": 0.72, \"feature2\": 0.86, \"predict\": true}, {\"feature1\": 0.72, \"feature2\": 0.88, \"predict\": true}, {\"feature1\": 0.72, \"feature2\": 0.9, \"predict\": true}, {\"feature1\": 0.72, \"feature2\": 0.92, \"predict\": true}, {\"feature1\": 0.72, \"feature2\": 0.94, \"predict\": true}, {\"feature1\": 0.72, \"feature2\": 0.96, \"predict\": true}, {\"feature1\": 0.72, \"feature2\": 0.98, \"predict\": true}, {\"feature1\": 0.74, \"feature2\": 0.0, \"predict\": true}, {\"feature1\": 0.74, \"feature2\": 0.02, \"predict\": true}, {\"feature1\": 0.74, \"feature2\": 0.04, \"predict\": true}, {\"feature1\": 0.74, \"feature2\": 0.06, \"predict\": true}, {\"feature1\": 0.74, \"feature2\": 0.08, \"predict\": true}, {\"feature1\": 0.74, \"feature2\": 0.1, \"predict\": true}, {\"feature1\": 0.74, \"feature2\": 0.12, \"predict\": true}, {\"feature1\": 0.74, \"feature2\": 0.14, \"predict\": true}, {\"feature1\": 0.74, \"feature2\": 0.16, \"predict\": true}, {\"feature1\": 0.74, \"feature2\": 0.18, \"predict\": true}, {\"feature1\": 0.74, \"feature2\": 0.2, \"predict\": true}, {\"feature1\": 0.74, \"feature2\": 0.22, \"predict\": true}, {\"feature1\": 0.74, \"feature2\": 0.24, \"predict\": true}, {\"feature1\": 0.74, \"feature2\": 0.26, \"predict\": true}, {\"feature1\": 0.74, \"feature2\": 0.28, \"predict\": true}, {\"feature1\": 0.74, \"feature2\": 0.3, \"predict\": true}, {\"feature1\": 0.74, \"feature2\": 0.32, \"predict\": true}, {\"feature1\": 0.74, \"feature2\": 0.34, \"predict\": true}, {\"feature1\": 0.74, \"feature2\": 0.36, \"predict\": true}, {\"feature1\": 0.74, \"feature2\": 0.38, \"predict\": true}, {\"feature1\": 0.74, \"feature2\": 0.4, \"predict\": true}, {\"feature1\": 0.74, \"feature2\": 0.42, \"predict\": true}, {\"feature1\": 0.74, \"feature2\": 0.44, \"predict\": true}, {\"feature1\": 0.74, \"feature2\": 0.46, \"predict\": true}, {\"feature1\": 0.74, \"feature2\": 0.48, \"predict\": true}, {\"feature1\": 0.74, \"feature2\": 0.5, \"predict\": true}, {\"feature1\": 0.74, \"feature2\": 0.52, \"predict\": true}, {\"feature1\": 0.74, \"feature2\": 0.54, \"predict\": true}, {\"feature1\": 0.74, \"feature2\": 0.56, \"predict\": true}, {\"feature1\": 0.74, \"feature2\": 0.58, \"predict\": true}, {\"feature1\": 0.74, \"feature2\": 0.6, \"predict\": true}, {\"feature1\": 0.74, \"feature2\": 0.62, \"predict\": true}, {\"feature1\": 0.74, \"feature2\": 0.64, \"predict\": true}, {\"feature1\": 0.74, \"feature2\": 0.66, \"predict\": true}, {\"feature1\": 0.74, \"feature2\": 0.68, \"predict\": true}, {\"feature1\": 0.74, \"feature2\": 0.7, \"predict\": true}, {\"feature1\": 0.74, \"feature2\": 0.72, \"predict\": true}, {\"feature1\": 0.74, \"feature2\": 0.74, \"predict\": true}, {\"feature1\": 0.74, \"feature2\": 0.76, \"predict\": true}, {\"feature1\": 0.74, \"feature2\": 0.78, \"predict\": true}, {\"feature1\": 0.74, \"feature2\": 0.8, \"predict\": true}, {\"feature1\": 0.74, \"feature2\": 0.82, \"predict\": true}, {\"feature1\": 0.74, \"feature2\": 0.84, \"predict\": true}, {\"feature1\": 0.74, \"feature2\": 0.86, \"predict\": true}, {\"feature1\": 0.74, \"feature2\": 0.88, \"predict\": true}, {\"feature1\": 0.74, \"feature2\": 0.9, \"predict\": true}, {\"feature1\": 0.74, \"feature2\": 0.92, \"predict\": true}, {\"feature1\": 0.74, \"feature2\": 0.94, \"predict\": true}, {\"feature1\": 0.74, \"feature2\": 0.96, \"predict\": true}, {\"feature1\": 0.74, \"feature2\": 0.98, \"predict\": true}, {\"feature1\": 0.76, \"feature2\": 0.0, \"predict\": true}, {\"feature1\": 0.76, \"feature2\": 0.02, \"predict\": true}, {\"feature1\": 0.76, \"feature2\": 0.04, \"predict\": true}, {\"feature1\": 0.76, \"feature2\": 0.06, \"predict\": true}, {\"feature1\": 0.76, \"feature2\": 0.08, \"predict\": true}, {\"feature1\": 0.76, \"feature2\": 0.1, \"predict\": true}, {\"feature1\": 0.76, \"feature2\": 0.12, \"predict\": true}, {\"feature1\": 0.76, \"feature2\": 0.14, \"predict\": true}, {\"feature1\": 0.76, \"feature2\": 0.16, \"predict\": true}, {\"feature1\": 0.76, \"feature2\": 0.18, \"predict\": true}, {\"feature1\": 0.76, \"feature2\": 0.2, \"predict\": true}, {\"feature1\": 0.76, \"feature2\": 0.22, \"predict\": true}, {\"feature1\": 0.76, \"feature2\": 0.24, \"predict\": true}, {\"feature1\": 0.76, \"feature2\": 0.26, \"predict\": true}, {\"feature1\": 0.76, \"feature2\": 0.28, \"predict\": true}, {\"feature1\": 0.76, \"feature2\": 0.3, \"predict\": true}, {\"feature1\": 0.76, \"feature2\": 0.32, \"predict\": true}, {\"feature1\": 0.76, \"feature2\": 0.34, \"predict\": true}, {\"feature1\": 0.76, \"feature2\": 0.36, \"predict\": true}, {\"feature1\": 0.76, \"feature2\": 0.38, \"predict\": true}, {\"feature1\": 0.76, \"feature2\": 0.4, \"predict\": true}, {\"feature1\": 0.76, \"feature2\": 0.42, \"predict\": true}, {\"feature1\": 0.76, \"feature2\": 0.44, \"predict\": true}, {\"feature1\": 0.76, \"feature2\": 0.46, \"predict\": true}, {\"feature1\": 0.76, \"feature2\": 0.48, \"predict\": true}, {\"feature1\": 0.76, \"feature2\": 0.5, \"predict\": true}, {\"feature1\": 0.76, \"feature2\": 0.52, \"predict\": true}, {\"feature1\": 0.76, \"feature2\": 0.54, \"predict\": true}, {\"feature1\": 0.76, \"feature2\": 0.56, \"predict\": true}, {\"feature1\": 0.76, \"feature2\": 0.58, \"predict\": true}, {\"feature1\": 0.76, \"feature2\": 0.6, \"predict\": true}, {\"feature1\": 0.76, \"feature2\": 0.62, \"predict\": true}, {\"feature1\": 0.76, \"feature2\": 0.64, \"predict\": true}, {\"feature1\": 0.76, \"feature2\": 0.66, \"predict\": true}, {\"feature1\": 0.76, \"feature2\": 0.68, \"predict\": true}, {\"feature1\": 0.76, \"feature2\": 0.7, \"predict\": true}, {\"feature1\": 0.76, \"feature2\": 0.72, \"predict\": true}, {\"feature1\": 0.76, \"feature2\": 0.74, \"predict\": true}, {\"feature1\": 0.76, \"feature2\": 0.76, \"predict\": true}, {\"feature1\": 0.76, \"feature2\": 0.78, \"predict\": true}, {\"feature1\": 0.76, \"feature2\": 0.8, \"predict\": true}, {\"feature1\": 0.76, \"feature2\": 0.82, \"predict\": true}, {\"feature1\": 0.76, \"feature2\": 0.84, \"predict\": true}, {\"feature1\": 0.76, \"feature2\": 0.86, \"predict\": true}, {\"feature1\": 0.76, \"feature2\": 0.88, \"predict\": true}, {\"feature1\": 0.76, \"feature2\": 0.9, \"predict\": true}, {\"feature1\": 0.76, \"feature2\": 0.92, \"predict\": true}, {\"feature1\": 0.76, \"feature2\": 0.94, \"predict\": true}, {\"feature1\": 0.76, \"feature2\": 0.96, \"predict\": true}, {\"feature1\": 0.76, \"feature2\": 0.98, \"predict\": true}, {\"feature1\": 0.78, \"feature2\": 0.0, \"predict\": true}, {\"feature1\": 0.78, \"feature2\": 0.02, \"predict\": true}, {\"feature1\": 0.78, \"feature2\": 0.04, \"predict\": true}, {\"feature1\": 0.78, \"feature2\": 0.06, \"predict\": true}, {\"feature1\": 0.78, \"feature2\": 0.08, \"predict\": true}, {\"feature1\": 0.78, \"feature2\": 0.1, \"predict\": true}, {\"feature1\": 0.78, \"feature2\": 0.12, \"predict\": true}, {\"feature1\": 0.78, \"feature2\": 0.14, \"predict\": true}, {\"feature1\": 0.78, \"feature2\": 0.16, \"predict\": true}, {\"feature1\": 0.78, \"feature2\": 0.18, \"predict\": true}, {\"feature1\": 0.78, \"feature2\": 0.2, \"predict\": true}, {\"feature1\": 0.78, \"feature2\": 0.22, \"predict\": true}, {\"feature1\": 0.78, \"feature2\": 0.24, \"predict\": true}, {\"feature1\": 0.78, \"feature2\": 0.26, \"predict\": true}, {\"feature1\": 0.78, \"feature2\": 0.28, \"predict\": true}, {\"feature1\": 0.78, \"feature2\": 0.3, \"predict\": true}, {\"feature1\": 0.78, \"feature2\": 0.32, \"predict\": true}, {\"feature1\": 0.78, \"feature2\": 0.34, \"predict\": true}, {\"feature1\": 0.78, \"feature2\": 0.36, \"predict\": true}, {\"feature1\": 0.78, \"feature2\": 0.38, \"predict\": true}, {\"feature1\": 0.78, \"feature2\": 0.4, \"predict\": true}, {\"feature1\": 0.78, \"feature2\": 0.42, \"predict\": true}, {\"feature1\": 0.78, \"feature2\": 0.44, \"predict\": true}, {\"feature1\": 0.78, \"feature2\": 0.46, \"predict\": true}, {\"feature1\": 0.78, \"feature2\": 0.48, \"predict\": true}, {\"feature1\": 0.78, \"feature2\": 0.5, \"predict\": true}, {\"feature1\": 0.78, \"feature2\": 0.52, \"predict\": true}, {\"feature1\": 0.78, \"feature2\": 0.54, \"predict\": true}, {\"feature1\": 0.78, \"feature2\": 0.56, \"predict\": true}, {\"feature1\": 0.78, \"feature2\": 0.58, \"predict\": true}, {\"feature1\": 0.78, \"feature2\": 0.6, \"predict\": true}, {\"feature1\": 0.78, \"feature2\": 0.62, \"predict\": true}, {\"feature1\": 0.78, \"feature2\": 0.64, \"predict\": true}, {\"feature1\": 0.78, \"feature2\": 0.66, \"predict\": true}, {\"feature1\": 0.78, \"feature2\": 0.68, \"predict\": true}, {\"feature1\": 0.78, \"feature2\": 0.7, \"predict\": true}, {\"feature1\": 0.78, \"feature2\": 0.72, \"predict\": true}, {\"feature1\": 0.78, \"feature2\": 0.74, \"predict\": true}, {\"feature1\": 0.78, \"feature2\": 0.76, \"predict\": true}, {\"feature1\": 0.78, \"feature2\": 0.78, \"predict\": true}, {\"feature1\": 0.78, \"feature2\": 0.8, \"predict\": true}, {\"feature1\": 0.78, \"feature2\": 0.82, \"predict\": true}, {\"feature1\": 0.78, \"feature2\": 0.84, \"predict\": true}, {\"feature1\": 0.78, \"feature2\": 0.86, \"predict\": true}, {\"feature1\": 0.78, \"feature2\": 0.88, \"predict\": true}, {\"feature1\": 0.78, \"feature2\": 0.9, \"predict\": true}, {\"feature1\": 0.78, \"feature2\": 0.92, \"predict\": true}, {\"feature1\": 0.78, \"feature2\": 0.94, \"predict\": true}, {\"feature1\": 0.78, \"feature2\": 0.96, \"predict\": true}, {\"feature1\": 0.78, \"feature2\": 0.98, \"predict\": true}, {\"feature1\": 0.8, \"feature2\": 0.0, \"predict\": true}, {\"feature1\": 0.8, \"feature2\": 0.02, \"predict\": true}, {\"feature1\": 0.8, \"feature2\": 0.04, \"predict\": true}, {\"feature1\": 0.8, \"feature2\": 0.06, \"predict\": true}, {\"feature1\": 0.8, \"feature2\": 0.08, \"predict\": true}, {\"feature1\": 0.8, \"feature2\": 0.1, \"predict\": true}, {\"feature1\": 0.8, \"feature2\": 0.12, \"predict\": true}, {\"feature1\": 0.8, \"feature2\": 0.14, \"predict\": true}, {\"feature1\": 0.8, \"feature2\": 0.16, \"predict\": true}, {\"feature1\": 0.8, \"feature2\": 0.18, \"predict\": true}, {\"feature1\": 0.8, \"feature2\": 0.2, \"predict\": true}, {\"feature1\": 0.8, \"feature2\": 0.22, \"predict\": true}, {\"feature1\": 0.8, \"feature2\": 0.24, \"predict\": true}, {\"feature1\": 0.8, \"feature2\": 0.26, \"predict\": true}, {\"feature1\": 0.8, \"feature2\": 0.28, \"predict\": true}, {\"feature1\": 0.8, \"feature2\": 0.3, \"predict\": true}, {\"feature1\": 0.8, \"feature2\": 0.32, \"predict\": true}, {\"feature1\": 0.8, \"feature2\": 0.34, \"predict\": true}, {\"feature1\": 0.8, \"feature2\": 0.36, \"predict\": true}, {\"feature1\": 0.8, \"feature2\": 0.38, \"predict\": true}, {\"feature1\": 0.8, \"feature2\": 0.4, \"predict\": true}, {\"feature1\": 0.8, \"feature2\": 0.42, \"predict\": true}, {\"feature1\": 0.8, \"feature2\": 0.44, \"predict\": true}, {\"feature1\": 0.8, \"feature2\": 0.46, \"predict\": true}, {\"feature1\": 0.8, \"feature2\": 0.48, \"predict\": true}, {\"feature1\": 0.8, \"feature2\": 0.5, \"predict\": true}, {\"feature1\": 0.8, \"feature2\": 0.52, \"predict\": true}, {\"feature1\": 0.8, \"feature2\": 0.54, \"predict\": true}, {\"feature1\": 0.8, \"feature2\": 0.56, \"predict\": true}, {\"feature1\": 0.8, \"feature2\": 0.58, \"predict\": true}, {\"feature1\": 0.8, \"feature2\": 0.6, \"predict\": true}, {\"feature1\": 0.8, \"feature2\": 0.62, \"predict\": true}, {\"feature1\": 0.8, \"feature2\": 0.64, \"predict\": true}, {\"feature1\": 0.8, \"feature2\": 0.66, \"predict\": true}, {\"feature1\": 0.8, \"feature2\": 0.68, \"predict\": true}, {\"feature1\": 0.8, \"feature2\": 0.7, \"predict\": true}, {\"feature1\": 0.8, \"feature2\": 0.72, \"predict\": true}, {\"feature1\": 0.8, \"feature2\": 0.74, \"predict\": true}, {\"feature1\": 0.8, \"feature2\": 0.76, \"predict\": true}, {\"feature1\": 0.8, \"feature2\": 0.78, \"predict\": true}, {\"feature1\": 0.8, \"feature2\": 0.8, \"predict\": true}, {\"feature1\": 0.8, \"feature2\": 0.82, \"predict\": true}, {\"feature1\": 0.8, \"feature2\": 0.84, \"predict\": true}, {\"feature1\": 0.8, \"feature2\": 0.86, \"predict\": true}, {\"feature1\": 0.8, \"feature2\": 0.88, \"predict\": true}, {\"feature1\": 0.8, \"feature2\": 0.9, \"predict\": true}, {\"feature1\": 0.8, \"feature2\": 0.92, \"predict\": true}, {\"feature1\": 0.8, \"feature2\": 0.94, \"predict\": true}, {\"feature1\": 0.8, \"feature2\": 0.96, \"predict\": true}, {\"feature1\": 0.8, \"feature2\": 0.98, \"predict\": true}, {\"feature1\": 0.82, \"feature2\": 0.0, \"predict\": true}, {\"feature1\": 0.82, \"feature2\": 0.02, \"predict\": true}, {\"feature1\": 0.82, \"feature2\": 0.04, \"predict\": true}, {\"feature1\": 0.82, \"feature2\": 0.06, \"predict\": true}, {\"feature1\": 0.82, \"feature2\": 0.08, \"predict\": true}, {\"feature1\": 0.82, \"feature2\": 0.1, \"predict\": true}, {\"feature1\": 0.82, \"feature2\": 0.12, \"predict\": true}, {\"feature1\": 0.82, \"feature2\": 0.14, \"predict\": true}, {\"feature1\": 0.82, \"feature2\": 0.16, \"predict\": true}, {\"feature1\": 0.82, \"feature2\": 0.18, \"predict\": true}, {\"feature1\": 0.82, \"feature2\": 0.2, \"predict\": true}, {\"feature1\": 0.82, \"feature2\": 0.22, \"predict\": true}, {\"feature1\": 0.82, \"feature2\": 0.24, \"predict\": true}, {\"feature1\": 0.82, \"feature2\": 0.26, \"predict\": true}, {\"feature1\": 0.82, \"feature2\": 0.28, \"predict\": true}, {\"feature1\": 0.82, \"feature2\": 0.3, \"predict\": true}, {\"feature1\": 0.82, \"feature2\": 0.32, \"predict\": true}, {\"feature1\": 0.82, \"feature2\": 0.34, \"predict\": true}, {\"feature1\": 0.82, \"feature2\": 0.36, \"predict\": true}, {\"feature1\": 0.82, \"feature2\": 0.38, \"predict\": true}, {\"feature1\": 0.82, \"feature2\": 0.4, \"predict\": true}, {\"feature1\": 0.82, \"feature2\": 0.42, \"predict\": true}, {\"feature1\": 0.82, \"feature2\": 0.44, \"predict\": true}, {\"feature1\": 0.82, \"feature2\": 0.46, \"predict\": true}, {\"feature1\": 0.82, \"feature2\": 0.48, \"predict\": true}, {\"feature1\": 0.82, \"feature2\": 0.5, \"predict\": true}, {\"feature1\": 0.82, \"feature2\": 0.52, \"predict\": true}, {\"feature1\": 0.82, \"feature2\": 0.54, \"predict\": true}, {\"feature1\": 0.82, \"feature2\": 0.56, \"predict\": true}, {\"feature1\": 0.82, \"feature2\": 0.58, \"predict\": true}, {\"feature1\": 0.82, \"feature2\": 0.6, \"predict\": true}, {\"feature1\": 0.82, \"feature2\": 0.62, \"predict\": true}, {\"feature1\": 0.82, \"feature2\": 0.64, \"predict\": true}, {\"feature1\": 0.82, \"feature2\": 0.66, \"predict\": true}, {\"feature1\": 0.82, \"feature2\": 0.68, \"predict\": true}, {\"feature1\": 0.82, \"feature2\": 0.7, \"predict\": true}, {\"feature1\": 0.82, \"feature2\": 0.72, \"predict\": true}, {\"feature1\": 0.82, \"feature2\": 0.74, \"predict\": true}, {\"feature1\": 0.82, \"feature2\": 0.76, \"predict\": true}, {\"feature1\": 0.82, \"feature2\": 0.78, \"predict\": true}, {\"feature1\": 0.82, \"feature2\": 0.8, \"predict\": true}, {\"feature1\": 0.82, \"feature2\": 0.82, \"predict\": true}, {\"feature1\": 0.82, \"feature2\": 0.84, \"predict\": true}, {\"feature1\": 0.82, \"feature2\": 0.86, \"predict\": true}, {\"feature1\": 0.82, \"feature2\": 0.88, \"predict\": true}, {\"feature1\": 0.82, \"feature2\": 0.9, \"predict\": true}, {\"feature1\": 0.82, \"feature2\": 0.92, \"predict\": true}, {\"feature1\": 0.82, \"feature2\": 0.94, \"predict\": true}, {\"feature1\": 0.82, \"feature2\": 0.96, \"predict\": true}, {\"feature1\": 0.82, \"feature2\": 0.98, \"predict\": true}, {\"feature1\": 0.84, \"feature2\": 0.0, \"predict\": true}, {\"feature1\": 0.84, \"feature2\": 0.02, \"predict\": true}, {\"feature1\": 0.84, \"feature2\": 0.04, \"predict\": true}, {\"feature1\": 0.84, \"feature2\": 0.06, \"predict\": true}, {\"feature1\": 0.84, \"feature2\": 0.08, \"predict\": true}, {\"feature1\": 0.84, \"feature2\": 0.1, \"predict\": true}, {\"feature1\": 0.84, \"feature2\": 0.12, \"predict\": true}, {\"feature1\": 0.84, \"feature2\": 0.14, \"predict\": true}, {\"feature1\": 0.84, \"feature2\": 0.16, \"predict\": true}, {\"feature1\": 0.84, \"feature2\": 0.18, \"predict\": true}, {\"feature1\": 0.84, \"feature2\": 0.2, \"predict\": true}, {\"feature1\": 0.84, \"feature2\": 0.22, \"predict\": true}, {\"feature1\": 0.84, \"feature2\": 0.24, \"predict\": true}, {\"feature1\": 0.84, \"feature2\": 0.26, \"predict\": true}, {\"feature1\": 0.84, \"feature2\": 0.28, \"predict\": true}, {\"feature1\": 0.84, \"feature2\": 0.3, \"predict\": true}, {\"feature1\": 0.84, \"feature2\": 0.32, \"predict\": true}, {\"feature1\": 0.84, \"feature2\": 0.34, \"predict\": true}, {\"feature1\": 0.84, \"feature2\": 0.36, \"predict\": true}, {\"feature1\": 0.84, \"feature2\": 0.38, \"predict\": true}, {\"feature1\": 0.84, \"feature2\": 0.4, \"predict\": true}, {\"feature1\": 0.84, \"feature2\": 0.42, \"predict\": true}, {\"feature1\": 0.84, \"feature2\": 0.44, \"predict\": true}, {\"feature1\": 0.84, \"feature2\": 0.46, \"predict\": true}, {\"feature1\": 0.84, \"feature2\": 0.48, \"predict\": true}, {\"feature1\": 0.84, \"feature2\": 0.5, \"predict\": true}, {\"feature1\": 0.84, \"feature2\": 0.52, \"predict\": true}, {\"feature1\": 0.84, \"feature2\": 0.54, \"predict\": true}, {\"feature1\": 0.84, \"feature2\": 0.56, \"predict\": true}, {\"feature1\": 0.84, \"feature2\": 0.58, \"predict\": true}, {\"feature1\": 0.84, \"feature2\": 0.6, \"predict\": true}, {\"feature1\": 0.84, \"feature2\": 0.62, \"predict\": true}, {\"feature1\": 0.84, \"feature2\": 0.64, \"predict\": true}, {\"feature1\": 0.84, \"feature2\": 0.66, \"predict\": true}, {\"feature1\": 0.84, \"feature2\": 0.68, \"predict\": true}, {\"feature1\": 0.84, \"feature2\": 0.7, \"predict\": true}, {\"feature1\": 0.84, \"feature2\": 0.72, \"predict\": true}, {\"feature1\": 0.84, \"feature2\": 0.74, \"predict\": true}, {\"feature1\": 0.84, \"feature2\": 0.76, \"predict\": true}, {\"feature1\": 0.84, \"feature2\": 0.78, \"predict\": true}, {\"feature1\": 0.84, \"feature2\": 0.8, \"predict\": true}, {\"feature1\": 0.84, \"feature2\": 0.82, \"predict\": true}, {\"feature1\": 0.84, \"feature2\": 0.84, \"predict\": true}, {\"feature1\": 0.84, \"feature2\": 0.86, \"predict\": true}, {\"feature1\": 0.84, \"feature2\": 0.88, \"predict\": true}, {\"feature1\": 0.84, \"feature2\": 0.9, \"predict\": true}, {\"feature1\": 0.84, \"feature2\": 0.92, \"predict\": true}, {\"feature1\": 0.84, \"feature2\": 0.94, \"predict\": true}, {\"feature1\": 0.84, \"feature2\": 0.96, \"predict\": true}, {\"feature1\": 0.84, \"feature2\": 0.98, \"predict\": true}, {\"feature1\": 0.86, \"feature2\": 0.0, \"predict\": true}, {\"feature1\": 0.86, \"feature2\": 0.02, \"predict\": true}, {\"feature1\": 0.86, \"feature2\": 0.04, \"predict\": true}, {\"feature1\": 0.86, \"feature2\": 0.06, \"predict\": true}, {\"feature1\": 0.86, \"feature2\": 0.08, \"predict\": true}, {\"feature1\": 0.86, \"feature2\": 0.1, \"predict\": true}, {\"feature1\": 0.86, \"feature2\": 0.12, \"predict\": true}, {\"feature1\": 0.86, \"feature2\": 0.14, \"predict\": true}, {\"feature1\": 0.86, \"feature2\": 0.16, \"predict\": true}, {\"feature1\": 0.86, \"feature2\": 0.18, \"predict\": true}, {\"feature1\": 0.86, \"feature2\": 0.2, \"predict\": true}, {\"feature1\": 0.86, \"feature2\": 0.22, \"predict\": true}, {\"feature1\": 0.86, \"feature2\": 0.24, \"predict\": true}, {\"feature1\": 0.86, \"feature2\": 0.26, \"predict\": true}, {\"feature1\": 0.86, \"feature2\": 0.28, \"predict\": true}, {\"feature1\": 0.86, \"feature2\": 0.3, \"predict\": true}, {\"feature1\": 0.86, \"feature2\": 0.32, \"predict\": true}, {\"feature1\": 0.86, \"feature2\": 0.34, \"predict\": true}, {\"feature1\": 0.86, \"feature2\": 0.36, \"predict\": true}, {\"feature1\": 0.86, \"feature2\": 0.38, \"predict\": true}, {\"feature1\": 0.86, \"feature2\": 0.4, \"predict\": true}, {\"feature1\": 0.86, \"feature2\": 0.42, \"predict\": true}, {\"feature1\": 0.86, \"feature2\": 0.44, \"predict\": true}, {\"feature1\": 0.86, \"feature2\": 0.46, \"predict\": true}, {\"feature1\": 0.86, \"feature2\": 0.48, \"predict\": true}, {\"feature1\": 0.86, \"feature2\": 0.5, \"predict\": true}, {\"feature1\": 0.86, \"feature2\": 0.52, \"predict\": true}, {\"feature1\": 0.86, \"feature2\": 0.54, \"predict\": true}, {\"feature1\": 0.86, \"feature2\": 0.56, \"predict\": true}, {\"feature1\": 0.86, \"feature2\": 0.58, \"predict\": true}, {\"feature1\": 0.86, \"feature2\": 0.6, \"predict\": true}, {\"feature1\": 0.86, \"feature2\": 0.62, \"predict\": true}, {\"feature1\": 0.86, \"feature2\": 0.64, \"predict\": true}, {\"feature1\": 0.86, \"feature2\": 0.66, \"predict\": true}, {\"feature1\": 0.86, \"feature2\": 0.68, \"predict\": true}, {\"feature1\": 0.86, \"feature2\": 0.7, \"predict\": true}, {\"feature1\": 0.86, \"feature2\": 0.72, \"predict\": true}, {\"feature1\": 0.86, \"feature2\": 0.74, \"predict\": true}, {\"feature1\": 0.86, \"feature2\": 0.76, \"predict\": true}, {\"feature1\": 0.86, \"feature2\": 0.78, \"predict\": true}, {\"feature1\": 0.86, \"feature2\": 0.8, \"predict\": true}, {\"feature1\": 0.86, \"feature2\": 0.82, \"predict\": true}, {\"feature1\": 0.86, \"feature2\": 0.84, \"predict\": true}, {\"feature1\": 0.86, \"feature2\": 0.86, \"predict\": true}, {\"feature1\": 0.86, \"feature2\": 0.88, \"predict\": true}, {\"feature1\": 0.86, \"feature2\": 0.9, \"predict\": true}, {\"feature1\": 0.86, \"feature2\": 0.92, \"predict\": true}, {\"feature1\": 0.86, \"feature2\": 0.94, \"predict\": true}, {\"feature1\": 0.86, \"feature2\": 0.96, \"predict\": true}, {\"feature1\": 0.86, \"feature2\": 0.98, \"predict\": true}, {\"feature1\": 0.88, \"feature2\": 0.0, \"predict\": true}, {\"feature1\": 0.88, \"feature2\": 0.02, \"predict\": true}, {\"feature1\": 0.88, \"feature2\": 0.04, \"predict\": true}, {\"feature1\": 0.88, \"feature2\": 0.06, \"predict\": true}, {\"feature1\": 0.88, \"feature2\": 0.08, \"predict\": true}, {\"feature1\": 0.88, \"feature2\": 0.1, \"predict\": true}, {\"feature1\": 0.88, \"feature2\": 0.12, \"predict\": true}, {\"feature1\": 0.88, \"feature2\": 0.14, \"predict\": true}, {\"feature1\": 0.88, \"feature2\": 0.16, \"predict\": true}, {\"feature1\": 0.88, \"feature2\": 0.18, \"predict\": true}, {\"feature1\": 0.88, \"feature2\": 0.2, \"predict\": true}, {\"feature1\": 0.88, \"feature2\": 0.22, \"predict\": true}, {\"feature1\": 0.88, \"feature2\": 0.24, \"predict\": true}, {\"feature1\": 0.88, \"feature2\": 0.26, \"predict\": true}, {\"feature1\": 0.88, \"feature2\": 0.28, \"predict\": true}, {\"feature1\": 0.88, \"feature2\": 0.3, \"predict\": true}, {\"feature1\": 0.88, \"feature2\": 0.32, \"predict\": true}, {\"feature1\": 0.88, \"feature2\": 0.34, \"predict\": true}, {\"feature1\": 0.88, \"feature2\": 0.36, \"predict\": true}, {\"feature1\": 0.88, \"feature2\": 0.38, \"predict\": true}, {\"feature1\": 0.88, \"feature2\": 0.4, \"predict\": true}, {\"feature1\": 0.88, \"feature2\": 0.42, \"predict\": true}, {\"feature1\": 0.88, \"feature2\": 0.44, \"predict\": true}, {\"feature1\": 0.88, \"feature2\": 0.46, \"predict\": true}, {\"feature1\": 0.88, \"feature2\": 0.48, \"predict\": true}, {\"feature1\": 0.88, \"feature2\": 0.5, \"predict\": true}, {\"feature1\": 0.88, \"feature2\": 0.52, \"predict\": true}, {\"feature1\": 0.88, \"feature2\": 0.54, \"predict\": true}, {\"feature1\": 0.88, \"feature2\": 0.56, \"predict\": true}, {\"feature1\": 0.88, \"feature2\": 0.58, \"predict\": true}, {\"feature1\": 0.88, \"feature2\": 0.6, \"predict\": true}, {\"feature1\": 0.88, \"feature2\": 0.62, \"predict\": true}, {\"feature1\": 0.88, \"feature2\": 0.64, \"predict\": true}, {\"feature1\": 0.88, \"feature2\": 0.66, \"predict\": true}, {\"feature1\": 0.88, \"feature2\": 0.68, \"predict\": true}, {\"feature1\": 0.88, \"feature2\": 0.7, \"predict\": true}, {\"feature1\": 0.88, \"feature2\": 0.72, \"predict\": true}, {\"feature1\": 0.88, \"feature2\": 0.74, \"predict\": true}, {\"feature1\": 0.88, \"feature2\": 0.76, \"predict\": true}, {\"feature1\": 0.88, \"feature2\": 0.78, \"predict\": true}, {\"feature1\": 0.88, \"feature2\": 0.8, \"predict\": true}, {\"feature1\": 0.88, \"feature2\": 0.82, \"predict\": true}, {\"feature1\": 0.88, \"feature2\": 0.84, \"predict\": true}, {\"feature1\": 0.88, \"feature2\": 0.86, \"predict\": true}, {\"feature1\": 0.88, \"feature2\": 0.88, \"predict\": true}, {\"feature1\": 0.88, \"feature2\": 0.9, \"predict\": true}, {\"feature1\": 0.88, \"feature2\": 0.92, \"predict\": true}, {\"feature1\": 0.88, \"feature2\": 0.94, \"predict\": true}, {\"feature1\": 0.88, \"feature2\": 0.96, \"predict\": true}, {\"feature1\": 0.88, \"feature2\": 0.98, \"predict\": true}, {\"feature1\": 0.9, \"feature2\": 0.0, \"predict\": true}, {\"feature1\": 0.9, \"feature2\": 0.02, \"predict\": true}, {\"feature1\": 0.9, \"feature2\": 0.04, \"predict\": true}, {\"feature1\": 0.9, \"feature2\": 0.06, \"predict\": true}, {\"feature1\": 0.9, \"feature2\": 0.08, \"predict\": true}, {\"feature1\": 0.9, \"feature2\": 0.1, \"predict\": true}, {\"feature1\": 0.9, \"feature2\": 0.12, \"predict\": true}, {\"feature1\": 0.9, \"feature2\": 0.14, \"predict\": true}, {\"feature1\": 0.9, \"feature2\": 0.16, \"predict\": true}, {\"feature1\": 0.9, \"feature2\": 0.18, \"predict\": true}, {\"feature1\": 0.9, \"feature2\": 0.2, \"predict\": true}, {\"feature1\": 0.9, \"feature2\": 0.22, \"predict\": true}, {\"feature1\": 0.9, \"feature2\": 0.24, \"predict\": true}, {\"feature1\": 0.9, \"feature2\": 0.26, \"predict\": true}, {\"feature1\": 0.9, \"feature2\": 0.28, \"predict\": true}, {\"feature1\": 0.9, \"feature2\": 0.3, \"predict\": true}, {\"feature1\": 0.9, \"feature2\": 0.32, \"predict\": true}, {\"feature1\": 0.9, \"feature2\": 0.34, \"predict\": true}, {\"feature1\": 0.9, \"feature2\": 0.36, \"predict\": true}, {\"feature1\": 0.9, \"feature2\": 0.38, \"predict\": true}, {\"feature1\": 0.9, \"feature2\": 0.4, \"predict\": true}, {\"feature1\": 0.9, \"feature2\": 0.42, \"predict\": true}, {\"feature1\": 0.9, \"feature2\": 0.44, \"predict\": true}, {\"feature1\": 0.9, \"feature2\": 0.46, \"predict\": true}, {\"feature1\": 0.9, \"feature2\": 0.48, \"predict\": true}, {\"feature1\": 0.9, \"feature2\": 0.5, \"predict\": true}, {\"feature1\": 0.9, \"feature2\": 0.52, \"predict\": true}, {\"feature1\": 0.9, \"feature2\": 0.54, \"predict\": true}, {\"feature1\": 0.9, \"feature2\": 0.56, \"predict\": true}, {\"feature1\": 0.9, \"feature2\": 0.58, \"predict\": true}, {\"feature1\": 0.9, \"feature2\": 0.6, \"predict\": true}, {\"feature1\": 0.9, \"feature2\": 0.62, \"predict\": true}, {\"feature1\": 0.9, \"feature2\": 0.64, \"predict\": true}, {\"feature1\": 0.9, \"feature2\": 0.66, \"predict\": true}, {\"feature1\": 0.9, \"feature2\": 0.68, \"predict\": true}, {\"feature1\": 0.9, \"feature2\": 0.7, \"predict\": true}, {\"feature1\": 0.9, \"feature2\": 0.72, \"predict\": true}, {\"feature1\": 0.9, \"feature2\": 0.74, \"predict\": true}, {\"feature1\": 0.9, \"feature2\": 0.76, \"predict\": true}, {\"feature1\": 0.9, \"feature2\": 0.78, \"predict\": true}, {\"feature1\": 0.9, \"feature2\": 0.8, \"predict\": true}, {\"feature1\": 0.9, \"feature2\": 0.82, \"predict\": true}, {\"feature1\": 0.9, \"feature2\": 0.84, \"predict\": true}, {\"feature1\": 0.9, \"feature2\": 0.86, \"predict\": true}, {\"feature1\": 0.9, \"feature2\": 0.88, \"predict\": true}, {\"feature1\": 0.9, \"feature2\": 0.9, \"predict\": true}, {\"feature1\": 0.9, \"feature2\": 0.92, \"predict\": true}, {\"feature1\": 0.9, \"feature2\": 0.94, \"predict\": true}, {\"feature1\": 0.9, \"feature2\": 0.96, \"predict\": true}, {\"feature1\": 0.9, \"feature2\": 0.98, \"predict\": true}, {\"feature1\": 0.92, \"feature2\": 0.0, \"predict\": true}, {\"feature1\": 0.92, \"feature2\": 0.02, \"predict\": true}, {\"feature1\": 0.92, \"feature2\": 0.04, \"predict\": true}, {\"feature1\": 0.92, \"feature2\": 0.06, \"predict\": true}, {\"feature1\": 0.92, \"feature2\": 0.08, \"predict\": true}, {\"feature1\": 0.92, \"feature2\": 0.1, \"predict\": true}, {\"feature1\": 0.92, \"feature2\": 0.12, \"predict\": true}, {\"feature1\": 0.92, \"feature2\": 0.14, \"predict\": true}, {\"feature1\": 0.92, \"feature2\": 0.16, \"predict\": true}, {\"feature1\": 0.92, \"feature2\": 0.18, \"predict\": true}, {\"feature1\": 0.92, \"feature2\": 0.2, \"predict\": true}, {\"feature1\": 0.92, \"feature2\": 0.22, \"predict\": true}, {\"feature1\": 0.92, \"feature2\": 0.24, \"predict\": true}, {\"feature1\": 0.92, \"feature2\": 0.26, \"predict\": true}, {\"feature1\": 0.92, \"feature2\": 0.28, \"predict\": true}, {\"feature1\": 0.92, \"feature2\": 0.3, \"predict\": true}, {\"feature1\": 0.92, \"feature2\": 0.32, \"predict\": true}, {\"feature1\": 0.92, \"feature2\": 0.34, \"predict\": true}, {\"feature1\": 0.92, \"feature2\": 0.36, \"predict\": true}, {\"feature1\": 0.92, \"feature2\": 0.38, \"predict\": true}, {\"feature1\": 0.92, \"feature2\": 0.4, \"predict\": true}, {\"feature1\": 0.92, \"feature2\": 0.42, \"predict\": true}, {\"feature1\": 0.92, \"feature2\": 0.44, \"predict\": true}, {\"feature1\": 0.92, \"feature2\": 0.46, \"predict\": true}, {\"feature1\": 0.92, \"feature2\": 0.48, \"predict\": true}, {\"feature1\": 0.92, \"feature2\": 0.5, \"predict\": true}, {\"feature1\": 0.92, \"feature2\": 0.52, \"predict\": true}, {\"feature1\": 0.92, \"feature2\": 0.54, \"predict\": true}, {\"feature1\": 0.92, \"feature2\": 0.56, \"predict\": true}, {\"feature1\": 0.92, \"feature2\": 0.58, \"predict\": true}, {\"feature1\": 0.92, \"feature2\": 0.6, \"predict\": true}, {\"feature1\": 0.92, \"feature2\": 0.62, \"predict\": true}, {\"feature1\": 0.92, \"feature2\": 0.64, \"predict\": true}, {\"feature1\": 0.92, \"feature2\": 0.66, \"predict\": true}, {\"feature1\": 0.92, \"feature2\": 0.68, \"predict\": true}, {\"feature1\": 0.92, \"feature2\": 0.7, \"predict\": true}, {\"feature1\": 0.92, \"feature2\": 0.72, \"predict\": true}, {\"feature1\": 0.92, \"feature2\": 0.74, \"predict\": true}, {\"feature1\": 0.92, \"feature2\": 0.76, \"predict\": true}, {\"feature1\": 0.92, \"feature2\": 0.78, \"predict\": true}, {\"feature1\": 0.92, \"feature2\": 0.8, \"predict\": true}, {\"feature1\": 0.92, \"feature2\": 0.82, \"predict\": true}, {\"feature1\": 0.92, \"feature2\": 0.84, \"predict\": true}, {\"feature1\": 0.92, \"feature2\": 0.86, \"predict\": true}, {\"feature1\": 0.92, \"feature2\": 0.88, \"predict\": true}, {\"feature1\": 0.92, \"feature2\": 0.9, \"predict\": true}, {\"feature1\": 0.92, \"feature2\": 0.92, \"predict\": true}, {\"feature1\": 0.92, \"feature2\": 0.94, \"predict\": true}, {\"feature1\": 0.92, \"feature2\": 0.96, \"predict\": true}, {\"feature1\": 0.92, \"feature2\": 0.98, \"predict\": true}, {\"feature1\": 0.94, \"feature2\": 0.0, \"predict\": true}, {\"feature1\": 0.94, \"feature2\": 0.02, \"predict\": true}, {\"feature1\": 0.94, \"feature2\": 0.04, \"predict\": true}, {\"feature1\": 0.94, \"feature2\": 0.06, \"predict\": true}, {\"feature1\": 0.94, \"feature2\": 0.08, \"predict\": true}, {\"feature1\": 0.94, \"feature2\": 0.1, \"predict\": true}, {\"feature1\": 0.94, \"feature2\": 0.12, \"predict\": true}, {\"feature1\": 0.94, \"feature2\": 0.14, \"predict\": true}, {\"feature1\": 0.94, \"feature2\": 0.16, \"predict\": true}, {\"feature1\": 0.94, \"feature2\": 0.18, \"predict\": true}, {\"feature1\": 0.94, \"feature2\": 0.2, \"predict\": true}, {\"feature1\": 0.94, \"feature2\": 0.22, \"predict\": true}, {\"feature1\": 0.94, \"feature2\": 0.24, \"predict\": true}, {\"feature1\": 0.94, \"feature2\": 0.26, \"predict\": true}, {\"feature1\": 0.94, \"feature2\": 0.28, \"predict\": true}, {\"feature1\": 0.94, \"feature2\": 0.3, \"predict\": true}, {\"feature1\": 0.94, \"feature2\": 0.32, \"predict\": true}, {\"feature1\": 0.94, \"feature2\": 0.34, \"predict\": true}, {\"feature1\": 0.94, \"feature2\": 0.36, \"predict\": true}, {\"feature1\": 0.94, \"feature2\": 0.38, \"predict\": true}, {\"feature1\": 0.94, \"feature2\": 0.4, \"predict\": true}, {\"feature1\": 0.94, \"feature2\": 0.42, \"predict\": true}, {\"feature1\": 0.94, \"feature2\": 0.44, \"predict\": true}, {\"feature1\": 0.94, \"feature2\": 0.46, \"predict\": true}, {\"feature1\": 0.94, \"feature2\": 0.48, \"predict\": true}, {\"feature1\": 0.94, \"feature2\": 0.5, \"predict\": true}, {\"feature1\": 0.94, \"feature2\": 0.52, \"predict\": true}, {\"feature1\": 0.94, \"feature2\": 0.54, \"predict\": true}, {\"feature1\": 0.94, \"feature2\": 0.56, \"predict\": true}, {\"feature1\": 0.94, \"feature2\": 0.58, \"predict\": true}, {\"feature1\": 0.94, \"feature2\": 0.6, \"predict\": true}, {\"feature1\": 0.94, \"feature2\": 0.62, \"predict\": true}, {\"feature1\": 0.94, \"feature2\": 0.64, \"predict\": true}, {\"feature1\": 0.94, \"feature2\": 0.66, \"predict\": true}, {\"feature1\": 0.94, \"feature2\": 0.68, \"predict\": true}, {\"feature1\": 0.94, \"feature2\": 0.7, \"predict\": true}, {\"feature1\": 0.94, \"feature2\": 0.72, \"predict\": true}, {\"feature1\": 0.94, \"feature2\": 0.74, \"predict\": true}, {\"feature1\": 0.94, \"feature2\": 0.76, \"predict\": true}, {\"feature1\": 0.94, \"feature2\": 0.78, \"predict\": true}, {\"feature1\": 0.94, \"feature2\": 0.8, \"predict\": true}, {\"feature1\": 0.94, \"feature2\": 0.82, \"predict\": true}, {\"feature1\": 0.94, \"feature2\": 0.84, \"predict\": true}, {\"feature1\": 0.94, \"feature2\": 0.86, \"predict\": true}, {\"feature1\": 0.94, \"feature2\": 0.88, \"predict\": true}, {\"feature1\": 0.94, \"feature2\": 0.9, \"predict\": true}, {\"feature1\": 0.94, \"feature2\": 0.92, \"predict\": true}, {\"feature1\": 0.94, \"feature2\": 0.94, \"predict\": true}, {\"feature1\": 0.94, \"feature2\": 0.96, \"predict\": true}, {\"feature1\": 0.94, \"feature2\": 0.98, \"predict\": true}, {\"feature1\": 0.96, \"feature2\": 0.0, \"predict\": true}, {\"feature1\": 0.96, \"feature2\": 0.02, \"predict\": true}, {\"feature1\": 0.96, \"feature2\": 0.04, \"predict\": true}, {\"feature1\": 0.96, \"feature2\": 0.06, \"predict\": true}, {\"feature1\": 0.96, \"feature2\": 0.08, \"predict\": true}, {\"feature1\": 0.96, \"feature2\": 0.1, \"predict\": true}, {\"feature1\": 0.96, \"feature2\": 0.12, \"predict\": true}, {\"feature1\": 0.96, \"feature2\": 0.14, \"predict\": true}, {\"feature1\": 0.96, \"feature2\": 0.16, \"predict\": true}, {\"feature1\": 0.96, \"feature2\": 0.18, \"predict\": true}, {\"feature1\": 0.96, \"feature2\": 0.2, \"predict\": true}, {\"feature1\": 0.96, \"feature2\": 0.22, \"predict\": true}, {\"feature1\": 0.96, \"feature2\": 0.24, \"predict\": true}, {\"feature1\": 0.96, \"feature2\": 0.26, \"predict\": true}, {\"feature1\": 0.96, \"feature2\": 0.28, \"predict\": true}, {\"feature1\": 0.96, \"feature2\": 0.3, \"predict\": true}, {\"feature1\": 0.96, \"feature2\": 0.32, \"predict\": true}, {\"feature1\": 0.96, \"feature2\": 0.34, \"predict\": true}, {\"feature1\": 0.96, \"feature2\": 0.36, \"predict\": true}, {\"feature1\": 0.96, \"feature2\": 0.38, \"predict\": true}, {\"feature1\": 0.96, \"feature2\": 0.4, \"predict\": true}, {\"feature1\": 0.96, \"feature2\": 0.42, \"predict\": true}, {\"feature1\": 0.96, \"feature2\": 0.44, \"predict\": true}, {\"feature1\": 0.96, \"feature2\": 0.46, \"predict\": true}, {\"feature1\": 0.96, \"feature2\": 0.48, \"predict\": true}, {\"feature1\": 0.96, \"feature2\": 0.5, \"predict\": true}, {\"feature1\": 0.96, \"feature2\": 0.52, \"predict\": true}, {\"feature1\": 0.96, \"feature2\": 0.54, \"predict\": true}, {\"feature1\": 0.96, \"feature2\": 0.56, \"predict\": true}, {\"feature1\": 0.96, \"feature2\": 0.58, \"predict\": true}, {\"feature1\": 0.96, \"feature2\": 0.6, \"predict\": true}, {\"feature1\": 0.96, \"feature2\": 0.62, \"predict\": true}, {\"feature1\": 0.96, \"feature2\": 0.64, \"predict\": true}, {\"feature1\": 0.96, \"feature2\": 0.66, \"predict\": true}, {\"feature1\": 0.96, \"feature2\": 0.68, \"predict\": true}, {\"feature1\": 0.96, \"feature2\": 0.7, \"predict\": true}, {\"feature1\": 0.96, \"feature2\": 0.72, \"predict\": true}, {\"feature1\": 0.96, \"feature2\": 0.74, \"predict\": true}, {\"feature1\": 0.96, \"feature2\": 0.76, \"predict\": true}, {\"feature1\": 0.96, \"feature2\": 0.78, \"predict\": true}, {\"feature1\": 0.96, \"feature2\": 0.8, \"predict\": true}, {\"feature1\": 0.96, \"feature2\": 0.82, \"predict\": true}, {\"feature1\": 0.96, \"feature2\": 0.84, \"predict\": true}, {\"feature1\": 0.96, \"feature2\": 0.86, \"predict\": true}, {\"feature1\": 0.96, \"feature2\": 0.88, \"predict\": true}, {\"feature1\": 0.96, \"feature2\": 0.9, \"predict\": true}, {\"feature1\": 0.96, \"feature2\": 0.92, \"predict\": true}, {\"feature1\": 0.96, \"feature2\": 0.94, \"predict\": true}, {\"feature1\": 0.96, \"feature2\": 0.96, \"predict\": true}, {\"feature1\": 0.96, \"feature2\": 0.98, \"predict\": true}, {\"feature1\": 0.98, \"feature2\": 0.0, \"predict\": true}, {\"feature1\": 0.98, \"feature2\": 0.02, \"predict\": true}, {\"feature1\": 0.98, \"feature2\": 0.04, \"predict\": true}, {\"feature1\": 0.98, \"feature2\": 0.06, \"predict\": true}, {\"feature1\": 0.98, \"feature2\": 0.08, \"predict\": true}, {\"feature1\": 0.98, \"feature2\": 0.1, \"predict\": true}, {\"feature1\": 0.98, \"feature2\": 0.12, \"predict\": true}, {\"feature1\": 0.98, \"feature2\": 0.14, \"predict\": true}, {\"feature1\": 0.98, \"feature2\": 0.16, \"predict\": true}, {\"feature1\": 0.98, \"feature2\": 0.18, \"predict\": true}, {\"feature1\": 0.98, \"feature2\": 0.2, \"predict\": true}, {\"feature1\": 0.98, \"feature2\": 0.22, \"predict\": true}, {\"feature1\": 0.98, \"feature2\": 0.24, \"predict\": true}, {\"feature1\": 0.98, \"feature2\": 0.26, \"predict\": true}, {\"feature1\": 0.98, \"feature2\": 0.28, \"predict\": true}, {\"feature1\": 0.98, \"feature2\": 0.3, \"predict\": true}, {\"feature1\": 0.98, \"feature2\": 0.32, \"predict\": true}, {\"feature1\": 0.98, \"feature2\": 0.34, \"predict\": true}, {\"feature1\": 0.98, \"feature2\": 0.36, \"predict\": true}, {\"feature1\": 0.98, \"feature2\": 0.38, \"predict\": true}, {\"feature1\": 0.98, \"feature2\": 0.4, \"predict\": true}, {\"feature1\": 0.98, \"feature2\": 0.42, \"predict\": true}, {\"feature1\": 0.98, \"feature2\": 0.44, \"predict\": true}, {\"feature1\": 0.98, \"feature2\": 0.46, \"predict\": true}, {\"feature1\": 0.98, \"feature2\": 0.48, \"predict\": true}, {\"feature1\": 0.98, \"feature2\": 0.5, \"predict\": true}, {\"feature1\": 0.98, \"feature2\": 0.52, \"predict\": true}, {\"feature1\": 0.98, \"feature2\": 0.54, \"predict\": true}, {\"feature1\": 0.98, \"feature2\": 0.56, \"predict\": true}, {\"feature1\": 0.98, \"feature2\": 0.58, \"predict\": true}, {\"feature1\": 0.98, \"feature2\": 0.6, \"predict\": true}, {\"feature1\": 0.98, \"feature2\": 0.62, \"predict\": true}, {\"feature1\": 0.98, \"feature2\": 0.64, \"predict\": true}, {\"feature1\": 0.98, \"feature2\": 0.66, \"predict\": true}, {\"feature1\": 0.98, \"feature2\": 0.68, \"predict\": true}, {\"feature1\": 0.98, \"feature2\": 0.7, \"predict\": true}, {\"feature1\": 0.98, \"feature2\": 0.72, \"predict\": true}, {\"feature1\": 0.98, \"feature2\": 0.74, \"predict\": true}, {\"feature1\": 0.98, \"feature2\": 0.76, \"predict\": true}, {\"feature1\": 0.98, \"feature2\": 0.78, \"predict\": true}, {\"feature1\": 0.98, \"feature2\": 0.8, \"predict\": true}, {\"feature1\": 0.98, \"feature2\": 0.82, \"predict\": true}, {\"feature1\": 0.98, \"feature2\": 0.84, \"predict\": true}, {\"feature1\": 0.98, \"feature2\": 0.86, \"predict\": true}, {\"feature1\": 0.98, \"feature2\": 0.88, \"predict\": true}, {\"feature1\": 0.98, \"feature2\": 0.9, \"predict\": true}, {\"feature1\": 0.98, \"feature2\": 0.92, \"predict\": true}, {\"feature1\": 0.98, \"feature2\": 0.94, \"predict\": true}, {\"feature1\": 0.98, \"feature2\": 0.96, \"predict\": true}, {\"feature1\": 0.98, \"feature2\": 0.98, \"predict\": true}]}}, {\"mode\": \"vega-lite\"});\n",
       "</script>"
      ],
      "text/plain": [
       "alt.Chart(...)"
      ]
     },
     "execution_count": 1,
     "metadata": {},
     "output_type": "execute_result"
    }
   ],
   "source": [
    "chart = (alt.Chart(all_df)\n",
    "    .mark_point()\n",
    "    .encode(\n",
    "        x = \"feature1\",\n",
    "        y = \"feature2\",\n",
    "        color=\"predict\",\n",
    "        fill = \"predict\",\n",
    "    ))\n",
    "chart"
   ]
  },
  {
   "cell_type": "markdown",
   "id": "42137b9f",
   "metadata": {},
   "source": [
    "Unfortunately this result no good. The model did not learn about the circle.\n",
    "In fact it learned something completely wrong."
   ]
  },
  {
   "cell_type": "markdown",
   "id": "96518697",
   "metadata": {},
   "source": [
    "We can debug the problem by looking at how we created our model. "
   ]
  },
  {
   "cell_type": "markdown",
   "id": "6b3895a2",
   "metadata": {},
   "source": [
    "This line of code, says create `Linear` model. Linear in this case\n",
    "implies that the model can only use a line to split the points. "
   ]
  },
  {
   "cell_type": "code",
   "execution_count": 45,
   "id": "17b888b8",
   "metadata": {
    "execution": {
     "iopub.execute_input": "2021-06-10T17:51:34.255643Z",
     "iopub.status.busy": "2021-06-10T17:51:34.255346Z",
     "iopub.status.idle": "2021-06-10T17:51:34.257732Z",
     "shell.execute_reply": "2021-06-10T17:51:34.257977Z"
    }
   },
   "outputs": [],
   "source": [
    "model = sklearn.linear_model.LogisticRegression()"
   ]
  },
  {
   "cell_type": "markdown",
   "id": "f3a3cd42",
   "metadata": {},
   "source": [
    "This model couldn't even learn about the circle if it wanted to."
   ]
  },
  {
   "cell_type": "markdown",
   "id": "5d131af5",
   "metadata": {},
   "source": [
    "Instead let us use a different model. "
   ]
  },
  {
   "cell_type": "markdown",
   "id": "ebe1194e",
   "metadata": {},
   "source": [
    "# Group Exercise B"
   ]
  },
  {
   "cell_type": "markdown",
   "id": "421e9bd7",
   "metadata": {},
   "source": [
    "## Question 1"
   ]
  },
  {
   "cell_type": "markdown",
   "id": "f893793e",
   "metadata": {},
   "source": [
    "The linear model we used above could only draw lines to seperate\n",
    "red and blue. Let us consider a new model."
   ]
  },
  {
   "cell_type": "code",
   "execution_count": 46,
   "id": "bc5bb288",
   "metadata": {
    "execution": {
     "iopub.execute_input": "2021-06-10T17:51:34.262275Z",
     "iopub.status.busy": "2021-06-10T17:51:34.261704Z",
     "iopub.status.idle": "2021-06-10T17:51:34.282826Z",
     "shell.execute_reply": "2021-06-10T17:51:34.282019Z"
    }
   },
   "outputs": [],
   "source": [
    "import sklearn.neighbors \n",
    "neighbor_model = sklearn.neighbors.KNeighborsClassifier(1)"
   ]
  },
  {
   "cell_type": "markdown",
   "id": "97b149ad",
   "metadata": {},
   "source": [
    "The neighbor model takes a different approach. Instead of\n",
    "producing a line, it memorizes all the points in training and\n",
    "predicts based on how close a test example is."
   ]
  },
  {
   "cell_type": "markdown",
   "id": "cb587e1a",
   "metadata": {
    "lines_to_next_cell": 2
   },
   "source": [
    "For this question, you should :\n",
    "\n",
    "1. Fit the neighbor model to the circle data.\n",
    "2. Predict on `all_df`\n",
    "3. Graph the resulting shape."
   ]
  },
  {
   "cell_type": "code",
   "execution_count": 47,
   "id": "c7268485",
   "metadata": {
    "execution": {
     "iopub.execute_input": "2021-06-10T17:51:34.287724Z",
     "iopub.status.busy": "2021-06-10T17:51:34.286839Z",
     "iopub.status.idle": "2021-06-10T17:51:34.289570Z",
     "shell.execute_reply": "2021-06-10T17:51:34.288827Z"
    }
   },
   "outputs": [],
   "source": [
    "#📝📝📝📝 FILLME\n",
    "pass"
   ]
  },
  {
   "cell_type": "markdown",
   "id": "4093f18c",
   "metadata": {},
   "source": [
    "It will not be perfect but it should be much closer to the circle shape of the data."
   ]
  },
  {
   "cell_type": "markdown",
   "id": "458a347b",
   "metadata": {},
   "source": [
    "## Question 2"
   ]
  },
  {
   "cell_type": "markdown",
   "id": "0f2670d2",
   "metadata": {},
   "source": [
    "So far all of our datasets have had 2 features. For this dataset there are three\n",
    "features (`feature1`, `feature2`, `feature3`)."
   ]
  },
  {
   "cell_type": "code",
   "execution_count": 48,
   "id": "69f6e862",
   "metadata": {
    "execution": {
     "iopub.execute_input": "2021-06-10T17:51:34.296327Z",
     "iopub.status.busy": "2021-06-10T17:51:34.295270Z",
     "iopub.status.idle": "2021-06-10T17:51:34.328853Z",
     "shell.execute_reply": "2021-06-10T17:51:34.327792Z"
    }
   },
   "outputs": [],
   "source": [
    "df3 = pd.read_csv(\"https://srush.github.io/BT-AI/notebooks/three.csv\")"
   ]
  },
  {
   "cell_type": "markdown",
   "id": "b9f61496",
   "metadata": {},
   "source": [
    "Split the dataset into train and test, and then fit the linear model\n",
    "`model` to all three of these features."
   ]
  },
  {
   "cell_type": "code",
   "execution_count": 49,
   "id": "9996b178",
   "metadata": {
    "execution": {
     "iopub.execute_input": "2021-06-10T17:51:34.334610Z",
     "iopub.status.busy": "2021-06-10T17:51:34.333725Z",
     "iopub.status.idle": "2021-06-10T17:51:34.337419Z",
     "shell.execute_reply": "2021-06-10T17:51:34.336496Z"
    }
   },
   "outputs": [],
   "source": [
    "#📝📝📝📝 FILLME\n",
    "pass"
   ]
  },
  {
   "cell_type": "markdown",
   "id": "846070da",
   "metadata": {},
   "source": [
    "How many points in test does the model get correct? "
   ]
  },
  {
   "cell_type": "code",
   "execution_count": 50,
   "id": "dc4d9169",
   "metadata": {
    "execution": {
     "iopub.execute_input": "2021-06-10T17:51:34.343192Z",
     "iopub.status.busy": "2021-06-10T17:51:34.342275Z",
     "iopub.status.idle": "2021-06-10T17:51:34.346152Z",
     "shell.execute_reply": "2021-06-10T17:51:34.345216Z"
    }
   },
   "outputs": [],
   "source": [
    "#📝📝📝📝 FILLME\n",
    "pass"
   ]
  },
  {
   "cell_type": "markdown",
   "id": "0e271c04",
   "metadata": {
    "lines_to_next_cell": 2
   },
   "source": [
    "## Question 3"
   ]
  },
  {
   "cell_type": "markdown",
   "id": "5a7bb1d5",
   "metadata": {},
   "source": [
    "It turns out that for `df3` you only need two of the features to\n",
    "acheive high accuracy. Make a graph for each pair of features (three\n",
    "graphs total)."
   ]
  },
  {
   "cell_type": "code",
   "execution_count": 51,
   "id": "428e6040",
   "metadata": {
    "execution": {
     "iopub.execute_input": "2021-06-10T17:51:34.352001Z",
     "iopub.status.busy": "2021-06-10T17:51:34.351088Z",
     "iopub.status.idle": "2021-06-10T17:51:34.355018Z",
     "shell.execute_reply": "2021-06-10T17:51:34.354250Z"
    },
    "lines_to_next_cell": 2
   },
   "outputs": [],
   "source": [
    "#📝📝📝📝 FILLME\n",
    "pass"
   ]
  },
  {
   "cell_type": "markdown",
   "id": "d83a1ab2",
   "metadata": {},
   "source": [
    "Which are the two features that you need? Try fitting `model` to just those two."
   ]
  },
  {
   "cell_type": "code",
   "execution_count": 52,
   "id": "30b4da30",
   "metadata": {
    "execution": {
     "iopub.execute_input": "2021-06-10T17:51:34.360624Z",
     "iopub.status.busy": "2021-06-10T17:51:34.359717Z",
     "iopub.status.idle": "2021-06-10T17:51:34.363902Z",
     "shell.execute_reply": "2021-06-10T17:51:34.363138Z"
    }
   },
   "outputs": [],
   "source": [
    "#📝📝📝📝 FILLME\n",
    "pass"
   ]
  }
 ],
 "metadata": {
  "jupytext": {
   "cell_metadata_filter": "-all"
  },
  "kernelspec": {
   "display_name": "myenv",
   "language": "python",
   "name": "myenv"
  },
  "language_info": {
   "codemirror_mode": {
    "name": "ipython",
    "version": 3
   },
   "file_extension": ".py",
   "mimetype": "text/x-python",
   "name": "python",
   "nbconvert_exporter": "python",
   "pygments_lexer": "ipython3",
   "version": "3.8.5"
  }
 },
 "nbformat": 4,
 "nbformat_minor": 5
}
