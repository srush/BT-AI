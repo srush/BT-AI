{
 "cells": [
  {
   "cell_type": "markdown",
   "id": "5ebdadf3",
   "metadata": {},
   "source": [
    "# Module 4 - Hands on Machine Learning"
   ]
  },
  {
   "cell_type": "code",
   "execution_count": 1,
   "id": "b512bd66",
   "metadata": {
    "execution": {
     "iopub.execute_input": "2021-04-19T17:52:07.690978Z",
     "iopub.status.busy": "2021-04-19T17:52:07.689941Z",
     "iopub.status.idle": "2021-04-19T17:52:07.961527Z",
     "shell.execute_reply": "2021-04-19T17:52:07.960588Z"
    }
   },
   "outputs": [],
   "source": [
    "import sklearn"
   ]
  }
 ],
 "metadata": {
  "jupytext": {
   "cell_metadata_filter": "-all"
  },
  "kernelspec": {
   "display_name": "myenv",
   "language": "python",
   "name": "myenv"
  },
  "language_info": {
   "codemirror_mode": {
    "name": "ipython",
    "version": 3
   },
   "file_extension": ".py",
   "mimetype": "text/x-python",
   "name": "python",
   "nbconvert_exporter": "python",
   "pygments_lexer": "ipython3",
   "version": "3.8.5"
  }
 },
 "nbformat": 4,
 "nbformat_minor": 5
}
