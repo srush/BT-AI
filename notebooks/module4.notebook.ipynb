{
 "cells": [
  {
   "cell_type": "markdown",
   "id": "a37134fb",
   "metadata": {},
   "source": [
    "# Module 4 - Hands on Machine Learning"
   ]
  },
  {
   "cell_type": "code",
   "execution_count": 1,
   "id": "4b725432",
   "metadata": {
    "execution": {
     "iopub.execute_input": "2021-04-19T17:58:35.205543Z",
     "iopub.status.busy": "2021-04-19T17:58:35.204506Z",
     "iopub.status.idle": "2021-04-19T17:58:35.490262Z",
     "shell.execute_reply": "2021-04-19T17:58:35.489387Z"
    }
   },
   "outputs": [],
   "source": [
    "import sklearn"
   ]
  },
  {
   "cell_type": "code",
   "execution_count": null,
   "id": "cf35fe1e",
   "metadata": {},
   "outputs": [],
   "source": []
  },
  {
   "cell_type": "markdown",
   "id": "bbf634a6",
   "metadata": {
    "lines_to_next_cell": 2
   },
   "source": [
    "## Input Formats"
   ]
  },
  {
   "cell_type": "markdown",
   "id": "5ffbe68e",
   "metadata": {
    "lines_to_next_cell": 2
   },
   "source": [
    "## Classification"
   ]
  },
  {
   "cell_type": "markdown",
   "id": "ec92b172",
   "metadata": {
    "lines_to_next_cell": 2
   },
   "source": [
    "## Fitting Models to Data"
   ]
  },
  {
   "cell_type": "markdown",
   "id": "98659507",
   "metadata": {},
   "source": [
    "## Scikit Learn and Pandas"
   ]
  },
  {
   "cell_type": "code",
   "execution_count": null,
   "id": "b9bacc7e",
   "metadata": {},
   "outputs": [],
   "source": []
  }
 ],
 "metadata": {
  "jupytext": {
   "cell_metadata_filter": "-all"
  },
  "kernelspec": {
   "display_name": "myenv",
   "language": "python",
   "name": "myenv"
  },
  "language_info": {
   "codemirror_mode": {
    "name": "ipython",
    "version": 3
   },
   "file_extension": ".py",
   "mimetype": "text/x-python",
   "name": "python",
   "nbconvert_exporter": "python",
   "pygments_lexer": "ipython3",
   "version": "3.8.5"
  }
 },
 "nbformat": 4,
 "nbformat_minor": 5
}
