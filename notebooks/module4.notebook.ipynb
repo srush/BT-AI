{
 "cells": [
  {
   "cell_type": "markdown",
   "id": "b88709c2",
   "metadata": {
    "lines_to_next_cell": 2
   },
   "source": [
    "# Module 4 - Machine Learning"
   ]
  },
  {
   "cell_type": "markdown",
   "id": "618f7f0e",
   "metadata": {},
   "source": [
    "Last class we saw some complex tables based operations. "
   ]
  },
  {
   "cell_type": "code",
   "execution_count": 1,
   "id": "e94fc549",
   "metadata": {
    "execution": {
     "iopub.execute_input": "2021-06-02T16:42:21.244733Z",
     "iopub.status.busy": "2021-06-02T16:42:21.243605Z",
     "iopub.status.idle": "2021-06-02T16:42:21.703842Z",
     "shell.execute_reply": "2021-06-02T16:42:21.703480Z"
    },
    "lines_to_next_cell": 2
   },
   "outputs": [],
   "source": [
    "import sklearn\n",
    "from sklearn.linear_model import LogisticRegression\n",
    "#from sklearn.linear_model import KNNClassifier\n",
    "import pandas as pd\n",
    "import altair as alt\n",
    "import numpy as np"
   ]
  },
  {
   "cell_type": "markdown",
   "id": "bd3c3c48",
   "metadata": {},
   "source": [
    "In this dataset we will start with a classic ML dataset."
   ]
  },
  {
   "cell_type": "code",
   "execution_count": 2,
   "id": "6d64cc73",
   "metadata": {
    "execution": {
     "iopub.execute_input": "2021-06-02T16:42:21.711983Z",
     "iopub.status.busy": "2021-06-02T16:42:21.706720Z",
     "iopub.status.idle": "2021-06-02T16:42:21.720117Z",
     "shell.execute_reply": "2021-06-02T16:42:21.720815Z"
    },
    "lines_to_next_cell": 2
   },
   "outputs": [
    {
     "data": {
      "text/html": [
       "<div>\n",
       "<style scoped>\n",
       "    .dataframe tbody tr th:only-of-type {\n",
       "        vertical-align: middle;\n",
       "    }\n",
       "\n",
       "    .dataframe tbody tr th {\n",
       "        vertical-align: top;\n",
       "    }\n",
       "\n",
       "    .dataframe thead th {\n",
       "        text-align: right;\n",
       "    }\n",
       "</style>\n",
       "<table border=\"1\" class=\"dataframe\">\n",
       "  <thead>\n",
       "    <tr style=\"text-align: right;\">\n",
       "      <th></th>\n",
       "      <th>class</th>\n",
       "      <th>Split</th>\n",
       "      <th>feature1</th>\n",
       "      <th>feature2</th>\n",
       "    </tr>\n",
       "  </thead>\n",
       "  <tbody>\n",
       "    <tr>\n",
       "      <th>0</th>\n",
       "      <td>0</td>\n",
       "      <td>Test</td>\n",
       "      <td>1</td>\n",
       "      <td>8918653</td>\n",
       "    </tr>\n",
       "    <tr>\n",
       "      <th>1</th>\n",
       "      <td>1</td>\n",
       "      <td>Test</td>\n",
       "      <td>2</td>\n",
       "      <td>8918653</td>\n",
       "    </tr>\n",
       "    <tr>\n",
       "      <th>2</th>\n",
       "      <td>0</td>\n",
       "      <td>Train</td>\n",
       "      <td>1</td>\n",
       "      <td>8550405</td>\n",
       "    </tr>\n",
       "    <tr>\n",
       "      <th>3</th>\n",
       "      <td>1</td>\n",
       "      <td>Train</td>\n",
       "      <td>1</td>\n",
       "      <td>8550405</td>\n",
       "    </tr>\n",
       "    <tr>\n",
       "      <th>4</th>\n",
       "      <td>2</td>\n",
       "      <td>Los Angeles</td>\n",
       "      <td>United States</td>\n",
       "      <td>3971883</td>\n",
       "    </tr>\n",
       "    <tr>\n",
       "      <th>...</th>\n",
       "      <td>...</td>\n",
       "      <td>...</td>\n",
       "      <td>...</td>\n",
       "      <td>...</td>\n",
       "    </tr>\n",
       "    <tr>\n",
       "      <th>92</th>\n",
       "      <td>90</td>\n",
       "      <td>Surrey</td>\n",
       "      <td>Canada</td>\n",
       "      <td>526004</td>\n",
       "    </tr>\n",
       "    <tr>\n",
       "      <th>93</th>\n",
       "      <td>91</td>\n",
       "      <td>Ciudad López Mateos</td>\n",
       "      <td>Mexico</td>\n",
       "      <td>523296</td>\n",
       "    </tr>\n",
       "    <tr>\n",
       "      <th>94</th>\n",
       "      <td>92</td>\n",
       "      <td>Tultitlán</td>\n",
       "      <td>Mexico</td>\n",
       "      <td>520557</td>\n",
       "    </tr>\n",
       "    <tr>\n",
       "      <th>95</th>\n",
       "      <td>93</td>\n",
       "      <td>Fresno</td>\n",
       "      <td>United States</td>\n",
       "      <td>520052</td>\n",
       "    </tr>\n",
       "    <tr>\n",
       "      <th>96</th>\n",
       "      <td>94</td>\n",
       "      <td>Carrefour</td>\n",
       "      <td>Haiti</td>\n",
       "      <td>501768</td>\n",
       "    </tr>\n",
       "  </tbody>\n",
       "</table>\n",
       "<p>97 rows × 4 columns</p>\n",
       "</div>"
      ],
      "text/plain": [
       "    class                Split       feature1  feature2\n",
       "0       0                 Test              1   8918653\n",
       "1       1                 Test              2   8918653\n",
       "2       0                Train              1   8550405\n",
       "3       1                Train              1   8550405\n",
       "4       2          Los Angeles  United States   3971883\n",
       "..    ...                  ...            ...       ...\n",
       "92     90               Surrey         Canada    526004\n",
       "93     91  Ciudad López Mateos         Mexico    523296\n",
       "94     92            Tultitlán         Mexico    520557\n",
       "95     93               Fresno  United States    520052\n",
       "96     94            Carrefour          Haiti    501768\n",
       "\n",
       "[97 rows x 4 columns]"
      ]
     },
     "execution_count": 1,
     "metadata": {},
     "output_type": "execute_result"
    }
   ],
   "source": [
    "df = pd.read_csv(\"data/DataSet.csv\")\n",
    "df"
   ]
  },
  {
   "cell_type": "markdown",
   "id": "52d2dbfd",
   "metadata": {},
   "source": [
    "## Training versus Test."
   ]
  },
  {
   "cell_type": "code",
   "execution_count": 3,
   "id": "72a7ed1a",
   "metadata": {
    "execution": {
     "iopub.execute_input": "2021-06-02T16:42:21.731628Z",
     "iopub.status.busy": "2021-06-02T16:42:21.731252Z",
     "iopub.status.idle": "2021-06-02T16:42:21.733555Z",
     "shell.execute_reply": "2021-06-02T16:42:21.733773Z"
    },
    "lines_to_next_cell": 2
   },
   "outputs": [],
   "source": [
    "df_train = df.loc[df[\"Split\"] == \"Train\"]\n",
    "chart = (alt.Chart(df_train)\n",
    "    .mark_point()\n",
    "    .encode(\n",
    "        x = \"feature1\",\n",
    "        y = \"feature2\",\n",
    "        color=[\"class\"]\n",
    "    ))"
   ]
  },
  {
   "cell_type": "code",
   "execution_count": 4,
   "id": "7f71eb87",
   "metadata": {
    "execution": {
     "iopub.execute_input": "2021-06-02T16:42:21.754681Z",
     "iopub.status.busy": "2021-06-02T16:42:21.754212Z",
     "iopub.status.idle": "2021-06-02T16:42:21.756846Z",
     "shell.execute_reply": "2021-06-02T16:42:21.757206Z"
    },
    "lines_to_next_cell": 2
   },
   "outputs": [],
   "source": [
    "df_test = df.loc[df[\"Split\"] == \"Test\"]\n",
    "chart = (alt.Chart(df_test)\n",
    "    .mark_point()\n",
    "    .encode(\n",
    "        x = \"feature1\",\n",
    "        y = \"feature2\",\n",
    "        color = [\"class\"]\n",
    "    ))"
   ]
  },
  {
   "cell_type": "markdown",
   "id": "3e7f4453",
   "metadata": {
    "lines_to_next_cell": 2
   },
   "source": [
    "## Machine Learning"
   ]
  },
  {
   "cell_type": "markdown",
   "id": "985426b3",
   "metadata": {},
   "source": [
    "Declarative Machine Learning\n",
    "*\n",
    "* "
   ]
  },
  {
   "cell_type": "code",
   "execution_count": 5,
   "id": "97f8bb4f",
   "metadata": {
    "execution": {
     "iopub.execute_input": "2021-06-02T16:42:21.764361Z",
     "iopub.status.busy": "2021-06-02T16:42:21.763703Z",
     "iopub.status.idle": "2021-06-02T16:42:21.768513Z",
     "shell.execute_reply": "2021-06-02T16:42:21.767979Z"
    },
    "lines_to_next_cell": 2
   },
   "outputs": [
    {
     "data": {
      "text/plain": [
       "LogisticRegression()"
      ]
     },
     "execution_count": 1,
     "metadata": {},
     "output_type": "execute_result"
    }
   ],
   "source": [
    "model = LogisticRegression()\n",
    "model.fit(df_train[[\"feature1\", \"feature2\"]],\n",
    "          df_train[\"class\"])"
   ]
  },
  {
   "cell_type": "markdown",
   "id": "473532d7",
   "metadata": {},
   "source": [
    "Predict"
   ]
  },
  {
   "cell_type": "code",
   "execution_count": 6,
   "id": "32b58add",
   "metadata": {
    "execution": {
     "iopub.execute_input": "2021-06-02T16:42:21.776682Z",
     "iopub.status.busy": "2021-06-02T16:42:21.775837Z",
     "iopub.status.idle": "2021-06-02T16:42:21.778799Z",
     "shell.execute_reply": "2021-06-02T16:42:21.779506Z"
    },
    "lines_to_next_cell": 2
   },
   "outputs": [
    {
     "name": "stderr",
     "output_type": "stream",
     "text": [
      "<ipython-input-1-2352f7bdf3c3>:1: SettingWithCopyWarning: \n",
      "A value is trying to be set on a copy of a slice from a DataFrame.\n",
      "Try using .loc[row_indexer,col_indexer] = value instead\n",
      "\n",
      "See the caveats in the documentation: https://pandas.pydata.org/pandas-docs/stable/user_guide/indexing.html#returning-a-view-versus-a-copy\n",
      "  df_test[\"predict\"] = model.predict(df_test[[\"feature1\", \"feature2\"]])\n"
     ]
    }
   ],
   "source": [
    "df_test[\"predict\"] = model.predict(df_test[[\"feature1\", \"feature2\"]])"
   ]
  },
  {
   "cell_type": "code",
   "execution_count": 7,
   "id": "4b7da63b",
   "metadata": {
    "execution": {
     "iopub.execute_input": "2021-06-02T16:42:21.808845Z",
     "iopub.status.busy": "2021-06-02T16:42:21.807905Z",
     "iopub.status.idle": "2021-06-02T16:42:21.835248Z",
     "shell.execute_reply": "2021-06-02T16:42:21.835578Z"
    }
   },
   "outputs": [
    {
     "ename": "SchemaValidationError",
     "evalue": "Invalid specification\n\n        altair.vegalite.v4.schema.core.FacetedEncoding->0, validating 'type'\n\n        [{'type': 'quantitative', 'field': 'class'}, {'type': 'quantitative', 'field': 'predict'}] is not of type 'object'\n        ",
     "output_type": "error",
     "traceback": [
      "\u001b[0;31m---------------------------------------------------------------------------\u001b[0m",
      "\u001b[0;31mSchemaValidationError\u001b[0m                     Traceback (most recent call last)",
      "\u001b[0;32m~/Projects/BTT-2021/venv/lib/python3.8/site-packages/altair/vegalite/v4/api.py\u001b[0m in \u001b[0;36mto_dict\u001b[0;34m(self, *args, **kwargs)\u001b[0m\n\u001b[1;32m    380\u001b[0m         \u001b[0;32mif\u001b[0m \u001b[0mdct\u001b[0m \u001b[0;32mis\u001b[0m \u001b[0;32mNone\u001b[0m\u001b[0;34m:\u001b[0m\u001b[0;34m\u001b[0m\u001b[0;34m\u001b[0m\u001b[0m\n\u001b[1;32m    381\u001b[0m             \u001b[0mkwargs\u001b[0m\u001b[0;34m[\u001b[0m\u001b[0;34m\"validate\"\u001b[0m\u001b[0;34m]\u001b[0m \u001b[0;34m=\u001b[0m \u001b[0;34m\"deep\"\u001b[0m\u001b[0;34m\u001b[0m\u001b[0;34m\u001b[0m\u001b[0m\n\u001b[0;32m--> 382\u001b[0;31m             \u001b[0mdct\u001b[0m \u001b[0;34m=\u001b[0m \u001b[0msuper\u001b[0m\u001b[0;34m(\u001b[0m\u001b[0mTopLevelMixin\u001b[0m\u001b[0;34m,\u001b[0m \u001b[0mcopy\u001b[0m\u001b[0;34m)\u001b[0m\u001b[0;34m.\u001b[0m\u001b[0mto_dict\u001b[0m\u001b[0;34m(\u001b[0m\u001b[0;34m*\u001b[0m\u001b[0margs\u001b[0m\u001b[0;34m,\u001b[0m \u001b[0;34m**\u001b[0m\u001b[0mkwargs\u001b[0m\u001b[0;34m)\u001b[0m\u001b[0;34m\u001b[0m\u001b[0;34m\u001b[0m\u001b[0m\n\u001b[0m\u001b[1;32m    383\u001b[0m \u001b[0;34m\u001b[0m\u001b[0m\n\u001b[1;32m    384\u001b[0m         \u001b[0;31m# TODO: following entries are added after validation. Should they be validated?\u001b[0m\u001b[0;34m\u001b[0m\u001b[0;34m\u001b[0m\u001b[0;34m\u001b[0m\u001b[0m\n",
      "\u001b[0;32m~/Projects/BTT-2021/venv/lib/python3.8/site-packages/altair/utils/schemapi.py\u001b[0m in \u001b[0;36mto_dict\u001b[0;34m(self, validate, ignore, context)\u001b[0m\n\u001b[1;32m    323\u001b[0m             \u001b[0mresult\u001b[0m \u001b[0;34m=\u001b[0m \u001b[0m_todict\u001b[0m\u001b[0;34m(\u001b[0m\u001b[0mself\u001b[0m\u001b[0;34m.\u001b[0m\u001b[0m_args\u001b[0m\u001b[0;34m[\u001b[0m\u001b[0;36m0\u001b[0m\u001b[0;34m]\u001b[0m\u001b[0;34m,\u001b[0m \u001b[0mvalidate\u001b[0m\u001b[0;34m=\u001b[0m\u001b[0msub_validate\u001b[0m\u001b[0;34m,\u001b[0m \u001b[0mcontext\u001b[0m\u001b[0;34m=\u001b[0m\u001b[0mcontext\u001b[0m\u001b[0;34m)\u001b[0m\u001b[0;34m\u001b[0m\u001b[0;34m\u001b[0m\u001b[0m\n\u001b[1;32m    324\u001b[0m         \u001b[0;32melif\u001b[0m \u001b[0;32mnot\u001b[0m \u001b[0mself\u001b[0m\u001b[0;34m.\u001b[0m\u001b[0m_args\u001b[0m\u001b[0;34m:\u001b[0m\u001b[0;34m\u001b[0m\u001b[0;34m\u001b[0m\u001b[0m\n\u001b[0;32m--> 325\u001b[0;31m             result = _todict(\n\u001b[0m\u001b[1;32m    326\u001b[0m                 \u001b[0;34m{\u001b[0m\u001b[0mk\u001b[0m\u001b[0;34m:\u001b[0m \u001b[0mv\u001b[0m \u001b[0;32mfor\u001b[0m \u001b[0mk\u001b[0m\u001b[0;34m,\u001b[0m \u001b[0mv\u001b[0m \u001b[0;32min\u001b[0m \u001b[0mself\u001b[0m\u001b[0;34m.\u001b[0m\u001b[0m_kwds\u001b[0m\u001b[0;34m.\u001b[0m\u001b[0mitems\u001b[0m\u001b[0;34m(\u001b[0m\u001b[0;34m)\u001b[0m \u001b[0;32mif\u001b[0m \u001b[0mk\u001b[0m \u001b[0;32mnot\u001b[0m \u001b[0;32min\u001b[0m \u001b[0mignore\u001b[0m\u001b[0;34m}\u001b[0m\u001b[0;34m,\u001b[0m\u001b[0;34m\u001b[0m\u001b[0;34m\u001b[0m\u001b[0m\n\u001b[1;32m    327\u001b[0m                 \u001b[0mvalidate\u001b[0m\u001b[0;34m=\u001b[0m\u001b[0msub_validate\u001b[0m\u001b[0;34m,\u001b[0m\u001b[0;34m\u001b[0m\u001b[0;34m\u001b[0m\u001b[0m\n",
      "\u001b[0;32m~/Projects/BTT-2021/venv/lib/python3.8/site-packages/altair/utils/schemapi.py\u001b[0m in \u001b[0;36m_todict\u001b[0;34m(obj, validate, context)\u001b[0m\n\u001b[1;32m     58\u001b[0m         \u001b[0;32mreturn\u001b[0m \u001b[0;34m[\u001b[0m\u001b[0m_todict\u001b[0m\u001b[0;34m(\u001b[0m\u001b[0mv\u001b[0m\u001b[0;34m,\u001b[0m \u001b[0mvalidate\u001b[0m\u001b[0;34m,\u001b[0m \u001b[0mcontext\u001b[0m\u001b[0;34m)\u001b[0m \u001b[0;32mfor\u001b[0m \u001b[0mv\u001b[0m \u001b[0;32min\u001b[0m \u001b[0mobj\u001b[0m\u001b[0;34m]\u001b[0m\u001b[0;34m\u001b[0m\u001b[0;34m\u001b[0m\u001b[0m\n\u001b[1;32m     59\u001b[0m     \u001b[0;32melif\u001b[0m \u001b[0misinstance\u001b[0m\u001b[0;34m(\u001b[0m\u001b[0mobj\u001b[0m\u001b[0;34m,\u001b[0m \u001b[0mdict\u001b[0m\u001b[0;34m)\u001b[0m\u001b[0;34m:\u001b[0m\u001b[0;34m\u001b[0m\u001b[0;34m\u001b[0m\u001b[0m\n\u001b[0;32m---> 60\u001b[0;31m         return {\n\u001b[0m\u001b[1;32m     61\u001b[0m             \u001b[0mk\u001b[0m\u001b[0;34m:\u001b[0m \u001b[0m_todict\u001b[0m\u001b[0;34m(\u001b[0m\u001b[0mv\u001b[0m\u001b[0;34m,\u001b[0m \u001b[0mvalidate\u001b[0m\u001b[0;34m,\u001b[0m \u001b[0mcontext\u001b[0m\u001b[0;34m)\u001b[0m\u001b[0;34m\u001b[0m\u001b[0;34m\u001b[0m\u001b[0m\n\u001b[1;32m     62\u001b[0m             \u001b[0;32mfor\u001b[0m \u001b[0mk\u001b[0m\u001b[0;34m,\u001b[0m \u001b[0mv\u001b[0m \u001b[0;32min\u001b[0m \u001b[0mobj\u001b[0m\u001b[0;34m.\u001b[0m\u001b[0mitems\u001b[0m\u001b[0;34m(\u001b[0m\u001b[0;34m)\u001b[0m\u001b[0;34m\u001b[0m\u001b[0;34m\u001b[0m\u001b[0m\n",
      "\u001b[0;32m~/Projects/BTT-2021/venv/lib/python3.8/site-packages/altair/utils/schemapi.py\u001b[0m in \u001b[0;36m<dictcomp>\u001b[0;34m(.0)\u001b[0m\n\u001b[1;32m     59\u001b[0m     \u001b[0;32melif\u001b[0m \u001b[0misinstance\u001b[0m\u001b[0;34m(\u001b[0m\u001b[0mobj\u001b[0m\u001b[0;34m,\u001b[0m \u001b[0mdict\u001b[0m\u001b[0;34m)\u001b[0m\u001b[0;34m:\u001b[0m\u001b[0;34m\u001b[0m\u001b[0;34m\u001b[0m\u001b[0m\n\u001b[1;32m     60\u001b[0m         return {\n\u001b[0;32m---> 61\u001b[0;31m             \u001b[0mk\u001b[0m\u001b[0;34m:\u001b[0m \u001b[0m_todict\u001b[0m\u001b[0;34m(\u001b[0m\u001b[0mv\u001b[0m\u001b[0;34m,\u001b[0m \u001b[0mvalidate\u001b[0m\u001b[0;34m,\u001b[0m \u001b[0mcontext\u001b[0m\u001b[0;34m)\u001b[0m\u001b[0;34m\u001b[0m\u001b[0;34m\u001b[0m\u001b[0m\n\u001b[0m\u001b[1;32m     62\u001b[0m             \u001b[0;32mfor\u001b[0m \u001b[0mk\u001b[0m\u001b[0;34m,\u001b[0m \u001b[0mv\u001b[0m \u001b[0;32min\u001b[0m \u001b[0mobj\u001b[0m\u001b[0;34m.\u001b[0m\u001b[0mitems\u001b[0m\u001b[0;34m(\u001b[0m\u001b[0;34m)\u001b[0m\u001b[0;34m\u001b[0m\u001b[0;34m\u001b[0m\u001b[0m\n\u001b[1;32m     63\u001b[0m             \u001b[0;32mif\u001b[0m \u001b[0mv\u001b[0m \u001b[0;32mis\u001b[0m \u001b[0;32mnot\u001b[0m \u001b[0mUndefined\u001b[0m\u001b[0;34m\u001b[0m\u001b[0;34m\u001b[0m\u001b[0m\n",
      "\u001b[0;32m~/Projects/BTT-2021/venv/lib/python3.8/site-packages/altair/utils/schemapi.py\u001b[0m in \u001b[0;36m_todict\u001b[0;34m(obj, validate, context)\u001b[0m\n\u001b[1;32m     54\u001b[0m     \u001b[0;34m\"\"\"Convert an object to a dict representation.\"\"\"\u001b[0m\u001b[0;34m\u001b[0m\u001b[0;34m\u001b[0m\u001b[0m\n\u001b[1;32m     55\u001b[0m     \u001b[0;32mif\u001b[0m \u001b[0misinstance\u001b[0m\u001b[0;34m(\u001b[0m\u001b[0mobj\u001b[0m\u001b[0;34m,\u001b[0m \u001b[0mSchemaBase\u001b[0m\u001b[0;34m)\u001b[0m\u001b[0;34m:\u001b[0m\u001b[0;34m\u001b[0m\u001b[0;34m\u001b[0m\u001b[0m\n\u001b[0;32m---> 56\u001b[0;31m         \u001b[0;32mreturn\u001b[0m \u001b[0mobj\u001b[0m\u001b[0;34m.\u001b[0m\u001b[0mto_dict\u001b[0m\u001b[0;34m(\u001b[0m\u001b[0mvalidate\u001b[0m\u001b[0;34m=\u001b[0m\u001b[0mvalidate\u001b[0m\u001b[0;34m,\u001b[0m \u001b[0mcontext\u001b[0m\u001b[0;34m=\u001b[0m\u001b[0mcontext\u001b[0m\u001b[0;34m)\u001b[0m\u001b[0;34m\u001b[0m\u001b[0;34m\u001b[0m\u001b[0m\n\u001b[0m\u001b[1;32m     57\u001b[0m     \u001b[0;32melif\u001b[0m \u001b[0misinstance\u001b[0m\u001b[0;34m(\u001b[0m\u001b[0mobj\u001b[0m\u001b[0;34m,\u001b[0m \u001b[0;34m(\u001b[0m\u001b[0mlist\u001b[0m\u001b[0;34m,\u001b[0m \u001b[0mtuple\u001b[0m\u001b[0;34m,\u001b[0m \u001b[0mnp\u001b[0m\u001b[0;34m.\u001b[0m\u001b[0mndarray\u001b[0m\u001b[0;34m)\u001b[0m\u001b[0;34m)\u001b[0m\u001b[0;34m:\u001b[0m\u001b[0;34m\u001b[0m\u001b[0;34m\u001b[0m\u001b[0m\n\u001b[1;32m     58\u001b[0m         \u001b[0;32mreturn\u001b[0m \u001b[0;34m[\u001b[0m\u001b[0m_todict\u001b[0m\u001b[0;34m(\u001b[0m\u001b[0mv\u001b[0m\u001b[0;34m,\u001b[0m \u001b[0mvalidate\u001b[0m\u001b[0;34m,\u001b[0m \u001b[0mcontext\u001b[0m\u001b[0;34m)\u001b[0m \u001b[0;32mfor\u001b[0m \u001b[0mv\u001b[0m \u001b[0;32min\u001b[0m \u001b[0mobj\u001b[0m\u001b[0;34m]\u001b[0m\u001b[0;34m\u001b[0m\u001b[0;34m\u001b[0m\u001b[0m\n",
      "\u001b[0;32m~/Projects/BTT-2021/venv/lib/python3.8/site-packages/altair/utils/schemapi.py\u001b[0m in \u001b[0;36mto_dict\u001b[0;34m(self, validate, ignore, context)\u001b[0m\n\u001b[1;32m    337\u001b[0m                 \u001b[0mself\u001b[0m\u001b[0;34m.\u001b[0m\u001b[0mvalidate\u001b[0m\u001b[0;34m(\u001b[0m\u001b[0mresult\u001b[0m\u001b[0;34m)\u001b[0m\u001b[0;34m\u001b[0m\u001b[0;34m\u001b[0m\u001b[0m\n\u001b[1;32m    338\u001b[0m             \u001b[0;32mexcept\u001b[0m \u001b[0mjsonschema\u001b[0m\u001b[0;34m.\u001b[0m\u001b[0mValidationError\u001b[0m \u001b[0;32mas\u001b[0m \u001b[0merr\u001b[0m\u001b[0;34m:\u001b[0m\u001b[0;34m\u001b[0m\u001b[0;34m\u001b[0m\u001b[0m\n\u001b[0;32m--> 339\u001b[0;31m                 \u001b[0;32mraise\u001b[0m \u001b[0mSchemaValidationError\u001b[0m\u001b[0;34m(\u001b[0m\u001b[0mself\u001b[0m\u001b[0;34m,\u001b[0m \u001b[0merr\u001b[0m\u001b[0;34m)\u001b[0m\u001b[0;34m\u001b[0m\u001b[0;34m\u001b[0m\u001b[0m\n\u001b[0m\u001b[1;32m    340\u001b[0m         \u001b[0;32mreturn\u001b[0m \u001b[0mresult\u001b[0m\u001b[0;34m\u001b[0m\u001b[0;34m\u001b[0m\u001b[0m\n\u001b[1;32m    341\u001b[0m \u001b[0;34m\u001b[0m\u001b[0m\n",
      "\u001b[0;31mSchemaValidationError\u001b[0m: Invalid specification\n\n        altair.vegalite.v4.schema.core.FacetedEncoding->0, validating 'type'\n\n        [{'type': 'quantitative', 'field': 'class'}, {'type': 'quantitative', 'field': 'predict'}] is not of type 'object'\n        "
     ]
    },
    {
     "data": {
      "text/plain": [
       "alt.Chart(...)"
      ]
     },
     "execution_count": 1,
     "metadata": {},
     "output_type": "execute_result"
    }
   ],
   "source": [
    "chart = (alt.Chart(df_test)\n",
    "    .mark_point()\n",
    "    .encode(\n",
    "        x = \"feature1\",\n",
    "        y = \"feature2\",\n",
    "        color = [\"class\", \"predict\"]\n",
    "    ))\n",
    "chart"
   ]
  },
  {
   "cell_type": "code",
   "execution_count": 8,
   "id": "d3747b19",
   "metadata": {
    "execution": {
     "iopub.execute_input": "2021-06-02T16:42:21.852992Z",
     "iopub.status.busy": "2021-06-02T16:42:21.852069Z",
     "iopub.status.idle": "2021-06-02T16:42:21.859371Z",
     "shell.execute_reply": "2021-06-02T16:42:21.859604Z"
    }
   },
   "outputs": [
    {
     "ename": "SchemaValidationError",
     "evalue": "Invalid specification\n\n        altair.vegalite.v4.schema.core.FacetedEncoding->0, validating 'type'\n\n        [{'type': 'quantitative', 'field': 'class'}, {'type': 'quantitative', 'field': 'predict'}] is not of type 'object'\n        ",
     "output_type": "error",
     "traceback": [
      "\u001b[0;31m---------------------------------------------------------------------------\u001b[0m",
      "\u001b[0;31mSchemaValidationError\u001b[0m                     Traceback (most recent call last)",
      "\u001b[0;32m~/Projects/BTT-2021/venv/lib/python3.8/site-packages/altair/vegalite/v4/api.py\u001b[0m in \u001b[0;36mto_dict\u001b[0;34m(self, *args, **kwargs)\u001b[0m\n\u001b[1;32m    380\u001b[0m         \u001b[0;32mif\u001b[0m \u001b[0mdct\u001b[0m \u001b[0;32mis\u001b[0m \u001b[0;32mNone\u001b[0m\u001b[0;34m:\u001b[0m\u001b[0;34m\u001b[0m\u001b[0;34m\u001b[0m\u001b[0m\n\u001b[1;32m    381\u001b[0m             \u001b[0mkwargs\u001b[0m\u001b[0;34m[\u001b[0m\u001b[0;34m\"validate\"\u001b[0m\u001b[0;34m]\u001b[0m \u001b[0;34m=\u001b[0m \u001b[0;34m\"deep\"\u001b[0m\u001b[0;34m\u001b[0m\u001b[0;34m\u001b[0m\u001b[0m\n\u001b[0;32m--> 382\u001b[0;31m             \u001b[0mdct\u001b[0m \u001b[0;34m=\u001b[0m \u001b[0msuper\u001b[0m\u001b[0;34m(\u001b[0m\u001b[0mTopLevelMixin\u001b[0m\u001b[0;34m,\u001b[0m \u001b[0mcopy\u001b[0m\u001b[0;34m)\u001b[0m\u001b[0;34m.\u001b[0m\u001b[0mto_dict\u001b[0m\u001b[0;34m(\u001b[0m\u001b[0;34m*\u001b[0m\u001b[0margs\u001b[0m\u001b[0;34m,\u001b[0m \u001b[0;34m**\u001b[0m\u001b[0mkwargs\u001b[0m\u001b[0;34m)\u001b[0m\u001b[0;34m\u001b[0m\u001b[0;34m\u001b[0m\u001b[0m\n\u001b[0m\u001b[1;32m    383\u001b[0m \u001b[0;34m\u001b[0m\u001b[0m\n\u001b[1;32m    384\u001b[0m         \u001b[0;31m# TODO: following entries are added after validation. Should they be validated?\u001b[0m\u001b[0;34m\u001b[0m\u001b[0;34m\u001b[0m\u001b[0;34m\u001b[0m\u001b[0m\n",
      "\u001b[0;32m~/Projects/BTT-2021/venv/lib/python3.8/site-packages/altair/utils/schemapi.py\u001b[0m in \u001b[0;36mto_dict\u001b[0;34m(self, validate, ignore, context)\u001b[0m\n\u001b[1;32m    323\u001b[0m             \u001b[0mresult\u001b[0m \u001b[0;34m=\u001b[0m \u001b[0m_todict\u001b[0m\u001b[0;34m(\u001b[0m\u001b[0mself\u001b[0m\u001b[0;34m.\u001b[0m\u001b[0m_args\u001b[0m\u001b[0;34m[\u001b[0m\u001b[0;36m0\u001b[0m\u001b[0;34m]\u001b[0m\u001b[0;34m,\u001b[0m \u001b[0mvalidate\u001b[0m\u001b[0;34m=\u001b[0m\u001b[0msub_validate\u001b[0m\u001b[0;34m,\u001b[0m \u001b[0mcontext\u001b[0m\u001b[0;34m=\u001b[0m\u001b[0mcontext\u001b[0m\u001b[0;34m)\u001b[0m\u001b[0;34m\u001b[0m\u001b[0;34m\u001b[0m\u001b[0m\n\u001b[1;32m    324\u001b[0m         \u001b[0;32melif\u001b[0m \u001b[0;32mnot\u001b[0m \u001b[0mself\u001b[0m\u001b[0;34m.\u001b[0m\u001b[0m_args\u001b[0m\u001b[0;34m:\u001b[0m\u001b[0;34m\u001b[0m\u001b[0;34m\u001b[0m\u001b[0m\n\u001b[0;32m--> 325\u001b[0;31m             result = _todict(\n\u001b[0m\u001b[1;32m    326\u001b[0m                 \u001b[0;34m{\u001b[0m\u001b[0mk\u001b[0m\u001b[0;34m:\u001b[0m \u001b[0mv\u001b[0m \u001b[0;32mfor\u001b[0m \u001b[0mk\u001b[0m\u001b[0;34m,\u001b[0m \u001b[0mv\u001b[0m \u001b[0;32min\u001b[0m \u001b[0mself\u001b[0m\u001b[0;34m.\u001b[0m\u001b[0m_kwds\u001b[0m\u001b[0;34m.\u001b[0m\u001b[0mitems\u001b[0m\u001b[0;34m(\u001b[0m\u001b[0;34m)\u001b[0m \u001b[0;32mif\u001b[0m \u001b[0mk\u001b[0m \u001b[0;32mnot\u001b[0m \u001b[0;32min\u001b[0m \u001b[0mignore\u001b[0m\u001b[0;34m}\u001b[0m\u001b[0;34m,\u001b[0m\u001b[0;34m\u001b[0m\u001b[0;34m\u001b[0m\u001b[0m\n\u001b[1;32m    327\u001b[0m                 \u001b[0mvalidate\u001b[0m\u001b[0;34m=\u001b[0m\u001b[0msub_validate\u001b[0m\u001b[0;34m,\u001b[0m\u001b[0;34m\u001b[0m\u001b[0;34m\u001b[0m\u001b[0m\n",
      "\u001b[0;32m~/Projects/BTT-2021/venv/lib/python3.8/site-packages/altair/utils/schemapi.py\u001b[0m in \u001b[0;36m_todict\u001b[0;34m(obj, validate, context)\u001b[0m\n\u001b[1;32m     58\u001b[0m         \u001b[0;32mreturn\u001b[0m \u001b[0;34m[\u001b[0m\u001b[0m_todict\u001b[0m\u001b[0;34m(\u001b[0m\u001b[0mv\u001b[0m\u001b[0;34m,\u001b[0m \u001b[0mvalidate\u001b[0m\u001b[0;34m,\u001b[0m \u001b[0mcontext\u001b[0m\u001b[0;34m)\u001b[0m \u001b[0;32mfor\u001b[0m \u001b[0mv\u001b[0m \u001b[0;32min\u001b[0m \u001b[0mobj\u001b[0m\u001b[0;34m]\u001b[0m\u001b[0;34m\u001b[0m\u001b[0;34m\u001b[0m\u001b[0m\n\u001b[1;32m     59\u001b[0m     \u001b[0;32melif\u001b[0m \u001b[0misinstance\u001b[0m\u001b[0;34m(\u001b[0m\u001b[0mobj\u001b[0m\u001b[0;34m,\u001b[0m \u001b[0mdict\u001b[0m\u001b[0;34m)\u001b[0m\u001b[0;34m:\u001b[0m\u001b[0;34m\u001b[0m\u001b[0;34m\u001b[0m\u001b[0m\n\u001b[0;32m---> 60\u001b[0;31m         return {\n\u001b[0m\u001b[1;32m     61\u001b[0m             \u001b[0mk\u001b[0m\u001b[0;34m:\u001b[0m \u001b[0m_todict\u001b[0m\u001b[0;34m(\u001b[0m\u001b[0mv\u001b[0m\u001b[0;34m,\u001b[0m \u001b[0mvalidate\u001b[0m\u001b[0;34m,\u001b[0m \u001b[0mcontext\u001b[0m\u001b[0;34m)\u001b[0m\u001b[0;34m\u001b[0m\u001b[0;34m\u001b[0m\u001b[0m\n\u001b[1;32m     62\u001b[0m             \u001b[0;32mfor\u001b[0m \u001b[0mk\u001b[0m\u001b[0;34m,\u001b[0m \u001b[0mv\u001b[0m \u001b[0;32min\u001b[0m \u001b[0mobj\u001b[0m\u001b[0;34m.\u001b[0m\u001b[0mitems\u001b[0m\u001b[0;34m(\u001b[0m\u001b[0;34m)\u001b[0m\u001b[0;34m\u001b[0m\u001b[0;34m\u001b[0m\u001b[0m\n",
      "\u001b[0;32m~/Projects/BTT-2021/venv/lib/python3.8/site-packages/altair/utils/schemapi.py\u001b[0m in \u001b[0;36m<dictcomp>\u001b[0;34m(.0)\u001b[0m\n\u001b[1;32m     59\u001b[0m     \u001b[0;32melif\u001b[0m \u001b[0misinstance\u001b[0m\u001b[0;34m(\u001b[0m\u001b[0mobj\u001b[0m\u001b[0;34m,\u001b[0m \u001b[0mdict\u001b[0m\u001b[0;34m)\u001b[0m\u001b[0;34m:\u001b[0m\u001b[0;34m\u001b[0m\u001b[0;34m\u001b[0m\u001b[0m\n\u001b[1;32m     60\u001b[0m         return {\n\u001b[0;32m---> 61\u001b[0;31m             \u001b[0mk\u001b[0m\u001b[0;34m:\u001b[0m \u001b[0m_todict\u001b[0m\u001b[0;34m(\u001b[0m\u001b[0mv\u001b[0m\u001b[0;34m,\u001b[0m \u001b[0mvalidate\u001b[0m\u001b[0;34m,\u001b[0m \u001b[0mcontext\u001b[0m\u001b[0;34m)\u001b[0m\u001b[0;34m\u001b[0m\u001b[0;34m\u001b[0m\u001b[0m\n\u001b[0m\u001b[1;32m     62\u001b[0m             \u001b[0;32mfor\u001b[0m \u001b[0mk\u001b[0m\u001b[0;34m,\u001b[0m \u001b[0mv\u001b[0m \u001b[0;32min\u001b[0m \u001b[0mobj\u001b[0m\u001b[0;34m.\u001b[0m\u001b[0mitems\u001b[0m\u001b[0;34m(\u001b[0m\u001b[0;34m)\u001b[0m\u001b[0;34m\u001b[0m\u001b[0;34m\u001b[0m\u001b[0m\n\u001b[1;32m     63\u001b[0m             \u001b[0;32mif\u001b[0m \u001b[0mv\u001b[0m \u001b[0;32mis\u001b[0m \u001b[0;32mnot\u001b[0m \u001b[0mUndefined\u001b[0m\u001b[0;34m\u001b[0m\u001b[0;34m\u001b[0m\u001b[0m\n",
      "\u001b[0;32m~/Projects/BTT-2021/venv/lib/python3.8/site-packages/altair/utils/schemapi.py\u001b[0m in \u001b[0;36m_todict\u001b[0;34m(obj, validate, context)\u001b[0m\n\u001b[1;32m     54\u001b[0m     \u001b[0;34m\"\"\"Convert an object to a dict representation.\"\"\"\u001b[0m\u001b[0;34m\u001b[0m\u001b[0;34m\u001b[0m\u001b[0m\n\u001b[1;32m     55\u001b[0m     \u001b[0;32mif\u001b[0m \u001b[0misinstance\u001b[0m\u001b[0;34m(\u001b[0m\u001b[0mobj\u001b[0m\u001b[0;34m,\u001b[0m \u001b[0mSchemaBase\u001b[0m\u001b[0;34m)\u001b[0m\u001b[0;34m:\u001b[0m\u001b[0;34m\u001b[0m\u001b[0;34m\u001b[0m\u001b[0m\n\u001b[0;32m---> 56\u001b[0;31m         \u001b[0;32mreturn\u001b[0m \u001b[0mobj\u001b[0m\u001b[0;34m.\u001b[0m\u001b[0mto_dict\u001b[0m\u001b[0;34m(\u001b[0m\u001b[0mvalidate\u001b[0m\u001b[0;34m=\u001b[0m\u001b[0mvalidate\u001b[0m\u001b[0;34m,\u001b[0m \u001b[0mcontext\u001b[0m\u001b[0;34m=\u001b[0m\u001b[0mcontext\u001b[0m\u001b[0;34m)\u001b[0m\u001b[0;34m\u001b[0m\u001b[0;34m\u001b[0m\u001b[0m\n\u001b[0m\u001b[1;32m     57\u001b[0m     \u001b[0;32melif\u001b[0m \u001b[0misinstance\u001b[0m\u001b[0;34m(\u001b[0m\u001b[0mobj\u001b[0m\u001b[0;34m,\u001b[0m \u001b[0;34m(\u001b[0m\u001b[0mlist\u001b[0m\u001b[0;34m,\u001b[0m \u001b[0mtuple\u001b[0m\u001b[0;34m,\u001b[0m \u001b[0mnp\u001b[0m\u001b[0;34m.\u001b[0m\u001b[0mndarray\u001b[0m\u001b[0;34m)\u001b[0m\u001b[0;34m)\u001b[0m\u001b[0;34m:\u001b[0m\u001b[0;34m\u001b[0m\u001b[0;34m\u001b[0m\u001b[0m\n\u001b[1;32m     58\u001b[0m         \u001b[0;32mreturn\u001b[0m \u001b[0;34m[\u001b[0m\u001b[0m_todict\u001b[0m\u001b[0;34m(\u001b[0m\u001b[0mv\u001b[0m\u001b[0;34m,\u001b[0m \u001b[0mvalidate\u001b[0m\u001b[0;34m,\u001b[0m \u001b[0mcontext\u001b[0m\u001b[0;34m)\u001b[0m \u001b[0;32mfor\u001b[0m \u001b[0mv\u001b[0m \u001b[0;32min\u001b[0m \u001b[0mobj\u001b[0m\u001b[0;34m]\u001b[0m\u001b[0;34m\u001b[0m\u001b[0;34m\u001b[0m\u001b[0m\n",
      "\u001b[0;32m~/Projects/BTT-2021/venv/lib/python3.8/site-packages/altair/utils/schemapi.py\u001b[0m in \u001b[0;36mto_dict\u001b[0;34m(self, validate, ignore, context)\u001b[0m\n\u001b[1;32m    337\u001b[0m                 \u001b[0mself\u001b[0m\u001b[0;34m.\u001b[0m\u001b[0mvalidate\u001b[0m\u001b[0;34m(\u001b[0m\u001b[0mresult\u001b[0m\u001b[0;34m)\u001b[0m\u001b[0;34m\u001b[0m\u001b[0;34m\u001b[0m\u001b[0m\n\u001b[1;32m    338\u001b[0m             \u001b[0;32mexcept\u001b[0m \u001b[0mjsonschema\u001b[0m\u001b[0;34m.\u001b[0m\u001b[0mValidationError\u001b[0m \u001b[0;32mas\u001b[0m \u001b[0merr\u001b[0m\u001b[0;34m:\u001b[0m\u001b[0;34m\u001b[0m\u001b[0;34m\u001b[0m\u001b[0m\n\u001b[0;32m--> 339\u001b[0;31m                 \u001b[0;32mraise\u001b[0m \u001b[0mSchemaValidationError\u001b[0m\u001b[0;34m(\u001b[0m\u001b[0mself\u001b[0m\u001b[0;34m,\u001b[0m \u001b[0merr\u001b[0m\u001b[0;34m)\u001b[0m\u001b[0;34m\u001b[0m\u001b[0;34m\u001b[0m\u001b[0m\n\u001b[0m\u001b[1;32m    340\u001b[0m         \u001b[0;32mreturn\u001b[0m \u001b[0mresult\u001b[0m\u001b[0;34m\u001b[0m\u001b[0;34m\u001b[0m\u001b[0m\n\u001b[1;32m    341\u001b[0m \u001b[0;34m\u001b[0m\u001b[0m\n",
      "\u001b[0;31mSchemaValidationError\u001b[0m: Invalid specification\n\n        altair.vegalite.v4.schema.core.FacetedEncoding->0, validating 'type'\n\n        [{'type': 'quantitative', 'field': 'class'}, {'type': 'quantitative', 'field': 'predict'}] is not of type 'object'\n        "
     ]
    },
    {
     "data": {
      "text/plain": [
       "alt.Chart(...)"
      ]
     },
     "execution_count": 1,
     "metadata": {},
     "output_type": "execute_result"
    }
   ],
   "source": [
    "chart = (alt.Chart(df_test)\n",
    "    .mark_point()\n",
    "    .encode(\n",
    "        x = \"feature1\",\n",
    "        y = \"feature2\",\n",
    "        color = [\"class\", \"predict\"]\n",
    "    ))\n",
    "chart"
   ]
  },
  {
   "cell_type": "markdown",
   "id": "d4cad933",
   "metadata": {
    "lines_to_next_cell": 2
   },
   "source": [
    "Alternative data "
   ]
  },
  {
   "cell_type": "code",
   "execution_count": 9,
   "id": "8b99102c",
   "metadata": {
    "execution": {
     "iopub.execute_input": "2021-06-02T16:42:21.863661Z",
     "iopub.status.busy": "2021-06-02T16:42:21.863221Z",
     "iopub.status.idle": "2021-06-02T16:42:21.881257Z",
     "shell.execute_reply": "2021-06-02T16:42:21.881614Z"
    }
   },
   "outputs": [
    {
     "data": {
      "text/html": [
       "<div>\n",
       "<style scoped>\n",
       "    .dataframe tbody tr th:only-of-type {\n",
       "        vertical-align: middle;\n",
       "    }\n",
       "\n",
       "    .dataframe tbody tr th {\n",
       "        vertical-align: top;\n",
       "    }\n",
       "\n",
       "    .dataframe thead th {\n",
       "        text-align: right;\n",
       "    }\n",
       "</style>\n",
       "<table border=\"1\" class=\"dataframe\">\n",
       "  <thead>\n",
       "    <tr style=\"text-align: right;\">\n",
       "      <th></th>\n",
       "      <th>class</th>\n",
       "      <th>Split</th>\n",
       "      <th>feature1</th>\n",
       "      <th>feature2</th>\n",
       "    </tr>\n",
       "  </thead>\n",
       "  <tbody>\n",
       "    <tr>\n",
       "      <th>0</th>\n",
       "      <td>0</td>\n",
       "      <td>Test</td>\n",
       "      <td>1</td>\n",
       "      <td>8918653</td>\n",
       "    </tr>\n",
       "    <tr>\n",
       "      <th>1</th>\n",
       "      <td>1</td>\n",
       "      <td>Test</td>\n",
       "      <td>2</td>\n",
       "      <td>8918653</td>\n",
       "    </tr>\n",
       "    <tr>\n",
       "      <th>2</th>\n",
       "      <td>0</td>\n",
       "      <td>Train</td>\n",
       "      <td>1</td>\n",
       "      <td>8550405</td>\n",
       "    </tr>\n",
       "    <tr>\n",
       "      <th>3</th>\n",
       "      <td>1</td>\n",
       "      <td>Train</td>\n",
       "      <td>1</td>\n",
       "      <td>8550405</td>\n",
       "    </tr>\n",
       "    <tr>\n",
       "      <th>4</th>\n",
       "      <td>2</td>\n",
       "      <td>Los Angeles</td>\n",
       "      <td>United States</td>\n",
       "      <td>3971883</td>\n",
       "    </tr>\n",
       "    <tr>\n",
       "      <th>...</th>\n",
       "      <td>...</td>\n",
       "      <td>...</td>\n",
       "      <td>...</td>\n",
       "      <td>...</td>\n",
       "    </tr>\n",
       "    <tr>\n",
       "      <th>92</th>\n",
       "      <td>90</td>\n",
       "      <td>Surrey</td>\n",
       "      <td>Canada</td>\n",
       "      <td>526004</td>\n",
       "    </tr>\n",
       "    <tr>\n",
       "      <th>93</th>\n",
       "      <td>91</td>\n",
       "      <td>Ciudad López Mateos</td>\n",
       "      <td>Mexico</td>\n",
       "      <td>523296</td>\n",
       "    </tr>\n",
       "    <tr>\n",
       "      <th>94</th>\n",
       "      <td>92</td>\n",
       "      <td>Tultitlán</td>\n",
       "      <td>Mexico</td>\n",
       "      <td>520557</td>\n",
       "    </tr>\n",
       "    <tr>\n",
       "      <th>95</th>\n",
       "      <td>93</td>\n",
       "      <td>Fresno</td>\n",
       "      <td>United States</td>\n",
       "      <td>520052</td>\n",
       "    </tr>\n",
       "    <tr>\n",
       "      <th>96</th>\n",
       "      <td>94</td>\n",
       "      <td>Carrefour</td>\n",
       "      <td>Haiti</td>\n",
       "      <td>501768</td>\n",
       "    </tr>\n",
       "  </tbody>\n",
       "</table>\n",
       "<p>97 rows × 4 columns</p>\n",
       "</div>"
      ],
      "text/plain": [
       "    class                Split       feature1  feature2\n",
       "0       0                 Test              1   8918653\n",
       "1       1                 Test              2   8918653\n",
       "2       0                Train              1   8550405\n",
       "3       1                Train              1   8550405\n",
       "4       2          Los Angeles  United States   3971883\n",
       "..    ...                  ...            ...       ...\n",
       "92     90               Surrey         Canada    526004\n",
       "93     91  Ciudad López Mateos         Mexico    523296\n",
       "94     92            Tultitlán         Mexico    520557\n",
       "95     93               Fresno  United States    520052\n",
       "96     94            Carrefour          Haiti    501768\n",
       "\n",
       "[97 rows x 4 columns]"
      ]
     },
     "execution_count": 1,
     "metadata": {},
     "output_type": "execute_result"
    }
   ],
   "source": [
    "df = pd.read_csv(\"data/DataSet.csv\")\n",
    "df"
   ]
  },
  {
   "cell_type": "code",
   "execution_count": 10,
   "id": "9b6526a6",
   "metadata": {
    "execution": {
     "iopub.execute_input": "2021-06-02T16:42:21.885982Z",
     "iopub.status.busy": "2021-06-02T16:42:21.885430Z",
     "iopub.status.idle": "2021-06-02T16:42:21.888317Z",
     "shell.execute_reply": "2021-06-02T16:42:21.887703Z"
    }
   },
   "outputs": [],
   "source": [
    "df_train = df.loc[df[\"Split\"] == \"Train\"]"
   ]
  },
  {
   "cell_type": "code",
   "execution_count": 11,
   "id": "17c0c2a1",
   "metadata": {
    "execution": {
     "iopub.execute_input": "2021-06-02T16:42:21.897253Z",
     "iopub.status.busy": "2021-06-02T16:42:21.896406Z",
     "iopub.status.idle": "2021-06-02T16:42:21.900205Z",
     "shell.execute_reply": "2021-06-02T16:42:21.899461Z"
    }
   },
   "outputs": [
    {
     "data": {
      "text/plain": [
       "LogisticRegression()"
      ]
     },
     "execution_count": 1,
     "metadata": {},
     "output_type": "execute_result"
    }
   ],
   "source": [
    "model = LogisticRegression()\n",
    "model.fit(df_train[[\"feature1\", \"feature2\"]],\n",
    "          df_train[\"class\"])"
   ]
  },
  {
   "cell_type": "code",
   "execution_count": 12,
   "id": "1cb116c1",
   "metadata": {
    "execution": {
     "iopub.execute_input": "2021-06-02T16:42:21.908433Z",
     "iopub.status.busy": "2021-06-02T16:42:21.907556Z",
     "iopub.status.idle": "2021-06-02T16:42:21.911232Z",
     "shell.execute_reply": "2021-06-02T16:42:21.910481Z"
    },
    "lines_to_next_cell": 2
   },
   "outputs": [
    {
     "name": "stderr",
     "output_type": "stream",
     "text": [
      "<ipython-input-1-73e892e537e0>:2: SettingWithCopyWarning: \n",
      "A value is trying to be set on a copy of a slice from a DataFrame.\n",
      "Try using .loc[row_indexer,col_indexer] = value instead\n",
      "\n",
      "See the caveats in the documentation: https://pandas.pydata.org/pandas-docs/stable/user_guide/indexing.html#returning-a-view-versus-a-copy\n",
      "  df_test[\"predict\"] = model.predict(df_test[[\"feature1\", \"feature2\"]])\n"
     ]
    }
   ],
   "source": [
    "df_test = df.loc[df[\"Split\"] == \"Test\"]\n",
    "df_test[\"predict\"] = model.predict(df_test[[\"feature1\", \"feature2\"]])"
   ]
  },
  {
   "cell_type": "markdown",
   "id": "472b80c5",
   "metadata": {},
   "source": [
    "Alternative Approach"
   ]
  },
  {
   "cell_type": "markdown",
   "id": "daff80ac",
   "metadata": {
    "lines_to_next_cell": 2
   },
   "source": [
    "model = KNNClassifier()\n",
    "model.fit(df_train[[\"feature1\", \"feature2\"]],\n",
    "          df_train[\"class\"])"
   ]
  },
  {
   "cell_type": "code",
   "execution_count": 13,
   "id": "59383332",
   "metadata": {
    "execution": {
     "iopub.execute_input": "2021-06-02T16:42:21.920368Z",
     "iopub.status.busy": "2021-06-02T16:42:21.919515Z",
     "iopub.status.idle": "2021-06-02T16:42:21.922376Z",
     "shell.execute_reply": "2021-06-02T16:42:21.923084Z"
    },
    "lines_to_next_cell": 2
   },
   "outputs": [
    {
     "name": "stderr",
     "output_type": "stream",
     "text": [
      "<ipython-input-1-73e892e537e0>:2: SettingWithCopyWarning: \n",
      "A value is trying to be set on a copy of a slice from a DataFrame.\n",
      "Try using .loc[row_indexer,col_indexer] = value instead\n",
      "\n",
      "See the caveats in the documentation: https://pandas.pydata.org/pandas-docs/stable/user_guide/indexing.html#returning-a-view-versus-a-copy\n",
      "  df_test[\"predict\"] = model.predict(df_test[[\"feature1\", \"feature2\"]])\n"
     ]
    }
   ],
   "source": [
    "df_test = df.loc[df[\"Split\"] == \"Test\"]\n",
    "df_test[\"predict\"] = model.predict(df_test[[\"feature1\", \"feature2\"]])"
   ]
  },
  {
   "cell_type": "markdown",
   "id": "811207cf",
   "metadata": {},
   "source": [
    "## Evaluation."
   ]
  },
  {
   "cell_type": "code",
   "execution_count": 14,
   "id": "706ab6a8",
   "metadata": {
    "execution": {
     "iopub.execute_input": "2021-06-02T16:42:21.929932Z",
     "iopub.status.busy": "2021-06-02T16:42:21.929086Z",
     "iopub.status.idle": "2021-06-02T16:42:21.932866Z",
     "shell.execute_reply": "2021-06-02T16:42:21.932149Z"
    }
   },
   "outputs": [
    {
     "data": {
      "text/plain": [
       "0    0\n",
       "1    0\n",
       "Name: predict, dtype: int64"
      ]
     },
     "execution_count": 1,
     "metadata": {},
     "output_type": "execute_result"
    }
   ],
   "source": [
    "df_test[\"class\"]\n",
    "df_test[\"predict\"]"
   ]
  },
  {
   "cell_type": "markdown",
   "id": "bc5b6e01",
   "metadata": {},
   "source": [
    "Real World example"
   ]
  },
  {
   "cell_type": "markdown",
   "id": "256cf9f2",
   "metadata": {},
   "source": [
    "Temperature classification. "
   ]
  },
  {
   "cell_type": "code",
   "execution_count": 15,
   "id": "9178777c",
   "metadata": {
    "execution": {
     "iopub.execute_input": "2021-06-02T16:42:21.938741Z",
     "iopub.status.busy": "2021-06-02T16:42:21.937867Z",
     "iopub.status.idle": "2021-06-02T16:42:22.016229Z",
     "shell.execute_reply": "2021-06-02T16:42:22.015462Z"
    },
    "lines_to_next_cell": 2
   },
   "outputs": [],
   "source": [
    "df = pd.read_csv(\"data/Temperatures.csv\", index_col=0, parse_dates=[1])"
   ]
  },
  {
   "cell_type": "code",
   "execution_count": 16,
   "id": "c249fffa",
   "metadata": {
    "execution": {
     "iopub.execute_input": "2021-06-02T16:42:22.024290Z",
     "iopub.status.busy": "2021-06-02T16:42:22.023443Z",
     "iopub.status.idle": "2021-06-02T16:42:22.035659Z",
     "shell.execute_reply": "2021-06-02T16:42:22.036323Z"
    },
    "lines_to_next_cell": 2
   },
   "outputs": [],
   "source": [
    "check = ((df[\"Country\"] == \"United States\") &\n",
    "         (df[\"dt\"].dt.year == 1950) &\n",
    "         (df[\"dt\"].dt.month == 7) )\n",
    "df2 = df.loc[check]"
   ]
  },
  {
   "cell_type": "code",
   "execution_count": 17,
   "id": "4f9d7245",
   "metadata": {
    "execution": {
     "iopub.execute_input": "2021-06-02T16:42:22.041923Z",
     "iopub.status.busy": "2021-06-02T16:42:22.041087Z",
     "iopub.status.idle": "2021-06-02T16:42:22.061204Z",
     "shell.execute_reply": "2021-06-02T16:42:22.061898Z"
    }
   },
   "outputs": [
    {
     "data": {
      "text/html": [
       "<div>\n",
       "<style scoped>\n",
       "    .dataframe tbody tr th:only-of-type {\n",
       "        vertical-align: middle;\n",
       "    }\n",
       "\n",
       "    .dataframe tbody tr th {\n",
       "        vertical-align: top;\n",
       "    }\n",
       "\n",
       "    .dataframe thead th {\n",
       "        text-align: right;\n",
       "    }\n",
       "</style>\n",
       "<table border=\"1\" class=\"dataframe\">\n",
       "  <thead>\n",
       "    <tr style=\"text-align: right;\">\n",
       "      <th></th>\n",
       "      <th>AverageTemperature</th>\n",
       "      <th>AverageTemperatureUncertainty</th>\n",
       "      <th>Latitude</th>\n",
       "      <th>Longitude</th>\n",
       "    </tr>\n",
       "  </thead>\n",
       "  <tbody>\n",
       "    <tr>\n",
       "      <th>count</th>\n",
       "      <td>35.000000</td>\n",
       "      <td>35.000000</td>\n",
       "      <td>35.000000</td>\n",
       "      <td>35.000000</td>\n",
       "    </tr>\n",
       "    <tr>\n",
       "      <th>mean</th>\n",
       "      <td>23.382429</td>\n",
       "      <td>0.260914</td>\n",
       "      <td>36.856000</td>\n",
       "      <td>-98.331714</td>\n",
       "    </tr>\n",
       "    <tr>\n",
       "      <th>std</th>\n",
       "      <td>3.934708</td>\n",
       "      <td>0.084475</td>\n",
       "      <td>4.903182</td>\n",
       "      <td>16.483778</td>\n",
       "    </tr>\n",
       "    <tr>\n",
       "      <th>min</th>\n",
       "      <td>15.159000</td>\n",
       "      <td>0.133000</td>\n",
       "      <td>29.740000</td>\n",
       "      <td>-123.460000</td>\n",
       "    </tr>\n",
       "    <tr>\n",
       "      <th>25%</th>\n",
       "      <td>20.395500</td>\n",
       "      <td>0.199500</td>\n",
       "      <td>32.950000</td>\n",
       "      <td>-113.690000</td>\n",
       "    </tr>\n",
       "    <tr>\n",
       "      <th>50%</th>\n",
       "      <td>23.267000</td>\n",
       "      <td>0.256000</td>\n",
       "      <td>36.170000</td>\n",
       "      <td>-96.700000</td>\n",
       "    </tr>\n",
       "    <tr>\n",
       "      <th>75%</th>\n",
       "      <td>25.897500</td>\n",
       "      <td>0.289500</td>\n",
       "      <td>39.380000</td>\n",
       "      <td>-85.265000</td>\n",
       "    </tr>\n",
       "    <tr>\n",
       "      <th>max</th>\n",
       "      <td>31.334000</td>\n",
       "      <td>0.505000</td>\n",
       "      <td>47.420000</td>\n",
       "      <td>-72.000000</td>\n",
       "    </tr>\n",
       "  </tbody>\n",
       "</table>\n",
       "</div>"
      ],
      "text/plain": [
       "       AverageTemperature  AverageTemperatureUncertainty   Latitude  \\\n",
       "count           35.000000                      35.000000  35.000000   \n",
       "mean            23.382429                       0.260914  36.856000   \n",
       "std              3.934708                       0.084475   4.903182   \n",
       "min             15.159000                       0.133000  29.740000   \n",
       "25%             20.395500                       0.199500  32.950000   \n",
       "50%             23.267000                       0.256000  36.170000   \n",
       "75%             25.897500                       0.289500  39.380000   \n",
       "max             31.334000                       0.505000  47.420000   \n",
       "\n",
       "        Longitude  \n",
       "count   35.000000  \n",
       "mean   -98.331714  \n",
       "std     16.483778  \n",
       "min   -123.460000  \n",
       "25%   -113.690000  \n",
       "50%    -96.700000  \n",
       "75%    -85.265000  \n",
       "max    -72.000000  "
      ]
     },
     "execution_count": 1,
     "metadata": {},
     "output_type": "execute_result"
    }
   ],
   "source": [
    "out = df2.describe()\n",
    "out"
   ]
  },
  {
   "cell_type": "code",
   "execution_count": 18,
   "id": "caca2510",
   "metadata": {
    "execution": {
     "iopub.execute_input": "2021-06-02T16:42:22.081244Z",
     "iopub.status.busy": "2021-06-02T16:42:22.080360Z",
     "iopub.status.idle": "2021-06-02T16:42:22.083954Z",
     "shell.execute_reply": "2021-06-02T16:42:22.084641Z"
    },
    "lines_to_next_cell": 2
   },
   "outputs": [
    {
     "data": {
      "text/html": [
       "\n",
       "<div id=\"altair-viz-38bbab17221e43d6a6f86de1349d0553\"></div>\n",
       "<script type=\"text/javascript\">\n",
       "  (function(spec, embedOpt){\n",
       "    let outputDiv = document.currentScript.previousElementSibling;\n",
       "    if (outputDiv.id !== \"altair-viz-38bbab17221e43d6a6f86de1349d0553\") {\n",
       "      outputDiv = document.getElementById(\"altair-viz-38bbab17221e43d6a6f86de1349d0553\");\n",
       "    }\n",
       "    const paths = {\n",
       "      \"vega\": \"https://cdn.jsdelivr.net/npm//vega@5?noext\",\n",
       "      \"vega-lib\": \"https://cdn.jsdelivr.net/npm//vega-lib?noext\",\n",
       "      \"vega-lite\": \"https://cdn.jsdelivr.net/npm//vega-lite@4.8.1?noext\",\n",
       "      \"vega-embed\": \"https://cdn.jsdelivr.net/npm//vega-embed@6?noext\",\n",
       "    };\n",
       "\n",
       "    function loadScript(lib) {\n",
       "      return new Promise(function(resolve, reject) {\n",
       "        var s = document.createElement('script');\n",
       "        s.src = paths[lib];\n",
       "        s.async = true;\n",
       "        s.onload = () => resolve(paths[lib]);\n",
       "        s.onerror = () => reject(`Error loading script: ${paths[lib]}`);\n",
       "        document.getElementsByTagName(\"head\")[0].appendChild(s);\n",
       "      });\n",
       "    }\n",
       "\n",
       "    function showError(err) {\n",
       "      outputDiv.innerHTML = `<div class=\"error\" style=\"color:red;\">${err}</div>`;\n",
       "      throw err;\n",
       "    }\n",
       "\n",
       "    function displayChart(vegaEmbed) {\n",
       "      vegaEmbed(outputDiv, spec, embedOpt)\n",
       "        .catch(err => showError(`Javascript Error: ${err.message}<br>This usually means there's a typo in your chart specification. See the javascript console for the full traceback.`));\n",
       "    }\n",
       "\n",
       "    if(typeof define === \"function\" && define.amd) {\n",
       "      requirejs.config({paths});\n",
       "      require([\"vega-embed\"], displayChart, err => showError(`Error loading script: ${err.message}`));\n",
       "    } else if (typeof vegaEmbed === \"function\") {\n",
       "      displayChart(vegaEmbed);\n",
       "    } else {\n",
       "      loadScript(\"vega\")\n",
       "        .then(() => loadScript(\"vega-lite\"))\n",
       "        .then(() => loadScript(\"vega-embed\"))\n",
       "        .catch(showError)\n",
       "        .then(() => displayChart(vegaEmbed));\n",
       "    }\n",
       "  })({\"config\": {\"view\": {\"continuousWidth\": 400, \"continuousHeight\": 300}}, \"data\": {\"name\": \"data-a24446c2388b6e9520e228763928e3f2\"}, \"mark\": \"point\", \"encoding\": {\"tooltip\": [{\"type\": \"nominal\", \"field\": \"City\"}, {\"type\": \"nominal\", \"field\": \"Country\"}], \"x\": {\"type\": \"quantitative\", \"field\": \"Latitude\"}, \"y\": {\"type\": \"quantitative\", \"field\": \"AverageTemperature\"}}, \"$schema\": \"https://vega.github.io/schema/vega-lite/v4.8.1.json\", \"datasets\": {\"data-a24446c2388b6e9520e228763928e3f2\": [{\"dt\": \"1950-07-01T00:00:00\", \"AverageTemperature\": 22.148000000000003, \"AverageTemperatureUncertainty\": 0.198, \"City\": \"Albuquerque\", \"Country\": \"United States\", \"Latitude\": 34.56, \"Longitude\": -107.03}, {\"dt\": \"1950-07-01T00:00:00\", \"AverageTemperature\": 28.817, \"AverageTemperatureUncertainty\": 0.206, \"City\": \"Austin\", \"Country\": \"United States\", \"Latitude\": 29.74, \"Longitude\": -97.85}, {\"dt\": \"1950-07-01T00:00:00\", \"AverageTemperature\": 23.133000000000006, \"AverageTemperatureUncertainty\": 0.2789999999999999, \"City\": \"Baltimore\", \"Country\": \"United States\", \"Latitude\": 39.38, \"Longitude\": -76.99}, {\"dt\": \"1950-07-01T00:00:00\", \"AverageTemperature\": 20.544, \"AverageTemperatureUncertainty\": 0.418, \"City\": \"Boston\", \"Country\": \"United States\", \"Latitude\": 42.59, \"Longitude\": -72.0}, {\"dt\": \"1950-07-01T00:00:00\", \"AverageTemperature\": 25.075, \"AverageTemperatureUncertainty\": 0.262, \"City\": \"Charlotte\", \"Country\": \"United States\", \"Latitude\": 34.56, \"Longitude\": -81.73}, {\"dt\": \"1950-07-01T00:00:00\", \"AverageTemperature\": 20.247, \"AverageTemperatureUncertainty\": 0.2289999999999999, \"City\": \"Chicago\", \"Country\": \"United States\", \"Latitude\": 42.59, \"Longitude\": -87.27}, {\"dt\": \"1950-07-01T00:00:00\", \"AverageTemperature\": 25.187, \"AverageTemperatureUncertainty\": 0.268, \"City\": \"Columbus\", \"Country\": \"United States\", \"Latitude\": 32.95, \"Longitude\": -85.21}, {\"dt\": \"1950-07-01T00:00:00\", \"AverageTemperature\": 22.168000000000003, \"AverageTemperatureUncertainty\": 0.249, \"City\": \"Columbus\", \"Country\": \"United States\", \"Latitude\": 39.38, \"Longitude\": -83.24}, {\"dt\": \"1950-07-01T00:00:00\", \"AverageTemperature\": 26.982, \"AverageTemperatureUncertainty\": 0.278, \"City\": \"Dallas\", \"Country\": \"United States\", \"Latitude\": 32.95, \"Longitude\": -96.7}, {\"dt\": \"1950-07-01T00:00:00\", \"AverageTemperature\": 19.942, \"AverageTemperatureUncertainty\": 0.276, \"City\": \"Denver\", \"Country\": \"United States\", \"Latitude\": 39.38, \"Longitude\": -104.05}, {\"dt\": \"1950-07-01T00:00:00\", \"AverageTemperature\": 20.916, \"AverageTemperatureUncertainty\": 0.1969999999999999, \"City\": \"Detroit\", \"Country\": \"United States\", \"Latitude\": 42.59, \"Longitude\": -82.91}, {\"dt\": \"1950-07-01T00:00:00\", \"AverageTemperature\": 24.864, \"AverageTemperatureUncertainty\": 0.201, \"City\": \"El Paso\", \"Country\": \"United States\", \"Latitude\": 31.35, \"Longitude\": -105.55}, {\"dt\": \"1950-07-01T00:00:00\", \"AverageTemperature\": 26.982, \"AverageTemperatureUncertainty\": 0.278, \"City\": \"Fort Worth\", \"Country\": \"United States\", \"Latitude\": 32.95, \"Longitude\": -96.7}, {\"dt\": \"1950-07-01T00:00:00\", \"AverageTemperature\": 27.256, \"AverageTemperatureUncertainty\": 0.466, \"City\": \"Fresno\", \"Country\": \"United States\", \"Latitude\": 36.17, \"Longitude\": -119.34}, {\"dt\": \"1950-07-01T00:00:00\", \"AverageTemperature\": 28.248, \"AverageTemperatureUncertainty\": 0.195, \"City\": \"Houston\", \"Country\": \"United States\", \"Latitude\": 29.74, \"Longitude\": -96.0}, {\"dt\": \"1950-07-01T00:00:00\", \"AverageTemperature\": 22.203000000000003, \"AverageTemperatureUncertainty\": 0.32, \"City\": \"Indianapolis\", \"Country\": \"United States\", \"Latitude\": 39.38, \"Longitude\": -85.32}, {\"dt\": \"1950-07-01T00:00:00\", \"AverageTemperature\": 26.188, \"AverageTemperatureUncertainty\": 0.256, \"City\": \"Jacksonville\", \"Country\": \"United States\", \"Latitude\": 29.74, \"Longitude\": -81.23}, {\"dt\": \"1950-07-01T00:00:00\", \"AverageTemperature\": 29.69, \"AverageTemperatureUncertainty\": 0.2739999999999999, \"City\": \"Las Vegas\", \"Country\": \"United States\", \"Latitude\": 36.17, \"Longitude\": -115.36}, {\"dt\": \"1950-07-01T00:00:00\", \"AverageTemperature\": 24.212, \"AverageTemperatureUncertainty\": 0.505, \"City\": \"Los Angeles\", \"Country\": \"United States\", \"Latitude\": 34.56, \"Longitude\": -118.7}, {\"dt\": \"1950-07-01T00:00:00\", \"AverageTemperature\": 22.943, \"AverageTemperatureUncertainty\": 0.166, \"City\": \"Louisville\", \"Country\": \"United States\", \"Latitude\": 37.78, \"Longitude\": -85.42}, {\"dt\": \"1950-07-01T00:00:00\", \"AverageTemperature\": 25.273000000000003, \"AverageTemperatureUncertainty\": 0.198, \"City\": \"Memphis\", \"Country\": \"United States\", \"Latitude\": 34.56, \"Longitude\": -89.51}, {\"dt\": \"1950-07-01T00:00:00\", \"AverageTemperature\": 20.247, \"AverageTemperatureUncertainty\": 0.2289999999999999, \"City\": \"Milwaukee\", \"Country\": \"United States\", \"Latitude\": 42.59, \"Longitude\": -87.27}, {\"dt\": \"1950-07-01T00:00:00\", \"AverageTemperature\": 23.784, \"AverageTemperatureUncertainty\": 0.335, \"City\": \"Nashville\", \"Country\": \"United States\", \"Latitude\": 36.17, \"Longitude\": -87.51}, {\"dt\": \"1950-07-01T00:00:00\", \"AverageTemperature\": 21.613000000000003, \"AverageTemperatureUncertainty\": 0.133, \"City\": \"New York\", \"Country\": \"United States\", \"Latitude\": 40.99, \"Longitude\": -74.56}, {\"dt\": \"1950-07-01T00:00:00\", \"AverageTemperature\": 24.761, \"AverageTemperatureUncertainty\": 0.305, \"City\": \"Oklahoma City\", \"Country\": \"United States\", \"Latitude\": 36.17, \"Longitude\": -97.46}, {\"dt\": \"1950-07-01T00:00:00\", \"AverageTemperature\": 23.267, \"AverageTemperatureUncertainty\": 0.387, \"City\": \"Philadelphia\", \"Country\": \"United States\", \"Latitude\": 39.38, \"Longitude\": -74.91}, {\"dt\": \"1950-07-01T00:00:00\", \"AverageTemperature\": 31.334, \"AverageTemperatureUncertainty\": 0.273, \"City\": \"Phoenix\", \"Country\": \"United States\", \"Latitude\": 32.95, \"Longitude\": -112.02}, {\"dt\": \"1950-07-01T00:00:00\", \"AverageTemperature\": 16.081999999999994, \"AverageTemperatureUncertainty\": 0.171, \"City\": \"Portland\", \"Country\": \"United States\", \"Latitude\": 45.81, \"Longitude\": -123.46}, {\"dt\": \"1950-07-01T00:00:00\", \"AverageTemperature\": 28.817, \"AverageTemperatureUncertainty\": 0.206, \"City\": \"San Antonio\", \"Country\": \"United States\", \"Latitude\": 29.74, \"Longitude\": -97.85}, {\"dt\": \"1950-07-01T00:00:00\", \"AverageTemperature\": 19.116, \"AverageTemperatureUncertainty\": 0.21, \"City\": \"San Diego\", \"Country\": \"United States\", \"Latitude\": 32.95, \"Longitude\": -117.77}, {\"dt\": \"1950-07-01T00:00:00\", \"AverageTemperature\": 19.749, \"AverageTemperatureUncertainty\": 0.3, \"City\": \"San Francisco\", \"Country\": \"United States\", \"Latitude\": 37.78, \"Longitude\": -122.03}, {\"dt\": \"1950-07-01T00:00:00\", \"AverageTemperature\": 19.749, \"AverageTemperatureUncertainty\": 0.3, \"City\": \"San Jose\", \"Country\": \"United States\", \"Latitude\": 37.78, \"Longitude\": -122.03}, {\"dt\": \"1950-07-01T00:00:00\", \"AverageTemperature\": 15.159, \"AverageTemperatureUncertainty\": 0.15, \"City\": \"Seattle\", \"Country\": \"United States\", \"Latitude\": 47.42, \"Longitude\": -121.97}, {\"dt\": \"1950-07-01T00:00:00\", \"AverageTemperature\": 25.607, \"AverageTemperatureUncertainty\": 0.243, \"City\": \"Tucson\", \"Country\": \"United States\", \"Latitude\": 31.35, \"Longitude\": -111.2}, {\"dt\": \"1950-07-01T00:00:00\", \"AverageTemperature\": 16.081999999999994, \"AverageTemperatureUncertainty\": 0.171, \"City\": \"Vancouver\", \"Country\": \"United States\", \"Latitude\": 45.81, \"Longitude\": -123.46}]}}, {\"mode\": \"vega-lite\"});\n",
       "</script>"
      ],
      "text/plain": [
       "alt.Chart(...)"
      ]
     },
     "execution_count": 1,
     "metadata": {},
     "output_type": "execute_result"
    }
   ],
   "source": [
    "chart = alt.Chart(df2).mark_point().encode(\n",
    "    y = \"AverageTemperature\",\n",
    "    x = \"Latitude\",\n",
    "    tooltip=[\"City\", \"Country\"],\n",
    ")\n",
    "chart"
   ]
  },
  {
   "cell_type": "code",
   "execution_count": 19,
   "id": "d7fc486e",
   "metadata": {
    "execution": {
     "iopub.execute_input": "2021-06-02T16:42:22.092259Z",
     "iopub.status.busy": "2021-06-02T16:42:22.091423Z",
     "iopub.status.idle": "2021-06-02T16:42:22.094360Z",
     "shell.execute_reply": "2021-06-02T16:42:22.095055Z"
    }
   },
   "outputs": [
    {
     "data": {
      "text/plain": [
       "LinearRegression()"
      ]
     },
     "execution_count": 1,
     "metadata": {},
     "output_type": "execute_result"
    }
   ],
   "source": [
    "model = sklearn.linear_model.LinearRegression()\n",
    "model.fit(df2[[\"Latitude\"]], df2[\"AverageTemperature\"])"
   ]
  },
  {
   "cell_type": "code",
   "execution_count": 20,
   "id": "227c330f",
   "metadata": {
    "execution": {
     "iopub.execute_input": "2021-06-02T16:42:22.104818Z",
     "iopub.status.busy": "2021-06-02T16:42:22.103978Z",
     "iopub.status.idle": "2021-06-02T16:42:22.107404Z",
     "shell.execute_reply": "2021-06-02T16:42:22.108097Z"
    },
    "lines_to_next_cell": 2
   },
   "outputs": [
    {
     "data": {
      "text/html": [
       "<div>\n",
       "<style scoped>\n",
       "    .dataframe tbody tr th:only-of-type {\n",
       "        vertical-align: middle;\n",
       "    }\n",
       "\n",
       "    .dataframe tbody tr th {\n",
       "        vertical-align: top;\n",
       "    }\n",
       "\n",
       "    .dataframe thead th {\n",
       "        text-align: right;\n",
       "    }\n",
       "</style>\n",
       "<table border=\"1\" class=\"dataframe\">\n",
       "  <thead>\n",
       "    <tr style=\"text-align: right;\">\n",
       "      <th></th>\n",
       "      <th>Latitude</th>\n",
       "      <th>AverageTemperature</th>\n",
       "    </tr>\n",
       "  </thead>\n",
       "  <tbody>\n",
       "    <tr>\n",
       "      <th>0</th>\n",
       "      <td>25.000000</td>\n",
       "      <td>31.091141</td>\n",
       "    </tr>\n",
       "    <tr>\n",
       "      <th>1</th>\n",
       "      <td>27.777778</td>\n",
       "      <td>29.285044</td>\n",
       "    </tr>\n",
       "    <tr>\n",
       "      <th>2</th>\n",
       "      <td>30.555556</td>\n",
       "      <td>27.478947</td>\n",
       "    </tr>\n",
       "    <tr>\n",
       "      <th>3</th>\n",
       "      <td>33.333333</td>\n",
       "      <td>25.672849</td>\n",
       "    </tr>\n",
       "    <tr>\n",
       "      <th>4</th>\n",
       "      <td>36.111111</td>\n",
       "      <td>23.866752</td>\n",
       "    </tr>\n",
       "    <tr>\n",
       "      <th>5</th>\n",
       "      <td>38.888889</td>\n",
       "      <td>22.060654</td>\n",
       "    </tr>\n",
       "    <tr>\n",
       "      <th>6</th>\n",
       "      <td>41.666667</td>\n",
       "      <td>20.254557</td>\n",
       "    </tr>\n",
       "    <tr>\n",
       "      <th>7</th>\n",
       "      <td>44.444444</td>\n",
       "      <td>18.448459</td>\n",
       "    </tr>\n",
       "    <tr>\n",
       "      <th>8</th>\n",
       "      <td>47.222222</td>\n",
       "      <td>16.642362</td>\n",
       "    </tr>\n",
       "    <tr>\n",
       "      <th>9</th>\n",
       "      <td>50.000000</td>\n",
       "      <td>14.836265</td>\n",
       "    </tr>\n",
       "  </tbody>\n",
       "</table>\n",
       "</div>"
      ],
      "text/plain": [
       "    Latitude  AverageTemperature\n",
       "0  25.000000           31.091141\n",
       "1  27.777778           29.285044\n",
       "2  30.555556           27.478947\n",
       "3  33.333333           25.672849\n",
       "4  36.111111           23.866752\n",
       "5  38.888889           22.060654\n",
       "6  41.666667           20.254557\n",
       "7  44.444444           18.448459\n",
       "8  47.222222           16.642362\n",
       "9  50.000000           14.836265"
      ]
     },
     "execution_count": 1,
     "metadata": {},
     "output_type": "execute_result"
    }
   ],
   "source": [
    "df_pred = pd.DataFrame({\"Latitude\": np.linspace(25, 50, 10)})\n",
    "df_pred[\"AverageTemperature\"] = model.predict(df_pred[[\"Latitude\"]])\n",
    "df_pred"
   ]
  },
  {
   "cell_type": "code",
   "execution_count": 21,
   "id": "21d7c7ef",
   "metadata": {
    "execution": {
     "iopub.execute_input": "2021-06-02T16:42:22.192418Z",
     "iopub.status.busy": "2021-06-02T16:42:22.181223Z",
     "iopub.status.idle": "2021-06-02T16:42:22.195289Z",
     "shell.execute_reply": "2021-06-02T16:42:22.195990Z"
    },
    "lines_to_next_cell": 2
   },
   "outputs": [
    {
     "data": {
      "text/html": [
       "\n",
       "<div id=\"altair-viz-cae0921af42e4809b5d4a12fa0992238\"></div>\n",
       "<script type=\"text/javascript\">\n",
       "  (function(spec, embedOpt){\n",
       "    let outputDiv = document.currentScript.previousElementSibling;\n",
       "    if (outputDiv.id !== \"altair-viz-cae0921af42e4809b5d4a12fa0992238\") {\n",
       "      outputDiv = document.getElementById(\"altair-viz-cae0921af42e4809b5d4a12fa0992238\");\n",
       "    }\n",
       "    const paths = {\n",
       "      \"vega\": \"https://cdn.jsdelivr.net/npm//vega@5?noext\",\n",
       "      \"vega-lib\": \"https://cdn.jsdelivr.net/npm//vega-lib?noext\",\n",
       "      \"vega-lite\": \"https://cdn.jsdelivr.net/npm//vega-lite@4.8.1?noext\",\n",
       "      \"vega-embed\": \"https://cdn.jsdelivr.net/npm//vega-embed@6?noext\",\n",
       "    };\n",
       "\n",
       "    function loadScript(lib) {\n",
       "      return new Promise(function(resolve, reject) {\n",
       "        var s = document.createElement('script');\n",
       "        s.src = paths[lib];\n",
       "        s.async = true;\n",
       "        s.onload = () => resolve(paths[lib]);\n",
       "        s.onerror = () => reject(`Error loading script: ${paths[lib]}`);\n",
       "        document.getElementsByTagName(\"head\")[0].appendChild(s);\n",
       "      });\n",
       "    }\n",
       "\n",
       "    function showError(err) {\n",
       "      outputDiv.innerHTML = `<div class=\"error\" style=\"color:red;\">${err}</div>`;\n",
       "      throw err;\n",
       "    }\n",
       "\n",
       "    function displayChart(vegaEmbed) {\n",
       "      vegaEmbed(outputDiv, spec, embedOpt)\n",
       "        .catch(err => showError(`Javascript Error: ${err.message}<br>This usually means there's a typo in your chart specification. See the javascript console for the full traceback.`));\n",
       "    }\n",
       "\n",
       "    if(typeof define === \"function\" && define.amd) {\n",
       "      requirejs.config({paths});\n",
       "      require([\"vega-embed\"], displayChart, err => showError(`Error loading script: ${err.message}`));\n",
       "    } else if (typeof vegaEmbed === \"function\") {\n",
       "      displayChart(vegaEmbed);\n",
       "    } else {\n",
       "      loadScript(\"vega\")\n",
       "        .then(() => loadScript(\"vega-lite\"))\n",
       "        .then(() => loadScript(\"vega-embed\"))\n",
       "        .catch(showError)\n",
       "        .then(() => displayChart(vegaEmbed));\n",
       "    }\n",
       "  })({\"config\": {\"view\": {\"continuousWidth\": 400, \"continuousHeight\": 300}}, \"layer\": [{\"data\": {\"name\": \"data-a24446c2388b6e9520e228763928e3f2\"}, \"mark\": \"point\", \"encoding\": {\"tooltip\": [{\"type\": \"nominal\", \"field\": \"City\"}, {\"type\": \"nominal\", \"field\": \"Country\"}], \"x\": {\"type\": \"quantitative\", \"field\": \"Latitude\"}, \"y\": {\"type\": \"quantitative\", \"field\": \"AverageTemperature\"}}}, {\"data\": {\"name\": \"data-03f343cf6ce932cba0e5d6c9b014c0d9\"}, \"mark\": {\"type\": \"line\", \"color\": \"red\"}, \"encoding\": {\"x\": {\"type\": \"quantitative\", \"field\": \"Latitude\"}, \"y\": {\"type\": \"quantitative\", \"field\": \"AverageTemperature\"}}}], \"$schema\": \"https://vega.github.io/schema/vega-lite/v4.8.1.json\", \"datasets\": {\"data-a24446c2388b6e9520e228763928e3f2\": [{\"dt\": \"1950-07-01T00:00:00\", \"AverageTemperature\": 22.148000000000003, \"AverageTemperatureUncertainty\": 0.198, \"City\": \"Albuquerque\", \"Country\": \"United States\", \"Latitude\": 34.56, \"Longitude\": -107.03}, {\"dt\": \"1950-07-01T00:00:00\", \"AverageTemperature\": 28.817, \"AverageTemperatureUncertainty\": 0.206, \"City\": \"Austin\", \"Country\": \"United States\", \"Latitude\": 29.74, \"Longitude\": -97.85}, {\"dt\": \"1950-07-01T00:00:00\", \"AverageTemperature\": 23.133000000000006, \"AverageTemperatureUncertainty\": 0.2789999999999999, \"City\": \"Baltimore\", \"Country\": \"United States\", \"Latitude\": 39.38, \"Longitude\": -76.99}, {\"dt\": \"1950-07-01T00:00:00\", \"AverageTemperature\": 20.544, \"AverageTemperatureUncertainty\": 0.418, \"City\": \"Boston\", \"Country\": \"United States\", \"Latitude\": 42.59, \"Longitude\": -72.0}, {\"dt\": \"1950-07-01T00:00:00\", \"AverageTemperature\": 25.075, \"AverageTemperatureUncertainty\": 0.262, \"City\": \"Charlotte\", \"Country\": \"United States\", \"Latitude\": 34.56, \"Longitude\": -81.73}, {\"dt\": \"1950-07-01T00:00:00\", \"AverageTemperature\": 20.247, \"AverageTemperatureUncertainty\": 0.2289999999999999, \"City\": \"Chicago\", \"Country\": \"United States\", \"Latitude\": 42.59, \"Longitude\": -87.27}, {\"dt\": \"1950-07-01T00:00:00\", \"AverageTemperature\": 25.187, \"AverageTemperatureUncertainty\": 0.268, \"City\": \"Columbus\", \"Country\": \"United States\", \"Latitude\": 32.95, \"Longitude\": -85.21}, {\"dt\": \"1950-07-01T00:00:00\", \"AverageTemperature\": 22.168000000000003, \"AverageTemperatureUncertainty\": 0.249, \"City\": \"Columbus\", \"Country\": \"United States\", \"Latitude\": 39.38, \"Longitude\": -83.24}, {\"dt\": \"1950-07-01T00:00:00\", \"AverageTemperature\": 26.982, \"AverageTemperatureUncertainty\": 0.278, \"City\": \"Dallas\", \"Country\": \"United States\", \"Latitude\": 32.95, \"Longitude\": -96.7}, {\"dt\": \"1950-07-01T00:00:00\", \"AverageTemperature\": 19.942, \"AverageTemperatureUncertainty\": 0.276, \"City\": \"Denver\", \"Country\": \"United States\", \"Latitude\": 39.38, \"Longitude\": -104.05}, {\"dt\": \"1950-07-01T00:00:00\", \"AverageTemperature\": 20.916, \"AverageTemperatureUncertainty\": 0.1969999999999999, \"City\": \"Detroit\", \"Country\": \"United States\", \"Latitude\": 42.59, \"Longitude\": -82.91}, {\"dt\": \"1950-07-01T00:00:00\", \"AverageTemperature\": 24.864, \"AverageTemperatureUncertainty\": 0.201, \"City\": \"El Paso\", \"Country\": \"United States\", \"Latitude\": 31.35, \"Longitude\": -105.55}, {\"dt\": \"1950-07-01T00:00:00\", \"AverageTemperature\": 26.982, \"AverageTemperatureUncertainty\": 0.278, \"City\": \"Fort Worth\", \"Country\": \"United States\", \"Latitude\": 32.95, \"Longitude\": -96.7}, {\"dt\": \"1950-07-01T00:00:00\", \"AverageTemperature\": 27.256, \"AverageTemperatureUncertainty\": 0.466, \"City\": \"Fresno\", \"Country\": \"United States\", \"Latitude\": 36.17, \"Longitude\": -119.34}, {\"dt\": \"1950-07-01T00:00:00\", \"AverageTemperature\": 28.248, \"AverageTemperatureUncertainty\": 0.195, \"City\": \"Houston\", \"Country\": \"United States\", \"Latitude\": 29.74, \"Longitude\": -96.0}, {\"dt\": \"1950-07-01T00:00:00\", \"AverageTemperature\": 22.203000000000003, \"AverageTemperatureUncertainty\": 0.32, \"City\": \"Indianapolis\", \"Country\": \"United States\", \"Latitude\": 39.38, \"Longitude\": -85.32}, {\"dt\": \"1950-07-01T00:00:00\", \"AverageTemperature\": 26.188, \"AverageTemperatureUncertainty\": 0.256, \"City\": \"Jacksonville\", \"Country\": \"United States\", \"Latitude\": 29.74, \"Longitude\": -81.23}, {\"dt\": \"1950-07-01T00:00:00\", \"AverageTemperature\": 29.69, \"AverageTemperatureUncertainty\": 0.2739999999999999, \"City\": \"Las Vegas\", \"Country\": \"United States\", \"Latitude\": 36.17, \"Longitude\": -115.36}, {\"dt\": \"1950-07-01T00:00:00\", \"AverageTemperature\": 24.212, \"AverageTemperatureUncertainty\": 0.505, \"City\": \"Los Angeles\", \"Country\": \"United States\", \"Latitude\": 34.56, \"Longitude\": -118.7}, {\"dt\": \"1950-07-01T00:00:00\", \"AverageTemperature\": 22.943, \"AverageTemperatureUncertainty\": 0.166, \"City\": \"Louisville\", \"Country\": \"United States\", \"Latitude\": 37.78, \"Longitude\": -85.42}, {\"dt\": \"1950-07-01T00:00:00\", \"AverageTemperature\": 25.273000000000003, \"AverageTemperatureUncertainty\": 0.198, \"City\": \"Memphis\", \"Country\": \"United States\", \"Latitude\": 34.56, \"Longitude\": -89.51}, {\"dt\": \"1950-07-01T00:00:00\", \"AverageTemperature\": 20.247, \"AverageTemperatureUncertainty\": 0.2289999999999999, \"City\": \"Milwaukee\", \"Country\": \"United States\", \"Latitude\": 42.59, \"Longitude\": -87.27}, {\"dt\": \"1950-07-01T00:00:00\", \"AverageTemperature\": 23.784, \"AverageTemperatureUncertainty\": 0.335, \"City\": \"Nashville\", \"Country\": \"United States\", \"Latitude\": 36.17, \"Longitude\": -87.51}, {\"dt\": \"1950-07-01T00:00:00\", \"AverageTemperature\": 21.613000000000003, \"AverageTemperatureUncertainty\": 0.133, \"City\": \"New York\", \"Country\": \"United States\", \"Latitude\": 40.99, \"Longitude\": -74.56}, {\"dt\": \"1950-07-01T00:00:00\", \"AverageTemperature\": 24.761, \"AverageTemperatureUncertainty\": 0.305, \"City\": \"Oklahoma City\", \"Country\": \"United States\", \"Latitude\": 36.17, \"Longitude\": -97.46}, {\"dt\": \"1950-07-01T00:00:00\", \"AverageTemperature\": 23.267, \"AverageTemperatureUncertainty\": 0.387, \"City\": \"Philadelphia\", \"Country\": \"United States\", \"Latitude\": 39.38, \"Longitude\": -74.91}, {\"dt\": \"1950-07-01T00:00:00\", \"AverageTemperature\": 31.334, \"AverageTemperatureUncertainty\": 0.273, \"City\": \"Phoenix\", \"Country\": \"United States\", \"Latitude\": 32.95, \"Longitude\": -112.02}, {\"dt\": \"1950-07-01T00:00:00\", \"AverageTemperature\": 16.081999999999994, \"AverageTemperatureUncertainty\": 0.171, \"City\": \"Portland\", \"Country\": \"United States\", \"Latitude\": 45.81, \"Longitude\": -123.46}, {\"dt\": \"1950-07-01T00:00:00\", \"AverageTemperature\": 28.817, \"AverageTemperatureUncertainty\": 0.206, \"City\": \"San Antonio\", \"Country\": \"United States\", \"Latitude\": 29.74, \"Longitude\": -97.85}, {\"dt\": \"1950-07-01T00:00:00\", \"AverageTemperature\": 19.116, \"AverageTemperatureUncertainty\": 0.21, \"City\": \"San Diego\", \"Country\": \"United States\", \"Latitude\": 32.95, \"Longitude\": -117.77}, {\"dt\": \"1950-07-01T00:00:00\", \"AverageTemperature\": 19.749, \"AverageTemperatureUncertainty\": 0.3, \"City\": \"San Francisco\", \"Country\": \"United States\", \"Latitude\": 37.78, \"Longitude\": -122.03}, {\"dt\": \"1950-07-01T00:00:00\", \"AverageTemperature\": 19.749, \"AverageTemperatureUncertainty\": 0.3, \"City\": \"San Jose\", \"Country\": \"United States\", \"Latitude\": 37.78, \"Longitude\": -122.03}, {\"dt\": \"1950-07-01T00:00:00\", \"AverageTemperature\": 15.159, \"AverageTemperatureUncertainty\": 0.15, \"City\": \"Seattle\", \"Country\": \"United States\", \"Latitude\": 47.42, \"Longitude\": -121.97}, {\"dt\": \"1950-07-01T00:00:00\", \"AverageTemperature\": 25.607, \"AverageTemperatureUncertainty\": 0.243, \"City\": \"Tucson\", \"Country\": \"United States\", \"Latitude\": 31.35, \"Longitude\": -111.2}, {\"dt\": \"1950-07-01T00:00:00\", \"AverageTemperature\": 16.081999999999994, \"AverageTemperatureUncertainty\": 0.171, \"City\": \"Vancouver\", \"Country\": \"United States\", \"Latitude\": 45.81, \"Longitude\": -123.46}], \"data-03f343cf6ce932cba0e5d6c9b014c0d9\": [{\"Latitude\": 25.0, \"AverageTemperature\": 31.091141374959722}, {\"Latitude\": 27.77777777777778, \"AverageTemperature\": 29.285043945732337}, {\"Latitude\": 30.555555555555557, \"AverageTemperature\": 27.478946516504955}, {\"Latitude\": 33.33333333333333, \"AverageTemperature\": 25.672849087277573}, {\"Latitude\": 36.111111111111114, \"AverageTemperature\": 23.866751658050184}, {\"Latitude\": 38.888888888888886, \"AverageTemperature\": 22.060654228822806}, {\"Latitude\": 41.666666666666664, \"AverageTemperature\": 20.25455679959542}, {\"Latitude\": 44.44444444444444, \"AverageTemperature\": 18.448459370368035}, {\"Latitude\": 47.22222222222222, \"AverageTemperature\": 16.64236194114065}, {\"Latitude\": 50.0, \"AverageTemperature\": 14.836264511913264}]}}, {\"mode\": \"vega-lite\"});\n",
       "</script>"
      ],
      "text/plain": [
       "alt.LayerChart(...)"
      ]
     },
     "execution_count": 1,
     "metadata": {},
     "output_type": "execute_result"
    }
   ],
   "source": [
    "chart2 = alt.Chart(df_pred).mark_line(color=\"red\").encode(\n",
    "    y = \"AverageTemperature\",\n",
    "    x = \"Latitude\",\n",
    ")\n",
    "out = chart + chart2\n",
    "out"
   ]
  },
  {
   "cell_type": "code",
   "execution_count": 22,
   "id": "dacbbc8c",
   "metadata": {
    "execution": {
     "iopub.execute_input": "2021-06-02T16:42:22.201831Z",
     "iopub.status.busy": "2021-06-02T16:42:22.200996Z",
     "iopub.status.idle": "2021-06-02T16:42:22.203949Z",
     "shell.execute_reply": "2021-06-02T16:42:22.204632Z"
    }
   },
   "outputs": [
    {
     "data": {
      "text/plain": [
       "LinearRegression()"
      ]
     },
     "execution_count": 1,
     "metadata": {},
     "output_type": "execute_result"
    }
   ],
   "source": [
    "model_bad = sklearn.linear_model.LinearRegression()\n",
    "model_bad.fit(df2[[\"Longitude\"]], df2[\"AverageTemperature\"])"
   ]
  },
  {
   "cell_type": "code",
   "execution_count": 23,
   "id": "2bcfb21f",
   "metadata": {
    "execution": {
     "iopub.execute_input": "2021-06-02T16:42:22.212871Z",
     "iopub.status.busy": "2021-06-02T16:42:22.212037Z",
     "iopub.status.idle": "2021-06-02T16:42:22.215139Z",
     "shell.execute_reply": "2021-06-02T16:42:22.215835Z"
    },
    "lines_to_next_cell": 2
   },
   "outputs": [
    {
     "data": {
      "text/html": [
       "<div>\n",
       "<style scoped>\n",
       "    .dataframe tbody tr th:only-of-type {\n",
       "        vertical-align: middle;\n",
       "    }\n",
       "\n",
       "    .dataframe tbody tr th {\n",
       "        vertical-align: top;\n",
       "    }\n",
       "\n",
       "    .dataframe thead th {\n",
       "        text-align: right;\n",
       "    }\n",
       "</style>\n",
       "<table border=\"1\" class=\"dataframe\">\n",
       "  <thead>\n",
       "    <tr style=\"text-align: right;\">\n",
       "      <th></th>\n",
       "      <th>Longitude</th>\n",
       "      <th>AverageTemperature</th>\n",
       "    </tr>\n",
       "  </thead>\n",
       "  <tbody>\n",
       "    <tr>\n",
       "      <th>0</th>\n",
       "      <td>-150.000000</td>\n",
       "      <td>21.303444</td>\n",
       "    </tr>\n",
       "    <tr>\n",
       "      <th>1</th>\n",
       "      <td>-141.666667</td>\n",
       "      <td>21.638754</td>\n",
       "    </tr>\n",
       "    <tr>\n",
       "      <th>2</th>\n",
       "      <td>-133.333333</td>\n",
       "      <td>21.974063</td>\n",
       "    </tr>\n",
       "    <tr>\n",
       "      <th>3</th>\n",
       "      <td>-125.000000</td>\n",
       "      <td>22.309373</td>\n",
       "    </tr>\n",
       "    <tr>\n",
       "      <th>4</th>\n",
       "      <td>-116.666667</td>\n",
       "      <td>22.644682</td>\n",
       "    </tr>\n",
       "    <tr>\n",
       "      <th>5</th>\n",
       "      <td>-108.333333</td>\n",
       "      <td>22.979992</td>\n",
       "    </tr>\n",
       "    <tr>\n",
       "      <th>6</th>\n",
       "      <td>-100.000000</td>\n",
       "      <td>23.315302</td>\n",
       "    </tr>\n",
       "    <tr>\n",
       "      <th>7</th>\n",
       "      <td>-91.666667</td>\n",
       "      <td>23.650611</td>\n",
       "    </tr>\n",
       "    <tr>\n",
       "      <th>8</th>\n",
       "      <td>-83.333333</td>\n",
       "      <td>23.985921</td>\n",
       "    </tr>\n",
       "    <tr>\n",
       "      <th>9</th>\n",
       "      <td>-75.000000</td>\n",
       "      <td>24.321230</td>\n",
       "    </tr>\n",
       "  </tbody>\n",
       "</table>\n",
       "</div>"
      ],
      "text/plain": [
       "    Longitude  AverageTemperature\n",
       "0 -150.000000           21.303444\n",
       "1 -141.666667           21.638754\n",
       "2 -133.333333           21.974063\n",
       "3 -125.000000           22.309373\n",
       "4 -116.666667           22.644682\n",
       "5 -108.333333           22.979992\n",
       "6 -100.000000           23.315302\n",
       "7  -91.666667           23.650611\n",
       "8  -83.333333           23.985921\n",
       "9  -75.000000           24.321230"
      ]
     },
     "execution_count": 1,
     "metadata": {},
     "output_type": "execute_result"
    }
   ],
   "source": [
    "df_pred = pd.DataFrame({\"Longitude\": np.linspace(-150, -75, 10)})\n",
    "df_pred[\"AverageTemperature\"] = model_bad.predict(df_pred[[\"Longitude\"]])\n",
    "df_pred"
   ]
  },
  {
   "cell_type": "code",
   "execution_count": 24,
   "id": "f70bdc79",
   "metadata": {
    "execution": {
     "iopub.execute_input": "2021-06-02T16:42:22.245924Z",
     "iopub.status.busy": "2021-06-02T16:42:22.245076Z",
     "iopub.status.idle": "2021-06-02T16:42:22.249084Z",
     "shell.execute_reply": "2021-06-02T16:42:22.249783Z"
    }
   },
   "outputs": [
    {
     "data": {
      "text/html": [
       "\n",
       "<div id=\"altair-viz-a8bd8cf950fa424eb979f657ca773339\"></div>\n",
       "<script type=\"text/javascript\">\n",
       "  (function(spec, embedOpt){\n",
       "    let outputDiv = document.currentScript.previousElementSibling;\n",
       "    if (outputDiv.id !== \"altair-viz-a8bd8cf950fa424eb979f657ca773339\") {\n",
       "      outputDiv = document.getElementById(\"altair-viz-a8bd8cf950fa424eb979f657ca773339\");\n",
       "    }\n",
       "    const paths = {\n",
       "      \"vega\": \"https://cdn.jsdelivr.net/npm//vega@5?noext\",\n",
       "      \"vega-lib\": \"https://cdn.jsdelivr.net/npm//vega-lib?noext\",\n",
       "      \"vega-lite\": \"https://cdn.jsdelivr.net/npm//vega-lite@4.8.1?noext\",\n",
       "      \"vega-embed\": \"https://cdn.jsdelivr.net/npm//vega-embed@6?noext\",\n",
       "    };\n",
       "\n",
       "    function loadScript(lib) {\n",
       "      return new Promise(function(resolve, reject) {\n",
       "        var s = document.createElement('script');\n",
       "        s.src = paths[lib];\n",
       "        s.async = true;\n",
       "        s.onload = () => resolve(paths[lib]);\n",
       "        s.onerror = () => reject(`Error loading script: ${paths[lib]}`);\n",
       "        document.getElementsByTagName(\"head\")[0].appendChild(s);\n",
       "      });\n",
       "    }\n",
       "\n",
       "    function showError(err) {\n",
       "      outputDiv.innerHTML = `<div class=\"error\" style=\"color:red;\">${err}</div>`;\n",
       "      throw err;\n",
       "    }\n",
       "\n",
       "    function displayChart(vegaEmbed) {\n",
       "      vegaEmbed(outputDiv, spec, embedOpt)\n",
       "        .catch(err => showError(`Javascript Error: ${err.message}<br>This usually means there's a typo in your chart specification. See the javascript console for the full traceback.`));\n",
       "    }\n",
       "\n",
       "    if(typeof define === \"function\" && define.amd) {\n",
       "      requirejs.config({paths});\n",
       "      require([\"vega-embed\"], displayChart, err => showError(`Error loading script: ${err.message}`));\n",
       "    } else if (typeof vegaEmbed === \"function\") {\n",
       "      displayChart(vegaEmbed);\n",
       "    } else {\n",
       "      loadScript(\"vega\")\n",
       "        .then(() => loadScript(\"vega-lite\"))\n",
       "        .then(() => loadScript(\"vega-embed\"))\n",
       "        .catch(showError)\n",
       "        .then(() => displayChart(vegaEmbed));\n",
       "    }\n",
       "  })({\"config\": {\"view\": {\"continuousWidth\": 400, \"continuousHeight\": 300}}, \"layer\": [{\"data\": {\"name\": \"data-a24446c2388b6e9520e228763928e3f2\"}, \"mark\": \"point\", \"encoding\": {\"tooltip\": [{\"type\": \"nominal\", \"field\": \"City\"}, {\"type\": \"nominal\", \"field\": \"Country\"}], \"x\": {\"type\": \"quantitative\", \"field\": \"Longitude\"}, \"y\": {\"type\": \"quantitative\", \"field\": \"AverageTemperature\"}}}, {\"data\": {\"name\": \"data-d0767ffc51aa603e266e4d14fb30249b\"}, \"mark\": {\"type\": \"line\", \"color\": \"red\"}, \"encoding\": {\"x\": {\"type\": \"quantitative\", \"field\": \"Longitude\"}, \"y\": {\"type\": \"quantitative\", \"field\": \"AverageTemperature\"}}}], \"$schema\": \"https://vega.github.io/schema/vega-lite/v4.8.1.json\", \"datasets\": {\"data-a24446c2388b6e9520e228763928e3f2\": [{\"dt\": \"1950-07-01T00:00:00\", \"AverageTemperature\": 22.148000000000003, \"AverageTemperatureUncertainty\": 0.198, \"City\": \"Albuquerque\", \"Country\": \"United States\", \"Latitude\": 34.56, \"Longitude\": -107.03}, {\"dt\": \"1950-07-01T00:00:00\", \"AverageTemperature\": 28.817, \"AverageTemperatureUncertainty\": 0.206, \"City\": \"Austin\", \"Country\": \"United States\", \"Latitude\": 29.74, \"Longitude\": -97.85}, {\"dt\": \"1950-07-01T00:00:00\", \"AverageTemperature\": 23.133000000000006, \"AverageTemperatureUncertainty\": 0.2789999999999999, \"City\": \"Baltimore\", \"Country\": \"United States\", \"Latitude\": 39.38, \"Longitude\": -76.99}, {\"dt\": \"1950-07-01T00:00:00\", \"AverageTemperature\": 20.544, \"AverageTemperatureUncertainty\": 0.418, \"City\": \"Boston\", \"Country\": \"United States\", \"Latitude\": 42.59, \"Longitude\": -72.0}, {\"dt\": \"1950-07-01T00:00:00\", \"AverageTemperature\": 25.075, \"AverageTemperatureUncertainty\": 0.262, \"City\": \"Charlotte\", \"Country\": \"United States\", \"Latitude\": 34.56, \"Longitude\": -81.73}, {\"dt\": \"1950-07-01T00:00:00\", \"AverageTemperature\": 20.247, \"AverageTemperatureUncertainty\": 0.2289999999999999, \"City\": \"Chicago\", \"Country\": \"United States\", \"Latitude\": 42.59, \"Longitude\": -87.27}, {\"dt\": \"1950-07-01T00:00:00\", \"AverageTemperature\": 25.187, \"AverageTemperatureUncertainty\": 0.268, \"City\": \"Columbus\", \"Country\": \"United States\", \"Latitude\": 32.95, \"Longitude\": -85.21}, {\"dt\": \"1950-07-01T00:00:00\", \"AverageTemperature\": 22.168000000000003, \"AverageTemperatureUncertainty\": 0.249, \"City\": \"Columbus\", \"Country\": \"United States\", \"Latitude\": 39.38, \"Longitude\": -83.24}, {\"dt\": \"1950-07-01T00:00:00\", \"AverageTemperature\": 26.982, \"AverageTemperatureUncertainty\": 0.278, \"City\": \"Dallas\", \"Country\": \"United States\", \"Latitude\": 32.95, \"Longitude\": -96.7}, {\"dt\": \"1950-07-01T00:00:00\", \"AverageTemperature\": 19.942, \"AverageTemperatureUncertainty\": 0.276, \"City\": \"Denver\", \"Country\": \"United States\", \"Latitude\": 39.38, \"Longitude\": -104.05}, {\"dt\": \"1950-07-01T00:00:00\", \"AverageTemperature\": 20.916, \"AverageTemperatureUncertainty\": 0.1969999999999999, \"City\": \"Detroit\", \"Country\": \"United States\", \"Latitude\": 42.59, \"Longitude\": -82.91}, {\"dt\": \"1950-07-01T00:00:00\", \"AverageTemperature\": 24.864, \"AverageTemperatureUncertainty\": 0.201, \"City\": \"El Paso\", \"Country\": \"United States\", \"Latitude\": 31.35, \"Longitude\": -105.55}, {\"dt\": \"1950-07-01T00:00:00\", \"AverageTemperature\": 26.982, \"AverageTemperatureUncertainty\": 0.278, \"City\": \"Fort Worth\", \"Country\": \"United States\", \"Latitude\": 32.95, \"Longitude\": -96.7}, {\"dt\": \"1950-07-01T00:00:00\", \"AverageTemperature\": 27.256, \"AverageTemperatureUncertainty\": 0.466, \"City\": \"Fresno\", \"Country\": \"United States\", \"Latitude\": 36.17, \"Longitude\": -119.34}, {\"dt\": \"1950-07-01T00:00:00\", \"AverageTemperature\": 28.248, \"AverageTemperatureUncertainty\": 0.195, \"City\": \"Houston\", \"Country\": \"United States\", \"Latitude\": 29.74, \"Longitude\": -96.0}, {\"dt\": \"1950-07-01T00:00:00\", \"AverageTemperature\": 22.203000000000003, \"AverageTemperatureUncertainty\": 0.32, \"City\": \"Indianapolis\", \"Country\": \"United States\", \"Latitude\": 39.38, \"Longitude\": -85.32}, {\"dt\": \"1950-07-01T00:00:00\", \"AverageTemperature\": 26.188, \"AverageTemperatureUncertainty\": 0.256, \"City\": \"Jacksonville\", \"Country\": \"United States\", \"Latitude\": 29.74, \"Longitude\": -81.23}, {\"dt\": \"1950-07-01T00:00:00\", \"AverageTemperature\": 29.69, \"AverageTemperatureUncertainty\": 0.2739999999999999, \"City\": \"Las Vegas\", \"Country\": \"United States\", \"Latitude\": 36.17, \"Longitude\": -115.36}, {\"dt\": \"1950-07-01T00:00:00\", \"AverageTemperature\": 24.212, \"AverageTemperatureUncertainty\": 0.505, \"City\": \"Los Angeles\", \"Country\": \"United States\", \"Latitude\": 34.56, \"Longitude\": -118.7}, {\"dt\": \"1950-07-01T00:00:00\", \"AverageTemperature\": 22.943, \"AverageTemperatureUncertainty\": 0.166, \"City\": \"Louisville\", \"Country\": \"United States\", \"Latitude\": 37.78, \"Longitude\": -85.42}, {\"dt\": \"1950-07-01T00:00:00\", \"AverageTemperature\": 25.273000000000003, \"AverageTemperatureUncertainty\": 0.198, \"City\": \"Memphis\", \"Country\": \"United States\", \"Latitude\": 34.56, \"Longitude\": -89.51}, {\"dt\": \"1950-07-01T00:00:00\", \"AverageTemperature\": 20.247, \"AverageTemperatureUncertainty\": 0.2289999999999999, \"City\": \"Milwaukee\", \"Country\": \"United States\", \"Latitude\": 42.59, \"Longitude\": -87.27}, {\"dt\": \"1950-07-01T00:00:00\", \"AverageTemperature\": 23.784, \"AverageTemperatureUncertainty\": 0.335, \"City\": \"Nashville\", \"Country\": \"United States\", \"Latitude\": 36.17, \"Longitude\": -87.51}, {\"dt\": \"1950-07-01T00:00:00\", \"AverageTemperature\": 21.613000000000003, \"AverageTemperatureUncertainty\": 0.133, \"City\": \"New York\", \"Country\": \"United States\", \"Latitude\": 40.99, \"Longitude\": -74.56}, {\"dt\": \"1950-07-01T00:00:00\", \"AverageTemperature\": 24.761, \"AverageTemperatureUncertainty\": 0.305, \"City\": \"Oklahoma City\", \"Country\": \"United States\", \"Latitude\": 36.17, \"Longitude\": -97.46}, {\"dt\": \"1950-07-01T00:00:00\", \"AverageTemperature\": 23.267, \"AverageTemperatureUncertainty\": 0.387, \"City\": \"Philadelphia\", \"Country\": \"United States\", \"Latitude\": 39.38, \"Longitude\": -74.91}, {\"dt\": \"1950-07-01T00:00:00\", \"AverageTemperature\": 31.334, \"AverageTemperatureUncertainty\": 0.273, \"City\": \"Phoenix\", \"Country\": \"United States\", \"Latitude\": 32.95, \"Longitude\": -112.02}, {\"dt\": \"1950-07-01T00:00:00\", \"AverageTemperature\": 16.081999999999994, \"AverageTemperatureUncertainty\": 0.171, \"City\": \"Portland\", \"Country\": \"United States\", \"Latitude\": 45.81, \"Longitude\": -123.46}, {\"dt\": \"1950-07-01T00:00:00\", \"AverageTemperature\": 28.817, \"AverageTemperatureUncertainty\": 0.206, \"City\": \"San Antonio\", \"Country\": \"United States\", \"Latitude\": 29.74, \"Longitude\": -97.85}, {\"dt\": \"1950-07-01T00:00:00\", \"AverageTemperature\": 19.116, \"AverageTemperatureUncertainty\": 0.21, \"City\": \"San Diego\", \"Country\": \"United States\", \"Latitude\": 32.95, \"Longitude\": -117.77}, {\"dt\": \"1950-07-01T00:00:00\", \"AverageTemperature\": 19.749, \"AverageTemperatureUncertainty\": 0.3, \"City\": \"San Francisco\", \"Country\": \"United States\", \"Latitude\": 37.78, \"Longitude\": -122.03}, {\"dt\": \"1950-07-01T00:00:00\", \"AverageTemperature\": 19.749, \"AverageTemperatureUncertainty\": 0.3, \"City\": \"San Jose\", \"Country\": \"United States\", \"Latitude\": 37.78, \"Longitude\": -122.03}, {\"dt\": \"1950-07-01T00:00:00\", \"AverageTemperature\": 15.159, \"AverageTemperatureUncertainty\": 0.15, \"City\": \"Seattle\", \"Country\": \"United States\", \"Latitude\": 47.42, \"Longitude\": -121.97}, {\"dt\": \"1950-07-01T00:00:00\", \"AverageTemperature\": 25.607, \"AverageTemperatureUncertainty\": 0.243, \"City\": \"Tucson\", \"Country\": \"United States\", \"Latitude\": 31.35, \"Longitude\": -111.2}, {\"dt\": \"1950-07-01T00:00:00\", \"AverageTemperature\": 16.081999999999994, \"AverageTemperatureUncertainty\": 0.171, \"City\": \"Vancouver\", \"Country\": \"United States\", \"Latitude\": 45.81, \"Longitude\": -123.46}], \"data-d0767ffc51aa603e266e4d14fb30249b\": [{\"Longitude\": -150.0, \"AverageTemperature\": 21.303444371814464}, {\"Longitude\": -141.66666666666666, \"AverageTemperature\": 21.638753896615043}, {\"Longitude\": -133.33333333333334, \"AverageTemperature\": 21.974063421415618}, {\"Longitude\": -125.0, \"AverageTemperature\": 22.309372946216193}, {\"Longitude\": -116.66666666666666, \"AverageTemperature\": 22.644682471016772}, {\"Longitude\": -108.33333333333333, \"AverageTemperature\": 22.979991995817347}, {\"Longitude\": -100.0, \"AverageTemperature\": 23.315301520617922}, {\"Longitude\": -91.66666666666666, \"AverageTemperature\": 23.6506110454185}, {\"Longitude\": -83.33333333333333, \"AverageTemperature\": 23.985920570219076}, {\"Longitude\": -75.0, \"AverageTemperature\": 24.321230095019654}]}}, {\"mode\": \"vega-lite\"});\n",
       "</script>"
      ],
      "text/plain": [
       "alt.LayerChart(...)"
      ]
     },
     "execution_count": 1,
     "metadata": {},
     "output_type": "execute_result"
    }
   ],
   "source": [
    "chart = alt.Chart(df2).mark_point().encode(\n",
    "    y = \"AverageTemperature\",\n",
    "    x = \"Longitude\",\n",
    "    tooltip=[\"City\", \"Country\"],\n",
    ")\n",
    "chart2 = alt.Chart(df_pred).mark_line(color=\"red\").encode(\n",
    "    y = \"AverageTemperature\",\n",
    "    x = \"Longitude\",\n",
    ")\n",
    "out = chart + chart2\n",
    "out"
   ]
  },
  {
   "cell_type": "code",
   "execution_count": null,
   "id": "92e5923d",
   "metadata": {},
   "outputs": [],
   "source": []
  },
  {
   "cell_type": "code",
   "execution_count": 25,
   "id": "a9d4a578",
   "metadata": {
    "execution": {
     "iopub.execute_input": "2021-06-02T16:42:22.253457Z",
     "iopub.status.busy": "2021-06-02T16:42:22.252647Z",
     "iopub.status.idle": "2021-06-02T16:42:22.256005Z",
     "shell.execute_reply": "2021-06-02T16:42:22.255284Z"
    }
   },
   "outputs": [],
   "source": [
    "from vega_datasets import data"
   ]
  },
  {
   "cell_type": "code",
   "execution_count": 26,
   "id": "da648655",
   "metadata": {
    "execution": {
     "iopub.execute_input": "2021-06-02T16:42:22.263000Z",
     "iopub.status.busy": "2021-06-02T16:42:22.262154Z",
     "iopub.status.idle": "2021-06-02T16:42:22.266402Z",
     "shell.execute_reply": "2021-06-02T16:42:22.265696Z"
    },
    "lines_to_next_cell": 2
   },
   "outputs": [],
   "source": [
    "us_cities_df = df.loc[df[\"Country\"] == \"United States\"]"
   ]
  },
  {
   "cell_type": "code",
   "execution_count": 27,
   "id": "8a7b994a",
   "metadata": {
    "execution": {
     "iopub.execute_input": "2021-06-02T16:42:22.293358Z",
     "iopub.status.busy": "2021-06-02T16:42:22.289038Z",
     "iopub.status.idle": "2021-06-02T16:42:22.296102Z",
     "shell.execute_reply": "2021-06-02T16:42:22.296795Z"
    },
    "lines_to_next_cell": 2
   },
   "outputs": [
    {
     "data": {
      "text/html": [
       "\n",
       "<div id=\"altair-viz-f7221d1a5a6c48f5a23ecb948030c887\"></div>\n",
       "<script type=\"text/javascript\">\n",
       "  (function(spec, embedOpt){\n",
       "    let outputDiv = document.currentScript.previousElementSibling;\n",
       "    if (outputDiv.id !== \"altair-viz-f7221d1a5a6c48f5a23ecb948030c887\") {\n",
       "      outputDiv = document.getElementById(\"altair-viz-f7221d1a5a6c48f5a23ecb948030c887\");\n",
       "    }\n",
       "    const paths = {\n",
       "      \"vega\": \"https://cdn.jsdelivr.net/npm//vega@5?noext\",\n",
       "      \"vega-lib\": \"https://cdn.jsdelivr.net/npm//vega-lib?noext\",\n",
       "      \"vega-lite\": \"https://cdn.jsdelivr.net/npm//vega-lite@4.8.1?noext\",\n",
       "      \"vega-embed\": \"https://cdn.jsdelivr.net/npm//vega-embed@6?noext\",\n",
       "    };\n",
       "\n",
       "    function loadScript(lib) {\n",
       "      return new Promise(function(resolve, reject) {\n",
       "        var s = document.createElement('script');\n",
       "        s.src = paths[lib];\n",
       "        s.async = true;\n",
       "        s.onload = () => resolve(paths[lib]);\n",
       "        s.onerror = () => reject(`Error loading script: ${paths[lib]}`);\n",
       "        document.getElementsByTagName(\"head\")[0].appendChild(s);\n",
       "      });\n",
       "    }\n",
       "\n",
       "    function showError(err) {\n",
       "      outputDiv.innerHTML = `<div class=\"error\" style=\"color:red;\">${err}</div>`;\n",
       "      throw err;\n",
       "    }\n",
       "\n",
       "    function displayChart(vegaEmbed) {\n",
       "      vegaEmbed(outputDiv, spec, embedOpt)\n",
       "        .catch(err => showError(`Javascript Error: ${err.message}<br>This usually means there's a typo in your chart specification. See the javascript console for the full traceback.`));\n",
       "    }\n",
       "\n",
       "    if(typeof define === \"function\" && define.amd) {\n",
       "      requirejs.config({paths});\n",
       "      require([\"vega-embed\"], displayChart, err => showError(`Error loading script: ${err.message}`));\n",
       "    } else if (typeof vegaEmbed === \"function\") {\n",
       "      displayChart(vegaEmbed);\n",
       "    } else {\n",
       "      loadScript(\"vega\")\n",
       "        .then(() => loadScript(\"vega-lite\"))\n",
       "        .then(() => loadScript(\"vega-embed\"))\n",
       "        .catch(showError)\n",
       "        .then(() => displayChart(vegaEmbed));\n",
       "    }\n",
       "  })({\"config\": {\"view\": {\"continuousWidth\": 400, \"continuousHeight\": 300}}, \"layer\": [{\"data\": {\"url\": \"https://cdn.jsdelivr.net/npm/vega-datasets@v1.29.0/data/us-10m.json\", \"format\": {\"feature\": \"states\", \"type\": \"topojson\"}}, \"mark\": {\"type\": \"geoshape\", \"fill\": \"lightgray\", \"stroke\": \"white\"}, \"height\": 300, \"projection\": {\"type\": \"albersUsa\"}, \"width\": 500}, {\"data\": {\"name\": \"data-a24446c2388b6e9520e228763928e3f2\"}, \"mark\": {\"type\": \"point\", \"size\": 100}, \"encoding\": {\"color\": {\"type\": \"quantitative\", \"field\": \"AverageTemperature\"}, \"latitude\": {\"field\": \"Latitude\", \"type\": \"quantitative\"}, \"longitude\": {\"field\": \"Longitude\", \"type\": \"quantitative\"}, \"tooltip\": [{\"type\": \"nominal\", \"field\": \"City\"}, {\"type\": \"quantitative\", \"field\": \"AverageTemperature\"}]}}], \"$schema\": \"https://vega.github.io/schema/vega-lite/v4.8.1.json\", \"datasets\": {\"data-a24446c2388b6e9520e228763928e3f2\": [{\"dt\": \"1950-07-01T00:00:00\", \"AverageTemperature\": 22.148000000000003, \"AverageTemperatureUncertainty\": 0.198, \"City\": \"Albuquerque\", \"Country\": \"United States\", \"Latitude\": 34.56, \"Longitude\": -107.03}, {\"dt\": \"1950-07-01T00:00:00\", \"AverageTemperature\": 28.817, \"AverageTemperatureUncertainty\": 0.206, \"City\": \"Austin\", \"Country\": \"United States\", \"Latitude\": 29.74, \"Longitude\": -97.85}, {\"dt\": \"1950-07-01T00:00:00\", \"AverageTemperature\": 23.133000000000006, \"AverageTemperatureUncertainty\": 0.2789999999999999, \"City\": \"Baltimore\", \"Country\": \"United States\", \"Latitude\": 39.38, \"Longitude\": -76.99}, {\"dt\": \"1950-07-01T00:00:00\", \"AverageTemperature\": 20.544, \"AverageTemperatureUncertainty\": 0.418, \"City\": \"Boston\", \"Country\": \"United States\", \"Latitude\": 42.59, \"Longitude\": -72.0}, {\"dt\": \"1950-07-01T00:00:00\", \"AverageTemperature\": 25.075, \"AverageTemperatureUncertainty\": 0.262, \"City\": \"Charlotte\", \"Country\": \"United States\", \"Latitude\": 34.56, \"Longitude\": -81.73}, {\"dt\": \"1950-07-01T00:00:00\", \"AverageTemperature\": 20.247, \"AverageTemperatureUncertainty\": 0.2289999999999999, \"City\": \"Chicago\", \"Country\": \"United States\", \"Latitude\": 42.59, \"Longitude\": -87.27}, {\"dt\": \"1950-07-01T00:00:00\", \"AverageTemperature\": 25.187, \"AverageTemperatureUncertainty\": 0.268, \"City\": \"Columbus\", \"Country\": \"United States\", \"Latitude\": 32.95, \"Longitude\": -85.21}, {\"dt\": \"1950-07-01T00:00:00\", \"AverageTemperature\": 22.168000000000003, \"AverageTemperatureUncertainty\": 0.249, \"City\": \"Columbus\", \"Country\": \"United States\", \"Latitude\": 39.38, \"Longitude\": -83.24}, {\"dt\": \"1950-07-01T00:00:00\", \"AverageTemperature\": 26.982, \"AverageTemperatureUncertainty\": 0.278, \"City\": \"Dallas\", \"Country\": \"United States\", \"Latitude\": 32.95, \"Longitude\": -96.7}, {\"dt\": \"1950-07-01T00:00:00\", \"AverageTemperature\": 19.942, \"AverageTemperatureUncertainty\": 0.276, \"City\": \"Denver\", \"Country\": \"United States\", \"Latitude\": 39.38, \"Longitude\": -104.05}, {\"dt\": \"1950-07-01T00:00:00\", \"AverageTemperature\": 20.916, \"AverageTemperatureUncertainty\": 0.1969999999999999, \"City\": \"Detroit\", \"Country\": \"United States\", \"Latitude\": 42.59, \"Longitude\": -82.91}, {\"dt\": \"1950-07-01T00:00:00\", \"AverageTemperature\": 24.864, \"AverageTemperatureUncertainty\": 0.201, \"City\": \"El Paso\", \"Country\": \"United States\", \"Latitude\": 31.35, \"Longitude\": -105.55}, {\"dt\": \"1950-07-01T00:00:00\", \"AverageTemperature\": 26.982, \"AverageTemperatureUncertainty\": 0.278, \"City\": \"Fort Worth\", \"Country\": \"United States\", \"Latitude\": 32.95, \"Longitude\": -96.7}, {\"dt\": \"1950-07-01T00:00:00\", \"AverageTemperature\": 27.256, \"AverageTemperatureUncertainty\": 0.466, \"City\": \"Fresno\", \"Country\": \"United States\", \"Latitude\": 36.17, \"Longitude\": -119.34}, {\"dt\": \"1950-07-01T00:00:00\", \"AverageTemperature\": 28.248, \"AverageTemperatureUncertainty\": 0.195, \"City\": \"Houston\", \"Country\": \"United States\", \"Latitude\": 29.74, \"Longitude\": -96.0}, {\"dt\": \"1950-07-01T00:00:00\", \"AverageTemperature\": 22.203000000000003, \"AverageTemperatureUncertainty\": 0.32, \"City\": \"Indianapolis\", \"Country\": \"United States\", \"Latitude\": 39.38, \"Longitude\": -85.32}, {\"dt\": \"1950-07-01T00:00:00\", \"AverageTemperature\": 26.188, \"AverageTemperatureUncertainty\": 0.256, \"City\": \"Jacksonville\", \"Country\": \"United States\", \"Latitude\": 29.74, \"Longitude\": -81.23}, {\"dt\": \"1950-07-01T00:00:00\", \"AverageTemperature\": 29.69, \"AverageTemperatureUncertainty\": 0.2739999999999999, \"City\": \"Las Vegas\", \"Country\": \"United States\", \"Latitude\": 36.17, \"Longitude\": -115.36}, {\"dt\": \"1950-07-01T00:00:00\", \"AverageTemperature\": 24.212, \"AverageTemperatureUncertainty\": 0.505, \"City\": \"Los Angeles\", \"Country\": \"United States\", \"Latitude\": 34.56, \"Longitude\": -118.7}, {\"dt\": \"1950-07-01T00:00:00\", \"AverageTemperature\": 22.943, \"AverageTemperatureUncertainty\": 0.166, \"City\": \"Louisville\", \"Country\": \"United States\", \"Latitude\": 37.78, \"Longitude\": -85.42}, {\"dt\": \"1950-07-01T00:00:00\", \"AverageTemperature\": 25.273000000000003, \"AverageTemperatureUncertainty\": 0.198, \"City\": \"Memphis\", \"Country\": \"United States\", \"Latitude\": 34.56, \"Longitude\": -89.51}, {\"dt\": \"1950-07-01T00:00:00\", \"AverageTemperature\": 20.247, \"AverageTemperatureUncertainty\": 0.2289999999999999, \"City\": \"Milwaukee\", \"Country\": \"United States\", \"Latitude\": 42.59, \"Longitude\": -87.27}, {\"dt\": \"1950-07-01T00:00:00\", \"AverageTemperature\": 23.784, \"AverageTemperatureUncertainty\": 0.335, \"City\": \"Nashville\", \"Country\": \"United States\", \"Latitude\": 36.17, \"Longitude\": -87.51}, {\"dt\": \"1950-07-01T00:00:00\", \"AverageTemperature\": 21.613000000000003, \"AverageTemperatureUncertainty\": 0.133, \"City\": \"New York\", \"Country\": \"United States\", \"Latitude\": 40.99, \"Longitude\": -74.56}, {\"dt\": \"1950-07-01T00:00:00\", \"AverageTemperature\": 24.761, \"AverageTemperatureUncertainty\": 0.305, \"City\": \"Oklahoma City\", \"Country\": \"United States\", \"Latitude\": 36.17, \"Longitude\": -97.46}, {\"dt\": \"1950-07-01T00:00:00\", \"AverageTemperature\": 23.267, \"AverageTemperatureUncertainty\": 0.387, \"City\": \"Philadelphia\", \"Country\": \"United States\", \"Latitude\": 39.38, \"Longitude\": -74.91}, {\"dt\": \"1950-07-01T00:00:00\", \"AverageTemperature\": 31.334, \"AverageTemperatureUncertainty\": 0.273, \"City\": \"Phoenix\", \"Country\": \"United States\", \"Latitude\": 32.95, \"Longitude\": -112.02}, {\"dt\": \"1950-07-01T00:00:00\", \"AverageTemperature\": 16.081999999999994, \"AverageTemperatureUncertainty\": 0.171, \"City\": \"Portland\", \"Country\": \"United States\", \"Latitude\": 45.81, \"Longitude\": -123.46}, {\"dt\": \"1950-07-01T00:00:00\", \"AverageTemperature\": 28.817, \"AverageTemperatureUncertainty\": 0.206, \"City\": \"San Antonio\", \"Country\": \"United States\", \"Latitude\": 29.74, \"Longitude\": -97.85}, {\"dt\": \"1950-07-01T00:00:00\", \"AverageTemperature\": 19.116, \"AverageTemperatureUncertainty\": 0.21, \"City\": \"San Diego\", \"Country\": \"United States\", \"Latitude\": 32.95, \"Longitude\": -117.77}, {\"dt\": \"1950-07-01T00:00:00\", \"AverageTemperature\": 19.749, \"AverageTemperatureUncertainty\": 0.3, \"City\": \"San Francisco\", \"Country\": \"United States\", \"Latitude\": 37.78, \"Longitude\": -122.03}, {\"dt\": \"1950-07-01T00:00:00\", \"AverageTemperature\": 19.749, \"AverageTemperatureUncertainty\": 0.3, \"City\": \"San Jose\", \"Country\": \"United States\", \"Latitude\": 37.78, \"Longitude\": -122.03}, {\"dt\": \"1950-07-01T00:00:00\", \"AverageTemperature\": 15.159, \"AverageTemperatureUncertainty\": 0.15, \"City\": \"Seattle\", \"Country\": \"United States\", \"Latitude\": 47.42, \"Longitude\": -121.97}, {\"dt\": \"1950-07-01T00:00:00\", \"AverageTemperature\": 25.607, \"AverageTemperatureUncertainty\": 0.243, \"City\": \"Tucson\", \"Country\": \"United States\", \"Latitude\": 31.35, \"Longitude\": -111.2}, {\"dt\": \"1950-07-01T00:00:00\", \"AverageTemperature\": 16.081999999999994, \"AverageTemperatureUncertainty\": 0.171, \"City\": \"Vancouver\", \"Country\": \"United States\", \"Latitude\": 45.81, \"Longitude\": -123.46}]}}, {\"mode\": \"vega-lite\"});\n",
       "</script>"
      ],
      "text/plain": [
       "alt.LayerChart(...)"
      ]
     },
     "execution_count": 1,
     "metadata": {},
     "output_type": "execute_result"
    }
   ],
   "source": [
    "states = alt.topo_feature(data.us_10m.url, feature='states')\n",
    "background = alt.Chart(states).mark_geoshape(\n",
    "    fill='lightgray',\n",
    "    stroke='white'\n",
    ").properties(\n",
    "    width=500,\n",
    "    height=300\n",
    ").project('albersUsa')\n",
    "points = alt.Chart(df2).mark_point(size=100).encode(\n",
    "    longitude='Longitude',\n",
    "    latitude='Latitude',\n",
    "    color=\"AverageTemperature\",\n",
    "    tooltip=['City','AverageTemperature']\n",
    ")\n",
    "chart = background + points\n",
    "chart"
   ]
  },
  {
   "cell_type": "code",
   "execution_count": 28,
   "id": "841cb147",
   "metadata": {
    "execution": {
     "iopub.execute_input": "2021-06-02T16:42:22.302799Z",
     "iopub.status.busy": "2021-06-02T16:42:22.301961Z",
     "iopub.status.idle": "2021-06-02T16:42:22.303703Z",
     "shell.execute_reply": "2021-06-02T16:42:22.304384Z"
    }
   },
   "outputs": [],
   "source": [
    "matr = np.linspace((25, -150), (50, -75), 20)\n",
    "Lat, Log = np.meshgrid(matr[:, 0], matr[:, 1])\n",
    "df_pred = pd.DataFrame({\"Latitude\": Lat.flatten(), \"Longitude\": Log.flatten()})\n",
    "df_pred[\"AverageTemperature\"] = model.predict(df_pred[[\"Latitude\"]])"
   ]
  },
  {
   "cell_type": "code",
   "execution_count": 29,
   "id": "e1e2e35d",
   "metadata": {
    "execution": {
     "iopub.execute_input": "2021-06-02T16:42:22.323037Z",
     "iopub.status.busy": "2021-06-02T16:42:22.322178Z",
     "iopub.status.idle": "2021-06-02T16:42:22.331355Z",
     "shell.execute_reply": "2021-06-02T16:42:22.332056Z"
    }
   },
   "outputs": [
    {
     "data": {
      "text/html": [
       "\n",
       "<div id=\"altair-viz-4a862a820e82474bba83cacf91fdf21c\"></div>\n",
       "<script type=\"text/javascript\">\n",
       "  (function(spec, embedOpt){\n",
       "    let outputDiv = document.currentScript.previousElementSibling;\n",
       "    if (outputDiv.id !== \"altair-viz-4a862a820e82474bba83cacf91fdf21c\") {\n",
       "      outputDiv = document.getElementById(\"altair-viz-4a862a820e82474bba83cacf91fdf21c\");\n",
       "    }\n",
       "    const paths = {\n",
       "      \"vega\": \"https://cdn.jsdelivr.net/npm//vega@5?noext\",\n",
       "      \"vega-lib\": \"https://cdn.jsdelivr.net/npm//vega-lib?noext\",\n",
       "      \"vega-lite\": \"https://cdn.jsdelivr.net/npm//vega-lite@4.8.1?noext\",\n",
       "      \"vega-embed\": \"https://cdn.jsdelivr.net/npm//vega-embed@6?noext\",\n",
       "    };\n",
       "\n",
       "    function loadScript(lib) {\n",
       "      return new Promise(function(resolve, reject) {\n",
       "        var s = document.createElement('script');\n",
       "        s.src = paths[lib];\n",
       "        s.async = true;\n",
       "        s.onload = () => resolve(paths[lib]);\n",
       "        s.onerror = () => reject(`Error loading script: ${paths[lib]}`);\n",
       "        document.getElementsByTagName(\"head\")[0].appendChild(s);\n",
       "      });\n",
       "    }\n",
       "\n",
       "    function showError(err) {\n",
       "      outputDiv.innerHTML = `<div class=\"error\" style=\"color:red;\">${err}</div>`;\n",
       "      throw err;\n",
       "    }\n",
       "\n",
       "    function displayChart(vegaEmbed) {\n",
       "      vegaEmbed(outputDiv, spec, embedOpt)\n",
       "        .catch(err => showError(`Javascript Error: ${err.message}<br>This usually means there's a typo in your chart specification. See the javascript console for the full traceback.`));\n",
       "    }\n",
       "\n",
       "    if(typeof define === \"function\" && define.amd) {\n",
       "      requirejs.config({paths});\n",
       "      require([\"vega-embed\"], displayChart, err => showError(`Error loading script: ${err.message}`));\n",
       "    } else if (typeof vegaEmbed === \"function\") {\n",
       "      displayChart(vegaEmbed);\n",
       "    } else {\n",
       "      loadScript(\"vega\")\n",
       "        .then(() => loadScript(\"vega-lite\"))\n",
       "        .then(() => loadScript(\"vega-embed\"))\n",
       "        .catch(showError)\n",
       "        .then(() => displayChart(vegaEmbed));\n",
       "    }\n",
       "  })({\"config\": {\"view\": {\"continuousWidth\": 400, \"continuousHeight\": 300}}, \"layer\": [{\"data\": {\"url\": \"https://cdn.jsdelivr.net/npm/vega-datasets@v1.29.0/data/us-10m.json\", \"format\": {\"feature\": \"states\", \"type\": \"topojson\"}}, \"mark\": {\"type\": \"geoshape\", \"fill\": \"lightgray\", \"stroke\": \"white\"}, \"height\": 300, \"projection\": {\"type\": \"albersUsa\"}, \"width\": 500}, {\"data\": {\"name\": \"data-a24446c2388b6e9520e228763928e3f2\"}, \"mark\": {\"type\": \"point\", \"size\": 100}, \"encoding\": {\"color\": {\"type\": \"quantitative\", \"field\": \"AverageTemperature\"}, \"latitude\": {\"field\": \"Latitude\", \"type\": \"quantitative\"}, \"longitude\": {\"field\": \"Longitude\", \"type\": \"quantitative\"}, \"tooltip\": [{\"type\": \"nominal\", \"field\": \"City\"}, {\"type\": \"quantitative\", \"field\": \"AverageTemperature\"}]}}, {\"data\": {\"name\": \"data-b09dafde5dde8f8fc7d3f259f56c7f96\"}, \"mark\": {\"type\": \"circle\", \"size\": 10}, \"encoding\": {\"color\": {\"type\": \"quantitative\", \"field\": \"AverageTemperature\", \"scale\": {\"scheme\": \"reds\"}}, \"latitude\": {\"field\": \"Latitude\", \"type\": \"quantitative\"}, \"longitude\": {\"field\": \"Longitude\", \"type\": \"quantitative\"}}}], \"$schema\": \"https://vega.github.io/schema/vega-lite/v4.8.1.json\", \"datasets\": {\"data-a24446c2388b6e9520e228763928e3f2\": [{\"dt\": \"1950-07-01T00:00:00\", \"AverageTemperature\": 22.148000000000003, \"AverageTemperatureUncertainty\": 0.198, \"City\": \"Albuquerque\", \"Country\": \"United States\", \"Latitude\": 34.56, \"Longitude\": -107.03}, {\"dt\": \"1950-07-01T00:00:00\", \"AverageTemperature\": 28.817, \"AverageTemperatureUncertainty\": 0.206, \"City\": \"Austin\", \"Country\": \"United States\", \"Latitude\": 29.74, \"Longitude\": -97.85}, {\"dt\": \"1950-07-01T00:00:00\", \"AverageTemperature\": 23.133000000000006, \"AverageTemperatureUncertainty\": 0.2789999999999999, \"City\": \"Baltimore\", \"Country\": \"United States\", \"Latitude\": 39.38, \"Longitude\": -76.99}, {\"dt\": \"1950-07-01T00:00:00\", \"AverageTemperature\": 20.544, \"AverageTemperatureUncertainty\": 0.418, \"City\": \"Boston\", \"Country\": \"United States\", \"Latitude\": 42.59, \"Longitude\": -72.0}, {\"dt\": \"1950-07-01T00:00:00\", \"AverageTemperature\": 25.075, \"AverageTemperatureUncertainty\": 0.262, \"City\": \"Charlotte\", \"Country\": \"United States\", \"Latitude\": 34.56, \"Longitude\": -81.73}, {\"dt\": \"1950-07-01T00:00:00\", \"AverageTemperature\": 20.247, \"AverageTemperatureUncertainty\": 0.2289999999999999, \"City\": \"Chicago\", \"Country\": \"United States\", \"Latitude\": 42.59, \"Longitude\": -87.27}, {\"dt\": \"1950-07-01T00:00:00\", \"AverageTemperature\": 25.187, \"AverageTemperatureUncertainty\": 0.268, \"City\": \"Columbus\", \"Country\": \"United States\", \"Latitude\": 32.95, \"Longitude\": -85.21}, {\"dt\": \"1950-07-01T00:00:00\", \"AverageTemperature\": 22.168000000000003, \"AverageTemperatureUncertainty\": 0.249, \"City\": \"Columbus\", \"Country\": \"United States\", \"Latitude\": 39.38, \"Longitude\": -83.24}, {\"dt\": \"1950-07-01T00:00:00\", \"AverageTemperature\": 26.982, \"AverageTemperatureUncertainty\": 0.278, \"City\": \"Dallas\", \"Country\": \"United States\", \"Latitude\": 32.95, \"Longitude\": -96.7}, {\"dt\": \"1950-07-01T00:00:00\", \"AverageTemperature\": 19.942, \"AverageTemperatureUncertainty\": 0.276, \"City\": \"Denver\", \"Country\": \"United States\", \"Latitude\": 39.38, \"Longitude\": -104.05}, {\"dt\": \"1950-07-01T00:00:00\", \"AverageTemperature\": 20.916, \"AverageTemperatureUncertainty\": 0.1969999999999999, \"City\": \"Detroit\", \"Country\": \"United States\", \"Latitude\": 42.59, \"Longitude\": -82.91}, {\"dt\": \"1950-07-01T00:00:00\", \"AverageTemperature\": 24.864, \"AverageTemperatureUncertainty\": 0.201, \"City\": \"El Paso\", \"Country\": \"United States\", \"Latitude\": 31.35, \"Longitude\": -105.55}, {\"dt\": \"1950-07-01T00:00:00\", \"AverageTemperature\": 26.982, \"AverageTemperatureUncertainty\": 0.278, \"City\": \"Fort Worth\", \"Country\": \"United States\", \"Latitude\": 32.95, \"Longitude\": -96.7}, {\"dt\": \"1950-07-01T00:00:00\", \"AverageTemperature\": 27.256, \"AverageTemperatureUncertainty\": 0.466, \"City\": \"Fresno\", \"Country\": \"United States\", \"Latitude\": 36.17, \"Longitude\": -119.34}, {\"dt\": \"1950-07-01T00:00:00\", \"AverageTemperature\": 28.248, \"AverageTemperatureUncertainty\": 0.195, \"City\": \"Houston\", \"Country\": \"United States\", \"Latitude\": 29.74, \"Longitude\": -96.0}, {\"dt\": \"1950-07-01T00:00:00\", \"AverageTemperature\": 22.203000000000003, \"AverageTemperatureUncertainty\": 0.32, \"City\": \"Indianapolis\", \"Country\": \"United States\", \"Latitude\": 39.38, \"Longitude\": -85.32}, {\"dt\": \"1950-07-01T00:00:00\", \"AverageTemperature\": 26.188, \"AverageTemperatureUncertainty\": 0.256, \"City\": \"Jacksonville\", \"Country\": \"United States\", \"Latitude\": 29.74, \"Longitude\": -81.23}, {\"dt\": \"1950-07-01T00:00:00\", \"AverageTemperature\": 29.69, \"AverageTemperatureUncertainty\": 0.2739999999999999, \"City\": \"Las Vegas\", \"Country\": \"United States\", \"Latitude\": 36.17, \"Longitude\": -115.36}, {\"dt\": \"1950-07-01T00:00:00\", \"AverageTemperature\": 24.212, \"AverageTemperatureUncertainty\": 0.505, \"City\": \"Los Angeles\", \"Country\": \"United States\", \"Latitude\": 34.56, \"Longitude\": -118.7}, {\"dt\": \"1950-07-01T00:00:00\", \"AverageTemperature\": 22.943, \"AverageTemperatureUncertainty\": 0.166, \"City\": \"Louisville\", \"Country\": \"United States\", \"Latitude\": 37.78, \"Longitude\": -85.42}, {\"dt\": \"1950-07-01T00:00:00\", \"AverageTemperature\": 25.273000000000003, \"AverageTemperatureUncertainty\": 0.198, \"City\": \"Memphis\", \"Country\": \"United States\", \"Latitude\": 34.56, \"Longitude\": -89.51}, {\"dt\": \"1950-07-01T00:00:00\", \"AverageTemperature\": 20.247, \"AverageTemperatureUncertainty\": 0.2289999999999999, \"City\": \"Milwaukee\", \"Country\": \"United States\", \"Latitude\": 42.59, \"Longitude\": -87.27}, {\"dt\": \"1950-07-01T00:00:00\", \"AverageTemperature\": 23.784, \"AverageTemperatureUncertainty\": 0.335, \"City\": \"Nashville\", \"Country\": \"United States\", \"Latitude\": 36.17, \"Longitude\": -87.51}, {\"dt\": \"1950-07-01T00:00:00\", \"AverageTemperature\": 21.613000000000003, \"AverageTemperatureUncertainty\": 0.133, \"City\": \"New York\", \"Country\": \"United States\", \"Latitude\": 40.99, \"Longitude\": -74.56}, {\"dt\": \"1950-07-01T00:00:00\", \"AverageTemperature\": 24.761, \"AverageTemperatureUncertainty\": 0.305, \"City\": \"Oklahoma City\", \"Country\": \"United States\", \"Latitude\": 36.17, \"Longitude\": -97.46}, {\"dt\": \"1950-07-01T00:00:00\", \"AverageTemperature\": 23.267, \"AverageTemperatureUncertainty\": 0.387, \"City\": \"Philadelphia\", \"Country\": \"United States\", \"Latitude\": 39.38, \"Longitude\": -74.91}, {\"dt\": \"1950-07-01T00:00:00\", \"AverageTemperature\": 31.334, \"AverageTemperatureUncertainty\": 0.273, \"City\": \"Phoenix\", \"Country\": \"United States\", \"Latitude\": 32.95, \"Longitude\": -112.02}, {\"dt\": \"1950-07-01T00:00:00\", \"AverageTemperature\": 16.081999999999994, \"AverageTemperatureUncertainty\": 0.171, \"City\": \"Portland\", \"Country\": \"United States\", \"Latitude\": 45.81, \"Longitude\": -123.46}, {\"dt\": \"1950-07-01T00:00:00\", \"AverageTemperature\": 28.817, \"AverageTemperatureUncertainty\": 0.206, \"City\": \"San Antonio\", \"Country\": \"United States\", \"Latitude\": 29.74, \"Longitude\": -97.85}, {\"dt\": \"1950-07-01T00:00:00\", \"AverageTemperature\": 19.116, \"AverageTemperatureUncertainty\": 0.21, \"City\": \"San Diego\", \"Country\": \"United States\", \"Latitude\": 32.95, \"Longitude\": -117.77}, {\"dt\": \"1950-07-01T00:00:00\", \"AverageTemperature\": 19.749, \"AverageTemperatureUncertainty\": 0.3, \"City\": \"San Francisco\", \"Country\": \"United States\", \"Latitude\": 37.78, \"Longitude\": -122.03}, {\"dt\": \"1950-07-01T00:00:00\", \"AverageTemperature\": 19.749, \"AverageTemperatureUncertainty\": 0.3, \"City\": \"San Jose\", \"Country\": \"United States\", \"Latitude\": 37.78, \"Longitude\": -122.03}, {\"dt\": \"1950-07-01T00:00:00\", \"AverageTemperature\": 15.159, \"AverageTemperatureUncertainty\": 0.15, \"City\": \"Seattle\", \"Country\": \"United States\", \"Latitude\": 47.42, \"Longitude\": -121.97}, {\"dt\": \"1950-07-01T00:00:00\", \"AverageTemperature\": 25.607, \"AverageTemperatureUncertainty\": 0.243, \"City\": \"Tucson\", \"Country\": \"United States\", \"Latitude\": 31.35, \"Longitude\": -111.2}, {\"dt\": \"1950-07-01T00:00:00\", \"AverageTemperature\": 16.081999999999994, \"AverageTemperatureUncertainty\": 0.171, \"City\": \"Vancouver\", \"Country\": \"United States\", \"Latitude\": 45.81, \"Longitude\": -123.46}], \"data-b09dafde5dde8f8fc7d3f259f56c7f96\": [{\"Latitude\": 25.0, \"Longitude\": -150.0, \"AverageTemperature\": 31.091141374959722}, {\"Latitude\": 26.315789473684212, \"Longitude\": -150.0, \"AverageTemperature\": 30.23562154006254}, {\"Latitude\": 27.63157894736842, \"Longitude\": -150.0, \"AverageTemperature\": 29.38010170516536}, {\"Latitude\": 28.94736842105263, \"Longitude\": -150.0, \"AverageTemperature\": 28.52458187026818}, {\"Latitude\": 30.263157894736842, \"Longitude\": -150.0, \"AverageTemperature\": 27.669062035370995}, {\"Latitude\": 31.578947368421055, \"Longitude\": -150.0, \"AverageTemperature\": 26.81354220047381}, {\"Latitude\": 32.89473684210526, \"Longitude\": -150.0, \"AverageTemperature\": 25.958022365576632}, {\"Latitude\": 34.21052631578947, \"Longitude\": -150.0, \"AverageTemperature\": 25.10250253067945}, {\"Latitude\": 35.526315789473685, \"Longitude\": -150.0, \"AverageTemperature\": 24.246982695782265}, {\"Latitude\": 36.8421052631579, \"Longitude\": -150.0, \"AverageTemperature\": 23.391462860885085}, {\"Latitude\": 38.15789473684211, \"Longitude\": -150.0, \"AverageTemperature\": 22.5359430259879}, {\"Latitude\": 39.473684210526315, \"Longitude\": -150.0, \"AverageTemperature\": 21.68042319109072}, {\"Latitude\": 40.78947368421053, \"Longitude\": -150.0, \"AverageTemperature\": 20.824903356193538}, {\"Latitude\": 42.10526315789474, \"Longitude\": -150.0, \"AverageTemperature\": 19.969383521296354}, {\"Latitude\": 43.421052631578945, \"Longitude\": -150.0, \"AverageTemperature\": 19.113863686399178}, {\"Latitude\": 44.73684210526316, \"Longitude\": -150.0, \"AverageTemperature\": 18.258343851501994}, {\"Latitude\": 46.05263157894737, \"Longitude\": -150.0, \"AverageTemperature\": 17.40282401660481}, {\"Latitude\": 47.36842105263158, \"Longitude\": -150.0, \"AverageTemperature\": 16.547304181707627}, {\"Latitude\": 48.684210526315795, \"Longitude\": -150.0, \"AverageTemperature\": 15.691784346810444}, {\"Latitude\": 50.0, \"Longitude\": -150.0, \"AverageTemperature\": 14.836264511913264}, {\"Latitude\": 25.0, \"Longitude\": -146.05263157894737, \"AverageTemperature\": 31.091141374959722}, {\"Latitude\": 26.315789473684212, \"Longitude\": -146.05263157894737, \"AverageTemperature\": 30.23562154006254}, {\"Latitude\": 27.63157894736842, \"Longitude\": -146.05263157894737, \"AverageTemperature\": 29.38010170516536}, {\"Latitude\": 28.94736842105263, \"Longitude\": -146.05263157894737, \"AverageTemperature\": 28.52458187026818}, {\"Latitude\": 30.263157894736842, \"Longitude\": -146.05263157894737, \"AverageTemperature\": 27.669062035370995}, {\"Latitude\": 31.578947368421055, \"Longitude\": -146.05263157894737, \"AverageTemperature\": 26.81354220047381}, {\"Latitude\": 32.89473684210526, \"Longitude\": -146.05263157894737, \"AverageTemperature\": 25.958022365576632}, {\"Latitude\": 34.21052631578947, \"Longitude\": -146.05263157894737, \"AverageTemperature\": 25.10250253067945}, {\"Latitude\": 35.526315789473685, \"Longitude\": -146.05263157894737, \"AverageTemperature\": 24.246982695782265}, {\"Latitude\": 36.8421052631579, \"Longitude\": -146.05263157894737, \"AverageTemperature\": 23.391462860885085}, {\"Latitude\": 38.15789473684211, \"Longitude\": -146.05263157894737, \"AverageTemperature\": 22.5359430259879}, {\"Latitude\": 39.473684210526315, \"Longitude\": -146.05263157894737, \"AverageTemperature\": 21.68042319109072}, {\"Latitude\": 40.78947368421053, \"Longitude\": -146.05263157894737, \"AverageTemperature\": 20.824903356193538}, {\"Latitude\": 42.10526315789474, \"Longitude\": -146.05263157894737, \"AverageTemperature\": 19.969383521296354}, {\"Latitude\": 43.421052631578945, \"Longitude\": -146.05263157894737, \"AverageTemperature\": 19.113863686399178}, {\"Latitude\": 44.73684210526316, \"Longitude\": -146.05263157894737, \"AverageTemperature\": 18.258343851501994}, {\"Latitude\": 46.05263157894737, \"Longitude\": -146.05263157894737, \"AverageTemperature\": 17.40282401660481}, {\"Latitude\": 47.36842105263158, \"Longitude\": -146.05263157894737, \"AverageTemperature\": 16.547304181707627}, {\"Latitude\": 48.684210526315795, \"Longitude\": -146.05263157894737, \"AverageTemperature\": 15.691784346810444}, {\"Latitude\": 50.0, \"Longitude\": -146.05263157894737, \"AverageTemperature\": 14.836264511913264}, {\"Latitude\": 25.0, \"Longitude\": -142.10526315789474, \"AverageTemperature\": 31.091141374959722}, {\"Latitude\": 26.315789473684212, \"Longitude\": -142.10526315789474, \"AverageTemperature\": 30.23562154006254}, {\"Latitude\": 27.63157894736842, \"Longitude\": -142.10526315789474, \"AverageTemperature\": 29.38010170516536}, {\"Latitude\": 28.94736842105263, \"Longitude\": -142.10526315789474, \"AverageTemperature\": 28.52458187026818}, {\"Latitude\": 30.263157894736842, \"Longitude\": -142.10526315789474, \"AverageTemperature\": 27.669062035370995}, {\"Latitude\": 31.578947368421055, \"Longitude\": -142.10526315789474, \"AverageTemperature\": 26.81354220047381}, {\"Latitude\": 32.89473684210526, \"Longitude\": -142.10526315789474, \"AverageTemperature\": 25.958022365576632}, {\"Latitude\": 34.21052631578947, \"Longitude\": -142.10526315789474, \"AverageTemperature\": 25.10250253067945}, {\"Latitude\": 35.526315789473685, \"Longitude\": -142.10526315789474, \"AverageTemperature\": 24.246982695782265}, {\"Latitude\": 36.8421052631579, \"Longitude\": -142.10526315789474, \"AverageTemperature\": 23.391462860885085}, {\"Latitude\": 38.15789473684211, \"Longitude\": -142.10526315789474, \"AverageTemperature\": 22.5359430259879}, {\"Latitude\": 39.473684210526315, \"Longitude\": -142.10526315789474, \"AverageTemperature\": 21.68042319109072}, {\"Latitude\": 40.78947368421053, \"Longitude\": -142.10526315789474, \"AverageTemperature\": 20.824903356193538}, {\"Latitude\": 42.10526315789474, \"Longitude\": -142.10526315789474, \"AverageTemperature\": 19.969383521296354}, {\"Latitude\": 43.421052631578945, \"Longitude\": -142.10526315789474, \"AverageTemperature\": 19.113863686399178}, {\"Latitude\": 44.73684210526316, \"Longitude\": -142.10526315789474, \"AverageTemperature\": 18.258343851501994}, {\"Latitude\": 46.05263157894737, \"Longitude\": -142.10526315789474, \"AverageTemperature\": 17.40282401660481}, {\"Latitude\": 47.36842105263158, \"Longitude\": -142.10526315789474, \"AverageTemperature\": 16.547304181707627}, {\"Latitude\": 48.684210526315795, \"Longitude\": -142.10526315789474, \"AverageTemperature\": 15.691784346810444}, {\"Latitude\": 50.0, \"Longitude\": -142.10526315789474, \"AverageTemperature\": 14.836264511913264}, {\"Latitude\": 25.0, \"Longitude\": -138.1578947368421, \"AverageTemperature\": 31.091141374959722}, {\"Latitude\": 26.315789473684212, \"Longitude\": -138.1578947368421, \"AverageTemperature\": 30.23562154006254}, {\"Latitude\": 27.63157894736842, \"Longitude\": -138.1578947368421, \"AverageTemperature\": 29.38010170516536}, {\"Latitude\": 28.94736842105263, \"Longitude\": -138.1578947368421, \"AverageTemperature\": 28.52458187026818}, {\"Latitude\": 30.263157894736842, \"Longitude\": -138.1578947368421, \"AverageTemperature\": 27.669062035370995}, {\"Latitude\": 31.578947368421055, \"Longitude\": -138.1578947368421, \"AverageTemperature\": 26.81354220047381}, {\"Latitude\": 32.89473684210526, \"Longitude\": -138.1578947368421, \"AverageTemperature\": 25.958022365576632}, {\"Latitude\": 34.21052631578947, \"Longitude\": -138.1578947368421, \"AverageTemperature\": 25.10250253067945}, {\"Latitude\": 35.526315789473685, \"Longitude\": -138.1578947368421, \"AverageTemperature\": 24.246982695782265}, {\"Latitude\": 36.8421052631579, \"Longitude\": -138.1578947368421, \"AverageTemperature\": 23.391462860885085}, {\"Latitude\": 38.15789473684211, \"Longitude\": -138.1578947368421, \"AverageTemperature\": 22.5359430259879}, {\"Latitude\": 39.473684210526315, \"Longitude\": -138.1578947368421, \"AverageTemperature\": 21.68042319109072}, {\"Latitude\": 40.78947368421053, \"Longitude\": -138.1578947368421, \"AverageTemperature\": 20.824903356193538}, {\"Latitude\": 42.10526315789474, \"Longitude\": -138.1578947368421, \"AverageTemperature\": 19.969383521296354}, {\"Latitude\": 43.421052631578945, \"Longitude\": -138.1578947368421, \"AverageTemperature\": 19.113863686399178}, {\"Latitude\": 44.73684210526316, \"Longitude\": -138.1578947368421, \"AverageTemperature\": 18.258343851501994}, {\"Latitude\": 46.05263157894737, \"Longitude\": -138.1578947368421, \"AverageTemperature\": 17.40282401660481}, {\"Latitude\": 47.36842105263158, \"Longitude\": -138.1578947368421, \"AverageTemperature\": 16.547304181707627}, {\"Latitude\": 48.684210526315795, \"Longitude\": -138.1578947368421, \"AverageTemperature\": 15.691784346810444}, {\"Latitude\": 50.0, \"Longitude\": -138.1578947368421, \"AverageTemperature\": 14.836264511913264}, {\"Latitude\": 25.0, \"Longitude\": -134.21052631578948, \"AverageTemperature\": 31.091141374959722}, {\"Latitude\": 26.315789473684212, \"Longitude\": -134.21052631578948, \"AverageTemperature\": 30.23562154006254}, {\"Latitude\": 27.63157894736842, \"Longitude\": -134.21052631578948, \"AverageTemperature\": 29.38010170516536}, {\"Latitude\": 28.94736842105263, \"Longitude\": -134.21052631578948, \"AverageTemperature\": 28.52458187026818}, {\"Latitude\": 30.263157894736842, \"Longitude\": -134.21052631578948, \"AverageTemperature\": 27.669062035370995}, {\"Latitude\": 31.578947368421055, \"Longitude\": -134.21052631578948, \"AverageTemperature\": 26.81354220047381}, {\"Latitude\": 32.89473684210526, \"Longitude\": -134.21052631578948, \"AverageTemperature\": 25.958022365576632}, {\"Latitude\": 34.21052631578947, \"Longitude\": -134.21052631578948, \"AverageTemperature\": 25.10250253067945}, {\"Latitude\": 35.526315789473685, \"Longitude\": -134.21052631578948, \"AverageTemperature\": 24.246982695782265}, {\"Latitude\": 36.8421052631579, \"Longitude\": -134.21052631578948, \"AverageTemperature\": 23.391462860885085}, {\"Latitude\": 38.15789473684211, \"Longitude\": -134.21052631578948, \"AverageTemperature\": 22.5359430259879}, {\"Latitude\": 39.473684210526315, \"Longitude\": -134.21052631578948, \"AverageTemperature\": 21.68042319109072}, {\"Latitude\": 40.78947368421053, \"Longitude\": -134.21052631578948, \"AverageTemperature\": 20.824903356193538}, {\"Latitude\": 42.10526315789474, \"Longitude\": -134.21052631578948, \"AverageTemperature\": 19.969383521296354}, {\"Latitude\": 43.421052631578945, \"Longitude\": -134.21052631578948, \"AverageTemperature\": 19.113863686399178}, {\"Latitude\": 44.73684210526316, \"Longitude\": -134.21052631578948, \"AverageTemperature\": 18.258343851501994}, {\"Latitude\": 46.05263157894737, \"Longitude\": -134.21052631578948, \"AverageTemperature\": 17.40282401660481}, {\"Latitude\": 47.36842105263158, \"Longitude\": -134.21052631578948, \"AverageTemperature\": 16.547304181707627}, {\"Latitude\": 48.684210526315795, \"Longitude\": -134.21052631578948, \"AverageTemperature\": 15.691784346810444}, {\"Latitude\": 50.0, \"Longitude\": -134.21052631578948, \"AverageTemperature\": 14.836264511913264}, {\"Latitude\": 25.0, \"Longitude\": -130.26315789473685, \"AverageTemperature\": 31.091141374959722}, {\"Latitude\": 26.315789473684212, \"Longitude\": -130.26315789473685, \"AverageTemperature\": 30.23562154006254}, {\"Latitude\": 27.63157894736842, \"Longitude\": -130.26315789473685, \"AverageTemperature\": 29.38010170516536}, {\"Latitude\": 28.94736842105263, \"Longitude\": -130.26315789473685, \"AverageTemperature\": 28.52458187026818}, {\"Latitude\": 30.263157894736842, \"Longitude\": -130.26315789473685, \"AverageTemperature\": 27.669062035370995}, {\"Latitude\": 31.578947368421055, \"Longitude\": -130.26315789473685, \"AverageTemperature\": 26.81354220047381}, {\"Latitude\": 32.89473684210526, \"Longitude\": -130.26315789473685, \"AverageTemperature\": 25.958022365576632}, {\"Latitude\": 34.21052631578947, \"Longitude\": -130.26315789473685, \"AverageTemperature\": 25.10250253067945}, {\"Latitude\": 35.526315789473685, \"Longitude\": -130.26315789473685, \"AverageTemperature\": 24.246982695782265}, {\"Latitude\": 36.8421052631579, \"Longitude\": -130.26315789473685, \"AverageTemperature\": 23.391462860885085}, {\"Latitude\": 38.15789473684211, \"Longitude\": -130.26315789473685, \"AverageTemperature\": 22.5359430259879}, {\"Latitude\": 39.473684210526315, \"Longitude\": -130.26315789473685, \"AverageTemperature\": 21.68042319109072}, {\"Latitude\": 40.78947368421053, \"Longitude\": -130.26315789473685, \"AverageTemperature\": 20.824903356193538}, {\"Latitude\": 42.10526315789474, \"Longitude\": -130.26315789473685, \"AverageTemperature\": 19.969383521296354}, {\"Latitude\": 43.421052631578945, \"Longitude\": -130.26315789473685, \"AverageTemperature\": 19.113863686399178}, {\"Latitude\": 44.73684210526316, \"Longitude\": -130.26315789473685, \"AverageTemperature\": 18.258343851501994}, {\"Latitude\": 46.05263157894737, \"Longitude\": -130.26315789473685, \"AverageTemperature\": 17.40282401660481}, {\"Latitude\": 47.36842105263158, \"Longitude\": -130.26315789473685, \"AverageTemperature\": 16.547304181707627}, {\"Latitude\": 48.684210526315795, \"Longitude\": -130.26315789473685, \"AverageTemperature\": 15.691784346810444}, {\"Latitude\": 50.0, \"Longitude\": -130.26315789473685, \"AverageTemperature\": 14.836264511913264}, {\"Latitude\": 25.0, \"Longitude\": -126.31578947368422, \"AverageTemperature\": 31.091141374959722}, {\"Latitude\": 26.315789473684212, \"Longitude\": -126.31578947368422, \"AverageTemperature\": 30.23562154006254}, {\"Latitude\": 27.63157894736842, \"Longitude\": -126.31578947368422, \"AverageTemperature\": 29.38010170516536}, {\"Latitude\": 28.94736842105263, \"Longitude\": -126.31578947368422, \"AverageTemperature\": 28.52458187026818}, {\"Latitude\": 30.263157894736842, \"Longitude\": -126.31578947368422, \"AverageTemperature\": 27.669062035370995}, {\"Latitude\": 31.578947368421055, \"Longitude\": -126.31578947368422, \"AverageTemperature\": 26.81354220047381}, {\"Latitude\": 32.89473684210526, \"Longitude\": -126.31578947368422, \"AverageTemperature\": 25.958022365576632}, {\"Latitude\": 34.21052631578947, \"Longitude\": -126.31578947368422, \"AverageTemperature\": 25.10250253067945}, {\"Latitude\": 35.526315789473685, \"Longitude\": -126.31578947368422, \"AverageTemperature\": 24.246982695782265}, {\"Latitude\": 36.8421052631579, \"Longitude\": -126.31578947368422, \"AverageTemperature\": 23.391462860885085}, {\"Latitude\": 38.15789473684211, \"Longitude\": -126.31578947368422, \"AverageTemperature\": 22.5359430259879}, {\"Latitude\": 39.473684210526315, \"Longitude\": -126.31578947368422, \"AverageTemperature\": 21.68042319109072}, {\"Latitude\": 40.78947368421053, \"Longitude\": -126.31578947368422, \"AverageTemperature\": 20.824903356193538}, {\"Latitude\": 42.10526315789474, \"Longitude\": -126.31578947368422, \"AverageTemperature\": 19.969383521296354}, {\"Latitude\": 43.421052631578945, \"Longitude\": -126.31578947368422, \"AverageTemperature\": 19.113863686399178}, {\"Latitude\": 44.73684210526316, \"Longitude\": -126.31578947368422, \"AverageTemperature\": 18.258343851501994}, {\"Latitude\": 46.05263157894737, \"Longitude\": -126.31578947368422, \"AverageTemperature\": 17.40282401660481}, {\"Latitude\": 47.36842105263158, \"Longitude\": -126.31578947368422, \"AverageTemperature\": 16.547304181707627}, {\"Latitude\": 48.684210526315795, \"Longitude\": -126.31578947368422, \"AverageTemperature\": 15.691784346810444}, {\"Latitude\": 50.0, \"Longitude\": -126.31578947368422, \"AverageTemperature\": 14.836264511913264}, {\"Latitude\": 25.0, \"Longitude\": -122.36842105263158, \"AverageTemperature\": 31.091141374959722}, {\"Latitude\": 26.315789473684212, \"Longitude\": -122.36842105263158, \"AverageTemperature\": 30.23562154006254}, {\"Latitude\": 27.63157894736842, \"Longitude\": -122.36842105263158, \"AverageTemperature\": 29.38010170516536}, {\"Latitude\": 28.94736842105263, \"Longitude\": -122.36842105263158, \"AverageTemperature\": 28.52458187026818}, {\"Latitude\": 30.263157894736842, \"Longitude\": -122.36842105263158, \"AverageTemperature\": 27.669062035370995}, {\"Latitude\": 31.578947368421055, \"Longitude\": -122.36842105263158, \"AverageTemperature\": 26.81354220047381}, {\"Latitude\": 32.89473684210526, \"Longitude\": -122.36842105263158, \"AverageTemperature\": 25.958022365576632}, {\"Latitude\": 34.21052631578947, \"Longitude\": -122.36842105263158, \"AverageTemperature\": 25.10250253067945}, {\"Latitude\": 35.526315789473685, \"Longitude\": -122.36842105263158, \"AverageTemperature\": 24.246982695782265}, {\"Latitude\": 36.8421052631579, \"Longitude\": -122.36842105263158, \"AverageTemperature\": 23.391462860885085}, {\"Latitude\": 38.15789473684211, \"Longitude\": -122.36842105263158, \"AverageTemperature\": 22.5359430259879}, {\"Latitude\": 39.473684210526315, \"Longitude\": -122.36842105263158, \"AverageTemperature\": 21.68042319109072}, {\"Latitude\": 40.78947368421053, \"Longitude\": -122.36842105263158, \"AverageTemperature\": 20.824903356193538}, {\"Latitude\": 42.10526315789474, \"Longitude\": -122.36842105263158, \"AverageTemperature\": 19.969383521296354}, {\"Latitude\": 43.421052631578945, \"Longitude\": -122.36842105263158, \"AverageTemperature\": 19.113863686399178}, {\"Latitude\": 44.73684210526316, \"Longitude\": -122.36842105263158, \"AverageTemperature\": 18.258343851501994}, {\"Latitude\": 46.05263157894737, \"Longitude\": -122.36842105263158, \"AverageTemperature\": 17.40282401660481}, {\"Latitude\": 47.36842105263158, \"Longitude\": -122.36842105263158, \"AverageTemperature\": 16.547304181707627}, {\"Latitude\": 48.684210526315795, \"Longitude\": -122.36842105263158, \"AverageTemperature\": 15.691784346810444}, {\"Latitude\": 50.0, \"Longitude\": -122.36842105263158, \"AverageTemperature\": 14.836264511913264}, {\"Latitude\": 25.0, \"Longitude\": -118.42105263157895, \"AverageTemperature\": 31.091141374959722}, {\"Latitude\": 26.315789473684212, \"Longitude\": -118.42105263157895, \"AverageTemperature\": 30.23562154006254}, {\"Latitude\": 27.63157894736842, \"Longitude\": -118.42105263157895, \"AverageTemperature\": 29.38010170516536}, {\"Latitude\": 28.94736842105263, \"Longitude\": -118.42105263157895, \"AverageTemperature\": 28.52458187026818}, {\"Latitude\": 30.263157894736842, \"Longitude\": -118.42105263157895, \"AverageTemperature\": 27.669062035370995}, {\"Latitude\": 31.578947368421055, \"Longitude\": -118.42105263157895, \"AverageTemperature\": 26.81354220047381}, {\"Latitude\": 32.89473684210526, \"Longitude\": -118.42105263157895, \"AverageTemperature\": 25.958022365576632}, {\"Latitude\": 34.21052631578947, \"Longitude\": -118.42105263157895, \"AverageTemperature\": 25.10250253067945}, {\"Latitude\": 35.526315789473685, \"Longitude\": -118.42105263157895, \"AverageTemperature\": 24.246982695782265}, {\"Latitude\": 36.8421052631579, \"Longitude\": -118.42105263157895, \"AverageTemperature\": 23.391462860885085}, {\"Latitude\": 38.15789473684211, \"Longitude\": -118.42105263157895, \"AverageTemperature\": 22.5359430259879}, {\"Latitude\": 39.473684210526315, \"Longitude\": -118.42105263157895, \"AverageTemperature\": 21.68042319109072}, {\"Latitude\": 40.78947368421053, \"Longitude\": -118.42105263157895, \"AverageTemperature\": 20.824903356193538}, {\"Latitude\": 42.10526315789474, \"Longitude\": -118.42105263157895, \"AverageTemperature\": 19.969383521296354}, {\"Latitude\": 43.421052631578945, \"Longitude\": -118.42105263157895, \"AverageTemperature\": 19.113863686399178}, {\"Latitude\": 44.73684210526316, \"Longitude\": -118.42105263157895, \"AverageTemperature\": 18.258343851501994}, {\"Latitude\": 46.05263157894737, \"Longitude\": -118.42105263157895, \"AverageTemperature\": 17.40282401660481}, {\"Latitude\": 47.36842105263158, \"Longitude\": -118.42105263157895, \"AverageTemperature\": 16.547304181707627}, {\"Latitude\": 48.684210526315795, \"Longitude\": -118.42105263157895, \"AverageTemperature\": 15.691784346810444}, {\"Latitude\": 50.0, \"Longitude\": -118.42105263157895, \"AverageTemperature\": 14.836264511913264}, {\"Latitude\": 25.0, \"Longitude\": -114.47368421052632, \"AverageTemperature\": 31.091141374959722}, {\"Latitude\": 26.315789473684212, \"Longitude\": -114.47368421052632, \"AverageTemperature\": 30.23562154006254}, {\"Latitude\": 27.63157894736842, \"Longitude\": -114.47368421052632, \"AverageTemperature\": 29.38010170516536}, {\"Latitude\": 28.94736842105263, \"Longitude\": -114.47368421052632, \"AverageTemperature\": 28.52458187026818}, {\"Latitude\": 30.263157894736842, \"Longitude\": -114.47368421052632, \"AverageTemperature\": 27.669062035370995}, {\"Latitude\": 31.578947368421055, \"Longitude\": -114.47368421052632, \"AverageTemperature\": 26.81354220047381}, {\"Latitude\": 32.89473684210526, \"Longitude\": -114.47368421052632, \"AverageTemperature\": 25.958022365576632}, {\"Latitude\": 34.21052631578947, \"Longitude\": -114.47368421052632, \"AverageTemperature\": 25.10250253067945}, {\"Latitude\": 35.526315789473685, \"Longitude\": -114.47368421052632, \"AverageTemperature\": 24.246982695782265}, {\"Latitude\": 36.8421052631579, \"Longitude\": -114.47368421052632, \"AverageTemperature\": 23.391462860885085}, {\"Latitude\": 38.15789473684211, \"Longitude\": -114.47368421052632, \"AverageTemperature\": 22.5359430259879}, {\"Latitude\": 39.473684210526315, \"Longitude\": -114.47368421052632, \"AverageTemperature\": 21.68042319109072}, {\"Latitude\": 40.78947368421053, \"Longitude\": -114.47368421052632, \"AverageTemperature\": 20.824903356193538}, {\"Latitude\": 42.10526315789474, \"Longitude\": -114.47368421052632, \"AverageTemperature\": 19.969383521296354}, {\"Latitude\": 43.421052631578945, \"Longitude\": -114.47368421052632, \"AverageTemperature\": 19.113863686399178}, {\"Latitude\": 44.73684210526316, \"Longitude\": -114.47368421052632, \"AverageTemperature\": 18.258343851501994}, {\"Latitude\": 46.05263157894737, \"Longitude\": -114.47368421052632, \"AverageTemperature\": 17.40282401660481}, {\"Latitude\": 47.36842105263158, \"Longitude\": -114.47368421052632, \"AverageTemperature\": 16.547304181707627}, {\"Latitude\": 48.684210526315795, \"Longitude\": -114.47368421052632, \"AverageTemperature\": 15.691784346810444}, {\"Latitude\": 50.0, \"Longitude\": -114.47368421052632, \"AverageTemperature\": 14.836264511913264}, {\"Latitude\": 25.0, \"Longitude\": -110.52631578947368, \"AverageTemperature\": 31.091141374959722}, {\"Latitude\": 26.315789473684212, \"Longitude\": -110.52631578947368, \"AverageTemperature\": 30.23562154006254}, {\"Latitude\": 27.63157894736842, \"Longitude\": -110.52631578947368, \"AverageTemperature\": 29.38010170516536}, {\"Latitude\": 28.94736842105263, \"Longitude\": -110.52631578947368, \"AverageTemperature\": 28.52458187026818}, {\"Latitude\": 30.263157894736842, \"Longitude\": -110.52631578947368, \"AverageTemperature\": 27.669062035370995}, {\"Latitude\": 31.578947368421055, \"Longitude\": -110.52631578947368, \"AverageTemperature\": 26.81354220047381}, {\"Latitude\": 32.89473684210526, \"Longitude\": -110.52631578947368, \"AverageTemperature\": 25.958022365576632}, {\"Latitude\": 34.21052631578947, \"Longitude\": -110.52631578947368, \"AverageTemperature\": 25.10250253067945}, {\"Latitude\": 35.526315789473685, \"Longitude\": -110.52631578947368, \"AverageTemperature\": 24.246982695782265}, {\"Latitude\": 36.8421052631579, \"Longitude\": -110.52631578947368, \"AverageTemperature\": 23.391462860885085}, {\"Latitude\": 38.15789473684211, \"Longitude\": -110.52631578947368, \"AverageTemperature\": 22.5359430259879}, {\"Latitude\": 39.473684210526315, \"Longitude\": -110.52631578947368, \"AverageTemperature\": 21.68042319109072}, {\"Latitude\": 40.78947368421053, \"Longitude\": -110.52631578947368, \"AverageTemperature\": 20.824903356193538}, {\"Latitude\": 42.10526315789474, \"Longitude\": -110.52631578947368, \"AverageTemperature\": 19.969383521296354}, {\"Latitude\": 43.421052631578945, \"Longitude\": -110.52631578947368, \"AverageTemperature\": 19.113863686399178}, {\"Latitude\": 44.73684210526316, \"Longitude\": -110.52631578947368, \"AverageTemperature\": 18.258343851501994}, {\"Latitude\": 46.05263157894737, \"Longitude\": -110.52631578947368, \"AverageTemperature\": 17.40282401660481}, {\"Latitude\": 47.36842105263158, \"Longitude\": -110.52631578947368, \"AverageTemperature\": 16.547304181707627}, {\"Latitude\": 48.684210526315795, \"Longitude\": -110.52631578947368, \"AverageTemperature\": 15.691784346810444}, {\"Latitude\": 50.0, \"Longitude\": -110.52631578947368, \"AverageTemperature\": 14.836264511913264}, {\"Latitude\": 25.0, \"Longitude\": -106.57894736842105, \"AverageTemperature\": 31.091141374959722}, {\"Latitude\": 26.315789473684212, \"Longitude\": -106.57894736842105, \"AverageTemperature\": 30.23562154006254}, {\"Latitude\": 27.63157894736842, \"Longitude\": -106.57894736842105, \"AverageTemperature\": 29.38010170516536}, {\"Latitude\": 28.94736842105263, \"Longitude\": -106.57894736842105, \"AverageTemperature\": 28.52458187026818}, {\"Latitude\": 30.263157894736842, \"Longitude\": -106.57894736842105, \"AverageTemperature\": 27.669062035370995}, {\"Latitude\": 31.578947368421055, \"Longitude\": -106.57894736842105, \"AverageTemperature\": 26.81354220047381}, {\"Latitude\": 32.89473684210526, \"Longitude\": -106.57894736842105, \"AverageTemperature\": 25.958022365576632}, {\"Latitude\": 34.21052631578947, \"Longitude\": -106.57894736842105, \"AverageTemperature\": 25.10250253067945}, {\"Latitude\": 35.526315789473685, \"Longitude\": -106.57894736842105, \"AverageTemperature\": 24.246982695782265}, {\"Latitude\": 36.8421052631579, \"Longitude\": -106.57894736842105, \"AverageTemperature\": 23.391462860885085}, {\"Latitude\": 38.15789473684211, \"Longitude\": -106.57894736842105, \"AverageTemperature\": 22.5359430259879}, {\"Latitude\": 39.473684210526315, \"Longitude\": -106.57894736842105, \"AverageTemperature\": 21.68042319109072}, {\"Latitude\": 40.78947368421053, \"Longitude\": -106.57894736842105, \"AverageTemperature\": 20.824903356193538}, {\"Latitude\": 42.10526315789474, \"Longitude\": -106.57894736842105, \"AverageTemperature\": 19.969383521296354}, {\"Latitude\": 43.421052631578945, \"Longitude\": -106.57894736842105, \"AverageTemperature\": 19.113863686399178}, {\"Latitude\": 44.73684210526316, \"Longitude\": -106.57894736842105, \"AverageTemperature\": 18.258343851501994}, {\"Latitude\": 46.05263157894737, \"Longitude\": -106.57894736842105, \"AverageTemperature\": 17.40282401660481}, {\"Latitude\": 47.36842105263158, \"Longitude\": -106.57894736842105, \"AverageTemperature\": 16.547304181707627}, {\"Latitude\": 48.684210526315795, \"Longitude\": -106.57894736842105, \"AverageTemperature\": 15.691784346810444}, {\"Latitude\": 50.0, \"Longitude\": -106.57894736842105, \"AverageTemperature\": 14.836264511913264}, {\"Latitude\": 25.0, \"Longitude\": -102.63157894736842, \"AverageTemperature\": 31.091141374959722}, {\"Latitude\": 26.315789473684212, \"Longitude\": -102.63157894736842, \"AverageTemperature\": 30.23562154006254}, {\"Latitude\": 27.63157894736842, \"Longitude\": -102.63157894736842, \"AverageTemperature\": 29.38010170516536}, {\"Latitude\": 28.94736842105263, \"Longitude\": -102.63157894736842, \"AverageTemperature\": 28.52458187026818}, {\"Latitude\": 30.263157894736842, \"Longitude\": -102.63157894736842, \"AverageTemperature\": 27.669062035370995}, {\"Latitude\": 31.578947368421055, \"Longitude\": -102.63157894736842, \"AverageTemperature\": 26.81354220047381}, {\"Latitude\": 32.89473684210526, \"Longitude\": -102.63157894736842, \"AverageTemperature\": 25.958022365576632}, {\"Latitude\": 34.21052631578947, \"Longitude\": -102.63157894736842, \"AverageTemperature\": 25.10250253067945}, {\"Latitude\": 35.526315789473685, \"Longitude\": -102.63157894736842, \"AverageTemperature\": 24.246982695782265}, {\"Latitude\": 36.8421052631579, \"Longitude\": -102.63157894736842, \"AverageTemperature\": 23.391462860885085}, {\"Latitude\": 38.15789473684211, \"Longitude\": -102.63157894736842, \"AverageTemperature\": 22.5359430259879}, {\"Latitude\": 39.473684210526315, \"Longitude\": -102.63157894736842, \"AverageTemperature\": 21.68042319109072}, {\"Latitude\": 40.78947368421053, \"Longitude\": -102.63157894736842, \"AverageTemperature\": 20.824903356193538}, {\"Latitude\": 42.10526315789474, \"Longitude\": -102.63157894736842, \"AverageTemperature\": 19.969383521296354}, {\"Latitude\": 43.421052631578945, \"Longitude\": -102.63157894736842, \"AverageTemperature\": 19.113863686399178}, {\"Latitude\": 44.73684210526316, \"Longitude\": -102.63157894736842, \"AverageTemperature\": 18.258343851501994}, {\"Latitude\": 46.05263157894737, \"Longitude\": -102.63157894736842, \"AverageTemperature\": 17.40282401660481}, {\"Latitude\": 47.36842105263158, \"Longitude\": -102.63157894736842, \"AverageTemperature\": 16.547304181707627}, {\"Latitude\": 48.684210526315795, \"Longitude\": -102.63157894736842, \"AverageTemperature\": 15.691784346810444}, {\"Latitude\": 50.0, \"Longitude\": -102.63157894736842, \"AverageTemperature\": 14.836264511913264}, {\"Latitude\": 25.0, \"Longitude\": -98.6842105263158, \"AverageTemperature\": 31.091141374959722}, {\"Latitude\": 26.315789473684212, \"Longitude\": -98.6842105263158, \"AverageTemperature\": 30.23562154006254}, {\"Latitude\": 27.63157894736842, \"Longitude\": -98.6842105263158, \"AverageTemperature\": 29.38010170516536}, {\"Latitude\": 28.94736842105263, \"Longitude\": -98.6842105263158, \"AverageTemperature\": 28.52458187026818}, {\"Latitude\": 30.263157894736842, \"Longitude\": -98.6842105263158, \"AverageTemperature\": 27.669062035370995}, {\"Latitude\": 31.578947368421055, \"Longitude\": -98.6842105263158, \"AverageTemperature\": 26.81354220047381}, {\"Latitude\": 32.89473684210526, \"Longitude\": -98.6842105263158, \"AverageTemperature\": 25.958022365576632}, {\"Latitude\": 34.21052631578947, \"Longitude\": -98.6842105263158, \"AverageTemperature\": 25.10250253067945}, {\"Latitude\": 35.526315789473685, \"Longitude\": -98.6842105263158, \"AverageTemperature\": 24.246982695782265}, {\"Latitude\": 36.8421052631579, \"Longitude\": -98.6842105263158, \"AverageTemperature\": 23.391462860885085}, {\"Latitude\": 38.15789473684211, \"Longitude\": -98.6842105263158, \"AverageTemperature\": 22.5359430259879}, {\"Latitude\": 39.473684210526315, \"Longitude\": -98.6842105263158, \"AverageTemperature\": 21.68042319109072}, {\"Latitude\": 40.78947368421053, \"Longitude\": -98.6842105263158, \"AverageTemperature\": 20.824903356193538}, {\"Latitude\": 42.10526315789474, \"Longitude\": -98.6842105263158, \"AverageTemperature\": 19.969383521296354}, {\"Latitude\": 43.421052631578945, \"Longitude\": -98.6842105263158, \"AverageTemperature\": 19.113863686399178}, {\"Latitude\": 44.73684210526316, \"Longitude\": -98.6842105263158, \"AverageTemperature\": 18.258343851501994}, {\"Latitude\": 46.05263157894737, \"Longitude\": -98.6842105263158, \"AverageTemperature\": 17.40282401660481}, {\"Latitude\": 47.36842105263158, \"Longitude\": -98.6842105263158, \"AverageTemperature\": 16.547304181707627}, {\"Latitude\": 48.684210526315795, \"Longitude\": -98.6842105263158, \"AverageTemperature\": 15.691784346810444}, {\"Latitude\": 50.0, \"Longitude\": -98.6842105263158, \"AverageTemperature\": 14.836264511913264}, {\"Latitude\": 25.0, \"Longitude\": -94.73684210526315, \"AverageTemperature\": 31.091141374959722}, {\"Latitude\": 26.315789473684212, \"Longitude\": -94.73684210526315, \"AverageTemperature\": 30.23562154006254}, {\"Latitude\": 27.63157894736842, \"Longitude\": -94.73684210526315, \"AverageTemperature\": 29.38010170516536}, {\"Latitude\": 28.94736842105263, \"Longitude\": -94.73684210526315, \"AverageTemperature\": 28.52458187026818}, {\"Latitude\": 30.263157894736842, \"Longitude\": -94.73684210526315, \"AverageTemperature\": 27.669062035370995}, {\"Latitude\": 31.578947368421055, \"Longitude\": -94.73684210526315, \"AverageTemperature\": 26.81354220047381}, {\"Latitude\": 32.89473684210526, \"Longitude\": -94.73684210526315, \"AverageTemperature\": 25.958022365576632}, {\"Latitude\": 34.21052631578947, \"Longitude\": -94.73684210526315, \"AverageTemperature\": 25.10250253067945}, {\"Latitude\": 35.526315789473685, \"Longitude\": -94.73684210526315, \"AverageTemperature\": 24.246982695782265}, {\"Latitude\": 36.8421052631579, \"Longitude\": -94.73684210526315, \"AverageTemperature\": 23.391462860885085}, {\"Latitude\": 38.15789473684211, \"Longitude\": -94.73684210526315, \"AverageTemperature\": 22.5359430259879}, {\"Latitude\": 39.473684210526315, \"Longitude\": -94.73684210526315, \"AverageTemperature\": 21.68042319109072}, {\"Latitude\": 40.78947368421053, \"Longitude\": -94.73684210526315, \"AverageTemperature\": 20.824903356193538}, {\"Latitude\": 42.10526315789474, \"Longitude\": -94.73684210526315, \"AverageTemperature\": 19.969383521296354}, {\"Latitude\": 43.421052631578945, \"Longitude\": -94.73684210526315, \"AverageTemperature\": 19.113863686399178}, {\"Latitude\": 44.73684210526316, \"Longitude\": -94.73684210526315, \"AverageTemperature\": 18.258343851501994}, {\"Latitude\": 46.05263157894737, \"Longitude\": -94.73684210526315, \"AverageTemperature\": 17.40282401660481}, {\"Latitude\": 47.36842105263158, \"Longitude\": -94.73684210526315, \"AverageTemperature\": 16.547304181707627}, {\"Latitude\": 48.684210526315795, \"Longitude\": -94.73684210526315, \"AverageTemperature\": 15.691784346810444}, {\"Latitude\": 50.0, \"Longitude\": -94.73684210526315, \"AverageTemperature\": 14.836264511913264}, {\"Latitude\": 25.0, \"Longitude\": -90.78947368421052, \"AverageTemperature\": 31.091141374959722}, {\"Latitude\": 26.315789473684212, \"Longitude\": -90.78947368421052, \"AverageTemperature\": 30.23562154006254}, {\"Latitude\": 27.63157894736842, \"Longitude\": -90.78947368421052, \"AverageTemperature\": 29.38010170516536}, {\"Latitude\": 28.94736842105263, \"Longitude\": -90.78947368421052, \"AverageTemperature\": 28.52458187026818}, {\"Latitude\": 30.263157894736842, \"Longitude\": -90.78947368421052, \"AverageTemperature\": 27.669062035370995}, {\"Latitude\": 31.578947368421055, \"Longitude\": -90.78947368421052, \"AverageTemperature\": 26.81354220047381}, {\"Latitude\": 32.89473684210526, \"Longitude\": -90.78947368421052, \"AverageTemperature\": 25.958022365576632}, {\"Latitude\": 34.21052631578947, \"Longitude\": -90.78947368421052, \"AverageTemperature\": 25.10250253067945}, {\"Latitude\": 35.526315789473685, \"Longitude\": -90.78947368421052, \"AverageTemperature\": 24.246982695782265}, {\"Latitude\": 36.8421052631579, \"Longitude\": -90.78947368421052, \"AverageTemperature\": 23.391462860885085}, {\"Latitude\": 38.15789473684211, \"Longitude\": -90.78947368421052, \"AverageTemperature\": 22.5359430259879}, {\"Latitude\": 39.473684210526315, \"Longitude\": -90.78947368421052, \"AverageTemperature\": 21.68042319109072}, {\"Latitude\": 40.78947368421053, \"Longitude\": -90.78947368421052, \"AverageTemperature\": 20.824903356193538}, {\"Latitude\": 42.10526315789474, \"Longitude\": -90.78947368421052, \"AverageTemperature\": 19.969383521296354}, {\"Latitude\": 43.421052631578945, \"Longitude\": -90.78947368421052, \"AverageTemperature\": 19.113863686399178}, {\"Latitude\": 44.73684210526316, \"Longitude\": -90.78947368421052, \"AverageTemperature\": 18.258343851501994}, {\"Latitude\": 46.05263157894737, \"Longitude\": -90.78947368421052, \"AverageTemperature\": 17.40282401660481}, {\"Latitude\": 47.36842105263158, \"Longitude\": -90.78947368421052, \"AverageTemperature\": 16.547304181707627}, {\"Latitude\": 48.684210526315795, \"Longitude\": -90.78947368421052, \"AverageTemperature\": 15.691784346810444}, {\"Latitude\": 50.0, \"Longitude\": -90.78947368421052, \"AverageTemperature\": 14.836264511913264}, {\"Latitude\": 25.0, \"Longitude\": -86.84210526315789, \"AverageTemperature\": 31.091141374959722}, {\"Latitude\": 26.315789473684212, \"Longitude\": -86.84210526315789, \"AverageTemperature\": 30.23562154006254}, {\"Latitude\": 27.63157894736842, \"Longitude\": -86.84210526315789, \"AverageTemperature\": 29.38010170516536}, {\"Latitude\": 28.94736842105263, \"Longitude\": -86.84210526315789, \"AverageTemperature\": 28.52458187026818}, {\"Latitude\": 30.263157894736842, \"Longitude\": -86.84210526315789, \"AverageTemperature\": 27.669062035370995}, {\"Latitude\": 31.578947368421055, \"Longitude\": -86.84210526315789, \"AverageTemperature\": 26.81354220047381}, {\"Latitude\": 32.89473684210526, \"Longitude\": -86.84210526315789, \"AverageTemperature\": 25.958022365576632}, {\"Latitude\": 34.21052631578947, \"Longitude\": -86.84210526315789, \"AverageTemperature\": 25.10250253067945}, {\"Latitude\": 35.526315789473685, \"Longitude\": -86.84210526315789, \"AverageTemperature\": 24.246982695782265}, {\"Latitude\": 36.8421052631579, \"Longitude\": -86.84210526315789, \"AverageTemperature\": 23.391462860885085}, {\"Latitude\": 38.15789473684211, \"Longitude\": -86.84210526315789, \"AverageTemperature\": 22.5359430259879}, {\"Latitude\": 39.473684210526315, \"Longitude\": -86.84210526315789, \"AverageTemperature\": 21.68042319109072}, {\"Latitude\": 40.78947368421053, \"Longitude\": -86.84210526315789, \"AverageTemperature\": 20.824903356193538}, {\"Latitude\": 42.10526315789474, \"Longitude\": -86.84210526315789, \"AverageTemperature\": 19.969383521296354}, {\"Latitude\": 43.421052631578945, \"Longitude\": -86.84210526315789, \"AverageTemperature\": 19.113863686399178}, {\"Latitude\": 44.73684210526316, \"Longitude\": -86.84210526315789, \"AverageTemperature\": 18.258343851501994}, {\"Latitude\": 46.05263157894737, \"Longitude\": -86.84210526315789, \"AverageTemperature\": 17.40282401660481}, {\"Latitude\": 47.36842105263158, \"Longitude\": -86.84210526315789, \"AverageTemperature\": 16.547304181707627}, {\"Latitude\": 48.684210526315795, \"Longitude\": -86.84210526315789, \"AverageTemperature\": 15.691784346810444}, {\"Latitude\": 50.0, \"Longitude\": -86.84210526315789, \"AverageTemperature\": 14.836264511913264}, {\"Latitude\": 25.0, \"Longitude\": -82.89473684210526, \"AverageTemperature\": 31.091141374959722}, {\"Latitude\": 26.315789473684212, \"Longitude\": -82.89473684210526, \"AverageTemperature\": 30.23562154006254}, {\"Latitude\": 27.63157894736842, \"Longitude\": -82.89473684210526, \"AverageTemperature\": 29.38010170516536}, {\"Latitude\": 28.94736842105263, \"Longitude\": -82.89473684210526, \"AverageTemperature\": 28.52458187026818}, {\"Latitude\": 30.263157894736842, \"Longitude\": -82.89473684210526, \"AverageTemperature\": 27.669062035370995}, {\"Latitude\": 31.578947368421055, \"Longitude\": -82.89473684210526, \"AverageTemperature\": 26.81354220047381}, {\"Latitude\": 32.89473684210526, \"Longitude\": -82.89473684210526, \"AverageTemperature\": 25.958022365576632}, {\"Latitude\": 34.21052631578947, \"Longitude\": -82.89473684210526, \"AverageTemperature\": 25.10250253067945}, {\"Latitude\": 35.526315789473685, \"Longitude\": -82.89473684210526, \"AverageTemperature\": 24.246982695782265}, {\"Latitude\": 36.8421052631579, \"Longitude\": -82.89473684210526, \"AverageTemperature\": 23.391462860885085}, {\"Latitude\": 38.15789473684211, \"Longitude\": -82.89473684210526, \"AverageTemperature\": 22.5359430259879}, {\"Latitude\": 39.473684210526315, \"Longitude\": -82.89473684210526, \"AverageTemperature\": 21.68042319109072}, {\"Latitude\": 40.78947368421053, \"Longitude\": -82.89473684210526, \"AverageTemperature\": 20.824903356193538}, {\"Latitude\": 42.10526315789474, \"Longitude\": -82.89473684210526, \"AverageTemperature\": 19.969383521296354}, {\"Latitude\": 43.421052631578945, \"Longitude\": -82.89473684210526, \"AverageTemperature\": 19.113863686399178}, {\"Latitude\": 44.73684210526316, \"Longitude\": -82.89473684210526, \"AverageTemperature\": 18.258343851501994}, {\"Latitude\": 46.05263157894737, \"Longitude\": -82.89473684210526, \"AverageTemperature\": 17.40282401660481}, {\"Latitude\": 47.36842105263158, \"Longitude\": -82.89473684210526, \"AverageTemperature\": 16.547304181707627}, {\"Latitude\": 48.684210526315795, \"Longitude\": -82.89473684210526, \"AverageTemperature\": 15.691784346810444}, {\"Latitude\": 50.0, \"Longitude\": -82.89473684210526, \"AverageTemperature\": 14.836264511913264}, {\"Latitude\": 25.0, \"Longitude\": -78.94736842105263, \"AverageTemperature\": 31.091141374959722}, {\"Latitude\": 26.315789473684212, \"Longitude\": -78.94736842105263, \"AverageTemperature\": 30.23562154006254}, {\"Latitude\": 27.63157894736842, \"Longitude\": -78.94736842105263, \"AverageTemperature\": 29.38010170516536}, {\"Latitude\": 28.94736842105263, \"Longitude\": -78.94736842105263, \"AverageTemperature\": 28.52458187026818}, {\"Latitude\": 30.263157894736842, \"Longitude\": -78.94736842105263, \"AverageTemperature\": 27.669062035370995}, {\"Latitude\": 31.578947368421055, \"Longitude\": -78.94736842105263, \"AverageTemperature\": 26.81354220047381}, {\"Latitude\": 32.89473684210526, \"Longitude\": -78.94736842105263, \"AverageTemperature\": 25.958022365576632}, {\"Latitude\": 34.21052631578947, \"Longitude\": -78.94736842105263, \"AverageTemperature\": 25.10250253067945}, {\"Latitude\": 35.526315789473685, \"Longitude\": -78.94736842105263, \"AverageTemperature\": 24.246982695782265}, {\"Latitude\": 36.8421052631579, \"Longitude\": -78.94736842105263, \"AverageTemperature\": 23.391462860885085}, {\"Latitude\": 38.15789473684211, \"Longitude\": -78.94736842105263, \"AverageTemperature\": 22.5359430259879}, {\"Latitude\": 39.473684210526315, \"Longitude\": -78.94736842105263, \"AverageTemperature\": 21.68042319109072}, {\"Latitude\": 40.78947368421053, \"Longitude\": -78.94736842105263, \"AverageTemperature\": 20.824903356193538}, {\"Latitude\": 42.10526315789474, \"Longitude\": -78.94736842105263, \"AverageTemperature\": 19.969383521296354}, {\"Latitude\": 43.421052631578945, \"Longitude\": -78.94736842105263, \"AverageTemperature\": 19.113863686399178}, {\"Latitude\": 44.73684210526316, \"Longitude\": -78.94736842105263, \"AverageTemperature\": 18.258343851501994}, {\"Latitude\": 46.05263157894737, \"Longitude\": -78.94736842105263, \"AverageTemperature\": 17.40282401660481}, {\"Latitude\": 47.36842105263158, \"Longitude\": -78.94736842105263, \"AverageTemperature\": 16.547304181707627}, {\"Latitude\": 48.684210526315795, \"Longitude\": -78.94736842105263, \"AverageTemperature\": 15.691784346810444}, {\"Latitude\": 50.0, \"Longitude\": -78.94736842105263, \"AverageTemperature\": 14.836264511913264}, {\"Latitude\": 25.0, \"Longitude\": -75.0, \"AverageTemperature\": 31.091141374959722}, {\"Latitude\": 26.315789473684212, \"Longitude\": -75.0, \"AverageTemperature\": 30.23562154006254}, {\"Latitude\": 27.63157894736842, \"Longitude\": -75.0, \"AverageTemperature\": 29.38010170516536}, {\"Latitude\": 28.94736842105263, \"Longitude\": -75.0, \"AverageTemperature\": 28.52458187026818}, {\"Latitude\": 30.263157894736842, \"Longitude\": -75.0, \"AverageTemperature\": 27.669062035370995}, {\"Latitude\": 31.578947368421055, \"Longitude\": -75.0, \"AverageTemperature\": 26.81354220047381}, {\"Latitude\": 32.89473684210526, \"Longitude\": -75.0, \"AverageTemperature\": 25.958022365576632}, {\"Latitude\": 34.21052631578947, \"Longitude\": -75.0, \"AverageTemperature\": 25.10250253067945}, {\"Latitude\": 35.526315789473685, \"Longitude\": -75.0, \"AverageTemperature\": 24.246982695782265}, {\"Latitude\": 36.8421052631579, \"Longitude\": -75.0, \"AverageTemperature\": 23.391462860885085}, {\"Latitude\": 38.15789473684211, \"Longitude\": -75.0, \"AverageTemperature\": 22.5359430259879}, {\"Latitude\": 39.473684210526315, \"Longitude\": -75.0, \"AverageTemperature\": 21.68042319109072}, {\"Latitude\": 40.78947368421053, \"Longitude\": -75.0, \"AverageTemperature\": 20.824903356193538}, {\"Latitude\": 42.10526315789474, \"Longitude\": -75.0, \"AverageTemperature\": 19.969383521296354}, {\"Latitude\": 43.421052631578945, \"Longitude\": -75.0, \"AverageTemperature\": 19.113863686399178}, {\"Latitude\": 44.73684210526316, \"Longitude\": -75.0, \"AverageTemperature\": 18.258343851501994}, {\"Latitude\": 46.05263157894737, \"Longitude\": -75.0, \"AverageTemperature\": 17.40282401660481}, {\"Latitude\": 47.36842105263158, \"Longitude\": -75.0, \"AverageTemperature\": 16.547304181707627}, {\"Latitude\": 48.684210526315795, \"Longitude\": -75.0, \"AverageTemperature\": 15.691784346810444}, {\"Latitude\": 50.0, \"Longitude\": -75.0, \"AverageTemperature\": 14.836264511913264}]}}, {\"mode\": \"vega-lite\"});\n",
       "</script>"
      ],
      "text/plain": [
       "alt.LayerChart(...)"
      ]
     },
     "execution_count": 1,
     "metadata": {},
     "output_type": "execute_result"
    }
   ],
   "source": [
    "points = alt.Chart(df_pred).mark_circle(size=10).encode(\n",
    "    longitude='Longitude',\n",
    "    latitude='Latitude',\n",
    "    color=alt.Color(\"AverageTemperature\", scale=alt.Scale(scheme=\"reds\"))\n",
    ")\n",
    "chart = chart + points\n",
    "chart"
   ]
  },
  {
   "cell_type": "markdown",
   "id": "38972913",
   "metadata": {
    "lines_to_next_cell": 2
   },
   "source": [
    "## Input Formats"
   ]
  },
  {
   "cell_type": "code",
   "execution_count": 30,
   "id": "11ace22f",
   "metadata": {
    "execution": {
     "iopub.execute_input": "2021-06-02T16:42:22.337600Z",
     "iopub.status.busy": "2021-06-02T16:42:22.336768Z",
     "iopub.status.idle": "2021-06-02T16:42:22.339699Z",
     "shell.execute_reply": "2021-06-02T16:42:22.340385Z"
    }
   },
   "outputs": [
    {
     "data": {
      "text/plain": [
       "LinearRegression()"
      ]
     },
     "execution_count": 1,
     "metadata": {},
     "output_type": "execute_result"
    }
   ],
   "source": [
    "model = sklearn.linear_model.LinearRegression()\n",
    "model.fit(df2[[\"Latitude\"]], df2[\"AverageTemperature\"])"
   ]
  },
  {
   "cell_type": "code",
   "execution_count": null,
   "id": "b35b8f6b",
   "metadata": {
    "lines_to_next_cell": 2
   },
   "outputs": [],
   "source": []
  }
 ],
 "metadata": {
  "jupytext": {
   "cell_metadata_filter": "-all"
  },
  "kernelspec": {
   "display_name": "myenv",
   "language": "python",
   "name": "myenv"
  },
  "language_info": {
   "codemirror_mode": {
    "name": "ipython",
    "version": 3
   },
   "file_extension": ".py",
   "mimetype": "text/x-python",
   "name": "python",
   "nbconvert_exporter": "python",
   "pygments_lexer": "ipython3",
   "version": "3.8.5"
  }
 },
 "nbformat": 4,
 "nbformat_minor": 5
}
