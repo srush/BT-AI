{
 "cells": [
  {
   "cell_type": "markdown",
   "id": "290f1a59",
   "metadata": {},
   "source": [
    "# Module 4 - Hands on Machine Learning"
   ]
  },
  {
   "cell_type": "code",
   "execution_count": 1,
   "id": "c9905432",
   "metadata": {
    "execution": {
     "iopub.execute_input": "2021-04-19T18:19:44.428326Z",
     "iopub.status.busy": "2021-04-19T18:19:44.427146Z",
     "iopub.status.idle": "2021-04-19T18:19:44.731987Z",
     "shell.execute_reply": "2021-04-19T18:19:44.730977Z"
    },
    "lines_to_next_cell": 2
   },
   "outputs": [],
   "source": [
    "import sklearn"
   ]
  },
  {
   "cell_type": "markdown",
   "id": "d3fcca4f",
   "metadata": {
    "lines_to_next_cell": 2
   },
   "source": [
    "## Input Formats"
   ]
  },
  {
   "cell_type": "markdown",
   "id": "1335cbf2",
   "metadata": {},
   "source": [
    "## Features "
   ]
  },
  {
   "cell_type": "markdown",
   "id": "ad102de5",
   "metadata": {},
   "source": [
    "## Regression"
   ]
  },
  {
   "cell_type": "markdown",
   "id": "84c4ca53",
   "metadata": {
    "lines_to_next_cell": 2
   },
   "source": [
    "Predict Temperature"
   ]
  },
  {
   "cell_type": "markdown",
   "id": "27ee9fa9",
   "metadata": {},
   "source": [
    "## Classification"
   ]
  },
  {
   "cell_type": "markdown",
   "id": "f16d36a6",
   "metadata": {
    "lines_to_next_cell": 2
   },
   "source": [
    "In a state. "
   ]
  },
  {
   "cell_type": "markdown",
   "id": "63cce0be",
   "metadata": {
    "lines_to_next_cell": 2
   },
   "source": [
    "## Fitting Models to Data"
   ]
  },
  {
   "cell_type": "markdown",
   "id": "84d474e1",
   "metadata": {},
   "source": [
    "## Graphs and Scikitlean"
   ]
  },
  {
   "cell_type": "code",
   "execution_count": null,
   "id": "06ac11ac",
   "metadata": {},
   "outputs": [],
   "source": []
  }
 ],
 "metadata": {
  "jupytext": {
   "cell_metadata_filter": "-all"
  },
  "kernelspec": {
   "display_name": "myenv",
   "language": "python",
   "name": "myenv"
  },
  "language_info": {
   "codemirror_mode": {
    "name": "ipython",
    "version": 3
   },
   "file_extension": ".py",
   "mimetype": "text/x-python",
   "name": "python",
   "nbconvert_exporter": "python",
   "pygments_lexer": "ipython3",
   "version": "3.8.5"
  }
 },
 "nbformat": 4,
 "nbformat_minor": 5
}
